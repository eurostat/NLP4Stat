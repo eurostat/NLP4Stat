{
 "cells": [
  {
   "cell_type": "markdown",
   "metadata": {},
   "source": [
    "# Use Case A - Query builder \n",
    "***\n",
    "### Using 2-grams, 3-grams, 4-grams with content from the Glossary articles and the Statistics Explained articles\n",
    "\n",
    "### To be connected with the KB in a later version "
   ]
  },
  {
   "cell_type": "code",
   "execution_count": 1,
   "metadata": {},
   "outputs": [],
   "source": [
    "import pandas as pd\n",
    "import numpy as np\n",
    "\n",
    "import pyodbc\n",
    "\n",
    "import gensim\n",
    "\n",
    "pd.set_option('display.max_colwidth', 40)\n",
    "\n",
    "from IPython.core.interactiveshell import InteractiveShell\n",
    "InteractiveShell.ast_node_interactivity = \"all\""
   ]
  },
  {
   "cell_type": "markdown",
   "metadata": {},
   "source": [
    "### Load data from the database"
   ]
  },
  {
   "cell_type": "code",
   "execution_count": 2,
   "metadata": {},
   "outputs": [],
   "source": [
    "c = pyodbc.connect('DSN=Virtuoso All;DBA=ESTAT;UID=kimon;PWD=RkhvQYZ442e2JVXLHdtW')\n",
    "cursor = c.cursor()"
   ]
  },
  {
   "cell_type": "code",
   "execution_count": 3,
   "metadata": {},
   "outputs": [
    {
     "name": "stdout",
     "output_type": "stream",
     "text": [
      "dat_article\n",
      "dat_article_paragraph\n",
      "dat_article_shared_link\n",
      "dat_further_info\n",
      "dat_glossary\n",
      "dat_link_info\n",
      "dat_paragraph_figure\n",
      "dat_redirections\n",
      "dat_related_concepts\n",
      "dat_sources\n",
      "dat_statistical_data\n",
      "mod_article_division\n",
      "mod_resource_information\n",
      "mod_resource_type\n",
      "tm_articles\n",
      "tm_terms\n",
      "tm_topics\n",
      "tm_values\n"
     ]
    }
   ],
   "source": [
    "for row in cursor.tables():\n",
    "    print (row.table_name)"
   ]
  },
  {
   "cell_type": "markdown",
   "metadata": {},
   "source": [
    "### Glossary articles  \n",
    "\n",
    "* Definitions from dat_glossary.\n",
    "* Titles and URLs from dat_link_info (with resource_information_id=1, i.e. Eurostat, see ESTAT.V1.mod_resource_information).\n",
    "* Match above on id.\n",
    "* Errors from the scraping process will be corrected later."
   ]
  },
  {
   "cell_type": "code",
   "execution_count": 4,
   "metadata": {},
   "outputs": [
    {
     "data": {
      "text/html": [
       "<div>\n",
       "<style scoped>\n",
       "    .dataframe tbody tr th:only-of-type {\n",
       "        vertical-align: middle;\n",
       "    }\n",
       "\n",
       "    .dataframe tbody tr th {\n",
       "        vertical-align: top;\n",
       "    }\n",
       "\n",
       "    .dataframe thead th {\n",
       "        text-align: right;\n",
       "    }\n",
       "</style>\n",
       "<table border=\"1\" class=\"dataframe\">\n",
       "  <thead>\n",
       "    <tr style=\"text-align: right;\">\n",
       "      <th></th>\n",
       "      <th>id</th>\n",
       "      <th>title</th>\n",
       "      <th>definition</th>\n",
       "      <th>url</th>\n",
       "    </tr>\n",
       "  </thead>\n",
       "  <tbody>\n",
       "    <tr>\n",
       "      <th>0</th>\n",
       "      <td>516</td>\n",
       "      <td>Farm structure survey (FSS) ? glossary</td>\n",
       "      <td>The basic     Farm structure surve...</td>\n",
       "      <td>https://ec.europa.eu/eurostat/statis...</td>\n",
       "    </tr>\n",
       "    <tr>\n",
       "      <th>1</th>\n",
       "      <td>517</td>\n",
       "      <td>Standard Output ? glossary</td>\n",
       "      <td>The     standard output    of an a...</td>\n",
       "      <td>https://ec.europa.eu/eurostat/statis...</td>\n",
       "    </tr>\n",
       "    <tr>\n",
       "      <th>2</th>\n",
       "      <td>714</td>\n",
       "      <td>Allocation of primary income account</td>\n",
       "      <td>The     allocation of primary inco...</td>\n",
       "      <td>https://ec.europa.eu/eurostat/statis...</td>\n",
       "    </tr>\n",
       "    <tr>\n",
       "      <th>3</th>\n",
       "      <td>1948</td>\n",
       "      <td>Figure 2: Current account as share ...</td>\n",
       "      <td>Member States of the     European ...</td>\n",
       "      <td>https://ec.europa.eu/eurostat/statis...</td>\n",
       "    </tr>\n",
       "    <tr>\n",
       "      <th>4</th>\n",
       "      <td>3783</td>\n",
       "      <td>International Labour Organisation</td>\n",
       "      <td>The     International Labour Organ...</td>\n",
       "      <td>https://ec.europa.eu/eurostat/statis...</td>\n",
       "    </tr>\n",
       "  </tbody>\n",
       "</table>\n",
       "</div>"
      ],
      "text/plain": [
       "     id                                    title  \\\n",
       "0   516   Farm structure survey (FSS) ? glossary   \n",
       "1   517               Standard Output ? glossary   \n",
       "2   714     Allocation of primary income account   \n",
       "3  1948   Figure 2: Current account as share ...   \n",
       "4  3783        International Labour Organisation   \n",
       "\n",
       "                                definition  \\\n",
       "0    The basic     Farm structure surve...   \n",
       "1    The     standard output    of an a...   \n",
       "2    The     allocation of primary inco...   \n",
       "3    Member States of the     European ...   \n",
       "4    The     International Labour Organ...   \n",
       "\n",
       "                                       url  \n",
       "0  https://ec.europa.eu/eurostat/statis...  \n",
       "1  https://ec.europa.eu/eurostat/statis...  \n",
       "2  https://ec.europa.eu/eurostat/statis...  \n",
       "3  https://ec.europa.eu/eurostat/statis...  \n",
       "4  https://ec.europa.eu/eurostat/statis...  "
      ]
     },
     "execution_count": 4,
     "metadata": {},
     "output_type": "execute_result"
    }
   ],
   "source": [
    "SQLCommand = \"\"\"SELECT T1.id, T1.definition, T2.title, T2.url \n",
    "                FROM ESTAT.V1.dat_glossary as T1 \n",
    "                INNER JOIN ESTAT.V1.dat_link_info as T2  \n",
    "                  ON T1.id=T2.id \n",
    "                WHERE T2.resource_information_id=1 \"\"\"\n",
    "\n",
    "GL_df = pd.read_sql(SQLCommand,c)\n",
    "GL_df = GL_df[['id', 'title', 'definition', 'url']]\n",
    "GL_df.head(5)"
   ]
  },
  {
   "cell_type": "markdown",
   "metadata": {},
   "source": [
    "### Check for missing information"
   ]
  },
  {
   "cell_type": "code",
   "execution_count": 5,
   "metadata": {},
   "outputs": [
    {
     "name": "stdout",
     "output_type": "stream",
     "text": [
      "id            0\n",
      "title         0\n",
      "definition    2\n",
      "url           0\n",
      "dtype: int64\n"
     ]
    }
   ],
   "source": [
    "GL_df = GL_df.replace('', np.nan) \n",
    "print(GL_df.isnull().sum())\n"
   ]
  },
  {
   "cell_type": "markdown",
   "metadata": {},
   "source": [
    "### Delete records with empty definitions and carry out data cleansing\n",
    "\n",
    "* Also put the URLs in lists. This is required later."
   ]
  },
  {
   "cell_type": "code",
   "execution_count": 6,
   "metadata": {},
   "outputs": [
    {
     "name": "stdout",
     "output_type": "stream",
     "text": [
      "id            0\n",
      "title         0\n",
      "definition    0\n",
      "url           0\n",
      "dtype: int64\n"
     ]
    },
    {
     "data": {
      "text/html": [
       "<div>\n",
       "<style scoped>\n",
       "    .dataframe tbody tr th:only-of-type {\n",
       "        vertical-align: middle;\n",
       "    }\n",
       "\n",
       "    .dataframe tbody tr th {\n",
       "        vertical-align: top;\n",
       "    }\n",
       "\n",
       "    .dataframe thead th {\n",
       "        text-align: right;\n",
       "    }\n",
       "</style>\n",
       "<table border=\"1\" class=\"dataframe\">\n",
       "  <thead>\n",
       "    <tr style=\"text-align: right;\">\n",
       "      <th></th>\n",
       "      <th>id</th>\n",
       "      <th>title</th>\n",
       "      <th>definition</th>\n",
       "      <th>url</th>\n",
       "    </tr>\n",
       "  </thead>\n",
       "  <tbody>\n",
       "    <tr>\n",
       "      <th>0</th>\n",
       "      <td>516</td>\n",
       "      <td>Farm structure survey (FSS) - glossary</td>\n",
       "      <td>The basic Farm structure survey, abb...</td>\n",
       "      <td>[https://ec.europa.eu/eurostat/stati...</td>\n",
       "    </tr>\n",
       "    <tr>\n",
       "      <th>1</th>\n",
       "      <td>517</td>\n",
       "      <td>Standard Output - glossary</td>\n",
       "      <td>The standard output of an agricultur...</td>\n",
       "      <td>[https://ec.europa.eu/eurostat/stati...</td>\n",
       "    </tr>\n",
       "    <tr>\n",
       "      <th>2</th>\n",
       "      <td>714</td>\n",
       "      <td>Allocation of primary income account</td>\n",
       "      <td>The allocation of primary income acc...</td>\n",
       "      <td>[https://ec.europa.eu/eurostat/stati...</td>\n",
       "    </tr>\n",
       "    <tr>\n",
       "      <th>3</th>\n",
       "      <td>1948</td>\n",
       "      <td>Figure 2: Current account as share o...</td>\n",
       "      <td>Member States of the European Union ...</td>\n",
       "      <td>[https://ec.europa.eu/eurostat/stati...</td>\n",
       "    </tr>\n",
       "    <tr>\n",
       "      <th>4</th>\n",
       "      <td>3783</td>\n",
       "      <td>International Labour Organisation</td>\n",
       "      <td>The International Labour Organizatio...</td>\n",
       "      <td>[https://ec.europa.eu/eurostat/stati...</td>\n",
       "    </tr>\n",
       "  </tbody>\n",
       "</table>\n",
       "</div>"
      ],
      "text/plain": [
       "     id                                    title  \\\n",
       "0   516   Farm structure survey (FSS) - glossary   \n",
       "1   517               Standard Output - glossary   \n",
       "2   714     Allocation of primary income account   \n",
       "3  1948  Figure 2: Current account as share o...   \n",
       "4  3783        International Labour Organisation   \n",
       "\n",
       "                                definition  \\\n",
       "0  The basic Farm structure survey, abb...   \n",
       "1  The standard output of an agricultur...   \n",
       "2  The allocation of primary income acc...   \n",
       "3  Member States of the European Union ...   \n",
       "4  The International Labour Organizatio...   \n",
       "\n",
       "                                       url  \n",
       "0  [https://ec.europa.eu/eurostat/stati...  \n",
       "1  [https://ec.europa.eu/eurostat/stati...  \n",
       "2  [https://ec.europa.eu/eurostat/stati...  \n",
       "3  [https://ec.europa.eu/eurostat/stati...  \n",
       "4  [https://ec.europa.eu/eurostat/stati...  "
      ]
     },
     "execution_count": 6,
     "metadata": {},
     "output_type": "execute_result"
    }
   ],
   "source": [
    "## drop records with any field empty\n",
    "GL_df = GL_df.dropna(axis=0,how='any')\n",
    "print(GL_df.isnull().sum())\n",
    "GL_df.reset_index(drop=True, inplace=True)\n",
    "\n",
    "import re\n",
    "import unicodedata as ud\n",
    "\n",
    "def clean(x, quotes=True):\n",
    "    if pd.isnull(x): return x  \n",
    "    x = x.strip()\n",
    "    \n",
    "    ## make letter-question mark-letter -> letter-quote-space-letter !!! but NOT in the lists of URLs!!!\n",
    "    if quotes:\n",
    "        x = re.sub(r'([A-Za-z])\\?([A-Za-z])','\\\\1\\' \\\\2',x) \n",
    "    \n",
    "    ## make letter-question mark-space lower case letter letter-quote-space letter\n",
    "    x = re.sub(r'([A-Za-z])\\? ([a-z])','\\\\1\\' \\\\2',x) \n",
    "\n",
    "    ## delete ,000 commas in numbers    \n",
    "    x = re.sub(r'\\b(\\d+),(\\d+)\\b','\\\\1\\\\2',x) ## CORRECTED\n",
    "    \n",
    "    ## delete  000 spaces in numbers\n",
    "    x = re.sub(r'\\b(\\d+) (\\d+)\\b','\\\\1\\\\2',x) ## CORRECTED\n",
    "    \n",
    "    ## remove more than one spaces\n",
    "    x = re.sub(r' +', ' ',x)\n",
    "    \n",
    "    ## remove start and end spaces\n",
    "    x = re.sub(r'^ +| +$', '',x,flags=re.MULTILINE) \n",
    "    \n",
    "    ## space-comma -> comma\n",
    "    x = re.sub(r' \\,',',',x)\n",
    "    \n",
    "    ## space-dot -> dot\n",
    "    x = re.sub(r' \\.','.',x)\n",
    "    \n",
    "    #x = x.encode('latin1').decode('utf-8') ## â\\x80\\x99\n",
    "    x = ud.normalize('NFKD',x).encode('ascii', 'ignore').decode()\n",
    "    \n",
    "    return x\n",
    "\n",
    "\n",
    "GL_df['title'] = GL_df['title'].apply(clean)\n",
    "GL_df['title'] = GL_df['title'].apply(lambda x: re.sub(r'\\?','-',x)) ## also replace question marks by dashes\n",
    "GL_df['definition'] = GL_df['definition'].apply(clean)\n",
    "GL_df['url'] = GL_df['url'].apply(clean,quotes=False)  \n",
    "GL_df['url'] = GL_df['url'].apply(lambda x: [x]) ## also put each URL in a list - required later\n",
    "\n",
    "GL_df.head(5)"
   ]
  },
  {
   "cell_type": "markdown",
   "metadata": {},
   "source": [
    "### Delete \"special\" records\n",
    "\n",
    "* i.e. redirections."
   ]
  },
  {
   "cell_type": "code",
   "execution_count": 7,
   "metadata": {},
   "outputs": [
    {
     "name": "stdout",
     "output_type": "stream",
     "text": [
      "Int64Index([ 220,  231,  316,  351,  460,  486,  491,  494,  499,  550,  561,\n",
      "             579,  597,  635,  722,  763,  781,  807,  843,  914,  963,  965,\n",
      "             974,  999, 1005, 1124, 1135, 1180, 1230],\n",
      "           dtype='int64')\n",
      "Int64Index([], dtype='int64')\n"
     ]
    }
   ],
   "source": [
    "## Drop The records with definitions \"The revision ...\" and \"Redirect to ...\" \n",
    "\n",
    "idx = GL_df[GL_df['definition'].str.startswith('The revision #')].index\n",
    "print(idx)\n",
    "GL_df.drop(idx , inplace=True)\n",
    "idx = GL_df[GL_df['definition'].str.startswith('Redirect to')].index\n",
    "print(idx)\n",
    "GL_df.drop(idx , inplace=True)\n",
    "GL_df.reset_index(drop=True, inplace=True)"
   ]
  },
  {
   "cell_type": "markdown",
   "metadata": {},
   "source": [
    "### Check for duplicate titles AND definitions"
   ]
  },
  {
   "cell_type": "code",
   "execution_count": 8,
   "metadata": {},
   "outputs": [
    {
     "name": "stdout",
     "output_type": "stream",
     "text": [
      "Int64Index([1217, 1219], dtype='int64')\n"
     ]
    }
   ],
   "source": [
    "idx = GL_df[GL_df.duplicated(subset=['title','definition'], keep=False)].sort_values(by=['title','definition']).index\n",
    "print(idx)\n",
    "GL_df.drop(idx , inplace=True)\n",
    "GL_df.reset_index(drop=True, inplace=True)"
   ]
  },
  {
   "cell_type": "markdown",
   "metadata": {},
   "source": [
    "### Optionally, produce output file for debugging"
   ]
  },
  {
   "cell_type": "code",
   "execution_count": 9,
   "metadata": {},
   "outputs": [],
   "source": [
    "%%script false --no-raise-error\n",
    "\n",
    "from datetime import datetime\n",
    "\n",
    "def file_name(pre,ext):\n",
    "    current_time = datetime.now() \n",
    "    return pre + '_'+ str(current_time.month)+ '_' + str(current_time.day) + \\\n",
    "                 '_' + str(current_time.hour)+ '_' + str(current_time.minute)  +'.'+ext\n",
    "    \n",
    "outfile = file_name('D3_2_Glossary','xlsx')\n",
    "GL_df.to_excel(outfile)\n"
   ]
  },
  {
   "cell_type": "markdown",
   "metadata": {},
   "source": [
    "### Statistics explained articles\n",
    "\n",
    "* IDs, titles and urls from dat_article and dat_link_info (with resource_information_id=1, i.e. Eurostat, see ESTAT.V1.mod_resource_information)).\n",
    "* Carry out data cleansing on titles and URLs.\n",
    "* Also put the URLs in lists. This is required later."
   ]
  },
  {
   "cell_type": "code",
   "execution_count": 10,
   "metadata": {},
   "outputs": [
    {
     "data": {
      "text/html": [
       "<div>\n",
       "<style scoped>\n",
       "    .dataframe tbody tr th:only-of-type {\n",
       "        vertical-align: middle;\n",
       "    }\n",
       "\n",
       "    .dataframe tbody tr th {\n",
       "        vertical-align: top;\n",
       "    }\n",
       "\n",
       "    .dataframe thead th {\n",
       "        text-align: right;\n",
       "    }\n",
       "</style>\n",
       "<table border=\"1\" class=\"dataframe\">\n",
       "  <thead>\n",
       "    <tr style=\"text-align: right;\">\n",
       "      <th></th>\n",
       "      <th>id</th>\n",
       "      <th>title</th>\n",
       "      <th>url</th>\n",
       "    </tr>\n",
       "  </thead>\n",
       "  <tbody>\n",
       "    <tr>\n",
       "      <th>0</th>\n",
       "      <td>1</td>\n",
       "      <td>Accessing European statistics</td>\n",
       "      <td>[https://ec.europa.eu/eurostat/stati...</td>\n",
       "    </tr>\n",
       "    <tr>\n",
       "      <th>1</th>\n",
       "      <td>8</td>\n",
       "      <td>Adult Education Survey (AES) methodo...</td>\n",
       "      <td>[https://ec.europa.eu/eurostat/stati...</td>\n",
       "    </tr>\n",
       "    <tr>\n",
       "      <th>2</th>\n",
       "      <td>13</td>\n",
       "      <td>Adult learning statistics</td>\n",
       "      <td>[https://ec.europa.eu/eurostat/stati...</td>\n",
       "    </tr>\n",
       "    <tr>\n",
       "      <th>3</th>\n",
       "      <td>14</td>\n",
       "      <td>Adult learning statistics - characte...</td>\n",
       "      <td>[https://ec.europa.eu/eurostat/stati...</td>\n",
       "    </tr>\n",
       "    <tr>\n",
       "      <th>4</th>\n",
       "      <td>17</td>\n",
       "      <td>Agri-environmental indicator - High ...</td>\n",
       "      <td>[https://ec.europa.eu/eurostat/stati...</td>\n",
       "    </tr>\n",
       "  </tbody>\n",
       "</table>\n",
       "</div>"
      ],
      "text/plain": [
       "   id                                    title  \\\n",
       "0   1            Accessing European statistics   \n",
       "1   8  Adult Education Survey (AES) methodo...   \n",
       "2  13                Adult learning statistics   \n",
       "3  14  Adult learning statistics - characte...   \n",
       "4  17  Agri-environmental indicator - High ...   \n",
       "\n",
       "                                       url  \n",
       "0  [https://ec.europa.eu/eurostat/stati...  \n",
       "1  [https://ec.europa.eu/eurostat/stati...  \n",
       "2  [https://ec.europa.eu/eurostat/stati...  \n",
       "3  [https://ec.europa.eu/eurostat/stati...  \n",
       "4  [https://ec.europa.eu/eurostat/stati...  "
      ]
     },
     "execution_count": 10,
     "metadata": {},
     "output_type": "execute_result"
    }
   ],
   "source": [
    "SQLCommand = \"\"\"SELECT T1.id, T2.title, T2.url \n",
    "                FROM ESTAT.V1.dat_article as T1 \n",
    "                INNER JOIN ESTAT.V1.dat_link_info as T2  \n",
    "                  ON T1.id=T2.id \n",
    "                WHERE T2.resource_information_id=1 \"\"\"\n",
    "\n",
    "SE_df = pd.read_sql(SQLCommand,c)\n",
    "\n",
    "SE_df['title'] = SE_df['title'].apply(clean)\n",
    "SE_df['url'] = SE_df['url'].apply(clean,quotes=False)\n",
    "SE_df['url'] = SE_df['url'].apply(lambda x: [x])\n",
    "SE_df.head(5)"
   ]
  },
  {
   "cell_type": "markdown",
   "metadata": {},
   "source": [
    "### Add paragraphs titles and contents\n",
    "\n",
    "* From dat_article_paragraph with abstract=0 (i.e. \"no\").\n",
    "* Match id from dat_article with article_id from dat_article_paragraph.\n",
    "* Carry out data cleansing on titles and paragraph contents."
   ]
  },
  {
   "cell_type": "code",
   "execution_count": 11,
   "metadata": {},
   "outputs": [
    {
     "data": {
      "text/html": [
       "<div>\n",
       "<style scoped>\n",
       "    .dataframe tbody tr th:only-of-type {\n",
       "        vertical-align: middle;\n",
       "    }\n",
       "\n",
       "    .dataframe tbody tr th {\n",
       "        vertical-align: top;\n",
       "    }\n",
       "\n",
       "    .dataframe thead th {\n",
       "        text-align: right;\n",
       "    }\n",
       "</style>\n",
       "<table border=\"1\" class=\"dataframe\">\n",
       "  <thead>\n",
       "    <tr style=\"text-align: right;\">\n",
       "      <th></th>\n",
       "      <th>article_id</th>\n",
       "      <th>title</th>\n",
       "      <th>content</th>\n",
       "    </tr>\n",
       "  </thead>\n",
       "  <tbody>\n",
       "    <tr>\n",
       "      <th>0</th>\n",
       "      <td>1</td>\n",
       "      <td>Statistical themes</td>\n",
       "      <td>The information on Eurostatas websit...</td>\n",
       "    </tr>\n",
       "    <tr>\n",
       "      <th>1</th>\n",
       "      <td>1</td>\n",
       "      <td>Access to data</td>\n",
       "      <td>Data navigation tree The majority of...</td>\n",
       "    </tr>\n",
       "    <tr>\n",
       "      <th>2</th>\n",
       "      <td>1</td>\n",
       "      <td>Publications</td>\n",
       "      <td>Eurostat produces a variety of publi...</td>\n",
       "    </tr>\n",
       "    <tr>\n",
       "      <th>3</th>\n",
       "      <td>1</td>\n",
       "      <td>Reference metadata</td>\n",
       "      <td>Metadata dissemination Statistical d...</td>\n",
       "    </tr>\n",
       "    <tr>\n",
       "      <th>4</th>\n",
       "      <td>1</td>\n",
       "      <td>User support</td>\n",
       "      <td>Eurostat and the other members of th...</td>\n",
       "    </tr>\n",
       "    <tr>\n",
       "      <th>...</th>\n",
       "      <td>...</td>\n",
       "      <td>...</td>\n",
       "      <td>...</td>\n",
       "    </tr>\n",
       "    <tr>\n",
       "      <th>3842</th>\n",
       "      <td>6194</td>\n",
       "      <td>Most EU seaborne passenger transport...</td>\n",
       "      <td>Table 1 and Figure 5 show the breakd...</td>\n",
       "    </tr>\n",
       "    <tr>\n",
       "      <th>3843</th>\n",
       "      <td>6199</td>\n",
       "      <td>Structural profile</td>\n",
       "      <td>Around 1 in 10 (8.9 %) of all enterp...</td>\n",
       "    </tr>\n",
       "    <tr>\n",
       "      <th>3844</th>\n",
       "      <td>6199</td>\n",
       "      <td>Sectoral analysis</td>\n",
       "      <td>At the NACE division level the manuf...</td>\n",
       "    </tr>\n",
       "    <tr>\n",
       "      <th>3845</th>\n",
       "      <td>6199</td>\n",
       "      <td>Country overview</td>\n",
       "      <td>Because of the tradable (export and ...</td>\n",
       "    </tr>\n",
       "    <tr>\n",
       "      <th>3846</th>\n",
       "      <td>6199</td>\n",
       "      <td>Size class analysis</td>\n",
       "      <td>Large enterprises (employing 250 or ...</td>\n",
       "    </tr>\n",
       "  </tbody>\n",
       "</table>\n",
       "<p>3847 rows × 3 columns</p>\n",
       "</div>"
      ],
      "text/plain": [
       "      article_id                                    title  \\\n",
       "0              1                       Statistical themes   \n",
       "1              1                           Access to data   \n",
       "2              1                             Publications   \n",
       "3              1                       Reference metadata   \n",
       "4              1                             User support   \n",
       "...          ...                                      ...   \n",
       "3842        6194  Most EU seaborne passenger transport...   \n",
       "3843        6199                       Structural profile   \n",
       "3844        6199                        Sectoral analysis   \n",
       "3845        6199                         Country overview   \n",
       "3846        6199                      Size class analysis   \n",
       "\n",
       "                                      content  \n",
       "0     The information on Eurostatas websit...  \n",
       "1     Data navigation tree The majority of...  \n",
       "2     Eurostat produces a variety of publi...  \n",
       "3     Metadata dissemination Statistical d...  \n",
       "4     Eurostat and the other members of th...  \n",
       "...                                       ...  \n",
       "3842  Table 1 and Figure 5 show the breakd...  \n",
       "3843  Around 1 in 10 (8.9 %) of all enterp...  \n",
       "3844  At the NACE division level the manuf...  \n",
       "3845  Because of the tradable (export and ...  \n",
       "3846  Large enterprises (employing 250 or ...  \n",
       "\n",
       "[3847 rows x 3 columns]"
      ]
     },
     "execution_count": 11,
     "metadata": {},
     "output_type": "execute_result"
    }
   ],
   "source": [
    "SQLCommand = \"\"\"SELECT T3.article_id, T3.title, T3.content \n",
    "                FROM ESTAT.V1.dat_article as T1 \n",
    "                INNER JOIN ESTAT.V1.dat_article_paragraph as T3 \n",
    "                  ON T1.id=T3.article_id  \n",
    "                WHERE T3.abstract=0 \"\"\"\n",
    "\n",
    "add_content = pd.read_sql(SQLCommand,c)\n",
    "add_content['title'] = add_content['title'].apply(clean)\n",
    "add_content['content'] = add_content['content'].apply(clean)\n",
    "add_content"
   ]
  },
  {
   "cell_type": "markdown",
   "metadata": {},
   "source": [
    "### Aggregate above paragraph titles and contents  from SE articles paragraphs by article id\n",
    "\n",
    "* Create a column _raw content_ which gathers all in one text per article."
   ]
  },
  {
   "cell_type": "code",
   "execution_count": 12,
   "metadata": {},
   "outputs": [
    {
     "name": "stderr",
     "output_type": "stream",
     "text": [
      "<ipython-input-12-06ac5f30766e>:1: FutureWarning: Indexing with multiple keys (implicitly converted to a tuple of keys) will be deprecated, use a list instead.\n",
      "  add_content_grouped = add_content.groupby(['article_id'])['title','content'].aggregate(lambda x: list(x))\n"
     ]
    },
    {
     "data": {
      "text/html": [
       "<div>\n",
       "<style scoped>\n",
       "    .dataframe tbody tr th:only-of-type {\n",
       "        vertical-align: middle;\n",
       "    }\n",
       "\n",
       "    .dataframe tbody tr th {\n",
       "        vertical-align: top;\n",
       "    }\n",
       "\n",
       "    .dataframe thead th {\n",
       "        text-align: right;\n",
       "    }\n",
       "</style>\n",
       "<table border=\"1\" class=\"dataframe\">\n",
       "  <thead>\n",
       "    <tr style=\"text-align: right;\">\n",
       "      <th></th>\n",
       "      <th>article_id</th>\n",
       "      <th>raw content</th>\n",
       "    </tr>\n",
       "  </thead>\n",
       "  <tbody>\n",
       "    <tr>\n",
       "      <th>0</th>\n",
       "      <td>1</td>\n",
       "      <td>Statistical themes The information ...</td>\n",
       "    </tr>\n",
       "    <tr>\n",
       "      <th>1</th>\n",
       "      <td>8</td>\n",
       "      <td>Introduction The AES provides an ov...</td>\n",
       "    </tr>\n",
       "    <tr>\n",
       "      <th>2</th>\n",
       "      <td>13</td>\n",
       "      <td>Participation rate of adults in lea...</td>\n",
       "    </tr>\n",
       "    <tr>\n",
       "      <th>3</th>\n",
       "      <td>14</td>\n",
       "      <td>Formal and non-formal adult educati...</td>\n",
       "    </tr>\n",
       "    <tr>\n",
       "      <th>4</th>\n",
       "      <td>17</td>\n",
       "      <td>Key messages The concept of high na...</td>\n",
       "    </tr>\n",
       "    <tr>\n",
       "      <th>...</th>\n",
       "      <td>...</td>\n",
       "      <td>...</td>\n",
       "    </tr>\n",
       "    <tr>\n",
       "      <th>860</th>\n",
       "      <td>6169</td>\n",
       "      <td>Poverty and deprivation There are t...</td>\n",
       "    </tr>\n",
       "    <tr>\n",
       "      <th>861</th>\n",
       "      <td>6188</td>\n",
       "      <td>Key findings This article presents ...</td>\n",
       "    </tr>\n",
       "    <tr>\n",
       "      <th>862</th>\n",
       "      <td>6191</td>\n",
       "      <td>Childcare and education arrangement...</td>\n",
       "    </tr>\n",
       "    <tr>\n",
       "      <th>863</th>\n",
       "      <td>6194</td>\n",
       "      <td>Number of seaborne passengers reach...</td>\n",
       "    </tr>\n",
       "    <tr>\n",
       "      <th>864</th>\n",
       "      <td>6199</td>\n",
       "      <td>Structural profile Around 1 in 10 (...</td>\n",
       "    </tr>\n",
       "  </tbody>\n",
       "</table>\n",
       "<p>865 rows × 2 columns</p>\n",
       "</div>"
      ],
      "text/plain": [
       "     article_id                              raw content\n",
       "0             1   Statistical themes The information ...\n",
       "1             8   Introduction The AES provides an ov...\n",
       "2            13   Participation rate of adults in lea...\n",
       "3            14   Formal and non-formal adult educati...\n",
       "4            17   Key messages The concept of high na...\n",
       "..          ...                                      ...\n",
       "860        6169   Poverty and deprivation There are t...\n",
       "861        6188   Key findings This article presents ...\n",
       "862        6191   Childcare and education arrangement...\n",
       "863        6194   Number of seaborne passengers reach...\n",
       "864        6199   Structural profile Around 1 in 10 (...\n",
       "\n",
       "[865 rows x 2 columns]"
      ]
     },
     "execution_count": 12,
     "metadata": {},
     "output_type": "execute_result"
    }
   ],
   "source": [
    "\n",
    "add_content_grouped = add_content.groupby(['article_id'])['title','content'].aggregate(lambda x: list(x))\n",
    "add_content_grouped.reset_index(drop=False, inplace=True)\n",
    "for i in range(len(add_content_grouped)):\n",
    "    add_content_grouped.loc[i,'raw content'] = ''\n",
    "    for (a,b) in zip(add_content_grouped.loc[i,'title'],add_content_grouped.loc[i,'content']):\n",
    "        add_content_grouped.loc[i,'raw content'] += ' '+a + ' ' + b\n",
    "add_content_grouped = add_content_grouped[['article_id','raw content']]    \n",
    "\n",
    "add_content_grouped"
   ]
  },
  {
   "cell_type": "markdown",
   "metadata": {},
   "source": [
    "### Merge raw content of SE articles with main file"
   ]
  },
  {
   "cell_type": "code",
   "execution_count": 13,
   "metadata": {},
   "outputs": [
    {
     "data": {
      "text/html": [
       "<div>\n",
       "<style scoped>\n",
       "    .dataframe tbody tr th:only-of-type {\n",
       "        vertical-align: middle;\n",
       "    }\n",
       "\n",
       "    .dataframe tbody tr th {\n",
       "        vertical-align: top;\n",
       "    }\n",
       "\n",
       "    .dataframe thead th {\n",
       "        text-align: right;\n",
       "    }\n",
       "</style>\n",
       "<table border=\"1\" class=\"dataframe\">\n",
       "  <thead>\n",
       "    <tr style=\"text-align: right;\">\n",
       "      <th></th>\n",
       "      <th>id</th>\n",
       "      <th>title</th>\n",
       "      <th>url</th>\n",
       "      <th>raw content</th>\n",
       "    </tr>\n",
       "  </thead>\n",
       "  <tbody>\n",
       "    <tr>\n",
       "      <th>0</th>\n",
       "      <td>1</td>\n",
       "      <td>Accessing European statistics</td>\n",
       "      <td>[https://ec.europa.eu/eurostat/stati...</td>\n",
       "      <td>Statistical themes The information ...</td>\n",
       "    </tr>\n",
       "    <tr>\n",
       "      <th>1</th>\n",
       "      <td>8</td>\n",
       "      <td>Adult Education Survey (AES) methodo...</td>\n",
       "      <td>[https://ec.europa.eu/eurostat/stati...</td>\n",
       "      <td>Introduction The AES provides an ov...</td>\n",
       "    </tr>\n",
       "    <tr>\n",
       "      <th>2</th>\n",
       "      <td>13</td>\n",
       "      <td>Adult learning statistics</td>\n",
       "      <td>[https://ec.europa.eu/eurostat/stati...</td>\n",
       "      <td>Participation rate of adults in lea...</td>\n",
       "    </tr>\n",
       "    <tr>\n",
       "      <th>3</th>\n",
       "      <td>14</td>\n",
       "      <td>Adult learning statistics - characte...</td>\n",
       "      <td>[https://ec.europa.eu/eurostat/stati...</td>\n",
       "      <td>Formal and non-formal adult educati...</td>\n",
       "    </tr>\n",
       "    <tr>\n",
       "      <th>4</th>\n",
       "      <td>17</td>\n",
       "      <td>Agri-environmental indicator - High ...</td>\n",
       "      <td>[https://ec.europa.eu/eurostat/stati...</td>\n",
       "      <td>Key messages The concept of high na...</td>\n",
       "    </tr>\n",
       "  </tbody>\n",
       "</table>\n",
       "</div>"
      ],
      "text/plain": [
       "   id                                    title  \\\n",
       "0   1            Accessing European statistics   \n",
       "1   8  Adult Education Survey (AES) methodo...   \n",
       "2  13                Adult learning statistics   \n",
       "3  14  Adult learning statistics - characte...   \n",
       "4  17  Agri-environmental indicator - High ...   \n",
       "\n",
       "                                       url  \\\n",
       "0  [https://ec.europa.eu/eurostat/stati...   \n",
       "1  [https://ec.europa.eu/eurostat/stati...   \n",
       "2  [https://ec.europa.eu/eurostat/stati...   \n",
       "3  [https://ec.europa.eu/eurostat/stati...   \n",
       "4  [https://ec.europa.eu/eurostat/stati...   \n",
       "\n",
       "                               raw content  \n",
       "0   Statistical themes The information ...  \n",
       "1   Introduction The AES provides an ov...  \n",
       "2   Participation rate of adults in lea...  \n",
       "3   Formal and non-formal adult educati...  \n",
       "4   Key messages The concept of high na...  "
      ]
     },
     "execution_count": 13,
     "metadata": {},
     "output_type": "execute_result"
    }
   ],
   "source": [
    "SE_df = pd.merge(SE_df,add_content_grouped,left_on='id',right_on='article_id',how='inner')\n",
    "SE_df.drop(['article_id'],axis=1,inplace=True)\n",
    "\n",
    "SE_df.head(5)"
   ]
  },
  {
   "cell_type": "markdown",
   "metadata": {},
   "source": [
    "### Tokenize, remove stop-words and stem; keep also the original terms\n",
    "\n",
    "* Use titles and definitions from the Glossary articles.\n",
    "* Use titles and raw content from the SE articles\n",
    "* _texts_ is a list containing lists. Each sub-list has the stemmed term, the original term and the URL where the term was found. The URL is itself put in a list."
   ]
  },
  {
   "cell_type": "code",
   "execution_count": 14,
   "metadata": {},
   "outputs": [],
   "source": [
    "\n",
    "from gensim.parsing.preprocessing import remove_stopwords\n",
    "from gensim.parsing.preprocessing import stem_text\n",
    "from gensim.parsing.porter import PorterStemmer\n",
    "\n",
    "p = PorterStemmer()\n",
    "\n",
    "def text_to_words(text,url):\n",
    "    words = str(gensim.utils.simple_preprocess(text, deacc=True))\n",
    "    words = remove_stopwords(words) \n",
    "    words = gensim.utils.tokenize(words)\n",
    "        \n",
    "    ## keep also original token!!! \n",
    "    words = [[p.stem(token),token,url] for token in words if len(p.stem(token)) >= 5] ##minimum length = 5 \n",
    "    yield words        \n",
    "\n",
    "texts=list()   \n",
    "\n",
    "for i in range(len(GL_df)):\n",
    "    texts.extend(text_to_words(GL_df.loc[i,'definition'],GL_df.loc[i,'url']))\n",
    "    texts.extend(text_to_words(GL_df.loc[i,'title'],GL_df.loc[i,'url'])) \n",
    "for i in range(len(SE_df)):    \n",
    "    texts.extend(text_to_words(SE_df.loc[i,'title'],SE_df.loc[i,'url'])) \n",
    "    texts.extend(text_to_words(SE_df.loc[i,'raw content'],SE_df.loc[i,'url'])) "
   ]
  },
  {
   "cell_type": "markdown",
   "metadata": {},
   "source": [
    "* Example: the first 5 sub-lists in the first list in _texts_."
   ]
  },
  {
   "cell_type": "code",
   "execution_count": 15,
   "metadata": {},
   "outputs": [
    {
     "name": "stdout",
     "output_type": "stream",
     "text": [
      "4290\n"
     ]
    },
    {
     "data": {
      "text/plain": [
       "[['basic',\n",
       "  'basic',\n",
       "  ['https://ec.europa.eu/eurostat/statistics-explained/index.php?title=Glossary:Farm_structure_survey_(FSS)']],\n",
       " ['structur',\n",
       "  'structure',\n",
       "  ['https://ec.europa.eu/eurostat/statistics-explained/index.php?title=Glossary:Farm_structure_survey_(FSS)']],\n",
       " ['survei',\n",
       "  'survey',\n",
       "  ['https://ec.europa.eu/eurostat/statistics-explained/index.php?title=Glossary:Farm_structure_survey_(FSS)']],\n",
       " ['abbrevi',\n",
       "  'abbreviated',\n",
       "  ['https://ec.europa.eu/eurostat/statistics-explained/index.php?title=Glossary:Farm_structure_survey_(FSS)']],\n",
       " ['known',\n",
       "  'known',\n",
       "  ['https://ec.europa.eu/eurostat/statistics-explained/index.php?title=Glossary:Farm_structure_survey_(FSS)']]]"
      ]
     },
     "execution_count": 15,
     "metadata": {},
     "output_type": "execute_result"
    }
   ],
   "source": [
    "print(len(texts))\n",
    "texts[0][:5]\n"
   ]
  },
  {
   "cell_type": "markdown",
   "metadata": {},
   "source": [
    "### Co-occurences: keys in n-grams are (n-1) tuples of stemmed tokens \n",
    "\n",
    "* Three dictionaries, for 2-,3-,and 4-grams. The corresponding keys are single stemmed terms, pairs of stemmed terms and triplets, respectively.\n",
    "* For each key in a dictionary, the value is another (nested) dictionary with the **original terms**, their counts and the relevant URLs. In the end, the counts are used to calculate probabilities.\n",
    "* Below all three dictionaries are constructed from the sequences of 4-grams.\n"
   ]
  },
  {
   "cell_type": "code",
   "execution_count": 16,
   "metadata": {},
   "outputs": [],
   "source": [
    "##%%script false --no-raise-error\n",
    "## Check also COLLOCATIONS: http://www.nltk.org/howto/collocations.html and http://www.nltk.org/api/nltk.html?highlight=ngram\n",
    "\n",
    "\n",
    "from nltk import bigrams, trigrams, ngrams\n",
    "#from collections import Counter, defaultdict\n",
    "\n",
    "\n",
    "model2=dict()\n",
    "model3=dict()\n",
    "model4=dict()\n",
    "\n",
    "def dict_insert(model,entered,proposed,new_urls_to_check):\n",
    "    key_1 = model.get(entered)\n",
    "    if key_1:\n",
    "        key_2 = key_1.get(proposed)\n",
    "        if key_2:\n",
    "            key_2[0] +=1\n",
    "            existing_urls = key_2[1]\n",
    "            add_urls = [u for u in new_urls_to_check if u not in existing_urls]\n",
    "            key_2.extend(add_urls)\n",
    "        else:    \n",
    "            key_1[proposed]= [1,new_urls_to_check]\n",
    "    else:\n",
    "        model[entered]={proposed:[1,new_urls_to_check]}\n",
    "    return model            \n",
    "\n",
    "\n",
    "# Co-occurences\n",
    "\n",
    "for sentence in texts:\n",
    "    pairs = [elem for elem in sentence] ## a list of 3-tuples (stemmed term, original term, list of URLs)\n",
    "    if len(pairs) == 0: continue\n",
    "    \n",
    "    for first, second, third, fourth in ngrams(pairs,4): ## quadruplets of 3-tuples (stemmed term, original term, list of URLs)\n",
    "        first_stem, first_orig, first_url = first\n",
    "        second_stem, second_orig, second_url = second\n",
    "        third_stem, third_orig, third_url = third\n",
    "        fourth_stem, fourth_orig, fourth_url = fourth\n",
    "       \n",
    "        model2 = dict_insert(model2, first_stem, second_orig,list(set(first_url).intersection(second_url)))\n",
    "        model2 = dict_insert(model2, second_stem, third_orig,list(set(second_url).intersection(third_url)))\n",
    "        model2 = dict_insert(model2, third_stem, fourth_orig,list(set(third_url).intersection(fourth_url)))\n",
    "        \n",
    "        model3 = dict_insert(model3,(first_stem,second_stem),third_orig,list(set(first_url).intersection(*[second_url,third_url])))\n",
    "        model3 = dict_insert(model3,(second_stem,third_stem),fourth_orig,list(set(second_url).intersection(*[third_url,fourth_url])))\n",
    "        \n",
    "        model4 = dict_insert(model4,(first_stem, second_stem, third_stem),fourth_orig,fourth_url)\n",
    "   \n",
    "        \n",
    "## Transform counts to probabilities\n",
    "\n",
    "for w1 in model2.keys():\n",
    "    ssum = sum(model2[w1][w2][0] for w2 in model2[w1].keys())\n",
    "    for w2 in model2[w1].keys():\n",
    "        model2[w1][w2][0] /= ssum\n",
    "\n",
    "for w1_w2 in model3.keys():\n",
    "    ssum = sum(model3[w1_w2][w3][0] for w3 in model3[w1_w2].keys())\n",
    "    for w3 in model3[w1_w2].keys():\n",
    "        model3[w1_w2][w3][0] /= ssum\n",
    "\n",
    "for w1_w2_w3 in model4.keys():\n",
    "    ssum = sum(model4[w1_w2_w3][w4][0] for w4 in model4[w1_w2_w3].keys())\n",
    "    for w4 in model4[w1_w2_w3].keys():\n",
    "        model4[w1_w2_w3][w4][0] /= ssum\n"
   ]
  },
  {
   "cell_type": "markdown",
   "metadata": {},
   "source": [
    "## Examples of keys and values in the three dictionaries\n",
    "\n",
    "* We do not show an example of the 2-grams dictionary because the values are too many.\n"
   ]
  },
  {
   "cell_type": "code",
   "execution_count": 17,
   "metadata": {},
   "outputs": [
    {
     "name": "stdout",
     "output_type": "stream",
     "text": [
      "\n",
      "Example, model with 3-grams, key = (basic,structur):\n",
      "\n",
      "{'survey': [0.3333333333333333, ['https://ec.europa.eu/eurostat/statistics-explained/index.php?title=Glossary:Farm_structure_survey_(FSS)']], 'employment': [0.6666666666666666, ['https://ec.europa.eu/eurostat/statistics-explained/index.php?title=Statistics_on_small_and_medium-sized_enterprises']]}\n",
      "\n",
      "Example, model with 4-grams, key = (survei,structur,agricultur):\n",
      "\n",
      "{'carried': [0.3333333333333333, ['https://ec.europa.eu/eurostat/statistics-explained/index.php?title=Glossary:Farm_structure_survey_(FSS)']], 'definitions': [0.3333333333333333, ['https://ec.europa.eu/eurostat/statistics-explained/index.php?title=Survey_on_agricultural_production_methods']], 'project': [0.3333333333333333, ['https://ec.europa.eu/eurostat/statistics-explained/index.php?title=Survey_on_agricultural_production_methods']]}\n"
     ]
    }
   ],
   "source": [
    "print('\\nExample, model with 3-grams, key = (basic,structur):\\n')\n",
    "print(model3[('basic','structur')])\n",
    "\n",
    "print('\\nExample, model with 4-grams, key = (survei,structur,agricultur):\\n')\n",
    "print(model4[('survei','structur','agricultur')])\n",
    "\n",
    "\n",
    "\n",
    "\n"
   ]
  },
  {
   "cell_type": "markdown",
   "metadata": {},
   "source": [
    "### Query Builder 1\n",
    "***"
   ]
  },
  {
   "cell_type": "code",
   "execution_count": 18,
   "metadata": {},
   "outputs": [],
   "source": [
    "import ipywidgets as widgets\n",
    "layout = widgets.Layout(width='600px', height='30px')"
   ]
  },
  {
   "cell_type": "code",
   "execution_count": 19,
   "metadata": {
    "scrolled": true
   },
   "outputs": [
    {
     "data": {
      "application/vnd.jupyter.widget-view+json": {
       "model_id": "8b41626235a141ada9291e8553583cf7",
       "version_major": 2,
       "version_minor": 0
      },
      "text/plain": [
       "HBox(children=(Text(value='household', description='Keywords:', placeholder='Type something'),))"
      ]
     },
     "metadata": {},
     "output_type": "display_data"
    },
    {
     "data": {
      "application/vnd.jupyter.widget-view+json": {
       "model_id": "12419549a27544a0a15e8d13a4c054d1",
       "version_major": 2,
       "version_minor": 0
      },
      "text/plain": [
       "Output()"
      ]
     },
     "metadata": {},
     "output_type": "display_data"
    }
   ],
   "source": [
    "\n",
    "def change_top_articles( Keywords):\n",
    "\n",
    "    from operator import itemgetter\n",
    "    p = PorterStemmer()\n",
    "    \n",
    "    last_match = ''\n",
    "    \n",
    "    #if not Keywords.endswith(' '):\n",
    "    #    return None\n",
    "    \n",
    "    def test_and_back_step(x):\n",
    "        mod_index = -1\n",
    "        models = [model2,model3,model4]\n",
    "        if len(x)==1: \n",
    "            x=x[0] ; model=models[0]\n",
    "        elif len(x) ==2 or len(x) == 3:\n",
    "            x=tuple(x) ; mod_index=len(x)-1; model=models[mod_index]\n",
    "        elif len(x)==4:\n",
    "            x=tuple(x[:3]) ; model=models[2]\n",
    "        else:\n",
    "            return None\n",
    "        while not models[mod_index].get(x) and mod_index >=0:\n",
    "            x=x[:-1]\n",
    "            if len(x)==1 : x=x[0]\n",
    "            mod_index -=1 ; model=models[mod_index] \n",
    "        return (model,x)    \n",
    "            \n",
    "\n",
    "    x = Keywords.split() \n",
    "    if len(x) ==0: \n",
    "        print()\n",
    "        return\n",
    "    x = [p.stem(el) for el in x]\n",
    "    \n",
    "    \n",
    "    model,x = test_and_back_step(x)\n",
    "    if not model.get(x):\n",
    "        return None\n",
    "    \n",
    "\n",
    "    print()\n",
    "    print('Based on last match: ',x,'\\n')\n",
    "    print('Suggestions, probabilities (in descending order) and relevant URLs: ')\n",
    "    proposals = sorted([(k,v) for (k,v) in model[x].items()],key=itemgetter(1),reverse=True)\n",
    "    last_match = x\n",
    "    for key, value in proposals:\n",
    "        print()\n",
    "        print(key,': ',value[0])\n",
    "        for url in value[1]:\n",
    "            print(url)\n",
    "   \n",
    "    \n",
    "def query_build1(value):\n",
    "  style = {'description_width': 'initial'}\n",
    "    \n",
    "  Keywords = widgets.Text(\n",
    "      value=value,\n",
    "      placeholder='Type something',\n",
    "      description='Keywords:',\n",
    "      disabled=False\n",
    "  )\n",
    "\n",
    "  ui = widgets.HBox([Keywords])\n",
    "  out = widgets.interactive_output(change_top_articles, {'Keywords': Keywords})\n",
    "  display(ui, out)\n",
    "    \n",
    "query_build1(value='household')  "
   ]
  }
 ],
 "metadata": {
  "kernelspec": {
   "display_name": "Python 3",
   "language": "python",
   "name": "python3"
  },
  "language_info": {
   "codemirror_mode": {
    "name": "ipython",
    "version": 3
   },
   "file_extension": ".py",
   "mimetype": "text/x-python",
   "name": "python",
   "nbconvert_exporter": "python",
   "pygments_lexer": "ipython3",
   "version": "3.8.5"
  }
 },
 "nbformat": 4,
 "nbformat_minor": 4
}
