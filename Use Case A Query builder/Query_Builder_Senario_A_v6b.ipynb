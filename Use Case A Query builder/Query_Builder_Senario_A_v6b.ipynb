{
 "cells": [
  {
   "cell_type": "markdown",
   "metadata": {},
   "source": [
    "# Use Case A - Query builder (in progress)\n",
    "***\n",
    "* 2-grams, 3-grams, 4-grams\n",
    "* Glossary articles only - SE articles to be added soon\n",
    "* Many more matches expected with the addition of SE articles.\n"
   ]
  },
  {
   "cell_type": "code",
   "execution_count": 153,
   "metadata": {},
   "outputs": [],
   "source": [
    "\n",
    "\n",
    "import re\n",
    "\n",
    "import pandas as pd\n",
    "import numpy as np\n",
    "\n",
    "import pyodbc\n",
    "\n",
    "import gensim\n",
    "\n",
    "from datetime import datetime\n",
    "\n",
    "import unicodedata\n",
    "\n",
    "pd.set_option('display.max_colwidth', None)\n",
    "#pd.set_option('display.max_rows', None)\n",
    "\n",
    "from IPython.core.interactiveshell import InteractiveShell\n",
    "InteractiveShell.ast_node_interactivity = \"all\""
   ]
  },
  {
   "cell_type": "markdown",
   "metadata": {},
   "source": [
    "### Load data from the database"
   ]
  },
  {
   "cell_type": "code",
   "execution_count": 154,
   "metadata": {},
   "outputs": [],
   "source": [
    "c = pyodbc.connect('DSN=Virtuoso All;DBA=ESTAT;UID=user_name;PWD=password')\n",
    "cursor = c.cursor()"
   ]
  },
  {
   "cell_type": "code",
   "execution_count": 155,
   "metadata": {},
   "outputs": [
    {
     "name": "stdout",
     "output_type": "stream",
     "text": [
      "dat_3_grams\n",
      "dat_4_grams\n",
      "dat_4_grams_pickled\n",
      "dat_article\n",
      "dat_article_paragraph\n",
      "dat_article_shared_link\n",
      "dat_further_info\n",
      "dat_glossary\n",
      "dat_link_info\n",
      "dat_link_tm\n",
      "dat_paragraph_figure\n",
      "dat_redirections\n",
      "dat_related_concepts\n",
      "dat_sources\n",
      "dat_statistical_data\n",
      "dat_tm_results\n",
      "dat_tm_results_words\n",
      "mod_article_division\n",
      "mod_resource_information\n",
      "mod_resource_type\n",
      "mod_topic_models\n"
     ]
    }
   ],
   "source": [
    "for row in cursor.tables():\n",
    "    print (row.table_name)"
   ]
  },
  {
   "cell_type": "markdown",
   "metadata": {},
   "source": [
    "### Definitions and last update from dat_glossary"
   ]
  },
  {
   "cell_type": "code",
   "execution_count": 156,
   "metadata": {},
   "outputs": [
    {
     "data": {
      "text/html": [
       "<div>\n",
       "<style scoped>\n",
       "    .dataframe tbody tr th:only-of-type {\n",
       "        vertical-align: middle;\n",
       "    }\n",
       "\n",
       "    .dataframe tbody tr th {\n",
       "        vertical-align: top;\n",
       "    }\n",
       "\n",
       "    .dataframe thead th {\n",
       "        text-align: right;\n",
       "    }\n",
       "</style>\n",
       "<table border=\"1\" class=\"dataframe\">\n",
       "  <thead>\n",
       "    <tr style=\"text-align: right;\">\n",
       "      <th></th>\n",
       "      <th>id</th>\n",
       "      <th>definition</th>\n",
       "      <th>last_update</th>\n",
       "    </tr>\n",
       "  </thead>\n",
       "  <tbody>\n",
       "    <tr>\n",
       "      <th>0</th>\n",
       "      <td>1</td>\n",
       "      <td>Accidents to one or more persons that are either hit by a railway vehicle or part of it or hit by an object attachedto or that has become detached from the vehicle. Persons that fall from railway vehicles are included, as well aspersons that fall or are hit by loose objects when travelling on-board vehicles.</td>\n",
       "      <td>2021-02-03 15:06:00</td>\n",
       "    </tr>\n",
       "    <tr>\n",
       "      <th>1</th>\n",
       "      <td>2</td>\n",
       "      <td>A     railway    is a line of communication between two or more geographic locations consisting, usually, of one or more     railway lines    constructed from two parallel steel rails that is for the exclusive use of railway vehicles.</td>\n",
       "      <td>2013-02-28 10:16:00</td>\n",
       "    </tr>\n",
       "    <tr>\n",
       "      <th>2</th>\n",
       "      <td>6</td>\n",
       "      <td>An     accident at work    in the framework of the administrative data collection on European Statistics on Accidents at Work (ESAW) is a discrete occurrence during the course of work which leads to physical or mental harm. The phrase âin the course of workâ means whilst engaged in an occupational activity or during the time spent at work. This includes cases of road traffic accidents in the course of work but excludes accidents during the journey between home and the workplace.    The definition of accident at work in the module 'Accidents at work and other work-related health problems' of the EU Labour Force Survey (EU-LFS) is in principle the same as in ESAW with the exception that accidents with mental harm are excluded because they are difficult to distinguish from relevant 'work-related health problems'.    The following types of accidents are covered or not, respectively, by the above definition.    Cases included:      Cases of acute poisoning;       Wilful acts of other persons;       Accidents that occurred        on the premises of an employer other than that which employs the victim       ; this might include accidents during attendance at meetings or in the course of providing services on the premises of another employer visited for that purpose, during the course of the victimâs work;       Accidents that occur during meetings or other visits to locations outside the premises of the employer in which the employee is normally based; accidents during regular breaks, including lunch, in places organised by the employer; accidents during the delivery of goods to customersâ premises (company, public administration or private individual) or while carrying out other services such as repairs, maintenance, errands, etc. on clientsâ premises; more permanent secondments to another employer, or during activities at home which are in the course of work; accidents caused by other work activities not related to the victimâs work activities, etc;       accidents in public places or public means of transport during a journey in the course of work;       Road traffic accidents in the course of work (public roads, car parks or private roads within the premises of the enterprise). Road accidents may involve persons whose occupational activity is exerted mainly on public roads, e.g., lorry or coach drivers, as well as occupational activities which frequently or occasionally imply journeys on public roads. Such occupational activities include, e.g., repairs, commercial activities or other service activities carried out on the premises of a customer. This category includes car accidents involving employees who occasionally drive from their office to an external meeting in the course of their work, or to places where the employer organised activities during regular breaks, including lunch;       Accidents on board any means of transport used in the course of work (underground railway, tram, train, boat, aircraft, etc.);       Other accidents (slips, falls, assaults, etc.) in a public place (pavement, staircases, etc.) or in the arrival and departure areas (station, port, airport, etc.) for any mean of transport during a journey in the course of work.      Cases excluded:      Commuting accidents: accidents that occur during the normal journey to or from home and place of work, i.e. road accidents that occur during the journey between the workerâs principal or secondary residence and the workplace, or while picking up children from school; accidents between home and a location attended for work-related training or between the workplace and a restaurant at which an employee habitually has lunch are excluded unless the restaurant is on company (5) premises;       Deliberate self-inflicted injuries;       Accidents from strictly natural causes: accidents caused solely by a medical condition, e.g. cardiac or cerebral incidents, or any other sudden-onset medical condition that occurred during work, without any obvious link to the occupational activity of the victim; nevertheless, such cases should be excluded only if other work-related causal elements are ruled out. For example, if a bricklayer felt faint (medical cause) and fell from scaffolding (work-related causal element), the accidental injury must be included in the ESAW methodology. Though the fall might not have occurred had he not felt faint, the injury he incurred was aggravated by the fact that he fell from scaffolding high above ground level in the course of his normal work;       Accidents, purely private: accidents in which the victims are not at their workplace, carrying out activities which are not work-related, for example, visiting a shop, a town hall, bank, station, hospital, post office, port, airport, etc.;       Accidents to members of the public, even if such an accident is due to a work activity within a company; this includes the family members of an employee or employer if they are on the premises of the company and become victims of an accident, i.e. children in, for example, the nursery in the company; Such accidents should not be counted as accidents at work although responsible employers would ensure that such incidents would normally be factored into insurance cover.</td>\n",
       "      <td>2021-03-10 11:13:00</td>\n",
       "    </tr>\n",
       "    <tr>\n",
       "      <th>3</th>\n",
       "      <td>10</td>\n",
       "      <td>A     fatal accident at work    refers to an     accident at work    which leads to the death of a victim within one year of the accident.</td>\n",
       "      <td>2019-03-06 12:08:00</td>\n",
       "    </tr>\n",
       "    <tr>\n",
       "      <th>4</th>\n",
       "      <td>11</td>\n",
       "      <td>A     non-fatal      accident at work     is an accident which a victim survives and may result in one or more days of absence from work. A serious non-fatal accident at work is an accident at work resulting in more than three days' of absence from work. The Labour Force Survey modules on accidents at work and other work-related health problems report data on all non-fatal accidents (including the possibility to exclude those accidents with less than four days of absence). The administrative data collection on 'European Statistics on Accidents at Work (ESAW)' reports only data on accidents with four days or more of absence as well as fatal accidents at work.    Only full calendar days of absence from work have to be considered, excluding the day of the accident. Consequently, âmore than three calendar daysâ means âat least four calendar daysâ, which implies that only if the victim resumes work on the fifth (or subsequent) working day after the date on which the accident occurred should the incident be included.</td>\n",
       "      <td>2018-09-12 15:42:00</td>\n",
       "    </tr>\n",
       "  </tbody>\n",
       "</table>\n",
       "</div>"
      ],
      "text/plain": [
       "   id  \\\n",
       "0   1   \n",
       "1   2   \n",
       "2   6   \n",
       "3  10   \n",
       "4  11   \n",
       "\n",
       "                                                                                                                                                                                                                                                                                                                                                                                                                                                                                                                                                                                                                                                                                                                                                                                                                                                                                                                                                                                                                                                                                                                                                                                                                                                                                                                                                                                                                                                                                                                                                                                                                                                                                                                                                                                                                                                                                                                                                                                                                                                                                                                                                                                                                                                                                                                                                                                                                                                                                                                                                                                                                                                                                                                                                                                                                                                                                                                                                                                                                                                                                                                                                                                                                                                                                                                                                                                                                                                                                                                                                                                                                                                                                                                                                                                                                                                                                                                                                                                                                                                                                                                                                                                                                                                                                                                                                                                                                                                                                                                                                                                                                                                                                                                                                                                                                                                                                                                                                                                                                                                                                                                                                                                                                                                                                                                                                                                                                                                         definition  \\\n",
       "0                                                                                                                                                                                                                                                                                                                                                                                                                                                                                                                                                                                                                                                                                                                                                                                                                                                                                                                                                                                                                                                                                                                                                                                                                                                                                                                                                                                                                                                                                                                                                                                                                                                                                                                                                                                                                                                                                                                                                                                                                                                                                                                                                                                                                                                                                                                                                                                                                                                                                                                                                                                                                                                                                                                                                                                                                                                                                                                                                                                                                                                                                                                                                                                                                                                                                                                                                                                                                                                                                                                                                                                                                                                                                                                                                                                                                                                                                                                                                                                                                                                                                                                                                                                                                                                                                                                                                                                                                                                                                                                                                                                                                                                                                                                                                                                                                                                                                                                                                                                                                                                                                                                                           Accidents to one or more persons that are either hit by a railway vehicle or part of it or hit by an object attachedto or that has become detached from the vehicle. Persons that fall from railway vehicles are included, as well aspersons that fall or are hit by loose objects when travelling on-board vehicles.     \n",
       "1                                                                                                                                                                                                                                                                                                                                                                                                                                                                                                                                                                                                                                                                                                                                                                                                                                                                                                                                                                                                                                                                                                                                                                                                                                                                                                                                                                                                                                                                                                                                                                                                                                                                                                                                                                                                                                                                                                                                                                                                                                                                                                                                                                                                                                                                                                                                                                                                                                                                                                                                                                                                                                                                                                                                                                                                                                                                                                                                                                                                                                                                                                                                                                                                                                                                                                                                                                                                                                                                                                                                                                                                                                                                                                                                                                                                                                                                                                                                                                                                                                                                                                                                                                                                                                                                                                                                                                                                                                                                                                                                                                                                                                                                                                                                                                                                                                                                                                                                                                                                                                                                                                                                                                                                                      A     railway    is a line of communication between two or more geographic locations consisting, usually, of one or more     railway lines    constructed from two parallel steel rails that is for the exclusive use of railway vehicles.     \n",
       "2    An     accident at work    in the framework of the administrative data collection on European Statistics on Accidents at Work (ESAW) is a discrete occurrence during the course of work which leads to physical or mental harm. The phrase âin the course of workâ means whilst engaged in an occupational activity or during the time spent at work. This includes cases of road traffic accidents in the course of work but excludes accidents during the journey between home and the workplace.    The definition of accident at work in the module 'Accidents at work and other work-related health problems' of the EU Labour Force Survey (EU-LFS) is in principle the same as in ESAW with the exception that accidents with mental harm are excluded because they are difficult to distinguish from relevant 'work-related health problems'.    The following types of accidents are covered or not, respectively, by the above definition.    Cases included:      Cases of acute poisoning;       Wilful acts of other persons;       Accidents that occurred        on the premises of an employer other than that which employs the victim       ; this might include accidents during attendance at meetings or in the course of providing services on the premises of another employer visited for that purpose, during the course of the victimâs work;       Accidents that occur during meetings or other visits to locations outside the premises of the employer in which the employee is normally based; accidents during regular breaks, including lunch, in places organised by the employer; accidents during the delivery of goods to customersâ premises (company, public administration or private individual) or while carrying out other services such as repairs, maintenance, errands, etc. on clientsâ premises; more permanent secondments to another employer, or during activities at home which are in the course of work; accidents caused by other work activities not related to the victimâs work activities, etc;       accidents in public places or public means of transport during a journey in the course of work;       Road traffic accidents in the course of work (public roads, car parks or private roads within the premises of the enterprise). Road accidents may involve persons whose occupational activity is exerted mainly on public roads, e.g., lorry or coach drivers, as well as occupational activities which frequently or occasionally imply journeys on public roads. Such occupational activities include, e.g., repairs, commercial activities or other service activities carried out on the premises of a customer. This category includes car accidents involving employees who occasionally drive from their office to an external meeting in the course of their work, or to places where the employer organised activities during regular breaks, including lunch;       Accidents on board any means of transport used in the course of work (underground railway, tram, train, boat, aircraft, etc.);       Other accidents (slips, falls, assaults, etc.) in a public place (pavement, staircases, etc.) or in the arrival and departure areas (station, port, airport, etc.) for any mean of transport during a journey in the course of work.      Cases excluded:      Commuting accidents: accidents that occur during the normal journey to or from home and place of work, i.e. road accidents that occur during the journey between the workerâs principal or secondary residence and the workplace, or while picking up children from school; accidents between home and a location attended for work-related training or between the workplace and a restaurant at which an employee habitually has lunch are excluded unless the restaurant is on company (5) premises;       Deliberate self-inflicted injuries;       Accidents from strictly natural causes: accidents caused solely by a medical condition, e.g. cardiac or cerebral incidents, or any other sudden-onset medical condition that occurred during work, without any obvious link to the occupational activity of the victim; nevertheless, such cases should be excluded only if other work-related causal elements are ruled out. For example, if a bricklayer felt faint (medical cause) and fell from scaffolding (work-related causal element), the accidental injury must be included in the ESAW methodology. Though the fall might not have occurred had he not felt faint, the injury he incurred was aggravated by the fact that he fell from scaffolding high above ground level in the course of his normal work;       Accidents, purely private: accidents in which the victims are not at their workplace, carrying out activities which are not work-related, for example, visiting a shop, a town hall, bank, station, hospital, post office, port, airport, etc.;       Accidents to members of the public, even if such an accident is due to a work activity within a company; this includes the family members of an employee or employer if they are on the premises of the company and become victims of an accident, i.e. children in, for example, the nursery in the company; Such accidents should not be counted as accidents at work although responsible employers would ensure that such incidents would normally be factored into insurance cover.      \n",
       "3                                                                                                                                                                                                                                                                                                                                                                                                                                                                                                                                                                                                                                                                                                                                                                                                                                                                                                                                                                                                                                                                                                                                                                                                                                                                                                                                                                                                                                                                                                                                                                                                                                                                                                                                                                                                                                                                                                                                                                                                                                                                                                                                                                                                                                                                                                                                                                                                                                                                                                                                                                                                                                                                                                                                                                                                                                                                                                                                                                                                                                                                                                                                                                                                                                                                                                                                                                                                                                                                                                                                                                                                                                                                                                                                                                                                                                                                                                                                                                                                                                                                                                                                                                                                                                                                                                                                                                                                                                                                                                                                                                                                                                                                                                                                                                                                                                                                                                                                                                                                                                                                                                                                                                                                                                                                                                                      A     fatal accident at work    refers to an     accident at work    which leads to the death of a victim within one year of the accident.     \n",
       "4                                                                                                                                                                                                                                                                                                                                                                                                                                                                                                                                                                                                                                                                                                                                                                                                                                                                                                                                                                                                                                                                                                                                                                                                                                                                                                                                                                                                                                                                                                                                                                                                                                                                                                                                                                                                                                                                                                                                                                                                                                                                                                                                                                                                                                                                                                                                                                                                                                                                                                                                                                                                                                                                                                                                                                                                                                                                                                                                                                                                                                                                                                                                                                                                                                                                                                                                                                                                                                                                                                                                                                                                                                                                                                                                                                                                                                                                                                                                                                                                                                                                                                                                                                                                                                                                                                                                                                                      A     non-fatal      accident at work     is an accident which a victim survives and may result in one or more days of absence from work. A serious non-fatal accident at work is an accident at work resulting in more than three days' of absence from work. The Labour Force Survey modules on accidents at work and other work-related health problems report data on all non-fatal accidents (including the possibility to exclude those accidents with less than four days of absence). The administrative data collection on 'European Statistics on Accidents at Work (ESAW)' reports only data on accidents with four days or more of absence as well as fatal accidents at work.    Only full calendar days of absence from work have to be considered, excluding the day of the accident. Consequently, âmore than three calendar daysâ means âat least four calendar daysâ, which implies that only if the victim resumes work on the fifth (or subsequent) working day after the date on which the accident occurred should the incident be included.     \n",
       "\n",
       "          last_update  \n",
       "0 2021-02-03 15:06:00  \n",
       "1 2013-02-28 10:16:00  \n",
       "2 2021-03-10 11:13:00  \n",
       "3 2019-03-06 12:08:00  \n",
       "4 2018-09-12 15:42:00  "
      ]
     },
     "execution_count": 156,
     "metadata": {},
     "output_type": "execute_result"
    }
   ],
   "source": [
    "GL_df = pd.read_sql(\"SELECT id,definition,last_update FROM dat_glossary\", c) \n",
    "GL_df.head()"
   ]
  },
  {
   "cell_type": "markdown",
   "metadata": {},
   "source": [
    "### Titles from dat_link_info (with resource_information_id=1)\n"
   ]
  },
  {
   "cell_type": "code",
   "execution_count": 157,
   "metadata": {},
   "outputs": [
    {
     "data": {
      "text/html": [
       "<div>\n",
       "<style scoped>\n",
       "    .dataframe tbody tr th:only-of-type {\n",
       "        vertical-align: middle;\n",
       "    }\n",
       "\n",
       "    .dataframe tbody tr th {\n",
       "        vertical-align: top;\n",
       "    }\n",
       "\n",
       "    .dataframe thead th {\n",
       "        text-align: right;\n",
       "    }\n",
       "</style>\n",
       "<table border=\"1\" class=\"dataframe\">\n",
       "  <thead>\n",
       "    <tr style=\"text-align: right;\">\n",
       "      <th></th>\n",
       "      <th>id</th>\n",
       "      <th>title</th>\n",
       "      <th>url</th>\n",
       "    </tr>\n",
       "  </thead>\n",
       "  <tbody>\n",
       "    <tr>\n",
       "      <th>0</th>\n",
       "      <td>1</td>\n",
       "      <td>Accidents to persons caused by rolling stock in motion</td>\n",
       "      <td>https://ec.europa.eu/eurostat/statistics-explained/index.php?title=Glossary:Accidents_to_persons_caused_by_rolling_stock_in_motion</td>\n",
       "    </tr>\n",
       "    <tr>\n",
       "      <th>1</th>\n",
       "      <td>2</td>\n",
       "      <td>Railway</td>\n",
       "      <td>https://ec.europa.eu/eurostat/statistics-explained/index.php?title=Glossary:Railway</td>\n",
       "    </tr>\n",
       "    <tr>\n",
       "      <th>2</th>\n",
       "      <td>3</td>\n",
       "      <td>Railway safety statistics in the EU</td>\n",
       "      <td>https://ec.europa.eu/eurostat/statistics-explained/index.php?title=Railway_safety_statistics_in_the_EU</td>\n",
       "    </tr>\n",
       "    <tr>\n",
       "      <th>3</th>\n",
       "      <td>4</td>\n",
       "      <td>Railway freight transport statistics</td>\n",
       "      <td>https://ec.europa.eu/eurostat/statistics-explained/index.php?title=Railway_freight_transport_statistics</td>\n",
       "    </tr>\n",
       "    <tr>\n",
       "      <th>4</th>\n",
       "      <td>5</td>\n",
       "      <td>Railway passenger transport statistics - quarterly and annual data</td>\n",
       "      <td>https://ec.europa.eu/eurostat/statistics-explained/index.php?title=Railway_passenger_transport_statistics_-_quarterly_and_annual_data</td>\n",
       "    </tr>\n",
       "  </tbody>\n",
       "</table>\n",
       "</div>"
      ],
      "text/plain": [
       "   id                                                                 title  \\\n",
       "0   1          Accidents to persons caused by rolling stock in motion         \n",
       "1   2                                                            Railway      \n",
       "2   3                                   Railway safety statistics in the EU   \n",
       "3   4                                  Railway freight transport statistics   \n",
       "4   5    Railway passenger transport statistics - quarterly and annual data   \n",
       "\n",
       "                                                                                                                                     url  \n",
       "0     https://ec.europa.eu/eurostat/statistics-explained/index.php?title=Glossary:Accidents_to_persons_caused_by_rolling_stock_in_motion  \n",
       "1                                                    https://ec.europa.eu/eurostat/statistics-explained/index.php?title=Glossary:Railway  \n",
       "2                                 https://ec.europa.eu/eurostat/statistics-explained/index.php?title=Railway_safety_statistics_in_the_EU  \n",
       "3                                https://ec.europa.eu/eurostat/statistics-explained/index.php?title=Railway_freight_transport_statistics  \n",
       "4  https://ec.europa.eu/eurostat/statistics-explained/index.php?title=Railway_passenger_transport_statistics_-_quarterly_and_annual_data  "
      ]
     },
     "execution_count": 157,
     "metadata": {},
     "output_type": "execute_result"
    }
   ],
   "source": [
    "titles = pd.read_sql(\"SELECT id,title,url FROM dat_link_info WHERE resource_information_id=1\", c) \n",
    "#titles = titles[titles['url'].str.contains('title=Glossary:')]\n",
    "titles.head()\n"
   ]
  },
  {
   "cell_type": "code",
   "execution_count": 158,
   "metadata": {},
   "outputs": [],
   "source": [
    "GL_df = GL_df.merge(titles,how='inner',on='id')\n",
    "GL_df['orig definition'] = GL_df['definition'] ## original text for debugging\n",
    "GL_df = GL_df[['id', 'title', 'definition', 'orig definition','url','last_update']]\n",
    "   \n"
   ]
  },
  {
   "cell_type": "code",
   "execution_count": 159,
   "metadata": {},
   "outputs": [
    {
     "name": "stdout",
     "output_type": "stream",
     "text": [
      "id                 0\n",
      "title              0\n",
      "definition         2\n",
      "orig definition    2\n",
      "url                0\n",
      "last_update        0\n",
      "dtype: int64\n"
     ]
    }
   ],
   "source": [
    "GL_df = GL_df.replace('', np.nan) \n",
    "print(GL_df.isnull().sum())\n",
    "\n",
    "## empty definitions\n",
    "\n",
    "## print(GL_df[GL_df.isnull().any(axis=1)])"
   ]
  },
  {
   "cell_type": "markdown",
   "metadata": {},
   "source": [
    "### Delete records with empty definitions, data cleansing"
   ]
  },
  {
   "cell_type": "code",
   "execution_count": 160,
   "metadata": {},
   "outputs": [
    {
     "name": "stdout",
     "output_type": "stream",
     "text": [
      "id                 0\n",
      "title              0\n",
      "definition         0\n",
      "orig definition    0\n",
      "url                0\n",
      "last_update        0\n",
      "dtype: int64\n"
     ]
    },
    {
     "data": {
      "text/html": [
       "<div>\n",
       "<style scoped>\n",
       "    .dataframe tbody tr th:only-of-type {\n",
       "        vertical-align: middle;\n",
       "    }\n",
       "\n",
       "    .dataframe tbody tr th {\n",
       "        vertical-align: top;\n",
       "    }\n",
       "\n",
       "    .dataframe thead th {\n",
       "        text-align: right;\n",
       "    }\n",
       "</style>\n",
       "<table border=\"1\" class=\"dataframe\">\n",
       "  <thead>\n",
       "    <tr style=\"text-align: right;\">\n",
       "      <th></th>\n",
       "      <th>index</th>\n",
       "      <th>id</th>\n",
       "      <th>title</th>\n",
       "      <th>definition</th>\n",
       "      <th>orig definition</th>\n",
       "      <th>url</th>\n",
       "      <th>last_update</th>\n",
       "    </tr>\n",
       "  </thead>\n",
       "  <tbody>\n",
       "    <tr>\n",
       "      <th>0</th>\n",
       "      <td>0</td>\n",
       "      <td>1</td>\n",
       "      <td>Accidents to persons caused by rolling stock in motion</td>\n",
       "      <td>Accidents to one or more persons that are either hit by a railway vehicle or part of it or hit by an object attachedto or that has become detached from the vehicle. Persons that fall from railway vehicles are included, as well aspersons that fall or are hit by loose objects when travelling on-board vehicles.</td>\n",
       "      <td>Accidents to one or more persons that are either hit by a railway vehicle or part of it or hit by an object attachedto or that has become detached from the vehicle. Persons that fall from railway vehicles are included, as well aspersons that fall or are hit by loose objects when travelling on-board vehicles.</td>\n",
       "      <td>[https://ec.europa.eu/eurostat/statistics-explained/index.php?title=Glossary:Accidents_to_persons_caused_by_rolling_stock_in_motion]</td>\n",
       "      <td>2021-02-03 15:06:00</td>\n",
       "    </tr>\n",
       "    <tr>\n",
       "      <th>1</th>\n",
       "      <td>1</td>\n",
       "      <td>2</td>\n",
       "      <td>Railway</td>\n",
       "      <td>A railway is a line of communication between two or more geographic locations consisting, usually, of one or more railway lines constructed from two parallel steel rails that is for the exclusive use of railway vehicles.</td>\n",
       "      <td>A     railway    is a line of communication between two or more geographic locations consisting, usually, of one or more     railway lines    constructed from two parallel steel rails that is for the exclusive use of railway vehicles.</td>\n",
       "      <td>[https://ec.europa.eu/eurostat/statistics-explained/index.php?title=Glossary:Railway]</td>\n",
       "      <td>2013-02-28 10:16:00</td>\n",
       "    </tr>\n",
       "    <tr>\n",
       "      <th>2</th>\n",
       "      <td>2</td>\n",
       "      <td>6</td>\n",
       "      <td>Accident at work</td>\n",
       "      <td>An accident at work in the framework of the administrative data collection on European Statistics on Accidents at Work (ESAW) is a discrete occurrence during the course of work which leads to physical or mental harm. The phrase ’in the course of work’ means whilst engaged in an occupational activity or during the time spent at work. This includes cases of road traffic accidents in the course of work but excludes accidents during the journey between home and the workplace. The definition of accident at work in the module 'Accidents at work and other work-related health problems' of the EU Labour Force Survey (EU-LFS) is in principle the same as in ESAW with the exception that accidents with mental harm are excluded because they are difficult to distinguish from relevant 'work-related health problems'. The following types of accidents are covered or not, respectively, by the above definition. Cases included: Cases of acute poisoning; Wilful acts of other persons; Accidents that occurred on the premises of an employer other than that which employs the victim ; this might include accidents during attendance at meetings or in the course of providing services on the premises of another employer visited for that purpose, during the course of the victim’s work; Accidents that occur during meetings or other visits to locations outside the premises of the employer in which the employee is normally based; accidents during regular breaks, including lunch, in places organised by the employer; accidents during the delivery of goods to customers’ premises (company, public administration or private individual) or while carrying out other services such as repairs, maintenance, errands, etc. on clients’ premises; more permanent secondments to another employer, or during activities at home which are in the course of work; accidents caused by other work activities not related to the victim’s work activities, etc; accidents in public places or public means of transport during a journey in the course of work; Road traffic accidents in the course of work (public roads, car parks or private roads within the premises of the enterprise). Road accidents may involve persons whose occupational activity is exerted mainly on public roads, e.g., lorry or coach drivers, as well as occupational activities which frequently or occasionally imply journeys on public roads. Such occupational activities include, e.g., repairs, commercial activities or other service activities carried out on the premises of a customer. This category includes car accidents involving employees who occasionally drive from their office to an external meeting in the course of their work, or to places where the employer organised activities during regular breaks, including lunch; Accidents on board any means of transport used in the course of work (underground railway, tram, train, boat, aircraft, etc.); Other accidents (slips, falls, assaults, etc.) in a public place (pavement, staircases, etc.) or in the arrival and departure areas (station, port, airport, etc.) for any mean of transport during a journey in the course of work. Cases excluded: Commuting accidents: accidents that occur during the normal journey to or from home and place of work, i.e. road accidents that occur during the journey between the worker’s principal or secondary residence and the workplace, or while picking up children from school; accidents between home and a location attended for work-related training or between the workplace and a restaurant at which an employee habitually has lunch are excluded unless the restaurant is on company (5) premises; Deliberate self-inflicted injuries; Accidents from strictly natural causes: accidents caused solely by a medical condition, e.g. cardiac or cerebral incidents, or any other sudden-onset medical condition that occurred during work, without any obvious link to the occupational activity of the victim; nevertheless, such cases should be excluded only if other work-related causal elements are ruled out. For example, if a bricklayer felt faint (medical cause) and fell from scaffolding (work-related causal element), the accidental injury must be included in the ESAW methodology. Though the fall might not have occurred had he not felt faint, the injury he incurred was aggravated by the fact that he fell from scaffolding high above ground level in the course of his normal work; Accidents, purely private: accidents in which the victims are not at their workplace, carrying out activities which are not work-related, for example, visiting a shop, a town hall, bank, station, hospital, post office, port, airport, etc.; Accidents to members of the public, even if such an accident is due to a work activity within a company; this includes the family members of an employee or employer if they are on the premises of the company and become victims of an accident, i.e. children in, for example, the nursery in the company; Such accidents should not be counted as accidents at work although responsible employers would ensure that such incidents would normally be factored into insurance cover.</td>\n",
       "      <td>An     accident at work    in the framework of the administrative data collection on European Statistics on Accidents at Work (ESAW) is a discrete occurrence during the course of work which leads to physical or mental harm. The phrase âin the course of workâ means whilst engaged in an occupational activity or during the time spent at work. This includes cases of road traffic accidents in the course of work but excludes accidents during the journey between home and the workplace.    The definition of accident at work in the module 'Accidents at work and other work-related health problems' of the EU Labour Force Survey (EU-LFS) is in principle the same as in ESAW with the exception that accidents with mental harm are excluded because they are difficult to distinguish from relevant 'work-related health problems'.    The following types of accidents are covered or not, respectively, by the above definition.    Cases included:      Cases of acute poisoning;       Wilful acts of other persons;       Accidents that occurred        on the premises of an employer other than that which employs the victim       ; this might include accidents during attendance at meetings or in the course of providing services on the premises of another employer visited for that purpose, during the course of the victimâs work;       Accidents that occur during meetings or other visits to locations outside the premises of the employer in which the employee is normally based; accidents during regular breaks, including lunch, in places organised by the employer; accidents during the delivery of goods to customersâ premises (company, public administration or private individual) or while carrying out other services such as repairs, maintenance, errands, etc. on clientsâ premises; more permanent secondments to another employer, or during activities at home which are in the course of work; accidents caused by other work activities not related to the victimâs work activities, etc;       accidents in public places or public means of transport during a journey in the course of work;       Road traffic accidents in the course of work (public roads, car parks or private roads within the premises of the enterprise). Road accidents may involve persons whose occupational activity is exerted mainly on public roads, e.g., lorry or coach drivers, as well as occupational activities which frequently or occasionally imply journeys on public roads. Such occupational activities include, e.g., repairs, commercial activities or other service activities carried out on the premises of a customer. This category includes car accidents involving employees who occasionally drive from their office to an external meeting in the course of their work, or to places where the employer organised activities during regular breaks, including lunch;       Accidents on board any means of transport used in the course of work (underground railway, tram, train, boat, aircraft, etc.);       Other accidents (slips, falls, assaults, etc.) in a public place (pavement, staircases, etc.) or in the arrival and departure areas (station, port, airport, etc.) for any mean of transport during a journey in the course of work.      Cases excluded:      Commuting accidents: accidents that occur during the normal journey to or from home and place of work, i.e. road accidents that occur during the journey between the workerâs principal or secondary residence and the workplace, or while picking up children from school; accidents between home and a location attended for work-related training or between the workplace and a restaurant at which an employee habitually has lunch are excluded unless the restaurant is on company (5) premises;       Deliberate self-inflicted injuries;       Accidents from strictly natural causes: accidents caused solely by a medical condition, e.g. cardiac or cerebral incidents, or any other sudden-onset medical condition that occurred during work, without any obvious link to the occupational activity of the victim; nevertheless, such cases should be excluded only if other work-related causal elements are ruled out. For example, if a bricklayer felt faint (medical cause) and fell from scaffolding (work-related causal element), the accidental injury must be included in the ESAW methodology. Though the fall might not have occurred had he not felt faint, the injury he incurred was aggravated by the fact that he fell from scaffolding high above ground level in the course of his normal work;       Accidents, purely private: accidents in which the victims are not at their workplace, carrying out activities which are not work-related, for example, visiting a shop, a town hall, bank, station, hospital, post office, port, airport, etc.;       Accidents to members of the public, even if such an accident is due to a work activity within a company; this includes the family members of an employee or employer if they are on the premises of the company and become victims of an accident, i.e. children in, for example, the nursery in the company; Such accidents should not be counted as accidents at work although responsible employers would ensure that such incidents would normally be factored into insurance cover.</td>\n",
       "      <td>[https://ec.europa.eu/eurostat/statistics-explained/index.php?title=Glossary:Accident_at_work]</td>\n",
       "      <td>2021-03-10 11:13:00</td>\n",
       "    </tr>\n",
       "    <tr>\n",
       "      <th>3</th>\n",
       "      <td>3</td>\n",
       "      <td>10</td>\n",
       "      <td>Fatal accident at work</td>\n",
       "      <td>A fatal accident at work refers to an accident at work which leads to the death of a victim within one year of the accident.</td>\n",
       "      <td>A     fatal accident at work    refers to an     accident at work    which leads to the death of a victim within one year of the accident.</td>\n",
       "      <td>[https://ec.europa.eu/eurostat/statistics-explained/index.php?title=Glossary:Fatal_accident_at_work]</td>\n",
       "      <td>2019-03-06 12:08:00</td>\n",
       "    </tr>\n",
       "    <tr>\n",
       "      <th>4</th>\n",
       "      <td>4</td>\n",
       "      <td>11</td>\n",
       "      <td>Non-fatal accident at work</td>\n",
       "      <td>A non-fatal accident at work is an accident which a victim survives and may result in one or more days of absence from work. A serious non-fatal accident at work is an accident at work resulting in more than three days' of absence from work. The Labour Force Survey modules on accidents at work and other work-related health problems report data on all non-fatal accidents (including the possibility to exclude those accidents with less than four days of absence). The administrative data collection on 'European Statistics on Accidents at Work (ESAW)' reports only data on accidents with four days or more of absence as well as fatal accidents at work. Only full calendar days of absence from work have to be considered, excluding the day of the accident. Consequently, ‘more than three calendar days’ means ‘at least four calendar days’, which implies that only if the victim resumes work on the fifth (or subsequent) working day after the date on which the accident occurred should the incident be included.</td>\n",
       "      <td>A     non-fatal      accident at work     is an accident which a victim survives and may result in one or more days of absence from work. A serious non-fatal accident at work is an accident at work resulting in more than three days' of absence from work. The Labour Force Survey modules on accidents at work and other work-related health problems report data on all non-fatal accidents (including the possibility to exclude those accidents with less than four days of absence). The administrative data collection on 'European Statistics on Accidents at Work (ESAW)' reports only data on accidents with four days or more of absence as well as fatal accidents at work.    Only full calendar days of absence from work have to be considered, excluding the day of the accident. Consequently, âmore than three calendar daysâ means âat least four calendar daysâ, which implies that only if the victim resumes work on the fifth (or subsequent) working day after the date on which the accident occurred should the incident be included.</td>\n",
       "      <td>[https://ec.europa.eu/eurostat/statistics-explained/index.php?title=Glossary:Non-fatal_accident_at_work]</td>\n",
       "      <td>2018-09-12 15:42:00</td>\n",
       "    </tr>\n",
       "  </tbody>\n",
       "</table>\n",
       "</div>"
      ],
      "text/plain": [
       "   index  id                                                   title  \\\n",
       "0      0   1  Accidents to persons caused by rolling stock in motion   \n",
       "1      1   2                                                 Railway   \n",
       "2      2   6                                        Accident at work   \n",
       "3      3  10                                  Fatal accident at work   \n",
       "4      4  11                              Non-fatal accident at work   \n",
       "\n",
       "                                                                                                                                                                                                                                                                                                                                                                                                                                                                                                                                                                                                                                                                                                                                                                                                                                                                                                                                                                                                                                                                                                                                                                                                                                                                                                                                                                                                                                                                                                                                                                                                                                                                                                                                                                                                                                                                                                                                                                                                                                                                                                                                                                                                                                                                                                                                                                                                                                                                                                                                                                                                                                                                                                                                                                                                                                                                                                                                                                                                                                                                                                                                                                                                                                                                                                                                                                                                                                                                                                                                                                                                                                                                                                                                                                                                                                                                                                                                                                                                                                                                                                                                                                                                                                                                                                                                                                                                                                                                                                                                                                                                                                                                                                                                                                                                                                                                                                                                                                                                                                                                                                                                                                                                                                                                                                                        definition  \\\n",
       "0                                                                                                                                                                                                                                                                                                                                                                                                                                                                                                                                                                                                                                                                                                                                                                                                                                                                                                                                                                                                                                                                                                                                                                                                                                                                                                                                                                                                                                                                                                                                                                                                                                                                                                                                                                                                                                                                                                                                                                                                                                                                                                                                                                                                                                                                                                                                                                                                                                                                                                                                                                                                                                                                                                                                                                                                                                                                                                                                                                                                                                                                                                                                                                                                                                                                                                                                                                                                                                                                                                                                                                                                                                                                                                                                                                                                                                                                                                                                                                                                                                                                                                                                                                                                                                                                                                                                                                                                                                                                                                                                                                                                                                                                                                                                                                                                                                                                                                                                                                                                            Accidents to one or more persons that are either hit by a railway vehicle or part of it or hit by an object attachedto or that has become detached from the vehicle. Persons that fall from railway vehicles are included, as well aspersons that fall or are hit by loose objects when travelling on-board vehicles.   \n",
       "1                                                                                                                                                                                                                                                                                                                                                                                                                                                                                                                                                                                                                                                                                                                                                                                                                                                                                                                                                                                                                                                                                                                                                                                                                                                                                                                                                                                                                                                                                                                                                                                                                                                                                                                                                                                                                                                                                                                                                                                                                                                                                                                                                                                                                                                                                                                                                                                                                                                                                                                                                                                                                                                                                                                                                                                                                                                                                                                                                                                                                                                                                                                                                                                                                                                                                                                                                                                                                                                                                                                                                                                                                                                                                                                                                                                                                                                                                                                                                                                                                                                                                                                                                                                                                                                                                                                                                                                                                                                                                                                                                                                                                                                                                                                                                                                                                                                                                                                                                                                                                                                                                                     A railway is a line of communication between two or more geographic locations consisting, usually, of one or more railway lines constructed from two parallel steel rails that is for the exclusive use of railway vehicles.   \n",
       "2  An accident at work in the framework of the administrative data collection on European Statistics on Accidents at Work (ESAW) is a discrete occurrence during the course of work which leads to physical or mental harm. The phrase ’in the course of work’ means whilst engaged in an occupational activity or during the time spent at work. This includes cases of road traffic accidents in the course of work but excludes accidents during the journey between home and the workplace. The definition of accident at work in the module 'Accidents at work and other work-related health problems' of the EU Labour Force Survey (EU-LFS) is in principle the same as in ESAW with the exception that accidents with mental harm are excluded because they are difficult to distinguish from relevant 'work-related health problems'. The following types of accidents are covered or not, respectively, by the above definition. Cases included: Cases of acute poisoning; Wilful acts of other persons; Accidents that occurred on the premises of an employer other than that which employs the victim ; this might include accidents during attendance at meetings or in the course of providing services on the premises of another employer visited for that purpose, during the course of the victim’s work; Accidents that occur during meetings or other visits to locations outside the premises of the employer in which the employee is normally based; accidents during regular breaks, including lunch, in places organised by the employer; accidents during the delivery of goods to customers’ premises (company, public administration or private individual) or while carrying out other services such as repairs, maintenance, errands, etc. on clients’ premises; more permanent secondments to another employer, or during activities at home which are in the course of work; accidents caused by other work activities not related to the victim’s work activities, etc; accidents in public places or public means of transport during a journey in the course of work; Road traffic accidents in the course of work (public roads, car parks or private roads within the premises of the enterprise). Road accidents may involve persons whose occupational activity is exerted mainly on public roads, e.g., lorry or coach drivers, as well as occupational activities which frequently or occasionally imply journeys on public roads. Such occupational activities include, e.g., repairs, commercial activities or other service activities carried out on the premises of a customer. This category includes car accidents involving employees who occasionally drive from their office to an external meeting in the course of their work, or to places where the employer organised activities during regular breaks, including lunch; Accidents on board any means of transport used in the course of work (underground railway, tram, train, boat, aircraft, etc.); Other accidents (slips, falls, assaults, etc.) in a public place (pavement, staircases, etc.) or in the arrival and departure areas (station, port, airport, etc.) for any mean of transport during a journey in the course of work. Cases excluded: Commuting accidents: accidents that occur during the normal journey to or from home and place of work, i.e. road accidents that occur during the journey between the worker’s principal or secondary residence and the workplace, or while picking up children from school; accidents between home and a location attended for work-related training or between the workplace and a restaurant at which an employee habitually has lunch are excluded unless the restaurant is on company (5) premises; Deliberate self-inflicted injuries; Accidents from strictly natural causes: accidents caused solely by a medical condition, e.g. cardiac or cerebral incidents, or any other sudden-onset medical condition that occurred during work, without any obvious link to the occupational activity of the victim; nevertheless, such cases should be excluded only if other work-related causal elements are ruled out. For example, if a bricklayer felt faint (medical cause) and fell from scaffolding (work-related causal element), the accidental injury must be included in the ESAW methodology. Though the fall might not have occurred had he not felt faint, the injury he incurred was aggravated by the fact that he fell from scaffolding high above ground level in the course of his normal work; Accidents, purely private: accidents in which the victims are not at their workplace, carrying out activities which are not work-related, for example, visiting a shop, a town hall, bank, station, hospital, post office, port, airport, etc.; Accidents to members of the public, even if such an accident is due to a work activity within a company; this includes the family members of an employee or employer if they are on the premises of the company and become victims of an accident, i.e. children in, for example, the nursery in the company; Such accidents should not be counted as accidents at work although responsible employers would ensure that such incidents would normally be factored into insurance cover.   \n",
       "3                                                                                                                                                                                                                                                                                                                                                                                                                                                                                                                                                                                                                                                                                                                                                                                                                                                                                                                                                                                                                                                                                                                                                                                                                                                                                                                                                                                                                                                                                                                                                                                                                                                                                                                                                                                                                                                                                                                                                                                                                                                                                                                                                                                                                                                                                                                                                                                                                                                                                                                                                                                                                                                                                                                                                                                                                                                                                                                                                                                                                                                                                                                                                                                                                                                                                                                                                                                                                                                                                                                                                                                                                                                                                                                                                                                                                                                                                                                                                                                                                                                                                                                                                                                                                                                                                                                                                                                                                                                                                                                                                                                                                                                                                                                                                                                                                                                                                                                                                                                                                                                                                                                                                                                                     A fatal accident at work refers to an accident at work which leads to the death of a victim within one year of the accident.   \n",
       "4                                                                                                                                                                                                                                                                                                                                                                                                                                                                                                                                                                                                                                                                                                                                                                                                                                                                                                                                                                                                                                                                                                                                                                                                                                                                                                                                                                                                                                                                                                                                                                                                                                                                                                                                                                                                                                                                                                                                                                                                                                                                                                                                                                                                                                                                                                                                                                                                                                                                                                                                                                                                                                                                                                                                                                                                                                                                                                                                                                                                                                                                                                                                                                                                                                                                                                                                                                                                                                                                                                                                                                                                                                                                                                                                                                                                                                                                                                                                                                                                                                                                                                                                                                                                                                                                               A non-fatal accident at work is an accident which a victim survives and may result in one or more days of absence from work. A serious non-fatal accident at work is an accident at work resulting in more than three days' of absence from work. The Labour Force Survey modules on accidents at work and other work-related health problems report data on all non-fatal accidents (including the possibility to exclude those accidents with less than four days of absence). The administrative data collection on 'European Statistics on Accidents at Work (ESAW)' reports only data on accidents with four days or more of absence as well as fatal accidents at work. Only full calendar days of absence from work have to be considered, excluding the day of the accident. Consequently, ‘more than three calendar days’ means ‘at least four calendar days’, which implies that only if the victim resumes work on the fifth (or subsequent) working day after the date on which the accident occurred should the incident be included.   \n",
       "\n",
       "                                                                                                                                                                                                                                                                                                                                                                                                                                                                                                                                                                                                                                                                                                                                                                                                                                                                                                                                                                                                                                                                                                                                                                                                                                                                                                                                                                                                                                                                                                                                                                                                                                                                                                                                                                                                                                                                                                                                                                                                                                                                                                                                                                                                                                                                                                                                                                                                                                                                                                                                                                                                                                                                                                                                                                                                                                                                                                                                                                                                                                                                                                                                                                                                                                                                                                                                                                                                                                                                                                                                                                                                                                                                                                                                                                                                                                                                                                                                                                                                                                                                                                                                                                                                                                                                                                                                                                                                                                                                                                                                                                                                                                                                                                                                                                                                                                                                                                                                                                                                                                                                                                                                                                                                                                                                                                                                                                                                                                                    orig definition  \\\n",
       "0                                                                                                                                                                                                                                                                                                                                                                                                                                                                                                                                                                                                                                                                                                                                                                                                                                                                                                                                                                                                                                                                                                                                                                                                                                                                                                                                                                                                                                                                                                                                                                                                                                                                                                                                                                                                                                                                                                                                                                                                                                                                                                                                                                                                                                                                                                                                                                                                                                                                                                                                                                                                                                                                                                                                                                                                                                                                                                                                                                                                                                                                                                                                                                                                                                                                                                                                                                                                                                                                                                                                                                                                                                                                                                                                                                                                                                                                                                                                                                                                                                                                                                                                                                                                                                                                                                                                                                                                                                                                                                                                                                                                                                                                                                                                                                                                                                                                                                                                                                                                                                                                                                                                           Accidents to one or more persons that are either hit by a railway vehicle or part of it or hit by an object attachedto or that has become detached from the vehicle. Persons that fall from railway vehicles are included, as well aspersons that fall or are hit by loose objects when travelling on-board vehicles.     \n",
       "1                                                                                                                                                                                                                                                                                                                                                                                                                                                                                                                                                                                                                                                                                                                                                                                                                                                                                                                                                                                                                                                                                                                                                                                                                                                                                                                                                                                                                                                                                                                                                                                                                                                                                                                                                                                                                                                                                                                                                                                                                                                                                                                                                                                                                                                                                                                                                                                                                                                                                                                                                                                                                                                                                                                                                                                                                                                                                                                                                                                                                                                                                                                                                                                                                                                                                                                                                                                                                                                                                                                                                                                                                                                                                                                                                                                                                                                                                                                                                                                                                                                                                                                                                                                                                                                                                                                                                                                                                                                                                                                                                                                                                                                                                                                                                                                                                                                                                                                                                                                                                                                                                                                                                                                                                      A     railway    is a line of communication between two or more geographic locations consisting, usually, of one or more     railway lines    constructed from two parallel steel rails that is for the exclusive use of railway vehicles.     \n",
       "2    An     accident at work    in the framework of the administrative data collection on European Statistics on Accidents at Work (ESAW) is a discrete occurrence during the course of work which leads to physical or mental harm. The phrase âin the course of workâ means whilst engaged in an occupational activity or during the time spent at work. This includes cases of road traffic accidents in the course of work but excludes accidents during the journey between home and the workplace.    The definition of accident at work in the module 'Accidents at work and other work-related health problems' of the EU Labour Force Survey (EU-LFS) is in principle the same as in ESAW with the exception that accidents with mental harm are excluded because they are difficult to distinguish from relevant 'work-related health problems'.    The following types of accidents are covered or not, respectively, by the above definition.    Cases included:      Cases of acute poisoning;       Wilful acts of other persons;       Accidents that occurred        on the premises of an employer other than that which employs the victim       ; this might include accidents during attendance at meetings or in the course of providing services on the premises of another employer visited for that purpose, during the course of the victimâs work;       Accidents that occur during meetings or other visits to locations outside the premises of the employer in which the employee is normally based; accidents during regular breaks, including lunch, in places organised by the employer; accidents during the delivery of goods to customersâ premises (company, public administration or private individual) or while carrying out other services such as repairs, maintenance, errands, etc. on clientsâ premises; more permanent secondments to another employer, or during activities at home which are in the course of work; accidents caused by other work activities not related to the victimâs work activities, etc;       accidents in public places or public means of transport during a journey in the course of work;       Road traffic accidents in the course of work (public roads, car parks or private roads within the premises of the enterprise). Road accidents may involve persons whose occupational activity is exerted mainly on public roads, e.g., lorry or coach drivers, as well as occupational activities which frequently or occasionally imply journeys on public roads. Such occupational activities include, e.g., repairs, commercial activities or other service activities carried out on the premises of a customer. This category includes car accidents involving employees who occasionally drive from their office to an external meeting in the course of their work, or to places where the employer organised activities during regular breaks, including lunch;       Accidents on board any means of transport used in the course of work (underground railway, tram, train, boat, aircraft, etc.);       Other accidents (slips, falls, assaults, etc.) in a public place (pavement, staircases, etc.) or in the arrival and departure areas (station, port, airport, etc.) for any mean of transport during a journey in the course of work.      Cases excluded:      Commuting accidents: accidents that occur during the normal journey to or from home and place of work, i.e. road accidents that occur during the journey between the workerâs principal or secondary residence and the workplace, or while picking up children from school; accidents between home and a location attended for work-related training or between the workplace and a restaurant at which an employee habitually has lunch are excluded unless the restaurant is on company (5) premises;       Deliberate self-inflicted injuries;       Accidents from strictly natural causes: accidents caused solely by a medical condition, e.g. cardiac or cerebral incidents, or any other sudden-onset medical condition that occurred during work, without any obvious link to the occupational activity of the victim; nevertheless, such cases should be excluded only if other work-related causal elements are ruled out. For example, if a bricklayer felt faint (medical cause) and fell from scaffolding (work-related causal element), the accidental injury must be included in the ESAW methodology. Though the fall might not have occurred had he not felt faint, the injury he incurred was aggravated by the fact that he fell from scaffolding high above ground level in the course of his normal work;       Accidents, purely private: accidents in which the victims are not at their workplace, carrying out activities which are not work-related, for example, visiting a shop, a town hall, bank, station, hospital, post office, port, airport, etc.;       Accidents to members of the public, even if such an accident is due to a work activity within a company; this includes the family members of an employee or employer if they are on the premises of the company and become victims of an accident, i.e. children in, for example, the nursery in the company; Such accidents should not be counted as accidents at work although responsible employers would ensure that such incidents would normally be factored into insurance cover.      \n",
       "3                                                                                                                                                                                                                                                                                                                                                                                                                                                                                                                                                                                                                                                                                                                                                                                                                                                                                                                                                                                                                                                                                                                                                                                                                                                                                                                                                                                                                                                                                                                                                                                                                                                                                                                                                                                                                                                                                                                                                                                                                                                                                                                                                                                                                                                                                                                                                                                                                                                                                                                                                                                                                                                                                                                                                                                                                                                                                                                                                                                                                                                                                                                                                                                                                                                                                                                                                                                                                                                                                                                                                                                                                                                                                                                                                                                                                                                                                                                                                                                                                                                                                                                                                                                                                                                                                                                                                                                                                                                                                                                                                                                                                                                                                                                                                                                                                                                                                                                                                                                                                                                                                                                                                                                                                                                                                                                      A     fatal accident at work    refers to an     accident at work    which leads to the death of a victim within one year of the accident.     \n",
       "4                                                                                                                                                                                                                                                                                                                                                                                                                                                                                                                                                                                                                                                                                                                                                                                                                                                                                                                                                                                                                                                                                                                                                                                                                                                                                                                                                                                                                                                                                                                                                                                                                                                                                                                                                                                                                                                                                                                                                                                                                                                                                                                                                                                                                                                                                                                                                                                                                                                                                                                                                                                                                                                                                                                                                                                                                                                                                                                                                                                                                                                                                                                                                                                                                                                                                                                                                                                                                                                                                                                                                                                                                                                                                                                                                                                                                                                                                                                                                                                                                                                                                                                                                                                                                                                                                                                                                                                      A     non-fatal      accident at work     is an accident which a victim survives and may result in one or more days of absence from work. A serious non-fatal accident at work is an accident at work resulting in more than three days' of absence from work. The Labour Force Survey modules on accidents at work and other work-related health problems report data on all non-fatal accidents (including the possibility to exclude those accidents with less than four days of absence). The administrative data collection on 'European Statistics on Accidents at Work (ESAW)' reports only data on accidents with four days or more of absence as well as fatal accidents at work.    Only full calendar days of absence from work have to be considered, excluding the day of the accident. Consequently, âmore than three calendar daysâ means âat least four calendar daysâ, which implies that only if the victim resumes work on the fifth (or subsequent) working day after the date on which the accident occurred should the incident be included.     \n",
       "\n",
       "                                                                                                                                    url  \\\n",
       "0  [https://ec.europa.eu/eurostat/statistics-explained/index.php?title=Glossary:Accidents_to_persons_caused_by_rolling_stock_in_motion]   \n",
       "1                                                 [https://ec.europa.eu/eurostat/statistics-explained/index.php?title=Glossary:Railway]   \n",
       "2                                        [https://ec.europa.eu/eurostat/statistics-explained/index.php?title=Glossary:Accident_at_work]   \n",
       "3                                  [https://ec.europa.eu/eurostat/statistics-explained/index.php?title=Glossary:Fatal_accident_at_work]   \n",
       "4                              [https://ec.europa.eu/eurostat/statistics-explained/index.php?title=Glossary:Non-fatal_accident_at_work]   \n",
       "\n",
       "          last_update  \n",
       "0 2021-02-03 15:06:00  \n",
       "1 2013-02-28 10:16:00  \n",
       "2 2021-03-10 11:13:00  \n",
       "3 2019-03-06 12:08:00  \n",
       "4 2018-09-12 15:42:00  "
      ]
     },
     "execution_count": 160,
     "metadata": {},
     "output_type": "execute_result"
    }
   ],
   "source": [
    "## drop records with any field empty\n",
    "GL_df = GL_df.dropna(axis=0,how='any')\n",
    "print(GL_df.isnull().sum())\n",
    "GL_df.reset_index(inplace=True)\n",
    "\n",
    "## MORE CASES CAUGHT + CORRECTIONS!\n",
    "def clean(x, quotes=True):\n",
    "    if pd.isnull(x): return x  \n",
    "    x = x.strip()\n",
    "    \n",
    "    ## make letter-question mark-letter -> letter-quote-space-letter !!! but NOT in the lists of URLs!!!\n",
    "    if quotes:\n",
    "        x = re.sub(r'([A-Za-z])\\?([A-Za-z])','\\\\1\\' \\\\2',x) ## NEW\n",
    "    \n",
    "    ## make letter-question mark-space lower case letter letter-quote-space letter\n",
    "    x = re.sub(r'([A-Za-z])\\? ([a-z])','\\\\1\\' \\\\2',x) ## NEW\n",
    "\n",
    "    ## delete ,000 commas in numbers    \n",
    "    x = re.sub(r'\\b(\\d+),(\\d+)\\b','\\\\1\\\\2',x) ## CORRECTED\n",
    "    \n",
    "    ## delete  000 spaces in numbers\n",
    "    x = re.sub(r'\\b(\\d+) (\\d+)\\b','\\\\1\\\\2',x) ## CORRECTED\n",
    "    \n",
    "    ## remove more than one spaces\n",
    "    x = re.sub(r' +', ' ',x)\n",
    "    \n",
    "    ## remove start and end spaces\n",
    "    x = re.sub(r'^ +| +$', '',x,flags=re.MULTILINE) \n",
    "    \n",
    "    ## space-comma -> comma\n",
    "    x = re.sub(r' \\,',',',x)\n",
    "    \n",
    "    ## space-dot -> dot\n",
    "    x = re.sub(r' \\.','.',x)\n",
    "    \n",
    "    x = x.encode('latin1').decode('utf-8') ## â\\x80\\x99\n",
    "#This solution from here works well for me:\n",
    "\n",
    "#soup = BeautifulSoup(r.content.decode('utf-8'),\"lxml\")\n",
    "#If this doesn't work, adding .encode('latin1').decode('utf-8') after the .get_text() or .text also solves the issue.    \n",
    "      \n",
    "    return x\n",
    "\n",
    "\n",
    "GL_df['title'] = GL_df['title'].apply(clean)\n",
    "GL_df['definition'] = GL_df['definition'].apply(clean)\n",
    "GL_df['url'] = GL_df['url'].apply(clean,quotes=False)\n",
    "GL_df['url'] = GL_df['url'].apply(lambda x: [x])\n",
    "\n",
    "GL_df.head()"
   ]
  },
  {
   "cell_type": "markdown",
   "metadata": {},
   "source": [
    "### Delete \"special\" records"
   ]
  },
  {
   "cell_type": "code",
   "execution_count": 161,
   "metadata": {},
   "outputs": [
    {
     "name": "stdout",
     "output_type": "stream",
     "text": [
      "Int64Index([ 170,  247,  280,  334,  382,  408,  411,  412,  413,  414,  490,\n",
      "             514,  517,  578,  669,  705,  720,  754,  801,  861,  882,  930,\n",
      "             931,  940,  977,  978, 1108, 1122, 1168, 1222],\n",
      "           dtype='int64')\n",
      "Int64Index([], dtype='int64')\n"
     ]
    }
   ],
   "source": [
    "## Drop The records with definitions \"The revision ...\" and \"Redirect to ...\" \n",
    "\n",
    "idx = GL_df[GL_df['definition'].str.startswith('The revision #')].index\n",
    "print(idx)\n",
    "GL_df.drop(idx , inplace=True)\n",
    "idx = GL_df[GL_df['definition'].str.startswith('Redirect to')].index\n",
    "print(idx)\n",
    "GL_df.drop(idx , inplace=True)\n",
    "GL_df.reset_index(inplace=True)"
   ]
  },
  {
   "cell_type": "markdown",
   "metadata": {},
   "source": [
    "### check for duplicate titles AND definitions"
   ]
  },
  {
   "cell_type": "code",
   "execution_count": 162,
   "metadata": {},
   "outputs": [
    {
     "data": {
      "text/plain": [
       "Int64Index([1212, 1215], dtype='int64')"
      ]
     },
     "execution_count": 162,
     "metadata": {},
     "output_type": "execute_result"
    }
   ],
   "source": [
    "idx = GL_df[GL_df.duplicated(subset=['title','definition'], keep=False)].sort_values(by=['title','definition']).index\n",
    "idx\n"
   ]
  },
  {
   "cell_type": "markdown",
   "metadata": {},
   "source": [
    "### Also produce processed file for debugging"
   ]
  },
  {
   "cell_type": "code",
   "execution_count": 163,
   "metadata": {},
   "outputs": [],
   "source": [
    "## !!! below only for debugging\n",
    "def file_name(pre,ext):\n",
    "    current_time = datetime.now() \n",
    "    return pre + '_'+ str(current_time.month)+ '_' + str(current_time.day) + \\\n",
    "                 '_' + str(current_time.hour)+ '_' + str(current_time.minute)  +'.'+ext\n",
    "    \n",
    "outfile = file_name('D3_2_Glossary','xlsx')\n",
    "GL_df.to_excel(outfile)\n"
   ]
  },
  {
   "cell_type": "code",
   "execution_count": 164,
   "metadata": {},
   "outputs": [],
   "source": [
    "%%script false --no-raise-error\n",
    "import ast\n",
    "\n",
    "GL_df = pd.read_excel('D3_2_Glossary_6_8_23_9.xlsx',index_col=0)\n",
    "GL_df['url'] = GL_df['url'].apply(lambda x: ast.literal_eval(x))\n",
    "##GL_df"
   ]
  },
  {
   "cell_type": "markdown",
   "metadata": {},
   "source": [
    "### Tokenize, remove stop-words and stem; keep also the original terms"
   ]
  },
  {
   "cell_type": "code",
   "execution_count": 165,
   "metadata": {},
   "outputs": [],
   "source": [
    "\n",
    "from gensim.parsing.preprocessing import remove_stopwords\n",
    "from gensim.parsing.preprocessing import stem_text\n",
    "from gensim.parsing.porter import PorterStemmer\n",
    "\n",
    "p = PorterStemmer()\n",
    "\n",
    "def text_to_words(text,url):\n",
    "    words = str(gensim.utils.simple_preprocess(text, deacc=True))\n",
    "    words = remove_stopwords(words) \n",
    "    words = gensim.utils.tokenize(words)\n",
    "        \n",
    "    ## keep also original token!!! \n",
    "    words = [[p.stem(token),token,url] for token in words if len(p.stem(token)) >= 5] ##minimum length = 5 \n",
    "    yield words        \n",
    "\n",
    "texts=list()   \n",
    "\n",
    "for i in range(len(GL_df)):\n",
    "    texts.extend(text_to_words(GL_df.loc[i,'definition'],GL_df.loc[i,'url']))\n",
    "    texts.extend(text_to_words(GL_df.loc[i,'title'],GL_df.loc[i,'url'])) "
   ]
  },
  {
   "cell_type": "code",
   "execution_count": 166,
   "metadata": {},
   "outputs": [],
   "source": [
    "#texts[0]"
   ]
  },
  {
   "cell_type": "markdown",
   "metadata": {},
   "source": [
    "### Co-occurences: keys in n-grams are (n-1) tuples of stemmed tokens \n",
    "\n",
    "* Three dictionaries, for 2-,3-,and 4-grams\n",
    "* For each key in a dictionary, the value is another (nested) dictionary with the **original terms**, their counts and the relevant URLs.\n",
    "* Below all three dictionaries are constructed from the sequences of 4-grams.\n"
   ]
  },
  {
   "cell_type": "code",
   "execution_count": 167,
   "metadata": {},
   "outputs": [],
   "source": [
    "##%%script false --no-raise-error\n",
    "## Check also COLLOCATIONS: http://www.nltk.org/howto/collocations.html and http://www.nltk.org/api/nltk.html?highlight=ngram\n",
    "\n",
    "\n",
    "from nltk import bigrams, trigrams, ngrams\n",
    "#from collections import Counter, defaultdict\n",
    "\n",
    "\n",
    "model2=dict()\n",
    "model3=dict()\n",
    "model4=dict()\n",
    "\n",
    "def dict_insert(model,entered,proposed,new_urls_to_check):\n",
    "    key_1 = model.get(entered)\n",
    "    if key_1:\n",
    "        key_2 = key_1.get(proposed)\n",
    "        if key_2:\n",
    "            key_2[0] +=1\n",
    "            existing_urls = key_2[1]\n",
    "            add_urls = [u for u in new_urls_to_check if u not in existing_urls]\n",
    "            key_2.extend(add_urls)\n",
    "        else:    \n",
    "            key_1[proposed]= [1,new_urls_to_check]\n",
    "    else:\n",
    "        model[entered]={proposed:[1,new_urls_to_check]}\n",
    "    return model            \n",
    "\n",
    "\n",
    "# Co-occurences\n",
    "\n",
    "for sentence in texts:\n",
    "    pairs = [elem for elem in sentence] ## a list of 3-tuples (stemmed term, original term, list of URLs)\n",
    "    if len(pairs) == 0: continue\n",
    "    \n",
    "    for first, second, third, fourth in ngrams(pairs,4): ## quadruplets of 3-tuples (stemmed term, original term, list of URLs)\n",
    "        first_stem, first_orig, first_url = first\n",
    "        second_stem, second_orig, second_url = second\n",
    "        third_stem, third_orig, third_url = third\n",
    "        fourth_stem, fourth_orig, fourth_url = fourth\n",
    "       \n",
    "        model2 = dict_insert(model2, first_stem, second_orig,list(set(first_url).intersection(second_url)))\n",
    "        model2 = dict_insert(model2, second_stem, third_orig,list(set(second_url).intersection(third_url)))\n",
    "        model2 = dict_insert(model2, third_stem, fourth_orig,list(set(third_url).intersection(fourth_url)))\n",
    "        \n",
    "        model3 = dict_insert(model3,(first_stem,second_stem),third_orig,list(set(first_url).intersection(*[second_url,third_url])))\n",
    "        model3 = dict_insert(model3,(second_stem,third_stem),fourth_orig,list(set(second_url).intersection(*[third_url,fourth_url])))\n",
    "        \n",
    "        model4 = dict_insert(model4,(first_stem, second_stem, third_stem),fourth_orig,fourth_url)\n",
    "   \n",
    "        \n",
    "## Transform counts to probabilities\n",
    "\n",
    "for w1 in model2.keys():\n",
    "    ssum = sum(model2[w1][w2][0] for w2 in model2[w1].keys())\n",
    "    for w2 in model2[w1].keys():\n",
    "        model2[w1][w2][0] /= ssum\n",
    "\n",
    "for w1_w2 in model3.keys():\n",
    "    ssum = sum(model3[w1_w2][w3][0] for w3 in model3[w1_w2].keys())\n",
    "    for w3 in model3[w1_w2].keys():\n",
    "        model3[w1_w2][w3][0] /= ssum\n",
    "\n",
    "for w1_w2_w3 in model4.keys():\n",
    "    ssum = sum(model4[w1_w2_w3][w4][0] for w4 in model4[w1_w2_w3].keys())\n",
    "    for w4 in model4[w1_w2_w3].keys():\n",
    "        model4[w1_w2_w3][w4][0] /= ssum\n"
   ]
  },
  {
   "cell_type": "markdown",
   "metadata": {},
   "source": [
    "### Query Builder 1\n",
    "***"
   ]
  },
  {
   "cell_type": "code",
   "execution_count": 168,
   "metadata": {},
   "outputs": [],
   "source": [
    "import ipywidgets as widgets\n",
    "layout = widgets.Layout(width='600px', height='30px')"
   ]
  },
  {
   "cell_type": "code",
   "execution_count": 169,
   "metadata": {
    "scrolled": true
   },
   "outputs": [
    {
     "data": {
      "application/vnd.jupyter.widget-view+json": {
       "model_id": "8f9d6ec0364f46a7860db835e13b610c",
       "version_major": 2,
       "version_minor": 0
      },
      "text/plain": [
       "HBox(children=(Text(value='household', description='Keywords:', placeholder='Type something'),))"
      ]
     },
     "metadata": {},
     "output_type": "display_data"
    },
    {
     "data": {
      "application/vnd.jupyter.widget-view+json": {
       "model_id": "5139df7243414fae87e99d84b1fb746f",
       "version_major": 2,
       "version_minor": 0
      },
      "text/plain": [
       "Output()"
      ]
     },
     "metadata": {},
     "output_type": "display_data"
    }
   ],
   "source": [
    "\n",
    "def change_top_articles( Keywords):\n",
    "\n",
    "    from operator import itemgetter\n",
    "    p = PorterStemmer()\n",
    "    \n",
    "    last_match = ''\n",
    "    \n",
    "    #if not Keywords.endswith(' '):\n",
    "    #    return None\n",
    "    \n",
    "    def test_and_back_step(x):\n",
    "        mod_index = -1\n",
    "        models = [model2,model3,model4]\n",
    "        if len(x)==1: \n",
    "            x=x[0] ; model=models[0]\n",
    "        elif len(x) ==2 or len(x) == 3:\n",
    "            x=tuple(x) ; mod_index=len(x)-1; model=models[mod_index]\n",
    "        elif len(x)==4:\n",
    "            x=tuple(x[:3]) ; model=models[2]\n",
    "        else:\n",
    "            return None\n",
    "        while not models[mod_index].get(x) and mod_index >=0:\n",
    "            x=x[:-1]\n",
    "            if len(x)==1 : x=x[0]\n",
    "            mod_index -=1 ; model=models[mod_index] \n",
    "        return (model,x)    \n",
    "            \n",
    "\n",
    "    x = Keywords.split() \n",
    "    if len(x) ==0: \n",
    "        print()\n",
    "        return\n",
    "    x = [p.stem(el) for el in x]\n",
    "    \n",
    "    \n",
    "    model,x = test_and_back_step(x)\n",
    "    if not model.get(x):\n",
    "        return None\n",
    "    \n",
    "\n",
    "    print()\n",
    "    print('Based on last match: ',x,'\\n')\n",
    "    print('Suggestions, probabilities (in descending order) and relevant URLs: ')\n",
    "    proposals = sorted([(k,v) for (k,v) in model[x].items()],key=itemgetter(1),reverse=True)\n",
    "    last_match = x\n",
    "    for key, value in proposals:\n",
    "        print()\n",
    "        print(key,': ',value[0])\n",
    "        for url in value[1]:\n",
    "            print(url)\n",
    "   \n",
    "    \n",
    "def query_build1(value):\n",
    "  style = {'description_width': 'initial'}\n",
    "    \n",
    "  Keywords = widgets.Text(\n",
    "      value=value,\n",
    "      placeholder='Type something',\n",
    "      description='Keywords:',\n",
    "      disabled=False\n",
    "  )\n",
    "\n",
    "  ui = widgets.HBox([Keywords])\n",
    "  out = widgets.interactive_output(change_top_articles, {'Keywords': Keywords})\n",
    "  display(ui, out)\n",
    "    \n",
    "query_build1(value='household')  "
   ]
  }
 ],
 "metadata": {
  "kernelspec": {
   "display_name": "Python 3",
   "language": "python",
   "name": "python3"
  },
  "language_info": {
   "codemirror_mode": {
    "name": "ipython",
    "version": 3
   },
   "file_extension": ".py",
   "mimetype": "text/x-python",
   "name": "python",
   "nbconvert_exporter": "python",
   "pygments_lexer": "ipython3",
   "version": "3.8.5"
  }
 },
 "nbformat": 4,
 "nbformat_minor": 4
}
