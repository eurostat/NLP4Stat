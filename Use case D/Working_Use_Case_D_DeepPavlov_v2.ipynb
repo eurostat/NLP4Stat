{
  "cells": [
    {
      "cell_type": "markdown",
      "metadata": {
        "id": "Jzdvv55ATzn4"
      },
      "source": [
        "#Use Case D - DeepPavlov (using BERT) \n",
        "\n",
        "### Revised (June 2022) to read all data with SPARQL queries from the Knowledge Database. Also added the terms and definitions from [Eurostat's Concepts and Definitions Database](https://ec.europa.eu/eurostat/ramon/nomenclatures/index.cfm?TargetUrl=LST_NOM_DTL_GLOSSARY&StrNom=CODED2&StrLanguageCode=EN) in the fine-tuning stage."
      ]
    },
    {
      "cell_type": "markdown",
      "metadata": {
        "id": "iLsfei7Mf1UI"
      },
      "source": [
        "\n",
        "\n",
        "* This is a Google Colab notebook. You must have a Google account with a Google Drive to store/ load the model. Upload it from its location in GitHub and allow the code to access your Google Drive.\n",
        "* Please put your credentials in the cell \"Connect to the Virtuoso database\".\n",
        "* Please run the first cell under \"Installations\" first. This will install the latest releases of DeepPavlov and a compatible version of numpy and it may ask you to restart the runtime.\n",
        "* Fine-tuning can be skipped if already run once. Go to cell \"Loading the fine-tuned model\", load the saved model and continue.\n",
        "* See instructions in cell \"Configurations\" to change the bi-encoder model, to select if you want to see intermediate results when interacting with chatbot, or to change the inputs - full set of proposals (datasets or SE Glossary articles)."
      ]
    },
    {
      "cell_type": "markdown",
      "metadata": {
        "id": "8x3L89oqxVO_"
      },
      "source": [
        "### Installations"
      ]
    },
    {
      "cell_type": "code",
      "execution_count": 1,
      "metadata": {
        "colab": {
          "base_uri": "https://localhost:8080/"
        },
        "id": "YrvChXdietjA",
        "outputId": "76a5889b-5e8e-48b7-f078-cef30febe0c4"
      },
      "outputs": [
        {
          "output_type": "stream",
          "name": "stdout",
          "text": [
            "Looking in indexes: https://pypi.org/simple, https://us-python.pkg.dev/colab-wheels/public/simple/\n",
            "Requirement already satisfied: numpy==1.21 in /usr/local/lib/python3.7/dist-packages (1.21.0)\n",
            "Looking in indexes: https://pypi.org/simple, https://us-python.pkg.dev/colab-wheels/public/simple/\n",
            "Requirement already satisfied: deeppavlov==1.0.0rc0 in /usr/local/lib/python3.7/dist-packages (1.0.0rc0)\n",
            "Requirement already satisfied: pymorphy2<=0.9.1 in /usr/local/lib/python3.7/dist-packages (from deeppavlov==1.0.0rc0) (0.9.1)\n",
            "Requirement already satisfied: pymorphy2-dicts-ru in /usr/local/lib/python3.7/dist-packages (from deeppavlov==1.0.0rc0) (2.4.417127.4579844)\n",
            "Requirement already satisfied: sacremoses<=0.0.47 in /usr/local/lib/python3.7/dist-packages (from deeppavlov==1.0.0rc0) (0.0.47)\n",
            "Requirement already satisfied: scipy<=1.7.3 in /usr/local/lib/python3.7/dist-packages (from deeppavlov==1.0.0rc0) (1.4.1)\n",
            "Requirement already satisfied: overrides<=4.1.2 in /usr/local/lib/python3.7/dist-packages (from deeppavlov==1.0.0rc0) (4.1.2)\n",
            "Requirement already satisfied: scikit-learn<=1.0.2,>=0.24 in /usr/local/lib/python3.7/dist-packages (from deeppavlov==1.0.0rc0) (1.0.2)\n",
            "Requirement already satisfied: Cython<=0.29.27,>=0.25.2 in /usr/local/lib/python3.7/dist-packages (from deeppavlov==1.0.0rc0) (0.29.27)\n",
            "Requirement already satisfied: filelock<=3.4.2,>=3.0.6 in /usr/local/lib/python3.7/dist-packages (from deeppavlov==1.0.0rc0) (3.4.2)\n",
            "Requirement already satisfied: click<=8.0.3 in /usr/local/lib/python3.7/dist-packages (from deeppavlov==1.0.0rc0) (7.1.2)\n",
            "Requirement already satisfied: requests<=2.27.1 in /usr/local/lib/python3.7/dist-packages (from deeppavlov==1.0.0rc0) (2.23.0)\n",
            "Requirement already satisfied: pandas<=1.4.0 in /usr/local/lib/python3.7/dist-packages (from deeppavlov==1.0.0rc0) (1.1.0)\n",
            "Requirement already satisfied: ruamel.yaml<=0.17.20 in /usr/local/lib/python3.7/dist-packages (from deeppavlov==1.0.0rc0) (0.17.20)\n",
            "Requirement already satisfied: uvicorn<=0.17.4 in /usr/local/lib/python3.7/dist-packages (from deeppavlov==1.0.0rc0) (0.17.4)\n",
            "Requirement already satisfied: aio-pika<=6.8.2,>=3.2.2 in /usr/local/lib/python3.7/dist-packages (from deeppavlov==1.0.0rc0) (6.8.2)\n",
            "Requirement already satisfied: prometheus-client<=0.13.1 in /usr/local/lib/python3.7/dist-packages (from deeppavlov==1.0.0rc0) (0.13.1)\n",
            "Requirement already satisfied: h5py<=3.6.0,>=2.6.0 in /usr/local/lib/python3.7/dist-packages (from deeppavlov==1.0.0rc0) (3.1.0)\n",
            "Requirement already satisfied: pyopenssl<=22.0.0 in /usr/local/lib/python3.7/dist-packages (from deeppavlov==1.0.0rc0) (22.0.0)\n",
            "Requirement already satisfied: fastapi<=0.73.0 in /usr/local/lib/python3.7/dist-packages (from deeppavlov==1.0.0rc0) (0.73.0)\n",
            "Requirement already satisfied: tqdm<=4.62.3 in /usr/local/lib/python3.7/dist-packages (from deeppavlov==1.0.0rc0) (4.62.3)\n",
            "Requirement already satisfied: rusenttokenize<=0.0.5 in /usr/local/lib/python3.7/dist-packages (from deeppavlov==1.0.0rc0) (0.0.5)\n",
            "Requirement already satisfied: pytz<=2021.3 in /usr/local/lib/python3.7/dist-packages (from deeppavlov==1.0.0rc0) (2021.3)\n",
            "Requirement already satisfied: numpy<=1.22.2 in /usr/local/lib/python3.7/dist-packages (from deeppavlov==1.0.0rc0) (1.21.0)\n",
            "Requirement already satisfied: pydantic<=1.9.0 in /usr/local/lib/python3.7/dist-packages (from deeppavlov==1.0.0rc0) (1.9.0)\n",
            "Requirement already satisfied: nltk<=3.6.7,>=3.2.5 in /usr/local/lib/python3.7/dist-packages (from deeppavlov==1.0.0rc0) (3.2.5)\n",
            "Requirement already satisfied: pytelegrambotapi<=4.4.0 in /usr/local/lib/python3.7/dist-packages (from deeppavlov==1.0.0rc0) (4.4.0)\n",
            "Requirement already satisfied: aiormq<4,>=3.2.3 in /usr/local/lib/python3.7/dist-packages (from aio-pika<=6.8.2,>=3.2.2->deeppavlov==1.0.0rc0) (3.3.1)\n",
            "Requirement already satisfied: yarl in /usr/local/lib/python3.7/dist-packages (from aio-pika<=6.8.2,>=3.2.2->deeppavlov==1.0.0rc0) (1.7.2)\n",
            "Requirement already satisfied: pamqp==2.3.0 in /usr/local/lib/python3.7/dist-packages (from aiormq<4,>=3.2.3->aio-pika<=6.8.2,>=3.2.2->deeppavlov==1.0.0rc0) (2.3.0)\n",
            "Requirement already satisfied: starlette==0.17.1 in /usr/local/lib/python3.7/dist-packages (from fastapi<=0.73.0->deeppavlov==1.0.0rc0) (0.17.1)\n",
            "Requirement already satisfied: typing-extensions in /usr/local/lib/python3.7/dist-packages (from starlette==0.17.1->fastapi<=0.73.0->deeppavlov==1.0.0rc0) (4.2.0)\n",
            "Requirement already satisfied: anyio<4,>=3.0.0 in /usr/local/lib/python3.7/dist-packages (from starlette==0.17.1->fastapi<=0.73.0->deeppavlov==1.0.0rc0) (3.6.1)\n",
            "Requirement already satisfied: idna>=2.8 in /usr/local/lib/python3.7/dist-packages (from anyio<4,>=3.0.0->starlette==0.17.1->fastapi<=0.73.0->deeppavlov==1.0.0rc0) (2.10)\n",
            "Requirement already satisfied: sniffio>=1.1 in /usr/local/lib/python3.7/dist-packages (from anyio<4,>=3.0.0->starlette==0.17.1->fastapi<=0.73.0->deeppavlov==1.0.0rc0) (1.2.0)\n",
            "Requirement already satisfied: cached-property in /usr/local/lib/python3.7/dist-packages (from h5py<=3.6.0,>=2.6.0->deeppavlov==1.0.0rc0) (1.5.2)\n",
            "Requirement already satisfied: six in /usr/local/lib/python3.7/dist-packages (from nltk<=3.6.7,>=3.2.5->deeppavlov==1.0.0rc0) (1.15.0)\n",
            "Requirement already satisfied: typing-utils>=0.0.3 in /usr/local/lib/python3.7/dist-packages (from overrides<=4.1.2->deeppavlov==1.0.0rc0) (0.1.0)\n",
            "Requirement already satisfied: python-dateutil>=2.7.3 in /usr/local/lib/python3.7/dist-packages (from pandas<=1.4.0->deeppavlov==1.0.0rc0) (2.8.2)\n",
            "Requirement already satisfied: docopt>=0.6 in /usr/local/lib/python3.7/dist-packages (from pymorphy2<=0.9.1->deeppavlov==1.0.0rc0) (0.6.2)\n",
            "Requirement already satisfied: dawg-python>=0.7.1 in /usr/local/lib/python3.7/dist-packages (from pymorphy2<=0.9.1->deeppavlov==1.0.0rc0) (0.7.2)\n",
            "Requirement already satisfied: cryptography>=35.0 in /usr/local/lib/python3.7/dist-packages (from pyopenssl<=22.0.0->deeppavlov==1.0.0rc0) (37.0.2)\n",
            "Requirement already satisfied: cffi>=1.12 in /usr/local/lib/python3.7/dist-packages (from cryptography>=35.0->pyopenssl<=22.0.0->deeppavlov==1.0.0rc0) (1.15.0)\n",
            "Requirement already satisfied: pycparser in /usr/local/lib/python3.7/dist-packages (from cffi>=1.12->cryptography>=35.0->pyopenssl<=22.0.0->deeppavlov==1.0.0rc0) (2.21)\n",
            "Requirement already satisfied: certifi>=2017.4.17 in /usr/local/lib/python3.7/dist-packages (from requests<=2.27.1->deeppavlov==1.0.0rc0) (2022.5.18.1)\n",
            "Requirement already satisfied: urllib3!=1.25.0,!=1.25.1,<1.26,>=1.21.1 in /usr/local/lib/python3.7/dist-packages (from requests<=2.27.1->deeppavlov==1.0.0rc0) (1.24.3)\n",
            "Requirement already satisfied: chardet<4,>=3.0.2 in /usr/local/lib/python3.7/dist-packages (from requests<=2.27.1->deeppavlov==1.0.0rc0) (3.0.4)\n",
            "Requirement already satisfied: ruamel.yaml.clib>=0.2.6 in /usr/local/lib/python3.7/dist-packages (from ruamel.yaml<=0.17.20->deeppavlov==1.0.0rc0) (0.2.6)\n",
            "Requirement already satisfied: regex in /usr/local/lib/python3.7/dist-packages (from sacremoses<=0.0.47->deeppavlov==1.0.0rc0) (2019.12.20)\n",
            "Requirement already satisfied: joblib in /usr/local/lib/python3.7/dist-packages (from sacremoses<=0.0.47->deeppavlov==1.0.0rc0) (1.1.0)\n",
            "Requirement already satisfied: threadpoolctl>=2.0.0 in /usr/local/lib/python3.7/dist-packages (from scikit-learn<=1.0.2,>=0.24->deeppavlov==1.0.0rc0) (3.1.0)\n",
            "Requirement already satisfied: asgiref>=3.4.0 in /usr/local/lib/python3.7/dist-packages (from uvicorn<=0.17.4->deeppavlov==1.0.0rc0) (3.5.2)\n",
            "Requirement already satisfied: h11>=0.8 in /usr/local/lib/python3.7/dist-packages (from uvicorn<=0.17.4->deeppavlov==1.0.0rc0) (0.13.0)\n",
            "Requirement already satisfied: multidict>=4.0 in /usr/local/lib/python3.7/dist-packages (from yarl->aio-pika<=6.8.2,>=3.2.2->deeppavlov==1.0.0rc0) (6.0.2)\n"
          ]
        }
      ],
      "source": [
        "!pip install numpy==1.21 ## specific for this version\n",
        "!pip install deeppavlov==1.0.0rc0 ## specific for this version o/w downgrades pandas"
      ]
    },
    {
      "cell_type": "code",
      "source": [
        "!pip install pandas==1.1"
      ],
      "metadata": {
        "colab": {
          "base_uri": "https://localhost:8080/"
        },
        "id": "I7QL65CZH4JU",
        "outputId": "c6c57d6f-a39c-427e-b224-42265bef9996"
      },
      "execution_count": 2,
      "outputs": [
        {
          "output_type": "stream",
          "name": "stdout",
          "text": [
            "Looking in indexes: https://pypi.org/simple, https://us-python.pkg.dev/colab-wheels/public/simple/\n",
            "Requirement already satisfied: pandas==1.1 in /usr/local/lib/python3.7/dist-packages (1.1.0)\n",
            "Requirement already satisfied: numpy>=1.15.4 in /usr/local/lib/python3.7/dist-packages (from pandas==1.1) (1.21.0)\n",
            "Requirement already satisfied: python-dateutil>=2.7.3 in /usr/local/lib/python3.7/dist-packages (from pandas==1.1) (2.8.2)\n",
            "Requirement already satisfied: pytz>=2017.2 in /usr/local/lib/python3.7/dist-packages (from pandas==1.1) (2021.3)\n",
            "Requirement already satisfied: six>=1.5 in /usr/local/lib/python3.7/dist-packages (from python-dateutil>=2.7.3->pandas==1.1) (1.15.0)\n"
          ]
        }
      ]
    },
    {
      "cell_type": "code",
      "execution_count": 3,
      "metadata": {
        "colab": {
          "base_uri": "https://localhost:8080/"
        },
        "id": "kwqbKplQEbDg",
        "outputId": "9651a5d0-cbe3-4c55-834f-b2aeb63c1b7c"
      },
      "outputs": [
        {
          "output_type": "stream",
          "name": "stdout",
          "text": [
            "Reading package lists... Done\n",
            "Building dependency tree       \n",
            "Reading state information... Done\n",
            "virtuoso-opensource is already the newest version (6.1.6+repack-0ubuntu9).\n",
            "The following package was automatically installed and is no longer required:\n",
            "  libnvidia-common-460\n",
            "Use 'apt autoremove' to remove it.\n",
            "0 upgraded, 0 newly installed, 0 to remove and 45 not upgraded.\n"
          ]
        }
      ],
      "source": [
        "!apt-get install virtuoso-opensource"
      ]
    },
    {
      "cell_type": "code",
      "execution_count": 4,
      "metadata": {
        "colab": {
          "base_uri": "https://localhost:8080/"
        },
        "id": "3yvRgZLRD24B",
        "outputId": "1846d566-0a0e-4411-82ef-6b6dd7511a16"
      },
      "outputs": [
        {
          "output_type": "stream",
          "name": "stdout",
          "text": [
            "Looking in indexes: https://pypi.org/simple, https://us-python.pkg.dev/colab-wheels/public/simple/\n",
            "Requirement already satisfied: pyodbc in /usr/local/lib/python3.7/dist-packages (4.0.32)\n",
            "Looking in indexes: https://pypi.org/simple, https://us-python.pkg.dev/colab-wheels/public/simple/\n",
            "Requirement already satisfied: SPARQLWrapper in /usr/local/lib/python3.7/dist-packages (2.0.0)\n",
            "Requirement already satisfied: rdflib>=6.1.1 in /usr/local/lib/python3.7/dist-packages (from SPARQLWrapper) (6.1.1)\n",
            "Requirement already satisfied: pyparsing in /usr/local/lib/python3.7/dist-packages (from rdflib>=6.1.1->SPARQLWrapper) (3.0.9)\n",
            "Requirement already satisfied: setuptools in /usr/local/lib/python3.7/dist-packages (from rdflib>=6.1.1->SPARQLWrapper) (57.4.0)\n",
            "Requirement already satisfied: isodate in /usr/local/lib/python3.7/dist-packages (from rdflib>=6.1.1->SPARQLWrapper) (0.6.1)\n",
            "Requirement already satisfied: importlib-metadata in /usr/local/lib/python3.7/dist-packages (from rdflib>=6.1.1->SPARQLWrapper) (4.11.4)\n",
            "Requirement already satisfied: typing-extensions>=3.6.4 in /usr/local/lib/python3.7/dist-packages (from importlib-metadata->rdflib>=6.1.1->SPARQLWrapper) (4.2.0)\n",
            "Requirement already satisfied: zipp>=0.5 in /usr/local/lib/python3.7/dist-packages (from importlib-metadata->rdflib>=6.1.1->SPARQLWrapper) (3.8.0)\n",
            "Requirement already satisfied: six in /usr/local/lib/python3.7/dist-packages (from isodate->rdflib>=6.1.1->SPARQLWrapper) (1.15.0)\n",
            "Looking in indexes: https://pypi.org/simple, https://us-python.pkg.dev/colab-wheels/public/simple/\n",
            "Requirement already satisfied: sparql_dataframe in /usr/local/lib/python3.7/dist-packages (0.4)\n",
            "Requirement already satisfied: pandas>=0.22.0 in /usr/local/lib/python3.7/dist-packages (from sparql_dataframe) (1.1.0)\n",
            "Requirement already satisfied: SPARQLWrapper>=1.8.1 in /usr/local/lib/python3.7/dist-packages (from sparql_dataframe) (2.0.0)\n",
            "Requirement already satisfied: pytz>=2017.2 in /usr/local/lib/python3.7/dist-packages (from pandas>=0.22.0->sparql_dataframe) (2021.3)\n",
            "Requirement already satisfied: python-dateutil>=2.7.3 in /usr/local/lib/python3.7/dist-packages (from pandas>=0.22.0->sparql_dataframe) (2.8.2)\n",
            "Requirement already satisfied: numpy>=1.15.4 in /usr/local/lib/python3.7/dist-packages (from pandas>=0.22.0->sparql_dataframe) (1.21.0)\n",
            "Requirement already satisfied: six>=1.5 in /usr/local/lib/python3.7/dist-packages (from python-dateutil>=2.7.3->pandas>=0.22.0->sparql_dataframe) (1.15.0)\n",
            "Requirement already satisfied: rdflib>=6.1.1 in /usr/local/lib/python3.7/dist-packages (from SPARQLWrapper>=1.8.1->sparql_dataframe) (6.1.1)\n",
            "Requirement already satisfied: isodate in /usr/local/lib/python3.7/dist-packages (from rdflib>=6.1.1->SPARQLWrapper>=1.8.1->sparql_dataframe) (0.6.1)\n",
            "Requirement already satisfied: importlib-metadata in /usr/local/lib/python3.7/dist-packages (from rdflib>=6.1.1->SPARQLWrapper>=1.8.1->sparql_dataframe) (4.11.4)\n",
            "Requirement already satisfied: pyparsing in /usr/local/lib/python3.7/dist-packages (from rdflib>=6.1.1->SPARQLWrapper>=1.8.1->sparql_dataframe) (3.0.9)\n",
            "Requirement already satisfied: setuptools in /usr/local/lib/python3.7/dist-packages (from rdflib>=6.1.1->SPARQLWrapper>=1.8.1->sparql_dataframe) (57.4.0)\n",
            "Requirement already satisfied: zipp>=0.5 in /usr/local/lib/python3.7/dist-packages (from importlib-metadata->rdflib>=6.1.1->SPARQLWrapper>=1.8.1->sparql_dataframe) (3.8.0)\n",
            "Requirement already satisfied: typing-extensions>=3.6.4 in /usr/local/lib/python3.7/dist-packages (from importlib-metadata->rdflib>=6.1.1->SPARQLWrapper>=1.8.1->sparql_dataframe) (4.2.0)\n"
          ]
        }
      ],
      "source": [
        "!pip install pyodbc\n",
        "!pip install SPARQLWrapper\n",
        "!pip install sparql_dataframe"
      ]
    },
    {
      "cell_type": "code",
      "execution_count": 5,
      "metadata": {
        "colab": {
          "base_uri": "https://localhost:8080/"
        },
        "id": "2DUeHP-lE0YC",
        "outputId": "f022e55c-f665-4de5-a116-77695203062e"
      },
      "outputs": [
        {
          "output_type": "stream",
          "name": "stdout",
          "text": [
            "Looking in indexes: https://pypi.org/simple, https://us-python.pkg.dev/colab-wheels/public/simple/\n",
            "Requirement already satisfied: sentence-transformers in /usr/local/lib/python3.7/dist-packages (2.2.0)\n",
            "Requirement already satisfied: transformers<5.0.0,>=4.6.0 in /usr/local/lib/python3.7/dist-packages (from sentence-transformers) (4.19.4)\n",
            "Requirement already satisfied: scikit-learn in /usr/local/lib/python3.7/dist-packages (from sentence-transformers) (1.0.2)\n",
            "Requirement already satisfied: tqdm in /usr/local/lib/python3.7/dist-packages (from sentence-transformers) (4.62.3)\n",
            "Requirement already satisfied: sentencepiece in /usr/local/lib/python3.7/dist-packages (from sentence-transformers) (0.1.96)\n",
            "Requirement already satisfied: huggingface-hub in /usr/local/lib/python3.7/dist-packages (from sentence-transformers) (0.7.0)\n",
            "Requirement already satisfied: scipy in /usr/local/lib/python3.7/dist-packages (from sentence-transformers) (1.4.1)\n",
            "Requirement already satisfied: numpy in /usr/local/lib/python3.7/dist-packages (from sentence-transformers) (1.21.0)\n",
            "Requirement already satisfied: torchvision in /usr/local/lib/python3.7/dist-packages (from sentence-transformers) (0.12.0+cu113)\n",
            "Requirement already satisfied: torch>=1.6.0 in /usr/local/lib/python3.7/dist-packages (from sentence-transformers) (1.11.0+cu113)\n",
            "Requirement already satisfied: nltk in /usr/local/lib/python3.7/dist-packages (from sentence-transformers) (3.2.5)\n",
            "Requirement already satisfied: typing-extensions in /usr/local/lib/python3.7/dist-packages (from torch>=1.6.0->sentence-transformers) (4.2.0)\n",
            "Requirement already satisfied: tokenizers!=0.11.3,<0.13,>=0.11.1 in /usr/local/lib/python3.7/dist-packages (from transformers<5.0.0,>=4.6.0->sentence-transformers) (0.12.1)\n",
            "Requirement already satisfied: pyyaml>=5.1 in /usr/local/lib/python3.7/dist-packages (from transformers<5.0.0,>=4.6.0->sentence-transformers) (6.0)\n",
            "Requirement already satisfied: packaging>=20.0 in /usr/local/lib/python3.7/dist-packages (from transformers<5.0.0,>=4.6.0->sentence-transformers) (21.3)\n",
            "Requirement already satisfied: regex!=2019.12.17 in /usr/local/lib/python3.7/dist-packages (from transformers<5.0.0,>=4.6.0->sentence-transformers) (2019.12.20)\n",
            "Requirement already satisfied: requests in /usr/local/lib/python3.7/dist-packages (from transformers<5.0.0,>=4.6.0->sentence-transformers) (2.23.0)\n",
            "Requirement already satisfied: importlib-metadata in /usr/local/lib/python3.7/dist-packages (from transformers<5.0.0,>=4.6.0->sentence-transformers) (4.11.4)\n",
            "Requirement already satisfied: filelock in /usr/local/lib/python3.7/dist-packages (from transformers<5.0.0,>=4.6.0->sentence-transformers) (3.4.2)\n",
            "Requirement already satisfied: pyparsing!=3.0.5,>=2.0.2 in /usr/local/lib/python3.7/dist-packages (from packaging>=20.0->transformers<5.0.0,>=4.6.0->sentence-transformers) (3.0.9)\n",
            "Requirement already satisfied: zipp>=0.5 in /usr/local/lib/python3.7/dist-packages (from importlib-metadata->transformers<5.0.0,>=4.6.0->sentence-transformers) (3.8.0)\n",
            "Requirement already satisfied: six in /usr/local/lib/python3.7/dist-packages (from nltk->sentence-transformers) (1.15.0)\n",
            "Requirement already satisfied: idna<3,>=2.5 in /usr/local/lib/python3.7/dist-packages (from requests->transformers<5.0.0,>=4.6.0->sentence-transformers) (2.10)\n",
            "Requirement already satisfied: urllib3!=1.25.0,!=1.25.1,<1.26,>=1.21.1 in /usr/local/lib/python3.7/dist-packages (from requests->transformers<5.0.0,>=4.6.0->sentence-transformers) (1.24.3)\n",
            "Requirement already satisfied: chardet<4,>=3.0.2 in /usr/local/lib/python3.7/dist-packages (from requests->transformers<5.0.0,>=4.6.0->sentence-transformers) (3.0.4)\n",
            "Requirement already satisfied: certifi>=2017.4.17 in /usr/local/lib/python3.7/dist-packages (from requests->transformers<5.0.0,>=4.6.0->sentence-transformers) (2022.5.18.1)\n",
            "Requirement already satisfied: joblib>=0.11 in /usr/local/lib/python3.7/dist-packages (from scikit-learn->sentence-transformers) (1.1.0)\n",
            "Requirement already satisfied: threadpoolctl>=2.0.0 in /usr/local/lib/python3.7/dist-packages (from scikit-learn->sentence-transformers) (3.1.0)\n",
            "Requirement already satisfied: pillow!=8.3.*,>=5.3.0 in /usr/local/lib/python3.7/dist-packages (from torchvision->sentence-transformers) (7.1.2)\n"
          ]
        }
      ],
      "source": [
        "!pip install sentence-transformers"
      ]
    },
    {
      "cell_type": "code",
      "execution_count": 6,
      "metadata": {
        "colab": {
          "base_uri": "https://localhost:8080/"
        },
        "id": "zCai1ISD2l8z",
        "outputId": "2c92ea1e-4020-4980-c7c3-dde632fba83c"
      },
      "outputs": [
        {
          "output_type": "stream",
          "name": "stdout",
          "text": [
            "Looking in indexes: https://pypi.org/simple, https://us-python.pkg.dev/colab-wheels/public/simple/\n",
            "Requirement already satisfied: gap-stat in /usr/local/lib/python3.7/dist-packages (2.0.1)\n",
            "Requirement already satisfied: scipy in /usr/local/lib/python3.7/dist-packages (from gap-stat) (1.4.1)\n",
            "Requirement already satisfied: numpy in /usr/local/lib/python3.7/dist-packages (from gap-stat) (1.21.0)\n",
            "Requirement already satisfied: pandas in /usr/local/lib/python3.7/dist-packages (from gap-stat) (1.1.0)\n",
            "Requirement already satisfied: pytz>=2017.2 in /usr/local/lib/python3.7/dist-packages (from pandas->gap-stat) (2021.3)\n",
            "Requirement already satisfied: python-dateutil>=2.7.3 in /usr/local/lib/python3.7/dist-packages (from pandas->gap-stat) (2.8.2)\n",
            "Requirement already satisfied: six>=1.5 in /usr/local/lib/python3.7/dist-packages (from python-dateutil>=2.7.3->pandas->gap-stat) (1.15.0)\n"
          ]
        }
      ],
      "source": [
        "!pip install gap-stat"
      ]
    },
    {
      "cell_type": "markdown",
      "metadata": {
        "id": "0kRrdl_2xNiw"
      },
      "source": [
        "###Imports"
      ]
    },
    {
      "cell_type": "code",
      "execution_count": 7,
      "metadata": {
        "id": "6ZC77n-aeu_o"
      },
      "outputs": [],
      "source": [
        "import os, re, json, ast, random\n",
        "\n",
        "##from collections import defaultdict\n",
        "from typing import List, Set, Tuple\n",
        "from pathlib import Path\n",
        "\n",
        "import nltk\n",
        "import pyodbc, sklearn, torch\n",
        "import pandas as pd\n",
        "\n",
        "import numpy as np\n",
        "import ipywidgets as widgets\n",
        "\n",
        "from google.colab import data_table, drive\n",
        "\n",
        "from nltk.stem import PorterStemmer\n",
        "from nltk.corpus import stopwords\n",
        "\n",
        "from sentence_transformers import SentenceTransformer, CrossEncoder, util\n",
        "from sentence_transformers.losses import MultipleNegativesRankingLoss\n",
        "from sentence_transformers.readers import LabelSentenceReader, InputExample\n",
        "from torch.utils.data import DataLoader\n",
        "\n",
        "from sklearn.feature_extraction.text import TfidfVectorizer\n",
        "from sklearn.cluster import KMeans\n",
        "\n",
        "from deeppavlov import build_model\n",
        "from deeppavlov.core.common.registry import register\n",
        "from deeppavlov.core.models.component import Component\n",
        "\n",
        "import matplotlib.pyplot as plt\n",
        "\n",
        "from gap_statistic import OptimalK\n",
        "\n",
        "from SPARQLWrapper import SPARQLWrapper, POST, DIGEST, GET\n",
        "from SPARQLWrapper import JSON\n",
        "import sparql_dataframe"
      ]
    },
    {
      "cell_type": "markdown",
      "metadata": {
        "id": "K9t2uNnJc_DK"
      },
      "source": [
        "###Configurations\n",
        "\n",
        "Please note that, once, the fine-tuning has been run, one can change any of the first two options and skip the fine-tuning (loading instead the saved model). For this, it suffices to:\n",
        "*    Run only the cell with the selectors,\n",
        "*    Run only the cell immediately after the selectors,\n",
        "*    Go to the cell with the title “Loading the fine-tuned model” and choose \n",
        "“Runtime > Run after”, which runs the current cell and all following. \n"
      ]
    },
    {
      "cell_type": "code",
      "execution_count": 8,
      "metadata": {
        "id": "k_nWCnd_drXz"
      },
      "outputs": [],
      "source": [
        "# By Default it loads the first option to every dropdown menu"
      ]
    },
    {
      "cell_type": "code",
      "execution_count": 9,
      "metadata": {
        "colab": {
          "base_uri": "https://localhost:8080/",
          "height": 113,
          "referenced_widgets": [
            "66c3b4758611483490d07b4446fe5749",
            "7c425b181fca4a68b193955f38ca2781",
            "4eb9015bb90d4c23a21988743a2600ce",
            "43b32f7dc66c4df1bac18de0560b4286",
            "13010c7338394b5180ca3321f9ec1521",
            "389e438ccedf429a8a8f2bf505828f43",
            "9ef20d7b16a2482da89131df106af813",
            "7340f1a3f9cc4ddb98e384437ba3640a",
            "5e61e74ab3914f22b999a203ab38b4d9",
            "31872bb90a8b4b53b19797c58838b1f3",
            "0cdd8834447f489180790510de86bb8e",
            "0df4c0ac3f724535b0e101141dfe1a9e",
            "21001271ddc546d98a6000ae0f4a2d4e",
            "af2d16b9531b433a8b5a13af7af7d9f7",
            "f1fcc0f25ed4476399877a1025f2ed38",
            "302eefe34ac244458117e653cc4468fe",
            "d80952411ba9401f8ad704480b065f01",
            "7b75cd8d50334de985668302335c56ad",
            "fa94fd94a67b41898e9de4920f0dd0ec",
            "9e50ca5b720f458f9648cabfaf209bf5",
            "7e5f3f3142644fd0bafbd881d62bd498",
            "c1cc3947725b47029c53404508210f4b",
            "0fef41d31201434693b8b37c30201f2a",
            "fa059752f3fd4514921a3c13476f251a"
          ]
        },
        "id": "OzFkBqSudDEa",
        "outputId": "7812f076-d732-4c43-bbb6-ddfdfc6651fc"
      },
      "outputs": [
        {
          "output_type": "display_data",
          "data": {
            "text/plain": [
              "HBox(children=(Label(value='Data:'), Dropdown(options=('datasets_use_case_d.pkl', 'glossary_use_case_d.pkl'), …"
            ],
            "application/vnd.jupyter.widget-view+json": {
              "version_major": 2,
              "version_minor": 0,
              "model_id": "66c3b4758611483490d07b4446fe5749"
            }
          },
          "metadata": {}
        },
        {
          "output_type": "display_data",
          "data": {
            "text/plain": [
              "HBox(children=(Label(value='Show intermediate results?: '), Dropdown(options=('Yes', 'No'), value='Yes')))"
            ],
            "application/vnd.jupyter.widget-view+json": {
              "version_major": 2,
              "version_minor": 0,
              "model_id": "5e61e74ab3914f22b999a203ab38b4d9"
            }
          },
          "metadata": {}
        },
        {
          "output_type": "display_data",
          "data": {
            "text/plain": [
              "HBox(children=(Label(value='Bi-encoder model:'), Dropdown(options=('multi-qa-MiniLM-L6-cos-v1', 'multi-qa-dist…"
            ],
            "application/vnd.jupyter.widget-view+json": {
              "version_major": 2,
              "version_minor": 0,
              "model_id": "d80952411ba9401f8ad704480b065f01"
            }
          },
          "metadata": {}
        }
      ],
      "source": [
        "# Set which dataset to use (either eurostat's datasets or glossary articles)\n",
        "data_dropdown = widgets.Dropdown(options=[\"datasets_use_case_d.pkl\", \"glossary_use_case_d.pkl\"])\n",
        "display(widgets.HBox([widgets.Label(value=\"Data:\"), data_dropdown]))\n",
        "\n",
        "# Option to show intermediate results when interacting with chatbot \n",
        "# Intermediate results include a histogram plot and a table for every chatbot interaction\n",
        "intermediate_results_dropdown = widgets.Dropdown(options=[\"Yes\", \"No\"])\n",
        "display(widgets.HBox([widgets.Label(value=\"Show intermediate results?: \"), intermediate_results_dropdown]))\n",
        "\n",
        "### Select Bi-encoder model\n",
        "# Load pre-trained model that we will use as a base for fine tuning or alone\n",
        "# Warning: loading 2nd or 3rd model for finetuning requires large amounts of memory\n",
        "bi_encoder_model_dropdown = widgets.Dropdown(options=[\"multi-qa-MiniLM-L6-cos-v1\", \"multi-qa-distilbert-cos-v1\", \"multi-qa-mpnet-base-cos-v1\"])\n",
        "display(widgets.HBox([widgets.Label(value=\"Bi-encoder model:\"), bi_encoder_model_dropdown]))"
      ]
    },
    {
      "cell_type": "code",
      "execution_count": 10,
      "metadata": {
        "id": "IFOwG8FydWwJ"
      },
      "outputs": [],
      "source": [
        "dataset_to_load = data_dropdown.value\n",
        "show_inter_results = True if intermediate_results_dropdown.value == 'Yes' else False\n",
        "bi_encoder = SentenceTransformer(bi_encoder_model_dropdown.value)"
      ]
    },
    {
      "cell_type": "code",
      "execution_count": 11,
      "metadata": {
        "id": "Xae0DylSxcfg"
      },
      "outputs": [],
      "source": [
        "path_to_bi_encoder = bi_encoder_model_dropdown.value"
      ]
    },
    {
      "cell_type": "code",
      "execution_count": 12,
      "metadata": {
        "colab": {
          "base_uri": "https://localhost:8080/"
        },
        "id": "WfizTxtIdGuR",
        "outputId": "f8ac695e-f56e-447e-84fb-e2ab4243195f"
      },
      "outputs": [
        {
          "output_type": "stream",
          "name": "stdout",
          "text": [
            "Settings chosen\n",
            "Data: datasets_use_case_d.pkl\n",
            "Show intermediate results?: Yes\n",
            "Bi-encoder model: multi-qa-MiniLM-L6-cos-v1\n"
          ]
        }
      ],
      "source": [
        "print('Settings chosen')\n",
        "print(f'Data: {dataset_to_load}')\n",
        "print(f'Show intermediate results?: {intermediate_results_dropdown.value}')\n",
        "print(f'Bi-encoder model: {bi_encoder_model_dropdown.value}')"
      ]
    },
    {
      "cell_type": "markdown",
      "metadata": {
        "id": "P_YHWJN2oLR8"
      },
      "source": [
        "###Auxiliary functions\n"
      ]
    },
    {
      "cell_type": "code",
      "execution_count": 13,
      "metadata": {
        "id": "F-e-aA0foK6z"
      },
      "outputs": [],
      "source": [
        "def load_table(query):\n",
        "  cursor.execute(query)\n",
        "  t1 = cursor.fetchall()\n",
        "  df = pd.DataFrame.from_records(t1, columns=[x[0] for x in cursor.description])\n",
        "  return df\n",
        "\n",
        "def clean(x, quotes=True):\n",
        "    if pd.isnull(x): return x  \n",
        "    x = x.strip()\n",
        "    \n",
        "    ## make letter-question mark-letter -> letter-quote-space-letter !!! but NOT in the lists of URLs!!!\n",
        "    if quotes:\n",
        "        x = re.sub(r'([A-Za-z])\\?([A-Za-z])','\\\\1\\' \\\\2',x) \n",
        "    \n",
        "    ## make letter-question mark-space lower case letter letter-quote-space letter\n",
        "    x = re.sub(r'([A-Za-z])\\? ([a-z])','\\\\1\\' \\\\2',x) \n",
        "\n",
        "    ## delete ,000 commas in numbers    \n",
        "    x = re.sub(r'\\b(\\d+),(\\d+)\\b','\\\\1\\\\2',x) ## CORRECTED\n",
        "    \n",
        "    ## delete  000 spaces in numbers\n",
        "    x = re.sub(r'\\b(\\d+) (\\d+)\\b','\\\\1\\\\2',x) ## CORRECTED\n",
        "    \n",
        "    ## remove more than one spaces\n",
        "    x = re.sub(r' +', ' ',x)\n",
        "    \n",
        "    ## remove start and end spaces\n",
        "    x = re.sub(r'^ +| +$', '',x,flags=re.MULTILINE) \n",
        "    \n",
        "    ## space-comma -> comma\n",
        "    x = re.sub(r' \\,',',',x)\n",
        "    \n",
        "    ## space-dot -> dot\n",
        "    x = re.sub(r' \\.','.',x)\n",
        "    \n",
        "    x = re.sub(r'â.{2}',\"'\",x) ### !!! NEW: single quotes are read as: âXX\n",
        "    \n",
        "    return x\n"
      ]
    },
    {
      "cell_type": "markdown",
      "metadata": {
        "id": "q2UroSo6e3J0"
      },
      "source": [
        "### Mount google drive"
      ]
    },
    {
      "cell_type": "code",
      "execution_count": 14,
      "metadata": {
        "colab": {
          "base_uri": "https://localhost:8080/"
        },
        "id": "-cKZ1HOPe7qT",
        "outputId": "a396f7a2-839f-465a-e40f-92b30c6d65d3"
      },
      "outputs": [
        {
          "output_type": "stream",
          "name": "stdout",
          "text": [
            "Mounted at /content/drive\n"
          ]
        }
      ],
      "source": [
        "drive.mount('/content/drive', force_remount=True)"
      ]
    },
    {
      "cell_type": "code",
      "source": [
        "user = 'xxxxx'\n",
        "passw = 'xxxxx'"
      ],
      "metadata": {
        "id": "vP-XfJEu5Z8c"
      },
      "execution_count": 15,
      "outputs": []
    },
    {
      "cell_type": "markdown",
      "metadata": {
        "id": "CTIRLXtWUfcn"
      },
      "source": [
        "###Connect to Virtuoso database"
      ]
    },
    {
      "cell_type": "code",
      "source": [
        "def connect_virtuoso(DSN, UID, PWD):\n",
        "\n",
        "    sparql = SPARQLWrapper(DSN)\n",
        "    sparql.setHTTPAuth(DIGEST)\n",
        "    sparql.setCredentials(UID, PWD)\n",
        "    sparql.setMethod(GET)\n",
        "\n",
        "    return sparql\n",
        "\n",
        "# Connection to the KDB \n",
        "endpoint = \"http://lod.csd.auth.gr:8890/sparql/\"\n",
        "sparql = connect_virtuoso(endpoint,user,passw)"
      ],
      "metadata": {
        "id": "b_Jo6Ur15soX"
      },
      "execution_count": 16,
      "outputs": []
    },
    {
      "cell_type": "code",
      "execution_count": 17,
      "metadata": {
        "id": "5L_OABFL2TWf"
      },
      "outputs": [],
      "source": [
        "c = pyodbc.connect('DRIVER=/usr/lib/odbc/virtodbc.so;HOST=lod.csd.auth.gr:1111;UID='+user+';PWD='+passw+';DATABASE=ESTAT')\n"
      ]
    },
    {
      "cell_type": "code",
      "execution_count": 18,
      "metadata": {
        "id": "nQOkbcLv2iVE"
      },
      "outputs": [],
      "source": [
        "c.setdecoding(pyodbc.SQL_CHAR, encoding='latin-1')\n",
        "c.setencoding(encoding=\"latin-1\")"
      ]
    },
    {
      "cell_type": "code",
      "execution_count": 19,
      "metadata": {
        "id": "t2UiJAMS2i87"
      },
      "outputs": [],
      "source": [
        "cursor = c.cursor()"
      ]
    },
    {
      "cell_type": "markdown",
      "metadata": {
        "id": "hwUi_ML2UqfT"
      },
      "source": [
        "###Loading the datasets information from the database"
      ]
    },
    {
      "cell_type": "code",
      "execution_count": 20,
      "metadata": {
        "id": "pv2awOHB1yca"
      },
      "outputs": [],
      "source": [
        "query_data = 'SELECT id, number, codes, names, file_descr, file_code, level, link FROM ESTAT.V1.dat_all_datasets'\n",
        "crumbs_df = load_table(query_data)\n",
        "\n",
        "crumbs_df['codes'] = crumbs_df['codes'].apply(lambda x: ast.literal_eval(x))\n",
        "crumbs_df['names'] = crumbs_df['names'].apply(lambda x: ast.literal_eval(x))\n",
        "crumbs_df.rename(columns={'number':'Number','codes':'Codes','names':'Names','file_descr':'File description',\n",
        "                               'level':'Level','file_code':'File code','link':'Link'},inplace=True)\n",
        "\n",
        "## keep only leaves - datasets\n",
        "idx = crumbs_df[crumbs_df['File code']==''].index\n",
        "crumbs_df.drop(index=idx, inplace=True) \n",
        "crumbs_df.reset_index(drop=True,inplace=True)\n",
        "\n",
        "#crumbs_df['File description']=crumbs_df['Names'].apply(lambda x: x[-1]) \n",
        "\n",
        "crumbs_df['Full path'] = crumbs_df['Names'].apply(lambda x: [y for y in x[1:]]) ## exclude first part\n",
        "crumbs_df['Full path'] = crumbs_df['Full path'].apply(lambda x: ' '.join(x))\n",
        "\n",
        "crumbs_df = crumbs_df[['Number','Codes','Names','File description','File code','Level','Full path','Link']]"
      ]
    },
    {
      "cell_type": "code",
      "execution_count": 21,
      "metadata": {
        "id": "c4LutFrj9lOU"
      },
      "outputs": [],
      "source": [
        "# Drop duplicates with the same file code\n",
        "crumbs_df = crumbs_df.drop_duplicates(subset='File code', keep=\"first\").reset_index()"
      ]
    },
    {
      "cell_type": "markdown",
      "metadata": {
        "id": "lotCVLqnR2zl"
      },
      "source": [
        "### Loading SE Glossary articles from the database\n",
        "* Query required even if fine tuning is not needed.\n",
        "* Titles, URLs and definitions.\n",
        "* Exclude some redirections.\n",
        "* Exclude one invalid URL from a remnant empty page."
      ]
    },
    {
      "cell_type": "code",
      "source": [
        "# query that needs to be calculated even if fine tuning is not needed\n",
        "RelationsStatements = \"\"\"\n",
        "DEFINE input:inference <https://ec.europa.eu/eurostat/NLP4StatRef/knowledge/>\n",
        "PREFIX estat: <https://ec.europa.eu/eurostat/NLP4StatRef/ontology/>\n",
        "PREFIX estatdata: <https://ec.europa.eu/eurostat/NLP4StatRef/knowledge/>\n",
        "select ?a ?title ?url ?content where {\n",
        "    ?a a estat:GlossaryArticle .\n",
        "    ?a estat:title ?title .\n",
        "    ?a estat:hasURL ?url.\n",
        "    ?a estat:content ?content .\n",
        "    filter(!regex(?content, \"^(The revision|Redirect to)\")) \n",
        "    filter( regex(?url, \"Glossary:\")) \n",
        "} \n",
        "\"\"\"\n",
        "## estat:GlossaryArticle OR StatisticsExplainedArticle\n",
        "  \n",
        "sparql.setQuery(RelationsStatements)\n",
        "sparql.method = \"POST\"\n",
        "sparql.setReturnFormat(JSON)\n",
        "GL_df = sparql.query().convert()['results']['bindings']\n",
        "GL_df = pd.json_normalize(GL_df)\n",
        "print(GL_df.columns)"
      ],
      "metadata": {
        "id": "FDG9sGvX53ay",
        "colab": {
          "base_uri": "https://localhost:8080/"
        },
        "outputId": "fd5218a6-7ca0-48a8-ec48-d51074c19aa6"
      },
      "execution_count": 22,
      "outputs": [
        {
          "output_type": "stream",
          "name": "stdout",
          "text": [
            "Index(['a.type', 'a.value', 'title.type', 'title.value', 'url.type',\n",
            "       'url.datatype', 'url.value', 'content.type', 'content.value'],\n",
            "      dtype='object')\n"
          ]
        }
      ]
    },
    {
      "cell_type": "markdown",
      "source": [
        "### GL_df will be added for the fine-tuning. \n",
        "### Make a copy 'glossary'. This will be one of the choices for the proposals."
      ],
      "metadata": {
        "id": "JUqCmGazsHN0"
      }
    },
    {
      "cell_type": "code",
      "source": [
        "GL_df.rename(columns={'title.value':'title','url.value':'url','content.value':'definition'},inplace=True)\n",
        "GL_df['id'] = range(len(GL_df))\n",
        "GL_df = GL_df[['id','title','definition','url']]\n",
        "glossary = GL_df.copy()"
      ],
      "metadata": {
        "id": "WB8thZTk6EzS"
      },
      "execution_count": 23,
      "outputs": []
    },
    {
      "cell_type": "code",
      "execution_count": 24,
      "metadata": {
        "id": "eBBvBEYgR8o4"
      },
      "outputs": [],
      "source": [
        "## Skip if already run\n",
        "if 'File description' not in glossary.columns:\n",
        "  glossary['definition'] = glossary['definition'].replace('', np.nan)\n",
        "  glossary.dropna(axis=0,subset=['definition'], inplace=True)\n",
        "\n",
        "  glossary.reset_index(drop=True, inplace=True)"
      ]
    },
    {
      "cell_type": "code",
      "execution_count": 25,
      "metadata": {
        "id": "c3-4YX9eSCHN"
      },
      "outputs": [],
      "source": [
        "## Skip if already run\n",
        "if 'File description' not in glossary.columns:\n",
        "  glossary['title'] = glossary['title'].apply(clean)\n",
        "  glossary['title'] = glossary['title'].apply(lambda x: re.sub(r'\\?','-',x)) ## also replace question marks by dashes\n",
        "  # Edit titles in order to remove \"Glossary:\"\n",
        "  glossary['title'] = glossary['title'].apply(lambda x: re.sub(r'Glossary:',' ',x)) \n",
        "  glossary['definition'] = glossary['definition'].apply(clean)"
      ]
    },
    {
      "cell_type": "code",
      "execution_count": 26,
      "metadata": {
        "id": "4pZ-RNWDSC3r"
      },
      "outputs": [],
      "source": [
        "## Skip if already run\n",
        "if 'File description' not in glossary.columns:\n",
        "  # Drop The records with definitions \"The revision ...\" and \"Redirect to ...\" \n",
        "  idx = glossary[glossary['definition'].str.startswith('The revision #')].index\n",
        "  glossary.drop(idx , inplace=True)\n",
        "  idx = glossary[glossary['definition'].str.startswith('Redirect to')].index\n",
        "  glossary.drop(idx , inplace=True)\n",
        "  # dropping some pairs that definition is something generic with a link \n",
        "  idx = glossary[glossary['definition'].str.startswith('<Brief user-oriented definition')].index \n",
        "  glossary.drop(idx , inplace=True)\n",
        "\n",
        "  glossary.reset_index(drop=True, inplace=True)"
      ]
    },
    {
      "cell_type": "code",
      "execution_count": 27,
      "metadata": {
        "id": "Fa2UfBJMSGc2"
      },
      "outputs": [],
      "source": [
        "## Skip if already run\n",
        "if 'File description' not in glossary.columns:\n",
        "  glossary.rename(columns={'id':'article_id'},inplace=True)\n",
        "  glossary.rename(columns={'url':'Link'},inplace=True)\n",
        "  glossary.rename(columns={'definition':'File description'},inplace=True)\n",
        "\n",
        "  glossary['Full path'] = glossary['title'] + '. ' + glossary['File description']"
      ]
    },
    {
      "cell_type": "markdown",
      "metadata": {
        "id": "4bgBBq1w-O2d"
      },
      "source": [
        "###Save datasets data"
      ]
    },
    {
      "cell_type": "code",
      "execution_count": 28,
      "metadata": {
        "id": "FLE3C7Om-TeR"
      },
      "outputs": [],
      "source": [
        "# save to pickle in order to be able to load it to DeepPavlov framework\n",
        "crumbs_df.to_pickle('/content/drive/MyDrive/datasets_use_case_d.pkl')"
      ]
    },
    {
      "cell_type": "code",
      "execution_count": 29,
      "metadata": {
        "id": "HWaYzl18SOU-"
      },
      "outputs": [],
      "source": [
        "# save to pickle in order to be able to load it to DeepPavlov framework\n",
        "glossary.to_pickle('/content/drive/MyDrive/glossary_use_case_d.pkl')"
      ]
    },
    {
      "cell_type": "code",
      "execution_count": 30,
      "metadata": {
        "id": "QyrGcf46KdB7"
      },
      "outputs": [],
      "source": [
        "del(crumbs_df,glossary)"
      ]
    },
    {
      "cell_type": "markdown",
      "metadata": {
        "id": "URXUEdwGKVHG"
      },
      "source": [
        "###Fine tuning"
      ]
    },
    {
      "cell_type": "markdown",
      "metadata": {
        "id": "AyO7iagUKhS6"
      },
      "source": [
        "#### SE Glossary articles as inputs for the fine-tuning \n"
      ]
    },
    {
      "cell_type": "markdown",
      "metadata": {
        "id": "tPUYzja9Klz3"
      },
      "source": [
        "#### Delete records with empty definitions and carry out data cleansing\n"
      ]
    },
    {
      "cell_type": "code",
      "execution_count": 31,
      "metadata": {
        "id": "PJuaKW10KdHb"
      },
      "outputs": [],
      "source": [
        "GL_df['definition'] = GL_df['definition'].replace('', np.nan)\n",
        "GL_df.dropna(axis=0,subset=['definition'],inplace=True)\n",
        "\n",
        "GL_df.reset_index(drop=True, inplace=True)\n",
        "\n",
        "GL_df['title'] = GL_df['title'].apply(clean)\n",
        "GL_df['title'] = GL_df['title'].apply(lambda x: re.sub(r'\\?','-',x)) ## also replace question marks by dashes\n",
        "GL_df['title'] = GL_df['title'].apply(lambda x: re.sub(r'Glossary:',' ',x)) \n",
        "GL_df['definition'] = GL_df['definition'].apply(clean)"
      ]
    },
    {
      "cell_type": "markdown",
      "metadata": {
        "id": "IKudXklEKsnJ"
      },
      "source": [
        "#### Delete \"special\" records\n",
        "\n",
        "* i.e. redirections."
      ]
    },
    {
      "cell_type": "code",
      "execution_count": 32,
      "metadata": {
        "id": "yCzso48OKpWU"
      },
      "outputs": [],
      "source": [
        "# Drop The records with definitions \"The revision ...\" and \"Redirect to ...\" \n",
        "\n",
        "idx = GL_df[GL_df['definition'].str.startswith('The revision #')].index\n",
        "GL_df.drop(idx , inplace=True)\n",
        "idx = GL_df[GL_df['definition'].str.startswith('Redirect to')].index\n",
        "GL_df.drop(idx , inplace=True)\n",
        "# dropping some pairs that definition is something generic with a link \n",
        "idx = GL_df[GL_df['definition'].str.startswith('<Brief user-oriented definition')].index \n",
        "GL_df.drop(idx , inplace=True)\n",
        "\n",
        "GL_df.reset_index(drop=True, inplace=True)\n",
        "\n",
        "GL_df.rename(columns={'id':'article_id'},inplace=True)\n",
        "GL_df.rename(columns={'definition':'content'},inplace=True)\n",
        "##GL_df"
      ]
    },
    {
      "cell_type": "markdown",
      "metadata": {
        "id": "xWsk4ot7KzL4"
      },
      "source": [
        "#### Add paragraphs titles and contents from the SE articles\n",
        "\n",
        "* Excluding abstracts."
      ]
    },
    {
      "cell_type": "code",
      "source": [
        "RelationsStatements = \"\"\"\n",
        "DEFINE input:inference <https://ec.europa.eu/eurostat/NLP4StatRef/knowledge/>\n",
        "PREFIX estat: <https://ec.europa.eu/eurostat/NLP4StatRef/ontology/>\n",
        "PREFIX estatdata: <https://ec.europa.eu/eurostat/NLP4StatRef/knowledge/>\n",
        "select ?x ?t1 ?c where {\n",
        "    ?x a estat:StatisticsExplainedArticle .\n",
        "    ?x estat:hasParagraph  ?h .\n",
        "    ?h estat:title ?t1 .\n",
        "    FILTER(?t1!=\"Abstract\") .\n",
        "    ?h estat:content ?c .\n",
        "} \n",
        "\"\"\"\n",
        "  \n",
        "sparql.setQuery(RelationsStatements)\n",
        "sparql.method = \"POST\"\n",
        "sparql.setReturnFormat(JSON)\n",
        "add_content = sparql.query().convert()['results']['bindings']\n",
        "add_content = pd.json_normalize(add_content)\n",
        "print(add_content.columns)\n"
      ],
      "metadata": {
        "id": "6Ph05d-5RVc0",
        "colab": {
          "base_uri": "https://localhost:8080/"
        },
        "outputId": "06ce4ede-d528-48e7-db9d-1b287d60a696"
      },
      "execution_count": 33,
      "outputs": [
        {
          "output_type": "stream",
          "name": "stdout",
          "text": [
            "Index(['x.type', 'x.value', 't1.type', 't1.value', 'c.type', 'c.value'], dtype='object')\n"
          ]
        }
      ]
    },
    {
      "cell_type": "markdown",
      "source": [
        "* Also delete duplicate titles."
      ],
      "metadata": {
        "id": "rlwUkSc1NP_L"
      }
    },
    {
      "cell_type": "code",
      "source": [
        "add_content.rename(columns={'t1.value':'title','c.value':'content'},inplace=True)\n",
        "\n",
        "## add_content = add_content[['title','content']].copy()\n",
        "\n",
        "add_content['title'] = add_content['title'].apply(clean).apply(lambda x: re.sub(r'\\?','-',x)) ## also replace question marks by dashes\n",
        "add_content['content'] = add_content['content'].apply(clean)\n",
        "\n",
        "add_content= add_content.replace('', np.nan) ## Check for anything empty\n",
        "print(add_content.isnull().sum())\n",
        "\n",
        "### DELETE NOT EXPRESSIVE TITLES!\n",
        "### For safety: delete all duplicates\n",
        "add_content.drop_duplicates(subset=['title'],keep=False,inplace=True)\n",
        "add_content.reset_index(drop=True, inplace=True)\n",
        "add_content['article_id'] = range(len(add_content))\n",
        "add_content = add_content[['article_id','title','content']]\n",
        "##add_content"
      ],
      "metadata": {
        "colab": {
          "base_uri": "https://localhost:8080/"
        },
        "id": "fRO-ZijyNTQ7",
        "outputId": "5b3a13ab-7786-4fb5-9ef6-6594b8324550"
      },
      "execution_count": 34,
      "outputs": [
        {
          "output_type": "stream",
          "name": "stdout",
          "text": [
            "x.type     0\n",
            "x.value    0\n",
            "t1.type    0\n",
            "title      0\n",
            "c.type     0\n",
            "content    0\n",
            "dtype: int64\n"
          ]
        }
      ]
    },
    {
      "cell_type": "markdown",
      "metadata": {
        "id": "7xGTZ74eK6b6"
      },
      "source": [
        "#### Query to get OECD Glossary data"
      ]
    },
    {
      "cell_type": "code",
      "source": [
        "RelationsStatements = \"\"\"\n",
        "DEFINE input:inference <https://ec.europa.eu/eurostat/NLP4StatRef/knowledge/>\n",
        "PREFIX estat: <https://ec.europa.eu/eurostat/NLP4StatRef/ontology/>\n",
        "PREFIX estatdata: <https://ec.europa.eu/eurostat/NLP4StatRef/knowledge/>\n",
        "select ?a ?title ?context ?definition where{\n",
        "    ?a a estat:OECDTerm .\n",
        "    ?a estat:term ?title .\n",
        "    optional { ?a estat:context ?context }\n",
        "    ?a estat:definition ?definition .\n",
        "}\n",
        "\"\"\"\n",
        "  \n",
        "sparql.setQuery(RelationsStatements)\n",
        "sparql.method = \"POST\"\n",
        "sparql.setReturnFormat(JSON)\n",
        "OECD_df = sparql.query().convert()['results']['bindings']\n",
        "OECD_df = pd.json_normalize(OECD_df)\n",
        "print(OECD_df.columns)\n"
      ],
      "metadata": {
        "colab": {
          "base_uri": "https://localhost:8080/"
        },
        "id": "G2WHI3-tucRa",
        "outputId": "8bd166f3-eaf5-4285-d049-5d74ffddb7a6"
      },
      "execution_count": 35,
      "outputs": [
        {
          "output_type": "stream",
          "name": "stdout",
          "text": [
            "Index(['a.type', 'a.value', 'title.type', 'title.value', 'context.type',\n",
            "       'context.value', 'definition.type', 'definition.value'],\n",
            "      dtype='object')\n"
          ]
        }
      ]
    },
    {
      "cell_type": "code",
      "source": [
        "OECD_df.rename(columns={'title.value':'term','definition.value':'definition','context.value':'context'},inplace=True)\n",
        "\n",
        "OECD_df.replace('',np.nan,inplace=True)\n",
        "print(OECD_df.isnull().sum()) ## check for missing values\n",
        "\n",
        "OECD_df['term'] = OECD_df['term'].apply(clean).apply(lambda x: re.sub(r'\\?','-',x)) ## also replace question marks by dashes\n",
        "OECD_df['definition'] = OECD_df['definition'].apply(clean)\n",
        "OECD_df['context'] = OECD_df['context'].apply(clean)\n",
        "\n",
        "OECD_df['id'] = range(len(OECD_df))\n",
        "OECD_df = OECD_df[['id','term','definition','context']]"
      ],
      "metadata": {
        "colab": {
          "base_uri": "https://localhost:8080/"
        },
        "id": "4-ks4jdiuloM",
        "outputId": "0b7fec20-25f4-454f-9b65-0f6981248f64"
      },
      "execution_count": 36,
      "outputs": [
        {
          "output_type": "stream",
          "name": "stdout",
          "text": [
            "a.type                0\n",
            "a.value               0\n",
            "title.type            0\n",
            "term                  0\n",
            "context.type       5535\n",
            "context            5535\n",
            "definition.type       0\n",
            "definition            0\n",
            "dtype: int64\n"
          ]
        }
      ]
    },
    {
      "cell_type": "markdown",
      "source": [
        "### Split into two (title,content) collections"
      ],
      "metadata": {
        "id": "WMJuU1TTw--F"
      }
    },
    {
      "cell_type": "code",
      "execution_count": 37,
      "metadata": {
        "id": "NLY8n7zKKpS9",
        "colab": {
          "base_uri": "https://localhost:8080/"
        },
        "outputId": "242085fc-8f2f-488d-db7b-3d9ef63cebbd"
      },
      "outputs": [
        {
          "output_type": "stream",
          "name": "stderr",
          "text": [
            "/usr/local/lib/python3.7/dist-packages/pandas/core/frame.py:4298: SettingWithCopyWarning: \n",
            "A value is trying to be set on a copy of a slice from a DataFrame\n",
            "\n",
            "See the caveats in the documentation: https://pandas.pydata.org/pandas-docs/stable/user_guide/indexing.html#returning-a-view-versus-a-copy\n",
            "  errors=errors,\n"
          ]
        }
      ],
      "source": [
        "#renaming\n",
        "OECD_df.rename(columns={'id':'article_id'},inplace=True)\n",
        "OECD_df.rename(columns={'term':'title'},inplace=True)\n",
        "\n",
        "# using title-definition pairs\n",
        "OECD_df1 = OECD_df[['article_id','title','definition']].copy()\n",
        "OECD_df1 = OECD_df1.rename(columns={'definition':'content'})\n",
        "\n",
        "# using title-context pairs\n",
        "OECD_df2 = OECD_df[['article_id','title','context']].copy()\n",
        "OECD_df2 = OECD_df2.rename(columns={'context':'content'})\n",
        "\n",
        "#OECD_df1 = OECD_df1[['article_id','title','content']].copy()\n",
        "#OECD_df2 = OECD_df2[['article_id','title','content']].copy()\n",
        "\n",
        "# deleting empty\n",
        "OECD_df1['content'] = OECD_df1['content'].replace('', np.nan)\n",
        "OECD_df1 = OECD_df1.dropna(axis=0,subset=['content'])\n",
        "OECD_df1['title'] = OECD_df1['title'].replace('', np.nan)\n",
        "OECD_df1 = OECD_df1.dropna(axis=0,subset=['title'])\n",
        "\n",
        "OECD_df2['content'] = OECD_df2['content'].replace('', np.nan)\n",
        "OECD_df2 = OECD_df2.dropna(axis=0,subset=['content'])\n",
        "OECD_df2['title'] = OECD_df2['title'].replace('', np.nan)\n",
        "OECD_df2 = OECD_df2.dropna(axis=0,subset=['title'])"
      ]
    },
    {
      "cell_type": "code",
      "source": [
        "del(OECD_df)"
      ],
      "metadata": {
        "id": "97j6TeYob47s"
      },
      "execution_count": 40,
      "outputs": []
    },
    {
      "cell_type": "markdown",
      "metadata": {
        "id": "kwp4l-uVLBaM"
      },
      "source": [
        "####Abstracts and context sections from SE articles"
      ]
    },
    {
      "cell_type": "code",
      "source": [
        "RelationsStatements = \"\"\"\n",
        "DEFINE input:inference <https://ec.europa.eu/eurostat/NLP4StatRef/knowledge/>\n",
        "PREFIX estat: <https://ec.europa.eu/eurostat/NLP4StatRef/ontology/>\n",
        "PREFIX estatdata: <https://ec.europa.eu/eurostat/NLP4StatRef/knowledge/>\n",
        "select ?x ?title ?url ?partitle ?context ?content where {\n",
        "    ?x a estat:StatisticsExplainedArticle .\n",
        "    ?x estat:title ?title .\n",
        "    ?x estat:hasURL ?url .\n",
        "    optional{?x estat:context ?context} .\n",
        "optional {\n",
        "    ?x estat:hasParagraph  ?h .\n",
        "    ?h estat:title ?partitle .\n",
        "    filter(?partitle=\"Abstract\") .\n",
        "    ?h estat:content ?content .\n",
        "}\n",
        "} \n",
        "\"\"\"\n",
        "\n",
        "sparql.setQuery(RelationsStatements)\n",
        "sparql.method = \"POST\"\n",
        "sparql.setReturnFormat(JSON)\n",
        "SE_df = sparql.query().convert()['results']['bindings']\n",
        "SE_df = pd.json_normalize(SE_df)\n",
        "print(SE_df.columns)\n"
      ],
      "metadata": {
        "colab": {
          "base_uri": "https://localhost:8080/"
        },
        "id": "rq7oMJoexfxq",
        "outputId": "908635c2-1cfb-44f2-f23b-142ca752b8bf"
      },
      "execution_count": 41,
      "outputs": [
        {
          "output_type": "stream",
          "name": "stdout",
          "text": [
            "Index(['x.type', 'x.value', 'title.type', 'title.value', 'url.type',\n",
            "       'url.datatype', 'url.value', 'partitle.type', 'partitle.value',\n",
            "       'context.type', 'context.value', 'content.type', 'content.value'],\n",
            "      dtype='object')\n"
          ]
        }
      ]
    },
    {
      "cell_type": "code",
      "source": [
        "SE_df.rename(columns={'title.value':'title','partitle.value':'has_abstract','url.value':'url','context.value':'context','content.value':'abstract'},inplace=True)\n",
        "\n",
        "SE_df.replace('',np.nan,inplace=True)\n",
        "SE_df.replace('NaN',np.nan,inplace=True)\n",
        "SE_df.replace('nan',np.nan,inplace=True)\n",
        "SE_df.replace('None',np.nan,inplace=True)\n",
        "\n",
        "print(SE_df.isnull().sum()) ## check for missing values\n",
        "\n",
        "\n",
        "SE_df['article_id'] = range(len(SE_df))\n",
        "SE_df = SE_df[['article_id','context','title','abstract']].copy()\n",
        "\n",
        "SE_df['title'] = SE_df['title'].apply(clean).apply(lambda x: re.sub(r'\\?','-',x)) ## also replace question marks by dashes\n",
        "SE_df['context'] = SE_df['context'].apply(clean)\n",
        "SE_df['abstract'] = SE_df['abstract'].apply(clean)\n",
        "\n",
        "\n",
        "##SE_df"
      ],
      "metadata": {
        "colab": {
          "base_uri": "https://localhost:8080/"
        },
        "id": "aIr0Ue5_xvjR",
        "outputId": "ce8ffa32-7111-47a3-8e92-1bf7cb87ec58"
      },
      "execution_count": 42,
      "outputs": [
        {
          "output_type": "stream",
          "name": "stdout",
          "text": [
            "x.type             0\n",
            "x.value            0\n",
            "title.type         0\n",
            "title              0\n",
            "url.type           0\n",
            "url.datatype       0\n",
            "url                0\n",
            "partitle.type     11\n",
            "has_abstract      11\n",
            "context.type     279\n",
            "context          304\n",
            "content.type      11\n",
            "abstract          42\n",
            "dtype: int64\n"
          ]
        }
      ]
    },
    {
      "cell_type": "code",
      "execution_count": 43,
      "metadata": {
        "id": "G2_yXPLFK_O3"
      },
      "outputs": [],
      "source": [
        "# apply cleaning\n",
        "SE_df['title'] = SE_df['title'].apply(clean).apply(lambda x: re.sub(r'\\?','-',x)) ## also replace question marks by dashes\n",
        "SE_df['context'] = SE_df['context'].apply(clean)\n",
        "SE_df['abstract'] = SE_df['abstract'].apply(clean)\n",
        "\n",
        "# using title-context pairs\n",
        "SE_df1 = SE_df[['article_id','title','context']]\n",
        "SE_df1 = SE_df1.rename(columns={'context':'content'})\n",
        "\n",
        "# using title-abstract pairs\n",
        "SE_df2 = SE_df[['article_id','title','abstract']]\n",
        "SE_df2 = SE_df2.rename(columns={'abstract':'content'})\n",
        "\n",
        "# deleting empty\n",
        "SE_df1['content'] = SE_df1['content'].replace('', np.nan)\n",
        "SE_df1 = SE_df1.dropna(axis=0,subset=['content'])\n",
        "\n",
        "SE_df2['content'] = SE_df2['content'].replace('', np.nan).replace('nan', np.nan)\n",
        "SE_df2 = SE_df2.dropna(axis=0,subset=['content'])"
      ]
    },
    {
      "cell_type": "code",
      "source": [
        "del(SE_df)"
      ],
      "metadata": {
        "id": "IjmWutLsbvRS"
      },
      "execution_count": 46,
      "outputs": []
    },
    {
      "cell_type": "markdown",
      "source": [
        "##Eurostat's Concepts and Definitions Database"
      ],
      "metadata": {
        "id": "H4_xZeXgcJOg"
      }
    },
    {
      "cell_type": "code",
      "source": [
        "RelationsStatements = \"\"\"\n",
        "DEFINE input:inference <https://ec.europa.eu/eurostat/NLP4StatRef/knowledge/>\n",
        "PREFIX estat: <https://ec.europa.eu/eurostat/NLP4StatRef/ontology/>\n",
        "PREFIX estatdata: <https://ec.europa.eu/eurostat/NLP4StatRef/knowledge/>\n",
        "select ?a ?term ?definition where {\n",
        "    ?a a estat:CODEDTerm  .\n",
        "    ?a estat:term ?term .\n",
        "    ?a estat:definition ?definition .\n",
        "} \n",
        "\"\"\"\n",
        "sparql.setQuery(RelationsStatements)\n",
        "sparql.method = \"POST\"\n",
        "sparql.setReturnFormat(JSON)\n",
        "CODED_df = sparql.query().convert()['results']['bindings']\n",
        "CODED_df = pd.json_normalize(CODED_df)\n",
        "print(CODED_df.columns)"
      ],
      "metadata": {
        "colab": {
          "base_uri": "https://localhost:8080/"
        },
        "id": "BEh2AB0ZcRAD",
        "outputId": "2add7e9b-eb63-4386-ec88-3c5d7ab095cc"
      },
      "execution_count": 47,
      "outputs": [
        {
          "output_type": "stream",
          "name": "stdout",
          "text": [
            "Index(['a.type', 'a.value', 'term.type', 'term.value', 'definition.type',\n",
            "       'definition.value'],\n",
            "      dtype='object')\n"
          ]
        }
      ]
    },
    {
      "cell_type": "code",
      "source": [
        "CODED_df.rename(columns={'term.value':'title','definition.value':'content'},inplace=True)\n",
        "\n",
        "CODED_df.replace('',np.nan,inplace=True)\n",
        "print(CODED_df.isnull().sum()) ## check for missing values\n",
        "\n",
        "\n",
        "CODED_df['article_id'] = range(len(CODED_df))\n",
        "CODED_df = CODED_df[['article_id','title','content']].copy()\n",
        "\n",
        "CODED_df['title'] = CODED_df['title'].apply(clean).apply(lambda x: re.sub(r'\\?','-',x)) ## also replace question marks by dashes\n",
        "CODED_df['content'] = CODED_df['content'].apply(clean)\n",
        "\n",
        "\n",
        "\n",
        "##CODED_df"
      ],
      "metadata": {
        "colab": {
          "base_uri": "https://localhost:8080/"
        },
        "id": "WqbNHJUvcUcK",
        "outputId": "31df20d1-3c3c-4635-94e8-a61d5807614e"
      },
      "execution_count": 48,
      "outputs": [
        {
          "output_type": "stream",
          "name": "stdout",
          "text": [
            "a.type             0\n",
            "a.value            0\n",
            "term.type          0\n",
            "title              0\n",
            "definition.type    0\n",
            "content            0\n",
            "dtype: int64\n"
          ]
        }
      ]
    },
    {
      "cell_type": "markdown",
      "metadata": {
        "id": "DBCKUgkaLL8Z"
      },
      "source": [
        "####Merging all available glossaries and articles"
      ]
    },
    {
      "cell_type": "code",
      "execution_count": 49,
      "metadata": {
        "id": "PCs_aR-hLJKC",
        "colab": {
          "base_uri": "https://localhost:8080/",
          "height": 424
        },
        "outputId": "e14ad68c-c78b-43fb-cc6e-d195009e068d"
      },
      "outputs": [
        {
          "output_type": "execute_result",
          "data": {
            "text/plain": [
              "       article_id                                              title  \\\n",
              "0               0                                     Abatement cost   \n",
              "1               1                              Abnormal obsolescence   \n",
              "2               2                         Abuse of dominant position   \n",
              "3               3  Accessibility as a statistical data quality di...   \n",
              "4               4                Accountability in management theory   \n",
              "...           ...                                                ...   \n",
              "25043       11215                                            Taxiway   \n",
              "25044       11216                                           Taxonomy   \n",
              "25045       11217                                            Teacher   \n",
              "25046       11218  Technical action plan for agricultural statistics   \n",
              "25047       11219                       Technical cooperation grants   \n",
              "\n",
              "                                                 content  \n",
              "0      Abatement costs refer to expenditures which re...  \n",
              "1      Abnormal obsolescence is the loss in value of ...  \n",
              "2      The term abuse of dominant position refers to ...  \n",
              "3      The ease and the conditions with which statist...  \n",
              "4      A key concept in modern management theory and ...  \n",
              "...                                                  ...  \n",
              "25043  A defined path on an airport established for t...  \n",
              "25044  Classification of things according to a presum...  \n",
              "25045  A person employed in an official capacity for ...  \n",
              "25046  In order to improve the way in which Community...  \n",
              "25047  There are two basic types of technical coopera...  \n",
              "\n",
              "[25048 rows x 3 columns]"
            ],
            "text/html": [
              "\n",
              "  <div id=\"df-88d611d7-7896-4cef-8f25-513e3e787b14\">\n",
              "    <div class=\"colab-df-container\">\n",
              "      <div>\n",
              "<style scoped>\n",
              "    .dataframe tbody tr th:only-of-type {\n",
              "        vertical-align: middle;\n",
              "    }\n",
              "\n",
              "    .dataframe tbody tr th {\n",
              "        vertical-align: top;\n",
              "    }\n",
              "\n",
              "    .dataframe thead th {\n",
              "        text-align: right;\n",
              "    }\n",
              "</style>\n",
              "<table border=\"1\" class=\"dataframe\">\n",
              "  <thead>\n",
              "    <tr style=\"text-align: right;\">\n",
              "      <th></th>\n",
              "      <th>article_id</th>\n",
              "      <th>title</th>\n",
              "      <th>content</th>\n",
              "    </tr>\n",
              "  </thead>\n",
              "  <tbody>\n",
              "    <tr>\n",
              "      <th>0</th>\n",
              "      <td>0</td>\n",
              "      <td>Abatement cost</td>\n",
              "      <td>Abatement costs refer to expenditures which re...</td>\n",
              "    </tr>\n",
              "    <tr>\n",
              "      <th>1</th>\n",
              "      <td>1</td>\n",
              "      <td>Abnormal obsolescence</td>\n",
              "      <td>Abnormal obsolescence is the loss in value of ...</td>\n",
              "    </tr>\n",
              "    <tr>\n",
              "      <th>2</th>\n",
              "      <td>2</td>\n",
              "      <td>Abuse of dominant position</td>\n",
              "      <td>The term abuse of dominant position refers to ...</td>\n",
              "    </tr>\n",
              "    <tr>\n",
              "      <th>3</th>\n",
              "      <td>3</td>\n",
              "      <td>Accessibility as a statistical data quality di...</td>\n",
              "      <td>The ease and the conditions with which statist...</td>\n",
              "    </tr>\n",
              "    <tr>\n",
              "      <th>4</th>\n",
              "      <td>4</td>\n",
              "      <td>Accountability in management theory</td>\n",
              "      <td>A key concept in modern management theory and ...</td>\n",
              "    </tr>\n",
              "    <tr>\n",
              "      <th>...</th>\n",
              "      <td>...</td>\n",
              "      <td>...</td>\n",
              "      <td>...</td>\n",
              "    </tr>\n",
              "    <tr>\n",
              "      <th>25043</th>\n",
              "      <td>11215</td>\n",
              "      <td>Taxiway</td>\n",
              "      <td>A defined path on an airport established for t...</td>\n",
              "    </tr>\n",
              "    <tr>\n",
              "      <th>25044</th>\n",
              "      <td>11216</td>\n",
              "      <td>Taxonomy</td>\n",
              "      <td>Classification of things according to a presum...</td>\n",
              "    </tr>\n",
              "    <tr>\n",
              "      <th>25045</th>\n",
              "      <td>11217</td>\n",
              "      <td>Teacher</td>\n",
              "      <td>A person employed in an official capacity for ...</td>\n",
              "    </tr>\n",
              "    <tr>\n",
              "      <th>25046</th>\n",
              "      <td>11218</td>\n",
              "      <td>Technical action plan for agricultural statistics</td>\n",
              "      <td>In order to improve the way in which Community...</td>\n",
              "    </tr>\n",
              "    <tr>\n",
              "      <th>25047</th>\n",
              "      <td>11219</td>\n",
              "      <td>Technical cooperation grants</td>\n",
              "      <td>There are two basic types of technical coopera...</td>\n",
              "    </tr>\n",
              "  </tbody>\n",
              "</table>\n",
              "<p>25048 rows × 3 columns</p>\n",
              "</div>\n",
              "      <button class=\"colab-df-convert\" onclick=\"convertToInteractive('df-88d611d7-7896-4cef-8f25-513e3e787b14')\"\n",
              "              title=\"Convert this dataframe to an interactive table.\"\n",
              "              style=\"display:none;\">\n",
              "        \n",
              "  <svg xmlns=\"http://www.w3.org/2000/svg\" height=\"24px\"viewBox=\"0 0 24 24\"\n",
              "       width=\"24px\">\n",
              "    <path d=\"M0 0h24v24H0V0z\" fill=\"none\"/>\n",
              "    <path d=\"M18.56 5.44l.94 2.06.94-2.06 2.06-.94-2.06-.94-.94-2.06-.94 2.06-2.06.94zm-11 1L8.5 8.5l.94-2.06 2.06-.94-2.06-.94L8.5 2.5l-.94 2.06-2.06.94zm10 10l.94 2.06.94-2.06 2.06-.94-2.06-.94-.94-2.06-.94 2.06-2.06.94z\"/><path d=\"M17.41 7.96l-1.37-1.37c-.4-.4-.92-.59-1.43-.59-.52 0-1.04.2-1.43.59L10.3 9.45l-7.72 7.72c-.78.78-.78 2.05 0 2.83L4 21.41c.39.39.9.59 1.41.59.51 0 1.02-.2 1.41-.59l7.78-7.78 2.81-2.81c.8-.78.8-2.07 0-2.86zM5.41 20L4 18.59l7.72-7.72 1.47 1.35L5.41 20z\"/>\n",
              "  </svg>\n",
              "      </button>\n",
              "      \n",
              "  <style>\n",
              "    .colab-df-container {\n",
              "      display:flex;\n",
              "      flex-wrap:wrap;\n",
              "      gap: 12px;\n",
              "    }\n",
              "\n",
              "    .colab-df-convert {\n",
              "      background-color: #E8F0FE;\n",
              "      border: none;\n",
              "      border-radius: 50%;\n",
              "      cursor: pointer;\n",
              "      display: none;\n",
              "      fill: #1967D2;\n",
              "      height: 32px;\n",
              "      padding: 0 0 0 0;\n",
              "      width: 32px;\n",
              "    }\n",
              "\n",
              "    .colab-df-convert:hover {\n",
              "      background-color: #E2EBFA;\n",
              "      box-shadow: 0px 1px 2px rgba(60, 64, 67, 0.3), 0px 1px 3px 1px rgba(60, 64, 67, 0.15);\n",
              "      fill: #174EA6;\n",
              "    }\n",
              "\n",
              "    [theme=dark] .colab-df-convert {\n",
              "      background-color: #3B4455;\n",
              "      fill: #D2E3FC;\n",
              "    }\n",
              "\n",
              "    [theme=dark] .colab-df-convert:hover {\n",
              "      background-color: #434B5C;\n",
              "      box-shadow: 0px 1px 3px 1px rgba(0, 0, 0, 0.15);\n",
              "      filter: drop-shadow(0px 1px 2px rgba(0, 0, 0, 0.3));\n",
              "      fill: #FFFFFF;\n",
              "    }\n",
              "  </style>\n",
              "\n",
              "      <script>\n",
              "        const buttonEl =\n",
              "          document.querySelector('#df-88d611d7-7896-4cef-8f25-513e3e787b14 button.colab-df-convert');\n",
              "        buttonEl.style.display =\n",
              "          google.colab.kernel.accessAllowed ? 'block' : 'none';\n",
              "\n",
              "        async function convertToInteractive(key) {\n",
              "          const element = document.querySelector('#df-88d611d7-7896-4cef-8f25-513e3e787b14');\n",
              "          const dataTable =\n",
              "            await google.colab.kernel.invokeFunction('convertToInteractive',\n",
              "                                                     [key], {});\n",
              "          if (!dataTable) return;\n",
              "\n",
              "          const docLinkHtml = 'Like what you see? Visit the ' +\n",
              "            '<a target=\"_blank\" href=https://colab.research.google.com/notebooks/data_table.ipynb>data table notebook</a>'\n",
              "            + ' to learn more about interactive tables.';\n",
              "          element.innerHTML = '';\n",
              "          dataTable['output_type'] = 'display_data';\n",
              "          await google.colab.output.renderOutput(dataTable, element);\n",
              "          const docLink = document.createElement('div');\n",
              "          docLink.innerHTML = docLinkHtml;\n",
              "          element.appendChild(docLink);\n",
              "        }\n",
              "      </script>\n",
              "    </div>\n",
              "  </div>\n",
              "  "
            ]
          },
          "metadata": {},
          "execution_count": 49
        }
      ],
      "source": [
        "# merge OECD glossary with add_content, GL_df and SE_df\n",
        "glossaries = [OECD_df1, OECD_df2, GL_df, add_content, SE_df1, SE_df2, CODED_df]\n",
        "merged_glossary = pd.concat(glossaries, ignore_index=True)\n",
        "merged_glossary = merged_glossary.drop(['url'],axis=1)\n",
        "\n",
        "del(OECD_df1, OECD_df2, GL_df, add_content, SE_df1, SE_df2, CODED_df, glossaries)\n",
        "merged_glossary"
      ]
    },
    {
      "cell_type": "code",
      "execution_count": 50,
      "metadata": {
        "id": "uhqrCjzxLJGw"
      },
      "outputs": [],
      "source": [
        "# setting all pairs of titles and content to have a label of 1\n",
        "# this is because all pairs are considered a positive example\n",
        "merged_glossary['is_pair']=1"
      ]
    },
    {
      "cell_type": "markdown",
      "metadata": {
        "id": "yK04X-gELTgc"
      },
      "source": [
        "#### Keep 80% of data for training and 20% for evaluation of the model"
      ]
    },
    {
      "cell_type": "code",
      "execution_count": 51,
      "metadata": {
        "id": "3pyTKk2RLUMi"
      },
      "outputs": [],
      "source": [
        "from sklearn.model_selection import train_test_split\n",
        "train_features, eval_features, train_labels, eval_labels = train_test_split(merged_glossary[['title','content']], \n",
        "                                                                            merged_glossary[['is_pair']], \n",
        "                                                                            train_size=0.8, \n",
        "                                                                            random_state=1,\n",
        "                                                                            stratify=merged_glossary['is_pair'])\n",
        "\n",
        "train_features = train_features.reset_index(drop=True)\n",
        "eval_features = eval_features.reset_index(drop=True)"
      ]
    },
    {
      "cell_type": "markdown",
      "metadata": {
        "id": "OvoXDY4uLWe7"
      },
      "source": [
        "####Fine tuning bi-encoder (CUDA required)"
      ]
    },
    {
      "cell_type": "code",
      "execution_count": 52,
      "metadata": {
        "id": "WBnm6g9NLUJq"
      },
      "outputs": [],
      "source": [
        "# convert training examples to the appropriate format\n",
        "train_examples = []\n",
        "for i in range(len(train_features)):\n",
        "  train_examples.append(InputExample(texts=[train_features['title'].iloc[i], train_features['content'].iloc[i]]))"
      ]
    },
    {
      "cell_type": "code",
      "execution_count": 53,
      "metadata": {
        "id": "qe5_q9WyLJEC"
      },
      "outputs": [],
      "source": [
        "finetune_dataloader = DataLoader(train_examples, shuffle=True, batch_size=16)"
      ]
    },
    {
      "cell_type": "code",
      "execution_count": 54,
      "metadata": {
        "id": "nokDa_3PLeAW"
      },
      "outputs": [],
      "source": [
        "# MultipleNegativesRankingLoss is a great loss function if you only have positive pairs \n",
        "loss = MultipleNegativesRankingLoss(model=bi_encoder)"
      ]
    },
    {
      "cell_type": "code",
      "execution_count": 55,
      "metadata": {
        "id": "fEIoSUIPLd9T"
      },
      "outputs": [],
      "source": [
        "from sentence_transformers.evaluation import EmbeddingSimilarityEvaluator, BinaryClassificationEvaluator, MSEEvaluator\n",
        "from sentence_transformers import evaluation\n",
        "\n",
        "sentences1 = list(eval_features['title'])\n",
        "sentences2 = list(eval_features['content'])\n",
        "scores_eval = list(eval_labels['is_pair'])"
      ]
    },
    {
      "cell_type": "code",
      "execution_count": 56,
      "metadata": {
        "id": "FcgTGiHELd6z"
      },
      "outputs": [],
      "source": [
        "evaluator = evaluation.MSEEvaluator(sentences1, sentences2, teacher_model=bi_encoder)"
      ]
    },
    {
      "cell_type": "code",
      "execution_count": 57,
      "metadata": {
        "colab": {
          "base_uri": "https://localhost:8080/"
        },
        "id": "U2Vz7N4QLd37",
        "outputId": "933ee9e1-34ca-46d2-e429-6cbebdc42512"
      },
      "outputs": [
        {
          "output_type": "execute_result",
          "data": {
            "text/plain": [
              "50"
            ]
          },
          "metadata": {},
          "execution_count": 57
        }
      ],
      "source": [
        "#cleaning up any CUDA related left-overs\n",
        "import gc\n",
        "gc.collect()"
      ]
    },
    {
      "cell_type": "code",
      "execution_count": 58,
      "metadata": {
        "colab": {
          "base_uri": "https://localhost:8080/",
          "height": 209,
          "referenced_widgets": [
            "0b741b93556448ee8a7936ef6ea3e021",
            "666571af330f4b80afe73871e92eebba",
            "e2391ff2491c412a8a57255ca3ef9781",
            "84e4372b6d2b45ba845ae939b8ed77de",
            "38a587fd8b044c07832d9bc3afd6cca5",
            "72dce0458ed34688a550469c56ac6742",
            "6383823637f2499680d1b7f2708f9cec",
            "508eff0690ac485b91010f5f148eebde",
            "6ee60723224d44d091d8b467fec5aab6",
            "159cce7a07334705bd26650f890358e0",
            "6220a939e51c4f19928d571d04e1202a",
            "846b418bde3c47a1a762adcfb894fd3b",
            "f3ed22204fd74dd18596374afc0bbe67",
            "76350fad2ea84f76a08e89b6e1bace32",
            "97c0a59c14644ffa934cca6e55c97701",
            "01df8d97aefd4a0b8d33a8c1853bc673",
            "83d2335e16934007a021ddc08bf0e4d0",
            "44878469c4ad4884b06349064425aea0",
            "73a303a35fc24a3eab00f1ae274e437e",
            "49810bc3cb6a4cc0a268812bde627b91",
            "5c6ff52beaa34000b837c4e494025f7d",
            "d3969f2b2fc343b3b73b53e923269d74",
            "11144889279040caa230a07fcf63f344",
            "5401394bf9d445d88b9413459252a5d7",
            "67f69c79303b4a25992a90a6d8fd2f13",
            "8e256184fd284899a520d59b52774fa2",
            "16239235acf04a43bae8b5e7eabe1a41",
            "8d07b9919e8e40d785ca6921f7fb211f",
            "bdd1b30e94d0437390286fbc68f75e9a",
            "28841b3d24724657a79952e6aa1541fa",
            "11d1dfc5aac2452696767e1f0d9cb400",
            "5c36b832bcc04a1bae158c8bfdba27ab",
            "1c66abdaf758432ab8489c51a5db5f16",
            "868dff71d1104d89a328d7590d6dfcf8",
            "57485c9152914e0a9411e69ba1fdb6c1",
            "7e35ada6a4f2470280ff12304e312079",
            "307ae9eb176a48739a2c29e7fde8c482",
            "8e8a365517c24640b93af4349a7c6640",
            "38fb780384b54c40b86b1ae03ac2baeb",
            "3f80416fb00a497198fc931f58dcc052",
            "0b5abdaee64a409480ea52ce55978419",
            "7326daadeb614069b3e87d0923c4b2dd",
            "3ca85ee4e17a4fdd97e8125b2a25d810",
            "700a222882a64366957a3ec1f76b0fb8",
            "120e7f678b384b1190cd8187acb7fe2c",
            "6222a75bd304471a9857a955fa6d3584",
            "ccca9ae67cde4e3dbbc0c587c28ac5f6",
            "6bf5137146814b1981542c41b485da11",
            "027957d4c4be49329fd0c77a2c6a8e61",
            "7a8cfd71925a40eeacbf196fd0cb46d0",
            "2bcb12577dfa4427bee7580defd62892",
            "e0ca170446ea4454872bb55fccbb5ea3",
            "cc769a57a8584d8184a552ac15801ffc",
            "62f3a5ffbf874a4bbd3e505735e95ff5",
            "822bd9fe4a2a4e1ab72a62b74c040e14",
            "b613872b2b5e46e2bc11179e02237682",
            "320cb3f7e78941c8ae04a3e9d12c6fb7",
            "6381fbd73d2249c39e0659c553951018",
            "3553f58c64d34962bb8c10237c0660ef",
            "791afe4454e741b794734a1eaaffeeeb",
            "037dc3b549414290bd2d0810a3c8f7c0",
            "dca187516afb406596a3d1aeda95c653",
            "161057e805394eb5a4ed973a79ab2222",
            "ed6955a481d041cca47d34894ca111c2",
            "c626fb45957c4f5999ad2e3465b7f68d",
            "0eed1df0e7c14b40a9522f5da8d8ccb4"
          ]
        },
        "id": "-Oa99uJPLj1a",
        "outputId": "8593a68c-0e33-4e5c-b13c-2ded86db6e8b"
      },
      "outputs": [
        {
          "output_type": "display_data",
          "data": {
            "text/plain": [
              "Epoch:   0%|          | 0/5 [00:00<?, ?it/s]"
            ],
            "application/vnd.jupyter.widget-view+json": {
              "version_major": 2,
              "version_minor": 0,
              "model_id": "0b741b93556448ee8a7936ef6ea3e021"
            }
          },
          "metadata": {}
        },
        {
          "output_type": "display_data",
          "data": {
            "text/plain": [
              "Iteration:   0%|          | 0/1253 [00:00<?, ?it/s]"
            ],
            "application/vnd.jupyter.widget-view+json": {
              "version_major": 2,
              "version_minor": 0,
              "model_id": "846b418bde3c47a1a762adcfb894fd3b"
            }
          },
          "metadata": {}
        },
        {
          "output_type": "display_data",
          "data": {
            "text/plain": [
              "Iteration:   0%|          | 0/1253 [00:00<?, ?it/s]"
            ],
            "application/vnd.jupyter.widget-view+json": {
              "version_major": 2,
              "version_minor": 0,
              "model_id": "11144889279040caa230a07fcf63f344"
            }
          },
          "metadata": {}
        },
        {
          "output_type": "display_data",
          "data": {
            "text/plain": [
              "Iteration:   0%|          | 0/1253 [00:00<?, ?it/s]"
            ],
            "application/vnd.jupyter.widget-view+json": {
              "version_major": 2,
              "version_minor": 0,
              "model_id": "868dff71d1104d89a328d7590d6dfcf8"
            }
          },
          "metadata": {}
        },
        {
          "output_type": "display_data",
          "data": {
            "text/plain": [
              "Iteration:   0%|          | 0/1253 [00:00<?, ?it/s]"
            ],
            "application/vnd.jupyter.widget-view+json": {
              "version_major": 2,
              "version_minor": 0,
              "model_id": "120e7f678b384b1190cd8187acb7fe2c"
            }
          },
          "metadata": {}
        },
        {
          "output_type": "display_data",
          "data": {
            "text/plain": [
              "Iteration:   0%|          | 0/1253 [00:00<?, ?it/s]"
            ],
            "application/vnd.jupyter.widget-view+json": {
              "version_major": 2,
              "version_minor": 0,
              "model_id": "b613872b2b5e46e2bc11179e02237682"
            }
          },
          "metadata": {}
        }
      ],
      "source": [
        "# Fine-tune the model (BE CAREFUL TO SET A PATH FOR THE FINE-TUNED MODEL)\n",
        "num_epochs = 5\n",
        "path_to_save_bi_encoder = '/content/drive/MyDrive/testing_fine_tuning'\n",
        "bi_encoder.fit(train_objectives=[(finetune_dataloader, loss)], evaluator=evaluator, optimizer_class=torch.optim.AdamW, epochs=num_epochs, output_path=path_to_save_bi_encoder)"
      ]
    },
    {
      "cell_type": "markdown",
      "metadata": {
        "id": "ZCPLESdLLnRY"
      },
      "source": [
        "####Loading the fine-tuned model"
      ]
    },
    {
      "cell_type": "code",
      "execution_count": 59,
      "metadata": {
        "id": "hIpbzcuQLjyF"
      },
      "outputs": [],
      "source": [
        "fine_tuned_bi_encoder = SentenceTransformer(path_to_save_bi_encoder)\n",
        "path_to_bi_encoder = path_to_save_bi_encoder"
      ]
    },
    {
      "cell_type": "code",
      "execution_count": 60,
      "metadata": {
        "id": "yUyskeh7Lju7"
      },
      "outputs": [],
      "source": [
        "bi_encoder = fine_tuned_bi_encoder"
      ]
    },
    {
      "cell_type": "markdown",
      "metadata": {
        "id": "Fim-_vBhxIY4"
      },
      "source": [
        "### DeepPavlov"
      ]
    },
    {
      "cell_type": "markdown",
      "metadata": {
        "id": "Epwxdpjb-WSJ"
      },
      "source": [
        "#### Creating Components"
      ]
    },
    {
      "cell_type": "code",
      "execution_count": 61,
      "metadata": {
        "id": "k26c4i1z9k5e"
      },
      "outputs": [],
      "source": [
        "# __init__ functions are called once in the very beggining of components initialization\n",
        "# __call__ functions are called every time the user interacts with chatbot"
      ]
    },
    {
      "cell_type": "code",
      "execution_count": 62,
      "metadata": {
        "id": "ehplUXhGeviD"
      },
      "outputs": [],
      "source": [
        "@register('datasets_retriever')\n",
        "class DatasetsRetriever(Component):\n",
        "    def __init__(self, datasets_path: str, pretrained_model: str, top_n: int, path_column: str, **kwargs):\n",
        "      self.model = SentenceTransformer(pretrained_model)\n",
        "      self.datasets = pd.read_pickle(datasets_path)\n",
        "      self.top_n = top_n\n",
        "\n",
        "      # calculate corpus embeddings and augment dataset with these (so as to compute them only once)\n",
        "      embeddings = self.model.encode(self.datasets[path_column], convert_to_tensor=True, show_progress_bar=False)\n",
        "      self.datasets['embeddings'] = list(embeddings.cpu())\n",
        "\n",
        "    def __call__(self, query: str, datasets: pd.DataFrame = None) -> pd.DataFrame:\n",
        "      #calculate user's query embedding (initial or augmented)\n",
        "      query_embedding = self.model.encode(query, convert_to_tensor=True, show_progress_bar=False)\n",
        "\n",
        "      if datasets is None:\n",
        "        data_df = self.datasets.copy()\n",
        "      else:\n",
        "        data_df = datasets.copy()\n",
        "      \n",
        "      data_df.reset_index(drop=True, inplace=True)\n",
        "      data_df['corpus_id'] = data_df.index\n",
        "\n",
        "      # top_n refers to number of Eurostat databases we want to retrieve with the bi-encoder\n",
        "      hits = util.semantic_search(query_embedding, torch.stack(data_df['embeddings'].values.tolist()), top_k=self.top_n)\n",
        "      hits = hits[0]\n",
        "      hits_df = pd.DataFrame(hits)\n",
        "\n",
        "      if 'score' in data_df.columns:\n",
        "        data_df.drop(['score'], inplace=True, axis=1)\n",
        "      \n",
        "      # return the dataset augmented with two columns (bi-encoder corpus embeddings and score)\n",
        "      data_df = hits_df.merge(data_df, on='corpus_id', how='inner')\n",
        "\n",
        "      return data_df\n",
        "\n",
        "\n",
        "@register('datasets_reranker')\n",
        "class DatasetsReranker(Component):\n",
        "    def __init__(self, pretrained_model:str, path_column: str, **kwargs):\n",
        "      self.path_column = path_column\n",
        "      self.model = CrossEncoder(pretrained_model)\n",
        "        \n",
        "    def __call__(self, query: str, top_n_datasets: pd.DataFrame) -> pd.DataFrame:\n",
        "      # score all retrieved datasets with the cross_encoder\n",
        "      cross_inp = [[query, top_n_datasets[self.path_column][i]] for i in range(len(top_n_datasets))]\n",
        "\n",
        "      top_n_datasets['cross_scores'] = self.model.predict(cross_inp)\n",
        "      top_n_datasets = top_n_datasets.sort_values(['cross_scores'],ascending=False)\n",
        "\n",
        "      return top_n_datasets\n",
        "\n",
        "@register('datasets_reducer')\n",
        "class DatasetsReducer(Component):\n",
        "    def __init__(self, **kwargs):\n",
        "      pass\n",
        "        \n",
        "    def __call__(self, individual_query: str, intermediate_results:bool , datasets: pd.DataFrame) -> pd.DataFrame:\n",
        "      # perform kmeans with 2 and 3 clusters on cross_scores, and only keep the cluster\n",
        "      # that contains the result with best cross-score\n",
        "\n",
        "      optimalK = OptimalK(clusterer = self._k_means_clustering)\n",
        "      n_clusters = optimalK(datasets[['cross_scores']], cluster_array=np.arange(2, 4))\n",
        "      print('Optimal clusters: ', n_clusters)\n",
        "      print(optimalK.gap_df[['n_clusters', 'gap_value']])\n",
        "      \n",
        "      ## repeat with the optimal number of clusters between 2 and 3\n",
        "      kmeans = KMeans(n_clusters=n_clusters, random_state=42).fit(datasets[['cross_scores']])\n",
        "\n",
        "      datasets['cluster_id'] =  list(kmeans.labels_)\n",
        "      real_clusters = len(np.unique(datasets['cluster_id']))\n",
        "      print('real clusters: ',real_clusters)\n",
        "      if n_clusters == 3 and real_clusters != 3:\n",
        "        kmeans = KMeans(n_clusters=2, random_state=42).fit(datasets[['cross_scores']])\n",
        "        datasets['cluster_id'] =  list(kmeans.labels_)\n",
        "\n",
        "      # plot histogram\n",
        "      if intermediate_results:\n",
        "        ax = self._create_plot(datasets, n_clusters, individual_query)\n",
        "        display(ax)\n",
        "\n",
        "      datasets = datasets[datasets['cluster_id']==(datasets['cluster_id'].iloc[0])]\n",
        "      return datasets\n",
        "\n",
        "    def _k_means_clustering(self, data, num_of_clusters):\n",
        "      # Include any clustering Algorithm that can return cluster centers\n",
        "        m = KMeans(random_state=42, n_clusters=num_of_clusters)\n",
        "        m.fit(data)\n",
        "        # Return the location of each cluster center, and the labels for each point.\n",
        "        return m.cluster_centers_, m.predict(data)\n",
        "    \n",
        "\n",
        "    def _create_plot(self, datasets, n_clusters, individual_query):\n",
        "      # use a gray background\n",
        "      ax = plt.axes(facecolor='#E6E6E6')\n",
        "      ax.set_axisbelow(True)\n",
        "\n",
        "      # draw solid white grid lines\n",
        "      plt.grid(color='w', linestyle='solid')\n",
        "\n",
        "      # hide axis spines\n",
        "      for spine in ax.spines.values():\n",
        "          spine.set_visible(False)\n",
        "          \n",
        "      # hide top and right ticks\n",
        "      ax.xaxis.tick_bottom()\n",
        "      ax.yaxis.tick_left()\n",
        "\n",
        "      # lighten ticks and labels\n",
        "      ax.tick_params(colors='gray', direction='out')\n",
        "      for tick in ax.get_xticklabels():\n",
        "          tick.set_color('gray')\n",
        "      for tick in ax.get_yticklabels():\n",
        "          tick.set_color('gray')\n",
        "\n",
        "      for cluster in range(n_clusters):\n",
        "        ax.hist(datasets['cross_scores'][(datasets['cluster_id'] == cluster)], 5, density=False, histtype='bar',  label='cluster '+str(cluster))\n",
        "      ax.legend(prop={'size': 10})\n",
        "      ax.set_xlabel('cross_scores')\n",
        "      ax.set_title(f'Reduction phase, K-means clusters histogram query={individual_query}')\n",
        "      plt.pause(0.05)\n",
        "      return ax\n",
        "\n",
        "@register('question_generator')\n",
        "class QuestionGenerator(Component):\n",
        "  def __init__(self, ngram_range: Tuple[int, int], max_df: float, min_df: float, **kwargs):\n",
        "    self.ngram_range = ngram_range\n",
        "    self.max_df = max_df\n",
        "    self.min_df = min_df\n",
        "  \n",
        "  def __call__(self, corpus: pd.Series, stop_words: Set[str], unwanted_words: List[str]) -> Tuple[str, str, List[str]]:\n",
        "    # exclude 'by' from stopwords (as we think that carries useful information)\n",
        "    stop_words_copy = stop_words.copy()\n",
        "    stop_words_copy.remove('by')\n",
        "    vectorizer = TfidfVectorizer(stop_words=stop_words_copy, ngram_range=self.ngram_range, max_df=self.max_df, min_df=self.min_df, token_pattern='(?u)\\\\b\\\\w*[a-zA-Z%&\\-/]+\\\\w*\\\\b|\\\\b[0-9]{4}\\\\b')\n",
        "    subset = vectorizer.fit_transform(corpus)\n",
        "\n",
        "    # a vocublulary of tokens that includes all ngrams that have been produced \n",
        "    vocabulary_words = vectorizer.get_feature_names()\n",
        "    #print(vocabulary_words)\n",
        "\n",
        "    # decide on the order that we want to show the user the ngrams (in the clarification question)\n",
        "    sorted_word_idx = list(np.argsort(np.mean(subset.toarray(), axis=0)))\n",
        "\n",
        "    # get the index of all unwanted words that are in the words dictionary\n",
        "    existing_idx = list(map(lambda o: vectorizer.vocabulary_[o], filter(lambda o: o in vectorizer.vocabulary_, unwanted_words)))\n",
        "\n",
        "    # making sure that the cleaned term will be removed from ngrams to propose\n",
        "    sorted_idxs = [x for x in sorted_word_idx if x not in existing_idx]\n",
        "    for idx in sorted_idxs[::-1]:\n",
        "      question_word = vocabulary_words[idx]\n",
        "      clean_term = self._clean_term_to_show(question_word)\n",
        "      if clean_term not in unwanted_words:\n",
        "        break\n",
        "      else:\n",
        "        pass\n",
        "\n",
        "    question = f\"bot: {self._choose_question(clean_term)} (yes/no/add some keywords, q to quit) \\nme:  \"  \n",
        "\n",
        "    return question_word, question, vocabulary_words\n",
        "\n",
        "  def _clean_term_to_show(self, input_term):\n",
        "    # remove 'by' if it is the last token\n",
        "    tokens = input_term.split()\n",
        "    if tokens[-1]=='by':\n",
        "      return ' '.join(tokens[:-1])\n",
        "    return input_term\n",
        "\n",
        "  def _choose_question(self, input_term):\n",
        "  # function to produce a random question \n",
        "  \n",
        "    input_tokens = input_term.split()\n",
        "    # if ngram starts with 'by'\n",
        "    if input_tokens[0]=='by':\n",
        "      question_texts = [f\"Would you like to see results {input_term}?\", \n",
        "                        f\"Would you be interested in seeing results {input_term}?\",  \n",
        "                        f\"Let's make it more specific. Are you interested in seeing results {input_term}?\"]\n",
        "    # if ngram contains 3 or more tokens (this means that the question becomes very specific)\n",
        "    elif len(input_tokens)>=3:\n",
        "      question_texts = [f\"What about {input_term}?\"]\n",
        "    else:\n",
        "      question_texts = [f\"Can we make it more specific? Is '{input_term}' related to what you are looking for?\", \n",
        "                        f\"Let's make it more specific. Are you interested in '{input_term}'?\",\n",
        "                        f\"I have some results related to '{input_term}'. Is that what you are looking for?\",\n",
        "                        f\"It would help me if could be could be more specific. Is '{input_term}' related to what you are searching?\",\n",
        "                        f\"Would you be interested in '{input_term}'?\",\n",
        "                        f\"Is '{input_term}' related to what you are looking for?\",\n",
        "                        f\"It would help me if you could provide more details. Is '{input_term}' something related to your query?\",\n",
        "                        f\"Please provide more details. Is '{input_term}' something related to what you are looking for?\",\n",
        "                        f\"Are you interested to results related to '{input_term}'?\",\n",
        "                        f\"Help me please to understand what you mean. Are you referring to '{input_term}'\"\n",
        "      ]\n",
        "    return random.choice(question_texts)\n",
        "\n",
        "@register('response_handler')\n",
        "class ResponseHandler(Component):\n",
        "  def __init__(self, **kwargs):\n",
        "    self._stop_words = stopwords.words('english')\n",
        "    self._stemmer = PorterStemmer()\n",
        "  \n",
        "  def __call__(self, question_word: str, input_text: str, answer_text: str, vocabulary_words: List[str], \\\n",
        "               all_unwanted_words: List[str], stop_after_multiple_yes: int, stop_after_multiple_no: int) -> Tuple[str, str, List[str],int, int]:\n",
        "\n",
        "    if answer_text.lower()=='yes':\n",
        "      # stop if you reach a threshold for \"yes\" answers from the user\n",
        "      stop_after_multiple_yes = stop_after_multiple_yes - 1\n",
        "\n",
        "      #update the initial query with the new ngram that we proposed (question_word)\n",
        "      input_text = input_text + ' ' + question_word\n",
        "      # find all terms that are similar to that ngram proposed and add them to the unwanted words\n",
        "      all_unwanted_words.extend(self._similar_subset_terms(vocabulary_words, question_word))\n",
        "      all_unwanted_words = list(set(all_unwanted_words))\n",
        "      \n",
        "      # make use of DeepPavlov's Component, to get the updated results based on the augmented user's answer\n",
        "      return \"retrieve_rerank\", input_text, all_unwanted_words, stop_after_multiple_yes, stop_after_multiple_no\n",
        "      ## query_results_df = self._retrieve_and_rerank(input_text, question_word, show_inter_results, query_results_df)\n",
        "\n",
        "    elif answer_text.lower()=='no':\n",
        "      # stop if you reach a threshold for \"no\" answers from the user\n",
        "      stop_after_multiple_no = stop_after_multiple_no - 1\n",
        "\n",
        "      # find all terms that are similar to that ngram proposed and add them to the unwanted words\n",
        "      all_unwanted_words.extend(self._similar_superset_terms(vocabulary_words, question_word))\n",
        "      all_unwanted_words = list(set(all_unwanted_words))\n",
        "      return \"check_stop\", input_text, all_unwanted_words, stop_after_multiple_yes, stop_after_multiple_no\n",
        "\n",
        "    # user can quit at any time\n",
        "    elif answer_text.lower()=='q':\n",
        "      ##break\n",
        "      return \"quit\", None, None, None\n",
        "\n",
        "    # allow user to define what ngrams NOT to ask\n",
        "    elif answer_text.lower().startswith('no '):\n",
        "      # treat as providing information\n",
        "      stop_after_multiple_yes = stop_after_multiple_yes - 1 \n",
        "      no_text = re.sub('no ','', answer_text)\n",
        "\n",
        "      all_unwanted_words.extend(self._similar_superset_terms(vocabulary_words, question_word))\n",
        "      for token in self._generate_ngrams1(no_text): \n",
        "        all_unwanted_words.extend(self._similar_superset_terms(vocabulary_words, token))\n",
        "      all_unwanted_words = list(set(all_unwanted_words))\n",
        "      return \"check_stop\", input_text, all_unwanted_words, stop_after_multiple_yes, stop_after_multiple_no   \n",
        "\n",
        "    # in case that the user has entered a keyword/phrase/sentence instead of answering yes/no  \n",
        "    else:\n",
        "      # updating the threshold of yes\n",
        "      stop_after_multiple_yes = stop_after_multiple_yes - 1\n",
        "\n",
        "      # update the user's query with the text that they typed\n",
        "      input_text = input_text + ' ' + answer_text\n",
        "      # for every token that the user's answer contain\n",
        "      for token in self._generate_ngrams1(answer_text):\n",
        "        # find all terms that are similar to that ngram proposed and add them to the unwanted words\n",
        "        all_unwanted_words.extend(self._similar_subset_terms(vocabulary_words, token))\n",
        "      all_unwanted_words = list(set(all_unwanted_words))\n",
        "\n",
        "      # make use of DeepPavlov's Component, to get the updated results based on the augmented user's answer\n",
        "      return \"retrieve_rerank\", input_text, all_unwanted_words, stop_after_multiple_yes, stop_after_multiple_no\n",
        "      ## query_results_df = self._retrieve_and_rerank(input_text, answer_text, show_inter_results, query_results_df)\n",
        "        \n",
        "  def _generate_ngrams1(self, input_text):\n",
        "    # generate a list tha contains all 1 to 4 ngrams from input_text\n",
        "    vectorizer1 = TfidfVectorizer(ngram_range=(1, 4))\n",
        "    _ = vectorizer1.fit([input_text])\n",
        "    input_ngrams = list(vectorizer1.get_feature_names())\n",
        "    return input_ngrams\n",
        "  \n",
        "  # Notion behind this function is that when user answers 'yes' to a proposed ngram,\n",
        "  # then they might be interested in more specific ngram (e.g. if asked\n",
        "  # 'unemployment rate', would be interested in 'harmonised unemployment rate' also).\n",
        "  # Simultaneously, the user would not want to see a repetition of a less specific ngram\n",
        "  # (e.g. if asked for 'unemployment rate', wouldn't be interested in either\n",
        "  # 'unemployment' or 'rates' to be asked again).\n",
        "  # This function is used when we want to find all similar terms to input_term,\n",
        "  # against the terms_list. We seek similar terms in terms_list.  If input term is\n",
        "  # a superset of a (stemmed) term in the terms_list, then this is considered as similar.\n",
        "  # Example:\n",
        "  # input_term = unemployment rate\n",
        "  # terms_list = [unemployment rate, unemployment rates, unemployment, rate, harmonised unemployment rate]\n",
        "  # terms = [unemployment rate, unemployment rates, unemployment, rate]\n",
        "  def _similar_subset_terms(self, terms_list, input_term):\n",
        "\n",
        "    # input_term might be 1 or more tokens (usually words, numbers, etc)\n",
        "    tokens = input_term.split() \n",
        "    # get all unique input tokens that are not stopwords\n",
        "    tokens = set(filter(lambda o: not o in self._stop_words, tokens))\n",
        "    if len(tokens)==0:\n",
        "      return []\n",
        "\n",
        "    # get the unique stemmed tokens\n",
        "    stemmed_tokens = set(map(lambda o: self._stemmer.stem(o), tokens))\n",
        "\n",
        "    terms = []\n",
        "    for term in terms_list:\n",
        "      stemmed_term = set(map(lambda o: self._stemmer.stem(o), term.split()))\n",
        "      stemmed_term = set(filter(lambda o: not o in self._stop_words, stemmed_term))\n",
        "      # issuperset returns true if stemmed_tokens is a superset of stemmed_term\n",
        "      if stemmed_tokens.issuperset(stemmed_term):\n",
        "        terms.append(term)\n",
        "      \n",
        "    return terms\n",
        "\n",
        "  # Notion behind this function is that when user answers 'no' to a proposed ngram\n",
        "  # or replies with their own phrase, then they might be interested in more generic\n",
        "  # ngram (e.g. if asked 'educational attainment level' and answered 'no', might\n",
        "  # be interested in 'educational' solely). Simultaneously, the user would not\n",
        "  # want to see a more specific ngram (e.g. if asked for 'unemployment rate', wouldn't\n",
        "  # be interested in 'unemployment rate by sex').\n",
        "  # This function is used when we want to find all similar terms to input_term,\n",
        "  # against the terms_list. We seek similar terms in terms_list.  If input term is\n",
        "  # a subset of a (stemmed) term in the terms_list, then this is considered as similar.\n",
        "  # Example:\n",
        "  # input_term = unemployment rate\n",
        "  # terms_list = [unemployment rate, unemployment rates, unemployment, rate, harmonised unemployment rate]\n",
        "  # terms = [unemployment rate, unemployment rates, harmonised unemployment rate]\n",
        "  def _similar_superset_terms(self, terms_list, input_term):\n",
        "\n",
        "    # input_term might be 1 or more tokens (usually words, numbers, etc)\n",
        "    tokens = input_term.split()\n",
        "    # get all unique input tokens that are not stopwords\n",
        "    tokens = set(filter(lambda o: not o in self._stop_words, tokens))\n",
        "    if len(tokens)==0:\n",
        "      return []\n",
        "\n",
        "    # get the unique stemmed tokens\n",
        "    stemmed_tokens = set(map(lambda o: self._stemmer.stem(o), tokens))\n",
        "\n",
        "    terms = []\n",
        "    for term in terms_list:\n",
        "      stemmed_term = set(map(lambda o: self._stemmer.stem(o), term.split()))\n",
        "      # issubset returns true if stemmed_tokens is a subset of stemmed_term\n",
        "      if stemmed_tokens.issubset(stemmed_term):\n",
        "        terms.append(term)\n",
        "      \n",
        "    return terms\n"
      ]
    },
    {
      "cell_type": "markdown",
      "metadata": {
        "id": "BQYrAFzsS4MD"
      },
      "source": [
        "#### JSON pipeline configurations"
      ]
    },
    {
      "cell_type": "code",
      "execution_count": 63,
      "metadata": {
        "id": "VCEn1jNt-XNy"
      },
      "outputs": [],
      "source": [
        "# An NLP pipeline config is a JSON file that contains one required element chainer, \n",
        "# which builds a pipeline from heterogeneous components (Rule-Based/ML/DL)"
      ]
    },
    {
      "cell_type": "code",
      "execution_count": 64,
      "metadata": {
        "id": "5Ur4_8dWexR7"
      },
      "outputs": [],
      "source": [
        "retrieve_and_rerank_config = {\n",
        "    'chainer': {\n",
        "        'in': ['query', 'individual_query', 'intermediate_results', 'datasets'],\n",
        "        'pipe': [\n",
        "            {\n",
        "                'class_name': 'datasets_retriever',\n",
        "                'id': 'datasets_retriever',\n",
        "                'datasets_path': '{DATASETS_PATH}',\n",
        "                'pretrained_model': f\"{path_to_bi_encoder}\",\n",
        "                'path_column': 'Full path',\n",
        "                'top_n': 100,\n",
        "                'in': ['query', 'datasets'],\n",
        "                'out': ['top_n_datasets']\n",
        "            },\n",
        "            {\n",
        "                'class_name': 'datasets_reranker',\n",
        "                'id': 'datasets_reranker',\n",
        "                'pretrained_model': 'cross-encoder/ms-marco-MiniLM-L-6-v2',\n",
        "                'path_column': 'Full path',\n",
        "                'in': ['query', 'top_n_datasets'],\n",
        "                'out': ['reranked_datasets']\n",
        "            },\n",
        "            {\n",
        "                'class_name': 'datasets_reducer',\n",
        "                'id': 'datasets_reducer',\n",
        "                'in': ['individual_query', 'intermediate_results', 'reranked_datasets'],\n",
        "                'out': ['reduced_datasets']\n",
        "            }\n",
        "        ],\n",
        "        'out': ['reduced_datasets']\n",
        "    },\n",
        "    \"metadata\": {\n",
        "      \"variables\": {\n",
        "        \"ROOT_PATH\": \"/content/drive/MyDrive/\",\n",
        "        \"DATASETS_PATH\": f\"{{ROOT_PATH}}/{dataset_to_load}\"\n",
        "      }\n",
        "  }\n",
        "}"
      ]
    },
    {
      "cell_type": "code",
      "execution_count": 65,
      "metadata": {
        "id": "YfWzV8Tc-afa"
      },
      "outputs": [],
      "source": [
        "question_generator_config = {\n",
        "    'chainer': {\n",
        "        'in': ['corpus', 'stop_words', 'unwanted_words'],\n",
        "        'pipe': [\n",
        "            {\n",
        "                'class_name': 'question_generator',\n",
        "                'id': 'question_generator',\n",
        "                'ngram_range': [2, 4],\n",
        "                'max_df': 0.89,\n",
        "                'min_df': 0.02,\n",
        "                'in': ['corpus', 'stop_words', 'unwanted_words'],\n",
        "                'out': ['question_token','question', 'vocabulary']\n",
        "            }\n",
        "        ],\n",
        "        'out': ['question_token', 'question', 'vocabulary']\n",
        "    }\n",
        "}"
      ]
    },
    {
      "cell_type": "code",
      "execution_count": 66,
      "metadata": {
        "id": "27v2NI9merd2"
      },
      "outputs": [],
      "source": [
        "response_handler_config = {\n",
        "    'chainer': {\n",
        "        'in': ['question_word', 'input_text', 'answer_text', 'vocabulary_words', 'all_unwanted_words', 'stop_after_multiple_yes', 'stop_after_multiple_no'],\n",
        "        'pipe': [\n",
        "            {\n",
        "                'class_name': 'response_handler',\n",
        "                'id': 'response_handler',\n",
        "                'in': ['question_word', 'input_text', 'answer_text', 'vocabulary_words', 'all_unwanted_words', 'stop_after_multiple_yes', 'stop_after_multiple_no'],\n",
        "                'out': ['outcome', 'input_text', 'all_unwanted_words', 'stop_after_multiple_yes', 'stop_after_multiple_no']\n",
        "            }\n",
        "        ],\n",
        "        'out': ['outcome', 'input_text', 'all_unwanted_words', 'stop_after_multiple_yes', 'stop_after_multiple_no']\n",
        "    }\n",
        "}"
      ]
    },
    {
      "cell_type": "markdown",
      "metadata": {
        "id": "76bucpBm-uWT"
      },
      "source": [
        "## Databot"
      ]
    },
    {
      "cell_type": "code",
      "execution_count": 67,
      "metadata": {
        "id": "e4_NwrZT-ntr"
      },
      "outputs": [],
      "source": [
        "class Chatbot:\n",
        "  def __init__(self):\n",
        "    self._retrieve_and_rerank = build_model(retrieve_and_rerank_config)\n",
        "    self._question_generator = build_model(question_generator_config)\n",
        "    self._response_handler = build_model(response_handler_config)\n",
        "    self._stop_words = stopwords.words('english')\n",
        "    self._stemmer = PorterStemmer()\n",
        "\n",
        "  def run(self, stop_after_multiple_no: int, stop_after_multiple_yes:int, show_inter_results:bool):\n",
        "    input_text = input(\"bot: Hello, what are you looking for? \\nme:  \")\n",
        "    # make use of DeepPavlov's Component, that retrieves a number of datasets,\n",
        "    # reranks them and then reduces the number of them based on clustering\n",
        "    if input_text.lower()=='q': \n",
        "      print('Conversation aborted')\n",
        "      return\n",
        "    query_results_df = self._retrieve_and_rerank(input_text, input_text, show_inter_results, None)\n",
        "\n",
        "    # initialize list, where we keep all ngrams that we do not  want to propose\n",
        "    # to user (either the ones that user said no, or anything related to their query)\n",
        "    all_unwanted_words = self._generate_ngrams(input_text)\n",
        "\n",
        "    # keep asking the user for clarifications up until the results<=5, or if the\n",
        "    # user replied with a predifined number of no's or yes\n",
        "    while stop_after_multiple_yes>0 and stop_after_multiple_no>0 and len(query_results_df)>5:\n",
        "\n",
        "      # display intermediate results\n",
        "      if show_inter_results:\n",
        "        query_results_df_to_show = query_results_df[['score', 'cross_scores', 'File description', 'Full path', 'Link']].copy()\n",
        "        if (data_dropdown.value == 'glossary_use_case_d.pkl'):\n",
        "          query_results_df_to_show['File description'] = query_results_df_to_show['File description'].str.slice(0,315) + \"...\"\n",
        "          query_results_df_to_show['Full path'] = query_results_df_to_show['Full path'].str.slice(0,315) + \"...\"\n",
        "        display(data_table.DataTable(query_results_df_to_show , num_rows_per_page=5))\n",
        "      \n",
        "      # make use of DeepPavlov's Component, that generates next question\n",
        "      question_word, question, vocabulary_words = self._question_generator(query_results_df['File description'], self._stop_words, all_unwanted_words)\n",
        "      if not question:\n",
        "        break\n",
        "      answer_text = input(question)\n",
        "\n",
        "      outcome, input_text, all_unwanted_words, stop_after_multiple_yes, stop_after_multiple_no = \\\n",
        "        self._response_handler(question_word, input_text, answer_text, vocabulary_words, all_unwanted_words, stop_after_multiple_yes, stop_after_multiple_no)\n",
        "      \n",
        "\n",
        "      if outcome == 'retrieve_rerank':\n",
        "        query_results_df = self._retrieve_and_rerank(input_text, question_word, show_inter_results, query_results_df)\n",
        "      elif outcome == 'check_stop':\n",
        "        pass  \n",
        "      elif outcome == 'quit':\n",
        "        break \n",
        "      \n",
        "    # final results (truncated so as to show only top5 to the user)\n",
        "    query_results_df = query_results_df.head(5)\n",
        "    print('bot: Thank you. Here are the most relevant results of your query:')\n",
        "    query_results_df_to_show = query_results_df[['score', 'cross_scores', 'File description', 'Full path', 'Link']].copy()\n",
        "    if (data_dropdown.value == 'glossary_use_case_d.pkl'):\n",
        "      query_results_df_to_show['File description'] = query_results_df_to_show['File description'].str.slice(0,315) + \"...\"\n",
        "      query_results_df_to_show['Full path'] = query_results_df_to_show['Full path'].str.slice(0,315) + \"...\"\n",
        "    display(data_table.DataTable(query_results_df_to_show, num_rows_per_page=10))\n",
        "\n",
        "    return query_results_df\n",
        "\n",
        "\n",
        "\n",
        "  def _generate_ngrams(self, input_text):\n",
        "    # generate a list tha contains all 1 to 4 ngrams from input_text\n",
        "    vectorizer1 = TfidfVectorizer(ngram_range=(1, 4))\n",
        "    _ = vectorizer1.fit([input_text])\n",
        "    input_ngrams = list(vectorizer1.get_feature_names())\n",
        "    return input_ngrams\n"
      ]
    },
    {
      "cell_type": "code",
      "execution_count": 68,
      "metadata": {
        "id": "HnjpUsLF-v95",
        "colab": {
          "base_uri": "https://localhost:8080/"
        },
        "outputId": "ea02b9f8-fc6c-4a88-8ceb-e1c96cf37136"
      },
      "outputs": [
        {
          "output_type": "stream",
          "name": "stdout",
          "text": [
            "[nltk_data] Downloading package stopwords to /root/nltk_data...\n",
            "[nltk_data]   Package stopwords is already up-to-date!\n",
            "[nltk_data] Downloading package wordnet to /root/nltk_data...\n",
            "[nltk_data]   Package wordnet is already up-to-date!\n"
          ]
        },
        {
          "output_type": "execute_result",
          "data": {
            "text/plain": [
              "True"
            ]
          },
          "metadata": {},
          "execution_count": 68
        }
      ],
      "source": [
        "nltk.download('stopwords')\n",
        "nltk.download('wordnet')"
      ]
    },
    {
      "cell_type": "markdown",
      "metadata": {
        "id": "PXq85rJS_yqx"
      },
      "source": [
        "####Run chatbot"
      ]
    },
    {
      "cell_type": "code",
      "execution_count": 69,
      "metadata": {
        "id": "IxfdaBhdCbBP"
      },
      "outputs": [],
      "source": [
        "# create a Chatbot object\n",
        "chatbot = Chatbot()"
      ]
    },
    {
      "cell_type": "code",
      "execution_count": null,
      "metadata": {
        "id": "ZMZuiq-U-1J6",
        "colab": {
          "base_uri": "https://localhost:8080/",
          "height": 2070
        },
        "outputId": "8eb66867-b0ca-4f24-e2a0-7428601ae7ec"
      },
      "outputs": [
        {
          "output_type": "stream",
          "name": "stdout",
          "text": [
            "bot: Hello, what are you looking for? \n",
            "me:  disease-free\n",
            "Optimal clusters:  2\n",
            "   n_clusters  gap_value\n",
            "0         2.0   0.344859\n",
            "1         3.0   0.216576\n",
            "real clusters:  2\n"
          ]
        },
        {
          "output_type": "display_data",
          "data": {
            "text/plain": [
              "<Figure size 432x288 with 1 Axes>"
            ],
            "image/png": "[encoded data removed]"
          },
          "metadata": {
            "needs_background": "dark"
          }
        },
        {
          "output_type": "display_data",
          "data": {
            "text/plain": [
              "<matplotlib.axes._subplots.AxesSubplot at 0x7faee4364550>"
            ]
          },
          "metadata": {}
        },
        {
          "output_type": "stream",
          "name": "stderr",
          "text": [
            "/usr/local/lib/python3.7/dist-packages/sklearn/utils/deprecation.py:87: FutureWarning: Function get_feature_names is deprecated; get_feature_names is deprecated in 1.0 and will be removed in 1.2. Please use get_feature_names_out instead.\n",
            "  warnings.warn(msg, category=FutureWarning)\n"
          ]
        },
        {
          "output_type": "display_data",
          "data": {
            "text/html": [
              "<div>\n",
              "<style scoped>\n",
              "    .dataframe tbody tr th:only-of-type {\n",
              "        vertical-align: middle;\n",
              "    }\n",
              "\n",
              "    .dataframe tbody tr th {\n",
              "        vertical-align: top;\n",
              "    }\n",
              "\n",
              "    .dataframe thead th {\n",
              "        text-align: right;\n",
              "    }\n",
              "</style>\n",
              "<table border=\"1\" class=\"dataframe\">\n",
              "  <thead>\n",
              "    <tr style=\"text-align: right;\">\n",
              "      <th></th>\n",
              "      <th>score</th>\n",
              "      <th>cross_scores</th>\n",
              "      <th>File description</th>\n",
              "      <th>Full path</th>\n",
              "      <th>Link</th>\n",
              "    </tr>\n",
              "  </thead>\n",
              "  <tbody>\n",
              "    <tr>\n",
              "      <th>0</th>\n",
              "      <td>0.456813</td>\n",
              "      <td>-8.563866</td>\n",
              "      <td>Self-reported screening of cardiovascular dise...</td>\n",
              "      <td>Population and social conditions Health Health...</td>\n",
              "      <td>https://ec.europa.eu/eurostat/estat-navtree-po...</td>\n",
              "    </tr>\n",
              "    <tr>\n",
              "      <th>8</th>\n",
              "      <td>0.436877</td>\n",
              "      <td>-8.564386</td>\n",
              "      <td>Self-reported screening of cardiovascular dise...</td>\n",
              "      <td>Population and social conditions Health Health...</td>\n",
              "      <td>https://ec.europa.eu/eurostat/estat-navtree-po...</td>\n",
              "    </tr>\n",
              "    <tr>\n",
              "      <th>9</th>\n",
              "      <td>0.433801</td>\n",
              "      <td>-8.613359</td>\n",
              "      <td>Self-reported screening of cardiovascular dise...</td>\n",
              "      <td>Population and social conditions Health Health...</td>\n",
              "      <td>https://ec.europa.eu/eurostat/estat-navtree-po...</td>\n",
              "    </tr>\n",
              "    <tr>\n",
              "      <th>13</th>\n",
              "      <td>0.421168</td>\n",
              "      <td>-8.718422</td>\n",
              "      <td>Persons reporting a chronic disease, by diseas...</td>\n",
              "      <td>Population and social conditions Health Health...</td>\n",
              "      <td>https://ec.europa.eu/eurostat/estat-navtree-po...</td>\n",
              "    </tr>\n",
              "    <tr>\n",
              "      <th>11</th>\n",
              "      <td>0.425595</td>\n",
              "      <td>-8.757074</td>\n",
              "      <td>Persons reporting a chronic disease, by diseas...</td>\n",
              "      <td>Population and social conditions Health Health...</td>\n",
              "      <td>https://ec.europa.eu/eurostat/estat-navtree-po...</td>\n",
              "    </tr>\n",
              "    <tr>\n",
              "      <th>...</th>\n",
              "      <td>...</td>\n",
              "      <td>...</td>\n",
              "      <td>...</td>\n",
              "      <td>...</td>\n",
              "      <td>...</td>\n",
              "    </tr>\n",
              "    <tr>\n",
              "      <th>88</th>\n",
              "      <td>0.339349</td>\n",
              "      <td>-9.959117</td>\n",
              "      <td>People at risk of poverty or social exclusion ...</td>\n",
              "      <td>Population and social conditions Health Disabi...</td>\n",
              "      <td>https://ec.europa.eu/eurostat/estat-navtree-po...</td>\n",
              "    </tr>\n",
              "    <tr>\n",
              "      <th>77</th>\n",
              "      <td>0.347623</td>\n",
              "      <td>-9.963998</td>\n",
              "      <td>Self-perceived long-standing limitations in us...</td>\n",
              "      <td>Population and social conditions Health Health...</td>\n",
              "      <td>https://ec.europa.eu/eurostat/estat-navtree-po...</td>\n",
              "    </tr>\n",
              "    <tr>\n",
              "      <th>57</th>\n",
              "      <td>0.361114</td>\n",
              "      <td>-9.992399</td>\n",
              "      <td>Body mass index (BMI) by level of activity lim...</td>\n",
              "      <td>Population and social conditions Health Disabi...</td>\n",
              "      <td>https://ec.europa.eu/eurostat/estat-navtree-po...</td>\n",
              "    </tr>\n",
              "    <tr>\n",
              "      <th>2</th>\n",
              "      <td>0.450263</td>\n",
              "      <td>-10.067271</td>\n",
              "      <td>Self-reported use of non-prescribed medicines ...</td>\n",
              "      <td>Population and social conditions Health Health...</td>\n",
              "      <td>https://ec.europa.eu/eurostat/estat-navtree-po...</td>\n",
              "    </tr>\n",
              "    <tr>\n",
              "      <th>45</th>\n",
              "      <td>0.380548</td>\n",
              "      <td>-10.078480</td>\n",
              "      <td>Breast cancer and cervical cancer screenings</td>\n",
              "      <td>Population and social conditions Health Health...</td>\n",
              "      <td>https://ec.europa.eu/eurostat/estat-navtree-po...</td>\n",
              "    </tr>\n",
              "  </tbody>\n",
              "</table>\n",
              "<p>63 rows × 5 columns</p>\n",
              "</div>"
            ],
            "application/vnd.google.colaboratory.module+javascript": "\n      import \"https://ssl.gstatic.com/colaboratory/data_table/f872b2c2305463fd/data_table.js\";\n\n      window.createDataTable({\n        data: [[{\n            'v': 0,\n            'f': \"0\",\n        },\n{\n            'v': 0.45681267976760864,\n            'f': \"0.45681267976760864\",\n        },\n{\n            'v': -8.563865661621094,\n            'f': \"-8.563865661621094\",\n        },\n\"Self-reported screening of cardiovascular diseases and diabetes risks by sex, age and degree of urbanisation\",\n\"Population and social conditions Health Health care Preventive services Self-reported screening of cardiovascular diseases and diabetes risks by sex, age and degree of urbanisation\",\n\"https://ec.europa.eu/eurostat/estat-navtree-portlet-prod/BulkDownloadListing?sort=1&file=data%2Fhlth_ehis_pa2u.tsv.gz\"],\n [{\n            'v': 8,\n            'f': \"8\",\n        },\n{\n            'v': 0.4368773102760315,\n            'f': \"0.4368773102760315\",\n        },\n{\n            'v': -8.564386367797852,\n            'f': \"-8.564386367797852\",\n        },\n\"Self-reported screening of cardiovascular diseases and diabetes risks by sex, age and income quintile\",\n\"Population and social conditions Health Health care Preventive services Self-reported screening of cardiovascular diseases and diabetes risks by sex, age and income quintile\",\n\"https://ec.europa.eu/eurostat/estat-navtree-portlet-prod/BulkDownloadListing?sort=1&file=data%2Fhlth_ehis_pa2i.tsv.gz\"],\n [{\n            'v': 9,\n            'f': \"9\",\n        },\n{\n            'v': 0.4338005483150482,\n            'f': \"0.4338005483150482\",\n        },\n{\n            'v': -8.613359451293945,\n            'f': \"-8.613359451293945\",\n        },\n\"Self-reported screening of cardiovascular diseases and diabetes risks by sex, age and educational attainment level\",\n\"Population and social conditions Health Health care Preventive services Self-reported screening of cardiovascular diseases and diabetes risks by sex, age and educational attainment level\",\n\"https://ec.europa.eu/eurostat/estat-navtree-portlet-prod/BulkDownloadListing?sort=1&file=data%2Fhlth_ehis_pa2e.tsv.gz\"],\n [{\n            'v': 13,\n            'f': \"13\",\n        },\n{\n            'v': 0.4211675226688385,\n            'f': \"0.4211675226688385\",\n        },\n{\n            'v': -8.718421936035156,\n            'f': \"-8.718421936035156\",\n        },\n\"Persons reporting a chronic disease, by disease, sex, age and level of activity limitation\",\n\"Population and social conditions Health Health status Self-reported chronic morbidity Persons reporting a chronic disease, by disease, sex, age and level of activity limitation\",\n\"https://ec.europa.eu/eurostat/estat-navtree-portlet-prod/BulkDownloadListing?sort=1&file=data%2Fhlth_ehis_cd1d.tsv.gz\"],\n [{\n            'v': 11,\n            'f': \"11\",\n        },\n{\n            'v': 0.42559486627578735,\n            'f': \"0.42559486627578735\",\n        },\n{\n            'v': -8.757074356079102,\n            'f': \"-8.757074356079102\",\n        },\n\"Persons reporting a chronic disease, by disease, sex, age and broad group of citizenship\",\n\"Population and social conditions Health Health status Self-reported chronic morbidity Persons reporting a chronic disease, by disease, sex, age and broad group of citizenship\",\n\"https://ec.europa.eu/eurostat/estat-navtree-portlet-prod/BulkDownloadListing?sort=1&file=data%2Fhlth_ehis_cd1c.tsv.gz\"],\n [{\n            'v': 31,\n            'f': \"31\",\n        },\n{\n            'v': 0.39613187313079834,\n            'f': \"0.39613187313079834\",\n        },\n{\n            'v': -9.110416412353516,\n            'f': \"-9.110416412353516\",\n        },\n\"Persons reporting a chronic disease, by disease, sex, age and educational attainment level\",\n\"Population and social conditions Health Health status Self-reported chronic morbidity Persons reporting a chronic disease, by disease, sex, age and educational attainment level\",\n\"https://ec.europa.eu/eurostat/estat-navtree-portlet-prod/BulkDownloadListing?sort=1&file=data%2Fhlth_ehis_cd1e.tsv.gz\"],\n [{\n            'v': 16,\n            'f': \"16\",\n        },\n{\n            'v': 0.4178217649459839,\n            'f': \"0.4178217649459839\",\n        },\n{\n            'v': -9.180136680603027,\n            'f': \"-9.180136680603027\",\n        },\n\"Persons reporting a chronic disease, by disease, sex, age and degree of urbanisation\",\n\"Population and social conditions Health Health status Self-reported chronic morbidity Persons reporting a chronic disease, by disease, sex, age and degree of urbanisation\",\n\"https://ec.europa.eu/eurostat/estat-navtree-portlet-prod/BulkDownloadListing?sort=1&file=data%2Fhlth_ehis_cd1u.tsv.gz\"],\n [{\n            'v': 24,\n            'f': \"24\",\n        },\n{\n            'v': 0.40489625930786133,\n            'f': \"0.40489625930786133\",\n        },\n{\n            'v': -9.1945161819458,\n            'f': \"-9.1945161819458\",\n        },\n\"Persons reporting a chronic disease, by disease, sex, age and income quintile\",\n\"Population and social conditions Health Health status Self-reported chronic morbidity Persons reporting a chronic disease, by disease, sex, age and income quintile\",\n\"https://ec.europa.eu/eurostat/estat-navtree-portlet-prod/BulkDownloadListing?sort=1&file=data%2Fhlth_ehis_cd1i.tsv.gz\"],\n [{\n            'v': 73,\n            'f': \"73\",\n        },\n{\n            'v': 0.3517647385597229,\n            'f': \"0.3517647385597229\",\n        },\n{\n            'v': -9.222434997558594,\n            'f': \"-9.222434997558594\",\n        },\n\"People reporting a chronic disease, by disease, sex, age and educational attainment level (%)\",\n\"Population and social conditions Health Health status Health status - historical data (2008) People reporting a chronic disease, by disease, sex, age and educational attainment level (%)\",\n\"https://ec.europa.eu/eurostat/estat-navtree-portlet-prod/BulkDownloadListing?sort=1&file=data%2Fhlth_ehis_st1.tsv.gz\"],\n [{\n            'v': 20,\n            'f': \"20\",\n        },\n{\n            'v': 0.4138421416282654,\n            'f': \"0.4138421416282654\",\n        },\n{\n            'v': -9.289812088012695,\n            'f': \"-9.289812088012695\",\n        },\n\"Persons reporting a chronic disease, by disease, sex, age and contry of birth\",\n\"Population and social conditions Health Health status Self-reported chronic morbidity Persons reporting a chronic disease, by disease, sex, age and contry of birth\",\n\"https://ec.europa.eu/eurostat/estat-navtree-portlet-prod/BulkDownloadListing?sort=1&file=data%2Fhlth_ehis_cd1b.tsv.gz\"],\n [{\n            'v': 36,\n            'f': \"36\",\n        },\n{\n            'v': 0.38948553800582886,\n            'f': \"0.38948553800582886\",\n        },\n{\n            'v': -9.305326461791992,\n            'f': \"-9.305326461791992\",\n        },\n\"Inability to afford a meal with meat, chicken, fish (or vegetarian equivalent) every second day by level of activity limitation, sex and age\",\n\"Population and social conditions Health Disability Material deprivation among disabled people - EU-SILC survey Inability to afford a meal with meat, chicken, fish (or vegetarian equivalent) every second day by level of activity limitation, sex and age\",\n\"https://ec.europa.eu/eurostat/estat-navtree-portlet-prod/BulkDownloadListing?sort=1&file=data%2Fhlth_dm030.tsv.gz\"],\n [{\n            'v': 59,\n            'f': \"59\",\n        },\n{\n            'v': 0.35985392332077026,\n            'f': \"0.35985392332077026\",\n        },\n{\n            'v': -9.334128379821777,\n            'f': \"-9.334128379821777\",\n        },\n\"Disabled people by sex, severity of disability and having a longstanding difficulty in activities of personal care\",\n\"Population and social conditions Health Disability Barriers to social integration of disabled people (source EHSIS) Disabled people by sex, severity of disability and having a longstanding difficulty in activities of personal care\",\n\"https://ec.europa.eu/eurostat/estat-navtree-portlet-prod/BulkDownloadListing?sort=1&file=data%2Fhlth_dsi070.tsv.gz\"],\n [{\n            'v': 3,\n            'f': \"3\",\n        },\n{\n            'v': 0.44450998306274414,\n            'f': \"0.44450998306274414\",\n        },\n{\n            'v': -9.402045249938965,\n            'f': \"-9.402045249938965\",\n        },\n\"People having a long-standing illness or health problem, by sex, age and groups of country of citizenship\",\n\"Population and social conditions Health Health status Self-reported chronic morbidity People having a long-standing illness or health problem, by sex, age and groups of country of citizenship\",\n\"https://ec.europa.eu/eurostat/estat-navtree-portlet-prod/BulkDownloadListing?sort=1&file=data%2Fhlth_silc_26.tsv.gz\"],\n [{\n            'v': 89,\n            'f': \"89\",\n        },\n{\n            'v': 0.3392731845378876,\n            'f': \"0.3392731845378876\",\n        },\n{\n            'v': -9.422371864318848,\n            'f': \"-9.422371864318848\",\n        },\n\"Disabled people by sex, severity of disability and having a longstanding difficulty in activities of household care\",\n\"Population and social conditions Health Disability Barriers to social integration of disabled people (source EHSIS) Disabled people by sex, severity of disability and having a longstanding difficulty in activities of household care\",\n\"https://ec.europa.eu/eurostat/estat-navtree-portlet-prod/BulkDownloadListing?sort=1&file=data%2Fhlth_dsi080.tsv.gz\"],\n [{\n            'v': 21,\n            'f': \"21\",\n        },\n{\n            'v': 0.41340458393096924,\n            'f': \"0.41340458393096924\",\n        },\n{\n            'v': -9.4549560546875,\n            'f': \"-9.4549560546875\",\n        },\n\"Share of persons who cannot afford a computer by level of activity limitation, sex and age\",\n\"Population and social conditions Health Disability Material deprivation among disabled people - EU-SILC survey Share of persons who cannot afford a computer by level of activity limitation, sex and age\",\n\"https://ec.europa.eu/eurostat/estat-navtree-portlet-prod/BulkDownloadListing?sort=1&file=data%2Fhlth_dm090.tsv.gz\"],\n [{\n            'v': 34,\n            'f': \"34\",\n        },\n{\n            'v': 0.3896815776824951,\n            'f': \"0.3896815776824951\",\n        },\n{\n            'v': -9.472267150878906,\n            'f': \"-9.472267150878906\",\n        },\n\"Share of persons who cannot afford a telephone by level of activity limitation, sex and age\",\n\"Population and social conditions Health Disability Material deprivation among disabled people - EU-SILC survey Share of persons who cannot afford a telephone by level of activity limitation, sex and age\",\n\"https://ec.europa.eu/eurostat/estat-navtree-portlet-prod/BulkDownloadListing?sort=1&file=data%2Fhlth_dm070.tsv.gz\"],\n [{\n            'v': 53,\n            'f': \"53\",\n        },\n{\n            'v': 0.36988386511802673,\n            'f': \"0.36988386511802673\",\n        },\n{\n            'v': -9.484272003173828,\n            'f': \"-9.484272003173828\",\n        },\n\"EU index of occupational diseases (2013=100) ? experimental statistics\",\n\"Population and social conditions Health Health and safety at work Occupational diseases (from 2013 onwards  source: EODS) EU index of occupational diseases (2013=100) ? experimental statistics\",\n\"https://ec.europa.eu/eurostat/estat-navtree-portlet-prod/BulkDownloadListing?sort=1&file=data%2Fhsw_occ_ina.tsv.gz\"],\n [{\n            'v': 62,\n            'f': \"62\",\n        },\n{\n            'v': 0.3581039309501648,\n            'f': \"0.3581039309501648\",\n        },\n{\n            'v': -9.484460830688477,\n            'f': \"-9.484460830688477\",\n        },\n\"Disabled people by sex, severity of disability and having a longstanding health problem\",\n\"Population and social conditions Health Disability Barriers to social integration of disabled people (source EHSIS) Disabled people by sex, severity of disability and having a longstanding health problem\",\n\"https://ec.europa.eu/eurostat/estat-navtree-portlet-prod/BulkDownloadListing?sort=1&file=data%2Fhlth_dsi050.tsv.gz\"],\n [{\n            'v': 4,\n            'f': \"4\",\n        },\n{\n            'v': 0.4430308938026428,\n            'f': \"0.4430308938026428\",\n        },\n{\n            'v': -9.503378868103027,\n            'f': \"-9.503378868103027\",\n        },\n\"Share of persons who cannot afford a washing machine by level of activity limitation, sex and age\",\n\"Population and social conditions Health Disability Material deprivation among disabled people - EU-SILC survey Share of persons who cannot afford a washing machine by level of activity limitation, sex and age\",\n\"https://ec.europa.eu/eurostat/estat-navtree-portlet-prod/BulkDownloadListing?sort=1&file=data%2Fhlth_dm100.tsv.gz\"],\n [{\n            'v': 40,\n            'f': \"40\",\n        },\n{\n            'v': 0.3872709274291992,\n            'f': \"0.3872709274291992\",\n        },\n{\n            'v': -9.515177726745605,\n            'f': \"-9.515177726745605\",\n        },\n\"Share of persons who cannot afford a colour TV by level of activity limitation, sex and age\",\n\"Population and social conditions Health Disability Material deprivation among disabled people - EU-SILC survey Share of persons who cannot afford a colour TV by level of activity limitation, sex and age\",\n\"https://ec.europa.eu/eurostat/estat-navtree-portlet-prod/BulkDownloadListing?sort=1&file=data%2Fhlth_dm080.tsv.gz\"],\n [{\n            'v': 17,\n            'f': \"17\",\n        },\n{\n            'v': 0.41639092564582825,\n            'f': \"0.41639092564582825\",\n        },\n{\n            'v': -9.543538093566895,\n            'f': \"-9.543538093566895\",\n        },\n\"Self-reported vaccination against influenza by sex, age and income quintile\",\n\"Population and social conditions Health Health care Preventive services Self-reported vaccination against influenza by sex, age and income quintile\",\n\"https://ec.europa.eu/eurostat/estat-navtree-portlet-prod/BulkDownloadListing?sort=1&file=data%2Fhlth_ehis_pa1i.tsv.gz\"],\n [{\n            'v': 28,\n            'f': \"28\",\n        },\n{\n            'v': 0.39862871170043945,\n            'f': \"0.39862871170043945\",\n        },\n{\n            'v': -9.546828269958496,\n            'f': \"-9.546828269958496\",\n        },\n\"People reporting a limitation in getting to and from work caused by longstanding health problems or difficulties in basic activities by cause, sex and age\",\n\"Population and social conditions Health Disability Access to labour market for disabled people (source LFS) People reporting a limitation in getting to and from work caused by longstanding health problems or difficulties in basic activities by cause, sex and age\",\n\"https://ec.europa.eu/eurostat/estat-navtree-portlet-prod/BulkDownloadListing?sort=1&file=data%2Fhlth_dlm170.tsv.gz\"],\n [{\n            'v': 85,\n            'f': \"85\",\n        },\n{\n            'v': 0.3420341908931732,\n            'f': \"0.3420341908931732\",\n        },\n{\n            'v': -9.554632186889648,\n            'f': \"-9.554632186889648\",\n        },\n\"Disabled people by sex, life area where a barrier is reported and having a longstanding difficulty in activities of personal care\",\n\"Population and social conditions Health Disability Barriers to social integration of disabled people (source EHSIS) Disabled people by sex, life area where a barrier is reported and having a longstanding difficulty in activities of personal care\",\n\"https://ec.europa.eu/eurostat/estat-navtree-portlet-prod/BulkDownloadListing?sort=1&file=data%2Fhlth_dsi150.tsv.gz\"],\n [{\n            'v': 6,\n            'f': \"6\",\n        },\n{\n            'v': 0.44054868817329407,\n            'f': \"0.44054868817329407\",\n        },\n{\n            'v': -9.56204891204834,\n            'f': \"-9.56204891204834\",\n        },\n\"People having a long-standing illness or health problem, by sex, age and groups of country of birth\",\n\"Population and social conditions Health Health status Self-reported chronic morbidity People having a long-standing illness or health problem, by sex, age and groups of country of birth\",\n\"https://ec.europa.eu/eurostat/estat-navtree-portlet-prod/BulkDownloadListing?sort=1&file=data%2Fhlth_silc_25.tsv.gz\"],\n [{\n            'v': 52,\n            'f': \"52\",\n        },\n{\n            'v': 0.3700551688671112,\n            'f': \"0.3700551688671112\",\n        },\n{\n            'v': -9.571791648864746,\n            'f': \"-9.571791648864746\",\n        },\n\"People having a longstanding health problem by level of activity limitation, sex and age\",\n\"Population and social conditions Health Disability Health problems of disabled people (sources SILC or EHIS) People having a longstanding health problem by level of activity limitation, sex and age\",\n\"https://ec.europa.eu/eurostat/estat-navtree-portlet-prod/BulkDownloadListing?sort=1&file=data%2Fhlth_dh020.tsv.gz\"],\n [{\n            'v': 7,\n            'f': \"7\",\n        },\n{\n            'v': 0.43703120946884155,\n            'f': \"0.43703120946884155\",\n        },\n{\n            'v': -9.574719429016113,\n            'f': \"-9.574719429016113\",\n        },\n\"Self-reported use of non-prescribed medicines by sex, age and country of birth\",\n\"Population and social conditions Health Health care Medicine use Self-reported use of non-prescribed medicines by sex, age and country of birth\",\n\"https://ec.europa.eu/eurostat/estat-navtree-portlet-prod/BulkDownloadListing?sort=1&file=data%2Fhlth_ehis_md2b.tsv.gz\"],\n [{\n            'v': 35,\n            'f': \"35\",\n        },\n{\n            'v': 0.38957250118255615,\n            'f': \"0.38957250118255615\",\n        },\n{\n            'v': -9.59887409210205,\n            'f': \"-9.59887409210205\",\n        },\n\"Inability to afford paying for one week annual holiday away from home by level of activity limitation, sex and age\",\n\"Population and social conditions Health Disability Material deprivation among disabled people - EU-SILC survey Inability to afford paying for one week annual holiday away from home by level of activity limitation, sex and age\",\n\"https://ec.europa.eu/eurostat/estat-navtree-portlet-prod/BulkDownloadListing?sort=1&file=data%2Fhlth_dm020.tsv.gz\"],\n [{\n            'v': 5,\n            'f': \"5\",\n        },\n{\n            'v': 0.4421039819717407,\n            'f': \"0.4421039819717407\",\n        },\n{\n            'v': -9.601041793823242,\n            'f': \"-9.601041793823242\",\n        },\n\"Self-reported vaccination against influenza by sex, age and degree of urbanisation\",\n\"Population and social conditions Health Health care Preventive services Self-reported vaccination against influenza by sex, age and degree of urbanisation\",\n\"https://ec.europa.eu/eurostat/estat-navtree-portlet-prod/BulkDownloadListing?sort=1&file=data%2Fhlth_ehis_pa1u.tsv.gz\"],\n [{\n            'v': 43,\n            'f': \"43\",\n        },\n{\n            'v': 0.3840436041355133,\n            'f': \"0.3840436041355133\",\n        },\n{\n            'v': -9.60271167755127,\n            'f': \"-9.60271167755127\",\n        },\n\"Self-reported use of prescribed medicines for specific diseases by sex, age and educational attainment level\",\n\"Population and social conditions Health Health care Medicine use Medicine use - historical data Self-reported use of prescribed medicines for specific diseases by sex, age and educational attainment level\",\n\"https://ec.europa.eu/eurostat/estat-navtree-portlet-prod/BulkDownloadListing?sort=1&file=data%2Fhlth_ehis_hc7.tsv.gz\"],\n [{\n            'v': 92,\n            'f': \"92\",\n        },\n{\n            'v': 0.3373517394065857,\n            'f': \"0.3373517394065857\",\n        },\n{\n            'v': -9.609601020812988,\n            'f': \"-9.609601020812988\",\n        },\n\"Disabled people by sex, life area where a barrier is reported and having a longstanding health problem\",\n\"Population and social conditions Health Disability Barriers to social integration of disabled people (source EHSIS) Disabled people by sex, life area where a barrier is reported and having a longstanding health problem\",\n\"https://ec.europa.eu/eurostat/estat-navtree-portlet-prod/BulkDownloadListing?sort=1&file=data%2Fhlth_dsi130.tsv.gz\"],\n [{\n            'v': 56,\n            'f': \"56\",\n        },\n{\n            'v': 0.36187684535980225,\n            'f': \"0.36187684535980225\",\n        },\n{\n            'v': -9.610651016235352,\n            'f': \"-9.610651016235352\",\n        },\n\"Employed people having a longstanding health problem or a difficulty in basic activities by the type of special assistance used, sex and age\",\n\"Population and social conditions Health Disability Access to labour market for disabled people (source LFS) Employed people having a longstanding health problem or a difficulty in basic activities by the type of special assistance used, sex and age\",\n\"https://ec.europa.eu/eurostat/estat-navtree-portlet-prod/BulkDownloadListing?sort=1&file=data%2Fhlth_dlm180.tsv.gz\"],\n [{\n            'v': 30,\n            'f': \"30\",\n        },\n{\n            'v': 0.3966051936149597,\n            'f': \"0.3966051936149597\",\n        },\n{\n            'v': -9.612136840820312,\n            'f': \"-9.612136840820312\",\n        },\n\"Share of persons who cannot afford a personal car by level of activity limitation, sex and age\",\n\"Population and social conditions Health Disability Material deprivation among disabled people - EU-SILC survey Share of persons who cannot afford a personal car by level of activity limitation, sex and age\",\n\"https://ec.europa.eu/eurostat/estat-navtree-portlet-prod/BulkDownloadListing?sort=1&file=data%2Fhlth_dm110.tsv.gz\"],\n [{\n            'v': 61,\n            'f': \"61\",\n        },\n{\n            'v': 0.35895565152168274,\n            'f': \"0.35895565152168274\",\n        },\n{\n            'v': -9.627655029296875,\n            'f': \"-9.627655029296875\",\n        },\n\"Not employed people having a longstanding health problem or a difficulty in basic activities by the type of special assistance needed, sex and age\",\n\"Population and social conditions Health Disability Access to labour market for disabled people (source LFS) Not employed people having a longstanding health problem or a difficulty in basic activities by the type of special assistance needed, sex and age\",\n\"https://ec.europa.eu/eurostat/estat-navtree-portlet-prod/BulkDownloadListing?sort=1&file=data%2Fhlth_dlm190.tsv.gz\"],\n [{\n            'v': 25,\n            'f': \"25\",\n        },\n{\n            'v': 0.40414637327194214,\n            'f': \"0.40414637327194214\",\n        },\n{\n            'v': -9.689657211303711,\n            'f': \"-9.689657211303711\",\n        },\n\"People reporting a limitation in the amount of work caused by longstanding health problems or difficulties in basic activities by cause, sex and age\",\n\"Population and social conditions Health Disability Access to labour market for disabled people (source LFS) People reporting a limitation in the amount of work caused by longstanding health problems or difficulties in basic activities by cause, sex and age\",\n\"https://ec.europa.eu/eurostat/estat-navtree-portlet-prod/BulkDownloadListing?sort=1&file=data%2Fhlth_dlm150.tsv.gz\"],\n [{\n            'v': 26,\n            'f': \"26\",\n        },\n{\n            'v': 0.40318262577056885,\n            'f': \"0.40318262577056885\",\n        },\n{\n            'v': -9.690868377685547,\n            'f': \"-9.690868377685547\",\n        },\n\"People reporting a limitation in the type of work caused by longstanding health problems or difficulties in basic activities by cause, sex and age\",\n\"Population and social conditions Health Disability Access to labour market for disabled people (source LFS) People reporting a limitation in the type of work caused by longstanding health problems or difficulties in basic activities by cause, sex and age\",\n\"https://ec.europa.eu/eurostat/estat-navtree-portlet-prod/BulkDownloadListing?sort=1&file=data%2Fhlth_dlm160.tsv.gz\"],\n [{\n            'v': 22,\n            'f': \"22\",\n        },\n{\n            'v': 0.4124927818775177,\n            'f': \"0.4124927818775177\",\n        },\n{\n            'v': -9.691886901855469,\n            'f': \"-9.691886901855469\",\n        },\n\"People having a long-standing illness or health problem, by sex, age and educational attainment level\",\n\"Population and social conditions Health Health status Self-reported chronic morbidity People having a long-standing illness or health problem, by sex, age and educational attainment level\",\n\"https://ec.europa.eu/eurostat/estat-navtree-portlet-prod/BulkDownloadListing?sort=1&file=data%2Fhlth_silc_05.tsv.gz\"],\n [{\n            'v': 47,\n            'f': \"47\",\n        },\n{\n            'v': 0.37690484523773193,\n            'f': \"0.37690484523773193\",\n        },\n{\n            'v': -9.70103645324707,\n            'f': \"-9.70103645324707\",\n        },\n\"Ability to make ends meet by level of activity limitation, sex and age\",\n\"Population and social conditions Health Disability Material deprivation among disabled people - EU-SILC survey Ability to make ends meet by level of activity limitation, sex and age\",\n\"https://ec.europa.eu/eurostat/estat-navtree-portlet-prod/BulkDownloadListing?sort=1&file=data%2Fhlth_dm060.tsv.gz\"],\n [{\n            'v': 48,\n            'f': \"48\",\n        },\n{\n            'v': 0.3755806088447571,\n            'f': \"0.3755806088447571\",\n        },\n{\n            'v': -9.708155632019043,\n            'f': \"-9.708155632019043\",\n        },\n\"Vaccination against influenza of population aged 65 and over\",\n\"Population and social conditions Health Health care Preventive services Vaccination against influenza of population aged 65 and over\",\n\"https://ec.europa.eu/eurostat/estat-navtree-portlet-prod/BulkDownloadListing?sort=1&file=data%2Fhlth_ps_immu.tsv.gz\"],\n [{\n            'v': 49,\n            'f': \"49\",\n        },\n{\n            'v': 0.373460590839386,\n            'f': \"0.373460590839386\",\n        },\n{\n            'v': -9.732940673828125,\n            'f': \"-9.732940673828125\",\n        },\n\"Self-reported unmet needs for medical examination by level of activity limitation, sex and age\",\n\"Population and social conditions Health Disability Health problems of disabled people (sources SILC or EHIS) Self-reported unmet needs for medical examination by level of activity limitation, sex and age\",\n\"https://ec.europa.eu/eurostat/estat-navtree-portlet-prod/BulkDownloadListing?sort=1&file=data%2Fhlth_dh030.tsv.gz\"],\n [{\n            'v': 46,\n            'f': \"46\",\n        },\n{\n            'v': 0.37760257720947266,\n            'f': \"0.37760257720947266\",\n        },\n{\n            'v': -9.741018295288086,\n            'f': \"-9.741018295288086\",\n        },\n\"Disabled people by sex, need for assistance and having a longstanding difficulty in activities of personal care\",\n\"Population and social conditions Health Disability Prevalence of disability (source EHSIS) Disabled people by sex, need for assistance and having a longstanding difficulty in activities of personal care\",\n\"https://ec.europa.eu/eurostat/estat-navtree-portlet-prod/BulkDownloadListing?sort=1&file=data%2Fhlth_dpeh190.tsv.gz\"],\n [{\n            'v': 70,\n            'f': \"70\",\n        },\n{\n            'v': 0.35414355993270874,\n            'f': \"0.35414355993270874\",\n        },\n{\n            'v': -9.742194175720215,\n            'f': \"-9.742194175720215\",\n        },\n\"Self-perceived long-standing limitations in usual activities due to health problem by sex, age and groups of country of birth\",\n\"Population and social conditions Health Health status Functional and activity limitations Self-perceived long-standing limitations in usual activities due to health problem by sex, age and groups of country of birth\",\n\"https://ec.europa.eu/eurostat/estat-navtree-portlet-prod/BulkDownloadListing?sort=1&file=data%2Fhlth_silc_27.tsv.gz\"],\n [{\n            'v': 19,\n            'f': \"19\",\n        },\n{\n            'v': 0.41564124822616577,\n            'f': \"0.41564124822616577\",\n        },\n{\n            'v': -9.750142097473145,\n            'f': \"-9.750142097473145\",\n        },\n\"Self-reported vaccination against influenza by sex, age and educational attainment level\",\n\"Population and social conditions Health Health care Preventive services Self-reported vaccination against influenza by sex, age and educational attainment level\",\n\"https://ec.europa.eu/eurostat/estat-navtree-portlet-prod/BulkDownloadListing?sort=1&file=data%2Fhlth_ehis_pa1e.tsv.gz\"],\n [{\n            'v': 15,\n            'f': \"15\",\n        },\n{\n            'v': 0.41930997371673584,\n            'f': \"0.41930997371673584\",\n        },\n{\n            'v': -9.75733470916748,\n            'f': \"-9.75733470916748\",\n        },\n\"People having a long-standing illness or health problem, by sex, age and income quintile\",\n\"Population and social conditions Health Health status Self-reported chronic morbidity People having a long-standing illness or health problem, by sex, age and income quintile\",\n\"https://ec.europa.eu/eurostat/estat-navtree-portlet-prod/BulkDownloadListing?sort=1&file=data%2Fhlth_silc_11.tsv.gz\"],\n [{\n            'v': 91,\n            'f': \"91\",\n        },\n{\n            'v': 0.33751559257507324,\n            'f': \"0.33751559257507324\",\n        },\n{\n            'v': -9.78607177734375,\n            'f': \"-9.78607177734375\",\n        },\n\"Disabled people by sex, age and life area where a barrier is reported\",\n\"Population and social conditions Health Disability Barriers to social integration of disabled people (source EHSIS) Disabled people by sex, age and life area where a barrier is reported\",\n\"https://ec.europa.eu/eurostat/estat-navtree-portlet-prod/BulkDownloadListing?sort=1&file=data%2Fhlth_dsi090.tsv.gz\"],\n [{\n            'v': 79,\n            'f': \"79\",\n        },\n{\n            'v': 0.3473150134086609,\n            'f': \"0.3473150134086609\",\n        },\n{\n            'v': -9.79138469696045,\n            'f': \"-9.79138469696045\",\n        },\n\"Disabled people by sex, age and severity of disability\",\n\"Population and social conditions Health Disability Barriers to social integration of disabled people (source EHSIS) Disabled people by sex, age and severity of disability\",\n\"https://ec.europa.eu/eurostat/estat-navtree-portlet-prod/BulkDownloadListing?sort=1&file=data%2Fhlth_dsi010.tsv.gz\"],\n [{\n            'v': 50,\n            'f': \"50\",\n        },\n{\n            'v': 0.37115806341171265,\n            'f': \"0.37115806341171265\",\n        },\n{\n            'v': -9.793598175048828,\n            'f': \"-9.793598175048828\",\n        },\n\"Self-perceived health by level of activity limitation, sex and age\",\n\"Population and social conditions Health Disability Health problems of disabled people (sources SILC or EHIS) Self-perceived health by level of activity limitation, sex and age\",\n\"https://ec.europa.eu/eurostat/estat-navtree-portlet-prod/BulkDownloadListing?sort=1&file=data%2Fhlth_dh010.tsv.gz\"],\n [{\n            'v': 14,\n            'f': \"14\",\n        },\n{\n            'v': 0.4208557903766632,\n            'f': \"0.4208557903766632\",\n        },\n{\n            'v': -9.802032470703125,\n            'f': \"-9.802032470703125\",\n        },\n\"People having a long-standing illness or health problem, by sex, age and labour status\",\n\"Population and social conditions Health Health status Self-reported chronic morbidity People having a long-standing illness or health problem, by sex, age and labour status\",\n\"https://ec.europa.eu/eurostat/estat-navtree-portlet-prod/BulkDownloadListing?sort=1&file=data%2Fhlth_silc_04.tsv.gz\"],\n [{\n            'v': 38,\n            'f': \"38\",\n        },\n{\n            'v': 0.38844189047813416,\n            'f': \"0.38844189047813416\",\n        },\n{\n            'v': -9.807445526123047,\n            'f': \"-9.807445526123047\",\n        },\n\"Severe material deprivation by level of activity limitation, sex and age\",\n\"Population and social conditions Health Disability Material deprivation among disabled people - EU-SILC survey Severe material deprivation by level of activity limitation, sex and age\",\n\"https://ec.europa.eu/eurostat/estat-navtree-portlet-prod/BulkDownloadListing?sort=1&file=data%2Fhlth_dm010.tsv.gz\"],\n [{\n            'v': 37,\n            'f': \"37\",\n        },\n{\n            'v': 0.3885343074798584,\n            'f': \"0.3885343074798584\",\n        },\n{\n            'v': -9.807806015014648,\n            'f': \"-9.807806015014648\",\n        },\n\"Disabled people by sex, need for assistance and having a longstanding health problem\",\n\"Population and social conditions Health Disability Prevalence of disability (source EHSIS) Disabled people by sex, need for assistance and having a longstanding health problem\",\n\"https://ec.europa.eu/eurostat/estat-navtree-portlet-prod/BulkDownloadListing?sort=1&file=data%2Fhlth_dpeh170.tsv.gz\"],\n [{\n            'v': 67,\n            'f': \"67\",\n        },\n{\n            'v': 0.3565308451652527,\n            'f': \"0.3565308451652527\",\n        },\n{\n            'v': -9.812055587768555,\n            'f': \"-9.812055587768555\",\n        },\n\"Disabled people by sex, need for assistance and having a longstanding difficulty in basic activities\",\n\"Population and social conditions Health Disability Prevalence of disability (source EHSIS) Disabled people by sex, need for assistance and having a longstanding difficulty in basic activities\",\n\"https://ec.europa.eu/eurostat/estat-navtree-portlet-prod/BulkDownloadListing?sort=1&file=data%2Fhlth_dpeh180.tsv.gz\"],\n [{\n            'v': 65,\n            'f': \"65\",\n        },\n{\n            'v': 0.3576669991016388,\n            'f': \"0.3576669991016388\",\n        },\n{\n            'v': -9.818315505981445,\n            'f': \"-9.818315505981445\",\n        },\n\"People reporting a limitation in work by the reason for limitation in work, sex and age\",\n\"Population and social conditions Health Disability Access to labour market for disabled people (source LFS) People reporting a limitation in work by the reason for limitation in work, sex and age\",\n\"https://ec.europa.eu/eurostat/estat-navtree-portlet-prod/BulkDownloadListing?sort=1&file=data%2Fhlth_dlm140.tsv.gz\"],\n [{\n            'v': 93,\n            'f': \"93\",\n        },\n{\n            'v': 0.336087167263031,\n            'f': \"0.336087167263031\",\n        },\n{\n            'v': -9.840505599975586,\n            'f': \"-9.840505599975586\",\n        },\n\"Disabled people by sex, severity of disability and household type\",\n\"Population and social conditions Health Disability Barriers to social integration of disabled people (source EHSIS) Disabled people by sex, severity of disability and household type\",\n\"https://ec.europa.eu/eurostat/estat-navtree-portlet-prod/BulkDownloadListing?sort=1&file=data%2Fhlth_dsi040.tsv.gz\"],\n [{\n            'v': 10,\n            'f': \"10\",\n        },\n{\n            'v': 0.43203291296958923,\n            'f': \"0.43203291296958923\",\n        },\n{\n            'v': -9.843605995178223,\n            'f': \"-9.843605995178223\",\n        },\n\"Self-reported use of non-prescribed medicines by sex, age and educational attainment level\",\n\"Population and social conditions Health Health care Medicine use Self-reported use of non-prescribed medicines by sex, age and educational attainment level\",\n\"https://ec.europa.eu/eurostat/estat-navtree-portlet-prod/BulkDownloadListing?sort=1&file=data%2Fhlth_ehis_md2e.tsv.gz\"],\n [{\n            'v': 69,\n            'f': \"69\",\n        },\n{\n            'v': 0.3550194799900055,\n            'f': \"0.3550194799900055\",\n        },\n{\n            'v': -9.850248336791992,\n            'f': \"-9.850248336791992\",\n        },\n\"Disabled people by sex, need for assistance and having a longstanding difficulty in activities of household care\",\n\"Population and social conditions Health Disability Prevalence of disability (source EHSIS) Disabled people by sex, need for assistance and having a longstanding difficulty in activities of household care\",\n\"https://ec.europa.eu/eurostat/estat-navtree-portlet-prod/BulkDownloadListing?sort=1&file=data%2Fhlth_dpeh200.tsv.gz\"],\n [{\n            'v': 1,\n            'f': \"1\",\n        },\n{\n            'v': 0.4504871368408203,\n            'f': \"0.4504871368408203\",\n        },\n{\n            'v': -9.859198570251465,\n            'f': \"-9.859198570251465\",\n        },\n\"Self-reported use of non-prescribed medicines by sex, age and degree of urbanisation\",\n\"Population and social conditions Health Health care Medicine use Self-reported use of non-prescribed medicines by sex, age and degree of urbanisation\",\n\"https://ec.europa.eu/eurostat/estat-navtree-portlet-prod/BulkDownloadListing?sort=1&file=data%2Fhlth_ehis_md2u.tsv.gz\"],\n [{\n            'v': 32,\n            'f': \"32\",\n        },\n{\n            'v': 0.3947138786315918,\n            'f': \"0.3947138786315918\",\n        },\n{\n            'v': -9.884289741516113,\n            'f': \"-9.884289741516113\",\n        },\n\"Inability to face unexpected financial expenses by level of activity limitation, sex and age\",\n\"Population and social conditions Health Disability Material deprivation among disabled people - EU-SILC survey Inability to face unexpected financial expenses by level of activity limitation, sex and age\",\n\"https://ec.europa.eu/eurostat/estat-navtree-portlet-prod/BulkDownloadListing?sort=1&file=data%2Fhlth_dm040.tsv.gz\"],\n [{\n            'v': 12,\n            'f': \"12\",\n        },\n{\n            'v': 0.4217756986618042,\n            'f': \"0.4217756986618042\",\n        },\n{\n            'v': -9.939543724060059,\n            'f': \"-9.939543724060059\",\n        },\n\"Self-reported vaccination against influenza by sex, age and educational attainment level (%)\",\n\"Population and social conditions Health Health care Preventive services Preventive services - historical data Self-reported vaccination against influenza by sex, age and educational attainment level (%)\",\n\"https://ec.europa.eu/eurostat/estat-navtree-portlet-prod/BulkDownloadListing?sort=1&file=data%2Fhlth_ehis_hc1.tsv.gz\"],\n [{\n            'v': 58,\n            'f': \"58\",\n        },\n{\n            'v': 0.36003953218460083,\n            'f': \"0.36003953218460083\",\n        },\n{\n            'v': -9.949471473693848,\n            'f': \"-9.949471473693848\",\n        },\n\"Arrears (mortgage or rent, utility bills or hire purchase) by level of activity limitation, sex and age\",\n\"Population and social conditions Health Disability Material deprivation among disabled people - EU-SILC survey Arrears (mortgage or rent, utility bills or hire purchase) by level of activity limitation, sex and age\",\n\"https://ec.europa.eu/eurostat/estat-navtree-portlet-prod/BulkDownloadListing?sort=1&file=data%2Fhlth_dm050.tsv.gz\"],\n [{\n            'v': 88,\n            'f': \"88\",\n        },\n{\n            'v': 0.33934926986694336,\n            'f': \"0.33934926986694336\",\n        },\n{\n            'v': -9.95911693572998,\n            'f': \"-9.95911693572998\",\n        },\n\"People at risk of poverty or social exclusion by level of activity limitation, sex and age\",\n\"Population and social conditions Health Disability Income distribution and poverty among disabled people - EU-SILC survey People at risk of poverty or social exclusion by level of activity limitation, sex and age\",\n\"https://ec.europa.eu/eurostat/estat-navtree-portlet-prod/BulkDownloadListing?sort=1&file=data%2Fhlth_dpe010.tsv.gz\"],\n [{\n            'v': 77,\n            'f': \"77\",\n        },\n{\n            'v': 0.347623348236084,\n            'f': \"0.347623348236084\",\n        },\n{\n            'v': -9.963997840881348,\n            'f': \"-9.963997840881348\",\n        },\n\"Self-perceived long-standing limitations in usual activities due to health problem by sex, age and groups of country of citizenship\",\n\"Population and social conditions Health Health status Functional and activity limitations Self-perceived long-standing limitations in usual activities due to health problem by sex, age and groups of country of citizenship\",\n\"https://ec.europa.eu/eurostat/estat-navtree-portlet-prod/BulkDownloadListing?sort=1&file=data%2Fhlth_silc_28.tsv.gz\"],\n [{\n            'v': 57,\n            'f': \"57\",\n        },\n{\n            'v': 0.36111414432525635,\n            'f': \"0.36111414432525635\",\n        },\n{\n            'v': -9.992399215698242,\n            'f': \"-9.992399215698242\",\n        },\n\"Body mass index (BMI) by level of activity limitation, sex and age\",\n\"Population and social conditions Health Disability Health problems of disabled people (sources SILC or EHIS) Body mass index (BMI) by level of activity limitation, sex and age\",\n\"https://ec.europa.eu/eurostat/estat-navtree-portlet-prod/BulkDownloadListing?sort=1&file=data%2Fhlth_dh050.tsv.gz\"],\n [{\n            'v': 2,\n            'f': \"2\",\n        },\n{\n            'v': 0.4502629041671753,\n            'f': \"0.4502629041671753\",\n        },\n{\n            'v': -10.06727123260498,\n            'f': \"-10.06727123260498\",\n        },\n\"Self-reported use of non-prescribed medicines by sex, age and country of citizenship\",\n\"Population and social conditions Health Health care Medicine use Self-reported use of non-prescribed medicines by sex, age and country of citizenship\",\n\"https://ec.europa.eu/eurostat/estat-navtree-portlet-prod/BulkDownloadListing?sort=1&file=data%2Fhlth_ehis_md2c.tsv.gz\"],\n [{\n            'v': 45,\n            'f': \"45\",\n        },\n{\n            'v': 0.38054779171943665,\n            'f': \"0.38054779171943665\",\n        },\n{\n            'v': -10.078479766845703,\n            'f': \"-10.078479766845703\",\n        },\n\"Breast cancer and cervical cancer screenings\",\n\"Population and social conditions Health Health care Preventive services Breast cancer and cervical cancer screenings\",\n\"https://ec.europa.eu/eurostat/estat-navtree-portlet-prod/BulkDownloadListing?sort=1&file=data%2Fhlth_ps_scre.tsv.gz\"]],\n        columns: [[\"number\", \"index\"], [\"number\", \"score\"], [\"number\", \"cross_scores\"], [\"string\", \"File description\"], [\"string\", \"Full path\"], [\"string\", \"Link\"]],\n        columnOptions: [{\"width\": \"1px\", \"className\": \"index_column\"}],\n        rowsPerPage: 5,\n        helpUrl: \"https://colab.research.google.com/notebooks/data_table.ipynb\",\n        suppressOutputScrolling: true,\n        minimumWidth: undefined,\n      });\n    ",
            "text/plain": [
              "<google.colab.data_table.DataTable object>"
            ]
          },
          "metadata": {}
        },
        {
          "output_type": "stream",
          "name": "stderr",
          "text": [
            "/usr/local/lib/python3.7/dist-packages/sklearn/utils/deprecation.py:87: FutureWarning: Function get_feature_names is deprecated; get_feature_names is deprecated in 1.0 and will be removed in 1.2. Please use get_feature_names_out instead.\n",
            "  warnings.warn(msg, category=FutureWarning)\n"
          ]
        },
        {
          "name": "stdout",
          "output_type": "stream",
          "text": [
            "bot: Is 'sex age' related to what you are looking for? (yes/no/add some keywords, q to quit) \n",
            "me:  no\n"
          ]
        },
        {
          "output_type": "display_data",
          "data": {
            "text/html": [
              "<div>\n",
              "<style scoped>\n",
              "    .dataframe tbody tr th:only-of-type {\n",
              "        vertical-align: middle;\n",
              "    }\n",
              "\n",
              "    .dataframe tbody tr th {\n",
              "        vertical-align: top;\n",
              "    }\n",
              "\n",
              "    .dataframe thead th {\n",
              "        text-align: right;\n",
              "    }\n",
              "</style>\n",
              "<table border=\"1\" class=\"dataframe\">\n",
              "  <thead>\n",
              "    <tr style=\"text-align: right;\">\n",
              "      <th></th>\n",
              "      <th>score</th>\n",
              "      <th>cross_scores</th>\n",
              "      <th>File description</th>\n",
              "      <th>Full path</th>\n",
              "      <th>Link</th>\n",
              "    </tr>\n",
              "  </thead>\n",
              "  <tbody>\n",
              "    <tr>\n",
              "      <th>0</th>\n",
              "      <td>0.456813</td>\n",
              "      <td>-8.563866</td>\n",
              "      <td>Self-reported screening of cardiovascular dise...</td>\n",
              "      <td>Population and social conditions Health Health...</td>\n",
              "      <td>https://ec.europa.eu/eurostat/estat-navtree-po...</td>\n",
              "    </tr>\n",
              "    <tr>\n",
              "      <th>8</th>\n",
              "      <td>0.436877</td>\n",
              "      <td>-8.564386</td>\n",
              "      <td>Self-reported screening of cardiovascular dise...</td>\n",
              "      <td>Population and social conditions Health Health...</td>\n",
              "      <td>https://ec.europa.eu/eurostat/estat-navtree-po...</td>\n",
              "    </tr>\n",
              "    <tr>\n",
              "      <th>9</th>\n",
              "      <td>0.433801</td>\n",
              "      <td>-8.613359</td>\n",
              "      <td>Self-reported screening of cardiovascular dise...</td>\n",
              "      <td>Population and social conditions Health Health...</td>\n",
              "      <td>https://ec.europa.eu/eurostat/estat-navtree-po...</td>\n",
              "    </tr>\n",
              "    <tr>\n",
              "      <th>13</th>\n",
              "      <td>0.421168</td>\n",
              "      <td>-8.718422</td>\n",
              "      <td>Persons reporting a chronic disease, by diseas...</td>\n",
              "      <td>Population and social conditions Health Health...</td>\n",
              "      <td>https://ec.europa.eu/eurostat/estat-navtree-po...</td>\n",
              "    </tr>\n",
              "    <tr>\n",
              "      <th>11</th>\n",
              "      <td>0.425595</td>\n",
              "      <td>-8.757074</td>\n",
              "      <td>Persons reporting a chronic disease, by diseas...</td>\n",
              "      <td>Population and social conditions Health Health...</td>\n",
              "      <td>https://ec.europa.eu/eurostat/estat-navtree-po...</td>\n",
              "    </tr>\n",
              "    <tr>\n",
              "      <th>...</th>\n",
              "      <td>...</td>\n",
              "      <td>...</td>\n",
              "      <td>...</td>\n",
              "      <td>...</td>\n",
              "      <td>...</td>\n",
              "    </tr>\n",
              "    <tr>\n",
              "      <th>88</th>\n",
              "      <td>0.339349</td>\n",
              "      <td>-9.959117</td>\n",
              "      <td>People at risk of poverty or social exclusion ...</td>\n",
              "      <td>Population and social conditions Health Disabi...</td>\n",
              "      <td>https://ec.europa.eu/eurostat/estat-navtree-po...</td>\n",
              "    </tr>\n",
              "    <tr>\n",
              "      <th>77</th>\n",
              "      <td>0.347623</td>\n",
              "      <td>-9.963998</td>\n",
              "      <td>Self-perceived long-standing limitations in us...</td>\n",
              "      <td>Population and social conditions Health Health...</td>\n",
              "      <td>https://ec.europa.eu/eurostat/estat-navtree-po...</td>\n",
              "    </tr>\n",
              "    <tr>\n",
              "      <th>57</th>\n",
              "      <td>0.361114</td>\n",
              "      <td>-9.992399</td>\n",
              "      <td>Body mass index (BMI) by level of activity lim...</td>\n",
              "      <td>Population and social conditions Health Disabi...</td>\n",
              "      <td>https://ec.europa.eu/eurostat/estat-navtree-po...</td>\n",
              "    </tr>\n",
              "    <tr>\n",
              "      <th>2</th>\n",
              "      <td>0.450263</td>\n",
              "      <td>-10.067271</td>\n",
              "      <td>Self-reported use of non-prescribed medicines ...</td>\n",
              "      <td>Population and social conditions Health Health...</td>\n",
              "      <td>https://ec.europa.eu/eurostat/estat-navtree-po...</td>\n",
              "    </tr>\n",
              "    <tr>\n",
              "      <th>45</th>\n",
              "      <td>0.380548</td>\n",
              "      <td>-10.078480</td>\n",
              "      <td>Breast cancer and cervical cancer screenings</td>\n",
              "      <td>Population and social conditions Health Health...</td>\n",
              "      <td>https://ec.europa.eu/eurostat/estat-navtree-po...</td>\n",
              "    </tr>\n",
              "  </tbody>\n",
              "</table>\n",
              "<p>63 rows × 5 columns</p>\n",
              "</div>"
            ],
            "application/vnd.google.colaboratory.module+javascript": "\n      import \"https://ssl.gstatic.com/colaboratory/data_table/f872b2c2305463fd/data_table.js\";\n\n      window.createDataTable({\n        data: [[{\n            'v': 0,\n            'f': \"0\",\n        },\n{\n            'v': 0.45681267976760864,\n            'f': \"0.45681267976760864\",\n        },\n{\n            'v': -8.563865661621094,\n            'f': \"-8.563865661621094\",\n        },\n\"Self-reported screening of cardiovascular diseases and diabetes risks by sex, age and degree of urbanisation\",\n\"Population and social conditions Health Health care Preventive services Self-reported screening of cardiovascular diseases and diabetes risks by sex, age and degree of urbanisation\",\n\"https://ec.europa.eu/eurostat/estat-navtree-portlet-prod/BulkDownloadListing?sort=1&file=data%2Fhlth_ehis_pa2u.tsv.gz\"],\n [{\n            'v': 8,\n            'f': \"8\",\n        },\n{\n            'v': 0.4368773102760315,\n            'f': \"0.4368773102760315\",\n        },\n{\n            'v': -8.564386367797852,\n            'f': \"-8.564386367797852\",\n        },\n\"Self-reported screening of cardiovascular diseases and diabetes risks by sex, age and income quintile\",\n\"Population and social conditions Health Health care Preventive services Self-reported screening of cardiovascular diseases and diabetes risks by sex, age and income quintile\",\n\"https://ec.europa.eu/eurostat/estat-navtree-portlet-prod/BulkDownloadListing?sort=1&file=data%2Fhlth_ehis_pa2i.tsv.gz\"],\n [{\n            'v': 9,\n            'f': \"9\",\n        },\n{\n            'v': 0.4338005483150482,\n            'f': \"0.4338005483150482\",\n        },\n{\n            'v': -8.613359451293945,\n            'f': \"-8.613359451293945\",\n        },\n\"Self-reported screening of cardiovascular diseases and diabetes risks by sex, age and educational attainment level\",\n\"Population and social conditions Health Health care Preventive services Self-reported screening of cardiovascular diseases and diabetes risks by sex, age and educational attainment level\",\n\"https://ec.europa.eu/eurostat/estat-navtree-portlet-prod/BulkDownloadListing?sort=1&file=data%2Fhlth_ehis_pa2e.tsv.gz\"],\n [{\n            'v': 13,\n            'f': \"13\",\n        },\n{\n            'v': 0.4211675226688385,\n            'f': \"0.4211675226688385\",\n        },\n{\n            'v': -8.718421936035156,\n            'f': \"-8.718421936035156\",\n        },\n\"Persons reporting a chronic disease, by disease, sex, age and level of activity limitation\",\n\"Population and social conditions Health Health status Self-reported chronic morbidity Persons reporting a chronic disease, by disease, sex, age and level of activity limitation\",\n\"https://ec.europa.eu/eurostat/estat-navtree-portlet-prod/BulkDownloadListing?sort=1&file=data%2Fhlth_ehis_cd1d.tsv.gz\"],\n [{\n            'v': 11,\n            'f': \"11\",\n        },\n{\n            'v': 0.42559486627578735,\n            'f': \"0.42559486627578735\",\n        },\n{\n            'v': -8.757074356079102,\n            'f': \"-8.757074356079102\",\n        },\n\"Persons reporting a chronic disease, by disease, sex, age and broad group of citizenship\",\n\"Population and social conditions Health Health status Self-reported chronic morbidity Persons reporting a chronic disease, by disease, sex, age and broad group of citizenship\",\n\"https://ec.europa.eu/eurostat/estat-navtree-portlet-prod/BulkDownloadListing?sort=1&file=data%2Fhlth_ehis_cd1c.tsv.gz\"],\n [{\n            'v': 31,\n            'f': \"31\",\n        },\n{\n            'v': 0.39613187313079834,\n            'f': \"0.39613187313079834\",\n        },\n{\n            'v': -9.110416412353516,\n            'f': \"-9.110416412353516\",\n        },\n\"Persons reporting a chronic disease, by disease, sex, age and educational attainment level\",\n\"Population and social conditions Health Health status Self-reported chronic morbidity Persons reporting a chronic disease, by disease, sex, age and educational attainment level\",\n\"https://ec.europa.eu/eurostat/estat-navtree-portlet-prod/BulkDownloadListing?sort=1&file=data%2Fhlth_ehis_cd1e.tsv.gz\"],\n [{\n            'v': 16,\n            'f': \"16\",\n        },\n{\n            'v': 0.4178217649459839,\n            'f': \"0.4178217649459839\",\n        },\n{\n            'v': -9.180136680603027,\n            'f': \"-9.180136680603027\",\n        },\n\"Persons reporting a chronic disease, by disease, sex, age and degree of urbanisation\",\n\"Population and social conditions Health Health status Self-reported chronic morbidity Persons reporting a chronic disease, by disease, sex, age and degree of urbanisation\",\n\"https://ec.europa.eu/eurostat/estat-navtree-portlet-prod/BulkDownloadListing?sort=1&file=data%2Fhlth_ehis_cd1u.tsv.gz\"],\n [{\n            'v': 24,\n            'f': \"24\",\n        },\n{\n            'v': 0.40489625930786133,\n            'f': \"0.40489625930786133\",\n        },\n{\n            'v': -9.1945161819458,\n            'f': \"-9.1945161819458\",\n        },\n\"Persons reporting a chronic disease, by disease, sex, age and income quintile\",\n\"Population and social conditions Health Health status Self-reported chronic morbidity Persons reporting a chronic disease, by disease, sex, age and income quintile\",\n\"https://ec.europa.eu/eurostat/estat-navtree-portlet-prod/BulkDownloadListing?sort=1&file=data%2Fhlth_ehis_cd1i.tsv.gz\"],\n [{\n            'v': 73,\n            'f': \"73\",\n        },\n{\n            'v': 0.3517647385597229,\n            'f': \"0.3517647385597229\",\n        },\n{\n            'v': -9.222434997558594,\n            'f': \"-9.222434997558594\",\n        },\n\"People reporting a chronic disease, by disease, sex, age and educational attainment level (%)\",\n\"Population and social conditions Health Health status Health status - historical data (2008) People reporting a chronic disease, by disease, sex, age and educational attainment level (%)\",\n\"https://ec.europa.eu/eurostat/estat-navtree-portlet-prod/BulkDownloadListing?sort=1&file=data%2Fhlth_ehis_st1.tsv.gz\"],\n [{\n            'v': 20,\n            'f': \"20\",\n        },\n{\n            'v': 0.4138421416282654,\n            'f': \"0.4138421416282654\",\n        },\n{\n            'v': -9.289812088012695,\n            'f': \"-9.289812088012695\",\n        },\n\"Persons reporting a chronic disease, by disease, sex, age and contry of birth\",\n\"Population and social conditions Health Health status Self-reported chronic morbidity Persons reporting a chronic disease, by disease, sex, age and contry of birth\",\n\"https://ec.europa.eu/eurostat/estat-navtree-portlet-prod/BulkDownloadListing?sort=1&file=data%2Fhlth_ehis_cd1b.tsv.gz\"],\n [{\n            'v': 36,\n            'f': \"36\",\n        },\n{\n            'v': 0.38948553800582886,\n            'f': \"0.38948553800582886\",\n        },\n{\n            'v': -9.305326461791992,\n            'f': \"-9.305326461791992\",\n        },\n\"Inability to afford a meal with meat, chicken, fish (or vegetarian equivalent) every second day by level of activity limitation, sex and age\",\n\"Population and social conditions Health Disability Material deprivation among disabled people - EU-SILC survey Inability to afford a meal with meat, chicken, fish (or vegetarian equivalent) every second day by level of activity limitation, sex and age\",\n\"https://ec.europa.eu/eurostat/estat-navtree-portlet-prod/BulkDownloadListing?sort=1&file=data%2Fhlth_dm030.tsv.gz\"],\n [{\n            'v': 59,\n            'f': \"59\",\n        },\n{\n            'v': 0.35985392332077026,\n            'f': \"0.35985392332077026\",\n        },\n{\n            'v': -9.334128379821777,\n            'f': \"-9.334128379821777\",\n        },\n\"Disabled people by sex, severity of disability and having a longstanding difficulty in activities of personal care\",\n\"Population and social conditions Health Disability Barriers to social integration of disabled people (source EHSIS) Disabled people by sex, severity of disability and having a longstanding difficulty in activities of personal care\",\n\"https://ec.europa.eu/eurostat/estat-navtree-portlet-prod/BulkDownloadListing?sort=1&file=data%2Fhlth_dsi070.tsv.gz\"],\n [{\n            'v': 3,\n            'f': \"3\",\n        },\n{\n            'v': 0.44450998306274414,\n            'f': \"0.44450998306274414\",\n        },\n{\n            'v': -9.402045249938965,\n            'f': \"-9.402045249938965\",\n        },\n\"People having a long-standing illness or health problem, by sex, age and groups of country of citizenship\",\n\"Population and social conditions Health Health status Self-reported chronic morbidity People having a long-standing illness or health problem, by sex, age and groups of country of citizenship\",\n\"https://ec.europa.eu/eurostat/estat-navtree-portlet-prod/BulkDownloadListing?sort=1&file=data%2Fhlth_silc_26.tsv.gz\"],\n [{\n            'v': 89,\n            'f': \"89\",\n        },\n{\n            'v': 0.3392731845378876,\n            'f': \"0.3392731845378876\",\n        },\n{\n            'v': -9.422371864318848,\n            'f': \"-9.422371864318848\",\n        },\n\"Disabled people by sex, severity of disability and having a longstanding difficulty in activities of household care\",\n\"Population and social conditions Health Disability Barriers to social integration of disabled people (source EHSIS) Disabled people by sex, severity of disability and having a longstanding difficulty in activities of household care\",\n\"https://ec.europa.eu/eurostat/estat-navtree-portlet-prod/BulkDownloadListing?sort=1&file=data%2Fhlth_dsi080.tsv.gz\"],\n [{\n            'v': 21,\n            'f': \"21\",\n        },\n{\n            'v': 0.41340458393096924,\n            'f': \"0.41340458393096924\",\n        },\n{\n            'v': -9.4549560546875,\n            'f': \"-9.4549560546875\",\n        },\n\"Share of persons who cannot afford a computer by level of activity limitation, sex and age\",\n\"Population and social conditions Health Disability Material deprivation among disabled people - EU-SILC survey Share of persons who cannot afford a computer by level of activity limitation, sex and age\",\n\"https://ec.europa.eu/eurostat/estat-navtree-portlet-prod/BulkDownloadListing?sort=1&file=data%2Fhlth_dm090.tsv.gz\"],\n [{\n            'v': 34,\n            'f': \"34\",\n        },\n{\n            'v': 0.3896815776824951,\n            'f': \"0.3896815776824951\",\n        },\n{\n            'v': -9.472267150878906,\n            'f': \"-9.472267150878906\",\n        },\n\"Share of persons who cannot afford a telephone by level of activity limitation, sex and age\",\n\"Population and social conditions Health Disability Material deprivation among disabled people - EU-SILC survey Share of persons who cannot afford a telephone by level of activity limitation, sex and age\",\n\"https://ec.europa.eu/eurostat/estat-navtree-portlet-prod/BulkDownloadListing?sort=1&file=data%2Fhlth_dm070.tsv.gz\"],\n [{\n            'v': 53,\n            'f': \"53\",\n        },\n{\n            'v': 0.36988386511802673,\n            'f': \"0.36988386511802673\",\n        },\n{\n            'v': -9.484272003173828,\n            'f': \"-9.484272003173828\",\n        },\n\"EU index of occupational diseases (2013=100) ? experimental statistics\",\n\"Population and social conditions Health Health and safety at work Occupational diseases (from 2013 onwards  source: EODS) EU index of occupational diseases (2013=100) ? experimental statistics\",\n\"https://ec.europa.eu/eurostat/estat-navtree-portlet-prod/BulkDownloadListing?sort=1&file=data%2Fhsw_occ_ina.tsv.gz\"],\n [{\n            'v': 62,\n            'f': \"62\",\n        },\n{\n            'v': 0.3581039309501648,\n            'f': \"0.3581039309501648\",\n        },\n{\n            'v': -9.484460830688477,\n            'f': \"-9.484460830688477\",\n        },\n\"Disabled people by sex, severity of disability and having a longstanding health problem\",\n\"Population and social conditions Health Disability Barriers to social integration of disabled people (source EHSIS) Disabled people by sex, severity of disability and having a longstanding health problem\",\n\"https://ec.europa.eu/eurostat/estat-navtree-portlet-prod/BulkDownloadListing?sort=1&file=data%2Fhlth_dsi050.tsv.gz\"],\n [{\n            'v': 4,\n            'f': \"4\",\n        },\n{\n            'v': 0.4430308938026428,\n            'f': \"0.4430308938026428\",\n        },\n{\n            'v': -9.503378868103027,\n            'f': \"-9.503378868103027\",\n        },\n\"Share of persons who cannot afford a washing machine by level of activity limitation, sex and age\",\n\"Population and social conditions Health Disability Material deprivation among disabled people - EU-SILC survey Share of persons who cannot afford a washing machine by level of activity limitation, sex and age\",\n\"https://ec.europa.eu/eurostat/estat-navtree-portlet-prod/BulkDownloadListing?sort=1&file=data%2Fhlth_dm100.tsv.gz\"],\n [{\n            'v': 40,\n            'f': \"40\",\n        },\n{\n            'v': 0.3872709274291992,\n            'f': \"0.3872709274291992\",\n        },\n{\n            'v': -9.515177726745605,\n            'f': \"-9.515177726745605\",\n        },\n\"Share of persons who cannot afford a colour TV by level of activity limitation, sex and age\",\n\"Population and social conditions Health Disability Material deprivation among disabled people - EU-SILC survey Share of persons who cannot afford a colour TV by level of activity limitation, sex and age\",\n\"https://ec.europa.eu/eurostat/estat-navtree-portlet-prod/BulkDownloadListing?sort=1&file=data%2Fhlth_dm080.tsv.gz\"],\n [{\n            'v': 17,\n            'f': \"17\",\n        },\n{\n            'v': 0.41639092564582825,\n            'f': \"0.41639092564582825\",\n        },\n{\n            'v': -9.543538093566895,\n            'f': \"-9.543538093566895\",\n        },\n\"Self-reported vaccination against influenza by sex, age and income quintile\",\n\"Population and social conditions Health Health care Preventive services Self-reported vaccination against influenza by sex, age and income quintile\",\n\"https://ec.europa.eu/eurostat/estat-navtree-portlet-prod/BulkDownloadListing?sort=1&file=data%2Fhlth_ehis_pa1i.tsv.gz\"],\n [{\n            'v': 28,\n            'f': \"28\",\n        },\n{\n            'v': 0.39862871170043945,\n            'f': \"0.39862871170043945\",\n        },\n{\n            'v': -9.546828269958496,\n            'f': \"-9.546828269958496\",\n        },\n\"People reporting a limitation in getting to and from work caused by longstanding health problems or difficulties in basic activities by cause, sex and age\",\n\"Population and social conditions Health Disability Access to labour market for disabled people (source LFS) People reporting a limitation in getting to and from work caused by longstanding health problems or difficulties in basic activities by cause, sex and age\",\n\"https://ec.europa.eu/eurostat/estat-navtree-portlet-prod/BulkDownloadListing?sort=1&file=data%2Fhlth_dlm170.tsv.gz\"],\n [{\n            'v': 85,\n            'f': \"85\",\n        },\n{\n            'v': 0.3420341908931732,\n            'f': \"0.3420341908931732\",\n        },\n{\n            'v': -9.554632186889648,\n            'f': \"-9.554632186889648\",\n        },\n\"Disabled people by sex, life area where a barrier is reported and having a longstanding difficulty in activities of personal care\",\n\"Population and social conditions Health Disability Barriers to social integration of disabled people (source EHSIS) Disabled people by sex, life area where a barrier is reported and having a longstanding difficulty in activities of personal care\",\n\"https://ec.europa.eu/eurostat/estat-navtree-portlet-prod/BulkDownloadListing?sort=1&file=data%2Fhlth_dsi150.tsv.gz\"],\n [{\n            'v': 6,\n            'f': \"6\",\n        },\n{\n            'v': 0.44054868817329407,\n            'f': \"0.44054868817329407\",\n        },\n{\n            'v': -9.56204891204834,\n            'f': \"-9.56204891204834\",\n        },\n\"People having a long-standing illness or health problem, by sex, age and groups of country of birth\",\n\"Population and social conditions Health Health status Self-reported chronic morbidity People having a long-standing illness or health problem, by sex, age and groups of country of birth\",\n\"https://ec.europa.eu/eurostat/estat-navtree-portlet-prod/BulkDownloadListing?sort=1&file=data%2Fhlth_silc_25.tsv.gz\"],\n [{\n            'v': 52,\n            'f': \"52\",\n        },\n{\n            'v': 0.3700551688671112,\n            'f': \"0.3700551688671112\",\n        },\n{\n            'v': -9.571791648864746,\n            'f': \"-9.571791648864746\",\n        },\n\"People having a longstanding health problem by level of activity limitation, sex and age\",\n\"Population and social conditions Health Disability Health problems of disabled people (sources SILC or EHIS) People having a longstanding health problem by level of activity limitation, sex and age\",\n\"https://ec.europa.eu/eurostat/estat-navtree-portlet-prod/BulkDownloadListing?sort=1&file=data%2Fhlth_dh020.tsv.gz\"],\n [{\n            'v': 7,\n            'f': \"7\",\n        },\n{\n            'v': 0.43703120946884155,\n            'f': \"0.43703120946884155\",\n        },\n{\n            'v': -9.574719429016113,\n            'f': \"-9.574719429016113\",\n        },\n\"Self-reported use of non-prescribed medicines by sex, age and country of birth\",\n\"Population and social conditions Health Health care Medicine use Self-reported use of non-prescribed medicines by sex, age and country of birth\",\n\"https://ec.europa.eu/eurostat/estat-navtree-portlet-prod/BulkDownloadListing?sort=1&file=data%2Fhlth_ehis_md2b.tsv.gz\"],\n [{\n            'v': 35,\n            'f': \"35\",\n        },\n{\n            'v': 0.38957250118255615,\n            'f': \"0.38957250118255615\",\n        },\n{\n            'v': -9.59887409210205,\n            'f': \"-9.59887409210205\",\n        },\n\"Inability to afford paying for one week annual holiday away from home by level of activity limitation, sex and age\",\n\"Population and social conditions Health Disability Material deprivation among disabled people - EU-SILC survey Inability to afford paying for one week annual holiday away from home by level of activity limitation, sex and age\",\n\"https://ec.europa.eu/eurostat/estat-navtree-portlet-prod/BulkDownloadListing?sort=1&file=data%2Fhlth_dm020.tsv.gz\"],\n [{\n            'v': 5,\n            'f': \"5\",\n        },\n{\n            'v': 0.4421039819717407,\n            'f': \"0.4421039819717407\",\n        },\n{\n            'v': -9.601041793823242,\n            'f': \"-9.601041793823242\",\n        },\n\"Self-reported vaccination against influenza by sex, age and degree of urbanisation\",\n\"Population and social conditions Health Health care Preventive services Self-reported vaccination against influenza by sex, age and degree of urbanisation\",\n\"https://ec.europa.eu/eurostat/estat-navtree-portlet-prod/BulkDownloadListing?sort=1&file=data%2Fhlth_ehis_pa1u.tsv.gz\"],\n [{\n            'v': 43,\n            'f': \"43\",\n        },\n{\n            'v': 0.3840436041355133,\n            'f': \"0.3840436041355133\",\n        },\n{\n            'v': -9.60271167755127,\n            'f': \"-9.60271167755127\",\n        },\n\"Self-reported use of prescribed medicines for specific diseases by sex, age and educational attainment level\",\n\"Population and social conditions Health Health care Medicine use Medicine use - historical data Self-reported use of prescribed medicines for specific diseases by sex, age and educational attainment level\",\n\"https://ec.europa.eu/eurostat/estat-navtree-portlet-prod/BulkDownloadListing?sort=1&file=data%2Fhlth_ehis_hc7.tsv.gz\"],\n [{\n            'v': 92,\n            'f': \"92\",\n        },\n{\n            'v': 0.3373517394065857,\n            'f': \"0.3373517394065857\",\n        },\n{\n            'v': -9.609601020812988,\n            'f': \"-9.609601020812988\",\n        },\n\"Disabled people by sex, life area where a barrier is reported and having a longstanding health problem\",\n\"Population and social conditions Health Disability Barriers to social integration of disabled people (source EHSIS) Disabled people by sex, life area where a barrier is reported and having a longstanding health problem\",\n\"https://ec.europa.eu/eurostat/estat-navtree-portlet-prod/BulkDownloadListing?sort=1&file=data%2Fhlth_dsi130.tsv.gz\"],\n [{\n            'v': 56,\n            'f': \"56\",\n        },\n{\n            'v': 0.36187684535980225,\n            'f': \"0.36187684535980225\",\n        },\n{\n            'v': -9.610651016235352,\n            'f': \"-9.610651016235352\",\n        },\n\"Employed people having a longstanding health problem or a difficulty in basic activities by the type of special assistance used, sex and age\",\n\"Population and social conditions Health Disability Access to labour market for disabled people (source LFS) Employed people having a longstanding health problem or a difficulty in basic activities by the type of special assistance used, sex and age\",\n\"https://ec.europa.eu/eurostat/estat-navtree-portlet-prod/BulkDownloadListing?sort=1&file=data%2Fhlth_dlm180.tsv.gz\"],\n [{\n            'v': 30,\n            'f': \"30\",\n        },\n{\n            'v': 0.3966051936149597,\n            'f': \"0.3966051936149597\",\n        },\n{\n            'v': -9.612136840820312,\n            'f': \"-9.612136840820312\",\n        },\n\"Share of persons who cannot afford a personal car by level of activity limitation, sex and age\",\n\"Population and social conditions Health Disability Material deprivation among disabled people - EU-SILC survey Share of persons who cannot afford a personal car by level of activity limitation, sex and age\",\n\"https://ec.europa.eu/eurostat/estat-navtree-portlet-prod/BulkDownloadListing?sort=1&file=data%2Fhlth_dm110.tsv.gz\"],\n [{\n            'v': 61,\n            'f': \"61\",\n        },\n{\n            'v': 0.35895565152168274,\n            'f': \"0.35895565152168274\",\n        },\n{\n            'v': -9.627655029296875,\n            'f': \"-9.627655029296875\",\n        },\n\"Not employed people having a longstanding health problem or a difficulty in basic activities by the type of special assistance needed, sex and age\",\n\"Population and social conditions Health Disability Access to labour market for disabled people (source LFS) Not employed people having a longstanding health problem or a difficulty in basic activities by the type of special assistance needed, sex and age\",\n\"https://ec.europa.eu/eurostat/estat-navtree-portlet-prod/BulkDownloadListing?sort=1&file=data%2Fhlth_dlm190.tsv.gz\"],\n [{\n            'v': 25,\n            'f': \"25\",\n        },\n{\n            'v': 0.40414637327194214,\n            'f': \"0.40414637327194214\",\n        },\n{\n            'v': -9.689657211303711,\n            'f': \"-9.689657211303711\",\n        },\n\"People reporting a limitation in the amount of work caused by longstanding health problems or difficulties in basic activities by cause, sex and age\",\n\"Population and social conditions Health Disability Access to labour market for disabled people (source LFS) People reporting a limitation in the amount of work caused by longstanding health problems or difficulties in basic activities by cause, sex and age\",\n\"https://ec.europa.eu/eurostat/estat-navtree-portlet-prod/BulkDownloadListing?sort=1&file=data%2Fhlth_dlm150.tsv.gz\"],\n [{\n            'v': 26,\n            'f': \"26\",\n        },\n{\n            'v': 0.40318262577056885,\n            'f': \"0.40318262577056885\",\n        },\n{\n            'v': -9.690868377685547,\n            'f': \"-9.690868377685547\",\n        },\n\"People reporting a limitation in the type of work caused by longstanding health problems or difficulties in basic activities by cause, sex and age\",\n\"Population and social conditions Health Disability Access to labour market for disabled people (source LFS) People reporting a limitation in the type of work caused by longstanding health problems or difficulties in basic activities by cause, sex and age\",\n\"https://ec.europa.eu/eurostat/estat-navtree-portlet-prod/BulkDownloadListing?sort=1&file=data%2Fhlth_dlm160.tsv.gz\"],\n [{\n            'v': 22,\n            'f': \"22\",\n        },\n{\n            'v': 0.4124927818775177,\n            'f': \"0.4124927818775177\",\n        },\n{\n            'v': -9.691886901855469,\n            'f': \"-9.691886901855469\",\n        },\n\"People having a long-standing illness or health problem, by sex, age and educational attainment level\",\n\"Population and social conditions Health Health status Self-reported chronic morbidity People having a long-standing illness or health problem, by sex, age and educational attainment level\",\n\"https://ec.europa.eu/eurostat/estat-navtree-portlet-prod/BulkDownloadListing?sort=1&file=data%2Fhlth_silc_05.tsv.gz\"],\n [{\n            'v': 47,\n            'f': \"47\",\n        },\n{\n            'v': 0.37690484523773193,\n            'f': \"0.37690484523773193\",\n        },\n{\n            'v': -9.70103645324707,\n            'f': \"-9.70103645324707\",\n        },\n\"Ability to make ends meet by level of activity limitation, sex and age\",\n\"Population and social conditions Health Disability Material deprivation among disabled people - EU-SILC survey Ability to make ends meet by level of activity limitation, sex and age\",\n\"https://ec.europa.eu/eurostat/estat-navtree-portlet-prod/BulkDownloadListing?sort=1&file=data%2Fhlth_dm060.tsv.gz\"],\n [{\n            'v': 48,\n            'f': \"48\",\n        },\n{\n            'v': 0.3755806088447571,\n            'f': \"0.3755806088447571\",\n        },\n{\n            'v': -9.708155632019043,\n            'f': \"-9.708155632019043\",\n        },\n\"Vaccination against influenza of population aged 65 and over\",\n\"Population and social conditions Health Health care Preventive services Vaccination against influenza of population aged 65 and over\",\n\"https://ec.europa.eu/eurostat/estat-navtree-portlet-prod/BulkDownloadListing?sort=1&file=data%2Fhlth_ps_immu.tsv.gz\"],\n [{\n            'v': 49,\n            'f': \"49\",\n        },\n{\n            'v': 0.373460590839386,\n            'f': \"0.373460590839386\",\n        },\n{\n            'v': -9.732940673828125,\n            'f': \"-9.732940673828125\",\n        },\n\"Self-reported unmet needs for medical examination by level of activity limitation, sex and age\",\n\"Population and social conditions Health Disability Health problems of disabled people (sources SILC or EHIS) Self-reported unmet needs for medical examination by level of activity limitation, sex and age\",\n\"https://ec.europa.eu/eurostat/estat-navtree-portlet-prod/BulkDownloadListing?sort=1&file=data%2Fhlth_dh030.tsv.gz\"],\n [{\n            'v': 46,\n            'f': \"46\",\n        },\n{\n            'v': 0.37760257720947266,\n            'f': \"0.37760257720947266\",\n        },\n{\n            'v': -9.741018295288086,\n            'f': \"-9.741018295288086\",\n        },\n\"Disabled people by sex, need for assistance and having a longstanding difficulty in activities of personal care\",\n\"Population and social conditions Health Disability Prevalence of disability (source EHSIS) Disabled people by sex, need for assistance and having a longstanding difficulty in activities of personal care\",\n\"https://ec.europa.eu/eurostat/estat-navtree-portlet-prod/BulkDownloadListing?sort=1&file=data%2Fhlth_dpeh190.tsv.gz\"],\n [{\n            'v': 70,\n            'f': \"70\",\n        },\n{\n            'v': 0.35414355993270874,\n            'f': \"0.35414355993270874\",\n        },\n{\n            'v': -9.742194175720215,\n            'f': \"-9.742194175720215\",\n        },\n\"Self-perceived long-standing limitations in usual activities due to health problem by sex, age and groups of country of birth\",\n\"Population and social conditions Health Health status Functional and activity limitations Self-perceived long-standing limitations in usual activities due to health problem by sex, age and groups of country of birth\",\n\"https://ec.europa.eu/eurostat/estat-navtree-portlet-prod/BulkDownloadListing?sort=1&file=data%2Fhlth_silc_27.tsv.gz\"],\n [{\n            'v': 19,\n            'f': \"19\",\n        },\n{\n            'v': 0.41564124822616577,\n            'f': \"0.41564124822616577\",\n        },\n{\n            'v': -9.750142097473145,\n            'f': \"-9.750142097473145\",\n        },\n\"Self-reported vaccination against influenza by sex, age and educational attainment level\",\n\"Population and social conditions Health Health care Preventive services Self-reported vaccination against influenza by sex, age and educational attainment level\",\n\"https://ec.europa.eu/eurostat/estat-navtree-portlet-prod/BulkDownloadListing?sort=1&file=data%2Fhlth_ehis_pa1e.tsv.gz\"],\n [{\n            'v': 15,\n            'f': \"15\",\n        },\n{\n            'v': 0.41930997371673584,\n            'f': \"0.41930997371673584\",\n        },\n{\n            'v': -9.75733470916748,\n            'f': \"-9.75733470916748\",\n        },\n\"People having a long-standing illness or health problem, by sex, age and income quintile\",\n\"Population and social conditions Health Health status Self-reported chronic morbidity People having a long-standing illness or health problem, by sex, age and income quintile\",\n\"https://ec.europa.eu/eurostat/estat-navtree-portlet-prod/BulkDownloadListing?sort=1&file=data%2Fhlth_silc_11.tsv.gz\"],\n [{\n            'v': 91,\n            'f': \"91\",\n        },\n{\n            'v': 0.33751559257507324,\n            'f': \"0.33751559257507324\",\n        },\n{\n            'v': -9.78607177734375,\n            'f': \"-9.78607177734375\",\n        },\n\"Disabled people by sex, age and life area where a barrier is reported\",\n\"Population and social conditions Health Disability Barriers to social integration of disabled people (source EHSIS) Disabled people by sex, age and life area where a barrier is reported\",\n\"https://ec.europa.eu/eurostat/estat-navtree-portlet-prod/BulkDownloadListing?sort=1&file=data%2Fhlth_dsi090.tsv.gz\"],\n [{\n            'v': 79,\n            'f': \"79\",\n        },\n{\n            'v': 0.3473150134086609,\n            'f': \"0.3473150134086609\",\n        },\n{\n            'v': -9.79138469696045,\n            'f': \"-9.79138469696045\",\n        },\n\"Disabled people by sex, age and severity of disability\",\n\"Population and social conditions Health Disability Barriers to social integration of disabled people (source EHSIS) Disabled people by sex, age and severity of disability\",\n\"https://ec.europa.eu/eurostat/estat-navtree-portlet-prod/BulkDownloadListing?sort=1&file=data%2Fhlth_dsi010.tsv.gz\"],\n [{\n            'v': 50,\n            'f': \"50\",\n        },\n{\n            'v': 0.37115806341171265,\n            'f': \"0.37115806341171265\",\n        },\n{\n            'v': -9.793598175048828,\n            'f': \"-9.793598175048828\",\n        },\n\"Self-perceived health by level of activity limitation, sex and age\",\n\"Population and social conditions Health Disability Health problems of disabled people (sources SILC or EHIS) Self-perceived health by level of activity limitation, sex and age\",\n\"https://ec.europa.eu/eurostat/estat-navtree-portlet-prod/BulkDownloadListing?sort=1&file=data%2Fhlth_dh010.tsv.gz\"],\n [{\n            'v': 14,\n            'f': \"14\",\n        },\n{\n            'v': 0.4208557903766632,\n            'f': \"0.4208557903766632\",\n        },\n{\n            'v': -9.802032470703125,\n            'f': \"-9.802032470703125\",\n        },\n\"People having a long-standing illness or health problem, by sex, age and labour status\",\n\"Population and social conditions Health Health status Self-reported chronic morbidity People having a long-standing illness or health problem, by sex, age and labour status\",\n\"https://ec.europa.eu/eurostat/estat-navtree-portlet-prod/BulkDownloadListing?sort=1&file=data%2Fhlth_silc_04.tsv.gz\"],\n [{\n            'v': 38,\n            'f': \"38\",\n        },\n{\n            'v': 0.38844189047813416,\n            'f': \"0.38844189047813416\",\n        },\n{\n            'v': -9.807445526123047,\n            'f': \"-9.807445526123047\",\n        },\n\"Severe material deprivation by level of activity limitation, sex and age\",\n\"Population and social conditions Health Disability Material deprivation among disabled people - EU-SILC survey Severe material deprivation by level of activity limitation, sex and age\",\n\"https://ec.europa.eu/eurostat/estat-navtree-portlet-prod/BulkDownloadListing?sort=1&file=data%2Fhlth_dm010.tsv.gz\"],\n [{\n            'v': 37,\n            'f': \"37\",\n        },\n{\n            'v': 0.3885343074798584,\n            'f': \"0.3885343074798584\",\n        },\n{\n            'v': -9.807806015014648,\n            'f': \"-9.807806015014648\",\n        },\n\"Disabled people by sex, need for assistance and having a longstanding health problem\",\n\"Population and social conditions Health Disability Prevalence of disability (source EHSIS) Disabled people by sex, need for assistance and having a longstanding health problem\",\n\"https://ec.europa.eu/eurostat/estat-navtree-portlet-prod/BulkDownloadListing?sort=1&file=data%2Fhlth_dpeh170.tsv.gz\"],\n [{\n            'v': 67,\n            'f': \"67\",\n        },\n{\n            'v': 0.3565308451652527,\n            'f': \"0.3565308451652527\",\n        },\n{\n            'v': -9.812055587768555,\n            'f': \"-9.812055587768555\",\n        },\n\"Disabled people by sex, need for assistance and having a longstanding difficulty in basic activities\",\n\"Population and social conditions Health Disability Prevalence of disability (source EHSIS) Disabled people by sex, need for assistance and having a longstanding difficulty in basic activities\",\n\"https://ec.europa.eu/eurostat/estat-navtree-portlet-prod/BulkDownloadListing?sort=1&file=data%2Fhlth_dpeh180.tsv.gz\"],\n [{\n            'v': 65,\n            'f': \"65\",\n        },\n{\n            'v': 0.3576669991016388,\n            'f': \"0.3576669991016388\",\n        },\n{\n            'v': -9.818315505981445,\n            'f': \"-9.818315505981445\",\n        },\n\"People reporting a limitation in work by the reason for limitation in work, sex and age\",\n\"Population and social conditions Health Disability Access to labour market for disabled people (source LFS) People reporting a limitation in work by the reason for limitation in work, sex and age\",\n\"https://ec.europa.eu/eurostat/estat-navtree-portlet-prod/BulkDownloadListing?sort=1&file=data%2Fhlth_dlm140.tsv.gz\"],\n [{\n            'v': 93,\n            'f': \"93\",\n        },\n{\n            'v': 0.336087167263031,\n            'f': \"0.336087167263031\",\n        },\n{\n            'v': -9.840505599975586,\n            'f': \"-9.840505599975586\",\n        },\n\"Disabled people by sex, severity of disability and household type\",\n\"Population and social conditions Health Disability Barriers to social integration of disabled people (source EHSIS) Disabled people by sex, severity of disability and household type\",\n\"https://ec.europa.eu/eurostat/estat-navtree-portlet-prod/BulkDownloadListing?sort=1&file=data%2Fhlth_dsi040.tsv.gz\"],\n [{\n            'v': 10,\n            'f': \"10\",\n        },\n{\n            'v': 0.43203291296958923,\n            'f': \"0.43203291296958923\",\n        },\n{\n            'v': -9.843605995178223,\n            'f': \"-9.843605995178223\",\n        },\n\"Self-reported use of non-prescribed medicines by sex, age and educational attainment level\",\n\"Population and social conditions Health Health care Medicine use Self-reported use of non-prescribed medicines by sex, age and educational attainment level\",\n\"https://ec.europa.eu/eurostat/estat-navtree-portlet-prod/BulkDownloadListing?sort=1&file=data%2Fhlth_ehis_md2e.tsv.gz\"],\n [{\n            'v': 69,\n            'f': \"69\",\n        },\n{\n            'v': 0.3550194799900055,\n            'f': \"0.3550194799900055\",\n        },\n{\n            'v': -9.850248336791992,\n            'f': \"-9.850248336791992\",\n        },\n\"Disabled people by sex, need for assistance and having a longstanding difficulty in activities of household care\",\n\"Population and social conditions Health Disability Prevalence of disability (source EHSIS) Disabled people by sex, need for assistance and having a longstanding difficulty in activities of household care\",\n\"https://ec.europa.eu/eurostat/estat-navtree-portlet-prod/BulkDownloadListing?sort=1&file=data%2Fhlth_dpeh200.tsv.gz\"],\n [{\n            'v': 1,\n            'f': \"1\",\n        },\n{\n            'v': 0.4504871368408203,\n            'f': \"0.4504871368408203\",\n        },\n{\n            'v': -9.859198570251465,\n            'f': \"-9.859198570251465\",\n        },\n\"Self-reported use of non-prescribed medicines by sex, age and degree of urbanisation\",\n\"Population and social conditions Health Health care Medicine use Self-reported use of non-prescribed medicines by sex, age and degree of urbanisation\",\n\"https://ec.europa.eu/eurostat/estat-navtree-portlet-prod/BulkDownloadListing?sort=1&file=data%2Fhlth_ehis_md2u.tsv.gz\"],\n [{\n            'v': 32,\n            'f': \"32\",\n        },\n{\n            'v': 0.3947138786315918,\n            'f': \"0.3947138786315918\",\n        },\n{\n            'v': -9.884289741516113,\n            'f': \"-9.884289741516113\",\n        },\n\"Inability to face unexpected financial expenses by level of activity limitation, sex and age\",\n\"Population and social conditions Health Disability Material deprivation among disabled people - EU-SILC survey Inability to face unexpected financial expenses by level of activity limitation, sex and age\",\n\"https://ec.europa.eu/eurostat/estat-navtree-portlet-prod/BulkDownloadListing?sort=1&file=data%2Fhlth_dm040.tsv.gz\"],\n [{\n            'v': 12,\n            'f': \"12\",\n        },\n{\n            'v': 0.4217756986618042,\n            'f': \"0.4217756986618042\",\n        },\n{\n            'v': -9.939543724060059,\n            'f': \"-9.939543724060059\",\n        },\n\"Self-reported vaccination against influenza by sex, age and educational attainment level (%)\",\n\"Population and social conditions Health Health care Preventive services Preventive services - historical data Self-reported vaccination against influenza by sex, age and educational attainment level (%)\",\n\"https://ec.europa.eu/eurostat/estat-navtree-portlet-prod/BulkDownloadListing?sort=1&file=data%2Fhlth_ehis_hc1.tsv.gz\"],\n [{\n            'v': 58,\n            'f': \"58\",\n        },\n{\n            'v': 0.36003953218460083,\n            'f': \"0.36003953218460083\",\n        },\n{\n            'v': -9.949471473693848,\n            'f': \"-9.949471473693848\",\n        },\n\"Arrears (mortgage or rent, utility bills or hire purchase) by level of activity limitation, sex and age\",\n\"Population and social conditions Health Disability Material deprivation among disabled people - EU-SILC survey Arrears (mortgage or rent, utility bills or hire purchase) by level of activity limitation, sex and age\",\n\"https://ec.europa.eu/eurostat/estat-navtree-portlet-prod/BulkDownloadListing?sort=1&file=data%2Fhlth_dm050.tsv.gz\"],\n [{\n            'v': 88,\n            'f': \"88\",\n        },\n{\n            'v': 0.33934926986694336,\n            'f': \"0.33934926986694336\",\n        },\n{\n            'v': -9.95911693572998,\n            'f': \"-9.95911693572998\",\n        },\n\"People at risk of poverty or social exclusion by level of activity limitation, sex and age\",\n\"Population and social conditions Health Disability Income distribution and poverty among disabled people - EU-SILC survey People at risk of poverty or social exclusion by level of activity limitation, sex and age\",\n\"https://ec.europa.eu/eurostat/estat-navtree-portlet-prod/BulkDownloadListing?sort=1&file=data%2Fhlth_dpe010.tsv.gz\"],\n [{\n            'v': 77,\n            'f': \"77\",\n        },\n{\n            'v': 0.347623348236084,\n            'f': \"0.347623348236084\",\n        },\n{\n            'v': -9.963997840881348,\n            'f': \"-9.963997840881348\",\n        },\n\"Self-perceived long-standing limitations in usual activities due to health problem by sex, age and groups of country of citizenship\",\n\"Population and social conditions Health Health status Functional and activity limitations Self-perceived long-standing limitations in usual activities due to health problem by sex, age and groups of country of citizenship\",\n\"https://ec.europa.eu/eurostat/estat-navtree-portlet-prod/BulkDownloadListing?sort=1&file=data%2Fhlth_silc_28.tsv.gz\"],\n [{\n            'v': 57,\n            'f': \"57\",\n        },\n{\n            'v': 0.36111414432525635,\n            'f': \"0.36111414432525635\",\n        },\n{\n            'v': -9.992399215698242,\n            'f': \"-9.992399215698242\",\n        },\n\"Body mass index (BMI) by level of activity limitation, sex and age\",\n\"Population and social conditions Health Disability Health problems of disabled people (sources SILC or EHIS) Body mass index (BMI) by level of activity limitation, sex and age\",\n\"https://ec.europa.eu/eurostat/estat-navtree-portlet-prod/BulkDownloadListing?sort=1&file=data%2Fhlth_dh050.tsv.gz\"],\n [{\n            'v': 2,\n            'f': \"2\",\n        },\n{\n            'v': 0.4502629041671753,\n            'f': \"0.4502629041671753\",\n        },\n{\n            'v': -10.06727123260498,\n            'f': \"-10.06727123260498\",\n        },\n\"Self-reported use of non-prescribed medicines by sex, age and country of citizenship\",\n\"Population and social conditions Health Health care Medicine use Self-reported use of non-prescribed medicines by sex, age and country of citizenship\",\n\"https://ec.europa.eu/eurostat/estat-navtree-portlet-prod/BulkDownloadListing?sort=1&file=data%2Fhlth_ehis_md2c.tsv.gz\"],\n [{\n            'v': 45,\n            'f': \"45\",\n        },\n{\n            'v': 0.38054779171943665,\n            'f': \"0.38054779171943665\",\n        },\n{\n            'v': -10.078479766845703,\n            'f': \"-10.078479766845703\",\n        },\n\"Breast cancer and cervical cancer screenings\",\n\"Population and social conditions Health Health care Preventive services Breast cancer and cervical cancer screenings\",\n\"https://ec.europa.eu/eurostat/estat-navtree-portlet-prod/BulkDownloadListing?sort=1&file=data%2Fhlth_ps_scre.tsv.gz\"]],\n        columns: [[\"number\", \"index\"], [\"number\", \"score\"], [\"number\", \"cross_scores\"], [\"string\", \"File description\"], [\"string\", \"Full path\"], [\"string\", \"Link\"]],\n        columnOptions: [{\"width\": \"1px\", \"className\": \"index_column\"}],\n        rowsPerPage: 5,\n        helpUrl: \"https://colab.research.google.com/notebooks/data_table.ipynb\",\n        suppressOutputScrolling: true,\n        minimumWidth: undefined,\n      });\n    ",
            "text/plain": [
              "<google.colab.data_table.DataTable object>"
            ]
          },
          "metadata": {}
        },
        {
          "output_type": "stream",
          "name": "stderr",
          "text": [
            "/usr/local/lib/python3.7/dist-packages/sklearn/utils/deprecation.py:87: FutureWarning: Function get_feature_names is deprecated; get_feature_names is deprecated in 1.0 and will be removed in 1.2. Please use get_feature_names_out instead.\n",
            "  warnings.warn(msg, category=FutureWarning)\n"
          ]
        },
        {
          "name": "stdout",
          "output_type": "stream",
          "text": [
            "bot: What about level activity limitation? (yes/no/add some keywords, q to quit) \n",
            "me:  no\n"
          ]
        },
        {
          "output_type": "display_data",
          "data": {
            "text/html": [
              "<div>\n",
              "<style scoped>\n",
              "    .dataframe tbody tr th:only-of-type {\n",
              "        vertical-align: middle;\n",
              "    }\n",
              "\n",
              "    .dataframe tbody tr th {\n",
              "        vertical-align: top;\n",
              "    }\n",
              "\n",
              "    .dataframe thead th {\n",
              "        text-align: right;\n",
              "    }\n",
              "</style>\n",
              "<table border=\"1\" class=\"dataframe\">\n",
              "  <thead>\n",
              "    <tr style=\"text-align: right;\">\n",
              "      <th></th>\n",
              "      <th>score</th>\n",
              "      <th>cross_scores</th>\n",
              "      <th>File description</th>\n",
              "      <th>Full path</th>\n",
              "      <th>Link</th>\n",
              "    </tr>\n",
              "  </thead>\n",
              "  <tbody>\n",
              "    <tr>\n",
              "      <th>0</th>\n",
              "      <td>0.456813</td>\n",
              "      <td>-8.563866</td>\n",
              "      <td>Self-reported screening of cardiovascular dise...</td>\n",
              "      <td>Population and social conditions Health Health...</td>\n",
              "      <td>https://ec.europa.eu/eurostat/estat-navtree-po...</td>\n",
              "    </tr>\n",
              "    <tr>\n",
              "      <th>8</th>\n",
              "      <td>0.436877</td>\n",
              "      <td>-8.564386</td>\n",
              "      <td>Self-reported screening of cardiovascular dise...</td>\n",
              "      <td>Population and social conditions Health Health...</td>\n",
              "      <td>https://ec.europa.eu/eurostat/estat-navtree-po...</td>\n",
              "    </tr>\n",
              "    <tr>\n",
              "      <th>9</th>\n",
              "      <td>0.433801</td>\n",
              "      <td>-8.613359</td>\n",
              "      <td>Self-reported screening of cardiovascular dise...</td>\n",
              "      <td>Population and social conditions Health Health...</td>\n",
              "      <td>https://ec.europa.eu/eurostat/estat-navtree-po...</td>\n",
              "    </tr>\n",
              "    <tr>\n",
              "      <th>13</th>\n",
              "      <td>0.421168</td>\n",
              "      <td>-8.718422</td>\n",
              "      <td>Persons reporting a chronic disease, by diseas...</td>\n",
              "      <td>Population and social conditions Health Health...</td>\n",
              "      <td>https://ec.europa.eu/eurostat/estat-navtree-po...</td>\n",
              "    </tr>\n",
              "    <tr>\n",
              "      <th>11</th>\n",
              "      <td>0.425595</td>\n",
              "      <td>-8.757074</td>\n",
              "      <td>Persons reporting a chronic disease, by diseas...</td>\n",
              "      <td>Population and social conditions Health Health...</td>\n",
              "      <td>https://ec.europa.eu/eurostat/estat-navtree-po...</td>\n",
              "    </tr>\n",
              "    <tr>\n",
              "      <th>...</th>\n",
              "      <td>...</td>\n",
              "      <td>...</td>\n",
              "      <td>...</td>\n",
              "      <td>...</td>\n",
              "      <td>...</td>\n",
              "    </tr>\n",
              "    <tr>\n",
              "      <th>88</th>\n",
              "      <td>0.339349</td>\n",
              "      <td>-9.959117</td>\n",
              "      <td>People at risk of poverty or social exclusion ...</td>\n",
              "      <td>Population and social conditions Health Disabi...</td>\n",
              "      <td>https://ec.europa.eu/eurostat/estat-navtree-po...</td>\n",
              "    </tr>\n",
              "    <tr>\n",
              "      <th>77</th>\n",
              "      <td>0.347623</td>\n",
              "      <td>-9.963998</td>\n",
              "      <td>Self-perceived long-standing limitations in us...</td>\n",
              "      <td>Population and social conditions Health Health...</td>\n",
              "      <td>https://ec.europa.eu/eurostat/estat-navtree-po...</td>\n",
              "    </tr>\n",
              "    <tr>\n",
              "      <th>57</th>\n",
              "      <td>0.361114</td>\n",
              "      <td>-9.992399</td>\n",
              "      <td>Body mass index (BMI) by level of activity lim...</td>\n",
              "      <td>Population and social conditions Health Disabi...</td>\n",
              "      <td>https://ec.europa.eu/eurostat/estat-navtree-po...</td>\n",
              "    </tr>\n",
              "    <tr>\n",
              "      <th>2</th>\n",
              "      <td>0.450263</td>\n",
              "      <td>-10.067271</td>\n",
              "      <td>Self-reported use of non-prescribed medicines ...</td>\n",
              "      <td>Population and social conditions Health Health...</td>\n",
              "      <td>https://ec.europa.eu/eurostat/estat-navtree-po...</td>\n",
              "    </tr>\n",
              "    <tr>\n",
              "      <th>45</th>\n",
              "      <td>0.380548</td>\n",
              "      <td>-10.078480</td>\n",
              "      <td>Breast cancer and cervical cancer screenings</td>\n",
              "      <td>Population and social conditions Health Health...</td>\n",
              "      <td>https://ec.europa.eu/eurostat/estat-navtree-po...</td>\n",
              "    </tr>\n",
              "  </tbody>\n",
              "</table>\n",
              "<p>63 rows × 5 columns</p>\n",
              "</div>"
            ],
            "application/vnd.google.colaboratory.module+javascript": "\n      import \"https://ssl.gstatic.com/colaboratory/data_table/f872b2c2305463fd/data_table.js\";\n\n      window.createDataTable({\n        data: [[{\n            'v': 0,\n            'f': \"0\",\n        },\n{\n            'v': 0.45681267976760864,\n            'f': \"0.45681267976760864\",\n        },\n{\n            'v': -8.563865661621094,\n            'f': \"-8.563865661621094\",\n        },\n\"Self-reported screening of cardiovascular diseases and diabetes risks by sex, age and degree of urbanisation\",\n\"Population and social conditions Health Health care Preventive services Self-reported screening of cardiovascular diseases and diabetes risks by sex, age and degree of urbanisation\",\n\"https://ec.europa.eu/eurostat/estat-navtree-portlet-prod/BulkDownloadListing?sort=1&file=data%2Fhlth_ehis_pa2u.tsv.gz\"],\n [{\n            'v': 8,\n            'f': \"8\",\n        },\n{\n            'v': 0.4368773102760315,\n            'f': \"0.4368773102760315\",\n        },\n{\n            'v': -8.564386367797852,\n            'f': \"-8.564386367797852\",\n        },\n\"Self-reported screening of cardiovascular diseases and diabetes risks by sex, age and income quintile\",\n\"Population and social conditions Health Health care Preventive services Self-reported screening of cardiovascular diseases and diabetes risks by sex, age and income quintile\",\n\"https://ec.europa.eu/eurostat/estat-navtree-portlet-prod/BulkDownloadListing?sort=1&file=data%2Fhlth_ehis_pa2i.tsv.gz\"],\n [{\n            'v': 9,\n            'f': \"9\",\n        },\n{\n            'v': 0.4338005483150482,\n            'f': \"0.4338005483150482\",\n        },\n{\n            'v': -8.613359451293945,\n            'f': \"-8.613359451293945\",\n        },\n\"Self-reported screening of cardiovascular diseases and diabetes risks by sex, age and educational attainment level\",\n\"Population and social conditions Health Health care Preventive services Self-reported screening of cardiovascular diseases and diabetes risks by sex, age and educational attainment level\",\n\"https://ec.europa.eu/eurostat/estat-navtree-portlet-prod/BulkDownloadListing?sort=1&file=data%2Fhlth_ehis_pa2e.tsv.gz\"],\n [{\n            'v': 13,\n            'f': \"13\",\n        },\n{\n            'v': 0.4211675226688385,\n            'f': \"0.4211675226688385\",\n        },\n{\n            'v': -8.718421936035156,\n            'f': \"-8.718421936035156\",\n        },\n\"Persons reporting a chronic disease, by disease, sex, age and level of activity limitation\",\n\"Population and social conditions Health Health status Self-reported chronic morbidity Persons reporting a chronic disease, by disease, sex, age and level of activity limitation\",\n\"https://ec.europa.eu/eurostat/estat-navtree-portlet-prod/BulkDownloadListing?sort=1&file=data%2Fhlth_ehis_cd1d.tsv.gz\"],\n [{\n            'v': 11,\n            'f': \"11\",\n        },\n{\n            'v': 0.42559486627578735,\n            'f': \"0.42559486627578735\",\n        },\n{\n            'v': -8.757074356079102,\n            'f': \"-8.757074356079102\",\n        },\n\"Persons reporting a chronic disease, by disease, sex, age and broad group of citizenship\",\n\"Population and social conditions Health Health status Self-reported chronic morbidity Persons reporting a chronic disease, by disease, sex, age and broad group of citizenship\",\n\"https://ec.europa.eu/eurostat/estat-navtree-portlet-prod/BulkDownloadListing?sort=1&file=data%2Fhlth_ehis_cd1c.tsv.gz\"],\n [{\n            'v': 31,\n            'f': \"31\",\n        },\n{\n            'v': 0.39613187313079834,\n            'f': \"0.39613187313079834\",\n        },\n{\n            'v': -9.110416412353516,\n            'f': \"-9.110416412353516\",\n        },\n\"Persons reporting a chronic disease, by disease, sex, age and educational attainment level\",\n\"Population and social conditions Health Health status Self-reported chronic morbidity Persons reporting a chronic disease, by disease, sex, age and educational attainment level\",\n\"https://ec.europa.eu/eurostat/estat-navtree-portlet-prod/BulkDownloadListing?sort=1&file=data%2Fhlth_ehis_cd1e.tsv.gz\"],\n [{\n            'v': 16,\n            'f': \"16\",\n        },\n{\n            'v': 0.4178217649459839,\n            'f': \"0.4178217649459839\",\n        },\n{\n            'v': -9.180136680603027,\n            'f': \"-9.180136680603027\",\n        },\n\"Persons reporting a chronic disease, by disease, sex, age and degree of urbanisation\",\n\"Population and social conditions Health Health status Self-reported chronic morbidity Persons reporting a chronic disease, by disease, sex, age and degree of urbanisation\",\n\"https://ec.europa.eu/eurostat/estat-navtree-portlet-prod/BulkDownloadListing?sort=1&file=data%2Fhlth_ehis_cd1u.tsv.gz\"],\n [{\n            'v': 24,\n            'f': \"24\",\n        },\n{\n            'v': 0.40489625930786133,\n            'f': \"0.40489625930786133\",\n        },\n{\n            'v': -9.1945161819458,\n            'f': \"-9.1945161819458\",\n        },\n\"Persons reporting a chronic disease, by disease, sex, age and income quintile\",\n\"Population and social conditions Health Health status Self-reported chronic morbidity Persons reporting a chronic disease, by disease, sex, age and income quintile\",\n\"https://ec.europa.eu/eurostat/estat-navtree-portlet-prod/BulkDownloadListing?sort=1&file=data%2Fhlth_ehis_cd1i.tsv.gz\"],\n [{\n            'v': 73,\n            'f': \"73\",\n        },\n{\n            'v': 0.3517647385597229,\n            'f': \"0.3517647385597229\",\n        },\n{\n            'v': -9.222434997558594,\n            'f': \"-9.222434997558594\",\n        },\n\"People reporting a chronic disease, by disease, sex, age and educational attainment level (%)\",\n\"Population and social conditions Health Health status Health status - historical data (2008) People reporting a chronic disease, by disease, sex, age and educational attainment level (%)\",\n\"https://ec.europa.eu/eurostat/estat-navtree-portlet-prod/BulkDownloadListing?sort=1&file=data%2Fhlth_ehis_st1.tsv.gz\"],\n [{\n            'v': 20,\n            'f': \"20\",\n        },\n{\n            'v': 0.4138421416282654,\n            'f': \"0.4138421416282654\",\n        },\n{\n            'v': -9.289812088012695,\n            'f': \"-9.289812088012695\",\n        },\n\"Persons reporting a chronic disease, by disease, sex, age and contry of birth\",\n\"Population and social conditions Health Health status Self-reported chronic morbidity Persons reporting a chronic disease, by disease, sex, age and contry of birth\",\n\"https://ec.europa.eu/eurostat/estat-navtree-portlet-prod/BulkDownloadListing?sort=1&file=data%2Fhlth_ehis_cd1b.tsv.gz\"],\n [{\n            'v': 36,\n            'f': \"36\",\n        },\n{\n            'v': 0.38948553800582886,\n            'f': \"0.38948553800582886\",\n        },\n{\n            'v': -9.305326461791992,\n            'f': \"-9.305326461791992\",\n        },\n\"Inability to afford a meal with meat, chicken, fish (or vegetarian equivalent) every second day by level of activity limitation, sex and age\",\n\"Population and social conditions Health Disability Material deprivation among disabled people - EU-SILC survey Inability to afford a meal with meat, chicken, fish (or vegetarian equivalent) every second day by level of activity limitation, sex and age\",\n\"https://ec.europa.eu/eurostat/estat-navtree-portlet-prod/BulkDownloadListing?sort=1&file=data%2Fhlth_dm030.tsv.gz\"],\n [{\n            'v': 59,\n            'f': \"59\",\n        },\n{\n            'v': 0.35985392332077026,\n            'f': \"0.35985392332077026\",\n        },\n{\n            'v': -9.334128379821777,\n            'f': \"-9.334128379821777\",\n        },\n\"Disabled people by sex, severity of disability and having a longstanding difficulty in activities of personal care\",\n\"Population and social conditions Health Disability Barriers to social integration of disabled people (source EHSIS) Disabled people by sex, severity of disability and having a longstanding difficulty in activities of personal care\",\n\"https://ec.europa.eu/eurostat/estat-navtree-portlet-prod/BulkDownloadListing?sort=1&file=data%2Fhlth_dsi070.tsv.gz\"],\n [{\n            'v': 3,\n            'f': \"3\",\n        },\n{\n            'v': 0.44450998306274414,\n            'f': \"0.44450998306274414\",\n        },\n{\n            'v': -9.402045249938965,\n            'f': \"-9.402045249938965\",\n        },\n\"People having a long-standing illness or health problem, by sex, age and groups of country of citizenship\",\n\"Population and social conditions Health Health status Self-reported chronic morbidity People having a long-standing illness or health problem, by sex, age and groups of country of citizenship\",\n\"https://ec.europa.eu/eurostat/estat-navtree-portlet-prod/BulkDownloadListing?sort=1&file=data%2Fhlth_silc_26.tsv.gz\"],\n [{\n            'v': 89,\n            'f': \"89\",\n        },\n{\n            'v': 0.3392731845378876,\n            'f': \"0.3392731845378876\",\n        },\n{\n            'v': -9.422371864318848,\n            'f': \"-9.422371864318848\",\n        },\n\"Disabled people by sex, severity of disability and having a longstanding difficulty in activities of household care\",\n\"Population and social conditions Health Disability Barriers to social integration of disabled people (source EHSIS) Disabled people by sex, severity of disability and having a longstanding difficulty in activities of household care\",\n\"https://ec.europa.eu/eurostat/estat-navtree-portlet-prod/BulkDownloadListing?sort=1&file=data%2Fhlth_dsi080.tsv.gz\"],\n [{\n            'v': 21,\n            'f': \"21\",\n        },\n{\n            'v': 0.41340458393096924,\n            'f': \"0.41340458393096924\",\n        },\n{\n            'v': -9.4549560546875,\n            'f': \"-9.4549560546875\",\n        },\n\"Share of persons who cannot afford a computer by level of activity limitation, sex and age\",\n\"Population and social conditions Health Disability Material deprivation among disabled people - EU-SILC survey Share of persons who cannot afford a computer by level of activity limitation, sex and age\",\n\"https://ec.europa.eu/eurostat/estat-navtree-portlet-prod/BulkDownloadListing?sort=1&file=data%2Fhlth_dm090.tsv.gz\"],\n [{\n            'v': 34,\n            'f': \"34\",\n        },\n{\n            'v': 0.3896815776824951,\n            'f': \"0.3896815776824951\",\n        },\n{\n            'v': -9.472267150878906,\n            'f': \"-9.472267150878906\",\n        },\n\"Share of persons who cannot afford a telephone by level of activity limitation, sex and age\",\n\"Population and social conditions Health Disability Material deprivation among disabled people - EU-SILC survey Share of persons who cannot afford a telephone by level of activity limitation, sex and age\",\n\"https://ec.europa.eu/eurostat/estat-navtree-portlet-prod/BulkDownloadListing?sort=1&file=data%2Fhlth_dm070.tsv.gz\"],\n [{\n            'v': 53,\n            'f': \"53\",\n        },\n{\n            'v': 0.36988386511802673,\n            'f': \"0.36988386511802673\",\n        },\n{\n            'v': -9.484272003173828,\n            'f': \"-9.484272003173828\",\n        },\n\"EU index of occupational diseases (2013=100) ? experimental statistics\",\n\"Population and social conditions Health Health and safety at work Occupational diseases (from 2013 onwards  source: EODS) EU index of occupational diseases (2013=100) ? experimental statistics\",\n\"https://ec.europa.eu/eurostat/estat-navtree-portlet-prod/BulkDownloadListing?sort=1&file=data%2Fhsw_occ_ina.tsv.gz\"],\n [{\n            'v': 62,\n            'f': \"62\",\n        },\n{\n            'v': 0.3581039309501648,\n            'f': \"0.3581039309501648\",\n        },\n{\n            'v': -9.484460830688477,\n            'f': \"-9.484460830688477\",\n        },\n\"Disabled people by sex, severity of disability and having a longstanding health problem\",\n\"Population and social conditions Health Disability Barriers to social integration of disabled people (source EHSIS) Disabled people by sex, severity of disability and having a longstanding health problem\",\n\"https://ec.europa.eu/eurostat/estat-navtree-portlet-prod/BulkDownloadListing?sort=1&file=data%2Fhlth_dsi050.tsv.gz\"],\n [{\n            'v': 4,\n            'f': \"4\",\n        },\n{\n            'v': 0.4430308938026428,\n            'f': \"0.4430308938026428\",\n        },\n{\n            'v': -9.503378868103027,\n            'f': \"-9.503378868103027\",\n        },\n\"Share of persons who cannot afford a washing machine by level of activity limitation, sex and age\",\n\"Population and social conditions Health Disability Material deprivation among disabled people - EU-SILC survey Share of persons who cannot afford a washing machine by level of activity limitation, sex and age\",\n\"https://ec.europa.eu/eurostat/estat-navtree-portlet-prod/BulkDownloadListing?sort=1&file=data%2Fhlth_dm100.tsv.gz\"],\n [{\n            'v': 40,\n            'f': \"40\",\n        },\n{\n            'v': 0.3872709274291992,\n            'f': \"0.3872709274291992\",\n        },\n{\n            'v': -9.515177726745605,\n            'f': \"-9.515177726745605\",\n        },\n\"Share of persons who cannot afford a colour TV by level of activity limitation, sex and age\",\n\"Population and social conditions Health Disability Material deprivation among disabled people - EU-SILC survey Share of persons who cannot afford a colour TV by level of activity limitation, sex and age\",\n\"https://ec.europa.eu/eurostat/estat-navtree-portlet-prod/BulkDownloadListing?sort=1&file=data%2Fhlth_dm080.tsv.gz\"],\n [{\n            'v': 17,\n            'f': \"17\",\n        },\n{\n            'v': 0.41639092564582825,\n            'f': \"0.41639092564582825\",\n        },\n{\n            'v': -9.543538093566895,\n            'f': \"-9.543538093566895\",\n        },\n\"Self-reported vaccination against influenza by sex, age and income quintile\",\n\"Population and social conditions Health Health care Preventive services Self-reported vaccination against influenza by sex, age and income quintile\",\n\"https://ec.europa.eu/eurostat/estat-navtree-portlet-prod/BulkDownloadListing?sort=1&file=data%2Fhlth_ehis_pa1i.tsv.gz\"],\n [{\n            'v': 28,\n            'f': \"28\",\n        },\n{\n            'v': 0.39862871170043945,\n            'f': \"0.39862871170043945\",\n        },\n{\n            'v': -9.546828269958496,\n            'f': \"-9.546828269958496\",\n        },\n\"People reporting a limitation in getting to and from work caused by longstanding health problems or difficulties in basic activities by cause, sex and age\",\n\"Population and social conditions Health Disability Access to labour market for disabled people (source LFS) People reporting a limitation in getting to and from work caused by longstanding health problems or difficulties in basic activities by cause, sex and age\",\n\"https://ec.europa.eu/eurostat/estat-navtree-portlet-prod/BulkDownloadListing?sort=1&file=data%2Fhlth_dlm170.tsv.gz\"],\n [{\n            'v': 85,\n            'f': \"85\",\n        },\n{\n            'v': 0.3420341908931732,\n            'f': \"0.3420341908931732\",\n        },\n{\n            'v': -9.554632186889648,\n            'f': \"-9.554632186889648\",\n        },\n\"Disabled people by sex, life area where a barrier is reported and having a longstanding difficulty in activities of personal care\",\n\"Population and social conditions Health Disability Barriers to social integration of disabled people (source EHSIS) Disabled people by sex, life area where a barrier is reported and having a longstanding difficulty in activities of personal care\",\n\"https://ec.europa.eu/eurostat/estat-navtree-portlet-prod/BulkDownloadListing?sort=1&file=data%2Fhlth_dsi150.tsv.gz\"],\n [{\n            'v': 6,\n            'f': \"6\",\n        },\n{\n            'v': 0.44054868817329407,\n            'f': \"0.44054868817329407\",\n        },\n{\n            'v': -9.56204891204834,\n            'f': \"-9.56204891204834\",\n        },\n\"People having a long-standing illness or health problem, by sex, age and groups of country of birth\",\n\"Population and social conditions Health Health status Self-reported chronic morbidity People having a long-standing illness or health problem, by sex, age and groups of country of birth\",\n\"https://ec.europa.eu/eurostat/estat-navtree-portlet-prod/BulkDownloadListing?sort=1&file=data%2Fhlth_silc_25.tsv.gz\"],\n [{\n            'v': 52,\n            'f': \"52\",\n        },\n{\n            'v': 0.3700551688671112,\n            'f': \"0.3700551688671112\",\n        },\n{\n            'v': -9.571791648864746,\n            'f': \"-9.571791648864746\",\n        },\n\"People having a longstanding health problem by level of activity limitation, sex and age\",\n\"Population and social conditions Health Disability Health problems of disabled people (sources SILC or EHIS) People having a longstanding health problem by level of activity limitation, sex and age\",\n\"https://ec.europa.eu/eurostat/estat-navtree-portlet-prod/BulkDownloadListing?sort=1&file=data%2Fhlth_dh020.tsv.gz\"],\n [{\n            'v': 7,\n            'f': \"7\",\n        },\n{\n            'v': 0.43703120946884155,\n            'f': \"0.43703120946884155\",\n        },\n{\n            'v': -9.574719429016113,\n            'f': \"-9.574719429016113\",\n        },\n\"Self-reported use of non-prescribed medicines by sex, age and country of birth\",\n\"Population and social conditions Health Health care Medicine use Self-reported use of non-prescribed medicines by sex, age and country of birth\",\n\"https://ec.europa.eu/eurostat/estat-navtree-portlet-prod/BulkDownloadListing?sort=1&file=data%2Fhlth_ehis_md2b.tsv.gz\"],\n [{\n            'v': 35,\n            'f': \"35\",\n        },\n{\n            'v': 0.38957250118255615,\n            'f': \"0.38957250118255615\",\n        },\n{\n            'v': -9.59887409210205,\n            'f': \"-9.59887409210205\",\n        },\n\"Inability to afford paying for one week annual holiday away from home by level of activity limitation, sex and age\",\n\"Population and social conditions Health Disability Material deprivation among disabled people - EU-SILC survey Inability to afford paying for one week annual holiday away from home by level of activity limitation, sex and age\",\n\"https://ec.europa.eu/eurostat/estat-navtree-portlet-prod/BulkDownloadListing?sort=1&file=data%2Fhlth_dm020.tsv.gz\"],\n [{\n            'v': 5,\n            'f': \"5\",\n        },\n{\n            'v': 0.4421039819717407,\n            'f': \"0.4421039819717407\",\n        },\n{\n            'v': -9.601041793823242,\n            'f': \"-9.601041793823242\",\n        },\n\"Self-reported vaccination against influenza by sex, age and degree of urbanisation\",\n\"Population and social conditions Health Health care Preventive services Self-reported vaccination against influenza by sex, age and degree of urbanisation\",\n\"https://ec.europa.eu/eurostat/estat-navtree-portlet-prod/BulkDownloadListing?sort=1&file=data%2Fhlth_ehis_pa1u.tsv.gz\"],\n [{\n            'v': 43,\n            'f': \"43\",\n        },\n{\n            'v': 0.3840436041355133,\n            'f': \"0.3840436041355133\",\n        },\n{\n            'v': -9.60271167755127,\n            'f': \"-9.60271167755127\",\n        },\n\"Self-reported use of prescribed medicines for specific diseases by sex, age and educational attainment level\",\n\"Population and social conditions Health Health care Medicine use Medicine use - historical data Self-reported use of prescribed medicines for specific diseases by sex, age and educational attainment level\",\n\"https://ec.europa.eu/eurostat/estat-navtree-portlet-prod/BulkDownloadListing?sort=1&file=data%2Fhlth_ehis_hc7.tsv.gz\"],\n [{\n            'v': 92,\n            'f': \"92\",\n        },\n{\n            'v': 0.3373517394065857,\n            'f': \"0.3373517394065857\",\n        },\n{\n            'v': -9.609601020812988,\n            'f': \"-9.609601020812988\",\n        },\n\"Disabled people by sex, life area where a barrier is reported and having a longstanding health problem\",\n\"Population and social conditions Health Disability Barriers to social integration of disabled people (source EHSIS) Disabled people by sex, life area where a barrier is reported and having a longstanding health problem\",\n\"https://ec.europa.eu/eurostat/estat-navtree-portlet-prod/BulkDownloadListing?sort=1&file=data%2Fhlth_dsi130.tsv.gz\"],\n [{\n            'v': 56,\n            'f': \"56\",\n        },\n{\n            'v': 0.36187684535980225,\n            'f': \"0.36187684535980225\",\n        },\n{\n            'v': -9.610651016235352,\n            'f': \"-9.610651016235352\",\n        },\n\"Employed people having a longstanding health problem or a difficulty in basic activities by the type of special assistance used, sex and age\",\n\"Population and social conditions Health Disability Access to labour market for disabled people (source LFS) Employed people having a longstanding health problem or a difficulty in basic activities by the type of special assistance used, sex and age\",\n\"https://ec.europa.eu/eurostat/estat-navtree-portlet-prod/BulkDownloadListing?sort=1&file=data%2Fhlth_dlm180.tsv.gz\"],\n [{\n            'v': 30,\n            'f': \"30\",\n        },\n{\n            'v': 0.3966051936149597,\n            'f': \"0.3966051936149597\",\n        },\n{\n            'v': -9.612136840820312,\n            'f': \"-9.612136840820312\",\n        },\n\"Share of persons who cannot afford a personal car by level of activity limitation, sex and age\",\n\"Population and social conditions Health Disability Material deprivation among disabled people - EU-SILC survey Share of persons who cannot afford a personal car by level of activity limitation, sex and age\",\n\"https://ec.europa.eu/eurostat/estat-navtree-portlet-prod/BulkDownloadListing?sort=1&file=data%2Fhlth_dm110.tsv.gz\"],\n [{\n            'v': 61,\n            'f': \"61\",\n        },\n{\n            'v': 0.35895565152168274,\n            'f': \"0.35895565152168274\",\n        },\n{\n            'v': -9.627655029296875,\n            'f': \"-9.627655029296875\",\n        },\n\"Not employed people having a longstanding health problem or a difficulty in basic activities by the type of special assistance needed, sex and age\",\n\"Population and social conditions Health Disability Access to labour market for disabled people (source LFS) Not employed people having a longstanding health problem or a difficulty in basic activities by the type of special assistance needed, sex and age\",\n\"https://ec.europa.eu/eurostat/estat-navtree-portlet-prod/BulkDownloadListing?sort=1&file=data%2Fhlth_dlm190.tsv.gz\"],\n [{\n            'v': 25,\n            'f': \"25\",\n        },\n{\n            'v': 0.40414637327194214,\n            'f': \"0.40414637327194214\",\n        },\n{\n            'v': -9.689657211303711,\n            'f': \"-9.689657211303711\",\n        },\n\"People reporting a limitation in the amount of work caused by longstanding health problems or difficulties in basic activities by cause, sex and age\",\n\"Population and social conditions Health Disability Access to labour market for disabled people (source LFS) People reporting a limitation in the amount of work caused by longstanding health problems or difficulties in basic activities by cause, sex and age\",\n\"https://ec.europa.eu/eurostat/estat-navtree-portlet-prod/BulkDownloadListing?sort=1&file=data%2Fhlth_dlm150.tsv.gz\"],\n [{\n            'v': 26,\n            'f': \"26\",\n        },\n{\n            'v': 0.40318262577056885,\n            'f': \"0.40318262577056885\",\n        },\n{\n            'v': -9.690868377685547,\n            'f': \"-9.690868377685547\",\n        },\n\"People reporting a limitation in the type of work caused by longstanding health problems or difficulties in basic activities by cause, sex and age\",\n\"Population and social conditions Health Disability Access to labour market for disabled people (source LFS) People reporting a limitation in the type of work caused by longstanding health problems or difficulties in basic activities by cause, sex and age\",\n\"https://ec.europa.eu/eurostat/estat-navtree-portlet-prod/BulkDownloadListing?sort=1&file=data%2Fhlth_dlm160.tsv.gz\"],\n [{\n            'v': 22,\n            'f': \"22\",\n        },\n{\n            'v': 0.4124927818775177,\n            'f': \"0.4124927818775177\",\n        },\n{\n            'v': -9.691886901855469,\n            'f': \"-9.691886901855469\",\n        },\n\"People having a long-standing illness or health problem, by sex, age and educational attainment level\",\n\"Population and social conditions Health Health status Self-reported chronic morbidity People having a long-standing illness or health problem, by sex, age and educational attainment level\",\n\"https://ec.europa.eu/eurostat/estat-navtree-portlet-prod/BulkDownloadListing?sort=1&file=data%2Fhlth_silc_05.tsv.gz\"],\n [{\n            'v': 47,\n            'f': \"47\",\n        },\n{\n            'v': 0.37690484523773193,\n            'f': \"0.37690484523773193\",\n        },\n{\n            'v': -9.70103645324707,\n            'f': \"-9.70103645324707\",\n        },\n\"Ability to make ends meet by level of activity limitation, sex and age\",\n\"Population and social conditions Health Disability Material deprivation among disabled people - EU-SILC survey Ability to make ends meet by level of activity limitation, sex and age\",\n\"https://ec.europa.eu/eurostat/estat-navtree-portlet-prod/BulkDownloadListing?sort=1&file=data%2Fhlth_dm060.tsv.gz\"],\n [{\n            'v': 48,\n            'f': \"48\",\n        },\n{\n            'v': 0.3755806088447571,\n            'f': \"0.3755806088447571\",\n        },\n{\n            'v': -9.708155632019043,\n            'f': \"-9.708155632019043\",\n        },\n\"Vaccination against influenza of population aged 65 and over\",\n\"Population and social conditions Health Health care Preventive services Vaccination against influenza of population aged 65 and over\",\n\"https://ec.europa.eu/eurostat/estat-navtree-portlet-prod/BulkDownloadListing?sort=1&file=data%2Fhlth_ps_immu.tsv.gz\"],\n [{\n            'v': 49,\n            'f': \"49\",\n        },\n{\n            'v': 0.373460590839386,\n            'f': \"0.373460590839386\",\n        },\n{\n            'v': -9.732940673828125,\n            'f': \"-9.732940673828125\",\n        },\n\"Self-reported unmet needs for medical examination by level of activity limitation, sex and age\",\n\"Population and social conditions Health Disability Health problems of disabled people (sources SILC or EHIS) Self-reported unmet needs for medical examination by level of activity limitation, sex and age\",\n\"https://ec.europa.eu/eurostat/estat-navtree-portlet-prod/BulkDownloadListing?sort=1&file=data%2Fhlth_dh030.tsv.gz\"],\n [{\n            'v': 46,\n            'f': \"46\",\n        },\n{\n            'v': 0.37760257720947266,\n            'f': \"0.37760257720947266\",\n        },\n{\n            'v': -9.741018295288086,\n            'f': \"-9.741018295288086\",\n        },\n\"Disabled people by sex, need for assistance and having a longstanding difficulty in activities of personal care\",\n\"Population and social conditions Health Disability Prevalence of disability (source EHSIS) Disabled people by sex, need for assistance and having a longstanding difficulty in activities of personal care\",\n\"https://ec.europa.eu/eurostat/estat-navtree-portlet-prod/BulkDownloadListing?sort=1&file=data%2Fhlth_dpeh190.tsv.gz\"],\n [{\n            'v': 70,\n            'f': \"70\",\n        },\n{\n            'v': 0.35414355993270874,\n            'f': \"0.35414355993270874\",\n        },\n{\n            'v': -9.742194175720215,\n            'f': \"-9.742194175720215\",\n        },\n\"Self-perceived long-standing limitations in usual activities due to health problem by sex, age and groups of country of birth\",\n\"Population and social conditions Health Health status Functional and activity limitations Self-perceived long-standing limitations in usual activities due to health problem by sex, age and groups of country of birth\",\n\"https://ec.europa.eu/eurostat/estat-navtree-portlet-prod/BulkDownloadListing?sort=1&file=data%2Fhlth_silc_27.tsv.gz\"],\n [{\n            'v': 19,\n            'f': \"19\",\n        },\n{\n            'v': 0.41564124822616577,\n            'f': \"0.41564124822616577\",\n        },\n{\n            'v': -9.750142097473145,\n            'f': \"-9.750142097473145\",\n        },\n\"Self-reported vaccination against influenza by sex, age and educational attainment level\",\n\"Population and social conditions Health Health care Preventive services Self-reported vaccination against influenza by sex, age and educational attainment level\",\n\"https://ec.europa.eu/eurostat/estat-navtree-portlet-prod/BulkDownloadListing?sort=1&file=data%2Fhlth_ehis_pa1e.tsv.gz\"],\n [{\n            'v': 15,\n            'f': \"15\",\n        },\n{\n            'v': 0.41930997371673584,\n            'f': \"0.41930997371673584\",\n        },\n{\n            'v': -9.75733470916748,\n            'f': \"-9.75733470916748\",\n        },\n\"People having a long-standing illness or health problem, by sex, age and income quintile\",\n\"Population and social conditions Health Health status Self-reported chronic morbidity People having a long-standing illness or health problem, by sex, age and income quintile\",\n\"https://ec.europa.eu/eurostat/estat-navtree-portlet-prod/BulkDownloadListing?sort=1&file=data%2Fhlth_silc_11.tsv.gz\"],\n [{\n            'v': 91,\n            'f': \"91\",\n        },\n{\n            'v': 0.33751559257507324,\n            'f': \"0.33751559257507324\",\n        },\n{\n            'v': -9.78607177734375,\n            'f': \"-9.78607177734375\",\n        },\n\"Disabled people by sex, age and life area where a barrier is reported\",\n\"Population and social conditions Health Disability Barriers to social integration of disabled people (source EHSIS) Disabled people by sex, age and life area where a barrier is reported\",\n\"https://ec.europa.eu/eurostat/estat-navtree-portlet-prod/BulkDownloadListing?sort=1&file=data%2Fhlth_dsi090.tsv.gz\"],\n [{\n            'v': 79,\n            'f': \"79\",\n        },\n{\n            'v': 0.3473150134086609,\n            'f': \"0.3473150134086609\",\n        },\n{\n            'v': -9.79138469696045,\n            'f': \"-9.79138469696045\",\n        },\n\"Disabled people by sex, age and severity of disability\",\n\"Population and social conditions Health Disability Barriers to social integration of disabled people (source EHSIS) Disabled people by sex, age and severity of disability\",\n\"https://ec.europa.eu/eurostat/estat-navtree-portlet-prod/BulkDownloadListing?sort=1&file=data%2Fhlth_dsi010.tsv.gz\"],\n [{\n            'v': 50,\n            'f': \"50\",\n        },\n{\n            'v': 0.37115806341171265,\n            'f': \"0.37115806341171265\",\n        },\n{\n            'v': -9.793598175048828,\n            'f': \"-9.793598175048828\",\n        },\n\"Self-perceived health by level of activity limitation, sex and age\",\n\"Population and social conditions Health Disability Health problems of disabled people (sources SILC or EHIS) Self-perceived health by level of activity limitation, sex and age\",\n\"https://ec.europa.eu/eurostat/estat-navtree-portlet-prod/BulkDownloadListing?sort=1&file=data%2Fhlth_dh010.tsv.gz\"],\n [{\n            'v': 14,\n            'f': \"14\",\n        },\n{\n            'v': 0.4208557903766632,\n            'f': \"0.4208557903766632\",\n        },\n{\n            'v': -9.802032470703125,\n            'f': \"-9.802032470703125\",\n        },\n\"People having a long-standing illness or health problem, by sex, age and labour status\",\n\"Population and social conditions Health Health status Self-reported chronic morbidity People having a long-standing illness or health problem, by sex, age and labour status\",\n\"https://ec.europa.eu/eurostat/estat-navtree-portlet-prod/BulkDownloadListing?sort=1&file=data%2Fhlth_silc_04.tsv.gz\"],\n [{\n            'v': 38,\n            'f': \"38\",\n        },\n{\n            'v': 0.38844189047813416,\n            'f': \"0.38844189047813416\",\n        },\n{\n            'v': -9.807445526123047,\n            'f': \"-9.807445526123047\",\n        },\n\"Severe material deprivation by level of activity limitation, sex and age\",\n\"Population and social conditions Health Disability Material deprivation among disabled people - EU-SILC survey Severe material deprivation by level of activity limitation, sex and age\",\n\"https://ec.europa.eu/eurostat/estat-navtree-portlet-prod/BulkDownloadListing?sort=1&file=data%2Fhlth_dm010.tsv.gz\"],\n [{\n            'v': 37,\n            'f': \"37\",\n        },\n{\n            'v': 0.3885343074798584,\n            'f': \"0.3885343074798584\",\n        },\n{\n            'v': -9.807806015014648,\n            'f': \"-9.807806015014648\",\n        },\n\"Disabled people by sex, need for assistance and having a longstanding health problem\",\n\"Population and social conditions Health Disability Prevalence of disability (source EHSIS) Disabled people by sex, need for assistance and having a longstanding health problem\",\n\"https://ec.europa.eu/eurostat/estat-navtree-portlet-prod/BulkDownloadListing?sort=1&file=data%2Fhlth_dpeh170.tsv.gz\"],\n [{\n            'v': 67,\n            'f': \"67\",\n        },\n{\n            'v': 0.3565308451652527,\n            'f': \"0.3565308451652527\",\n        },\n{\n            'v': -9.812055587768555,\n            'f': \"-9.812055587768555\",\n        },\n\"Disabled people by sex, need for assistance and having a longstanding difficulty in basic activities\",\n\"Population and social conditions Health Disability Prevalence of disability (source EHSIS) Disabled people by sex, need for assistance and having a longstanding difficulty in basic activities\",\n\"https://ec.europa.eu/eurostat/estat-navtree-portlet-prod/BulkDownloadListing?sort=1&file=data%2Fhlth_dpeh180.tsv.gz\"],\n [{\n            'v': 65,\n            'f': \"65\",\n        },\n{\n            'v': 0.3576669991016388,\n            'f': \"0.3576669991016388\",\n        },\n{\n            'v': -9.818315505981445,\n            'f': \"-9.818315505981445\",\n        },\n\"People reporting a limitation in work by the reason for limitation in work, sex and age\",\n\"Population and social conditions Health Disability Access to labour market for disabled people (source LFS) People reporting a limitation in work by the reason for limitation in work, sex and age\",\n\"https://ec.europa.eu/eurostat/estat-navtree-portlet-prod/BulkDownloadListing?sort=1&file=data%2Fhlth_dlm140.tsv.gz\"],\n [{\n            'v': 93,\n            'f': \"93\",\n        },\n{\n            'v': 0.336087167263031,\n            'f': \"0.336087167263031\",\n        },\n{\n            'v': -9.840505599975586,\n            'f': \"-9.840505599975586\",\n        },\n\"Disabled people by sex, severity of disability and household type\",\n\"Population and social conditions Health Disability Barriers to social integration of disabled people (source EHSIS) Disabled people by sex, severity of disability and household type\",\n\"https://ec.europa.eu/eurostat/estat-navtree-portlet-prod/BulkDownloadListing?sort=1&file=data%2Fhlth_dsi040.tsv.gz\"],\n [{\n            'v': 10,\n            'f': \"10\",\n        },\n{\n            'v': 0.43203291296958923,\n            'f': \"0.43203291296958923\",\n        },\n{\n            'v': -9.843605995178223,\n            'f': \"-9.843605995178223\",\n        },\n\"Self-reported use of non-prescribed medicines by sex, age and educational attainment level\",\n\"Population and social conditions Health Health care Medicine use Self-reported use of non-prescribed medicines by sex, age and educational attainment level\",\n\"https://ec.europa.eu/eurostat/estat-navtree-portlet-prod/BulkDownloadListing?sort=1&file=data%2Fhlth_ehis_md2e.tsv.gz\"],\n [{\n            'v': 69,\n            'f': \"69\",\n        },\n{\n            'v': 0.3550194799900055,\n            'f': \"0.3550194799900055\",\n        },\n{\n            'v': -9.850248336791992,\n            'f': \"-9.850248336791992\",\n        },\n\"Disabled people by sex, need for assistance and having a longstanding difficulty in activities of household care\",\n\"Population and social conditions Health Disability Prevalence of disability (source EHSIS) Disabled people by sex, need for assistance and having a longstanding difficulty in activities of household care\",\n\"https://ec.europa.eu/eurostat/estat-navtree-portlet-prod/BulkDownloadListing?sort=1&file=data%2Fhlth_dpeh200.tsv.gz\"],\n [{\n            'v': 1,\n            'f': \"1\",\n        },\n{\n            'v': 0.4504871368408203,\n            'f': \"0.4504871368408203\",\n        },\n{\n            'v': -9.859198570251465,\n            'f': \"-9.859198570251465\",\n        },\n\"Self-reported use of non-prescribed medicines by sex, age and degree of urbanisation\",\n\"Population and social conditions Health Health care Medicine use Self-reported use of non-prescribed medicines by sex, age and degree of urbanisation\",\n\"https://ec.europa.eu/eurostat/estat-navtree-portlet-prod/BulkDownloadListing?sort=1&file=data%2Fhlth_ehis_md2u.tsv.gz\"],\n [{\n            'v': 32,\n            'f': \"32\",\n        },\n{\n            'v': 0.3947138786315918,\n            'f': \"0.3947138786315918\",\n        },\n{\n            'v': -9.884289741516113,\n            'f': \"-9.884289741516113\",\n        },\n\"Inability to face unexpected financial expenses by level of activity limitation, sex and age\",\n\"Population and social conditions Health Disability Material deprivation among disabled people - EU-SILC survey Inability to face unexpected financial expenses by level of activity limitation, sex and age\",\n\"https://ec.europa.eu/eurostat/estat-navtree-portlet-prod/BulkDownloadListing?sort=1&file=data%2Fhlth_dm040.tsv.gz\"],\n [{\n            'v': 12,\n            'f': \"12\",\n        },\n{\n            'v': 0.4217756986618042,\n            'f': \"0.4217756986618042\",\n        },\n{\n            'v': -9.939543724060059,\n            'f': \"-9.939543724060059\",\n        },\n\"Self-reported vaccination against influenza by sex, age and educational attainment level (%)\",\n\"Population and social conditions Health Health care Preventive services Preventive services - historical data Self-reported vaccination against influenza by sex, age and educational attainment level (%)\",\n\"https://ec.europa.eu/eurostat/estat-navtree-portlet-prod/BulkDownloadListing?sort=1&file=data%2Fhlth_ehis_hc1.tsv.gz\"],\n [{\n            'v': 58,\n            'f': \"58\",\n        },\n{\n            'v': 0.36003953218460083,\n            'f': \"0.36003953218460083\",\n        },\n{\n            'v': -9.949471473693848,\n            'f': \"-9.949471473693848\",\n        },\n\"Arrears (mortgage or rent, utility bills or hire purchase) by level of activity limitation, sex and age\",\n\"Population and social conditions Health Disability Material deprivation among disabled people - EU-SILC survey Arrears (mortgage or rent, utility bills or hire purchase) by level of activity limitation, sex and age\",\n\"https://ec.europa.eu/eurostat/estat-navtree-portlet-prod/BulkDownloadListing?sort=1&file=data%2Fhlth_dm050.tsv.gz\"],\n [{\n            'v': 88,\n            'f': \"88\",\n        },\n{\n            'v': 0.33934926986694336,\n            'f': \"0.33934926986694336\",\n        },\n{\n            'v': -9.95911693572998,\n            'f': \"-9.95911693572998\",\n        },\n\"People at risk of poverty or social exclusion by level of activity limitation, sex and age\",\n\"Population and social conditions Health Disability Income distribution and poverty among disabled people - EU-SILC survey People at risk of poverty or social exclusion by level of activity limitation, sex and age\",\n\"https://ec.europa.eu/eurostat/estat-navtree-portlet-prod/BulkDownloadListing?sort=1&file=data%2Fhlth_dpe010.tsv.gz\"],\n [{\n            'v': 77,\n            'f': \"77\",\n        },\n{\n            'v': 0.347623348236084,\n            'f': \"0.347623348236084\",\n        },\n{\n            'v': -9.963997840881348,\n            'f': \"-9.963997840881348\",\n        },\n\"Self-perceived long-standing limitations in usual activities due to health problem by sex, age and groups of country of citizenship\",\n\"Population and social conditions Health Health status Functional and activity limitations Self-perceived long-standing limitations in usual activities due to health problem by sex, age and groups of country of citizenship\",\n\"https://ec.europa.eu/eurostat/estat-navtree-portlet-prod/BulkDownloadListing?sort=1&file=data%2Fhlth_silc_28.tsv.gz\"],\n [{\n            'v': 57,\n            'f': \"57\",\n        },\n{\n            'v': 0.36111414432525635,\n            'f': \"0.36111414432525635\",\n        },\n{\n            'v': -9.992399215698242,\n            'f': \"-9.992399215698242\",\n        },\n\"Body mass index (BMI) by level of activity limitation, sex and age\",\n\"Population and social conditions Health Disability Health problems of disabled people (sources SILC or EHIS) Body mass index (BMI) by level of activity limitation, sex and age\",\n\"https://ec.europa.eu/eurostat/estat-navtree-portlet-prod/BulkDownloadListing?sort=1&file=data%2Fhlth_dh050.tsv.gz\"],\n [{\n            'v': 2,\n            'f': \"2\",\n        },\n{\n            'v': 0.4502629041671753,\n            'f': \"0.4502629041671753\",\n        },\n{\n            'v': -10.06727123260498,\n            'f': \"-10.06727123260498\",\n        },\n\"Self-reported use of non-prescribed medicines by sex, age and country of citizenship\",\n\"Population and social conditions Health Health care Medicine use Self-reported use of non-prescribed medicines by sex, age and country of citizenship\",\n\"https://ec.europa.eu/eurostat/estat-navtree-portlet-prod/BulkDownloadListing?sort=1&file=data%2Fhlth_ehis_md2c.tsv.gz\"],\n [{\n            'v': 45,\n            'f': \"45\",\n        },\n{\n            'v': 0.38054779171943665,\n            'f': \"0.38054779171943665\",\n        },\n{\n            'v': -10.078479766845703,\n            'f': \"-10.078479766845703\",\n        },\n\"Breast cancer and cervical cancer screenings\",\n\"Population and social conditions Health Health care Preventive services Breast cancer and cervical cancer screenings\",\n\"https://ec.europa.eu/eurostat/estat-navtree-portlet-prod/BulkDownloadListing?sort=1&file=data%2Fhlth_ps_scre.tsv.gz\"]],\n        columns: [[\"number\", \"index\"], [\"number\", \"score\"], [\"number\", \"cross_scores\"], [\"string\", \"File description\"], [\"string\", \"Full path\"], [\"string\", \"Link\"]],\n        columnOptions: [{\"width\": \"1px\", \"className\": \"index_column\"}],\n        rowsPerPage: 5,\n        helpUrl: \"https://colab.research.google.com/notebooks/data_table.ipynb\",\n        suppressOutputScrolling: true,\n        minimumWidth: undefined,\n      });\n    ",
            "text/plain": [
              "<google.colab.data_table.DataTable object>"
            ]
          },
          "metadata": {}
        },
        {
          "output_type": "stream",
          "name": "stderr",
          "text": [
            "/usr/local/lib/python3.7/dist-packages/sklearn/utils/deprecation.py:87: FutureWarning: Function get_feature_names is deprecated; get_feature_names is deprecated in 1.0 and will be removed in 1.2. Please use get_feature_names_out instead.\n",
            "  warnings.warn(msg, category=FutureWarning)\n"
          ]
        },
        {
          "name": "stdout",
          "output_type": "stream",
          "text": [
            "bot: Help me please to understand what you mean. Are you referring to 'activity limitation' (yes/no/add some keywords, q to quit) \n",
            "me:  no\n"
          ]
        },
        {
          "output_type": "display_data",
          "data": {
            "text/html": [
              "<div>\n",
              "<style scoped>\n",
              "    .dataframe tbody tr th:only-of-type {\n",
              "        vertical-align: middle;\n",
              "    }\n",
              "\n",
              "    .dataframe tbody tr th {\n",
              "        vertical-align: top;\n",
              "    }\n",
              "\n",
              "    .dataframe thead th {\n",
              "        text-align: right;\n",
              "    }\n",
              "</style>\n",
              "<table border=\"1\" class=\"dataframe\">\n",
              "  <thead>\n",
              "    <tr style=\"text-align: right;\">\n",
              "      <th></th>\n",
              "      <th>score</th>\n",
              "      <th>cross_scores</th>\n",
              "      <th>File description</th>\n",
              "      <th>Full path</th>\n",
              "      <th>Link</th>\n",
              "    </tr>\n",
              "  </thead>\n",
              "  <tbody>\n",
              "    <tr>\n",
              "      <th>0</th>\n",
              "      <td>0.456813</td>\n",
              "      <td>-8.563866</td>\n",
              "      <td>Self-reported screening of cardiovascular dise...</td>\n",
              "      <td>Population and social conditions Health Health...</td>\n",
              "      <td>https://ec.europa.eu/eurostat/estat-navtree-po...</td>\n",
              "    </tr>\n",
              "    <tr>\n",
              "      <th>8</th>\n",
              "      <td>0.436877</td>\n",
              "      <td>-8.564386</td>\n",
              "      <td>Self-reported screening of cardiovascular dise...</td>\n",
              "      <td>Population and social conditions Health Health...</td>\n",
              "      <td>https://ec.europa.eu/eurostat/estat-navtree-po...</td>\n",
              "    </tr>\n",
              "    <tr>\n",
              "      <th>9</th>\n",
              "      <td>0.433801</td>\n",
              "      <td>-8.613359</td>\n",
              "      <td>Self-reported screening of cardiovascular dise...</td>\n",
              "      <td>Population and social conditions Health Health...</td>\n",
              "      <td>https://ec.europa.eu/eurostat/estat-navtree-po...</td>\n",
              "    </tr>\n",
              "    <tr>\n",
              "      <th>13</th>\n",
              "      <td>0.421168</td>\n",
              "      <td>-8.718422</td>\n",
              "      <td>Persons reporting a chronic disease, by diseas...</td>\n",
              "      <td>Population and social conditions Health Health...</td>\n",
              "      <td>https://ec.europa.eu/eurostat/estat-navtree-po...</td>\n",
              "    </tr>\n",
              "    <tr>\n",
              "      <th>11</th>\n",
              "      <td>0.425595</td>\n",
              "      <td>-8.757074</td>\n",
              "      <td>Persons reporting a chronic disease, by diseas...</td>\n",
              "      <td>Population and social conditions Health Health...</td>\n",
              "      <td>https://ec.europa.eu/eurostat/estat-navtree-po...</td>\n",
              "    </tr>\n",
              "    <tr>\n",
              "      <th>...</th>\n",
              "      <td>...</td>\n",
              "      <td>...</td>\n",
              "      <td>...</td>\n",
              "      <td>...</td>\n",
              "      <td>...</td>\n",
              "    </tr>\n",
              "    <tr>\n",
              "      <th>88</th>\n",
              "      <td>0.339349</td>\n",
              "      <td>-9.959117</td>\n",
              "      <td>People at risk of poverty or social exclusion ...</td>\n",
              "      <td>Population and social conditions Health Disabi...</td>\n",
              "      <td>https://ec.europa.eu/eurostat/estat-navtree-po...</td>\n",
              "    </tr>\n",
              "    <tr>\n",
              "      <th>77</th>\n",
              "      <td>0.347623</td>\n",
              "      <td>-9.963998</td>\n",
              "      <td>Self-perceived long-standing limitations in us...</td>\n",
              "      <td>Population and social conditions Health Health...</td>\n",
              "      <td>https://ec.europa.eu/eurostat/estat-navtree-po...</td>\n",
              "    </tr>\n",
              "    <tr>\n",
              "      <th>57</th>\n",
              "      <td>0.361114</td>\n",
              "      <td>-9.992399</td>\n",
              "      <td>Body mass index (BMI) by level of activity lim...</td>\n",
              "      <td>Population and social conditions Health Disabi...</td>\n",
              "      <td>https://ec.europa.eu/eurostat/estat-navtree-po...</td>\n",
              "    </tr>\n",
              "    <tr>\n",
              "      <th>2</th>\n",
              "      <td>0.450263</td>\n",
              "      <td>-10.067271</td>\n",
              "      <td>Self-reported use of non-prescribed medicines ...</td>\n",
              "      <td>Population and social conditions Health Health...</td>\n",
              "      <td>https://ec.europa.eu/eurostat/estat-navtree-po...</td>\n",
              "    </tr>\n",
              "    <tr>\n",
              "      <th>45</th>\n",
              "      <td>0.380548</td>\n",
              "      <td>-10.078480</td>\n",
              "      <td>Breast cancer and cervical cancer screenings</td>\n",
              "      <td>Population and social conditions Health Health...</td>\n",
              "      <td>https://ec.europa.eu/eurostat/estat-navtree-po...</td>\n",
              "    </tr>\n",
              "  </tbody>\n",
              "</table>\n",
              "<p>63 rows × 5 columns</p>\n",
              "</div>"
            ],
            "application/vnd.google.colaboratory.module+javascript": "\n      import \"https://ssl.gstatic.com/colaboratory/data_table/f872b2c2305463fd/data_table.js\";\n\n      window.createDataTable({\n        data: [[{\n            'v': 0,\n            'f': \"0\",\n        },\n{\n            'v': 0.45681267976760864,\n            'f': \"0.45681267976760864\",\n        },\n{\n            'v': -8.563865661621094,\n            'f': \"-8.563865661621094\",\n        },\n\"Self-reported screening of cardiovascular diseases and diabetes risks by sex, age and degree of urbanisation\",\n\"Population and social conditions Health Health care Preventive services Self-reported screening of cardiovascular diseases and diabetes risks by sex, age and degree of urbanisation\",\n\"https://ec.europa.eu/eurostat/estat-navtree-portlet-prod/BulkDownloadListing?sort=1&file=data%2Fhlth_ehis_pa2u.tsv.gz\"],\n [{\n            'v': 8,\n            'f': \"8\",\n        },\n{\n            'v': 0.4368773102760315,\n            'f': \"0.4368773102760315\",\n        },\n{\n            'v': -8.564386367797852,\n            'f': \"-8.564386367797852\",\n        },\n\"Self-reported screening of cardiovascular diseases and diabetes risks by sex, age and income quintile\",\n\"Population and social conditions Health Health care Preventive services Self-reported screening of cardiovascular diseases and diabetes risks by sex, age and income quintile\",\n\"https://ec.europa.eu/eurostat/estat-navtree-portlet-prod/BulkDownloadListing?sort=1&file=data%2Fhlth_ehis_pa2i.tsv.gz\"],\n [{\n            'v': 9,\n            'f': \"9\",\n        },\n{\n            'v': 0.4338005483150482,\n            'f': \"0.4338005483150482\",\n        },\n{\n            'v': -8.613359451293945,\n            'f': \"-8.613359451293945\",\n        },\n\"Self-reported screening of cardiovascular diseases and diabetes risks by sex, age and educational attainment level\",\n\"Population and social conditions Health Health care Preventive services Self-reported screening of cardiovascular diseases and diabetes risks by sex, age and educational attainment level\",\n\"https://ec.europa.eu/eurostat/estat-navtree-portlet-prod/BulkDownloadListing?sort=1&file=data%2Fhlth_ehis_pa2e.tsv.gz\"],\n [{\n            'v': 13,\n            'f': \"13\",\n        },\n{\n            'v': 0.4211675226688385,\n            'f': \"0.4211675226688385\",\n        },\n{\n            'v': -8.718421936035156,\n            'f': \"-8.718421936035156\",\n        },\n\"Persons reporting a chronic disease, by disease, sex, age and level of activity limitation\",\n\"Population and social conditions Health Health status Self-reported chronic morbidity Persons reporting a chronic disease, by disease, sex, age and level of activity limitation\",\n\"https://ec.europa.eu/eurostat/estat-navtree-portlet-prod/BulkDownloadListing?sort=1&file=data%2Fhlth_ehis_cd1d.tsv.gz\"],\n [{\n            'v': 11,\n            'f': \"11\",\n        },\n{\n            'v': 0.42559486627578735,\n            'f': \"0.42559486627578735\",\n        },\n{\n            'v': -8.757074356079102,\n            'f': \"-8.757074356079102\",\n        },\n\"Persons reporting a chronic disease, by disease, sex, age and broad group of citizenship\",\n\"Population and social conditions Health Health status Self-reported chronic morbidity Persons reporting a chronic disease, by disease, sex, age and broad group of citizenship\",\n\"https://ec.europa.eu/eurostat/estat-navtree-portlet-prod/BulkDownloadListing?sort=1&file=data%2Fhlth_ehis_cd1c.tsv.gz\"],\n [{\n            'v': 31,\n            'f': \"31\",\n        },\n{\n            'v': 0.39613187313079834,\n            'f': \"0.39613187313079834\",\n        },\n{\n            'v': -9.110416412353516,\n            'f': \"-9.110416412353516\",\n        },\n\"Persons reporting a chronic disease, by disease, sex, age and educational attainment level\",\n\"Population and social conditions Health Health status Self-reported chronic morbidity Persons reporting a chronic disease, by disease, sex, age and educational attainment level\",\n\"https://ec.europa.eu/eurostat/estat-navtree-portlet-prod/BulkDownloadListing?sort=1&file=data%2Fhlth_ehis_cd1e.tsv.gz\"],\n [{\n            'v': 16,\n            'f': \"16\",\n        },\n{\n            'v': 0.4178217649459839,\n            'f': \"0.4178217649459839\",\n        },\n{\n            'v': -9.180136680603027,\n            'f': \"-9.180136680603027\",\n        },\n\"Persons reporting a chronic disease, by disease, sex, age and degree of urbanisation\",\n\"Population and social conditions Health Health status Self-reported chronic morbidity Persons reporting a chronic disease, by disease, sex, age and degree of urbanisation\",\n\"https://ec.europa.eu/eurostat/estat-navtree-portlet-prod/BulkDownloadListing?sort=1&file=data%2Fhlth_ehis_cd1u.tsv.gz\"],\n [{\n            'v': 24,\n            'f': \"24\",\n        },\n{\n            'v': 0.40489625930786133,\n            'f': \"0.40489625930786133\",\n        },\n{\n            'v': -9.1945161819458,\n            'f': \"-9.1945161819458\",\n        },\n\"Persons reporting a chronic disease, by disease, sex, age and income quintile\",\n\"Population and social conditions Health Health status Self-reported chronic morbidity Persons reporting a chronic disease, by disease, sex, age and income quintile\",\n\"https://ec.europa.eu/eurostat/estat-navtree-portlet-prod/BulkDownloadListing?sort=1&file=data%2Fhlth_ehis_cd1i.tsv.gz\"],\n [{\n            'v': 73,\n            'f': \"73\",\n        },\n{\n            'v': 0.3517647385597229,\n            'f': \"0.3517647385597229\",\n        },\n{\n            'v': -9.222434997558594,\n            'f': \"-9.222434997558594\",\n        },\n\"People reporting a chronic disease, by disease, sex, age and educational attainment level (%)\",\n\"Population and social conditions Health Health status Health status - historical data (2008) People reporting a chronic disease, by disease, sex, age and educational attainment level (%)\",\n\"https://ec.europa.eu/eurostat/estat-navtree-portlet-prod/BulkDownloadListing?sort=1&file=data%2Fhlth_ehis_st1.tsv.gz\"],\n [{\n            'v': 20,\n            'f': \"20\",\n        },\n{\n            'v': 0.4138421416282654,\n            'f': \"0.4138421416282654\",\n        },\n{\n            'v': -9.289812088012695,\n            'f': \"-9.289812088012695\",\n        },\n\"Persons reporting a chronic disease, by disease, sex, age and contry of birth\",\n\"Population and social conditions Health Health status Self-reported chronic morbidity Persons reporting a chronic disease, by disease, sex, age and contry of birth\",\n\"https://ec.europa.eu/eurostat/estat-navtree-portlet-prod/BulkDownloadListing?sort=1&file=data%2Fhlth_ehis_cd1b.tsv.gz\"],\n [{\n            'v': 36,\n            'f': \"36\",\n        },\n{\n            'v': 0.38948553800582886,\n            'f': \"0.38948553800582886\",\n        },\n{\n            'v': -9.305326461791992,\n            'f': \"-9.305326461791992\",\n        },\n\"Inability to afford a meal with meat, chicken, fish (or vegetarian equivalent) every second day by level of activity limitation, sex and age\",\n\"Population and social conditions Health Disability Material deprivation among disabled people - EU-SILC survey Inability to afford a meal with meat, chicken, fish (or vegetarian equivalent) every second day by level of activity limitation, sex and age\",\n\"https://ec.europa.eu/eurostat/estat-navtree-portlet-prod/BulkDownloadListing?sort=1&file=data%2Fhlth_dm030.tsv.gz\"],\n [{\n            'v': 59,\n            'f': \"59\",\n        },\n{\n            'v': 0.35985392332077026,\n            'f': \"0.35985392332077026\",\n        },\n{\n            'v': -9.334128379821777,\n            'f': \"-9.334128379821777\",\n        },\n\"Disabled people by sex, severity of disability and having a longstanding difficulty in activities of personal care\",\n\"Population and social conditions Health Disability Barriers to social integration of disabled people (source EHSIS) Disabled people by sex, severity of disability and having a longstanding difficulty in activities of personal care\",\n\"https://ec.europa.eu/eurostat/estat-navtree-portlet-prod/BulkDownloadListing?sort=1&file=data%2Fhlth_dsi070.tsv.gz\"],\n [{\n            'v': 3,\n            'f': \"3\",\n        },\n{\n            'v': 0.44450998306274414,\n            'f': \"0.44450998306274414\",\n        },\n{\n            'v': -9.402045249938965,\n            'f': \"-9.402045249938965\",\n        },\n\"People having a long-standing illness or health problem, by sex, age and groups of country of citizenship\",\n\"Population and social conditions Health Health status Self-reported chronic morbidity People having a long-standing illness or health problem, by sex, age and groups of country of citizenship\",\n\"https://ec.europa.eu/eurostat/estat-navtree-portlet-prod/BulkDownloadListing?sort=1&file=data%2Fhlth_silc_26.tsv.gz\"],\n [{\n            'v': 89,\n            'f': \"89\",\n        },\n{\n            'v': 0.3392731845378876,\n            'f': \"0.3392731845378876\",\n        },\n{\n            'v': -9.422371864318848,\n            'f': \"-9.422371864318848\",\n        },\n\"Disabled people by sex, severity of disability and having a longstanding difficulty in activities of household care\",\n\"Population and social conditions Health Disability Barriers to social integration of disabled people (source EHSIS) Disabled people by sex, severity of disability and having a longstanding difficulty in activities of household care\",\n\"https://ec.europa.eu/eurostat/estat-navtree-portlet-prod/BulkDownloadListing?sort=1&file=data%2Fhlth_dsi080.tsv.gz\"],\n [{\n            'v': 21,\n            'f': \"21\",\n        },\n{\n            'v': 0.41340458393096924,\n            'f': \"0.41340458393096924\",\n        },\n{\n            'v': -9.4549560546875,\n            'f': \"-9.4549560546875\",\n        },\n\"Share of persons who cannot afford a computer by level of activity limitation, sex and age\",\n\"Population and social conditions Health Disability Material deprivation among disabled people - EU-SILC survey Share of persons who cannot afford a computer by level of activity limitation, sex and age\",\n\"https://ec.europa.eu/eurostat/estat-navtree-portlet-prod/BulkDownloadListing?sort=1&file=data%2Fhlth_dm090.tsv.gz\"],\n [{\n            'v': 34,\n            'f': \"34\",\n        },\n{\n            'v': 0.3896815776824951,\n            'f': \"0.3896815776824951\",\n        },\n{\n            'v': -9.472267150878906,\n            'f': \"-9.472267150878906\",\n        },\n\"Share of persons who cannot afford a telephone by level of activity limitation, sex and age\",\n\"Population and social conditions Health Disability Material deprivation among disabled people - EU-SILC survey Share of persons who cannot afford a telephone by level of activity limitation, sex and age\",\n\"https://ec.europa.eu/eurostat/estat-navtree-portlet-prod/BulkDownloadListing?sort=1&file=data%2Fhlth_dm070.tsv.gz\"],\n [{\n            'v': 53,\n            'f': \"53\",\n        },\n{\n            'v': 0.36988386511802673,\n            'f': \"0.36988386511802673\",\n        },\n{\n            'v': -9.484272003173828,\n            'f': \"-9.484272003173828\",\n        },\n\"EU index of occupational diseases (2013=100) ? experimental statistics\",\n\"Population and social conditions Health Health and safety at work Occupational diseases (from 2013 onwards  source: EODS) EU index of occupational diseases (2013=100) ? experimental statistics\",\n\"https://ec.europa.eu/eurostat/estat-navtree-portlet-prod/BulkDownloadListing?sort=1&file=data%2Fhsw_occ_ina.tsv.gz\"],\n [{\n            'v': 62,\n            'f': \"62\",\n        },\n{\n            'v': 0.3581039309501648,\n            'f': \"0.3581039309501648\",\n        },\n{\n            'v': -9.484460830688477,\n            'f': \"-9.484460830688477\",\n        },\n\"Disabled people by sex, severity of disability and having a longstanding health problem\",\n\"Population and social conditions Health Disability Barriers to social integration of disabled people (source EHSIS) Disabled people by sex, severity of disability and having a longstanding health problem\",\n\"https://ec.europa.eu/eurostat/estat-navtree-portlet-prod/BulkDownloadListing?sort=1&file=data%2Fhlth_dsi050.tsv.gz\"],\n [{\n            'v': 4,\n            'f': \"4\",\n        },\n{\n            'v': 0.4430308938026428,\n            'f': \"0.4430308938026428\",\n        },\n{\n            'v': -9.503378868103027,\n            'f': \"-9.503378868103027\",\n        },\n\"Share of persons who cannot afford a washing machine by level of activity limitation, sex and age\",\n\"Population and social conditions Health Disability Material deprivation among disabled people - EU-SILC survey Share of persons who cannot afford a washing machine by level of activity limitation, sex and age\",\n\"https://ec.europa.eu/eurostat/estat-navtree-portlet-prod/BulkDownloadListing?sort=1&file=data%2Fhlth_dm100.tsv.gz\"],\n [{\n            'v': 40,\n            'f': \"40\",\n        },\n{\n            'v': 0.3872709274291992,\n            'f': \"0.3872709274291992\",\n        },\n{\n            'v': -9.515177726745605,\n            'f': \"-9.515177726745605\",\n        },\n\"Share of persons who cannot afford a colour TV by level of activity limitation, sex and age\",\n\"Population and social conditions Health Disability Material deprivation among disabled people - EU-SILC survey Share of persons who cannot afford a colour TV by level of activity limitation, sex and age\",\n\"https://ec.europa.eu/eurostat/estat-navtree-portlet-prod/BulkDownloadListing?sort=1&file=data%2Fhlth_dm080.tsv.gz\"],\n [{\n            'v': 17,\n            'f': \"17\",\n        },\n{\n            'v': 0.41639092564582825,\n            'f': \"0.41639092564582825\",\n        },\n{\n            'v': -9.543538093566895,\n            'f': \"-9.543538093566895\",\n        },\n\"Self-reported vaccination against influenza by sex, age and income quintile\",\n\"Population and social conditions Health Health care Preventive services Self-reported vaccination against influenza by sex, age and income quintile\",\n\"https://ec.europa.eu/eurostat/estat-navtree-portlet-prod/BulkDownloadListing?sort=1&file=data%2Fhlth_ehis_pa1i.tsv.gz\"],\n [{\n            'v': 28,\n            'f': \"28\",\n        },\n{\n            'v': 0.39862871170043945,\n            'f': \"0.39862871170043945\",\n        },\n{\n            'v': -9.546828269958496,\n            'f': \"-9.546828269958496\",\n        },\n\"People reporting a limitation in getting to and from work caused by longstanding health problems or difficulties in basic activities by cause, sex and age\",\n\"Population and social conditions Health Disability Access to labour market for disabled people (source LFS) People reporting a limitation in getting to and from work caused by longstanding health problems or difficulties in basic activities by cause, sex and age\",\n\"https://ec.europa.eu/eurostat/estat-navtree-portlet-prod/BulkDownloadListing?sort=1&file=data%2Fhlth_dlm170.tsv.gz\"],\n [{\n            'v': 85,\n            'f': \"85\",\n        },\n{\n            'v': 0.3420341908931732,\n            'f': \"0.3420341908931732\",\n        },\n{\n            'v': -9.554632186889648,\n            'f': \"-9.554632186889648\",\n        },\n\"Disabled people by sex, life area where a barrier is reported and having a longstanding difficulty in activities of personal care\",\n\"Population and social conditions Health Disability Barriers to social integration of disabled people (source EHSIS) Disabled people by sex, life area where a barrier is reported and having a longstanding difficulty in activities of personal care\",\n\"https://ec.europa.eu/eurostat/estat-navtree-portlet-prod/BulkDownloadListing?sort=1&file=data%2Fhlth_dsi150.tsv.gz\"],\n [{\n            'v': 6,\n            'f': \"6\",\n        },\n{\n            'v': 0.44054868817329407,\n            'f': \"0.44054868817329407\",\n        },\n{\n            'v': -9.56204891204834,\n            'f': \"-9.56204891204834\",\n        },\n\"People having a long-standing illness or health problem, by sex, age and groups of country of birth\",\n\"Population and social conditions Health Health status Self-reported chronic morbidity People having a long-standing illness or health problem, by sex, age and groups of country of birth\",\n\"https://ec.europa.eu/eurostat/estat-navtree-portlet-prod/BulkDownloadListing?sort=1&file=data%2Fhlth_silc_25.tsv.gz\"],\n [{\n            'v': 52,\n            'f': \"52\",\n        },\n{\n            'v': 0.3700551688671112,\n            'f': \"0.3700551688671112\",\n        },\n{\n            'v': -9.571791648864746,\n            'f': \"-9.571791648864746\",\n        },\n\"People having a longstanding health problem by level of activity limitation, sex and age\",\n\"Population and social conditions Health Disability Health problems of disabled people (sources SILC or EHIS) People having a longstanding health problem by level of activity limitation, sex and age\",\n\"https://ec.europa.eu/eurostat/estat-navtree-portlet-prod/BulkDownloadListing?sort=1&file=data%2Fhlth_dh020.tsv.gz\"],\n [{\n            'v': 7,\n            'f': \"7\",\n        },\n{\n            'v': 0.43703120946884155,\n            'f': \"0.43703120946884155\",\n        },\n{\n            'v': -9.574719429016113,\n            'f': \"-9.574719429016113\",\n        },\n\"Self-reported use of non-prescribed medicines by sex, age and country of birth\",\n\"Population and social conditions Health Health care Medicine use Self-reported use of non-prescribed medicines by sex, age and country of birth\",\n\"https://ec.europa.eu/eurostat/estat-navtree-portlet-prod/BulkDownloadListing?sort=1&file=data%2Fhlth_ehis_md2b.tsv.gz\"],\n [{\n            'v': 35,\n            'f': \"35\",\n        },\n{\n            'v': 0.38957250118255615,\n            'f': \"0.38957250118255615\",\n        },\n{\n            'v': -9.59887409210205,\n            'f': \"-9.59887409210205\",\n        },\n\"Inability to afford paying for one week annual holiday away from home by level of activity limitation, sex and age\",\n\"Population and social conditions Health Disability Material deprivation among disabled people - EU-SILC survey Inability to afford paying for one week annual holiday away from home by level of activity limitation, sex and age\",\n\"https://ec.europa.eu/eurostat/estat-navtree-portlet-prod/BulkDownloadListing?sort=1&file=data%2Fhlth_dm020.tsv.gz\"],\n [{\n            'v': 5,\n            'f': \"5\",\n        },\n{\n            'v': 0.4421039819717407,\n            'f': \"0.4421039819717407\",\n        },\n{\n            'v': -9.601041793823242,\n            'f': \"-9.601041793823242\",\n        },\n\"Self-reported vaccination against influenza by sex, age and degree of urbanisation\",\n\"Population and social conditions Health Health care Preventive services Self-reported vaccination against influenza by sex, age and degree of urbanisation\",\n\"https://ec.europa.eu/eurostat/estat-navtree-portlet-prod/BulkDownloadListing?sort=1&file=data%2Fhlth_ehis_pa1u.tsv.gz\"],\n [{\n            'v': 43,\n            'f': \"43\",\n        },\n{\n            'v': 0.3840436041355133,\n            'f': \"0.3840436041355133\",\n        },\n{\n            'v': -9.60271167755127,\n            'f': \"-9.60271167755127\",\n        },\n\"Self-reported use of prescribed medicines for specific diseases by sex, age and educational attainment level\",\n\"Population and social conditions Health Health care Medicine use Medicine use - historical data Self-reported use of prescribed medicines for specific diseases by sex, age and educational attainment level\",\n\"https://ec.europa.eu/eurostat/estat-navtree-portlet-prod/BulkDownloadListing?sort=1&file=data%2Fhlth_ehis_hc7.tsv.gz\"],\n [{\n            'v': 92,\n            'f': \"92\",\n        },\n{\n            'v': 0.3373517394065857,\n            'f': \"0.3373517394065857\",\n        },\n{\n            'v': -9.609601020812988,\n            'f': \"-9.609601020812988\",\n        },\n\"Disabled people by sex, life area where a barrier is reported and having a longstanding health problem\",\n\"Population and social conditions Health Disability Barriers to social integration of disabled people (source EHSIS) Disabled people by sex, life area where a barrier is reported and having a longstanding health problem\",\n\"https://ec.europa.eu/eurostat/estat-navtree-portlet-prod/BulkDownloadListing?sort=1&file=data%2Fhlth_dsi130.tsv.gz\"],\n [{\n            'v': 56,\n            'f': \"56\",\n        },\n{\n            'v': 0.36187684535980225,\n            'f': \"0.36187684535980225\",\n        },\n{\n            'v': -9.610651016235352,\n            'f': \"-9.610651016235352\",\n        },\n\"Employed people having a longstanding health problem or a difficulty in basic activities by the type of special assistance used, sex and age\",\n\"Population and social conditions Health Disability Access to labour market for disabled people (source LFS) Employed people having a longstanding health problem or a difficulty in basic activities by the type of special assistance used, sex and age\",\n\"https://ec.europa.eu/eurostat/estat-navtree-portlet-prod/BulkDownloadListing?sort=1&file=data%2Fhlth_dlm180.tsv.gz\"],\n [{\n            'v': 30,\n            'f': \"30\",\n        },\n{\n            'v': 0.3966051936149597,\n            'f': \"0.3966051936149597\",\n        },\n{\n            'v': -9.612136840820312,\n            'f': \"-9.612136840820312\",\n        },\n\"Share of persons who cannot afford a personal car by level of activity limitation, sex and age\",\n\"Population and social conditions Health Disability Material deprivation among disabled people - EU-SILC survey Share of persons who cannot afford a personal car by level of activity limitation, sex and age\",\n\"https://ec.europa.eu/eurostat/estat-navtree-portlet-prod/BulkDownloadListing?sort=1&file=data%2Fhlth_dm110.tsv.gz\"],\n [{\n            'v': 61,\n            'f': \"61\",\n        },\n{\n            'v': 0.35895565152168274,\n            'f': \"0.35895565152168274\",\n        },\n{\n            'v': -9.627655029296875,\n            'f': \"-9.627655029296875\",\n        },\n\"Not employed people having a longstanding health problem or a difficulty in basic activities by the type of special assistance needed, sex and age\",\n\"Population and social conditions Health Disability Access to labour market for disabled people (source LFS) Not employed people having a longstanding health problem or a difficulty in basic activities by the type of special assistance needed, sex and age\",\n\"https://ec.europa.eu/eurostat/estat-navtree-portlet-prod/BulkDownloadListing?sort=1&file=data%2Fhlth_dlm190.tsv.gz\"],\n [{\n            'v': 25,\n            'f': \"25\",\n        },\n{\n            'v': 0.40414637327194214,\n            'f': \"0.40414637327194214\",\n        },\n{\n            'v': -9.689657211303711,\n            'f': \"-9.689657211303711\",\n        },\n\"People reporting a limitation in the amount of work caused by longstanding health problems or difficulties in basic activities by cause, sex and age\",\n\"Population and social conditions Health Disability Access to labour market for disabled people (source LFS) People reporting a limitation in the amount of work caused by longstanding health problems or difficulties in basic activities by cause, sex and age\",\n\"https://ec.europa.eu/eurostat/estat-navtree-portlet-prod/BulkDownloadListing?sort=1&file=data%2Fhlth_dlm150.tsv.gz\"],\n [{\n            'v': 26,\n            'f': \"26\",\n        },\n{\n            'v': 0.40318262577056885,\n            'f': \"0.40318262577056885\",\n        },\n{\n            'v': -9.690868377685547,\n            'f': \"-9.690868377685547\",\n        },\n\"People reporting a limitation in the type of work caused by longstanding health problems or difficulties in basic activities by cause, sex and age\",\n\"Population and social conditions Health Disability Access to labour market for disabled people (source LFS) People reporting a limitation in the type of work caused by longstanding health problems or difficulties in basic activities by cause, sex and age\",\n\"https://ec.europa.eu/eurostat/estat-navtree-portlet-prod/BulkDownloadListing?sort=1&file=data%2Fhlth_dlm160.tsv.gz\"],\n [{\n            'v': 22,\n            'f': \"22\",\n        },\n{\n            'v': 0.4124927818775177,\n            'f': \"0.4124927818775177\",\n        },\n{\n            'v': -9.691886901855469,\n            'f': \"-9.691886901855469\",\n        },\n\"People having a long-standing illness or health problem, by sex, age and educational attainment level\",\n\"Population and social conditions Health Health status Self-reported chronic morbidity People having a long-standing illness or health problem, by sex, age and educational attainment level\",\n\"https://ec.europa.eu/eurostat/estat-navtree-portlet-prod/BulkDownloadListing?sort=1&file=data%2Fhlth_silc_05.tsv.gz\"],\n [{\n            'v': 47,\n            'f': \"47\",\n        },\n{\n            'v': 0.37690484523773193,\n            'f': \"0.37690484523773193\",\n        },\n{\n            'v': -9.70103645324707,\n            'f': \"-9.70103645324707\",\n        },\n\"Ability to make ends meet by level of activity limitation, sex and age\",\n\"Population and social conditions Health Disability Material deprivation among disabled people - EU-SILC survey Ability to make ends meet by level of activity limitation, sex and age\",\n\"https://ec.europa.eu/eurostat/estat-navtree-portlet-prod/BulkDownloadListing?sort=1&file=data%2Fhlth_dm060.tsv.gz\"],\n [{\n            'v': 48,\n            'f': \"48\",\n        },\n{\n            'v': 0.3755806088447571,\n            'f': \"0.3755806088447571\",\n        },\n{\n            'v': -9.708155632019043,\n            'f': \"-9.708155632019043\",\n        },\n\"Vaccination against influenza of population aged 65 and over\",\n\"Population and social conditions Health Health care Preventive services Vaccination against influenza of population aged 65 and over\",\n\"https://ec.europa.eu/eurostat/estat-navtree-portlet-prod/BulkDownloadListing?sort=1&file=data%2Fhlth_ps_immu.tsv.gz\"],\n [{\n            'v': 49,\n            'f': \"49\",\n        },\n{\n            'v': 0.373460590839386,\n            'f': \"0.373460590839386\",\n        },\n{\n            'v': -9.732940673828125,\n            'f': \"-9.732940673828125\",\n        },\n\"Self-reported unmet needs for medical examination by level of activity limitation, sex and age\",\n\"Population and social conditions Health Disability Health problems of disabled people (sources SILC or EHIS) Self-reported unmet needs for medical examination by level of activity limitation, sex and age\",\n\"https://ec.europa.eu/eurostat/estat-navtree-portlet-prod/BulkDownloadListing?sort=1&file=data%2Fhlth_dh030.tsv.gz\"],\n [{\n            'v': 46,\n            'f': \"46\",\n        },\n{\n            'v': 0.37760257720947266,\n            'f': \"0.37760257720947266\",\n        },\n{\n            'v': -9.741018295288086,\n            'f': \"-9.741018295288086\",\n        },\n\"Disabled people by sex, need for assistance and having a longstanding difficulty in activities of personal care\",\n\"Population and social conditions Health Disability Prevalence of disability (source EHSIS) Disabled people by sex, need for assistance and having a longstanding difficulty in activities of personal care\",\n\"https://ec.europa.eu/eurostat/estat-navtree-portlet-prod/BulkDownloadListing?sort=1&file=data%2Fhlth_dpeh190.tsv.gz\"],\n [{\n            'v': 70,\n            'f': \"70\",\n        },\n{\n            'v': 0.35414355993270874,\n            'f': \"0.35414355993270874\",\n        },\n{\n            'v': -9.742194175720215,\n            'f': \"-9.742194175720215\",\n        },\n\"Self-perceived long-standing limitations in usual activities due to health problem by sex, age and groups of country of birth\",\n\"Population and social conditions Health Health status Functional and activity limitations Self-perceived long-standing limitations in usual activities due to health problem by sex, age and groups of country of birth\",\n\"https://ec.europa.eu/eurostat/estat-navtree-portlet-prod/BulkDownloadListing?sort=1&file=data%2Fhlth_silc_27.tsv.gz\"],\n [{\n            'v': 19,\n            'f': \"19\",\n        },\n{\n            'v': 0.41564124822616577,\n            'f': \"0.41564124822616577\",\n        },\n{\n            'v': -9.750142097473145,\n            'f': \"-9.750142097473145\",\n        },\n\"Self-reported vaccination against influenza by sex, age and educational attainment level\",\n\"Population and social conditions Health Health care Preventive services Self-reported vaccination against influenza by sex, age and educational attainment level\",\n\"https://ec.europa.eu/eurostat/estat-navtree-portlet-prod/BulkDownloadListing?sort=1&file=data%2Fhlth_ehis_pa1e.tsv.gz\"],\n [{\n            'v': 15,\n            'f': \"15\",\n        },\n{\n            'v': 0.41930997371673584,\n            'f': \"0.41930997371673584\",\n        },\n{\n            'v': -9.75733470916748,\n            'f': \"-9.75733470916748\",\n        },\n\"People having a long-standing illness or health problem, by sex, age and income quintile\",\n\"Population and social conditions Health Health status Self-reported chronic morbidity People having a long-standing illness or health problem, by sex, age and income quintile\",\n\"https://ec.europa.eu/eurostat/estat-navtree-portlet-prod/BulkDownloadListing?sort=1&file=data%2Fhlth_silc_11.tsv.gz\"],\n [{\n            'v': 91,\n            'f': \"91\",\n        },\n{\n            'v': 0.33751559257507324,\n            'f': \"0.33751559257507324\",\n        },\n{\n            'v': -9.78607177734375,\n            'f': \"-9.78607177734375\",\n        },\n\"Disabled people by sex, age and life area where a barrier is reported\",\n\"Population and social conditions Health Disability Barriers to social integration of disabled people (source EHSIS) Disabled people by sex, age and life area where a barrier is reported\",\n\"https://ec.europa.eu/eurostat/estat-navtree-portlet-prod/BulkDownloadListing?sort=1&file=data%2Fhlth_dsi090.tsv.gz\"],\n [{\n            'v': 79,\n            'f': \"79\",\n        },\n{\n            'v': 0.3473150134086609,\n            'f': \"0.3473150134086609\",\n        },\n{\n            'v': -9.79138469696045,\n            'f': \"-9.79138469696045\",\n        },\n\"Disabled people by sex, age and severity of disability\",\n\"Population and social conditions Health Disability Barriers to social integration of disabled people (source EHSIS) Disabled people by sex, age and severity of disability\",\n\"https://ec.europa.eu/eurostat/estat-navtree-portlet-prod/BulkDownloadListing?sort=1&file=data%2Fhlth_dsi010.tsv.gz\"],\n [{\n            'v': 50,\n            'f': \"50\",\n        },\n{\n            'v': 0.37115806341171265,\n            'f': \"0.37115806341171265\",\n        },\n{\n            'v': -9.793598175048828,\n            'f': \"-9.793598175048828\",\n        },\n\"Self-perceived health by level of activity limitation, sex and age\",\n\"Population and social conditions Health Disability Health problems of disabled people (sources SILC or EHIS) Self-perceived health by level of activity limitation, sex and age\",\n\"https://ec.europa.eu/eurostat/estat-navtree-portlet-prod/BulkDownloadListing?sort=1&file=data%2Fhlth_dh010.tsv.gz\"],\n [{\n            'v': 14,\n            'f': \"14\",\n        },\n{\n            'v': 0.4208557903766632,\n            'f': \"0.4208557903766632\",\n        },\n{\n            'v': -9.802032470703125,\n            'f': \"-9.802032470703125\",\n        },\n\"People having a long-standing illness or health problem, by sex, age and labour status\",\n\"Population and social conditions Health Health status Self-reported chronic morbidity People having a long-standing illness or health problem, by sex, age and labour status\",\n\"https://ec.europa.eu/eurostat/estat-navtree-portlet-prod/BulkDownloadListing?sort=1&file=data%2Fhlth_silc_04.tsv.gz\"],\n [{\n            'v': 38,\n            'f': \"38\",\n        },\n{\n            'v': 0.38844189047813416,\n            'f': \"0.38844189047813416\",\n        },\n{\n            'v': -9.807445526123047,\n            'f': \"-9.807445526123047\",\n        },\n\"Severe material deprivation by level of activity limitation, sex and age\",\n\"Population and social conditions Health Disability Material deprivation among disabled people - EU-SILC survey Severe material deprivation by level of activity limitation, sex and age\",\n\"https://ec.europa.eu/eurostat/estat-navtree-portlet-prod/BulkDownloadListing?sort=1&file=data%2Fhlth_dm010.tsv.gz\"],\n [{\n            'v': 37,\n            'f': \"37\",\n        },\n{\n            'v': 0.3885343074798584,\n            'f': \"0.3885343074798584\",\n        },\n{\n            'v': -9.807806015014648,\n            'f': \"-9.807806015014648\",\n        },\n\"Disabled people by sex, need for assistance and having a longstanding health problem\",\n\"Population and social conditions Health Disability Prevalence of disability (source EHSIS) Disabled people by sex, need for assistance and having a longstanding health problem\",\n\"https://ec.europa.eu/eurostat/estat-navtree-portlet-prod/BulkDownloadListing?sort=1&file=data%2Fhlth_dpeh170.tsv.gz\"],\n [{\n            'v': 67,\n            'f': \"67\",\n        },\n{\n            'v': 0.3565308451652527,\n            'f': \"0.3565308451652527\",\n        },\n{\n            'v': -9.812055587768555,\n            'f': \"-9.812055587768555\",\n        },\n\"Disabled people by sex, need for assistance and having a longstanding difficulty in basic activities\",\n\"Population and social conditions Health Disability Prevalence of disability (source EHSIS) Disabled people by sex, need for assistance and having a longstanding difficulty in basic activities\",\n\"https://ec.europa.eu/eurostat/estat-navtree-portlet-prod/BulkDownloadListing?sort=1&file=data%2Fhlth_dpeh180.tsv.gz\"],\n [{\n            'v': 65,\n            'f': \"65\",\n        },\n{\n            'v': 0.3576669991016388,\n            'f': \"0.3576669991016388\",\n        },\n{\n            'v': -9.818315505981445,\n            'f': \"-9.818315505981445\",\n        },\n\"People reporting a limitation in work by the reason for limitation in work, sex and age\",\n\"Population and social conditions Health Disability Access to labour market for disabled people (source LFS) People reporting a limitation in work by the reason for limitation in work, sex and age\",\n\"https://ec.europa.eu/eurostat/estat-navtree-portlet-prod/BulkDownloadListing?sort=1&file=data%2Fhlth_dlm140.tsv.gz\"],\n [{\n            'v': 93,\n            'f': \"93\",\n        },\n{\n            'v': 0.336087167263031,\n            'f': \"0.336087167263031\",\n        },\n{\n            'v': -9.840505599975586,\n            'f': \"-9.840505599975586\",\n        },\n\"Disabled people by sex, severity of disability and household type\",\n\"Population and social conditions Health Disability Barriers to social integration of disabled people (source EHSIS) Disabled people by sex, severity of disability and household type\",\n\"https://ec.europa.eu/eurostat/estat-navtree-portlet-prod/BulkDownloadListing?sort=1&file=data%2Fhlth_dsi040.tsv.gz\"],\n [{\n            'v': 10,\n            'f': \"10\",\n        },\n{\n            'v': 0.43203291296958923,\n            'f': \"0.43203291296958923\",\n        },\n{\n            'v': -9.843605995178223,\n            'f': \"-9.843605995178223\",\n        },\n\"Self-reported use of non-prescribed medicines by sex, age and educational attainment level\",\n\"Population and social conditions Health Health care Medicine use Self-reported use of non-prescribed medicines by sex, age and educational attainment level\",\n\"https://ec.europa.eu/eurostat/estat-navtree-portlet-prod/BulkDownloadListing?sort=1&file=data%2Fhlth_ehis_md2e.tsv.gz\"],\n [{\n            'v': 69,\n            'f': \"69\",\n        },\n{\n            'v': 0.3550194799900055,\n            'f': \"0.3550194799900055\",\n        },\n{\n            'v': -9.850248336791992,\n            'f': \"-9.850248336791992\",\n        },\n\"Disabled people by sex, need for assistance and having a longstanding difficulty in activities of household care\",\n\"Population and social conditions Health Disability Prevalence of disability (source EHSIS) Disabled people by sex, need for assistance and having a longstanding difficulty in activities of household care\",\n\"https://ec.europa.eu/eurostat/estat-navtree-portlet-prod/BulkDownloadListing?sort=1&file=data%2Fhlth_dpeh200.tsv.gz\"],\n [{\n            'v': 1,\n            'f': \"1\",\n        },\n{\n            'v': 0.4504871368408203,\n            'f': \"0.4504871368408203\",\n        },\n{\n            'v': -9.859198570251465,\n            'f': \"-9.859198570251465\",\n        },\n\"Self-reported use of non-prescribed medicines by sex, age and degree of urbanisation\",\n\"Population and social conditions Health Health care Medicine use Self-reported use of non-prescribed medicines by sex, age and degree of urbanisation\",\n\"https://ec.europa.eu/eurostat/estat-navtree-portlet-prod/BulkDownloadListing?sort=1&file=data%2Fhlth_ehis_md2u.tsv.gz\"],\n [{\n            'v': 32,\n            'f': \"32\",\n        },\n{\n            'v': 0.3947138786315918,\n            'f': \"0.3947138786315918\",\n        },\n{\n            'v': -9.884289741516113,\n            'f': \"-9.884289741516113\",\n        },\n\"Inability to face unexpected financial expenses by level of activity limitation, sex and age\",\n\"Population and social conditions Health Disability Material deprivation among disabled people - EU-SILC survey Inability to face unexpected financial expenses by level of activity limitation, sex and age\",\n\"https://ec.europa.eu/eurostat/estat-navtree-portlet-prod/BulkDownloadListing?sort=1&file=data%2Fhlth_dm040.tsv.gz\"],\n [{\n            'v': 12,\n            'f': \"12\",\n        },\n{\n            'v': 0.4217756986618042,\n            'f': \"0.4217756986618042\",\n        },\n{\n            'v': -9.939543724060059,\n            'f': \"-9.939543724060059\",\n        },\n\"Self-reported vaccination against influenza by sex, age and educational attainment level (%)\",\n\"Population and social conditions Health Health care Preventive services Preventive services - historical data Self-reported vaccination against influenza by sex, age and educational attainment level (%)\",\n\"https://ec.europa.eu/eurostat/estat-navtree-portlet-prod/BulkDownloadListing?sort=1&file=data%2Fhlth_ehis_hc1.tsv.gz\"],\n [{\n            'v': 58,\n            'f': \"58\",\n        },\n{\n            'v': 0.36003953218460083,\n            'f': \"0.36003953218460083\",\n        },\n{\n            'v': -9.949471473693848,\n            'f': \"-9.949471473693848\",\n        },\n\"Arrears (mortgage or rent, utility bills or hire purchase) by level of activity limitation, sex and age\",\n\"Population and social conditions Health Disability Material deprivation among disabled people - EU-SILC survey Arrears (mortgage or rent, utility bills or hire purchase) by level of activity limitation, sex and age\",\n\"https://ec.europa.eu/eurostat/estat-navtree-portlet-prod/BulkDownloadListing?sort=1&file=data%2Fhlth_dm050.tsv.gz\"],\n [{\n            'v': 88,\n            'f': \"88\",\n        },\n{\n            'v': 0.33934926986694336,\n            'f': \"0.33934926986694336\",\n        },\n{\n            'v': -9.95911693572998,\n            'f': \"-9.95911693572998\",\n        },\n\"People at risk of poverty or social exclusion by level of activity limitation, sex and age\",\n\"Population and social conditions Health Disability Income distribution and poverty among disabled people - EU-SILC survey People at risk of poverty or social exclusion by level of activity limitation, sex and age\",\n\"https://ec.europa.eu/eurostat/estat-navtree-portlet-prod/BulkDownloadListing?sort=1&file=data%2Fhlth_dpe010.tsv.gz\"],\n [{\n            'v': 77,\n            'f': \"77\",\n        },\n{\n            'v': 0.347623348236084,\n            'f': \"0.347623348236084\",\n        },\n{\n            'v': -9.963997840881348,\n            'f': \"-9.963997840881348\",\n        },\n\"Self-perceived long-standing limitations in usual activities due to health problem by sex, age and groups of country of citizenship\",\n\"Population and social conditions Health Health status Functional and activity limitations Self-perceived long-standing limitations in usual activities due to health problem by sex, age and groups of country of citizenship\",\n\"https://ec.europa.eu/eurostat/estat-navtree-portlet-prod/BulkDownloadListing?sort=1&file=data%2Fhlth_silc_28.tsv.gz\"],\n [{\n            'v': 57,\n            'f': \"57\",\n        },\n{\n            'v': 0.36111414432525635,\n            'f': \"0.36111414432525635\",\n        },\n{\n            'v': -9.992399215698242,\n            'f': \"-9.992399215698242\",\n        },\n\"Body mass index (BMI) by level of activity limitation, sex and age\",\n\"Population and social conditions Health Disability Health problems of disabled people (sources SILC or EHIS) Body mass index (BMI) by level of activity limitation, sex and age\",\n\"https://ec.europa.eu/eurostat/estat-navtree-portlet-prod/BulkDownloadListing?sort=1&file=data%2Fhlth_dh050.tsv.gz\"],\n [{\n            'v': 2,\n            'f': \"2\",\n        },\n{\n            'v': 0.4502629041671753,\n            'f': \"0.4502629041671753\",\n        },\n{\n            'v': -10.06727123260498,\n            'f': \"-10.06727123260498\",\n        },\n\"Self-reported use of non-prescribed medicines by sex, age and country of citizenship\",\n\"Population and social conditions Health Health care Medicine use Self-reported use of non-prescribed medicines by sex, age and country of citizenship\",\n\"https://ec.europa.eu/eurostat/estat-navtree-portlet-prod/BulkDownloadListing?sort=1&file=data%2Fhlth_ehis_md2c.tsv.gz\"],\n [{\n            'v': 45,\n            'f': \"45\",\n        },\n{\n            'v': 0.38054779171943665,\n            'f': \"0.38054779171943665\",\n        },\n{\n            'v': -10.078479766845703,\n            'f': \"-10.078479766845703\",\n        },\n\"Breast cancer and cervical cancer screenings\",\n\"Population and social conditions Health Health care Preventive services Breast cancer and cervical cancer screenings\",\n\"https://ec.europa.eu/eurostat/estat-navtree-portlet-prod/BulkDownloadListing?sort=1&file=data%2Fhlth_ps_scre.tsv.gz\"]],\n        columns: [[\"number\", \"index\"], [\"number\", \"score\"], [\"number\", \"cross_scores\"], [\"string\", \"File description\"], [\"string\", \"Full path\"], [\"string\", \"Link\"]],\n        columnOptions: [{\"width\": \"1px\", \"className\": \"index_column\"}],\n        rowsPerPage: 5,\n        helpUrl: \"https://colab.research.google.com/notebooks/data_table.ipynb\",\n        suppressOutputScrolling: true,\n        minimumWidth: undefined,\n      });\n    ",
            "text/plain": [
              "<google.colab.data_table.DataTable object>"
            ]
          },
          "metadata": {}
        },
        {
          "output_type": "stream",
          "name": "stderr",
          "text": [
            "/usr/local/lib/python3.7/dist-packages/sklearn/utils/deprecation.py:87: FutureWarning: Function get_feature_names is deprecated; get_feature_names is deprecated in 1.0 and will be removed in 1.2. Please use get_feature_names_out instead.\n",
            "  warnings.warn(msg, category=FutureWarning)\n"
          ]
        },
        {
          "name": "stdout",
          "output_type": "stream",
          "text": [
            "bot: Would you be interested in 'level activity'? (yes/no/add some keywords, q to quit) \n",
            "me:  no\n"
          ]
        },
        {
          "output_type": "display_data",
          "data": {
            "text/html": [
              "<div>\n",
              "<style scoped>\n",
              "    .dataframe tbody tr th:only-of-type {\n",
              "        vertical-align: middle;\n",
              "    }\n",
              "\n",
              "    .dataframe tbody tr th {\n",
              "        vertical-align: top;\n",
              "    }\n",
              "\n",
              "    .dataframe thead th {\n",
              "        text-align: right;\n",
              "    }\n",
              "</style>\n",
              "<table border=\"1\" class=\"dataframe\">\n",
              "  <thead>\n",
              "    <tr style=\"text-align: right;\">\n",
              "      <th></th>\n",
              "      <th>score</th>\n",
              "      <th>cross_scores</th>\n",
              "      <th>File description</th>\n",
              "      <th>Full path</th>\n",
              "      <th>Link</th>\n",
              "    </tr>\n",
              "  </thead>\n",
              "  <tbody>\n",
              "    <tr>\n",
              "      <th>0</th>\n",
              "      <td>0.456813</td>\n",
              "      <td>-8.563866</td>\n",
              "      <td>Self-reported screening of cardiovascular dise...</td>\n",
              "      <td>Population and social conditions Health Health...</td>\n",
              "      <td>https://ec.europa.eu/eurostat/estat-navtree-po...</td>\n",
              "    </tr>\n",
              "    <tr>\n",
              "      <th>8</th>\n",
              "      <td>0.436877</td>\n",
              "      <td>-8.564386</td>\n",
              "      <td>Self-reported screening of cardiovascular dise...</td>\n",
              "      <td>Population and social conditions Health Health...</td>\n",
              "      <td>https://ec.europa.eu/eurostat/estat-navtree-po...</td>\n",
              "    </tr>\n",
              "    <tr>\n",
              "      <th>9</th>\n",
              "      <td>0.433801</td>\n",
              "      <td>-8.613359</td>\n",
              "      <td>Self-reported screening of cardiovascular dise...</td>\n",
              "      <td>Population and social conditions Health Health...</td>\n",
              "      <td>https://ec.europa.eu/eurostat/estat-navtree-po...</td>\n",
              "    </tr>\n",
              "    <tr>\n",
              "      <th>13</th>\n",
              "      <td>0.421168</td>\n",
              "      <td>-8.718422</td>\n",
              "      <td>Persons reporting a chronic disease, by diseas...</td>\n",
              "      <td>Population and social conditions Health Health...</td>\n",
              "      <td>https://ec.europa.eu/eurostat/estat-navtree-po...</td>\n",
              "    </tr>\n",
              "    <tr>\n",
              "      <th>11</th>\n",
              "      <td>0.425595</td>\n",
              "      <td>-8.757074</td>\n",
              "      <td>Persons reporting a chronic disease, by diseas...</td>\n",
              "      <td>Population and social conditions Health Health...</td>\n",
              "      <td>https://ec.europa.eu/eurostat/estat-navtree-po...</td>\n",
              "    </tr>\n",
              "    <tr>\n",
              "      <th>...</th>\n",
              "      <td>...</td>\n",
              "      <td>...</td>\n",
              "      <td>...</td>\n",
              "      <td>...</td>\n",
              "      <td>...</td>\n",
              "    </tr>\n",
              "    <tr>\n",
              "      <th>88</th>\n",
              "      <td>0.339349</td>\n",
              "      <td>-9.959117</td>\n",
              "      <td>People at risk of poverty or social exclusion ...</td>\n",
              "      <td>Population and social conditions Health Disabi...</td>\n",
              "      <td>https://ec.europa.eu/eurostat/estat-navtree-po...</td>\n",
              "    </tr>\n",
              "    <tr>\n",
              "      <th>77</th>\n",
              "      <td>0.347623</td>\n",
              "      <td>-9.963998</td>\n",
              "      <td>Self-perceived long-standing limitations in us...</td>\n",
              "      <td>Population and social conditions Health Health...</td>\n",
              "      <td>https://ec.europa.eu/eurostat/estat-navtree-po...</td>\n",
              "    </tr>\n",
              "    <tr>\n",
              "      <th>57</th>\n",
              "      <td>0.361114</td>\n",
              "      <td>-9.992399</td>\n",
              "      <td>Body mass index (BMI) by level of activity lim...</td>\n",
              "      <td>Population and social conditions Health Disabi...</td>\n",
              "      <td>https://ec.europa.eu/eurostat/estat-navtree-po...</td>\n",
              "    </tr>\n",
              "    <tr>\n",
              "      <th>2</th>\n",
              "      <td>0.450263</td>\n",
              "      <td>-10.067271</td>\n",
              "      <td>Self-reported use of non-prescribed medicines ...</td>\n",
              "      <td>Population and social conditions Health Health...</td>\n",
              "      <td>https://ec.europa.eu/eurostat/estat-navtree-po...</td>\n",
              "    </tr>\n",
              "    <tr>\n",
              "      <th>45</th>\n",
              "      <td>0.380548</td>\n",
              "      <td>-10.078480</td>\n",
              "      <td>Breast cancer and cervical cancer screenings</td>\n",
              "      <td>Population and social conditions Health Health...</td>\n",
              "      <td>https://ec.europa.eu/eurostat/estat-navtree-po...</td>\n",
              "    </tr>\n",
              "  </tbody>\n",
              "</table>\n",
              "<p>63 rows × 5 columns</p>\n",
              "</div>"
            ],
            "application/vnd.google.colaboratory.module+javascript": "\n      import \"https://ssl.gstatic.com/colaboratory/data_table/f872b2c2305463fd/data_table.js\";\n\n      window.createDataTable({\n        data: [[{\n            'v': 0,\n            'f': \"0\",\n        },\n{\n            'v': 0.45681267976760864,\n            'f': \"0.45681267976760864\",\n        },\n{\n            'v': -8.563865661621094,\n            'f': \"-8.563865661621094\",\n        },\n\"Self-reported screening of cardiovascular diseases and diabetes risks by sex, age and degree of urbanisation\",\n\"Population and social conditions Health Health care Preventive services Self-reported screening of cardiovascular diseases and diabetes risks by sex, age and degree of urbanisation\",\n\"https://ec.europa.eu/eurostat/estat-navtree-portlet-prod/BulkDownloadListing?sort=1&file=data%2Fhlth_ehis_pa2u.tsv.gz\"],\n [{\n            'v': 8,\n            'f': \"8\",\n        },\n{\n            'v': 0.4368773102760315,\n            'f': \"0.4368773102760315\",\n        },\n{\n            'v': -8.564386367797852,\n            'f': \"-8.564386367797852\",\n        },\n\"Self-reported screening of cardiovascular diseases and diabetes risks by sex, age and income quintile\",\n\"Population and social conditions Health Health care Preventive services Self-reported screening of cardiovascular diseases and diabetes risks by sex, age and income quintile\",\n\"https://ec.europa.eu/eurostat/estat-navtree-portlet-prod/BulkDownloadListing?sort=1&file=data%2Fhlth_ehis_pa2i.tsv.gz\"],\n [{\n            'v': 9,\n            'f': \"9\",\n        },\n{\n            'v': 0.4338005483150482,\n            'f': \"0.4338005483150482\",\n        },\n{\n            'v': -8.613359451293945,\n            'f': \"-8.613359451293945\",\n        },\n\"Self-reported screening of cardiovascular diseases and diabetes risks by sex, age and educational attainment level\",\n\"Population and social conditions Health Health care Preventive services Self-reported screening of cardiovascular diseases and diabetes risks by sex, age and educational attainment level\",\n\"https://ec.europa.eu/eurostat/estat-navtree-portlet-prod/BulkDownloadListing?sort=1&file=data%2Fhlth_ehis_pa2e.tsv.gz\"],\n [{\n            'v': 13,\n            'f': \"13\",\n        },\n{\n            'v': 0.4211675226688385,\n            'f': \"0.4211675226688385\",\n        },\n{\n            'v': -8.718421936035156,\n            'f': \"-8.718421936035156\",\n        },\n\"Persons reporting a chronic disease, by disease, sex, age and level of activity limitation\",\n\"Population and social conditions Health Health status Self-reported chronic morbidity Persons reporting a chronic disease, by disease, sex, age and level of activity limitation\",\n\"https://ec.europa.eu/eurostat/estat-navtree-portlet-prod/BulkDownloadListing?sort=1&file=data%2Fhlth_ehis_cd1d.tsv.gz\"],\n [{\n            'v': 11,\n            'f': \"11\",\n        },\n{\n            'v': 0.42559486627578735,\n            'f': \"0.42559486627578735\",\n        },\n{\n            'v': -8.757074356079102,\n            'f': \"-8.757074356079102\",\n        },\n\"Persons reporting a chronic disease, by disease, sex, age and broad group of citizenship\",\n\"Population and social conditions Health Health status Self-reported chronic morbidity Persons reporting a chronic disease, by disease, sex, age and broad group of citizenship\",\n\"https://ec.europa.eu/eurostat/estat-navtree-portlet-prod/BulkDownloadListing?sort=1&file=data%2Fhlth_ehis_cd1c.tsv.gz\"],\n [{\n            'v': 31,\n            'f': \"31\",\n        },\n{\n            'v': 0.39613187313079834,\n            'f': \"0.39613187313079834\",\n        },\n{\n            'v': -9.110416412353516,\n            'f': \"-9.110416412353516\",\n        },\n\"Persons reporting a chronic disease, by disease, sex, age and educational attainment level\",\n\"Population and social conditions Health Health status Self-reported chronic morbidity Persons reporting a chronic disease, by disease, sex, age and educational attainment level\",\n\"https://ec.europa.eu/eurostat/estat-navtree-portlet-prod/BulkDownloadListing?sort=1&file=data%2Fhlth_ehis_cd1e.tsv.gz\"],\n [{\n            'v': 16,\n            'f': \"16\",\n        },\n{\n            'v': 0.4178217649459839,\n            'f': \"0.4178217649459839\",\n        },\n{\n            'v': -9.180136680603027,\n            'f': \"-9.180136680603027\",\n        },\n\"Persons reporting a chronic disease, by disease, sex, age and degree of urbanisation\",\n\"Population and social conditions Health Health status Self-reported chronic morbidity Persons reporting a chronic disease, by disease, sex, age and degree of urbanisation\",\n\"https://ec.europa.eu/eurostat/estat-navtree-portlet-prod/BulkDownloadListing?sort=1&file=data%2Fhlth_ehis_cd1u.tsv.gz\"],\n [{\n            'v': 24,\n            'f': \"24\",\n        },\n{\n            'v': 0.40489625930786133,\n            'f': \"0.40489625930786133\",\n        },\n{\n            'v': -9.1945161819458,\n            'f': \"-9.1945161819458\",\n        },\n\"Persons reporting a chronic disease, by disease, sex, age and income quintile\",\n\"Population and social conditions Health Health status Self-reported chronic morbidity Persons reporting a chronic disease, by disease, sex, age and income quintile\",\n\"https://ec.europa.eu/eurostat/estat-navtree-portlet-prod/BulkDownloadListing?sort=1&file=data%2Fhlth_ehis_cd1i.tsv.gz\"],\n [{\n            'v': 73,\n            'f': \"73\",\n        },\n{\n            'v': 0.3517647385597229,\n            'f': \"0.3517647385597229\",\n        },\n{\n            'v': -9.222434997558594,\n            'f': \"-9.222434997558594\",\n        },\n\"People reporting a chronic disease, by disease, sex, age and educational attainment level (%)\",\n\"Population and social conditions Health Health status Health status - historical data (2008) People reporting a chronic disease, by disease, sex, age and educational attainment level (%)\",\n\"https://ec.europa.eu/eurostat/estat-navtree-portlet-prod/BulkDownloadListing?sort=1&file=data%2Fhlth_ehis_st1.tsv.gz\"],\n [{\n            'v': 20,\n            'f': \"20\",\n        },\n{\n            'v': 0.4138421416282654,\n            'f': \"0.4138421416282654\",\n        },\n{\n            'v': -9.289812088012695,\n            'f': \"-9.289812088012695\",\n        },\n\"Persons reporting a chronic disease, by disease, sex, age and contry of birth\",\n\"Population and social conditions Health Health status Self-reported chronic morbidity Persons reporting a chronic disease, by disease, sex, age and contry of birth\",\n\"https://ec.europa.eu/eurostat/estat-navtree-portlet-prod/BulkDownloadListing?sort=1&file=data%2Fhlth_ehis_cd1b.tsv.gz\"],\n [{\n            'v': 36,\n            'f': \"36\",\n        },\n{\n            'v': 0.38948553800582886,\n            'f': \"0.38948553800582886\",\n        },\n{\n            'v': -9.305326461791992,\n            'f': \"-9.305326461791992\",\n        },\n\"Inability to afford a meal with meat, chicken, fish (or vegetarian equivalent) every second day by level of activity limitation, sex and age\",\n\"Population and social conditions Health Disability Material deprivation among disabled people - EU-SILC survey Inability to afford a meal with meat, chicken, fish (or vegetarian equivalent) every second day by level of activity limitation, sex and age\",\n\"https://ec.europa.eu/eurostat/estat-navtree-portlet-prod/BulkDownloadListing?sort=1&file=data%2Fhlth_dm030.tsv.gz\"],\n [{\n            'v': 59,\n            'f': \"59\",\n        },\n{\n            'v': 0.35985392332077026,\n            'f': \"0.35985392332077026\",\n        },\n{\n            'v': -9.334128379821777,\n            'f': \"-9.334128379821777\",\n        },\n\"Disabled people by sex, severity of disability and having a longstanding difficulty in activities of personal care\",\n\"Population and social conditions Health Disability Barriers to social integration of disabled people (source EHSIS) Disabled people by sex, severity of disability and having a longstanding difficulty in activities of personal care\",\n\"https://ec.europa.eu/eurostat/estat-navtree-portlet-prod/BulkDownloadListing?sort=1&file=data%2Fhlth_dsi070.tsv.gz\"],\n [{\n            'v': 3,\n            'f': \"3\",\n        },\n{\n            'v': 0.44450998306274414,\n            'f': \"0.44450998306274414\",\n        },\n{\n            'v': -9.402045249938965,\n            'f': \"-9.402045249938965\",\n        },\n\"People having a long-standing illness or health problem, by sex, age and groups of country of citizenship\",\n\"Population and social conditions Health Health status Self-reported chronic morbidity People having a long-standing illness or health problem, by sex, age and groups of country of citizenship\",\n\"https://ec.europa.eu/eurostat/estat-navtree-portlet-prod/BulkDownloadListing?sort=1&file=data%2Fhlth_silc_26.tsv.gz\"],\n [{\n            'v': 89,\n            'f': \"89\",\n        },\n{\n            'v': 0.3392731845378876,\n            'f': \"0.3392731845378876\",\n        },\n{\n            'v': -9.422371864318848,\n            'f': \"-9.422371864318848\",\n        },\n\"Disabled people by sex, severity of disability and having a longstanding difficulty in activities of household care\",\n\"Population and social conditions Health Disability Barriers to social integration of disabled people (source EHSIS) Disabled people by sex, severity of disability and having a longstanding difficulty in activities of household care\",\n\"https://ec.europa.eu/eurostat/estat-navtree-portlet-prod/BulkDownloadListing?sort=1&file=data%2Fhlth_dsi080.tsv.gz\"],\n [{\n            'v': 21,\n            'f': \"21\",\n        },\n{\n            'v': 0.41340458393096924,\n            'f': \"0.41340458393096924\",\n        },\n{\n            'v': -9.4549560546875,\n            'f': \"-9.4549560546875\",\n        },\n\"Share of persons who cannot afford a computer by level of activity limitation, sex and age\",\n\"Population and social conditions Health Disability Material deprivation among disabled people - EU-SILC survey Share of persons who cannot afford a computer by level of activity limitation, sex and age\",\n\"https://ec.europa.eu/eurostat/estat-navtree-portlet-prod/BulkDownloadListing?sort=1&file=data%2Fhlth_dm090.tsv.gz\"],\n [{\n            'v': 34,\n            'f': \"34\",\n        },\n{\n            'v': 0.3896815776824951,\n            'f': \"0.3896815776824951\",\n        },\n{\n            'v': -9.472267150878906,\n            'f': \"-9.472267150878906\",\n        },\n\"Share of persons who cannot afford a telephone by level of activity limitation, sex and age\",\n\"Population and social conditions Health Disability Material deprivation among disabled people - EU-SILC survey Share of persons who cannot afford a telephone by level of activity limitation, sex and age\",\n\"https://ec.europa.eu/eurostat/estat-navtree-portlet-prod/BulkDownloadListing?sort=1&file=data%2Fhlth_dm070.tsv.gz\"],\n [{\n            'v': 53,\n            'f': \"53\",\n        },\n{\n            'v': 0.36988386511802673,\n            'f': \"0.36988386511802673\",\n        },\n{\n            'v': -9.484272003173828,\n            'f': \"-9.484272003173828\",\n        },\n\"EU index of occupational diseases (2013=100) ? experimental statistics\",\n\"Population and social conditions Health Health and safety at work Occupational diseases (from 2013 onwards  source: EODS) EU index of occupational diseases (2013=100) ? experimental statistics\",\n\"https://ec.europa.eu/eurostat/estat-navtree-portlet-prod/BulkDownloadListing?sort=1&file=data%2Fhsw_occ_ina.tsv.gz\"],\n [{\n            'v': 62,\n            'f': \"62\",\n        },\n{\n            'v': 0.3581039309501648,\n            'f': \"0.3581039309501648\",\n        },\n{\n            'v': -9.484460830688477,\n            'f': \"-9.484460830688477\",\n        },\n\"Disabled people by sex, severity of disability and having a longstanding health problem\",\n\"Population and social conditions Health Disability Barriers to social integration of disabled people (source EHSIS) Disabled people by sex, severity of disability and having a longstanding health problem\",\n\"https://ec.europa.eu/eurostat/estat-navtree-portlet-prod/BulkDownloadListing?sort=1&file=data%2Fhlth_dsi050.tsv.gz\"],\n [{\n            'v': 4,\n            'f': \"4\",\n        },\n{\n            'v': 0.4430308938026428,\n            'f': \"0.4430308938026428\",\n        },\n{\n            'v': -9.503378868103027,\n            'f': \"-9.503378868103027\",\n        },\n\"Share of persons who cannot afford a washing machine by level of activity limitation, sex and age\",\n\"Population and social conditions Health Disability Material deprivation among disabled people - EU-SILC survey Share of persons who cannot afford a washing machine by level of activity limitation, sex and age\",\n\"https://ec.europa.eu/eurostat/estat-navtree-portlet-prod/BulkDownloadListing?sort=1&file=data%2Fhlth_dm100.tsv.gz\"],\n [{\n            'v': 40,\n            'f': \"40\",\n        },\n{\n            'v': 0.3872709274291992,\n            'f': \"0.3872709274291992\",\n        },\n{\n            'v': -9.515177726745605,\n            'f': \"-9.515177726745605\",\n        },\n\"Share of persons who cannot afford a colour TV by level of activity limitation, sex and age\",\n\"Population and social conditions Health Disability Material deprivation among disabled people - EU-SILC survey Share of persons who cannot afford a colour TV by level of activity limitation, sex and age\",\n\"https://ec.europa.eu/eurostat/estat-navtree-portlet-prod/BulkDownloadListing?sort=1&file=data%2Fhlth_dm080.tsv.gz\"],\n [{\n            'v': 17,\n            'f': \"17\",\n        },\n{\n            'v': 0.41639092564582825,\n            'f': \"0.41639092564582825\",\n        },\n{\n            'v': -9.543538093566895,\n            'f': \"-9.543538093566895\",\n        },\n\"Self-reported vaccination against influenza by sex, age and income quintile\",\n\"Population and social conditions Health Health care Preventive services Self-reported vaccination against influenza by sex, age and income quintile\",\n\"https://ec.europa.eu/eurostat/estat-navtree-portlet-prod/BulkDownloadListing?sort=1&file=data%2Fhlth_ehis_pa1i.tsv.gz\"],\n [{\n            'v': 28,\n            'f': \"28\",\n        },\n{\n            'v': 0.39862871170043945,\n            'f': \"0.39862871170043945\",\n        },\n{\n            'v': -9.546828269958496,\n            'f': \"-9.546828269958496\",\n        },\n\"People reporting a limitation in getting to and from work caused by longstanding health problems or difficulties in basic activities by cause, sex and age\",\n\"Population and social conditions Health Disability Access to labour market for disabled people (source LFS) People reporting a limitation in getting to and from work caused by longstanding health problems or difficulties in basic activities by cause, sex and age\",\n\"https://ec.europa.eu/eurostat/estat-navtree-portlet-prod/BulkDownloadListing?sort=1&file=data%2Fhlth_dlm170.tsv.gz\"],\n [{\n            'v': 85,\n            'f': \"85\",\n        },\n{\n            'v': 0.3420341908931732,\n            'f': \"0.3420341908931732\",\n        },\n{\n            'v': -9.554632186889648,\n            'f': \"-9.554632186889648\",\n        },\n\"Disabled people by sex, life area where a barrier is reported and having a longstanding difficulty in activities of personal care\",\n\"Population and social conditions Health Disability Barriers to social integration of disabled people (source EHSIS) Disabled people by sex, life area where a barrier is reported and having a longstanding difficulty in activities of personal care\",\n\"https://ec.europa.eu/eurostat/estat-navtree-portlet-prod/BulkDownloadListing?sort=1&file=data%2Fhlth_dsi150.tsv.gz\"],\n [{\n            'v': 6,\n            'f': \"6\",\n        },\n{\n            'v': 0.44054868817329407,\n            'f': \"0.44054868817329407\",\n        },\n{\n            'v': -9.56204891204834,\n            'f': \"-9.56204891204834\",\n        },\n\"People having a long-standing illness or health problem, by sex, age and groups of country of birth\",\n\"Population and social conditions Health Health status Self-reported chronic morbidity People having a long-standing illness or health problem, by sex, age and groups of country of birth\",\n\"https://ec.europa.eu/eurostat/estat-navtree-portlet-prod/BulkDownloadListing?sort=1&file=data%2Fhlth_silc_25.tsv.gz\"],\n [{\n            'v': 52,\n            'f': \"52\",\n        },\n{\n            'v': 0.3700551688671112,\n            'f': \"0.3700551688671112\",\n        },\n{\n            'v': -9.571791648864746,\n            'f': \"-9.571791648864746\",\n        },\n\"People having a longstanding health problem by level of activity limitation, sex and age\",\n\"Population and social conditions Health Disability Health problems of disabled people (sources SILC or EHIS) People having a longstanding health problem by level of activity limitation, sex and age\",\n\"https://ec.europa.eu/eurostat/estat-navtree-portlet-prod/BulkDownloadListing?sort=1&file=data%2Fhlth_dh020.tsv.gz\"],\n [{\n            'v': 7,\n            'f': \"7\",\n        },\n{\n            'v': 0.43703120946884155,\n            'f': \"0.43703120946884155\",\n        },\n{\n            'v': -9.574719429016113,\n            'f': \"-9.574719429016113\",\n        },\n\"Self-reported use of non-prescribed medicines by sex, age and country of birth\",\n\"Population and social conditions Health Health care Medicine use Self-reported use of non-prescribed medicines by sex, age and country of birth\",\n\"https://ec.europa.eu/eurostat/estat-navtree-portlet-prod/BulkDownloadListing?sort=1&file=data%2Fhlth_ehis_md2b.tsv.gz\"],\n [{\n            'v': 35,\n            'f': \"35\",\n        },\n{\n            'v': 0.38957250118255615,\n            'f': \"0.38957250118255615\",\n        },\n{\n            'v': -9.59887409210205,\n            'f': \"-9.59887409210205\",\n        },\n\"Inability to afford paying for one week annual holiday away from home by level of activity limitation, sex and age\",\n\"Population and social conditions Health Disability Material deprivation among disabled people - EU-SILC survey Inability to afford paying for one week annual holiday away from home by level of activity limitation, sex and age\",\n\"https://ec.europa.eu/eurostat/estat-navtree-portlet-prod/BulkDownloadListing?sort=1&file=data%2Fhlth_dm020.tsv.gz\"],\n [{\n            'v': 5,\n            'f': \"5\",\n        },\n{\n            'v': 0.4421039819717407,\n            'f': \"0.4421039819717407\",\n        },\n{\n            'v': -9.601041793823242,\n            'f': \"-9.601041793823242\",\n        },\n\"Self-reported vaccination against influenza by sex, age and degree of urbanisation\",\n\"Population and social conditions Health Health care Preventive services Self-reported vaccination against influenza by sex, age and degree of urbanisation\",\n\"https://ec.europa.eu/eurostat/estat-navtree-portlet-prod/BulkDownloadListing?sort=1&file=data%2Fhlth_ehis_pa1u.tsv.gz\"],\n [{\n            'v': 43,\n            'f': \"43\",\n        },\n{\n            'v': 0.3840436041355133,\n            'f': \"0.3840436041355133\",\n        },\n{\n            'v': -9.60271167755127,\n            'f': \"-9.60271167755127\",\n        },\n\"Self-reported use of prescribed medicines for specific diseases by sex, age and educational attainment level\",\n\"Population and social conditions Health Health care Medicine use Medicine use - historical data Self-reported use of prescribed medicines for specific diseases by sex, age and educational attainment level\",\n\"https://ec.europa.eu/eurostat/estat-navtree-portlet-prod/BulkDownloadListing?sort=1&file=data%2Fhlth_ehis_hc7.tsv.gz\"],\n [{\n            'v': 92,\n            'f': \"92\",\n        },\n{\n            'v': 0.3373517394065857,\n            'f': \"0.3373517394065857\",\n        },\n{\n            'v': -9.609601020812988,\n            'f': \"-9.609601020812988\",\n        },\n\"Disabled people by sex, life area where a barrier is reported and having a longstanding health problem\",\n\"Population and social conditions Health Disability Barriers to social integration of disabled people (source EHSIS) Disabled people by sex, life area where a barrier is reported and having a longstanding health problem\",\n\"https://ec.europa.eu/eurostat/estat-navtree-portlet-prod/BulkDownloadListing?sort=1&file=data%2Fhlth_dsi130.tsv.gz\"],\n [{\n            'v': 56,\n            'f': \"56\",\n        },\n{\n            'v': 0.36187684535980225,\n            'f': \"0.36187684535980225\",\n        },\n{\n            'v': -9.610651016235352,\n            'f': \"-9.610651016235352\",\n        },\n\"Employed people having a longstanding health problem or a difficulty in basic activities by the type of special assistance used, sex and age\",\n\"Population and social conditions Health Disability Access to labour market for disabled people (source LFS) Employed people having a longstanding health problem or a difficulty in basic activities by the type of special assistance used, sex and age\",\n\"https://ec.europa.eu/eurostat/estat-navtree-portlet-prod/BulkDownloadListing?sort=1&file=data%2Fhlth_dlm180.tsv.gz\"],\n [{\n            'v': 30,\n            'f': \"30\",\n        },\n{\n            'v': 0.3966051936149597,\n            'f': \"0.3966051936149597\",\n        },\n{\n            'v': -9.612136840820312,\n            'f': \"-9.612136840820312\",\n        },\n\"Share of persons who cannot afford a personal car by level of activity limitation, sex and age\",\n\"Population and social conditions Health Disability Material deprivation among disabled people - EU-SILC survey Share of persons who cannot afford a personal car by level of activity limitation, sex and age\",\n\"https://ec.europa.eu/eurostat/estat-navtree-portlet-prod/BulkDownloadListing?sort=1&file=data%2Fhlth_dm110.tsv.gz\"],\n [{\n            'v': 61,\n            'f': \"61\",\n        },\n{\n            'v': 0.35895565152168274,\n            'f': \"0.35895565152168274\",\n        },\n{\n            'v': -9.627655029296875,\n            'f': \"-9.627655029296875\",\n        },\n\"Not employed people having a longstanding health problem or a difficulty in basic activities by the type of special assistance needed, sex and age\",\n\"Population and social conditions Health Disability Access to labour market for disabled people (source LFS) Not employed people having a longstanding health problem or a difficulty in basic activities by the type of special assistance needed, sex and age\",\n\"https://ec.europa.eu/eurostat/estat-navtree-portlet-prod/BulkDownloadListing?sort=1&file=data%2Fhlth_dlm190.tsv.gz\"],\n [{\n            'v': 25,\n            'f': \"25\",\n        },\n{\n            'v': 0.40414637327194214,\n            'f': \"0.40414637327194214\",\n        },\n{\n            'v': -9.689657211303711,\n            'f': \"-9.689657211303711\",\n        },\n\"People reporting a limitation in the amount of work caused by longstanding health problems or difficulties in basic activities by cause, sex and age\",\n\"Population and social conditions Health Disability Access to labour market for disabled people (source LFS) People reporting a limitation in the amount of work caused by longstanding health problems or difficulties in basic activities by cause, sex and age\",\n\"https://ec.europa.eu/eurostat/estat-navtree-portlet-prod/BulkDownloadListing?sort=1&file=data%2Fhlth_dlm150.tsv.gz\"],\n [{\n            'v': 26,\n            'f': \"26\",\n        },\n{\n            'v': 0.40318262577056885,\n            'f': \"0.40318262577056885\",\n        },\n{\n            'v': -9.690868377685547,\n            'f': \"-9.690868377685547\",\n        },\n\"People reporting a limitation in the type of work caused by longstanding health problems or difficulties in basic activities by cause, sex and age\",\n\"Population and social conditions Health Disability Access to labour market for disabled people (source LFS) People reporting a limitation in the type of work caused by longstanding health problems or difficulties in basic activities by cause, sex and age\",\n\"https://ec.europa.eu/eurostat/estat-navtree-portlet-prod/BulkDownloadListing?sort=1&file=data%2Fhlth_dlm160.tsv.gz\"],\n [{\n            'v': 22,\n            'f': \"22\",\n        },\n{\n            'v': 0.4124927818775177,\n            'f': \"0.4124927818775177\",\n        },\n{\n            'v': -9.691886901855469,\n            'f': \"-9.691886901855469\",\n        },\n\"People having a long-standing illness or health problem, by sex, age and educational attainment level\",\n\"Population and social conditions Health Health status Self-reported chronic morbidity People having a long-standing illness or health problem, by sex, age and educational attainment level\",\n\"https://ec.europa.eu/eurostat/estat-navtree-portlet-prod/BulkDownloadListing?sort=1&file=data%2Fhlth_silc_05.tsv.gz\"],\n [{\n            'v': 47,\n            'f': \"47\",\n        },\n{\n            'v': 0.37690484523773193,\n            'f': \"0.37690484523773193\",\n        },\n{\n            'v': -9.70103645324707,\n            'f': \"-9.70103645324707\",\n        },\n\"Ability to make ends meet by level of activity limitation, sex and age\",\n\"Population and social conditions Health Disability Material deprivation among disabled people - EU-SILC survey Ability to make ends meet by level of activity limitation, sex and age\",\n\"https://ec.europa.eu/eurostat/estat-navtree-portlet-prod/BulkDownloadListing?sort=1&file=data%2Fhlth_dm060.tsv.gz\"],\n [{\n            'v': 48,\n            'f': \"48\",\n        },\n{\n            'v': 0.3755806088447571,\n            'f': \"0.3755806088447571\",\n        },\n{\n            'v': -9.708155632019043,\n            'f': \"-9.708155632019043\",\n        },\n\"Vaccination against influenza of population aged 65 and over\",\n\"Population and social conditions Health Health care Preventive services Vaccination against influenza of population aged 65 and over\",\n\"https://ec.europa.eu/eurostat/estat-navtree-portlet-prod/BulkDownloadListing?sort=1&file=data%2Fhlth_ps_immu.tsv.gz\"],\n [{\n            'v': 49,\n            'f': \"49\",\n        },\n{\n            'v': 0.373460590839386,\n            'f': \"0.373460590839386\",\n        },\n{\n            'v': -9.732940673828125,\n            'f': \"-9.732940673828125\",\n        },\n\"Self-reported unmet needs for medical examination by level of activity limitation, sex and age\",\n\"Population and social conditions Health Disability Health problems of disabled people (sources SILC or EHIS) Self-reported unmet needs for medical examination by level of activity limitation, sex and age\",\n\"https://ec.europa.eu/eurostat/estat-navtree-portlet-prod/BulkDownloadListing?sort=1&file=data%2Fhlth_dh030.tsv.gz\"],\n [{\n            'v': 46,\n            'f': \"46\",\n        },\n{\n            'v': 0.37760257720947266,\n            'f': \"0.37760257720947266\",\n        },\n{\n            'v': -9.741018295288086,\n            'f': \"-9.741018295288086\",\n        },\n\"Disabled people by sex, need for assistance and having a longstanding difficulty in activities of personal care\",\n\"Population and social conditions Health Disability Prevalence of disability (source EHSIS) Disabled people by sex, need for assistance and having a longstanding difficulty in activities of personal care\",\n\"https://ec.europa.eu/eurostat/estat-navtree-portlet-prod/BulkDownloadListing?sort=1&file=data%2Fhlth_dpeh190.tsv.gz\"],\n [{\n            'v': 70,\n            'f': \"70\",\n        },\n{\n            'v': 0.35414355993270874,\n            'f': \"0.35414355993270874\",\n        },\n{\n            'v': -9.742194175720215,\n            'f': \"-9.742194175720215\",\n        },\n\"Self-perceived long-standing limitations in usual activities due to health problem by sex, age and groups of country of birth\",\n\"Population and social conditions Health Health status Functional and activity limitations Self-perceived long-standing limitations in usual activities due to health problem by sex, age and groups of country of birth\",\n\"https://ec.europa.eu/eurostat/estat-navtree-portlet-prod/BulkDownloadListing?sort=1&file=data%2Fhlth_silc_27.tsv.gz\"],\n [{\n            'v': 19,\n            'f': \"19\",\n        },\n{\n            'v': 0.41564124822616577,\n            'f': \"0.41564124822616577\",\n        },\n{\n            'v': -9.750142097473145,\n            'f': \"-9.750142097473145\",\n        },\n\"Self-reported vaccination against influenza by sex, age and educational attainment level\",\n\"Population and social conditions Health Health care Preventive services Self-reported vaccination against influenza by sex, age and educational attainment level\",\n\"https://ec.europa.eu/eurostat/estat-navtree-portlet-prod/BulkDownloadListing?sort=1&file=data%2Fhlth_ehis_pa1e.tsv.gz\"],\n [{\n            'v': 15,\n            'f': \"15\",\n        },\n{\n            'v': 0.41930997371673584,\n            'f': \"0.41930997371673584\",\n        },\n{\n            'v': -9.75733470916748,\n            'f': \"-9.75733470916748\",\n        },\n\"People having a long-standing illness or health problem, by sex, age and income quintile\",\n\"Population and social conditions Health Health status Self-reported chronic morbidity People having a long-standing illness or health problem, by sex, age and income quintile\",\n\"https://ec.europa.eu/eurostat/estat-navtree-portlet-prod/BulkDownloadListing?sort=1&file=data%2Fhlth_silc_11.tsv.gz\"],\n [{\n            'v': 91,\n            'f': \"91\",\n        },\n{\n            'v': 0.33751559257507324,\n            'f': \"0.33751559257507324\",\n        },\n{\n            'v': -9.78607177734375,\n            'f': \"-9.78607177734375\",\n        },\n\"Disabled people by sex, age and life area where a barrier is reported\",\n\"Population and social conditions Health Disability Barriers to social integration of disabled people (source EHSIS) Disabled people by sex, age and life area where a barrier is reported\",\n\"https://ec.europa.eu/eurostat/estat-navtree-portlet-prod/BulkDownloadListing?sort=1&file=data%2Fhlth_dsi090.tsv.gz\"],\n [{\n            'v': 79,\n            'f': \"79\",\n        },\n{\n            'v': 0.3473150134086609,\n            'f': \"0.3473150134086609\",\n        },\n{\n            'v': -9.79138469696045,\n            'f': \"-9.79138469696045\",\n        },\n\"Disabled people by sex, age and severity of disability\",\n\"Population and social conditions Health Disability Barriers to social integration of disabled people (source EHSIS) Disabled people by sex, age and severity of disability\",\n\"https://ec.europa.eu/eurostat/estat-navtree-portlet-prod/BulkDownloadListing?sort=1&file=data%2Fhlth_dsi010.tsv.gz\"],\n [{\n            'v': 50,\n            'f': \"50\",\n        },\n{\n            'v': 0.37115806341171265,\n            'f': \"0.37115806341171265\",\n        },\n{\n            'v': -9.793598175048828,\n            'f': \"-9.793598175048828\",\n        },\n\"Self-perceived health by level of activity limitation, sex and age\",\n\"Population and social conditions Health Disability Health problems of disabled people (sources SILC or EHIS) Self-perceived health by level of activity limitation, sex and age\",\n\"https://ec.europa.eu/eurostat/estat-navtree-portlet-prod/BulkDownloadListing?sort=1&file=data%2Fhlth_dh010.tsv.gz\"],\n [{\n            'v': 14,\n            'f': \"14\",\n        },\n{\n            'v': 0.4208557903766632,\n            'f': \"0.4208557903766632\",\n        },\n{\n            'v': -9.802032470703125,\n            'f': \"-9.802032470703125\",\n        },\n\"People having a long-standing illness or health problem, by sex, age and labour status\",\n\"Population and social conditions Health Health status Self-reported chronic morbidity People having a long-standing illness or health problem, by sex, age and labour status\",\n\"https://ec.europa.eu/eurostat/estat-navtree-portlet-prod/BulkDownloadListing?sort=1&file=data%2Fhlth_silc_04.tsv.gz\"],\n [{\n            'v': 38,\n            'f': \"38\",\n        },\n{\n            'v': 0.38844189047813416,\n            'f': \"0.38844189047813416\",\n        },\n{\n            'v': -9.807445526123047,\n            'f': \"-9.807445526123047\",\n        },\n\"Severe material deprivation by level of activity limitation, sex and age\",\n\"Population and social conditions Health Disability Material deprivation among disabled people - EU-SILC survey Severe material deprivation by level of activity limitation, sex and age\",\n\"https://ec.europa.eu/eurostat/estat-navtree-portlet-prod/BulkDownloadListing?sort=1&file=data%2Fhlth_dm010.tsv.gz\"],\n [{\n            'v': 37,\n            'f': \"37\",\n        },\n{\n            'v': 0.3885343074798584,\n            'f': \"0.3885343074798584\",\n        },\n{\n            'v': -9.807806015014648,\n            'f': \"-9.807806015014648\",\n        },\n\"Disabled people by sex, need for assistance and having a longstanding health problem\",\n\"Population and social conditions Health Disability Prevalence of disability (source EHSIS) Disabled people by sex, need for assistance and having a longstanding health problem\",\n\"https://ec.europa.eu/eurostat/estat-navtree-portlet-prod/BulkDownloadListing?sort=1&file=data%2Fhlth_dpeh170.tsv.gz\"],\n [{\n            'v': 67,\n            'f': \"67\",\n        },\n{\n            'v': 0.3565308451652527,\n            'f': \"0.3565308451652527\",\n        },\n{\n            'v': -9.812055587768555,\n            'f': \"-9.812055587768555\",\n        },\n\"Disabled people by sex, need for assistance and having a longstanding difficulty in basic activities\",\n\"Population and social conditions Health Disability Prevalence of disability (source EHSIS) Disabled people by sex, need for assistance and having a longstanding difficulty in basic activities\",\n\"https://ec.europa.eu/eurostat/estat-navtree-portlet-prod/BulkDownloadListing?sort=1&file=data%2Fhlth_dpeh180.tsv.gz\"],\n [{\n            'v': 65,\n            'f': \"65\",\n        },\n{\n            'v': 0.3576669991016388,\n            'f': \"0.3576669991016388\",\n        },\n{\n            'v': -9.818315505981445,\n            'f': \"-9.818315505981445\",\n        },\n\"People reporting a limitation in work by the reason for limitation in work, sex and age\",\n\"Population and social conditions Health Disability Access to labour market for disabled people (source LFS) People reporting a limitation in work by the reason for limitation in work, sex and age\",\n\"https://ec.europa.eu/eurostat/estat-navtree-portlet-prod/BulkDownloadListing?sort=1&file=data%2Fhlth_dlm140.tsv.gz\"],\n [{\n            'v': 93,\n            'f': \"93\",\n        },\n{\n            'v': 0.336087167263031,\n            'f': \"0.336087167263031\",\n        },\n{\n            'v': -9.840505599975586,\n            'f': \"-9.840505599975586\",\n        },\n\"Disabled people by sex, severity of disability and household type\",\n\"Population and social conditions Health Disability Barriers to social integration of disabled people (source EHSIS) Disabled people by sex, severity of disability and household type\",\n\"https://ec.europa.eu/eurostat/estat-navtree-portlet-prod/BulkDownloadListing?sort=1&file=data%2Fhlth_dsi040.tsv.gz\"],\n [{\n            'v': 10,\n            'f': \"10\",\n        },\n{\n            'v': 0.43203291296958923,\n            'f': \"0.43203291296958923\",\n        },\n{\n            'v': -9.843605995178223,\n            'f': \"-9.843605995178223\",\n        },\n\"Self-reported use of non-prescribed medicines by sex, age and educational attainment level\",\n\"Population and social conditions Health Health care Medicine use Self-reported use of non-prescribed medicines by sex, age and educational attainment level\",\n\"https://ec.europa.eu/eurostat/estat-navtree-portlet-prod/BulkDownloadListing?sort=1&file=data%2Fhlth_ehis_md2e.tsv.gz\"],\n [{\n            'v': 69,\n            'f': \"69\",\n        },\n{\n            'v': 0.3550194799900055,\n            'f': \"0.3550194799900055\",\n        },\n{\n            'v': -9.850248336791992,\n            'f': \"-9.850248336791992\",\n        },\n\"Disabled people by sex, need for assistance and having a longstanding difficulty in activities of household care\",\n\"Population and social conditions Health Disability Prevalence of disability (source EHSIS) Disabled people by sex, need for assistance and having a longstanding difficulty in activities of household care\",\n\"https://ec.europa.eu/eurostat/estat-navtree-portlet-prod/BulkDownloadListing?sort=1&file=data%2Fhlth_dpeh200.tsv.gz\"],\n [{\n            'v': 1,\n            'f': \"1\",\n        },\n{\n            'v': 0.4504871368408203,\n            'f': \"0.4504871368408203\",\n        },\n{\n            'v': -9.859198570251465,\n            'f': \"-9.859198570251465\",\n        },\n\"Self-reported use of non-prescribed medicines by sex, age and degree of urbanisation\",\n\"Population and social conditions Health Health care Medicine use Self-reported use of non-prescribed medicines by sex, age and degree of urbanisation\",\n\"https://ec.europa.eu/eurostat/estat-navtree-portlet-prod/BulkDownloadListing?sort=1&file=data%2Fhlth_ehis_md2u.tsv.gz\"],\n [{\n            'v': 32,\n            'f': \"32\",\n        },\n{\n            'v': 0.3947138786315918,\n            'f': \"0.3947138786315918\",\n        },\n{\n            'v': -9.884289741516113,\n            'f': \"-9.884289741516113\",\n        },\n\"Inability to face unexpected financial expenses by level of activity limitation, sex and age\",\n\"Population and social conditions Health Disability Material deprivation among disabled people - EU-SILC survey Inability to face unexpected financial expenses by level of activity limitation, sex and age\",\n\"https://ec.europa.eu/eurostat/estat-navtree-portlet-prod/BulkDownloadListing?sort=1&file=data%2Fhlth_dm040.tsv.gz\"],\n [{\n            'v': 12,\n            'f': \"12\",\n        },\n{\n            'v': 0.4217756986618042,\n            'f': \"0.4217756986618042\",\n        },\n{\n            'v': -9.939543724060059,\n            'f': \"-9.939543724060059\",\n        },\n\"Self-reported vaccination against influenza by sex, age and educational attainment level (%)\",\n\"Population and social conditions Health Health care Preventive services Preventive services - historical data Self-reported vaccination against influenza by sex, age and educational attainment level (%)\",\n\"https://ec.europa.eu/eurostat/estat-navtree-portlet-prod/BulkDownloadListing?sort=1&file=data%2Fhlth_ehis_hc1.tsv.gz\"],\n [{\n            'v': 58,\n            'f': \"58\",\n        },\n{\n            'v': 0.36003953218460083,\n            'f': \"0.36003953218460083\",\n        },\n{\n            'v': -9.949471473693848,\n            'f': \"-9.949471473693848\",\n        },\n\"Arrears (mortgage or rent, utility bills or hire purchase) by level of activity limitation, sex and age\",\n\"Population and social conditions Health Disability Material deprivation among disabled people - EU-SILC survey Arrears (mortgage or rent, utility bills or hire purchase) by level of activity limitation, sex and age\",\n\"https://ec.europa.eu/eurostat/estat-navtree-portlet-prod/BulkDownloadListing?sort=1&file=data%2Fhlth_dm050.tsv.gz\"],\n [{\n            'v': 88,\n            'f': \"88\",\n        },\n{\n            'v': 0.33934926986694336,\n            'f': \"0.33934926986694336\",\n        },\n{\n            'v': -9.95911693572998,\n            'f': \"-9.95911693572998\",\n        },\n\"People at risk of poverty or social exclusion by level of activity limitation, sex and age\",\n\"Population and social conditions Health Disability Income distribution and poverty among disabled people - EU-SILC survey People at risk of poverty or social exclusion by level of activity limitation, sex and age\",\n\"https://ec.europa.eu/eurostat/estat-navtree-portlet-prod/BulkDownloadListing?sort=1&file=data%2Fhlth_dpe010.tsv.gz\"],\n [{\n            'v': 77,\n            'f': \"77\",\n        },\n{\n            'v': 0.347623348236084,\n            'f': \"0.347623348236084\",\n        },\n{\n            'v': -9.963997840881348,\n            'f': \"-9.963997840881348\",\n        },\n\"Self-perceived long-standing limitations in usual activities due to health problem by sex, age and groups of country of citizenship\",\n\"Population and social conditions Health Health status Functional and activity limitations Self-perceived long-standing limitations in usual activities due to health problem by sex, age and groups of country of citizenship\",\n\"https://ec.europa.eu/eurostat/estat-navtree-portlet-prod/BulkDownloadListing?sort=1&file=data%2Fhlth_silc_28.tsv.gz\"],\n [{\n            'v': 57,\n            'f': \"57\",\n        },\n{\n            'v': 0.36111414432525635,\n            'f': \"0.36111414432525635\",\n        },\n{\n            'v': -9.992399215698242,\n            'f': \"-9.992399215698242\",\n        },\n\"Body mass index (BMI) by level of activity limitation, sex and age\",\n\"Population and social conditions Health Disability Health problems of disabled people (sources SILC or EHIS) Body mass index (BMI) by level of activity limitation, sex and age\",\n\"https://ec.europa.eu/eurostat/estat-navtree-portlet-prod/BulkDownloadListing?sort=1&file=data%2Fhlth_dh050.tsv.gz\"],\n [{\n            'v': 2,\n            'f': \"2\",\n        },\n{\n            'v': 0.4502629041671753,\n            'f': \"0.4502629041671753\",\n        },\n{\n            'v': -10.06727123260498,\n            'f': \"-10.06727123260498\",\n        },\n\"Self-reported use of non-prescribed medicines by sex, age and country of citizenship\",\n\"Population and social conditions Health Health care Medicine use Self-reported use of non-prescribed medicines by sex, age and country of citizenship\",\n\"https://ec.europa.eu/eurostat/estat-navtree-portlet-prod/BulkDownloadListing?sort=1&file=data%2Fhlth_ehis_md2c.tsv.gz\"],\n [{\n            'v': 45,\n            'f': \"45\",\n        },\n{\n            'v': 0.38054779171943665,\n            'f': \"0.38054779171943665\",\n        },\n{\n            'v': -10.078479766845703,\n            'f': \"-10.078479766845703\",\n        },\n\"Breast cancer and cervical cancer screenings\",\n\"Population and social conditions Health Health care Preventive services Breast cancer and cervical cancer screenings\",\n\"https://ec.europa.eu/eurostat/estat-navtree-portlet-prod/BulkDownloadListing?sort=1&file=data%2Fhlth_ps_scre.tsv.gz\"]],\n        columns: [[\"number\", \"index\"], [\"number\", \"score\"], [\"number\", \"cross_scores\"], [\"string\", \"File description\"], [\"string\", \"Full path\"], [\"string\", \"Link\"]],\n        columnOptions: [{\"width\": \"1px\", \"className\": \"index_column\"}],\n        rowsPerPage: 5,\n        helpUrl: \"https://colab.research.google.com/notebooks/data_table.ipynb\",\n        suppressOutputScrolling: true,\n        minimumWidth: undefined,\n      });\n    ",
            "text/plain": [
              "<google.colab.data_table.DataTable object>"
            ]
          },
          "metadata": {}
        },
        {
          "output_type": "stream",
          "name": "stderr",
          "text": [
            "/usr/local/lib/python3.7/dist-packages/sklearn/utils/deprecation.py:87: FutureWarning: Function get_feature_names is deprecated; get_feature_names is deprecated in 1.0 and will be removed in 1.2. Please use get_feature_names_out instead.\n",
            "  warnings.warn(msg, category=FutureWarning)\n"
          ]
        },
        {
          "name": "stdout",
          "output_type": "stream",
          "text": [
            "bot: Would you be interested in seeing results by level? (yes/no/add some keywords, q to quit) \n",
            "me:  no\n"
          ]
        },
        {
          "output_type": "display_data",
          "data": {
            "text/html": [
              "<div>\n",
              "<style scoped>\n",
              "    .dataframe tbody tr th:only-of-type {\n",
              "        vertical-align: middle;\n",
              "    }\n",
              "\n",
              "    .dataframe tbody tr th {\n",
              "        vertical-align: top;\n",
              "    }\n",
              "\n",
              "    .dataframe thead th {\n",
              "        text-align: right;\n",
              "    }\n",
              "</style>\n",
              "<table border=\"1\" class=\"dataframe\">\n",
              "  <thead>\n",
              "    <tr style=\"text-align: right;\">\n",
              "      <th></th>\n",
              "      <th>score</th>\n",
              "      <th>cross_scores</th>\n",
              "      <th>File description</th>\n",
              "      <th>Full path</th>\n",
              "      <th>Link</th>\n",
              "    </tr>\n",
              "  </thead>\n",
              "  <tbody>\n",
              "    <tr>\n",
              "      <th>0</th>\n",
              "      <td>0.456813</td>\n",
              "      <td>-8.563866</td>\n",
              "      <td>Self-reported screening of cardiovascular dise...</td>\n",
              "      <td>Population and social conditions Health Health...</td>\n",
              "      <td>https://ec.europa.eu/eurostat/estat-navtree-po...</td>\n",
              "    </tr>\n",
              "    <tr>\n",
              "      <th>8</th>\n",
              "      <td>0.436877</td>\n",
              "      <td>-8.564386</td>\n",
              "      <td>Self-reported screening of cardiovascular dise...</td>\n",
              "      <td>Population and social conditions Health Health...</td>\n",
              "      <td>https://ec.europa.eu/eurostat/estat-navtree-po...</td>\n",
              "    </tr>\n",
              "    <tr>\n",
              "      <th>9</th>\n",
              "      <td>0.433801</td>\n",
              "      <td>-8.613359</td>\n",
              "      <td>Self-reported screening of cardiovascular dise...</td>\n",
              "      <td>Population and social conditions Health Health...</td>\n",
              "      <td>https://ec.europa.eu/eurostat/estat-navtree-po...</td>\n",
              "    </tr>\n",
              "    <tr>\n",
              "      <th>13</th>\n",
              "      <td>0.421168</td>\n",
              "      <td>-8.718422</td>\n",
              "      <td>Persons reporting a chronic disease, by diseas...</td>\n",
              "      <td>Population and social conditions Health Health...</td>\n",
              "      <td>https://ec.europa.eu/eurostat/estat-navtree-po...</td>\n",
              "    </tr>\n",
              "    <tr>\n",
              "      <th>11</th>\n",
              "      <td>0.425595</td>\n",
              "      <td>-8.757074</td>\n",
              "      <td>Persons reporting a chronic disease, by diseas...</td>\n",
              "      <td>Population and social conditions Health Health...</td>\n",
              "      <td>https://ec.europa.eu/eurostat/estat-navtree-po...</td>\n",
              "    </tr>\n",
              "    <tr>\n",
              "      <th>...</th>\n",
              "      <td>...</td>\n",
              "      <td>...</td>\n",
              "      <td>...</td>\n",
              "      <td>...</td>\n",
              "      <td>...</td>\n",
              "    </tr>\n",
              "    <tr>\n",
              "      <th>88</th>\n",
              "      <td>0.339349</td>\n",
              "      <td>-9.959117</td>\n",
              "      <td>People at risk of poverty or social exclusion ...</td>\n",
              "      <td>Population and social conditions Health Disabi...</td>\n",
              "      <td>https://ec.europa.eu/eurostat/estat-navtree-po...</td>\n",
              "    </tr>\n",
              "    <tr>\n",
              "      <th>77</th>\n",
              "      <td>0.347623</td>\n",
              "      <td>-9.963998</td>\n",
              "      <td>Self-perceived long-standing limitations in us...</td>\n",
              "      <td>Population and social conditions Health Health...</td>\n",
              "      <td>https://ec.europa.eu/eurostat/estat-navtree-po...</td>\n",
              "    </tr>\n",
              "    <tr>\n",
              "      <th>57</th>\n",
              "      <td>0.361114</td>\n",
              "      <td>-9.992399</td>\n",
              "      <td>Body mass index (BMI) by level of activity lim...</td>\n",
              "      <td>Population and social conditions Health Disabi...</td>\n",
              "      <td>https://ec.europa.eu/eurostat/estat-navtree-po...</td>\n",
              "    </tr>\n",
              "    <tr>\n",
              "      <th>2</th>\n",
              "      <td>0.450263</td>\n",
              "      <td>-10.067271</td>\n",
              "      <td>Self-reported use of non-prescribed medicines ...</td>\n",
              "      <td>Population and social conditions Health Health...</td>\n",
              "      <td>https://ec.europa.eu/eurostat/estat-navtree-po...</td>\n",
              "    </tr>\n",
              "    <tr>\n",
              "      <th>45</th>\n",
              "      <td>0.380548</td>\n",
              "      <td>-10.078480</td>\n",
              "      <td>Breast cancer and cervical cancer screenings</td>\n",
              "      <td>Population and social conditions Health Health...</td>\n",
              "      <td>https://ec.europa.eu/eurostat/estat-navtree-po...</td>\n",
              "    </tr>\n",
              "  </tbody>\n",
              "</table>\n",
              "<p>63 rows × 5 columns</p>\n",
              "</div>"
            ],
            "application/vnd.google.colaboratory.module+javascript": "\n      import \"https://ssl.gstatic.com/colaboratory/data_table/f872b2c2305463fd/data_table.js\";\n\n      window.createDataTable({\n        data: [[{\n            'v': 0,\n            'f': \"0\",\n        },\n{\n            'v': 0.45681267976760864,\n            'f': \"0.45681267976760864\",\n        },\n{\n            'v': -8.563865661621094,\n            'f': \"-8.563865661621094\",\n        },\n\"Self-reported screening of cardiovascular diseases and diabetes risks by sex, age and degree of urbanisation\",\n\"Population and social conditions Health Health care Preventive services Self-reported screening of cardiovascular diseases and diabetes risks by sex, age and degree of urbanisation\",\n\"https://ec.europa.eu/eurostat/estat-navtree-portlet-prod/BulkDownloadListing?sort=1&file=data%2Fhlth_ehis_pa2u.tsv.gz\"],\n [{\n            'v': 8,\n            'f': \"8\",\n        },\n{\n            'v': 0.4368773102760315,\n            'f': \"0.4368773102760315\",\n        },\n{\n            'v': -8.564386367797852,\n            'f': \"-8.564386367797852\",\n        },\n\"Self-reported screening of cardiovascular diseases and diabetes risks by sex, age and income quintile\",\n\"Population and social conditions Health Health care Preventive services Self-reported screening of cardiovascular diseases and diabetes risks by sex, age and income quintile\",\n\"https://ec.europa.eu/eurostat/estat-navtree-portlet-prod/BulkDownloadListing?sort=1&file=data%2Fhlth_ehis_pa2i.tsv.gz\"],\n [{\n            'v': 9,\n            'f': \"9\",\n        },\n{\n            'v': 0.4338005483150482,\n            'f': \"0.4338005483150482\",\n        },\n{\n            'v': -8.613359451293945,\n            'f': \"-8.613359451293945\",\n        },\n\"Self-reported screening of cardiovascular diseases and diabetes risks by sex, age and educational attainment level\",\n\"Population and social conditions Health Health care Preventive services Self-reported screening of cardiovascular diseases and diabetes risks by sex, age and educational attainment level\",\n\"https://ec.europa.eu/eurostat/estat-navtree-portlet-prod/BulkDownloadListing?sort=1&file=data%2Fhlth_ehis_pa2e.tsv.gz\"],\n [{\n            'v': 13,\n            'f': \"13\",\n        },\n{\n            'v': 0.4211675226688385,\n            'f': \"0.4211675226688385\",\n        },\n{\n            'v': -8.718421936035156,\n            'f': \"-8.718421936035156\",\n        },\n\"Persons reporting a chronic disease, by disease, sex, age and level of activity limitation\",\n\"Population and social conditions Health Health status Self-reported chronic morbidity Persons reporting a chronic disease, by disease, sex, age and level of activity limitation\",\n\"https://ec.europa.eu/eurostat/estat-navtree-portlet-prod/BulkDownloadListing?sort=1&file=data%2Fhlth_ehis_cd1d.tsv.gz\"],\n [{\n            'v': 11,\n            'f': \"11\",\n        },\n{\n            'v': 0.42559486627578735,\n            'f': \"0.42559486627578735\",\n        },\n{\n            'v': -8.757074356079102,\n            'f': \"-8.757074356079102\",\n        },\n\"Persons reporting a chronic disease, by disease, sex, age and broad group of citizenship\",\n\"Population and social conditions Health Health status Self-reported chronic morbidity Persons reporting a chronic disease, by disease, sex, age and broad group of citizenship\",\n\"https://ec.europa.eu/eurostat/estat-navtree-portlet-prod/BulkDownloadListing?sort=1&file=data%2Fhlth_ehis_cd1c.tsv.gz\"],\n [{\n            'v': 31,\n            'f': \"31\",\n        },\n{\n            'v': 0.39613187313079834,\n            'f': \"0.39613187313079834\",\n        },\n{\n            'v': -9.110416412353516,\n            'f': \"-9.110416412353516\",\n        },\n\"Persons reporting a chronic disease, by disease, sex, age and educational attainment level\",\n\"Population and social conditions Health Health status Self-reported chronic morbidity Persons reporting a chronic disease, by disease, sex, age and educational attainment level\",\n\"https://ec.europa.eu/eurostat/estat-navtree-portlet-prod/BulkDownloadListing?sort=1&file=data%2Fhlth_ehis_cd1e.tsv.gz\"],\n [{\n            'v': 16,\n            'f': \"16\",\n        },\n{\n            'v': 0.4178217649459839,\n            'f': \"0.4178217649459839\",\n        },\n{\n            'v': -9.180136680603027,\n            'f': \"-9.180136680603027\",\n        },\n\"Persons reporting a chronic disease, by disease, sex, age and degree of urbanisation\",\n\"Population and social conditions Health Health status Self-reported chronic morbidity Persons reporting a chronic disease, by disease, sex, age and degree of urbanisation\",\n\"https://ec.europa.eu/eurostat/estat-navtree-portlet-prod/BulkDownloadListing?sort=1&file=data%2Fhlth_ehis_cd1u.tsv.gz\"],\n [{\n            'v': 24,\n            'f': \"24\",\n        },\n{\n            'v': 0.40489625930786133,\n            'f': \"0.40489625930786133\",\n        },\n{\n            'v': -9.1945161819458,\n            'f': \"-9.1945161819458\",\n        },\n\"Persons reporting a chronic disease, by disease, sex, age and income quintile\",\n\"Population and social conditions Health Health status Self-reported chronic morbidity Persons reporting a chronic disease, by disease, sex, age and income quintile\",\n\"https://ec.europa.eu/eurostat/estat-navtree-portlet-prod/BulkDownloadListing?sort=1&file=data%2Fhlth_ehis_cd1i.tsv.gz\"],\n [{\n            'v': 73,\n            'f': \"73\",\n        },\n{\n            'v': 0.3517647385597229,\n            'f': \"0.3517647385597229\",\n        },\n{\n            'v': -9.222434997558594,\n            'f': \"-9.222434997558594\",\n        },\n\"People reporting a chronic disease, by disease, sex, age and educational attainment level (%)\",\n\"Population and social conditions Health Health status Health status - historical data (2008) People reporting a chronic disease, by disease, sex, age and educational attainment level (%)\",\n\"https://ec.europa.eu/eurostat/estat-navtree-portlet-prod/BulkDownloadListing?sort=1&file=data%2Fhlth_ehis_st1.tsv.gz\"],\n [{\n            'v': 20,\n            'f': \"20\",\n        },\n{\n            'v': 0.4138421416282654,\n            'f': \"0.4138421416282654\",\n        },\n{\n            'v': -9.289812088012695,\n            'f': \"-9.289812088012695\",\n        },\n\"Persons reporting a chronic disease, by disease, sex, age and contry of birth\",\n\"Population and social conditions Health Health status Self-reported chronic morbidity Persons reporting a chronic disease, by disease, sex, age and contry of birth\",\n\"https://ec.europa.eu/eurostat/estat-navtree-portlet-prod/BulkDownloadListing?sort=1&file=data%2Fhlth_ehis_cd1b.tsv.gz\"],\n [{\n            'v': 36,\n            'f': \"36\",\n        },\n{\n            'v': 0.38948553800582886,\n            'f': \"0.38948553800582886\",\n        },\n{\n            'v': -9.305326461791992,\n            'f': \"-9.305326461791992\",\n        },\n\"Inability to afford a meal with meat, chicken, fish (or vegetarian equivalent) every second day by level of activity limitation, sex and age\",\n\"Population and social conditions Health Disability Material deprivation among disabled people - EU-SILC survey Inability to afford a meal with meat, chicken, fish (or vegetarian equivalent) every second day by level of activity limitation, sex and age\",\n\"https://ec.europa.eu/eurostat/estat-navtree-portlet-prod/BulkDownloadListing?sort=1&file=data%2Fhlth_dm030.tsv.gz\"],\n [{\n            'v': 59,\n            'f': \"59\",\n        },\n{\n            'v': 0.35985392332077026,\n            'f': \"0.35985392332077026\",\n        },\n{\n            'v': -9.334128379821777,\n            'f': \"-9.334128379821777\",\n        },\n\"Disabled people by sex, severity of disability and having a longstanding difficulty in activities of personal care\",\n\"Population and social conditions Health Disability Barriers to social integration of disabled people (source EHSIS) Disabled people by sex, severity of disability and having a longstanding difficulty in activities of personal care\",\n\"https://ec.europa.eu/eurostat/estat-navtree-portlet-prod/BulkDownloadListing?sort=1&file=data%2Fhlth_dsi070.tsv.gz\"],\n [{\n            'v': 3,\n            'f': \"3\",\n        },\n{\n            'v': 0.44450998306274414,\n            'f': \"0.44450998306274414\",\n        },\n{\n            'v': -9.402045249938965,\n            'f': \"-9.402045249938965\",\n        },\n\"People having a long-standing illness or health problem, by sex, age and groups of country of citizenship\",\n\"Population and social conditions Health Health status Self-reported chronic morbidity People having a long-standing illness or health problem, by sex, age and groups of country of citizenship\",\n\"https://ec.europa.eu/eurostat/estat-navtree-portlet-prod/BulkDownloadListing?sort=1&file=data%2Fhlth_silc_26.tsv.gz\"],\n [{\n            'v': 89,\n            'f': \"89\",\n        },\n{\n            'v': 0.3392731845378876,\n            'f': \"0.3392731845378876\",\n        },\n{\n            'v': -9.422371864318848,\n            'f': \"-9.422371864318848\",\n        },\n\"Disabled people by sex, severity of disability and having a longstanding difficulty in activities of household care\",\n\"Population and social conditions Health Disability Barriers to social integration of disabled people (source EHSIS) Disabled people by sex, severity of disability and having a longstanding difficulty in activities of household care\",\n\"https://ec.europa.eu/eurostat/estat-navtree-portlet-prod/BulkDownloadListing?sort=1&file=data%2Fhlth_dsi080.tsv.gz\"],\n [{\n            'v': 21,\n            'f': \"21\",\n        },\n{\n            'v': 0.41340458393096924,\n            'f': \"0.41340458393096924\",\n        },\n{\n            'v': -9.4549560546875,\n            'f': \"-9.4549560546875\",\n        },\n\"Share of persons who cannot afford a computer by level of activity limitation, sex and age\",\n\"Population and social conditions Health Disability Material deprivation among disabled people - EU-SILC survey Share of persons who cannot afford a computer by level of activity limitation, sex and age\",\n\"https://ec.europa.eu/eurostat/estat-navtree-portlet-prod/BulkDownloadListing?sort=1&file=data%2Fhlth_dm090.tsv.gz\"],\n [{\n            'v': 34,\n            'f': \"34\",\n        },\n{\n            'v': 0.3896815776824951,\n            'f': \"0.3896815776824951\",\n        },\n{\n            'v': -9.472267150878906,\n            'f': \"-9.472267150878906\",\n        },\n\"Share of persons who cannot afford a telephone by level of activity limitation, sex and age\",\n\"Population and social conditions Health Disability Material deprivation among disabled people - EU-SILC survey Share of persons who cannot afford a telephone by level of activity limitation, sex and age\",\n\"https://ec.europa.eu/eurostat/estat-navtree-portlet-prod/BulkDownloadListing?sort=1&file=data%2Fhlth_dm070.tsv.gz\"],\n [{\n            'v': 53,\n            'f': \"53\",\n        },\n{\n            'v': 0.36988386511802673,\n            'f': \"0.36988386511802673\",\n        },\n{\n            'v': -9.484272003173828,\n            'f': \"-9.484272003173828\",\n        },\n\"EU index of occupational diseases (2013=100) ? experimental statistics\",\n\"Population and social conditions Health Health and safety at work Occupational diseases (from 2013 onwards  source: EODS) EU index of occupational diseases (2013=100) ? experimental statistics\",\n\"https://ec.europa.eu/eurostat/estat-navtree-portlet-prod/BulkDownloadListing?sort=1&file=data%2Fhsw_occ_ina.tsv.gz\"],\n [{\n            'v': 62,\n            'f': \"62\",\n        },\n{\n            'v': 0.3581039309501648,\n            'f': \"0.3581039309501648\",\n        },\n{\n            'v': -9.484460830688477,\n            'f': \"-9.484460830688477\",\n        },\n\"Disabled people by sex, severity of disability and having a longstanding health problem\",\n\"Population and social conditions Health Disability Barriers to social integration of disabled people (source EHSIS) Disabled people by sex, severity of disability and having a longstanding health problem\",\n\"https://ec.europa.eu/eurostat/estat-navtree-portlet-prod/BulkDownloadListing?sort=1&file=data%2Fhlth_dsi050.tsv.gz\"],\n [{\n            'v': 4,\n            'f': \"4\",\n        },\n{\n            'v': 0.4430308938026428,\n            'f': \"0.4430308938026428\",\n        },\n{\n            'v': -9.503378868103027,\n            'f': \"-9.503378868103027\",\n        },\n\"Share of persons who cannot afford a washing machine by level of activity limitation, sex and age\",\n\"Population and social conditions Health Disability Material deprivation among disabled people - EU-SILC survey Share of persons who cannot afford a washing machine by level of activity limitation, sex and age\",\n\"https://ec.europa.eu/eurostat/estat-navtree-portlet-prod/BulkDownloadListing?sort=1&file=data%2Fhlth_dm100.tsv.gz\"],\n [{\n            'v': 40,\n            'f': \"40\",\n        },\n{\n            'v': 0.3872709274291992,\n            'f': \"0.3872709274291992\",\n        },\n{\n            'v': -9.515177726745605,\n            'f': \"-9.515177726745605\",\n        },\n\"Share of persons who cannot afford a colour TV by level of activity limitation, sex and age\",\n\"Population and social conditions Health Disability Material deprivation among disabled people - EU-SILC survey Share of persons who cannot afford a colour TV by level of activity limitation, sex and age\",\n\"https://ec.europa.eu/eurostat/estat-navtree-portlet-prod/BulkDownloadListing?sort=1&file=data%2Fhlth_dm080.tsv.gz\"],\n [{\n            'v': 17,\n            'f': \"17\",\n        },\n{\n            'v': 0.41639092564582825,\n            'f': \"0.41639092564582825\",\n        },\n{\n            'v': -9.543538093566895,\n            'f': \"-9.543538093566895\",\n        },\n\"Self-reported vaccination against influenza by sex, age and income quintile\",\n\"Population and social conditions Health Health care Preventive services Self-reported vaccination against influenza by sex, age and income quintile\",\n\"https://ec.europa.eu/eurostat/estat-navtree-portlet-prod/BulkDownloadListing?sort=1&file=data%2Fhlth_ehis_pa1i.tsv.gz\"],\n [{\n            'v': 28,\n            'f': \"28\",\n        },\n{\n            'v': 0.39862871170043945,\n            'f': \"0.39862871170043945\",\n        },\n{\n            'v': -9.546828269958496,\n            'f': \"-9.546828269958496\",\n        },\n\"People reporting a limitation in getting to and from work caused by longstanding health problems or difficulties in basic activities by cause, sex and age\",\n\"Population and social conditions Health Disability Access to labour market for disabled people (source LFS) People reporting a limitation in getting to and from work caused by longstanding health problems or difficulties in basic activities by cause, sex and age\",\n\"https://ec.europa.eu/eurostat/estat-navtree-portlet-prod/BulkDownloadListing?sort=1&file=data%2Fhlth_dlm170.tsv.gz\"],\n [{\n            'v': 85,\n            'f': \"85\",\n        },\n{\n            'v': 0.3420341908931732,\n            'f': \"0.3420341908931732\",\n        },\n{\n            'v': -9.554632186889648,\n            'f': \"-9.554632186889648\",\n        },\n\"Disabled people by sex, life area where a barrier is reported and having a longstanding difficulty in activities of personal care\",\n\"Population and social conditions Health Disability Barriers to social integration of disabled people (source EHSIS) Disabled people by sex, life area where a barrier is reported and having a longstanding difficulty in activities of personal care\",\n\"https://ec.europa.eu/eurostat/estat-navtree-portlet-prod/BulkDownloadListing?sort=1&file=data%2Fhlth_dsi150.tsv.gz\"],\n [{\n            'v': 6,\n            'f': \"6\",\n        },\n{\n            'v': 0.44054868817329407,\n            'f': \"0.44054868817329407\",\n        },\n{\n            'v': -9.56204891204834,\n            'f': \"-9.56204891204834\",\n        },\n\"People having a long-standing illness or health problem, by sex, age and groups of country of birth\",\n\"Population and social conditions Health Health status Self-reported chronic morbidity People having a long-standing illness or health problem, by sex, age and groups of country of birth\",\n\"https://ec.europa.eu/eurostat/estat-navtree-portlet-prod/BulkDownloadListing?sort=1&file=data%2Fhlth_silc_25.tsv.gz\"],\n [{\n            'v': 52,\n            'f': \"52\",\n        },\n{\n            'v': 0.3700551688671112,\n            'f': \"0.3700551688671112\",\n        },\n{\n            'v': -9.571791648864746,\n            'f': \"-9.571791648864746\",\n        },\n\"People having a longstanding health problem by level of activity limitation, sex and age\",\n\"Population and social conditions Health Disability Health problems of disabled people (sources SILC or EHIS) People having a longstanding health problem by level of activity limitation, sex and age\",\n\"https://ec.europa.eu/eurostat/estat-navtree-portlet-prod/BulkDownloadListing?sort=1&file=data%2Fhlth_dh020.tsv.gz\"],\n [{\n            'v': 7,\n            'f': \"7\",\n        },\n{\n            'v': 0.43703120946884155,\n            'f': \"0.43703120946884155\",\n        },\n{\n            'v': -9.574719429016113,\n            'f': \"-9.574719429016113\",\n        },\n\"Self-reported use of non-prescribed medicines by sex, age and country of birth\",\n\"Population and social conditions Health Health care Medicine use Self-reported use of non-prescribed medicines by sex, age and country of birth\",\n\"https://ec.europa.eu/eurostat/estat-navtree-portlet-prod/BulkDownloadListing?sort=1&file=data%2Fhlth_ehis_md2b.tsv.gz\"],\n [{\n            'v': 35,\n            'f': \"35\",\n        },\n{\n            'v': 0.38957250118255615,\n            'f': \"0.38957250118255615\",\n        },\n{\n            'v': -9.59887409210205,\n            'f': \"-9.59887409210205\",\n        },\n\"Inability to afford paying for one week annual holiday away from home by level of activity limitation, sex and age\",\n\"Population and social conditions Health Disability Material deprivation among disabled people - EU-SILC survey Inability to afford paying for one week annual holiday away from home by level of activity limitation, sex and age\",\n\"https://ec.europa.eu/eurostat/estat-navtree-portlet-prod/BulkDownloadListing?sort=1&file=data%2Fhlth_dm020.tsv.gz\"],\n [{\n            'v': 5,\n            'f': \"5\",\n        },\n{\n            'v': 0.4421039819717407,\n            'f': \"0.4421039819717407\",\n        },\n{\n            'v': -9.601041793823242,\n            'f': \"-9.601041793823242\",\n        },\n\"Self-reported vaccination against influenza by sex, age and degree of urbanisation\",\n\"Population and social conditions Health Health care Preventive services Self-reported vaccination against influenza by sex, age and degree of urbanisation\",\n\"https://ec.europa.eu/eurostat/estat-navtree-portlet-prod/BulkDownloadListing?sort=1&file=data%2Fhlth_ehis_pa1u.tsv.gz\"],\n [{\n            'v': 43,\n            'f': \"43\",\n        },\n{\n            'v': 0.3840436041355133,\n            'f': \"0.3840436041355133\",\n        },\n{\n            'v': -9.60271167755127,\n            'f': \"-9.60271167755127\",\n        },\n\"Self-reported use of prescribed medicines for specific diseases by sex, age and educational attainment level\",\n\"Population and social conditions Health Health care Medicine use Medicine use - historical data Self-reported use of prescribed medicines for specific diseases by sex, age and educational attainment level\",\n\"https://ec.europa.eu/eurostat/estat-navtree-portlet-prod/BulkDownloadListing?sort=1&file=data%2Fhlth_ehis_hc7.tsv.gz\"],\n [{\n            'v': 92,\n            'f': \"92\",\n        },\n{\n            'v': 0.3373517394065857,\n            'f': \"0.3373517394065857\",\n        },\n{\n            'v': -9.609601020812988,\n            'f': \"-9.609601020812988\",\n        },\n\"Disabled people by sex, life area where a barrier is reported and having a longstanding health problem\",\n\"Population and social conditions Health Disability Barriers to social integration of disabled people (source EHSIS) Disabled people by sex, life area where a barrier is reported and having a longstanding health problem\",\n\"https://ec.europa.eu/eurostat/estat-navtree-portlet-prod/BulkDownloadListing?sort=1&file=data%2Fhlth_dsi130.tsv.gz\"],\n [{\n            'v': 56,\n            'f': \"56\",\n        },\n{\n            'v': 0.36187684535980225,\n            'f': \"0.36187684535980225\",\n        },\n{\n            'v': -9.610651016235352,\n            'f': \"-9.610651016235352\",\n        },\n\"Employed people having a longstanding health problem or a difficulty in basic activities by the type of special assistance used, sex and age\",\n\"Population and social conditions Health Disability Access to labour market for disabled people (source LFS) Employed people having a longstanding health problem or a difficulty in basic activities by the type of special assistance used, sex and age\",\n\"https://ec.europa.eu/eurostat/estat-navtree-portlet-prod/BulkDownloadListing?sort=1&file=data%2Fhlth_dlm180.tsv.gz\"],\n [{\n            'v': 30,\n            'f': \"30\",\n        },\n{\n            'v': 0.3966051936149597,\n            'f': \"0.3966051936149597\",\n        },\n{\n            'v': -9.612136840820312,\n            'f': \"-9.612136840820312\",\n        },\n\"Share of persons who cannot afford a personal car by level of activity limitation, sex and age\",\n\"Population and social conditions Health Disability Material deprivation among disabled people - EU-SILC survey Share of persons who cannot afford a personal car by level of activity limitation, sex and age\",\n\"https://ec.europa.eu/eurostat/estat-navtree-portlet-prod/BulkDownloadListing?sort=1&file=data%2Fhlth_dm110.tsv.gz\"],\n [{\n            'v': 61,\n            'f': \"61\",\n        },\n{\n            'v': 0.35895565152168274,\n            'f': \"0.35895565152168274\",\n        },\n{\n            'v': -9.627655029296875,\n            'f': \"-9.627655029296875\",\n        },\n\"Not employed people having a longstanding health problem or a difficulty in basic activities by the type of special assistance needed, sex and age\",\n\"Population and social conditions Health Disability Access to labour market for disabled people (source LFS) Not employed people having a longstanding health problem or a difficulty in basic activities by the type of special assistance needed, sex and age\",\n\"https://ec.europa.eu/eurostat/estat-navtree-portlet-prod/BulkDownloadListing?sort=1&file=data%2Fhlth_dlm190.tsv.gz\"],\n [{\n            'v': 25,\n            'f': \"25\",\n        },\n{\n            'v': 0.40414637327194214,\n            'f': \"0.40414637327194214\",\n        },\n{\n            'v': -9.689657211303711,\n            'f': \"-9.689657211303711\",\n        },\n\"People reporting a limitation in the amount of work caused by longstanding health problems or difficulties in basic activities by cause, sex and age\",\n\"Population and social conditions Health Disability Access to labour market for disabled people (source LFS) People reporting a limitation in the amount of work caused by longstanding health problems or difficulties in basic activities by cause, sex and age\",\n\"https://ec.europa.eu/eurostat/estat-navtree-portlet-prod/BulkDownloadListing?sort=1&file=data%2Fhlth_dlm150.tsv.gz\"],\n [{\n            'v': 26,\n            'f': \"26\",\n        },\n{\n            'v': 0.40318262577056885,\n            'f': \"0.40318262577056885\",\n        },\n{\n            'v': -9.690868377685547,\n            'f': \"-9.690868377685547\",\n        },\n\"People reporting a limitation in the type of work caused by longstanding health problems or difficulties in basic activities by cause, sex and age\",\n\"Population and social conditions Health Disability Access to labour market for disabled people (source LFS) People reporting a limitation in the type of work caused by longstanding health problems or difficulties in basic activities by cause, sex and age\",\n\"https://ec.europa.eu/eurostat/estat-navtree-portlet-prod/BulkDownloadListing?sort=1&file=data%2Fhlth_dlm160.tsv.gz\"],\n [{\n            'v': 22,\n            'f': \"22\",\n        },\n{\n            'v': 0.4124927818775177,\n            'f': \"0.4124927818775177\",\n        },\n{\n            'v': -9.691886901855469,\n            'f': \"-9.691886901855469\",\n        },\n\"People having a long-standing illness or health problem, by sex, age and educational attainment level\",\n\"Population and social conditions Health Health status Self-reported chronic morbidity People having a long-standing illness or health problem, by sex, age and educational attainment level\",\n\"https://ec.europa.eu/eurostat/estat-navtree-portlet-prod/BulkDownloadListing?sort=1&file=data%2Fhlth_silc_05.tsv.gz\"],\n [{\n            'v': 47,\n            'f': \"47\",\n        },\n{\n            'v': 0.37690484523773193,\n            'f': \"0.37690484523773193\",\n        },\n{\n            'v': -9.70103645324707,\n            'f': \"-9.70103645324707\",\n        },\n\"Ability to make ends meet by level of activity limitation, sex and age\",\n\"Population and social conditions Health Disability Material deprivation among disabled people - EU-SILC survey Ability to make ends meet by level of activity limitation, sex and age\",\n\"https://ec.europa.eu/eurostat/estat-navtree-portlet-prod/BulkDownloadListing?sort=1&file=data%2Fhlth_dm060.tsv.gz\"],\n [{\n            'v': 48,\n            'f': \"48\",\n        },\n{\n            'v': 0.3755806088447571,\n            'f': \"0.3755806088447571\",\n        },\n{\n            'v': -9.708155632019043,\n            'f': \"-9.708155632019043\",\n        },\n\"Vaccination against influenza of population aged 65 and over\",\n\"Population and social conditions Health Health care Preventive services Vaccination against influenza of population aged 65 and over\",\n\"https://ec.europa.eu/eurostat/estat-navtree-portlet-prod/BulkDownloadListing?sort=1&file=data%2Fhlth_ps_immu.tsv.gz\"],\n [{\n            'v': 49,\n            'f': \"49\",\n        },\n{\n            'v': 0.373460590839386,\n            'f': \"0.373460590839386\",\n        },\n{\n            'v': -9.732940673828125,\n            'f': \"-9.732940673828125\",\n        },\n\"Self-reported unmet needs for medical examination by level of activity limitation, sex and age\",\n\"Population and social conditions Health Disability Health problems of disabled people (sources SILC or EHIS) Self-reported unmet needs for medical examination by level of activity limitation, sex and age\",\n\"https://ec.europa.eu/eurostat/estat-navtree-portlet-prod/BulkDownloadListing?sort=1&file=data%2Fhlth_dh030.tsv.gz\"],\n [{\n            'v': 46,\n            'f': \"46\",\n        },\n{\n            'v': 0.37760257720947266,\n            'f': \"0.37760257720947266\",\n        },\n{\n            'v': -9.741018295288086,\n            'f': \"-9.741018295288086\",\n        },\n\"Disabled people by sex, need for assistance and having a longstanding difficulty in activities of personal care\",\n\"Population and social conditions Health Disability Prevalence of disability (source EHSIS) Disabled people by sex, need for assistance and having a longstanding difficulty in activities of personal care\",\n\"https://ec.europa.eu/eurostat/estat-navtree-portlet-prod/BulkDownloadListing?sort=1&file=data%2Fhlth_dpeh190.tsv.gz\"],\n [{\n            'v': 70,\n            'f': \"70\",\n        },\n{\n            'v': 0.35414355993270874,\n            'f': \"0.35414355993270874\",\n        },\n{\n            'v': -9.742194175720215,\n            'f': \"-9.742194175720215\",\n        },\n\"Self-perceived long-standing limitations in usual activities due to health problem by sex, age and groups of country of birth\",\n\"Population and social conditions Health Health status Functional and activity limitations Self-perceived long-standing limitations in usual activities due to health problem by sex, age and groups of country of birth\",\n\"https://ec.europa.eu/eurostat/estat-navtree-portlet-prod/BulkDownloadListing?sort=1&file=data%2Fhlth_silc_27.tsv.gz\"],\n [{\n            'v': 19,\n            'f': \"19\",\n        },\n{\n            'v': 0.41564124822616577,\n            'f': \"0.41564124822616577\",\n        },\n{\n            'v': -9.750142097473145,\n            'f': \"-9.750142097473145\",\n        },\n\"Self-reported vaccination against influenza by sex, age and educational attainment level\",\n\"Population and social conditions Health Health care Preventive services Self-reported vaccination against influenza by sex, age and educational attainment level\",\n\"https://ec.europa.eu/eurostat/estat-navtree-portlet-prod/BulkDownloadListing?sort=1&file=data%2Fhlth_ehis_pa1e.tsv.gz\"],\n [{\n            'v': 15,\n            'f': \"15\",\n        },\n{\n            'v': 0.41930997371673584,\n            'f': \"0.41930997371673584\",\n        },\n{\n            'v': -9.75733470916748,\n            'f': \"-9.75733470916748\",\n        },\n\"People having a long-standing illness or health problem, by sex, age and income quintile\",\n\"Population and social conditions Health Health status Self-reported chronic morbidity People having a long-standing illness or health problem, by sex, age and income quintile\",\n\"https://ec.europa.eu/eurostat/estat-navtree-portlet-prod/BulkDownloadListing?sort=1&file=data%2Fhlth_silc_11.tsv.gz\"],\n [{\n            'v': 91,\n            'f': \"91\",\n        },\n{\n            'v': 0.33751559257507324,\n            'f': \"0.33751559257507324\",\n        },\n{\n            'v': -9.78607177734375,\n            'f': \"-9.78607177734375\",\n        },\n\"Disabled people by sex, age and life area where a barrier is reported\",\n\"Population and social conditions Health Disability Barriers to social integration of disabled people (source EHSIS) Disabled people by sex, age and life area where a barrier is reported\",\n\"https://ec.europa.eu/eurostat/estat-navtree-portlet-prod/BulkDownloadListing?sort=1&file=data%2Fhlth_dsi090.tsv.gz\"],\n [{\n            'v': 79,\n            'f': \"79\",\n        },\n{\n            'v': 0.3473150134086609,\n            'f': \"0.3473150134086609\",\n        },\n{\n            'v': -9.79138469696045,\n            'f': \"-9.79138469696045\",\n        },\n\"Disabled people by sex, age and severity of disability\",\n\"Population and social conditions Health Disability Barriers to social integration of disabled people (source EHSIS) Disabled people by sex, age and severity of disability\",\n\"https://ec.europa.eu/eurostat/estat-navtree-portlet-prod/BulkDownloadListing?sort=1&file=data%2Fhlth_dsi010.tsv.gz\"],\n [{\n            'v': 50,\n            'f': \"50\",\n        },\n{\n            'v': 0.37115806341171265,\n            'f': \"0.37115806341171265\",\n        },\n{\n            'v': -9.793598175048828,\n            'f': \"-9.793598175048828\",\n        },\n\"Self-perceived health by level of activity limitation, sex and age\",\n\"Population and social conditions Health Disability Health problems of disabled people (sources SILC or EHIS) Self-perceived health by level of activity limitation, sex and age\",\n\"https://ec.europa.eu/eurostat/estat-navtree-portlet-prod/BulkDownloadListing?sort=1&file=data%2Fhlth_dh010.tsv.gz\"],\n [{\n            'v': 14,\n            'f': \"14\",\n        },\n{\n            'v': 0.4208557903766632,\n            'f': \"0.4208557903766632\",\n        },\n{\n            'v': -9.802032470703125,\n            'f': \"-9.802032470703125\",\n        },\n\"People having a long-standing illness or health problem, by sex, age and labour status\",\n\"Population and social conditions Health Health status Self-reported chronic morbidity People having a long-standing illness or health problem, by sex, age and labour status\",\n\"https://ec.europa.eu/eurostat/estat-navtree-portlet-prod/BulkDownloadListing?sort=1&file=data%2Fhlth_silc_04.tsv.gz\"],\n [{\n            'v': 38,\n            'f': \"38\",\n        },\n{\n            'v': 0.38844189047813416,\n            'f': \"0.38844189047813416\",\n        },\n{\n            'v': -9.807445526123047,\n            'f': \"-9.807445526123047\",\n        },\n\"Severe material deprivation by level of activity limitation, sex and age\",\n\"Population and social conditions Health Disability Material deprivation among disabled people - EU-SILC survey Severe material deprivation by level of activity limitation, sex and age\",\n\"https://ec.europa.eu/eurostat/estat-navtree-portlet-prod/BulkDownloadListing?sort=1&file=data%2Fhlth_dm010.tsv.gz\"],\n [{\n            'v': 37,\n            'f': \"37\",\n        },\n{\n            'v': 0.3885343074798584,\n            'f': \"0.3885343074798584\",\n        },\n{\n            'v': -9.807806015014648,\n            'f': \"-9.807806015014648\",\n        },\n\"Disabled people by sex, need for assistance and having a longstanding health problem\",\n\"Population and social conditions Health Disability Prevalence of disability (source EHSIS) Disabled people by sex, need for assistance and having a longstanding health problem\",\n\"https://ec.europa.eu/eurostat/estat-navtree-portlet-prod/BulkDownloadListing?sort=1&file=data%2Fhlth_dpeh170.tsv.gz\"],\n [{\n            'v': 67,\n            'f': \"67\",\n        },\n{\n            'v': 0.3565308451652527,\n            'f': \"0.3565308451652527\",\n        },\n{\n            'v': -9.812055587768555,\n            'f': \"-9.812055587768555\",\n        },\n\"Disabled people by sex, need for assistance and having a longstanding difficulty in basic activities\",\n\"Population and social conditions Health Disability Prevalence of disability (source EHSIS) Disabled people by sex, need for assistance and having a longstanding difficulty in basic activities\",\n\"https://ec.europa.eu/eurostat/estat-navtree-portlet-prod/BulkDownloadListing?sort=1&file=data%2Fhlth_dpeh180.tsv.gz\"],\n [{\n            'v': 65,\n            'f': \"65\",\n        },\n{\n            'v': 0.3576669991016388,\n            'f': \"0.3576669991016388\",\n        },\n{\n            'v': -9.818315505981445,\n            'f': \"-9.818315505981445\",\n        },\n\"People reporting a limitation in work by the reason for limitation in work, sex and age\",\n\"Population and social conditions Health Disability Access to labour market for disabled people (source LFS) People reporting a limitation in work by the reason for limitation in work, sex and age\",\n\"https://ec.europa.eu/eurostat/estat-navtree-portlet-prod/BulkDownloadListing?sort=1&file=data%2Fhlth_dlm140.tsv.gz\"],\n [{\n            'v': 93,\n            'f': \"93\",\n        },\n{\n            'v': 0.336087167263031,\n            'f': \"0.336087167263031\",\n        },\n{\n            'v': -9.840505599975586,\n            'f': \"-9.840505599975586\",\n        },\n\"Disabled people by sex, severity of disability and household type\",\n\"Population and social conditions Health Disability Barriers to social integration of disabled people (source EHSIS) Disabled people by sex, severity of disability and household type\",\n\"https://ec.europa.eu/eurostat/estat-navtree-portlet-prod/BulkDownloadListing?sort=1&file=data%2Fhlth_dsi040.tsv.gz\"],\n [{\n            'v': 10,\n            'f': \"10\",\n        },\n{\n            'v': 0.43203291296958923,\n            'f': \"0.43203291296958923\",\n        },\n{\n            'v': -9.843605995178223,\n            'f': \"-9.843605995178223\",\n        },\n\"Self-reported use of non-prescribed medicines by sex, age and educational attainment level\",\n\"Population and social conditions Health Health care Medicine use Self-reported use of non-prescribed medicines by sex, age and educational attainment level\",\n\"https://ec.europa.eu/eurostat/estat-navtree-portlet-prod/BulkDownloadListing?sort=1&file=data%2Fhlth_ehis_md2e.tsv.gz\"],\n [{\n            'v': 69,\n            'f': \"69\",\n        },\n{\n            'v': 0.3550194799900055,\n            'f': \"0.3550194799900055\",\n        },\n{\n            'v': -9.850248336791992,\n            'f': \"-9.850248336791992\",\n        },\n\"Disabled people by sex, need for assistance and having a longstanding difficulty in activities of household care\",\n\"Population and social conditions Health Disability Prevalence of disability (source EHSIS) Disabled people by sex, need for assistance and having a longstanding difficulty in activities of household care\",\n\"https://ec.europa.eu/eurostat/estat-navtree-portlet-prod/BulkDownloadListing?sort=1&file=data%2Fhlth_dpeh200.tsv.gz\"],\n [{\n            'v': 1,\n            'f': \"1\",\n        },\n{\n            'v': 0.4504871368408203,\n            'f': \"0.4504871368408203\",\n        },\n{\n            'v': -9.859198570251465,\n            'f': \"-9.859198570251465\",\n        },\n\"Self-reported use of non-prescribed medicines by sex, age and degree of urbanisation\",\n\"Population and social conditions Health Health care Medicine use Self-reported use of non-prescribed medicines by sex, age and degree of urbanisation\",\n\"https://ec.europa.eu/eurostat/estat-navtree-portlet-prod/BulkDownloadListing?sort=1&file=data%2Fhlth_ehis_md2u.tsv.gz\"],\n [{\n            'v': 32,\n            'f': \"32\",\n        },\n{\n            'v': 0.3947138786315918,\n            'f': \"0.3947138786315918\",\n        },\n{\n            'v': -9.884289741516113,\n            'f': \"-9.884289741516113\",\n        },\n\"Inability to face unexpected financial expenses by level of activity limitation, sex and age\",\n\"Population and social conditions Health Disability Material deprivation among disabled people - EU-SILC survey Inability to face unexpected financial expenses by level of activity limitation, sex and age\",\n\"https://ec.europa.eu/eurostat/estat-navtree-portlet-prod/BulkDownloadListing?sort=1&file=data%2Fhlth_dm040.tsv.gz\"],\n [{\n            'v': 12,\n            'f': \"12\",\n        },\n{\n            'v': 0.4217756986618042,\n            'f': \"0.4217756986618042\",\n        },\n{\n            'v': -9.939543724060059,\n            'f': \"-9.939543724060059\",\n        },\n\"Self-reported vaccination against influenza by sex, age and educational attainment level (%)\",\n\"Population and social conditions Health Health care Preventive services Preventive services - historical data Self-reported vaccination against influenza by sex, age and educational attainment level (%)\",\n\"https://ec.europa.eu/eurostat/estat-navtree-portlet-prod/BulkDownloadListing?sort=1&file=data%2Fhlth_ehis_hc1.tsv.gz\"],\n [{\n            'v': 58,\n            'f': \"58\",\n        },\n{\n            'v': 0.36003953218460083,\n            'f': \"0.36003953218460083\",\n        },\n{\n            'v': -9.949471473693848,\n            'f': \"-9.949471473693848\",\n        },\n\"Arrears (mortgage or rent, utility bills or hire purchase) by level of activity limitation, sex and age\",\n\"Population and social conditions Health Disability Material deprivation among disabled people - EU-SILC survey Arrears (mortgage or rent, utility bills or hire purchase) by level of activity limitation, sex and age\",\n\"https://ec.europa.eu/eurostat/estat-navtree-portlet-prod/BulkDownloadListing?sort=1&file=data%2Fhlth_dm050.tsv.gz\"],\n [{\n            'v': 88,\n            'f': \"88\",\n        },\n{\n            'v': 0.33934926986694336,\n            'f': \"0.33934926986694336\",\n        },\n{\n            'v': -9.95911693572998,\n            'f': \"-9.95911693572998\",\n        },\n\"People at risk of poverty or social exclusion by level of activity limitation, sex and age\",\n\"Population and social conditions Health Disability Income distribution and poverty among disabled people - EU-SILC survey People at risk of poverty or social exclusion by level of activity limitation, sex and age\",\n\"https://ec.europa.eu/eurostat/estat-navtree-portlet-prod/BulkDownloadListing?sort=1&file=data%2Fhlth_dpe010.tsv.gz\"],\n [{\n            'v': 77,\n            'f': \"77\",\n        },\n{\n            'v': 0.347623348236084,\n            'f': \"0.347623348236084\",\n        },\n{\n            'v': -9.963997840881348,\n            'f': \"-9.963997840881348\",\n        },\n\"Self-perceived long-standing limitations in usual activities due to health problem by sex, age and groups of country of citizenship\",\n\"Population and social conditions Health Health status Functional and activity limitations Self-perceived long-standing limitations in usual activities due to health problem by sex, age and groups of country of citizenship\",\n\"https://ec.europa.eu/eurostat/estat-navtree-portlet-prod/BulkDownloadListing?sort=1&file=data%2Fhlth_silc_28.tsv.gz\"],\n [{\n            'v': 57,\n            'f': \"57\",\n        },\n{\n            'v': 0.36111414432525635,\n            'f': \"0.36111414432525635\",\n        },\n{\n            'v': -9.992399215698242,\n            'f': \"-9.992399215698242\",\n        },\n\"Body mass index (BMI) by level of activity limitation, sex and age\",\n\"Population and social conditions Health Disability Health problems of disabled people (sources SILC or EHIS) Body mass index (BMI) by level of activity limitation, sex and age\",\n\"https://ec.europa.eu/eurostat/estat-navtree-portlet-prod/BulkDownloadListing?sort=1&file=data%2Fhlth_dh050.tsv.gz\"],\n [{\n            'v': 2,\n            'f': \"2\",\n        },\n{\n            'v': 0.4502629041671753,\n            'f': \"0.4502629041671753\",\n        },\n{\n            'v': -10.06727123260498,\n            'f': \"-10.06727123260498\",\n        },\n\"Self-reported use of non-prescribed medicines by sex, age and country of citizenship\",\n\"Population and social conditions Health Health care Medicine use Self-reported use of non-prescribed medicines by sex, age and country of citizenship\",\n\"https://ec.europa.eu/eurostat/estat-navtree-portlet-prod/BulkDownloadListing?sort=1&file=data%2Fhlth_ehis_md2c.tsv.gz\"],\n [{\n            'v': 45,\n            'f': \"45\",\n        },\n{\n            'v': 0.38054779171943665,\n            'f': \"0.38054779171943665\",\n        },\n{\n            'v': -10.078479766845703,\n            'f': \"-10.078479766845703\",\n        },\n\"Breast cancer and cervical cancer screenings\",\n\"Population and social conditions Health Health care Preventive services Breast cancer and cervical cancer screenings\",\n\"https://ec.europa.eu/eurostat/estat-navtree-portlet-prod/BulkDownloadListing?sort=1&file=data%2Fhlth_ps_scre.tsv.gz\"]],\n        columns: [[\"number\", \"index\"], [\"number\", \"score\"], [\"number\", \"cross_scores\"], [\"string\", \"File description\"], [\"string\", \"Full path\"], [\"string\", \"Link\"]],\n        columnOptions: [{\"width\": \"1px\", \"className\": \"index_column\"}],\n        rowsPerPage: 5,\n        helpUrl: \"https://colab.research.google.com/notebooks/data_table.ipynb\",\n        suppressOutputScrolling: true,\n        minimumWidth: undefined,\n      });\n    ",
            "text/plain": [
              "<google.colab.data_table.DataTable object>"
            ]
          },
          "metadata": {}
        },
        {
          "output_type": "stream",
          "name": "stderr",
          "text": [
            "/usr/local/lib/python3.7/dist-packages/sklearn/utils/deprecation.py:87: FutureWarning: Function get_feature_names is deprecated; get_feature_names is deprecated in 1.0 and will be removed in 1.2. Please use get_feature_names_out instead.\n",
            "  warnings.warn(msg, category=FutureWarning)\n"
          ]
        },
        {
          "output_type": "stream",
          "name": "stdout",
          "text": [
            "bot: Help me please to understand what you mean. Are you referring to 'limitation sex' (yes/no/add some keywords, q to quit) \n",
            "me:  healthy\n",
            "Optimal clusters:  2\n",
            "   n_clusters  gap_value\n",
            "0         2.0   0.211155\n",
            "1         3.0   0.056363\n",
            "real clusters:  2\n"
          ]
        },
        {
          "output_type": "display_data",
          "data": {
            "text/plain": [
              "<Figure size 432x288 with 1 Axes>"
            ],
            "image/png": "[encoded data removed]"
          },
          "metadata": {
            "needs_background": "dark"
          }
        },
        {
          "output_type": "display_data",
          "data": {
            "text/plain": [
              "<matplotlib.axes._subplots.AxesSubplot at 0x7faee431a210>"
            ]
          },
          "metadata": {}
        },
        {
          "output_type": "display_data",
          "data": {
            "text/html": [
              "<div>\n",
              "<style scoped>\n",
              "    .dataframe tbody tr th:only-of-type {\n",
              "        vertical-align: middle;\n",
              "    }\n",
              "\n",
              "    .dataframe tbody tr th {\n",
              "        vertical-align: top;\n",
              "    }\n",
              "\n",
              "    .dataframe thead th {\n",
              "        text-align: right;\n",
              "    }\n",
              "</style>\n",
              "<table border=\"1\" class=\"dataframe\">\n",
              "  <thead>\n",
              "    <tr style=\"text-align: right;\">\n",
              "      <th></th>\n",
              "      <th>score</th>\n",
              "      <th>cross_scores</th>\n",
              "      <th>File description</th>\n",
              "      <th>Full path</th>\n",
              "      <th>Link</th>\n",
              "    </tr>\n",
              "  </thead>\n",
              "  <tbody>\n",
              "    <tr>\n",
              "      <th>19</th>\n",
              "      <td>0.474035</td>\n",
              "      <td>-9.062745</td>\n",
              "      <td>People reporting a chronic disease, by disease...</td>\n",
              "      <td>Population and social conditions Health Health...</td>\n",
              "      <td>https://ec.europa.eu/eurostat/estat-navtree-po...</td>\n",
              "    </tr>\n",
              "    <tr>\n",
              "      <th>9</th>\n",
              "      <td>0.487078</td>\n",
              "      <td>-9.274363</td>\n",
              "      <td>Persons reporting a chronic disease, by diseas...</td>\n",
              "      <td>Population and social conditions Health Health...</td>\n",
              "      <td>https://ec.europa.eu/eurostat/estat-navtree-po...</td>\n",
              "    </tr>\n",
              "    <tr>\n",
              "      <th>16</th>\n",
              "      <td>0.478314</td>\n",
              "      <td>-9.318995</td>\n",
              "      <td>Persons reporting a chronic disease, by diseas...</td>\n",
              "      <td>Population and social conditions Health Health...</td>\n",
              "      <td>https://ec.europa.eu/eurostat/estat-navtree-po...</td>\n",
              "    </tr>\n",
              "    <tr>\n",
              "      <th>7</th>\n",
              "      <td>0.491283</td>\n",
              "      <td>-9.496471</td>\n",
              "      <td>Self-reported screening of cardiovascular dise...</td>\n",
              "      <td>Population and social conditions Health Health...</td>\n",
              "      <td>https://ec.europa.eu/eurostat/estat-navtree-po...</td>\n",
              "    </tr>\n",
              "    <tr>\n",
              "      <th>3</th>\n",
              "      <td>0.499644</td>\n",
              "      <td>-9.522727</td>\n",
              "      <td>Self-reported screening of cardiovascular dise...</td>\n",
              "      <td>Population and social conditions Health Health...</td>\n",
              "      <td>https://ec.europa.eu/eurostat/estat-navtree-po...</td>\n",
              "    </tr>\n",
              "    <tr>\n",
              "      <th>23</th>\n",
              "      <td>0.465554</td>\n",
              "      <td>-9.552522</td>\n",
              "      <td>Persons reporting a chronic disease, by diseas...</td>\n",
              "      <td>Population and social conditions Health Health...</td>\n",
              "      <td>https://ec.europa.eu/eurostat/estat-navtree-po...</td>\n",
              "    </tr>\n",
              "    <tr>\n",
              "      <th>10</th>\n",
              "      <td>0.486524</td>\n",
              "      <td>-9.565133</td>\n",
              "      <td>Self-reported screening of cardiovascular dise...</td>\n",
              "      <td>Population and social conditions Health Health...</td>\n",
              "      <td>https://ec.europa.eu/eurostat/estat-navtree-po...</td>\n",
              "    </tr>\n",
              "    <tr>\n",
              "      <th>18</th>\n",
              "      <td>0.476815</td>\n",
              "      <td>-9.611254</td>\n",
              "      <td>Persons reporting a chronic disease, by diseas...</td>\n",
              "      <td>Population and social conditions Health Health...</td>\n",
              "      <td>https://ec.europa.eu/eurostat/estat-navtree-po...</td>\n",
              "    </tr>\n",
              "    <tr>\n",
              "      <th>14</th>\n",
              "      <td>0.480796</td>\n",
              "      <td>-9.697284</td>\n",
              "      <td>Persons reporting a chronic disease, by diseas...</td>\n",
              "      <td>Population and social conditions Health Health...</td>\n",
              "      <td>https://ec.europa.eu/eurostat/estat-navtree-po...</td>\n",
              "    </tr>\n",
              "    <tr>\n",
              "      <th>21</th>\n",
              "      <td>0.471305</td>\n",
              "      <td>-9.709329</td>\n",
              "      <td>Persons reporting a chronic disease, by diseas...</td>\n",
              "      <td>Population and social conditions Health Health...</td>\n",
              "      <td>https://ec.europa.eu/eurostat/estat-navtree-po...</td>\n",
              "    </tr>\n",
              "    <tr>\n",
              "      <th>0</th>\n",
              "      <td>0.513822</td>\n",
              "      <td>-9.773416</td>\n",
              "      <td>People having a long-standing illness or healt...</td>\n",
              "      <td>Population and social conditions Health Health...</td>\n",
              "      <td>https://ec.europa.eu/eurostat/estat-navtree-po...</td>\n",
              "    </tr>\n",
              "    <tr>\n",
              "      <th>1</th>\n",
              "      <td>0.506594</td>\n",
              "      <td>-9.779079</td>\n",
              "      <td>People having a long-standing illness or healt...</td>\n",
              "      <td>Population and social conditions Health Health...</td>\n",
              "      <td>https://ec.europa.eu/eurostat/estat-navtree-po...</td>\n",
              "    </tr>\n",
              "    <tr>\n",
              "      <th>8</th>\n",
              "      <td>0.489027</td>\n",
              "      <td>-9.904884</td>\n",
              "      <td>People having a long-standing illness or healt...</td>\n",
              "      <td>Population and social conditions Health Health...</td>\n",
              "      <td>https://ec.europa.eu/eurostat/estat-navtree-po...</td>\n",
              "    </tr>\n",
              "    <tr>\n",
              "      <th>2</th>\n",
              "      <td>0.503324</td>\n",
              "      <td>-9.959426</td>\n",
              "      <td>People having a long-standing illness or healt...</td>\n",
              "      <td>Population and social conditions Health Health...</td>\n",
              "      <td>https://ec.europa.eu/eurostat/estat-navtree-po...</td>\n",
              "    </tr>\n",
              "    <tr>\n",
              "      <th>4</th>\n",
              "      <td>0.497583</td>\n",
              "      <td>-9.976956</td>\n",
              "      <td>Inability to afford a meal with meat, chicken,...</td>\n",
              "      <td>Population and social conditions Health Disabi...</td>\n",
              "      <td>https://ec.europa.eu/eurostat/estat-navtree-po...</td>\n",
              "    </tr>\n",
              "    <tr>\n",
              "      <th>25</th>\n",
              "      <td>0.463926</td>\n",
              "      <td>-9.993072</td>\n",
              "      <td>Self-reported use of non-prescribed medicines ...</td>\n",
              "      <td>Population and social conditions Health Health...</td>\n",
              "      <td>https://ec.europa.eu/eurostat/estat-navtree-po...</td>\n",
              "    </tr>\n",
              "    <tr>\n",
              "      <th>30</th>\n",
              "      <td>0.449620</td>\n",
              "      <td>-10.013929</td>\n",
              "      <td>Self-perceived long-standing limitations in us...</td>\n",
              "      <td>Population and social conditions Health Health...</td>\n",
              "      <td>https://ec.europa.eu/eurostat/estat-navtree-po...</td>\n",
              "    </tr>\n",
              "    <tr>\n",
              "      <th>17</th>\n",
              "      <td>0.477106</td>\n",
              "      <td>-10.015819</td>\n",
              "      <td>People having a longstanding health problem by...</td>\n",
              "      <td>Population and social conditions Health Disabi...</td>\n",
              "      <td>https://ec.europa.eu/eurostat/estat-navtree-po...</td>\n",
              "    </tr>\n",
              "    <tr>\n",
              "      <th>58</th>\n",
              "      <td>0.397815</td>\n",
              "      <td>-10.030848</td>\n",
              "      <td>EU index of occupational diseases (2013=100) ?...</td>\n",
              "      <td>Population and social conditions Health Health...</td>\n",
              "      <td>https://ec.europa.eu/eurostat/estat-navtree-po...</td>\n",
              "    </tr>\n",
              "    <tr>\n",
              "      <th>5</th>\n",
              "      <td>0.494460</td>\n",
              "      <td>-10.082067</td>\n",
              "      <td>People having a long-standing illness or healt...</td>\n",
              "      <td>Population and social conditions Health Health...</td>\n",
              "      <td>https://ec.europa.eu/eurostat/estat-navtree-po...</td>\n",
              "    </tr>\n",
              "  </tbody>\n",
              "</table>\n",
              "</div>"
            ],
            "application/vnd.google.colaboratory.module+javascript": "\n      import \"https://ssl.gstatic.com/colaboratory/data_table/f872b2c2305463fd/data_table.js\";\n\n      window.createDataTable({\n        data: [[{\n            'v': 19,\n            'f': \"19\",\n        },\n{\n            'v': 0.47403472661972046,\n            'f': \"0.47403472661972046\",\n        },\n{\n            'v': -9.062745094299316,\n            'f': \"-9.062745094299316\",\n        },\n\"People reporting a chronic disease, by disease, sex, age and educational attainment level (%)\",\n\"Population and social conditions Health Health status Health status - historical data (2008) People reporting a chronic disease, by disease, sex, age and educational attainment level (%)\",\n\"https://ec.europa.eu/eurostat/estat-navtree-portlet-prod/BulkDownloadListing?sort=1&file=data%2Fhlth_ehis_st1.tsv.gz\"],\n [{\n            'v': 9,\n            'f': \"9\",\n        },\n{\n            'v': 0.487077534198761,\n            'f': \"0.487077534198761\",\n        },\n{\n            'v': -9.274362564086914,\n            'f': \"-9.274362564086914\",\n        },\n\"Persons reporting a chronic disease, by disease, sex, age and broad group of citizenship\",\n\"Population and social conditions Health Health status Self-reported chronic morbidity Persons reporting a chronic disease, by disease, sex, age and broad group of citizenship\",\n\"https://ec.europa.eu/eurostat/estat-navtree-portlet-prod/BulkDownloadListing?sort=1&file=data%2Fhlth_ehis_cd1c.tsv.gz\"],\n [{\n            'v': 16,\n            'f': \"16\",\n        },\n{\n            'v': 0.4783138036727905,\n            'f': \"0.4783138036727905\",\n        },\n{\n            'v': -9.318995475769043,\n            'f': \"-9.318995475769043\",\n        },\n\"Persons reporting a chronic disease, by disease, sex, age and level of activity limitation\",\n\"Population and social conditions Health Health status Self-reported chronic morbidity Persons reporting a chronic disease, by disease, sex, age and level of activity limitation\",\n\"https://ec.europa.eu/eurostat/estat-navtree-portlet-prod/BulkDownloadListing?sort=1&file=data%2Fhlth_ehis_cd1d.tsv.gz\"],\n [{\n            'v': 7,\n            'f': \"7\",\n        },\n{\n            'v': 0.49128255248069763,\n            'f': \"0.49128255248069763\",\n        },\n{\n            'v': -9.496471405029297,\n            'f': \"-9.496471405029297\",\n        },\n\"Self-reported screening of cardiovascular diseases and diabetes risks by sex, age and income quintile\",\n\"Population and social conditions Health Health care Preventive services Self-reported screening of cardiovascular diseases and diabetes risks by sex, age and income quintile\",\n\"https://ec.europa.eu/eurostat/estat-navtree-portlet-prod/BulkDownloadListing?sort=1&file=data%2Fhlth_ehis_pa2i.tsv.gz\"],\n [{\n            'v': 3,\n            'f': \"3\",\n        },\n{\n            'v': 0.49964436888694763,\n            'f': \"0.49964436888694763\",\n        },\n{\n            'v': -9.522727012634277,\n            'f': \"-9.522727012634277\",\n        },\n\"Self-reported screening of cardiovascular diseases and diabetes risks by sex, age and degree of urbanisation\",\n\"Population and social conditions Health Health care Preventive services Self-reported screening of cardiovascular diseases and diabetes risks by sex, age and degree of urbanisation\",\n\"https://ec.europa.eu/eurostat/estat-navtree-portlet-prod/BulkDownloadListing?sort=1&file=data%2Fhlth_ehis_pa2u.tsv.gz\"],\n [{\n            'v': 23,\n            'f': \"23\",\n        },\n{\n            'v': 0.46555405855178833,\n            'f': \"0.46555405855178833\",\n        },\n{\n            'v': -9.552521705627441,\n            'f': \"-9.552521705627441\",\n        },\n\"Persons reporting a chronic disease, by disease, sex, age and educational attainment level\",\n\"Population and social conditions Health Health status Self-reported chronic morbidity Persons reporting a chronic disease, by disease, sex, age and educational attainment level\",\n\"https://ec.europa.eu/eurostat/estat-navtree-portlet-prod/BulkDownloadListing?sort=1&file=data%2Fhlth_ehis_cd1e.tsv.gz\"],\n [{\n            'v': 10,\n            'f': \"10\",\n        },\n{\n            'v': 0.48652422428131104,\n            'f': \"0.48652422428131104\",\n        },\n{\n            'v': -9.565133094787598,\n            'f': \"-9.565133094787598\",\n        },\n\"Self-reported screening of cardiovascular diseases and diabetes risks by sex, age and educational attainment level\",\n\"Population and social conditions Health Health care Preventive services Self-reported screening of cardiovascular diseases and diabetes risks by sex, age and educational attainment level\",\n\"https://ec.europa.eu/eurostat/estat-navtree-portlet-prod/BulkDownloadListing?sort=1&file=data%2Fhlth_ehis_pa2e.tsv.gz\"],\n [{\n            'v': 18,\n            'f': \"18\",\n        },\n{\n            'v': 0.47681498527526855,\n            'f': \"0.47681498527526855\",\n        },\n{\n            'v': -9.61125373840332,\n            'f': \"-9.61125373840332\",\n        },\n\"Persons reporting a chronic disease, by disease, sex, age and income quintile\",\n\"Population and social conditions Health Health status Self-reported chronic morbidity Persons reporting a chronic disease, by disease, sex, age and income quintile\",\n\"https://ec.europa.eu/eurostat/estat-navtree-portlet-prod/BulkDownloadListing?sort=1&file=data%2Fhlth_ehis_cd1i.tsv.gz\"],\n [{\n            'v': 14,\n            'f': \"14\",\n        },\n{\n            'v': 0.48079565167427063,\n            'f': \"0.48079565167427063\",\n        },\n{\n            'v': -9.697283744812012,\n            'f': \"-9.697283744812012\",\n        },\n\"Persons reporting a chronic disease, by disease, sex, age and degree of urbanisation\",\n\"Population and social conditions Health Health status Self-reported chronic morbidity Persons reporting a chronic disease, by disease, sex, age and degree of urbanisation\",\n\"https://ec.europa.eu/eurostat/estat-navtree-portlet-prod/BulkDownloadListing?sort=1&file=data%2Fhlth_ehis_cd1u.tsv.gz\"],\n [{\n            'v': 21,\n            'f': \"21\",\n        },\n{\n            'v': 0.4713054299354553,\n            'f': \"0.4713054299354553\",\n        },\n{\n            'v': -9.709328651428223,\n            'f': \"-9.709328651428223\",\n        },\n\"Persons reporting a chronic disease, by disease, sex, age and contry of birth\",\n\"Population and social conditions Health Health status Self-reported chronic morbidity Persons reporting a chronic disease, by disease, sex, age and contry of birth\",\n\"https://ec.europa.eu/eurostat/estat-navtree-portlet-prod/BulkDownloadListing?sort=1&file=data%2Fhlth_ehis_cd1b.tsv.gz\"],\n [{\n            'v': 0,\n            'f': \"0\",\n        },\n{\n            'v': 0.5138224363327026,\n            'f': \"0.5138224363327026\",\n        },\n{\n            'v': -9.773415565490723,\n            'f': \"-9.773415565490723\",\n        },\n\"People having a long-standing illness or health problem, by sex, age and groups of country of citizenship\",\n\"Population and social conditions Health Health status Self-reported chronic morbidity People having a long-standing illness or health problem, by sex, age and groups of country of citizenship\",\n\"https://ec.europa.eu/eurostat/estat-navtree-portlet-prod/BulkDownloadListing?sort=1&file=data%2Fhlth_silc_26.tsv.gz\"],\n [{\n            'v': 1,\n            'f': \"1\",\n        },\n{\n            'v': 0.5065938830375671,\n            'f': \"0.5065938830375671\",\n        },\n{\n            'v': -9.77907943725586,\n            'f': \"-9.77907943725586\",\n        },\n\"People having a long-standing illness or health problem, by sex, age and groups of country of birth\",\n\"Population and social conditions Health Health status Self-reported chronic morbidity People having a long-standing illness or health problem, by sex, age and groups of country of birth\",\n\"https://ec.europa.eu/eurostat/estat-navtree-portlet-prod/BulkDownloadListing?sort=1&file=data%2Fhlth_silc_25.tsv.gz\"],\n [{\n            'v': 8,\n            'f': \"8\",\n        },\n{\n            'v': 0.48902735114097595,\n            'f': \"0.48902735114097595\",\n        },\n{\n            'v': -9.904884338378906,\n            'f': \"-9.904884338378906\",\n        },\n\"People having a long-standing illness or health problem, by sex, age and educational attainment level\",\n\"Population and social conditions Health Health status Self-reported chronic morbidity People having a long-standing illness or health problem, by sex, age and educational attainment level\",\n\"https://ec.europa.eu/eurostat/estat-navtree-portlet-prod/BulkDownloadListing?sort=1&file=data%2Fhlth_silc_05.tsv.gz\"],\n [{\n            'v': 2,\n            'f': \"2\",\n        },\n{\n            'v': 0.5033243894577026,\n            'f': \"0.5033243894577026\",\n        },\n{\n            'v': -9.959425926208496,\n            'f': \"-9.959425926208496\",\n        },\n\"People having a long-standing illness or health problem, by sex, age and income quintile\",\n\"Population and social conditions Health Health status Self-reported chronic morbidity People having a long-standing illness or health problem, by sex, age and income quintile\",\n\"https://ec.europa.eu/eurostat/estat-navtree-portlet-prod/BulkDownloadListing?sort=1&file=data%2Fhlth_silc_11.tsv.gz\"],\n [{\n            'v': 4,\n            'f': \"4\",\n        },\n{\n            'v': 0.49758291244506836,\n            'f': \"0.49758291244506836\",\n        },\n{\n            'v': -9.976956367492676,\n            'f': \"-9.976956367492676\",\n        },\n\"Inability to afford a meal with meat, chicken, fish (or vegetarian equivalent) every second day by level of activity limitation, sex and age\",\n\"Population and social conditions Health Disability Material deprivation among disabled people - EU-SILC survey Inability to afford a meal with meat, chicken, fish (or vegetarian equivalent) every second day by level of activity limitation, sex and age\",\n\"https://ec.europa.eu/eurostat/estat-navtree-portlet-prod/BulkDownloadListing?sort=1&file=data%2Fhlth_dm030.tsv.gz\"],\n [{\n            'v': 25,\n            'f': \"25\",\n        },\n{\n            'v': 0.46392589807510376,\n            'f': \"0.46392589807510376\",\n        },\n{\n            'v': -9.993071556091309,\n            'f': \"-9.993071556091309\",\n        },\n\"Self-reported use of non-prescribed medicines by sex, age and country of birth\",\n\"Population and social conditions Health Health care Medicine use Self-reported use of non-prescribed medicines by sex, age and country of birth\",\n\"https://ec.europa.eu/eurostat/estat-navtree-portlet-prod/BulkDownloadListing?sort=1&file=data%2Fhlth_ehis_md2b.tsv.gz\"],\n [{\n            'v': 30,\n            'f': \"30\",\n        },\n{\n            'v': 0.4496196210384369,\n            'f': \"0.4496196210384369\",\n        },\n{\n            'v': -10.01392936706543,\n            'f': \"-10.01392936706543\",\n        },\n\"Self-perceived long-standing limitations in usual activities due to health problem by sex, age and groups of country of birth\",\n\"Population and social conditions Health Health status Functional and activity limitations Self-perceived long-standing limitations in usual activities due to health problem by sex, age and groups of country of birth\",\n\"https://ec.europa.eu/eurostat/estat-navtree-portlet-prod/BulkDownloadListing?sort=1&file=data%2Fhlth_silc_27.tsv.gz\"],\n [{\n            'v': 17,\n            'f': \"17\",\n        },\n{\n            'v': 0.4771057069301605,\n            'f': \"0.4771057069301605\",\n        },\n{\n            'v': -10.01581859588623,\n            'f': \"-10.01581859588623\",\n        },\n\"People having a longstanding health problem by level of activity limitation, sex and age\",\n\"Population and social conditions Health Disability Health problems of disabled people (sources SILC or EHIS) People having a longstanding health problem by level of activity limitation, sex and age\",\n\"https://ec.europa.eu/eurostat/estat-navtree-portlet-prod/BulkDownloadListing?sort=1&file=data%2Fhlth_dh020.tsv.gz\"],\n [{\n            'v': 58,\n            'f': \"58\",\n        },\n{\n            'v': 0.397815465927124,\n            'f': \"0.397815465927124\",\n        },\n{\n            'v': -10.030847549438477,\n            'f': \"-10.030847549438477\",\n        },\n\"EU index of occupational diseases (2013=100) ? experimental statistics\",\n\"Population and social conditions Health Health and safety at work Occupational diseases (from 2013 onwards  source: EODS) EU index of occupational diseases (2013=100) ? experimental statistics\",\n\"https://ec.europa.eu/eurostat/estat-navtree-portlet-prod/BulkDownloadListing?sort=1&file=data%2Fhsw_occ_ina.tsv.gz\"],\n [{\n            'v': 5,\n            'f': \"5\",\n        },\n{\n            'v': 0.49446016550064087,\n            'f': \"0.49446016550064087\",\n        },\n{\n            'v': -10.082066535949707,\n            'f': \"-10.082066535949707\",\n        },\n\"People having a long-standing illness or health problem, by sex, age and labour status\",\n\"Population and social conditions Health Health status Self-reported chronic morbidity People having a long-standing illness or health problem, by sex, age and labour status\",\n\"https://ec.europa.eu/eurostat/estat-navtree-portlet-prod/BulkDownloadListing?sort=1&file=data%2Fhlth_silc_04.tsv.gz\"]],\n        columns: [[\"number\", \"index\"], [\"number\", \"score\"], [\"number\", \"cross_scores\"], [\"string\", \"File description\"], [\"string\", \"Full path\"], [\"string\", \"Link\"]],\n        columnOptions: [{\"width\": \"1px\", \"className\": \"index_column\"}],\n        rowsPerPage: 5,\n        helpUrl: \"https://colab.research.google.com/notebooks/data_table.ipynb\",\n        suppressOutputScrolling: true,\n        minimumWidth: undefined,\n      });\n    ",
            "text/plain": [
              "<google.colab.data_table.DataTable object>"
            ]
          },
          "metadata": {}
        },
        {
          "output_type": "stream",
          "name": "stderr",
          "text": [
            "/usr/local/lib/python3.7/dist-packages/sklearn/utils/deprecation.py:87: FutureWarning: Function get_feature_names is deprecated; get_feature_names is deprecated in 1.0 and will be removed in 1.2. Please use get_feature_names_out instead.\n",
            "  warnings.warn(msg, category=FutureWarning)\n"
          ]
        }
      ],
      "source": [
        "# You may also change parameter show_inter_results here, from show_inter_results to True or False\n",
        "query_results_df = chatbot.run(stop_after_multiple_no=6, stop_after_multiple_yes=5, show_inter_results=show_inter_results)"
      ]
    }
  ],
  "metadata": {
    "accelerator": "GPU",
    "colab": {
      "collapsed_sections": [],
      "name": "Working_Use_Case_D_DeepPavlov_v2.ipynb",
      "provenance": []
    },
    "kernelspec": {
      "display_name": "Python 3",
      "name": "python3"
    },
    "language_info": {
      "name": "python"
    },
    "widgets": {
      "application/vnd.jupyter.widget-state+json": {
        "66c3b4758611483490d07b4446fe5749": {
          "model_module": "@jupyter-widgets/controls",
          "model_name": "HBoxModel",
          "model_module_version": "1.5.0",
          "state": {
            "_dom_classes": [],
            "_model_module": "@jupyter-widgets/controls",
            "_model_module_version": "1.5.0",
            "_model_name": "HBoxModel",
            "_view_count": null,
            "_view_module": "@jupyter-widgets/controls",
            "_view_module_version": "1.5.0",
            "_view_name": "HBoxView",
            "box_style": "",
            "children": [
              "IPY_MODEL_7c425b181fca4a68b193955f38ca2781",
              "IPY_MODEL_4eb9015bb90d4c23a21988743a2600ce"
            ],
            "layout": "IPY_MODEL_43b32f7dc66c4df1bac18de0560b4286"
          }
        },
        "7c425b181fca4a68b193955f38ca2781": {
          "model_module": "@jupyter-widgets/controls",
          "model_name": "LabelModel",
          "model_module_version": "1.5.0",
          "state": {
            "_dom_classes": [],
            "_model_module": "@jupyter-widgets/controls",
            "_model_module_version": "1.5.0",
            "_model_name": "LabelModel",
            "_view_count": null,
            "_view_module": "@jupyter-widgets/controls",
            "_view_module_version": "1.5.0",
            "_view_name": "LabelView",
            "description": "",
            "description_tooltip": null,
            "layout": "IPY_MODEL_13010c7338394b5180ca3321f9ec1521",
            "placeholder": "​",
            "style": "IPY_MODEL_389e438ccedf429a8a8f2bf505828f43",
            "value": "Data:"
          }
        },
        "4eb9015bb90d4c23a21988743a2600ce": {
          "model_module": "@jupyter-widgets/controls",
          "model_name": "DropdownModel",
          "model_module_version": "1.5.0",
          "state": {
            "_dom_classes": [],
            "_model_module": "@jupyter-widgets/controls",
            "_model_module_version": "1.5.0",
            "_model_name": "DropdownModel",
            "_options_labels": [
              "datasets_use_case_d.pkl",
              "glossary_use_case_d.pkl"
            ],
            "_view_count": null,
            "_view_module": "@jupyter-widgets/controls",
            "_view_module_version": "1.5.0",
            "_view_name": "DropdownView",
            "description": "",
            "description_tooltip": null,
            "disabled": false,
            "index": 0,
            "layout": "IPY_MODEL_9ef20d7b16a2482da89131df106af813",
            "style": "IPY_MODEL_7340f1a3f9cc4ddb98e384437ba3640a"
          }
        },
        "43b32f7dc66c4df1bac18de0560b4286": {
          "model_module": "@jupyter-widgets/base",
          "model_name": "LayoutModel",
          "model_module_version": "1.2.0",
          "state": {
            "_model_module": "@jupyter-widgets/base",
            "_model_module_version": "1.2.0",
            "_model_name": "LayoutModel",
            "_view_count": null,
            "_view_module": "@jupyter-widgets/base",
            "_view_module_version": "1.2.0",
            "_view_name": "LayoutView",
            "align_content": null,
            "align_items": null,
            "align_self": null,
            "border": null,
            "bottom": null,
            "display": null,
            "flex": null,
            "flex_flow": null,
            "grid_area": null,
            "grid_auto_columns": null,
            "grid_auto_flow": null,
            "grid_auto_rows": null,
            "grid_column": null,
            "grid_gap": null,
            "grid_row": null,
            "grid_template_areas": null,
            "grid_template_columns": null,
            "grid_template_rows": null,
            "height": null,
            "justify_content": null,
            "justify_items": null,
            "left": null,
            "margin": null,
            "max_height": null,
            "max_width": null,
            "min_height": null,
            "min_width": null,
            "object_fit": null,
            "object_position": null,
            "order": null,
            "overflow": null,
            "overflow_x": null,
            "overflow_y": null,
            "padding": null,
            "right": null,
            "top": null,
            "visibility": null,
            "width": null
          }
        },
        "13010c7338394b5180ca3321f9ec1521": {
          "model_module": "@jupyter-widgets/base",
          "model_name": "LayoutModel",
          "model_module_version": "1.2.0",
          "state": {
            "_model_module": "@jupyter-widgets/base",
            "_model_module_version": "1.2.0",
            "_model_name": "LayoutModel",
            "_view_count": null,
            "_view_module": "@jupyter-widgets/base",
            "_view_module_version": "1.2.0",
            "_view_name": "LayoutView",
            "align_content": null,
            "align_items": null,
            "align_self": null,
            "border": null,
            "bottom": null,
            "display": null,
            "flex": null,
            "flex_flow": null,
            "grid_area": null,
            "grid_auto_columns": null,
            "grid_auto_flow": null,
            "grid_auto_rows": null,
            "grid_column": null,
            "grid_gap": null,
            "grid_row": null,
            "grid_template_areas": null,
            "grid_template_columns": null,
            "grid_template_rows": null,
            "height": null,
            "justify_content": null,
            "justify_items": null,
            "left": null,
            "margin": null,
            "max_height": null,
            "max_width": null,
            "min_height": null,
            "min_width": null,
            "object_fit": null,
            "object_position": null,
            "order": null,
            "overflow": null,
            "overflow_x": null,
            "overflow_y": null,
            "padding": null,
            "right": null,
            "top": null,
            "visibility": null,
            "width": null
          }
        },
        "389e438ccedf429a8a8f2bf505828f43": {
          "model_module": "@jupyter-widgets/controls",
          "model_name": "DescriptionStyleModel",
          "model_module_version": "1.5.0",
          "state": {
            "_model_module": "@jupyter-widgets/controls",
            "_model_module_version": "1.5.0",
            "_model_name": "DescriptionStyleModel",
            "_view_count": null,
            "_view_module": "@jupyter-widgets/base",
            "_view_module_version": "1.2.0",
            "_view_name": "StyleView",
            "description_width": ""
          }
        },
        "9ef20d7b16a2482da89131df106af813": {
          "model_module": "@jupyter-widgets/base",
          "model_name": "LayoutModel",
          "model_module_version": "1.2.0",
          "state": {
            "_model_module": "@jupyter-widgets/base",
            "_model_module_version": "1.2.0",
            "_model_name": "LayoutModel",
            "_view_count": null,
            "_view_module": "@jupyter-widgets/base",
            "_view_module_version": "1.2.0",
            "_view_name": "LayoutView",
            "align_content": null,
            "align_items": null,
            "align_self": null,
            "border": null,
            "bottom": null,
            "display": null,
            "flex": null,
            "flex_flow": null,
            "grid_area": null,
            "grid_auto_columns": null,
            "grid_auto_flow": null,
            "grid_auto_rows": null,
            "grid_column": null,
            "grid_gap": null,
            "grid_row": null,
            "grid_template_areas": null,
            "grid_template_columns": null,
            "grid_template_rows": null,
            "height": null,
            "justify_content": null,
            "justify_items": null,
            "left": null,
            "margin": null,
            "max_height": null,
            "max_width": null,
            "min_height": null,
            "min_width": null,
            "object_fit": null,
            "object_position": null,
            "order": null,
            "overflow": null,
            "overflow_x": null,
            "overflow_y": null,
            "padding": null,
            "right": null,
            "top": null,
            "visibility": null,
            "width": null
          }
        },
        "7340f1a3f9cc4ddb98e384437ba3640a": {
          "model_module": "@jupyter-widgets/controls",
          "model_name": "DescriptionStyleModel",
          "model_module_version": "1.5.0",
          "state": {
            "_model_module": "@jupyter-widgets/controls",
            "_model_module_version": "1.5.0",
            "_model_name": "DescriptionStyleModel",
            "_view_count": null,
            "_view_module": "@jupyter-widgets/base",
            "_view_module_version": "1.2.0",
            "_view_name": "StyleView",
            "description_width": ""
          }
        },
        "5e61e74ab3914f22b999a203ab38b4d9": {
          "model_module": "@jupyter-widgets/controls",
          "model_name": "HBoxModel",
          "model_module_version": "1.5.0",
          "state": {
            "_dom_classes": [],
            "_model_module": "@jupyter-widgets/controls",
            "_model_module_version": "1.5.0",
            "_model_name": "HBoxModel",
            "_view_count": null,
            "_view_module": "@jupyter-widgets/controls",
            "_view_module_version": "1.5.0",
            "_view_name": "HBoxView",
            "box_style": "",
            "children": [
              "IPY_MODEL_31872bb90a8b4b53b19797c58838b1f3",
              "IPY_MODEL_0cdd8834447f489180790510de86bb8e"
            ],
            "layout": "IPY_MODEL_0df4c0ac3f724535b0e101141dfe1a9e"
          }
        },
        "31872bb90a8b4b53b19797c58838b1f3": {
          "model_module": "@jupyter-widgets/controls",
          "model_name": "LabelModel",
          "model_module_version": "1.5.0",
          "state": {
            "_dom_classes": [],
            "_model_module": "@jupyter-widgets/controls",
            "_model_module_version": "1.5.0",
            "_model_name": "LabelModel",
            "_view_count": null,
            "_view_module": "@jupyter-widgets/controls",
            "_view_module_version": "1.5.0",
            "_view_name": "LabelView",
            "description": "",
            "description_tooltip": null,
            "layout": "IPY_MODEL_21001271ddc546d98a6000ae0f4a2d4e",
            "placeholder": "​",
            "style": "IPY_MODEL_af2d16b9531b433a8b5a13af7af7d9f7",
            "value": "Show intermediate results?: "
          }
        },
        "0cdd8834447f489180790510de86bb8e": {
          "model_module": "@jupyter-widgets/controls",
          "model_name": "DropdownModel",
          "model_module_version": "1.5.0",
          "state": {
            "_dom_classes": [],
            "_model_module": "@jupyter-widgets/controls",
            "_model_module_version": "1.5.0",
            "_model_name": "DropdownModel",
            "_options_labels": [
              "Yes",
              "No"
            ],
            "_view_count": null,
            "_view_module": "@jupyter-widgets/controls",
            "_view_module_version": "1.5.0",
            "_view_name": "DropdownView",
            "description": "",
            "description_tooltip": null,
            "disabled": false,
            "index": 0,
            "layout": "IPY_MODEL_f1fcc0f25ed4476399877a1025f2ed38",
            "style": "IPY_MODEL_302eefe34ac244458117e653cc4468fe"
          }
        },
        "0df4c0ac3f724535b0e101141dfe1a9e": {
          "model_module": "@jupyter-widgets/base",
          "model_name": "LayoutModel",
          "model_module_version": "1.2.0",
          "state": {
            "_model_module": "@jupyter-widgets/base",
            "_model_module_version": "1.2.0",
            "_model_name": "LayoutModel",
            "_view_count": null,
            "_view_module": "@jupyter-widgets/base",
            "_view_module_version": "1.2.0",
            "_view_name": "LayoutView",
            "align_content": null,
            "align_items": null,
            "align_self": null,
            "border": null,
            "bottom": null,
            "display": null,
            "flex": null,
            "flex_flow": null,
            "grid_area": null,
            "grid_auto_columns": null,
            "grid_auto_flow": null,
            "grid_auto_rows": null,
            "grid_column": null,
            "grid_gap": null,
            "grid_row": null,
            "grid_template_areas": null,
            "grid_template_columns": null,
            "grid_template_rows": null,
            "height": null,
            "justify_content": null,
            "justify_items": null,
            "left": null,
            "margin": null,
            "max_height": null,
            "max_width": null,
            "min_height": null,
            "min_width": null,
            "object_fit": null,
            "object_position": null,
            "order": null,
            "overflow": null,
            "overflow_x": null,
            "overflow_y": null,
            "padding": null,
            "right": null,
            "top": null,
            "visibility": null,
            "width": null
          }
        },
        "21001271ddc546d98a6000ae0f4a2d4e": {
          "model_module": "@jupyter-widgets/base",
          "model_name": "LayoutModel",
          "model_module_version": "1.2.0",
          "state": {
            "_model_module": "@jupyter-widgets/base",
            "_model_module_version": "1.2.0",
            "_model_name": "LayoutModel",
            "_view_count": null,
            "_view_module": "@jupyter-widgets/base",
            "_view_module_version": "1.2.0",
            "_view_name": "LayoutView",
            "align_content": null,
            "align_items": null,
            "align_self": null,
            "border": null,
            "bottom": null,
            "display": null,
            "flex": null,
            "flex_flow": null,
            "grid_area": null,
            "grid_auto_columns": null,
            "grid_auto_flow": null,
            "grid_auto_rows": null,
            "grid_column": null,
            "grid_gap": null,
            "grid_row": null,
            "grid_template_areas": null,
            "grid_template_columns": null,
            "grid_template_rows": null,
            "height": null,
            "justify_content": null,
            "justify_items": null,
            "left": null,
            "margin": null,
            "max_height": null,
            "max_width": null,
            "min_height": null,
            "min_width": null,
            "object_fit": null,
            "object_position": null,
            "order": null,
            "overflow": null,
            "overflow_x": null,
            "overflow_y": null,
            "padding": null,
            "right": null,
            "top": null,
            "visibility": null,
            "width": null
          }
        },
        "af2d16b9531b433a8b5a13af7af7d9f7": {
          "model_module": "@jupyter-widgets/controls",
          "model_name": "DescriptionStyleModel",
          "model_module_version": "1.5.0",
          "state": {
            "_model_module": "@jupyter-widgets/controls",
            "_model_module_version": "1.5.0",
            "_model_name": "DescriptionStyleModel",
            "_view_count": null,
            "_view_module": "@jupyter-widgets/base",
            "_view_module_version": "1.2.0",
            "_view_name": "StyleView",
            "description_width": ""
          }
        },
        "f1fcc0f25ed4476399877a1025f2ed38": {
          "model_module": "@jupyter-widgets/base",
          "model_name": "LayoutModel",
          "model_module_version": "1.2.0",
          "state": {
            "_model_module": "@jupyter-widgets/base",
            "_model_module_version": "1.2.0",
            "_model_name": "LayoutModel",
            "_view_count": null,
            "_view_module": "@jupyter-widgets/base",
            "_view_module_version": "1.2.0",
            "_view_name": "LayoutView",
            "align_content": null,
            "align_items": null,
            "align_self": null,
            "border": null,
            "bottom": null,
            "display": null,
            "flex": null,
            "flex_flow": null,
            "grid_area": null,
            "grid_auto_columns": null,
            "grid_auto_flow": null,
            "grid_auto_rows": null,
            "grid_column": null,
            "grid_gap": null,
            "grid_row": null,
            "grid_template_areas": null,
            "grid_template_columns": null,
            "grid_template_rows": null,
            "height": null,
            "justify_content": null,
            "justify_items": null,
            "left": null,
            "margin": null,
            "max_height": null,
            "max_width": null,
            "min_height": null,
            "min_width": null,
            "object_fit": null,
            "object_position": null,
            "order": null,
            "overflow": null,
            "overflow_x": null,
            "overflow_y": null,
            "padding": null,
            "right": null,
            "top": null,
            "visibility": null,
            "width": null
          }
        },
        "302eefe34ac244458117e653cc4468fe": {
          "model_module": "@jupyter-widgets/controls",
          "model_name": "DescriptionStyleModel",
          "model_module_version": "1.5.0",
          "state": {
            "_model_module": "@jupyter-widgets/controls",
            "_model_module_version": "1.5.0",
            "_model_name": "DescriptionStyleModel",
            "_view_count": null,
            "_view_module": "@jupyter-widgets/base",
            "_view_module_version": "1.2.0",
            "_view_name": "StyleView",
            "description_width": ""
          }
        },
        "d80952411ba9401f8ad704480b065f01": {
          "model_module": "@jupyter-widgets/controls",
          "model_name": "HBoxModel",
          "model_module_version": "1.5.0",
          "state": {
            "_dom_classes": [],
            "_model_module": "@jupyter-widgets/controls",
            "_model_module_version": "1.5.0",
            "_model_name": "HBoxModel",
            "_view_count": null,
            "_view_module": "@jupyter-widgets/controls",
            "_view_module_version": "1.5.0",
            "_view_name": "HBoxView",
            "box_style": "",
            "children": [
              "IPY_MODEL_7b75cd8d50334de985668302335c56ad",
              "IPY_MODEL_fa94fd94a67b41898e9de4920f0dd0ec"
            ],
            "layout": "IPY_MODEL_9e50ca5b720f458f9648cabfaf209bf5"
          }
        },
        "7b75cd8d50334de985668302335c56ad": {
          "model_module": "@jupyter-widgets/controls",
          "model_name": "LabelModel",
          "model_module_version": "1.5.0",
          "state": {
            "_dom_classes": [],
            "_model_module": "@jupyter-widgets/controls",
            "_model_module_version": "1.5.0",
            "_model_name": "LabelModel",
            "_view_count": null,
            "_view_module": "@jupyter-widgets/controls",
            "_view_module_version": "1.5.0",
            "_view_name": "LabelView",
            "description": "",
            "description_tooltip": null,
            "layout": "IPY_MODEL_7e5f3f3142644fd0bafbd881d62bd498",
            "placeholder": "​",
            "style": "IPY_MODEL_c1cc3947725b47029c53404508210f4b",
            "value": "Bi-encoder model:"
          }
        },
        "fa94fd94a67b41898e9de4920f0dd0ec": {
          "model_module": "@jupyter-widgets/controls",
          "model_name": "DropdownModel",
          "model_module_version": "1.5.0",
          "state": {
            "_dom_classes": [],
            "_model_module": "@jupyter-widgets/controls",
            "_model_module_version": "1.5.0",
            "_model_name": "DropdownModel",
            "_options_labels": [
              "multi-qa-MiniLM-L6-cos-v1",
              "multi-qa-distilbert-cos-v1",
              "multi-qa-mpnet-base-cos-v1"
            ],
            "_view_count": null,
            "_view_module": "@jupyter-widgets/controls",
            "_view_module_version": "1.5.0",
            "_view_name": "DropdownView",
            "description": "",
            "description_tooltip": null,
            "disabled": false,
            "index": 0,
            "layout": "IPY_MODEL_0fef41d31201434693b8b37c30201f2a",
            "style": "IPY_MODEL_fa059752f3fd4514921a3c13476f251a"
          }
        },
        "9e50ca5b720f458f9648cabfaf209bf5": {
          "model_module": "@jupyter-widgets/base",
          "model_name": "LayoutModel",
          "model_module_version": "1.2.0",
          "state": {
            "_model_module": "@jupyter-widgets/base",
            "_model_module_version": "1.2.0",
            "_model_name": "LayoutModel",
            "_view_count": null,
            "_view_module": "@jupyter-widgets/base",
            "_view_module_version": "1.2.0",
            "_view_name": "LayoutView",
            "align_content": null,
            "align_items": null,
            "align_self": null,
            "border": null,
            "bottom": null,
            "display": null,
            "flex": null,
            "flex_flow": null,
            "grid_area": null,
            "grid_auto_columns": null,
            "grid_auto_flow": null,
            "grid_auto_rows": null,
            "grid_column": null,
            "grid_gap": null,
            "grid_row": null,
            "grid_template_areas": null,
            "grid_template_columns": null,
            "grid_template_rows": null,
            "height": null,
            "justify_content": null,
            "justify_items": null,
            "left": null,
            "margin": null,
            "max_height": null,
            "max_width": null,
            "min_height": null,
            "min_width": null,
            "object_fit": null,
            "object_position": null,
            "order": null,
            "overflow": null,
            "overflow_x": null,
            "overflow_y": null,
            "padding": null,
            "right": null,
            "top": null,
            "visibility": null,
            "width": null
          }
        },
        "7e5f3f3142644fd0bafbd881d62bd498": {
          "model_module": "@jupyter-widgets/base",
          "model_name": "LayoutModel",
          "model_module_version": "1.2.0",
          "state": {
            "_model_module": "@jupyter-widgets/base",
            "_model_module_version": "1.2.0",
            "_model_name": "LayoutModel",
            "_view_count": null,
            "_view_module": "@jupyter-widgets/base",
            "_view_module_version": "1.2.0",
            "_view_name": "LayoutView",
            "align_content": null,
            "align_items": null,
            "align_self": null,
            "border": null,
            "bottom": null,
            "display": null,
            "flex": null,
            "flex_flow": null,
            "grid_area": null,
            "grid_auto_columns": null,
            "grid_auto_flow": null,
            "grid_auto_rows": null,
            "grid_column": null,
            "grid_gap": null,
            "grid_row": null,
            "grid_template_areas": null,
            "grid_template_columns": null,
            "grid_template_rows": null,
            "height": null,
            "justify_content": null,
            "justify_items": null,
            "left": null,
            "margin": null,
            "max_height": null,
            "max_width": null,
            "min_height": null,
            "min_width": null,
            "object_fit": null,
            "object_position": null,
            "order": null,
            "overflow": null,
            "overflow_x": null,
            "overflow_y": null,
            "padding": null,
            "right": null,
            "top": null,
            "visibility": null,
            "width": null
          }
        },
        "c1cc3947725b47029c53404508210f4b": {
          "model_module": "@jupyter-widgets/controls",
          "model_name": "DescriptionStyleModel",
          "model_module_version": "1.5.0",
          "state": {
            "_model_module": "@jupyter-widgets/controls",
            "_model_module_version": "1.5.0",
            "_model_name": "DescriptionStyleModel",
            "_view_count": null,
            "_view_module": "@jupyter-widgets/base",
            "_view_module_version": "1.2.0",
            "_view_name": "StyleView",
            "description_width": ""
          }
        },
        "0fef41d31201434693b8b37c30201f2a": {
          "model_module": "@jupyter-widgets/base",
          "model_name": "LayoutModel",
          "model_module_version": "1.2.0",
          "state": {
            "_model_module": "@jupyter-widgets/base",
            "_model_module_version": "1.2.0",
            "_model_name": "LayoutModel",
            "_view_count": null,
            "_view_module": "@jupyter-widgets/base",
            "_view_module_version": "1.2.0",
            "_view_name": "LayoutView",
            "align_content": null,
            "align_items": null,
            "align_self": null,
            "border": null,
            "bottom": null,
            "display": null,
            "flex": null,
            "flex_flow": null,
            "grid_area": null,
            "grid_auto_columns": null,
            "grid_auto_flow": null,
            "grid_auto_rows": null,
            "grid_column": null,
            "grid_gap": null,
            "grid_row": null,
            "grid_template_areas": null,
            "grid_template_columns": null,
            "grid_template_rows": null,
            "height": null,
            "justify_content": null,
            "justify_items": null,
            "left": null,
            "margin": null,
            "max_height": null,
            "max_width": null,
            "min_height": null,
            "min_width": null,
            "object_fit": null,
            "object_position": null,
            "order": null,
            "overflow": null,
            "overflow_x": null,
            "overflow_y": null,
            "padding": null,
            "right": null,
            "top": null,
            "visibility": null,
            "width": null
          }
        },
        "fa059752f3fd4514921a3c13476f251a": {
          "model_module": "@jupyter-widgets/controls",
          "model_name": "DescriptionStyleModel",
          "model_module_version": "1.5.0",
          "state": {
            "_model_module": "@jupyter-widgets/controls",
            "_model_module_version": "1.5.0",
            "_model_name": "DescriptionStyleModel",
            "_view_count": null,
            "_view_module": "@jupyter-widgets/base",
            "_view_module_version": "1.2.0",
            "_view_name": "StyleView",
            "description_width": ""
          }
        },
        "0b741b93556448ee8a7936ef6ea3e021": {
          "model_module": "@jupyter-widgets/controls",
          "model_name": "HBoxModel",
          "model_module_version": "1.5.0",
          "state": {
            "_dom_classes": [],
            "_model_module": "@jupyter-widgets/controls",
            "_model_module_version": "1.5.0",
            "_model_name": "HBoxModel",
            "_view_count": null,
            "_view_module": "@jupyter-widgets/controls",
            "_view_module_version": "1.5.0",
            "_view_name": "HBoxView",
            "box_style": "",
            "children": [
              "IPY_MODEL_666571af330f4b80afe73871e92eebba",
              "IPY_MODEL_e2391ff2491c412a8a57255ca3ef9781",
              "IPY_MODEL_84e4372b6d2b45ba845ae939b8ed77de"
            ],
            "layout": "IPY_MODEL_38a587fd8b044c07832d9bc3afd6cca5"
          }
        },
        "666571af330f4b80afe73871e92eebba": {
          "model_module": "@jupyter-widgets/controls",
          "model_name": "HTMLModel",
          "model_module_version": "1.5.0",
          "state": {
            "_dom_classes": [],
            "_model_module": "@jupyter-widgets/controls",
            "_model_module_version": "1.5.0",
            "_model_name": "HTMLModel",
            "_view_count": null,
            "_view_module": "@jupyter-widgets/controls",
            "_view_module_version": "1.5.0",
            "_view_name": "HTMLView",
            "description": "",
            "description_tooltip": null,
            "layout": "IPY_MODEL_72dce0458ed34688a550469c56ac6742",
            "placeholder": "​",
            "style": "IPY_MODEL_6383823637f2499680d1b7f2708f9cec",
            "value": "Epoch: 100%"
          }
        },
        "e2391ff2491c412a8a57255ca3ef9781": {
          "model_module": "@jupyter-widgets/controls",
          "model_name": "FloatProgressModel",
          "model_module_version": "1.5.0",
          "state": {
            "_dom_classes": [],
            "_model_module": "@jupyter-widgets/controls",
            "_model_module_version": "1.5.0",
            "_model_name": "FloatProgressModel",
            "_view_count": null,
            "_view_module": "@jupyter-widgets/controls",
            "_view_module_version": "1.5.0",
            "_view_name": "ProgressView",
            "bar_style": "success",
            "description": "",
            "description_tooltip": null,
            "layout": "IPY_MODEL_508eff0690ac485b91010f5f148eebde",
            "max": 5,
            "min": 0,
            "orientation": "horizontal",
            "style": "IPY_MODEL_6ee60723224d44d091d8b467fec5aab6",
            "value": 5
          }
        },
        "84e4372b6d2b45ba845ae939b8ed77de": {
          "model_module": "@jupyter-widgets/controls",
          "model_name": "HTMLModel",
          "model_module_version": "1.5.0",
          "state": {
            "_dom_classes": [],
            "_model_module": "@jupyter-widgets/controls",
            "_model_module_version": "1.5.0",
            "_model_name": "HTMLModel",
            "_view_count": null,
            "_view_module": "@jupyter-widgets/controls",
            "_view_module_version": "1.5.0",
            "_view_name": "HTMLView",
            "description": "",
            "description_tooltip": null,
            "layout": "IPY_MODEL_159cce7a07334705bd26650f890358e0",
            "placeholder": "​",
            "style": "IPY_MODEL_6220a939e51c4f19928d571d04e1202a",
            "value": " 5/5 [28:48&lt;00:00, 345.74s/it]"
          }
        },
        "38a587fd8b044c07832d9bc3afd6cca5": {
          "model_module": "@jupyter-widgets/base",
          "model_name": "LayoutModel",
          "model_module_version": "1.2.0",
          "state": {
            "_model_module": "@jupyter-widgets/base",
            "_model_module_version": "1.2.0",
            "_model_name": "LayoutModel",
            "_view_count": null,
            "_view_module": "@jupyter-widgets/base",
            "_view_module_version": "1.2.0",
            "_view_name": "LayoutView",
            "align_content": null,
            "align_items": null,
            "align_self": null,
            "border": null,
            "bottom": null,
            "display": null,
            "flex": null,
            "flex_flow": null,
            "grid_area": null,
            "grid_auto_columns": null,
            "grid_auto_flow": null,
            "grid_auto_rows": null,
            "grid_column": null,
            "grid_gap": null,
            "grid_row": null,
            "grid_template_areas": null,
            "grid_template_columns": null,
            "grid_template_rows": null,
            "height": null,
            "justify_content": null,
            "justify_items": null,
            "left": null,
            "margin": null,
            "max_height": null,
            "max_width": null,
            "min_height": null,
            "min_width": null,
            "object_fit": null,
            "object_position": null,
            "order": null,
            "overflow": null,
            "overflow_x": null,
            "overflow_y": null,
            "padding": null,
            "right": null,
            "top": null,
            "visibility": null,
            "width": null
          }
        },
        "72dce0458ed34688a550469c56ac6742": {
          "model_module": "@jupyter-widgets/base",
          "model_name": "LayoutModel",
          "model_module_version": "1.2.0",
          "state": {
            "_model_module": "@jupyter-widgets/base",
            "_model_module_version": "1.2.0",
            "_model_name": "LayoutModel",
            "_view_count": null,
            "_view_module": "@jupyter-widgets/base",
            "_view_module_version": "1.2.0",
            "_view_name": "LayoutView",
            "align_content": null,
            "align_items": null,
            "align_self": null,
            "border": null,
            "bottom": null,
            "display": null,
            "flex": null,
            "flex_flow": null,
            "grid_area": null,
            "grid_auto_columns": null,
            "grid_auto_flow": null,
            "grid_auto_rows": null,
            "grid_column": null,
            "grid_gap": null,
            "grid_row": null,
            "grid_template_areas": null,
            "grid_template_columns": null,
            "grid_template_rows": null,
            "height": null,
            "justify_content": null,
            "justify_items": null,
            "left": null,
            "margin": null,
            "max_height": null,
            "max_width": null,
            "min_height": null,
            "min_width": null,
            "object_fit": null,
            "object_position": null,
            "order": null,
            "overflow": null,
            "overflow_x": null,
            "overflow_y": null,
            "padding": null,
            "right": null,
            "top": null,
            "visibility": null,
            "width": null
          }
        },
        "6383823637f2499680d1b7f2708f9cec": {
          "model_module": "@jupyter-widgets/controls",
          "model_name": "DescriptionStyleModel",
          "model_module_version": "1.5.0",
          "state": {
            "_model_module": "@jupyter-widgets/controls",
            "_model_module_version": "1.5.0",
            "_model_name": "DescriptionStyleModel",
            "_view_count": null,
            "_view_module": "@jupyter-widgets/base",
            "_view_module_version": "1.2.0",
            "_view_name": "StyleView",
            "description_width": ""
          }
        },
        "508eff0690ac485b91010f5f148eebde": {
          "model_module": "@jupyter-widgets/base",
          "model_name": "LayoutModel",
          "model_module_version": "1.2.0",
          "state": {
            "_model_module": "@jupyter-widgets/base",
            "_model_module_version": "1.2.0",
            "_model_name": "LayoutModel",
            "_view_count": null,
            "_view_module": "@jupyter-widgets/base",
            "_view_module_version": "1.2.0",
            "_view_name": "LayoutView",
            "align_content": null,
            "align_items": null,
            "align_self": null,
            "border": null,
            "bottom": null,
            "display": null,
            "flex": null,
            "flex_flow": null,
            "grid_area": null,
            "grid_auto_columns": null,
            "grid_auto_flow": null,
            "grid_auto_rows": null,
            "grid_column": null,
            "grid_gap": null,
            "grid_row": null,
            "grid_template_areas": null,
            "grid_template_columns": null,
            "grid_template_rows": null,
            "height": null,
            "justify_content": null,
            "justify_items": null,
            "left": null,
            "margin": null,
            "max_height": null,
            "max_width": null,
            "min_height": null,
            "min_width": null,
            "object_fit": null,
            "object_position": null,
            "order": null,
            "overflow": null,
            "overflow_x": null,
            "overflow_y": null,
            "padding": null,
            "right": null,
            "top": null,
            "visibility": null,
            "width": null
          }
        },
        "6ee60723224d44d091d8b467fec5aab6": {
          "model_module": "@jupyter-widgets/controls",
          "model_name": "ProgressStyleModel",
          "model_module_version": "1.5.0",
          "state": {
            "_model_module": "@jupyter-widgets/controls",
            "_model_module_version": "1.5.0",
            "_model_name": "ProgressStyleModel",
            "_view_count": null,
            "_view_module": "@jupyter-widgets/base",
            "_view_module_version": "1.2.0",
            "_view_name": "StyleView",
            "bar_color": null,
            "description_width": ""
          }
        },
        "159cce7a07334705bd26650f890358e0": {
          "model_module": "@jupyter-widgets/base",
          "model_name": "LayoutModel",
          "model_module_version": "1.2.0",
          "state": {
            "_model_module": "@jupyter-widgets/base",
            "_model_module_version": "1.2.0",
            "_model_name": "LayoutModel",
            "_view_count": null,
            "_view_module": "@jupyter-widgets/base",
            "_view_module_version": "1.2.0",
            "_view_name": "LayoutView",
            "align_content": null,
            "align_items": null,
            "align_self": null,
            "border": null,
            "bottom": null,
            "display": null,
            "flex": null,
            "flex_flow": null,
            "grid_area": null,
            "grid_auto_columns": null,
            "grid_auto_flow": null,
            "grid_auto_rows": null,
            "grid_column": null,
            "grid_gap": null,
            "grid_row": null,
            "grid_template_areas": null,
            "grid_template_columns": null,
            "grid_template_rows": null,
            "height": null,
            "justify_content": null,
            "justify_items": null,
            "left": null,
            "margin": null,
            "max_height": null,
            "max_width": null,
            "min_height": null,
            "min_width": null,
            "object_fit": null,
            "object_position": null,
            "order": null,
            "overflow": null,
            "overflow_x": null,
            "overflow_y": null,
            "padding": null,
            "right": null,
            "top": null,
            "visibility": null,
            "width": null
          }
        },
        "6220a939e51c4f19928d571d04e1202a": {
          "model_module": "@jupyter-widgets/controls",
          "model_name": "DescriptionStyleModel",
          "model_module_version": "1.5.0",
          "state": {
            "_model_module": "@jupyter-widgets/controls",
            "_model_module_version": "1.5.0",
            "_model_name": "DescriptionStyleModel",
            "_view_count": null,
            "_view_module": "@jupyter-widgets/base",
            "_view_module_version": "1.2.0",
            "_view_name": "StyleView",
            "description_width": ""
          }
        },
        "846b418bde3c47a1a762adcfb894fd3b": {
          "model_module": "@jupyter-widgets/controls",
          "model_name": "HBoxModel",
          "model_module_version": "1.5.0",
          "state": {
            "_dom_classes": [],
            "_model_module": "@jupyter-widgets/controls",
            "_model_module_version": "1.5.0",
            "_model_name": "HBoxModel",
            "_view_count": null,
            "_view_module": "@jupyter-widgets/controls",
            "_view_module_version": "1.5.0",
            "_view_name": "HBoxView",
            "box_style": "",
            "children": [
              "IPY_MODEL_f3ed22204fd74dd18596374afc0bbe67",
              "IPY_MODEL_76350fad2ea84f76a08e89b6e1bace32",
              "IPY_MODEL_97c0a59c14644ffa934cca6e55c97701"
            ],
            "layout": "IPY_MODEL_01df8d97aefd4a0b8d33a8c1853bc673"
          }
        },
        "f3ed22204fd74dd18596374afc0bbe67": {
          "model_module": "@jupyter-widgets/controls",
          "model_name": "HTMLModel",
          "model_module_version": "1.5.0",
          "state": {
            "_dom_classes": [],
            "_model_module": "@jupyter-widgets/controls",
            "_model_module_version": "1.5.0",
            "_model_name": "HTMLModel",
            "_view_count": null,
            "_view_module": "@jupyter-widgets/controls",
            "_view_module_version": "1.5.0",
            "_view_name": "HTMLView",
            "description": "",
            "description_tooltip": null,
            "layout": "IPY_MODEL_83d2335e16934007a021ddc08bf0e4d0",
            "placeholder": "​",
            "style": "IPY_MODEL_44878469c4ad4884b06349064425aea0",
            "value": "Iteration: 100%"
          }
        },
        "76350fad2ea84f76a08e89b6e1bace32": {
          "model_module": "@jupyter-widgets/controls",
          "model_name": "FloatProgressModel",
          "model_module_version": "1.5.0",
          "state": {
            "_dom_classes": [],
            "_model_module": "@jupyter-widgets/controls",
            "_model_module_version": "1.5.0",
            "_model_name": "FloatProgressModel",
            "_view_count": null,
            "_view_module": "@jupyter-widgets/controls",
            "_view_module_version": "1.5.0",
            "_view_name": "ProgressView",
            "bar_style": "success",
            "description": "",
            "description_tooltip": null,
            "layout": "IPY_MODEL_73a303a35fc24a3eab00f1ae274e437e",
            "max": 1253,
            "min": 0,
            "orientation": "horizontal",
            "style": "IPY_MODEL_49810bc3cb6a4cc0a268812bde627b91",
            "value": 1253
          }
        },
        "97c0a59c14644ffa934cca6e55c97701": {
          "model_module": "@jupyter-widgets/controls",
          "model_name": "HTMLModel",
          "model_module_version": "1.5.0",
          "state": {
            "_dom_classes": [],
            "_model_module": "@jupyter-widgets/controls",
            "_model_module_version": "1.5.0",
            "_model_name": "HTMLModel",
            "_view_count": null,
            "_view_module": "@jupyter-widgets/controls",
            "_view_module_version": "1.5.0",
            "_view_name": "HTMLView",
            "description": "",
            "description_tooltip": null,
            "layout": "IPY_MODEL_5c6ff52beaa34000b837c4e494025f7d",
            "placeholder": "​",
            "style": "IPY_MODEL_d3969f2b2fc343b3b73b53e923269d74",
            "value": " 1253/1253 [05:35&lt;00:00,  3.76it/s]"
          }
        },
        "01df8d97aefd4a0b8d33a8c1853bc673": {
          "model_module": "@jupyter-widgets/base",
          "model_name": "LayoutModel",
          "model_module_version": "1.2.0",
          "state": {
            "_model_module": "@jupyter-widgets/base",
            "_model_module_version": "1.2.0",
            "_model_name": "LayoutModel",
            "_view_count": null,
            "_view_module": "@jupyter-widgets/base",
            "_view_module_version": "1.2.0",
            "_view_name": "LayoutView",
            "align_content": null,
            "align_items": null,
            "align_self": null,
            "border": null,
            "bottom": null,
            "display": null,
            "flex": null,
            "flex_flow": null,
            "grid_area": null,
            "grid_auto_columns": null,
            "grid_auto_flow": null,
            "grid_auto_rows": null,
            "grid_column": null,
            "grid_gap": null,
            "grid_row": null,
            "grid_template_areas": null,
            "grid_template_columns": null,
            "grid_template_rows": null,
            "height": null,
            "justify_content": null,
            "justify_items": null,
            "left": null,
            "margin": null,
            "max_height": null,
            "max_width": null,
            "min_height": null,
            "min_width": null,
            "object_fit": null,
            "object_position": null,
            "order": null,
            "overflow": null,
            "overflow_x": null,
            "overflow_y": null,
            "padding": null,
            "right": null,
            "top": null,
            "visibility": null,
            "width": null
          }
        },
        "83d2335e16934007a021ddc08bf0e4d0": {
          "model_module": "@jupyter-widgets/base",
          "model_name": "LayoutModel",
          "model_module_version": "1.2.0",
          "state": {
            "_model_module": "@jupyter-widgets/base",
            "_model_module_version": "1.2.0",
            "_model_name": "LayoutModel",
            "_view_count": null,
            "_view_module": "@jupyter-widgets/base",
            "_view_module_version": "1.2.0",
            "_view_name": "LayoutView",
            "align_content": null,
            "align_items": null,
            "align_self": null,
            "border": null,
            "bottom": null,
            "display": null,
            "flex": null,
            "flex_flow": null,
            "grid_area": null,
            "grid_auto_columns": null,
            "grid_auto_flow": null,
            "grid_auto_rows": null,
            "grid_column": null,
            "grid_gap": null,
            "grid_row": null,
            "grid_template_areas": null,
            "grid_template_columns": null,
            "grid_template_rows": null,
            "height": null,
            "justify_content": null,
            "justify_items": null,
            "left": null,
            "margin": null,
            "max_height": null,
            "max_width": null,
            "min_height": null,
            "min_width": null,
            "object_fit": null,
            "object_position": null,
            "order": null,
            "overflow": null,
            "overflow_x": null,
            "overflow_y": null,
            "padding": null,
            "right": null,
            "top": null,
            "visibility": null,
            "width": null
          }
        },
        "44878469c4ad4884b06349064425aea0": {
          "model_module": "@jupyter-widgets/controls",
          "model_name": "DescriptionStyleModel",
          "model_module_version": "1.5.0",
          "state": {
            "_model_module": "@jupyter-widgets/controls",
            "_model_module_version": "1.5.0",
            "_model_name": "DescriptionStyleModel",
            "_view_count": null,
            "_view_module": "@jupyter-widgets/base",
            "_view_module_version": "1.2.0",
            "_view_name": "StyleView",
            "description_width": ""
          }
        },
        "73a303a35fc24a3eab00f1ae274e437e": {
          "model_module": "@jupyter-widgets/base",
          "model_name": "LayoutModel",
          "model_module_version": "1.2.0",
          "state": {
            "_model_module": "@jupyter-widgets/base",
            "_model_module_version": "1.2.0",
            "_model_name": "LayoutModel",
            "_view_count": null,
            "_view_module": "@jupyter-widgets/base",
            "_view_module_version": "1.2.0",
            "_view_name": "LayoutView",
            "align_content": null,
            "align_items": null,
            "align_self": null,
            "border": null,
            "bottom": null,
            "display": null,
            "flex": null,
            "flex_flow": null,
            "grid_area": null,
            "grid_auto_columns": null,
            "grid_auto_flow": null,
            "grid_auto_rows": null,
            "grid_column": null,
            "grid_gap": null,
            "grid_row": null,
            "grid_template_areas": null,
            "grid_template_columns": null,
            "grid_template_rows": null,
            "height": null,
            "justify_content": null,
            "justify_items": null,
            "left": null,
            "margin": null,
            "max_height": null,
            "max_width": null,
            "min_height": null,
            "min_width": null,
            "object_fit": null,
            "object_position": null,
            "order": null,
            "overflow": null,
            "overflow_x": null,
            "overflow_y": null,
            "padding": null,
            "right": null,
            "top": null,
            "visibility": null,
            "width": null
          }
        },
        "49810bc3cb6a4cc0a268812bde627b91": {
          "model_module": "@jupyter-widgets/controls",
          "model_name": "ProgressStyleModel",
          "model_module_version": "1.5.0",
          "state": {
            "_model_module": "@jupyter-widgets/controls",
            "_model_module_version": "1.5.0",
            "_model_name": "ProgressStyleModel",
            "_view_count": null,
            "_view_module": "@jupyter-widgets/base",
            "_view_module_version": "1.2.0",
            "_view_name": "StyleView",
            "bar_color": null,
            "description_width": ""
          }
        },
        "5c6ff52beaa34000b837c4e494025f7d": {
          "model_module": "@jupyter-widgets/base",
          "model_name": "LayoutModel",
          "model_module_version": "1.2.0",
          "state": {
            "_model_module": "@jupyter-widgets/base",
            "_model_module_version": "1.2.0",
            "_model_name": "LayoutModel",
            "_view_count": null,
            "_view_module": "@jupyter-widgets/base",
            "_view_module_version": "1.2.0",
            "_view_name": "LayoutView",
            "align_content": null,
            "align_items": null,
            "align_self": null,
            "border": null,
            "bottom": null,
            "display": null,
            "flex": null,
            "flex_flow": null,
            "grid_area": null,
            "grid_auto_columns": null,
            "grid_auto_flow": null,
            "grid_auto_rows": null,
            "grid_column": null,
            "grid_gap": null,
            "grid_row": null,
            "grid_template_areas": null,
            "grid_template_columns": null,
            "grid_template_rows": null,
            "height": null,
            "justify_content": null,
            "justify_items": null,
            "left": null,
            "margin": null,
            "max_height": null,
            "max_width": null,
            "min_height": null,
            "min_width": null,
            "object_fit": null,
            "object_position": null,
            "order": null,
            "overflow": null,
            "overflow_x": null,
            "overflow_y": null,
            "padding": null,
            "right": null,
            "top": null,
            "visibility": null,
            "width": null
          }
        },
        "d3969f2b2fc343b3b73b53e923269d74": {
          "model_module": "@jupyter-widgets/controls",
          "model_name": "DescriptionStyleModel",
          "model_module_version": "1.5.0",
          "state": {
            "_model_module": "@jupyter-widgets/controls",
            "_model_module_version": "1.5.0",
            "_model_name": "DescriptionStyleModel",
            "_view_count": null,
            "_view_module": "@jupyter-widgets/base",
            "_view_module_version": "1.2.0",
            "_view_name": "StyleView",
            "description_width": ""
          }
        },
        "11144889279040caa230a07fcf63f344": {
          "model_module": "@jupyter-widgets/controls",
          "model_name": "HBoxModel",
          "model_module_version": "1.5.0",
          "state": {
            "_dom_classes": [],
            "_model_module": "@jupyter-widgets/controls",
            "_model_module_version": "1.5.0",
            "_model_name": "HBoxModel",
            "_view_count": null,
            "_view_module": "@jupyter-widgets/controls",
            "_view_module_version": "1.5.0",
            "_view_name": "HBoxView",
            "box_style": "",
            "children": [
              "IPY_MODEL_5401394bf9d445d88b9413459252a5d7",
              "IPY_MODEL_67f69c79303b4a25992a90a6d8fd2f13",
              "IPY_MODEL_8e256184fd284899a520d59b52774fa2"
            ],
            "layout": "IPY_MODEL_16239235acf04a43bae8b5e7eabe1a41"
          }
        },
        "5401394bf9d445d88b9413459252a5d7": {
          "model_module": "@jupyter-widgets/controls",
          "model_name": "HTMLModel",
          "model_module_version": "1.5.0",
          "state": {
            "_dom_classes": [],
            "_model_module": "@jupyter-widgets/controls",
            "_model_module_version": "1.5.0",
            "_model_name": "HTMLModel",
            "_view_count": null,
            "_view_module": "@jupyter-widgets/controls",
            "_view_module_version": "1.5.0",
            "_view_name": "HTMLView",
            "description": "",
            "description_tooltip": null,
            "layout": "IPY_MODEL_8d07b9919e8e40d785ca6921f7fb211f",
            "placeholder": "​",
            "style": "IPY_MODEL_bdd1b30e94d0437390286fbc68f75e9a",
            "value": "Iteration: 100%"
          }
        },
        "67f69c79303b4a25992a90a6d8fd2f13": {
          "model_module": "@jupyter-widgets/controls",
          "model_name": "FloatProgressModel",
          "model_module_version": "1.5.0",
          "state": {
            "_dom_classes": [],
            "_model_module": "@jupyter-widgets/controls",
            "_model_module_version": "1.5.0",
            "_model_name": "FloatProgressModel",
            "_view_count": null,
            "_view_module": "@jupyter-widgets/controls",
            "_view_module_version": "1.5.0",
            "_view_name": "ProgressView",
            "bar_style": "success",
            "description": "",
            "description_tooltip": null,
            "layout": "IPY_MODEL_28841b3d24724657a79952e6aa1541fa",
            "max": 1253,
            "min": 0,
            "orientation": "horizontal",
            "style": "IPY_MODEL_11d1dfc5aac2452696767e1f0d9cb400",
            "value": 1253
          }
        },
        "8e256184fd284899a520d59b52774fa2": {
          "model_module": "@jupyter-widgets/controls",
          "model_name": "HTMLModel",
          "model_module_version": "1.5.0",
          "state": {
            "_dom_classes": [],
            "_model_module": "@jupyter-widgets/controls",
            "_model_module_version": "1.5.0",
            "_model_name": "HTMLModel",
            "_view_count": null,
            "_view_module": "@jupyter-widgets/controls",
            "_view_module_version": "1.5.0",
            "_view_name": "HTMLView",
            "description": "",
            "description_tooltip": null,
            "layout": "IPY_MODEL_5c36b832bcc04a1bae158c8bfdba27ab",
            "placeholder": "​",
            "style": "IPY_MODEL_1c66abdaf758432ab8489c51a5db5f16",
            "value": " 1253/1253 [05:41&lt;00:00,  3.44it/s]"
          }
        },
        "16239235acf04a43bae8b5e7eabe1a41": {
          "model_module": "@jupyter-widgets/base",
          "model_name": "LayoutModel",
          "model_module_version": "1.2.0",
          "state": {
            "_model_module": "@jupyter-widgets/base",
            "_model_module_version": "1.2.0",
            "_model_name": "LayoutModel",
            "_view_count": null,
            "_view_module": "@jupyter-widgets/base",
            "_view_module_version": "1.2.0",
            "_view_name": "LayoutView",
            "align_content": null,
            "align_items": null,
            "align_self": null,
            "border": null,
            "bottom": null,
            "display": null,
            "flex": null,
            "flex_flow": null,
            "grid_area": null,
            "grid_auto_columns": null,
            "grid_auto_flow": null,
            "grid_auto_rows": null,
            "grid_column": null,
            "grid_gap": null,
            "grid_row": null,
            "grid_template_areas": null,
            "grid_template_columns": null,
            "grid_template_rows": null,
            "height": null,
            "justify_content": null,
            "justify_items": null,
            "left": null,
            "margin": null,
            "max_height": null,
            "max_width": null,
            "min_height": null,
            "min_width": null,
            "object_fit": null,
            "object_position": null,
            "order": null,
            "overflow": null,
            "overflow_x": null,
            "overflow_y": null,
            "padding": null,
            "right": null,
            "top": null,
            "visibility": null,
            "width": null
          }
        },
        "8d07b9919e8e40d785ca6921f7fb211f": {
          "model_module": "@jupyter-widgets/base",
          "model_name": "LayoutModel",
          "model_module_version": "1.2.0",
          "state": {
            "_model_module": "@jupyter-widgets/base",
            "_model_module_version": "1.2.0",
            "_model_name": "LayoutModel",
            "_view_count": null,
            "_view_module": "@jupyter-widgets/base",
            "_view_module_version": "1.2.0",
            "_view_name": "LayoutView",
            "align_content": null,
            "align_items": null,
            "align_self": null,
            "border": null,
            "bottom": null,
            "display": null,
            "flex": null,
            "flex_flow": null,
            "grid_area": null,
            "grid_auto_columns": null,
            "grid_auto_flow": null,
            "grid_auto_rows": null,
            "grid_column": null,
            "grid_gap": null,
            "grid_row": null,
            "grid_template_areas": null,
            "grid_template_columns": null,
            "grid_template_rows": null,
            "height": null,
            "justify_content": null,
            "justify_items": null,
            "left": null,
            "margin": null,
            "max_height": null,
            "max_width": null,
            "min_height": null,
            "min_width": null,
            "object_fit": null,
            "object_position": null,
            "order": null,
            "overflow": null,
            "overflow_x": null,
            "overflow_y": null,
            "padding": null,
            "right": null,
            "top": null,
            "visibility": null,
            "width": null
          }
        },
        "bdd1b30e94d0437390286fbc68f75e9a": {
          "model_module": "@jupyter-widgets/controls",
          "model_name": "DescriptionStyleModel",
          "model_module_version": "1.5.0",
          "state": {
            "_model_module": "@jupyter-widgets/controls",
            "_model_module_version": "1.5.0",
            "_model_name": "DescriptionStyleModel",
            "_view_count": null,
            "_view_module": "@jupyter-widgets/base",
            "_view_module_version": "1.2.0",
            "_view_name": "StyleView",
            "description_width": ""
          }
        },
        "28841b3d24724657a79952e6aa1541fa": {
          "model_module": "@jupyter-widgets/base",
          "model_name": "LayoutModel",
          "model_module_version": "1.2.0",
          "state": {
            "_model_module": "@jupyter-widgets/base",
            "_model_module_version": "1.2.0",
            "_model_name": "LayoutModel",
            "_view_count": null,
            "_view_module": "@jupyter-widgets/base",
            "_view_module_version": "1.2.0",
            "_view_name": "LayoutView",
            "align_content": null,
            "align_items": null,
            "align_self": null,
            "border": null,
            "bottom": null,
            "display": null,
            "flex": null,
            "flex_flow": null,
            "grid_area": null,
            "grid_auto_columns": null,
            "grid_auto_flow": null,
            "grid_auto_rows": null,
            "grid_column": null,
            "grid_gap": null,
            "grid_row": null,
            "grid_template_areas": null,
            "grid_template_columns": null,
            "grid_template_rows": null,
            "height": null,
            "justify_content": null,
            "justify_items": null,
            "left": null,
            "margin": null,
            "max_height": null,
            "max_width": null,
            "min_height": null,
            "min_width": null,
            "object_fit": null,
            "object_position": null,
            "order": null,
            "overflow": null,
            "overflow_x": null,
            "overflow_y": null,
            "padding": null,
            "right": null,
            "top": null,
            "visibility": null,
            "width": null
          }
        },
        "11d1dfc5aac2452696767e1f0d9cb400": {
          "model_module": "@jupyter-widgets/controls",
          "model_name": "ProgressStyleModel",
          "model_module_version": "1.5.0",
          "state": {
            "_model_module": "@jupyter-widgets/controls",
            "_model_module_version": "1.5.0",
            "_model_name": "ProgressStyleModel",
            "_view_count": null,
            "_view_module": "@jupyter-widgets/base",
            "_view_module_version": "1.2.0",
            "_view_name": "StyleView",
            "bar_color": null,
            "description_width": ""
          }
        },
        "5c36b832bcc04a1bae158c8bfdba27ab": {
          "model_module": "@jupyter-widgets/base",
          "model_name": "LayoutModel",
          "model_module_version": "1.2.0",
          "state": {
            "_model_module": "@jupyter-widgets/base",
            "_model_module_version": "1.2.0",
            "_model_name": "LayoutModel",
            "_view_count": null,
            "_view_module": "@jupyter-widgets/base",
            "_view_module_version": "1.2.0",
            "_view_name": "LayoutView",
            "align_content": null,
            "align_items": null,
            "align_self": null,
            "border": null,
            "bottom": null,
            "display": null,
            "flex": null,
            "flex_flow": null,
            "grid_area": null,
            "grid_auto_columns": null,
            "grid_auto_flow": null,
            "grid_auto_rows": null,
            "grid_column": null,
            "grid_gap": null,
            "grid_row": null,
            "grid_template_areas": null,
            "grid_template_columns": null,
            "grid_template_rows": null,
            "height": null,
            "justify_content": null,
            "justify_items": null,
            "left": null,
            "margin": null,
            "max_height": null,
            "max_width": null,
            "min_height": null,
            "min_width": null,
            "object_fit": null,
            "object_position": null,
            "order": null,
            "overflow": null,
            "overflow_x": null,
            "overflow_y": null,
            "padding": null,
            "right": null,
            "top": null,
            "visibility": null,
            "width": null
          }
        },
        "1c66abdaf758432ab8489c51a5db5f16": {
          "model_module": "@jupyter-widgets/controls",
          "model_name": "DescriptionStyleModel",
          "model_module_version": "1.5.0",
          "state": {
            "_model_module": "@jupyter-widgets/controls",
            "_model_module_version": "1.5.0",
            "_model_name": "DescriptionStyleModel",
            "_view_count": null,
            "_view_module": "@jupyter-widgets/base",
            "_view_module_version": "1.2.0",
            "_view_name": "StyleView",
            "description_width": ""
          }
        },
        "868dff71d1104d89a328d7590d6dfcf8": {
          "model_module": "@jupyter-widgets/controls",
          "model_name": "HBoxModel",
          "model_module_version": "1.5.0",
          "state": {
            "_dom_classes": [],
            "_model_module": "@jupyter-widgets/controls",
            "_model_module_version": "1.5.0",
            "_model_name": "HBoxModel",
            "_view_count": null,
            "_view_module": "@jupyter-widgets/controls",
            "_view_module_version": "1.5.0",
            "_view_name": "HBoxView",
            "box_style": "",
            "children": [
              "IPY_MODEL_57485c9152914e0a9411e69ba1fdb6c1",
              "IPY_MODEL_7e35ada6a4f2470280ff12304e312079",
              "IPY_MODEL_307ae9eb176a48739a2c29e7fde8c482"
            ],
            "layout": "IPY_MODEL_8e8a365517c24640b93af4349a7c6640"
          }
        },
        "57485c9152914e0a9411e69ba1fdb6c1": {
          "model_module": "@jupyter-widgets/controls",
          "model_name": "HTMLModel",
          "model_module_version": "1.5.0",
          "state": {
            "_dom_classes": [],
            "_model_module": "@jupyter-widgets/controls",
            "_model_module_version": "1.5.0",
            "_model_name": "HTMLModel",
            "_view_count": null,
            "_view_module": "@jupyter-widgets/controls",
            "_view_module_version": "1.5.0",
            "_view_name": "HTMLView",
            "description": "",
            "description_tooltip": null,
            "layout": "IPY_MODEL_38fb780384b54c40b86b1ae03ac2baeb",
            "placeholder": "​",
            "style": "IPY_MODEL_3f80416fb00a497198fc931f58dcc052",
            "value": "Iteration: 100%"
          }
        },
        "7e35ada6a4f2470280ff12304e312079": {
          "model_module": "@jupyter-widgets/controls",
          "model_name": "FloatProgressModel",
          "model_module_version": "1.5.0",
          "state": {
            "_dom_classes": [],
            "_model_module": "@jupyter-widgets/controls",
            "_model_module_version": "1.5.0",
            "_model_name": "FloatProgressModel",
            "_view_count": null,
            "_view_module": "@jupyter-widgets/controls",
            "_view_module_version": "1.5.0",
            "_view_name": "ProgressView",
            "bar_style": "success",
            "description": "",
            "description_tooltip": null,
            "layout": "IPY_MODEL_0b5abdaee64a409480ea52ce55978419",
            "max": 1253,
            "min": 0,
            "orientation": "horizontal",
            "style": "IPY_MODEL_7326daadeb614069b3e87d0923c4b2dd",
            "value": 1253
          }
        },
        "307ae9eb176a48739a2c29e7fde8c482": {
          "model_module": "@jupyter-widgets/controls",
          "model_name": "HTMLModel",
          "model_module_version": "1.5.0",
          "state": {
            "_dom_classes": [],
            "_model_module": "@jupyter-widgets/controls",
            "_model_module_version": "1.5.0",
            "_model_name": "HTMLModel",
            "_view_count": null,
            "_view_module": "@jupyter-widgets/controls",
            "_view_module_version": "1.5.0",
            "_view_name": "HTMLView",
            "description": "",
            "description_tooltip": null,
            "layout": "IPY_MODEL_3ca85ee4e17a4fdd97e8125b2a25d810",
            "placeholder": "​",
            "style": "IPY_MODEL_700a222882a64366957a3ec1f76b0fb8",
            "value": " 1253/1253 [05:35&lt;00:00,  3.84it/s]"
          }
        },
        "8e8a365517c24640b93af4349a7c6640": {
          "model_module": "@jupyter-widgets/base",
          "model_name": "LayoutModel",
          "model_module_version": "1.2.0",
          "state": {
            "_model_module": "@jupyter-widgets/base",
            "_model_module_version": "1.2.0",
            "_model_name": "LayoutModel",
            "_view_count": null,
            "_view_module": "@jupyter-widgets/base",
            "_view_module_version": "1.2.0",
            "_view_name": "LayoutView",
            "align_content": null,
            "align_items": null,
            "align_self": null,
            "border": null,
            "bottom": null,
            "display": null,
            "flex": null,
            "flex_flow": null,
            "grid_area": null,
            "grid_auto_columns": null,
            "grid_auto_flow": null,
            "grid_auto_rows": null,
            "grid_column": null,
            "grid_gap": null,
            "grid_row": null,
            "grid_template_areas": null,
            "grid_template_columns": null,
            "grid_template_rows": null,
            "height": null,
            "justify_content": null,
            "justify_items": null,
            "left": null,
            "margin": null,
            "max_height": null,
            "max_width": null,
            "min_height": null,
            "min_width": null,
            "object_fit": null,
            "object_position": null,
            "order": null,
            "overflow": null,
            "overflow_x": null,
            "overflow_y": null,
            "padding": null,
            "right": null,
            "top": null,
            "visibility": null,
            "width": null
          }
        },
        "38fb780384b54c40b86b1ae03ac2baeb": {
          "model_module": "@jupyter-widgets/base",
          "model_name": "LayoutModel",
          "model_module_version": "1.2.0",
          "state": {
            "_model_module": "@jupyter-widgets/base",
            "_model_module_version": "1.2.0",
            "_model_name": "LayoutModel",
            "_view_count": null,
            "_view_module": "@jupyter-widgets/base",
            "_view_module_version": "1.2.0",
            "_view_name": "LayoutView",
            "align_content": null,
            "align_items": null,
            "align_self": null,
            "border": null,
            "bottom": null,
            "display": null,
            "flex": null,
            "flex_flow": null,
            "grid_area": null,
            "grid_auto_columns": null,
            "grid_auto_flow": null,
            "grid_auto_rows": null,
            "grid_column": null,
            "grid_gap": null,
            "grid_row": null,
            "grid_template_areas": null,
            "grid_template_columns": null,
            "grid_template_rows": null,
            "height": null,
            "justify_content": null,
            "justify_items": null,
            "left": null,
            "margin": null,
            "max_height": null,
            "max_width": null,
            "min_height": null,
            "min_width": null,
            "object_fit": null,
            "object_position": null,
            "order": null,
            "overflow": null,
            "overflow_x": null,
            "overflow_y": null,
            "padding": null,
            "right": null,
            "top": null,
            "visibility": null,
            "width": null
          }
        },
        "3f80416fb00a497198fc931f58dcc052": {
          "model_module": "@jupyter-widgets/controls",
          "model_name": "DescriptionStyleModel",
          "model_module_version": "1.5.0",
          "state": {
            "_model_module": "@jupyter-widgets/controls",
            "_model_module_version": "1.5.0",
            "_model_name": "DescriptionStyleModel",
            "_view_count": null,
            "_view_module": "@jupyter-widgets/base",
            "_view_module_version": "1.2.0",
            "_view_name": "StyleView",
            "description_width": ""
          }
        },
        "0b5abdaee64a409480ea52ce55978419": {
          "model_module": "@jupyter-widgets/base",
          "model_name": "LayoutModel",
          "model_module_version": "1.2.0",
          "state": {
            "_model_module": "@jupyter-widgets/base",
            "_model_module_version": "1.2.0",
            "_model_name": "LayoutModel",
            "_view_count": null,
            "_view_module": "@jupyter-widgets/base",
            "_view_module_version": "1.2.0",
            "_view_name": "LayoutView",
            "align_content": null,
            "align_items": null,
            "align_self": null,
            "border": null,
            "bottom": null,
            "display": null,
            "flex": null,
            "flex_flow": null,
            "grid_area": null,
            "grid_auto_columns": null,
            "grid_auto_flow": null,
            "grid_auto_rows": null,
            "grid_column": null,
            "grid_gap": null,
            "grid_row": null,
            "grid_template_areas": null,
            "grid_template_columns": null,
            "grid_template_rows": null,
            "height": null,
            "justify_content": null,
            "justify_items": null,
            "left": null,
            "margin": null,
            "max_height": null,
            "max_width": null,
            "min_height": null,
            "min_width": null,
            "object_fit": null,
            "object_position": null,
            "order": null,
            "overflow": null,
            "overflow_x": null,
            "overflow_y": null,
            "padding": null,
            "right": null,
            "top": null,
            "visibility": null,
            "width": null
          }
        },
        "7326daadeb614069b3e87d0923c4b2dd": {
          "model_module": "@jupyter-widgets/controls",
          "model_name": "ProgressStyleModel",
          "model_module_version": "1.5.0",
          "state": {
            "_model_module": "@jupyter-widgets/controls",
            "_model_module_version": "1.5.0",
            "_model_name": "ProgressStyleModel",
            "_view_count": null,
            "_view_module": "@jupyter-widgets/base",
            "_view_module_version": "1.2.0",
            "_view_name": "StyleView",
            "bar_color": null,
            "description_width": ""
          }
        },
        "3ca85ee4e17a4fdd97e8125b2a25d810": {
          "model_module": "@jupyter-widgets/base",
          "model_name": "LayoutModel",
          "model_module_version": "1.2.0",
          "state": {
            "_model_module": "@jupyter-widgets/base",
            "_model_module_version": "1.2.0",
            "_model_name": "LayoutModel",
            "_view_count": null,
            "_view_module": "@jupyter-widgets/base",
            "_view_module_version": "1.2.0",
            "_view_name": "LayoutView",
            "align_content": null,
            "align_items": null,
            "align_self": null,
            "border": null,
            "bottom": null,
            "display": null,
            "flex": null,
            "flex_flow": null,
            "grid_area": null,
            "grid_auto_columns": null,
            "grid_auto_flow": null,
            "grid_auto_rows": null,
            "grid_column": null,
            "grid_gap": null,
            "grid_row": null,
            "grid_template_areas": null,
            "grid_template_columns": null,
            "grid_template_rows": null,
            "height": null,
            "justify_content": null,
            "justify_items": null,
            "left": null,
            "margin": null,
            "max_height": null,
            "max_width": null,
            "min_height": null,
            "min_width": null,
            "object_fit": null,
            "object_position": null,
            "order": null,
            "overflow": null,
            "overflow_x": null,
            "overflow_y": null,
            "padding": null,
            "right": null,
            "top": null,
            "visibility": null,
            "width": null
          }
        },
        "700a222882a64366957a3ec1f76b0fb8": {
          "model_module": "@jupyter-widgets/controls",
          "model_name": "DescriptionStyleModel",
          "model_module_version": "1.5.0",
          "state": {
            "_model_module": "@jupyter-widgets/controls",
            "_model_module_version": "1.5.0",
            "_model_name": "DescriptionStyleModel",
            "_view_count": null,
            "_view_module": "@jupyter-widgets/base",
            "_view_module_version": "1.2.0",
            "_view_name": "StyleView",
            "description_width": ""
          }
        },
        "120e7f678b384b1190cd8187acb7fe2c": {
          "model_module": "@jupyter-widgets/controls",
          "model_name": "HBoxModel",
          "model_module_version": "1.5.0",
          "state": {
            "_dom_classes": [],
            "_model_module": "@jupyter-widgets/controls",
            "_model_module_version": "1.5.0",
            "_model_name": "HBoxModel",
            "_view_count": null,
            "_view_module": "@jupyter-widgets/controls",
            "_view_module_version": "1.5.0",
            "_view_name": "HBoxView",
            "box_style": "",
            "children": [
              "IPY_MODEL_6222a75bd304471a9857a955fa6d3584",
              "IPY_MODEL_ccca9ae67cde4e3dbbc0c587c28ac5f6",
              "IPY_MODEL_6bf5137146814b1981542c41b485da11"
            ],
            "layout": "IPY_MODEL_027957d4c4be49329fd0c77a2c6a8e61"
          }
        },
        "6222a75bd304471a9857a955fa6d3584": {
          "model_module": "@jupyter-widgets/controls",
          "model_name": "HTMLModel",
          "model_module_version": "1.5.0",
          "state": {
            "_dom_classes": [],
            "_model_module": "@jupyter-widgets/controls",
            "_model_module_version": "1.5.0",
            "_model_name": "HTMLModel",
            "_view_count": null,
            "_view_module": "@jupyter-widgets/controls",
            "_view_module_version": "1.5.0",
            "_view_name": "HTMLView",
            "description": "",
            "description_tooltip": null,
            "layout": "IPY_MODEL_7a8cfd71925a40eeacbf196fd0cb46d0",
            "placeholder": "​",
            "style": "IPY_MODEL_2bcb12577dfa4427bee7580defd62892",
            "value": "Iteration: 100%"
          }
        },
        "ccca9ae67cde4e3dbbc0c587c28ac5f6": {
          "model_module": "@jupyter-widgets/controls",
          "model_name": "FloatProgressModel",
          "model_module_version": "1.5.0",
          "state": {
            "_dom_classes": [],
            "_model_module": "@jupyter-widgets/controls",
            "_model_module_version": "1.5.0",
            "_model_name": "FloatProgressModel",
            "_view_count": null,
            "_view_module": "@jupyter-widgets/controls",
            "_view_module_version": "1.5.0",
            "_view_name": "ProgressView",
            "bar_style": "success",
            "description": "",
            "description_tooltip": null,
            "layout": "IPY_MODEL_e0ca170446ea4454872bb55fccbb5ea3",
            "max": 1253,
            "min": 0,
            "orientation": "horizontal",
            "style": "IPY_MODEL_cc769a57a8584d8184a552ac15801ffc",
            "value": 1253
          }
        },
        "6bf5137146814b1981542c41b485da11": {
          "model_module": "@jupyter-widgets/controls",
          "model_name": "HTMLModel",
          "model_module_version": "1.5.0",
          "state": {
            "_dom_classes": [],
            "_model_module": "@jupyter-widgets/controls",
            "_model_module_version": "1.5.0",
            "_model_name": "HTMLModel",
            "_view_count": null,
            "_view_module": "@jupyter-widgets/controls",
            "_view_module_version": "1.5.0",
            "_view_name": "HTMLView",
            "description": "",
            "description_tooltip": null,
            "layout": "IPY_MODEL_62f3a5ffbf874a4bbd3e505735e95ff5",
            "placeholder": "​",
            "style": "IPY_MODEL_822bd9fe4a2a4e1ab72a62b74c040e14",
            "value": " 1253/1253 [05:37&lt;00:00,  4.26it/s]"
          }
        },
        "027957d4c4be49329fd0c77a2c6a8e61": {
          "model_module": "@jupyter-widgets/base",
          "model_name": "LayoutModel",
          "model_module_version": "1.2.0",
          "state": {
            "_model_module": "@jupyter-widgets/base",
            "_model_module_version": "1.2.0",
            "_model_name": "LayoutModel",
            "_view_count": null,
            "_view_module": "@jupyter-widgets/base",
            "_view_module_version": "1.2.0",
            "_view_name": "LayoutView",
            "align_content": null,
            "align_items": null,
            "align_self": null,
            "border": null,
            "bottom": null,
            "display": null,
            "flex": null,
            "flex_flow": null,
            "grid_area": null,
            "grid_auto_columns": null,
            "grid_auto_flow": null,
            "grid_auto_rows": null,
            "grid_column": null,
            "grid_gap": null,
            "grid_row": null,
            "grid_template_areas": null,
            "grid_template_columns": null,
            "grid_template_rows": null,
            "height": null,
            "justify_content": null,
            "justify_items": null,
            "left": null,
            "margin": null,
            "max_height": null,
            "max_width": null,
            "min_height": null,
            "min_width": null,
            "object_fit": null,
            "object_position": null,
            "order": null,
            "overflow": null,
            "overflow_x": null,
            "overflow_y": null,
            "padding": null,
            "right": null,
            "top": null,
            "visibility": null,
            "width": null
          }
        },
        "7a8cfd71925a40eeacbf196fd0cb46d0": {
          "model_module": "@jupyter-widgets/base",
          "model_name": "LayoutModel",
          "model_module_version": "1.2.0",
          "state": {
            "_model_module": "@jupyter-widgets/base",
            "_model_module_version": "1.2.0",
            "_model_name": "LayoutModel",
            "_view_count": null,
            "_view_module": "@jupyter-widgets/base",
            "_view_module_version": "1.2.0",
            "_view_name": "LayoutView",
            "align_content": null,
            "align_items": null,
            "align_self": null,
            "border": null,
            "bottom": null,
            "display": null,
            "flex": null,
            "flex_flow": null,
            "grid_area": null,
            "grid_auto_columns": null,
            "grid_auto_flow": null,
            "grid_auto_rows": null,
            "grid_column": null,
            "grid_gap": null,
            "grid_row": null,
            "grid_template_areas": null,
            "grid_template_columns": null,
            "grid_template_rows": null,
            "height": null,
            "justify_content": null,
            "justify_items": null,
            "left": null,
            "margin": null,
            "max_height": null,
            "max_width": null,
            "min_height": null,
            "min_width": null,
            "object_fit": null,
            "object_position": null,
            "order": null,
            "overflow": null,
            "overflow_x": null,
            "overflow_y": null,
            "padding": null,
            "right": null,
            "top": null,
            "visibility": null,
            "width": null
          }
        },
        "2bcb12577dfa4427bee7580defd62892": {
          "model_module": "@jupyter-widgets/controls",
          "model_name": "DescriptionStyleModel",
          "model_module_version": "1.5.0",
          "state": {
            "_model_module": "@jupyter-widgets/controls",
            "_model_module_version": "1.5.0",
            "_model_name": "DescriptionStyleModel",
            "_view_count": null,
            "_view_module": "@jupyter-widgets/base",
            "_view_module_version": "1.2.0",
            "_view_name": "StyleView",
            "description_width": ""
          }
        },
        "e0ca170446ea4454872bb55fccbb5ea3": {
          "model_module": "@jupyter-widgets/base",
          "model_name": "LayoutModel",
          "model_module_version": "1.2.0",
          "state": {
            "_model_module": "@jupyter-widgets/base",
            "_model_module_version": "1.2.0",
            "_model_name": "LayoutModel",
            "_view_count": null,
            "_view_module": "@jupyter-widgets/base",
            "_view_module_version": "1.2.0",
            "_view_name": "LayoutView",
            "align_content": null,
            "align_items": null,
            "align_self": null,
            "border": null,
            "bottom": null,
            "display": null,
            "flex": null,
            "flex_flow": null,
            "grid_area": null,
            "grid_auto_columns": null,
            "grid_auto_flow": null,
            "grid_auto_rows": null,
            "grid_column": null,
            "grid_gap": null,
            "grid_row": null,
            "grid_template_areas": null,
            "grid_template_columns": null,
            "grid_template_rows": null,
            "height": null,
            "justify_content": null,
            "justify_items": null,
            "left": null,
            "margin": null,
            "max_height": null,
            "max_width": null,
            "min_height": null,
            "min_width": null,
            "object_fit": null,
            "object_position": null,
            "order": null,
            "overflow": null,
            "overflow_x": null,
            "overflow_y": null,
            "padding": null,
            "right": null,
            "top": null,
            "visibility": null,
            "width": null
          }
        },
        "cc769a57a8584d8184a552ac15801ffc": {
          "model_module": "@jupyter-widgets/controls",
          "model_name": "ProgressStyleModel",
          "model_module_version": "1.5.0",
          "state": {
            "_model_module": "@jupyter-widgets/controls",
            "_model_module_version": "1.5.0",
            "_model_name": "ProgressStyleModel",
            "_view_count": null,
            "_view_module": "@jupyter-widgets/base",
            "_view_module_version": "1.2.0",
            "_view_name": "StyleView",
            "bar_color": null,
            "description_width": ""
          }
        },
        "62f3a5ffbf874a4bbd3e505735e95ff5": {
          "model_module": "@jupyter-widgets/base",
          "model_name": "LayoutModel",
          "model_module_version": "1.2.0",
          "state": {
            "_model_module": "@jupyter-widgets/base",
            "_model_module_version": "1.2.0",
            "_model_name": "LayoutModel",
            "_view_count": null,
            "_view_module": "@jupyter-widgets/base",
            "_view_module_version": "1.2.0",
            "_view_name": "LayoutView",
            "align_content": null,
            "align_items": null,
            "align_self": null,
            "border": null,
            "bottom": null,
            "display": null,
            "flex": null,
            "flex_flow": null,
            "grid_area": null,
            "grid_auto_columns": null,
            "grid_auto_flow": null,
            "grid_auto_rows": null,
            "grid_column": null,
            "grid_gap": null,
            "grid_row": null,
            "grid_template_areas": null,
            "grid_template_columns": null,
            "grid_template_rows": null,
            "height": null,
            "justify_content": null,
            "justify_items": null,
            "left": null,
            "margin": null,
            "max_height": null,
            "max_width": null,
            "min_height": null,
            "min_width": null,
            "object_fit": null,
            "object_position": null,
            "order": null,
            "overflow": null,
            "overflow_x": null,
            "overflow_y": null,
            "padding": null,
            "right": null,
            "top": null,
            "visibility": null,
            "width": null
          }
        },
        "822bd9fe4a2a4e1ab72a62b74c040e14": {
          "model_module": "@jupyter-widgets/controls",
          "model_name": "DescriptionStyleModel",
          "model_module_version": "1.5.0",
          "state": {
            "_model_module": "@jupyter-widgets/controls",
            "_model_module_version": "1.5.0",
            "_model_name": "DescriptionStyleModel",
            "_view_count": null,
            "_view_module": "@jupyter-widgets/base",
            "_view_module_version": "1.2.0",
            "_view_name": "StyleView",
            "description_width": ""
          }
        },
        "b613872b2b5e46e2bc11179e02237682": {
          "model_module": "@jupyter-widgets/controls",
          "model_name": "HBoxModel",
          "model_module_version": "1.5.0",
          "state": {
            "_dom_classes": [],
            "_model_module": "@jupyter-widgets/controls",
            "_model_module_version": "1.5.0",
            "_model_name": "HBoxModel",
            "_view_count": null,
            "_view_module": "@jupyter-widgets/controls",
            "_view_module_version": "1.5.0",
            "_view_name": "HBoxView",
            "box_style": "",
            "children": [
              "IPY_MODEL_320cb3f7e78941c8ae04a3e9d12c6fb7",
              "IPY_MODEL_6381fbd73d2249c39e0659c553951018",
              "IPY_MODEL_3553f58c64d34962bb8c10237c0660ef"
            ],
            "layout": "IPY_MODEL_791afe4454e741b794734a1eaaffeeeb"
          }
        },
        "320cb3f7e78941c8ae04a3e9d12c6fb7": {
          "model_module": "@jupyter-widgets/controls",
          "model_name": "HTMLModel",
          "model_module_version": "1.5.0",
          "state": {
            "_dom_classes": [],
            "_model_module": "@jupyter-widgets/controls",
            "_model_module_version": "1.5.0",
            "_model_name": "HTMLModel",
            "_view_count": null,
            "_view_module": "@jupyter-widgets/controls",
            "_view_module_version": "1.5.0",
            "_view_name": "HTMLView",
            "description": "",
            "description_tooltip": null,
            "layout": "IPY_MODEL_037dc3b549414290bd2d0810a3c8f7c0",
            "placeholder": "​",
            "style": "IPY_MODEL_dca187516afb406596a3d1aeda95c653",
            "value": "Iteration: 100%"
          }
        },
        "6381fbd73d2249c39e0659c553951018": {
          "model_module": "@jupyter-widgets/controls",
          "model_name": "FloatProgressModel",
          "model_module_version": "1.5.0",
          "state": {
            "_dom_classes": [],
            "_model_module": "@jupyter-widgets/controls",
            "_model_module_version": "1.5.0",
            "_model_name": "FloatProgressModel",
            "_view_count": null,
            "_view_module": "@jupyter-widgets/controls",
            "_view_module_version": "1.5.0",
            "_view_name": "ProgressView",
            "bar_style": "success",
            "description": "",
            "description_tooltip": null,
            "layout": "IPY_MODEL_161057e805394eb5a4ed973a79ab2222",
            "max": 1253,
            "min": 0,
            "orientation": "horizontal",
            "style": "IPY_MODEL_ed6955a481d041cca47d34894ca111c2",
            "value": 1253
          }
        },
        "3553f58c64d34962bb8c10237c0660ef": {
          "model_module": "@jupyter-widgets/controls",
          "model_name": "HTMLModel",
          "model_module_version": "1.5.0",
          "state": {
            "_dom_classes": [],
            "_model_module": "@jupyter-widgets/controls",
            "_model_module_version": "1.5.0",
            "_model_name": "HTMLModel",
            "_view_count": null,
            "_view_module": "@jupyter-widgets/controls",
            "_view_module_version": "1.5.0",
            "_view_name": "HTMLView",
            "description": "",
            "description_tooltip": null,
            "layout": "IPY_MODEL_c626fb45957c4f5999ad2e3465b7f68d",
            "placeholder": "​",
            "style": "IPY_MODEL_0eed1df0e7c14b40a9522f5da8d8ccb4",
            "value": " 1253/1253 [05:38&lt;00:00,  3.67it/s]"
          }
        },
        "791afe4454e741b794734a1eaaffeeeb": {
          "model_module": "@jupyter-widgets/base",
          "model_name": "LayoutModel",
          "model_module_version": "1.2.0",
          "state": {
            "_model_module": "@jupyter-widgets/base",
            "_model_module_version": "1.2.0",
            "_model_name": "LayoutModel",
            "_view_count": null,
            "_view_module": "@jupyter-widgets/base",
            "_view_module_version": "1.2.0",
            "_view_name": "LayoutView",
            "align_content": null,
            "align_items": null,
            "align_self": null,
            "border": null,
            "bottom": null,
            "display": null,
            "flex": null,
            "flex_flow": null,
            "grid_area": null,
            "grid_auto_columns": null,
            "grid_auto_flow": null,
            "grid_auto_rows": null,
            "grid_column": null,
            "grid_gap": null,
            "grid_row": null,
            "grid_template_areas": null,
            "grid_template_columns": null,
            "grid_template_rows": null,
            "height": null,
            "justify_content": null,
            "justify_items": null,
            "left": null,
            "margin": null,
            "max_height": null,
            "max_width": null,
            "min_height": null,
            "min_width": null,
            "object_fit": null,
            "object_position": null,
            "order": null,
            "overflow": null,
            "overflow_x": null,
            "overflow_y": null,
            "padding": null,
            "right": null,
            "top": null,
            "visibility": null,
            "width": null
          }
        },
        "037dc3b549414290bd2d0810a3c8f7c0": {
          "model_module": "@jupyter-widgets/base",
          "model_name": "LayoutModel",
          "model_module_version": "1.2.0",
          "state": {
            "_model_module": "@jupyter-widgets/base",
            "_model_module_version": "1.2.0",
            "_model_name": "LayoutModel",
            "_view_count": null,
            "_view_module": "@jupyter-widgets/base",
            "_view_module_version": "1.2.0",
            "_view_name": "LayoutView",
            "align_content": null,
            "align_items": null,
            "align_self": null,
            "border": null,
            "bottom": null,
            "display": null,
            "flex": null,
            "flex_flow": null,
            "grid_area": null,
            "grid_auto_columns": null,
            "grid_auto_flow": null,
            "grid_auto_rows": null,
            "grid_column": null,
            "grid_gap": null,
            "grid_row": null,
            "grid_template_areas": null,
            "grid_template_columns": null,
            "grid_template_rows": null,
            "height": null,
            "justify_content": null,
            "justify_items": null,
            "left": null,
            "margin": null,
            "max_height": null,
            "max_width": null,
            "min_height": null,
            "min_width": null,
            "object_fit": null,
            "object_position": null,
            "order": null,
            "overflow": null,
            "overflow_x": null,
            "overflow_y": null,
            "padding": null,
            "right": null,
            "top": null,
            "visibility": null,
            "width": null
          }
        },
        "dca187516afb406596a3d1aeda95c653": {
          "model_module": "@jupyter-widgets/controls",
          "model_name": "DescriptionStyleModel",
          "model_module_version": "1.5.0",
          "state": {
            "_model_module": "@jupyter-widgets/controls",
            "_model_module_version": "1.5.0",
            "_model_name": "DescriptionStyleModel",
            "_view_count": null,
            "_view_module": "@jupyter-widgets/base",
            "_view_module_version": "1.2.0",
            "_view_name": "StyleView",
            "description_width": ""
          }
        },
        "161057e805394eb5a4ed973a79ab2222": {
          "model_module": "@jupyter-widgets/base",
          "model_name": "LayoutModel",
          "model_module_version": "1.2.0",
          "state": {
            "_model_module": "@jupyter-widgets/base",
            "_model_module_version": "1.2.0",
            "_model_name": "LayoutModel",
            "_view_count": null,
            "_view_module": "@jupyter-widgets/base",
            "_view_module_version": "1.2.0",
            "_view_name": "LayoutView",
            "align_content": null,
            "align_items": null,
            "align_self": null,
            "border": null,
            "bottom": null,
            "display": null,
            "flex": null,
            "flex_flow": null,
            "grid_area": null,
            "grid_auto_columns": null,
            "grid_auto_flow": null,
            "grid_auto_rows": null,
            "grid_column": null,
            "grid_gap": null,
            "grid_row": null,
            "grid_template_areas": null,
            "grid_template_columns": null,
            "grid_template_rows": null,
            "height": null,
            "justify_content": null,
            "justify_items": null,
            "left": null,
            "margin": null,
            "max_height": null,
            "max_width": null,
            "min_height": null,
            "min_width": null,
            "object_fit": null,
            "object_position": null,
            "order": null,
            "overflow": null,
            "overflow_x": null,
            "overflow_y": null,
            "padding": null,
            "right": null,
            "top": null,
            "visibility": null,
            "width": null
          }
        },
        "ed6955a481d041cca47d34894ca111c2": {
          "model_module": "@jupyter-widgets/controls",
          "model_name": "ProgressStyleModel",
          "model_module_version": "1.5.0",
          "state": {
            "_model_module": "@jupyter-widgets/controls",
            "_model_module_version": "1.5.0",
            "_model_name": "ProgressStyleModel",
            "_view_count": null,
            "_view_module": "@jupyter-widgets/base",
            "_view_module_version": "1.2.0",
            "_view_name": "StyleView",
            "bar_color": null,
            "description_width": ""
          }
        },
        "c626fb45957c4f5999ad2e3465b7f68d": {
          "model_module": "@jupyter-widgets/base",
          "model_name": "LayoutModel",
          "model_module_version": "1.2.0",
          "state": {
            "_model_module": "@jupyter-widgets/base",
            "_model_module_version": "1.2.0",
            "_model_name": "LayoutModel",
            "_view_count": null,
            "_view_module": "@jupyter-widgets/base",
            "_view_module_version": "1.2.0",
            "_view_name": "LayoutView",
            "align_content": null,
            "align_items": null,
            "align_self": null,
            "border": null,
            "bottom": null,
            "display": null,
            "flex": null,
            "flex_flow": null,
            "grid_area": null,
            "grid_auto_columns": null,
            "grid_auto_flow": null,
            "grid_auto_rows": null,
            "grid_column": null,
            "grid_gap": null,
            "grid_row": null,
            "grid_template_areas": null,
            "grid_template_columns": null,
            "grid_template_rows": null,
            "height": null,
            "justify_content": null,
            "justify_items": null,
            "left": null,
            "margin": null,
            "max_height": null,
            "max_width": null,
            "min_height": null,
            "min_width": null,
            "object_fit": null,
            "object_position": null,
            "order": null,
            "overflow": null,
            "overflow_x": null,
            "overflow_y": null,
            "padding": null,
            "right": null,
            "top": null,
            "visibility": null,
            "width": null
          }
        },
        "0eed1df0e7c14b40a9522f5da8d8ccb4": {
          "model_module": "@jupyter-widgets/controls",
          "model_name": "DescriptionStyleModel",
          "model_module_version": "1.5.0",
          "state": {
            "_model_module": "@jupyter-widgets/controls",
            "_model_module_version": "1.5.0",
            "_model_name": "DescriptionStyleModel",
            "_view_count": null,
            "_view_module": "@jupyter-widgets/base",
            "_view_module_version": "1.2.0",
            "_view_name": "StyleView",
            "description_width": ""
          }
        }
      }
    }
  },
  "nbformat": 4,
  "nbformat_minor": 0
}