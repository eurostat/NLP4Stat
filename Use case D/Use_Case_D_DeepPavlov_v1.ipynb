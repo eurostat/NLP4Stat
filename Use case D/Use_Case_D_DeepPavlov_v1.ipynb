{
  "cells": [
    {
      "cell_type": "markdown",
      "metadata": {
        "id": "Jzdvv55ATzn4"
      },
      "source": [
        "#Use Case D - DeepPavlov (using BERT) "
      ]
    },
    {
      "cell_type": "markdown",
      "metadata": {
        "id": "iLsfei7Mf1UI"
      },
      "source": [
        "\n",
        "\n",
        "* This is a Google Colab notebook. You must have a Google account with a Google Drive to store/ load the model. Upload it from its location in GitHub and allow the code to access your Google Drive.\n",
        "* Please put your credentials in the cell \"Connect to the Virtuoso database\".\n",
        "* Please run the first cell under \"Installations\" first. This will install DeepPavlov and it may ask you to restart the runtime.\n",
        "* Fine-tuning can be skipped if already run once. Go to cell \"Loading the fine-tuned model\", load the saved model and continue.\n",
        "* See instructions in cell \"Configurations\" to change the bi-encoder model, to select if you want to see intermediate results when interacting with chatbot, or to change the inputs - full set of proposals (datasets or SE Glossary articles)."
      ]
    },
    {
      "cell_type": "markdown",
      "metadata": {
        "id": "8x3L89oqxVO_"
      },
      "source": [
        "### Installations"
      ]
    },
    {
      "cell_type": "code",
      "execution_count": 1,
      "metadata": {
        "colab": {
          "base_uri": "https://localhost:8080/",
          "height": 1000
        },
        "id": "YrvChXdietjA",
        "outputId": "8a6e04e4-321a-4562-f753-4b3aa75e4c03"
      },
      "outputs": [
        {
          "output_type": "stream",
          "name": "stdout",
          "text": [
            "Collecting deeppavlov\n",
            "  Downloading deeppavlov-0.17.3-py3-none-any.whl (878 kB)\n",
            "\u001b[K     |████████████████████████████████| 878 kB 4.8 MB/s \n",
            "\u001b[?25hCollecting pytelegrambotapi==3.6.7\n",
            "  Downloading pyTelegramBotAPI-3.6.7.tar.gz (65 kB)\n",
            "\u001b[K     |████████████████████████████████| 65 kB 4.7 MB/s \n",
            "\u001b[?25hCollecting requests==2.22.0\n",
            "  Downloading requests-2.22.0-py2.py3-none-any.whl (57 kB)\n",
            "\u001b[K     |████████████████████████████████| 57 kB 6.8 MB/s \n",
            "\u001b[?25hCollecting pymorphy2-dicts-ru\n",
            "  Downloading pymorphy2_dicts_ru-2.4.417127.4579844-py2.py3-none-any.whl (8.2 MB)\n",
            "\u001b[K     |████████████████████████████████| 8.2 MB 63.3 MB/s \n",
            "\u001b[?25hCollecting sacremoses==0.0.35\n",
            "  Downloading sacremoses-0.0.35.tar.gz (859 kB)\n",
            "\u001b[K     |████████████████████████████████| 859 kB 65.3 MB/s \n",
            "\u001b[?25hCollecting overrides==2.7.0\n",
            "  Downloading overrides-2.7.0.tar.gz (4.5 kB)\n",
            "Collecting uvloop==0.14.0\n",
            "  Downloading uvloop-0.14.0-cp37-cp37m-manylinux2010_x86_64.whl (3.8 MB)\n",
            "\u001b[K     |████████████████████████████████| 3.8 MB 37.5 MB/s \n",
            "\u001b[?25hCollecting h5py==2.10.0\n",
            "  Downloading h5py-2.10.0-cp37-cp37m-manylinux1_x86_64.whl (2.9 MB)\n",
            "\u001b[K     |████████████████████████████████| 2.9 MB 46.6 MB/s \n",
            "\u001b[?25hCollecting tqdm==4.62.0\n",
            "  Downloading tqdm-4.62.0-py2.py3-none-any.whl (76 kB)\n",
            "\u001b[K     |████████████████████████████████| 76 kB 4.1 MB/s \n",
            "\u001b[?25hCollecting filelock==3.0.12\n",
            "  Downloading filelock-3.0.12-py3-none-any.whl (7.6 kB)\n",
            "Collecting pyopenssl==22.0.0\n",
            "  Downloading pyOpenSSL-22.0.0-py2.py3-none-any.whl (55 kB)\n",
            "\u001b[K     |████████████████████████████████| 55 kB 4.6 MB/s \n",
            "\u001b[?25hCollecting aio-pika==6.4.1\n",
            "  Downloading aio_pika-6.4.1-py3-none-any.whl (40 kB)\n",
            "\u001b[K     |████████████████████████████████| 40 kB 15 kB/s \n",
            "\u001b[?25hCollecting uvicorn==0.11.7\n",
            "  Downloading uvicorn-0.11.7-py3-none-any.whl (43 kB)\n",
            "\u001b[K     |████████████████████████████████| 43 kB 2.0 MB/s \n",
            "\u001b[?25hCollecting ruamel.yaml==0.15.100\n",
            "  Downloading ruamel.yaml-0.15.100-cp37-cp37m-manylinux1_x86_64.whl (654 kB)\n",
            "\u001b[K     |████████████████████████████████| 654 kB 51.7 MB/s \n",
            "\u001b[?25hCollecting Cython==0.29.14\n",
            "  Downloading Cython-0.29.14-cp37-cp37m-manylinux1_x86_64.whl (2.1 MB)\n",
            "\u001b[K     |████████████████████████████████| 2.1 MB 15.4 MB/s \n",
            "\u001b[?25hCollecting pydantic==1.3\n",
            "  Downloading pydantic-1.3-cp37-cp37m-manylinux2010_x86_64.whl (7.3 MB)\n",
            "\u001b[K     |████████████████████████████████| 7.3 MB 36.0 MB/s \n",
            "\u001b[?25hRequirement already satisfied: click==7.1.2 in /usr/local/lib/python3.7/dist-packages (from deeppavlov) (7.1.2)\n",
            "Collecting rusenttokenize==0.0.5\n",
            "  Downloading rusenttokenize-0.0.5-py3-none-any.whl (10 kB)\n",
            "Requirement already satisfied: scipy==1.4.1 in /usr/local/lib/python3.7/dist-packages (from deeppavlov) (1.4.1)\n",
            "Collecting nltk==3.4.5\n",
            "  Downloading nltk-3.4.5.zip (1.5 MB)\n",
            "\u001b[K     |████████████████████████████████| 1.5 MB 43.9 MB/s \n",
            "\u001b[?25hCollecting pandas==0.25.3\n",
            "  Downloading pandas-0.25.3-cp37-cp37m-manylinux1_x86_64.whl (10.4 MB)\n",
            "\u001b[K     |████████████████████████████████| 10.4 MB 51.4 MB/s \n",
            "\u001b[?25hCollecting scikit-learn==0.21.2\n",
            "  Downloading scikit_learn-0.21.2-cp37-cp37m-manylinux1_x86_64.whl (6.7 MB)\n",
            "\u001b[K     |████████████████████████████████| 6.7 MB 52.8 MB/s \n",
            "\u001b[?25hCollecting fastapi==0.47.1\n",
            "  Downloading fastapi-0.47.1-py3-none-any.whl (43 kB)\n",
            "\u001b[K     |████████████████████████████████| 43 kB 2.1 MB/s \n",
            "\u001b[?25hCollecting pymorphy2==0.8\n",
            "  Downloading pymorphy2-0.8-py2.py3-none-any.whl (46 kB)\n",
            "\u001b[K     |████████████████████████████████| 46 kB 2.0 MB/s \n",
            "\u001b[?25hCollecting pytz==2019.1\n",
            "  Downloading pytz-2019.1-py2.py3-none-any.whl (510 kB)\n",
            "\u001b[K     |████████████████████████████████| 510 kB 51.4 MB/s \n",
            "\u001b[?25hCollecting prometheus-client==0.7.1\n",
            "  Downloading prometheus_client-0.7.1.tar.gz (38 kB)\n",
            "Collecting numpy==1.18.0\n",
            "  Downloading numpy-1.18.0-cp37-cp37m-manylinux1_x86_64.whl (20.1 MB)\n",
            "\u001b[K     |████████████████████████████████| 20.1 MB 1.4 MB/s \n",
            "\u001b[?25hCollecting aiormq<4,>=3.2.0\n",
            "  Downloading aiormq-3.3.1-py3-none-any.whl (28 kB)\n",
            "Collecting yarl\n",
            "  Downloading yarl-1.7.2-cp37-cp37m-manylinux_2_5_x86_64.manylinux1_x86_64.manylinux_2_12_x86_64.manylinux2010_x86_64.whl (271 kB)\n",
            "\u001b[K     |████████████████████████████████| 271 kB 48.8 MB/s \n",
            "\u001b[?25hCollecting starlette<=0.12.9,>=0.12.9\n",
            "  Downloading starlette-0.12.9.tar.gz (46 kB)\n",
            "\u001b[K     |████████████████████████████████| 46 kB 3.6 MB/s \n",
            "\u001b[?25hRequirement already satisfied: six in /usr/local/lib/python3.7/dist-packages (from h5py==2.10.0->deeppavlov) (1.15.0)\n",
            "Requirement already satisfied: python-dateutil>=2.6.1 in /usr/local/lib/python3.7/dist-packages (from pandas==0.25.3->deeppavlov) (2.8.2)\n",
            "Requirement already satisfied: docopt>=0.6 in /usr/local/lib/python3.7/dist-packages (from pymorphy2==0.8->deeppavlov) (0.6.2)\n",
            "Collecting pymorphy2-dicts<3.0,>=2.4\n",
            "  Downloading pymorphy2_dicts-2.4.393442.3710985-py2.py3-none-any.whl (7.1 MB)\n",
            "\u001b[K     |████████████████████████████████| 7.1 MB 29.4 MB/s \n",
            "\u001b[?25hCollecting dawg-python>=0.7\n",
            "  Downloading DAWG_Python-0.7.2-py2.py3-none-any.whl (11 kB)\n",
            "Collecting cryptography>=35.0\n",
            "  Downloading cryptography-37.0.2-cp36-abi3-manylinux_2_24_x86_64.whl (4.0 MB)\n",
            "\u001b[K     |████████████████████████████████| 4.0 MB 49.6 MB/s \n",
            "\u001b[?25hCollecting idna<2.9,>=2.5\n",
            "  Downloading idna-2.8-py2.py3-none-any.whl (58 kB)\n",
            "\u001b[K     |████████████████████████████████| 58 kB 6.3 MB/s \n",
            "\u001b[?25hRequirement already satisfied: chardet<3.1.0,>=3.0.2 in /usr/local/lib/python3.7/dist-packages (from requests==2.22.0->deeppavlov) (3.0.4)\n",
            "Requirement already satisfied: urllib3!=1.25.0,!=1.25.1,<1.26,>=1.21.1 in /usr/local/lib/python3.7/dist-packages (from requests==2.22.0->deeppavlov) (1.24.3)\n",
            "Requirement already satisfied: certifi>=2017.4.17 in /usr/local/lib/python3.7/dist-packages (from requests==2.22.0->deeppavlov) (2021.10.8)\n",
            "Requirement already satisfied: joblib in /usr/local/lib/python3.7/dist-packages (from sacremoses==0.0.35->deeppavlov) (1.1.0)\n",
            "Collecting h11<0.10,>=0.8\n",
            "  Downloading h11-0.9.0-py2.py3-none-any.whl (53 kB)\n",
            "\u001b[K     |████████████████████████████████| 53 kB 2.2 MB/s \n",
            "\u001b[?25hCollecting websockets==8.*\n",
            "  Downloading websockets-8.1-cp37-cp37m-manylinux2010_x86_64.whl (79 kB)\n",
            "\u001b[K     |████████████████████████████████| 79 kB 8.1 MB/s \n",
            "\u001b[?25hCollecting httptools==0.1.*\n",
            "  Downloading httptools-0.1.2-cp37-cp37m-manylinux1_x86_64.whl (219 kB)\n",
            "\u001b[K     |████████████████████████████████| 219 kB 55.0 MB/s \n",
            "\u001b[?25hCollecting pamqp==2.3.0\n",
            "  Downloading pamqp-2.3.0-py2.py3-none-any.whl (28 kB)\n",
            "Requirement already satisfied: cffi>=1.12 in /usr/local/lib/python3.7/dist-packages (from cryptography>=35.0->pyopenssl==22.0.0->deeppavlov) (1.15.0)\n",
            "Requirement already satisfied: pycparser in /usr/local/lib/python3.7/dist-packages (from cffi>=1.12->cryptography>=35.0->pyopenssl==22.0.0->deeppavlov) (2.21)\n",
            "Requirement already satisfied: typing-extensions>=3.7.4 in /usr/local/lib/python3.7/dist-packages (from yarl->aio-pika==6.4.1->deeppavlov) (4.2.0)\n",
            "Collecting multidict>=4.0\n",
            "  Downloading multidict-6.0.2-cp37-cp37m-manylinux_2_17_x86_64.manylinux2014_x86_64.whl (94 kB)\n",
            "\u001b[K     |████████████████████████████████| 94 kB 4.3 MB/s \n",
            "\u001b[?25hBuilding wheels for collected packages: nltk, overrides, prometheus-client, pytelegrambotapi, sacremoses, starlette\n",
            "  Building wheel for nltk (setup.py) ... \u001b[?25l\u001b[?25hdone\n",
            "  Created wheel for nltk: filename=nltk-3.4.5-py3-none-any.whl size=1449923 sha256=3128c184a80b4ec18d2d825d78f5ad18edda97131a589591a3780dfdfb88d23f\n",
            "  Stored in directory: /root/.cache/pip/wheels/48/8b/7f/473521e0c731c6566d631b281f323842bbda9bd819eb9a3ead\n",
            "  Building wheel for overrides (setup.py) ... \u001b[?25l\u001b[?25hdone\n",
            "  Created wheel for overrides: filename=overrides-2.7.0-py3-none-any.whl size=5603 sha256=68d44bde8b8b1ecc0f29e5f5bb76ac5bd8145e55e0fbdb696f0cf66b4ed871c0\n",
            "  Stored in directory: /root/.cache/pip/wheels/c9/87/45/bfdacf6c3b8233b6e8d519edcbd1cf297ad5ff5f0bf84bb9c1\n",
            "  Building wheel for prometheus-client (setup.py) ... \u001b[?25l\u001b[?25hdone\n",
            "  Created wheel for prometheus-client: filename=prometheus_client-0.7.1-py3-none-any.whl size=41405 sha256=b1e0158ee440adaef1d35b2edcd4aa0589849dff338f21627f3f5dc546c21781\n",
            "  Stored in directory: /root/.cache/pip/wheels/30/0c/26/59ba285bf65dc79d195e9b25e2ddde4c61070422729b0cd914\n",
            "  Building wheel for pytelegrambotapi (setup.py) ... \u001b[?25l\u001b[?25hdone\n",
            "  Created wheel for pytelegrambotapi: filename=pyTelegramBotAPI-3.6.7-py3-none-any.whl size=47176 sha256=c9cdbae6798724b486c05a1b0c6610d1bac16eb0d3a48f17607d1d7b735f3904\n",
            "  Stored in directory: /root/.cache/pip/wheels/7f/7c/54/8eddf2369ef1b9190e2ee6dc2b40df54b6c65529a38790fdd4\n",
            "  Building wheel for sacremoses (setup.py) ... \u001b[?25l\u001b[?25hdone\n",
            "  Created wheel for sacremoses: filename=sacremoses-0.0.35-py3-none-any.whl size=883989 sha256=3dffc2861b3146382af1054aa29edb7148edcd5c43a0cc24945dd317fccbecc0\n",
            "  Stored in directory: /root/.cache/pip/wheels/d1/ff/0e/e00ff1e22100702ac8b24e709551ae0fb29db9ffc843510a64\n",
            "  Building wheel for starlette (setup.py) ... \u001b[?25l\u001b[?25hdone\n",
            "  Created wheel for starlette: filename=starlette-0.12.9-py3-none-any.whl size=57252 sha256=2da14a102a8c6bd41ea85d6d8cb3c6c7a13168fba83e1e2db4274256bc1327b4\n",
            "  Stored in directory: /root/.cache/pip/wheels/e8/78/be/f57ed5aed7cd222abdb24e3186b5c9f1074184fcc0a295102b\n",
            "Successfully built nltk overrides prometheus-client pytelegrambotapi sacremoses starlette\n",
            "Installing collected packages: multidict, idna, yarl, pamqp, numpy, websockets, uvloop, tqdm, starlette, requests, pytz, pymorphy2-dicts, pydantic, httptools, h11, dawg-python, cryptography, aiormq, uvicorn, scikit-learn, sacremoses, rusenttokenize, ruamel.yaml, pytelegrambotapi, pyopenssl, pymorphy2-dicts-ru, pymorphy2, prometheus-client, pandas, overrides, nltk, h5py, filelock, fastapi, Cython, aio-pika, deeppavlov\n",
            "  Attempting uninstall: idna\n",
            "    Found existing installation: idna 2.10\n",
            "    Uninstalling idna-2.10:\n",
            "      Successfully uninstalled idna-2.10\n",
            "  Attempting uninstall: numpy\n",
            "    Found existing installation: numpy 1.21.6\n",
            "    Uninstalling numpy-1.21.6:\n",
            "      Successfully uninstalled numpy-1.21.6\n",
            "  Attempting uninstall: tqdm\n",
            "    Found existing installation: tqdm 4.64.0\n",
            "    Uninstalling tqdm-4.64.0:\n",
            "      Successfully uninstalled tqdm-4.64.0\n",
            "  Attempting uninstall: requests\n",
            "    Found existing installation: requests 2.23.0\n",
            "    Uninstalling requests-2.23.0:\n",
            "      Successfully uninstalled requests-2.23.0\n",
            "  Attempting uninstall: pytz\n",
            "    Found existing installation: pytz 2022.1\n",
            "    Uninstalling pytz-2022.1:\n",
            "      Successfully uninstalled pytz-2022.1\n",
            "  Attempting uninstall: scikit-learn\n",
            "    Found existing installation: scikit-learn 1.0.2\n",
            "    Uninstalling scikit-learn-1.0.2:\n",
            "      Successfully uninstalled scikit-learn-1.0.2\n",
            "  Attempting uninstall: prometheus-client\n",
            "    Found existing installation: prometheus-client 0.14.1\n",
            "    Uninstalling prometheus-client-0.14.1:\n",
            "      Successfully uninstalled prometheus-client-0.14.1\n",
            "  Attempting uninstall: pandas\n",
            "    Found existing installation: pandas 1.3.5\n",
            "    Uninstalling pandas-1.3.5:\n",
            "      Successfully uninstalled pandas-1.3.5\n",
            "  Attempting uninstall: nltk\n",
            "    Found existing installation: nltk 3.2.5\n",
            "    Uninstalling nltk-3.2.5:\n",
            "      Successfully uninstalled nltk-3.2.5\n",
            "  Attempting uninstall: h5py\n",
            "    Found existing installation: h5py 3.1.0\n",
            "    Uninstalling h5py-3.1.0:\n",
            "      Successfully uninstalled h5py-3.1.0\n",
            "  Attempting uninstall: filelock\n",
            "    Found existing installation: filelock 3.7.0\n",
            "    Uninstalling filelock-3.7.0:\n",
            "      Successfully uninstalled filelock-3.7.0\n",
            "  Attempting uninstall: Cython\n",
            "    Found existing installation: Cython 0.29.28\n",
            "    Uninstalling Cython-0.29.28:\n",
            "      Successfully uninstalled Cython-0.29.28\n",
            "\u001b[31mERROR: pip's dependency resolver does not currently take into account all the packages that are installed. This behaviour is the source of the following dependency conflicts.\n",
            "tensorflow 2.8.0+zzzcolab20220506162203 requires tf-estimator-nightly==2.8.0.dev2021122109, which is not installed.\n",
            "yellowbrick 1.4 requires scikit-learn>=1.0.0, but you have scikit-learn 0.21.2 which is incompatible.\n",
            "xarray 0.18.2 requires pandas>=1.0, but you have pandas 0.25.3 which is incompatible.\n",
            "tensorflow 2.8.0+zzzcolab20220506162203 requires numpy>=1.20, but you have numpy 1.18.0 which is incompatible.\n",
            "tables 3.7.0 requires numpy>=1.19.0, but you have numpy 1.18.0 which is incompatible.\n",
            "kapre 0.3.7 requires numpy>=1.18.5, but you have numpy 1.18.0 which is incompatible.\n",
            "jaxlib 0.3.7+cuda11.cudnn805 requires numpy>=1.19, but you have numpy 1.18.0 which is incompatible.\n",
            "jax 0.3.8 requires numpy>=1.19, but you have numpy 1.18.0 which is incompatible.\n",
            "imbalanced-learn 0.8.1 requires scikit-learn>=0.24, but you have scikit-learn 0.21.2 which is incompatible.\n",
            "google-colab 1.0.0 requires pandas>=1.1.0; python_version >= \"3.0\", but you have pandas 0.25.3 which is incompatible.\n",
            "google-colab 1.0.0 requires requests~=2.23.0, but you have requests 2.22.0 which is incompatible.\n",
            "fbprophet 0.7.1 requires pandas>=1.0.4, but you have pandas 0.25.3 which is incompatible.\n",
            "datascience 0.10.6 requires folium==0.2.1, but you have folium 0.8.3 which is incompatible.\n",
            "albumentations 0.1.12 requires imgaug<0.2.7,>=0.2.5, but you have imgaug 0.2.9 which is incompatible.\u001b[0m\n",
            "Successfully installed Cython-0.29.14 aio-pika-6.4.1 aiormq-3.3.1 cryptography-37.0.2 dawg-python-0.7.2 deeppavlov-0.17.3 fastapi-0.47.1 filelock-3.0.12 h11-0.9.0 h5py-2.10.0 httptools-0.1.2 idna-2.8 multidict-6.0.2 nltk-3.4.5 numpy-1.18.0 overrides-2.7.0 pamqp-2.3.0 pandas-0.25.3 prometheus-client-0.7.1 pydantic-1.3 pymorphy2-0.8 pymorphy2-dicts-2.4.393442.3710985 pymorphy2-dicts-ru-2.4.417127.4579844 pyopenssl-22.0.0 pytelegrambotapi-3.6.7 pytz-2019.1 requests-2.22.0 ruamel.yaml-0.15.100 rusenttokenize-0.0.5 sacremoses-0.0.35 scikit-learn-0.21.2 starlette-0.12.9 tqdm-4.62.0 uvicorn-0.11.7 uvloop-0.14.0 websockets-8.1 yarl-1.7.2\n"
          ]
        },
        {
          "output_type": "display_data",
          "data": {
            "application/vnd.colab-display-data+json": {
              "pip_warning": {
                "packages": [
                  "numpy"
                ]
              }
            }
          },
          "metadata": {}
        }
      ],
      "source": [
        "!pip install deeppavlov"
      ]
    },
    {
      "cell_type": "code",
      "execution_count": 1,
      "metadata": {
        "colab": {
          "base_uri": "https://localhost:8080/"
        },
        "id": "kwqbKplQEbDg",
        "outputId": "89008c5d-20ca-4e15-99a1-d83e97e0f4a6"
      },
      "outputs": [
        {
          "output_type": "stream",
          "name": "stdout",
          "text": [
            "Reading package lists... Done\n",
            "Building dependency tree       \n",
            "Reading state information... Done\n",
            "The following packages were automatically installed and are no longer required:\n",
            "  libnvidia-common-460 nsight-compute-2020.2.0\n",
            "Use 'apt autoremove' to remove them.\n",
            "The following additional packages will be installed:\n",
            "  libvirtodbc0 virtuoso-opensource-6.1 virtuoso-opensource-6.1-bin\n",
            "  virtuoso-opensource-6.1-common virtuoso-server virtuoso-vad-conductor\n",
            "  virtuoso-vsp-startpage\n",
            "Suggested packages:\n",
            "  virtuoso-vad-doc virtuoso-vad-demo virtuoso-vad-tutorial\n",
            "  virtuoso-vad-rdfmappers virtuoso-vad-sparqldemo virtuoso-vad-syncml\n",
            "  virtuoso-vad-bpel virtuoso-vad-isparql virtuoso-vad-ods virtuoso-vad-dbpedia\n",
            "  virtuoso-vad-facetedbrowser\n",
            "The following NEW packages will be installed:\n",
            "  libvirtodbc0 virtuoso-opensource virtuoso-opensource-6.1\n",
            "  virtuoso-opensource-6.1-bin virtuoso-opensource-6.1-common virtuoso-server\n",
            "  virtuoso-vad-conductor virtuoso-vsp-startpage\n",
            "0 upgraded, 8 newly installed, 0 to remove and 67 not upgraded.\n",
            "Need to get 4,835 kB of archives.\n",
            "After this operation, 27.5 MB of additional disk space will be used.\n",
            "Get:1 http://archive.ubuntu.com/ubuntu bionic/universe amd64 virtuoso-opensource-6.1-common amd64 6.1.6+repack-0ubuntu9 [45.0 kB]\n",
            "Get:2 http://archive.ubuntu.com/ubuntu bionic/universe amd64 virtuoso-opensource-6.1-bin amd64 6.1.6+repack-0ubuntu9 [2,831 kB]\n",
            "Get:3 http://archive.ubuntu.com/ubuntu bionic/universe amd64 libvirtodbc0 amd64 6.1.6+repack-0ubuntu9 [259 kB]\n",
            "Get:4 http://archive.ubuntu.com/ubuntu bionic/universe amd64 virtuoso-opensource-6.1 amd64 6.1.6+repack-0ubuntu9 [163 kB]\n",
            "Get:5 http://archive.ubuntu.com/ubuntu bionic/universe amd64 virtuoso-opensource all 6.1.6+repack-0ubuntu9 [33.3 kB]\n",
            "Get:6 http://archive.ubuntu.com/ubuntu bionic/universe amd64 virtuoso-vad-conductor all 6.1.6+repack-0ubuntu9 [1,044 kB]\n",
            "Get:7 http://archive.ubuntu.com/ubuntu bionic/universe amd64 virtuoso-vsp-startpage all 6.1.6+repack-0ubuntu9 [428 kB]\n",
            "Get:8 http://archive.ubuntu.com/ubuntu bionic/universe amd64 virtuoso-server all 6.1.6+repack-0ubuntu9 [31.0 kB]\n",
            "Fetched 4,835 kB in 1s (3,822 kB/s)\n",
            "Preconfiguring packages ...\n",
            "Selecting previously unselected package virtuoso-opensource-6.1-common.\n",
            "(Reading database ... 155203 files and directories currently installed.)\n",
            "Preparing to unpack .../0-virtuoso-opensource-6.1-common_6.1.6+repack-0ubuntu9_amd64.deb ...\n",
            "Unpacking virtuoso-opensource-6.1-common (6.1.6+repack-0ubuntu9) ...\n",
            "Selecting previously unselected package virtuoso-opensource-6.1-bin.\n",
            "Preparing to unpack .../1-virtuoso-opensource-6.1-bin_6.1.6+repack-0ubuntu9_amd64.deb ...\n",
            "Unpacking virtuoso-opensource-6.1-bin (6.1.6+repack-0ubuntu9) ...\n",
            "Selecting previously unselected package libvirtodbc0.\n",
            "Preparing to unpack .../2-libvirtodbc0_6.1.6+repack-0ubuntu9_amd64.deb ...\n",
            "Unpacking libvirtodbc0 (6.1.6+repack-0ubuntu9) ...\n",
            "Selecting previously unselected package virtuoso-opensource-6.1.\n",
            "Preparing to unpack .../3-virtuoso-opensource-6.1_6.1.6+repack-0ubuntu9_amd64.deb ...\n",
            "Unpacking virtuoso-opensource-6.1 (6.1.6+repack-0ubuntu9) ...\n",
            "Selecting previously unselected package virtuoso-opensource.\n",
            "Preparing to unpack .../4-virtuoso-opensource_6.1.6+repack-0ubuntu9_all.deb ...\n",
            "Unpacking virtuoso-opensource (6.1.6+repack-0ubuntu9) ...\n",
            "Selecting previously unselected package virtuoso-vad-conductor.\n",
            "Preparing to unpack .../5-virtuoso-vad-conductor_6.1.6+repack-0ubuntu9_all.deb ...\n",
            "Unpacking virtuoso-vad-conductor (6.1.6+repack-0ubuntu9) ...\n",
            "Selecting previously unselected package virtuoso-vsp-startpage.\n",
            "Preparing to unpack .../6-virtuoso-vsp-startpage_6.1.6+repack-0ubuntu9_all.deb ...\n",
            "Unpacking virtuoso-vsp-startpage (6.1.6+repack-0ubuntu9) ...\n",
            "Selecting previously unselected package virtuoso-server.\n",
            "Preparing to unpack .../7-virtuoso-server_6.1.6+repack-0ubuntu9_all.deb ...\n",
            "Unpacking virtuoso-server (6.1.6+repack-0ubuntu9) ...\n",
            "Setting up virtuoso-opensource-6.1-bin (6.1.6+repack-0ubuntu9) ...\n",
            "Setting up virtuoso-opensource-6.1-common (6.1.6+repack-0ubuntu9) ...\n",
            "Setting up libvirtodbc0 (6.1.6+repack-0ubuntu9) ...\n",
            "Setting up virtuoso-opensource-6.1 (6.1.6+repack-0ubuntu9) ...\n",
            "invoke-rc.d: could not determine current runlevel\n",
            "invoke-rc.d: policy-rc.d denied execution of start.\n",
            "Setting up virtuoso-opensource (6.1.6+repack-0ubuntu9) ...\n",
            "Setting up virtuoso-server (6.1.6+repack-0ubuntu9) ...\n",
            "Setting up virtuoso-vad-conductor (6.1.6+repack-0ubuntu9) ...\n",
            "Setting up virtuoso-vsp-startpage (6.1.6+repack-0ubuntu9) ...\n",
            "Processing triggers for man-db (2.8.3-2ubuntu0.1) ...\n",
            "Processing triggers for systemd (237-3ubuntu10.53) ...\n"
          ]
        }
      ],
      "source": [
        "!apt-get install virtuoso-opensource"
      ]
    },
    {
      "cell_type": "code",
      "execution_count": 2,
      "metadata": {
        "colab": {
          "base_uri": "https://localhost:8080/"
        },
        "id": "3yvRgZLRD24B",
        "outputId": "b4f4a018-6b96-4423-abad-0ac57694147a"
      },
      "outputs": [
        {
          "output_type": "stream",
          "name": "stdout",
          "text": [
            "Collecting pyodbc\n",
            "  Downloading pyodbc-4.0.32.tar.gz (280 kB)\n",
            "\u001b[?25l\r\u001b[K     |█▏                              | 10 kB 22.6 MB/s eta 0:00:01\r\u001b[K     |██▍                             | 20 kB 9.9 MB/s eta 0:00:01\r\u001b[K     |███▌                            | 30 kB 8.5 MB/s eta 0:00:01\r\u001b[K     |████▊                           | 40 kB 7.8 MB/s eta 0:00:01\r\u001b[K     |█████▉                          | 51 kB 4.3 MB/s eta 0:00:01\r\u001b[K     |███████                         | 61 kB 5.1 MB/s eta 0:00:01\r\u001b[K     |████████▏                       | 71 kB 5.0 MB/s eta 0:00:01\r\u001b[K     |█████████▍                      | 81 kB 5.2 MB/s eta 0:00:01\r\u001b[K     |██████████▌                     | 92 kB 5.7 MB/s eta 0:00:01\r\u001b[K     |███████████▊                    | 102 kB 5.0 MB/s eta 0:00:01\r\u001b[K     |████████████▉                   | 112 kB 5.0 MB/s eta 0:00:01\r\u001b[K     |██████████████                  | 122 kB 5.0 MB/s eta 0:00:01\r\u001b[K     |███████████████▏                | 133 kB 5.0 MB/s eta 0:00:01\r\u001b[K     |████████████████▍               | 143 kB 5.0 MB/s eta 0:00:01\r\u001b[K     |█████████████████▌              | 153 kB 5.0 MB/s eta 0:00:01\r\u001b[K     |██████████████████▊             | 163 kB 5.0 MB/s eta 0:00:01\r\u001b[K     |████████████████████            | 174 kB 5.0 MB/s eta 0:00:01\r\u001b[K     |█████████████████████           | 184 kB 5.0 MB/s eta 0:00:01\r\u001b[K     |██████████████████████▎         | 194 kB 5.0 MB/s eta 0:00:01\r\u001b[K     |███████████████████████▍        | 204 kB 5.0 MB/s eta 0:00:01\r\u001b[K     |████████████████████████▋       | 215 kB 5.0 MB/s eta 0:00:01\r\u001b[K     |█████████████████████████▊      | 225 kB 5.0 MB/s eta 0:00:01\r\u001b[K     |███████████████████████████     | 235 kB 5.0 MB/s eta 0:00:01\r\u001b[K     |████████████████████████████    | 245 kB 5.0 MB/s eta 0:00:01\r\u001b[K     |█████████████████████████████▎  | 256 kB 5.0 MB/s eta 0:00:01\r\u001b[K     |██████████████████████████████▍ | 266 kB 5.0 MB/s eta 0:00:01\r\u001b[K     |███████████████████████████████▋| 276 kB 5.0 MB/s eta 0:00:01\r\u001b[K     |████████████████████████████████| 280 kB 5.0 MB/s \n",
            "\u001b[?25hBuilding wheels for collected packages: pyodbc\n",
            "  Building wheel for pyodbc (setup.py) ... \u001b[?25l\u001b[?25hdone\n",
            "  Created wheel for pyodbc: filename=pyodbc-4.0.32-cp37-cp37m-linux_x86_64.whl size=287332 sha256=70bd55eb94afc6b75bdaacdae6b312eee56ef595530484a2415d84e711549980\n",
            "  Stored in directory: /root/.cache/pip/wheels/2e/9c/da/8652fd42e0f662015554f00a9e96fe4f438dfd1ef59787879e\n",
            "Successfully built pyodbc\n",
            "Installing collected packages: pyodbc\n",
            "Successfully installed pyodbc-4.0.32\n"
          ]
        }
      ],
      "source": [
        "!pip install pyodbc"
      ]
    },
    {
      "cell_type": "code",
      "execution_count": 3,
      "metadata": {
        "colab": {
          "base_uri": "https://localhost:8080/"
        },
        "id": "2DUeHP-lE0YC",
        "outputId": "84a08553-c715-4b93-bc2b-fe6cb14daef2"
      },
      "outputs": [
        {
          "output_type": "stream",
          "name": "stdout",
          "text": [
            "Collecting sentence-transformers\n",
            "  Downloading sentence-transformers-2.2.0.tar.gz (79 kB)\n",
            "\u001b[K     |████████████████████████████████| 79 kB 3.1 MB/s \n",
            "\u001b[?25hCollecting transformers<5.0.0,>=4.6.0\n",
            "  Downloading transformers-4.19.2-py3-none-any.whl (4.2 MB)\n",
            "\u001b[K     |████████████████████████████████| 4.2 MB 28.7 MB/s \n",
            "\u001b[?25hRequirement already satisfied: tqdm in /usr/local/lib/python3.7/dist-packages (from sentence-transformers) (4.62.0)\n",
            "Requirement already satisfied: torch>=1.6.0 in /usr/local/lib/python3.7/dist-packages (from sentence-transformers) (1.11.0+cu113)\n",
            "Requirement already satisfied: torchvision in /usr/local/lib/python3.7/dist-packages (from sentence-transformers) (0.12.0+cu113)\n",
            "Requirement already satisfied: numpy in /usr/local/lib/python3.7/dist-packages (from sentence-transformers) (1.18.0)\n",
            "Requirement already satisfied: scikit-learn in /usr/local/lib/python3.7/dist-packages (from sentence-transformers) (0.21.2)\n",
            "Requirement already satisfied: scipy in /usr/local/lib/python3.7/dist-packages (from sentence-transformers) (1.4.1)\n",
            "Requirement already satisfied: nltk in /usr/local/lib/python3.7/dist-packages (from sentence-transformers) (3.4.5)\n",
            "Collecting sentencepiece\n",
            "  Downloading sentencepiece-0.1.96-cp37-cp37m-manylinux_2_17_x86_64.manylinux2014_x86_64.whl (1.2 MB)\n",
            "\u001b[K     |████████████████████████████████| 1.2 MB 58.4 MB/s \n",
            "\u001b[?25hCollecting huggingface-hub\n",
            "  Downloading huggingface_hub-0.6.0-py3-none-any.whl (84 kB)\n",
            "\u001b[K     |████████████████████████████████| 84 kB 3.3 MB/s \n",
            "\u001b[?25hRequirement already satisfied: typing-extensions in /usr/local/lib/python3.7/dist-packages (from torch>=1.6.0->sentence-transformers) (4.2.0)\n",
            "Collecting pyyaml>=5.1\n",
            "  Downloading PyYAML-6.0-cp37-cp37m-manylinux_2_5_x86_64.manylinux1_x86_64.manylinux_2_12_x86_64.manylinux2010_x86_64.whl (596 kB)\n",
            "\u001b[K     |████████████████████████████████| 596 kB 55.8 MB/s \n",
            "\u001b[?25hRequirement already satisfied: requests in /usr/local/lib/python3.7/dist-packages (from transformers<5.0.0,>=4.6.0->sentence-transformers) (2.22.0)\n",
            "Requirement already satisfied: packaging>=20.0 in /usr/local/lib/python3.7/dist-packages (from transformers<5.0.0,>=4.6.0->sentence-transformers) (21.3)\n",
            "Requirement already satisfied: importlib-metadata in /usr/local/lib/python3.7/dist-packages (from transformers<5.0.0,>=4.6.0->sentence-transformers) (4.11.3)\n",
            "Requirement already satisfied: filelock in /usr/local/lib/python3.7/dist-packages (from transformers<5.0.0,>=4.6.0->sentence-transformers) (3.0.12)\n",
            "Requirement already satisfied: regex!=2019.12.17 in /usr/local/lib/python3.7/dist-packages (from transformers<5.0.0,>=4.6.0->sentence-transformers) (2019.12.20)\n",
            "Collecting tokenizers!=0.11.3,<0.13,>=0.11.1\n",
            "  Downloading tokenizers-0.12.1-cp37-cp37m-manylinux_2_12_x86_64.manylinux2010_x86_64.whl (6.6 MB)\n",
            "\u001b[K     |████████████████████████████████| 6.6 MB 50.1 MB/s \n",
            "\u001b[?25hRequirement already satisfied: pyparsing!=3.0.5,>=2.0.2 in /usr/local/lib/python3.7/dist-packages (from packaging>=20.0->transformers<5.0.0,>=4.6.0->sentence-transformers) (3.0.9)\n",
            "Requirement already satisfied: zipp>=0.5 in /usr/local/lib/python3.7/dist-packages (from importlib-metadata->transformers<5.0.0,>=4.6.0->sentence-transformers) (3.8.0)\n",
            "Requirement already satisfied: six in /usr/local/lib/python3.7/dist-packages (from nltk->sentence-transformers) (1.15.0)\n",
            "Requirement already satisfied: idna<2.9,>=2.5 in /usr/local/lib/python3.7/dist-packages (from requests->transformers<5.0.0,>=4.6.0->sentence-transformers) (2.8)\n",
            "Requirement already satisfied: certifi>=2017.4.17 in /usr/local/lib/python3.7/dist-packages (from requests->transformers<5.0.0,>=4.6.0->sentence-transformers) (2021.10.8)\n",
            "Requirement already satisfied: chardet<3.1.0,>=3.0.2 in /usr/local/lib/python3.7/dist-packages (from requests->transformers<5.0.0,>=4.6.0->sentence-transformers) (3.0.4)\n",
            "Requirement already satisfied: urllib3!=1.25.0,!=1.25.1,<1.26,>=1.21.1 in /usr/local/lib/python3.7/dist-packages (from requests->transformers<5.0.0,>=4.6.0->sentence-transformers) (1.24.3)\n",
            "Requirement already satisfied: joblib>=0.11 in /usr/local/lib/python3.7/dist-packages (from scikit-learn->sentence-transformers) (1.1.0)\n",
            "Requirement already satisfied: pillow!=8.3.*,>=5.3.0 in /usr/local/lib/python3.7/dist-packages (from torchvision->sentence-transformers) (7.1.2)\n",
            "Building wheels for collected packages: sentence-transformers\n",
            "  Building wheel for sentence-transformers (setup.py) ... \u001b[?25l\u001b[?25hdone\n",
            "  Created wheel for sentence-transformers: filename=sentence_transformers-2.2.0-py3-none-any.whl size=120747 sha256=6c083a32c2f4143619be88006cdb33483e59c076f1f73b74219e1238bd149692\n",
            "  Stored in directory: /root/.cache/pip/wheels/83/c0/df/b6873ab7aac3f2465aa9144b6b4c41c4391cfecc027c8b07e7\n",
            "Successfully built sentence-transformers\n",
            "Installing collected packages: pyyaml, tokenizers, huggingface-hub, transformers, sentencepiece, sentence-transformers\n",
            "  Attempting uninstall: pyyaml\n",
            "    Found existing installation: PyYAML 3.13\n",
            "    Uninstalling PyYAML-3.13:\n",
            "      Successfully uninstalled PyYAML-3.13\n",
            "Successfully installed huggingface-hub-0.6.0 pyyaml-6.0 sentence-transformers-2.2.0 sentencepiece-0.1.96 tokenizers-0.12.1 transformers-4.19.2\n"
          ]
        }
      ],
      "source": [
        "!pip install sentence-transformers"
      ]
    },
    {
      "cell_type": "code",
      "execution_count": 4,
      "metadata": {
        "colab": {
          "base_uri": "https://localhost:8080/"
        },
        "id": "zCai1ISD2l8z",
        "outputId": "140740bc-8cf7-4370-b95f-d5b97a6c56a5"
      },
      "outputs": [
        {
          "output_type": "stream",
          "name": "stdout",
          "text": [
            "Collecting gap-stat\n",
            "  Downloading gap_stat-2.0.1-py3-none-any.whl (6.9 kB)\n",
            "Requirement already satisfied: scipy in /usr/local/lib/python3.7/dist-packages (from gap-stat) (1.4.1)\n",
            "Requirement already satisfied: pandas in /usr/local/lib/python3.7/dist-packages (from gap-stat) (0.25.3)\n",
            "Requirement already satisfied: numpy in /usr/local/lib/python3.7/dist-packages (from gap-stat) (1.18.0)\n",
            "Requirement already satisfied: pytz>=2017.2 in /usr/local/lib/python3.7/dist-packages (from pandas->gap-stat) (2019.1)\n",
            "Requirement already satisfied: python-dateutil>=2.6.1 in /usr/local/lib/python3.7/dist-packages (from pandas->gap-stat) (2.8.2)\n",
            "Requirement already satisfied: six>=1.5 in /usr/local/lib/python3.7/dist-packages (from python-dateutil>=2.6.1->pandas->gap-stat) (1.15.0)\n",
            "Installing collected packages: gap-stat\n",
            "Successfully installed gap-stat-2.0.1\n"
          ]
        }
      ],
      "source": [
        "!pip install gap-stat"
      ]
    },
    {
      "cell_type": "markdown",
      "metadata": {
        "id": "0kRrdl_2xNiw"
      },
      "source": [
        "###Imports"
      ]
    },
    {
      "cell_type": "code",
      "execution_count": 5,
      "metadata": {
        "id": "6ZC77n-aeu_o"
      },
      "outputs": [],
      "source": [
        "import os, re, json, ast, random\n",
        "\n",
        "from collections import defaultdict\n",
        "from typing import List, Set, Tuple\n",
        "from pathlib import Path\n",
        "\n",
        "import nltk, pyodbc, sklearn, torch\n",
        "import pandas as pd\n",
        "import numpy as np\n",
        "import ipywidgets as widgets\n",
        "\n",
        "from google.colab import data_table, drive\n",
        "\n",
        "from nltk.stem import PorterStemmer\n",
        "from nltk.corpus import stopwords\n",
        "\n",
        "from sentence_transformers import SentenceTransformer, CrossEncoder, util\n",
        "from sentence_transformers.losses import MultipleNegativesRankingLoss\n",
        "from sentence_transformers.readers import LabelSentenceReader, InputExample\n",
        "from torch.utils.data import DataLoader\n",
        "\n",
        "from sklearn.feature_extraction.text import TfidfVectorizer\n",
        "from sklearn.cluster import KMeans\n",
        "\n",
        "from deeppavlov import build_model\n",
        "from deeppavlov.core.common.registry import register\n",
        "from deeppavlov.core.models.component import Component\n",
        "\n",
        "import matplotlib.pyplot as plt\n",
        "\n",
        "from gap_statistic import OptimalK"
      ]
    },
    {
      "cell_type": "markdown",
      "metadata": {
        "id": "K9t2uNnJc_DK"
      },
      "source": [
        "###Configurations\n",
        "\n",
        "Please note that, once, the fine-tuning has been run, one can change any of the first two options and skip the fine-tuning (loading instead the saved model). For this, it suffices to:\n",
        "*    Run only the cell with the selectors,\n",
        "*    Run only the cell immediately after the selectors,\n",
        "*    Go to the cell with the title “Loading the fine-tuned model” and choose \n",
        "“Runtime > Run after”, which runs the current cell and all following. \n"
      ]
    },
    {
      "cell_type": "code",
      "execution_count": 6,
      "metadata": {
        "id": "k_nWCnd_drXz"
      },
      "outputs": [],
      "source": [
        "# By Default it loads the first option to every dropdown menu"
      ]
    },
    {
      "cell_type": "code",
      "execution_count": 7,
      "metadata": {
        "colab": {
          "base_uri": "https://localhost:8080/",
          "height": 113,
          "referenced_widgets": [
            "69bff15be6ff499b9438dc76f7ce0675",
            "a65452c691574547ad480adb1b2cc08f",
            "c9585d6337234ababdf376b54d9ec77d",
            "41160d1cf5084d2ea20868b992dfe036",
            "e1f4f91199644936b6c5f7073e85c511",
            "34437b7f0c384598b19e15d8daf61bfb",
            "707cf579406e432ea09bb954d079b066",
            "5dd006a94d96476b916ef85ab11dde0d",
            "6de35f20f8154c44aa3e28ea40a28201",
            "6bae8189d1914bb899f67142e0516ae7",
            "50cc8f94d03449eab604bf0dfa07c688",
            "8155955bf1cd47b4b7bd059a900ad3a4",
            "05e3455eb9d54896a05ce12c967e5ad5",
            "abc4bf58ed3a4e82a9ca5d842d4824de",
            "205eb520ea6a4627b0051f229a2e63ab",
            "8f37a19133db4f7cb433230c71c4648b",
            "b1a97fc8ce9c46d78775b0ea2e843fb3",
            "9ba3daa0111e4ed1a97d53324d60f7b9",
            "af7ee041ed9c48e2a8fbb19add7c7e83",
            "ec8292e61b214cfd8293b45c55b08cd9",
            "192709ffb223459b8700483e9c2824f0",
            "eb3f6ad3d0eb4bbf9247087b1edbf49c",
            "b080fcb94127478696e81884d9e251c7",
            "7b2e07827264454593ff57c3b37bd622"
          ]
        },
        "id": "OzFkBqSudDEa",
        "outputId": "04a1af46-cde0-46e7-a5b0-fca79028bb30"
      },
      "outputs": [
        {
          "output_type": "display_data",
          "data": {
            "text/plain": [
              "HBox(children=(Label(value='Data:'), Dropdown(options=('datasets_use_case_d.pkl', 'glossary_use_case_d.pkl'), …"
            ],
            "application/vnd.jupyter.widget-view+json": {
              "version_major": 2,
              "version_minor": 0,
              "model_id": "69bff15be6ff499b9438dc76f7ce0675"
            }
          },
          "metadata": {}
        },
        {
          "output_type": "display_data",
          "data": {
            "text/plain": [
              "HBox(children=(Label(value='Show intermediate results?: '), Dropdown(options=('Yes', 'No'), value='Yes')))"
            ],
            "application/vnd.jupyter.widget-view+json": {
              "version_major": 2,
              "version_minor": 0,
              "model_id": "6de35f20f8154c44aa3e28ea40a28201"
            }
          },
          "metadata": {}
        },
        {
          "output_type": "display_data",
          "data": {
            "text/plain": [
              "HBox(children=(Label(value='Bi-encoder model:'), Dropdown(options=('multi-qa-MiniLM-L6-cos-v1', 'multi-qa-dist…"
            ],
            "application/vnd.jupyter.widget-view+json": {
              "version_major": 2,
              "version_minor": 0,
              "model_id": "b1a97fc8ce9c46d78775b0ea2e843fb3"
            }
          },
          "metadata": {}
        }
      ],
      "source": [
        "# Set which dataset to use (either eurostat's datasets or glossary articles)\n",
        "data_dropdown = widgets.Dropdown(options=[\"datasets_use_case_d.pkl\", \"glossary_use_case_d.pkl\"])\n",
        "display(widgets.HBox([widgets.Label(value=\"Data:\"), data_dropdown]))\n",
        "\n",
        "# Option to show intermediate results when interacting with chatbot \n",
        "# Intermediate results include a histogram plot and a table for every chatbot interaction\n",
        "intermediate_results_dropdown = widgets.Dropdown(options=[\"Yes\", \"No\"])\n",
        "display(widgets.HBox([widgets.Label(value=\"Show intermediate results?: \"), intermediate_results_dropdown]))\n",
        "\n",
        "### Select Bi-encoder model\n",
        "# Load pre-trained model that we will use as a base for fine tuning or alone\n",
        "# Warning: loading 2nd or 3rd model for finetuning requires large amounts of memory\n",
        "bi_encoder_model_dropdown = widgets.Dropdown(options=[\"multi-qa-MiniLM-L6-cos-v1\", \"multi-qa-distilbert-cos-v1\", \"multi-qa-mpnet-base-cos-v1\"])\n",
        "display(widgets.HBox([widgets.Label(value=\"Bi-encoder model:\"), bi_encoder_model_dropdown]))"
      ]
    },
    {
      "cell_type": "code",
      "execution_count": 76,
      "metadata": {
        "id": "IFOwG8FydWwJ"
      },
      "outputs": [],
      "source": [
        "dataset_to_load = data_dropdown.value\n",
        "show_inter_results = True if intermediate_results_dropdown.value == 'Yes' else False\n",
        "bi_encoder = SentenceTransformer(bi_encoder_model_dropdown.value)"
      ]
    },
    {
      "cell_type": "code",
      "execution_count": 60,
      "metadata": {
        "id": "Xae0DylSxcfg"
      },
      "outputs": [],
      "source": [
        "path_to_bi_encoder = bi_encoder_model_dropdown.value"
      ]
    },
    {
      "cell_type": "code",
      "execution_count": 61,
      "metadata": {
        "colab": {
          "base_uri": "https://localhost:8080/"
        },
        "id": "WfizTxtIdGuR",
        "outputId": "07c5ad18-efd7-48e3-c15d-23b2d54868a4"
      },
      "outputs": [
        {
          "output_type": "stream",
          "name": "stdout",
          "text": [
            "Settings chosen\n",
            "Data: datasets_use_case_d.pkl\n",
            "Show intermediate results?: Yes\n",
            "Bi-encoder model: multi-qa-MiniLM-L6-cos-v1\n"
          ]
        }
      ],
      "source": [
        "print('Settings chosen')\n",
        "print(f'Data: {dataset_to_load}')\n",
        "print(f'Show intermediate results?: {intermediate_results_dropdown.value}')\n",
        "print(f'Bi-encoder model: {bi_encoder_model_dropdown.value}')"
      ]
    },
    {
      "cell_type": "markdown",
      "metadata": {
        "id": "P_YHWJN2oLR8"
      },
      "source": [
        "###Auxiliary functions\n"
      ]
    },
    {
      "cell_type": "code",
      "execution_count": 11,
      "metadata": {
        "id": "F-e-aA0foK6z"
      },
      "outputs": [],
      "source": [
        "def load_table(query):\n",
        "  cursor.execute(query)\n",
        "  t1 = cursor.fetchall()\n",
        "  df = pd.DataFrame.from_records(t1, columns=[x[0] for x in cursor.description])\n",
        "  return df\n",
        "\n",
        "def clean(x, quotes=True):\n",
        "    if pd.isnull(x): return x  \n",
        "    x = x.strip()\n",
        "    \n",
        "    ## make letter-question mark-letter -> letter-quote-space-letter !!! but NOT in the lists of URLs!!!\n",
        "    if quotes:\n",
        "        x = re.sub(r'([A-Za-z])\\?([A-Za-z])','\\\\1\\' \\\\2',x) \n",
        "    \n",
        "    ## make letter-question mark-space lower case letter letter-quote-space letter\n",
        "    x = re.sub(r'([A-Za-z])\\? ([a-z])','\\\\1\\' \\\\2',x) \n",
        "\n",
        "    ## delete ,000 commas in numbers    \n",
        "    x = re.sub(r'\\b(\\d+),(\\d+)\\b','\\\\1\\\\2',x) ## CORRECTED\n",
        "    \n",
        "    ## delete  000 spaces in numbers\n",
        "    x = re.sub(r'\\b(\\d+) (\\d+)\\b','\\\\1\\\\2',x) ## CORRECTED\n",
        "    \n",
        "    ## remove more than one spaces\n",
        "    x = re.sub(r' +', ' ',x)\n",
        "    \n",
        "    ## remove start and end spaces\n",
        "    x = re.sub(r'^ +| +$', '',x,flags=re.MULTILINE) \n",
        "    \n",
        "    ## space-comma -> comma\n",
        "    x = re.sub(r' \\,',',',x)\n",
        "    \n",
        "    ## space-dot -> dot\n",
        "    x = re.sub(r' \\.','.',x)\n",
        "    \n",
        "    x = re.sub(r'â.{2}',\"'\",x) ### !!! NEW: single quotes are read as: âXX\n",
        "    \n",
        "    return x\n"
      ]
    },
    {
      "cell_type": "markdown",
      "metadata": {
        "id": "q2UroSo6e3J0"
      },
      "source": [
        "### Mount google drive"
      ]
    },
    {
      "cell_type": "code",
      "execution_count": 12,
      "metadata": {
        "colab": {
          "base_uri": "https://localhost:8080/"
        },
        "id": "-cKZ1HOPe7qT",
        "outputId": "f1c666f1-ef70-4aaa-d583-d2d9b2201afd"
      },
      "outputs": [
        {
          "output_type": "stream",
          "name": "stdout",
          "text": [
            "Mounted at /content/drive\n"
          ]
        }
      ],
      "source": [
        "drive.mount('/content/drive', force_remount=True)"
      ]
    },
    {
      "cell_type": "markdown",
      "metadata": {
        "id": "CTIRLXtWUfcn"
      },
      "source": [
        "###Connect to Virtuoso database"
      ]
    },
    {
      "cell_type": "code",
      "execution_count": 13,
      "metadata": {
        "id": "5L_OABFL2TWf"
      },
      "outputs": [],
      "source": [
        "c = pyodbc.connect('DRIVER=/usr/lib/odbc/virtodbc.so;HOST=lod.csd.auth.gr:1111;UID=kimon;PWD=RkhvQYZ442e2JVXLHdtW;DATABASE=ESTAT')\n"
      ]
    },
    {
      "cell_type": "code",
      "execution_count": 14,
      "metadata": {
        "id": "nQOkbcLv2iVE"
      },
      "outputs": [],
      "source": [
        "c.setdecoding(pyodbc.SQL_CHAR, encoding='latin-1')\n",
        "c.setencoding(encoding=\"latin-1\")"
      ]
    },
    {
      "cell_type": "code",
      "execution_count": 15,
      "metadata": {
        "id": "t2UiJAMS2i87"
      },
      "outputs": [],
      "source": [
        "cursor = c.cursor()"
      ]
    },
    {
      "cell_type": "markdown",
      "metadata": {
        "id": "hwUi_ML2UqfT"
      },
      "source": [
        "###Loading the datasets information from the database"
      ]
    },
    {
      "cell_type": "code",
      "execution_count": 16,
      "metadata": {
        "id": "pv2awOHB1yca"
      },
      "outputs": [],
      "source": [
        "query_data = 'SELECT id, number, codes, names, file_descr, file_code, level, link FROM ESTAT.V1.dat_all_datasets'\n",
        "crumbs_df = load_table(query_data)\n",
        "\n",
        "crumbs_df['codes'] = crumbs_df['codes'].apply(lambda x: ast.literal_eval(x))\n",
        "crumbs_df['names'] = crumbs_df['names'].apply(lambda x: ast.literal_eval(x))\n",
        "crumbs_df.rename(columns={'number':'Number','codes':'Codes','names':'Names','file_descr':'File description',\n",
        "                               'level':'Level','file_code':'File code','link':'Link'},inplace=True)\n",
        "\n",
        "## keep only leaves - datasets\n",
        "idx = crumbs_df[crumbs_df['File code']==''].index\n",
        "crumbs_df.drop(index=idx, inplace=True) \n",
        "crumbs_df.reset_index(drop=True,inplace=True)\n",
        "\n",
        "#crumbs_df['File description']=crumbs_df['Names'].apply(lambda x: x[-1]) \n",
        "\n",
        "crumbs_df['Full path'] = crumbs_df['Names'].apply(lambda x: [y for y in x[1:]]) ## exclude first part\n",
        "crumbs_df['Full path'] = crumbs_df['Full path'].apply(lambda x: ' '.join(x))\n",
        "\n",
        "crumbs_df = crumbs_df[['Number','Codes','Names','File description','File code','Level','Full path','Link']]"
      ]
    },
    {
      "cell_type": "code",
      "execution_count": 17,
      "metadata": {
        "id": "c4LutFrj9lOU"
      },
      "outputs": [],
      "source": [
        "# Drop duplicates with the same file code\n",
        "crumbs_df = crumbs_df.drop_duplicates(subset='File code', keep=\"first\").reset_index()"
      ]
    },
    {
      "cell_type": "markdown",
      "metadata": {
        "id": "lotCVLqnR2zl"
      },
      "source": [
        "### Loading glossary articles from the database\n"
      ]
    },
    {
      "cell_type": "code",
      "execution_count": 18,
      "metadata": {
        "id": "ryzu-IdAR4nN"
      },
      "outputs": [],
      "source": [
        "# query that needs to be calculated even if fine tuning is not needed\n",
        "query1 = 'SELECT T1.id, T2.title, T1.definition, T2.url FROM ESTAT.V1.dat_glossary AS T1 INNER JOIN ESTAT.V1.dat_link_info AS T2 ON T1.id=T2.id WHERE T2.resource_information_id=1'\n",
        "GL_df = load_table(query1)\n",
        "# also keep a copy of this query results\n",
        "glossary = GL_df.copy()"
      ]
    },
    {
      "cell_type": "code",
      "execution_count": 19,
      "metadata": {
        "id": "eBBvBEYgR8o4"
      },
      "outputs": [],
      "source": [
        "## Skip if already run\n",
        "if 'File description' not in glossary.columns:\n",
        "  glossary['definition'] = glossary['definition'].replace('', np.nan)\n",
        "  glossary.dropna(axis=0,subset=['definition'], inplace=True)\n",
        "\n",
        "  glossary.reset_index(drop=True, inplace=True)"
      ]
    },
    {
      "cell_type": "code",
      "execution_count": 20,
      "metadata": {
        "id": "c3-4YX9eSCHN"
      },
      "outputs": [],
      "source": [
        "## Skip if already run\n",
        "if 'File description' not in glossary.columns:\n",
        "  glossary['title'] = glossary['title'].apply(clean)\n",
        "  glossary['title'] = glossary['title'].apply(lambda x: re.sub(r'\\?','-',x)) ## also replace question marks by dashes\n",
        "  # Edit titles in order to remove \"Glossary:\"\n",
        "  glossary['title'] = glossary['title'].apply(lambda x: re.sub(r'Glossary:',' ',x)) \n",
        "  glossary['definition'] = glossary['definition'].apply(clean)"
      ]
    },
    {
      "cell_type": "code",
      "execution_count": 21,
      "metadata": {
        "id": "4pZ-RNWDSC3r"
      },
      "outputs": [],
      "source": [
        "## Skip if already run\n",
        "if 'File description' not in glossary.columns:\n",
        "  # Drop The records with definitions \"The revision ...\" and \"Redirect to ...\" \n",
        "  idx = glossary[glossary['definition'].str.startswith('The revision #')].index\n",
        "  glossary.drop(idx , inplace=True)\n",
        "  idx = glossary[glossary['definition'].str.startswith('Redirect to')].index\n",
        "  glossary.drop(idx , inplace=True)\n",
        "  # dropping some pairs that definition is something generic with a link \n",
        "  idx = glossary[glossary['definition'].str.startswith('<Brief user-oriented definition')].index \n",
        "  glossary.drop(idx , inplace=True)\n",
        "\n",
        "  glossary.reset_index(drop=True, inplace=True)"
      ]
    },
    {
      "cell_type": "code",
      "execution_count": 22,
      "metadata": {
        "id": "Fa2UfBJMSGc2"
      },
      "outputs": [],
      "source": [
        "## Skip if already run\n",
        "if 'File description' not in glossary.columns:\n",
        "  glossary.rename(columns={'id':'article_id'},inplace=True)\n",
        "  glossary.rename(columns={'url':'Link'},inplace=True)\n",
        "  glossary.rename(columns={'definition':'File description'},inplace=True)\n",
        "\n",
        "  glossary['Full path'] = glossary['title'] + '. ' + glossary['File description']"
      ]
    },
    {
      "cell_type": "markdown",
      "metadata": {
        "id": "4bgBBq1w-O2d"
      },
      "source": [
        "###Save datasets data"
      ]
    },
    {
      "cell_type": "code",
      "execution_count": 23,
      "metadata": {
        "id": "FLE3C7Om-TeR"
      },
      "outputs": [],
      "source": [
        "# save to pickle in order to be able to load it to DeepPavlov framework\n",
        "crumbs_df.to_pickle('/content/drive/MyDrive/datasets_use_case_d.pkl')"
      ]
    },
    {
      "cell_type": "code",
      "execution_count": 24,
      "metadata": {
        "id": "HWaYzl18SOU-"
      },
      "outputs": [],
      "source": [
        "# save to pickle in order to be able to load it to DeepPavlov framework\n",
        "glossary.to_pickle('/content/drive/MyDrive/glossary_use_case_d.pkl')"
      ]
    },
    {
      "cell_type": "code",
      "execution_count": 25,
      "metadata": {
        "id": "QyrGcf46KdB7"
      },
      "outputs": [],
      "source": [
        "del(crumbs_df,glossary)"
      ]
    },
    {
      "cell_type": "markdown",
      "metadata": {
        "id": "URXUEdwGKVHG"
      },
      "source": [
        "###Fine tuning"
      ]
    },
    {
      "cell_type": "markdown",
      "metadata": {
        "id": "AyO7iagUKhS6"
      },
      "source": [
        "#### Queries to get SE Glossary articles  \n",
        "\n",
        "* Definitions from dat_glossary.\n",
        "* Titles from dat_link_info (with resource_information_id=1, i.e. Eurostat, see ESTAT.V1.mod_resource_information).\n",
        "* Match above on id."
      ]
    },
    {
      "cell_type": "markdown",
      "metadata": {
        "id": "tPUYzja9Klz3"
      },
      "source": [
        "#### Delete records with empty definitions and carry out data cleansing\n"
      ]
    },
    {
      "cell_type": "code",
      "execution_count": 26,
      "metadata": {
        "id": "PJuaKW10KdHb"
      },
      "outputs": [],
      "source": [
        "GL_df['definition'] = GL_df['definition'].replace('', np.nan)\n",
        "GL_df.dropna(axis=0,subset=['definition'],inplace=True)\n",
        "\n",
        "GL_df.reset_index(drop=True, inplace=True)\n",
        "\n",
        "GL_df['title'] = GL_df['title'].apply(clean)\n",
        "GL_df['title'] = GL_df['title'].apply(lambda x: re.sub(r'\\?','-',x)) ## also replace question marks by dashes\n",
        "GL_df['definition'] = GL_df['definition'].apply(clean)"
      ]
    },
    {
      "cell_type": "markdown",
      "metadata": {
        "id": "IKudXklEKsnJ"
      },
      "source": [
        "#### Delete \"special\" records\n",
        "\n",
        "* i.e. redirections."
      ]
    },
    {
      "cell_type": "code",
      "execution_count": 27,
      "metadata": {
        "id": "yCzso48OKpWU"
      },
      "outputs": [],
      "source": [
        "# Drop The records with definitions \"The revision ...\" and \"Redirect to ...\" \n",
        "\n",
        "idx = GL_df[GL_df['definition'].str.startswith('The revision #')].index\n",
        "GL_df.drop(idx , inplace=True)\n",
        "idx = GL_df[GL_df['definition'].str.startswith('Redirect to')].index\n",
        "GL_df.drop(idx , inplace=True)\n",
        "# dropping some pairs that definition is something generic with a link \n",
        "idx = GL_df[GL_df['definition'].str.startswith('<Brief user-oriented definition')].index \n",
        "GL_df.drop(idx , inplace=True)\n",
        "\n",
        "GL_df.reset_index(drop=True, inplace=True)\n",
        "\n",
        "GL_df.rename(columns={'id':'article_id'},inplace=True)\n",
        "GL_df.rename(columns={'definition':'content'},inplace=True)"
      ]
    },
    {
      "cell_type": "markdown",
      "metadata": {
        "id": "xWsk4ot7KzL4"
      },
      "source": [
        "#### Add paragraphs titles and contents from the SE articles\n",
        "\n",
        "* From dat_article_paragraph with abstract=0 (i.e. \"no\").\n",
        "* Match article_id from dat_article_paragraph with id from dat_article.\n",
        "* Carry out data cleansing on titles and paragraph contents."
      ]
    },
    {
      "cell_type": "code",
      "execution_count": 28,
      "metadata": {
        "id": "Mun0U1WOKzzw"
      },
      "outputs": [],
      "source": [
        "query = 'SELECT article_id, title, content FROM ESTAT.V1.dat_article_paragraph WHERE abstract=0 AND article_id IN (SELECT id FROM ESTAT.V1.dat_article)'\n",
        "add_content = load_table(query)"
      ]
    },
    {
      "cell_type": "code",
      "execution_count": 29,
      "metadata": {
        "id": "JKEyUX7cK0KJ"
      },
      "outputs": [],
      "source": [
        "add_content['title'] = add_content['title'].apply(clean)\n",
        "add_content['content'] = add_content['content'].apply(clean)\n",
        "\n",
        "add_content['title'] = add_content['title'].replace('', np.nan)\n",
        "add_content = add_content.dropna(axis=0,subset=['title'])\n",
        "add_content['content'] = add_content['content'].replace('', np.nan)\n",
        "add_content = add_content.dropna(axis=0,subset=['content'])"
      ]
    },
    {
      "cell_type": "markdown",
      "metadata": {
        "id": "7xGTZ74eK6b6"
      },
      "source": [
        "#### Query to get OECD Glossary data"
      ]
    },
    {
      "cell_type": "code",
      "execution_count": 30,
      "metadata": {
        "id": "mH5GNh9B0-fn"
      },
      "outputs": [],
      "source": [
        "query = \"SELECT id, term,definition,context,theme FROM ESTAT.V1.OECD_Glossary\"\n",
        "OECD_df = load_table(query)"
      ]
    },
    {
      "cell_type": "code",
      "execution_count": 31,
      "metadata": {
        "id": "NLY8n7zKKpS9"
      },
      "outputs": [],
      "source": [
        "#apply cleaning\n",
        "OECD_df['definition'] = OECD_df['definition'].apply(clean)\n",
        "OECD_df['term'] = OECD_df['term'].apply(clean)\n",
        "OECD_df['context'] = OECD_df['context'].apply(clean).apply(lambda x: re.sub(r'\\. \\. ','. ',x)).apply(lambda x: re.sub(r'\\?','-',x)) ## also replace question marks by dashes\n",
        "OECD_df['definition'] = OECD_df['definition'].apply(clean).apply(lambda x: re.sub(r'\\. \\. ','. ',x)).apply(lambda x: re.sub(r'\\?','-',x)) ## also replace question marks by dashes\n",
        "\n",
        "#renaming\n",
        "OECD_df.rename(columns={'id':'article_id'},inplace=True)\n",
        "OECD_df.rename(columns={'term':'title'},inplace=True)\n",
        "\n",
        "# using title-definition pairs\n",
        "OECD_df1 = OECD_df[['article_id','title','definition']]\n",
        "OECD_df1 = OECD_df1.rename(columns={'definition':'content'})\n",
        "\n",
        "# using title-context pairs\n",
        "OECD_df2 = OECD_df[['article_id','title','context']].copy()\n",
        "OECD_df2 = OECD_df2.rename(columns={'context':'content'})\n",
        "\n",
        "OECD_df1 = OECD_df1[['article_id','title','content']].copy()\n",
        "OECD_df2 = OECD_df2[['article_id','title','content']].copy()\n",
        "\n",
        "# deleting empty\n",
        "OECD_df1['content'] = OECD_df1['content'].replace('', np.nan)\n",
        "OECD_df1 = OECD_df1.dropna(axis=0,subset=['content'])\n",
        "OECD_df1['title'] = OECD_df1['title'].replace('', np.nan)\n",
        "OECD_df1 = OECD_df1.dropna(axis=0,subset=['title'])\n",
        "\n",
        "OECD_df2['content'] = OECD_df2['content'].replace('', np.nan)\n",
        "OECD_df2 = OECD_df2.dropna(axis=0,subset=['content'])\n",
        "OECD_df2['title'] = OECD_df2['title'].replace('', np.nan)\n",
        "OECD_df2 = OECD_df2.dropna(axis=0,subset=['title'])"
      ]
    },
    {
      "cell_type": "markdown",
      "metadata": {
        "id": "kwp4l-uVLBaM"
      },
      "source": [
        "####Abstracts and context sections from SE articles"
      ]
    },
    {
      "cell_type": "code",
      "execution_count": 32,
      "metadata": {
        "id": "-WrM93nXK_Z8"
      },
      "outputs": [],
      "source": [
        "query = 'SELECT T1.id, T1.context, T2.title, T3.content FROM ESTAT.V1.dat_article as T1 INNER JOIN ESTAT.V1.dat_link_info as T2 ON T1.id=T2.id INNER JOIN ESTAT.V1.dat_article_paragraph as T3 ON T2.id=T3.article_id WHERE T2.resource_information_id=1 AND T3.abstract=1'\n",
        "SE_df = load_table(query)"
      ]
    },
    {
      "cell_type": "code",
      "execution_count": 33,
      "metadata": {
        "id": "qCZknn1sLD5E"
      },
      "outputs": [],
      "source": [
        "SE_df.rename(columns={'id':'article_id','content':'abstract'},inplace=True)"
      ]
    },
    {
      "cell_type": "code",
      "execution_count": 34,
      "metadata": {
        "id": "G2_yXPLFK_O3"
      },
      "outputs": [],
      "source": [
        "# apply cleaning\n",
        "SE_df['title'] = SE_df['title'].apply(clean).apply(lambda x: re.sub(r'\\?','-',x)) ## also replace question marks by dashes\n",
        "SE_df['context'] = SE_df['context'].apply(clean)\n",
        "SE_df['abstract'] = SE_df['abstract'].apply(clean)\n",
        "\n",
        "# using title-context pairs\n",
        "SE_df1 = SE_df[['article_id','title','context']]\n",
        "SE_df1 = SE_df1.rename(columns={'context':'content'})\n",
        "\n",
        "# using title-abstract pairs\n",
        "SE_df2 = SE_df[['article_id','title','abstract']]\n",
        "SE_df2 = SE_df2.rename(columns={'abstract':'content'})\n",
        "\n",
        "# deleting empty\n",
        "SE_df1['content'] = SE_df1['content'].replace('', np.nan)\n",
        "SE_df1 = SE_df1.dropna(axis=0,subset=['content'])\n",
        "\n",
        "SE_df2['content'] = SE_df2['content'].replace('', np.nan).replace('nan', np.nan)\n",
        "SE_df2 = SE_df2.dropna(axis=0,subset=['content'])"
      ]
    },
    {
      "cell_type": "markdown",
      "metadata": {
        "id": "DBCKUgkaLL8Z"
      },
      "source": [
        "####Merging all available glossaries and articles"
      ]
    },
    {
      "cell_type": "code",
      "execution_count": 35,
      "metadata": {
        "colab": {
          "base_uri": "https://localhost:8080/"
        },
        "id": "PCs_aR-hLJKC",
        "outputId": "4fa1581f-1a94-4106-b946-e41bdb88f369"
      },
      "outputs": [
        {
          "output_type": "stream",
          "name": "stderr",
          "text": [
            "/usr/local/lib/python3.7/dist-packages/ipykernel_launcher.py:3: FutureWarning: Sorting because non-concatenation axis is not aligned. A future version\n",
            "of pandas will change to not sort by default.\n",
            "\n",
            "To accept the future behavior, pass 'sort=False'.\n",
            "\n",
            "To retain the current behavior and silence the warning, pass 'sort=True'.\n",
            "\n",
            "  This is separate from the ipykernel package so we can avoid doing imports until\n"
          ]
        }
      ],
      "source": [
        "# merge OECD glossary with add_content, GL_df and SE_df\n",
        "glossaries = [OECD_df1, OECD_df2, GL_df, add_content, SE_df1, SE_df2]\n",
        "merged_glossary = pd.concat(glossaries, ignore_index=True)\n",
        "merged_glossary = merged_glossary.drop(['url'],axis=1)\n",
        "\n",
        "del(OECD_df,OECD_df1, OECD_df2, GL_df, add_content, SE_df, SE_df1, SE_df2, glossaries)"
      ]
    },
    {
      "cell_type": "code",
      "execution_count": 36,
      "metadata": {
        "id": "uhqrCjzxLJGw"
      },
      "outputs": [],
      "source": [
        "# setting all pairs of titles and content to have a label of 1\n",
        "# this is because all pairs are considered a positive example\n",
        "merged_glossary['is_pair']=1"
      ]
    },
    {
      "cell_type": "markdown",
      "metadata": {
        "id": "yK04X-gELTgc"
      },
      "source": [
        "#### Keep 80% of data for training and 20% for evaluation of the model"
      ]
    },
    {
      "cell_type": "code",
      "execution_count": 37,
      "metadata": {
        "id": "3pyTKk2RLUMi"
      },
      "outputs": [],
      "source": [
        "from sklearn.model_selection import train_test_split\n",
        "train_features, eval_features, train_labels, eval_labels = train_test_split(merged_glossary[['title','content']], \n",
        "                                                                            merged_glossary[['is_pair']], \n",
        "                                                                            train_size=0.8, \n",
        "                                                                            random_state=1,\n",
        "                                                                            stratify=merged_glossary['is_pair'])\n",
        "\n",
        "train_features = train_features.reset_index(drop=True)\n",
        "eval_features = eval_features.reset_index(drop=True)"
      ]
    },
    {
      "cell_type": "markdown",
      "metadata": {
        "id": "OvoXDY4uLWe7"
      },
      "source": [
        "####Fine tuning bi-encoder (CUDA required)"
      ]
    },
    {
      "cell_type": "code",
      "execution_count": 38,
      "metadata": {
        "id": "WBnm6g9NLUJq"
      },
      "outputs": [],
      "source": [
        "# convert training examples to the appropriate format\n",
        "train_examples = []\n",
        "for i in range(len(train_features)):\n",
        "  train_examples.append(InputExample(texts=[train_features['title'].iloc[i], train_features['content'].iloc[i]]))"
      ]
    },
    {
      "cell_type": "code",
      "execution_count": 39,
      "metadata": {
        "id": "qe5_q9WyLJEC"
      },
      "outputs": [],
      "source": [
        "finetune_dataloader = DataLoader(train_examples, shuffle=True, batch_size=16)"
      ]
    },
    {
      "cell_type": "code",
      "execution_count": 40,
      "metadata": {
        "id": "nokDa_3PLeAW"
      },
      "outputs": [],
      "source": [
        "# MultipleNegativesRankingLoss is a great loss function if you only have positive pairs \n",
        "loss = MultipleNegativesRankingLoss(model=bi_encoder)"
      ]
    },
    {
      "cell_type": "code",
      "execution_count": 41,
      "metadata": {
        "id": "fEIoSUIPLd9T"
      },
      "outputs": [],
      "source": [
        "from sentence_transformers.evaluation import EmbeddingSimilarityEvaluator, BinaryClassificationEvaluator, MSEEvaluator\n",
        "from sentence_transformers import evaluation\n",
        "\n",
        "sentences1 = list(eval_features['title'])\n",
        "sentences2 = list(eval_features['content'])\n",
        "scores_eval = list(eval_labels['is_pair'])"
      ]
    },
    {
      "cell_type": "code",
      "execution_count": 42,
      "metadata": {
        "id": "FcgTGiHELd6z"
      },
      "outputs": [],
      "source": [
        "evaluator = evaluation.MSEEvaluator(sentences1, sentences2, teacher_model=bi_encoder)"
      ]
    },
    {
      "cell_type": "code",
      "execution_count": 43,
      "metadata": {
        "colab": {
          "base_uri": "https://localhost:8080/"
        },
        "id": "U2Vz7N4QLd37",
        "outputId": "753c5e02-aab2-4a23-d8b2-8697a20f3c8b"
      },
      "outputs": [
        {
          "output_type": "execute_result",
          "data": {
            "text/plain": [
              "52"
            ]
          },
          "metadata": {},
          "execution_count": 43
        }
      ],
      "source": [
        "#cleaning up any CUDA related left-overs\n",
        "import gc\n",
        "gc.collect()"
      ]
    },
    {
      "cell_type": "code",
      "execution_count": 44,
      "metadata": {
        "colab": {
          "base_uri": "https://localhost:8080/",
          "height": 209,
          "referenced_widgets": [
            "de99de9520ea4396a9b666f922d7480e",
            "8e2e1102075a40a6a8c831ae66016a31",
            "5275723074614e17b129e3e8f246850d",
            "fc9e4548e5f243c3b3e8e8b2d61227d2",
            "bf1269a8185d457ebf95d0e80fa14379",
            "3c731f009590496f898e479205310973",
            "45ef1b6953964fac9797e96c59c471e0",
            "2aa5d6e43f9b44328f525de1ac99aa6e",
            "5a1955684abb460e90666bf93d769c19",
            "4b95bb9446e947e4a911d533767fc3a9",
            "f7a13d3ace614a8f94f9e4fe373dde60",
            "aed43af9a6484396b836a51c8b341834",
            "5eb7fad0521b47b0bdb04520dca29c76",
            "89deb1a4b0f64fdfa88d7403ee5d115a",
            "b6b201594b5943e8afe14f3850f2b923",
            "a8f8c5a9c3f44bafaca3f6c07cf1255d",
            "cf0d199eceb74254a168bd00e01a6941",
            "03c7b89a9f234eaea053a67eabec000c",
            "7269d2248095459d925bf9e156fcd920",
            "65984c29eb18479b801ef166cb86f8a4",
            "0be11a6d420f44868ca68ad2f0862a5a",
            "f0b40e18cb254e7588abc8ee8967bc04",
            "fa8be87b3957483c9a0457683fef9844",
            "8b4e954a351e4ed9b7460a3ef5b522a7",
            "0deb770169ec46a89401802294c91170",
            "f1ea6d13a938494390284af687ff9104",
            "51a9504d329e4f2a9300e82f69085e15",
            "70d269ffb067471da6e1ac6796a61bab",
            "2112d4e1804d4a8195664a079e6c8c61",
            "6e7c534f00e545728aba5bb7fc3848a8",
            "4f4bcb3618764499ab2815995cd3143f",
            "f82c1a4f400d45f9b84f5a9066f0fb49",
            "3fd4b0afc99843c59856e3cf9487e6d3",
            "6999ec53c63140a49a600a458538078c",
            "22bec64f67c34846b33dd62f4c6dd1e3",
            "c50352f864fa40bd92022f12a906b2c6",
            "e42b1969de1c4397b1d8cbdd839fdb9f",
            "26e40538b94646189c0ac737be1890f2",
            "30329f142fa24815a2136cd3ddf40d74",
            "3722467711eb4c91882978c83869ea56",
            "0f1f558569b942439d12de921f83a525",
            "fc64f876ca394f13b37de53e7444e6f2",
            "57cfcf6d1c38477d80ab5f8a7d92831d",
            "ec21f775aba542f4aa96b8c3e0798745",
            "66a2b940dba44d3d84dc0051084ca163",
            "b06731bd7130415c8ab157a1f12f4c8f",
            "ab192291f73f4ea6810dae8edb0ed7ac",
            "14fef29f697c48aebebc385c1dd851bc",
            "73581a2407b942ad9860ad666b155782",
            "54ad1b83cea34ab4a5acf74ad67f25dc",
            "13103c17673b4d6b9a6d5335ce4e3b7a",
            "0c258905e0b146c881382d2935b536dd",
            "4e721a0c2a7545efa017b6d12880fb96",
            "27b6c43934274ff982b8516fc2dfff53",
            "cdcdee152df046d3bf1fc72b2eff8000",
            "8cabfa1999564da08b698be8cb844905",
            "d55f223168f54d0dbf3e813034883872",
            "c93157b3274d474c909a29f8b2687013",
            "3cace5cfae0348408fdafd7c3657304f",
            "3cf5e2c449374092a981eace5eac0590",
            "f4bef09f07964b07808c89dff185e2d9",
            "0258e90495ab40b2aa50197dd8e0c2d4",
            "111cd85e6c8745d4b338e3f6bfa33529",
            "f4e397ab1e7645d2ba840748ad361919",
            "5fb9daf8c94f41fdbab84e4400f4947d",
            "421617cf3a4442f5b507473d05a1dc97"
          ]
        },
        "id": "-Oa99uJPLj1a",
        "outputId": "9796e2d8-65cc-4d0f-deec-7a1bc9a646a6"
      },
      "outputs": [
        {
          "output_type": "display_data",
          "data": {
            "text/plain": [
              "Epoch:   0%|          | 0/5 [00:00<?, ?it/s]"
            ],
            "application/vnd.jupyter.widget-view+json": {
              "version_major": 2,
              "version_minor": 0,
              "model_id": "de99de9520ea4396a9b666f922d7480e"
            }
          },
          "metadata": {}
        },
        {
          "output_type": "display_data",
          "data": {
            "text/plain": [
              "Iteration:   0%|          | 0/744 [00:00<?, ?it/s]"
            ],
            "application/vnd.jupyter.widget-view+json": {
              "version_major": 2,
              "version_minor": 0,
              "model_id": "aed43af9a6484396b836a51c8b341834"
            }
          },
          "metadata": {}
        },
        {
          "output_type": "display_data",
          "data": {
            "text/plain": [
              "Iteration:   0%|          | 0/744 [00:00<?, ?it/s]"
            ],
            "application/vnd.jupyter.widget-view+json": {
              "version_major": 2,
              "version_minor": 0,
              "model_id": "fa8be87b3957483c9a0457683fef9844"
            }
          },
          "metadata": {}
        },
        {
          "output_type": "display_data",
          "data": {
            "text/plain": [
              "Iteration:   0%|          | 0/744 [00:00<?, ?it/s]"
            ],
            "application/vnd.jupyter.widget-view+json": {
              "version_major": 2,
              "version_minor": 0,
              "model_id": "6999ec53c63140a49a600a458538078c"
            }
          },
          "metadata": {}
        },
        {
          "output_type": "display_data",
          "data": {
            "text/plain": [
              "Iteration:   0%|          | 0/744 [00:00<?, ?it/s]"
            ],
            "application/vnd.jupyter.widget-view+json": {
              "version_major": 2,
              "version_minor": 0,
              "model_id": "66a2b940dba44d3d84dc0051084ca163"
            }
          },
          "metadata": {}
        },
        {
          "output_type": "display_data",
          "data": {
            "text/plain": [
              "Iteration:   0%|          | 0/744 [00:00<?, ?it/s]"
            ],
            "application/vnd.jupyter.widget-view+json": {
              "version_major": 2,
              "version_minor": 0,
              "model_id": "8cabfa1999564da08b698be8cb844905"
            }
          },
          "metadata": {}
        }
      ],
      "source": [
        "# Fine-tune the model (BE CAREFUL TO SET A PATH FOR THE FINE-TUNED MODEL)\n",
        "num_epochs = 5\n",
        "path_to_save_bi_encoder = '/content/drive/MyDrive/testing_fine_tuning'\n",
        "bi_encoder.fit(train_objectives=[(finetune_dataloader, loss)], evaluator=evaluator, optimizer_class=torch.optim.AdamW, epochs=num_epochs, output_path=path_to_save_bi_encoder)"
      ]
    },
    {
      "cell_type": "markdown",
      "metadata": {
        "id": "ZCPLESdLLnRY"
      },
      "source": [
        "####Loading the fine-tuned model"
      ]
    },
    {
      "cell_type": "code",
      "execution_count": 77,
      "metadata": {
        "id": "hIpbzcuQLjyF"
      },
      "outputs": [],
      "source": [
        "fine_tuned_bi_encoder = SentenceTransformer(path_to_save_bi_encoder)\n",
        "path_to_bi_encoder = path_to_save_bi_encoder"
      ]
    },
    {
      "cell_type": "code",
      "execution_count": 78,
      "metadata": {
        "id": "yUyskeh7Lju7"
      },
      "outputs": [],
      "source": [
        "bi_encoder = fine_tuned_bi_encoder"
      ]
    },
    {
      "cell_type": "markdown",
      "metadata": {
        "id": "Fim-_vBhxIY4"
      },
      "source": [
        "### DeepPavlov"
      ]
    },
    {
      "cell_type": "markdown",
      "metadata": {
        "id": "Epwxdpjb-WSJ"
      },
      "source": [
        "#### Creating Components"
      ]
    },
    {
      "cell_type": "code",
      "execution_count": 79,
      "metadata": {
        "id": "k26c4i1z9k5e"
      },
      "outputs": [],
      "source": [
        "# __init__ functions are called once in the very beggining of components initialization\n",
        "# __call__ functions are called every time the user interacts with chatbot"
      ]
    },
    {
      "cell_type": "code",
      "execution_count": 80,
      "metadata": {
        "id": "ehplUXhGeviD"
      },
      "outputs": [],
      "source": [
        "@register('datasets_retriever')\n",
        "class DatasetsRetriever(Component):\n",
        "    def __init__(self, datasets_path: str, pretrained_model: str, top_n: int, path_column: str, **kwargs):\n",
        "      self.model = SentenceTransformer(pretrained_model)\n",
        "      self.datasets = pd.read_pickle(datasets_path)\n",
        "      self.top_n = top_n\n",
        "\n",
        "      # calculate corpus embeddings and augment dataset with these (so as to compute them only once)\n",
        "      embeddings = self.model.encode(self.datasets[path_column], convert_to_tensor=True, show_progress_bar=False)\n",
        "      self.datasets['embeddings'] = list(embeddings.cpu())\n",
        "\n",
        "    def __call__(self, query: str, datasets: pd.DataFrame = None) -> pd.DataFrame:\n",
        "      #calculate user's query embedding (initial or augmented)\n",
        "      query_embedding = self.model.encode(query, convert_to_tensor=True, show_progress_bar=False)\n",
        "\n",
        "      if datasets is None:\n",
        "        data_df = self.datasets.copy()\n",
        "      else:\n",
        "        data_df = datasets.copy()\n",
        "      \n",
        "      data_df.reset_index(drop=True, inplace=True)\n",
        "      data_df['corpus_id'] = data_df.index\n",
        "\n",
        "      # top_n refers to number of Eurostat databases we want to retrieve with the bi-encoder\n",
        "      hits = util.semantic_search(query_embedding, torch.stack(data_df['embeddings'].values.tolist()), top_k=self.top_n)\n",
        "      hits = hits[0]\n",
        "      hits_df = pd.DataFrame(hits)\n",
        "\n",
        "      if 'score' in data_df.columns:\n",
        "        data_df.drop(['score'], inplace=True, axis=1)\n",
        "      \n",
        "      # return the dataset augmented with two columns (bi-encoder corpus embeddings and score)\n",
        "      data_df = hits_df.merge(data_df, on='corpus_id', how='inner')\n",
        "\n",
        "      return data_df\n",
        "\n",
        "\n",
        "@register('datasets_reranker')\n",
        "class DatasetsReranker(Component):\n",
        "    def __init__(self, pretrained_model:str, path_column: str, **kwargs):\n",
        "      self.path_column = path_column\n",
        "      self.model = CrossEncoder(pretrained_model)\n",
        "        \n",
        "    def __call__(self, query: str, top_n_datasets: pd.DataFrame) -> pd.DataFrame:\n",
        "      # score all retrieved datasets with the cross_encoder\n",
        "      cross_inp = [[query, top_n_datasets[self.path_column][i]] for i in range(len(top_n_datasets))]\n",
        "\n",
        "      top_n_datasets['cross_scores'] = self.model.predict(cross_inp)\n",
        "      top_n_datasets = top_n_datasets.sort_values(['cross_scores'],ascending=False)\n",
        "\n",
        "      return top_n_datasets\n",
        "\n",
        "@register('datasets_reducer')\n",
        "class DatasetsReducer(Component):\n",
        "    def __init__(self, **kwargs):\n",
        "      pass\n",
        "        \n",
        "    def __call__(self, individual_query: str, intermediate_results:bool , datasets: pd.DataFrame) -> pd.DataFrame:\n",
        "      # perform kmeans with 2 and 3 clusters on cross_scores, and only keep the cluster\n",
        "      # that contains the result with best cross-score\n",
        "\n",
        "      optimalK = OptimalK(clusterer = self._k_means_clustering)\n",
        "      n_clusters = optimalK(datasets[['cross_scores']], cluster_array=np.arange(2, 4))\n",
        "      print('Optimal clusters: ', n_clusters)\n",
        "      print(optimalK.gap_df[['n_clusters', 'gap_value']])\n",
        "      \n",
        "      ## repeat with the optimal number of clusters between 2 and 3\n",
        "      kmeans = KMeans(n_clusters=n_clusters, random_state=42).fit(datasets[['cross_scores']])\n",
        "\n",
        "      datasets['cluster_id'] =  list(kmeans.labels_)\n",
        "\n",
        "      # plot histogram\n",
        "      if intermediate_results:\n",
        "        ax = self._create_plot(datasets, n_clusters, individual_query)\n",
        "        display(ax)\n",
        "\n",
        "      datasets = datasets[datasets['cluster_id']==(datasets['cluster_id'].iloc[0])]\n",
        "      return datasets\n",
        "\n",
        "    def _k_means_clustering(self, data, num_of_clusters):\n",
        "      # Include any clustering Algorithm that can return cluster centers\n",
        "        m = KMeans(random_state=42, n_clusters=num_of_clusters)\n",
        "        m.fit(data)\n",
        "        # Return the location of each cluster center, and the labels for each point.\n",
        "        return m.cluster_centers_, m.predict(data)\n",
        "    \n",
        "\n",
        "    def _create_plot(self, datasets, n_clusters, individual_query):\n",
        "      # use a gray background\n",
        "      ax = plt.axes(facecolor='#E6E6E6')\n",
        "      ax.set_axisbelow(True)\n",
        "\n",
        "      # draw solid white grid lines\n",
        "      plt.grid(color='w', linestyle='solid')\n",
        "\n",
        "      # hide axis spines\n",
        "      for spine in ax.spines.values():\n",
        "          spine.set_visible(False)\n",
        "          \n",
        "      # hide top and right ticks\n",
        "      ax.xaxis.tick_bottom()\n",
        "      ax.yaxis.tick_left()\n",
        "\n",
        "      # lighten ticks and labels\n",
        "      ax.tick_params(colors='gray', direction='out')\n",
        "      for tick in ax.get_xticklabels():\n",
        "          tick.set_color('gray')\n",
        "      for tick in ax.get_yticklabels():\n",
        "          tick.set_color('gray')\n",
        "\n",
        "      for cluster in range(n_clusters):\n",
        "        ax.hist(datasets['cross_scores'][(datasets['cluster_id'] == cluster)], 5, density=False, histtype='bar',  label='cluster '+str(cluster))\n",
        "      ax.legend(prop={'size': 10})\n",
        "      ax.set_xlabel('cross_scores')\n",
        "      ax.set_title(f'Reduction phase, K-means clusters histogram query={individual_query}')\n",
        "      plt.pause(0.05)\n",
        "      return ax\n",
        "\n",
        "@register('question_generator')\n",
        "class QuestionGenerator(Component):\n",
        "  def __init__(self, ngram_range: Tuple[int, int], max_df: float, min_df: float, **kwargs):\n",
        "    self.ngram_range = ngram_range\n",
        "    self.max_df = max_df\n",
        "    self.min_df = min_df\n",
        "  \n",
        "  def __call__(self, corpus: pd.Series, stop_words: Set[str], unwanted_words: List[str]) -> Tuple[str, str, List[str]]:\n",
        "    # exclude 'by' from stopwords (as we think that carries useful information)\n",
        "    stop_words_copy = stop_words.copy()\n",
        "    stop_words_copy.remove('by')\n",
        "    vectorizer = TfidfVectorizer(stop_words=stop_words_copy, ngram_range=self.ngram_range, max_df=self.max_df, min_df=self.min_df, token_pattern='(?u)\\\\b\\\\w*[a-zA-Z%&\\-/]+\\\\w*\\\\b|\\\\b[0-9]{4}\\\\b')\n",
        "    subset = vectorizer.fit_transform(corpus)\n",
        "\n",
        "    # a vocublulary of tokens that includes all ngrams that have been produced \n",
        "    vocabulary_words = vectorizer.get_feature_names()\n",
        "    #print(vocabulary_words)\n",
        "\n",
        "    # decide on the order that we want to show the user the ngrams (in the clarification question)\n",
        "    sorted_word_idx = list(np.argsort(np.mean(subset.toarray(), axis=0)))\n",
        "\n",
        "    # get the index of all unwanted words that are in the words dictionary\n",
        "    existing_idx = list(map(lambda o: vectorizer.vocabulary_[o], filter(lambda o: o in vectorizer.vocabulary_, unwanted_words)))\n",
        "\n",
        "    # making sure that the cleaned term will be removed from ngrams to propose\n",
        "    sorted_idxs = [x for x in sorted_word_idx if x not in existing_idx]\n",
        "    for idx in sorted_idxs[::-1]:\n",
        "      question_word = vocabulary_words[idx]\n",
        "      clean_term = self._clean_term_to_show(question_word)\n",
        "      if clean_term not in unwanted_words:\n",
        "        break\n",
        "      else:\n",
        "        pass\n",
        "\n",
        "    question = f\"bot: {self._choose_question(clean_term)} (yes/no/add some keywords, q to quit) \\nme:  \"  \n",
        "\n",
        "    return question_word, question, vocabulary_words\n",
        "\n",
        "  def _clean_term_to_show(self, input_term):\n",
        "    # remove 'by' if it is the last token\n",
        "    tokens = input_term.split()\n",
        "    if tokens[-1]=='by':\n",
        "      return ' '.join(tokens[:-1])\n",
        "    return input_term\n",
        "\n",
        "  def _choose_question(self, input_term):\n",
        "  # function to produce a random question \n",
        "  \n",
        "    input_tokens = input_term.split()\n",
        "    # if ngram starts with 'by'\n",
        "    if input_tokens[0]=='by':\n",
        "      question_texts = [f\"Would you like to see results {input_term}?\", \n",
        "                        f\"Would you be interested in seeing results {input_term}?\",  \n",
        "                        f\"Let's make it more specific. Are you interested in seeing results {input_term}?\"]\n",
        "    # if ngram contains 3 or more tokens (this means that the question becomes very specific)\n",
        "    elif len(input_tokens)>=3:\n",
        "      question_texts = [f\"What about {input_term}?\"]\n",
        "    else:\n",
        "      question_texts = [f\"Can we make it more specific? Is '{input_term}' related to what you are looking for?\", \n",
        "                        f\"Let's make it more specific. Are you interested in '{input_term}'?\",\n",
        "                        f\"I have some results related to '{input_term}'. Is that what you are looking for?\",\n",
        "                        f\"It would help me if could be could be more specific. Is '{input_term}' related to what you are searching?\",\n",
        "                        f\"Would you be interested in '{input_term}'?\",\n",
        "                        f\"Is '{input_term}' related to what you are looking for?\",\n",
        "                        f\"It would help me if you could provide more details. Is '{input_term}' something related to your query?\",\n",
        "                        f\"Please provide more details. Is '{input_term}' something related to what you are looking for?\",\n",
        "                        f\"Are you interested to results related to '{input_term}'?\",\n",
        "                        f\"Help me please to understand what you mean. Are you referring to '{input_term}'\"\n",
        "      ]\n",
        "    return random.choice(question_texts)\n",
        "\n",
        "@register('response_handler')\n",
        "class ResponseHandler(Component):\n",
        "  def __init__(self, **kwargs):\n",
        "    self._stop_words = stopwords.words('english')\n",
        "    self._stemmer = PorterStemmer()\n",
        "  \n",
        "  def __call__(self, question_word: str, input_text: str, answer_text: str, vocabulary_words: List[str], \\\n",
        "               all_unwanted_words: List[str], stop_after_multiple_yes: int, stop_after_multiple_no: int) -> Tuple[str, str, List[str],int, int]:\n",
        "\n",
        "    if answer_text.lower()=='yes':\n",
        "      # stop if you reach a threshold for \"yes\" answers from the user\n",
        "      stop_after_multiple_yes = stop_after_multiple_yes - 1\n",
        "\n",
        "      #update the initial query with the new ngram that we proposed (question_word)\n",
        "      input_text = input_text + ' ' + question_word\n",
        "      # find all terms that are similar to that ngram proposed and add them to the unwanted words\n",
        "      all_unwanted_words.extend(self._similar_subset_terms(vocabulary_words, question_word))\n",
        "      all_unwanted_words = list(set(all_unwanted_words))\n",
        "      \n",
        "      # make use of DeepPavlov's Component, to get the updated results based on the augmented user's answer\n",
        "      return \"retrieve_rerank\", input_text, all_unwanted_words, stop_after_multiple_yes, stop_after_multiple_no\n",
        "      ## query_results_df = self._retrieve_and_rerank(input_text, question_word, show_inter_results, query_results_df)\n",
        "\n",
        "    elif answer_text.lower()=='no':\n",
        "      # stop if you reach a threshold for \"no\" answers from the user\n",
        "      stop_after_multiple_no = stop_after_multiple_no - 1\n",
        "\n",
        "      # find all terms that are similar to that ngram proposed and add them to the unwanted words\n",
        "      all_unwanted_words.extend(self._similar_superset_terms(vocabulary_words, question_word))\n",
        "      all_unwanted_words = list(set(all_unwanted_words))\n",
        "      return \"check_stop\", input_text, all_unwanted_words, stop_after_multiple_yes, stop_after_multiple_no\n",
        "\n",
        "    # user can quit at any time\n",
        "    elif answer_text.lower()=='q':\n",
        "      ##break\n",
        "      return \"quit\", None, None, None\n",
        "\n",
        "    # allow user to define what ngrams NOT to ask\n",
        "    elif answer_text.lower().startswith('no '):\n",
        "      # treat as providing information\n",
        "      stop_after_multiple_yes = stop_after_multiple_yes - 1 \n",
        "      no_text = re.sub('no ','', answer_text)\n",
        "\n",
        "      all_unwanted_words.extend(self._similar_superset_terms(vocabulary_words, question_word))\n",
        "      for token in self._generate_ngrams1(no_text): \n",
        "        all_unwanted_words.extend(self._similar_superset_terms(vocabulary_words, token))\n",
        "      all_unwanted_words = list(set(all_unwanted_words))\n",
        "      return \"check_stop\", input_text, all_unwanted_words, stop_after_multiple_yes, stop_after_multiple_no   \n",
        "\n",
        "    # in case that the user has entered a keyword/phrase/sentence instead of answering yes/no  \n",
        "    else:\n",
        "      # updating the threshold of yes\n",
        "      stop_after_multiple_yes = stop_after_multiple_yes - 1\n",
        "\n",
        "      # update the user's query with the text that they typed\n",
        "      input_text = input_text + ' ' + answer_text\n",
        "      # for every token that the user's answer contain\n",
        "      for token in self._generate_ngrams1(answer_text):\n",
        "        # find all terms that are similar to that ngram proposed and add them to the unwanted words\n",
        "        all_unwanted_words.extend(self._similar_subset_terms(vocabulary_words, token))\n",
        "      all_unwanted_words = list(set(all_unwanted_words))\n",
        "\n",
        "      # make use of DeepPavlov's Component, to get the updated results based on the augmented user's answer\n",
        "      return \"retrieve_rerank\", input_text, all_unwanted_words, stop_after_multiple_yes, stop_after_multiple_no\n",
        "      ## query_results_df = self._retrieve_and_rerank(input_text, answer_text, show_inter_results, query_results_df)\n",
        "        \n",
        "  def _generate_ngrams1(self, input_text):\n",
        "    # generate a list tha contains all 1 to 4 ngrams from input_text\n",
        "    vectorizer1 = TfidfVectorizer(ngram_range=(1, 4))\n",
        "    _ = vectorizer1.fit([input_text])\n",
        "    input_ngrams = list(vectorizer1.get_feature_names())\n",
        "    return input_ngrams\n",
        "  \n",
        "  # Notion behind this function is that when user answers 'yes' to a proposed ngram,\n",
        "  # then they might be interested in more specific ngram (e.g. if asked\n",
        "  # 'unemployment rate', would be interested in 'harmonised unemployment rate' also).\n",
        "  # Simultaneously, the user would not want to see a repetition of a less specific ngram\n",
        "  # (e.g. if asked for 'unemployment rate', wouldn't be interested in either\n",
        "  # 'unemployment' or 'rates' to be asked again).\n",
        "  # This function is used when we want to find all similar terms to input_term,\n",
        "  # against the terms_list. We seek similar terms in terms_list.  If input term is\n",
        "  # a superset of a (stemmed) term in the terms_list, then this is considered as similar.\n",
        "  # Example:\n",
        "  # input_term = unemployment rate\n",
        "  # terms_list = [unemployment rate, unemployment rates, unemployment, rate, harmonised unemployment rate]\n",
        "  # terms = [unemployment rate, unemployment rates, unemployment, rate]\n",
        "  def _similar_subset_terms(self, terms_list, input_term):\n",
        "\n",
        "    # input_term might be 1 or more tokens (usually words, numbers, etc)\n",
        "    tokens = input_term.split() \n",
        "    # get all unique input tokens that are not stopwords\n",
        "    tokens = set(filter(lambda o: not o in self._stop_words, tokens))\n",
        "    if len(tokens)==0:\n",
        "      return []\n",
        "\n",
        "    # get the unique stemmed tokens\n",
        "    stemmed_tokens = set(map(lambda o: self._stemmer.stem(o), tokens))\n",
        "\n",
        "    terms = []\n",
        "    for term in terms_list:\n",
        "      stemmed_term = set(map(lambda o: self._stemmer.stem(o), term.split()))\n",
        "      stemmed_term = set(filter(lambda o: not o in self._stop_words, stemmed_term))\n",
        "      # issuperset returns true if stemmed_tokens is a superset of stemmed_term\n",
        "      if stemmed_tokens.issuperset(stemmed_term):\n",
        "        terms.append(term)\n",
        "      \n",
        "    return terms\n",
        "\n",
        "  # Notion behind this function is that when user answers 'no' to a proposed ngram\n",
        "  # or replies with their own phrase, then they might be interested in more generic\n",
        "  # ngram (e.g. if asked 'educational attainment level' and answered 'no', might\n",
        "  # be interested in 'educational' solely). Simultaneously, the user would not\n",
        "  # want to see a more specific ngram (e.g. if asked for 'unemployment rate', wouldn't\n",
        "  # be interested in 'unemployment rate by sex').\n",
        "  # This function is used when we want to find all similar terms to input_term,\n",
        "  # against the terms_list. We seek similar terms in terms_list.  If input term is\n",
        "  # a subset of a (stemmed) term in the terms_list, then this is considered as similar.\n",
        "  # Example:\n",
        "  # input_term = unemployment rate\n",
        "  # terms_list = [unemployment rate, unemployment rates, unemployment, rate, harmonised unemployment rate]\n",
        "  # terms = [unemployment rate, unemployment rates, harmonised unemployment rate]\n",
        "  def _similar_superset_terms(self, terms_list, input_term):\n",
        "\n",
        "    # input_term might be 1 or more tokens (usually words, numbers, etc)\n",
        "    tokens = input_term.split()\n",
        "    # get all unique input tokens that are not stopwords\n",
        "    tokens = set(filter(lambda o: not o in self._stop_words, tokens))\n",
        "    if len(tokens)==0:\n",
        "      return []\n",
        "\n",
        "    # get the unique stemmed tokens\n",
        "    stemmed_tokens = set(map(lambda o: self._stemmer.stem(o), tokens))\n",
        "\n",
        "    terms = []\n",
        "    for term in terms_list:\n",
        "      stemmed_term = set(map(lambda o: self._stemmer.stem(o), term.split()))\n",
        "      # issubset returns true if stemmed_tokens is a subset of stemmed_term\n",
        "      if stemmed_tokens.issubset(stemmed_term):\n",
        "        terms.append(term)\n",
        "      \n",
        "    return terms\n"
      ]
    },
    {
      "cell_type": "markdown",
      "metadata": {
        "id": "BQYrAFzsS4MD"
      },
      "source": [
        "#### JSON pipeline configurations"
      ]
    },
    {
      "cell_type": "code",
      "execution_count": 81,
      "metadata": {
        "id": "VCEn1jNt-XNy"
      },
      "outputs": [],
      "source": [
        "# An NLP pipeline config is a JSON file that contains one required element chainer, \n",
        "# which builds a pipeline from heterogeneous components (Rule-Based/ML/DL)"
      ]
    },
    {
      "cell_type": "code",
      "execution_count": 82,
      "metadata": {
        "id": "5Ur4_8dWexR7"
      },
      "outputs": [],
      "source": [
        "retrieve_and_rerank_config = {\n",
        "    'chainer': {\n",
        "        'in': ['query', 'individual_query', 'intermediate_results', 'datasets'],\n",
        "        'pipe': [\n",
        "            {\n",
        "                'class_name': 'datasets_retriever',\n",
        "                'id': 'datasets_retriever',\n",
        "                'datasets_path': '{DATASETS_PATH}',\n",
        "                'pretrained_model': f\"{path_to_bi_encoder}\",\n",
        "                'path_column': 'Full path',\n",
        "                'top_n': 100,\n",
        "                'in': ['query', 'datasets'],\n",
        "                'out': ['top_n_datasets']\n",
        "            },\n",
        "            {\n",
        "                'class_name': 'datasets_reranker',\n",
        "                'id': 'datasets_reranker',\n",
        "                'pretrained_model': 'cross-encoder/ms-marco-MiniLM-L-6-v2',\n",
        "                'path_column': 'Full path',\n",
        "                'in': ['query', 'top_n_datasets'],\n",
        "                'out': ['reranked_datasets']\n",
        "            },\n",
        "            {\n",
        "                'class_name': 'datasets_reducer',\n",
        "                'id': 'datasets_reducer',\n",
        "                'in': ['individual_query', 'intermediate_results', 'reranked_datasets'],\n",
        "                'out': ['reduced_datasets']\n",
        "            }\n",
        "        ],\n",
        "        'out': ['reduced_datasets']\n",
        "    },\n",
        "    \"metadata\": {\n",
        "      \"variables\": {\n",
        "        \"ROOT_PATH\": \"/content/drive/MyDrive/\",\n",
        "        \"DATASETS_PATH\": f\"{{ROOT_PATH}}/{dataset_to_load}\"\n",
        "      }\n",
        "  }\n",
        "}"
      ]
    },
    {
      "cell_type": "code",
      "execution_count": 83,
      "metadata": {
        "id": "YfWzV8Tc-afa"
      },
      "outputs": [],
      "source": [
        "question_generator_config = {\n",
        "    'chainer': {\n",
        "        'in': ['corpus', 'stop_words', 'unwanted_words'],\n",
        "        'pipe': [\n",
        "            {\n",
        "                'class_name': 'question_generator',\n",
        "                'id': 'question_generator',\n",
        "                'ngram_range': [2, 4],\n",
        "                'max_df': 0.89,\n",
        "                'min_df': 0.02,\n",
        "                'in': ['corpus', 'stop_words', 'unwanted_words'],\n",
        "                'out': ['question_token','question', 'vocabulary']\n",
        "            }\n",
        "        ],\n",
        "        'out': ['question_token', 'question', 'vocabulary']\n",
        "    }\n",
        "}"
      ]
    },
    {
      "cell_type": "code",
      "execution_count": 84,
      "metadata": {
        "id": "27v2NI9merd2"
      },
      "outputs": [],
      "source": [
        "response_handler_config = {\n",
        "    'chainer': {\n",
        "        'in': ['question_word', 'input_text', 'answer_text', 'vocabulary_words', 'all_unwanted_words', 'stop_after_multiple_yes', 'stop_after_multiple_no'],\n",
        "        'pipe': [\n",
        "            {\n",
        "                'class_name': 'response_handler',\n",
        "                'id': 'response_handler',\n",
        "                'in': ['question_word', 'input_text', 'answer_text', 'vocabulary_words', 'all_unwanted_words', 'stop_after_multiple_yes', 'stop_after_multiple_no'],\n",
        "                'out': ['outcome', 'input_text', 'all_unwanted_words', 'stop_after_multiple_yes', 'stop_after_multiple_no']\n",
        "            }\n",
        "        ],\n",
        "        'out': ['outcome', 'input_text', 'all_unwanted_words', 'stop_after_multiple_yes', 'stop_after_multiple_no']\n",
        "    }\n",
        "}"
      ]
    },
    {
      "cell_type": "markdown",
      "metadata": {
        "id": "76bucpBm-uWT"
      },
      "source": [
        "## Databot"
      ]
    },
    {
      "cell_type": "code",
      "execution_count": 85,
      "metadata": {
        "id": "e4_NwrZT-ntr"
      },
      "outputs": [],
      "source": [
        "class Chatbot:\n",
        "  def __init__(self):\n",
        "    self._retrieve_and_rerank = build_model(retrieve_and_rerank_config)\n",
        "    self._question_generator = build_model(question_generator_config)\n",
        "    self._response_handler = build_model(response_handler_config)\n",
        "    self._stop_words = stopwords.words('english')\n",
        "    self._stemmer = PorterStemmer()\n",
        "\n",
        "  def run(self, stop_after_multiple_no: int, stop_after_multiple_yes:int, show_inter_results:bool):\n",
        "    input_text = input(\"bot: Hello, what are you looking for? \\nme:  \")\n",
        "    # make use of DeepPavlov's Component, that retrieves a number of datasets,\n",
        "    # reranks them and then reduces the number of them based on clustering\n",
        "    query_results_df = self._retrieve_and_rerank(input_text, input_text, show_inter_results, None)\n",
        "\n",
        "    # initialize list, where we keep all ngrams that we do not  want to propose\n",
        "    # to user (either the ones that user said no, or anything related to their query)\n",
        "    all_unwanted_words = self._generate_ngrams(input_text)\n",
        "\n",
        "    # keep asking the user for clarifications up until the results<=5, or if the\n",
        "    # user replied with a predifined number of no's or yes\n",
        "    while stop_after_multiple_yes>0 and stop_after_multiple_no>0 and len(query_results_df)>5:\n",
        "\n",
        "      # display intermediate results\n",
        "      if show_inter_results:\n",
        "        query_results_df_to_show = query_results_df[['score', 'cross_scores', 'File description', 'Full path', 'Link']].copy()\n",
        "        if (data_dropdown.value == 'glossary_use_case_d.pkl'):\n",
        "          query_results_df_to_show['File description'] = query_results_df_to_show['File description'].str.slice(0,315) + \"...\"\n",
        "          query_results_df_to_show['Full path'] = query_results_df_to_show['Full path'].str.slice(0,315) + \"...\"\n",
        "        display(data_table.DataTable(query_results_df_to_show , num_rows_per_page=5))\n",
        "      \n",
        "      # make use of DeepPavlov's Component, that generates next question\n",
        "      question_word, question, vocabulary_words = self._question_generator(query_results_df['File description'], self._stop_words, all_unwanted_words)\n",
        "      if not question:\n",
        "        break\n",
        "      answer_text = input(question)\n",
        "\n",
        "      outcome, input_text, all_unwanted_words, stop_after_multiple_yes, stop_after_multiple_no = \\\n",
        "        self._response_handler(question_word, input_text, answer_text, vocabulary_words, all_unwanted_words, stop_after_multiple_yes, stop_after_multiple_no)\n",
        "      \n",
        "\n",
        "      if outcome == 'retrieve_rerank':\n",
        "        query_results_df = self._retrieve_and_rerank(input_text, question_word, show_inter_results, query_results_df)\n",
        "      elif outcome == 'check_stop':\n",
        "        pass  \n",
        "      elif outcome == 'quit':\n",
        "        break \n",
        "      \n",
        "    # final results (truncated so as to show only top5 to the user)\n",
        "    query_results_df = query_results_df.head(5)\n",
        "    print('bot: Thank you. Here are the most relevant results of your query:')\n",
        "    query_results_df_to_show = query_results_df[['score', 'cross_scores', 'File description', 'Full path', 'Link']].copy()\n",
        "    if (data_dropdown.value == 'glossary_use_case_d.pkl'):\n",
        "      query_results_df_to_show['File description'] = query_results_df_to_show['File description'].str.slice(0,315) + \"...\"\n",
        "      query_results_df_to_show['Full path'] = query_results_df_to_show['Full path'].str.slice(0,315) + \"...\"\n",
        "    display(data_table.DataTable(query_results_df_to_show, num_rows_per_page=10))\n",
        "\n",
        "    return query_results_df\n",
        "\n",
        "\n",
        "\n",
        "  def _generate_ngrams(self, input_text):\n",
        "    # generate a list tha contains all 1 to 4 ngrams from input_text\n",
        "    vectorizer1 = TfidfVectorizer(ngram_range=(1, 4))\n",
        "    _ = vectorizer1.fit([input_text])\n",
        "    input_ngrams = list(vectorizer1.get_feature_names())\n",
        "    return input_ngrams\n"
      ]
    },
    {
      "cell_type": "code",
      "execution_count": 86,
      "metadata": {
        "id": "HnjpUsLF-v95",
        "colab": {
          "base_uri": "https://localhost:8080/"
        },
        "outputId": "37302e87-f614-45ef-c445-a4b1f5696511"
      },
      "outputs": [
        {
          "output_type": "stream",
          "name": "stderr",
          "text": [
            "[nltk_data] Downloading package stopwords to /root/nltk_data...\n",
            "[nltk_data]   Package stopwords is already up-to-date!\n",
            "[nltk_data] Downloading package wordnet to /root/nltk_data...\n",
            "[nltk_data]   Package wordnet is already up-to-date!\n"
          ]
        },
        {
          "output_type": "execute_result",
          "data": {
            "text/plain": [
              "True"
            ]
          },
          "metadata": {},
          "execution_count": 86
        }
      ],
      "source": [
        "nltk.download('stopwords')\n",
        "nltk.download('wordnet')"
      ]
    },
    {
      "cell_type": "markdown",
      "metadata": {
        "id": "PXq85rJS_yqx"
      },
      "source": [
        "####Run chatbot"
      ]
    },
    {
      "cell_type": "code",
      "execution_count": 87,
      "metadata": {
        "id": "IxfdaBhdCbBP"
      },
      "outputs": [],
      "source": [
        "# create a Chatbot object\n",
        "chatbot = Chatbot()"
      ]
    },
    {
      "cell_type": "code",
      "execution_count": 88,
      "metadata": {
        "id": "ZMZuiq-U-1J6",
        "colab": {
          "base_uri": "https://localhost:8080/",
          "height": 4452
        },
        "outputId": "0916b35e-2861-45c4-e99e-17d3f8703a0a"
      },
      "outputs": [
        {
          "output_type": "stream",
          "name": "stdout",
          "text": [
            "bot: Hello, what are you looking for? \n",
            "me:  pensions\n",
            "Optimal clusters:  2\n",
            "   n_clusters  gap_value\n",
            "0         2.0   0.549207\n",
            "1         3.0   0.211935\n"
          ]
        },
        {
          "output_type": "display_data",
          "data": {
            "text/plain": [
              "<Figure size 432x288 with 1 Axes>"
            ],
            "image/png": "[encoded data removed]"
          },
          "metadata": {
            "needs_background": "dark"
          }
        },
        {
          "output_type": "display_data",
          "data": {
            "text/plain": [
              "<matplotlib.axes._subplots.AxesSubplot at 0x7f14605945d0>"
            ]
          },
          "metadata": {}
        },
        {
          "output_type": "display_data",
          "data": {
            "text/html": [
              "<div>\n",
              "<style scoped>\n",
              "    .dataframe tbody tr th:only-of-type {\n",
              "        vertical-align: middle;\n",
              "    }\n",
              "\n",
              "    .dataframe tbody tr th {\n",
              "        vertical-align: top;\n",
              "    }\n",
              "\n",
              "    .dataframe thead th {\n",
              "        text-align: right;\n",
              "    }\n",
              "</style>\n",
              "<table border=\"1\" class=\"dataframe\">\n",
              "  <thead>\n",
              "    <tr style=\"text-align: right;\">\n",
              "      <th></th>\n",
              "      <th>score</th>\n",
              "      <th>cross_scores</th>\n",
              "      <th>File description</th>\n",
              "      <th>Full path</th>\n",
              "      <th>Link</th>\n",
              "    </tr>\n",
              "  </thead>\n",
              "  <tbody>\n",
              "    <tr>\n",
              "      <th>2</th>\n",
              "      <td>0.525255</td>\n",
              "      <td>5.193029</td>\n",
              "      <td>Partial retirement pension : periodic payments...</td>\n",
              "      <td>Partial retirement pension. Partial retirement...</td>\n",
              "      <td>https://ec.europa.eu/eurostat/statistics-expla...</td>\n",
              "    </tr>\n",
              "    <tr>\n",
              "      <th>0</th>\n",
              "      <td>0.637172</td>\n",
              "      <td>4.779267</td>\n",
              "      <td>Expenditure on pensions comprises the followin...</td>\n",
              "      <td>Expenditure on pensions. Expenditure on pensio...</td>\n",
              "      <td>https://ec.europa.eu/eurostat/statistics-expla...</td>\n",
              "    </tr>\n",
              "    <tr>\n",
              "      <th>1</th>\n",
              "      <td>0.542893</td>\n",
              "      <td>3.448648</td>\n",
              "      <td>Old age pension : periodic payments intended t...</td>\n",
              "      <td>Old age pension. Old age pension : periodic pa...</td>\n",
              "      <td>https://ec.europa.eu/eurostat/statistics-expla...</td>\n",
              "    </tr>\n",
              "    <tr>\n",
              "      <th>3</th>\n",
              "      <td>0.510470</td>\n",
              "      <td>0.654281</td>\n",
              "      <td>Early retirement in case of reduced ability to...</td>\n",
              "      <td>Early retirement. Early retirement in case of ...</td>\n",
              "      <td>https://ec.europa.eu/eurostat/statistics-expla...</td>\n",
              "    </tr>\n",
              "    <tr>\n",
              "      <th>4</th>\n",
              "      <td>0.438764</td>\n",
              "      <td>0.221156</td>\n",
              "      <td>The aggregate replacement ratio is gross media...</td>\n",
              "      <td>Aggregate replacement ratio. The aggregate rep...</td>\n",
              "      <td>https://ec.europa.eu/eurostat/statistics-expla...</td>\n",
              "    </tr>\n",
              "    <tr>\n",
              "      <th>6</th>\n",
              "      <td>0.383441</td>\n",
              "      <td>-1.290709</td>\n",
              "      <td>Social transfers cover the social help given b...</td>\n",
              "      <td>Social transfers. Social transfers cover the s...</td>\n",
              "      <td>https://ec.europa.eu/eurostat/statistics-expla...</td>\n",
              "    </tr>\n",
              "    <tr>\n",
              "      <th>7</th>\n",
              "      <td>0.349986</td>\n",
              "      <td>-1.479293</td>\n",
              "      <td>Social benefits other than social transfers in...</td>\n",
              "      <td>Social benefits. Social benefits other than so...</td>\n",
              "      <td>https://ec.europa.eu/eurostat/statistics-expla...</td>\n",
              "    </tr>\n",
              "    <tr>\n",
              "      <th>14</th>\n",
              "      <td>0.290368</td>\n",
              "      <td>-1.639283</td>\n",
              "      <td>Household saving, total savings of the househo...</td>\n",
              "      <td>Household saving. Household saving, total savi...</td>\n",
              "      <td>https://ec.europa.eu/eurostat/statistics-expla...</td>\n",
              "    </tr>\n",
              "    <tr>\n",
              "      <th>13</th>\n",
              "      <td>0.294190</td>\n",
              "      <td>-2.367859</td>\n",
              "      <td>The compensation of employees consists of all ...</td>\n",
              "      <td>Compensation. The compensation of employees co...</td>\n",
              "      <td>https://ec.europa.eu/eurostat/statistics-expla...</td>\n",
              "    </tr>\n",
              "    <tr>\n",
              "      <th>61</th>\n",
              "      <td>0.219547</td>\n",
              "      <td>-2.660372</td>\n",
              "      <td>At risk of poverty or social exclusion, abbrev...</td>\n",
              "      <td>At risk of poverty or social exclusion. At ris...</td>\n",
              "      <td>https://ec.europa.eu/eurostat/statistics-expla...</td>\n",
              "    </tr>\n",
              "    <tr>\n",
              "      <th>64</th>\n",
              "      <td>0.216328</td>\n",
              "      <td>-2.942749</td>\n",
              "      <td>The indicator persons living in households wit...</td>\n",
              "      <td>Persons living in households with low work int...</td>\n",
              "      <td>https://ec.europa.eu/eurostat/statistics-expla...</td>\n",
              "    </tr>\n",
              "    <tr>\n",
              "      <th>58</th>\n",
              "      <td>0.221701</td>\n",
              "      <td>-2.952335</td>\n",
              "      <td>Disposable income includes all income from wor...</td>\n",
              "      <td>Disposable income. Disposable income includes ...</td>\n",
              "      <td>https://ec.europa.eu/eurostat/statistics-expla...</td>\n",
              "    </tr>\n",
              "    <tr>\n",
              "      <th>11</th>\n",
              "      <td>0.321644</td>\n",
              "      <td>-3.862847</td>\n",
              "      <td>The European system of integrated social prote...</td>\n",
              "      <td>European system of integrated social protectio...</td>\n",
              "      <td>https://ec.europa.eu/eurostat/statistics-expla...</td>\n",
              "    </tr>\n",
              "    <tr>\n",
              "      <th>40</th>\n",
              "      <td>0.235948</td>\n",
              "      <td>-3.899742</td>\n",
              "      <td>Universities usually draw on three types of fu...</td>\n",
              "      <td>Public general university funds. Universities ...</td>\n",
              "      <td>https://ec.europa.eu/eurostat/statistics-expla...</td>\n",
              "    </tr>\n",
              "    <tr>\n",
              "      <th>97</th>\n",
              "      <td>0.192807</td>\n",
              "      <td>-4.018662</td>\n",
              "      <td>Financial assets are economic assets, comprisi...</td>\n",
              "      <td>Financial assets and liabilities. Financial as...</td>\n",
              "      <td>https://ec.europa.eu/eurostat/statistics-expla...</td>\n",
              "    </tr>\n",
              "    <tr>\n",
              "      <th>56</th>\n",
              "      <td>0.222033</td>\n",
              "      <td>-4.155659</td>\n",
              "      <td>Social contributions are paid on a compulsory ...</td>\n",
              "      <td>Social contributions. Social contributions are...</td>\n",
              "      <td>https://ec.europa.eu/eurostat/statistics-expla...</td>\n",
              "    </tr>\n",
              "    <tr>\n",
              "      <th>35</th>\n",
              "      <td>0.243254</td>\n",
              "      <td>-4.389643</td>\n",
              "      <td>The United Nations Convention on the Rights of...</td>\n",
              "      <td>Disability. The United Nations Convention on t...</td>\n",
              "      <td>https://ec.europa.eu/eurostat/statistics-expla...</td>\n",
              "    </tr>\n",
              "    <tr>\n",
              "      <th>18</th>\n",
              "      <td>0.286760</td>\n",
              "      <td>-4.667135</td>\n",
              "      <td>The at-risk-of-poverty rate is the share of pe...</td>\n",
              "      <td>At-risk-of-poverty rate. The at-risk-of-povert...</td>\n",
              "      <td>https://ec.europa.eu/eurostat/statistics-expla...</td>\n",
              "    </tr>\n",
              "    <tr>\n",
              "      <th>73</th>\n",
              "      <td>0.207392</td>\n",
              "      <td>-5.223427</td>\n",
              "      <td>Current innovation expenditures are composed o...</td>\n",
              "      <td>Current innovation expenditures. Current innov...</td>\n",
              "      <td>https://ec.europa.eu/eurostat/statistics-expla...</td>\n",
              "    </tr>\n",
              "    <tr>\n",
              "      <th>44</th>\n",
              "      <td>0.229428</td>\n",
              "      <td>-5.472429</td>\n",
              "      <td>In national accounts ; compensation of employe...</td>\n",
              "      <td>Compensation of employees. In national account...</td>\n",
              "      <td>https://ec.europa.eu/eurostat/statistics-expla...</td>\n",
              "    </tr>\n",
              "  </tbody>\n",
              "</table>\n",
              "</div>"
            ],
            "application/vnd.google.colaboratory.module+javascript": "\n      import \"https://ssl.gstatic.com/colaboratory/data_table/f872b2c2305463fd/data_table.js\";\n\n      window.createDataTable({\n        data: [[{\n            'v': 2,\n            'f': \"2\",\n        },\n{\n            'v': 0.5252546668052673,\n            'f': \"0.5252546668052673\",\n        },\n{\n            'v': 5.193029403686523,\n            'f': \"5.193029403686523\",\n        },\n\"Partial retirement pension : periodic payments to those above the legal or standard retirement age who remain in paid employment but with reduced working hours or whose income from employment is below a set ceiling. In such cases, individuals typically receive a portion of the full retirement pension....\",\n\"Partial retirement pension. Partial retirement pension : periodic payments to those above the legal or standard retirement age who remain in paid employment but with reduced working hours or whose income from employment is below a set ceiling. In such cases, individuals typically receive a portion of the full reti...\",\n\"https://ec.europa.eu/eurostat/statistics-explained/index.php?title=Glossary:Partial_retirement_pension\"],\n [{\n            'v': 0,\n            'f': \"0\",\n        },\n{\n            'v': 0.6371715068817139,\n            'f': \"0.6371715068817139\",\n        },\n{\n            'v': 4.779266834259033,\n            'f': \"4.779266834259033\",\n        },\n\"Expenditure on pensions comprises the following social benefits: disability pension, early retirement due to reducedcapacity to work, old-age pension, anticipated old-age pension, partial pension, survivors' pension and early retirement due for labour market reasons....\",\n\"Expenditure on pensions. Expenditure on pensions comprises the following social benefits: disability pension, early retirement due to reducedcapacity to work, old-age pension, anticipated old-age pension, partial pension, survivors' pension and early retirement due for labour market reasons....\",\n\"https://ec.europa.eu/eurostat/statistics-explained/index.php?title=Glossary:Expenditure_on_pensions\"],\n [{\n            'v': 1,\n            'f': \"1\",\n        },\n{\n            'v': 0.5428931713104248,\n            'f': \"0.5428931713104248\",\n        },\n{\n            'v': 3.448647975921631,\n            'f': \"3.448647975921631\",\n        },\n\"Old age pension : periodic payments intended to: maintain the income of the beneficiary after retirement from paid employment at the legal or standard age; or support the income of elderly persons (excluding where payments are made for a limited period only). Anticipated old age pension : periodic payments intende...\",\n\"Old age pension. Old age pension : periodic payments intended to: maintain the income of the beneficiary after retirement from paid employment at the legal or standard age; or support the income of elderly persons (excluding where payments are made for a limited period only). Anticipated old age pension : periodic...\",\n\"https://ec.europa.eu/eurostat/statistics-explained/index.php?title=Glossary:Old_age_pension\"],\n [{\n            'v': 3,\n            'f': \"3\",\n        },\n{\n            'v': 0.5104697942733765,\n            'f': \"0.5104697942733765\",\n        },\n{\n            'v': 0.6542811393737793,\n            'f': \"0.6542811393737793\",\n        },\n\"Early retirement in case of reduced ability to work : periodic payments to older workers who retire before reaching the legal or standard retirement age, as established in the reference scheme, as a result of reduced ability to work. These payments normally cease when the beneficiary becomes entitled to an old age...\",\n\"Early retirement. Early retirement in case of reduced ability to work : periodic payments to older workers who retire before reaching the legal or standard retirement age, as established in the reference scheme, as a result of reduced ability to work. These payments normally cease when the beneficiary becomes enti...\",\n\"https://ec.europa.eu/eurostat/statistics-explained/index.php?title=Glossary:Early_retirement\"],\n [{\n            'v': 4,\n            'f': \"4\",\n        },\n{\n            'v': 0.43876445293426514,\n            'f': \"0.43876445293426514\",\n        },\n{\n            'v': 0.22115620970726013,\n            'f': \"0.22115620970726013\",\n        },\n\"The aggregate replacement ratio is gross median individual pension income of the population aged 65'74 relative to gross median individual earnings from work of the population aged 50'59, excluding other social benefits....\",\n\"Aggregate replacement ratio. The aggregate replacement ratio is gross median individual pension income of the population aged 65'74 relative to gross median individual earnings from work of the population aged 50'59, excluding other social benefits....\",\n\"https://ec.europa.eu/eurostat/statistics-explained/index.php?title=Glossary:Aggregate_replacement_ratio\"],\n [{\n            'v': 6,\n            'f': \"6\",\n        },\n{\n            'v': 0.38344091176986694,\n            'f': \"0.38344091176986694\",\n        },\n{\n            'v': -1.2907086610794067,\n            'f': \"-1.2907086610794067\",\n        },\n\"Social transfers cover the social help given by central, state or local institutional units. They include: old-age (retirement) and survivors' (widows' and widowers') pensions; unemployment benefits; family-related benefits; sickness and invalidity benefits; education-related benefits; housing allowances; social a...\",\n\"Social transfers. Social transfers cover the social help given by central, state or local institutional units. They include: old-age (retirement) and survivors' (widows' and widowers') pensions; unemployment benefits; family-related benefits; sickness and invalidity benefits; education-related benefits; housing al...\",\n\"https://ec.europa.eu/eurostat/statistics-explained/index.php?title=Glossary:Social_transfers\"],\n [{\n            'v': 7,\n            'f': \"7\",\n        },\n{\n            'v': 0.34998610615730286,\n            'f': \"0.34998610615730286\",\n        },\n{\n            'v': -1.4792932271957397,\n            'f': \"-1.4792932271957397\",\n        },\n\"Social benefits other than social transfers in kind are transfers made in cash to households to relieve them of the financial burden of certain risks or needs, for example, pensions, family and child allowances, and disabled persons' allowances. Social benefits are paid out by social security funds, other governme...\",\n\"Social benefits. Social benefits other than social transfers in kind are transfers made in cash to households to relieve them of the financial burden of certain risks or needs, for example, pensions, family and child allowances, and disabled persons' allowances. Social benefits are paid out by social security fund...\",\n\"https://ec.europa.eu/eurostat/statistics-explained/index.php?title=Glossary:Social_benefits\"],\n [{\n            'v': 14,\n            'f': \"14\",\n        },\n{\n            'v': 0.29036781191825867,\n            'f': \"0.29036781191825867\",\n        },\n{\n            'v': -1.6392830610275269,\n            'f': \"-1.6392830610275269\",\n        },\n\"Household saving, total savings of the household sector in national accounts, may be estimated by subtracting individual consumption expenditure and the net adjustment for change in pension entitlements of households from disposable income. The latter consists essentially of income from employment and from the ope...\",\n\"Household saving. Household saving, total savings of the household sector in national accounts, may be estimated by subtracting individual consumption expenditure and the net adjustment for change in pension entitlements of households from disposable income. The latter consists essentially of income from employmen...\",\n\"https://ec.europa.eu/eurostat/statistics-explained/index.php?title=Glossary:Household_saving\"],\n [{\n            'v': 13,\n            'f': \"13\",\n        },\n{\n            'v': 0.29418981075286865,\n            'f': \"0.29418981075286865\",\n        },\n{\n            'v': -2.367859125137329,\n            'f': \"-2.367859125137329\",\n        },\n\"The compensation of employees consists of all remuneration, in cash and in kind, which employees receive from their employers in return for work done during the relevant accounting period. The payments cover: gross (pre-tax) wages and salaries; employers' actual social contributions; imputed social contributions (...\",\n\"Compensation. The compensation of employees consists of all remuneration, in cash and in kind, which employees receive from their employers in return for work done during the relevant accounting period. The payments cover: gross (pre-tax) wages and salaries; employers' actual social contributions; imputed social c...\",\n\"https://ec.europa.eu/eurostat/statistics-explained/index.php?title=Glossary:Compensation\"],\n [{\n            'v': 61,\n            'f': \"61\",\n        },\n{\n            'v': 0.2195473611354828,\n            'f': \"0.2195473611354828\",\n        },\n{\n            'v': -2.660372495651245,\n            'f': \"-2.660372495651245\",\n        },\n\"At risk of poverty or social exclusion, abbreviated as AROPE, corresponds to the sum of persons who are either at risk of poverty, or severely materially and socially deprived or living in a household with a very low work intensity. People are included only once even if they are in more than one of the situations ...\",\n\"At risk of poverty or social exclusion. At risk of poverty or social exclusion, abbreviated as AROPE, corresponds to the sum of persons who are either at risk of poverty, or severely materially and socially deprived or living in a household with a very low work intensity. People are included only once even if they...\",\n\"https://ec.europa.eu/eurostat/statistics-explained/index.php?title=Glossary:At_risk_of_poverty_or_social_exclusion_(AROPE)\"],\n [{\n            'v': 64,\n            'f': \"64\",\n        },\n{\n            'v': 0.2163284420967102,\n            'f': \"0.2163284420967102\",\n        },\n{\n            'v': -2.942749261856079,\n            'f': \"-2.942749261856079\",\n        },\n\"The indicator persons living in households with very low work intensity is defined as the number of persons living in a household where the members of working age worked less than 20 % of their total potential during the previous 12 months. The work intensity of a household is the ratio of the total number of mont...\",\n\"Persons living in households with low work intensity. The indicator persons living in households with very low work intensity is defined as the number of persons living in a household where the members of working age worked less than 20 % of their total potential during the previous 12 months. The work intensity o...\",\n\"https://ec.europa.eu/eurostat/statistics-explained/index.php?title=Glossary:Persons_living_in_households_with_low_work_intensity\"],\n [{\n            'v': 58,\n            'f': \"58\",\n        },\n{\n            'v': 0.22170087695121765,\n            'f': \"0.22170087695121765\",\n        },\n{\n            'v': -2.9523346424102783,\n            'f': \"-2.9523346424102783\",\n        },\n\"Disposable income includes all income from work (employee wages and earnings from self-employment); private income from investment and property; transfers between households; all social transfers received in cash including old-age pensions....\",\n\"Disposable income. Disposable income includes all income from work (employee wages and earnings from self-employment); private income from investment and property; transfers between households; all social transfers received in cash including old-age pensions....\",\n\"https://ec.europa.eu/eurostat/statistics-explained/index.php?title=Glossary:Disposable_income\"],\n [{\n            'v': 11,\n            'f': \"11\",\n        },\n{\n            'v': 0.3216438293457031,\n            'f': \"0.3216438293457031\",\n        },\n{\n            'v': -3.862847328186035,\n            'f': \"-3.862847328186035\",\n        },\n\"The European system of integrated social protection statistics, abbreviated as ESSPROS, is a common framework developed in the late 1970's by Eurostat and the European Union (EU) Member States providing a coherent comparison between European countries of social benefits to households and their financing, thus maki...\",\n\"European system of integrated social protection statistics. The European system of integrated social protection statistics, abbreviated as ESSPROS, is a common framework developed in the late 1970's by Eurostat and the European Union (EU) Member States providing a coherent comparison between European countries of ...\",\n\"https://ec.europa.eu/eurostat/statistics-explained/index.php?title=Glossary:European_system_of_integrated_social_protection_statistics_(ESSPROS)\"],\n [{\n            'v': 40,\n            'f': \"40\",\n        },\n{\n            'v': 0.2359476387500763,\n            'f': \"0.2359476387500763\",\n        },\n{\n            'v': -3.8997421264648438,\n            'f': \"-3.8997421264648438\",\n        },\n\"Universities usually draw on three types of funds to finance their research and development (R & D) activities: R & D contracts and earmarked grants received from government and other outside sources. These should be credited to their original source. Income from endowments, shareholdings, and property, plus recei...\",\n\"Public general university funds. Universities usually draw on three types of funds to finance their research and development (R & D) activities: R & D contracts and earmarked grants received from government and other outside sources. These should be credited to their original source. Income from endowments, shareh...\",\n\"https://ec.europa.eu/eurostat/statistics-explained/index.php?title=Glossary:Public_general_university_funds\"],\n [{\n            'v': 97,\n            'f': \"97\",\n        },\n{\n            'v': 0.19280660152435303,\n            'f': \"0.19280660152435303\",\n        },\n{\n            'v': -4.018661975860596,\n            'f': \"-4.018661975860596\",\n        },\n\"Financial assets are economic assets, comprising all financial claims, equity and the gold bullion component of monetary gold. These assets are stores of value representing a benefit or series of benefits accruing to the economic owner through holding or using the assets over a period of time. They are a means of ...\",\n\"Financial assets and liabilities. Financial assets are economic assets, comprising all financial claims, equity and the gold bullion component of monetary gold. These assets are stores of value representing a benefit or series of benefits accruing to the economic owner through holding or using the assets over a pe...\",\n\"https://ec.europa.eu/eurostat/statistics-explained/index.php?title=Glossary:Financial_assets_and_liabilities\"],\n [{\n            'v': 56,\n            'f': \"56\",\n        },\n{\n            'v': 0.22203251719474792,\n            'f': \"0.22203251719474792\",\n        },\n{\n            'v': -4.155659198760986,\n            'f': \"-4.155659198760986\",\n        },\n\"Social contributions are paid on a compulsory or voluntary basis by employers, employees and self- and non-employed persons. Under ESA 2010, net social contributions include employers' actual social contributions, households' actual social contributions, imputed social contributions and households' social contribu...\",\n\"Social contributions. Social contributions are paid on a compulsory or voluntary basis by employers, employees and self- and non-employed persons. Under ESA 2010, net social contributions include employers' actual social contributions, households' actual social contributions, imputed social contributions and house...\",\n\"https://ec.europa.eu/eurostat/statistics-explained/index.php?title=Glossary:Social_contributions\"],\n [{\n            'v': 35,\n            'f': \"35\",\n        },\n{\n            'v': 0.2432536780834198,\n            'f': \"0.2432536780834198\",\n        },\n{\n            'v': -4.389642715454102,\n            'f': \"-4.389642715454102\",\n        },\n\"The United Nations Convention on the Rights of Persons with Disabilities defines: 'Persons with disabilities include those who have long-term physical, mental, intellectual, or sensory impairments which in interaction with various barriers may hinder their full and effective participation in society on an equal ba...\",\n\"Disability. The United Nations Convention on the Rights of Persons with Disabilities defines: 'Persons with disabilities include those who have long-term physical, mental, intellectual, or sensory impairments which in interaction with various barriers may hinder their full and effective participation in society on...\",\n\"https://ec.europa.eu/eurostat/statistics-explained/index.php?title=Glossary:Disability\"],\n [{\n            'v': 18,\n            'f': \"18\",\n        },\n{\n            'v': 0.286759614944458,\n            'f': \"0.286759614944458\",\n        },\n{\n            'v': -4.667135238647461,\n            'f': \"-4.667135238647461\",\n        },\n\"The at-risk-of-poverty rate is the share of people with an equivalised disposable income (after social transfer) below the at-risk-of-poverty threshold, which is set at 60 % of the national median equivalised disposable income after social transfers. This indicator does not measure wealth or poverty, but low incom...\",\n\"At-risk-of-poverty rate. The at-risk-of-poverty rate is the share of people with an equivalised disposable income (after social transfer) below the at-risk-of-poverty threshold, which is set at 60 % of the national median equivalised disposable income after social transfers. This indicator does not measure wealth ...\",\n\"https://ec.europa.eu/eurostat/statistics-explained/index.php?title=Glossary:At-risk-of-poverty_rate\"],\n [{\n            'v': 73,\n            'f': \"73\",\n        },\n{\n            'v': 0.20739220082759857,\n            'f': \"0.20739220082759857\",\n        },\n{\n            'v': -5.223426818847656,\n            'f': \"-5.223426818847656\",\n        },\n\"Current innovation expenditures are composed of labour cost and other current costs: Labour costs comprise annual wages and salaries and all associated costs of fringe benefits such as bonus payments, holiday pay, contributions to pension funds and other social security payments, payroll taxes and so on. The labou...\",\n\"Current innovation expenditures. Current innovation expenditures are composed of labour cost and other current costs: Labour costs comprise annual wages and salaries and all associated costs of fringe benefits such as bonus payments, holiday pay, contributions to pension funds and other social security payments, p...\",\n\"https://ec.europa.eu/eurostat/statistics-explained/index.php?title=Glossary:Current_innovation_expenditures\"],\n [{\n            'v': 44,\n            'f': \"44\",\n        },\n{\n            'v': 0.2294277846813202,\n            'f': \"0.2294277846813202\",\n        },\n{\n            'v': -5.472429275512695,\n            'f': \"-5.472429275512695\",\n        },\n\"In national accounts ; compensation of employees (D.1) is defined as as the total remuneration, in cash or in kind, payable by an employer to an employee in return for work done by the latter during an accounting period. (ESA 2010, paragraph 4.02) Compensation of employees consists of wages and salaries in cash or...\",\n\"Compensation of employees. In national accounts ; compensation of employees (D.1) is defined as as the total remuneration, in cash or in kind, payable by an employer to an employee in return for work done by the latter during an accounting period. (ESA 2010, paragraph 4.02) Compensation of employees consists of wa...\",\n\"https://ec.europa.eu/eurostat/statistics-explained/index.php?title=Glossary:Compensation_of_employees\"]],\n        columns: [[\"number\", \"index\"], [\"number\", \"score\"], [\"number\", \"cross_scores\"], [\"string\", \"File description\"], [\"string\", \"Full path\"], [\"string\", \"Link\"]],\n        columnOptions: [{\"width\": \"1px\", \"className\": \"index_column\"}],\n        rowsPerPage: 5,\n        helpUrl: \"https://colab.research.google.com/notebooks/data_table.ipynb\",\n        suppressOutputScrolling: true,\n        minimumWidth: undefined,\n      });\n    ",
            "text/plain": [
              "<google.colab.data_table.DataTable object>"
            ]
          },
          "metadata": {}
        },
        {
          "output_type": "stream",
          "name": "stdout",
          "text": [
            "bot: Are you interested to results related to 'social contributions'? (yes/no/add some keywords, q to quit) \n",
            "me:  yes\n",
            "Optimal clusters:  2\n",
            "   n_clusters  gap_value\n",
            "0         2.0  -0.010085\n",
            "1         3.0  -0.289445\n"
          ]
        },
        {
          "output_type": "display_data",
          "data": {
            "text/plain": [
              "<Figure size 432x288 with 1 Axes>"
            ],
            "image/png": "[encoded data removed]"
          },
          "metadata": {
            "needs_background": "dark"
          }
        },
        {
          "output_type": "display_data",
          "data": {
            "text/plain": [
              "<matplotlib.axes._subplots.AxesSubplot at 0x7f128358ac90>"
            ]
          },
          "metadata": {}
        },
        {
          "output_type": "display_data",
          "data": {
            "text/html": [
              "<div>\n",
              "<style scoped>\n",
              "    .dataframe tbody tr th:only-of-type {\n",
              "        vertical-align: middle;\n",
              "    }\n",
              "\n",
              "    .dataframe tbody tr th {\n",
              "        vertical-align: top;\n",
              "    }\n",
              "\n",
              "    .dataframe thead th {\n",
              "        text-align: right;\n",
              "    }\n",
              "</style>\n",
              "<table border=\"1\" class=\"dataframe\">\n",
              "  <thead>\n",
              "    <tr style=\"text-align: right;\">\n",
              "      <th></th>\n",
              "      <th>score</th>\n",
              "      <th>cross_scores</th>\n",
              "      <th>File description</th>\n",
              "      <th>Full path</th>\n",
              "      <th>Link</th>\n",
              "    </tr>\n",
              "  </thead>\n",
              "  <tbody>\n",
              "    <tr>\n",
              "      <th>3</th>\n",
              "      <td>0.524561</td>\n",
              "      <td>4.401008</td>\n",
              "      <td>Social contributions are paid on a compulsory ...</td>\n",
              "      <td>Social contributions. Social contributions are...</td>\n",
              "      <td>https://ec.europa.eu/eurostat/statistics-expla...</td>\n",
              "    </tr>\n",
              "    <tr>\n",
              "      <th>0</th>\n",
              "      <td>0.686875</td>\n",
              "      <td>2.731758</td>\n",
              "      <td>Expenditure on pensions comprises the followin...</td>\n",
              "      <td>Expenditure on pensions. Expenditure on pensio...</td>\n",
              "      <td>https://ec.europa.eu/eurostat/statistics-expla...</td>\n",
              "    </tr>\n",
              "    <tr>\n",
              "      <th>2</th>\n",
              "      <td>0.534756</td>\n",
              "      <td>0.641797</td>\n",
              "      <td>Social benefits other than social transfers in...</td>\n",
              "      <td>Social benefits. Social benefits other than so...</td>\n",
              "      <td>https://ec.europa.eu/eurostat/statistics-expla...</td>\n",
              "    </tr>\n",
              "    <tr>\n",
              "      <th>1</th>\n",
              "      <td>0.585663</td>\n",
              "      <td>0.474867</td>\n",
              "      <td>Social transfers cover the social help given b...</td>\n",
              "      <td>Social transfers. Social transfers cover the s...</td>\n",
              "      <td>https://ec.europa.eu/eurostat/statistics-expla...</td>\n",
              "    </tr>\n",
              "    <tr>\n",
              "      <th>9</th>\n",
              "      <td>0.369943</td>\n",
              "      <td>0.243787</td>\n",
              "      <td>The compensation of employees consists of all ...</td>\n",
              "      <td>Compensation. The compensation of employees co...</td>\n",
              "      <td>https://ec.europa.eu/eurostat/statistics-expla...</td>\n",
              "    </tr>\n",
              "    <tr>\n",
              "      <th>11</th>\n",
              "      <td>0.317027</td>\n",
              "      <td>-0.868241</td>\n",
              "      <td>Household saving, total savings of the househo...</td>\n",
              "      <td>Household saving. Household saving, total savi...</td>\n",
              "      <td>https://ec.europa.eu/eurostat/statistics-expla...</td>\n",
              "    </tr>\n",
              "    <tr>\n",
              "      <th>7</th>\n",
              "      <td>0.429380</td>\n",
              "      <td>-1.331257</td>\n",
              "      <td>The European system of integrated social prote...</td>\n",
              "      <td>European system of integrated social protectio...</td>\n",
              "      <td>https://ec.europa.eu/eurostat/statistics-expla...</td>\n",
              "    </tr>\n",
              "  </tbody>\n",
              "</table>\n",
              "</div>"
            ],
            "application/vnd.google.colaboratory.module+javascript": "\n      import \"https://ssl.gstatic.com/colaboratory/data_table/f872b2c2305463fd/data_table.js\";\n\n      window.createDataTable({\n        data: [[{\n            'v': 3,\n            'f': \"3\",\n        },\n{\n            'v': 0.5245612859725952,\n            'f': \"0.5245612859725952\",\n        },\n{\n            'v': 4.401008129119873,\n            'f': \"4.401008129119873\",\n        },\n\"Social contributions are paid on a compulsory or voluntary basis by employers, employees and self- and non-employed persons. Under ESA 2010, net social contributions include employers' actual social contributions, households' actual social contributions, imputed social contributions and households' social contribu...\",\n\"Social contributions. Social contributions are paid on a compulsory or voluntary basis by employers, employees and self- and non-employed persons. Under ESA 2010, net social contributions include employers' actual social contributions, households' actual social contributions, imputed social contributions and house...\",\n\"https://ec.europa.eu/eurostat/statistics-explained/index.php?title=Glossary:Social_contributions\"],\n [{\n            'v': 0,\n            'f': \"0\",\n        },\n{\n            'v': 0.6868746280670166,\n            'f': \"0.6868746280670166\",\n        },\n{\n            'v': 2.7317583560943604,\n            'f': \"2.7317583560943604\",\n        },\n\"Expenditure on pensions comprises the following social benefits: disability pension, early retirement due to reducedcapacity to work, old-age pension, anticipated old-age pension, partial pension, survivors' pension and early retirement due for labour market reasons....\",\n\"Expenditure on pensions. Expenditure on pensions comprises the following social benefits: disability pension, early retirement due to reducedcapacity to work, old-age pension, anticipated old-age pension, partial pension, survivors' pension and early retirement due for labour market reasons....\",\n\"https://ec.europa.eu/eurostat/statistics-explained/index.php?title=Glossary:Expenditure_on_pensions\"],\n [{\n            'v': 2,\n            'f': \"2\",\n        },\n{\n            'v': 0.5347561836242676,\n            'f': \"0.5347561836242676\",\n        },\n{\n            'v': 0.6417965292930603,\n            'f': \"0.6417965292930603\",\n        },\n\"Social benefits other than social transfers in kind are transfers made in cash to households to relieve them of the financial burden of certain risks or needs, for example, pensions, family and child allowances, and disabled persons' allowances. Social benefits are paid out by social security funds, other governme...\",\n\"Social benefits. Social benefits other than social transfers in kind are transfers made in cash to households to relieve them of the financial burden of certain risks or needs, for example, pensions, family and child allowances, and disabled persons' allowances. Social benefits are paid out by social security fund...\",\n\"https://ec.europa.eu/eurostat/statistics-explained/index.php?title=Glossary:Social_benefits\"],\n [{\n            'v': 1,\n            'f': \"1\",\n        },\n{\n            'v': 0.5856629610061646,\n            'f': \"0.5856629610061646\",\n        },\n{\n            'v': 0.47486722469329834,\n            'f': \"0.47486722469329834\",\n        },\n\"Social transfers cover the social help given by central, state or local institutional units. They include: old-age (retirement) and survivors' (widows' and widowers') pensions; unemployment benefits; family-related benefits; sickness and invalidity benefits; education-related benefits; housing allowances; social a...\",\n\"Social transfers. Social transfers cover the social help given by central, state or local institutional units. They include: old-age (retirement) and survivors' (widows' and widowers') pensions; unemployment benefits; family-related benefits; sickness and invalidity benefits; education-related benefits; housing al...\",\n\"https://ec.europa.eu/eurostat/statistics-explained/index.php?title=Glossary:Social_transfers\"],\n [{\n            'v': 9,\n            'f': \"9\",\n        },\n{\n            'v': 0.36994343996047974,\n            'f': \"0.36994343996047974\",\n        },\n{\n            'v': 0.24378743767738342,\n            'f': \"0.24378743767738342\",\n        },\n\"The compensation of employees consists of all remuneration, in cash and in kind, which employees receive from their employers in return for work done during the relevant accounting period. The payments cover: gross (pre-tax) wages and salaries; employers' actual social contributions; imputed social contributions (...\",\n\"Compensation. The compensation of employees consists of all remuneration, in cash and in kind, which employees receive from their employers in return for work done during the relevant accounting period. The payments cover: gross (pre-tax) wages and salaries; employers' actual social contributions; imputed social c...\",\n\"https://ec.europa.eu/eurostat/statistics-explained/index.php?title=Glossary:Compensation\"],\n [{\n            'v': 11,\n            'f': \"11\",\n        },\n{\n            'v': 0.3170272707939148,\n            'f': \"0.3170272707939148\",\n        },\n{\n            'v': -0.8682407140731812,\n            'f': \"-0.8682407140731812\",\n        },\n\"Household saving, total savings of the household sector in national accounts, may be estimated by subtracting individual consumption expenditure and the net adjustment for change in pension entitlements of households from disposable income. The latter consists essentially of income from employment and from the ope...\",\n\"Household saving. Household saving, total savings of the household sector in national accounts, may be estimated by subtracting individual consumption expenditure and the net adjustment for change in pension entitlements of households from disposable income. The latter consists essentially of income from employmen...\",\n\"https://ec.europa.eu/eurostat/statistics-explained/index.php?title=Glossary:Household_saving\"],\n [{\n            'v': 7,\n            'f': \"7\",\n        },\n{\n            'v': 0.4293804168701172,\n            'f': \"0.4293804168701172\",\n        },\n{\n            'v': -1.3312569856643677,\n            'f': \"-1.3312569856643677\",\n        },\n\"The European system of integrated social protection statistics, abbreviated as ESSPROS, is a common framework developed in the late 1970's by Eurostat and the European Union (EU) Member States providing a coherent comparison between European countries of social benefits to households and their financing, thus maki...\",\n\"European system of integrated social protection statistics. The European system of integrated social protection statistics, abbreviated as ESSPROS, is a common framework developed in the late 1970's by Eurostat and the European Union (EU) Member States providing a coherent comparison between European countries of ...\",\n\"https://ec.europa.eu/eurostat/statistics-explained/index.php?title=Glossary:European_system_of_integrated_social_protection_statistics_(ESSPROS)\"]],\n        columns: [[\"number\", \"index\"], [\"number\", \"score\"], [\"number\", \"cross_scores\"], [\"string\", \"File description\"], [\"string\", \"Full path\"], [\"string\", \"Link\"]],\n        columnOptions: [{\"width\": \"1px\", \"className\": \"index_column\"}],\n        rowsPerPage: 5,\n        helpUrl: \"https://colab.research.google.com/notebooks/data_table.ipynb\",\n        suppressOutputScrolling: true,\n        minimumWidth: undefined,\n      });\n    ",
            "text/plain": [
              "<google.colab.data_table.DataTable object>"
            ]
          },
          "metadata": {}
        },
        {
          "output_type": "stream",
          "name": "stdout",
          "text": [
            "bot: Let's make it more specific. Are you interested in 'social protection'? (yes/no/add some keywords, q to quit) \n",
            "me:  yes\n",
            "Optimal clusters:  2\n",
            "   n_clusters  gap_value\n",
            "0         2.0  -1.016903\n",
            "1         3.0  -1.473506\n"
          ]
        },
        {
          "output_type": "display_data",
          "data": {
            "text/plain": [
              "<Figure size 432x288 with 1 Axes>"
            ],
            "image/png": "[encoded data removed]"
          },
          "metadata": {
            "needs_background": "dark"
          }
        },
        {
          "output_type": "display_data",
          "data": {
            "text/plain": [
              "<matplotlib.axes._subplots.AxesSubplot at 0x7f128358a210>"
            ]
          },
          "metadata": {}
        },
        {
          "output_type": "stream",
          "name": "stdout",
          "text": [
            "bot: Thank you. Here are the most relevant results of your query:\n"
          ]
        },
        {
          "output_type": "display_data",
          "data": {
            "text/html": [
              "<div>\n",
              "<style scoped>\n",
              "    .dataframe tbody tr th:only-of-type {\n",
              "        vertical-align: middle;\n",
              "    }\n",
              "\n",
              "    .dataframe tbody tr th {\n",
              "        vertical-align: top;\n",
              "    }\n",
              "\n",
              "    .dataframe thead th {\n",
              "        text-align: right;\n",
              "    }\n",
              "</style>\n",
              "<table border=\"1\" class=\"dataframe\">\n",
              "  <thead>\n",
              "    <tr style=\"text-align: right;\">\n",
              "      <th></th>\n",
              "      <th>score</th>\n",
              "      <th>cross_scores</th>\n",
              "      <th>File description</th>\n",
              "      <th>Full path</th>\n",
              "      <th>Link</th>\n",
              "    </tr>\n",
              "  </thead>\n",
              "  <tbody>\n",
              "    <tr>\n",
              "      <th>3</th>\n",
              "      <td>0.493020</td>\n",
              "      <td>3.246397</td>\n",
              "      <td>Social contributions are paid on a compulsory ...</td>\n",
              "      <td>Social contributions. Social contributions are...</td>\n",
              "      <td>https://ec.europa.eu/eurostat/statistics-expla...</td>\n",
              "    </tr>\n",
              "    <tr>\n",
              "      <th>4</th>\n",
              "      <td>0.487518</td>\n",
              "      <td>1.890822</td>\n",
              "      <td>The European system of integrated social prote...</td>\n",
              "      <td>European system of integrated social protectio...</td>\n",
              "      <td>https://ec.europa.eu/eurostat/statistics-expla...</td>\n",
              "    </tr>\n",
              "    <tr>\n",
              "      <th>2</th>\n",
              "      <td>0.526289</td>\n",
              "      <td>1.172004</td>\n",
              "      <td>Social benefits other than social transfers in...</td>\n",
              "      <td>Social benefits. Social benefits other than so...</td>\n",
              "      <td>https://ec.europa.eu/eurostat/statistics-expla...</td>\n",
              "    </tr>\n",
              "    <tr>\n",
              "      <th>0</th>\n",
              "      <td>0.624964</td>\n",
              "      <td>0.527414</td>\n",
              "      <td>Expenditure on pensions comprises the followin...</td>\n",
              "      <td>Expenditure on pensions. Expenditure on pensio...</td>\n",
              "      <td>https://ec.europa.eu/eurostat/statistics-expla...</td>\n",
              "    </tr>\n",
              "  </tbody>\n",
              "</table>\n",
              "</div>"
            ],
            "application/vnd.google.colaboratory.module+javascript": "\n      import \"https://ssl.gstatic.com/colaboratory/data_table/f872b2c2305463fd/data_table.js\";\n\n      window.createDataTable({\n        data: [[{\n            'v': 3,\n            'f': \"3\",\n        },\n{\n            'v': 0.49302029609680176,\n            'f': \"0.49302029609680176\",\n        },\n{\n            'v': 3.246396541595459,\n            'f': \"3.246396541595459\",\n        },\n\"Social contributions are paid on a compulsory or voluntary basis by employers, employees and self- and non-employed persons. Under ESA 2010, net social contributions include employers' actual social contributions, households' actual social contributions, imputed social contributions and households' social contribu...\",\n\"Social contributions. Social contributions are paid on a compulsory or voluntary basis by employers, employees and self- and non-employed persons. Under ESA 2010, net social contributions include employers' actual social contributions, households' actual social contributions, imputed social contributions and house...\",\n\"https://ec.europa.eu/eurostat/statistics-explained/index.php?title=Glossary:Social_contributions\"],\n [{\n            'v': 4,\n            'f': \"4\",\n        },\n{\n            'v': 0.48751795291900635,\n            'f': \"0.48751795291900635\",\n        },\n{\n            'v': 1.8908218145370483,\n            'f': \"1.8908218145370483\",\n        },\n\"The European system of integrated social protection statistics, abbreviated as ESSPROS, is a common framework developed in the late 1970's by Eurostat and the European Union (EU) Member States providing a coherent comparison between European countries of social benefits to households and their financing, thus maki...\",\n\"European system of integrated social protection statistics. The European system of integrated social protection statistics, abbreviated as ESSPROS, is a common framework developed in the late 1970's by Eurostat and the European Union (EU) Member States providing a coherent comparison between European countries of ...\",\n\"https://ec.europa.eu/eurostat/statistics-explained/index.php?title=Glossary:European_system_of_integrated_social_protection_statistics_(ESSPROS)\"],\n [{\n            'v': 2,\n            'f': \"2\",\n        },\n{\n            'v': 0.5262892246246338,\n            'f': \"0.5262892246246338\",\n        },\n{\n            'v': 1.1720035076141357,\n            'f': \"1.1720035076141357\",\n        },\n\"Social benefits other than social transfers in kind are transfers made in cash to households to relieve them of the financial burden of certain risks or needs, for example, pensions, family and child allowances, and disabled persons' allowances. Social benefits are paid out by social security funds, other governme...\",\n\"Social benefits. Social benefits other than social transfers in kind are transfers made in cash to households to relieve them of the financial burden of certain risks or needs, for example, pensions, family and child allowances, and disabled persons' allowances. Social benefits are paid out by social security fund...\",\n\"https://ec.europa.eu/eurostat/statistics-explained/index.php?title=Glossary:Social_benefits\"],\n [{\n            'v': 0,\n            'f': \"0\",\n        },\n{\n            'v': 0.6249644756317139,\n            'f': \"0.6249644756317139\",\n        },\n{\n            'v': 0.527413547039032,\n            'f': \"0.527413547039032\",\n        },\n\"Expenditure on pensions comprises the following social benefits: disability pension, early retirement due to reducedcapacity to work, old-age pension, anticipated old-age pension, partial pension, survivors' pension and early retirement due for labour market reasons....\",\n\"Expenditure on pensions. Expenditure on pensions comprises the following social benefits: disability pension, early retirement due to reducedcapacity to work, old-age pension, anticipated old-age pension, partial pension, survivors' pension and early retirement due for labour market reasons....\",\n\"https://ec.europa.eu/eurostat/statistics-explained/index.php?title=Glossary:Expenditure_on_pensions\"]],\n        columns: [[\"number\", \"index\"], [\"number\", \"score\"], [\"number\", \"cross_scores\"], [\"string\", \"File description\"], [\"string\", \"Full path\"], [\"string\", \"Link\"]],\n        columnOptions: [{\"width\": \"1px\", \"className\": \"index_column\"}],\n        rowsPerPage: 10,\n        helpUrl: \"https://colab.research.google.com/notebooks/data_table.ipynb\",\n        suppressOutputScrolling: true,\n        minimumWidth: undefined,\n      });\n    ",
            "text/plain": [
              "<google.colab.data_table.DataTable object>"
            ]
          },
          "metadata": {}
        }
      ],
      "source": [
        "# You may also change parameter show_inter_results here, from show_inter_results to True or False\n",
        "query_results_df = chatbot.run(stop_after_multiple_no=6, stop_after_multiple_yes=5, show_inter_results=show_inter_results)"
      ]
    }
  ],
  "metadata": {
    "accelerator": "GPU",
    "colab": {
      "collapsed_sections": [
        "0kRrdl_2xNiw"
      ],
      "name": "Use_Case_D_DeepPavlov_v1.ipynb",
      "provenance": [],
      "toc_visible": true
    },
    "kernelspec": {
      "display_name": "Python 3",
      "name": "python3"
    },
    "language_info": {
      "name": "python"
    },
    "widgets": {
      "application/vnd.jupyter.widget-state+json": {
        "69bff15be6ff499b9438dc76f7ce0675": {
          "model_module": "@jupyter-widgets/controls",
          "model_name": "HBoxModel",
          "model_module_version": "1.5.0",
          "state": {
            "_dom_classes": [],
            "_model_module": "@jupyter-widgets/controls",
            "_model_module_version": "1.5.0",
            "_model_name": "HBoxModel",
            "_view_count": null,
            "_view_module": "@jupyter-widgets/controls",
            "_view_module_version": "1.5.0",
            "_view_name": "HBoxView",
            "box_style": "",
            "children": [
              "IPY_MODEL_a65452c691574547ad480adb1b2cc08f",
              "IPY_MODEL_c9585d6337234ababdf376b54d9ec77d"
            ],
            "layout": "IPY_MODEL_41160d1cf5084d2ea20868b992dfe036"
          }
        },
        "a65452c691574547ad480adb1b2cc08f": {
          "model_module": "@jupyter-widgets/controls",
          "model_name": "LabelModel",
          "model_module_version": "1.5.0",
          "state": {
            "_dom_classes": [],
            "_model_module": "@jupyter-widgets/controls",
            "_model_module_version": "1.5.0",
            "_model_name": "LabelModel",
            "_view_count": null,
            "_view_module": "@jupyter-widgets/controls",
            "_view_module_version": "1.5.0",
            "_view_name": "LabelView",
            "description": "",
            "description_tooltip": null,
            "layout": "IPY_MODEL_e1f4f91199644936b6c5f7073e85c511",
            "placeholder": "​",
            "style": "IPY_MODEL_34437b7f0c384598b19e15d8daf61bfb",
            "value": "Data:"
          }
        },
        "c9585d6337234ababdf376b54d9ec77d": {
          "model_module": "@jupyter-widgets/controls",
          "model_name": "DropdownModel",
          "model_module_version": "1.5.0",
          "state": {
            "_dom_classes": [],
            "_model_module": "@jupyter-widgets/controls",
            "_model_module_version": "1.5.0",
            "_model_name": "DropdownModel",
            "_options_labels": [
              "datasets_use_case_d.pkl",
              "glossary_use_case_d.pkl"
            ],
            "_view_count": null,
            "_view_module": "@jupyter-widgets/controls",
            "_view_module_version": "1.5.0",
            "_view_name": "DropdownView",
            "description": "",
            "description_tooltip": null,
            "disabled": false,
            "index": 1,
            "layout": "IPY_MODEL_707cf579406e432ea09bb954d079b066",
            "style": "IPY_MODEL_5dd006a94d96476b916ef85ab11dde0d"
          }
        },
        "41160d1cf5084d2ea20868b992dfe036": {
          "model_module": "@jupyter-widgets/base",
          "model_name": "LayoutModel",
          "model_module_version": "1.2.0",
          "state": {
            "_model_module": "@jupyter-widgets/base",
            "_model_module_version": "1.2.0",
            "_model_name": "LayoutModel",
            "_view_count": null,
            "_view_module": "@jupyter-widgets/base",
            "_view_module_version": "1.2.0",
            "_view_name": "LayoutView",
            "align_content": null,
            "align_items": null,
            "align_self": null,
            "border": null,
            "bottom": null,
            "display": null,
            "flex": null,
            "flex_flow": null,
            "grid_area": null,
            "grid_auto_columns": null,
            "grid_auto_flow": null,
            "grid_auto_rows": null,
            "grid_column": null,
            "grid_gap": null,
            "grid_row": null,
            "grid_template_areas": null,
            "grid_template_columns": null,
            "grid_template_rows": null,
            "height": null,
            "justify_content": null,
            "justify_items": null,
            "left": null,
            "margin": null,
            "max_height": null,
            "max_width": null,
            "min_height": null,
            "min_width": null,
            "object_fit": null,
            "object_position": null,
            "order": null,
            "overflow": null,
            "overflow_x": null,
            "overflow_y": null,
            "padding": null,
            "right": null,
            "top": null,
            "visibility": null,
            "width": null
          }
        },
        "e1f4f91199644936b6c5f7073e85c511": {
          "model_module": "@jupyter-widgets/base",
          "model_name": "LayoutModel",
          "model_module_version": "1.2.0",
          "state": {
            "_model_module": "@jupyter-widgets/base",
            "_model_module_version": "1.2.0",
            "_model_name": "LayoutModel",
            "_view_count": null,
            "_view_module": "@jupyter-widgets/base",
            "_view_module_version": "1.2.0",
            "_view_name": "LayoutView",
            "align_content": null,
            "align_items": null,
            "align_self": null,
            "border": null,
            "bottom": null,
            "display": null,
            "flex": null,
            "flex_flow": null,
            "grid_area": null,
            "grid_auto_columns": null,
            "grid_auto_flow": null,
            "grid_auto_rows": null,
            "grid_column": null,
            "grid_gap": null,
            "grid_row": null,
            "grid_template_areas": null,
            "grid_template_columns": null,
            "grid_template_rows": null,
            "height": null,
            "justify_content": null,
            "justify_items": null,
            "left": null,
            "margin": null,
            "max_height": null,
            "max_width": null,
            "min_height": null,
            "min_width": null,
            "object_fit": null,
            "object_position": null,
            "order": null,
            "overflow": null,
            "overflow_x": null,
            "overflow_y": null,
            "padding": null,
            "right": null,
            "top": null,
            "visibility": null,
            "width": null
          }
        },
        "34437b7f0c384598b19e15d8daf61bfb": {
          "model_module": "@jupyter-widgets/controls",
          "model_name": "DescriptionStyleModel",
          "model_module_version": "1.5.0",
          "state": {
            "_model_module": "@jupyter-widgets/controls",
            "_model_module_version": "1.5.0",
            "_model_name": "DescriptionStyleModel",
            "_view_count": null,
            "_view_module": "@jupyter-widgets/base",
            "_view_module_version": "1.2.0",
            "_view_name": "StyleView",
            "description_width": ""
          }
        },
        "707cf579406e432ea09bb954d079b066": {
          "model_module": "@jupyter-widgets/base",
          "model_name": "LayoutModel",
          "model_module_version": "1.2.0",
          "state": {
            "_model_module": "@jupyter-widgets/base",
            "_model_module_version": "1.2.0",
            "_model_name": "LayoutModel",
            "_view_count": null,
            "_view_module": "@jupyter-widgets/base",
            "_view_module_version": "1.2.0",
            "_view_name": "LayoutView",
            "align_content": null,
            "align_items": null,
            "align_self": null,
            "border": null,
            "bottom": null,
            "display": null,
            "flex": null,
            "flex_flow": null,
            "grid_area": null,
            "grid_auto_columns": null,
            "grid_auto_flow": null,
            "grid_auto_rows": null,
            "grid_column": null,
            "grid_gap": null,
            "grid_row": null,
            "grid_template_areas": null,
            "grid_template_columns": null,
            "grid_template_rows": null,
            "height": null,
            "justify_content": null,
            "justify_items": null,
            "left": null,
            "margin": null,
            "max_height": null,
            "max_width": null,
            "min_height": null,
            "min_width": null,
            "object_fit": null,
            "object_position": null,
            "order": null,
            "overflow": null,
            "overflow_x": null,
            "overflow_y": null,
            "padding": null,
            "right": null,
            "top": null,
            "visibility": null,
            "width": null
          }
        },
        "5dd006a94d96476b916ef85ab11dde0d": {
          "model_module": "@jupyter-widgets/controls",
          "model_name": "DescriptionStyleModel",
          "model_module_version": "1.5.0",
          "state": {
            "_model_module": "@jupyter-widgets/controls",
            "_model_module_version": "1.5.0",
            "_model_name": "DescriptionStyleModel",
            "_view_count": null,
            "_view_module": "@jupyter-widgets/base",
            "_view_module_version": "1.2.0",
            "_view_name": "StyleView",
            "description_width": ""
          }
        },
        "6de35f20f8154c44aa3e28ea40a28201": {
          "model_module": "@jupyter-widgets/controls",
          "model_name": "HBoxModel",
          "model_module_version": "1.5.0",
          "state": {
            "_dom_classes": [],
            "_model_module": "@jupyter-widgets/controls",
            "_model_module_version": "1.5.0",
            "_model_name": "HBoxModel",
            "_view_count": null,
            "_view_module": "@jupyter-widgets/controls",
            "_view_module_version": "1.5.0",
            "_view_name": "HBoxView",
            "box_style": "",
            "children": [
              "IPY_MODEL_6bae8189d1914bb899f67142e0516ae7",
              "IPY_MODEL_50cc8f94d03449eab604bf0dfa07c688"
            ],
            "layout": "IPY_MODEL_8155955bf1cd47b4b7bd059a900ad3a4"
          }
        },
        "6bae8189d1914bb899f67142e0516ae7": {
          "model_module": "@jupyter-widgets/controls",
          "model_name": "LabelModel",
          "model_module_version": "1.5.0",
          "state": {
            "_dom_classes": [],
            "_model_module": "@jupyter-widgets/controls",
            "_model_module_version": "1.5.0",
            "_model_name": "LabelModel",
            "_view_count": null,
            "_view_module": "@jupyter-widgets/controls",
            "_view_module_version": "1.5.0",
            "_view_name": "LabelView",
            "description": "",
            "description_tooltip": null,
            "layout": "IPY_MODEL_05e3455eb9d54896a05ce12c967e5ad5",
            "placeholder": "​",
            "style": "IPY_MODEL_abc4bf58ed3a4e82a9ca5d842d4824de",
            "value": "Show intermediate results?: "
          }
        },
        "50cc8f94d03449eab604bf0dfa07c688": {
          "model_module": "@jupyter-widgets/controls",
          "model_name": "DropdownModel",
          "model_module_version": "1.5.0",
          "state": {
            "_dom_classes": [],
            "_model_module": "@jupyter-widgets/controls",
            "_model_module_version": "1.5.0",
            "_model_name": "DropdownModel",
            "_options_labels": [
              "Yes",
              "No"
            ],
            "_view_count": null,
            "_view_module": "@jupyter-widgets/controls",
            "_view_module_version": "1.5.0",
            "_view_name": "DropdownView",
            "description": "",
            "description_tooltip": null,
            "disabled": false,
            "index": 0,
            "layout": "IPY_MODEL_205eb520ea6a4627b0051f229a2e63ab",
            "style": "IPY_MODEL_8f37a19133db4f7cb433230c71c4648b"
          }
        },
        "8155955bf1cd47b4b7bd059a900ad3a4": {
          "model_module": "@jupyter-widgets/base",
          "model_name": "LayoutModel",
          "model_module_version": "1.2.0",
          "state": {
            "_model_module": "@jupyter-widgets/base",
            "_model_module_version": "1.2.0",
            "_model_name": "LayoutModel",
            "_view_count": null,
            "_view_module": "@jupyter-widgets/base",
            "_view_module_version": "1.2.0",
            "_view_name": "LayoutView",
            "align_content": null,
            "align_items": null,
            "align_self": null,
            "border": null,
            "bottom": null,
            "display": null,
            "flex": null,
            "flex_flow": null,
            "grid_area": null,
            "grid_auto_columns": null,
            "grid_auto_flow": null,
            "grid_auto_rows": null,
            "grid_column": null,
            "grid_gap": null,
            "grid_row": null,
            "grid_template_areas": null,
            "grid_template_columns": null,
            "grid_template_rows": null,
            "height": null,
            "justify_content": null,
            "justify_items": null,
            "left": null,
            "margin": null,
            "max_height": null,
            "max_width": null,
            "min_height": null,
            "min_width": null,
            "object_fit": null,
            "object_position": null,
            "order": null,
            "overflow": null,
            "overflow_x": null,
            "overflow_y": null,
            "padding": null,
            "right": null,
            "top": null,
            "visibility": null,
            "width": null
          }
        },
        "05e3455eb9d54896a05ce12c967e5ad5": {
          "model_module": "@jupyter-widgets/base",
          "model_name": "LayoutModel",
          "model_module_version": "1.2.0",
          "state": {
            "_model_module": "@jupyter-widgets/base",
            "_model_module_version": "1.2.0",
            "_model_name": "LayoutModel",
            "_view_count": null,
            "_view_module": "@jupyter-widgets/base",
            "_view_module_version": "1.2.0",
            "_view_name": "LayoutView",
            "align_content": null,
            "align_items": null,
            "align_self": null,
            "border": null,
            "bottom": null,
            "display": null,
            "flex": null,
            "flex_flow": null,
            "grid_area": null,
            "grid_auto_columns": null,
            "grid_auto_flow": null,
            "grid_auto_rows": null,
            "grid_column": null,
            "grid_gap": null,
            "grid_row": null,
            "grid_template_areas": null,
            "grid_template_columns": null,
            "grid_template_rows": null,
            "height": null,
            "justify_content": null,
            "justify_items": null,
            "left": null,
            "margin": null,
            "max_height": null,
            "max_width": null,
            "min_height": null,
            "min_width": null,
            "object_fit": null,
            "object_position": null,
            "order": null,
            "overflow": null,
            "overflow_x": null,
            "overflow_y": null,
            "padding": null,
            "right": null,
            "top": null,
            "visibility": null,
            "width": null
          }
        },
        "abc4bf58ed3a4e82a9ca5d842d4824de": {
          "model_module": "@jupyter-widgets/controls",
          "model_name": "DescriptionStyleModel",
          "model_module_version": "1.5.0",
          "state": {
            "_model_module": "@jupyter-widgets/controls",
            "_model_module_version": "1.5.0",
            "_model_name": "DescriptionStyleModel",
            "_view_count": null,
            "_view_module": "@jupyter-widgets/base",
            "_view_module_version": "1.2.0",
            "_view_name": "StyleView",
            "description_width": ""
          }
        },
        "205eb520ea6a4627b0051f229a2e63ab": {
          "model_module": "@jupyter-widgets/base",
          "model_name": "LayoutModel",
          "model_module_version": "1.2.0",
          "state": {
            "_model_module": "@jupyter-widgets/base",
            "_model_module_version": "1.2.0",
            "_model_name": "LayoutModel",
            "_view_count": null,
            "_view_module": "@jupyter-widgets/base",
            "_view_module_version": "1.2.0",
            "_view_name": "LayoutView",
            "align_content": null,
            "align_items": null,
            "align_self": null,
            "border": null,
            "bottom": null,
            "display": null,
            "flex": null,
            "flex_flow": null,
            "grid_area": null,
            "grid_auto_columns": null,
            "grid_auto_flow": null,
            "grid_auto_rows": null,
            "grid_column": null,
            "grid_gap": null,
            "grid_row": null,
            "grid_template_areas": null,
            "grid_template_columns": null,
            "grid_template_rows": null,
            "height": null,
            "justify_content": null,
            "justify_items": null,
            "left": null,
            "margin": null,
            "max_height": null,
            "max_width": null,
            "min_height": null,
            "min_width": null,
            "object_fit": null,
            "object_position": null,
            "order": null,
            "overflow": null,
            "overflow_x": null,
            "overflow_y": null,
            "padding": null,
            "right": null,
            "top": null,
            "visibility": null,
            "width": null
          }
        },
        "8f37a19133db4f7cb433230c71c4648b": {
          "model_module": "@jupyter-widgets/controls",
          "model_name": "DescriptionStyleModel",
          "model_module_version": "1.5.0",
          "state": {
            "_model_module": "@jupyter-widgets/controls",
            "_model_module_version": "1.5.0",
            "_model_name": "DescriptionStyleModel",
            "_view_count": null,
            "_view_module": "@jupyter-widgets/base",
            "_view_module_version": "1.2.0",
            "_view_name": "StyleView",
            "description_width": ""
          }
        },
        "b1a97fc8ce9c46d78775b0ea2e843fb3": {
          "model_module": "@jupyter-widgets/controls",
          "model_name": "HBoxModel",
          "model_module_version": "1.5.0",
          "state": {
            "_dom_classes": [],
            "_model_module": "@jupyter-widgets/controls",
            "_model_module_version": "1.5.0",
            "_model_name": "HBoxModel",
            "_view_count": null,
            "_view_module": "@jupyter-widgets/controls",
            "_view_module_version": "1.5.0",
            "_view_name": "HBoxView",
            "box_style": "",
            "children": [
              "IPY_MODEL_9ba3daa0111e4ed1a97d53324d60f7b9",
              "IPY_MODEL_af7ee041ed9c48e2a8fbb19add7c7e83"
            ],
            "layout": "IPY_MODEL_ec8292e61b214cfd8293b45c55b08cd9"
          }
        },
        "9ba3daa0111e4ed1a97d53324d60f7b9": {
          "model_module": "@jupyter-widgets/controls",
          "model_name": "LabelModel",
          "model_module_version": "1.5.0",
          "state": {
            "_dom_classes": [],
            "_model_module": "@jupyter-widgets/controls",
            "_model_module_version": "1.5.0",
            "_model_name": "LabelModel",
            "_view_count": null,
            "_view_module": "@jupyter-widgets/controls",
            "_view_module_version": "1.5.0",
            "_view_name": "LabelView",
            "description": "",
            "description_tooltip": null,
            "layout": "IPY_MODEL_192709ffb223459b8700483e9c2824f0",
            "placeholder": "​",
            "style": "IPY_MODEL_eb3f6ad3d0eb4bbf9247087b1edbf49c",
            "value": "Bi-encoder model:"
          }
        },
        "af7ee041ed9c48e2a8fbb19add7c7e83": {
          "model_module": "@jupyter-widgets/controls",
          "model_name": "DropdownModel",
          "model_module_version": "1.5.0",
          "state": {
            "_dom_classes": [],
            "_model_module": "@jupyter-widgets/controls",
            "_model_module_version": "1.5.0",
            "_model_name": "DropdownModel",
            "_options_labels": [
              "multi-qa-MiniLM-L6-cos-v1",
              "multi-qa-distilbert-cos-v1",
              "multi-qa-mpnet-base-cos-v1"
            ],
            "_view_count": null,
            "_view_module": "@jupyter-widgets/controls",
            "_view_module_version": "1.5.0",
            "_view_name": "DropdownView",
            "description": "",
            "description_tooltip": null,
            "disabled": false,
            "index": 0,
            "layout": "IPY_MODEL_b080fcb94127478696e81884d9e251c7",
            "style": "IPY_MODEL_7b2e07827264454593ff57c3b37bd622"
          }
        },
        "ec8292e61b214cfd8293b45c55b08cd9": {
          "model_module": "@jupyter-widgets/base",
          "model_name": "LayoutModel",
          "model_module_version": "1.2.0",
          "state": {
            "_model_module": "@jupyter-widgets/base",
            "_model_module_version": "1.2.0",
            "_model_name": "LayoutModel",
            "_view_count": null,
            "_view_module": "@jupyter-widgets/base",
            "_view_module_version": "1.2.0",
            "_view_name": "LayoutView",
            "align_content": null,
            "align_items": null,
            "align_self": null,
            "border": null,
            "bottom": null,
            "display": null,
            "flex": null,
            "flex_flow": null,
            "grid_area": null,
            "grid_auto_columns": null,
            "grid_auto_flow": null,
            "grid_auto_rows": null,
            "grid_column": null,
            "grid_gap": null,
            "grid_row": null,
            "grid_template_areas": null,
            "grid_template_columns": null,
            "grid_template_rows": null,
            "height": null,
            "justify_content": null,
            "justify_items": null,
            "left": null,
            "margin": null,
            "max_height": null,
            "max_width": null,
            "min_height": null,
            "min_width": null,
            "object_fit": null,
            "object_position": null,
            "order": null,
            "overflow": null,
            "overflow_x": null,
            "overflow_y": null,
            "padding": null,
            "right": null,
            "top": null,
            "visibility": null,
            "width": null
          }
        },
        "192709ffb223459b8700483e9c2824f0": {
          "model_module": "@jupyter-widgets/base",
          "model_name": "LayoutModel",
          "model_module_version": "1.2.0",
          "state": {
            "_model_module": "@jupyter-widgets/base",
            "_model_module_version": "1.2.0",
            "_model_name": "LayoutModel",
            "_view_count": null,
            "_view_module": "@jupyter-widgets/base",
            "_view_module_version": "1.2.0",
            "_view_name": "LayoutView",
            "align_content": null,
            "align_items": null,
            "align_self": null,
            "border": null,
            "bottom": null,
            "display": null,
            "flex": null,
            "flex_flow": null,
            "grid_area": null,
            "grid_auto_columns": null,
            "grid_auto_flow": null,
            "grid_auto_rows": null,
            "grid_column": null,
            "grid_gap": null,
            "grid_row": null,
            "grid_template_areas": null,
            "grid_template_columns": null,
            "grid_template_rows": null,
            "height": null,
            "justify_content": null,
            "justify_items": null,
            "left": null,
            "margin": null,
            "max_height": null,
            "max_width": null,
            "min_height": null,
            "min_width": null,
            "object_fit": null,
            "object_position": null,
            "order": null,
            "overflow": null,
            "overflow_x": null,
            "overflow_y": null,
            "padding": null,
            "right": null,
            "top": null,
            "visibility": null,
            "width": null
          }
        },
        "eb3f6ad3d0eb4bbf9247087b1edbf49c": {
          "model_module": "@jupyter-widgets/controls",
          "model_name": "DescriptionStyleModel",
          "model_module_version": "1.5.0",
          "state": {
            "_model_module": "@jupyter-widgets/controls",
            "_model_module_version": "1.5.0",
            "_model_name": "DescriptionStyleModel",
            "_view_count": null,
            "_view_module": "@jupyter-widgets/base",
            "_view_module_version": "1.2.0",
            "_view_name": "StyleView",
            "description_width": ""
          }
        },
        "b080fcb94127478696e81884d9e251c7": {
          "model_module": "@jupyter-widgets/base",
          "model_name": "LayoutModel",
          "model_module_version": "1.2.0",
          "state": {
            "_model_module": "@jupyter-widgets/base",
            "_model_module_version": "1.2.0",
            "_model_name": "LayoutModel",
            "_view_count": null,
            "_view_module": "@jupyter-widgets/base",
            "_view_module_version": "1.2.0",
            "_view_name": "LayoutView",
            "align_content": null,
            "align_items": null,
            "align_self": null,
            "border": null,
            "bottom": null,
            "display": null,
            "flex": null,
            "flex_flow": null,
            "grid_area": null,
            "grid_auto_columns": null,
            "grid_auto_flow": null,
            "grid_auto_rows": null,
            "grid_column": null,
            "grid_gap": null,
            "grid_row": null,
            "grid_template_areas": null,
            "grid_template_columns": null,
            "grid_template_rows": null,
            "height": null,
            "justify_content": null,
            "justify_items": null,
            "left": null,
            "margin": null,
            "max_height": null,
            "max_width": null,
            "min_height": null,
            "min_width": null,
            "object_fit": null,
            "object_position": null,
            "order": null,
            "overflow": null,
            "overflow_x": null,
            "overflow_y": null,
            "padding": null,
            "right": null,
            "top": null,
            "visibility": null,
            "width": null
          }
        },
        "7b2e07827264454593ff57c3b37bd622": {
          "model_module": "@jupyter-widgets/controls",
          "model_name": "DescriptionStyleModel",
          "model_module_version": "1.5.0",
          "state": {
            "_model_module": "@jupyter-widgets/controls",
            "_model_module_version": "1.5.0",
            "_model_name": "DescriptionStyleModel",
            "_view_count": null,
            "_view_module": "@jupyter-widgets/base",
            "_view_module_version": "1.2.0",
            "_view_name": "StyleView",
            "description_width": ""
          }
        },
        "de99de9520ea4396a9b666f922d7480e": {
          "model_module": "@jupyter-widgets/controls",
          "model_name": "HBoxModel",
          "model_module_version": "1.5.0",
          "state": {
            "_dom_classes": [],
            "_model_module": "@jupyter-widgets/controls",
            "_model_module_version": "1.5.0",
            "_model_name": "HBoxModel",
            "_view_count": null,
            "_view_module": "@jupyter-widgets/controls",
            "_view_module_version": "1.5.0",
            "_view_name": "HBoxView",
            "box_style": "",
            "children": [
              "IPY_MODEL_8e2e1102075a40a6a8c831ae66016a31",
              "IPY_MODEL_5275723074614e17b129e3e8f246850d",
              "IPY_MODEL_fc9e4548e5f243c3b3e8e8b2d61227d2"
            ],
            "layout": "IPY_MODEL_bf1269a8185d457ebf95d0e80fa14379"
          }
        },
        "8e2e1102075a40a6a8c831ae66016a31": {
          "model_module": "@jupyter-widgets/controls",
          "model_name": "HTMLModel",
          "model_module_version": "1.5.0",
          "state": {
            "_dom_classes": [],
            "_model_module": "@jupyter-widgets/controls",
            "_model_module_version": "1.5.0",
            "_model_name": "HTMLModel",
            "_view_count": null,
            "_view_module": "@jupyter-widgets/controls",
            "_view_module_version": "1.5.0",
            "_view_name": "HTMLView",
            "description": "",
            "description_tooltip": null,
            "layout": "IPY_MODEL_3c731f009590496f898e479205310973",
            "placeholder": "​",
            "style": "IPY_MODEL_45ef1b6953964fac9797e96c59c471e0",
            "value": "Epoch: 100%"
          }
        },
        "5275723074614e17b129e3e8f246850d": {
          "model_module": "@jupyter-widgets/controls",
          "model_name": "FloatProgressModel",
          "model_module_version": "1.5.0",
          "state": {
            "_dom_classes": [],
            "_model_module": "@jupyter-widgets/controls",
            "_model_module_version": "1.5.0",
            "_model_name": "FloatProgressModel",
            "_view_count": null,
            "_view_module": "@jupyter-widgets/controls",
            "_view_module_version": "1.5.0",
            "_view_name": "ProgressView",
            "bar_style": "success",
            "description": "",
            "description_tooltip": null,
            "layout": "IPY_MODEL_2aa5d6e43f9b44328f525de1ac99aa6e",
            "max": 5,
            "min": 0,
            "orientation": "horizontal",
            "style": "IPY_MODEL_5a1955684abb460e90666bf93d769c19",
            "value": 5
          }
        },
        "fc9e4548e5f243c3b3e8e8b2d61227d2": {
          "model_module": "@jupyter-widgets/controls",
          "model_name": "HTMLModel",
          "model_module_version": "1.5.0",
          "state": {
            "_dom_classes": [],
            "_model_module": "@jupyter-widgets/controls",
            "_model_module_version": "1.5.0",
            "_model_name": "HTMLModel",
            "_view_count": null,
            "_view_module": "@jupyter-widgets/controls",
            "_view_module_version": "1.5.0",
            "_view_name": "HTMLView",
            "description": "",
            "description_tooltip": null,
            "layout": "IPY_MODEL_4b95bb9446e947e4a911d533767fc3a9",
            "placeholder": "​",
            "style": "IPY_MODEL_f7a13d3ace614a8f94f9e4fe373dde60",
            "value": " 5/5 [20:26&lt;00:00, 244.73s/it]"
          }
        },
        "bf1269a8185d457ebf95d0e80fa14379": {
          "model_module": "@jupyter-widgets/base",
          "model_name": "LayoutModel",
          "model_module_version": "1.2.0",
          "state": {
            "_model_module": "@jupyter-widgets/base",
            "_model_module_version": "1.2.0",
            "_model_name": "LayoutModel",
            "_view_count": null,
            "_view_module": "@jupyter-widgets/base",
            "_view_module_version": "1.2.0",
            "_view_name": "LayoutView",
            "align_content": null,
            "align_items": null,
            "align_self": null,
            "border": null,
            "bottom": null,
            "display": null,
            "flex": null,
            "flex_flow": null,
            "grid_area": null,
            "grid_auto_columns": null,
            "grid_auto_flow": null,
            "grid_auto_rows": null,
            "grid_column": null,
            "grid_gap": null,
            "grid_row": null,
            "grid_template_areas": null,
            "grid_template_columns": null,
            "grid_template_rows": null,
            "height": null,
            "justify_content": null,
            "justify_items": null,
            "left": null,
            "margin": null,
            "max_height": null,
            "max_width": null,
            "min_height": null,
            "min_width": null,
            "object_fit": null,
            "object_position": null,
            "order": null,
            "overflow": null,
            "overflow_x": null,
            "overflow_y": null,
            "padding": null,
            "right": null,
            "top": null,
            "visibility": null,
            "width": null
          }
        },
        "3c731f009590496f898e479205310973": {
          "model_module": "@jupyter-widgets/base",
          "model_name": "LayoutModel",
          "model_module_version": "1.2.0",
          "state": {
            "_model_module": "@jupyter-widgets/base",
            "_model_module_version": "1.2.0",
            "_model_name": "LayoutModel",
            "_view_count": null,
            "_view_module": "@jupyter-widgets/base",
            "_view_module_version": "1.2.0",
            "_view_name": "LayoutView",
            "align_content": null,
            "align_items": null,
            "align_self": null,
            "border": null,
            "bottom": null,
            "display": null,
            "flex": null,
            "flex_flow": null,
            "grid_area": null,
            "grid_auto_columns": null,
            "grid_auto_flow": null,
            "grid_auto_rows": null,
            "grid_column": null,
            "grid_gap": null,
            "grid_row": null,
            "grid_template_areas": null,
            "grid_template_columns": null,
            "grid_template_rows": null,
            "height": null,
            "justify_content": null,
            "justify_items": null,
            "left": null,
            "margin": null,
            "max_height": null,
            "max_width": null,
            "min_height": null,
            "min_width": null,
            "object_fit": null,
            "object_position": null,
            "order": null,
            "overflow": null,
            "overflow_x": null,
            "overflow_y": null,
            "padding": null,
            "right": null,
            "top": null,
            "visibility": null,
            "width": null
          }
        },
        "45ef1b6953964fac9797e96c59c471e0": {
          "model_module": "@jupyter-widgets/controls",
          "model_name": "DescriptionStyleModel",
          "model_module_version": "1.5.0",
          "state": {
            "_model_module": "@jupyter-widgets/controls",
            "_model_module_version": "1.5.0",
            "_model_name": "DescriptionStyleModel",
            "_view_count": null,
            "_view_module": "@jupyter-widgets/base",
            "_view_module_version": "1.2.0",
            "_view_name": "StyleView",
            "description_width": ""
          }
        },
        "2aa5d6e43f9b44328f525de1ac99aa6e": {
          "model_module": "@jupyter-widgets/base",
          "model_name": "LayoutModel",
          "model_module_version": "1.2.0",
          "state": {
            "_model_module": "@jupyter-widgets/base",
            "_model_module_version": "1.2.0",
            "_model_name": "LayoutModel",
            "_view_count": null,
            "_view_module": "@jupyter-widgets/base",
            "_view_module_version": "1.2.0",
            "_view_name": "LayoutView",
            "align_content": null,
            "align_items": null,
            "align_self": null,
            "border": null,
            "bottom": null,
            "display": null,
            "flex": null,
            "flex_flow": null,
            "grid_area": null,
            "grid_auto_columns": null,
            "grid_auto_flow": null,
            "grid_auto_rows": null,
            "grid_column": null,
            "grid_gap": null,
            "grid_row": null,
            "grid_template_areas": null,
            "grid_template_columns": null,
            "grid_template_rows": null,
            "height": null,
            "justify_content": null,
            "justify_items": null,
            "left": null,
            "margin": null,
            "max_height": null,
            "max_width": null,
            "min_height": null,
            "min_width": null,
            "object_fit": null,
            "object_position": null,
            "order": null,
            "overflow": null,
            "overflow_x": null,
            "overflow_y": null,
            "padding": null,
            "right": null,
            "top": null,
            "visibility": null,
            "width": null
          }
        },
        "5a1955684abb460e90666bf93d769c19": {
          "model_module": "@jupyter-widgets/controls",
          "model_name": "ProgressStyleModel",
          "model_module_version": "1.5.0",
          "state": {
            "_model_module": "@jupyter-widgets/controls",
            "_model_module_version": "1.5.0",
            "_model_name": "ProgressStyleModel",
            "_view_count": null,
            "_view_module": "@jupyter-widgets/base",
            "_view_module_version": "1.2.0",
            "_view_name": "StyleView",
            "bar_color": null,
            "description_width": ""
          }
        },
        "4b95bb9446e947e4a911d533767fc3a9": {
          "model_module": "@jupyter-widgets/base",
          "model_name": "LayoutModel",
          "model_module_version": "1.2.0",
          "state": {
            "_model_module": "@jupyter-widgets/base",
            "_model_module_version": "1.2.0",
            "_model_name": "LayoutModel",
            "_view_count": null,
            "_view_module": "@jupyter-widgets/base",
            "_view_module_version": "1.2.0",
            "_view_name": "LayoutView",
            "align_content": null,
            "align_items": null,
            "align_self": null,
            "border": null,
            "bottom": null,
            "display": null,
            "flex": null,
            "flex_flow": null,
            "grid_area": null,
            "grid_auto_columns": null,
            "grid_auto_flow": null,
            "grid_auto_rows": null,
            "grid_column": null,
            "grid_gap": null,
            "grid_row": null,
            "grid_template_areas": null,
            "grid_template_columns": null,
            "grid_template_rows": null,
            "height": null,
            "justify_content": null,
            "justify_items": null,
            "left": null,
            "margin": null,
            "max_height": null,
            "max_width": null,
            "min_height": null,
            "min_width": null,
            "object_fit": null,
            "object_position": null,
            "order": null,
            "overflow": null,
            "overflow_x": null,
            "overflow_y": null,
            "padding": null,
            "right": null,
            "top": null,
            "visibility": null,
            "width": null
          }
        },
        "f7a13d3ace614a8f94f9e4fe373dde60": {
          "model_module": "@jupyter-widgets/controls",
          "model_name": "DescriptionStyleModel",
          "model_module_version": "1.5.0",
          "state": {
            "_model_module": "@jupyter-widgets/controls",
            "_model_module_version": "1.5.0",
            "_model_name": "DescriptionStyleModel",
            "_view_count": null,
            "_view_module": "@jupyter-widgets/base",
            "_view_module_version": "1.2.0",
            "_view_name": "StyleView",
            "description_width": ""
          }
        },
        "aed43af9a6484396b836a51c8b341834": {
          "model_module": "@jupyter-widgets/controls",
          "model_name": "HBoxModel",
          "model_module_version": "1.5.0",
          "state": {
            "_dom_classes": [],
            "_model_module": "@jupyter-widgets/controls",
            "_model_module_version": "1.5.0",
            "_model_name": "HBoxModel",
            "_view_count": null,
            "_view_module": "@jupyter-widgets/controls",
            "_view_module_version": "1.5.0",
            "_view_name": "HBoxView",
            "box_style": "",
            "children": [
              "IPY_MODEL_5eb7fad0521b47b0bdb04520dca29c76",
              "IPY_MODEL_89deb1a4b0f64fdfa88d7403ee5d115a",
              "IPY_MODEL_b6b201594b5943e8afe14f3850f2b923"
            ],
            "layout": "IPY_MODEL_a8f8c5a9c3f44bafaca3f6c07cf1255d"
          }
        },
        "5eb7fad0521b47b0bdb04520dca29c76": {
          "model_module": "@jupyter-widgets/controls",
          "model_name": "HTMLModel",
          "model_module_version": "1.5.0",
          "state": {
            "_dom_classes": [],
            "_model_module": "@jupyter-widgets/controls",
            "_model_module_version": "1.5.0",
            "_model_name": "HTMLModel",
            "_view_count": null,
            "_view_module": "@jupyter-widgets/controls",
            "_view_module_version": "1.5.0",
            "_view_name": "HTMLView",
            "description": "",
            "description_tooltip": null,
            "layout": "IPY_MODEL_cf0d199eceb74254a168bd00e01a6941",
            "placeholder": "​",
            "style": "IPY_MODEL_03c7b89a9f234eaea053a67eabec000c",
            "value": "Iteration: 100%"
          }
        },
        "89deb1a4b0f64fdfa88d7403ee5d115a": {
          "model_module": "@jupyter-widgets/controls",
          "model_name": "FloatProgressModel",
          "model_module_version": "1.5.0",
          "state": {
            "_dom_classes": [],
            "_model_module": "@jupyter-widgets/controls",
            "_model_module_version": "1.5.0",
            "_model_name": "FloatProgressModel",
            "_view_count": null,
            "_view_module": "@jupyter-widgets/controls",
            "_view_module_version": "1.5.0",
            "_view_name": "ProgressView",
            "bar_style": "success",
            "description": "",
            "description_tooltip": null,
            "layout": "IPY_MODEL_7269d2248095459d925bf9e156fcd920",
            "max": 744,
            "min": 0,
            "orientation": "horizontal",
            "style": "IPY_MODEL_65984c29eb18479b801ef166cb86f8a4",
            "value": 744
          }
        },
        "b6b201594b5943e8afe14f3850f2b923": {
          "model_module": "@jupyter-widgets/controls",
          "model_name": "HTMLModel",
          "model_module_version": "1.5.0",
          "state": {
            "_dom_classes": [],
            "_model_module": "@jupyter-widgets/controls",
            "_model_module_version": "1.5.0",
            "_model_name": "HTMLModel",
            "_view_count": null,
            "_view_module": "@jupyter-widgets/controls",
            "_view_module_version": "1.5.0",
            "_view_name": "HTMLView",
            "description": "",
            "description_tooltip": null,
            "layout": "IPY_MODEL_0be11a6d420f44868ca68ad2f0862a5a",
            "placeholder": "​",
            "style": "IPY_MODEL_f0b40e18cb254e7588abc8ee8967bc04",
            "value": " 744/744 [03:55&lt;00:00,  2.70it/s]"
          }
        },
        "a8f8c5a9c3f44bafaca3f6c07cf1255d": {
          "model_module": "@jupyter-widgets/base",
          "model_name": "LayoutModel",
          "model_module_version": "1.2.0",
          "state": {
            "_model_module": "@jupyter-widgets/base",
            "_model_module_version": "1.2.0",
            "_model_name": "LayoutModel",
            "_view_count": null,
            "_view_module": "@jupyter-widgets/base",
            "_view_module_version": "1.2.0",
            "_view_name": "LayoutView",
            "align_content": null,
            "align_items": null,
            "align_self": null,
            "border": null,
            "bottom": null,
            "display": null,
            "flex": null,
            "flex_flow": null,
            "grid_area": null,
            "grid_auto_columns": null,
            "grid_auto_flow": null,
            "grid_auto_rows": null,
            "grid_column": null,
            "grid_gap": null,
            "grid_row": null,
            "grid_template_areas": null,
            "grid_template_columns": null,
            "grid_template_rows": null,
            "height": null,
            "justify_content": null,
            "justify_items": null,
            "left": null,
            "margin": null,
            "max_height": null,
            "max_width": null,
            "min_height": null,
            "min_width": null,
            "object_fit": null,
            "object_position": null,
            "order": null,
            "overflow": null,
            "overflow_x": null,
            "overflow_y": null,
            "padding": null,
            "right": null,
            "top": null,
            "visibility": null,
            "width": null
          }
        },
        "cf0d199eceb74254a168bd00e01a6941": {
          "model_module": "@jupyter-widgets/base",
          "model_name": "LayoutModel",
          "model_module_version": "1.2.0",
          "state": {
            "_model_module": "@jupyter-widgets/base",
            "_model_module_version": "1.2.0",
            "_model_name": "LayoutModel",
            "_view_count": null,
            "_view_module": "@jupyter-widgets/base",
            "_view_module_version": "1.2.0",
            "_view_name": "LayoutView",
            "align_content": null,
            "align_items": null,
            "align_self": null,
            "border": null,
            "bottom": null,
            "display": null,
            "flex": null,
            "flex_flow": null,
            "grid_area": null,
            "grid_auto_columns": null,
            "grid_auto_flow": null,
            "grid_auto_rows": null,
            "grid_column": null,
            "grid_gap": null,
            "grid_row": null,
            "grid_template_areas": null,
            "grid_template_columns": null,
            "grid_template_rows": null,
            "height": null,
            "justify_content": null,
            "justify_items": null,
            "left": null,
            "margin": null,
            "max_height": null,
            "max_width": null,
            "min_height": null,
            "min_width": null,
            "object_fit": null,
            "object_position": null,
            "order": null,
            "overflow": null,
            "overflow_x": null,
            "overflow_y": null,
            "padding": null,
            "right": null,
            "top": null,
            "visibility": null,
            "width": null
          }
        },
        "03c7b89a9f234eaea053a67eabec000c": {
          "model_module": "@jupyter-widgets/controls",
          "model_name": "DescriptionStyleModel",
          "model_module_version": "1.5.0",
          "state": {
            "_model_module": "@jupyter-widgets/controls",
            "_model_module_version": "1.5.0",
            "_model_name": "DescriptionStyleModel",
            "_view_count": null,
            "_view_module": "@jupyter-widgets/base",
            "_view_module_version": "1.2.0",
            "_view_name": "StyleView",
            "description_width": ""
          }
        },
        "7269d2248095459d925bf9e156fcd920": {
          "model_module": "@jupyter-widgets/base",
          "model_name": "LayoutModel",
          "model_module_version": "1.2.0",
          "state": {
            "_model_module": "@jupyter-widgets/base",
            "_model_module_version": "1.2.0",
            "_model_name": "LayoutModel",
            "_view_count": null,
            "_view_module": "@jupyter-widgets/base",
            "_view_module_version": "1.2.0",
            "_view_name": "LayoutView",
            "align_content": null,
            "align_items": null,
            "align_self": null,
            "border": null,
            "bottom": null,
            "display": null,
            "flex": null,
            "flex_flow": null,
            "grid_area": null,
            "grid_auto_columns": null,
            "grid_auto_flow": null,
            "grid_auto_rows": null,
            "grid_column": null,
            "grid_gap": null,
            "grid_row": null,
            "grid_template_areas": null,
            "grid_template_columns": null,
            "grid_template_rows": null,
            "height": null,
            "justify_content": null,
            "justify_items": null,
            "left": null,
            "margin": null,
            "max_height": null,
            "max_width": null,
            "min_height": null,
            "min_width": null,
            "object_fit": null,
            "object_position": null,
            "order": null,
            "overflow": null,
            "overflow_x": null,
            "overflow_y": null,
            "padding": null,
            "right": null,
            "top": null,
            "visibility": null,
            "width": null
          }
        },
        "65984c29eb18479b801ef166cb86f8a4": {
          "model_module": "@jupyter-widgets/controls",
          "model_name": "ProgressStyleModel",
          "model_module_version": "1.5.0",
          "state": {
            "_model_module": "@jupyter-widgets/controls",
            "_model_module_version": "1.5.0",
            "_model_name": "ProgressStyleModel",
            "_view_count": null,
            "_view_module": "@jupyter-widgets/base",
            "_view_module_version": "1.2.0",
            "_view_name": "StyleView",
            "bar_color": null,
            "description_width": ""
          }
        },
        "0be11a6d420f44868ca68ad2f0862a5a": {
          "model_module": "@jupyter-widgets/base",
          "model_name": "LayoutModel",
          "model_module_version": "1.2.0",
          "state": {
            "_model_module": "@jupyter-widgets/base",
            "_model_module_version": "1.2.0",
            "_model_name": "LayoutModel",
            "_view_count": null,
            "_view_module": "@jupyter-widgets/base",
            "_view_module_version": "1.2.0",
            "_view_name": "LayoutView",
            "align_content": null,
            "align_items": null,
            "align_self": null,
            "border": null,
            "bottom": null,
            "display": null,
            "flex": null,
            "flex_flow": null,
            "grid_area": null,
            "grid_auto_columns": null,
            "grid_auto_flow": null,
            "grid_auto_rows": null,
            "grid_column": null,
            "grid_gap": null,
            "grid_row": null,
            "grid_template_areas": null,
            "grid_template_columns": null,
            "grid_template_rows": null,
            "height": null,
            "justify_content": null,
            "justify_items": null,
            "left": null,
            "margin": null,
            "max_height": null,
            "max_width": null,
            "min_height": null,
            "min_width": null,
            "object_fit": null,
            "object_position": null,
            "order": null,
            "overflow": null,
            "overflow_x": null,
            "overflow_y": null,
            "padding": null,
            "right": null,
            "top": null,
            "visibility": null,
            "width": null
          }
        },
        "f0b40e18cb254e7588abc8ee8967bc04": {
          "model_module": "@jupyter-widgets/controls",
          "model_name": "DescriptionStyleModel",
          "model_module_version": "1.5.0",
          "state": {
            "_model_module": "@jupyter-widgets/controls",
            "_model_module_version": "1.5.0",
            "_model_name": "DescriptionStyleModel",
            "_view_count": null,
            "_view_module": "@jupyter-widgets/base",
            "_view_module_version": "1.2.0",
            "_view_name": "StyleView",
            "description_width": ""
          }
        },
        "fa8be87b3957483c9a0457683fef9844": {
          "model_module": "@jupyter-widgets/controls",
          "model_name": "HBoxModel",
          "model_module_version": "1.5.0",
          "state": {
            "_dom_classes": [],
            "_model_module": "@jupyter-widgets/controls",
            "_model_module_version": "1.5.0",
            "_model_name": "HBoxModel",
            "_view_count": null,
            "_view_module": "@jupyter-widgets/controls",
            "_view_module_version": "1.5.0",
            "_view_name": "HBoxView",
            "box_style": "",
            "children": [
              "IPY_MODEL_8b4e954a351e4ed9b7460a3ef5b522a7",
              "IPY_MODEL_0deb770169ec46a89401802294c91170",
              "IPY_MODEL_f1ea6d13a938494390284af687ff9104"
            ],
            "layout": "IPY_MODEL_51a9504d329e4f2a9300e82f69085e15"
          }
        },
        "8b4e954a351e4ed9b7460a3ef5b522a7": {
          "model_module": "@jupyter-widgets/controls",
          "model_name": "HTMLModel",
          "model_module_version": "1.5.0",
          "state": {
            "_dom_classes": [],
            "_model_module": "@jupyter-widgets/controls",
            "_model_module_version": "1.5.0",
            "_model_name": "HTMLModel",
            "_view_count": null,
            "_view_module": "@jupyter-widgets/controls",
            "_view_module_version": "1.5.0",
            "_view_name": "HTMLView",
            "description": "",
            "description_tooltip": null,
            "layout": "IPY_MODEL_70d269ffb067471da6e1ac6796a61bab",
            "placeholder": "​",
            "style": "IPY_MODEL_2112d4e1804d4a8195664a079e6c8c61",
            "value": "Iteration: 100%"
          }
        },
        "0deb770169ec46a89401802294c91170": {
          "model_module": "@jupyter-widgets/controls",
          "model_name": "FloatProgressModel",
          "model_module_version": "1.5.0",
          "state": {
            "_dom_classes": [],
            "_model_module": "@jupyter-widgets/controls",
            "_model_module_version": "1.5.0",
            "_model_name": "FloatProgressModel",
            "_view_count": null,
            "_view_module": "@jupyter-widgets/controls",
            "_view_module_version": "1.5.0",
            "_view_name": "ProgressView",
            "bar_style": "success",
            "description": "",
            "description_tooltip": null,
            "layout": "IPY_MODEL_6e7c534f00e545728aba5bb7fc3848a8",
            "max": 744,
            "min": 0,
            "orientation": "horizontal",
            "style": "IPY_MODEL_4f4bcb3618764499ab2815995cd3143f",
            "value": 744
          }
        },
        "f1ea6d13a938494390284af687ff9104": {
          "model_module": "@jupyter-widgets/controls",
          "model_name": "HTMLModel",
          "model_module_version": "1.5.0",
          "state": {
            "_dom_classes": [],
            "_model_module": "@jupyter-widgets/controls",
            "_model_module_version": "1.5.0",
            "_model_name": "HTMLModel",
            "_view_count": null,
            "_view_module": "@jupyter-widgets/controls",
            "_view_module_version": "1.5.0",
            "_view_name": "HTMLView",
            "description": "",
            "description_tooltip": null,
            "layout": "IPY_MODEL_f82c1a4f400d45f9b84f5a9066f0fb49",
            "placeholder": "​",
            "style": "IPY_MODEL_3fd4b0afc99843c59856e3cf9487e6d3",
            "value": " 744/744 [03:58&lt;00:00,  2.94it/s]"
          }
        },
        "51a9504d329e4f2a9300e82f69085e15": {
          "model_module": "@jupyter-widgets/base",
          "model_name": "LayoutModel",
          "model_module_version": "1.2.0",
          "state": {
            "_model_module": "@jupyter-widgets/base",
            "_model_module_version": "1.2.0",
            "_model_name": "LayoutModel",
            "_view_count": null,
            "_view_module": "@jupyter-widgets/base",
            "_view_module_version": "1.2.0",
            "_view_name": "LayoutView",
            "align_content": null,
            "align_items": null,
            "align_self": null,
            "border": null,
            "bottom": null,
            "display": null,
            "flex": null,
            "flex_flow": null,
            "grid_area": null,
            "grid_auto_columns": null,
            "grid_auto_flow": null,
            "grid_auto_rows": null,
            "grid_column": null,
            "grid_gap": null,
            "grid_row": null,
            "grid_template_areas": null,
            "grid_template_columns": null,
            "grid_template_rows": null,
            "height": null,
            "justify_content": null,
            "justify_items": null,
            "left": null,
            "margin": null,
            "max_height": null,
            "max_width": null,
            "min_height": null,
            "min_width": null,
            "object_fit": null,
            "object_position": null,
            "order": null,
            "overflow": null,
            "overflow_x": null,
            "overflow_y": null,
            "padding": null,
            "right": null,
            "top": null,
            "visibility": null,
            "width": null
          }
        },
        "70d269ffb067471da6e1ac6796a61bab": {
          "model_module": "@jupyter-widgets/base",
          "model_name": "LayoutModel",
          "model_module_version": "1.2.0",
          "state": {
            "_model_module": "@jupyter-widgets/base",
            "_model_module_version": "1.2.0",
            "_model_name": "LayoutModel",
            "_view_count": null,
            "_view_module": "@jupyter-widgets/base",
            "_view_module_version": "1.2.0",
            "_view_name": "LayoutView",
            "align_content": null,
            "align_items": null,
            "align_self": null,
            "border": null,
            "bottom": null,
            "display": null,
            "flex": null,
            "flex_flow": null,
            "grid_area": null,
            "grid_auto_columns": null,
            "grid_auto_flow": null,
            "grid_auto_rows": null,
            "grid_column": null,
            "grid_gap": null,
            "grid_row": null,
            "grid_template_areas": null,
            "grid_template_columns": null,
            "grid_template_rows": null,
            "height": null,
            "justify_content": null,
            "justify_items": null,
            "left": null,
            "margin": null,
            "max_height": null,
            "max_width": null,
            "min_height": null,
            "min_width": null,
            "object_fit": null,
            "object_position": null,
            "order": null,
            "overflow": null,
            "overflow_x": null,
            "overflow_y": null,
            "padding": null,
            "right": null,
            "top": null,
            "visibility": null,
            "width": null
          }
        },
        "2112d4e1804d4a8195664a079e6c8c61": {
          "model_module": "@jupyter-widgets/controls",
          "model_name": "DescriptionStyleModel",
          "model_module_version": "1.5.0",
          "state": {
            "_model_module": "@jupyter-widgets/controls",
            "_model_module_version": "1.5.0",
            "_model_name": "DescriptionStyleModel",
            "_view_count": null,
            "_view_module": "@jupyter-widgets/base",
            "_view_module_version": "1.2.0",
            "_view_name": "StyleView",
            "description_width": ""
          }
        },
        "6e7c534f00e545728aba5bb7fc3848a8": {
          "model_module": "@jupyter-widgets/base",
          "model_name": "LayoutModel",
          "model_module_version": "1.2.0",
          "state": {
            "_model_module": "@jupyter-widgets/base",
            "_model_module_version": "1.2.0",
            "_model_name": "LayoutModel",
            "_view_count": null,
            "_view_module": "@jupyter-widgets/base",
            "_view_module_version": "1.2.0",
            "_view_name": "LayoutView",
            "align_content": null,
            "align_items": null,
            "align_self": null,
            "border": null,
            "bottom": null,
            "display": null,
            "flex": null,
            "flex_flow": null,
            "grid_area": null,
            "grid_auto_columns": null,
            "grid_auto_flow": null,
            "grid_auto_rows": null,
            "grid_column": null,
            "grid_gap": null,
            "grid_row": null,
            "grid_template_areas": null,
            "grid_template_columns": null,
            "grid_template_rows": null,
            "height": null,
            "justify_content": null,
            "justify_items": null,
            "left": null,
            "margin": null,
            "max_height": null,
            "max_width": null,
            "min_height": null,
            "min_width": null,
            "object_fit": null,
            "object_position": null,
            "order": null,
            "overflow": null,
            "overflow_x": null,
            "overflow_y": null,
            "padding": null,
            "right": null,
            "top": null,
            "visibility": null,
            "width": null
          }
        },
        "4f4bcb3618764499ab2815995cd3143f": {
          "model_module": "@jupyter-widgets/controls",
          "model_name": "ProgressStyleModel",
          "model_module_version": "1.5.0",
          "state": {
            "_model_module": "@jupyter-widgets/controls",
            "_model_module_version": "1.5.0",
            "_model_name": "ProgressStyleModel",
            "_view_count": null,
            "_view_module": "@jupyter-widgets/base",
            "_view_module_version": "1.2.0",
            "_view_name": "StyleView",
            "bar_color": null,
            "description_width": ""
          }
        },
        "f82c1a4f400d45f9b84f5a9066f0fb49": {
          "model_module": "@jupyter-widgets/base",
          "model_name": "LayoutModel",
          "model_module_version": "1.2.0",
          "state": {
            "_model_module": "@jupyter-widgets/base",
            "_model_module_version": "1.2.0",
            "_model_name": "LayoutModel",
            "_view_count": null,
            "_view_module": "@jupyter-widgets/base",
            "_view_module_version": "1.2.0",
            "_view_name": "LayoutView",
            "align_content": null,
            "align_items": null,
            "align_self": null,
            "border": null,
            "bottom": null,
            "display": null,
            "flex": null,
            "flex_flow": null,
            "grid_area": null,
            "grid_auto_columns": null,
            "grid_auto_flow": null,
            "grid_auto_rows": null,
            "grid_column": null,
            "grid_gap": null,
            "grid_row": null,
            "grid_template_areas": null,
            "grid_template_columns": null,
            "grid_template_rows": null,
            "height": null,
            "justify_content": null,
            "justify_items": null,
            "left": null,
            "margin": null,
            "max_height": null,
            "max_width": null,
            "min_height": null,
            "min_width": null,
            "object_fit": null,
            "object_position": null,
            "order": null,
            "overflow": null,
            "overflow_x": null,
            "overflow_y": null,
            "padding": null,
            "right": null,
            "top": null,
            "visibility": null,
            "width": null
          }
        },
        "3fd4b0afc99843c59856e3cf9487e6d3": {
          "model_module": "@jupyter-widgets/controls",
          "model_name": "DescriptionStyleModel",
          "model_module_version": "1.5.0",
          "state": {
            "_model_module": "@jupyter-widgets/controls",
            "_model_module_version": "1.5.0",
            "_model_name": "DescriptionStyleModel",
            "_view_count": null,
            "_view_module": "@jupyter-widgets/base",
            "_view_module_version": "1.2.0",
            "_view_name": "StyleView",
            "description_width": ""
          }
        },
        "6999ec53c63140a49a600a458538078c": {
          "model_module": "@jupyter-widgets/controls",
          "model_name": "HBoxModel",
          "model_module_version": "1.5.0",
          "state": {
            "_dom_classes": [],
            "_model_module": "@jupyter-widgets/controls",
            "_model_module_version": "1.5.0",
            "_model_name": "HBoxModel",
            "_view_count": null,
            "_view_module": "@jupyter-widgets/controls",
            "_view_module_version": "1.5.0",
            "_view_name": "HBoxView",
            "box_style": "",
            "children": [
              "IPY_MODEL_22bec64f67c34846b33dd62f4c6dd1e3",
              "IPY_MODEL_c50352f864fa40bd92022f12a906b2c6",
              "IPY_MODEL_e42b1969de1c4397b1d8cbdd839fdb9f"
            ],
            "layout": "IPY_MODEL_26e40538b94646189c0ac737be1890f2"
          }
        },
        "22bec64f67c34846b33dd62f4c6dd1e3": {
          "model_module": "@jupyter-widgets/controls",
          "model_name": "HTMLModel",
          "model_module_version": "1.5.0",
          "state": {
            "_dom_classes": [],
            "_model_module": "@jupyter-widgets/controls",
            "_model_module_version": "1.5.0",
            "_model_name": "HTMLModel",
            "_view_count": null,
            "_view_module": "@jupyter-widgets/controls",
            "_view_module_version": "1.5.0",
            "_view_name": "HTMLView",
            "description": "",
            "description_tooltip": null,
            "layout": "IPY_MODEL_30329f142fa24815a2136cd3ddf40d74",
            "placeholder": "​",
            "style": "IPY_MODEL_3722467711eb4c91882978c83869ea56",
            "value": "Iteration: 100%"
          }
        },
        "c50352f864fa40bd92022f12a906b2c6": {
          "model_module": "@jupyter-widgets/controls",
          "model_name": "FloatProgressModel",
          "model_module_version": "1.5.0",
          "state": {
            "_dom_classes": [],
            "_model_module": "@jupyter-widgets/controls",
            "_model_module_version": "1.5.0",
            "_model_name": "FloatProgressModel",
            "_view_count": null,
            "_view_module": "@jupyter-widgets/controls",
            "_view_module_version": "1.5.0",
            "_view_name": "ProgressView",
            "bar_style": "success",
            "description": "",
            "description_tooltip": null,
            "layout": "IPY_MODEL_0f1f558569b942439d12de921f83a525",
            "max": 744,
            "min": 0,
            "orientation": "horizontal",
            "style": "IPY_MODEL_fc64f876ca394f13b37de53e7444e6f2",
            "value": 744
          }
        },
        "e42b1969de1c4397b1d8cbdd839fdb9f": {
          "model_module": "@jupyter-widgets/controls",
          "model_name": "HTMLModel",
          "model_module_version": "1.5.0",
          "state": {
            "_dom_classes": [],
            "_model_module": "@jupyter-widgets/controls",
            "_model_module_version": "1.5.0",
            "_model_name": "HTMLModel",
            "_view_count": null,
            "_view_module": "@jupyter-widgets/controls",
            "_view_module_version": "1.5.0",
            "_view_name": "HTMLView",
            "description": "",
            "description_tooltip": null,
            "layout": "IPY_MODEL_57cfcf6d1c38477d80ab5f8a7d92831d",
            "placeholder": "​",
            "style": "IPY_MODEL_ec21f775aba542f4aa96b8c3e0798745",
            "value": " 744/744 [03:57&lt;00:00,  3.18it/s]"
          }
        },
        "26e40538b94646189c0ac737be1890f2": {
          "model_module": "@jupyter-widgets/base",
          "model_name": "LayoutModel",
          "model_module_version": "1.2.0",
          "state": {
            "_model_module": "@jupyter-widgets/base",
            "_model_module_version": "1.2.0",
            "_model_name": "LayoutModel",
            "_view_count": null,
            "_view_module": "@jupyter-widgets/base",
            "_view_module_version": "1.2.0",
            "_view_name": "LayoutView",
            "align_content": null,
            "align_items": null,
            "align_self": null,
            "border": null,
            "bottom": null,
            "display": null,
            "flex": null,
            "flex_flow": null,
            "grid_area": null,
            "grid_auto_columns": null,
            "grid_auto_flow": null,
            "grid_auto_rows": null,
            "grid_column": null,
            "grid_gap": null,
            "grid_row": null,
            "grid_template_areas": null,
            "grid_template_columns": null,
            "grid_template_rows": null,
            "height": null,
            "justify_content": null,
            "justify_items": null,
            "left": null,
            "margin": null,
            "max_height": null,
            "max_width": null,
            "min_height": null,
            "min_width": null,
            "object_fit": null,
            "object_position": null,
            "order": null,
            "overflow": null,
            "overflow_x": null,
            "overflow_y": null,
            "padding": null,
            "right": null,
            "top": null,
            "visibility": null,
            "width": null
          }
        },
        "30329f142fa24815a2136cd3ddf40d74": {
          "model_module": "@jupyter-widgets/base",
          "model_name": "LayoutModel",
          "model_module_version": "1.2.0",
          "state": {
            "_model_module": "@jupyter-widgets/base",
            "_model_module_version": "1.2.0",
            "_model_name": "LayoutModel",
            "_view_count": null,
            "_view_module": "@jupyter-widgets/base",
            "_view_module_version": "1.2.0",
            "_view_name": "LayoutView",
            "align_content": null,
            "align_items": null,
            "align_self": null,
            "border": null,
            "bottom": null,
            "display": null,
            "flex": null,
            "flex_flow": null,
            "grid_area": null,
            "grid_auto_columns": null,
            "grid_auto_flow": null,
            "grid_auto_rows": null,
            "grid_column": null,
            "grid_gap": null,
            "grid_row": null,
            "grid_template_areas": null,
            "grid_template_columns": null,
            "grid_template_rows": null,
            "height": null,
            "justify_content": null,
            "justify_items": null,
            "left": null,
            "margin": null,
            "max_height": null,
            "max_width": null,
            "min_height": null,
            "min_width": null,
            "object_fit": null,
            "object_position": null,
            "order": null,
            "overflow": null,
            "overflow_x": null,
            "overflow_y": null,
            "padding": null,
            "right": null,
            "top": null,
            "visibility": null,
            "width": null
          }
        },
        "3722467711eb4c91882978c83869ea56": {
          "model_module": "@jupyter-widgets/controls",
          "model_name": "DescriptionStyleModel",
          "model_module_version": "1.5.0",
          "state": {
            "_model_module": "@jupyter-widgets/controls",
            "_model_module_version": "1.5.0",
            "_model_name": "DescriptionStyleModel",
            "_view_count": null,
            "_view_module": "@jupyter-widgets/base",
            "_view_module_version": "1.2.0",
            "_view_name": "StyleView",
            "description_width": ""
          }
        },
        "0f1f558569b942439d12de921f83a525": {
          "model_module": "@jupyter-widgets/base",
          "model_name": "LayoutModel",
          "model_module_version": "1.2.0",
          "state": {
            "_model_module": "@jupyter-widgets/base",
            "_model_module_version": "1.2.0",
            "_model_name": "LayoutModel",
            "_view_count": null,
            "_view_module": "@jupyter-widgets/base",
            "_view_module_version": "1.2.0",
            "_view_name": "LayoutView",
            "align_content": null,
            "align_items": null,
            "align_self": null,
            "border": null,
            "bottom": null,
            "display": null,
            "flex": null,
            "flex_flow": null,
            "grid_area": null,
            "grid_auto_columns": null,
            "grid_auto_flow": null,
            "grid_auto_rows": null,
            "grid_column": null,
            "grid_gap": null,
            "grid_row": null,
            "grid_template_areas": null,
            "grid_template_columns": null,
            "grid_template_rows": null,
            "height": null,
            "justify_content": null,
            "justify_items": null,
            "left": null,
            "margin": null,
            "max_height": null,
            "max_width": null,
            "min_height": null,
            "min_width": null,
            "object_fit": null,
            "object_position": null,
            "order": null,
            "overflow": null,
            "overflow_x": null,
            "overflow_y": null,
            "padding": null,
            "right": null,
            "top": null,
            "visibility": null,
            "width": null
          }
        },
        "fc64f876ca394f13b37de53e7444e6f2": {
          "model_module": "@jupyter-widgets/controls",
          "model_name": "ProgressStyleModel",
          "model_module_version": "1.5.0",
          "state": {
            "_model_module": "@jupyter-widgets/controls",
            "_model_module_version": "1.5.0",
            "_model_name": "ProgressStyleModel",
            "_view_count": null,
            "_view_module": "@jupyter-widgets/base",
            "_view_module_version": "1.2.0",
            "_view_name": "StyleView",
            "bar_color": null,
            "description_width": ""
          }
        },
        "57cfcf6d1c38477d80ab5f8a7d92831d": {
          "model_module": "@jupyter-widgets/base",
          "model_name": "LayoutModel",
          "model_module_version": "1.2.0",
          "state": {
            "_model_module": "@jupyter-widgets/base",
            "_model_module_version": "1.2.0",
            "_model_name": "LayoutModel",
            "_view_count": null,
            "_view_module": "@jupyter-widgets/base",
            "_view_module_version": "1.2.0",
            "_view_name": "LayoutView",
            "align_content": null,
            "align_items": null,
            "align_self": null,
            "border": null,
            "bottom": null,
            "display": null,
            "flex": null,
            "flex_flow": null,
            "grid_area": null,
            "grid_auto_columns": null,
            "grid_auto_flow": null,
            "grid_auto_rows": null,
            "grid_column": null,
            "grid_gap": null,
            "grid_row": null,
            "grid_template_areas": null,
            "grid_template_columns": null,
            "grid_template_rows": null,
            "height": null,
            "justify_content": null,
            "justify_items": null,
            "left": null,
            "margin": null,
            "max_height": null,
            "max_width": null,
            "min_height": null,
            "min_width": null,
            "object_fit": null,
            "object_position": null,
            "order": null,
            "overflow": null,
            "overflow_x": null,
            "overflow_y": null,
            "padding": null,
            "right": null,
            "top": null,
            "visibility": null,
            "width": null
          }
        },
        "ec21f775aba542f4aa96b8c3e0798745": {
          "model_module": "@jupyter-widgets/controls",
          "model_name": "DescriptionStyleModel",
          "model_module_version": "1.5.0",
          "state": {
            "_model_module": "@jupyter-widgets/controls",
            "_model_module_version": "1.5.0",
            "_model_name": "DescriptionStyleModel",
            "_view_count": null,
            "_view_module": "@jupyter-widgets/base",
            "_view_module_version": "1.2.0",
            "_view_name": "StyleView",
            "description_width": ""
          }
        },
        "66a2b940dba44d3d84dc0051084ca163": {
          "model_module": "@jupyter-widgets/controls",
          "model_name": "HBoxModel",
          "model_module_version": "1.5.0",
          "state": {
            "_dom_classes": [],
            "_model_module": "@jupyter-widgets/controls",
            "_model_module_version": "1.5.0",
            "_model_name": "HBoxModel",
            "_view_count": null,
            "_view_module": "@jupyter-widgets/controls",
            "_view_module_version": "1.5.0",
            "_view_name": "HBoxView",
            "box_style": "",
            "children": [
              "IPY_MODEL_b06731bd7130415c8ab157a1f12f4c8f",
              "IPY_MODEL_ab192291f73f4ea6810dae8edb0ed7ac",
              "IPY_MODEL_14fef29f697c48aebebc385c1dd851bc"
            ],
            "layout": "IPY_MODEL_73581a2407b942ad9860ad666b155782"
          }
        },
        "b06731bd7130415c8ab157a1f12f4c8f": {
          "model_module": "@jupyter-widgets/controls",
          "model_name": "HTMLModel",
          "model_module_version": "1.5.0",
          "state": {
            "_dom_classes": [],
            "_model_module": "@jupyter-widgets/controls",
            "_model_module_version": "1.5.0",
            "_model_name": "HTMLModel",
            "_view_count": null,
            "_view_module": "@jupyter-widgets/controls",
            "_view_module_version": "1.5.0",
            "_view_name": "HTMLView",
            "description": "",
            "description_tooltip": null,
            "layout": "IPY_MODEL_54ad1b83cea34ab4a5acf74ad67f25dc",
            "placeholder": "​",
            "style": "IPY_MODEL_13103c17673b4d6b9a6d5335ce4e3b7a",
            "value": "Iteration: 100%"
          }
        },
        "ab192291f73f4ea6810dae8edb0ed7ac": {
          "model_module": "@jupyter-widgets/controls",
          "model_name": "FloatProgressModel",
          "model_module_version": "1.5.0",
          "state": {
            "_dom_classes": [],
            "_model_module": "@jupyter-widgets/controls",
            "_model_module_version": "1.5.0",
            "_model_name": "FloatProgressModel",
            "_view_count": null,
            "_view_module": "@jupyter-widgets/controls",
            "_view_module_version": "1.5.0",
            "_view_name": "ProgressView",
            "bar_style": "success",
            "description": "",
            "description_tooltip": null,
            "layout": "IPY_MODEL_0c258905e0b146c881382d2935b536dd",
            "max": 744,
            "min": 0,
            "orientation": "horizontal",
            "style": "IPY_MODEL_4e721a0c2a7545efa017b6d12880fb96",
            "value": 744
          }
        },
        "14fef29f697c48aebebc385c1dd851bc": {
          "model_module": "@jupyter-widgets/controls",
          "model_name": "HTMLModel",
          "model_module_version": "1.5.0",
          "state": {
            "_dom_classes": [],
            "_model_module": "@jupyter-widgets/controls",
            "_model_module_version": "1.5.0",
            "_model_name": "HTMLModel",
            "_view_count": null,
            "_view_module": "@jupyter-widgets/controls",
            "_view_module_version": "1.5.0",
            "_view_name": "HTMLView",
            "description": "",
            "description_tooltip": null,
            "layout": "IPY_MODEL_27b6c43934274ff982b8516fc2dfff53",
            "placeholder": "​",
            "style": "IPY_MODEL_cdcdee152df046d3bf1fc72b2eff8000",
            "value": " 744/744 [03:56&lt;00:00,  3.24it/s]"
          }
        },
        "73581a2407b942ad9860ad666b155782": {
          "model_module": "@jupyter-widgets/base",
          "model_name": "LayoutModel",
          "model_module_version": "1.2.0",
          "state": {
            "_model_module": "@jupyter-widgets/base",
            "_model_module_version": "1.2.0",
            "_model_name": "LayoutModel",
            "_view_count": null,
            "_view_module": "@jupyter-widgets/base",
            "_view_module_version": "1.2.0",
            "_view_name": "LayoutView",
            "align_content": null,
            "align_items": null,
            "align_self": null,
            "border": null,
            "bottom": null,
            "display": null,
            "flex": null,
            "flex_flow": null,
            "grid_area": null,
            "grid_auto_columns": null,
            "grid_auto_flow": null,
            "grid_auto_rows": null,
            "grid_column": null,
            "grid_gap": null,
            "grid_row": null,
            "grid_template_areas": null,
            "grid_template_columns": null,
            "grid_template_rows": null,
            "height": null,
            "justify_content": null,
            "justify_items": null,
            "left": null,
            "margin": null,
            "max_height": null,
            "max_width": null,
            "min_height": null,
            "min_width": null,
            "object_fit": null,
            "object_position": null,
            "order": null,
            "overflow": null,
            "overflow_x": null,
            "overflow_y": null,
            "padding": null,
            "right": null,
            "top": null,
            "visibility": null,
            "width": null
          }
        },
        "54ad1b83cea34ab4a5acf74ad67f25dc": {
          "model_module": "@jupyter-widgets/base",
          "model_name": "LayoutModel",
          "model_module_version": "1.2.0",
          "state": {
            "_model_module": "@jupyter-widgets/base",
            "_model_module_version": "1.2.0",
            "_model_name": "LayoutModel",
            "_view_count": null,
            "_view_module": "@jupyter-widgets/base",
            "_view_module_version": "1.2.0",
            "_view_name": "LayoutView",
            "align_content": null,
            "align_items": null,
            "align_self": null,
            "border": null,
            "bottom": null,
            "display": null,
            "flex": null,
            "flex_flow": null,
            "grid_area": null,
            "grid_auto_columns": null,
            "grid_auto_flow": null,
            "grid_auto_rows": null,
            "grid_column": null,
            "grid_gap": null,
            "grid_row": null,
            "grid_template_areas": null,
            "grid_template_columns": null,
            "grid_template_rows": null,
            "height": null,
            "justify_content": null,
            "justify_items": null,
            "left": null,
            "margin": null,
            "max_height": null,
            "max_width": null,
            "min_height": null,
            "min_width": null,
            "object_fit": null,
            "object_position": null,
            "order": null,
            "overflow": null,
            "overflow_x": null,
            "overflow_y": null,
            "padding": null,
            "right": null,
            "top": null,
            "visibility": null,
            "width": null
          }
        },
        "13103c17673b4d6b9a6d5335ce4e3b7a": {
          "model_module": "@jupyter-widgets/controls",
          "model_name": "DescriptionStyleModel",
          "model_module_version": "1.5.0",
          "state": {
            "_model_module": "@jupyter-widgets/controls",
            "_model_module_version": "1.5.0",
            "_model_name": "DescriptionStyleModel",
            "_view_count": null,
            "_view_module": "@jupyter-widgets/base",
            "_view_module_version": "1.2.0",
            "_view_name": "StyleView",
            "description_width": ""
          }
        },
        "0c258905e0b146c881382d2935b536dd": {
          "model_module": "@jupyter-widgets/base",
          "model_name": "LayoutModel",
          "model_module_version": "1.2.0",
          "state": {
            "_model_module": "@jupyter-widgets/base",
            "_model_module_version": "1.2.0",
            "_model_name": "LayoutModel",
            "_view_count": null,
            "_view_module": "@jupyter-widgets/base",
            "_view_module_version": "1.2.0",
            "_view_name": "LayoutView",
            "align_content": null,
            "align_items": null,
            "align_self": null,
            "border": null,
            "bottom": null,
            "display": null,
            "flex": null,
            "flex_flow": null,
            "grid_area": null,
            "grid_auto_columns": null,
            "grid_auto_flow": null,
            "grid_auto_rows": null,
            "grid_column": null,
            "grid_gap": null,
            "grid_row": null,
            "grid_template_areas": null,
            "grid_template_columns": null,
            "grid_template_rows": null,
            "height": null,
            "justify_content": null,
            "justify_items": null,
            "left": null,
            "margin": null,
            "max_height": null,
            "max_width": null,
            "min_height": null,
            "min_width": null,
            "object_fit": null,
            "object_position": null,
            "order": null,
            "overflow": null,
            "overflow_x": null,
            "overflow_y": null,
            "padding": null,
            "right": null,
            "top": null,
            "visibility": null,
            "width": null
          }
        },
        "4e721a0c2a7545efa017b6d12880fb96": {
          "model_module": "@jupyter-widgets/controls",
          "model_name": "ProgressStyleModel",
          "model_module_version": "1.5.0",
          "state": {
            "_model_module": "@jupyter-widgets/controls",
            "_model_module_version": "1.5.0",
            "_model_name": "ProgressStyleModel",
            "_view_count": null,
            "_view_module": "@jupyter-widgets/base",
            "_view_module_version": "1.2.0",
            "_view_name": "StyleView",
            "bar_color": null,
            "description_width": ""
          }
        },
        "27b6c43934274ff982b8516fc2dfff53": {
          "model_module": "@jupyter-widgets/base",
          "model_name": "LayoutModel",
          "model_module_version": "1.2.0",
          "state": {
            "_model_module": "@jupyter-widgets/base",
            "_model_module_version": "1.2.0",
            "_model_name": "LayoutModel",
            "_view_count": null,
            "_view_module": "@jupyter-widgets/base",
            "_view_module_version": "1.2.0",
            "_view_name": "LayoutView",
            "align_content": null,
            "align_items": null,
            "align_self": null,
            "border": null,
            "bottom": null,
            "display": null,
            "flex": null,
            "flex_flow": null,
            "grid_area": null,
            "grid_auto_columns": null,
            "grid_auto_flow": null,
            "grid_auto_rows": null,
            "grid_column": null,
            "grid_gap": null,
            "grid_row": null,
            "grid_template_areas": null,
            "grid_template_columns": null,
            "grid_template_rows": null,
            "height": null,
            "justify_content": null,
            "justify_items": null,
            "left": null,
            "margin": null,
            "max_height": null,
            "max_width": null,
            "min_height": null,
            "min_width": null,
            "object_fit": null,
            "object_position": null,
            "order": null,
            "overflow": null,
            "overflow_x": null,
            "overflow_y": null,
            "padding": null,
            "right": null,
            "top": null,
            "visibility": null,
            "width": null
          }
        },
        "cdcdee152df046d3bf1fc72b2eff8000": {
          "model_module": "@jupyter-widgets/controls",
          "model_name": "DescriptionStyleModel",
          "model_module_version": "1.5.0",
          "state": {
            "_model_module": "@jupyter-widgets/controls",
            "_model_module_version": "1.5.0",
            "_model_name": "DescriptionStyleModel",
            "_view_count": null,
            "_view_module": "@jupyter-widgets/base",
            "_view_module_version": "1.2.0",
            "_view_name": "StyleView",
            "description_width": ""
          }
        },
        "8cabfa1999564da08b698be8cb844905": {
          "model_module": "@jupyter-widgets/controls",
          "model_name": "HBoxModel",
          "model_module_version": "1.5.0",
          "state": {
            "_dom_classes": [],
            "_model_module": "@jupyter-widgets/controls",
            "_model_module_version": "1.5.0",
            "_model_name": "HBoxModel",
            "_view_count": null,
            "_view_module": "@jupyter-widgets/controls",
            "_view_module_version": "1.5.0",
            "_view_name": "HBoxView",
            "box_style": "",
            "children": [
              "IPY_MODEL_d55f223168f54d0dbf3e813034883872",
              "IPY_MODEL_c93157b3274d474c909a29f8b2687013",
              "IPY_MODEL_3cace5cfae0348408fdafd7c3657304f"
            ],
            "layout": "IPY_MODEL_3cf5e2c449374092a981eace5eac0590"
          }
        },
        "d55f223168f54d0dbf3e813034883872": {
          "model_module": "@jupyter-widgets/controls",
          "model_name": "HTMLModel",
          "model_module_version": "1.5.0",
          "state": {
            "_dom_classes": [],
            "_model_module": "@jupyter-widgets/controls",
            "_model_module_version": "1.5.0",
            "_model_name": "HTMLModel",
            "_view_count": null,
            "_view_module": "@jupyter-widgets/controls",
            "_view_module_version": "1.5.0",
            "_view_name": "HTMLView",
            "description": "",
            "description_tooltip": null,
            "layout": "IPY_MODEL_f4bef09f07964b07808c89dff185e2d9",
            "placeholder": "​",
            "style": "IPY_MODEL_0258e90495ab40b2aa50197dd8e0c2d4",
            "value": "Iteration: 100%"
          }
        },
        "c93157b3274d474c909a29f8b2687013": {
          "model_module": "@jupyter-widgets/controls",
          "model_name": "FloatProgressModel",
          "model_module_version": "1.5.0",
          "state": {
            "_dom_classes": [],
            "_model_module": "@jupyter-widgets/controls",
            "_model_module_version": "1.5.0",
            "_model_name": "FloatProgressModel",
            "_view_count": null,
            "_view_module": "@jupyter-widgets/controls",
            "_view_module_version": "1.5.0",
            "_view_name": "ProgressView",
            "bar_style": "success",
            "description": "",
            "description_tooltip": null,
            "layout": "IPY_MODEL_111cd85e6c8745d4b338e3f6bfa33529",
            "max": 744,
            "min": 0,
            "orientation": "horizontal",
            "style": "IPY_MODEL_f4e397ab1e7645d2ba840748ad361919",
            "value": 744
          }
        },
        "3cace5cfae0348408fdafd7c3657304f": {
          "model_module": "@jupyter-widgets/controls",
          "model_name": "HTMLModel",
          "model_module_version": "1.5.0",
          "state": {
            "_dom_classes": [],
            "_model_module": "@jupyter-widgets/controls",
            "_model_module_version": "1.5.0",
            "_model_name": "HTMLModel",
            "_view_count": null,
            "_view_module": "@jupyter-widgets/controls",
            "_view_module_version": "1.5.0",
            "_view_name": "HTMLView",
            "description": "",
            "description_tooltip": null,
            "layout": "IPY_MODEL_5fb9daf8c94f41fdbab84e4400f4947d",
            "placeholder": "​",
            "style": "IPY_MODEL_421617cf3a4442f5b507473d05a1dc97",
            "value": " 744/744 [03:56&lt;00:00,  3.20it/s]"
          }
        },
        "3cf5e2c449374092a981eace5eac0590": {
          "model_module": "@jupyter-widgets/base",
          "model_name": "LayoutModel",
          "model_module_version": "1.2.0",
          "state": {
            "_model_module": "@jupyter-widgets/base",
            "_model_module_version": "1.2.0",
            "_model_name": "LayoutModel",
            "_view_count": null,
            "_view_module": "@jupyter-widgets/base",
            "_view_module_version": "1.2.0",
            "_view_name": "LayoutView",
            "align_content": null,
            "align_items": null,
            "align_self": null,
            "border": null,
            "bottom": null,
            "display": null,
            "flex": null,
            "flex_flow": null,
            "grid_area": null,
            "grid_auto_columns": null,
            "grid_auto_flow": null,
            "grid_auto_rows": null,
            "grid_column": null,
            "grid_gap": null,
            "grid_row": null,
            "grid_template_areas": null,
            "grid_template_columns": null,
            "grid_template_rows": null,
            "height": null,
            "justify_content": null,
            "justify_items": null,
            "left": null,
            "margin": null,
            "max_height": null,
            "max_width": null,
            "min_height": null,
            "min_width": null,
            "object_fit": null,
            "object_position": null,
            "order": null,
            "overflow": null,
            "overflow_x": null,
            "overflow_y": null,
            "padding": null,
            "right": null,
            "top": null,
            "visibility": null,
            "width": null
          }
        },
        "f4bef09f07964b07808c89dff185e2d9": {
          "model_module": "@jupyter-widgets/base",
          "model_name": "LayoutModel",
          "model_module_version": "1.2.0",
          "state": {
            "_model_module": "@jupyter-widgets/base",
            "_model_module_version": "1.2.0",
            "_model_name": "LayoutModel",
            "_view_count": null,
            "_view_module": "@jupyter-widgets/base",
            "_view_module_version": "1.2.0",
            "_view_name": "LayoutView",
            "align_content": null,
            "align_items": null,
            "align_self": null,
            "border": null,
            "bottom": null,
            "display": null,
            "flex": null,
            "flex_flow": null,
            "grid_area": null,
            "grid_auto_columns": null,
            "grid_auto_flow": null,
            "grid_auto_rows": null,
            "grid_column": null,
            "grid_gap": null,
            "grid_row": null,
            "grid_template_areas": null,
            "grid_template_columns": null,
            "grid_template_rows": null,
            "height": null,
            "justify_content": null,
            "justify_items": null,
            "left": null,
            "margin": null,
            "max_height": null,
            "max_width": null,
            "min_height": null,
            "min_width": null,
            "object_fit": null,
            "object_position": null,
            "order": null,
            "overflow": null,
            "overflow_x": null,
            "overflow_y": null,
            "padding": null,
            "right": null,
            "top": null,
            "visibility": null,
            "width": null
          }
        },
        "0258e90495ab40b2aa50197dd8e0c2d4": {
          "model_module": "@jupyter-widgets/controls",
          "model_name": "DescriptionStyleModel",
          "model_module_version": "1.5.0",
          "state": {
            "_model_module": "@jupyter-widgets/controls",
            "_model_module_version": "1.5.0",
            "_model_name": "DescriptionStyleModel",
            "_view_count": null,
            "_view_module": "@jupyter-widgets/base",
            "_view_module_version": "1.2.0",
            "_view_name": "StyleView",
            "description_width": ""
          }
        },
        "111cd85e6c8745d4b338e3f6bfa33529": {
          "model_module": "@jupyter-widgets/base",
          "model_name": "LayoutModel",
          "model_module_version": "1.2.0",
          "state": {
            "_model_module": "@jupyter-widgets/base",
            "_model_module_version": "1.2.0",
            "_model_name": "LayoutModel",
            "_view_count": null,
            "_view_module": "@jupyter-widgets/base",
            "_view_module_version": "1.2.0",
            "_view_name": "LayoutView",
            "align_content": null,
            "align_items": null,
            "align_self": null,
            "border": null,
            "bottom": null,
            "display": null,
            "flex": null,
            "flex_flow": null,
            "grid_area": null,
            "grid_auto_columns": null,
            "grid_auto_flow": null,
            "grid_auto_rows": null,
            "grid_column": null,
            "grid_gap": null,
            "grid_row": null,
            "grid_template_areas": null,
            "grid_template_columns": null,
            "grid_template_rows": null,
            "height": null,
            "justify_content": null,
            "justify_items": null,
            "left": null,
            "margin": null,
            "max_height": null,
            "max_width": null,
            "min_height": null,
            "min_width": null,
            "object_fit": null,
            "object_position": null,
            "order": null,
            "overflow": null,
            "overflow_x": null,
            "overflow_y": null,
            "padding": null,
            "right": null,
            "top": null,
            "visibility": null,
            "width": null
          }
        },
        "f4e397ab1e7645d2ba840748ad361919": {
          "model_module": "@jupyter-widgets/controls",
          "model_name": "ProgressStyleModel",
          "model_module_version": "1.5.0",
          "state": {
            "_model_module": "@jupyter-widgets/controls",
            "_model_module_version": "1.5.0",
            "_model_name": "ProgressStyleModel",
            "_view_count": null,
            "_view_module": "@jupyter-widgets/base",
            "_view_module_version": "1.2.0",
            "_view_name": "StyleView",
            "bar_color": null,
            "description_width": ""
          }
        },
        "5fb9daf8c94f41fdbab84e4400f4947d": {
          "model_module": "@jupyter-widgets/base",
          "model_name": "LayoutModel",
          "model_module_version": "1.2.0",
          "state": {
            "_model_module": "@jupyter-widgets/base",
            "_model_module_version": "1.2.0",
            "_model_name": "LayoutModel",
            "_view_count": null,
            "_view_module": "@jupyter-widgets/base",
            "_view_module_version": "1.2.0",
            "_view_name": "LayoutView",
            "align_content": null,
            "align_items": null,
            "align_self": null,
            "border": null,
            "bottom": null,
            "display": null,
            "flex": null,
            "flex_flow": null,
            "grid_area": null,
            "grid_auto_columns": null,
            "grid_auto_flow": null,
            "grid_auto_rows": null,
            "grid_column": null,
            "grid_gap": null,
            "grid_row": null,
            "grid_template_areas": null,
            "grid_template_columns": null,
            "grid_template_rows": null,
            "height": null,
            "justify_content": null,
            "justify_items": null,
            "left": null,
            "margin": null,
            "max_height": null,
            "max_width": null,
            "min_height": null,
            "min_width": null,
            "object_fit": null,
            "object_position": null,
            "order": null,
            "overflow": null,
            "overflow_x": null,
            "overflow_y": null,
            "padding": null,
            "right": null,
            "top": null,
            "visibility": null,
            "width": null
          }
        },
        "421617cf3a4442f5b507473d05a1dc97": {
          "model_module": "@jupyter-widgets/controls",
          "model_name": "DescriptionStyleModel",
          "model_module_version": "1.5.0",
          "state": {
            "_model_module": "@jupyter-widgets/controls",
            "_model_module_version": "1.5.0",
            "_model_name": "DescriptionStyleModel",
            "_view_count": null,
            "_view_module": "@jupyter-widgets/base",
            "_view_module_version": "1.2.0",
            "_view_name": "StyleView",
            "description_width": ""
          }
        }
      }
    }
  },
  "nbformat": 4,
  "nbformat_minor": 0
}