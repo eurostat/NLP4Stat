{
 "cells": [
  {
   "cell_type": "markdown",
   "metadata": {},
   "source": [
    "# Extraction for Knowledge Graph creation #"
   ]
  },
  {
   "cell_type": "markdown",
   "metadata": {},
   "source": [
    "### Load libraries and connect to Virtuoso"
   ]
  },
  {
   "cell_type": "code",
   "execution_count": 19,
   "metadata": {},
   "outputs": [],
   "source": [
    "import os \n",
    "import re\n",
    "import logging\n",
    "import sys\n",
    "import pyodbc\n",
    "import hashlib\n",
    "import pandas as pd\n",
    "from datetime import datetime\n",
    "from SPARQLWrapper import SPARQLWrapper, POST, DIGEST, GET\n",
    "from SPARQLWrapper import JSON, INSERT, DELETE\n",
    "import sparql_dataframe"
   ]
  },
  {
   "cell_type": "code",
   "execution_count": 20,
   "metadata": {},
   "outputs": [],
   "source": [
    "def connect_db(DSN, DBA, UID, PWD):\n",
    "\n",
    "    connection = pyodbc.connect('DSN={};DBA={};UID={};PWD={}'.format(DSN, \n",
    "                                                                     DBA,\n",
    "                                                                     UID,\n",
    "                                                                     PWD))\n",
    "    cursor = connection.cursor()\n",
    "\n",
    "    return connection, cursor\n",
    "\n",
    "\n",
    "def connect_virtuoso(DSN, UID, PWD):\n",
    "\n",
    "    sparql = SPARQLWrapper(DSN)\n",
    "    sparql.setHTTPAuth(DIGEST)\n",
    "    sparql.setCredentials(UID, PWD)\n",
    "    sparql.setMethod(GET)\n",
    "\n",
    "    return sparql\n"
   ]
  },
  {
   "cell_type": "markdown",
   "metadata": {},
   "source": [
    "Replace the values with your own logins :"
   ]
  },
  {
   "cell_type": "code",
   "execution_count": 21,
   "metadata": {},
   "outputs": [],
   "source": [
    "user = \"pierre\"\n",
    "login = \"PlwWavJ0DwVZdgvzEUyG\""
   ]
  },
  {
   "cell_type": "code",
   "execution_count": 22,
   "metadata": {},
   "outputs": [],
   "source": [
    "# Connection to CDB \n",
    "connection, cursor = connect_db('Virtuoso All', \n",
    "                                'ESTAT', \n",
    "                                user, \n",
    "                                login)\n",
    "\n",
    "\n",
    "# Connection to the KDB \n",
    "endpoint = \"http://virtuoso-test.kapcode.fr:8890/sparql/\"\n",
    "sparql = connect_virtuoso(endpoint, \n",
    "                          user, \n",
    "                          login)\n"
   ]
  },
  {
   "cell_type": "markdown",
   "metadata": {},
   "source": [
    "### Select triplets based on specific properties  "
   ]
  },
  {
   "cell_type": "markdown",
   "metadata": {},
   "source": [
    "The relations list allow to specify which relations to take into account for the knowledge graph "
   ]
  },
  {
   "cell_type": "code",
   "execution_count": 31,
   "metadata": {},
   "outputs": [],
   "source": [
    "relations = [\"estat:relatedLegallnformation\",\n",
    "             \"estat:relatedEditorialContent\",\n",
    "             \"estat:relatedStatisticData\",\n",
    "             \"estat:sourceInformation\",\n",
    "             \"estat:sourceData\",\n",
    "             \"estat:dataInformation\",\n",
    "             \"skos:related\"]"
   ]
  },
  {
   "cell_type": "code",
   "execution_count": 32,
   "metadata": {},
   "outputs": [
    {
     "name": "stdout",
     "output_type": "stream",
     "text": [
      "\n",
      "    PREFIX estat: <https://nlp4statref/knowledge/ontology/> \n",
      "    PREFIX dct: <http://purl.org/dc/terms/>\n",
      "    PREFIX skos: <http://www.w3.org/2004/02/skos/core#>\n",
      "    SELECT * FROM <https://nlp4statref/knowledge/ontology/>\n",
      "    WHERE {\n",
      "        ?s estat:relatedLegallnformation ?o .\n",
      "    }\n",
      "    \n",
      "(1317, 5)\n",
      "\n",
      "    PREFIX estat: <https://nlp4statref/knowledge/ontology/> \n",
      "    PREFIX dct: <http://purl.org/dc/terms/>\n",
      "    PREFIX skos: <http://www.w3.org/2004/02/skos/core#>\n",
      "    SELECT * FROM <https://nlp4statref/knowledge/ontology/>\n",
      "    WHERE {\n",
      "        ?s estat:relatedEditorialContent ?o .\n",
      "    }\n",
      "    \n",
      "(398, 5)\n",
      "\n",
      "    PREFIX estat: <https://nlp4statref/knowledge/ontology/> \n",
      "    PREFIX dct: <http://purl.org/dc/terms/>\n",
      "    PREFIX skos: <http://www.w3.org/2004/02/skos/core#>\n",
      "    SELECT * FROM <https://nlp4statref/knowledge/ontology/>\n",
      "    WHERE {\n",
      "        ?s estat:relatedStatisticData ?o .\n",
      "    }\n",
      "    \n",
      "(1607, 5)\n",
      "\n",
      "    PREFIX estat: <https://nlp4statref/knowledge/ontology/> \n",
      "    PREFIX dct: <http://purl.org/dc/terms/>\n",
      "    PREFIX skos: <http://www.w3.org/2004/02/skos/core#>\n",
      "    SELECT * FROM <https://nlp4statref/knowledge/ontology/>\n",
      "    WHERE {\n",
      "        ?s estat:sourceInformation ?o .\n",
      "    }\n",
      "    \n",
      "(384, 5)\n",
      "\n",
      "    PREFIX estat: <https://nlp4statref/knowledge/ontology/> \n",
      "    PREFIX dct: <http://purl.org/dc/terms/>\n",
      "    PREFIX skos: <http://www.w3.org/2004/02/skos/core#>\n",
      "    SELECT * FROM <https://nlp4statref/knowledge/ontology/>\n",
      "    WHERE {\n",
      "        ?s estat:sourceData ?o .\n",
      "    }\n",
      "    \n",
      "(652, 5)\n",
      "\n",
      "    PREFIX estat: <https://nlp4statref/knowledge/ontology/> \n",
      "    PREFIX dct: <http://purl.org/dc/terms/>\n",
      "    PREFIX skos: <http://www.w3.org/2004/02/skos/core#>\n",
      "    SELECT * FROM <https://nlp4statref/knowledge/ontology/>\n",
      "    WHERE {\n",
      "        ?s estat:dataInformation ?o .\n",
      "    }\n",
      "    \n",
      "(652, 5)\n",
      "\n",
      "    PREFIX estat: <https://nlp4statref/knowledge/ontology/> \n",
      "    PREFIX dct: <http://purl.org/dc/terms/>\n",
      "    PREFIX skos: <http://www.w3.org/2004/02/skos/core#>\n",
      "    SELECT * FROM <https://nlp4statref/knowledge/ontology/>\n",
      "    WHERE {\n",
      "        ?s skos:related ?o .\n",
      "    }\n",
      "    \n",
      "(2685, 5)\n",
      "(7695, 5)\n"
     ]
    }
   ],
   "source": [
    "for rel in relations :\n",
    "    ###Get links \n",
    "    RelationsStatements = \"\"\"\n",
    "    PREFIX estat: <https://nlp4statref/knowledge/ontology/> \n",
    "    PREFIX dct: <http://purl.org/dc/terms/>\n",
    "    PREFIX skos: <http://www.w3.org/2004/02/skos/core#>\n",
    "    SELECT * FROM <https://nlp4statref/knowledge/ontology/>\n",
    "    WHERE {\n",
    "        ?s \"\"\" + rel + \"\"\" ?o .\n",
    "    }\n",
    "    \"\"\"\n",
    "    print(RelationsStatements)\n",
    "    sparql.setQuery(RelationsStatements)\n",
    "    sparql.method = \"POST\"\n",
    "    sparql.setReturnFormat(JSON)\n",
    "    results = sparql.query().convert()['results']['bindings']\n",
    "    results = pd.json_normalize(results)\n",
    "    results[\"p.value\"] = rel\n",
    "    print(results.shape)\n",
    "        \n",
    "    if (rel == relations[0]): results_relations = results\n",
    "    else : results_relations =  pd.concat([results_relations,results])\n",
    "\n",
    "print(results_relations.shape)\n",
    "results_relations.to_excel(\"data/results_relations.xlsx\")"
   ]
  },
  {
   "cell_type": "markdown",
   "metadata": {},
   "source": [
    "### Get the titles of those elements "
   ]
  },
  {
   "cell_type": "markdown",
   "metadata": {},
   "source": [
    "The titles are used for naming the elements of the graph and also to filter out elements of interest. This second use can be completed by other fields like the description, for instance. The selection of elements will in the end be replaced by enrichement from the knowledge database."
   ]
  },
  {
   "cell_type": "code",
   "execution_count": 29,
   "metadata": {},
   "outputs": [
    {
     "name": "stdout",
     "output_type": "stream",
     "text": [
      "\n",
      "    PREFIX estat: <https://nlp4statref/knowledge/ontology/> \n",
      "    PREFIX dct: <http://purl.org/dc/terms/>\n",
      "    PREFIX skos: <http://www.w3.org/2004/02/skos/core#>\n",
      "    SELECT ?s ?o FROM <https://nlp4statref/knowledge/ontology/>\n",
      "    WHERE {\n",
      "        ?s skos:prefLabel ?o\n",
      "    }\n",
      "    \n",
      "(1313, 4)\n",
      "\n",
      "    PREFIX estat: <https://nlp4statref/knowledge/ontology/> \n",
      "    PREFIX dct: <http://purl.org/dc/terms/>\n",
      "    PREFIX skos: <http://www.w3.org/2004/02/skos/core#>\n",
      "    SELECT ?s ?o FROM <https://nlp4statref/knowledge/ontology/>\n",
      "    WHERE {\n",
      "        ?s dct:title ?o\n",
      "    }\n",
      "    \n",
      "(3175, 4)\n"
     ]
    }
   ],
   "source": [
    "titles = [\"skos:prefLabel\", \"dct:title\"]\n",
    "for tit in titles:\n",
    "    ###Get links \n",
    "    TitlesStatements = \"\"\"\n",
    "    PREFIX estat: <https://nlp4statref/knowledge/ontology/> \n",
    "    PREFIX dct: <http://purl.org/dc/terms/>\n",
    "    PREFIX skos: <http://www.w3.org/2004/02/skos/core#>\n",
    "    SELECT ?s ?o FROM <https://nlp4statref/knowledge/ontology/>\n",
    "    WHERE {\n",
    "        ?s \"\"\" + tit + \"\"\" ?o\n",
    "    }\n",
    "    \"\"\"\n",
    "    print(TitlesStatements)\n",
    "    sparql.setQuery(TitlesStatements)\n",
    "    sparql.method = \"POST\"\n",
    "    sparql.setReturnFormat(JSON)\n",
    "    results = sparql.query().convert()['results']['bindings']\n",
    "    results = pd.json_normalize(results)\n",
    "    print(results.shape)\n",
    "    \n",
    "    if (tit == titles[0]): results_titles = results\n",
    "    else : results_titles =  pd.concat([results_titles,results])\n",
    "results_titles.to_excel(\"data/results_titles.xlsx\")"
   ]
  },
  {
   "cell_type": "markdown",
   "metadata": {},
   "source": [
    "### Get Ressource type of those elements "
   ]
  },
  {
   "cell_type": "markdown",
   "metadata": {},
   "source": [
    "The types of the elements is used to characterize them in the graph. "
   ]
  },
  {
   "cell_type": "code",
   "execution_count": 30,
   "metadata": {},
   "outputs": [
    {
     "name": "stdout",
     "output_type": "stream",
     "text": [
      "\n",
      "PREFIX estat: <https://nlp4statref/knowledge/ontology/> \n",
      "PREFIX dct: <http://purl.org/dc/terms/>\n",
      "PREFIX skos: <http://www.w3.org/2004/02/skos/core#>\n",
      "SELECT ?s ?o FROM <https://nlp4statref/knowledge/ontology/>\n",
      "WHERE {\n",
      "    ?s dct:type ?o\n",
      "}\n",
      "\n",
      "(4458, 4)\n"
     ]
    }
   ],
   "source": [
    "TypesStatements = \"\"\"\n",
    "PREFIX estat: <https://nlp4statref/knowledge/ontology/> \n",
    "PREFIX dct: <http://purl.org/dc/terms/>\n",
    "PREFIX skos: <http://www.w3.org/2004/02/skos/core#>\n",
    "SELECT ?s ?o FROM <https://nlp4statref/knowledge/ontology/>\n",
    "WHERE {\n",
    "    ?s dct:type ?o\n",
    "}\n",
    "\"\"\"\n",
    "print(TypesStatements)\n",
    "sparql.setQuery(TypesStatements)\n",
    "sparql.method = \"POST\"\n",
    "sparql.setReturnFormat(JSON)\n",
    "results = sparql.query().convert()['results']['bindings']\n",
    "results = pd.json_normalize(results)\n",
    "print(results.shape)\n",
    "results.to_excel(\"data/results_types.xlsx\")"
   ]
  },
  {
   "cell_type": "markdown",
   "metadata": {},
   "source": [
    "Let's switch now to R for formatting"
   ]
  }
 ],
 "metadata": {
  "kernelspec": {
   "display_name": "Python 3",
   "language": "python",
   "name": "python3"
  },
  "language_info": {
   "codemirror_mode": {
    "name": "ipython",
    "version": 3
   },
   "file_extension": ".py",
   "mimetype": "text/x-python",
   "name": "python",
   "nbconvert_exporter": "python",
   "pygments_lexer": "ipython3",
   "version": "3.8.3"
  }
 },
 "nbformat": 4,
 "nbformat_minor": 4
}
