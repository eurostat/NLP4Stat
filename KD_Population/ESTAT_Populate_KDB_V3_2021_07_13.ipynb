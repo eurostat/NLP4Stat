{
 "cells": [
  {
   "cell_type": "markdown",
   "metadata": {},
   "source": [
    "# Population of the Knowledge DB - V2 #"
   ]
  },
  {
   "cell_type": "markdown",
   "metadata": {},
   "source": [
    "### Load libraries and connect to Virtuoso"
   ]
  },
  {
   "cell_type": "code",
   "execution_count": 1,
   "metadata": {},
   "outputs": [],
   "source": [
    "import os \n",
    "import re\n",
    "import logging\n",
    "import sys\n",
    "import pyodbc\n",
    "import hashlib\n",
    "import pandas as pd\n",
    "from datetime import datetime\n",
    "from SPARQLWrapper import SPARQLWrapper, POST, DIGEST, GET\n",
    "from SPARQLWrapper import JSON, INSERT, DELETE\n",
    "import sparql_dataframe"
   ]
  },
  {
   "cell_type": "code",
   "execution_count": 2,
   "metadata": {},
   "outputs": [],
   "source": [
    "def connect_db(DSN, DBA, UID, PWD):\n",
    "\n",
    "    connection = pyodbc.connect('DSN={};DBA={};UID={};PWD={}'.format(DSN, \n",
    "                                                                     DBA,\n",
    "                                                                     UID,\n",
    "                                                                     PWD))\n",
    "    cursor = connection.cursor()\n",
    "\n",
    "    return connection, cursor\n",
    "\n",
    "\n",
    "def connect_virtuoso(DSN, UID, PWD):\n",
    "\n",
    "    sparql = SPARQLWrapper(DSN)\n",
    "    sparql.setHTTPAuth(DIGEST)\n",
    "    sparql.setCredentials(UID, PWD)\n",
    "    sparql.setMethod(GET)\n",
    "\n",
    "    return sparql\n"
   ]
  },
  {
   "cell_type": "markdown",
   "metadata": {},
   "source": [
    "Replace the values with your own logins :"
   ]
  },
  {
   "cell_type": "code",
   "execution_count": 3,
   "metadata": {},
   "outputs": [],
   "source": [
    "user = \"dba\"\n",
    "login = \"30gFcpQzj7sPtRu5bkes\""
   ]
  },
  {
   "cell_type": "code",
   "execution_count": 4,
   "metadata": {},
   "outputs": [],
   "source": [
    "# Connection to CDB \n",
    "connection, cursor = connect_db('Virtuoso All', \n",
    "                                'ESTAT', \n",
    "                                user, \n",
    "                                login)\n",
    "\n",
    "\n",
    "# Connection to the KDB \n",
    "endpoint = \"http://virtuoso-test.kapcode.fr:8890/sparql/\"\n",
    "sparql = connect_virtuoso(endpoint, \n",
    "                          user, \n",
    "                          login)\n"
   ]
  },
  {
   "cell_type": "markdown",
   "metadata": {},
   "source": [
    "### Define content selection functions"
   ]
  },
  {
   "cell_type": "code",
   "execution_count": 5,
   "metadata": {},
   "outputs": [],
   "source": [
    "def select_query(columns, table, conditions=None): \n",
    "\n",
    "    if conditions:\n",
    "\n",
    "        query = \"\"\"\n",
    "            SELECT {}\n",
    "            FROM {}\n",
    "            WHERE {}\n",
    "\n",
    "        \"\"\".format(columns, table, conditions)\n",
    "\n",
    "    else:\n",
    "\n",
    "        query = \"\"\"\n",
    "\n",
    "        SELECT {}\n",
    "        FROM {}\n",
    "        \"\"\".format(columns, table)\n",
    "\n",
    "    return query"
   ]
  },
  {
   "cell_type": "markdown",
   "metadata": {},
   "source": [
    "#### Get all tables name from the CDB "
   ]
  },
  {
   "cell_type": "code",
   "execution_count": 6,
   "metadata": {
    "scrolled": true
   },
   "outputs": [
    {
     "data": {
      "text/plain": [
       "0                  dat_article\n",
       "1        dat_article_paragraph\n",
       "2      dat_article_shared_link\n",
       "3             dat_further_info\n",
       "4                 dat_glossary\n",
       "5                dat_link_info\n",
       "6                  dat_link_tm\n",
       "7         dat_paragraph_figure\n",
       "8             dat_redirections\n",
       "9         dat_related_concepts\n",
       "10                 dat_sources\n",
       "11        dat_statistical_data\n",
       "12              dat_tm_results\n",
       "13        dat_tm_results_words\n",
       "14        mod_article_division\n",
       "15    mod_resource_information\n",
       "16           mod_resource_type\n",
       "17            mod_topic_models\n",
       "18                    tm_terms\n",
       "19                   tm_topics\n",
       "Name: TABLE_NAME, dtype: object"
      ]
     },
     "execution_count": 6,
     "metadata": {},
     "output_type": "execute_result"
    }
   ],
   "source": [
    "ESTAT_V1_tables_names = pd.read_sql(select_query('*',\n",
    "                                          'ESTAT.information_schema.tables', \n",
    "                                          ''), \n",
    "                             connection)\n",
    "ESTAT_V1_tables_names['TABLE_NAME']"
   ]
  },
  {
   "cell_type": "markdown",
   "metadata": {},
   "source": [
    "##### Load the Link info table "
   ]
  },
  {
   "cell_type": "code",
   "execution_count": 7,
   "metadata": {},
   "outputs": [
    {
     "name": "stdout",
     "output_type": "stream",
     "text": [
      "(10553, 5)\n"
     ]
    },
    {
     "data": {
      "text/html": [
       "<div>\n",
       "<style scoped>\n",
       "    .dataframe tbody tr th:only-of-type {\n",
       "        vertical-align: middle;\n",
       "    }\n",
       "\n",
       "    .dataframe tbody tr th {\n",
       "        vertical-align: top;\n",
       "    }\n",
       "\n",
       "    .dataframe thead th {\n",
       "        text-align: right;\n",
       "    }\n",
       "</style>\n",
       "<table border=\"1\" class=\"dataframe\">\n",
       "  <thead>\n",
       "    <tr style=\"text-align: right;\">\n",
       "      <th></th>\n",
       "      <th>id</th>\n",
       "      <th>title</th>\n",
       "      <th>url</th>\n",
       "      <th>uri</th>\n",
       "      <th>uri__1</th>\n",
       "    </tr>\n",
       "  </thead>\n",
       "  <tbody>\n",
       "    <tr>\n",
       "      <th>0</th>\n",
       "      <td>43</td>\n",
       "      <td>African Union</td>\n",
       "      <td>http://www.au.int/</td>\n",
       "      <td></td>\n",
       "      <td>Other</td>\n",
       "    </tr>\n",
       "    <tr>\n",
       "      <th>1</th>\n",
       "      <td>44</td>\n",
       "      <td>African Union in a nutshell</td>\n",
       "      <td>http://www.au.int/en/about/nutshell</td>\n",
       "      <td></td>\n",
       "      <td>Other</td>\n",
       "    </tr>\n",
       "    <tr>\n",
       "      <th>2</th>\n",
       "      <td>53</td>\n",
       "      <td>ACP Secretariat website</td>\n",
       "      <td>http://www.acp.int/content/secretariat-acp</td>\n",
       "      <td></td>\n",
       "      <td>Other</td>\n",
       "    </tr>\n",
       "    <tr>\n",
       "      <th>3</th>\n",
       "      <td>89</td>\n",
       "      <td>Agri benchmark Cash Crop Report 2015</td>\n",
       "      <td>http://www.agribenchmark.org/fileadmin/Dateiab...</td>\n",
       "      <td></td>\n",
       "      <td>Other</td>\n",
       "    </tr>\n",
       "    <tr>\n",
       "      <th>4</th>\n",
       "      <td>90</td>\n",
       "      <td>agri benchmark</td>\n",
       "      <td>http://www.agribenchmark.org</td>\n",
       "      <td></td>\n",
       "      <td>Other</td>\n",
       "    </tr>\n",
       "  </tbody>\n",
       "</table>\n",
       "</div>"
      ],
      "text/plain": [
       "   id                                       title  \\\n",
       "0  43                            African Union      \n",
       "1  44              African Union in a nutshell      \n",
       "2  53                  ACP Secretariat website      \n",
       "3  89     Agri benchmark Cash Crop Report 2015      \n",
       "4  90                           agri benchmark      \n",
       "\n",
       "                                                 url uri uri__1  \n",
       "0                                 http://www.au.int/      Other  \n",
       "1                http://www.au.int/en/about/nutshell      Other  \n",
       "2         http://www.acp.int/content/secretariat-acp      Other  \n",
       "3  http://www.agribenchmark.org/fileadmin/Dateiab...      Other  \n",
       "4                       http://www.agribenchmark.org      Other  "
      ]
     },
     "execution_count": 7,
     "metadata": {},
     "output_type": "execute_result"
    }
   ],
   "source": [
    "ESTAT_V1_dat_link_info = pd.read_sql('SELECT ESTAT.V1.dat_link_info.id, title, url , ESTAT.V1.mod_resource_information.uri, ESTAT.V1.mod_resource_type.uri FROM ESTAT.V1.dat_link_info INNER JOIN ESTAT.V1.mod_resource_information ON ESTAT.V1.dat_link_info.resource_information_id = ESTAT.V1.mod_resource_information.id INNER JOIN ESTAT.V1.mod_resource_type ON ESTAT.V1.dat_link_info.resource_type_id = ESTAT.V1.mod_resource_type.id', \n",
    "                             connection)\n",
    "\n",
    "print(ESTAT_V1_dat_link_info.shape)\n",
    "ESTAT_V1_dat_link_info.head()"
   ]
  },
  {
   "cell_type": "markdown",
   "metadata": {},
   "source": [
    "##### Load Glossary related tables"
   ]
  },
  {
   "cell_type": "code",
   "execution_count": 8,
   "metadata": {},
   "outputs": [],
   "source": [
    "ESTAT_V1_dat_glossary = pd.read_sql(select_query('*',\n",
    "                                          'ESTAT.V1.dat_glossary', \n",
    "                                          ''), \n",
    "                             connection)\n",
    "ESTAT_V1_dat_further_info = pd.read_sql(select_query('*',\n",
    "                                          \"ESTAT.V1.dat_further_info\", \n",
    "                                          ''), \n",
    "                             connection)\n",
    "ESTAT_V1_dat_related_concepts = pd.read_sql(select_query('*',\n",
    "                                          \"ESTAT.V1.dat_related_concepts\", \n",
    "                                          ''), \n",
    "                             connection)\n",
    "ESTAT_V1_dat_sources = pd.read_sql(select_query('*',\n",
    "                                          \"ESTAT.V1.dat_sources\", \n",
    "                                          ''), \n",
    "                             connection)\n",
    "ESTAT_V1_dat_statistical_data = pd.read_sql(select_query('*',\n",
    "                                          \"ESTAT.V1.dat_statistical_data\", \n",
    "                                          ''), \n",
    "                             connection)\n",
    "ESTAT_V1_dat_redirections = pd.read_sql('SELECT link_id, glossary_id, title FROM ESTAT.V1.dat_redirections INNER JOIN ESTAT.V1.dat_link_info ON ESTAT.V1.dat_link_info.id = link_id', connection)\n",
    "\n"
   ]
  },
  {
   "cell_type": "code",
   "execution_count": 9,
   "metadata": {},
   "outputs": [
    {
     "data": {
      "text/html": [
       "<div>\n",
       "<style scoped>\n",
       "    .dataframe tbody tr th:only-of-type {\n",
       "        vertical-align: middle;\n",
       "    }\n",
       "\n",
       "    .dataframe tbody tr th {\n",
       "        vertical-align: top;\n",
       "    }\n",
       "\n",
       "    .dataframe thead th {\n",
       "        text-align: right;\n",
       "    }\n",
       "</style>\n",
       "<table border=\"1\" class=\"dataframe\">\n",
       "  <thead>\n",
       "    <tr style=\"text-align: right;\">\n",
       "      <th></th>\n",
       "      <th>id</th>\n",
       "      <th>definition</th>\n",
       "      <th>redirection</th>\n",
       "      <th>original_title</th>\n",
       "      <th>homepage</th>\n",
       "      <th>last_update</th>\n",
       "    </tr>\n",
       "  </thead>\n",
       "  <tbody>\n",
       "    <tr>\n",
       "      <th>0</th>\n",
       "      <td>1</td>\n",
       "      <td>An     accident at work    in the framework ...</td>\n",
       "      <td>0</td>\n",
       "      <td>None</td>\n",
       "      <td>0</td>\n",
       "      <td>2021-03-10 11:13:00</td>\n",
       "    </tr>\n",
       "    <tr>\n",
       "      <th>1</th>\n",
       "      <td>5</td>\n",
       "      <td>A     fatal accident at work    refers to an...</td>\n",
       "      <td>0</td>\n",
       "      <td>None</td>\n",
       "      <td>0</td>\n",
       "      <td>2019-03-06 12:08:00</td>\n",
       "    </tr>\n",
       "    <tr>\n",
       "      <th>2</th>\n",
       "      <td>6</td>\n",
       "      <td>A     non-fatal      accident at work     is...</td>\n",
       "      <td>0</td>\n",
       "      <td>None</td>\n",
       "      <td>0</td>\n",
       "      <td>2018-09-12 15:42:00</td>\n",
       "    </tr>\n",
       "    <tr>\n",
       "      <th>3</th>\n",
       "      <td>8</td>\n",
       "      <td>Aggregate demand    is the total amount of ...</td>\n",
       "      <td>0</td>\n",
       "      <td>None</td>\n",
       "      <td>0</td>\n",
       "      <td>2017-07-28 11:15:00</td>\n",
       "    </tr>\n",
       "    <tr>\n",
       "      <th>4</th>\n",
       "      <td>9</td>\n",
       "      <td>The     goods and services account    shows ...</td>\n",
       "      <td>0</td>\n",
       "      <td>None</td>\n",
       "      <td>0</td>\n",
       "      <td>2017-08-03 16:48:00</td>\n",
       "    </tr>\n",
       "  </tbody>\n",
       "</table>\n",
       "</div>"
      ],
      "text/plain": [
       "   id                                         definition  redirection  \\\n",
       "0   1    An     accident at work    in the framework ...            0   \n",
       "1   5    A     fatal accident at work    refers to an...            0   \n",
       "2   6    A     non-fatal      accident at work     is...            0   \n",
       "3   8     Aggregate demand    is the total amount of ...            0   \n",
       "4   9    The     goods and services account    shows ...            0   \n",
       "\n",
       "  original_title  homepage         last_update  \n",
       "0           None         0 2021-03-10 11:13:00  \n",
       "1           None         0 2019-03-06 12:08:00  \n",
       "2           None         0 2018-09-12 15:42:00  \n",
       "3           None         0 2017-07-28 11:15:00  \n",
       "4           None         0 2017-08-03 16:48:00  "
      ]
     },
     "execution_count": 9,
     "metadata": {},
     "output_type": "execute_result"
    }
   ],
   "source": [
    "ESTAT_V1_dat_glossary.head()"
   ]
  },
  {
   "cell_type": "markdown",
   "metadata": {},
   "source": [
    "##### Load Statistical Articles related tables"
   ]
  },
  {
   "cell_type": "code",
   "execution_count": 10,
   "metadata": {},
   "outputs": [],
   "source": [
    "ESTAT_V1_dat_article = pd.read_sql(select_query('*',\n",
    "                                          'ESTAT.V1.dat_article', \n",
    "                                          'background_article = 0'), \n",
    "                             connection)\n",
    "\n",
    "ESTAT_V1_dat_article_shared_link_legal = pd.read_sql('SELECT ESTAT.V1.dat_article_shared_link.* FROM ESTAT.V1.dat_article_shared_link INNER JOIN ESTAT.V1.dat_link_info ON ESTAT.V1.dat_link_info.id = link_id INNER JOIN ESTAT.V1.dat_article ON ESTAT.V1.dat_article.id = article_id WHERE background_article=0 AND resource_type_id = 2', connection)\n",
    "\n",
    "ESTAT_V1_dat_article_shared_link_editorial = pd.read_sql('SELECT ESTAT.V1.dat_article_shared_link.* FROM ESTAT.V1.dat_article_shared_link INNER JOIN ESTAT.V1.dat_link_info ON ESTAT.V1.dat_link_info.id = link_id INNER JOIN ESTAT.V1.dat_article ON ESTAT.V1.dat_article.id = article_id WHERE background_article=0 AND resource_type_id IN (1, 6, 7, 8, 9, 10)', connection)\n",
    "\n",
    "ESTAT_V1_dat_article_shared_link_statistic_data = pd.read_sql('SELECT ESTAT.V1.dat_article_shared_link.* FROM ESTAT.V1.dat_article_shared_link INNER JOIN ESTAT.V1.dat_link_info ON ESTAT.V1.dat_link_info.id = link_id INNER JOIN ESTAT.V1.dat_article ON ESTAT.V1.dat_article.id = article_id WHERE background_article=0 AND resource_type_id IN (11, 12, 13, 14)', connection)\n",
    "\n",
    "ESTAT_V1_dat_article_core_data = pd.read_sql('SELECT article_id, link_id, url, data_sources FROM ESTAT.V1.dat_article_shared_link INNER JOIN ESTAT.V1.dat_article ON ESTAT.V1.dat_article.id = article_id INNER JOIN ESTAT.V1.dat_link_info ON link_id = ESTAT.V1.dat_link_info.id WHERE background_article = 0 AND article_division_id=1',connection)"
   ]
  },
  {
   "cell_type": "code",
   "execution_count": 11,
   "metadata": {},
   "outputs": [
    {
     "data": {
      "text/html": [
       "<div>\n",
       "<style scoped>\n",
       "    .dataframe tbody tr th:only-of-type {\n",
       "        vertical-align: middle;\n",
       "    }\n",
       "\n",
       "    .dataframe tbody tr th {\n",
       "        vertical-align: top;\n",
       "    }\n",
       "\n",
       "    .dataframe thead th {\n",
       "        text-align: right;\n",
       "    }\n",
       "</style>\n",
       "<table border=\"1\" class=\"dataframe\">\n",
       "  <thead>\n",
       "    <tr style=\"text-align: right;\">\n",
       "      <th></th>\n",
       "      <th>article_id</th>\n",
       "      <th>link_id</th>\n",
       "      <th>url</th>\n",
       "      <th>data_sources</th>\n",
       "    </tr>\n",
       "  </thead>\n",
       "  <tbody>\n",
       "    <tr>\n",
       "      <th>0</th>\n",
       "      <td>2905</td>\n",
       "      <td>2907</td>\n",
       "      <td>https://ec.europa.eu/eurostat/statistics-expla...</td>\n",
       "      <td>All figures in this article are based on  seas...</td>\n",
       "    </tr>\n",
       "    <tr>\n",
       "      <th>1</th>\n",
       "      <td>2914</td>\n",
       "      <td>2917</td>\n",
       "      <td>https://ec.europa.eu/eurostat/statistics-expla...</td>\n",
       "      <td>An in-patient is a patient who is formally adm...</td>\n",
       "    </tr>\n",
       "    <tr>\n",
       "      <th>2</th>\n",
       "      <td>7</td>\n",
       "      <td>2943</td>\n",
       "      <td>https://ec.europa.eu/eurostat/statistics-expla...</td>\n",
       "      <td>In December 2008, the  European Parliament  an...</td>\n",
       "    </tr>\n",
       "    <tr>\n",
       "      <th>3</th>\n",
       "      <td>2946</td>\n",
       "      <td>2953</td>\n",
       "      <td>https://ec.europa.eu/eurostat/statistics-expla...</td>\n",
       "      <td>In December 2008, the  European Parliament  an...</td>\n",
       "    </tr>\n",
       "    <tr>\n",
       "      <th>4</th>\n",
       "      <td>2959</td>\n",
       "      <td>2961</td>\n",
       "      <td>https://ec.europa.eu/eurostat/statistics-expla...</td>\n",
       "      <td>EU data is taken from  Eurostat's   COMEXT  da...</td>\n",
       "    </tr>\n",
       "  </tbody>\n",
       "</table>\n",
       "</div>"
      ],
      "text/plain": [
       "   article_id  link_id                                                url  \\\n",
       "0        2905     2907  https://ec.europa.eu/eurostat/statistics-expla...   \n",
       "1        2914     2917  https://ec.europa.eu/eurostat/statistics-expla...   \n",
       "2           7     2943  https://ec.europa.eu/eurostat/statistics-expla...   \n",
       "3        2946     2953  https://ec.europa.eu/eurostat/statistics-expla...   \n",
       "4        2959     2961  https://ec.europa.eu/eurostat/statistics-expla...   \n",
       "\n",
       "                                        data_sources  \n",
       "0  All figures in this article are based on  seas...  \n",
       "1  An in-patient is a patient who is formally adm...  \n",
       "2  In December 2008, the  European Parliament  an...  \n",
       "3  In December 2008, the  European Parliament  an...  \n",
       "4  EU data is taken from  Eurostat's   COMEXT  da...  "
      ]
     },
     "execution_count": 11,
     "metadata": {},
     "output_type": "execute_result"
    }
   ],
   "source": [
    "ESTAT_V1_dat_article_core_data.head()"
   ]
  },
  {
   "cell_type": "markdown",
   "metadata": {},
   "source": [
    "##### Load Statistical Background Articles related tables"
   ]
  },
  {
   "cell_type": "code",
   "execution_count": 12,
   "metadata": {},
   "outputs": [],
   "source": [
    "ESTAT_V1_dat_background_article = pd.read_sql(select_query('*',\n",
    "                                          'ESTAT.V1.dat_article', \n",
    "                                          'background_article = 1'), \n",
    "                             connection)\n",
    "\n",
    "ESTAT_V1_dat_background_article_shared_link_legal = pd.read_sql('SELECT ESTAT.V1.dat_article_shared_link.* FROM ESTAT.V1.dat_article_shared_link INNER JOIN ESTAT.V1.dat_link_info ON ESTAT.V1.dat_link_info.id = link_id INNER JOIN ESTAT.V1.dat_article ON ESTAT.V1.dat_article.id = article_id WHERE background_article=1 AND resource_type_id = 2', connection)\n",
    "\n",
    "ESTAT_V1_dat_background_article_shared_link_editorial = pd.read_sql('SELECT ESTAT.V1.dat_article_shared_link.* FROM ESTAT.V1.dat_article_shared_link INNER JOIN ESTAT.V1.dat_link_info ON ESTAT.V1.dat_link_info.id = link_id INNER JOIN ESTAT.V1.dat_article ON ESTAT.V1.dat_article.id = article_id WHERE background_article=1 AND resource_type_id IN (1, 6, 7, 8, 9, 10)', connection)\n",
    "\n",
    "ESTAT_V1_dat_background_article_shared_link_statistic_data = pd.read_sql('SELECT ESTAT.V1.dat_article_shared_link.* FROM ESTAT.V1.dat_article_shared_link INNER JOIN ESTAT.V1.dat_link_info ON ESTAT.V1.dat_link_info.id = link_id INNER JOIN ESTAT.V1.dat_article ON ESTAT.V1.dat_article.id = article_id WHERE background_article=1 AND resource_type_id IN (11, 12, 13, 14)', connection)\n",
    "\n",
    "ESTAT_V1_dat_background_article_core_data = pd.read_sql('SELECT article_id, link_id, url, data_sources FROM ESTAT.V1.dat_article_shared_link INNER JOIN ESTAT.V1.dat_article ON ESTAT.V1.dat_article.id = article_id INNER JOIN ESTAT.V1.dat_link_info ON link_id = ESTAT.V1.dat_link_info.id WHERE background_article = 1 AND article_division_id=1',connection)"
   ]
  },
  {
   "cell_type": "code",
   "execution_count": 13,
   "metadata": {},
   "outputs": [
    {
     "data": {
      "text/html": [
       "<div>\n",
       "<style scoped>\n",
       "    .dataframe tbody tr th:only-of-type {\n",
       "        vertical-align: middle;\n",
       "    }\n",
       "\n",
       "    .dataframe tbody tr th {\n",
       "        vertical-align: top;\n",
       "    }\n",
       "\n",
       "    .dataframe thead th {\n",
       "        text-align: right;\n",
       "    }\n",
       "</style>\n",
       "<table border=\"1\" class=\"dataframe\">\n",
       "  <thead>\n",
       "    <tr style=\"text-align: right;\">\n",
       "      <th></th>\n",
       "      <th>id</th>\n",
       "      <th>context</th>\n",
       "      <th>data_sources</th>\n",
       "      <th>last_update</th>\n",
       "      <th>background_article</th>\n",
       "      <th>homepage</th>\n",
       "    </tr>\n",
       "  </thead>\n",
       "  <tbody>\n",
       "    <tr>\n",
       "      <th>0</th>\n",
       "      <td>25</td>\n",
       "      <td>None</td>\n",
       "      <td>None</td>\n",
       "      <td>2020-11-18 18:09:00</td>\n",
       "      <td>1</td>\n",
       "      <td>0</td>\n",
       "    </tr>\n",
       "    <tr>\n",
       "      <th>1</th>\n",
       "      <td>67</td>\n",
       "      <td>Eurostat  publishes data on education and trai...</td>\n",
       "      <td></td>\n",
       "      <td>2021-03-24 19:19:00</td>\n",
       "      <td>1</td>\n",
       "      <td>0</td>\n",
       "    </tr>\n",
       "    <tr>\n",
       "      <th>2</th>\n",
       "      <td>102</td>\n",
       "      <td></td>\n",
       "      <td></td>\n",
       "      <td>2020-10-01 10:42:00</td>\n",
       "      <td>1</td>\n",
       "      <td>0</td>\n",
       "    </tr>\n",
       "    <tr>\n",
       "      <th>3</th>\n",
       "      <td>127</td>\n",
       "      <td>Most changes to  landscapes  are not visible o...</td>\n",
       "      <td></td>\n",
       "      <td>2019-03-06 11:22:00</td>\n",
       "      <td>1</td>\n",
       "      <td>0</td>\n",
       "    </tr>\n",
       "    <tr>\n",
       "      <th>4</th>\n",
       "      <td>131</td>\n",
       "      <td>The SAPM was developed to provide data: Policy...</td>\n",
       "      <td>Survey organisation   The legal basis for the ...</td>\n",
       "      <td>2020-04-03 11:35:00</td>\n",
       "      <td>1</td>\n",
       "      <td>0</td>\n",
       "    </tr>\n",
       "  </tbody>\n",
       "</table>\n",
       "</div>"
      ],
      "text/plain": [
       "    id                                            context  \\\n",
       "0   25                                               None   \n",
       "1   67  Eurostat  publishes data on education and trai...   \n",
       "2  102                                                      \n",
       "3  127  Most changes to  landscapes  are not visible o...   \n",
       "4  131  The SAPM was developed to provide data: Policy...   \n",
       "\n",
       "                                        data_sources         last_update  \\\n",
       "0                                               None 2020-11-18 18:09:00   \n",
       "1                                                    2021-03-24 19:19:00   \n",
       "2                                                    2020-10-01 10:42:00   \n",
       "3                                                    2019-03-06 11:22:00   \n",
       "4  Survey organisation   The legal basis for the ... 2020-04-03 11:35:00   \n",
       "\n",
       "   background_article  homepage  \n",
       "0                   1         0  \n",
       "1                   1         0  \n",
       "2                   1         0  \n",
       "3                   1         0  \n",
       "4                   1         0  "
      ]
     },
     "execution_count": 13,
     "metadata": {},
     "output_type": "execute_result"
    }
   ],
   "source": [
    "ESTAT_V1_dat_background_article.head()"
   ]
  },
  {
   "cell_type": "markdown",
   "metadata": {},
   "source": [
    "### Populate the KDB"
   ]
  },
  {
   "cell_type": "markdown",
   "metadata": {},
   "source": [
    "##### 1 - Insertion of URLs into the KDB"
   ]
  },
  {
   "cell_type": "markdown",
   "metadata": {},
   "source": [
    "Add links and the basic metadata"
   ]
  },
  {
   "cell_type": "code",
   "execution_count": 14,
   "metadata": {},
   "outputs": [],
   "source": [
    "#a checker pour voir si tout est bien ajouté avec la bonne relation \n",
    "def insert_link_info(DB, method):  # works for eurostat links, foreign links\n",
    "\n",
    "    for i, row in DB.iterrows():\n",
    "        id_ = row[0]\n",
    "        title_ = row[1]\n",
    "        title_ = title_.replace(\"'\",\"\").strip()\n",
    "        url_ = row[2]\n",
    "        resource_info_ = row[3]\n",
    "        resource_type_ = row[4]\n",
    "        \n",
    "        query_insert_P = \"\"\"\n",
    "\n",
    "        PREFIX rdf: <http://www.w3.org/1999/02/22-rdf-syntax-ns#> \n",
    "        PREFIX estat: <https://nlp4statref/knowledge/ontology/> \n",
    "        PREFIX dct: <http://purl.org/dc/terms/>\n",
    "\n",
    "        INSERT { GRAPH <https://nlp4statref/knowledge/ontology/> { \n",
    "\n",
    "           estat:\"\"\" + str(id_) + \"\"\" rdf:about '\"\"\" + str(id_) + \"\"\"'.\n",
    "           estat:\"\"\" + str(id_) + \"\"\" dct:source '\"\"\" + str(url_) + \"\"\"'. \n",
    "           estat:\"\"\" + str(id_) + \"\"\" dct:title '\"\"\" + str(title_) + \"\"\"'. \n",
    "           estat:\"\"\" + str(id_) + \"\"\" estat:resourceInformation '\"\"\" + str(resource_info_) + \"\"\"'. \n",
    "           estat:\"\"\" + str(id_) + \"\"\" dct:type '\"\"\" + str(resource_type_) + \"\"\"'. \n",
    "\n",
    "        } }\n",
    "        ;\n",
    "        \"\"\"\n",
    "\n",
    "        sparql.setQuery(query_insert_P)\n",
    "        sparql.method = method\n",
    "        sparql.setReturnFormat(JSON)\n",
    "        results = sparql.query().response.read()\n"
   ]
  },
  {
   "cell_type": "code",
   "execution_count": 15,
   "metadata": {},
   "outputs": [],
   "source": [
    "insert_link_info(ESTAT_V1_dat_link_info, \"POST\")"
   ]
  },
  {
   "cell_type": "markdown",
   "metadata": {},
   "source": [
    "###  2 - Insertion of Glossary elements into the KDB. "
   ]
  },
  {
   "cell_type": "markdown",
   "metadata": {},
   "source": [
    "For those elements, specific relations based on their metadata are added, then we add relations with others links contained in the tables associated to the concepts elements. Some info are already added through the link info table, so they should not be added anew."
   ]
  },
  {
   "cell_type": "code",
   "execution_count": 16,
   "metadata": {},
   "outputs": [],
   "source": [
    "def insert_glossary_elements(DB, classe, link_info_table, method): \n",
    "\n",
    "    threshold = len(DB.columns)\n",
    "    if threshold > 3 :  # concept table\n",
    "\n",
    "        for i, row in DB.iterrows():\n",
    "\n",
    "            id_ = row[0]\n",
    "            def_ = row[1]\n",
    "            def_ = def_.replace(\"'\",\"\").strip()\n",
    "            def_ = def_.replace(\"\\\\\",\"\").strip()\n",
    "            #redirection_ = row[2] #add a condition on altlabel on that ?\n",
    "            #original_title_ = row[3]\n",
    "            last_update_ = row[5]\n",
    "            \n",
    "            # Get info from the eurostat_links\n",
    "            title_ = link_info_table[link_info_table['id'] == id_].title.item()\n",
    "            title_ = title_.replace(\"'\",\"\").strip()\n",
    "            # Construct the query \n",
    "            query = \"\"\"\n",
    "\n",
    "                PREFIX estat: <https://nlp4statref/knowledge/ontology/> \n",
    "                PREFIX skos: <http://www.w3.org/2004/02/skos/core#>\n",
    "                PREFIX dct: <http://purl.org/dc/terms/>\n",
    "                \n",
    "                INSERT { GRAPH <https://nlp4statref/knowledge/ontology/> { \n",
    "\n",
    "                   estat:\"\"\" + str(id_) + \"\"\" skos:Concept '\"\"\" + str(id_) + \"\"\"'.\n",
    "                   estat:\"\"\" + str(id_) + \"\"\" skos:definition '\"\"\" + str(def_) + \"\"\"'. \n",
    "                   estat:\"\"\" + str(id_) + \"\"\" dct:modified '\"\"\" + str(last_update_) + \"\"\"'. \n",
    "                   estat:\"\"\" + str(id_) + \"\"\" skos:prefLabel '\"\"\" + str(title_) + \"\"\"'.                    \n",
    "                   \n",
    "        } }\n",
    "        ;\n",
    "                \"\"\"\n",
    "\n",
    "            sparql.setQuery(query)\n",
    "            sparql.method = method\n",
    "            sparql.setReturnFormat(JSON)\n",
    "            results = sparql.query().response.read()\n",
    "            \n",
    "\n",
    "    elif threshold == 3:  # links, related concept, statistical data,source and altLabel\n",
    "\n",
    "        for i, row in DB.iterrows():\n",
    "\n",
    "            id_ = row[0]\n",
    "            concept_id_ = row[1]\n",
    "            link_id_ = row[2]\n",
    "\n",
    "            # Construct the query \n",
    "            query = \"\"\"\n",
    "\n",
    "                PREFIX estat: <https://nlp4statref/knowledge/ontology/> \n",
    "                PREFIX skos: <http://www.w3.org/2004/02/skos/core#>\n",
    "\n",
    "                INSERT { GRAPH <https://nlp4statref/knowledge/ontology/> { \n",
    "\n",
    "                   estat:\"\"\" + str(concept_id_) + ' ' + classe + \"\"\" '\"\"\" + str(link_id_) + \"\"\"'. \n",
    "\n",
    "                } }\n",
    "                ;\n",
    "            \"\"\"\n",
    "            sparql.setQuery(query)\n",
    "            sparql.method = method\n",
    "            sparql.setReturnFormat(JSON)\n",
    "            results = sparql.query().response.read()\n",
    "    \n"
   ]
  },
  {
   "cell_type": "code",
   "execution_count": 17,
   "metadata": {},
   "outputs": [],
   "source": [
    "insert_glossary_elements(ESTAT_V1_dat_glossary, '',ESTAT_V1_dat_link_info, \"POST\")"
   ]
  },
  {
   "cell_type": "markdown",
   "metadata": {},
   "source": [
    "Add relations from the Concepts elements associated tables : "
   ]
  },
  {
   "cell_type": "code",
   "execution_count": 18,
   "metadata": {},
   "outputs": [],
   "source": [
    "# Populate\n",
    "insert_glossary_elements(ESTAT_V1_dat_related_concepts, 'skos:related', '', 'POST')\n",
    "insert_glossary_elements(ESTAT_V1_dat_statistical_data, 'estat:statisticalInformation', '', 'POST')\n",
    "insert_glossary_elements(ESTAT_V1_dat_sources, 'estat:sourceInformation','', 'POST')\n",
    "insert_glossary_elements(ESTAT_V1_dat_redirections, 'skos:altLabel', '','POST')"
   ]
  },
  {
   "cell_type": "markdown",
   "metadata": {},
   "source": [
    "Pour la table ESTAT_V1_dat_further_info, la relation dépend du type de contenu, qui doit être récupéré dans la table ESTAT_V1_dat_link_info"
   ]
  },
  {
   "cell_type": "code",
   "execution_count": null,
   "metadata": {},
   "outputs": [],
   "source": [
    "#\n",
    "#FONCTION A DEFINIR BASEE SUR insert_glossary_elements(ESTAT_V1_dat_further_info,\n",
    "#                                                     'estat:furtherInformation', \"POST\")"
   ]
  },
  {
   "cell_type": "markdown",
   "metadata": {},
   "source": [
    "If the Glossary homepage is contained in the same table, it should be added separately as it has different relations. "
   ]
  },
  {
   "cell_type": "markdown",
   "metadata": {},
   "source": [
    "###  3 - Insertion of Statistical Explained elements into the KDB. "
   ]
  },
  {
   "cell_type": "markdown",
   "metadata": {},
   "source": [
    "Deux objets dans un article : larticle lui meme et un Core Data (un excel avec les données utilisées et leurs métadonnées)"
   ]
  },
  {
   "cell_type": "markdown",
   "metadata": {},
   "source": [
    "Exemple : https://ec.europa.eu/eurostat/statistics-explained/index.php?title=Exchange_rates_and_interest_rates\n",
    "Excel + ce qu'il y a avant COntext"
   ]
  },
  {
   "cell_type": "code",
   "execution_count": 19,
   "metadata": {},
   "outputs": [],
   "source": [
    "def insert_dat_article(DB, classe, method): \n",
    "\n",
    "    for i, row in DB.iterrows():\n",
    "\n",
    "        id_ = row[0]\n",
    "        last_update_ = str(row[4])\n",
    "\n",
    "        # Construct the query \n",
    "        query = \"\"\"\n",
    "\n",
    "            PREFIX estat: <https://nlp4statref/knowledge/ontology/>\n",
    "            PREFIX dct: <http://purl.org/dc/terms/>\n",
    "\n",
    "            INSERT { GRAPH <https://nlp4statref/knowledge/ontology/> { \n",
    "\n",
    "               estat:\"\"\" + str(id_) + \"\"\" estat:StatisticalArticle '\"\"\" + str(id_) + \"\"\"'.\n",
    "               estat:\"\"\" + str(id_) + \"\"\" dct:modified '\"\"\" + str(last_update_) + \"\"\"'. \n",
    "\n",
    "    } }\n",
    "    ;\n",
    "            \"\"\"\n",
    "    sparql.setQuery(query)\n",
    "    sparql.method = method\n",
    "    sparql.setReturnFormat(JSON)\n",
    "    results = sparql.query().response.read()"
   ]
  },
  {
   "cell_type": "code",
   "execution_count": 20,
   "metadata": {},
   "outputs": [],
   "source": [
    "insert_dat_article(ESTAT_V1_dat_article, '', \"POST\")"
   ]
  },
  {
   "cell_type": "code",
   "execution_count": 21,
   "metadata": {},
   "outputs": [],
   "source": [
    "def insert_dat_article_shared_link(DB, classe, link_info_table, method): \n",
    "\n",
    "     for i, row in DB.iterrows():\n",
    "\n",
    "            id_ = row[1]\n",
    "            link_id_ = row[2]\n",
    "\n",
    "            # Construct the query \n",
    "            query = \"\"\"\n",
    "\n",
    "                PREFIX estat: <https://nlp4statref/knowledge/ontology/> \n",
    "                PREFIX skos: <http://www.w3.org/2004/02/skos/core#>\n",
    "\n",
    "                INSERT { GRAPH <https://nlp4statref/knowledge/ontology/> { \n",
    "\n",
    "                   estat:\"\"\" + str(id_) + ' ' + classe + \"\"\" '\"\"\" + str(link_id_) + \"\"\"'. \n",
    "\n",
    "                } }\n",
    "                ;\n",
    "            \"\"\"\n",
    "            sparql.setQuery(query)\n",
    "            sparql.method = method\n",
    "            sparql.setReturnFormat(JSON)\n",
    "            results = sparql.query().response.read()\n"
   ]
  },
  {
   "cell_type": "code",
   "execution_count": 22,
   "metadata": {},
   "outputs": [],
   "source": [
    "insert_dat_article_shared_link(ESTAT_V1_dat_article_shared_link_editorial, 'estat:relatedEditorialContent', '', 'POST')\n",
    "insert_dat_article_shared_link(ESTAT_V1_dat_article_shared_link_legal, 'estat:relatedLegalInformation', '', 'POST')\n",
    "insert_dat_article_shared_link(ESTAT_V1_dat_article_shared_link_statistic_data, 'estat:relatedStatisticData','', 'POST')"
   ]
  },
  {
   "cell_type": "code",
   "execution_count": 23,
   "metadata": {},
   "outputs": [],
   "source": [
    "def insert_dat_article_core_data(DB, classe, link_info_table, method): \n",
    "\n",
    "     for i, row in DB.iterrows():\n",
    "\n",
    "            id_ = row[0]\n",
    "            link_id_ = row[1]\n",
    "            url_ = row[2]\n",
    "            description_ = row[3].replace(\"'\",\"\").strip()\n",
    "            description_ = description_.replace(\"\\\\\",\"\").strip()\n",
    "\n",
    "            # Construct the query \n",
    "            query = \"\"\"\n",
    "\n",
    "                PREFIX estat: <https://nlp4statref/knowledge/ontology/> \n",
    "                PREFIX dct: <http://www.w3.org/2004/02/skos/core#>\n",
    "\n",
    "                INSERT { GRAPH <https://nlp4statref/knowledge/ontology/> { \n",
    "\n",
    "                   estat:\"\"\" + str(id_) + \"\"\" estat:StatisticsExplainedData '\"\"\" + str(link_id_) + \"\"\"'.\n",
    "                   estat:\"\"\" + str(link_id_) + \"\"\" dct:source '\"\"\" + str(url_) + \"\"\"'. \n",
    "                   estat:\"\"\" + str(link_id_) + \"\"\" dct:description '\"\"\" + str(description_) + \"\"\"'.\n",
    "\n",
    "                } }\n",
    "                ;\n",
    "            \"\"\"\n",
    "            sparql.setQuery(query)\n",
    "            sparql.method = method\n",
    "            sparql.setReturnFormat(JSON)\n",
    "            results = sparql.query().response.read()"
   ]
  },
  {
   "cell_type": "code",
   "execution_count": 24,
   "metadata": {},
   "outputs": [],
   "source": [
    "insert_dat_article_core_data(ESTAT_V1_dat_article_core_data, '','', 'POST')"
   ]
  },
  {
   "cell_type": "markdown",
   "metadata": {},
   "source": [
    "###  4 - Insertion of Background Articles elements into the KDB. "
   ]
  },
  {
   "cell_type": "code",
   "execution_count": 25,
   "metadata": {},
   "outputs": [],
   "source": [
    "def insert_dat_background_article(DB, classe, method): \n",
    "\n",
    "    for i, row in DB.iterrows():\n",
    "\n",
    "        id_ = row[0]\n",
    "        last_update_ = str(row[4])\n",
    "\n",
    "        # Construct the query \n",
    "        query = \"\"\"\n",
    "\n",
    "            PREFIX estat: <https://nlp4statref/knowledge/ontology/>\n",
    "            PREFIX dct: <http://purl.org/dc/terms/>\n",
    "\n",
    "            INSERT { GRAPH <https://nlp4statref/knowledge/ontology/> { \n",
    "\n",
    "               estat:\"\"\" + str(id_) + \"\"\" estat:BackgroundArticle '\"\"\" + str(id_) + \"\"\"'.\n",
    "               estat:\"\"\" + str(id_) + \"\"\" dct:modified '\"\"\" + str(last_update_) + \"\"\"'. \n",
    "\n",
    "    } }\n",
    "    ;\n",
    "            \"\"\"\n",
    "    sparql.setQuery(query)\n",
    "    sparql.method = method\n",
    "    sparql.setReturnFormat(JSON)\n",
    "    results = sparql.query().response.read()"
   ]
  },
  {
   "cell_type": "code",
   "execution_count": 26,
   "metadata": {},
   "outputs": [],
   "source": [
    "insert_dat_background_article(ESTAT_V1_dat_background_article, '', \"POST\")"
   ]
  },
  {
   "cell_type": "code",
   "execution_count": 27,
   "metadata": {},
   "outputs": [],
   "source": [
    "insert_dat_article_shared_link(ESTAT_V1_dat_background_article_shared_link_editorial, 'estat:relatedEditorialContent', '', 'POST')\n",
    "insert_dat_article_shared_link(ESTAT_V1_dat_background_article_shared_link_legal, 'estat:relatedLegalInformation', '', 'POST')\n",
    "insert_dat_article_shared_link(ESTAT_V1_dat_background_article_shared_link_statistic_data, 'estat:relatedStatisticData','', 'POST')"
   ]
  },
  {
   "cell_type": "code",
   "execution_count": 28,
   "metadata": {},
   "outputs": [],
   "source": [
    "insert_dat_article_core_data(ESTAT_V1_dat_background_article_core_data, '','', 'POST')"
   ]
  },
  {
   "cell_type": "markdown",
   "metadata": {},
   "source": [
    "### See added statements "
   ]
  },
  {
   "cell_type": "code",
   "execution_count": 31,
   "metadata": {},
   "outputs": [
    {
     "name": "stdout",
     "output_type": "stream",
     "text": [
      "1487\n"
     ]
    }
   ],
   "source": [
    "\n",
    "SelectStatements = \"\"\"\n",
    "PREFIX estat: <https://nlp4statref/knowledge/ontology/> \n",
    "PREFIX dct: <http://purl.org/dc/terms/>\n",
    "SELECT * FROM <https://nlp4statref/knowledge/ontology/>\n",
    "WHERE { estat:1487 ?s ?o\n",
    "\n",
    "}\n",
    "\"\"\"\n",
    "\n",
    "#statements_df = sparql_dataframe.get(endpoint, SelectStatements)\n",
    "#print(statements_df.shape)\n",
    "#print(statements_df.tail())\n",
    "\n",
    "sparql.setQuery(SelectStatements)\n",
    "sparql.method = \"POST\"\n",
    "sparql.setReturnFormat(JSON)\n",
    "results = sparql.query().convert()['results']['bindings']\n",
    "results = pd.json_normalize(results)\n",
    "print(results['o.value'].values[0])"
   ]
  },
  {
   "cell_type": "code",
   "execution_count": 32,
   "metadata": {},
   "outputs": [
    {
     "data": {
      "text/html": [
       "<div>\n",
       "<style scoped>\n",
       "    .dataframe tbody tr th:only-of-type {\n",
       "        vertical-align: middle;\n",
       "    }\n",
       "\n",
       "    .dataframe tbody tr th {\n",
       "        vertical-align: top;\n",
       "    }\n",
       "\n",
       "    .dataframe thead th {\n",
       "        text-align: right;\n",
       "    }\n",
       "</style>\n",
       "<table border=\"1\" class=\"dataframe\">\n",
       "  <thead>\n",
       "    <tr style=\"text-align: right;\">\n",
       "      <th></th>\n",
       "      <th>s.type</th>\n",
       "      <th>s.value</th>\n",
       "      <th>o.type</th>\n",
       "      <th>o.value</th>\n",
       "    </tr>\n",
       "  </thead>\n",
       "  <tbody>\n",
       "    <tr>\n",
       "      <th>0</th>\n",
       "      <td>uri</td>\n",
       "      <td>http://www.w3.org/1999/02/22-rdf-syntax-ns#about</td>\n",
       "      <td>literal</td>\n",
       "      <td>1487</td>\n",
       "    </tr>\n",
       "    <tr>\n",
       "      <th>1</th>\n",
       "      <td>uri</td>\n",
       "      <td>http://purl.org/dc/terms/source</td>\n",
       "      <td>literal</td>\n",
       "      <td>https://ec.europa.eu/eurostat/statistics-expla...</td>\n",
       "    </tr>\n",
       "    <tr>\n",
       "      <th>2</th>\n",
       "      <td>uri</td>\n",
       "      <td>http://purl.org/dc/terms/title</td>\n",
       "      <td>literal</td>\n",
       "      <td>Acquisition of citizenship statistics</td>\n",
       "    </tr>\n",
       "    <tr>\n",
       "      <th>3</th>\n",
       "      <td>uri</td>\n",
       "      <td>http://purl.org/dc/terms/type</td>\n",
       "      <td>literal</td>\n",
       "      <td>Other</td>\n",
       "    </tr>\n",
       "    <tr>\n",
       "      <th>4</th>\n",
       "      <td>uri</td>\n",
       "      <td>https://nlp4statref/knowledge/ontology/resourc...</td>\n",
       "      <td>literal</td>\n",
       "      <td>https://nlp4statref/knowledge/resource/authori...</td>\n",
       "    </tr>\n",
       "  </tbody>\n",
       "</table>\n",
       "</div>"
      ],
      "text/plain": [
       "  s.type                                            s.value   o.type  \\\n",
       "0    uri   http://www.w3.org/1999/02/22-rdf-syntax-ns#about  literal   \n",
       "1    uri                    http://purl.org/dc/terms/source  literal   \n",
       "2    uri                     http://purl.org/dc/terms/title  literal   \n",
       "3    uri                      http://purl.org/dc/terms/type  literal   \n",
       "4    uri  https://nlp4statref/knowledge/ontology/resourc...  literal   \n",
       "\n",
       "                                             o.value  \n",
       "0                                               1487  \n",
       "1  https://ec.europa.eu/eurostat/statistics-expla...  \n",
       "2              Acquisition of citizenship statistics  \n",
       "3                                              Other  \n",
       "4  https://nlp4statref/knowledge/resource/authori...  "
      ]
     },
     "execution_count": 32,
     "metadata": {},
     "output_type": "execute_result"
    }
   ],
   "source": [
    "results = sparql.query().convert()['results']['bindings']\n",
    "results = pd.json_normalize(results)\n",
    "results"
   ]
  },
  {
   "cell_type": "code",
   "execution_count": null,
   "metadata": {},
   "outputs": [],
   "source": []
  }
 ],
 "metadata": {
  "kernelspec": {
   "display_name": "Python 3",
   "language": "python",
   "name": "python3"
  },
  "language_info": {
   "codemirror_mode": {
    "name": "ipython",
    "version": 3
   },
   "file_extension": ".py",
   "mimetype": "text/x-python",
   "name": "python",
   "nbconvert_exporter": "python",
   "pygments_lexer": "ipython3",
   "version": "3.8.3"
  }
 },
 "nbformat": 4,
 "nbformat_minor": 4
}
