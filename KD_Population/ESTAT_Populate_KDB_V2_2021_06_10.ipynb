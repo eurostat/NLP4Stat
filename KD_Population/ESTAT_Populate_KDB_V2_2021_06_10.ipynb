{
 "cells": [
  {
   "cell_type": "markdown",
   "metadata": {},
   "source": [
    "# Population of the Knowledge DB - V2 #"
   ]
  },
  {
   "cell_type": "markdown",
   "metadata": {},
   "source": [
    "### Load libraries and connect to Virtuoso"
   ]
  },
  {
   "cell_type": "code",
   "execution_count": 1,
   "metadata": {},
   "outputs": [],
   "source": [
    "import os \n",
    "import re\n",
    "import logging\n",
    "import sys\n",
    "import pyodbc\n",
    "import hashlib\n",
    "import pandas as pd\n",
    "from datetime import datetime\n",
    "from SPARQLWrapper import SPARQLWrapper, POST, DIGEST, GET\n",
    "from SPARQLWrapper import JSON, INSERT, DELETE\n",
    "import sparql_dataframe"
   ]
  },
  {
   "cell_type": "code",
   "execution_count": 2,
   "metadata": {},
   "outputs": [],
   "source": [
    "def connect_db(DSN, DBA, UID, PWD):\n",
    "\n",
    "    connection = pyodbc.connect('DSN={};DBA={};UID={};PWD={}'.format(DSN, \n",
    "                                                                     DBA,\n",
    "                                                                     UID,\n",
    "                                                                     PWD))\n",
    "    cursor = connection.cursor()\n",
    "\n",
    "    return connection, cursor\n",
    "\n",
    "\n",
    "def connect_virtuoso(DSN, UID, PWD):\n",
    "\n",
    "    sparql = SPARQLWrapper(DSN)\n",
    "    sparql.setHTTPAuth(DIGEST)\n",
    "    sparql.setCredentials(UID, PWD)\n",
    "    sparql.setMethod(GET)\n",
    "\n",
    "    return sparql\n"
   ]
  },
  {
   "cell_type": "markdown",
   "metadata": {},
   "source": [
    "Replace the values with your own logins :"
   ]
  },
  {
   "cell_type": "code",
   "execution_count": null,
   "metadata": {},
   "outputs": [],
   "source": [
    "user = \"XXX\"\n",
    "login = \"XXXX\""
   ]
  },
  {
   "cell_type": "code",
   "execution_count": 3,
   "metadata": {},
   "outputs": [],
   "source": [
    "# Connection to CDB \n",
    "connection, cursor = connect_db('Virtuoso All', \n",
    "                                'ESTAT', \n",
    "                                user, \n",
    "                                login)\n",
    "\n",
    "\n",
    "# Connection to the KDB \n",
    "endpoint = \"http://virtuoso-test.kapcode.fr:8890/sparql/\"\n",
    "sparql = connect_virtuoso(endpoint, \n",
    "                          user, \n",
    "                          login)\n"
   ]
  },
  {
   "cell_type": "markdown",
   "metadata": {},
   "source": [
    "### Define content selection functions"
   ]
  },
  {
   "cell_type": "code",
   "execution_count": 4,
   "metadata": {},
   "outputs": [],
   "source": [
    "def select_query(columns, table, conditions=None): \n",
    "\n",
    "    if conditions:\n",
    "\n",
    "        query = \"\"\"\n",
    "            SELECT {}\n",
    "            FROM {}\n",
    "            WHERE {}\n",
    "\n",
    "        \"\"\".format(columns, table, conditions)\n",
    "\n",
    "    else:\n",
    "\n",
    "        query = \"\"\"\n",
    "\n",
    "        SELECT {}\n",
    "        FROM {}\n",
    "        \"\"\".format(columns, table)\n",
    "\n",
    "    return query"
   ]
  },
  {
   "cell_type": "markdown",
   "metadata": {},
   "source": [
    "#### Get all tables name from the CDB "
   ]
  },
  {
   "cell_type": "code",
   "execution_count": 5,
   "metadata": {},
   "outputs": [
    {
     "data": {
      "text/plain": [
       "0                  dat_article\n",
       "1        dat_article_paragraph\n",
       "2      dat_article_shared_link\n",
       "3             dat_further_info\n",
       "4                 dat_glossary\n",
       "5                dat_link_info\n",
       "6                  dat_link_tm\n",
       "7         dat_paragraph_figure\n",
       "8             dat_redirections\n",
       "9         dat_related_concepts\n",
       "10                 dat_sources\n",
       "11        dat_statistical_data\n",
       "12              dat_tm_results\n",
       "13        dat_tm_results_words\n",
       "14        mod_article_division\n",
       "15    mod_resource_information\n",
       "16           mod_resource_type\n",
       "17            mod_topic_models\n",
       "18                 tm_articles\n",
       "19                    tm_terms\n",
       "20                   tm_topics\n",
       "21                   tm_values\n",
       "Name: TABLE_NAME, dtype: object"
      ]
     },
     "execution_count": 5,
     "metadata": {},
     "output_type": "execute_result"
    }
   ],
   "source": [
    "ESTAT_V1_tables_names = pd.read_sql(select_query('*',\n",
    "                                          'ESTAT.information_schema.tables', \n",
    "                                          ''), \n",
    "                             connection)\n",
    "ESTAT_V1_tables_names['TABLE_NAME']"
   ]
  },
  {
   "cell_type": "markdown",
   "metadata": {},
   "source": [
    "##### Load the Link info table "
   ]
  },
  {
   "cell_type": "code",
   "execution_count": 6,
   "metadata": {},
   "outputs": [
    {
     "name": "stdout",
     "output_type": "stream",
     "text": [
      "(7027, 5)\n"
     ]
    },
    {
     "data": {
      "text/html": [
       "<div>\n",
       "<style scoped>\n",
       "    .dataframe tbody tr th:only-of-type {\n",
       "        vertical-align: middle;\n",
       "    }\n",
       "\n",
       "    .dataframe tbody tr th {\n",
       "        vertical-align: top;\n",
       "    }\n",
       "\n",
       "    .dataframe thead th {\n",
       "        text-align: right;\n",
       "    }\n",
       "</style>\n",
       "<table border=\"1\" class=\"dataframe\">\n",
       "  <thead>\n",
       "    <tr style=\"text-align: right;\">\n",
       "      <th></th>\n",
       "      <th>id</th>\n",
       "      <th>title</th>\n",
       "      <th>url</th>\n",
       "      <th>resource_information_id</th>\n",
       "      <th>resource_type_id</th>\n",
       "    </tr>\n",
       "  </thead>\n",
       "  <tbody>\n",
       "    <tr>\n",
       "      <th>0</th>\n",
       "      <td>1</td>\n",
       "      <td>Absences from work - quarterly statist...</td>\n",
       "      <td>https://ec.europa.eu/eurostat/statistics-expla...</td>\n",
       "      <td>1</td>\n",
       "      <td>None</td>\n",
       "    </tr>\n",
       "    <tr>\n",
       "      <th>1</th>\n",
       "      <td>2</td>\n",
       "      <td>Figure 1: Absences from work in the EU, Q1 20...</td>\n",
       "      <td>https://ec.europa.eu/eurostat/databrowser/view...</td>\n",
       "      <td>1</td>\n",
       "      <td>None</td>\n",
       "    </tr>\n",
       "    <tr>\n",
       "      <th>2</th>\n",
       "      <td>3</td>\n",
       "      <td>Figure 4: Absences from work, Q4 2019 - Q4 20...</td>\n",
       "      <td>https://ec.europa.eu/eurostat/databrowser/view...</td>\n",
       "      <td>1</td>\n",
       "      <td>None</td>\n",
       "    </tr>\n",
       "    <tr>\n",
       "      <th>3</th>\n",
       "      <td>4</td>\n",
       "      <td>All articles on the labour market</td>\n",
       "      <td>/eurostat/statistics-explained/index.php?title...</td>\n",
       "      <td>1</td>\n",
       "      <td>None</td>\n",
       "    </tr>\n",
       "    <tr>\n",
       "      <th>4</th>\n",
       "      <td>5</td>\n",
       "      <td>EU labour force survey</td>\n",
       "      <td>/eurostat/statistics-explained/index.php?title...</td>\n",
       "      <td>1</td>\n",
       "      <td>None</td>\n",
       "    </tr>\n",
       "  </tbody>\n",
       "</table>\n",
       "</div>"
      ],
      "text/plain": [
       "   id                                              title  \\\n",
       "0   1          Absences from work - quarterly statist...   \n",
       "1   2   Figure 1: Absences from work in the EU, Q1 20...   \n",
       "2   3   Figure 4: Absences from work, Q4 2019 - Q4 20...   \n",
       "3   4                  All articles on the labour market   \n",
       "4   5                             EU labour force survey   \n",
       "\n",
       "                                                 url  resource_information_id  \\\n",
       "0  https://ec.europa.eu/eurostat/statistics-expla...                        1   \n",
       "1  https://ec.europa.eu/eurostat/databrowser/view...                        1   \n",
       "2  https://ec.europa.eu/eurostat/databrowser/view...                        1   \n",
       "3  /eurostat/statistics-explained/index.php?title...                        1   \n",
       "4  /eurostat/statistics-explained/index.php?title...                        1   \n",
       "\n",
       "  resource_type_id  \n",
       "0             None  \n",
       "1             None  \n",
       "2             None  \n",
       "3             None  \n",
       "4             None  "
      ]
     },
     "execution_count": 6,
     "metadata": {},
     "output_type": "execute_result"
    }
   ],
   "source": [
    "ESTAT_V1_dat_link_info = pd.read_sql(select_query('*',\n",
    "                                          'ESTAT.V1.dat_link_info', \n",
    "                                          ''), \n",
    "                             connection)\n",
    "\n",
    "print(ESTAT_V1_dat_link_info.shape)\n",
    "ESTAT_V1_dat_link_info.head()"
   ]
  },
  {
   "cell_type": "markdown",
   "metadata": {},
   "source": [
    "##### Load Glossary related tables"
   ]
  },
  {
   "cell_type": "code",
   "execution_count": 7,
   "metadata": {},
   "outputs": [],
   "source": [
    "ESTAT_V1_dat_glossary = pd.read_sql(select_query('*',\n",
    "                                          'ESTAT.V1.dat_glossary', \n",
    "                                          ''), \n",
    "                             connection)\n",
    "ESTAT_V1_dat_further_info = pd.read_sql(select_query('*',\n",
    "                                          \"ESTAT.V1.dat_further_info\", \n",
    "                                          ''), \n",
    "                             connection)\n",
    "ESTAT_V1_dat_related_concepts = pd.read_sql(select_query('*',\n",
    "                                          \"ESTAT.V1.dat_related_concepts\", \n",
    "                                          ''), \n",
    "                             connection)\n",
    "ESTAT_V1_dat_sources = pd.read_sql(select_query('*',\n",
    "                                          \"ESTAT.V1.dat_sources\", \n",
    "                                          ''), \n",
    "                             connection)\n",
    "ESTAT_V1_dat_statistical_data = pd.read_sql(select_query('*',\n",
    "                                          \"ESTAT.V1.dat_statistical_data\", \n",
    "                                          ''), \n",
    "                             connection)\n"
   ]
  },
  {
   "cell_type": "code",
   "execution_count": 8,
   "metadata": {},
   "outputs": [
    {
     "data": {
      "text/html": [
       "<div>\n",
       "<style scoped>\n",
       "    .dataframe tbody tr th:only-of-type {\n",
       "        vertical-align: middle;\n",
       "    }\n",
       "\n",
       "    .dataframe tbody tr th {\n",
       "        vertical-align: top;\n",
       "    }\n",
       "\n",
       "    .dataframe thead th {\n",
       "        text-align: right;\n",
       "    }\n",
       "</style>\n",
       "<table border=\"1\" class=\"dataframe\">\n",
       "  <thead>\n",
       "    <tr style=\"text-align: right;\">\n",
       "      <th></th>\n",
       "      <th>id</th>\n",
       "      <th>definition</th>\n",
       "      <th>redirection</th>\n",
       "      <th>original_title</th>\n",
       "      <th>homepage</th>\n",
       "      <th>last_update</th>\n",
       "    </tr>\n",
       "  </thead>\n",
       "  <tbody>\n",
       "    <tr>\n",
       "      <th>0</th>\n",
       "      <td>5006</td>\n",
       "      <td>An     access point    , in postal statistic...</td>\n",
       "      <td>0</td>\n",
       "      <td>None</td>\n",
       "      <td>0</td>\n",
       "      <td>2018-05-17 13:17:00</td>\n",
       "    </tr>\n",
       "    <tr>\n",
       "      <th>1</th>\n",
       "      <td>5007</td>\n",
       "      <td>A     letter box    is a facility provided f...</td>\n",
       "      <td>0</td>\n",
       "      <td>None</td>\n",
       "      <td>0</td>\n",
       "      <td>2018-05-17 13:39:00</td>\n",
       "    </tr>\n",
       "    <tr>\n",
       "      <th>2</th>\n",
       "      <td>5008</td>\n",
       "      <td>A     place at which only stamps can be boug...</td>\n",
       "      <td>0</td>\n",
       "      <td>None</td>\n",
       "      <td>0</td>\n",
       "      <td>2018-05-17 13:49:00</td>\n",
       "    </tr>\n",
       "    <tr>\n",
       "      <th>3</th>\n",
       "      <td>5009</td>\n",
       "      <td>A     Post office    , Post agency     or Po...</td>\n",
       "      <td>0</td>\n",
       "      <td>None</td>\n",
       "      <td>0</td>\n",
       "      <td>2018-05-17 13:50:00</td>\n",
       "    </tr>\n",
       "    <tr>\n",
       "      <th>4</th>\n",
       "      <td>5010</td>\n",
       "      <td>A     post office box    (P.O. box) is a fac...</td>\n",
       "      <td>0</td>\n",
       "      <td>None</td>\n",
       "      <td>0</td>\n",
       "      <td>2018-05-17 13:52:00</td>\n",
       "    </tr>\n",
       "  </tbody>\n",
       "</table>\n",
       "</div>"
      ],
      "text/plain": [
       "     id                                         definition  redirection  \\\n",
       "0  5006    An     access point    , in postal statistic...            0   \n",
       "1  5007    A     letter box    is a facility provided f...            0   \n",
       "2  5008    A     place at which only stamps can be boug...            0   \n",
       "3  5009    A     Post office    , Post agency     or Po...            0   \n",
       "4  5010    A     post office box    (P.O. box) is a fac...            0   \n",
       "\n",
       "  original_title  homepage         last_update  \n",
       "0           None         0 2018-05-17 13:17:00  \n",
       "1           None         0 2018-05-17 13:39:00  \n",
       "2           None         0 2018-05-17 13:49:00  \n",
       "3           None         0 2018-05-17 13:50:00  \n",
       "4           None         0 2018-05-17 13:52:00  "
      ]
     },
     "execution_count": 8,
     "metadata": {},
     "output_type": "execute_result"
    }
   ],
   "source": [
    "ESTAT_V1_dat_glossary.head()"
   ]
  },
  {
   "cell_type": "markdown",
   "metadata": {},
   "source": [
    "##### Load Statistical Articles related tables"
   ]
  },
  {
   "cell_type": "code",
   "execution_count": 10,
   "metadata": {},
   "outputs": [],
   "source": [
    "ESTAT_V1_dat_article = pd.read_sql(select_query('*',\n",
    "                                          'ESTAT.V1.dat_article', \n",
    "                                          ''), \n",
    "                             connection)\n",
    "ESTAT_V1_dat_article_paragraph = pd.read_sql(select_query('*',\n",
    "                                          'ESTAT.V1.dat_article_paragraph', \n",
    "                                          ''), \n",
    "                             connection)\n",
    "\n",
    "ESTAT_V1_dat_paragraph_figure = pd.read_sql(select_query('*',\n",
    "                                          'ESTAT.V1.dat_paragraph_figure', \n",
    "                                          ''), \n",
    "                             connection)\n",
    "ESTAT_V1_dat_article_shared_link = pd.read_sql(select_query('*',\n",
    "                                          'ESTAT.V1.dat_article_shared_link', \n",
    "                                          ''), \n",
    "                             connection)\n",
    "ESTAT_V1_dat_article_paragraph = pd.read_sql(select_query('*',\n",
    "                                          'ESTAT.V1.dat_article_paragraph', \n",
    "                                          ''), \n",
    "                             connection)\n",
    "ESTAT_V1_mod_article_division = pd.read_sql(select_query('*',\n",
    "                                          'ESTAT.V1.mod_article_division', \n",
    "                                          ''), \n",
    "                             connection)"
   ]
  },
  {
   "cell_type": "code",
   "execution_count": 11,
   "metadata": {},
   "outputs": [
    {
     "data": {
      "text/html": [
       "<div>\n",
       "<style scoped>\n",
       "    .dataframe tbody tr th:only-of-type {\n",
       "        vertical-align: middle;\n",
       "    }\n",
       "\n",
       "    .dataframe tbody tr th {\n",
       "        vertical-align: top;\n",
       "    }\n",
       "\n",
       "    .dataframe thead th {\n",
       "        text-align: right;\n",
       "    }\n",
       "</style>\n",
       "<table border=\"1\" class=\"dataframe\">\n",
       "  <thead>\n",
       "    <tr style=\"text-align: right;\">\n",
       "      <th></th>\n",
       "      <th>id</th>\n",
       "      <th>context</th>\n",
       "      <th>data_sources</th>\n",
       "      <th>last_update</th>\n",
       "      <th>background_article</th>\n",
       "      <th>homepage</th>\n",
       "    </tr>\n",
       "  </thead>\n",
       "  <tbody>\n",
       "    <tr>\n",
       "      <th>0</th>\n",
       "      <td>1</td>\n",
       "      <td>The COVID-19 pandemic hit Europe in January an...</td>\n",
       "      <td>All figures in this article are based on  seas...</td>\n",
       "      <td>2021-04-14 16:09:00</td>\n",
       "      <td>0</td>\n",
       "      <td>0</td>\n",
       "    </tr>\n",
       "    <tr>\n",
       "      <th>1</th>\n",
       "      <td>10</td>\n",
       "      <td>The importance of action to prevent accidents ...</td>\n",
       "      <td>An in-patient is a patient who is formally adm...</td>\n",
       "      <td>2020-09-16 14:36:00</td>\n",
       "      <td>0</td>\n",
       "      <td>0</td>\n",
       "    </tr>\n",
       "    <tr>\n",
       "      <th>2</th>\n",
       "      <td>39</td>\n",
       "      <td>A safe, healthy working environment is a cruci...</td>\n",
       "      <td>In December 2008, the  European Parliament  an...</td>\n",
       "      <td>2020-11-26 16:06:00</td>\n",
       "      <td>0</td>\n",
       "      <td>0</td>\n",
       "    </tr>\n",
       "    <tr>\n",
       "      <th>3</th>\n",
       "      <td>50</td>\n",
       "      <td>A safe, healthy working environment is a cruci...</td>\n",
       "      <td>In December 2008, the  European Parliament  an...</td>\n",
       "      <td>2020-12-07 17:31:00</td>\n",
       "      <td>0</td>\n",
       "      <td>0</td>\n",
       "    </tr>\n",
       "    <tr>\n",
       "      <th>4</th>\n",
       "      <td>56</td>\n",
       "      <td>Trade is an important indicator of Europeâs ...</td>\n",
       "      <td>EU data is taken from  Eurostat's   COMEXT  da...</td>\n",
       "      <td>2021-04-29 10:45:00</td>\n",
       "      <td>0</td>\n",
       "      <td>0</td>\n",
       "    </tr>\n",
       "  </tbody>\n",
       "</table>\n",
       "</div>"
      ],
      "text/plain": [
       "   id                                            context  \\\n",
       "0   1  The COVID-19 pandemic hit Europe in January an...   \n",
       "1  10  The importance of action to prevent accidents ...   \n",
       "2  39  A safe, healthy working environment is a cruci...   \n",
       "3  50  A safe, healthy working environment is a cruci...   \n",
       "4  56  Trade is an important indicator of Europeâs ...   \n",
       "\n",
       "                                        data_sources         last_update  \\\n",
       "0  All figures in this article are based on  seas... 2021-04-14 16:09:00   \n",
       "1  An in-patient is a patient who is formally adm... 2020-09-16 14:36:00   \n",
       "2  In December 2008, the  European Parliament  an... 2020-11-26 16:06:00   \n",
       "3  In December 2008, the  European Parliament  an... 2020-12-07 17:31:00   \n",
       "4  EU data is taken from  Eurostat's   COMEXT  da... 2021-04-29 10:45:00   \n",
       "\n",
       "   background_article  homepage  \n",
       "0                   0         0  \n",
       "1                   0         0  \n",
       "2                   0         0  \n",
       "3                   0         0  \n",
       "4                   0         0  "
      ]
     },
     "execution_count": 11,
     "metadata": {},
     "output_type": "execute_result"
    }
   ],
   "source": [
    "ESTAT_V1_dat_article.head()"
   ]
  },
  {
   "cell_type": "markdown",
   "metadata": {},
   "source": [
    "### Populate the KDB"
   ]
  },
  {
   "cell_type": "markdown",
   "metadata": {},
   "source": [
    "##### 1 - Insertion of URLs into the KDB"
   ]
  },
  {
   "cell_type": "markdown",
   "metadata": {},
   "source": [
    "Add links and the basic metadata"
   ]
  },
  {
   "cell_type": "code",
   "execution_count": 11,
   "metadata": {},
   "outputs": [],
   "source": [
    "#a checker pour voir si tout est bien ajouté avec la bonne relation \n",
    "def insert_link_info(DB, method):  # works for eurostat links, foreign links\n",
    "\n",
    "    for i, row in DB.iterrows():\n",
    "        id_ = row[0]\n",
    "        title_ = row[1]\n",
    "        title_ = title_.replace(\"'\",\"\").strip()\n",
    "        url_ = row[2]\n",
    "        resource_info_id_ = row[3]\n",
    "        resource_type_id_ = row[4]\n",
    "        \n",
    "        query_insert_P = \"\"\"\n",
    "\n",
    "        PREFIX rdf: <http://www.w3.org/1999/02/22-rdf-syntax-ns#> \n",
    "        PREFIX estat: <https://nlp4statref/knowledge/ontology/> \n",
    "        PREFIX dct: <http://purl.org/dc/terms/>\n",
    "\n",
    "        INSERT { GRAPH <https://nlp4statref/knowledge/ontology/> { \n",
    "\n",
    "           estat:\"\"\" + str(id_) + \"\"\" rdf:about '\"\"\" + str(id_) + \"\"\"'.\n",
    "           estat:\"\"\" + str(id_) + \"\"\" dct:source '\"\"\" + str(url_) + \"\"\"'. \n",
    "           estat:\"\"\" + str(id_) + \"\"\" dct:title '\"\"\" + str(title_) + \"\"\"'. \n",
    "           estat:\"\"\" + str(id_) + \"\"\" estat:resourceInformation '\"\"\" + str(resource_info_id_) + \"\"\"'. \n",
    "           estat:\"\"\" + str(id_) + \"\"\" dct:type '\"\"\" + str(resource_type_id_) + \"\"\"'. \n",
    "\n",
    "        } }\n",
    "        ;\n",
    "        \"\"\"\n",
    "\n",
    "        sparql.setQuery(query_insert_P)\n",
    "        sparql.method = method\n",
    "        sparql.setReturnFormat(JSON)\n",
    "        results = sparql.query().response.read()\n"
   ]
  },
  {
   "cell_type": "code",
   "execution_count": 15,
   "metadata": {},
   "outputs": [],
   "source": [
    "insert_link_info(ESTAT_V1_dat_link_info, \"POST\")"
   ]
  },
  {
   "cell_type": "markdown",
   "metadata": {},
   "source": [
    "###  2 - Insertion of Glossary elements into the KDB. "
   ]
  },
  {
   "cell_type": "markdown",
   "metadata": {},
   "source": [
    "For those elements, specific relations based on their metadata are added, then we add relations with others links contained in the tables associated to the concepts elements. Some info are already added through the link info table, so they should not be added anew."
   ]
  },
  {
   "cell_type": "code",
   "execution_count": 14,
   "metadata": {},
   "outputs": [],
   "source": [
    "def insert_glossary_elements(DB, classe, link_info_table, method): \n",
    "\n",
    "    threshold = len(DB.columns)\n",
    "    if threshold > 3 :  # concept table\n",
    "\n",
    "        for i, row in DB.iterrows():\n",
    "\n",
    "            id_ = row[0]\n",
    "            def_ = row[1]\n",
    "            def_ = def_.replace(\"'\",\"\").strip()\n",
    "            redirection_ = row[2] #add a condition on altlabel on that ?\n",
    "            original_title_ = row[3]\n",
    "            last_update_ = row[5]\n",
    "            \n",
    "            # Get info from the eurostat_links\n",
    "            title_ = link_info_table[link_info_table['id'] == id_].title.item()\n",
    "            title_ = title_.replace(\"'\",\"\").strip()\n",
    "            # Construct the query \n",
    "            query = \"\"\"\n",
    "\n",
    "                PREFIX estat: <https://nlp4statref/knowledge/ontology/> \n",
    "                PREFIX skos: <http://www.w3.org/2004/02/skos/core#>\n",
    "                PREFIX dct: <http://purl.org/dc/terms/>\n",
    "                \n",
    "                INSERT { GRAPH <https://nlp4statref/knowledge/ontology/> { \n",
    "\n",
    "                   estat:\"\"\" + str(id_) + \"\"\" skos:Concept '\"\"\" + str(id_) + \"\"\"'.\n",
    "                   estat:\"\"\" + str(id_) + \"\"\" skos:definition '\"\"\" + str(def_) + \"\"\"'. \n",
    "                   estat:\"\"\" + str(id_) + \"\"\" dct:modified '\"\"\" + str(last_update_) + \"\"\"'. \n",
    "                   estat:\"\"\" + str(id_) + \"\"\" skos:altLabel '\"\"\" + str(original_title_) + \"\"\"'. \n",
    "                   estat:\"\"\" + str(id_) + \"\"\" skos:prefLabel '\"\"\" + str(title_) + \"\"\"'.                    \n",
    "                   \n",
    "        } }\n",
    "        ;\n",
    "                \"\"\"\n",
    "\n",
    "            sparql.setQuery(query)\n",
    "            sparql.method = method\n",
    "            sparql.setReturnFormat(JSON)\n",
    "            results = sparql.query().response.read()\n",
    "            \n",
    "\n",
    "    elif threshold == 3:  # links, related concept, statistical data and source\n",
    "\n",
    "        for i, row in DB.iterrows():\n",
    "\n",
    "            id_ = row[0]\n",
    "            concept_id_ = row[1]\n",
    "            link_id_ = row[2]\n",
    "\n",
    "            # Construct the query \n",
    "            query = \"\"\"\n",
    "\n",
    "                PREFIX estat: <https://nlp4statref/knowledge/ontology/> \n",
    "                PREFIX skos: <http://www.w3.org/2004/02/skos/core#>\n",
    "\n",
    "                INSERT { GRAPH <https://nlp4statref/knowledge/ontology/> { \n",
    "\n",
    "                   estat:\"\"\" + str(concept_id_) + ' ' + classe + \"\"\" '\"\"\" + str(link_id_) + \"\"\"'. \n",
    "\n",
    "                } }\n",
    "                ;\n",
    "            \"\"\"\n",
    "            sparql.setQuery(query)\n",
    "            sparql.method = method\n",
    "            sparql.setReturnFormat(JSON)\n",
    "            results = sparql.query().response.read()\n",
    "    \n"
   ]
  },
  {
   "cell_type": "code",
   "execution_count": 15,
   "metadata": {},
   "outputs": [
    {
     "ename": "QueryBadFormed",
     "evalue": "QueryBadFormed: a bad request has been sent to the endpoint, probably the sparql query is bad formed. \n\nResponse:\nb\"Virtuoso 37000 Error SP030: SPARQL compiler, line 0: Bad escape sequence in a short single-quoted string at ''An activity is classified as knowledge intensive if employed tertiary educated persons (according to     ISCED    97 levels 5+6, according to ISCED 2011 levels 5 to 8) represent more than 33 % of the total employment in that activity. The definition is built based on the average number of employed persons aged 15-64 at aggregated EU-27 level according to     NACE    at 2-digit, using EU     Labour Force Survey    data     [1]     The KIA employment indicator was developed to offer an average, harmonised across all the sectors, to compare economies in regard to their knowledge intensity.    The total employment ratio is calculated on the population aged 15-64 according to the following formula:             [math]\\\\frac{Number\\\\'\\n\\nSPARQL query:\\ndefine sql:big-data-const 0 \\n\\n                PREFIX estat: <https://nlp4statref/knowledge/ontology/> \\n                PREFIX skos: <http://www.w3.org/2004/02/skos/core#>\\n                PREFIX dct: <http://purl.org/dc/terms/>\\n                \\n                INSERT { GRAPH <https://nlp4statref/knowledge/ontology/> { \\n\\n                   estat:6453 skos:Concept '6453'.\\n                   estat:6453 skos:definition 'An activity is classified as knowledge intensive if employed tertiary educated persons (according to     ISCED    97 levels 5+6, according to ISCED 2011 levels 5 to 8) represent more than 33 % of the total employment in that activity. The definition is built based on the average number of employed persons aged 15-64 at aggregated EU-27 level according to     NACE    at 2-digit, using EU     Labour Force Survey    data     [1]     The KIA employment indicator was developed to offer an average, harmonised across all the sectors, to compare economies in regard to their knowledge intensity.    The total employment ratio is calculated on the population aged 15-64 according to the following formula:             [math]\\\\frac{Number\\\\ of\\\\ persons\\\\ employed\\\\ in\\\\ sectors\\\\ identified\\\\ as\\\\ knowledge\\\\ intensive}{Total\\\\ number\\\\ of\\\\ persons\\\\ employed}[/math]             There are two aggregates in use based on this classification: total Knowledge Intensive Activities (KIA) and Knowledge Intensive Activities \\xc3\\xa2\\xc2\\x80\\xc2\\x93 Business Industries (KIABI).'. \\n                   estat:6453 dct:modified '2020-02-03 17:07:00'. \\n                   estat:6453 skos:altLabel 'None'. \\n                   estat:6453 skos:prefLabel 'Knowledge Intensive Activity (KIA)'.                    \\n                   \\n        } }\\n        ;\\n                \"",
     "output_type": "error",
     "traceback": [
      "\u001b[1;31m---------------------------------------------------------------------------\u001b[0m",
      "\u001b[1;31mHTTPError\u001b[0m                                 Traceback (most recent call last)",
      "\u001b[1;32mC:\\ProgramData\\Anaconda3\\lib\\site-packages\\SPARQLWrapper\\Wrapper.py\u001b[0m in \u001b[0;36m_query\u001b[1;34m(self)\u001b[0m\n\u001b[0;32m   1072\u001b[0m             \u001b[1;32melse\u001b[0m\u001b[1;33m:\u001b[0m\u001b[1;33m\u001b[0m\u001b[1;33m\u001b[0m\u001b[0m\n\u001b[1;32m-> 1073\u001b[1;33m                 \u001b[0mresponse\u001b[0m \u001b[1;33m=\u001b[0m \u001b[0murlopener\u001b[0m\u001b[1;33m(\u001b[0m\u001b[0mrequest\u001b[0m\u001b[1;33m)\u001b[0m\u001b[1;33m\u001b[0m\u001b[1;33m\u001b[0m\u001b[0m\n\u001b[0m\u001b[0;32m   1074\u001b[0m             \u001b[1;32mreturn\u001b[0m \u001b[0mresponse\u001b[0m\u001b[1;33m,\u001b[0m \u001b[0mself\u001b[0m\u001b[1;33m.\u001b[0m\u001b[0mreturnFormat\u001b[0m\u001b[1;33m\u001b[0m\u001b[1;33m\u001b[0m\u001b[0m\n",
      "\u001b[1;32mC:\\ProgramData\\Anaconda3\\lib\\urllib\\request.py\u001b[0m in \u001b[0;36murlopen\u001b[1;34m(url, data, timeout, cafile, capath, cadefault, context)\u001b[0m\n\u001b[0;32m    221\u001b[0m         \u001b[0mopener\u001b[0m \u001b[1;33m=\u001b[0m \u001b[0m_opener\u001b[0m\u001b[1;33m\u001b[0m\u001b[1;33m\u001b[0m\u001b[0m\n\u001b[1;32m--> 222\u001b[1;33m     \u001b[1;32mreturn\u001b[0m \u001b[0mopener\u001b[0m\u001b[1;33m.\u001b[0m\u001b[0mopen\u001b[0m\u001b[1;33m(\u001b[0m\u001b[0murl\u001b[0m\u001b[1;33m,\u001b[0m \u001b[0mdata\u001b[0m\u001b[1;33m,\u001b[0m \u001b[0mtimeout\u001b[0m\u001b[1;33m)\u001b[0m\u001b[1;33m\u001b[0m\u001b[1;33m\u001b[0m\u001b[0m\n\u001b[0m\u001b[0;32m    223\u001b[0m \u001b[1;33m\u001b[0m\u001b[0m\n",
      "\u001b[1;32mC:\\ProgramData\\Anaconda3\\lib\\urllib\\request.py\u001b[0m in \u001b[0;36mopen\u001b[1;34m(self, fullurl, data, timeout)\u001b[0m\n\u001b[0;32m    530\u001b[0m             \u001b[0mmeth\u001b[0m \u001b[1;33m=\u001b[0m \u001b[0mgetattr\u001b[0m\u001b[1;33m(\u001b[0m\u001b[0mprocessor\u001b[0m\u001b[1;33m,\u001b[0m \u001b[0mmeth_name\u001b[0m\u001b[1;33m)\u001b[0m\u001b[1;33m\u001b[0m\u001b[1;33m\u001b[0m\u001b[0m\n\u001b[1;32m--> 531\u001b[1;33m             \u001b[0mresponse\u001b[0m \u001b[1;33m=\u001b[0m \u001b[0mmeth\u001b[0m\u001b[1;33m(\u001b[0m\u001b[0mreq\u001b[0m\u001b[1;33m,\u001b[0m \u001b[0mresponse\u001b[0m\u001b[1;33m)\u001b[0m\u001b[1;33m\u001b[0m\u001b[1;33m\u001b[0m\u001b[0m\n\u001b[0m\u001b[0;32m    532\u001b[0m \u001b[1;33m\u001b[0m\u001b[0m\n",
      "\u001b[1;32mC:\\ProgramData\\Anaconda3\\lib\\urllib\\request.py\u001b[0m in \u001b[0;36mhttp_response\u001b[1;34m(self, request, response)\u001b[0m\n\u001b[0;32m    639\u001b[0m         \u001b[1;32mif\u001b[0m \u001b[1;32mnot\u001b[0m \u001b[1;33m(\u001b[0m\u001b[1;36m200\u001b[0m \u001b[1;33m<=\u001b[0m \u001b[0mcode\u001b[0m \u001b[1;33m<\u001b[0m \u001b[1;36m300\u001b[0m\u001b[1;33m)\u001b[0m\u001b[1;33m:\u001b[0m\u001b[1;33m\u001b[0m\u001b[1;33m\u001b[0m\u001b[0m\n\u001b[1;32m--> 640\u001b[1;33m             response = self.parent.error(\n\u001b[0m\u001b[0;32m    641\u001b[0m                 'http', request, response, code, msg, hdrs)\n",
      "\u001b[1;32mC:\\ProgramData\\Anaconda3\\lib\\urllib\\request.py\u001b[0m in \u001b[0;36merror\u001b[1;34m(self, proto, *args)\u001b[0m\n\u001b[0;32m    568\u001b[0m             \u001b[0margs\u001b[0m \u001b[1;33m=\u001b[0m \u001b[1;33m(\u001b[0m\u001b[0mdict\u001b[0m\u001b[1;33m,\u001b[0m \u001b[1;34m'default'\u001b[0m\u001b[1;33m,\u001b[0m \u001b[1;34m'http_error_default'\u001b[0m\u001b[1;33m)\u001b[0m \u001b[1;33m+\u001b[0m \u001b[0morig_args\u001b[0m\u001b[1;33m\u001b[0m\u001b[1;33m\u001b[0m\u001b[0m\n\u001b[1;32m--> 569\u001b[1;33m             \u001b[1;32mreturn\u001b[0m \u001b[0mself\u001b[0m\u001b[1;33m.\u001b[0m\u001b[0m_call_chain\u001b[0m\u001b[1;33m(\u001b[0m\u001b[1;33m*\u001b[0m\u001b[0margs\u001b[0m\u001b[1;33m)\u001b[0m\u001b[1;33m\u001b[0m\u001b[1;33m\u001b[0m\u001b[0m\n\u001b[0m\u001b[0;32m    570\u001b[0m \u001b[1;33m\u001b[0m\u001b[0m\n",
      "\u001b[1;32mC:\\ProgramData\\Anaconda3\\lib\\urllib\\request.py\u001b[0m in \u001b[0;36m_call_chain\u001b[1;34m(self, chain, kind, meth_name, *args)\u001b[0m\n\u001b[0;32m    501\u001b[0m             \u001b[0mfunc\u001b[0m \u001b[1;33m=\u001b[0m \u001b[0mgetattr\u001b[0m\u001b[1;33m(\u001b[0m\u001b[0mhandler\u001b[0m\u001b[1;33m,\u001b[0m \u001b[0mmeth_name\u001b[0m\u001b[1;33m)\u001b[0m\u001b[1;33m\u001b[0m\u001b[1;33m\u001b[0m\u001b[0m\n\u001b[1;32m--> 502\u001b[1;33m             \u001b[0mresult\u001b[0m \u001b[1;33m=\u001b[0m \u001b[0mfunc\u001b[0m\u001b[1;33m(\u001b[0m\u001b[1;33m*\u001b[0m\u001b[0margs\u001b[0m\u001b[1;33m)\u001b[0m\u001b[1;33m\u001b[0m\u001b[1;33m\u001b[0m\u001b[0m\n\u001b[0m\u001b[0;32m    503\u001b[0m             \u001b[1;32mif\u001b[0m \u001b[0mresult\u001b[0m \u001b[1;32mis\u001b[0m \u001b[1;32mnot\u001b[0m \u001b[1;32mNone\u001b[0m\u001b[1;33m:\u001b[0m\u001b[1;33m\u001b[0m\u001b[1;33m\u001b[0m\u001b[0m\n",
      "\u001b[1;32mC:\\ProgramData\\Anaconda3\\lib\\urllib\\request.py\u001b[0m in \u001b[0;36mhttp_error_default\u001b[1;34m(self, req, fp, code, msg, hdrs)\u001b[0m\n\u001b[0;32m    648\u001b[0m     \u001b[1;32mdef\u001b[0m \u001b[0mhttp_error_default\u001b[0m\u001b[1;33m(\u001b[0m\u001b[0mself\u001b[0m\u001b[1;33m,\u001b[0m \u001b[0mreq\u001b[0m\u001b[1;33m,\u001b[0m \u001b[0mfp\u001b[0m\u001b[1;33m,\u001b[0m \u001b[0mcode\u001b[0m\u001b[1;33m,\u001b[0m \u001b[0mmsg\u001b[0m\u001b[1;33m,\u001b[0m \u001b[0mhdrs\u001b[0m\u001b[1;33m)\u001b[0m\u001b[1;33m:\u001b[0m\u001b[1;33m\u001b[0m\u001b[1;33m\u001b[0m\u001b[0m\n\u001b[1;32m--> 649\u001b[1;33m         \u001b[1;32mraise\u001b[0m \u001b[0mHTTPError\u001b[0m\u001b[1;33m(\u001b[0m\u001b[0mreq\u001b[0m\u001b[1;33m.\u001b[0m\u001b[0mfull_url\u001b[0m\u001b[1;33m,\u001b[0m \u001b[0mcode\u001b[0m\u001b[1;33m,\u001b[0m \u001b[0mmsg\u001b[0m\u001b[1;33m,\u001b[0m \u001b[0mhdrs\u001b[0m\u001b[1;33m,\u001b[0m \u001b[0mfp\u001b[0m\u001b[1;33m)\u001b[0m\u001b[1;33m\u001b[0m\u001b[1;33m\u001b[0m\u001b[0m\n\u001b[0m\u001b[0;32m    650\u001b[0m \u001b[1;33m\u001b[0m\u001b[0m\n",
      "\u001b[1;31mHTTPError\u001b[0m: HTTP Error 400: Bad Request",
      "\nDuring handling of the above exception, another exception occurred:\n",
      "\u001b[1;31mQueryBadFormed\u001b[0m                            Traceback (most recent call last)",
      "\u001b[1;32m<ipython-input-15-36864a4946dc>\u001b[0m in \u001b[0;36m<module>\u001b[1;34m\u001b[0m\n\u001b[1;32m----> 1\u001b[1;33m \u001b[0minsert_glossary_elements\u001b[0m\u001b[1;33m(\u001b[0m\u001b[0mESTAT_V1_dat_glossary\u001b[0m\u001b[1;33m,\u001b[0m \u001b[1;34m''\u001b[0m\u001b[1;33m,\u001b[0m\u001b[0mESTAT_V1_dat_link_info\u001b[0m\u001b[1;33m,\u001b[0m \u001b[1;34m\"POST\"\u001b[0m\u001b[1;33m)\u001b[0m\u001b[1;33m\u001b[0m\u001b[1;33m\u001b[0m\u001b[0m\n\u001b[0m",
      "\u001b[1;32m<ipython-input-14-b535c1b97fd0>\u001b[0m in \u001b[0;36minsert_glossary_elements\u001b[1;34m(DB, classe, link_info_table, method)\u001b[0m\n\u001b[0;32m     38\u001b[0m             \u001b[0msparql\u001b[0m\u001b[1;33m.\u001b[0m\u001b[0mmethod\u001b[0m \u001b[1;33m=\u001b[0m \u001b[0mmethod\u001b[0m\u001b[1;33m\u001b[0m\u001b[1;33m\u001b[0m\u001b[0m\n\u001b[0;32m     39\u001b[0m             \u001b[0msparql\u001b[0m\u001b[1;33m.\u001b[0m\u001b[0msetReturnFormat\u001b[0m\u001b[1;33m(\u001b[0m\u001b[0mJSON\u001b[0m\u001b[1;33m)\u001b[0m\u001b[1;33m\u001b[0m\u001b[1;33m\u001b[0m\u001b[0m\n\u001b[1;32m---> 40\u001b[1;33m             \u001b[0mresults\u001b[0m \u001b[1;33m=\u001b[0m \u001b[0msparql\u001b[0m\u001b[1;33m.\u001b[0m\u001b[0mquery\u001b[0m\u001b[1;33m(\u001b[0m\u001b[1;33m)\u001b[0m\u001b[1;33m.\u001b[0m\u001b[0mresponse\u001b[0m\u001b[1;33m.\u001b[0m\u001b[0mread\u001b[0m\u001b[1;33m(\u001b[0m\u001b[1;33m)\u001b[0m\u001b[1;33m\u001b[0m\u001b[1;33m\u001b[0m\u001b[0m\n\u001b[0m\u001b[0;32m     41\u001b[0m \u001b[1;33m\u001b[0m\u001b[0m\n\u001b[0;32m     42\u001b[0m \u001b[1;33m\u001b[0m\u001b[0m\n",
      "\u001b[1;32mC:\\ProgramData\\Anaconda3\\lib\\site-packages\\SPARQLWrapper\\Wrapper.py\u001b[0m in \u001b[0;36mquery\u001b[1;34m(self)\u001b[0m\n\u001b[0;32m   1105\u001b[0m             \u001b[1;33m:\u001b[0m\u001b[0mrtype\u001b[0m\u001b[1;33m:\u001b[0m \u001b[1;33m:\u001b[0m\u001b[1;32mclass\u001b[0m\u001b[1;33m:\u001b[0m\u001b[0;31m`\u001b[0m\u001b[0mQueryResult\u001b[0m\u001b[0;31m`\u001b[0m \u001b[0minstance\u001b[0m\u001b[1;33m\u001b[0m\u001b[1;33m\u001b[0m\u001b[0m\n\u001b[0;32m   1106\u001b[0m         \"\"\"\n\u001b[1;32m-> 1107\u001b[1;33m         \u001b[1;32mreturn\u001b[0m \u001b[0mQueryResult\u001b[0m\u001b[1;33m(\u001b[0m\u001b[0mself\u001b[0m\u001b[1;33m.\u001b[0m\u001b[0m_query\u001b[0m\u001b[1;33m(\u001b[0m\u001b[1;33m)\u001b[0m\u001b[1;33m)\u001b[0m\u001b[1;33m\u001b[0m\u001b[1;33m\u001b[0m\u001b[0m\n\u001b[0m\u001b[0;32m   1108\u001b[0m \u001b[1;33m\u001b[0m\u001b[0m\n\u001b[0;32m   1109\u001b[0m     \u001b[1;32mdef\u001b[0m \u001b[0mqueryAndConvert\u001b[0m\u001b[1;33m(\u001b[0m\u001b[0mself\u001b[0m\u001b[1;33m)\u001b[0m\u001b[1;33m:\u001b[0m\u001b[1;33m\u001b[0m\u001b[1;33m\u001b[0m\u001b[0m\n",
      "\u001b[1;32mC:\\ProgramData\\Anaconda3\\lib\\site-packages\\SPARQLWrapper\\Wrapper.py\u001b[0m in \u001b[0;36m_query\u001b[1;34m(self)\u001b[0m\n\u001b[0;32m   1075\u001b[0m         \u001b[1;32mexcept\u001b[0m \u001b[0murllib\u001b[0m\u001b[1;33m.\u001b[0m\u001b[0merror\u001b[0m\u001b[1;33m.\u001b[0m\u001b[0mHTTPError\u001b[0m \u001b[1;32mas\u001b[0m \u001b[0me\u001b[0m\u001b[1;33m:\u001b[0m\u001b[1;33m\u001b[0m\u001b[1;33m\u001b[0m\u001b[0m\n\u001b[0;32m   1076\u001b[0m             \u001b[1;32mif\u001b[0m \u001b[0me\u001b[0m\u001b[1;33m.\u001b[0m\u001b[0mcode\u001b[0m \u001b[1;33m==\u001b[0m \u001b[1;36m400\u001b[0m\u001b[1;33m:\u001b[0m\u001b[1;33m\u001b[0m\u001b[1;33m\u001b[0m\u001b[0m\n\u001b[1;32m-> 1077\u001b[1;33m                 \u001b[1;32mraise\u001b[0m \u001b[0mQueryBadFormed\u001b[0m\u001b[1;33m(\u001b[0m\u001b[0me\u001b[0m\u001b[1;33m.\u001b[0m\u001b[0mread\u001b[0m\u001b[1;33m(\u001b[0m\u001b[1;33m)\u001b[0m\u001b[1;33m)\u001b[0m\u001b[1;33m\u001b[0m\u001b[1;33m\u001b[0m\u001b[0m\n\u001b[0m\u001b[0;32m   1078\u001b[0m             \u001b[1;32melif\u001b[0m \u001b[0me\u001b[0m\u001b[1;33m.\u001b[0m\u001b[0mcode\u001b[0m \u001b[1;33m==\u001b[0m \u001b[1;36m404\u001b[0m\u001b[1;33m:\u001b[0m\u001b[1;33m\u001b[0m\u001b[1;33m\u001b[0m\u001b[0m\n\u001b[0;32m   1079\u001b[0m                 \u001b[1;32mraise\u001b[0m \u001b[0mEndPointNotFound\u001b[0m\u001b[1;33m(\u001b[0m\u001b[0me\u001b[0m\u001b[1;33m.\u001b[0m\u001b[0mread\u001b[0m\u001b[1;33m(\u001b[0m\u001b[1;33m)\u001b[0m\u001b[1;33m)\u001b[0m\u001b[1;33m\u001b[0m\u001b[1;33m\u001b[0m\u001b[0m\n",
      "\u001b[1;31mQueryBadFormed\u001b[0m: QueryBadFormed: a bad request has been sent to the endpoint, probably the sparql query is bad formed. \n\nResponse:\nb\"Virtuoso 37000 Error SP030: SPARQL compiler, line 0: Bad escape sequence in a short single-quoted string at ''An activity is classified as knowledge intensive if employed tertiary educated persons (according to     ISCED    97 levels 5+6, according to ISCED 2011 levels 5 to 8) represent more than 33 % of the total employment in that activity. The definition is built based on the average number of employed persons aged 15-64 at aggregated EU-27 level according to     NACE    at 2-digit, using EU     Labour Force Survey    data     [1]     The KIA employment indicator was developed to offer an average, harmonised across all the sectors, to compare economies in regard to their knowledge intensity.    The total employment ratio is calculated on the population aged 15-64 according to the following formula:             [math]\\\\frac{Number\\\\'\\n\\nSPARQL query:\\ndefine sql:big-data-const 0 \\n\\n                PREFIX estat: <https://nlp4statref/knowledge/ontology/> \\n                PREFIX skos: <http://www.w3.org/2004/02/skos/core#>\\n                PREFIX dct: <http://purl.org/dc/terms/>\\n                \\n                INSERT { GRAPH <https://nlp4statref/knowledge/ontology/> { \\n\\n                   estat:6453 skos:Concept '6453'.\\n                   estat:6453 skos:definition 'An activity is classified as knowledge intensive if employed tertiary educated persons (according to     ISCED    97 levels 5+6, according to ISCED 2011 levels 5 to 8) represent more than 33 % of the total employment in that activity. The definition is built based on the average number of employed persons aged 15-64 at aggregated EU-27 level according to     NACE    at 2-digit, using EU     Labour Force Survey    data     [1]     The KIA employment indicator was developed to offer an average, harmonised across all the sectors, to compare economies in regard to their knowledge intensity.    The total employment ratio is calculated on the population aged 15-64 according to the following formula:             [math]\\\\frac{Number\\\\ of\\\\ persons\\\\ employed\\\\ in\\\\ sectors\\\\ identified\\\\ as\\\\ knowledge\\\\ intensive}{Total\\\\ number\\\\ of\\\\ persons\\\\ employed}[/math]             There are two aggregates in use based on this classification: total Knowledge Intensive Activities (KIA) and Knowledge Intensive Activities \\xc3\\xa2\\xc2\\x80\\xc2\\x93 Business Industries (KIABI).'. \\n                   estat:6453 dct:modified '2020-02-03 17:07:00'. \\n                   estat:6453 skos:altLabel 'None'. \\n                   estat:6453 skos:prefLabel 'Knowledge Intensive Activity (KIA)'.                    \\n                   \\n        } }\\n        ;\\n                \""
     ]
    }
   ],
   "source": [
    "insert_glossary_elements(ESTAT_V1_dat_glossary, '',ESTAT_V1_dat_link_info, \"POST\")"
   ]
  },
  {
   "cell_type": "markdown",
   "metadata": {},
   "source": [
    "Add relations from the Concepts elements associated tables : "
   ]
  },
  {
   "cell_type": "code",
   "execution_count": null,
   "metadata": {},
   "outputs": [],
   "source": [
    "# Populate\n",
    "insert_glossary_elements(ESTAT_V1_dat_related_concepts, 'skos:related', 'POST')\n",
    "insert_glossary_elements(ESTAT_V1_dat_statistical_data, 'estat:statisticalInformation', 'POST')\n",
    "insert_glossary_elements(ESTAT_V1_dat_sources, 'estat:sourceInformation', 'POST')"
   ]
  },
  {
   "cell_type": "markdown",
   "metadata": {},
   "source": [
    "Pour la table ESTAT_V1_dat_further_info, la relation dépend du type de contenu, qui doit être récupéré dans la table ESTAT_V1_dat_link_info"
   ]
  },
  {
   "cell_type": "code",
   "execution_count": null,
   "metadata": {},
   "outputs": [],
   "source": [
    "#\n",
    "#FONCTION A DEFINIR BASEE SUR insert_glossary_elements(ESTAT_V1_dat_further_info,\n",
    "#                                                     'estat:furtherInformation', \"POST\")"
   ]
  },
  {
   "cell_type": "markdown",
   "metadata": {},
   "source": [
    "If the Glossary homepage is contained in the same table, it should be added separately as it has different relations. "
   ]
  },
  {
   "cell_type": "markdown",
   "metadata": {},
   "source": [
    "###  3 - Insertion of Statistical Explained elements into the KDB. "
   ]
  },
  {
   "cell_type": "markdown",
   "metadata": {},
   "source": [
    "Deux objets dans un article : larticle lui meme et un Core Data (un excel avec les données utilisées et leurs métadonnées)"
   ]
  },
  {
   "cell_type": "markdown",
   "metadata": {},
   "source": [
    "Exemple : https://ec.europa.eu/eurostat/statistics-explained/index.php?title=Exchange_rates_and_interest_rates\n",
    "Excel + ce qu'il y a avant COntext"
   ]
  },
  {
   "cell_type": "code",
   "execution_count": 41,
   "metadata": {},
   "outputs": [
    {
     "data": {
      "text/html": [
       "<div>\n",
       "<style scoped>\n",
       "    .dataframe tbody tr th:only-of-type {\n",
       "        vertical-align: middle;\n",
       "    }\n",
       "\n",
       "    .dataframe tbody tr th {\n",
       "        vertical-align: top;\n",
       "    }\n",
       "\n",
       "    .dataframe thead th {\n",
       "        text-align: right;\n",
       "    }\n",
       "</style>\n",
       "<table border=\"1\" class=\"dataframe\">\n",
       "  <thead>\n",
       "    <tr style=\"text-align: right;\">\n",
       "      <th></th>\n",
       "      <th>id</th>\n",
       "      <th>article_id</th>\n",
       "      <th>title</th>\n",
       "      <th>content</th>\n",
       "      <th>abstract</th>\n",
       "      <th>alert</th>\n",
       "    </tr>\n",
       "  </thead>\n",
       "  <tbody>\n",
       "    <tr>\n",
       "      <th>0</th>\n",
       "      <td>1</td>\n",
       "      <td>881</td>\n",
       "      <td>Structural profile</td>\n",
       "      <td>The accommodation and food services sector re...</td>\n",
       "      <td>0</td>\n",
       "      <td>0</td>\n",
       "    </tr>\n",
       "    <tr>\n",
       "      <th>1</th>\n",
       "      <td>2</td>\n",
       "      <td>881</td>\n",
       "      <td>Sectoral analysis</td>\n",
       "      <td>According to most structural business indicat...</td>\n",
       "      <td>0</td>\n",
       "      <td>0</td>\n",
       "    </tr>\n",
       "    <tr>\n",
       "      <th>2</th>\n",
       "      <td>3</td>\n",
       "      <td>881</td>\n",
       "      <td>Country overview</td>\n",
       "      <td>In absolute terms, Germany recorded the highe...</td>\n",
       "      <td>0</td>\n",
       "      <td>0</td>\n",
       "    </tr>\n",
       "    <tr>\n",
       "      <th>3</th>\n",
       "      <td>4</td>\n",
       "      <td>881</td>\n",
       "      <td>Size class analysis</td>\n",
       "      <td>The   enterprise size  structure of the EU-27...</td>\n",
       "      <td>0</td>\n",
       "      <td>0</td>\n",
       "    </tr>\n",
       "    <tr>\n",
       "      <th>4</th>\n",
       "      <td>5</td>\n",
       "      <td>881</td>\n",
       "      <td>Regions</td>\n",
       "      <td>The largest regional employment in the accomm...</td>\n",
       "      <td>0</td>\n",
       "      <td>0</td>\n",
       "    </tr>\n",
       "  </tbody>\n",
       "</table>\n",
       "</div>"
      ],
      "text/plain": [
       "   id  article_id                title  \\\n",
       "0   1         881   Structural profile   \n",
       "1   2         881    Sectoral analysis   \n",
       "2   3         881     Country overview   \n",
       "3   4         881  Size class analysis   \n",
       "4   5         881              Regions   \n",
       "\n",
       "                                             content  abstract  alert  \n",
       "0   The accommodation and food services sector re...         0      0  \n",
       "1   According to most structural business indicat...         0      0  \n",
       "2   In absolute terms, Germany recorded the highe...         0      0  \n",
       "3   The   enterprise size  structure of the EU-27...         0      0  \n",
       "4   The largest regional employment in the accomm...         0      0  "
      ]
     },
     "execution_count": 41,
     "metadata": {},
     "output_type": "execute_result"
    }
   ],
   "source": [
    "ESTAT_V1_dat_article_paragraph.head()"
   ]
  },
  {
   "cell_type": "code",
   "execution_count": null,
   "metadata": {},
   "outputs": [],
   "source": [
    "def insert_dat_article(DB, classe, method): \n",
    "\n",
    "    for i, row in DB.iterrows():\n",
    "\n",
    "        id_ = row[0]\n",
    "        context_ = row[1]\n",
    "        data_sources_ = row[2]\n",
    "        last_update_ = str(row[4])\n",
    "        background_article_ = row[5]\n",
    "        homepage_ = row[6]\n",
    "\n",
    "        # Construct the query \n",
    "        query = \"\"\"\n",
    "\n",
    "            PREFIX estat: <https://nlp4statref/knowledge/ontology/> \n",
    "            PREFIX skos: <http://www.w3.org/2004/02/skos/core#>\n",
    "\n",
    "            INSERT { GRAPH <https://nlp4statref/knowledge/ontology/> { \n",
    "\n",
    "               estat:\"\"\" + str(id_) + \"\"\" estat:StatisticsExplainedData '\"\"\" + str(id_) + \"\"\"'.\n",
    "               estat:\"\"\" + str(id_) + \"\"\" XXX:XX '\"\"\" + str(context_) + \"\"\"'. \n",
    "               estat:\"\"\" + str(id_) + \"\"\" dct:source '\"\"\" + str(data_sources_) + \"\"\"'. \n",
    "               estat:\"\"\" + str(id_) + \"\"\" dct:modified '\"\"\" + str(last_update_) + \"\"\"'. \n",
    "               estat:\"\"\" + str(id_) + \"\"\" XX:XXX '\"\"\" + str(background_article_) + \"\"\"'. \n",
    "               estat:\"\"\" + str(id_) + \"\"\" XXX:XXX '\"\"\" + str(homepage_) + \"\"\"'. \n",
    "\n",
    "    } }\n",
    "    ;\n",
    "            \"\"\"\n",
    "    sparql.setQuery(query)\n",
    "    sparql.method = method\n",
    "    sparql.setReturnFormat(JSON)\n",
    "    results = sparql.query().response.read()"
   ]
  },
  {
   "cell_type": "code",
   "execution_count": null,
   "metadata": {},
   "outputs": [],
   "source": [
    "insert_dat_article(ESTAT_V1_dat_article, '', \"POST\")"
   ]
  },
  {
   "cell_type": "code",
   "execution_count": null,
   "metadata": {},
   "outputs": [],
   "source": [
    "def insert_dat_article_paragraph(DB, classe, method): \n",
    "\n",
    "    for i, row in DB.iterrows():\n",
    "\n",
    "        id_ = row[0]\n",
    "        article_id_ = row[1]\n",
    "        title_ = row[2]\n",
    "        content_ = row[3]\n",
    "        abstract_ = row[4]\n",
    "        alert_ = row[5]\n",
    "\n",
    "        # Construct the query \n",
    "        query = \"\"\"\n",
    "\n",
    "            PREFIX estat: <https://nlp4statref/knowledge/ontology/> \n",
    "            PREFIX skos: <http://www.w3.org/2004/02/skos/core#>\n",
    "\n",
    "            INSERT { GRAPH <https://nlp4statref/knowledge/ontology/> { \n",
    "\n",
    "               estat:\"\"\" + str(id_) + \"\"\" dct:isPartOf '\"\"\" + str(article_id_) + \"\"\"'.\n",
    "               estat:\"\"\" + str(id_) + \"\"\" dct:title '\"\"\" + str(title_) + \"\"\"'. \n",
    "               estat:\"\"\" + str(id_) + \"\"\" XXX:XX '\"\"\" + str(content_) + \"\"\"'. \n",
    "               estat:\"\"\" + str(id_) + \"\"\" XXX:XX '\"\"\" + str(abstract_) + \"\"\"'. \n",
    "               estat:\"\"\" + str(id_) + \"\"\" XX:XXX '\"\"\" + str(alert_) + \"\"\"'. \n",
    "\n",
    "    } }\n",
    "    ;\n",
    "            \"\"\"\n",
    "    sparql.setQuery(query)\n",
    "    sparql.method = method\n",
    "    sparql.setReturnFormat(JSON)\n",
    "    results = sparql.query().response.read()\n"
   ]
  },
  {
   "cell_type": "code",
   "execution_count": null,
   "metadata": {},
   "outputs": [],
   "source": [
    "def insert_dat_article_shared_link(DB, classe, link_info_table, method): \n",
    "\n",
    "    for i, row in DB.iterrows():\n",
    "\n",
    "        id_ = row[0]\n",
    "        paragraph_id_ = row[1]\n",
    "        link_id_ = row[2]\n",
    "        article_division_id_ = row[3]\n",
    "        \n",
    "        # Get info from the eurostat_links\n",
    "        url_ = link_info_table[link_info_table['id'] == link_id_].url.item()\n",
    "\n",
    "        # Construct the query \n",
    "        query = \"\"\"\n",
    "\n",
    "            PREFIX estat: <https://nlp4statref/knowledge/ontology/> \n",
    "            PREFIX skos: <http://www.w3.org/2004/02/skos/core#>\n",
    "\n",
    "            INSERT { GRAPH <https://nlp4statref/knowledge/ontology/> { \n",
    "\n",
    "               estat:\"\"\" + str(id_) + \"\"\" dct:isPartOf '\"\"\" + str(paragraph_id_) + \"\"\"'.\n",
    "               estat:\"\"\" + str(id_) + \"\"\" dct:title '\"\"\" + str(title_) + \"\"\"'. \n",
    "               estat:\"\"\" + str(id_) + \"\"\" XXX:XX '\"\"\" + str(content_) + \"\"\"'. \n",
    "               estat:\"\"\" + str(id_) + \"\"\" XXX:XX '\"\"\" + str(abstract_) + \"\"\"'. \n",
    "               estat:\"\"\" + str(id_) + \"\"\" XX:XXX '\"\"\" + str(alert_) + \"\"\"'. \n",
    "\n",
    "    } }\n",
    "    ;\n",
    "            \"\"\"\n",
    "    sparql.setQuery(query)\n",
    "    sparql.method = method\n",
    "    sparql.setReturnFormat(JSON)\n",
    "    results = sparql.query().response.read()\n"
   ]
  },
  {
   "cell_type": "code",
   "execution_count": null,
   "metadata": {},
   "outputs": [],
   "source": [
    "def insert_dat_paragraph_figure(DB, classe, link_info_table, method): \n",
    "\n",
    "    for i, row in DB.iterrows():\n",
    "\n",
    "        id_ = row[0]\n",
    "        paragraph_id_ = row[1]\n",
    "        link_id_ = row[2]\n",
    "\n",
    "        \n",
    "        # Get info from the eurostat_links\n",
    "        url_ = eurostat_links[eurostat_links['id'] == link_id_].url.item()\n",
    "\n",
    "        # Construct the query \n",
    "        query = \"\"\"\n",
    "\n",
    "            PREFIX estat: <https://nlp4statref/knowledge/ontology/> \n",
    "\n",
    "            INSERT { GRAPH <https://nlp4statref/knowledge/ontology/> { \n",
    "\n",
    "               estat:\"\"\" + str(paragraph_id_) + \"\"\" estat:linkToResource '\"\"\" + str(url_) + \"\"\"'. \n",
    "\n",
    "    } }\n",
    "    ;\n",
    "            \"\"\"\n",
    "    sparql.setQuery(query)\n",
    "    sparql.method = method\n",
    "    sparql.setReturnFormat(JSON)\n",
    "    results = sparql.query().response.read()"
   ]
  },
  {
   "cell_type": "markdown",
   "metadata": {},
   "source": [
    "### See added statements "
   ]
  },
  {
   "cell_type": "code",
   "execution_count": 39,
   "metadata": {},
   "outputs": [
    {
     "name": "stdout",
     "output_type": "stream",
     "text": [
      "15\n"
     ]
    }
   ],
   "source": [
    "\n",
    "SelectStatements = \"\"\"\n",
    "PREFIX estat: <https://nlp4statref/knowledge/ontology/> \n",
    "PREFIX dct: <http://purl.org/dc/terms/>\n",
    "SELECT * FROM <https://nlp4statref/knowledge/ontology/>\n",
    "WHERE { estat:15 ?s ?o\n",
    "\n",
    "}\n",
    "\"\"\"\n",
    "\n",
    "#statements_df = sparql_dataframe.get(endpoint, SelectStatements)\n",
    "#print(statements_df.shape)\n",
    "#print(statements_df.tail())\n",
    "\n",
    "sparql.setQuery(SelectStatements)\n",
    "sparql.method = \"POST\"\n",
    "sparql.setReturnFormat(JSON)\n",
    "results = sparql.query().convert()['results']['bindings']\n",
    "results = pd.json_normalize(results)\n",
    "print(results['o.value'].values[0])"
   ]
  },
  {
   "cell_type": "code",
   "execution_count": 40,
   "metadata": {},
   "outputs": [
    {
     "data": {
      "text/html": [
       "<div>\n",
       "<style scoped>\n",
       "    .dataframe tbody tr th:only-of-type {\n",
       "        vertical-align: middle;\n",
       "    }\n",
       "\n",
       "    .dataframe tbody tr th {\n",
       "        vertical-align: top;\n",
       "    }\n",
       "\n",
       "    .dataframe thead th {\n",
       "        text-align: right;\n",
       "    }\n",
       "</style>\n",
       "<table border=\"1\" class=\"dataframe\">\n",
       "  <thead>\n",
       "    <tr style=\"text-align: right;\">\n",
       "      <th></th>\n",
       "      <th>s.type</th>\n",
       "      <th>s.value</th>\n",
       "      <th>o.type</th>\n",
       "      <th>o.value</th>\n",
       "    </tr>\n",
       "  </thead>\n",
       "  <tbody>\n",
       "    <tr>\n",
       "      <th>0</th>\n",
       "      <td>uri</td>\n",
       "      <td>http://www.w3.org/1999/02/22-rdf-syntax-ns#about</td>\n",
       "      <td>literal</td>\n",
       "      <td>15</td>\n",
       "    </tr>\n",
       "    <tr>\n",
       "      <th>1</th>\n",
       "      <td>uri</td>\n",
       "      <td>http://purl.org/dc/terms/source</td>\n",
       "      <td>literal</td>\n",
       "      <td>https://ec.europa.eu/eurostat/statistics-expla...</td>\n",
       "    </tr>\n",
       "    <tr>\n",
       "      <th>2</th>\n",
       "      <td>uri</td>\n",
       "      <td>http://purl.org/dc/terms/title</td>\n",
       "      <td>literal</td>\n",
       "      <td>Place at which only stamps can be bought</td>\n",
       "    </tr>\n",
       "    <tr>\n",
       "      <th>3</th>\n",
       "      <td>uri</td>\n",
       "      <td>http://purl.org/dc/terms/type</td>\n",
       "      <td>literal</td>\n",
       "      <td>None</td>\n",
       "    </tr>\n",
       "    <tr>\n",
       "      <th>4</th>\n",
       "      <td>uri</td>\n",
       "      <td>https://nlp4statref/knowledge/ontology/resourc...</td>\n",
       "      <td>literal</td>\n",
       "      <td>1</td>\n",
       "    </tr>\n",
       "  </tbody>\n",
       "</table>\n",
       "</div>"
      ],
      "text/plain": [
       "  s.type                                            s.value   o.type  \\\n",
       "0    uri   http://www.w3.org/1999/02/22-rdf-syntax-ns#about  literal   \n",
       "1    uri                    http://purl.org/dc/terms/source  literal   \n",
       "2    uri                     http://purl.org/dc/terms/title  literal   \n",
       "3    uri                      http://purl.org/dc/terms/type  literal   \n",
       "4    uri  https://nlp4statref/knowledge/ontology/resourc...  literal   \n",
       "\n",
       "                                             o.value  \n",
       "0                                                 15  \n",
       "1  https://ec.europa.eu/eurostat/statistics-expla...  \n",
       "2           Place at which only stamps can be bought  \n",
       "3                                               None  \n",
       "4                                                  1  "
      ]
     },
     "execution_count": 40,
     "metadata": {},
     "output_type": "execute_result"
    }
   ],
   "source": [
    "results = sparql.query().convert()['results']['bindings']\n",
    "results = pd.json_normalize(results)\n",
    "results"
   ]
  },
  {
   "cell_type": "code",
   "execution_count": null,
   "metadata": {},
   "outputs": [],
   "source": []
  }
 ],
 "metadata": {
  "kernelspec": {
   "display_name": "Python 3",
   "language": "python",
   "name": "python3"
  },
  "language_info": {
   "codemirror_mode": {
    "name": "ipython",
    "version": 3
   },
   "file_extension": ".py",
   "mimetype": "text/x-python",
   "name": "python",
   "nbconvert_exporter": "python",
   "pygments_lexer": "ipython3",
   "version": "3.8.3"
  }
 },
 "nbformat": 4,
 "nbformat_minor": 4
}
