{
 "cells": [
  {
   "cell_type": "markdown",
   "metadata": {},
   "source": [
    "# Population of the Knowledge DB - V7 #"
   ]
  },
  {
   "cell_type": "markdown",
   "metadata": {},
   "source": [
    "#### Summary :\n",
    "        - Load libraries and connect to Virtuoso\n",
    "        - Load elements from the Content DB \n",
    "        - Knowledge base Population \n",
    "            + SE Glossary Elements and related material\n",
    "            + SE Statistical Articles (SA)\n",
    "            + SE Core Data\n",
    "            + SE SA related elements\n",
    "            + SE Background Articles\n",
    "            + Eurostat Glossary\n",
    "            + Code Lists\n",
    "        \n"
   ]
  },
  {
   "cell_type": "markdown",
   "metadata": {},
   "source": [
    "### Load libraries and connect to Virtuoso"
   ]
  },
  {
   "cell_type": "code",
   "execution_count": null,
   "metadata": {},
   "outputs": [],
   "source": [
    "import os \n",
    "import re\n",
    "import logging\n",
    "import sys\n",
    "import pyodbc\n",
    "import hashlib\n",
    "import pandas as pd\n",
    "from datetime import datetime\n",
    "from SPARQLWrapper import SPARQLWrapper, POST, DIGEST, GET\n",
    "from SPARQLWrapper import JSON, INSERT, DELETE\n",
    "import sparql_dataframe\n",
    "from itertools import chain"
   ]
  },
  {
   "cell_type": "code",
   "execution_count": null,
   "metadata": {},
   "outputs": [],
   "source": [
    "def connect_db(DSN, DBA, UID, PWD):\n",
    "\n",
    "    connection = pyodbc.connect('DSN={};DBA={};UID={};PWD={}'.format(DSN, \n",
    "                                                                     DBA,\n",
    "                                                                     UID,\n",
    "                                                                     PWD))\n",
    "    cursor = connection.cursor()\n",
    "\n",
    "    return connection, cursor\n",
    "\n",
    "\n",
    "def connect_virtuoso(DSN, UID, PWD):\n",
    "\n",
    "    sparql = SPARQLWrapper(DSN)\n",
    "    sparql.setHTTPAuth(DIGEST)\n",
    "    sparql.setCredentials(UID, PWD)\n",
    "    sparql.setMethod(GET)\n",
    "\n",
    "    return sparql\n"
   ]
  },
  {
   "cell_type": "markdown",
   "metadata": {},
   "source": [
    "Replace the values with your own logins :"
   ]
  },
  {
   "cell_type": "code",
   "execution_count": null,
   "metadata": {},
   "outputs": [],
   "source": [
    "user = 'dba'\n",
    "login =  '30gFcpQzj7sPtRu5bkes'"
   ]
  },
  {
   "cell_type": "code",
   "execution_count": null,
   "metadata": {},
   "outputs": [],
   "source": [
    "# Connection to CDB \n",
    "connection, cursor = connect_db('Virtuoso All', \n",
    "                                'ESTAT', \n",
    "                                user, \n",
    "                                login)\n",
    "\n",
    "\n",
    "# Connection to the KDB \n",
    "endpoint = \"http://virtuoso-test.kapcode.fr:8890/sparql/\"\n",
    "sparql = connect_virtuoso(endpoint, \n",
    "                          user, \n",
    "                          login)\n"
   ]
  },
  {
   "cell_type": "markdown",
   "metadata": {},
   "source": [
    "### Define content selection functions"
   ]
  },
  {
   "cell_type": "code",
   "execution_count": null,
   "metadata": {},
   "outputs": [],
   "source": [
    "def select_query(columns, table, conditions=None): \n",
    "\n",
    "    if conditions:\n",
    "\n",
    "        query = \"\"\"\n",
    "            SELECT {}\n",
    "            FROM {}\n",
    "            WHERE {}\n",
    "\n",
    "        \"\"\".format(columns, table, conditions)\n",
    "\n",
    "    else:\n",
    "\n",
    "        query = \"\"\"\n",
    "\n",
    "        SELECT {}\n",
    "        FROM {}\n",
    "        \"\"\".format(columns, table)\n",
    "\n",
    "    return query"
   ]
  },
  {
   "cell_type": "markdown",
   "metadata": {},
   "source": [
    "#### Get all tables name from the CDB "
   ]
  },
  {
   "cell_type": "code",
   "execution_count": null,
   "metadata": {},
   "outputs": [],
   "source": [
    "ESTAT_V1_tables_names = pd.read_sql(select_query('*',\n",
    "                                          'ESTAT.information_schema.tables', \n",
    "                                          ''), \n",
    "                             connection)\n",
    "ESTAT_V1_tables_names['TABLE_NAME']"
   ]
  },
  {
   "cell_type": "markdown",
   "metadata": {},
   "source": [
    "##### Load the ressource info table "
   ]
  },
  {
   "cell_type": "code",
   "execution_count": null,
   "metadata": {},
   "outputs": [],
   "source": [
    "ESTAT_V1_dat_resource = pd.read_sql(select_query('*',\n",
    "                                          ' ESTAT.V1.dat_resource', \n",
    "                                          ''), \n",
    "                             connection)\n",
    "print(ESTAT_V1_dat_resource.shape)"
   ]
  },
  {
   "cell_type": "code",
   "execution_count": null,
   "metadata": {},
   "outputs": [],
   "source": [
    "ESTAT_V1_dat_resource"
   ]
  },
  {
   "cell_type": "markdown",
   "metadata": {},
   "source": [
    "##### Load the Link info table "
   ]
  },
  {
   "cell_type": "code",
   "execution_count": null,
   "metadata": {},
   "outputs": [],
   "source": [
    "ESTAT_V1_dat_link_info = pd.read_sql(select_query('*',\n",
    "                                          ' ESTAT.V1.dat_link_info', \n",
    "                                          ''), \n",
    "                             connection)\n",
    "print(ESTAT_V1_dat_link_info.shape)\n"
   ]
  },
  {
   "cell_type": "code",
   "execution_count": null,
   "metadata": {},
   "outputs": [],
   "source": [
    "ESTAT_V1_dat_link_info.head()"
   ]
  },
  {
   "cell_type": "code",
   "execution_count": null,
   "metadata": {},
   "outputs": [],
   "source": [
    "#Get the count of each ressource type in the Content:\n",
    "temp = ESTAT_V1_dat_link_info.merge(ESTAT_V1_dat_resource, left_on='resource_type_id', right_on='id')\n",
    "resource_type_count = temp.label_en.value_counts()\n",
    "resource_type_count"
   ]
  },
  {
   "cell_type": "markdown",
   "metadata": {},
   "source": [
    "##### Load Glossary related tables"
   ]
  },
  {
   "cell_type": "code",
   "execution_count": null,
   "metadata": {},
   "outputs": [],
   "source": [
    "ESTAT_V1_dat_glossary = pd.read_sql(select_query('*',\n",
    "                                          'ESTAT.V1.dat_glossary', \n",
    "                                          ''), \n",
    "                             connection)\n",
    "\n",
    "ESTAT_V1_dat_related_concepts = pd.read_sql(select_query('*',\n",
    "                                          \"ESTAT.V1.dat_related_concepts\", \n",
    "                                          ''), \n",
    "                                            connection)      \n",
    "\n",
    "ESTAT_V1_dat_sources = pd.read_sql(select_query('*',\n",
    "                                          \"ESTAT.V1.dat_sources\", \n",
    "                                          ''), \n",
    "                             connection)\n",
    "ESTAT_V1_dat_redirections = pd.read_sql(select_query('*',\n",
    "                                          \"ESTAT.V1.dat_redirections\", \n",
    "                                          ''), \n",
    "                             connection)\n",
    "\n",
    "ESTAT_V1_dat_further_info = pd.read_sql(select_query('*',\n",
    "                                          'ESTAT.V1.dat_further_info', \n",
    "                                          ''), \n",
    "                             connection)\n",
    "ESTAT_V1_dat_statistical_data = pd.read_sql(select_query('*',\n",
    "                                          'ESTAT.V1.dat_statistical_data', \n",
    "                                          ''), \n",
    "                             connection)"
   ]
  },
  {
   "cell_type": "markdown",
   "metadata": {},
   "source": [
    "##### Load Statistical Articles related tables"
   ]
  },
  {
   "cell_type": "code",
   "execution_count": null,
   "metadata": {},
   "outputs": [],
   "source": [
    "ESTAT_V1_dat_article_shared_link = pd.read_sql(select_query('*',\n",
    "                                          'ESTAT.V1.dat_article_shared_link', \n",
    "                                          ''), \n",
    "                             connection)\n"
   ]
  },
  {
   "cell_type": "code",
   "execution_count": null,
   "metadata": {},
   "outputs": [],
   "source": [
    "ESTAT_V1_dat_article_paragraph = pd.read_sql(select_query('*',\n",
    "                                          'ESTAT.V1.dat_article_paragraph', \n",
    "                                          ''), \n",
    "                             connection)"
   ]
  },
  {
   "cell_type": "code",
   "execution_count": null,
   "metadata": {},
   "outputs": [],
   "source": [
    "ESTAT_V1_dat_article = pd.read_sql(select_query('*',\n",
    "                                          'ESTAT.V1.dat_article', \n",
    "                                          'background_article = 0'), \n",
    "                             connection)\n",
    "\n",
    "ESTAT_V1_dat_article_core_data = pd.read_sql('SELECT article_id, link_id, url, data_sources FROM ESTAT.V1.dat_article_shared_link INNER JOIN ESTAT.V1.dat_article ON ESTAT.V1.dat_article.id = article_id INNER JOIN ESTAT.V1.dat_link_info ON link_id = ESTAT.V1.dat_link_info.id WHERE background_article = 0 AND article_division_id=1',connection)"
   ]
  },
  {
   "cell_type": "markdown",
   "metadata": {},
   "source": [
    "##### Load Statistical Background Articles related tables"
   ]
  },
  {
   "cell_type": "code",
   "execution_count": null,
   "metadata": {},
   "outputs": [],
   "source": [
    "ESTAT_V1_dat_background_article = pd.read_sql(select_query('*',\n",
    "                                          'ESTAT.V1.dat_article', \n",
    "                                          'background_article = 1'), \n",
    "                             connection)\n",
    "\n",
    "ESTAT_V1_dat_background_article_core_data = pd.read_sql('SELECT article_id, link_id, url, data_sources FROM ESTAT.V1.dat_article_shared_link INNER JOIN ESTAT.V1.dat_article ON ESTAT.V1.dat_article.id = article_id INNER JOIN ESTAT.V1.dat_link_info ON link_id = ESTAT.V1.dat_link_info.id WHERE background_article = 1 AND article_division_id=1',connection)\n"
   ]
  },
  {
   "cell_type": "markdown",
   "metadata": {},
   "source": [
    "##### Load Eurostat Glossary related tables "
   ]
  },
  {
   "cell_type": "code",
   "execution_count": null,
   "metadata": {},
   "outputs": [],
   "source": [
    "ESTAT_V1_dat_estat_glossary = pd.read_sql(select_query('*',\n",
    "                                          'ESTAT.V1.dat_estat_glossary', \n",
    "                                          ''), \n",
    "                             connection)"
   ]
  },
  {
   "cell_type": "markdown",
   "metadata": {},
   "source": [
    "##### Load Code List related tables"
   ]
  },
  {
   "cell_type": "code",
   "execution_count": null,
   "metadata": {
    "scrolled": true
   },
   "outputs": [],
   "source": [
    "ESTAT_V1_dat_code_dicos = pd.read_sql(select_query('*',\n",
    "                                  'ESTAT.V1.dat_code_dico', \n",
    "                                  ''), \n",
    "                                    connection)\n"
   ]
  },
  {
   "cell_type": "markdown",
   "metadata": {},
   "source": [
    "### Populate the KDB"
   ]
  },
  {
   "cell_type": "markdown",
   "metadata": {},
   "source": [
    "### 1 - Define functions used to create links between elements of the Content DB"
   ]
  },
  {
   "cell_type": "code",
   "execution_count": null,
   "metadata": {},
   "outputs": [],
   "source": [
    "#Allows to find a prefix based on the link_id : \n",
    "def find_element_prefix_from_id(id_, SEG_table, SBA_table, SA_table, SED_table):\n",
    "    prefix = \"\"\n",
    "    if (id_ in SEG_table.id.values): prefix = \" SEG:\"           \n",
    "    if (id_ in SBA_table.id.values): prefix = \" SBA:\"\n",
    "    if (id_ in SA_table.id.values): prefix = \" SA:\"\n",
    "    if (id_ in SED_table.article_id.values): prefix = \" SED:\"\n",
    "    return(prefix)"
   ]
  },
  {
   "cell_type": "code",
   "execution_count": null,
   "metadata": {},
   "outputs": [],
   "source": [
    "# Dictionnary used to get the right prefix for each element : \n",
    "resource_type = ['https://nlp4statref/knowledge/resource/authority/resource-type#statistic-reference-metadata',\n",
    "                \"https://nlp4statref/knowledge/resource/authority/resource-type#miscellaneous\",\n",
    "                \"https://nlp4statref/knowledge/resource/authority/resource-type#statistic-database\",\n",
    "                \"https://nlp4statref/knowledge/resource/authority/resource-type#statistical-data-report\",\n",
    "                \"https://nlp4statref/knowledge/resource/authority/resource-type#publication\",\n",
    "                \"https://nlp4statref/knowledge/resource/authority/resource-type#european-union-law\",\n",
    "                 \"https://nlp4statref/knowledge/resource/authority/resource-type#news\",\n",
    "                 \"https://nlp4statref/knowledge/resource/authority/resource-type#infography\",\n",
    "                 \"https://nlp4statref/knowledge/resource/authority/resource-type#legal-context\",\n",
    "                 \"https://nlp4statref/knowledge/resource/authority/resource-type#statistic-table\",\n",
    "                 \"https://nlp4statref/knowledge/resource/authority/resource-type#glossary-concept\",\n",
    "                ]\n",
    "\n",
    "about_element = [\"<https://nlp4statref/knowledge/ontology/StatisticReferenceMetadata#>\",\n",
    "                \"<https://nlp4statref/knowledge/ontology/Miscellaneous#>\",\n",
    "                \"<https://nlp4statref/knowledge/ontology/StatisticDataset#>\",\n",
    "                \"<https://nlp4statref/knowledge/resource/statistical-data-report#>\",\n",
    "                \"<https://nlp4statref/knowledge/ontology/Publication#>\",\n",
    "                \"<https://nlp4statref/knowledge/ontology/EuropeanUnionLaw#>\",\n",
    "                \"<https://nlp4statref/knowledge/ontology/News#>\",\n",
    "                \"<https://nlp4statref/knowledge/ontology/Infography#>\",\n",
    "                \"<https://nlp4statref/knowledge/ontology/LegalContext#>\",\n",
    "                \"<https://nlp4statref/knowledge/ontology/StatisticData#>\",\n",
    "                \"<https://nlp4statref/knowledge/resource/statistics-explained-glossary#>\"]\n",
    "prefix_list = [\" SRM:\",\" MISC:\",\" SDS:\",\" SDR:\", \" PUB:\", \" EUL:\", \" NEWS:\", \" INFOG:\", \" LEGC:\", \" ST:\", \" SEG:\"]\n",
    "resource_types_prefix_table = {'resource_type':resource_type,\n",
    "                             'ontology_element':about_element,\n",
    "                             'prefix':prefix_list}\n",
    "resource_types_prefix_table = pd.DataFrame(resource_types_prefix_table)"
   ]
  },
  {
   "cell_type": "code",
   "execution_count": null,
   "metadata": {},
   "outputs": [],
   "source": [
    "#Allows to find a prefix based on the resource type  : \n",
    "def find_element_prefix_from_type(resource_type, resource_types_prefix_table):\n",
    "    onto_element = resource_types_prefix_table.loc[resource_types_prefix_table.resource_type == resource_type][\"ontology_element\"].item()\n",
    "    prefix = resource_types_prefix_table.loc[resource_types_prefix_table.resource_type == resource_type][\"prefix\"].item()\n",
    "    return(onto_element, prefix)"
   ]
  },
  {
   "cell_type": "markdown",
   "metadata": {},
   "source": [
    "###  2 - Insertion of Glossary elements into the KDB. "
   ]
  },
  {
   "cell_type": "code",
   "execution_count": null,
   "metadata": {},
   "outputs": [],
   "source": [
    "## Find the homepage : \n",
    "SEGlossary_homepage_id = ESTAT_V1_dat_glossary.loc[ESTAT_V1_dat_glossary['homepage']==1]['id'].item()"
   ]
  },
  {
   "cell_type": "code",
   "execution_count": null,
   "metadata": {},
   "outputs": [],
   "source": [
    "def decode_string(string):\n",
    "  string = string.encode(\"ascii\", \"ignore\")\n",
    "  string_decode = string.decode()\n",
    "  return string_decode\n",
    "ESTAT_V1_dat_glossary.definition = ESTAT_V1_dat_glossary.definition.apply(decode_string)\n"
   ]
  },
  {
   "cell_type": "code",
   "execution_count": null,
   "metadata": {},
   "outputs": [],
   "source": [
    "#Version updatée par rapport a la nouvelle table dat_resource\n",
    "def insert_glossary_elements(DB, link_info_table, resource_table, redirections_table, method, homepage_id): \n",
    "\n",
    "    for i, row in DB.iterrows():\n",
    "        #print(i)\n",
    "        id_ = row[\"id\"]\n",
    "        definition_ = row[\"definition\"]\n",
    "        definition_ = definition_.replace(\"'\",\"\").strip()\n",
    "        definition_ = definition_.replace(\"\\\\\",\"\").strip()\n",
    "        last_update_ = str(row[\"last_update\"])\n",
    "        homepage_ = row[\"homepage\"]\n",
    "        #redirection_ = row[\"redirection\"]\n",
    "         # Get info from the eurostat_links\n",
    "        title_ = link_info_table[link_info_table['id'] == id_].title.item()\n",
    "        title_ = title_.replace(\"'\",\"\").strip()\n",
    "        url_ = link_info_table[link_info_table['id'] == id_].url.item()\n",
    "        resourcetype_id_ = link_info_table.loc[link_info_table['id'] == id_]['resource_type_id'].item()\n",
    "        resourceinfo_id_ = link_info_table.loc[link_info_table['id'] == id_]['resource_information_id'].item() \n",
    "        #get the label from resourcetype and info  id\n",
    "        resourceinfo_ = resource_table.loc[resource_table['id'] == resourceinfo_id_]['uri'].item()\n",
    "        if resourcetype_id_ in resource_table['id']:\n",
    "            resourcetype_ = resource_table.loc[resource_table['id'] == resourcetype_id_]['uri'].item() \n",
    "            resourcetype_query_part = \"SEG:\" + str(id_) + \"\"\" dct:type '\"\"\" +  str(resourcetype_) + \"'.\"\n",
    "        else : resourcetype_query_part = \"\"\n",
    "        \n",
    "        \n",
    "        #get original title for redirected pages \n",
    "        if id_ in redirections_table.glossary_id.values :\n",
    "            OT_query_part = []\n",
    "            for link_id_ in redirections_table[redirections_table['glossary_id'] == id_].link_id :\n",
    "                original_title_ = link_info_table[link_info_table['id'] == link_id_].title.item()\n",
    "                subpart = \"SEG:\" + str(id_) + \"\"\" skos:altLabel '\"\"\" + str(original_title_) + \"'.\"\n",
    "                OT_query_part.append(subpart)\n",
    "            OT_query_part = '\\n'.join(OT_query_part)\n",
    "            #print(redirections_table[redirections_table['glossary_id'] == id_].link_id)\n",
    "            #redirection_id_ = redirections_table[redirections_table['glossary_id'] == id_].link_id.item()\n",
    "            #original_title_ = link_info_table[link_info_table['id'] == redirection_id_].title.item()\n",
    "            #OT_query_part = \"SEG:\" + str(id_) + \"\"\" skos:altLabel '\"\"\" + str(original_title_) + \"'.\"\n",
    "        else :\n",
    "            OT_query_part = \"\"\n",
    "            \n",
    "        #Distinguish the homepage from the rest \n",
    "        if id_ != homepage_id :        \n",
    "            concept_query_part = \"SEG:\" + str(id_) + \"\"\" skos:Concept SEG:\"\"\" +  str(id_) + \".\"\n",
    "            title_query_part = \"SEG:\" + str(id_) + \"\"\" skos:prefLabel '\"\"\" +  str(title_) + \"'.\"\n",
    "            def_query_part = \"SEG:\" + str(id_) + \"\"\" skos:definition '\"\"\" +  str(definition_) + \"'.\"\n",
    "            #extraction_query_part = \"\"\n",
    "            topconcept_query_part = \"\"\n",
    "            publisher_query_part = \"\"\n",
    "            inscheme_query_part = \"\"\"SEG:\"\"\" + str(id_) +  \"\"\" skos:inScheme 'https://nlp4statref/knowledge/resource/vocabulary/glossary/statistics-explained-glossary'.\"\"\"\n",
    "\n",
    "            #exactmatch_query_part_1 = \"\"\"SEG:\"\"\" + str(id_) +  \"\"\"skos:exactMatch estat:EurostatConcept.\"\"\"\n",
    "            #exactmatch_query_part_2 = \"\"\"SEG:\"\"\" + str(id_) +  \"\"\"skos:exactMatch estat:NamedEntities.\"\"\"\n",
    "\n",
    "        else :\n",
    "            concept_query_part = \"SEG:\" + str(id_) + \"\"\" skos:ConceptScheme  'https://nlp4statref/knowledge/resource/vocabulary/glossary/statistics-explained-glossary'.\"\"\"\n",
    "            title_query_part = \"SEG:\" + str(id_) + \"\"\" dct:title '\"\"\" +  str(title_) + \"'.\"\n",
    "            def_query_part = \"SEG:\" + str(id_) + \"\"\" dct:description '\"\"\" +  str(definition_) + \"'.\"\n",
    "            #extraction_query_part = scraping date ? \n",
    "            topconcept_query_part = []\n",
    "            for concept_id_ in DB.id:\n",
    "                if concept_id_ != homepage_id : \n",
    "                    subpart = \"SEG:\" + str(homepage_id) + \"\"\" skos:hasTopConcept SEG:\"\"\" +  str(concept_id_) + \".\"\n",
    "                    topconcept_query_part.append(subpart)\n",
    "            topconcept_query_part = '\\n'.join(topconcept_query_part)\n",
    "            publisher_query_part = \"\"\"SEG:\"\"\" + str(id_) +  \"\"\" dct:publisher 'http://publications.europa.eu/resource/authority/corporate-body/ESTAT'.\"\"\"\n",
    "            inscheme_query_part = \"\"\n",
    "            #exactmatch_query_part_1 = \"\"\n",
    "            #exactmatch_query_part_2 = \"\"\n",
    "                  \n",
    "    \n",
    "        # Construct the query \n",
    "        query = \"\"\"\n",
    "\n",
    "            PREFIX dct: <http://purl.org/dc/terms/>\n",
    "            PREFIX estat: <https://nlp4statref/knowledge/ontology/>\n",
    "            PREFIX SEG: <https://nlp4statref/knowledge/resource/statistics-explained-glossary#>\n",
    "            PREFIX skos: <http://www.w3.org/2004/02/skos/core#>\n",
    "            \n",
    "            INSERT { GRAPH <https://nlp4statref/knowledge/ontology/> { \n",
    "\n",
    "              \"\"\" + concept_query_part + \"\"\" \n",
    "              \"\"\" + inscheme_query_part + \"\"\"              \n",
    "              \"\"\" + topconcept_query_part + \"\"\"\n",
    "              \"\"\" + title_query_part + \"\"\"\n",
    "              \"\"\" + def_query_part + \"\"\"\n",
    "              \"\"\" + publisher_query_part + \"\"\"\n",
    "              \"\"\" + OT_query_part + \"\"\"\n",
    "              SEG:\"\"\" + str(id_) + \"\"\" dct:modified '\"\"\" + str(last_update_) + \"\"\"'.\n",
    "              SEG:\"\"\" + str(id_) + \"\"\" dct:source '\"\"\" + str(url_) + \"\"\"'.  \n",
    "              \"\"\" + resourcetype_query_part + \"\"\"\n",
    "              SEG:\"\"\" + str(id_) + \"\"\" estat:resourceInformation '\"\"\" + str(resourceinfo_) + \"\"\"'.  \n",
    "             \n",
    "              \n",
    "              \n",
    "        } }\n",
    "        ;\n",
    "            \"\"\"\n",
    "        #Take out special characters : \n",
    "        query.encode('latin-1')\n",
    "        if (i == 0): print(query)\n",
    "        sparql.setQuery(query)\n",
    "        sparql.method = method\n",
    "        sparql.setReturnFormat(JSON)\n",
    "        results = sparql.query().response.read()"
   ]
  },
  {
   "cell_type": "code",
   "execution_count": null,
   "metadata": {},
   "outputs": [],
   "source": [
    "###run the function \n",
    "insert_glossary_elements(DB = ESTAT_V1_dat_glossary,\n",
    "                         link_info_table = ESTAT_V1_dat_link_info,\n",
    "                         resource_table = ESTAT_V1_dat_resource,\n",
    "                         redirections_table = ESTAT_V1_dat_redirections,\n",
    "                         method = 'POST', homepage_id = SEGlossary_homepage_id) "
   ]
  },
  {
   "cell_type": "code",
   "execution_count": null,
   "metadata": {},
   "outputs": [],
   "source": [
    "def insert_SE_glossary_concepts_relations(related_concepts_table, link_info_table, method): \n",
    "    for i, row in related_concepts_table.iterrows():\n",
    "        concept_id_ = row[\"glossary_id\"]\n",
    "        link_id_ = row[\"link_id\"] \n",
    "\n",
    "        related_concept_query_part = \"SEG:\" + str(concept_id_) + \"\"\" skos:related SEG:\"\"\" +  str(link_id_) + \".\"\n",
    "        # Construct the query \n",
    "        query = \"\"\"\n",
    "            PREFIX SEG: <https://nlp4statref/knowledge/resource/statistics-explained-glossary#>\n",
    "            PREFIX skos: <http://www.w3.org/2004/02/skos/core#>\n",
    "            INSERT { GRAPH <https://nlp4statref/knowledge/ontology/> { \n",
    "              \"\"\" + related_concept_query_part + \"\"\"\n",
    "        } }\n",
    "        ;\n",
    "            \"\"\"\n",
    "        #Take out special characters : \n",
    "        query.encode('latin-1')\n",
    "        if (i == 0): print(query)\n",
    "        sparql.setQuery(query)\n",
    "        sparql.method = method\n",
    "        sparql.setReturnFormat(JSON)\n",
    "        results = sparql.query().response.read()"
   ]
  },
  {
   "cell_type": "code",
   "execution_count": null,
   "metadata": {
    "scrolled": true
   },
   "outputs": [],
   "source": [
    "insert_SE_glossary_concepts_relations(ESTAT_V1_dat_related_concepts, ESTAT_V1_dat_link_info, 'POST')"
   ]
  },
  {
   "cell_type": "code",
   "execution_count": null,
   "metadata": {},
   "outputs": [],
   "source": [
    "#V7.1\n",
    "def insert_glossary_elements_relations(DB, link_info_table, resource_table, resource_types_prefix_table, SEG_table, SBA_table, SA_table, SED_table, method):      \n",
    "    \n",
    "    for i, row in DB.iterrows():\n",
    "        concept_id_ = row[\"glossary_id\"]\n",
    "        link_id_ = row[\"link_id\"] #concept et link sont de la meme sequence unique. \n",
    "  \n",
    "        #Get elements from the eurostat_links\n",
    "        resourcetype_id_ = link_info_table.loc[link_info_table['id'] == link_id_]['resource_type_id'].item()\n",
    "        resourceinfo_id_ = link_info_table.loc[link_info_table['id'] == link_id_]['resource_information_id'].item() \n",
    "        title_ = link_info_table.loc[link_info_table['id'] == link_id_]['title'].item()\n",
    "        title_ = title_.replace(\"'\",\"\").strip()\n",
    "        url_ = link_info_table.loc[link_info_table['id'] == link_id_]['url'].item()\n",
    "        \n",
    "        #get the label from resourcetype and info  id\n",
    "        resourceinfo_ = resource_table.loc[resource_table['id'] == resourceinfo_id_]['uri'].item() \n",
    "        resourcetype_ = resource_table.loc[resource_table['id'] == resourcetype_id_]['uri'].item() \n",
    "        \n",
    "        relation_ = \"\"\n",
    "        #print(resourcetype_id_)\n",
    "        \n",
    "        #Init query parts : \n",
    "        prefix_part = \"\"\n",
    "        title_query_part = \"\"\n",
    "        url_query_part = \"\"\n",
    "        resourcetype_query_part = \"\"\n",
    "        resourceinfo_query_part = \"\"\n",
    "        \n",
    "        ##Get the type of link : \n",
    "        if (resourcetype_id_ in [37]): relation_ = \"estat:relatedLegallnformation\"\n",
    "        if (resourcetype_id_ in [0,41,42,43,44,45]): relation_ = \"estat:relatedEditorialContent\"\n",
    "        if (resourcetype_id_ in [46,47,48,49]): relation_ = \"estat:relatedStatisticData\"\n",
    "        if (relation_ != \"\") :\n",
    "            #Get the prefix   \n",
    "            s_prefix = find_element_prefix_from_id(concept_id_, \n",
    "                                           SEG_table = SEG_table,  \n",
    "                                           SBA_table=SBA_table,\n",
    "                                           SA_table=SA_table, \n",
    "                                           SED_table=SED_table)\n",
    "            o_prefix = find_element_prefix_from_id(link_id_, \n",
    "                               SEG_table = SEG_table,  \n",
    "                               SBA_table=SBA_table,\n",
    "                               SA_table=SA_table, \n",
    "                               SED_table=SED_table)\n",
    "            if (o_prefix == \"\") :\n",
    "                if (resourcetype_ != None):\n",
    "                    ontology_element, o_prefix = find_element_prefix_from_type(resourcetype_, \n",
    "                                                                               resource_types_prefix_table = resource_types_prefix_table)\n",
    "                    prefix_part = \"PREFIX\"+ o_prefix + \" \" + ontology_element \n",
    "                    resourcetype_query_part = o_prefix + str(link_id_) + \"\"\" dct:type '\"\"\" + str(resourcetype_) + \"\"\"'.\"\"\"\n",
    "                    resourceinfo_query_part = o_prefix + str(link_id_) + \"\"\" estat:resourceInformation '\"\"\" + str(resourceinfo_) + \"\"\"'.\"\"\"\n",
    "                    title_query_part = o_prefix + str(link_id_) +\"\"\" dct:title '\"\"\" +  str(title_) + \"'.\"\n",
    "                    url_query_part = o_prefix + str(link_id_) + \"\"\" dct:source '\"\"\" + str(url_) + \"\"\"'.\"\"\"\n",
    "                    related_query_part = s_prefix + str(concept_id_) + ' ' + relation_ + o_prefix + str(link_id_) + \".\"\n",
    "                else : \n",
    "                    continue\n",
    "            else :\n",
    "                  related_query_part = s_prefix + str(concept_id_) + ' ' + relation_ + o_prefix + str(link_id_) + \".\"\n",
    "\n",
    "            # Construct the query \n",
    "            query = \"\"\"\n",
    "                PREFIX dct: <http://purl.org/dc/terms/>\n",
    "                PREFIX SEG: <https://nlp4statref/knowledge/resource/statistics-explained-glossary#>\n",
    "                PREFIX SBA: <https://nlp4statref/knowledge/resource/background-article#>\n",
    "                PREFIX SA: <https://nlp4statref/knowledge/resource/statistical-article#>\n",
    "                PREFIX SED: <https://nlp4statref/knowledge/resource/statistics-explained-data#>\n",
    "                PREFIX estat: <https://nlp4statref/knowledge/ontology/> \n",
    "                PREFIX skos: <http://www.w3.org/2004/02/skos/core#>\n",
    "                \"\"\" + prefix_part + \"\"\"\n",
    "\n",
    "                INSERT { GRAPH <https://nlp4statref/knowledge/ontology/> { \n",
    "                   \"\"\" + title_query_part + \"\"\"\n",
    "                   \"\"\" + url_query_part + \"\"\"\n",
    "                   \"\"\" + resourcetype_query_part + \"\"\"\n",
    "                   \"\"\" + resourceinfo_query_part + \"\"\"\n",
    "                   \"\"\" + related_query_part + \"\"\"\n",
    "\n",
    "                } }\n",
    "                ;\n",
    "            \"\"\"\n",
    "            if (i  == 0): print(query)\n",
    "            sparql.setQuery(query)\n",
    "            sparql.method = method\n",
    "            sparql.setReturnFormat(JSON)\n",
    "            results = sparql.query().response.read()"
   ]
  },
  {
   "cell_type": "code",
   "execution_count": null,
   "metadata": {},
   "outputs": [],
   "source": [
    "insert_glossary_elements_relations(DB = ESTAT_V1_dat_further_info,\n",
    "                                   resource_types_prefix_table = resource_types_prefix_table,\n",
    "                                   resource_table = ESTAT_V1_dat_resource,\n",
    "                                   link_info_table = ESTAT_V1_dat_link_info,\n",
    "                                   SEG_table = ESTAT_V1_dat_glossary,  \n",
    "                                   SBA_table=ESTAT_V1_dat_background_article,\n",
    "                                   SA_table=ESTAT_V1_dat_article, \n",
    "                                   SED_table=ESTAT_V1_dat_article_core_data,\n",
    "                                   method = 'POST')"
   ]
  },
  {
   "cell_type": "code",
   "execution_count": null,
   "metadata": {
    "scrolled": true
   },
   "outputs": [],
   "source": [
    "insert_glossary_elements_relations(DB = ESTAT_V1_dat_statistical_data,\n",
    "                                   resource_types_prefix_table = resource_types_prefix_table,\n",
    "                                   resource_table = ESTAT_V1_dat_resource,\n",
    "                                   link_info_table = ESTAT_V1_dat_link_info,\n",
    "                                   SEG_table = ESTAT_V1_dat_glossary,  \n",
    "                                   SBA_table=ESTAT_V1_dat_background_article,\n",
    "                                   SA_table=ESTAT_V1_dat_article, \n",
    "                                   SED_table=ESTAT_V1_dat_article_core_data,\n",
    "                                   method = 'POST')"
   ]
  },
  {
   "cell_type": "code",
   "execution_count": null,
   "metadata": {},
   "outputs": [],
   "source": [
    "def insert_SE_glossary_sources(sources_concepts_table, link_info_table, resource_types_prefix_table, resource_table, method): \n",
    "    for i, row in sources_concepts_table.iterrows():\n",
    "        concept_id_ = row[\"glossary_id\"]\n",
    "        link_id_ = row[\"link_id\"] \n",
    "        #Get ressource type from the eurostat_links\n",
    "        resourcetype_id_ = link_info_table.loc[link_info_table['id'] == link_id_]['resource_type_id'].item()\n",
    "        resourcetype_ = resource_table.loc[resource_table['id'] == resourcetype_id_]['uri'].item() \n",
    "        #\n",
    "        if (resourcetype_ != None):\n",
    "            ontology_element, o_prefix = find_element_prefix_from_type(resourcetype_, \n",
    "                                                               resource_types_prefix_table = resource_types_prefix_table)\n",
    "\n",
    "            prefix_part = \"PREFIX\"+ o_prefix + \" \" + ontology_element \n",
    "\n",
    "            related_concept_query_part = \"SEG:\" + str(concept_id_) + \"\"\" estat:sourceInformation\"\"\"+ o_prefix +  str(link_id_) + \".\"\n",
    "            # Construct the query \n",
    "            query = \"\"\"\n",
    "                PREFIX SEG: <https://nlp4statref/knowledge/resource/statistics-explained-glossary#>\n",
    "                PREFIX skos: <http://www.w3.org/2004/02/skos/core#>\n",
    "                PREFIX estat: <https://nlp4statref/knowledge/ontology/> \n",
    "                \"\"\" + prefix_part + \"\"\"\n",
    "                INSERT { GRAPH <https://nlp4statref/knowledge/ontology/> { \n",
    "                  \"\"\" + related_concept_query_part + \"\"\"\n",
    "            } }\n",
    "            ;\n",
    "                \"\"\"\n",
    "            #Take out special characters : \n",
    "            query.encode('latin-1')\n",
    "            if (i == 0): print(query)\n",
    "            sparql.setQuery(query)\n",
    "            sparql.method = method\n",
    "            sparql.setReturnFormat(JSON)\n",
    "            results = sparql.query().response.read()"
   ]
  },
  {
   "cell_type": "code",
   "execution_count": null,
   "metadata": {
    "scrolled": true
   },
   "outputs": [],
   "source": [
    "insert_SE_glossary_sources(ESTAT_V1_dat_sources,\n",
    "                           ESTAT_V1_dat_link_info, \n",
    "                           resource_types_prefix_table,\n",
    "                           ESTAT_V1_dat_resource,\n",
    "                           'POST')"
   ]
  },
  {
   "cell_type": "markdown",
   "metadata": {},
   "source": [
    "###  3 - Insertion of Statistical Explained elements into the KDB. "
   ]
  },
  {
   "cell_type": "markdown",
   "metadata": {},
   "source": [
    "###  3.1 - Insertion of Statistical Explained articles"
   ]
  },
  {
   "cell_type": "code",
   "execution_count": null,
   "metadata": {},
   "outputs": [],
   "source": [
    "## Find the homepage : \n",
    "SA_homepage_id = ESTAT_V1_dat_article.loc[ESTAT_V1_dat_article['homepage']==1]['id'].item()"
   ]
  },
  {
   "cell_type": "code",
   "execution_count": null,
   "metadata": {},
   "outputs": [],
   "source": [
    "def insert_dat_article(DB, article_shared_link_table, link_info_table, resource_table, homepage_id, method): \n",
    "\n",
    "    for i, row in DB.iterrows():\n",
    "\n",
    "        id_ = row['id']\n",
    "        if id_ != homepage_id :    \n",
    "            last_update_ = str(row[\"last_update\"])\n",
    "\n",
    "            # Get info from the eurostat_links\n",
    "            title_ = link_info_table[link_info_table['id'] == id_].title.item()\n",
    "            title_ = title_.replace(\"'\",\"\").strip()\n",
    "            url_ = link_info_table[link_info_table['id'] == id_].url.item()\n",
    " \n",
    "            resourcetype_id_ = link_info_table.loc[link_info_table['id'] == id_]['resource_type_id'].item()\n",
    "            resourceinfo_id_ = link_info_table.loc[link_info_table['id'] == id_]['resource_information_id'].item() \n",
    "            #get the label from resourcetype and info  id\n",
    "            resourceinfo_ = resource_table.loc[resource_table['id'] == resourceinfo_id_]['uri'].item()\n",
    "            if resourcetype_id_ in resource_table['id']:\n",
    "                resourcetype_ = resource_table.loc[resource_table['id'] == resourcetype_id_]['uri'].item() \n",
    "                resourcetype_query_part = \"SA:\" + str(id_) + \"\"\" dct:type '\"\"\" +  str(resourcetype_) + \"'.\"\n",
    "            else : resourcetype_query_part = \"\"\n",
    "            # add source data \n",
    "            shared_links = article_shared_link_table[article_shared_link_table['article_id'] == id_]\n",
    "            if (1 in shared_links['article_division_id'].values) : \n",
    "                source_query_part = []\n",
    "                for link_id_ in shared_links.loc[shared_links['article_division_id']==1]['link_id'].values:\n",
    "                    subpart = \"SA:\" + str(id_) + \"\"\" estat:sourceData SDR:\"\"\" +  str(link_id_) + \".\"\n",
    "                    source_query_part.append(subpart)\n",
    "                source_query_part = '\\n'.join(source_query_part)\n",
    "            else : \n",
    "                source_query_part = \"\"\n",
    "          \n",
    "            # Construct the query \n",
    "            query = \"\"\"\n",
    "                PREFIX dct: <http://purl.org/dc/terms/>\n",
    "                PREFIX estat: <https://nlp4statref/knowledge/ontology/>\n",
    "                PREFIX SA: <https://nlp4statref/knowledge/resource/statistical-article#>\n",
    "                PREFIX SDR: <https://nlp4statref/knowledge/resource/statistical-data-report#>\n",
    "                INSERT { GRAPH <https://nlp4statref/knowledge/ontology/> { \n",
    "                  SA:\"\"\" + str(id_) + \"\"\" estat:StatisticalArticle SA:\"\"\" + str(id_) + \"\"\".\n",
    "                  \"\"\" + resourcetype_query_part + \"\"\"\n",
    "                  SA:\"\"\" + str(id_) + \"\"\" dct:title '\"\"\" + str(title_) + \"\"\"'.  \n",
    "                  SA:\"\"\" + str(id_) + \"\"\" dct:description 'Statistics Explained article'.\n",
    "                  SA:\"\"\" + str(id_) + \"\"\" dct:publisher 'http://publications.europa.eu/resource/authority/corporate-body/ESTAT'.\n",
    "                  SA:\"\"\" + str(id_) + \"\"\" estat:resourceInformation '\"\"\" + str(resourceinfo_) + \"\"\"'.\n",
    "                  SA:\"\"\" + str(id_) + \"\"\" dct:modified '\"\"\" + str(last_update_) + \"\"\"'.\n",
    "                  SA:\"\"\" + str(id_) + \"\"\" dct:source '\"\"\" + str(url_) + \"\"\"'.  \n",
    "                  \"\"\" + source_query_part + \"\"\"\n",
    "            } }\n",
    "            ;\n",
    "                \"\"\"\n",
    "            if (i == 0): print(query)\n",
    "            sparql.setQuery(query)\n",
    "            sparql.method = method\n",
    "            sparql.setReturnFormat(JSON)\n",
    "            results = sparql.query().response.read()"
   ]
  },
  {
   "cell_type": "code",
   "execution_count": null,
   "metadata": {},
   "outputs": [],
   "source": [
    "insert_dat_article(DB = ESTAT_V1_dat_article,\n",
    "                   article_shared_link_table = ESTAT_V1_dat_article_shared_link,\n",
    "                              link_info_table = ESTAT_V1_dat_link_info,\n",
    "                   resource_table = ESTAT_V1_dat_resource,\n",
    "                              homepage_id =  SA_homepage_id,\n",
    "                              method = \"POST\")"
   ]
  },
  {
   "cell_type": "markdown",
   "metadata": {},
   "source": [
    "###  3.2 - Insertion of Statistical Explained core data "
   ]
  },
  {
   "cell_type": "markdown",
   "metadata": {},
   "source": [
    "Core data --> Excel part of SArticles "
   ]
  },
  {
   "cell_type": "code",
   "execution_count": null,
   "metadata": {},
   "outputs": [],
   "source": [
    "def insert_dat_article_core_data(DB, link_info_table, article_paragraph_table, article_table, resource_table, method): \n",
    "  \n",
    "    for i, row in DB.iterrows():\n",
    "\n",
    "        id_ = row['link_id']\n",
    "        \n",
    "        article_id_ = row[\"article_id\"]\n",
    "        #Get last update from article table : \n",
    "        last_update_ = str( article_table[article_table['id'] == article_id_].last_update.item())\n",
    "        #Get info from the eurostat_links\n",
    "        url_ = link_info_table[link_info_table['id'] == id_].url.item()\n",
    "        title_ = link_info_table[link_info_table['id'] == article_id_].title.item()\n",
    "        title_ = title_.replace(\"'\",\"\").strip()\n",
    "        resourcetype_id_ = link_info_table.loc[link_info_table['id'] == id_]['resource_type_id'].item()\n",
    "        resourceinfo_id_ = link_info_table.loc[link_info_table['id'] == id_]['resource_information_id'].item() \n",
    "        \n",
    "        #get the label from resourcetype and info  id\n",
    "        resourceinfo_ = resource_table.loc[resource_table['id'] == resourceinfo_id_]['uri'].item()\n",
    "        if resourcetype_id_ in resource_table['id']:\n",
    "            resourcetype_ = resource_table.loc[resource_table['id'] == resourcetype_id_]['uri'].item() \n",
    "            resourcetype_query_part = \"SDR:\" + str(id_) + \"\"\" dct:type '\"\"\" +  str(resourcetype_) + \"'.\"\n",
    "        else : resourcetype_query_part = \"\"        \n",
    "        \n",
    "\n",
    "        # Construct the query \n",
    "        query = \"\"\"\n",
    "\n",
    "            PREFIX dct: <http://purl.org/dc/terms/>\n",
    "            PREFIX estat: <https://nlp4statref/knowledge/ontology/>\n",
    "            PREFIX SDR: <https://nlp4statref/knowledge/resource/statistical-data-report#>\n",
    "            PREFIX SA: <https://nlp4statref/knowledge/resource/statistical-article#>\n",
    "            \n",
    "            INSERT { GRAPH <https://nlp4statref/knowledge/ontology/> { \n",
    "\n",
    "              SDR:\"\"\" + str(id_) + \"\"\" estat:StatisticalDataReport SDR:\"\"\" + str(id_) + \"\"\".\n",
    "              \"\"\" + resourcetype_query_part + \"\"\"\n",
    "              SDR:\"\"\" + str(id_) + \"\"\" dct:title '\"\"\" + str(title_) + \"\"\"'.  \n",
    "              SDR:\"\"\" + str(id_) + \"\"\" dct:publisher 'http://publications.europa.eu/resource/authority/corporate-body/ESTAT'.\n",
    "              SDR:\"\"\" + str(id_) + \"\"\" estat:resourceInformation '\"\"\" + str(resourceinfo_) + \"\"\"'.\n",
    "              SDR:\"\"\" + str(id_) + \"\"\" dct:modified '\"\"\" + str(last_update_) + \"\"\"'.\n",
    "              SDR:\"\"\" + str(id_) + \"\"\" dct:source '\"\"\" + str(url_) + \"\"\"'.  \n",
    "              SDR:\"\"\" + str(id_) + \"\"\" estat:dataInformation SA:\"\"\" + str(article_id_) + \"\"\".  \n",
    "\n",
    "        } }\n",
    "        ;\n",
    "            \"\"\"\n",
    "        if (i == 0): print(query)\n",
    "        sparql.setQuery(query)\n",
    "        sparql.method = method\n",
    "        sparql.setReturnFormat(JSON)\n",
    "        results = sparql.query().response.read()"
   ]
  },
  {
   "cell_type": "code",
   "execution_count": null,
   "metadata": {},
   "outputs": [],
   "source": [
    "insert_dat_article_core_data(DB = ESTAT_V1_dat_article_core_data,\n",
    "                              link_info_table = ESTAT_V1_dat_link_info,\n",
    "                             article_paragraph_table= ESTAT_V1_dat_article_paragraph,\n",
    "                             article_table = ESTAT_V1_dat_article,\n",
    "                             resource_table = ESTAT_V1_dat_resource,\n",
    "                              method = \"POST\")"
   ]
  },
  {
   "cell_type": "markdown",
   "metadata": {},
   "source": [
    "###  3.3 - Insertion of Statistical Explained articles related elements "
   ]
  },
  {
   "cell_type": "markdown",
   "metadata": {},
   "source": [
    "In the following, some elements are not yet added to the KDB (SBA, SA) and are added inside this function "
   ]
  },
  {
   "cell_type": "code",
   "execution_count": null,
   "metadata": {},
   "outputs": [],
   "source": [
    "#V7.1\n",
    "def insert_articles_elements_relations(DB, link_info_table, resource_table, resource_types_prefix_table, SEG_table, SBA_table, SA_table, SED_table, method):      \n",
    "    \n",
    "    for i, row in DB.iterrows():\n",
    "        article_id = row[\"article_id\"]\n",
    "        link_id_ = row[\"link_id\"] #concept et link sont de la meme sequence unique. \n",
    "  \n",
    "        #Get elements from the eurostat_links\n",
    "        resourcetype_id_ = link_info_table.loc[link_info_table['id'] == link_id_]['resource_type_id'].item()\n",
    "        resourceinfo_id_ = link_info_table.loc[link_info_table['id'] == link_id_]['resource_information_id'].item() \n",
    "        title_ = link_info_table.loc[link_info_table['id'] == link_id_]['title'].item()\n",
    "        title_ = title_.replace(\"'\",\"\").strip()\n",
    "        url_ = link_info_table.loc[link_info_table['id'] == link_id_]['url'].item()\n",
    "        \n",
    "        #get the label from resourcetype and info  id\n",
    "        resourceinfo_ = resource_table.loc[resource_table['id'] == resourceinfo_id_]['uri'].item() \n",
    "        resourcetype_ = resource_table.loc[resource_table['id'] == resourcetype_id_]['uri'].item() \n",
    "        \n",
    "        relation_ = \"\"\n",
    "        #print(resourcetype_id_)\n",
    "        \n",
    "        #Init query parts : \n",
    "        prefix_part = \"\"\n",
    "        title_query_part = \"\"\n",
    "        url_query_part = \"\"\n",
    "        resourcetype_query_part = \"\"\n",
    "        resourceinfo_query_part = \"\"\n",
    "        \n",
    "        ##Get the type of link : \n",
    "        if (resourcetype_id_ in [37]): relation_ = \"estat:relatedLegallnformation\"\n",
    "        if (resourcetype_id_ in [0,41,42,43,44,45]): relation_ = \"estat:relatedEditorialContent\"\n",
    "        if (resourcetype_id_ in [46,47,48,49]): relation_ = \"estat:relatedStatisticData\"\n",
    "        if (relation_ != \"\") :\n",
    "            #Get the prefix   \n",
    "            s_prefix = find_element_prefix_from_id(article_id, \n",
    "                                           SEG_table = SEG_table,  \n",
    "                                           SBA_table=SBA_table,\n",
    "                                           SA_table=SA_table, \n",
    "                                           SED_table=SED_table)\n",
    "            o_prefix = find_element_prefix_from_id(link_id_, \n",
    "                               SEG_table = SEG_table,  \n",
    "                               SBA_table=SBA_table,\n",
    "                               SA_table=SA_table, \n",
    "                               SED_table=SED_table)\n",
    "            if (o_prefix == \"\") :\n",
    "                if (resourcetype_ != None):\n",
    "                    ontology_element, o_prefix = find_element_prefix_from_type(resourcetype_, \n",
    "                                                                               resource_types_prefix_table = resource_types_prefix_table)\n",
    "                    prefix_part = \"PREFIX\"+ o_prefix + \" \" + ontology_element \n",
    "                    resourcetype_query_part = o_prefix + str(link_id_) + \"\"\" dct:type '\"\"\" + str(resourcetype_) + \"\"\"'.\"\"\"\n",
    "                    resourceinfo_query_part = o_prefix + str(link_id_) + \"\"\" estat:resourceInformation '\"\"\" + str(resourceinfo_) + \"\"\"'.\"\"\"\n",
    "                    title_query_part = o_prefix + str(link_id_) +\"\"\" dct:title '\"\"\" +  str(title_) + \"'.\"\n",
    "                    url_query_part = o_prefix + str(link_id_) + \"\"\" dct:source '\"\"\" + str(url_) + \"\"\"'.\"\"\"\n",
    "                    related_query_part = s_prefix + str(article_id) + ' ' + relation_ + o_prefix + str(link_id_) + \".\"\n",
    "                else : \n",
    "                    continue\n",
    "            else :\n",
    "                  related_query_part = s_prefix + str(article_id) + ' ' + relation_ + o_prefix + str(link_id_) + \".\"\n",
    "\n",
    "            # Construct the query \n",
    "            query = \"\"\"\n",
    "                PREFIX dct: <http://purl.org/dc/terms/>\n",
    "                PREFIX SEG: <https://nlp4statref/knowledge/resource/statistics-explained-glossary#>\n",
    "                PREFIX SBA: <https://nlp4statref/knowledge/resource/background-article#>\n",
    "                PREFIX SA: <https://nlp4statref/knowledge/resource/statistical-article#>\n",
    "                PREFIX SED: <https://nlp4statref/knowledge/resource/statistics-explained-data#>\n",
    "                PREFIX estat: <https://nlp4statref/knowledge/ontology/> \n",
    "                PREFIX skos: <http://www.w3.org/2004/02/skos/core#>\n",
    "                \"\"\" + prefix_part + \"\"\"\n",
    "\n",
    "                INSERT { GRAPH <https://nlp4statref/knowledge/ontology/> { \n",
    "                   \"\"\" + title_query_part + \"\"\"\n",
    "                   \"\"\" + url_query_part + \"\"\"\n",
    "                   \"\"\" + resourcetype_query_part + \"\"\"\n",
    "                   \"\"\" + resourceinfo_query_part + \"\"\"\n",
    "                   \"\"\" + related_query_part + \"\"\"\n",
    "                } }\n",
    "                ;\n",
    "            \"\"\"\n",
    "            if (i == 0): print(query)\n",
    "            sparql.setQuery(query)\n",
    "            sparql.method = method\n",
    "            sparql.setReturnFormat(JSON)\n",
    "            results = sparql.query().response.read()"
   ]
  },
  {
   "cell_type": "code",
   "execution_count": null,
   "metadata": {
    "scrolled": true
   },
   "outputs": [],
   "source": [
    "insert_articles_elements_relations(DB = ESTAT_V1_dat_article_shared_link,\n",
    "                                   resource_types_prefix_table = resource_types_prefix_table,\n",
    "                                   resource_table = ESTAT_V1_dat_resource,\n",
    "                                   link_info_table = ESTAT_V1_dat_link_info,\n",
    "                                   SEG_table = ESTAT_V1_dat_glossary,  \n",
    "                                   SBA_table=ESTAT_V1_dat_background_article,\n",
    "                                   SA_table=ESTAT_V1_dat_article, \n",
    "                                   SED_table=ESTAT_V1_dat_article_core_data,\n",
    "                                   method = 'POST')"
   ]
  },
  {
   "cell_type": "markdown",
   "metadata": {},
   "source": [
    "###  4 - Insertion of Background Articles elements into the KDB. "
   ]
  },
  {
   "cell_type": "markdown",
   "metadata": {},
   "source": [
    "###  4.1 - Insertion of Background Articles"
   ]
  },
  {
   "cell_type": "code",
   "execution_count": null,
   "metadata": {},
   "outputs": [],
   "source": [
    "#a mettre à jour \n",
    "## Find the homepage : \n",
    "SBA_homepage_id = ESTAT_V1_dat_background_article.loc[ESTAT_V1_dat_background_article['homepage']==1]['id'].item()"
   ]
  },
  {
   "cell_type": "code",
   "execution_count": null,
   "metadata": {},
   "outputs": [],
   "source": [
    "SBA_homepage_id"
   ]
  },
  {
   "cell_type": "code",
   "execution_count": null,
   "metadata": {},
   "outputs": [],
   "source": [
    "#a mettre à jour \n",
    "def insert_dat_background_article(DB, article_shared_link_table, link_info_table, resource_table, homepage_id, method): \n",
    "\n",
    "    for i, row in DB.iterrows():\n",
    "\n",
    "        id_ = row['id']\n",
    "        if id_ != homepage_id :    \n",
    "            last_update_ = str(row[\"last_update\"])\n",
    "\n",
    "            # Get info from the eurostat_links\n",
    "            title_ = link_info_table[link_info_table['id'] == id_].title.item()\n",
    "            title_ = title_.replace(\"'\",\"\").strip()\n",
    "            url_ = link_info_table[link_info_table['id'] == id_].url.item()\n",
    "            \n",
    "            resourcetype_id_ = link_info_table.loc[link_info_table['id'] == id_]['resource_type_id'].item()\n",
    "            resourceinfo_id_ = link_info_table.loc[link_info_table['id'] == id_]['resource_information_id'].item() \n",
    "            #get the label from resourcetype and info  id\n",
    "            resourceinfo_ = resource_table.loc[resource_table['id'] == resourceinfo_id_]['uri'].item()\n",
    "            if resourcetype_id_ in resource_table['id']:\n",
    "                resourcetype_ = resource_table.loc[resource_table['id'] == resourcetype_id_]['uri'].item() \n",
    "                resourcetype_query_part = \"SBA:\" + str(id_) + \"\"\" dct:type '\"\"\" +  str(resourcetype_) + \"'.\"\n",
    "            else : resourcetype_query_part = \"\"\n",
    "        \n",
    "            # add source data \n",
    "            shared_links = article_shared_link_table[article_shared_link_table['article_id'] == id_]\n",
    "            if (1 in shared_links['article_division_id'].values) : \n",
    "                shared_links_source = shared_links.loc[shared_links['article_division_id']==1]['link_id'].values\n",
    "                source_query_part = []\n",
    "                for val in shared_links_source: # if multiple values \n",
    "                    subpart = \"\"\"SBA:\"\"\" + str(id_) + \"\"\" estat:sourceData SDR:\"\"\"   + str(val) + \"\"\".\"\"\"\n",
    "                    source_query_part.append(subpart)\n",
    "                source_query_part = '\\n'.join(source_query_part)      \n",
    "            else : source_query_part = \"\"\n",
    "            # Construct the query \n",
    "            query = \"\"\"\n",
    "\n",
    "                PREFIX dct: <http://purl.org/dc/terms/>\n",
    "                PREFIX estat: <https://nlp4statref/knowledge/ontology/>\n",
    "                PREFIX SBA: <https://nlp4statref/knowledge/resource/background-article#>\n",
    "                PREFIX SDR: <https://nlp4statref/knowledge/resource/statistical-data-report#>\n",
    "                INSERT { GRAPH <https://nlp4statref/knowledge/ontology/> { \n",
    "\n",
    "                  SBA:\"\"\" + str(id_) + \"\"\" estat:BackgroundArticle SBA:\"\"\" + str(id_) + \"\"\".\n",
    "                  \"\"\" + resourcetype_query_part + \"\"\"\n",
    "                  SBA:\"\"\" + str(id_) + \"\"\" dct:title '\"\"\" + str(title_) + \"\"\"'.  \n",
    "                  SBA:\"\"\" + str(id_) + \"\"\" dct:description 'Background article'.\n",
    "                  SBA:\"\"\" + str(id_) + \"\"\" dct:publisher 'http://publications.europa.eu/resource/authority/corporate-body/ESTAT'.\n",
    "                  SBA:\"\"\" + str(id_) + \"\"\" estat:resourceInformation '\"\"\" + str(resourceinfo_) + \"\"\"'.\n",
    "                  SBA:\"\"\" + str(id_) + \"\"\" dct:modified '\"\"\" + str(last_update_) + \"\"\"'.\n",
    "                  SBA:\"\"\" + str(id_) + \"\"\" dct:source '\"\"\" + str(url_) + \"\"\"'.  \n",
    "                  \"\"\" + source_query_part + \"\"\"\n",
    "\n",
    "            } }\n",
    "            ;\n",
    "                \"\"\"\n",
    "            if (i == 0): print(query)\n",
    "            sparql.setQuery(query)\n",
    "            sparql.method = method\n",
    "            sparql.setReturnFormat(JSON)\n",
    "            results = sparql.query().response.read()"
   ]
  },
  {
   "cell_type": "code",
   "execution_count": null,
   "metadata": {},
   "outputs": [],
   "source": [
    "#a mettre à jour \n",
    "insert_dat_background_article(DB = ESTAT_V1_dat_background_article,\n",
    "                   article_shared_link_table = ESTAT_V1_dat_article_shared_link,\n",
    "                              link_info_table = ESTAT_V1_dat_link_info,\n",
    "                              resource_table = ESTAT_V1_dat_resource,\n",
    "                              homepage_id =  SBA_homepage_id,\n",
    "                              method = \"POST\")"
   ]
  },
  {
   "cell_type": "markdown",
   "metadata": {},
   "source": [
    "###  4.2 - Insertion of Background Articles core data "
   ]
  },
  {
   "cell_type": "markdown",
   "metadata": {},
   "source": [
    "Core data --> Excel part of SArticles "
   ]
  },
  {
   "cell_type": "code",
   "execution_count": null,
   "metadata": {},
   "outputs": [],
   "source": [
    "#a mettre à jour \n",
    "def insert_dat_article_core_data(DB, link_info_table, article_paragraph_table, article_table, resource_table, method): \n",
    "  \n",
    "    for i, row in DB.iterrows():\n",
    "\n",
    "        id_ = row['link_id']\n",
    "        \n",
    "        article_id_ = row[\"article_id\"]\n",
    "        #Get last update from article table : \n",
    "        last_update_ = str( article_table[article_table['id'] == article_id_].last_update.item())\n",
    "        #Get info from the eurostat_links\n",
    "        url_ = link_info_table[link_info_table['id'] == id_].url.item()\n",
    "        title_ = link_info_table[link_info_table['id'] == article_id_].title.item()\n",
    "        title_ = title_.replace(\"'\",\"\").strip()\n",
    "\n",
    "        resourcetype_id_ = link_info_table.loc[link_info_table['id'] == id_]['resource_type_id'].item()\n",
    "        resourceinfo_id_ = link_info_table.loc[link_info_table['id'] == id_]['resource_information_id'].item() \n",
    "        #get the label from resourcetype and info  id\n",
    "        resourceinfo_ = resource_table.loc[resource_table['id'] == resourceinfo_id_]['uri'].item()\n",
    "        if resourcetype_id_ in resource_table['id']:\n",
    "            resourcetype_ = resource_table.loc[resource_table['id'] == resourcetype_id_]['uri'].item() \n",
    "            resourcetype_query_part = \"SDR:\" + str(id_) + \"\"\" dct:type '\"\"\" +  str(resourcetype_) + \"'.\"\n",
    "        else : resourcetype_query_part = \"\"\n",
    "        \n",
    "\n",
    "        # Construct the query \n",
    "        query = \"\"\"\n",
    "\n",
    "            PREFIX dct: <http://purl.org/dc/terms/>\n",
    "            PREFIX estat: <https://nlp4statref/knowledge/ontology/>\n",
    "            PREFIX SDR: <https://nlp4statref/knowledge/resource/statistical-data-report#>\n",
    "            PREFIX SBA: <https://nlp4statref/knowledge/resource/background-article#>\n",
    "            \n",
    "            INSERT { GRAPH <https://nlp4statref/knowledge/ontology/> { \n",
    "\n",
    "              SDR:\"\"\" + str(id_) + \"\"\" estat:StatisticalDataReport SDR:\"\"\" + str(id_) + \"\"\".\n",
    "              \"\"\" + resourcetype_query_part + \"\"\"\n",
    "              SDR:\"\"\" + str(id_) + \"\"\" dct:title '\"\"\" + str(title_) + \"\"\"'.  \n",
    "              SDR:\"\"\" + str(id_) + \"\"\" dct:publisher 'http://publications.europa.eu/resource/authority/corporate-body/ESTAT'.\n",
    "              SDR:\"\"\" + str(id_) + \"\"\" estat:resourceInformation '\"\"\" + str(resourceinfo_) + \"\"\"'.\n",
    "              SDR:\"\"\" + str(id_) + \"\"\" dct:modified '\"\"\" + str(last_update_) + \"\"\"'.\n",
    "              SDR:\"\"\" + str(id_) + \"\"\" dct:source '\"\"\" + str(url_) + \"\"\"'.  \n",
    "              SDR:\"\"\" + str(id_) + \"\"\" estat:dataInformation SBA:\"\"\" + str(article_id_) + \"\"\".  \n",
    "\n",
    "        } }\n",
    "        ;\n",
    "            \"\"\"\n",
    "        if (i == 0): print(query)\n",
    "        sparql.setQuery(query)\n",
    "        sparql.method = method\n",
    "        sparql.setReturnFormat(JSON)\n",
    "        results = sparql.query().response.read()"
   ]
  },
  {
   "cell_type": "code",
   "execution_count": null,
   "metadata": {},
   "outputs": [],
   "source": [
    "#a mettre à jour \n",
    "insert_dat_article_core_data(DB = ESTAT_V1_dat_background_article_core_data,\n",
    "                              link_info_table = ESTAT_V1_dat_link_info,\n",
    "                             article_paragraph_table= ESTAT_V1_dat_article_paragraph,\n",
    "                             article_table = ESTAT_V1_dat_background_article,\n",
    "                              resource_table = ESTAT_V1_dat_resource,\n",
    "                              method = \"POST\")"
   ]
  },
  {
   "cell_type": "code",
   "execution_count": null,
   "metadata": {},
   "outputs": [],
   "source": [
    "SelectStatements = \"\"\"\n",
    "\n",
    "PREFIX SBA: <https://nlp4statref/knowledge/resource/background-article#>\n",
    "SELECT * FROM <https://nlp4statref/knowledge/ontology/>\n",
    "WHERE { SBA:25 ?s ?o\n",
    "\n",
    "}       \n",
    "\"\"\"\n",
    "sparql.setQuery(SelectStatements)\n",
    "sparql.method = \"POST\"\n",
    "sparql.setReturnFormat(JSON)\n",
    "results = sparql.query().convert()['results']['bindings']\n",
    "results = pd.json_normalize(results)\n",
    "print(results['o.value'].values[0])"
   ]
  },
  {
   "cell_type": "markdown",
   "metadata": {},
   "source": [
    "###  5 - Insertion of Estat Glossary elements into the KDB. "
   ]
  },
  {
   "cell_type": "markdown",
   "metadata": {},
   "source": [
    "This part is a temporary version based on a bulk download of the glossary. Some elements are missing from the CDB."
   ]
  },
  {
   "cell_type": "code",
   "execution_count": null,
   "metadata": {},
   "outputs": [],
   "source": [
    "## Find the homepage : \n",
    "EurostatGlossary_homepage_id = ESTAT_V1_dat_link_info.loc[ESTAT_V1_dat_link_info['title']==\"Eurostat's Concepts and Definitions Database\"]['id'].item()"
   ]
  },
  {
   "cell_type": "code",
   "execution_count": null,
   "metadata": {},
   "outputs": [],
   "source": [
    "EurostatGlossary_homepage_link_info = ESTAT_V1_dat_link_info.loc[ESTAT_V1_dat_link_info['id']==EurostatGlossary_homepage_id]"
   ]
  },
  {
   "cell_type": "markdown",
   "metadata": {},
   "source": [
    "Attention, la homepage de ce glossaire est differente du reste"
   ]
  },
  {
   "cell_type": "code",
   "execution_count": null,
   "metadata": {},
   "outputs": [],
   "source": [
    "EurostatGlossary_homepage_link_info"
   ]
  },
  {
   "cell_type": "code",
   "execution_count": null,
   "metadata": {},
   "outputs": [],
   "source": [
    "###for the homepage \n",
    "\n",
    "def insert_estat_glossary_homepage(link_info_table_homepage_subset, resource_table\n",
    ", method): \n",
    "       \n",
    "    id_ = link_info_table_homepage_subset[\"id\"].item()\n",
    "    title_ = link_info_table_homepage_subset[\"title\"].item()\n",
    "    title_ = title_.replace(\"'\",\"\").strip()\n",
    "    url_ = link_info_table_homepage_subset[\"url\"].item()\n",
    "    resourcetype_id_ = link_info_table_homepage_subset.loc[link_info_table_homepage_subset['id'] == id_]['resource_type_id'].item()\n",
    "    resourceinfo_id_ = link_info_table_homepage_subset.loc[link_info_table_homepage_subset['id'] == id_]['resource_information_id'].item() \n",
    "    #get the label from resourcetype and info  id\n",
    "    resourceinfo_ = resource_table.loc[resource_table['id'] == resourceinfo_id_]['uri'].item()\n",
    "    if resourcetype_id_ in resource_table['id']:\n",
    "        resourcetype_ = resource_table.loc[resource_table['id'] == resourcetype_id_]['uri'].item() \n",
    "        resourcetype_query_part = \"EG:\" + str(id_) + \"\"\" dct:type '\"\"\" +  str(resourcetype_) + \"'.\"\n",
    "    else : resourcetype_query_part = \"\"\n",
    "    concept_query_part = \"EG:\" + str(id_) + \"\"\" skos:ConceptScheme  'https://nlp4statref/knowledge/resource/vocabulary/glossary/eurostat-glossary'.\"\"\"\n",
    "    title_query_part = \"EG:\" + str(id_) + \"\"\" dct:title '\"\"\" +  str(title_) + \"'.\"\n",
    "    publisher_query_part = \"\"\"EG:\"\"\" + str(id_) +  \"\"\" dct:publisher 'http://publications.europa.eu/resource/authority/corporate-body/ESTAT'.\"\"\"\n",
    "\n",
    "\n",
    "    # Construct the query \n",
    "    query = \"\"\"\n",
    "        PREFIX dct: <http://purl.org/dc/terms/>\n",
    "        PREFIX estat: <https://nlp4statref/knowledge/ontology/>\n",
    "        PREFIX EG: <https://nlp4statref/knowledge/resource/terminology/glossary/eurostat-glossary#>\n",
    "        INSERT { GRAPH <https://nlp4statref/knowledge/ontology/> { \n",
    "          \"\"\" + concept_query_part + \"\"\"     \n",
    "          \"\"\" + title_query_part + \"\"\"\n",
    "          \"\"\" + publisher_query_part + \"\"\"\n",
    "          EG:\"\"\" + str(id_) + \"\"\" dct:source '\"\"\" + str(url_) + \"\"\"'.  \n",
    "          \"\"\" + resourcetype_query_part + \"\"\"\n",
    "          EG:\"\"\" + str(id_) + \"\"\" estat:resourceInformation '\"\"\" + str(resourceinfo_) + \"\"\"'.  \n",
    "    } }\n",
    "    ;\n",
    "        \"\"\"\n",
    "    #Take out special characters : \n",
    "    query.encode('latin-1')\n",
    "    print(query)\n",
    "    sparql.setQuery(query)\n",
    "    sparql.method = method\n",
    "    sparql.setReturnFormat(JSON)\n",
    "    results = sparql.query().response.read()"
   ]
  },
  {
   "cell_type": "code",
   "execution_count": null,
   "metadata": {
    "scrolled": true
   },
   "outputs": [],
   "source": [
    "###run the function \n",
    "insert_estat_glossary_homepage(link_info_table_homepage_subset = EurostatGlossary_homepage_link_info, \n",
    "                               resource_table = ESTAT_V1_dat_resource,\n",
    "                               method= 'POST')"
   ]
  },
  {
   "cell_type": "code",
   "execution_count": null,
   "metadata": {},
   "outputs": [],
   "source": [
    "# This is done separetely for memory issues : \n",
    "def insert_estat_glossary_homepage_top_concepts(estat_glossary_table, method): \n",
    "       \n",
    "    id_ = 0\n",
    "    concept_query_part = \"EG:\" + str(id_) + \"\"\" skos:ConceptScheme  'https://nlp4statref/knowledge/resource/vocabulary/glossary/eurostat-glossary'.\"\"\"\n",
    "    for concept_id_ in estat_glossary_table.id:\n",
    "        topconcept_query_part = \"EG:\" + str(id_) + \"\"\" skos:hasTopConcept EG:\"\"\" +  str(concept_id_) + \".\"\n",
    "        # Construct the query \n",
    "        query = \"\"\"\n",
    "            PREFIX EG: <https://nlp4statref/knowledge/resource/terminology/glossary/eurostat-glossary#>\n",
    "            PREFIX skos: <http://www.w3.org/2004/02/skos/core#>\n",
    "            INSERT { GRAPH <https://nlp4statref/knowledge/ontology/> { \n",
    "              \"\"\" + topconcept_query_part + \"\"\"\n",
    "        } }\n",
    "        ;\n",
    "            \"\"\"\n",
    "        #Take out special characters : \n",
    "        query.encode('latin-1')\n",
    "        sparql.setQuery(query)\n",
    "        sparql.method = method\n",
    "        sparql.setReturnFormat(JSON)\n",
    "        results = sparql.query().response.read()"
   ]
  },
  {
   "cell_type": "code",
   "execution_count": null,
   "metadata": {},
   "outputs": [],
   "source": [
    "###run the function \n",
    "insert_estat_glossary_homepage_top_concepts(estat_glossary_table = ESTAT_V1_dat_estat_glossary, \n",
    "                                            method = 'POST')\n",
    "       "
   ]
  },
  {
   "cell_type": "code",
   "execution_count": null,
   "metadata": {},
   "outputs": [],
   "source": [
    "def insert_estat_glossary_elements(DB, method): \n",
    "\n",
    "    \n",
    "    for i, row in DB.iterrows():\n",
    "        id_ = row[\"id\"]\n",
    "        title_ = row[\"term\"]\n",
    "        title_ = title_.replace(\"'\",\"\").strip()\n",
    "        definition_ = row[\"definition\"]\n",
    "        definition_ = definition_.replace(\"'\",\"\").strip()\n",
    "        definition_ = definition_.replace(\"\\\\\",\"\").strip()  \n",
    "        last_update_ = str(row[\"date_update\"])\n",
    "\n",
    "        concept_query_part = \"EG:\" + str(id_) + \"\"\" skos:Concept EG:\"\"\" +  str(id_) + \".\"\n",
    "        title_query_part = \"EG:\" + str(id_) + \"\"\" skos:prefLabel '\"\"\" +  str(title_) + \"'.\"\n",
    "        def_query_part = \"EG:\" + str(id_) + \"\"\" skos:definition '\"\"\" +  str(definition_) + \"'.\"\n",
    "        inscheme_query_part = \"\"\"EG:\"\"\" + str(id_) +  \"\"\" skos:inScheme 'https://nlp4statref/knowledge/resource/vocabulary/glossary/eurostat-glossary'.\"\"\"\n",
    "        publisher_query_part = \"\"\"EG:\"\"\" + str(id_) +  \"\"\" dct:publisher 'http://publications.europa.eu/resource/authority/corporate-body/ESTAT'.\"\"\"\n",
    "\n",
    "\n",
    "        # Construct the query \n",
    "        query = \"\"\"\n",
    "            PREFIX dct: <http://purl.org/dc/terms/>\n",
    "            PREFIX estat: <https://nlp4statref/knowledge/ontology/>\n",
    "            PREFIX EG: <https://nlp4statref/knowledge/resource/terminology/glossary/eurostat-glossary#>\n",
    "            PREFIX skos: <http://www.w3.org/2004/02/skos/core#>\n",
    "            INSERT { GRAPH <https://nlp4statref/knowledge/ontology/> { \n",
    "              \"\"\" + concept_query_part + \"\"\" \n",
    "              \"\"\" + inscheme_query_part + \"\"\"       \n",
    "              \"\"\" + title_query_part + \"\"\"\n",
    "              \"\"\" + def_query_part + \"\"\"\n",
    "              EG:\"\"\" + str(id_) + \"\"\" dct:modified '\"\"\" + str(last_update_) + \"\"\"'.\n",
    "        } }\n",
    "        ;\n",
    "            \"\"\"\n",
    "        #Take out special characters : \n",
    "        query.encode('latin-1')\n",
    "        if (i == 0): print(query)\n",
    "        sparql.setQuery(query)\n",
    "        sparql.method = method\n",
    "        sparql.setReturnFormat(JSON)\n",
    "        results = sparql.query().response.read()"
   ]
  },
  {
   "cell_type": "code",
   "execution_count": null,
   "metadata": {},
   "outputs": [],
   "source": [
    "###run the function \n",
    "insert_estat_glossary_elements(DB = ESTAT_V1_dat_estat_glossary,\n",
    "                         method = 'POST') "
   ]
  },
  {
   "cell_type": "markdown",
   "metadata": {},
   "source": [
    "###  6 - Insertion of Code List elements into the KDB. "
   ]
  },
  {
   "cell_type": "code",
   "execution_count": null,
   "metadata": {},
   "outputs": [],
   "source": [
    "def insert_code_list_elements(DB, method): \n",
    "\n",
    "    \n",
    "    for i, row in DB.iterrows():\n",
    "        id_ = row[\"id\"]\n",
    "        code_ = row[\"code\"]\n",
    "        label_ = row[\"label\"]\n",
    "        label_ = label_.replace(\"'\",\"\").strip()\n",
    "\n",
    "        concept_query_part = \"CD:\" + str(id_) + \"\"\" skos:Concept CD:\"\"\" +  str(id_) + \".\"\n",
    "        code_query_part = \"CD:\" + str(id_) + \"\"\" skos:notation '\"\"\" +  str(code_) + \"'.\"\n",
    "        label_query_part = \"CD:\" + str(id_) + \"\"\" skos:prefLabel '\"\"\" +  str(label_) + \"'.\"\n",
    "        \n",
    "\n",
    "\n",
    "        # Construct the query \n",
    "        query = \"\"\"\n",
    "            PREFIX CD: <https://nlp4statref/knowledge/resource/authority/code-list/CodeDictionary#>\n",
    "            PREFIX skos: <http://www.w3.org/2004/02/skos/core#>\n",
    "            INSERT { GRAPH <https://nlp4statref/knowledge/ontology/> { \n",
    "              \"\"\" + concept_query_part + \"\"\" \n",
    "              \"\"\" + code_query_part + \"\"\"\n",
    "              \"\"\" + label_query_part + \"\"\"\n",
    "        } }\n",
    "        ;\n",
    "            \"\"\"\n",
    "        #Take out special characters : \n",
    "        query.encode('latin-1')\n",
    "        if (i == 0): print(query)\n",
    "        sparql.setQuery(query)\n",
    "        sparql.method = method\n",
    "        sparql.setReturnFormat(JSON)\n",
    "        results = sparql.query().response.read()"
   ]
  },
  {
   "cell_type": "code",
   "execution_count": null,
   "metadata": {
    "scrolled": true
   },
   "outputs": [],
   "source": [
    "insert_code_list_elements(ESTAT_V1_dat_code_dicos, method = 'POST')"
   ]
  },
  {
   "cell_type": "code",
   "execution_count": null,
   "metadata": {},
   "outputs": [],
   "source": [
    "### See added statements "
   ]
  },
  {
   "cell_type": "code",
   "execution_count": null,
   "metadata": {},
   "outputs": [],
   "source": [
    "\n",
    "SelectStatements = \"\"\"\n",
    "PREFIX estat: <https://nlp4statref/knowledge/ontology/> \n",
    "PREFIX dct: <http://purl.org/dc/terms/>\n",
    "SELECT * FROM <https://nlp4statref/knowledge/ontology/>\n",
    "WHERE { estat:1487 ?s ?o\n",
    "\n",
    "}\n",
    "\"\"\"\n",
    "\n",
    "#statements_df = sparql_dataframe.get(endpoint, SelectStatements)\n",
    "#print(statements_df.shape)\n",
    "#print(statements_df.tail())\n",
    "\n",
    "sparql.setQuery(SelectStatements)\n",
    "sparql.method = \"POST\"\n",
    "sparql.setReturnFormat(JSON)\n",
    "results = sparql.query().convert()['results']['bindings']\n",
    "results = pd.json_normalize(results)\n",
    "print(results['o.value'].values[0])"
   ]
  },
  {
   "cell_type": "code",
   "execution_count": null,
   "metadata": {
    "scrolled": true
   },
   "outputs": [],
   "source": [
    "results = sparql.query().convert()['results']['bindings']\n",
    "results = pd.json_normalize(results)\n",
    "results"
   ]
  }
 ],
 "metadata": {
  "kernelspec": {
   "display_name": "Python 3",
   "language": "python",
   "name": "python3"
  },
  "language_info": {
   "codemirror_mode": {
    "name": "ipython",
    "version": 3
   },
   "file_extension": ".py",
   "mimetype": "text/x-python",
   "name": "python",
   "nbconvert_exporter": "python",
   "pygments_lexer": "ipython3",
   "version": "3.8.3"
  }
 },
 "nbformat": 4,
 "nbformat_minor": 4
}
