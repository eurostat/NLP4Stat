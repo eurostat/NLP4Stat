{
  "nbformat": 4,
  "nbformat_minor": 0,
  "metadata": {
    "colab": {
      "name": "Copy_of_Knowledge_graph_2022_06_29_v1.ipynb",
      "provenance": [],
      "collapsed_sections": []
    },
    "kernelspec": {
      "name": "python3",
      "display_name": "Python 3"
    },
    "language_info": {
      "name": "python"
    }
  },
  "cells": [
    {
      "cell_type": "markdown",
      "source": [
        "## Visualization of knowledge graphs\n",
        "\n",
        "*    This is a Google Colab notebook. You must have a Google account with a Google Drive to store/ load the main file with the relationships, for inspection. \n",
        "*    Upload the notebook from its location in GitHub and allow the code to access your Google Drive.\n",
        "*    Please put your credentials in the cell \"Connect to the Virtuoso database\".\n",
        "*    Put your own keywords in the cell with tile \"Enter keywords below\". Note that the search is case-sensitive."
      ],
      "metadata": {
        "id": "xncyccBFoSgr"
      }
    },
    {
      "cell_type": "code",
      "execution_count": 1,
      "metadata": {
        "colab": {
          "base_uri": "https://localhost:8080/"
        },
        "id": "glSFHXbCYIHu",
        "outputId": "105185e1-d884-4beb-e900-c4618edb010b"
      },
      "outputs": [
        {
          "output_type": "stream",
          "name": "stdout",
          "text": [
            "Drive already mounted at /content/drive; to attempt to forcibly remount, call drive.mount(\"/content/drive\", force_remount=True).\n"
          ]
        }
      ],
      "source": [
        "from google.colab import drive\n",
        "drive.mount('/content/drive')"
      ]
    },
    {
      "cell_type": "markdown",
      "source": [
        "## Installations"
      ],
      "metadata": {
        "id": "bOQCMFbqoqbj"
      }
    },
    {
      "cell_type": "code",
      "source": [
        "!pip install pyodbc"
      ],
      "metadata": {
        "colab": {
          "base_uri": "https://localhost:8080/"
        },
        "id": "e4Tv6pfKYPML",
        "outputId": "aca45ea0-0b0e-4513-bf2d-34a6f46d4a91"
      },
      "execution_count": 2,
      "outputs": [
        {
          "output_type": "stream",
          "name": "stdout",
          "text": [
            "Looking in indexes: https://pypi.org/simple, https://us-python.pkg.dev/colab-wheels/public/simple/\n",
            "Requirement already satisfied: pyodbc in /usr/local/lib/python3.7/dist-packages (4.0.32)\n"
          ]
        }
      ]
    },
    {
      "cell_type": "code",
      "source": [
        "!pip install pyvis"
      ],
      "metadata": {
        "colab": {
          "base_uri": "https://localhost:8080/"
        },
        "id": "Xth1wUMO_pRG",
        "outputId": "feaf7ba2-6c3d-4f14-cef7-8596d4d463cf"
      },
      "execution_count": 3,
      "outputs": [
        {
          "output_type": "stream",
          "name": "stdout",
          "text": [
            "Looking in indexes: https://pypi.org/simple, https://us-python.pkg.dev/colab-wheels/public/simple/\n",
            "Requirement already satisfied: pyvis in /usr/local/lib/python3.7/dist-packages (0.2.1)\n",
            "Requirement already satisfied: jinja2>=2.9.6 in /usr/local/lib/python3.7/dist-packages (from pyvis) (2.11.3)\n",
            "Requirement already satisfied: ipython>=5.3.0 in /usr/local/lib/python3.7/dist-packages (from pyvis) (5.5.0)\n",
            "Requirement already satisfied: jsonpickle>=1.4.1 in /usr/local/lib/python3.7/dist-packages (from pyvis) (2.2.0)\n",
            "Requirement already satisfied: networkx>=1.11 in /usr/local/lib/python3.7/dist-packages (from pyvis) (2.6.3)\n",
            "Requirement already satisfied: pygments in /usr/local/lib/python3.7/dist-packages (from ipython>=5.3.0->pyvis) (2.6.1)\n",
            "Requirement already satisfied: pexpect in /usr/local/lib/python3.7/dist-packages (from ipython>=5.3.0->pyvis) (4.8.0)\n",
            "Requirement already satisfied: pickleshare in /usr/local/lib/python3.7/dist-packages (from ipython>=5.3.0->pyvis) (0.7.5)\n",
            "Requirement already satisfied: setuptools>=18.5 in /usr/local/lib/python3.7/dist-packages (from ipython>=5.3.0->pyvis) (57.4.0)\n",
            "Requirement already satisfied: simplegeneric>0.8 in /usr/local/lib/python3.7/dist-packages (from ipython>=5.3.0->pyvis) (0.8.1)\n",
            "Requirement already satisfied: decorator in /usr/local/lib/python3.7/dist-packages (from ipython>=5.3.0->pyvis) (4.4.2)\n",
            "Requirement already satisfied: prompt-toolkit<2.0.0,>=1.0.4 in /usr/local/lib/python3.7/dist-packages (from ipython>=5.3.0->pyvis) (1.0.18)\n",
            "Requirement already satisfied: traitlets>=4.2 in /usr/local/lib/python3.7/dist-packages (from ipython>=5.3.0->pyvis) (5.1.1)\n",
            "Requirement already satisfied: MarkupSafe>=0.23 in /usr/local/lib/python3.7/dist-packages (from jinja2>=2.9.6->pyvis) (2.0.1)\n",
            "Requirement already satisfied: importlib-metadata in /usr/local/lib/python3.7/dist-packages (from jsonpickle>=1.4.1->pyvis) (4.11.4)\n",
            "Requirement already satisfied: six>=1.9.0 in /usr/local/lib/python3.7/dist-packages (from prompt-toolkit<2.0.0,>=1.0.4->ipython>=5.3.0->pyvis) (1.15.0)\n",
            "Requirement already satisfied: wcwidth in /usr/local/lib/python3.7/dist-packages (from prompt-toolkit<2.0.0,>=1.0.4->ipython>=5.3.0->pyvis) (0.2.5)\n",
            "Requirement already satisfied: typing-extensions>=3.6.4 in /usr/local/lib/python3.7/dist-packages (from importlib-metadata->jsonpickle>=1.4.1->pyvis) (4.1.1)\n",
            "Requirement already satisfied: zipp>=0.5 in /usr/local/lib/python3.7/dist-packages (from importlib-metadata->jsonpickle>=1.4.1->pyvis) (3.8.0)\n",
            "Requirement already satisfied: ptyprocess>=0.5 in /usr/local/lib/python3.7/dist-packages (from pexpect->ipython>=5.3.0->pyvis) (0.7.0)\n"
          ]
        }
      ]
    },
    {
      "cell_type": "code",
      "source": [
        "!pip install SPARQLWrapper\n",
        "!pip install sparql_dataframe"
      ],
      "metadata": {
        "colab": {
          "base_uri": "https://localhost:8080/"
        },
        "id": "nIhY7ZeAYRvi",
        "outputId": "7ae916be-02c6-43a8-b957-ffae754a8877"
      },
      "execution_count": 4,
      "outputs": [
        {
          "output_type": "stream",
          "name": "stdout",
          "text": [
            "Looking in indexes: https://pypi.org/simple, https://us-python.pkg.dev/colab-wheels/public/simple/\n",
            "Requirement already satisfied: SPARQLWrapper in /usr/local/lib/python3.7/dist-packages (2.0.0)\n",
            "Requirement already satisfied: rdflib>=6.1.1 in /usr/local/lib/python3.7/dist-packages (from SPARQLWrapper) (6.1.1)\n",
            "Requirement already satisfied: importlib-metadata in /usr/local/lib/python3.7/dist-packages (from rdflib>=6.1.1->SPARQLWrapper) (4.11.4)\n",
            "Requirement already satisfied: pyparsing in /usr/local/lib/python3.7/dist-packages (from rdflib>=6.1.1->SPARQLWrapper) (3.0.9)\n",
            "Requirement already satisfied: setuptools in /usr/local/lib/python3.7/dist-packages (from rdflib>=6.1.1->SPARQLWrapper) (57.4.0)\n",
            "Requirement already satisfied: isodate in /usr/local/lib/python3.7/dist-packages (from rdflib>=6.1.1->SPARQLWrapper) (0.6.1)\n",
            "Requirement already satisfied: typing-extensions>=3.6.4 in /usr/local/lib/python3.7/dist-packages (from importlib-metadata->rdflib>=6.1.1->SPARQLWrapper) (4.1.1)\n",
            "Requirement already satisfied: zipp>=0.5 in /usr/local/lib/python3.7/dist-packages (from importlib-metadata->rdflib>=6.1.1->SPARQLWrapper) (3.8.0)\n",
            "Requirement already satisfied: six in /usr/local/lib/python3.7/dist-packages (from isodate->rdflib>=6.1.1->SPARQLWrapper) (1.15.0)\n",
            "Looking in indexes: https://pypi.org/simple, https://us-python.pkg.dev/colab-wheels/public/simple/\n",
            "Requirement already satisfied: sparql_dataframe in /usr/local/lib/python3.7/dist-packages (0.4)\n",
            "Requirement already satisfied: SPARQLWrapper>=1.8.1 in /usr/local/lib/python3.7/dist-packages (from sparql_dataframe) (2.0.0)\n",
            "Requirement already satisfied: pandas>=0.22.0 in /usr/local/lib/python3.7/dist-packages (from sparql_dataframe) (1.3.5)\n",
            "Requirement already satisfied: numpy>=1.17.3 in /usr/local/lib/python3.7/dist-packages (from pandas>=0.22.0->sparql_dataframe) (1.21.6)\n",
            "Requirement already satisfied: python-dateutil>=2.7.3 in /usr/local/lib/python3.7/dist-packages (from pandas>=0.22.0->sparql_dataframe) (2.8.2)\n",
            "Requirement already satisfied: pytz>=2017.3 in /usr/local/lib/python3.7/dist-packages (from pandas>=0.22.0->sparql_dataframe) (2022.1)\n",
            "Requirement already satisfied: six>=1.5 in /usr/local/lib/python3.7/dist-packages (from python-dateutil>=2.7.3->pandas>=0.22.0->sparql_dataframe) (1.15.0)\n",
            "Requirement already satisfied: rdflib>=6.1.1 in /usr/local/lib/python3.7/dist-packages (from SPARQLWrapper>=1.8.1->sparql_dataframe) (6.1.1)\n",
            "Requirement already satisfied: isodate in /usr/local/lib/python3.7/dist-packages (from rdflib>=6.1.1->SPARQLWrapper>=1.8.1->sparql_dataframe) (0.6.1)\n",
            "Requirement already satisfied: setuptools in /usr/local/lib/python3.7/dist-packages (from rdflib>=6.1.1->SPARQLWrapper>=1.8.1->sparql_dataframe) (57.4.0)\n",
            "Requirement already satisfied: importlib-metadata in /usr/local/lib/python3.7/dist-packages (from rdflib>=6.1.1->SPARQLWrapper>=1.8.1->sparql_dataframe) (4.11.4)\n",
            "Requirement already satisfied: pyparsing in /usr/local/lib/python3.7/dist-packages (from rdflib>=6.1.1->SPARQLWrapper>=1.8.1->sparql_dataframe) (3.0.9)\n",
            "Requirement already satisfied: zipp>=0.5 in /usr/local/lib/python3.7/dist-packages (from importlib-metadata->rdflib>=6.1.1->SPARQLWrapper>=1.8.1->sparql_dataframe) (3.8.0)\n",
            "Requirement already satisfied: typing-extensions>=3.6.4 in /usr/local/lib/python3.7/dist-packages (from importlib-metadata->rdflib>=6.1.1->SPARQLWrapper>=1.8.1->sparql_dataframe) (4.1.1)\n"
          ]
        }
      ]
    },
    {
      "cell_type": "code",
      "source": [
        "!apt-get install virtuoso-opensource"
      ],
      "metadata": {
        "colab": {
          "base_uri": "https://localhost:8080/"
        },
        "id": "FMxb2kvrYSPr",
        "outputId": "aaa25501-ac16-44ad-a119-7d79df2b7877"
      },
      "execution_count": 5,
      "outputs": [
        {
          "output_type": "stream",
          "name": "stdout",
          "text": [
            "Reading package lists... Done\n",
            "Building dependency tree       \n",
            "Reading state information... Done\n",
            "virtuoso-opensource is already the newest version (6.1.6+repack-0ubuntu9).\n",
            "The following package was automatically installed and is no longer required:\n",
            "  libnvidia-common-460\n",
            "Use 'apt autoremove' to remove it.\n",
            "0 upgraded, 0 newly installed, 0 to remove and 49 not upgraded.\n"
          ]
        }
      ]
    },
    {
      "cell_type": "markdown",
      "source": [
        "## Imports"
      ],
      "metadata": {
        "id": "hL63cueYovP6"
      }
    },
    {
      "cell_type": "code",
      "source": [
        "import os \n",
        "import re\n",
        "import logging\n",
        "import sys\n",
        "import pyodbc\n",
        "import hashlib\n",
        "import pandas as pd\n",
        "import numpy as np\n",
        "from datetime import datetime\n",
        "from SPARQLWrapper import SPARQLWrapper, POST, DIGEST, GET\n",
        "from SPARQLWrapper import JSON, INSERT, DELETE\n",
        "import sparql_dataframe\n",
        "\n",
        "pd.set_option('display.max_rows', 500)\n",
        "\n",
        "from IPython.display import Image\n",
        "\n",
        "import random\n",
        "\n",
        "import palettable\n",
        "from palettable.colorbrewer.sequential import Blues_9\n",
        "from palettable.colorbrewer.sequential import Greens_9\n",
        "from palettable.colorbrewer.qualitative import Accent_8\n",
        "from palettable.colorbrewer.qualitative import Paired_7\n",
        "\n",
        "from pyvis import network as net\n",
        "from IPython.core.display import display, HTML"
      ],
      "metadata": {
        "id": "nUingO8CYTzS"
      },
      "execution_count": 6,
      "outputs": []
    },
    {
      "cell_type": "markdown",
      "source": [
        "## Connect to the Virtuoso database"
      ],
      "metadata": {
        "id": "pxkvsw3OoyDd"
      }
    },
    {
      "cell_type": "code",
      "source": [
        "user = 'xxxxx'\n",
        "passw='xxxxx'"
      ],
      "metadata": {
        "id": "Vb4oqSFnWKdZ"
      },
      "execution_count": 7,
      "outputs": []
    },
    {
      "cell_type": "code",
      "source": [
        "def connect_db(DSN, DBA, UID, PWD):\n",
        "\n",
        "    connection = pyodbc.connect('DRIVER=/usr/lib/odbc/virtodbc.so;HOST=lod.csd.auth.gr:1111;UID='+user+';PWD='+passw+';DATABASE=ESTAT')\n",
        "    cursor = connection.cursor()\n",
        "\n",
        "    return connection, cursor\n",
        "\n",
        "\n",
        "def connect_virtuoso(DSN, UID, PWD):\n",
        "\n",
        "    sparql = SPARQLWrapper(DSN)\n",
        "    sparql.setHTTPAuth(DIGEST)\n",
        "    sparql.setCredentials(UID, PWD)\n",
        "    sparql.setMethod(GET)\n",
        "\n",
        "    return sparql\n",
        "\n",
        "\n",
        "# Connection to CDB \n",
        "#connection, cursor = connect_db('Virtuoso All', \n",
        "#                                'ESTAT', \n",
        "#                                user, \n",
        "#                                passw)\n",
        "\n",
        "# Connection to the KDB \n",
        "endpoint = \"http://lod.csd.auth.gr:8890/sparql/\"\n",
        "sparql = connect_virtuoso(endpoint, \n",
        "                          user, \n",
        "                          passw)"
      ],
      "metadata": {
        "id": "1mrZDxN2cB87"
      },
      "execution_count": 8,
      "outputs": []
    },
    {
      "cell_type": "markdown",
      "source": [
        "## Extraction of relationships"
      ],
      "metadata": {
        "id": "g79s3ZcSo5-L"
      }
    },
    {
      "cell_type": "code",
      "source": [
        "def databaseTable(keywords):\n",
        "\n",
        "  RelationsStatements = \"\"\"\n",
        "  DEFINE input:inference <https://ec.europa.eu/eurostat/NLP4StatRef/knowledge/>\n",
        "  PREFIX estat: <https://ec.europa.eu/eurostat/NLP4StatRef/ontology/>\n",
        "  PREFIX estatdata: <https://ec.europa.eu/eurostat/NLP4StatRef/knowledge/>\n",
        "  PREFIX oecd: <https://ec.europa.eu/eurostat/NLP4StatRef/knowledge/oecd/> \n",
        "  PREFIX estat: <https://ec.europa.eu/eurostat/NLP4StatRef/ontology/>\n",
        "  select ?article ?title ?articleURL ?r ?reftitle ?refURL where { \n",
        "      {?article rdf:type estat:Article .\n",
        "      ?article ?p ?t .}\n",
        "      UNION\n",
        "      {?article rdf:type estat:Article .\n",
        "      ?article estat:hasParagraph ?x.\n",
        "      ?x ?p ?t .}\n",
        "      filter contains(str(?t),\\\" \"\"\" + str(keywords) + \"\"\"\\\") \n",
        "      ?article estat:title ?title .\n",
        "      ?article estat:hasURL ?articleURL.\n",
        "      ?article estat:hasReference ?r .\n",
        "      {?r rdf:type estat:Table} \n",
        "      UNION\n",
        "      {?r rdf:type estat:Database}\n",
        "      ?r estat:hasURL ?refURL .\n",
        "      ?r estat:title ?reftitle .\n",
        "  } \n",
        "  \"\"\"\n",
        "\n",
        "  sparql.setQuery(RelationsStatements)\n",
        "  sparql.method = \"POST\"\n",
        "  sparql.setReturnFormat(JSON)\n",
        "  results = sparql.query().convert()['results']['bindings']\n",
        "  results = pd.json_normalize(results)\n",
        "  \n",
        "  return results\n",
        "\n",
        "def articleTable(keywords):\n",
        "\n",
        "  RelationsStatements = \"\"\"\n",
        "  DEFINE input:inference <https://ec.europa.eu/eurostat/NLP4StatRef/knowledge/>\n",
        "  PREFIX estat: <https://ec.europa.eu/eurostat/NLP4StatRef/ontology/>\n",
        "  PREFIX estatdata: <https://ec.europa.eu/eurostat/NLP4StatRef/knowledge/>\n",
        "  PREFIX oecd: <https://ec.europa.eu/eurostat/NLP4StatRef/knowledge/oecd/> \n",
        "  select * where { \n",
        "      {?article rdf:type estat:Article .\n",
        "      ?article ?p ?t .}\n",
        "      UNION\n",
        "      {?article rdf:type estat:Article .\n",
        "      ?article estat:hasParagraph ?x.\n",
        "      ?x ?p ?t .}\n",
        "      filter contains(str(?t),\\\" \"\"\" + str(keywords) + \"\"\"\\\") \n",
        "      ?article estat:title ?title .\n",
        "      ?article estat:hasURL ?articleURL.\n",
        "      ?article estat:hasReference ?r .\n",
        "      { ?r estat:hasURI ?euroArticle.\n",
        "      ?euroArticle estat:title ?euroTitle .\n",
        "        ?euroArticle estat:hasURL ?euroURL.}\n",
        "     UNION\n",
        "     {?r estat:hasURL ?euroURL.\n",
        "     ?r estat:title ?euroTitle .\n",
        "     BIND(?r as ?euroArticle)\n",
        "    }   \n",
        "  } \n",
        "  \"\"\"\n",
        "  \n",
        "  sparql.setQuery(RelationsStatements)\n",
        "  sparql.method = \"POST\"\n",
        "  sparql.setReturnFormat(JSON)\n",
        "  results = sparql.query().convert()['results']['bindings']\n",
        "  results = pd.json_normalize(results)\n",
        "  \n",
        "  return results\n",
        "\n",
        "\n"
      ],
      "metadata": {
        "id": "MZIdaqzVdBfi"
      },
      "execution_count": 9,
      "outputs": []
    },
    {
      "cell_type": "markdown",
      "source": [
        "### Production of the dataframe with the relationships"
      ],
      "metadata": {
        "id": "v24Jq1RpnXK3"
      }
    },
    {
      "cell_type": "code",
      "source": [
        "def produce_df(keywords):\n",
        "\n",
        "    results1 = databaseTable(keywords)\n",
        "    \n",
        "    results1.drop(columns=['article.type', 'title.type', 'articleURL.type', 'articleURL.datatype','r.type',\n",
        "       'reftitle.type','refURL.type','refURL.datatype', ],inplace=True)\n",
        "    results1.rename(columns={'article.value':'articleURI','title.value':'articleTitle','articleURL.value':'articleURL',\n",
        "                             'r.value':'relatedURI','reftitle.value':'relatedTitle','refURL.value':'relatedURL'},inplace=True)\n",
        "\n",
        "    results2 = articleTable(keywords)\n",
        "    #print(results2.columns)\n",
        "    #display(results2)\n",
        "\n",
        "    results2.drop(columns = ['article.type','p.type','p.value','t.type','t.value','title.type','articleURL.type','articleURL.datatype','r.value',      \n",
        "                                 'euroURL.type', 'euroURL.datatype', 'x.type', 'x.value','r.type','euroArticle.type','euroTitle.type'],inplace=True)\n",
        "    results2.rename(columns={'article.value':'articleURI','title.value':'articleTitle','articleURL.value':'articleURL',\n",
        "                             'euroArticle.value':'relatedURI','euroTitle.value':'relatedTitle','euroURL.value':'relatedURL'},inplace=True)\n",
        "\n",
        "\n",
        "    df = pd.concat([results1,results2])\n",
        "    return df\n",
        "\n"
      ],
      "metadata": {
        "id": "ueW0A28jw5g0"
      },
      "execution_count": 10,
      "outputs": []
    },
    {
      "cell_type": "markdown",
      "source": [
        "### Enter keywords below\n",
        "*    To re-run with different keywords change them below and re-run (\"Runtime > Run after\") from this cell. "
      ],
      "metadata": {
        "id": "FvjMRS6_tv4I"
      }
    },
    {
      "cell_type": "code",
      "source": [
        "keywords = 'morbidity statistics'"
      ],
      "metadata": {
        "id": "xuNlzchcuKu5"
      },
      "execution_count": 11,
      "outputs": []
    },
    {
      "cell_type": "markdown",
      "source": [
        "## Produce file for inspection"
      ],
      "metadata": {
        "id": "-zWxgZ6LpZtq"
      }
    },
    {
      "cell_type": "code",
      "source": [
        "\n",
        "df = produce_df(keywords)\n",
        "#print(df)\n",
        "df.to_excel('/content/drive/MyDrive/df.xlsx')\n"
      ],
      "metadata": {
        "id": "n5w2Wc3C_SUA"
      },
      "execution_count": 12,
      "outputs": []
    },
    {
      "cell_type": "code",
      "source": [
        "## add column relatedType indicating the type of the related resource\n",
        "\n",
        "conditions = [\n",
        "    (df['relatedURL'].str.contains('Glossary:')),              \n",
        "    (df['relatedURL'].str.contains('statistics-explained/index.php')),\n",
        "    ## (df['relatedURL'].str.contains('data/database')),\n",
        "    ## (df['relatedURL'].str.contains('/news/')),    \n",
        "    (df['relatedURL'].str.contains('eurostat/product')),    \n",
        "    (df['relatedURL'].str.contains('eur-lex.europa.eu'))    \n",
        "    ]\n",
        "##values = ['GL article','SE article', 'Data', 'News','Publication','Legislation']\n",
        "values = ['GL article','SE article', 'Publication','Legislation']\n",
        "df['relatedType'] = np.select(conditions,values,default='Other') \n",
        "df = df[df['relatedType'] != 'Other'].copy()\n",
        "df.reset_index(drop=False,inplace=True)\n",
        "df.drop(columns='index',inplace=True)\n",
        "\n",
        "##display(df)\n"
      ],
      "metadata": {
        "id": "QmQAKiDD4liS"
      },
      "execution_count": 13,
      "outputs": []
    },
    {
      "cell_type": "code",
      "source": [
        "## unique URIs in Articles and Related resources\n",
        "\n",
        "valuesURI = df[['articleURI','relatedURI']].values\n",
        "uniqueURI = np.unique(valuesURI)\n",
        "print('uniqueURIs:')\n",
        "uniqueURI\n",
        "\n",
        "df2 = pd.DataFrame(uniqueURI,columns=['uniqueURI'])\n",
        "df2['ID'] = range(len(df2))\n",
        "##df2"
      ],
      "metadata": {
        "colab": {
          "base_uri": "https://localhost:8080/"
        },
        "id": "m7EIxobCv8Mh",
        "outputId": "95ce07db-c87a-46b4-9470-9d62cb94e026"
      },
      "execution_count": 14,
      "outputs": [
        {
          "output_type": "stream",
          "name": "stdout",
          "text": [
            "uniqueURIs:\n"
          ]
        }
      ]
    },
    {
      "cell_type": "code",
      "source": [
        "## transfer the unique IDs to the main file\n",
        "\n",
        "df3 = pd.merge(df,df2,how='inner', left_on='articleURI',right_on='uniqueURI')\n",
        "df3.rename(columns={'ID':'articleID'},inplace=True)\n",
        "df3 = pd.merge(df3,df2,how='inner', left_on='relatedURI',right_on='uniqueURI')\n",
        "df3.rename(columns={'ID':'relatedID'},inplace=True)\n",
        "df3 = df3[['articleID','relatedID','relatedType','articleURI','articleURL','articleTitle','relatedURI','relatedURL','relatedTitle']]\n",
        "##df3"
      ],
      "metadata": {
        "id": "Cp-Cmw01CjD7"
      },
      "execution_count": 15,
      "outputs": []
    },
    {
      "cell_type": "code",
      "source": [
        "## related type groups and assignment to colors\n",
        "type_groups = np.unique(df3['relatedType'])\n",
        "print(type_groups)\n",
        "node_colors = Paired_7.hex_colors[:len(type_groups)]\n",
        "node_colors"
      ],
      "metadata": {
        "id": "1D2Kbw24F_c1",
        "colab": {
          "base_uri": "https://localhost:8080/"
        },
        "outputId": "d5bc07a6-5188-4b03-9e6d-15e9ba7a87c7"
      },
      "execution_count": 16,
      "outputs": [
        {
          "output_type": "stream",
          "name": "stdout",
          "text": [
            "['GL article' 'Publication' 'SE article']\n"
          ]
        },
        {
          "output_type": "execute_result",
          "data": {
            "text/plain": [
              "['#A6CEE3', '#1F78B4', '#B2DF8A']"
            ]
          },
          "metadata": {},
          "execution_count": 16
        }
      ]
    },
    {
      "cell_type": "code",
      "source": [
        "## Create graph\n",
        "\n",
        "g=net.Network(height='600px', width='75%',heading='')\n",
        "g.barnes_hut()\n",
        "g.repulsion(node_distance=100, spring_length=200)\n",
        "\n",
        "## First the unique articles - source nodes, by articleID \n",
        "uniqueArticles = df3.groupby(['articleID'])[['articleTitle']].agg(list).reset_index() ## aggregate into lists - titles are repeated\n",
        "col_index = int(np.where(type_groups=='SE article')[0]) ## index of color to use for SE articles\n",
        "for i in range(len(uniqueArticles)): ## for some reason, single elements must be put in a list, add_node() does not work\n",
        "    g.add_nodes([uniqueArticles.loc[i,'articleID']], color=[node_colors[col_index]], label = [uniqueArticles.loc[i,'articleTitle'][0]])\n",
        "\n",
        "## Then the related nodes, by type\n",
        "relatedGroups = df3.groupby(['relatedType'])[['relatedID','relatedTitle']].agg(list).reset_index() ## again aggregate into lists\n",
        "for i in range(len(relatedGroups)):\n",
        "    how_many_nodes = len(relatedGroups.loc[i,'relatedID'])\n",
        "    g.add_nodes(relatedGroups.loc[i,'relatedID'],label=relatedGroups.loc[i,'relatedTitle'], color=[node_colors[i]]*how_many_nodes)\n",
        "\n",
        "## The edges\n",
        "for i in range(len(df3)):        \n",
        "    n1 = int(df3.loc[i,'articleID'])\n",
        "    n2 = int(df3.loc[i,'relatedID'])\n",
        "    type_ind = int(np.where(type_groups==df3.loc[i,'relatedType'])[0])\n",
        "    col =  node_colors[type_ind]\n",
        "    lbl = type_groups[type_ind]\n",
        "    g.add_edge(n1,n2,color=col,label=lbl)\n",
        "g.show('example.html')\n",
        "display(HTML('example.html'))\n"
      ],
      "metadata": {
        "colab": {
          "base_uri": "https://localhost:8080/",
          "height": 638
        },
        "id": "k9yiNcSCJ5sJ",
        "outputId": "187c29ed-7440-4bdb-e2c0-e4684a7b6045"
      },
      "execution_count": 17,
      "outputs": [
        {
          "output_type": "display_data",
          "data": {
            "text/plain": [
              "<IPython.core.display.HTML object>"
            ],
            "text/html": [
              "<html>\n",
              "<head>\n",
              "<link rel=\"stylesheet\" href=\"https://cdn.jsdelivr.net/npm/vis-network@latest/styles/vis-network.css\" type=\"text/css\" />\n",
              "<script type=\"text/javascript\" src=\"https://cdn.jsdelivr.net/npm/vis-network@latest/dist/vis-network.min.js\"> </script>\n",
              "<center>\n",
              "<h1></h1>\n",
              "</center>\n",
              "\n",
              "<!-- <link rel=\"stylesheet\" href=\"../node_modules/vis/dist/vis.min.css\" type=\"text/css\" />\n",
              "<script type=\"text/javascript\" src=\"../node_modules/vis/dist/vis.js\"> </script>-->\n",
              "\n",
              "<style type=\"text/css\">\n",
              "\n",
              "        #mynetwork {\n",
              "            width: 75%;\n",
              "            height: 600px;\n",
              "            background-color: #ffffff;\n",
              "            border: 1px solid lightgray;\n",
              "            position: relative;\n",
              "            float: left;\n",
              "        }\n",
              "\n",
              "        \n",
              "\n",
              "        \n",
              "\n",
              "        \n",
              "</style>\n",
              "\n",
              "</head>\n",
              "\n",
              "<body>\n",
              "<div id = \"mynetwork\"></div>\n",
              "\n",
              "\n",
              "<script type=\"text/javascript\">\n",
              "\n",
              "    // initialize global variables.\n",
              "    var edges;\n",
              "    var nodes;\n",
              "    var network; \n",
              "    var container;\n",
              "    var options, data;\n",
              "\n",
              "    \n",
              "    // This method is responsible for drawing the graph, returns the drawn network\n",
              "    function drawGraph() {\n",
              "        var container = document.getElementById('mynetwork');\n",
              "        \n",
              "        \n",
              "\n",
              "        // parsing and collecting nodes and edges from the python\n",
              "        nodes = new vis.DataSet([{\"color\": \"#B2DF8A\", \"id\": 5, \"label\": \"Causes of death statistics\", \"shape\": \"dot\"}, {\"color\": \"#B2DF8A\", \"id\": 13, \"label\": \"Causes of death statistics\", \"shape\": \"dot\"}, {\"color\": \"#B2DF8A\", \"id\": 16, \"label\": \"International classification of diseases ICD\", \"shape\": \"dot\"}, {\"color\": \"#A6CEE3\", \"id\": 15, \"label\": \"Cause of death\", \"shape\": \"dot\"}, {\"color\": \"#A6CEE3\", \"id\": 49, \"label\": \"Cause of death\", \"shape\": \"dot\"}, {\"color\": \"#A6CEE3\", \"id\": 51, \"label\": \"International classification of diseases ICD\", \"shape\": \"dot\"}, {\"color\": \"#1F78B4\", \"id\": 33, \"label\": \"Revision of the European Standard Population Report of Eurostat s task force 2013 edition\", \"shape\": \"dot\"}, {\"color\": \"#1F78B4\", \"id\": 43, \"label\": \"1 in 4 deaths caused by cancer in the EU28 Lung cancer main fatal cancer\", \"shape\": \"dot\"}, {\"color\": \"#1F78B4\", \"id\": 44, \"label\": \"Causes of death in the EU 28 in 2010 Circulatory diseases main cause of death for men and women aged 65 years and over\", \"shape\": \"dot\"}, {\"color\": \"#1F78B4\", \"id\": 45, \"label\": \"Circulatory diseases Main causes of death for persons aged 65 and more in Europe 2009\", \"shape\": \"dot\"}, {\"color\": \"#1F78B4\", \"id\": 46, \"label\": \"Who dies of what in Europe before the age of 65\", \"shape\": \"dot\"}, {\"color\": \"#1F78B4\", \"id\": 47, \"label\": \"Causes of death in the EU\", \"shape\": \"dot\"}, {\"color\": \"#1F78B4\", \"id\": 48, \"label\": \"Health statistics Atlas on mortality in the European Union\", \"shape\": \"dot\"}, {\"color\": \"#B2DF8A\", \"id\": 0, \"label\": \"Causes of death statistics people over 65\", \"shape\": \"dot\"}, {\"color\": \"#B2DF8A\", \"id\": 1, \"label\": \"Health statistics introduced\", \"shape\": \"dot\"}, {\"color\": \"#B2DF8A\", \"id\": 2, \"label\": \"Mortality and life expectancy statistics\", \"shape\": \"dot\"}, {\"color\": \"#B2DF8A\", \"id\": 3, \"label\": \"Healthy life years statistics\", \"shape\": \"dot\"}, {\"color\": \"#B2DF8A\", \"id\": 4, \"label\": \"Accidents and injuries statistics\", \"shape\": \"dot\"}, {\"color\": \"#B2DF8A\", \"id\": 6, \"label\": \"The EU in the world health\", \"shape\": \"dot\"}, {\"color\": \"#B2DF8A\", \"id\": 7, \"label\": \"Cancer statistics\", \"shape\": \"dot\"}, {\"color\": \"#B2DF8A\", \"id\": 8, \"label\": \"Specific cancers\", \"shape\": \"dot\"}, {\"color\": \"#B2DF8A\", \"id\": 10, \"label\": \"Mental health and related issues statistics\", \"shape\": \"dot\"}, {\"color\": \"#B2DF8A\", \"id\": 11, \"label\": \"Cardiovascular diseases\", \"shape\": \"dot\"}, {\"color\": \"#B2DF8A\", \"id\": 12, \"label\": \"Respiratory diseases\", \"shape\": \"dot\"}, {\"color\": \"#B2DF8A\", \"id\": 14, \"label\": \"Preventable and treatable mortality statistics\", \"shape\": \"dot\"}, {\"color\": \"#B2DF8A\", \"id\": 17, \"label\": \"Health in the European Union facts and figures\", \"shape\": \"dot\"}, {\"color\": \"#B2DF8A\", \"id\": 18, \"label\": \"Disability statistics\", \"shape\": \"dot\"}, {\"color\": \"#B2DF8A\", \"id\": 19, \"label\": \"Causes of death statistics people over 65\", \"shape\": \"dot\"}, {\"color\": \"#B2DF8A\", \"id\": 20, \"label\": \"Preventable and treatable mortality statistics\", \"shape\": \"dot\"}, {\"color\": \"#B2DF8A\", \"id\": 21, \"label\": \"Healthy life years statistics\", \"shape\": \"dot\"}, {\"color\": \"#B2DF8A\", \"id\": 22, \"label\": \"Mortality and life expectancy statistics\", \"shape\": \"dot\"}, {\"color\": \"#B2DF8A\", \"id\": 23, \"label\": \"Cardiovascular diseases\", \"shape\": \"dot\"}, {\"color\": \"#B2DF8A\", \"id\": 24, \"label\": \"Cancer statistics\", \"shape\": \"dot\"}, {\"color\": \"#B2DF8A\", \"id\": 25, \"label\": \"Specific cancers\", \"shape\": \"dot\"}, {\"color\": \"#B2DF8A\", \"id\": 26, \"label\": \"Respiratory diseases\", \"shape\": \"dot\"}, {\"color\": \"#B2DF8A\", \"id\": 27, \"label\": \"Mental health and related issues statistics\", \"shape\": \"dot\"}, {\"color\": \"#B2DF8A\", \"id\": 28, \"label\": \"Accidents and injuries statistics\", \"shape\": \"dot\"}, {\"color\": \"#B2DF8A\", \"id\": 29, \"label\": \"Causes of death statistics\", \"shape\": \"dot\"}, {\"color\": \"#B2DF8A\", \"id\": 30, \"label\": \"Health statistics introduced\", \"shape\": \"dot\"}, {\"color\": \"#B2DF8A\", \"id\": 31, \"label\": \"Health statistics at regional level\", \"shape\": \"dot\"}, {\"color\": \"#B2DF8A\", \"id\": 32, \"label\": \"The EU in the world health\", \"shape\": \"dot\"}, {\"color\": \"#B2DF8A\", \"id\": 50, \"label\": \"Causes of death statistics\", \"shape\": \"dot\"}, {\"color\": \"#B2DF8A\", \"id\": 9, \"label\": \"Health statistics at regional level\", \"shape\": \"dot\"}, {\"color\": \"#B2DF8A\", \"id\": 34, \"label\": \"Health in the European Union facts and figures\", \"shape\": \"dot\"}, {\"color\": \"#B2DF8A\", \"id\": 35, \"label\": \"Disability statistics\", \"shape\": \"dot\"}, {\"color\": \"#B2DF8A\", \"id\": 36, \"label\": \"Causes of death statistics\", \"shape\": \"dot\"}, {\"color\": \"#B2DF8A\", \"id\": 37, \"label\": \"Causes of death statistics people over 65\", \"shape\": \"dot\"}, {\"color\": \"#B2DF8A\", \"id\": 38, \"label\": \"Healthy life years statistics\", \"shape\": \"dot\"}, {\"color\": \"#B2DF8A\", \"id\": 39, \"label\": \"Mortality and life expectancy statistics\", \"shape\": \"dot\"}, {\"color\": \"#B2DF8A\", \"id\": 40, \"label\": \"Health statistics introduced\", \"shape\": \"dot\"}, {\"color\": \"#B2DF8A\", \"id\": 41, \"label\": \"Health statistics at regional level\", \"shape\": \"dot\"}, {\"color\": \"#B2DF8A\", \"id\": 42, \"label\": \"The EU in the world health\", \"shape\": \"dot\"}]);\n",
              "        edges = new vis.DataSet([{\"color\": \"#B2DF8A\", \"from\": 13, \"label\": \"SE article\", \"to\": 0}, {\"color\": \"#B2DF8A\", \"from\": 5, \"label\": \"SE article\", \"to\": 0}, {\"color\": \"#B2DF8A\", \"from\": 13, \"label\": \"SE article\", \"to\": 1}, {\"color\": \"#B2DF8A\", \"from\": 5, \"label\": \"SE article\", \"to\": 1}, {\"color\": \"#B2DF8A\", \"from\": 13, \"label\": \"SE article\", \"to\": 2}, {\"color\": \"#B2DF8A\", \"from\": 5, \"label\": \"SE article\", \"to\": 2}, {\"color\": \"#B2DF8A\", \"from\": 13, \"label\": \"SE article\", \"to\": 3}, {\"color\": \"#B2DF8A\", \"from\": 5, \"label\": \"SE article\", \"to\": 3}, {\"color\": \"#B2DF8A\", \"from\": 13, \"label\": \"SE article\", \"to\": 4}, {\"color\": \"#B2DF8A\", \"from\": 13, \"label\": \"SE article\", \"to\": 5}, {\"color\": \"#B2DF8A\", \"from\": 13, \"label\": \"SE article\", \"to\": 6}, {\"color\": \"#B2DF8A\", \"from\": 5, \"label\": \"SE article\", \"to\": 6}, {\"color\": \"#B2DF8A\", \"from\": 13, \"label\": \"SE article\", \"to\": 7}, {\"color\": \"#B2DF8A\", \"from\": 13, \"label\": \"SE article\", \"to\": 8}, {\"color\": \"#B2DF8A\", \"from\": 13, \"label\": \"SE article\", \"to\": 10}, {\"color\": \"#B2DF8A\", \"from\": 13, \"label\": \"SE article\", \"to\": 11}, {\"color\": \"#B2DF8A\", \"from\": 13, \"label\": \"SE article\", \"to\": 12}, {\"color\": \"#B2DF8A\", \"from\": 13, \"label\": \"SE article\", \"to\": 14}, {\"color\": \"#B2DF8A\", \"from\": 13, \"label\": \"SE article\", \"to\": 17}, {\"color\": \"#B2DF8A\", \"from\": 13, \"label\": \"SE article\", \"to\": 18}, {\"color\": \"#B2DF8A\", \"from\": 13, \"label\": \"SE article\", \"to\": 19}, {\"color\": \"#B2DF8A\", \"from\": 13, \"label\": \"SE article\", \"to\": 20}, {\"color\": \"#B2DF8A\", \"from\": 13, \"label\": \"SE article\", \"to\": 21}, {\"color\": \"#B2DF8A\", \"from\": 13, \"label\": \"SE article\", \"to\": 22}, {\"color\": \"#B2DF8A\", \"from\": 13, \"label\": \"SE article\", \"to\": 23}, {\"color\": \"#B2DF8A\", \"from\": 13, \"label\": \"SE article\", \"to\": 24}, {\"color\": \"#B2DF8A\", \"from\": 13, \"label\": \"SE article\", \"to\": 25}, {\"color\": \"#B2DF8A\", \"from\": 13, \"label\": \"SE article\", \"to\": 26}, {\"color\": \"#B2DF8A\", \"from\": 13, \"label\": \"SE article\", \"to\": 27}, {\"color\": \"#B2DF8A\", \"from\": 13, \"label\": \"SE article\", \"to\": 28}, {\"color\": \"#B2DF8A\", \"from\": 13, \"label\": \"SE article\", \"to\": 29}, {\"color\": \"#B2DF8A\", \"from\": 13, \"label\": \"SE article\", \"to\": 30}, {\"color\": \"#B2DF8A\", \"from\": 13, \"label\": \"SE article\", \"to\": 31}, {\"color\": \"#B2DF8A\", \"from\": 13, \"label\": \"SE article\", \"to\": 32}, {\"color\": \"#1F78B4\", \"from\": 13, \"label\": \"Publication\", \"to\": 33}, {\"color\": \"#B2DF8A\", \"from\": 16, \"label\": \"SE article\", \"to\": 13}, {\"color\": \"#A6CEE3\", \"from\": 16, \"label\": \"GL article\", \"to\": 15}, {\"color\": \"#A6CEE3\", \"from\": 16, \"label\": \"GL article\", \"to\": 16}, {\"color\": \"#A6CEE3\", \"from\": 16, \"label\": \"GL article\", \"to\": 49}, {\"color\": \"#B2DF8A\", \"from\": 16, \"label\": \"SE article\", \"to\": 50}, {\"color\": \"#A6CEE3\", \"from\": 16, \"label\": \"GL article\", \"to\": 51}, {\"color\": \"#B2DF8A\", \"from\": 5, \"label\": \"SE article\", \"to\": 9}, {\"color\": \"#B2DF8A\", \"from\": 5, \"label\": \"SE article\", \"to\": 34}, {\"color\": \"#B2DF8A\", \"from\": 5, \"label\": \"SE article\", \"to\": 35}, {\"color\": \"#B2DF8A\", \"from\": 5, \"label\": \"SE article\", \"to\": 36}, {\"color\": \"#B2DF8A\", \"from\": 5, \"label\": \"SE article\", \"to\": 37}, {\"color\": \"#B2DF8A\", \"from\": 5, \"label\": \"SE article\", \"to\": 38}, {\"color\": \"#B2DF8A\", \"from\": 5, \"label\": \"SE article\", \"to\": 39}, {\"color\": \"#B2DF8A\", \"from\": 5, \"label\": \"SE article\", \"to\": 40}, {\"color\": \"#B2DF8A\", \"from\": 5, \"label\": \"SE article\", \"to\": 41}, {\"color\": \"#B2DF8A\", \"from\": 5, \"label\": \"SE article\", \"to\": 42}, {\"color\": \"#1F78B4\", \"from\": 5, \"label\": \"Publication\", \"to\": 43}, {\"color\": \"#1F78B4\", \"from\": 5, \"label\": \"Publication\", \"to\": 44}, {\"color\": \"#1F78B4\", \"from\": 5, \"label\": \"Publication\", \"to\": 45}, {\"color\": \"#1F78B4\", \"from\": 5, \"label\": \"Publication\", \"to\": 46}, {\"color\": \"#1F78B4\", \"from\": 5, \"label\": \"Publication\", \"to\": 47}, {\"color\": \"#1F78B4\", \"from\": 5, \"label\": \"Publication\", \"to\": 48}]);\n",
              "\n",
              "        // adding nodes and edges to the graph\n",
              "        data = {nodes: nodes, edges: edges};\n",
              "\n",
              "        var options = {\n",
              "    \"configure\": {\n",
              "        \"enabled\": false\n",
              "    },\n",
              "    \"edges\": {\n",
              "        \"color\": {\n",
              "            \"inherit\": true\n",
              "        },\n",
              "        \"smooth\": {\n",
              "            \"enabled\": true,\n",
              "            \"type\": \"dynamic\"\n",
              "        }\n",
              "    },\n",
              "    \"interaction\": {\n",
              "        \"dragNodes\": true,\n",
              "        \"hideEdgesOnDrag\": false,\n",
              "        \"hideNodesOnDrag\": false\n",
              "    },\n",
              "    \"physics\": {\n",
              "        \"barnesHut\": {\n",
              "            \"avoidOverlap\": 0,\n",
              "            \"centralGravity\": 0.3,\n",
              "            \"damping\": 0.09,\n",
              "            \"gravitationalConstant\": -80000,\n",
              "            \"springConstant\": 0.001,\n",
              "            \"springLength\": 250\n",
              "        },\n",
              "        \"enabled\": true,\n",
              "        \"repulsion\": {\n",
              "            \"centralGravity\": 0.2,\n",
              "            \"damping\": 0.09,\n",
              "            \"nodeDistance\": 100,\n",
              "            \"springConstant\": 0.05,\n",
              "            \"springLength\": 200\n",
              "        },\n",
              "        \"solver\": \"repulsion\",\n",
              "        \"stabilization\": {\n",
              "            \"enabled\": true,\n",
              "            \"fit\": true,\n",
              "            \"iterations\": 1000,\n",
              "            \"onlyDynamicEdges\": false,\n",
              "            \"updateInterval\": 50\n",
              "        }\n",
              "    }\n",
              "};\n",
              "        \n",
              "        \n",
              "\n",
              "        \n",
              "\n",
              "        network = new vis.Network(container, data, options);\n",
              "\t \n",
              "        \n",
              "\n",
              "\n",
              "        \n",
              "\n",
              "        return network;\n",
              "\n",
              "    }\n",
              "\n",
              "    drawGraph();\n",
              "\n",
              "</script>\n",
              "</body>\n",
              "</html>"
            ]
          },
          "metadata": {}
        }
      ]
    },
    {
      "cell_type": "code",
      "source": [
        ""
      ],
      "metadata": {
        "id": "8Ncw037wZaCH"
      },
      "execution_count": 17,
      "outputs": []
    }
  ]
}