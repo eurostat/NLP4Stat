{
  "nbformat": 4,
  "nbformat_minor": 0,
  "metadata": {
    "colab": {
      "name": "Copy of Knowledge_graph_2022_06_29.ipynb",
      "provenance": [],
      "collapsed_sections": []
    },
    "kernelspec": {
      "name": "python3",
      "display_name": "Python 3"
    },
    "language_info": {
      "name": "python"
    }
  },
  "cells": [
    {
      "cell_type": "markdown",
      "source": [
        "## Visualization of knowledge graphs\n",
        "\n",
        "*    This is a Google Colab notebook. You must have a Google account with a Google Drive to store/ load the main file with the relationships, for inspection. \n",
        "*    Upload the notebook from its location in GitHub and allow the code to access your Google Drive.\n",
        "*    Please put your credentials in the cell \"Connect to the Virtuoso database\".\n",
        "*    Put your own keywords in the cell with tile \"Enter keywords below\". Note that the search is case-sensitive."
      ],
      "metadata": {
        "id": "xncyccBFoSgr"
      }
    },
    {
      "cell_type": "code",
      "execution_count": 41,
      "metadata": {
        "colab": {
          "base_uri": "https://localhost:8080/"
        },
        "id": "glSFHXbCYIHu",
        "outputId": "91a3e107-b634-4ad4-d5bd-4d9b26d1984b"
      },
      "outputs": [
        {
          "output_type": "stream",
          "name": "stdout",
          "text": [
            "Drive already mounted at /content/drive; to attempt to forcibly remount, call drive.mount(\"/content/drive\", force_remount=True).\n"
          ]
        }
      ],
      "source": [
        "from google.colab import drive\n",
        "drive.mount('/content/drive')"
      ]
    },
    {
      "cell_type": "markdown",
      "source": [
        "## Installations"
      ],
      "metadata": {
        "id": "bOQCMFbqoqbj"
      }
    },
    {
      "cell_type": "code",
      "source": [
        "!pip install pyodbc"
      ],
      "metadata": {
        "colab": {
          "base_uri": "https://localhost:8080/"
        },
        "id": "e4Tv6pfKYPML",
        "outputId": "e364b9a8-5084-4f49-8df1-085cb7982a6c"
      },
      "execution_count": 42,
      "outputs": [
        {
          "output_type": "stream",
          "name": "stdout",
          "text": [
            "Looking in indexes: https://pypi.org/simple, https://us-python.pkg.dev/colab-wheels/public/simple/\n",
            "Requirement already satisfied: pyodbc in /usr/local/lib/python3.7/dist-packages (4.0.32)\n"
          ]
        }
      ]
    },
    {
      "cell_type": "code",
      "source": [
        "!pip install pyvis"
      ],
      "metadata": {
        "colab": {
          "base_uri": "https://localhost:8080/"
        },
        "id": "Xth1wUMO_pRG",
        "outputId": "b8d8ceb6-eb6f-44b9-b063-21d3f87eb9ca"
      },
      "execution_count": 43,
      "outputs": [
        {
          "output_type": "stream",
          "name": "stdout",
          "text": [
            "Looking in indexes: https://pypi.org/simple, https://us-python.pkg.dev/colab-wheels/public/simple/\n",
            "Requirement already satisfied: pyvis in /usr/local/lib/python3.7/dist-packages (0.2.1)\n",
            "Requirement already satisfied: jsonpickle>=1.4.1 in /usr/local/lib/python3.7/dist-packages (from pyvis) (2.2.0)\n",
            "Requirement already satisfied: ipython>=5.3.0 in /usr/local/lib/python3.7/dist-packages (from pyvis) (5.5.0)\n",
            "Requirement already satisfied: networkx>=1.11 in /usr/local/lib/python3.7/dist-packages (from pyvis) (2.6.3)\n",
            "Requirement already satisfied: jinja2>=2.9.6 in /usr/local/lib/python3.7/dist-packages (from pyvis) (2.11.3)\n",
            "Requirement already satisfied: setuptools>=18.5 in /usr/local/lib/python3.7/dist-packages (from ipython>=5.3.0->pyvis) (57.4.0)\n",
            "Requirement already satisfied: decorator in /usr/local/lib/python3.7/dist-packages (from ipython>=5.3.0->pyvis) (4.4.2)\n",
            "Requirement already satisfied: traitlets>=4.2 in /usr/local/lib/python3.7/dist-packages (from ipython>=5.3.0->pyvis) (5.1.1)\n",
            "Requirement already satisfied: simplegeneric>0.8 in /usr/local/lib/python3.7/dist-packages (from ipython>=5.3.0->pyvis) (0.8.1)\n",
            "Requirement already satisfied: pygments in /usr/local/lib/python3.7/dist-packages (from ipython>=5.3.0->pyvis) (2.6.1)\n",
            "Requirement already satisfied: prompt-toolkit<2.0.0,>=1.0.4 in /usr/local/lib/python3.7/dist-packages (from ipython>=5.3.0->pyvis) (1.0.18)\n",
            "Requirement already satisfied: pickleshare in /usr/local/lib/python3.7/dist-packages (from ipython>=5.3.0->pyvis) (0.7.5)\n",
            "Requirement already satisfied: pexpect in /usr/local/lib/python3.7/dist-packages (from ipython>=5.3.0->pyvis) (4.8.0)\n",
            "Requirement already satisfied: MarkupSafe>=0.23 in /usr/local/lib/python3.7/dist-packages (from jinja2>=2.9.6->pyvis) (2.0.1)\n",
            "Requirement already satisfied: importlib-metadata in /usr/local/lib/python3.7/dist-packages (from jsonpickle>=1.4.1->pyvis) (4.11.4)\n",
            "Requirement already satisfied: six>=1.9.0 in /usr/local/lib/python3.7/dist-packages (from prompt-toolkit<2.0.0,>=1.0.4->ipython>=5.3.0->pyvis) (1.15.0)\n",
            "Requirement already satisfied: wcwidth in /usr/local/lib/python3.7/dist-packages (from prompt-toolkit<2.0.0,>=1.0.4->ipython>=5.3.0->pyvis) (0.2.5)\n",
            "Requirement already satisfied: typing-extensions>=3.6.4 in /usr/local/lib/python3.7/dist-packages (from importlib-metadata->jsonpickle>=1.4.1->pyvis) (4.1.1)\n",
            "Requirement already satisfied: zipp>=0.5 in /usr/local/lib/python3.7/dist-packages (from importlib-metadata->jsonpickle>=1.4.1->pyvis) (3.8.0)\n",
            "Requirement already satisfied: ptyprocess>=0.5 in /usr/local/lib/python3.7/dist-packages (from pexpect->ipython>=5.3.0->pyvis) (0.7.0)\n"
          ]
        }
      ]
    },
    {
      "cell_type": "code",
      "source": [
        "!pip install SPARQLWrapper\n",
        "!pip install sparql_dataframe"
      ],
      "metadata": {
        "colab": {
          "base_uri": "https://localhost:8080/"
        },
        "id": "nIhY7ZeAYRvi",
        "outputId": "76250366-3577-4765-9283-170da8f7d4cf"
      },
      "execution_count": 44,
      "outputs": [
        {
          "output_type": "stream",
          "name": "stdout",
          "text": [
            "Looking in indexes: https://pypi.org/simple, https://us-python.pkg.dev/colab-wheels/public/simple/\n",
            "Requirement already satisfied: SPARQLWrapper in /usr/local/lib/python3.7/dist-packages (2.0.0)\n",
            "Requirement already satisfied: rdflib>=6.1.1 in /usr/local/lib/python3.7/dist-packages (from SPARQLWrapper) (6.1.1)\n",
            "Requirement already satisfied: pyparsing in /usr/local/lib/python3.7/dist-packages (from rdflib>=6.1.1->SPARQLWrapper) (3.0.9)\n",
            "Requirement already satisfied: setuptools in /usr/local/lib/python3.7/dist-packages (from rdflib>=6.1.1->SPARQLWrapper) (57.4.0)\n",
            "Requirement already satisfied: importlib-metadata in /usr/local/lib/python3.7/dist-packages (from rdflib>=6.1.1->SPARQLWrapper) (4.11.4)\n",
            "Requirement already satisfied: isodate in /usr/local/lib/python3.7/dist-packages (from rdflib>=6.1.1->SPARQLWrapper) (0.6.1)\n",
            "Requirement already satisfied: typing-extensions>=3.6.4 in /usr/local/lib/python3.7/dist-packages (from importlib-metadata->rdflib>=6.1.1->SPARQLWrapper) (4.1.1)\n",
            "Requirement already satisfied: zipp>=0.5 in /usr/local/lib/python3.7/dist-packages (from importlib-metadata->rdflib>=6.1.1->SPARQLWrapper) (3.8.0)\n",
            "Requirement already satisfied: six in /usr/local/lib/python3.7/dist-packages (from isodate->rdflib>=6.1.1->SPARQLWrapper) (1.15.0)\n",
            "Looking in indexes: https://pypi.org/simple, https://us-python.pkg.dev/colab-wheels/public/simple/\n",
            "Requirement already satisfied: sparql_dataframe in /usr/local/lib/python3.7/dist-packages (0.4)\n",
            "Requirement already satisfied: pandas>=0.22.0 in /usr/local/lib/python3.7/dist-packages (from sparql_dataframe) (1.3.5)\n",
            "Requirement already satisfied: SPARQLWrapper>=1.8.1 in /usr/local/lib/python3.7/dist-packages (from sparql_dataframe) (2.0.0)\n",
            "Requirement already satisfied: python-dateutil>=2.7.3 in /usr/local/lib/python3.7/dist-packages (from pandas>=0.22.0->sparql_dataframe) (2.8.2)\n",
            "Requirement already satisfied: numpy>=1.17.3 in /usr/local/lib/python3.7/dist-packages (from pandas>=0.22.0->sparql_dataframe) (1.21.6)\n",
            "Requirement already satisfied: pytz>=2017.3 in /usr/local/lib/python3.7/dist-packages (from pandas>=0.22.0->sparql_dataframe) (2022.1)\n",
            "Requirement already satisfied: six>=1.5 in /usr/local/lib/python3.7/dist-packages (from python-dateutil>=2.7.3->pandas>=0.22.0->sparql_dataframe) (1.15.0)\n",
            "Requirement already satisfied: rdflib>=6.1.1 in /usr/local/lib/python3.7/dist-packages (from SPARQLWrapper>=1.8.1->sparql_dataframe) (6.1.1)\n",
            "Requirement already satisfied: isodate in /usr/local/lib/python3.7/dist-packages (from rdflib>=6.1.1->SPARQLWrapper>=1.8.1->sparql_dataframe) (0.6.1)\n",
            "Requirement already satisfied: importlib-metadata in /usr/local/lib/python3.7/dist-packages (from rdflib>=6.1.1->SPARQLWrapper>=1.8.1->sparql_dataframe) (4.11.4)\n",
            "Requirement already satisfied: setuptools in /usr/local/lib/python3.7/dist-packages (from rdflib>=6.1.1->SPARQLWrapper>=1.8.1->sparql_dataframe) (57.4.0)\n",
            "Requirement already satisfied: pyparsing in /usr/local/lib/python3.7/dist-packages (from rdflib>=6.1.1->SPARQLWrapper>=1.8.1->sparql_dataframe) (3.0.9)\n",
            "Requirement already satisfied: zipp>=0.5 in /usr/local/lib/python3.7/dist-packages (from importlib-metadata->rdflib>=6.1.1->SPARQLWrapper>=1.8.1->sparql_dataframe) (3.8.0)\n",
            "Requirement already satisfied: typing-extensions>=3.6.4 in /usr/local/lib/python3.7/dist-packages (from importlib-metadata->rdflib>=6.1.1->SPARQLWrapper>=1.8.1->sparql_dataframe) (4.1.1)\n"
          ]
        }
      ]
    },
    {
      "cell_type": "code",
      "source": [
        "!apt-get install virtuoso-opensource"
      ],
      "metadata": {
        "colab": {
          "base_uri": "https://localhost:8080/"
        },
        "id": "FMxb2kvrYSPr",
        "outputId": "6fb828db-18fc-4a74-868e-64f4bfdb72f1"
      },
      "execution_count": 45,
      "outputs": [
        {
          "output_type": "stream",
          "name": "stdout",
          "text": [
            "Reading package lists... Done\n",
            "Building dependency tree       \n",
            "Reading state information... Done\n",
            "virtuoso-opensource is already the newest version (6.1.6+repack-0ubuntu9).\n",
            "The following package was automatically installed and is no longer required:\n",
            "  libnvidia-common-460\n",
            "Use 'apt autoremove' to remove it.\n",
            "0 upgraded, 0 newly installed, 0 to remove and 49 not upgraded.\n"
          ]
        }
      ]
    },
    {
      "cell_type": "markdown",
      "source": [
        "## Imports"
      ],
      "metadata": {
        "id": "hL63cueYovP6"
      }
    },
    {
      "cell_type": "code",
      "source": [
        "import os \n",
        "import re\n",
        "import logging\n",
        "import sys\n",
        "import pyodbc\n",
        "import hashlib\n",
        "import pandas as pd\n",
        "import numpy as np\n",
        "from datetime import datetime\n",
        "from SPARQLWrapper import SPARQLWrapper, POST, DIGEST, GET\n",
        "from SPARQLWrapper import JSON, INSERT, DELETE\n",
        "import sparql_dataframe\n",
        "\n",
        "pd.set_option('display.max_rows', 500)\n",
        "\n",
        "from IPython.display import Image\n",
        "\n",
        "import random\n",
        "\n",
        "import palettable\n",
        "from palettable.colorbrewer.sequential import Blues_9\n",
        "from palettable.colorbrewer.sequential import Greens_9\n",
        "from palettable.colorbrewer.qualitative import Accent_8\n",
        "from palettable.colorbrewer.qualitative import Paired_7\n",
        "\n",
        "from pyvis import network as net\n",
        "from IPython.core.display import display, HTML"
      ],
      "metadata": {
        "id": "nUingO8CYTzS"
      },
      "execution_count": 46,
      "outputs": []
    },
    {
      "cell_type": "markdown",
      "source": [
        "## Connect to the Virtuoso database"
      ],
      "metadata": {
        "id": "pxkvsw3OoyDd"
      }
    },
    {
      "cell_type": "code",
      "source": [
        "user = 'xxxxx'\n",
        "passw='xxxxx'"
      ],
      "metadata": {
        "id": "Vb4oqSFnWKdZ"
      },
      "execution_count": 47,
      "outputs": []
    },
    {
      "cell_type": "code",
      "source": [
        "def connect_db(DSN, DBA, UID, PWD):\n",
        "\n",
        "    connection = pyodbc.connect('DRIVER=/usr/lib/odbc/virtodbc.so;HOST=lod.csd.auth.gr:1111;UID='+user+';PWD='+passw+';DATABASE=ESTAT')\n",
        "    cursor = connection.cursor()\n",
        "\n",
        "    return connection, cursor\n",
        "\n",
        "\n",
        "def connect_virtuoso(DSN, UID, PWD):\n",
        "\n",
        "    sparql = SPARQLWrapper(DSN)\n",
        "    sparql.setHTTPAuth(DIGEST)\n",
        "    sparql.setCredentials(UID, PWD)\n",
        "    sparql.setMethod(GET)\n",
        "\n",
        "    return sparql\n",
        "\n",
        "\n",
        "# Connection to CDB \n",
        "#connection, cursor = connect_db('Virtuoso All', \n",
        "#                                'ESTAT', \n",
        "#                                user, \n",
        "#                                passw)\n",
        "\n",
        "# Connection to the KDB \n",
        "endpoint = \"http://lod.csd.auth.gr:8890/sparql/\"\n",
        "sparql = connect_virtuoso(endpoint, \n",
        "                          user, \n",
        "                          passw)"
      ],
      "metadata": {
        "id": "1mrZDxN2cB87"
      },
      "execution_count": 48,
      "outputs": []
    },
    {
      "cell_type": "markdown",
      "source": [
        "## Extraction of relationships"
      ],
      "metadata": {
        "id": "g79s3ZcSo5-L"
      }
    },
    {
      "cell_type": "code",
      "source": [
        "def databaseTable(keywords):\n",
        "\n",
        "  RelationsStatements = \"\"\"\n",
        "  DEFINE input:inference <https://ec.europa.eu/eurostat/NLP4StatRef/knowledge/>\n",
        "  PREFIX estat: <https://ec.europa.eu/eurostat/NLP4StatRef/ontology/>\n",
        "  PREFIX estatdata: <https://ec.europa.eu/eurostat/NLP4StatRef/knowledge/>\n",
        "  PREFIX oecd: <https://ec.europa.eu/eurostat/NLP4StatRef/knowledge/oecd/> \n",
        "  PREFIX estat: <https://ec.europa.eu/eurostat/NLP4StatRef/ontology/>\n",
        "  select ?article ?title ?articleURL ?r ?reftitle ?refURL where { \n",
        "      {?article rdf:type estat:Article .\n",
        "      ?article ?p ?t .}\n",
        "      UNION\n",
        "      {?article rdf:type estat:Article .\n",
        "      ?article estat:hasParagraph ?x.\n",
        "      ?x ?p ?t .}\n",
        "      filter contains(str(?t),\\\" \"\"\" + str(keywords) + \"\"\"\\\") \n",
        "      ?article estat:title ?title .\n",
        "      ?article estat:hasURL ?articleURL.\n",
        "      ?article estat:hasReference ?r .\n",
        "      {?r rdf:type estat:Table} \n",
        "      UNION\n",
        "      {?r rdf:type estat:Database}\n",
        "      ?r estat:hasURL ?refURL .\n",
        "      ?r estat:title ?reftitle .\n",
        "  } \n",
        "  \"\"\"\n",
        "\n",
        "  sparql.setQuery(RelationsStatements)\n",
        "  sparql.method = \"POST\"\n",
        "  sparql.setReturnFormat(JSON)\n",
        "  results = sparql.query().convert()['results']['bindings']\n",
        "  results = pd.json_normalize(results)\n",
        "  \n",
        "  return results\n",
        "\n",
        "def articleTable(keywords):\n",
        "\n",
        "  RelationsStatements = \"\"\"\n",
        "  DEFINE input:inference <https://ec.europa.eu/eurostat/NLP4StatRef/knowledge/>\n",
        "  PREFIX estat: <https://ec.europa.eu/eurostat/NLP4StatRef/ontology/>\n",
        "  PREFIX estatdata: <https://ec.europa.eu/eurostat/NLP4StatRef/knowledge/>\n",
        "  PREFIX oecd: <https://ec.europa.eu/eurostat/NLP4StatRef/knowledge/oecd/> \n",
        "  select * where { \n",
        "      {?article rdf:type estat:Article .\n",
        "      ?article ?p ?t .}\n",
        "      UNION\n",
        "      {?article rdf:type estat:Article .\n",
        "      ?article estat:hasParagraph ?x.\n",
        "      ?x ?p ?t .}\n",
        "      filter contains(str(?t),\\\" \"\"\" + str(keywords) + \"\"\"\\\") \n",
        "      ?article estat:title ?title .\n",
        "      ?article estat:hasURL ?articleURL.\n",
        "      ?article estat:hasReference ?r .\n",
        "      { ?r estat:hasURI ?euroArticle.\n",
        "      ?euroArticle estat:title ?euroTitle .\n",
        "        ?euroArticle estat:hasURL ?euroURL.}\n",
        "     UNION\n",
        "     {?r estat:hasURL ?euroURL.\n",
        "     ?r estat:title ?euroTitle .\n",
        "     BIND(?r as ?euroArticle)\n",
        "    }   \n",
        "  } \n",
        "  \"\"\"\n",
        "  \n",
        "  sparql.setQuery(RelationsStatements)\n",
        "  sparql.method = \"POST\"\n",
        "  sparql.setReturnFormat(JSON)\n",
        "  results = sparql.query().convert()['results']['bindings']\n",
        "  results = pd.json_normalize(results)\n",
        "  \n",
        "  return results\n",
        "\n",
        "\n"
      ],
      "metadata": {
        "id": "MZIdaqzVdBfi"
      },
      "execution_count": 49,
      "outputs": []
    },
    {
      "cell_type": "markdown",
      "source": [
        "### Production of the dataframe with the relationships"
      ],
      "metadata": {
        "id": "v24Jq1RpnXK3"
      }
    },
    {
      "cell_type": "code",
      "source": [
        "def produce_df(keywords):\n",
        "\n",
        "    results1 = databaseTable(keywords)\n",
        "    \n",
        "    results1.drop(columns=['article.type', 'title.type', 'articleURL.type', 'articleURL.datatype','r.type',\n",
        "       'reftitle.type','refURL.type','refURL.datatype', ],inplace=True)\n",
        "    results1.rename(columns={'article.value':'articleURI','title.value':'articleTitle','articleURL.value':'articleURL',\n",
        "                             'r.value':'relatedURI','reftitle.value':'relatedTitle','refURL.value':'relatedURL'},inplace=True)\n",
        "\n",
        "    results2 = articleTable(keywords)\n",
        "    #print(results2.columns)\n",
        "    #display(results2)\n",
        "\n",
        "    results2.drop(columns = ['article.type','p.type','p.value','t.type','t.value','title.type','articleURL.type','articleURL.datatype','r.value',      \n",
        "                                 'euroURL.type', 'euroURL.datatype', 'x.type', 'x.value','r.type','euroArticle.type','euroTitle.type'],inplace=True)\n",
        "    results2.rename(columns={'article.value':'articleURI','title.value':'articleTitle','articleURL.value':'articleURL',\n",
        "                             'euroArticle.value':'relatedURI','euroTitle.value':'relatedTitle','euroURL.value':'relatedURL'},inplace=True)\n",
        "\n",
        "\n",
        "    df = pd.concat([results1,results2])\n",
        "    return df\n",
        "\n"
      ],
      "metadata": {
        "id": "ueW0A28jw5g0"
      },
      "execution_count": 50,
      "outputs": []
    },
    {
      "cell_type": "markdown",
      "source": [
        "### Enter keywords below\n",
        "*    To re-run with different keywords change them below and re-run (\"Runtime > Run after\") from this cell. "
      ],
      "metadata": {
        "id": "FvjMRS6_tv4I"
      }
    },
    {
      "cell_type": "code",
      "source": [
        "keywords = 'migrant integration'"
      ],
      "metadata": {
        "id": "xuNlzchcuKu5"
      },
      "execution_count": 51,
      "outputs": []
    },
    {
      "cell_type": "markdown",
      "source": [
        "## Produce file for inspection"
      ],
      "metadata": {
        "id": "-zWxgZ6LpZtq"
      }
    },
    {
      "cell_type": "code",
      "source": [
        "\n",
        "df = produce_df(keywords)\n",
        "#print(df)\n",
        "df.to_excel('/content/drive/MyDrive/df.xlsx')\n"
      ],
      "metadata": {
        "id": "n5w2Wc3C_SUA"
      },
      "execution_count": 52,
      "outputs": []
    },
    {
      "cell_type": "code",
      "source": [
        "## add column relatedType indicating the type of the related resource\n",
        "\n",
        "conditions = [\n",
        "    (df['relatedURL'].str.contains('Glossary:')),              \n",
        "    (df['relatedURL'].str.contains('statistics-explained/index.php')),\n",
        "    ## (df['relatedURL'].str.contains('data/database')),\n",
        "    ## (df['relatedURL'].str.contains('/news/')),    \n",
        "    (df['relatedURL'].str.contains('eurostat/product')),    \n",
        "    (df['relatedURL'].str.contains('eur-lex.europa.eu'))    \n",
        "    ]\n",
        "##values = ['GL article','SE article', 'Data', 'News','Publication','Legislation']\n",
        "values = ['GL article','SE article', 'Publication','Legislation']\n",
        "df['relatedType'] = np.select(conditions,values,default='Other') \n",
        "df = df[df['relatedType'] != 'Other'].copy()\n",
        "df.reset_index(drop=False,inplace=True)\n",
        "df.drop(columns='index',inplace=True)\n",
        "\n",
        "##display(df)\n"
      ],
      "metadata": {
        "id": "QmQAKiDD4liS"
      },
      "execution_count": 53,
      "outputs": []
    },
    {
      "cell_type": "code",
      "source": [
        "## unique URIs in Articles and Related resources\n",
        "\n",
        "valuesURI = df[['articleURI','relatedURI']].values\n",
        "uniqueURI = np.unique(valuesURI)\n",
        "print('uniqueURIs:')\n",
        "uniqueURI\n",
        "\n",
        "df2 = pd.DataFrame(uniqueURI,columns=['uniqueURI'])\n",
        "df2['ID'] = range(len(df2))\n",
        "##df2"
      ],
      "metadata": {
        "colab": {
          "base_uri": "https://localhost:8080/"
        },
        "id": "m7EIxobCv8Mh",
        "outputId": "a1bc6202-c35e-4835-b39e-6acbfa1bc359"
      },
      "execution_count": 54,
      "outputs": [
        {
          "output_type": "stream",
          "name": "stdout",
          "text": [
            "uniqueURIs:\n"
          ]
        }
      ]
    },
    {
      "cell_type": "code",
      "source": [
        "## transfer the unique IDs to the main file\n",
        "\n",
        "df3 = pd.merge(df,df2,how='inner', left_on='articleURI',right_on='uniqueURI')\n",
        "df3.rename(columns={'ID':'articleID'},inplace=True)\n",
        "df3 = pd.merge(df3,df2,how='inner', left_on='relatedURI',right_on='uniqueURI')\n",
        "df3.rename(columns={'ID':'relatedID'},inplace=True)\n",
        "df3 = df3[['articleID','relatedID','relatedType','articleURI','articleURL','articleTitle','relatedURI','relatedURL','relatedTitle']]\n",
        "##df3"
      ],
      "metadata": {
        "id": "Cp-Cmw01CjD7"
      },
      "execution_count": 55,
      "outputs": []
    },
    {
      "cell_type": "code",
      "source": [
        "## related type groups and assignment to colors\n",
        "type_groups = np.unique(df3['relatedType'])\n",
        "print(type_groups)\n",
        "\n",
        "def type_color(group):\n",
        "  if group == 'GL article':\n",
        "    return Paired_7.hex_colors[2]\n",
        "  elif group == 'SE article':\n",
        "    return Paired_7.hex_colors[0]\n",
        "  elif group == 'Publication':\n",
        "    return Paired_7.hex_colors[3]\n",
        "  elif group == 'Legislation':\n",
        "    return Paired_7.hex_colors[1]\n",
        "  else:\n",
        "    print('***error***')  \n",
        "\n",
        "## values = ['GL article','SE article', 'Publication','Legislation']\n",
        "## corresponding colors: light green, light blue, green, blue\n",
        "## at indices of Paired_7.hex_colors: 2,0,3,1\n",
        "\n",
        "##node_colors = Paired_7.hex_colors[:len(type_groups)]\n",
        "node_colors=[]\n",
        "for t in type_groups:\n",
        "  node_colors.append(type_color(t))\n",
        "\n",
        "node_colors  \n"
      ],
      "metadata": {
        "id": "1D2Kbw24F_c1",
        "colab": {
          "base_uri": "https://localhost:8080/"
        },
        "outputId": "16a7093b-93ff-4168-bf6c-e2daa5371fef"
      },
      "execution_count": 56,
      "outputs": [
        {
          "output_type": "stream",
          "name": "stdout",
          "text": [
            "['Legislation' 'Publication' 'SE article']\n"
          ]
        },
        {
          "output_type": "execute_result",
          "data": {
            "text/plain": [
              "['#1F78B4', '#33A02C', '#A6CEE3']"
            ]
          },
          "metadata": {},
          "execution_count": 56
        }
      ]
    },
    {
      "cell_type": "code",
      "source": [
        "## Create graph\n",
        "\n",
        "g=net.Network(height='600px', width='75%',heading='')\n",
        "g.barnes_hut()\n",
        "g.repulsion(node_distance=100, spring_length=200)\n",
        "\n",
        "## First the unique articles - source nodes, by articleID \n",
        "uniqueArticles = df3.groupby(['articleID'])[['articleTitle']].agg(list).reset_index() ## aggregate into lists - titles are repeated\n",
        "##col_index = int(np.where(type_groups=='SE article')[0]) ## index of color to use for SE articles\n",
        "for i in range(len(uniqueArticles)): ## for some reason, single elements must be put in a list, add_node() does not work\n",
        "    ##g.add_nodes([uniqueArticles.loc[i,'articleID']], color=[node_colors[col_index]], label = [uniqueArticles.loc[i,'articleTitle'][0]])\n",
        "    g.add_nodes([uniqueArticles.loc[i,'articleID']], color=[type_color('SE article')], label = [uniqueArticles.loc[i,'articleTitle'][0]])\n",
        "\n",
        "## Then the related nodes, by type\n",
        "relatedGroups = df3.groupby(['relatedType'])[['relatedID','relatedTitle']].agg(list).reset_index() ## again aggregate into lists\n",
        "for i in range(len(relatedGroups)):\n",
        "    how_many_nodes = len(relatedGroups.loc[i,'relatedID'])\n",
        "    g.add_nodes(relatedGroups.loc[i,'relatedID'],label=relatedGroups.loc[i,'relatedTitle'], color=[node_colors[i]]*how_many_nodes)\n",
        "\n",
        "## The edges\n",
        "for i in range(len(df3)):        \n",
        "    n1 = int(df3.loc[i,'articleID'])\n",
        "    n2 = int(df3.loc[i,'relatedID'])\n",
        "    type_ind = int(np.where(type_groups==df3.loc[i,'relatedType'])[0])\n",
        "    col =  node_colors[type_ind]\n",
        "    lbl = type_groups[type_ind]\n",
        "    g.add_edge(n1,n2,color=col,label=lbl)\n",
        "g.show('example.html')\n",
        "display(HTML('example.html'))\n"
      ],
      "metadata": {
        "colab": {
          "base_uri": "https://localhost:8080/",
          "height": 638
        },
        "id": "k9yiNcSCJ5sJ",
        "outputId": "cd301859-6b24-49fd-a03f-fd2f1a8b9c2c"
      },
      "execution_count": 57,
      "outputs": [
        {
          "output_type": "display_data",
          "data": {
            "text/plain": [
              "<IPython.core.display.HTML object>"
            ],
            "text/html": [
              "<html>\n",
              "<head>\n",
              "<link rel=\"stylesheet\" href=\"https://cdn.jsdelivr.net/npm/vis-network@latest/styles/vis-network.css\" type=\"text/css\" />\n",
              "<script type=\"text/javascript\" src=\"https://cdn.jsdelivr.net/npm/vis-network@latest/dist/vis-network.min.js\"> </script>\n",
              "<center>\n",
              "<h1></h1>\n",
              "</center>\n",
              "\n",
              "<!-- <link rel=\"stylesheet\" href=\"../node_modules/vis/dist/vis.min.css\" type=\"text/css\" />\n",
              "<script type=\"text/javascript\" src=\"../node_modules/vis/dist/vis.js\"> </script>-->\n",
              "\n",
              "<style type=\"text/css\">\n",
              "\n",
              "        #mynetwork {\n",
              "            width: 75%;\n",
              "            height: 600px;\n",
              "            background-color: #ffffff;\n",
              "            border: 1px solid lightgray;\n",
              "            position: relative;\n",
              "            float: left;\n",
              "        }\n",
              "\n",
              "        \n",
              "        #loadingBar {\n",
              "            position:absolute;\n",
              "            top:0px;\n",
              "            left:0px;\n",
              "            width: 75%;\n",
              "            height: 600px;\n",
              "            background-color:rgba(200,200,200,0.8);\n",
              "            -webkit-transition: all 0.5s ease;\n",
              "            -moz-transition: all 0.5s ease;\n",
              "            -ms-transition: all 0.5s ease;\n",
              "            -o-transition: all 0.5s ease;\n",
              "            transition: all 0.5s ease;\n",
              "            opacity:1;\n",
              "        }\n",
              "\n",
              "        #bar {\n",
              "            position:absolute;\n",
              "            top:0px;\n",
              "            left:0px;\n",
              "            width:20px;\n",
              "            height:20px;\n",
              "            margin:auto auto auto auto;\n",
              "            border-radius:11px;\n",
              "            border:2px solid rgba(30,30,30,0.05);\n",
              "            background: rgb(0, 173, 246); /* Old browsers */\n",
              "            box-shadow: 2px 0px 4px rgba(0,0,0,0.4);\n",
              "        }\n",
              "\n",
              "        #border {\n",
              "            position:absolute;\n",
              "            top:10px;\n",
              "            left:10px;\n",
              "            width:500px;\n",
              "            height:23px;\n",
              "            margin:auto auto auto auto;\n",
              "            box-shadow: 0px 0px 4px rgba(0,0,0,0.2);\n",
              "            border-radius:10px;\n",
              "        }\n",
              "\n",
              "        #text {\n",
              "            position:absolute;\n",
              "            top:8px;\n",
              "            left:530px;\n",
              "            width:30px;\n",
              "            height:50px;\n",
              "            margin:auto auto auto auto;\n",
              "            font-size:22px;\n",
              "            color: #000000;\n",
              "        }\n",
              "\n",
              "        div.outerBorder {\n",
              "            position:relative;\n",
              "            top:400px;\n",
              "            width:600px;\n",
              "            height:44px;\n",
              "            margin:auto auto auto auto;\n",
              "            border:8px solid rgba(0,0,0,0.1);\n",
              "            background: rgb(252,252,252); /* Old browsers */\n",
              "            background: -moz-linear-gradient(top,  rgba(252,252,252,1) 0%, rgba(237,237,237,1) 100%); /* FF3.6+ */\n",
              "            background: -webkit-gradient(linear, left top, left bottom, color-stop(0%,rgba(252,252,252,1)), color-stop(100%,rgba(237,237,237,1))); /* Chrome,Safari4+ */\n",
              "            background: -webkit-linear-gradient(top,  rgba(252,252,252,1) 0%,rgba(237,237,237,1) 100%); /* Chrome10+,Safari5.1+ */\n",
              "            background: -o-linear-gradient(top,  rgba(252,252,252,1) 0%,rgba(237,237,237,1) 100%); /* Opera 11.10+ */\n",
              "            background: -ms-linear-gradient(top,  rgba(252,252,252,1) 0%,rgba(237,237,237,1) 100%); /* IE10+ */\n",
              "            background: linear-gradient(to bottom,  rgba(252,252,252,1) 0%,rgba(237,237,237,1) 100%); /* W3C */\n",
              "            filter: progid:DXImageTransform.Microsoft.gradient( startColorstr='#fcfcfc', endColorstr='#ededed',GradientType=0 ); /* IE6-9 */\n",
              "            border-radius:72px;\n",
              "            box-shadow: 0px 0px 10px rgba(0,0,0,0.2);\n",
              "        }\n",
              "        \n",
              "\n",
              "        \n",
              "\n",
              "        \n",
              "</style>\n",
              "\n",
              "</head>\n",
              "\n",
              "<body>\n",
              "<div id = \"mynetwork\"></div>\n",
              "\n",
              "<div id=\"loadingBar\">\n",
              "    <div class=\"outerBorder\">\n",
              "        <div id=\"text\">0%</div>\n",
              "        <div id=\"border\">\n",
              "            <div id=\"bar\"></div>\n",
              "        </div>\n",
              "    </div>\n",
              "</div>\n",
              "\n",
              "\n",
              "<script type=\"text/javascript\">\n",
              "\n",
              "    // initialize global variables.\n",
              "    var edges;\n",
              "    var nodes;\n",
              "    var network; \n",
              "    var container;\n",
              "    var options, data;\n",
              "\n",
              "    \n",
              "    // This method is responsible for drawing the graph, returns the drawn network\n",
              "    function drawGraph() {\n",
              "        var container = document.getElementById('mynetwork');\n",
              "        \n",
              "        \n",
              "\n",
              "        // parsing and collecting nodes and edges from the python\n",
              "        nodes = new vis.DataSet([{\"color\": \"#A6CEE3\", \"id\": 4, \"label\": \"Migrant integration statistics labour market indicators\", \"shape\": \"dot\"}, {\"color\": \"#A6CEE3\", \"id\": 5, \"label\": \"Migrant integration statistics introduced\", \"shape\": \"dot\"}, {\"color\": \"#A6CEE3\", \"id\": 9, \"label\": \"Migrant integration statistics at risk of poverty and social exclusion\", \"shape\": \"dot\"}, {\"color\": \"#A6CEE3\", \"id\": 10, \"label\": \"Migrant integration statistics housing\", \"shape\": \"dot\"}, {\"color\": \"#A6CEE3\", \"id\": 11, \"label\": \"Migrant integration statistics education\", \"shape\": \"dot\"}, {\"color\": \"#A6CEE3\", \"id\": 12, \"label\": \"Migrant integration statistics employment conditions\", \"shape\": \"dot\"}, {\"color\": \"#A6CEE3\", \"id\": 14, \"label\": \"Migrant integration statistics over qualification\", \"shape\": \"dot\"}, {\"color\": \"#A6CEE3\", \"id\": 15, \"label\": \"Migrant integration statistics regional labour market indicators\", \"shape\": \"dot\"}, {\"color\": \"#A6CEE3\", \"id\": 18, \"label\": \"SDG Synopsis\", \"shape\": \"dot\"}, {\"color\": \"#A6CEE3\", \"id\": 22, \"label\": \"Migrant integration statistics socioeconomic situation of young people\", \"shape\": \"dot\"}, {\"color\": \"#A6CEE3\", \"id\": 23, \"label\": \"Migrant integration statistics active citizenship\", \"shape\": \"dot\"}, {\"color\": \"#1F78B4\", \"id\": 79, \"label\": \"Directive 2014 66 EU of 15 May 2014 on the conditions of entry and residence of third country nationals in the framework of an intra corporate transfer\", \"shape\": \"dot\"}, {\"color\": \"#1F78B4\", \"id\": 80, \"label\": \"Summaries of EU legislation  posting of staff from outside the EU\", \"shape\": \"dot\"}, {\"color\": \"#1F78B4\", \"id\": 81, \"label\": \"Directive 2011 98 EU of 15 May 2014 on a single application procedure for a single permit for third country nationals to reside and work in the territory of a Member State and on a common set of rights for third country workers legally residing in a Member State\", \"shape\": \"dot\"}, {\"color\": \"#1F78B4\", \"id\": 82, \"label\": \"Summaries of EU legislation  non EU workers   easier residence and work formalities\", \"shape\": \"dot\"}, {\"color\": \"#1F78B4\", \"id\": 83, \"label\": \"Directive 2009 50 EC of 25 May 2009 on the conditions of entry and residence of third country nationals for the purposes of highly qualified employment  commonly called the  Blue card directive\", \"shape\": \"dot\"}, {\"color\": \"#1F78B4\", \"id\": 84, \"label\": \"Summaries of EU legislation  EU Blue Card   entry and residence of highly qualified workers\", \"shape\": \"dot\"}, {\"color\": \"#1F78B4\", \"id\": 85, \"label\": \"Directive 2003 86 EC of 22 September 2003 on the right to family reunification\", \"shape\": \"dot\"}, {\"color\": \"#1F78B4\", \"id\": 86, \"label\": \"Summaries of EU legislation  family reunification\", \"shape\": \"dot\"}, {\"color\": \"#1F78B4\", \"id\": 87, \"label\": \"Directive 2000 43 EC of 29 June 2000 implementing the principle of equal treatment between persons irrespective of racial or ethnic origin\", \"shape\": \"dot\"}, {\"color\": \"#1F78B4\", \"id\": 88, \"label\": \"Summaries of EU legislation  equal treatment irrespective of racial or ethnic origin\", \"shape\": \"dot\"}, {\"color\": \"#1F78B4\", \"id\": 89, \"label\": \"Directive 2000 78 EC of 27 November 2000 establishing a general framework for equal treatment in employment and occupation\", \"shape\": \"dot\"}, {\"color\": \"#1F78B4\", \"id\": 90, \"label\": \"Summaries of EU legislation  equal treatment in employment and occupation\", \"shape\": \"dot\"}, {\"color\": \"#1F78B4\", \"id\": 107, \"label\": \"Regulation  EC  No 862 2007 of the European Parliament and of the Council of 11 July 2007 on Community statistics on migration and international protection\", \"shape\": \"dot\"}, {\"color\": \"#1F78B4\", \"id\": 108, \"label\": \"Summaries of EU Legislation  Migration statistics\", \"shape\": \"dot\"}, {\"color\": \"#1F78B4\", \"id\": 109, \"label\": \"Council Directive 2003 86 EC of 22 September 2003 on the right to family reunification\", \"shape\": \"dot\"}, {\"color\": \"#1F78B4\", \"id\": 110, \"label\": \"Council Directive 2003 109 EC of 25 November 2003 concerning the status of third country nationals who are long term residents\", \"shape\": \"dot\"}, {\"color\": \"#33A02C\", \"id\": 99, \"label\": \"Indicators of immigrant integration   a pilot study\", \"shape\": \"dot\"}, {\"color\": \"#33A02C\", \"id\": 100, \"label\": \"Immigrants in Europe   A statistical portrait of the first and second generation\", \"shape\": \"dot\"}, {\"color\": \"#33A02C\", \"id\": 101, \"label\": \"Migrant integration statistics   2017 edition\", \"shape\": \"dot\"}, {\"color\": \"#33A02C\", \"id\": 102, \"label\": \"Migrant integration statistics\", \"shape\": \"dot\"}, {\"color\": \"#33A02C\", \"id\": 63, \"label\": \"Sustainable development in the European Union   Monitoring report on progress towards the SDGS in an EU context   2021 edition\", \"shape\": \"dot\"}, {\"color\": \"#A6CEE3\", \"id\": 2, \"label\": \"Employment rates annual statistics\", \"shape\": \"dot\"}, {\"color\": \"#A6CEE3\", \"id\": 7, \"label\": \"Migration and migrant population statistics\", \"shape\": \"dot\"}, {\"color\": \"#A6CEE3\", \"id\": 16, \"label\": \"Unemployment statistics and beyond\", \"shape\": \"dot\"}, {\"color\": \"#A6CEE3\", \"id\": 19, \"label\": \"Unemployment statistics\", \"shape\": \"dot\"}, {\"color\": \"#A6CEE3\", \"id\": 20, \"label\": \"Employment annual statistics\", \"shape\": \"dot\"}, {\"color\": \"#A6CEE3\", \"id\": 64, \"label\": \"Migrant integration statistics\", \"shape\": \"dot\"}, {\"color\": \"#A6CEE3\", \"id\": 65, \"label\": \"Migrant integration statistics introduced\", \"shape\": \"dot\"}, {\"color\": \"#A6CEE3\", \"id\": 66, \"label\": \"Migrant integration statistics   education\", \"shape\": \"dot\"}, {\"color\": \"#A6CEE3\", \"id\": 67, \"label\": \"Migrant integration statistics   employment conditions\", \"shape\": \"dot\"}, {\"color\": \"#A6CEE3\", \"id\": 68, \"label\": \"Migrant integration statistics   regional labour market indicators\", \"shape\": \"dot\"}, {\"color\": \"#A6CEE3\", \"id\": 69, \"label\": \"Migration and migrant population statistics\", \"shape\": \"dot\"}, {\"color\": \"#A6CEE3\", \"id\": 70, \"label\": \"Employment rates   annual statistics\", \"shape\": \"dot\"}, {\"color\": \"#A6CEE3\", \"id\": 71, \"label\": \"Employment   annual statistics\", \"shape\": \"dot\"}, {\"color\": \"#A6CEE3\", \"id\": 72, \"label\": \"Unemployment statistics\", \"shape\": \"dot\"}, {\"color\": \"#A6CEE3\", \"id\": 73, \"label\": \"Unemployment statistics and beyond\", \"shape\": \"dot\"}, {\"color\": \"#A6CEE3\", \"id\": 1, \"label\": \"Labour market statistics at regional level\", \"shape\": \"dot\"}, {\"color\": \"#A6CEE3\", \"id\": 3, \"label\": \"First and second generation immigrants statistics on labour market indicators\", \"shape\": \"dot\"}, {\"color\": \"#A6CEE3\", \"id\": 17, \"label\": \"First and second generation immigrants obstacles to work\", \"shape\": \"dot\"}, {\"color\": \"#A6CEE3\", \"id\": 51, \"label\": \"Acquisition of citizenship statistics\", \"shape\": \"dot\"}, {\"color\": \"#A6CEE3\", \"id\": 52, \"label\": \"Employment rates   annual statistics\", \"shape\": \"dot\"}, {\"color\": \"#A6CEE3\", \"id\": 53, \"label\": \"European Union Labour force survey   selection of articles  Statistics Explained\", \"shape\": \"dot\"}, {\"color\": \"#A6CEE3\", \"id\": 54, \"label\": \"First and second generation immigrants   obstacles to work\", \"shape\": \"dot\"}, {\"color\": \"#A6CEE3\", \"id\": 55, \"label\": \"First and second generation immigrants   statistics on labour market indicators\", \"shape\": \"dot\"}, {\"color\": \"#A6CEE3\", \"id\": 56, \"label\": \"Labour market\", \"shape\": \"dot\"}, {\"color\": \"#A6CEE3\", \"id\": 57, \"label\": \"Labour market statistics at regional level\", \"shape\": \"dot\"}, {\"color\": \"#A6CEE3\", \"id\": 58, \"label\": \"Migrant integration statistics\", \"shape\": \"dot\"}, {\"color\": \"#A6CEE3\", \"id\": 59, \"label\": \"Migrant integration statistics   labour market indicators\", \"shape\": \"dot\"}, {\"color\": \"#A6CEE3\", \"id\": 60, \"label\": \"Migration and migrant population statistics\", \"shape\": \"dot\"}, {\"color\": \"#A6CEE3\", \"id\": 40, \"label\": \"Migrant integration statistics\", \"shape\": \"dot\"}, {\"color\": \"#A6CEE3\", \"id\": 41, \"label\": \"Migrant integration statistics introduced\", \"shape\": \"dot\"}, {\"color\": \"#A6CEE3\", \"id\": 42, \"label\": \"Migrant integration statistics   education\", \"shape\": \"dot\"}, {\"color\": \"#A6CEE3\", \"id\": 43, \"label\": \"Migrant integration statistics   employment conditions\", \"shape\": \"dot\"}, {\"color\": \"#A6CEE3\", \"id\": 44, \"label\": \"Migrant integration statistics   labour market indicators\", \"shape\": \"dot\"}, {\"color\": \"#A6CEE3\", \"id\": 45, \"label\": \"Migrant integration statistics   regional labour market indicators\", \"shape\": \"dot\"}, {\"color\": \"#A6CEE3\", \"id\": 46, \"label\": \"Migration and migrant population statistics\", \"shape\": \"dot\"}, {\"color\": \"#A6CEE3\", \"id\": 47, \"label\": \"Employment rates   annual statistics\", \"shape\": \"dot\"}, {\"color\": \"#A6CEE3\", \"id\": 48, \"label\": \"Employment   annual statistics\", \"shape\": \"dot\"}, {\"color\": \"#A6CEE3\", \"id\": 49, \"label\": \"Unemployment statistics\", \"shape\": \"dot\"}, {\"color\": \"#A6CEE3\", \"id\": 50, \"label\": \"Unemployment statistics and beyond\", \"shape\": \"dot\"}, {\"color\": \"#A6CEE3\", \"id\": 74, \"label\": \"European Union Labour force survey   selection of articles  Statistics Explained\", \"shape\": \"dot\"}, {\"color\": \"#A6CEE3\", \"id\": 75, \"label\": \"Migrant integration statistics\", \"shape\": \"dot\"}, {\"color\": \"#A6CEE3\", \"id\": 76, \"label\": \"Migrant integration statistics   education\", \"shape\": \"dot\"}, {\"color\": \"#A6CEE3\", \"id\": 77, \"label\": \"Migrant integration statistics   labour market indicators\", \"shape\": \"dot\"}, {\"color\": \"#A6CEE3\", \"id\": 78, \"label\": \"Migration and migrant population statistics\", \"shape\": \"dot\"}, {\"color\": \"#A6CEE3\", \"id\": 27, \"label\": \"Migrant integration statistics\", \"shape\": \"dot\"}, {\"color\": \"#A6CEE3\", \"id\": 28, \"label\": \"Migrant integration statistics introduced\", \"shape\": \"dot\"}, {\"color\": \"#A6CEE3\", \"id\": 29, \"label\": \"Migration and migrant population statistics\", \"shape\": \"dot\"}, {\"color\": \"#A6CEE3\", \"id\": 33, \"label\": \"Education and training\", \"shape\": \"dot\"}, {\"color\": \"#A6CEE3\", \"id\": 34, \"label\": \"Migrant integration statistics\", \"shape\": \"dot\"}, {\"color\": \"#A6CEE3\", \"id\": 35, \"label\": \"Migrant integration statistics introduced\", \"shape\": \"dot\"}, {\"color\": \"#A6CEE3\", \"id\": 36, \"label\": \"Migrant integration statistics   at risk of poverty and social exclusion\", \"shape\": \"dot\"}, {\"color\": \"#A6CEE3\", \"id\": 37, \"label\": \"Migrant integration statistics   employment conditions\", \"shape\": \"dot\"}, {\"color\": \"#A6CEE3\", \"id\": 38, \"label\": \"Migrant integration statistics   housing\", \"shape\": \"dot\"}, {\"color\": \"#A6CEE3\", \"id\": 39, \"label\": \"Migration and migrant population statistics\", \"shape\": \"dot\"}, {\"color\": \"#A6CEE3\", \"id\": 0, \"label\": \"Residence permits statistics on first permits issued during the year\", \"shape\": \"dot\"}, {\"color\": \"#A6CEE3\", \"id\": 103, \"label\": \"Migrant integration statistics\", \"shape\": \"dot\"}, {\"color\": \"#A6CEE3\", \"id\": 104, \"label\": \"All articles on asylum and migration\", \"shape\": \"dot\"}, {\"color\": \"#A6CEE3\", \"id\": 105, \"label\": \"Acquisition of citizenship statistics\", \"shape\": \"dot\"}, {\"color\": \"#A6CEE3\", \"id\": 106, \"label\": \"Residence permits   statistics on first permits issued during the year\", \"shape\": \"dot\"}, {\"color\": \"#A6CEE3\", \"id\": 6, \"label\": \"Participation of young people in education and the labour market\", \"shape\": \"dot\"}, {\"color\": \"#A6CEE3\", \"id\": 8, \"label\": \"Personal remittances statistics\", \"shape\": \"dot\"}, {\"color\": \"#A6CEE3\", \"id\": 21, \"label\": \"Youth unemployment\", \"shape\": \"dot\"}, {\"color\": \"#A6CEE3\", \"id\": 91, \"label\": \"Youth\", \"shape\": \"dot\"}, {\"color\": \"#A6CEE3\", \"id\": 92, \"label\": \"All articles from Being young in Europe today\", \"shape\": \"dot\"}, {\"color\": \"#A6CEE3\", \"id\": 93, \"label\": \"Quality of life indicators\", \"shape\": \"dot\"}, {\"color\": \"#A6CEE3\", \"id\": 94, \"label\": \"Migrant integration statistics\", \"shape\": \"dot\"}, {\"color\": \"#A6CEE3\", \"id\": 95, \"label\": \"Migration and migrant population statistics\", \"shape\": \"dot\"}, {\"color\": \"#A6CEE3\", \"id\": 96, \"label\": \"Personal remittances statistics\", \"shape\": \"dot\"}, {\"color\": \"#A6CEE3\", \"id\": 97, \"label\": \"Participation of young people in education and the labour market\", \"shape\": \"dot\"}, {\"color\": \"#A6CEE3\", \"id\": 98, \"label\": \"Youth unemployment\", \"shape\": \"dot\"}, {\"color\": \"#A6CEE3\", \"id\": 24, \"label\": \"All articles on asylum and migration\", \"shape\": \"dot\"}, {\"color\": \"#A6CEE3\", \"id\": 25, \"label\": \"Migrant integration statistics\", \"shape\": \"dot\"}, {\"color\": \"#A6CEE3\", \"id\": 26, \"label\": \"First and second generation immigrants   a statistical overview\", \"shape\": \"dot\"}, {\"color\": \"#A6CEE3\", \"id\": 30, \"label\": \"Migrant integration statistics\", \"shape\": \"dot\"}, {\"color\": \"#A6CEE3\", \"id\": 31, \"label\": \"Migrant integration statistics introduced\", \"shape\": \"dot\"}, {\"color\": \"#A6CEE3\", \"id\": 32, \"label\": \"Migration and migrant population statistics\", \"shape\": \"dot\"}, {\"color\": \"#A6CEE3\", \"id\": 13, \"label\": \"SDG Introduction\", \"shape\": \"dot\"}, {\"color\": \"#A6CEE3\", \"id\": 61, \"label\": \"Category Sustainable development goals\", \"shape\": \"dot\"}, {\"color\": \"#A6CEE3\", \"id\": 62, \"label\": \"SDG   Introduction\", \"shape\": \"dot\"}]);\n",
              "        edges = new vis.DataSet([{\"color\": \"#A6CEE3\", \"from\": 4, \"label\": \"SE article\", \"to\": 2}, {\"color\": \"#A6CEE3\", \"from\": 15, \"label\": \"SE article\", \"to\": 2}, {\"color\": \"#A6CEE3\", \"from\": 14, \"label\": \"SE article\", \"to\": 2}, {\"color\": \"#A6CEE3\", \"from\": 4, \"label\": \"SE article\", \"to\": 5}, {\"color\": \"#A6CEE3\", \"from\": 14, \"label\": \"SE article\", \"to\": 5}, {\"color\": \"#A6CEE3\", \"from\": 9, \"label\": \"SE article\", \"to\": 5}, {\"color\": \"#A6CEE3\", \"from\": 11, \"label\": \"SE article\", \"to\": 5}, {\"color\": \"#A6CEE3\", \"from\": 10, \"label\": \"SE article\", \"to\": 5}, {\"color\": \"#A6CEE3\", \"from\": 4, \"label\": \"SE article\", \"to\": 7}, {\"color\": \"#A6CEE3\", \"from\": 15, \"label\": \"SE article\", \"to\": 7}, {\"color\": \"#A6CEE3\", \"from\": 14, \"label\": \"SE article\", \"to\": 7}, {\"color\": \"#A6CEE3\", \"from\": 12, \"label\": \"SE article\", \"to\": 7}, {\"color\": \"#A6CEE3\", \"from\": 9, \"label\": \"SE article\", \"to\": 7}, {\"color\": \"#A6CEE3\", \"from\": 11, \"label\": \"SE article\", \"to\": 7}, {\"color\": \"#A6CEE3\", \"from\": 22, \"label\": \"SE article\", \"to\": 7}, {\"color\": \"#A6CEE3\", \"from\": 10, \"label\": \"SE article\", \"to\": 7}, {\"color\": \"#A6CEE3\", \"from\": 4, \"label\": \"SE article\", \"to\": 11}, {\"color\": \"#A6CEE3\", \"from\": 14, \"label\": \"SE article\", \"to\": 11}, {\"color\": \"#A6CEE3\", \"from\": 12, \"label\": \"SE article\", \"to\": 11}, {\"color\": \"#A6CEE3\", \"from\": 4, \"label\": \"SE article\", \"to\": 12}, {\"color\": \"#A6CEE3\", \"from\": 14, \"label\": \"SE article\", \"to\": 12}, {\"color\": \"#A6CEE3\", \"from\": 4, \"label\": \"SE article\", \"to\": 15}, {\"color\": \"#A6CEE3\", \"from\": 14, \"label\": \"SE article\", \"to\": 15}, {\"color\": \"#A6CEE3\", \"from\": 4, \"label\": \"SE article\", \"to\": 16}, {\"color\": \"#A6CEE3\", \"from\": 14, \"label\": \"SE article\", \"to\": 16}, {\"color\": \"#A6CEE3\", \"from\": 4, \"label\": \"SE article\", \"to\": 19}, {\"color\": \"#A6CEE3\", \"from\": 14, \"label\": \"SE article\", \"to\": 19}, {\"color\": \"#A6CEE3\", \"from\": 4, \"label\": \"SE article\", \"to\": 20}, {\"color\": \"#A6CEE3\", \"from\": 14, \"label\": \"SE article\", \"to\": 20}, {\"color\": \"#A6CEE3\", \"from\": 4, \"label\": \"SE article\", \"to\": 64}, {\"color\": \"#A6CEE3\", \"from\": 4, \"label\": \"SE article\", \"to\": 65}, {\"color\": \"#A6CEE3\", \"from\": 4, \"label\": \"SE article\", \"to\": 66}, {\"color\": \"#A6CEE3\", \"from\": 4, \"label\": \"SE article\", \"to\": 67}, {\"color\": \"#A6CEE3\", \"from\": 4, \"label\": \"SE article\", \"to\": 68}, {\"color\": \"#A6CEE3\", \"from\": 4, \"label\": \"SE article\", \"to\": 69}, {\"color\": \"#A6CEE3\", \"from\": 4, \"label\": \"SE article\", \"to\": 70}, {\"color\": \"#A6CEE3\", \"from\": 4, \"label\": \"SE article\", \"to\": 71}, {\"color\": \"#A6CEE3\", \"from\": 4, \"label\": \"SE article\", \"to\": 72}, {\"color\": \"#A6CEE3\", \"from\": 4, \"label\": \"SE article\", \"to\": 73}, {\"color\": \"#A6CEE3\", \"from\": 15, \"label\": \"SE article\", \"to\": 1}, {\"color\": \"#A6CEE3\", \"from\": 15, \"label\": \"SE article\", \"to\": 3}, {\"color\": \"#A6CEE3\", \"from\": 14, \"label\": \"SE article\", \"to\": 4}, {\"color\": \"#A6CEE3\", \"from\": 15, \"label\": \"SE article\", \"to\": 17}, {\"color\": \"#A6CEE3\", \"from\": 15, \"label\": \"SE article\", \"to\": 51}, {\"color\": \"#A6CEE3\", \"from\": 15, \"label\": \"SE article\", \"to\": 52}, {\"color\": \"#A6CEE3\", \"from\": 15, \"label\": \"SE article\", \"to\": 53}, {\"color\": \"#A6CEE3\", \"from\": 15, \"label\": \"SE article\", \"to\": 54}, {\"color\": \"#A6CEE3\", \"from\": 15, \"label\": \"SE article\", \"to\": 55}, {\"color\": \"#A6CEE3\", \"from\": 15, \"label\": \"SE article\", \"to\": 56}, {\"color\": \"#A6CEE3\", \"from\": 15, \"label\": \"SE article\", \"to\": 57}, {\"color\": \"#A6CEE3\", \"from\": 15, \"label\": \"SE article\", \"to\": 58}, {\"color\": \"#A6CEE3\", \"from\": 15, \"label\": \"SE article\", \"to\": 59}, {\"color\": \"#A6CEE3\", \"from\": 15, \"label\": \"SE article\", \"to\": 60}, {\"color\": \"#A6CEE3\", \"from\": 14, \"label\": \"SE article\", \"to\": 40}, {\"color\": \"#A6CEE3\", \"from\": 14, \"label\": \"SE article\", \"to\": 41}, {\"color\": \"#A6CEE3\", \"from\": 14, \"label\": \"SE article\", \"to\": 42}, {\"color\": \"#A6CEE3\", \"from\": 14, \"label\": \"SE article\", \"to\": 43}, {\"color\": \"#A6CEE3\", \"from\": 14, \"label\": \"SE article\", \"to\": 44}, {\"color\": \"#A6CEE3\", \"from\": 14, \"label\": \"SE article\", \"to\": 45}, {\"color\": \"#A6CEE3\", \"from\": 14, \"label\": \"SE article\", \"to\": 46}, {\"color\": \"#A6CEE3\", \"from\": 14, \"label\": \"SE article\", \"to\": 47}, {\"color\": \"#A6CEE3\", \"from\": 14, \"label\": \"SE article\", \"to\": 48}, {\"color\": \"#A6CEE3\", \"from\": 14, \"label\": \"SE article\", \"to\": 49}, {\"color\": \"#A6CEE3\", \"from\": 14, \"label\": \"SE article\", \"to\": 50}, {\"color\": \"#A6CEE3\", \"from\": 12, \"label\": \"SE article\", \"to\": 74}, {\"color\": \"#A6CEE3\", \"from\": 12, \"label\": \"SE article\", \"to\": 75}, {\"color\": \"#A6CEE3\", \"from\": 12, \"label\": \"SE article\", \"to\": 76}, {\"color\": \"#A6CEE3\", \"from\": 12, \"label\": \"SE article\", \"to\": 77}, {\"color\": \"#A6CEE3\", \"from\": 12, \"label\": \"SE article\", \"to\": 78}, {\"color\": \"#1F78B4\", \"from\": 12, \"label\": \"Legislation\", \"to\": 79}, {\"color\": \"#1F78B4\", \"from\": 12, \"label\": \"Legislation\", \"to\": 80}, {\"color\": \"#1F78B4\", \"from\": 12, \"label\": \"Legislation\", \"to\": 81}, {\"color\": \"#1F78B4\", \"from\": 12, \"label\": \"Legislation\", \"to\": 82}, {\"color\": \"#1F78B4\", \"from\": 12, \"label\": \"Legislation\", \"to\": 83}, {\"color\": \"#1F78B4\", \"from\": 12, \"label\": \"Legislation\", \"to\": 84}, {\"color\": \"#1F78B4\", \"from\": 12, \"label\": \"Legislation\", \"to\": 85}, {\"color\": \"#1F78B4\", \"from\": 12, \"label\": \"Legislation\", \"to\": 86}, {\"color\": \"#1F78B4\", \"from\": 12, \"label\": \"Legislation\", \"to\": 87}, {\"color\": \"#1F78B4\", \"from\": 12, \"label\": \"Legislation\", \"to\": 88}, {\"color\": \"#1F78B4\", \"from\": 12, \"label\": \"Legislation\", \"to\": 89}, {\"color\": \"#1F78B4\", \"from\": 12, \"label\": \"Legislation\", \"to\": 90}, {\"color\": \"#A6CEE3\", \"from\": 9, \"label\": \"SE article\", \"to\": 27}, {\"color\": \"#A6CEE3\", \"from\": 9, \"label\": \"SE article\", \"to\": 28}, {\"color\": \"#A6CEE3\", \"from\": 9, \"label\": \"SE article\", \"to\": 29}, {\"color\": \"#A6CEE3\", \"from\": 11, \"label\": \"SE article\", \"to\": 9}, {\"color\": \"#A6CEE3\", \"from\": 11, \"label\": \"SE article\", \"to\": 10}, {\"color\": \"#A6CEE3\", \"from\": 11, \"label\": \"SE article\", \"to\": 33}, {\"color\": \"#A6CEE3\", \"from\": 11, \"label\": \"SE article\", \"to\": 34}, {\"color\": \"#A6CEE3\", \"from\": 11, \"label\": \"SE article\", \"to\": 35}, {\"color\": \"#A6CEE3\", \"from\": 11, \"label\": \"SE article\", \"to\": 36}, {\"color\": \"#A6CEE3\", \"from\": 11, \"label\": \"SE article\", \"to\": 37}, {\"color\": \"#A6CEE3\", \"from\": 11, \"label\": \"SE article\", \"to\": 38}, {\"color\": \"#A6CEE3\", \"from\": 11, \"label\": \"SE article\", \"to\": 39}, {\"color\": \"#A6CEE3\", \"from\": 23, \"label\": \"SE article\", \"to\": 0}, {\"color\": \"#A6CEE3\", \"from\": 23, \"label\": \"SE article\", \"to\": 103}, {\"color\": \"#A6CEE3\", \"from\": 23, \"label\": \"SE article\", \"to\": 104}, {\"color\": \"#A6CEE3\", \"from\": 23, \"label\": \"SE article\", \"to\": 105}, {\"color\": \"#A6CEE3\", \"from\": 23, \"label\": \"SE article\", \"to\": 106}, {\"color\": \"#1F78B4\", \"from\": 23, \"label\": \"Legislation\", \"to\": 107}, {\"color\": \"#1F78B4\", \"from\": 23, \"label\": \"Legislation\", \"to\": 108}, {\"color\": \"#1F78B4\", \"from\": 23, \"label\": \"Legislation\", \"to\": 109}, {\"color\": \"#1F78B4\", \"from\": 23, \"label\": \"Legislation\", \"to\": 110}, {\"color\": \"#A6CEE3\", \"from\": 22, \"label\": \"SE article\", \"to\": 6}, {\"color\": \"#A6CEE3\", \"from\": 22, \"label\": \"SE article\", \"to\": 8}, {\"color\": \"#A6CEE3\", \"from\": 22, \"label\": \"SE article\", \"to\": 21}, {\"color\": \"#A6CEE3\", \"from\": 22, \"label\": \"SE article\", \"to\": 91}, {\"color\": \"#A6CEE3\", \"from\": 22, \"label\": \"SE article\", \"to\": 92}, {\"color\": \"#A6CEE3\", \"from\": 22, \"label\": \"SE article\", \"to\": 93}, {\"color\": \"#A6CEE3\", \"from\": 22, \"label\": \"SE article\", \"to\": 94}, {\"color\": \"#A6CEE3\", \"from\": 22, \"label\": \"SE article\", \"to\": 95}, {\"color\": \"#A6CEE3\", \"from\": 22, \"label\": \"SE article\", \"to\": 96}, {\"color\": \"#A6CEE3\", \"from\": 22, \"label\": \"SE article\", \"to\": 97}, {\"color\": \"#A6CEE3\", \"from\": 22, \"label\": \"SE article\", \"to\": 98}, {\"color\": \"#33A02C\", \"from\": 22, \"label\": \"Publication\", \"to\": 99}, {\"color\": \"#33A02C\", \"from\": 22, \"label\": \"Publication\", \"to\": 100}, {\"color\": \"#33A02C\", \"from\": 22, \"label\": \"Publication\", \"to\": 101}, {\"color\": \"#33A02C\", \"from\": 22, \"label\": \"Publication\", \"to\": 102}, {\"color\": \"#A6CEE3\", \"from\": 5, \"label\": \"SE article\", \"to\": 24}, {\"color\": \"#A6CEE3\", \"from\": 5, \"label\": \"SE article\", \"to\": 25}, {\"color\": \"#A6CEE3\", \"from\": 5, \"label\": \"SE article\", \"to\": 26}, {\"color\": \"#A6CEE3\", \"from\": 10, \"label\": \"SE article\", \"to\": 30}, {\"color\": \"#A6CEE3\", \"from\": 10, \"label\": \"SE article\", \"to\": 31}, {\"color\": \"#A6CEE3\", \"from\": 10, \"label\": \"SE article\", \"to\": 32}, {\"color\": \"#A6CEE3\", \"from\": 18, \"label\": \"SE article\", \"to\": 13}, {\"color\": \"#A6CEE3\", \"from\": 18, \"label\": \"SE article\", \"to\": 61}, {\"color\": \"#A6CEE3\", \"from\": 18, \"label\": \"SE article\", \"to\": 62}, {\"color\": \"#33A02C\", \"from\": 18, \"label\": \"Publication\", \"to\": 63}]);\n",
              "\n",
              "        // adding nodes and edges to the graph\n",
              "        data = {nodes: nodes, edges: edges};\n",
              "\n",
              "        var options = {\n",
              "    \"configure\": {\n",
              "        \"enabled\": false\n",
              "    },\n",
              "    \"edges\": {\n",
              "        \"color\": {\n",
              "            \"inherit\": true\n",
              "        },\n",
              "        \"smooth\": {\n",
              "            \"enabled\": true,\n",
              "            \"type\": \"dynamic\"\n",
              "        }\n",
              "    },\n",
              "    \"interaction\": {\n",
              "        \"dragNodes\": true,\n",
              "        \"hideEdgesOnDrag\": false,\n",
              "        \"hideNodesOnDrag\": false\n",
              "    },\n",
              "    \"physics\": {\n",
              "        \"barnesHut\": {\n",
              "            \"avoidOverlap\": 0,\n",
              "            \"centralGravity\": 0.3,\n",
              "            \"damping\": 0.09,\n",
              "            \"gravitationalConstant\": -80000,\n",
              "            \"springConstant\": 0.001,\n",
              "            \"springLength\": 250\n",
              "        },\n",
              "        \"enabled\": true,\n",
              "        \"repulsion\": {\n",
              "            \"centralGravity\": 0.2,\n",
              "            \"damping\": 0.09,\n",
              "            \"nodeDistance\": 100,\n",
              "            \"springConstant\": 0.05,\n",
              "            \"springLength\": 200\n",
              "        },\n",
              "        \"solver\": \"repulsion\",\n",
              "        \"stabilization\": {\n",
              "            \"enabled\": true,\n",
              "            \"fit\": true,\n",
              "            \"iterations\": 1000,\n",
              "            \"onlyDynamicEdges\": false,\n",
              "            \"updateInterval\": 50\n",
              "        }\n",
              "    }\n",
              "};\n",
              "        \n",
              "        \n",
              "\n",
              "        \n",
              "\n",
              "        network = new vis.Network(container, data, options);\n",
              "\t \n",
              "        \n",
              "\n",
              "\n",
              "        \n",
              "        network.on(\"stabilizationProgress\", function(params) {\n",
              "      \t\tdocument.getElementById('loadingBar').removeAttribute(\"style\");\n",
              "\t        var maxWidth = 496;\n",
              "\t        var minWidth = 20;\n",
              "\t        var widthFactor = params.iterations/params.total;\n",
              "\t        var width = Math.max(minWidth,maxWidth * widthFactor);\n",
              "\n",
              "\t        document.getElementById('bar').style.width = width + 'px';\n",
              "\t        document.getElementById('text').innerHTML = Math.round(widthFactor*100) + '%';\n",
              "\t    });\n",
              "\t    network.once(\"stabilizationIterationsDone\", function() {\n",
              "\t        document.getElementById('text').innerHTML = '100%';\n",
              "\t        document.getElementById('bar').style.width = '496px';\n",
              "\t        document.getElementById('loadingBar').style.opacity = 0;\n",
              "\t        // really clean the dom element\n",
              "\t        setTimeout(function () {document.getElementById('loadingBar').style.display = 'none';}, 500);\n",
              "\t    });\n",
              "        \n",
              "\n",
              "        return network;\n",
              "\n",
              "    }\n",
              "\n",
              "    drawGraph();\n",
              "\n",
              "</script>\n",
              "</body>\n",
              "</html>"
            ]
          },
          "metadata": {}
        }
      ]
    },
    {
      "cell_type": "code",
      "source": [
        ""
      ],
      "metadata": {
        "id": "8Ncw037wZaCH"
      },
      "execution_count": 57,
      "outputs": []
    }
  ]
}