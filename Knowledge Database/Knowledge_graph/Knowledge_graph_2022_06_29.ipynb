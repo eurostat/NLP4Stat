{
  "nbformat": 4,
  "nbformat_minor": 0,
  "metadata": {
    "colab": {
      "name": "Copy of Knowledge_graph_2022_06_29.ipynb",
      "provenance": [],
      "collapsed_sections": []
    },
    "kernelspec": {
      "name": "python3",
      "display_name": "Python 3"
    },
    "language_info": {
      "name": "python"
    }
  },
  "cells": [
    {
      "cell_type": "markdown",
      "source": [
        "## Visualization of knowledge graphs\n",
        "\n",
        "*    This is a Google Colab notebook. You must have a Google account with a Google Drive to store/ load the main file with the relationships, for inspection. \n",
        "*    Upload the notebook from its location in GitHub and allow the code to access your Google Drive.\n",
        "*    Please put your credentials in the cell \"Connect to the Virtuoso database\".\n",
        "*    Put your own keywords in the cell with tile \"Enter keywords below\". Note that the search is case-sensitive."
      ],
      "metadata": {
        "id": "xncyccBFoSgr"
      }
    },
    {
      "cell_type": "code",
      "execution_count": 236,
      "metadata": {
        "colab": {
          "base_uri": "https://localhost:8080/"
        },
        "id": "glSFHXbCYIHu",
        "outputId": "3f5f24ae-2d2b-49aa-ec4c-a57cc2fad24f"
      },
      "outputs": [
        {
          "output_type": "stream",
          "name": "stdout",
          "text": [
            "Drive already mounted at /content/drive; to attempt to forcibly remount, call drive.mount(\"/content/drive\", force_remount=True).\n"
          ]
        }
      ],
      "source": [
        "from google.colab import drive\n",
        "drive.mount('/content/drive')"
      ]
    },
    {
      "cell_type": "markdown",
      "source": [
        "## Installations"
      ],
      "metadata": {
        "id": "bOQCMFbqoqbj"
      }
    },
    {
      "cell_type": "code",
      "source": [
        "!pip install pyodbc"
      ],
      "metadata": {
        "colab": {
          "base_uri": "https://localhost:8080/"
        },
        "id": "e4Tv6pfKYPML",
        "outputId": "6c9cad28-15d1-4cd1-a945-63acb68f339a"
      },
      "execution_count": 237,
      "outputs": [
        {
          "output_type": "stream",
          "name": "stdout",
          "text": [
            "Looking in indexes: https://pypi.org/simple, https://us-python.pkg.dev/colab-wheels/public/simple/\n",
            "Requirement already satisfied: pyodbc in /usr/local/lib/python3.7/dist-packages (4.0.34)\n"
          ]
        }
      ]
    },
    {
      "cell_type": "code",
      "source": [
        "!pip install pyvis"
      ],
      "metadata": {
        "colab": {
          "base_uri": "https://localhost:8080/"
        },
        "id": "Xth1wUMO_pRG",
        "outputId": "497dea4c-db04-48c3-964c-2d3741a314b7"
      },
      "execution_count": 238,
      "outputs": [
        {
          "output_type": "stream",
          "name": "stdout",
          "text": [
            "Looking in indexes: https://pypi.org/simple, https://us-python.pkg.dev/colab-wheels/public/simple/\n",
            "Requirement already satisfied: pyvis in /usr/local/lib/python3.7/dist-packages (0.2.1)\n",
            "Requirement already satisfied: ipython>=5.3.0 in /usr/local/lib/python3.7/dist-packages (from pyvis) (5.5.0)\n",
            "Requirement already satisfied: jinja2>=2.9.6 in /usr/local/lib/python3.7/dist-packages (from pyvis) (2.11.3)\n",
            "Requirement already satisfied: networkx>=1.11 in /usr/local/lib/python3.7/dist-packages (from pyvis) (2.6.3)\n",
            "Requirement already satisfied: jsonpickle>=1.4.1 in /usr/local/lib/python3.7/dist-packages (from pyvis) (2.2.0)\n",
            "Requirement already satisfied: simplegeneric>0.8 in /usr/local/lib/python3.7/dist-packages (from ipython>=5.3.0->pyvis) (0.8.1)\n",
            "Requirement already satisfied: traitlets>=4.2 in /usr/local/lib/python3.7/dist-packages (from ipython>=5.3.0->pyvis) (5.1.1)\n",
            "Requirement already satisfied: setuptools>=18.5 in /usr/local/lib/python3.7/dist-packages (from ipython>=5.3.0->pyvis) (57.4.0)\n",
            "Requirement already satisfied: prompt-toolkit<2.0.0,>=1.0.4 in /usr/local/lib/python3.7/dist-packages (from ipython>=5.3.0->pyvis) (1.0.18)\n",
            "Requirement already satisfied: decorator in /usr/local/lib/python3.7/dist-packages (from ipython>=5.3.0->pyvis) (4.4.2)\n",
            "Requirement already satisfied: pygments in /usr/local/lib/python3.7/dist-packages (from ipython>=5.3.0->pyvis) (2.6.1)\n",
            "Requirement already satisfied: pexpect in /usr/local/lib/python3.7/dist-packages (from ipython>=5.3.0->pyvis) (4.8.0)\n",
            "Requirement already satisfied: pickleshare in /usr/local/lib/python3.7/dist-packages (from ipython>=5.3.0->pyvis) (0.7.5)\n",
            "Requirement already satisfied: MarkupSafe>=0.23 in /usr/local/lib/python3.7/dist-packages (from jinja2>=2.9.6->pyvis) (2.0.1)\n",
            "Requirement already satisfied: importlib-metadata in /usr/local/lib/python3.7/dist-packages (from jsonpickle>=1.4.1->pyvis) (4.12.0)\n",
            "Requirement already satisfied: wcwidth in /usr/local/lib/python3.7/dist-packages (from prompt-toolkit<2.0.0,>=1.0.4->ipython>=5.3.0->pyvis) (0.2.5)\n",
            "Requirement already satisfied: six>=1.9.0 in /usr/local/lib/python3.7/dist-packages (from prompt-toolkit<2.0.0,>=1.0.4->ipython>=5.3.0->pyvis) (1.15.0)\n",
            "Requirement already satisfied: zipp>=0.5 in /usr/local/lib/python3.7/dist-packages (from importlib-metadata->jsonpickle>=1.4.1->pyvis) (3.8.0)\n",
            "Requirement already satisfied: typing-extensions>=3.6.4 in /usr/local/lib/python3.7/dist-packages (from importlib-metadata->jsonpickle>=1.4.1->pyvis) (4.1.1)\n",
            "Requirement already satisfied: ptyprocess>=0.5 in /usr/local/lib/python3.7/dist-packages (from pexpect->ipython>=5.3.0->pyvis) (0.7.0)\n"
          ]
        }
      ]
    },
    {
      "cell_type": "code",
      "source": [
        "!pip install SPARQLWrapper\n",
        "!pip install sparql_dataframe"
      ],
      "metadata": {
        "colab": {
          "base_uri": "https://localhost:8080/"
        },
        "id": "nIhY7ZeAYRvi",
        "outputId": "19f03b08-d6d4-40e3-b82c-c12e5cdbddb9"
      },
      "execution_count": 239,
      "outputs": [
        {
          "output_type": "stream",
          "name": "stdout",
          "text": [
            "Looking in indexes: https://pypi.org/simple, https://us-python.pkg.dev/colab-wheels/public/simple/\n",
            "Requirement already satisfied: SPARQLWrapper in /usr/local/lib/python3.7/dist-packages (2.0.0)\n",
            "Requirement already satisfied: rdflib>=6.1.1 in /usr/local/lib/python3.7/dist-packages (from SPARQLWrapper) (6.1.1)\n",
            "Requirement already satisfied: importlib-metadata in /usr/local/lib/python3.7/dist-packages (from rdflib>=6.1.1->SPARQLWrapper) (4.12.0)\n",
            "Requirement already satisfied: pyparsing in /usr/local/lib/python3.7/dist-packages (from rdflib>=6.1.1->SPARQLWrapper) (3.0.9)\n",
            "Requirement already satisfied: isodate in /usr/local/lib/python3.7/dist-packages (from rdflib>=6.1.1->SPARQLWrapper) (0.6.1)\n",
            "Requirement already satisfied: setuptools in /usr/local/lib/python3.7/dist-packages (from rdflib>=6.1.1->SPARQLWrapper) (57.4.0)\n",
            "Requirement already satisfied: zipp>=0.5 in /usr/local/lib/python3.7/dist-packages (from importlib-metadata->rdflib>=6.1.1->SPARQLWrapper) (3.8.0)\n",
            "Requirement already satisfied: typing-extensions>=3.6.4 in /usr/local/lib/python3.7/dist-packages (from importlib-metadata->rdflib>=6.1.1->SPARQLWrapper) (4.1.1)\n",
            "Requirement already satisfied: six in /usr/local/lib/python3.7/dist-packages (from isodate->rdflib>=6.1.1->SPARQLWrapper) (1.15.0)\n",
            "Looking in indexes: https://pypi.org/simple, https://us-python.pkg.dev/colab-wheels/public/simple/\n",
            "Requirement already satisfied: sparql_dataframe in /usr/local/lib/python3.7/dist-packages (0.4)\n",
            "Requirement already satisfied: SPARQLWrapper>=1.8.1 in /usr/local/lib/python3.7/dist-packages (from sparql_dataframe) (2.0.0)\n",
            "Requirement already satisfied: pandas>=0.22.0 in /usr/local/lib/python3.7/dist-packages (from sparql_dataframe) (1.3.5)\n",
            "Requirement already satisfied: numpy>=1.17.3 in /usr/local/lib/python3.7/dist-packages (from pandas>=0.22.0->sparql_dataframe) (1.21.6)\n",
            "Requirement already satisfied: python-dateutil>=2.7.3 in /usr/local/lib/python3.7/dist-packages (from pandas>=0.22.0->sparql_dataframe) (2.8.2)\n",
            "Requirement already satisfied: pytz>=2017.3 in /usr/local/lib/python3.7/dist-packages (from pandas>=0.22.0->sparql_dataframe) (2022.1)\n",
            "Requirement already satisfied: six>=1.5 in /usr/local/lib/python3.7/dist-packages (from python-dateutil>=2.7.3->pandas>=0.22.0->sparql_dataframe) (1.15.0)\n",
            "Requirement already satisfied: rdflib>=6.1.1 in /usr/local/lib/python3.7/dist-packages (from SPARQLWrapper>=1.8.1->sparql_dataframe) (6.1.1)\n",
            "Requirement already satisfied: importlib-metadata in /usr/local/lib/python3.7/dist-packages (from rdflib>=6.1.1->SPARQLWrapper>=1.8.1->sparql_dataframe) (4.12.0)\n",
            "Requirement already satisfied: isodate in /usr/local/lib/python3.7/dist-packages (from rdflib>=6.1.1->SPARQLWrapper>=1.8.1->sparql_dataframe) (0.6.1)\n",
            "Requirement already satisfied: pyparsing in /usr/local/lib/python3.7/dist-packages (from rdflib>=6.1.1->SPARQLWrapper>=1.8.1->sparql_dataframe) (3.0.9)\n",
            "Requirement already satisfied: setuptools in /usr/local/lib/python3.7/dist-packages (from rdflib>=6.1.1->SPARQLWrapper>=1.8.1->sparql_dataframe) (57.4.0)\n",
            "Requirement already satisfied: typing-extensions>=3.6.4 in /usr/local/lib/python3.7/dist-packages (from importlib-metadata->rdflib>=6.1.1->SPARQLWrapper>=1.8.1->sparql_dataframe) (4.1.1)\n",
            "Requirement already satisfied: zipp>=0.5 in /usr/local/lib/python3.7/dist-packages (from importlib-metadata->rdflib>=6.1.1->SPARQLWrapper>=1.8.1->sparql_dataframe) (3.8.0)\n"
          ]
        }
      ]
    },
    {
      "cell_type": "code",
      "source": [
        "!apt-get install virtuoso-opensource"
      ],
      "metadata": {
        "colab": {
          "base_uri": "https://localhost:8080/"
        },
        "id": "FMxb2kvrYSPr",
        "outputId": "4e58f59d-ece3-4f7d-ba84-c9de379a6157"
      },
      "execution_count": 240,
      "outputs": [
        {
          "output_type": "stream",
          "name": "stdout",
          "text": [
            "Reading package lists... Done\n",
            "Building dependency tree       \n",
            "Reading state information... Done\n",
            "virtuoso-opensource is already the newest version (6.1.6+repack-0ubuntu9).\n",
            "The following package was automatically installed and is no longer required:\n",
            "  libnvidia-common-460\n",
            "Use 'apt autoremove' to remove it.\n",
            "0 upgraded, 0 newly installed, 0 to remove and 49 not upgraded.\n"
          ]
        }
      ]
    },
    {
      "cell_type": "markdown",
      "source": [
        "## Imports"
      ],
      "metadata": {
        "id": "hL63cueYovP6"
      }
    },
    {
      "cell_type": "code",
      "source": [
        "import os \n",
        "import re\n",
        "import logging\n",
        "import sys\n",
        "import pyodbc\n",
        "import hashlib\n",
        "import pandas as pd\n",
        "import numpy as np\n",
        "from datetime import datetime\n",
        "from SPARQLWrapper import SPARQLWrapper, POST, DIGEST, GET\n",
        "from SPARQLWrapper import JSON, INSERT, DELETE\n",
        "import sparql_dataframe\n",
        "\n",
        "pd.set_option('display.max_rows', 500)\n",
        "\n",
        "from IPython.display import Image\n",
        "\n",
        "import random\n",
        "\n",
        "import palettable\n",
        "from palettable.colorbrewer.sequential import Blues_9\n",
        "from palettable.colorbrewer.sequential import Greens_9\n",
        "from palettable.colorbrewer.qualitative import Accent_8\n",
        "from palettable.colorbrewer.qualitative import Paired_7\n",
        "\n",
        "from pyvis import network as net\n",
        "from IPython.core.display import display, HTML"
      ],
      "metadata": {
        "id": "nUingO8CYTzS"
      },
      "execution_count": 241,
      "outputs": []
    },
    {
      "cell_type": "markdown",
      "source": [
        "## Connect to the Virtuoso database"
      ],
      "metadata": {
        "id": "pxkvsw3OoyDd"
      }
    },
    {
      "cell_type": "code",
      "source": [
        "user = 'xxxxx'\n",
        "passw='xxxxx'"
      ],
      "metadata": {
        "id": "Vb4oqSFnWKdZ"
      },
      "execution_count": 242,
      "outputs": []
    },
    {
      "cell_type": "code",
      "source": [
        "def connect_virtuoso(DSN, UID, PWD):\n",
        "\n",
        "    sparql = SPARQLWrapper(DSN)\n",
        "    sparql.setHTTPAuth(DIGEST)\n",
        "    sparql.setCredentials(UID, PWD)\n",
        "    sparql.setMethod(GET)\n",
        "\n",
        "    return sparql\n",
        "\n",
        "\n",
        "# Connection to the KDB \n",
        "endpoint = \"http://lod.csd.auth.gr:8890/sparql/\"\n",
        "sparql = connect_virtuoso(endpoint, \n",
        "                          user, \n",
        "                          passw)"
      ],
      "metadata": {
        "id": "1mrZDxN2cB87"
      },
      "execution_count": 243,
      "outputs": []
    },
    {
      "cell_type": "markdown",
      "source": [
        "## Extraction of relationships"
      ],
      "metadata": {
        "id": "g79s3ZcSo5-L"
      }
    },
    {
      "cell_type": "code",
      "source": [
        "def databaseTable(keywords):\n",
        "\n",
        "  RelationsStatements = \"\"\"\n",
        "  DEFINE input:inference <https://ec.europa.eu/eurostat/NLP4StatRef/knowledge/>\n",
        "  PREFIX estat: <https://ec.europa.eu/eurostat/NLP4StatRef/ontology/>\n",
        "  PREFIX estatdata: <https://ec.europa.eu/eurostat/NLP4StatRef/knowledge/>\n",
        "  PREFIX oecd: <https://ec.europa.eu/eurostat/NLP4StatRef/knowledge/oecd/> \n",
        "  PREFIX estat: <https://ec.europa.eu/eurostat/NLP4StatRef/ontology/>\n",
        "  select ?article ?title ?articleURL ?r ?reftitle ?refURL where { \n",
        "      {?article rdf:type estat:Article .\n",
        "      ?article ?p ?t .}\n",
        "      UNION\n",
        "      {?article rdf:type estat:Article .\n",
        "      ?article estat:hasParagraph ?x.\n",
        "      ?x ?p ?t .}\n",
        "      filter contains(str(?t),\\\" \"\"\" + str(keywords) + \"\"\"\\\") \n",
        "      ?article estat:title ?title .\n",
        "      ?article estat:hasURL ?articleURL.\n",
        "      ?article estat:hasReference ?r .\n",
        "      {?r rdf:type estat:Table} \n",
        "      UNION\n",
        "      {?r rdf:type estat:Database}\n",
        "      ?r estat:hasURL ?refURL .\n",
        "      ?r estat:title ?reftitle .\n",
        "  } \n",
        "  \"\"\"\n",
        "\n",
        "  sparql.setQuery(RelationsStatements)\n",
        "  sparql.method = \"POST\"\n",
        "  sparql.setReturnFormat(JSON)\n",
        "  results = sparql.query().convert()['results']['bindings']\n",
        "  results = pd.json_normalize(results)\n",
        "  \n",
        "  return results\n",
        "\n",
        "def articleTable(keywords):\n",
        "\n",
        "  RelationsStatements = \"\"\"\n",
        "  DEFINE input:inference <https://ec.europa.eu/eurostat/NLP4StatRef/knowledge/>\n",
        "  PREFIX estat: <https://ec.europa.eu/eurostat/NLP4StatRef/ontology/>\n",
        "  PREFIX estatdata: <https://ec.europa.eu/eurostat/NLP4StatRef/knowledge/>\n",
        "  PREFIX oecd: <https://ec.europa.eu/eurostat/NLP4StatRef/knowledge/oecd/> \n",
        "  select * where { \n",
        "      {?article rdf:type estat:Article .\n",
        "      ?article ?p ?t .}\n",
        "      UNION\n",
        "      {?article rdf:type estat:Article .\n",
        "      ?article estat:hasParagraph ?x.\n",
        "      ?x ?p ?t .}\n",
        "      filter contains(str(?t),\\\" \"\"\" + str(keywords) + \"\"\"\\\") \n",
        "      ?article estat:title ?title .\n",
        "      ?article estat:hasURL ?articleURL.\n",
        "      ?article estat:hasReference ?r .\n",
        "      { ?r estat:hasURI ?euroArticle.\n",
        "      ?euroArticle estat:title ?euroTitle .\n",
        "        ?euroArticle estat:hasURL ?euroURL.}\n",
        "     UNION\n",
        "     {?r estat:hasURL ?euroURL.\n",
        "     ?r estat:title ?euroTitle .\n",
        "     BIND(?r as ?euroArticle)\n",
        "    }   \n",
        "  } \n",
        "  \"\"\"\n",
        "  \n",
        "  sparql.setQuery(RelationsStatements)\n",
        "  sparql.method = \"POST\"\n",
        "  sparql.setReturnFormat(JSON)\n",
        "  results = sparql.query().convert()['results']['bindings']\n",
        "  results = pd.json_normalize(results)\n",
        "  \n",
        "  return results\n",
        "\n",
        "\n"
      ],
      "metadata": {
        "id": "MZIdaqzVdBfi"
      },
      "execution_count": 244,
      "outputs": []
    },
    {
      "cell_type": "markdown",
      "source": [
        "### Production of the dataframe with the relationships"
      ],
      "metadata": {
        "id": "v24Jq1RpnXK3"
      }
    },
    {
      "cell_type": "code",
      "source": [
        "def produce_df(keywords):\n",
        "\n",
        "    results1 = databaseTable(keywords)\n",
        "    if len(results1) > 0:\n",
        "        results1.drop(columns=['article.type', 'title.type', 'articleURL.type', 'articleURL.datatype','r.type',\n",
        "           'reftitle.type','refURL.type','refURL.datatype', ],inplace=True)\n",
        "        results1.rename(columns={'article.value':'articleURI','title.value':'articleTitle','articleURL.value':'articleURL',\n",
        "                                 'r.value':'relatedURI','reftitle.value':'relatedTitle','refURL.value':'relatedURL'},inplace=True)\n",
        "    \n",
        "    results2 = articleTable(keywords)\n",
        "    if len(results2) > 0:\n",
        "        results2.drop(columns = ['article.type','p.type','p.value','t.type','t.value','title.type','articleURL.type','articleURL.datatype','r.value',      \n",
        "                                     'euroURL.type', 'euroURL.datatype', 'x.type', 'x.value','r.type','euroArticle.type','euroTitle.type'],inplace=True)\n",
        "        results2.rename(columns={'article.value':'articleURI','title.value':'articleTitle','articleURL.value':'articleURL',\n",
        "                                 'euroArticle.value':'relatedURI','euroTitle.value':'relatedTitle','euroURL.value':'relatedURL'},inplace=True)\n",
        "\n",
        "    if len(results1)==0 and len(results2)==0:\n",
        "        return None\n",
        "    elif len(results1) > 0 and len(results2)==0:   \n",
        "        return results1\n",
        "    elif len(results1) == 0 and len(results2) > 0:   \n",
        "        return results2\n",
        "    else:\n",
        "        df = pd.concat([results1,results2])\n",
        "        return df\n",
        "\n"
      ],
      "metadata": {
        "id": "ueW0A28jw5g0"
      },
      "execution_count": 245,
      "outputs": []
    },
    {
      "cell_type": "markdown",
      "source": [
        "### Enter keywords below\n",
        "*    To re-run with different keywords change them below and re-run (\"Runtime > Run after\") from this cell. "
      ],
      "metadata": {
        "id": "FvjMRS6_tv4I"
      }
    },
    {
      "cell_type": "code",
      "source": [
        "keywords = 'electric vehicle'"
      ],
      "metadata": {
        "id": "xuNlzchcuKu5"
      },
      "execution_count": 246,
      "outputs": []
    },
    {
      "cell_type": "markdown",
      "source": [
        "## Produce file for inspection"
      ],
      "metadata": {
        "id": "-zWxgZ6LpZtq"
      }
    },
    {
      "cell_type": "code",
      "source": [
        "\n",
        "df = produce_df(keywords)\n",
        "if df is not None:\n",
        "    df.to_excel('/content/drive/MyDrive/df.xlsx')\n"
      ],
      "metadata": {
        "id": "n5w2Wc3C_SUA"
      },
      "execution_count": 247,
      "outputs": []
    },
    {
      "cell_type": "code",
      "source": [
        "if df is not None:\n",
        "\n",
        "    ## add column relatedType indicating the type of the related resource\n",
        "\n",
        "    conditions = [\n",
        "        (df['relatedURL'].str.contains('Glossary:')),              \n",
        "        (df['relatedURL'].str.contains('statistics-explained/index.php')),\n",
        "        ## (df['relatedURL'].str.contains('data/database')),\n",
        "        ## (df['relatedURL'].str.contains('/news/')),    \n",
        "        (df['relatedURL'].str.contains('eurostat/product')),    \n",
        "        (df['relatedURL'].str.contains('eur-lex.europa.eu'))    \n",
        "        ]\n",
        "    ##values = ['GL article','SE article', 'Data', 'News','Publication','Legislation']\n",
        "    values = ['GL article','SE article', 'Publication','Legislation']\n",
        "    df['relatedType'] = np.select(conditions,values,default='Other') \n",
        "    df = df[df['relatedType'] != 'Other'].copy()\n",
        "    df.reset_index(drop=False,inplace=True)\n",
        "    df.drop(columns='index',inplace=True)\n",
        "\n",
        "    ##display(df)\n"
      ],
      "metadata": {
        "id": "QmQAKiDD4liS"
      },
      "execution_count": 248,
      "outputs": []
    },
    {
      "cell_type": "code",
      "source": [
        "if df is not None:\n",
        "\n",
        "    ## unique URIs in Articles and Related resources\n",
        "\n",
        "    valuesURI = df[['articleURI','relatedURI']].values\n",
        "    uniqueURI = np.unique(valuesURI)\n",
        "\n",
        "    df2 = pd.DataFrame(uniqueURI,columns=['uniqueURI'])\n",
        "    df2['ID'] = range(len(df2))\n",
        "    ##df2"
      ],
      "metadata": {
        "id": "m7EIxobCv8Mh"
      },
      "execution_count": 249,
      "outputs": []
    },
    {
      "cell_type": "code",
      "source": [
        "if df is not None:\n",
        "    ## transfer the unique IDs to the main file\n",
        "\n",
        "    df3 = pd.merge(df,df2,how='inner', left_on='articleURI',right_on='uniqueURI')\n",
        "    df3.rename(columns={'ID':'articleID'},inplace=True)\n",
        "    df3 = pd.merge(df3,df2,how='inner', left_on='relatedURI',right_on='uniqueURI')\n",
        "    df3.rename(columns={'ID':'relatedID'},inplace=True)\n",
        "    df3 = df3[['articleID','relatedID','relatedType','articleURI','articleURL','articleTitle','relatedURI','relatedURL','relatedTitle']]\n",
        "    \n",
        "    df3.drop_duplicates(keep='first', inplace=True, ignore_index=True)\n",
        "    "
      ],
      "metadata": {
        "id": "Cp-Cmw01CjD7"
      },
      "execution_count": 250,
      "outputs": []
    },
    {
      "cell_type": "code",
      "source": [
        "if df is not None:\n",
        "    ## related type groups and assignment to colors\n",
        "    type_groups = np.unique(df3['relatedType'])\n",
        "    print(type_groups)\n",
        "\n",
        "    def type_color(group):\n",
        "      if group == 'GL article':\n",
        "        return Paired_7.hex_colors[2]\n",
        "      elif group == 'SE article':\n",
        "        return Paired_7.hex_colors[0]\n",
        "      elif group == 'Publication':\n",
        "        return Paired_7.hex_colors[3]\n",
        "      elif group == 'Legislation':\n",
        "        return Paired_7.hex_colors[1]\n",
        "      else:\n",
        "        print('***error***')  \n",
        "\n",
        "    ## values = ['GL article','SE article', 'Publication','Legislation']\n",
        "    ## corresponding colors: light green, light blue, green, blue\n",
        "    ## at indices of Paired_7.hex_colors: 2,0,3,1\n",
        "\n",
        "    node_colors=[]\n",
        "    for t in type_groups:\n",
        "        node_colors.append(type_color(t))\n",
        "\n",
        "    node_colors  \n"
      ],
      "metadata": {
        "id": "1D2Kbw24F_c1",
        "colab": {
          "base_uri": "https://localhost:8080/"
        },
        "outputId": "9ca71a5f-3934-486d-a839-82ecad774195"
      },
      "execution_count": 251,
      "outputs": [
        {
          "output_type": "stream",
          "name": "stdout",
          "text": [
            "['Legislation' 'Publication' 'SE article']\n"
          ]
        }
      ]
    },
    {
      "cell_type": "code",
      "source": [
        "if df is not None:\n",
        "    ## Create graph\n",
        "\n",
        "    g=net.Network(height='600px', width='75%',heading='')\n",
        "    g.barnes_hut()\n",
        "    g.repulsion(node_distance=100, spring_length=200)\n",
        "\n",
        "    ## First the unique articles - source nodes, by articleID \n",
        "    uniqueArticles = df3.groupby(['articleID'])[['articleTitle']].agg(list).reset_index() ## aggregate into lists - titles are repeated\n",
        "    for i in range(len(uniqueArticles)): ## for some reason, single elements must be put in a list, add_node() does not work\n",
        "        g.add_nodes([uniqueArticles.loc[i,'articleID']], color=[type_color('SE article')], label = [uniqueArticles.loc[i,'articleTitle'][0]])\n",
        "\n",
        "    ## Then the related nodes, by type\n",
        "    relatedGroups = df3.groupby(['relatedType'])[['relatedID','relatedTitle']].agg(list).reset_index() ## again aggregate into lists\n",
        "    for i in range(len(relatedGroups)):\n",
        "        how_many_nodes = len(relatedGroups.loc[i,'relatedID'])\n",
        "        g.add_nodes(relatedGroups.loc[i,'relatedID'],label=relatedGroups.loc[i,'relatedTitle'], color=[node_colors[i]]*how_many_nodes)\n",
        "\n",
        "    ## The edges\n",
        "    for i in range(len(df3)):        \n",
        "        n1 = int(df3.loc[i,'articleID'])\n",
        "        n2 = int(df3.loc[i,'relatedID'])\n",
        "        type_ind = int(np.where(type_groups==df3.loc[i,'relatedType'])[0])\n",
        "        col =  node_colors[type_ind]\n",
        "        lbl = type_groups[type_ind]\n",
        "        g.add_edge(n1,n2,color=col)\n",
        "\n",
        "    g.show('example.html')\n",
        "    display(HTML('example.html'))\n",
        "else:\n",
        "  print('No graph produced')"
      ],
      "metadata": {
        "colab": {
          "base_uri": "https://localhost:8080/",
          "height": 638
        },
        "id": "k9yiNcSCJ5sJ",
        "outputId": "4c1bc5ef-7886-401d-bf9e-bd0a580d7c63"
      },
      "execution_count": 252,
      "outputs": [
        {
          "output_type": "display_data",
          "data": {
            "text/plain": [
              "<IPython.core.display.HTML object>"
            ],
            "text/html": [
              "<html>\n",
              "<head>\n",
              "<link rel=\"stylesheet\" href=\"https://cdn.jsdelivr.net/npm/vis-network@latest/styles/vis-network.css\" type=\"text/css\" />\n",
              "<script type=\"text/javascript\" src=\"https://cdn.jsdelivr.net/npm/vis-network@latest/dist/vis-network.min.js\"> </script>\n",
              "<center>\n",
              "<h1></h1>\n",
              "</center>\n",
              "\n",
              "<!-- <link rel=\"stylesheet\" href=\"../node_modules/vis/dist/vis.min.css\" type=\"text/css\" />\n",
              "<script type=\"text/javascript\" src=\"../node_modules/vis/dist/vis.js\"> </script>-->\n",
              "\n",
              "<style type=\"text/css\">\n",
              "\n",
              "        #mynetwork {\n",
              "            width: 75%;\n",
              "            height: 600px;\n",
              "            background-color: #ffffff;\n",
              "            border: 1px solid lightgray;\n",
              "            position: relative;\n",
              "            float: left;\n",
              "        }\n",
              "\n",
              "        \n",
              "\n",
              "        \n",
              "\n",
              "        \n",
              "</style>\n",
              "\n",
              "</head>\n",
              "\n",
              "<body>\n",
              "<div id = \"mynetwork\"></div>\n",
              "\n",
              "\n",
              "<script type=\"text/javascript\">\n",
              "\n",
              "    // initialize global variables.\n",
              "    var edges;\n",
              "    var nodes;\n",
              "    var network; \n",
              "    var container;\n",
              "    var options, data;\n",
              "\n",
              "    \n",
              "    // This method is responsible for drawing the graph, returns the drawn network\n",
              "    function drawGraph() {\n",
              "        var container = document.getElementById('mynetwork');\n",
              "        \n",
              "        \n",
              "\n",
              "        // parsing and collecting nodes and edges from the python\n",
              "        nodes = new vis.DataSet([{\"color\": \"#A6CEE3\", \"id\": 3, \"label\": \"Transport statistics at regional level\", \"shape\": \"dot\"}, {\"color\": \"#A6CEE3\", \"id\": 5, \"label\": \"SDG 12 Responsible consumption and production\", \"shape\": \"dot\"}, {\"color\": \"#A6CEE3\", \"id\": 10, \"label\": \"Waste statistics recycling of batteries and accumulators\", \"shape\": \"dot\"}, {\"color\": \"#A6CEE3\", \"id\": 14, \"label\": \"SDG 9 Industry innovation and infrastructure\", \"shape\": \"dot\"}, {\"color\": \"#1F78B4\", \"id\": 29, \"label\": \"Directive 2006 66 EC on portable batteries and accumulators\", \"shape\": \"dot\"}, {\"color\": \"#1F78B4\", \"id\": 30, \"label\": \"Summaries of EU legislation  Disposal of spent batteries and accumulators\", \"shape\": \"dot\"}, {\"color\": \"#1F78B4\", \"id\": 31, \"label\": \"Commission Regulation  EU  No 493 2012\", \"shape\": \"dot\"}, {\"color\": \"#1F78B4\", \"id\": 42, \"label\": \"Directive 2009 42 EC\", \"shape\": \"dot\"}, {\"color\": \"#1F78B4\", \"id\": 43, \"label\": \"Regulation  EU  No 437 2003\", \"shape\": \"dot\"}, {\"color\": \"#1F78B4\", \"id\": 44, \"label\": \"Regulation  EU  No 2018 643\", \"shape\": \"dot\"}, {\"color\": \"#33A02C\", \"id\": 38, \"label\": \"Energy  transport and environment indicators\", \"shape\": \"dot\"}, {\"color\": \"#33A02C\", \"id\": 39, \"label\": \"Eurostat regional yearbook\", \"shape\": \"dot\"}, {\"color\": \"#33A02C\", \"id\": 40, \"label\": \"Glossary for transport statistics   5th edition   2019\", \"shape\": \"dot\"}, {\"color\": \"#33A02C\", \"id\": 41, \"label\": \"Methodological manual on territorial typologies\", \"shape\": \"dot\"}, {\"color\": \"#33A02C\", \"id\": 47, \"label\": \"Sustainable development in the European Union   Monitoring report on progress towards the SDGS in an EU context   2021 edition\", \"shape\": \"dot\"}, {\"color\": \"#33A02C\", \"id\": 20, \"label\": \"Sustainable development in the European Union   Monitoring report on progress towards the SDGS in an EU context   2021 edition\", \"shape\": \"dot\"}, {\"color\": \"#A6CEE3\", \"id\": 0, \"label\": \"Environment statistics introduced\", \"shape\": \"dot\"}, {\"color\": \"#A6CEE3\", \"id\": 2, \"label\": \"Recycling secondary material price indicator\", \"shape\": \"dot\"}, {\"color\": \"#A6CEE3\", \"id\": 6, \"label\": \"Municipal waste statistics\", \"shape\": \"dot\"}, {\"color\": \"#A6CEE3\", \"id\": 7, \"label\": \"Packaging waste statistics\", \"shape\": \"dot\"}, {\"color\": \"#A6CEE3\", \"id\": 8, \"label\": \"Waste shipment statistics\", \"shape\": \"dot\"}, {\"color\": \"#A6CEE3\", \"id\": 9, \"label\": \"Waste shipment statistics based on the European list of waste codes\", \"shape\": \"dot\"}, {\"color\": \"#A6CEE3\", \"id\": 15, \"label\": \"Waste statistics\", \"shape\": \"dot\"}, {\"color\": \"#A6CEE3\", \"id\": 17, \"label\": \"Waste statistics electrical and electronic equipment\", \"shape\": \"dot\"}, {\"color\": \"#A6CEE3\", \"id\": 21, \"label\": \"Environment statistics introduced\", \"shape\": \"dot\"}, {\"color\": \"#A6CEE3\", \"id\": 22, \"label\": \"Municipal waste statistics\", \"shape\": \"dot\"}, {\"color\": \"#A6CEE3\", \"id\": 23, \"label\": \"Packaging waste statistics\", \"shape\": \"dot\"}, {\"color\": \"#A6CEE3\", \"id\": 24, \"label\": \"Waste shipment statistics\", \"shape\": \"dot\"}, {\"color\": \"#A6CEE3\", \"id\": 25, \"label\": \"Waste statistics\", \"shape\": \"dot\"}, {\"color\": \"#A6CEE3\", \"id\": 26, \"label\": \"Recycling     secondary material price indicator\", \"shape\": \"dot\"}, {\"color\": \"#A6CEE3\", \"id\": 27, \"label\": \"Waste shipment statistics based on the European list of waste codes\", \"shape\": \"dot\"}, {\"color\": \"#A6CEE3\", \"id\": 28, \"label\": \"Waste statistics   electrical and electronic equipment\", \"shape\": \"dot\"}, {\"color\": \"#A6CEE3\", \"id\": 1, \"label\": \"Stock of vehicles at regional level\", \"shape\": \"dot\"}, {\"color\": \"#A6CEE3\", \"id\": 4, \"label\": \"Railway passenger transport statistics quarterly and annual data\", \"shape\": \"dot\"}, {\"color\": \"#A6CEE3\", \"id\": 11, \"label\": \"Air transport statistics\", \"shape\": \"dot\"}, {\"color\": \"#A6CEE3\", \"id\": 13, \"label\": \"Maritime freight and vessels statistics\", \"shape\": \"dot\"}, {\"color\": \"#A6CEE3\", \"id\": 16, \"label\": \"Road safety statistics characteristics at national and regional level\", \"shape\": \"dot\"}, {\"color\": \"#A6CEE3\", \"id\": 32, \"label\": \"Air transport statistics\", \"shape\": \"dot\"}, {\"color\": \"#A6CEE3\", \"id\": 33, \"label\": \"Maritime freight and vessels statistics\", \"shape\": \"dot\"}, {\"color\": \"#A6CEE3\", \"id\": 34, \"label\": \"Passenger transport statistics\", \"shape\": \"dot\"}, {\"color\": \"#A6CEE3\", \"id\": 35, \"label\": \"Railway passenger transport statistics   quarterly and annual data\", \"shape\": \"dot\"}, {\"color\": \"#A6CEE3\", \"id\": 36, \"label\": \"Road safety statistics   characteristics at national and regional level\", \"shape\": \"dot\"}, {\"color\": \"#A6CEE3\", \"id\": 37, \"label\": \"Stock of vehicles at regional level\", \"shape\": \"dot\"}, {\"color\": \"#A6CEE3\", \"id\": 12, \"label\": \"SDG Introduction\", \"shape\": \"dot\"}, {\"color\": \"#A6CEE3\", \"id\": 45, \"label\": \"Category Sustainable development goals\", \"shape\": \"dot\"}, {\"color\": \"#A6CEE3\", \"id\": 46, \"label\": \"SDG   Introduction\", \"shape\": \"dot\"}, {\"color\": \"#A6CEE3\", \"id\": 18, \"label\": \"Category Sustainable development goals\", \"shape\": \"dot\"}, {\"color\": \"#A6CEE3\", \"id\": 19, \"label\": \"SDG   Introduction\", \"shape\": \"dot\"}]);\n",
              "        edges = new vis.DataSet([{\"color\": \"#A6CEE3\", \"from\": 10, \"to\": 0}, {\"color\": \"#A6CEE3\", \"from\": 10, \"to\": 2}, {\"color\": \"#A6CEE3\", \"from\": 10, \"to\": 6}, {\"color\": \"#A6CEE3\", \"from\": 10, \"to\": 7}, {\"color\": \"#A6CEE3\", \"from\": 10, \"to\": 8}, {\"color\": \"#A6CEE3\", \"from\": 10, \"to\": 9}, {\"color\": \"#A6CEE3\", \"from\": 10, \"to\": 15}, {\"color\": \"#A6CEE3\", \"from\": 10, \"to\": 17}, {\"color\": \"#A6CEE3\", \"from\": 10, \"to\": 21}, {\"color\": \"#A6CEE3\", \"from\": 10, \"to\": 22}, {\"color\": \"#A6CEE3\", \"from\": 10, \"to\": 23}, {\"color\": \"#A6CEE3\", \"from\": 10, \"to\": 24}, {\"color\": \"#A6CEE3\", \"from\": 10, \"to\": 25}, {\"color\": \"#A6CEE3\", \"from\": 10, \"to\": 26}, {\"color\": \"#A6CEE3\", \"from\": 10, \"to\": 27}, {\"color\": \"#A6CEE3\", \"from\": 10, \"to\": 28}, {\"color\": \"#1F78B4\", \"from\": 10, \"to\": 29}, {\"color\": \"#1F78B4\", \"from\": 10, \"to\": 30}, {\"color\": \"#1F78B4\", \"from\": 10, \"to\": 31}, {\"color\": \"#A6CEE3\", \"from\": 3, \"to\": 1}, {\"color\": \"#A6CEE3\", \"from\": 3, \"to\": 4}, {\"color\": \"#A6CEE3\", \"from\": 3, \"to\": 11}, {\"color\": \"#A6CEE3\", \"from\": 3, \"to\": 13}, {\"color\": \"#A6CEE3\", \"from\": 3, \"to\": 16}, {\"color\": \"#A6CEE3\", \"from\": 3, \"to\": 32}, {\"color\": \"#A6CEE3\", \"from\": 3, \"to\": 33}, {\"color\": \"#A6CEE3\", \"from\": 3, \"to\": 34}, {\"color\": \"#A6CEE3\", \"from\": 3, \"to\": 35}, {\"color\": \"#A6CEE3\", \"from\": 3, \"to\": 36}, {\"color\": \"#A6CEE3\", \"from\": 3, \"to\": 37}, {\"color\": \"#33A02C\", \"from\": 3, \"to\": 38}, {\"color\": \"#33A02C\", \"from\": 3, \"to\": 39}, {\"color\": \"#33A02C\", \"from\": 3, \"to\": 40}, {\"color\": \"#33A02C\", \"from\": 3, \"to\": 41}, {\"color\": \"#1F78B4\", \"from\": 3, \"to\": 42}, {\"color\": \"#1F78B4\", \"from\": 3, \"to\": 43}, {\"color\": \"#1F78B4\", \"from\": 3, \"to\": 44}, {\"color\": \"#A6CEE3\", \"from\": 5, \"to\": 12}, {\"color\": \"#A6CEE3\", \"from\": 14, \"to\": 12}, {\"color\": \"#A6CEE3\", \"from\": 5, \"to\": 45}, {\"color\": \"#A6CEE3\", \"from\": 5, \"to\": 46}, {\"color\": \"#33A02C\", \"from\": 5, \"to\": 47}, {\"color\": \"#A6CEE3\", \"from\": 14, \"to\": 18}, {\"color\": \"#A6CEE3\", \"from\": 14, \"to\": 19}, {\"color\": \"#33A02C\", \"from\": 14, \"to\": 20}]);\n",
              "\n",
              "        // adding nodes and edges to the graph\n",
              "        data = {nodes: nodes, edges: edges};\n",
              "\n",
              "        var options = {\n",
              "    \"configure\": {\n",
              "        \"enabled\": false\n",
              "    },\n",
              "    \"edges\": {\n",
              "        \"color\": {\n",
              "            \"inherit\": true\n",
              "        },\n",
              "        \"smooth\": {\n",
              "            \"enabled\": true,\n",
              "            \"type\": \"dynamic\"\n",
              "        }\n",
              "    },\n",
              "    \"interaction\": {\n",
              "        \"dragNodes\": true,\n",
              "        \"hideEdgesOnDrag\": false,\n",
              "        \"hideNodesOnDrag\": false\n",
              "    },\n",
              "    \"physics\": {\n",
              "        \"barnesHut\": {\n",
              "            \"avoidOverlap\": 0,\n",
              "            \"centralGravity\": 0.3,\n",
              "            \"damping\": 0.09,\n",
              "            \"gravitationalConstant\": -80000,\n",
              "            \"springConstant\": 0.001,\n",
              "            \"springLength\": 250\n",
              "        },\n",
              "        \"enabled\": true,\n",
              "        \"repulsion\": {\n",
              "            \"centralGravity\": 0.2,\n",
              "            \"damping\": 0.09,\n",
              "            \"nodeDistance\": 100,\n",
              "            \"springConstant\": 0.05,\n",
              "            \"springLength\": 200\n",
              "        },\n",
              "        \"solver\": \"repulsion\",\n",
              "        \"stabilization\": {\n",
              "            \"enabled\": true,\n",
              "            \"fit\": true,\n",
              "            \"iterations\": 1000,\n",
              "            \"onlyDynamicEdges\": false,\n",
              "            \"updateInterval\": 50\n",
              "        }\n",
              "    }\n",
              "};\n",
              "        \n",
              "        \n",
              "\n",
              "        \n",
              "\n",
              "        network = new vis.Network(container, data, options);\n",
              "\t \n",
              "        \n",
              "\n",
              "\n",
              "        \n",
              "\n",
              "        return network;\n",
              "\n",
              "    }\n",
              "\n",
              "    drawGraph();\n",
              "\n",
              "</script>\n",
              "</body>\n",
              "</html>"
            ]
          },
          "metadata": {}
        }
      ]
    },
    {
      "cell_type": "code",
      "source": [
        ""
      ],
      "metadata": {
        "id": "8Ncw037wZaCH"
      },
      "execution_count": 252,
      "outputs": []
    }
  ]
}