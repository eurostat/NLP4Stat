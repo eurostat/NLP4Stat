{
  "nbformat": 4,
  "nbformat_minor": 0,
  "metadata": {
    "colab": {
      "name": "Eurostat_Populate_OECD.ipynb",
      "provenance": [],
      "collapsed_sections": []
    },
    "kernelspec": {
      "name": "python3",
      "display_name": "Python 3"
    },
    "language_info": {
      "name": "python"
    }
  },
  "cells": [
    {
      "cell_type": "code",
      "execution_count": null,
      "metadata": {
        "id": "RJeJ1xVmwfE_",
        "colab": {
          "base_uri": "https://localhost:8080/"
        },
        "outputId": "c64480f4-c1c2-4fcc-83f9-2382e9f15197"
      },
      "outputs": [
        {
          "output_type": "stream",
          "name": "stdout",
          "text": [
            "Drive already mounted at /content/drive; to attempt to forcibly remount, call drive.mount(\"/content/drive\", force_remount=True).\n"
          ]
        }
      ],
      "source": [
        "from google.colab import drive\n",
        "drive.mount('/content/drive')"
      ]
    },
    {
      "cell_type": "code",
      "source": [
        "!pip install pyodbc"
      ],
      "metadata": {
        "id": "1RX5AldXwmyA",
        "colab": {
          "base_uri": "https://localhost:8080/"
        },
        "outputId": "c856a5c9-8f39-4247-8808-99104468a917"
      },
      "execution_count": null,
      "outputs": [
        {
          "output_type": "stream",
          "name": "stdout",
          "text": [
            "Requirement already satisfied: pyodbc in /usr/local/lib/python3.7/dist-packages (4.0.32)\n"
          ]
        }
      ]
    },
    {
      "cell_type": "code",
      "source": [
        "!pip install eurostat"
      ],
      "metadata": {
        "id": "SmWSQZbrwo3G",
        "colab": {
          "base_uri": "https://localhost:8080/"
        },
        "outputId": "3e5f2ddc-2922-498c-de0b-1c06e2d43766"
      },
      "execution_count": null,
      "outputs": [
        {
          "output_type": "stream",
          "name": "stdout",
          "text": [
            "Requirement already satisfied: eurostat in /usr/local/lib/python3.7/dist-packages (0.2.3)\n",
            "Requirement already satisfied: pandas in /usr/local/lib/python3.7/dist-packages (from eurostat) (1.3.5)\n",
            "Requirement already satisfied: requests in /usr/local/lib/python3.7/dist-packages (from eurostat) (2.23.0)\n",
            "Requirement already satisfied: pandasdmx<=0.9 in /usr/local/lib/python3.7/dist-packages (from eurostat) (0.9)\n",
            "Requirement already satisfied: jsonpath-rw in /usr/local/lib/python3.7/dist-packages (from pandasdmx<=0.9->eurostat) (1.4.0)\n",
            "Requirement already satisfied: lxml in /usr/local/lib/python3.7/dist-packages (from pandasdmx<=0.9->eurostat) (4.2.6)\n",
            "Requirement already satisfied: setuptools in /usr/local/lib/python3.7/dist-packages (from pandasdmx<=0.9->eurostat) (57.4.0)\n",
            "Requirement already satisfied: decorator in /usr/local/lib/python3.7/dist-packages (from jsonpath-rw->pandasdmx<=0.9->eurostat) (4.4.2)\n",
            "Requirement already satisfied: six in /usr/local/lib/python3.7/dist-packages (from jsonpath-rw->pandasdmx<=0.9->eurostat) (1.15.0)\n",
            "Requirement already satisfied: ply in /usr/local/lib/python3.7/dist-packages (from jsonpath-rw->pandasdmx<=0.9->eurostat) (3.11)\n",
            "Requirement already satisfied: numpy>=1.17.3 in /usr/local/lib/python3.7/dist-packages (from pandas->eurostat) (1.21.6)\n",
            "Requirement already satisfied: python-dateutil>=2.7.3 in /usr/local/lib/python3.7/dist-packages (from pandas->eurostat) (2.8.2)\n",
            "Requirement already satisfied: pytz>=2017.3 in /usr/local/lib/python3.7/dist-packages (from pandas->eurostat) (2022.1)\n",
            "Requirement already satisfied: chardet<4,>=3.0.2 in /usr/local/lib/python3.7/dist-packages (from requests->eurostat) (3.0.4)\n",
            "Requirement already satisfied: urllib3!=1.25.0,!=1.25.1,<1.26,>=1.21.1 in /usr/local/lib/python3.7/dist-packages (from requests->eurostat) (1.24.3)\n",
            "Requirement already satisfied: certifi>=2017.4.17 in /usr/local/lib/python3.7/dist-packages (from requests->eurostat) (2021.10.8)\n",
            "Requirement already satisfied: idna<3,>=2.5 in /usr/local/lib/python3.7/dist-packages (from requests->eurostat) (2.10)\n"
          ]
        }
      ]
    },
    {
      "cell_type": "code",
      "source": [
        "!apt-get install virtuoso-opensource"
      ],
      "metadata": {
        "id": "LV8mdafJwqVT",
        "colab": {
          "base_uri": "https://localhost:8080/"
        },
        "outputId": "bef6379d-f770-4e06-910e-c836b2dc4726"
      },
      "execution_count": null,
      "outputs": [
        {
          "output_type": "stream",
          "name": "stdout",
          "text": [
            "Reading package lists... Done\n",
            "Building dependency tree       \n",
            "Reading state information... Done\n",
            "The following packages were automatically installed and are no longer required:\n",
            "  libnvidia-common-460 nsight-compute-2020.2.0\n",
            "Use 'apt autoremove' to remove them.\n",
            "The following additional packages will be installed:\n",
            "  libvirtodbc0 virtuoso-opensource-6.1 virtuoso-opensource-6.1-bin\n",
            "  virtuoso-opensource-6.1-common virtuoso-server virtuoso-vad-conductor\n",
            "  virtuoso-vsp-startpage\n",
            "Suggested packages:\n",
            "  virtuoso-vad-doc virtuoso-vad-demo virtuoso-vad-tutorial\n",
            "  virtuoso-vad-rdfmappers virtuoso-vad-sparqldemo virtuoso-vad-syncml\n",
            "  virtuoso-vad-bpel virtuoso-vad-isparql virtuoso-vad-ods virtuoso-vad-dbpedia\n",
            "  virtuoso-vad-facetedbrowser\n",
            "The following NEW packages will be installed:\n",
            "  libvirtodbc0 virtuoso-opensource virtuoso-opensource-6.1\n",
            "  virtuoso-opensource-6.1-bin virtuoso-opensource-6.1-common virtuoso-server\n",
            "  virtuoso-vad-conductor virtuoso-vsp-startpage\n",
            "0 upgraded, 8 newly installed, 0 to remove and 42 not upgraded.\n",
            "Need to get 4,835 kB of archives.\n",
            "After this operation, 27.5 MB of additional disk space will be used.\n",
            "Get:1 http://archive.ubuntu.com/ubuntu bionic/universe amd64 virtuoso-opensource-6.1-common amd64 6.1.6+repack-0ubuntu9 [45.0 kB]\n",
            "Get:2 http://archive.ubuntu.com/ubuntu bionic/universe amd64 virtuoso-opensource-6.1-bin amd64 6.1.6+repack-0ubuntu9 [2,831 kB]\n",
            "Get:3 http://archive.ubuntu.com/ubuntu bionic/universe amd64 libvirtodbc0 amd64 6.1.6+repack-0ubuntu9 [259 kB]\n",
            "Get:4 http://archive.ubuntu.com/ubuntu bionic/universe amd64 virtuoso-opensource-6.1 amd64 6.1.6+repack-0ubuntu9 [163 kB]\n",
            "Get:5 http://archive.ubuntu.com/ubuntu bionic/universe amd64 virtuoso-opensource all 6.1.6+repack-0ubuntu9 [33.3 kB]\n",
            "Get:6 http://archive.ubuntu.com/ubuntu bionic/universe amd64 virtuoso-vad-conductor all 6.1.6+repack-0ubuntu9 [1,044 kB]\n",
            "Get:7 http://archive.ubuntu.com/ubuntu bionic/universe amd64 virtuoso-vsp-startpage all 6.1.6+repack-0ubuntu9 [428 kB]\n",
            "Get:8 http://archive.ubuntu.com/ubuntu bionic/universe amd64 virtuoso-server all 6.1.6+repack-0ubuntu9 [31.0 kB]\n",
            "Fetched 4,835 kB in 0s (11.6 MB/s)\n",
            "Preconfiguring packages ...\n",
            "Selecting previously unselected package virtuoso-opensource-6.1-common.\n",
            "(Reading database ... 155203 files and directories currently installed.)\n",
            "Preparing to unpack .../0-virtuoso-opensource-6.1-common_6.1.6+repack-0ubuntu9_amd64.deb ...\n",
            "Unpacking virtuoso-opensource-6.1-common (6.1.6+repack-0ubuntu9) ...\n",
            "Selecting previously unselected package virtuoso-opensource-6.1-bin.\n",
            "Preparing to unpack .../1-virtuoso-opensource-6.1-bin_6.1.6+repack-0ubuntu9_amd64.deb ...\n",
            "Unpacking virtuoso-opensource-6.1-bin (6.1.6+repack-0ubuntu9) ...\n",
            "Selecting previously unselected package libvirtodbc0.\n",
            "Preparing to unpack .../2-libvirtodbc0_6.1.6+repack-0ubuntu9_amd64.deb ...\n",
            "Unpacking libvirtodbc0 (6.1.6+repack-0ubuntu9) ...\n",
            "Selecting previously unselected package virtuoso-opensource-6.1.\n",
            "Preparing to unpack .../3-virtuoso-opensource-6.1_6.1.6+repack-0ubuntu9_amd64.deb ...\n",
            "Unpacking virtuoso-opensource-6.1 (6.1.6+repack-0ubuntu9) ...\n",
            "Selecting previously unselected package virtuoso-opensource.\n",
            "Preparing to unpack .../4-virtuoso-opensource_6.1.6+repack-0ubuntu9_all.deb ...\n",
            "Unpacking virtuoso-opensource (6.1.6+repack-0ubuntu9) ...\n",
            "Selecting previously unselected package virtuoso-vad-conductor.\n",
            "Preparing to unpack .../5-virtuoso-vad-conductor_6.1.6+repack-0ubuntu9_all.deb ...\n",
            "Unpacking virtuoso-vad-conductor (6.1.6+repack-0ubuntu9) ...\n",
            "Selecting previously unselected package virtuoso-vsp-startpage.\n",
            "Preparing to unpack .../6-virtuoso-vsp-startpage_6.1.6+repack-0ubuntu9_all.deb ...\n",
            "Unpacking virtuoso-vsp-startpage (6.1.6+repack-0ubuntu9) ...\n",
            "Selecting previously unselected package virtuoso-server.\n",
            "Preparing to unpack .../7-virtuoso-server_6.1.6+repack-0ubuntu9_all.deb ...\n",
            "Unpacking virtuoso-server (6.1.6+repack-0ubuntu9) ...\n",
            "Setting up virtuoso-opensource-6.1-bin (6.1.6+repack-0ubuntu9) ...\n",
            "Setting up virtuoso-opensource-6.1-common (6.1.6+repack-0ubuntu9) ...\n",
            "Setting up libvirtodbc0 (6.1.6+repack-0ubuntu9) ...\n",
            "Setting up virtuoso-opensource-6.1 (6.1.6+repack-0ubuntu9) ...\n",
            "invoke-rc.d: could not determine current runlevel\n",
            "invoke-rc.d: policy-rc.d denied execution of start.\n",
            "Setting up virtuoso-opensource (6.1.6+repack-0ubuntu9) ...\n",
            "Setting up virtuoso-server (6.1.6+repack-0ubuntu9) ...\n",
            "Setting up virtuoso-vad-conductor (6.1.6+repack-0ubuntu9) ...\n",
            "Setting up virtuoso-vsp-startpage (6.1.6+repack-0ubuntu9) ...\n",
            "Processing triggers for man-db (2.8.3-2ubuntu0.1) ...\n",
            "Processing triggers for systemd (237-3ubuntu10.53) ...\n"
          ]
        }
      ]
    },
    {
      "cell_type": "code",
      "source": [
        "import gensim\n",
        "import pandas as pd\n",
        "import numpy as np\n",
        "import re\n",
        "import pyodbc\n",
        "\n",
        "c = pyodbc.connect('DRIVER=/usr/lib/odbc/virtodbc.so;HOST=lod.csd.auth.gr:1111;UID=kimon;PWD=RkhvQYZ442e2JVXLHdtW;DATABASE=ESTAT')\n",
        "#set encoding\n",
        "c.setdecoding(pyodbc.SQL_CHAR, encoding='latin-1')\n",
        "c.setencoding(encoding=\"latin-1\")\n",
        "cursor = c.cursor()\n",
        "\n",
        "\n",
        "def load_table(cursor,query):\n",
        "  cursor.execute(query)\n",
        "  t1 = cursor.fetchall()\n",
        "  df = pd.DataFrame.from_records(t1, columns=[x[0] for x in cursor.description])\n",
        "  return df"
      ],
      "metadata": {
        "id": "ZYUCnw0xwsRt"
      },
      "execution_count": null,
      "outputs": []
    },
    {
      "cell_type": "code",
      "source": [
        "#OECD\n",
        "\n",
        "query =      \"\"\"SELECT id,article_id,term,url,definition,context,theme,related,related_url,last_update,source_publ FROM ESTAT.V1.OECD_Glossary\"\"\"\n",
        "\n",
        "OECDGlossary = load_table(cursor,query)\n",
        "\n",
        "query =      \"\"\"SELECT id,ESTAT_theme,ESTAT_sub_theme,OECD_themes FROM ESTAT.V1.Eurostat_OECD_themes\"\"\"\n",
        "\n",
        "OECDThemes = load_table(cursor,query)"
      ],
      "metadata": {
        "id": "qzbueALUwxox"
      },
      "execution_count": null,
      "outputs": []
    },
    {
      "cell_type": "code",
      "source": [
        "#Map OECD\n",
        "listHelper = []\n",
        "for name, row in OECDGlossary.iterrows():\n",
        "  helper = \"\"\n",
        "  nameTerm = str(re.sub(\"[^a-zA-Z\\d%]\", ' ', row[2]).replace(\"\\'\", \"\").replace(\"\\\"\", \"\").replace(\"\\\\\", \"\").strip().replace(\" \", \"_\")).lower()\n",
        "  nameTerm = nameTerm.replace(\"____\", \"\").replace(\"___\", \"\").replace(\"__\", \"\")\n",
        "  listHelper.append((str(row[1]), nameTerm))\n",
        "\n",
        "print(len(listHelper))\n",
        "f = open(\"OECD.ttl\", \"a\")\n",
        "for name, row in OECDGlossary.iterrows():\n",
        "  helper = \"\"\n",
        "  nameTerm = str(re.sub(\"[^a-zA-Z\\d%]\", ' ', row[2]).replace(\"\\'\", \"\").replace(\"\\\"\", \"\").replace(\"\\\\\", \"\").strip().replace(\" \", \"_\")).lower()\n",
        "  nameTerm = nameTerm.replace(\"____\", \"\").replace(\"___\", \"\").replace(\"__\", \"\")\n",
        "  if nameTerm != \"\":\n",
        "    f.write(\"oecd:\" + nameTerm + \" rdf:type estat:OECDTerm.\\n\")\n",
        "    f.write(\"oecd:\" + nameTerm + \" estat:term \\\"\" + str(re.sub(\"[^a-zA-Z\\d%]\", ' ', row[2]).replace(\"\\'\", \"\").replace(\"\\\"\", \"\").replace(\"\\\\\", \"\").strip()) +\"\\\"^^xsd:string.\\n\")\n",
        "    f.write(\"oecd:\" + nameTerm + \" estat:id \\\"\" + str(row[1]) +\"\\\"^^xsd:integer.\\n\")\n",
        "    if str(row[3]) != \"\":\n",
        "      f.write(\"oecd:\" + nameTerm + \" estat:hasURL \\\"\" + str(row[3]) + \"\\\"^^xsd:anyURI .\\n\")\n",
        "    if str(row[4]) != \"\":\n",
        "      f.write(\"oecd:\" + nameTerm + \" estat:definition \\\"\" + str(re.sub(\"[^a-zA-Z\\d%]\", ' ', row[4]).replace(\"\\'\", \"\").replace(\"\\\"\", \"\").replace(\"\\\\\", \"\").strip()) +\"\\\"^^xsd:string.\\n\")\n",
        "    if str(re.sub(\"[^a-zA-Z\\d%]\", ' ', row[5]).replace(\"\\'\", \"\").replace(\"\\\"\", \"\").replace(\"\\\\\", \"\").strip()) != \"\":\n",
        "      f.write(\"oecd:\" + nameTerm + \" estat:context \\\"\" + str(re.sub(\"[^a-zA-Z\\d%]\", ' ', row[5]).replace(\"\\'\", \"\").replace(\"\\\"\", \"\").replace(\"\\\\\", \"\").strip()) +\"\\\"^^xsd:string.\\n\")\n",
        "\n",
        "    if str(row[6]) != \"\":\n",
        "      f.write(\"oecd:\" + nameTerm + \" estat:hasOECDTheme oecd:\" + str(re.sub(\"[^a-zA-Z\\d%]\", ' ', row[6]).replace(\"\\'\", \"\").replace(\"\\\"\", \"\").replace(\"\\\\\", \"\").strip().replace(\" \", \"_\")).lower().replace(\"____\", \"\").replace(\"___\", \"\").replace(\"__\", \"\") +\".\\n\")\n",
        "      f.write(\"oecd:\" + str(re.sub(\"[^a-zA-Z\\d%]\", ' ', row[6]).replace(\"\\'\", \"\").replace(\"\\\"\", \"\").replace(\"\\\\\", \"\").strip().replace(\" \", \"_\")).lower().replace(\"____\", \"\").replace(\"___\", \"\").replace(\"__\", \"\") + \" rdf:type estat:OECDTheme.\\n\")\n",
        "      f.write(\"oecd:\" + str(re.sub(\"[^a-zA-Z\\d%]\", ' ', row[6]).replace(\"\\'\", \"\").replace(\"\\\"\", \"\").replace(\"\\\\\", \"\").strip().replace(\" \", \"_\")).lower().replace(\"____\", \"\").replace(\"___\", \"\").replace(\"__\", \"\") + \" estat:title \\\"\" + str(re.sub(\"[^a-zA-Z\\d%]\", ' ', row[6]).replace(\"\\'\", \"\").replace(\"\\\"\", \"\").replace(\"\\\\\", \"\").strip()).lower() + \"\\\"^^xsd:string.\\n\")\n",
        "\n",
        "    if str(row[8]) != \"\":\n",
        "      helperSplit = str(row[8]).split(\",\")\n",
        "      for uri in helperSplit:\n",
        "        if \"?ID=\" in str(uri):\n",
        "          uri = uri.split(\"?ID=\")[1]\n",
        "          for l in listHelper:\n",
        "            if str(uri) == str(l[0]):\n",
        "              f.write(\"oecd:\" + nameTerm + \" estat:relatedTerm oecd:\" + l[1] + \" .\\n\")\n",
        "\n",
        "    if str(row[9]) != \"\":\n",
        "      f.write(\"oecd:\" + nameTerm + \" estat:dateUpdated \\\"\" + str(re.sub(\"[^a-zA-Z\\d%]\", ' ', row[9]).replace(\"\\'\", \"\").replace(\"\\\"\", \"\").replace(\"\\\\\", \"\").strip()) + \"\\\"^^xsd:string.\\n\")\n",
        "    if str(row[10]) != \"\":\n",
        "      f.write(\"oecd:\" + nameTerm + \" estat:sourcePublication \\\"\" + str(re.sub(\"[^a-zA-Z\\d%]\", ' ', row[10]).replace(\"\\'\", \"\").replace(\"\\\"\", \"\").replace(\"\\\\\", \"\").strip()).lower() +\"\\\"^^xsd:string.\\n\")\n",
        "\n",
        "  \n",
        "f.close()\n"
      ],
      "metadata": {
        "id": "0FCrF-UFwybq",
        "colab": {
          "base_uri": "https://localhost:8080/"
        },
        "outputId": "e1f5919e-4215-4488-bdd4-3833d968efdb"
      },
      "execution_count": null,
      "outputs": [
        {
          "output_type": "stream",
          "name": "stdout",
          "text": [
            "6936\n"
          ]
        }
      ]
    },
    {
      "cell_type": "code",
      "source": [
        "f = open(\"OECD.ttl\", \"a\")\n",
        "for name, row in OECDThemes.iterrows():\n",
        "  eurostatTheme = str(re.sub(\"[^a-zA-Z\\d%]\", ' ', row[1]).replace(\"\\'\", \"\").replace(\"\\\"\", \"\").replace(\"\\\\\", \"\").strip().replace(\" \", \"_\")).lower().replace(\"____\", \"\").replace(\"___\", \"\").replace(\"__\", \"\")\n",
        "  flag = 0\n",
        "  for theme in row[3].split(\";\"):\n",
        "    oecdTheme = str(re.sub(\"[^a-zA-Z\\d%]\", ' ', theme).replace(\"\\'\", \"\").replace(\"\\\"\", \"\").replace(\"\\\\\", \"\").strip().replace(\" \", \"_\")).lower().replace(\"____\", \"\").replace(\"___\", \"\").replace(\"__\", \"\")\n",
        "    f.write(\"estatdata:\" + eurostatTheme + \" rdf:type estat:EurostatTheme.\\n\")\n",
        "    f.write(\"estatdata:\" + eurostatTheme + \" estat:title \\\"\" + str(re.sub(\"[^a-zA-Z\\d%]\", ' ', row[1]).replace(\"\\'\", \"\").replace(\"\\\"\", \"\").replace(\"\\\\\", \"\").strip()).lower() + \"\\\"^^xsd:string.\\n\")\n",
        "    if oecdTheme != \"\":\n",
        "      f.write(\"estatdata:\" + eurostatTheme + \" estat:relatedTheme oecd:\" + oecdTheme + \".\\n\")\n",
        "      flag = 1\n",
        "  if flag == 1:\n",
        "    if str(row[2]) not in row[3].split(\";\"):\n",
        "      subtheme = str(re.sub(\"[^a-zA-Z\\d%]\", ' ', row[2]).replace(\"\\'\", \"\").replace(\"\\\"\", \"\").replace(\"\\\\\", \"_\").strip().replace(\" \", \"_\")).lower().replace(\"____\", \"\").replace(\"___\", \"\").replace(\"__\", \"\")\n",
        "      f.write(\"oecd:\" + subtheme + \" rdf:type estat:EurostatTheme.\\n\")\n",
        "      f.write(\"oecd:\" + subtheme + \" estat:term \\\"\" + str(re.sub(\"[^a-zA-Z\\d%]\", ' ', row[2]).replace(\"\\'\", \"\").replace(\"\\\"\", \"\").replace(\"\\\\\", \"\").strip()) +\"\\\"^^xsd:string.\\n\")\n",
        "      f.write(\"estatdata:\" + subtheme + \" estat:hasSubTheme oecd:\" + oecdTheme + \".\\n\")\n",
        "\n",
        "f.close()"
      ],
      "metadata": {
        "id": "an3MhfbCBMTJ"
      },
      "execution_count": null,
      "outputs": []
    }
  ]
}