{
  "cells": [
    {
      "cell_type": "code",
      "execution_count": 1,
      "metadata": {
        "id": "etODbGaM3GEJ",
        "colab": {
          "base_uri": "https://localhost:8080/"
        },
        "outputId": "ba63f0e8-1ad7-44bd-af61-28e2f8c34c02"
      },
      "outputs": [
        {
          "output_type": "stream",
          "name": "stdout",
          "text": [
            "Mounted at /content/drive\n"
          ]
        }
      ],
      "source": [
        "from google.colab import drive\n",
        "drive.mount('/content/drive')"
      ]
    },
    {
      "cell_type": "code",
      "execution_count": 2,
      "metadata": {
        "id": "i6f_tJio3c6y",
        "colab": {
          "base_uri": "https://localhost:8080/"
        },
        "outputId": "c64085d3-ab7c-422f-b85d-7cf96b047018"
      },
      "outputs": [
        {
          "output_type": "stream",
          "name": "stdout",
          "text": [
            "Collecting pyodbc\n",
            "  Downloading pyodbc-4.0.32.tar.gz (280 kB)\n",
            "\u001b[?25l\r\u001b[K     |█▏                              | 10 kB 19.9 MB/s eta 0:00:01\r\u001b[K     |██▍                             | 20 kB 25.0 MB/s eta 0:00:01\r\u001b[K     |███▌                            | 30 kB 22.1 MB/s eta 0:00:01\r\u001b[K     |████▊                           | 40 kB 8.7 MB/s eta 0:00:01\r\u001b[K     |█████▉                          | 51 kB 8.5 MB/s eta 0:00:01\r\u001b[K     |███████                         | 61 kB 9.9 MB/s eta 0:00:01\r\u001b[K     |████████▏                       | 71 kB 9.2 MB/s eta 0:00:01\r\u001b[K     |█████████▍                      | 81 kB 9.3 MB/s eta 0:00:01\r\u001b[K     |██████████▌                     | 92 kB 10.2 MB/s eta 0:00:01\r\u001b[K     |███████████▊                    | 102 kB 8.9 MB/s eta 0:00:01\r\u001b[K     |████████████▉                   | 112 kB 8.9 MB/s eta 0:00:01\r\u001b[K     |██████████████                  | 122 kB 8.9 MB/s eta 0:00:01\r\u001b[K     |███████████████▏                | 133 kB 8.9 MB/s eta 0:00:01\r\u001b[K     |████████████████▍               | 143 kB 8.9 MB/s eta 0:00:01\r\u001b[K     |█████████████████▌              | 153 kB 8.9 MB/s eta 0:00:01\r\u001b[K     |██████████████████▊             | 163 kB 8.9 MB/s eta 0:00:01\r\u001b[K     |████████████████████            | 174 kB 8.9 MB/s eta 0:00:01\r\u001b[K     |█████████████████████           | 184 kB 8.9 MB/s eta 0:00:01\r\u001b[K     |██████████████████████▎         | 194 kB 8.9 MB/s eta 0:00:01\r\u001b[K     |███████████████████████▍        | 204 kB 8.9 MB/s eta 0:00:01\r\u001b[K     |████████████████████████▋       | 215 kB 8.9 MB/s eta 0:00:01\r\u001b[K     |█████████████████████████▊      | 225 kB 8.9 MB/s eta 0:00:01\r\u001b[K     |███████████████████████████     | 235 kB 8.9 MB/s eta 0:00:01\r\u001b[K     |████████████████████████████    | 245 kB 8.9 MB/s eta 0:00:01\r\u001b[K     |█████████████████████████████▎  | 256 kB 8.9 MB/s eta 0:00:01\r\u001b[K     |██████████████████████████████▍ | 266 kB 8.9 MB/s eta 0:00:01\r\u001b[K     |███████████████████████████████▋| 276 kB 8.9 MB/s eta 0:00:01\r\u001b[K     |████████████████████████████████| 280 kB 8.9 MB/s \n",
            "\u001b[?25hBuilding wheels for collected packages: pyodbc\n",
            "  Building wheel for pyodbc (setup.py) ... \u001b[?25l\u001b[?25hdone\n",
            "  Created wheel for pyodbc: filename=pyodbc-4.0.32-cp37-cp37m-linux_x86_64.whl size=287325 sha256=38bdcc962625403b2402ecb071bb9c7471c8b8f56719ff214739f91ea5b8c5d3\n",
            "  Stored in directory: /root/.cache/pip/wheels/2e/9c/da/8652fd42e0f662015554f00a9e96fe4f438dfd1ef59787879e\n",
            "Successfully built pyodbc\n",
            "Installing collected packages: pyodbc\n",
            "Successfully installed pyodbc-4.0.32\n"
          ]
        }
      ],
      "source": [
        "!pip install pyodbc"
      ]
    },
    {
      "cell_type": "code",
      "execution_count": 3,
      "metadata": {
        "id": "x4Zv1fhw3zTj",
        "colab": {
          "base_uri": "https://localhost:8080/"
        },
        "outputId": "0fcde9e9-ff2c-4701-cfbe-fb64468f17e5"
      },
      "outputs": [
        {
          "output_type": "stream",
          "name": "stdout",
          "text": [
            "Collecting eurostat\n",
            "  Downloading eurostat-0.2.3-py3-none-any.whl (11 kB)\n",
            "Requirement already satisfied: requests in /usr/local/lib/python3.7/dist-packages (from eurostat) (2.23.0)\n",
            "Requirement already satisfied: pandas in /usr/local/lib/python3.7/dist-packages (from eurostat) (1.3.5)\n",
            "Collecting pandasdmx<=0.9\n",
            "  Downloading pandaSDMX-0.9-py2.py3-none-any.whl (45 kB)\n",
            "\u001b[K     |████████████████████████████████| 45 kB 2.0 MB/s \n",
            "\u001b[?25hRequirement already satisfied: lxml in /usr/local/lib/python3.7/dist-packages (from pandasdmx<=0.9->eurostat) (4.2.6)\n",
            "Requirement already satisfied: setuptools in /usr/local/lib/python3.7/dist-packages (from pandasdmx<=0.9->eurostat) (57.4.0)\n",
            "Collecting jsonpath-rw\n",
            "  Downloading jsonpath-rw-1.4.0.tar.gz (13 kB)\n",
            "Collecting ply\n",
            "  Downloading ply-3.11-py2.py3-none-any.whl (49 kB)\n",
            "\u001b[K     |████████████████████████████████| 49 kB 5.4 MB/s \n",
            "\u001b[?25hRequirement already satisfied: decorator in /usr/local/lib/python3.7/dist-packages (from jsonpath-rw->pandasdmx<=0.9->eurostat) (4.4.2)\n",
            "Requirement already satisfied: six in /usr/local/lib/python3.7/dist-packages (from jsonpath-rw->pandasdmx<=0.9->eurostat) (1.15.0)\n",
            "Requirement already satisfied: pytz>=2017.3 in /usr/local/lib/python3.7/dist-packages (from pandas->eurostat) (2022.1)\n",
            "Requirement already satisfied: numpy>=1.17.3 in /usr/local/lib/python3.7/dist-packages (from pandas->eurostat) (1.21.6)\n",
            "Requirement already satisfied: python-dateutil>=2.7.3 in /usr/local/lib/python3.7/dist-packages (from pandas->eurostat) (2.8.2)\n",
            "Requirement already satisfied: urllib3!=1.25.0,!=1.25.1,<1.26,>=1.21.1 in /usr/local/lib/python3.7/dist-packages (from requests->eurostat) (1.24.3)\n",
            "Requirement already satisfied: chardet<4,>=3.0.2 in /usr/local/lib/python3.7/dist-packages (from requests->eurostat) (3.0.4)\n",
            "Requirement already satisfied: idna<3,>=2.5 in /usr/local/lib/python3.7/dist-packages (from requests->eurostat) (2.10)\n",
            "Requirement already satisfied: certifi>=2017.4.17 in /usr/local/lib/python3.7/dist-packages (from requests->eurostat) (2021.10.8)\n",
            "Building wheels for collected packages: jsonpath-rw\n",
            "  Building wheel for jsonpath-rw (setup.py) ... \u001b[?25l\u001b[?25hdone\n",
            "  Created wheel for jsonpath-rw: filename=jsonpath_rw-1.4.0-py3-none-any.whl size=15147 sha256=8290e80b1666955ca185525cec5e23fb4e9bbd2497208536f9f9e3e78bc231eb\n",
            "  Stored in directory: /root/.cache/pip/wheels/58/88/2a/8d619cf38d7cf939e54b6ccdece05d31b64b3eb419c11d1ed3\n",
            "Successfully built jsonpath-rw\n",
            "Installing collected packages: ply, jsonpath-rw, pandasdmx, eurostat\n",
            "Successfully installed eurostat-0.2.3 jsonpath-rw-1.4.0 pandasdmx-0.9 ply-3.11\n"
          ]
        }
      ],
      "source": [
        "!pip install eurostat"
      ]
    },
    {
      "cell_type": "code",
      "execution_count": 4,
      "metadata": {
        "id": "TM4oMWpX4fpe",
        "colab": {
          "base_uri": "https://localhost:8080/"
        },
        "outputId": "980b7821-856d-4c9e-cb40-fba7d1de874e"
      },
      "outputs": [
        {
          "output_type": "stream",
          "name": "stdout",
          "text": [
            "Reading package lists... Done\n",
            "Building dependency tree       \n",
            "Reading state information... Done\n",
            "The following packages were automatically installed and are no longer required:\n",
            "  libnvidia-common-460 nsight-compute-2020.2.0\n",
            "Use 'apt autoremove' to remove them.\n",
            "The following additional packages will be installed:\n",
            "  libvirtodbc0 virtuoso-opensource-6.1 virtuoso-opensource-6.1-bin\n",
            "  virtuoso-opensource-6.1-common virtuoso-server virtuoso-vad-conductor\n",
            "  virtuoso-vsp-startpage\n",
            "Suggested packages:\n",
            "  virtuoso-vad-doc virtuoso-vad-demo virtuoso-vad-tutorial\n",
            "  virtuoso-vad-rdfmappers virtuoso-vad-sparqldemo virtuoso-vad-syncml\n",
            "  virtuoso-vad-bpel virtuoso-vad-isparql virtuoso-vad-ods virtuoso-vad-dbpedia\n",
            "  virtuoso-vad-facetedbrowser\n",
            "The following NEW packages will be installed:\n",
            "  libvirtodbc0 virtuoso-opensource virtuoso-opensource-6.1\n",
            "  virtuoso-opensource-6.1-bin virtuoso-opensource-6.1-common virtuoso-server\n",
            "  virtuoso-vad-conductor virtuoso-vsp-startpage\n",
            "0 upgraded, 8 newly installed, 0 to remove and 42 not upgraded.\n",
            "Need to get 4,835 kB of archives.\n",
            "After this operation, 27.5 MB of additional disk space will be used.\n",
            "Get:1 http://archive.ubuntu.com/ubuntu bionic/universe amd64 virtuoso-opensource-6.1-common amd64 6.1.6+repack-0ubuntu9 [45.0 kB]\n",
            "Get:2 http://archive.ubuntu.com/ubuntu bionic/universe amd64 virtuoso-opensource-6.1-bin amd64 6.1.6+repack-0ubuntu9 [2,831 kB]\n",
            "Get:3 http://archive.ubuntu.com/ubuntu bionic/universe amd64 libvirtodbc0 amd64 6.1.6+repack-0ubuntu9 [259 kB]\n",
            "Get:4 http://archive.ubuntu.com/ubuntu bionic/universe amd64 virtuoso-opensource-6.1 amd64 6.1.6+repack-0ubuntu9 [163 kB]\n",
            "Get:5 http://archive.ubuntu.com/ubuntu bionic/universe amd64 virtuoso-opensource all 6.1.6+repack-0ubuntu9 [33.3 kB]\n",
            "Get:6 http://archive.ubuntu.com/ubuntu bionic/universe amd64 virtuoso-vad-conductor all 6.1.6+repack-0ubuntu9 [1,044 kB]\n",
            "Get:7 http://archive.ubuntu.com/ubuntu bionic/universe amd64 virtuoso-vsp-startpage all 6.1.6+repack-0ubuntu9 [428 kB]\n",
            "Get:8 http://archive.ubuntu.com/ubuntu bionic/universe amd64 virtuoso-server all 6.1.6+repack-0ubuntu9 [31.0 kB]\n",
            "Fetched 4,835 kB in 2s (3,018 kB/s)\n",
            "Preconfiguring packages ...\n",
            "Selecting previously unselected package virtuoso-opensource-6.1-common.\n",
            "(Reading database ... 155202 files and directories currently installed.)\n",
            "Preparing to unpack .../0-virtuoso-opensource-6.1-common_6.1.6+repack-0ubuntu9_amd64.deb ...\n",
            "Unpacking virtuoso-opensource-6.1-common (6.1.6+repack-0ubuntu9) ...\n",
            "Selecting previously unselected package virtuoso-opensource-6.1-bin.\n",
            "Preparing to unpack .../1-virtuoso-opensource-6.1-bin_6.1.6+repack-0ubuntu9_amd64.deb ...\n",
            "Unpacking virtuoso-opensource-6.1-bin (6.1.6+repack-0ubuntu9) ...\n",
            "Selecting previously unselected package libvirtodbc0.\n",
            "Preparing to unpack .../2-libvirtodbc0_6.1.6+repack-0ubuntu9_amd64.deb ...\n",
            "Unpacking libvirtodbc0 (6.1.6+repack-0ubuntu9) ...\n",
            "Selecting previously unselected package virtuoso-opensource-6.1.\n",
            "Preparing to unpack .../3-virtuoso-opensource-6.1_6.1.6+repack-0ubuntu9_amd64.deb ...\n",
            "Unpacking virtuoso-opensource-6.1 (6.1.6+repack-0ubuntu9) ...\n",
            "Selecting previously unselected package virtuoso-opensource.\n",
            "Preparing to unpack .../4-virtuoso-opensource_6.1.6+repack-0ubuntu9_all.deb ...\n",
            "Unpacking virtuoso-opensource (6.1.6+repack-0ubuntu9) ...\n",
            "Selecting previously unselected package virtuoso-vad-conductor.\n",
            "Preparing to unpack .../5-virtuoso-vad-conductor_6.1.6+repack-0ubuntu9_all.deb ...\n",
            "Unpacking virtuoso-vad-conductor (6.1.6+repack-0ubuntu9) ...\n",
            "Selecting previously unselected package virtuoso-vsp-startpage.\n",
            "Preparing to unpack .../6-virtuoso-vsp-startpage_6.1.6+repack-0ubuntu9_all.deb ...\n",
            "Unpacking virtuoso-vsp-startpage (6.1.6+repack-0ubuntu9) ...\n",
            "Selecting previously unselected package virtuoso-server.\n",
            "Preparing to unpack .../7-virtuoso-server_6.1.6+repack-0ubuntu9_all.deb ...\n",
            "Unpacking virtuoso-server (6.1.6+repack-0ubuntu9) ...\n",
            "Setting up virtuoso-opensource-6.1-bin (6.1.6+repack-0ubuntu9) ...\n",
            "Setting up virtuoso-opensource-6.1-common (6.1.6+repack-0ubuntu9) ...\n",
            "Setting up libvirtodbc0 (6.1.6+repack-0ubuntu9) ...\n",
            "Setting up virtuoso-opensource-6.1 (6.1.6+repack-0ubuntu9) ...\n",
            "invoke-rc.d: could not determine current runlevel\n",
            "invoke-rc.d: policy-rc.d denied execution of start.\n",
            "Setting up virtuoso-opensource (6.1.6+repack-0ubuntu9) ...\n",
            "Setting up virtuoso-server (6.1.6+repack-0ubuntu9) ...\n",
            "Setting up virtuoso-vad-conductor (6.1.6+repack-0ubuntu9) ...\n",
            "Setting up virtuoso-vsp-startpage (6.1.6+repack-0ubuntu9) ...\n",
            "Processing triggers for man-db (2.8.3-2ubuntu0.1) ...\n",
            "Processing triggers for systemd (237-3ubuntu10.53) ...\n"
          ]
        }
      ],
      "source": [
        "!apt-get install virtuoso-opensource"
      ]
    },
    {
      "cell_type": "code",
      "execution_count": 5,
      "metadata": {
        "id": "8249KDJT4lub"
      },
      "outputs": [],
      "source": [
        "import gensim\n",
        "import pandas as pd\n",
        "import numpy as np\n",
        "import re\n",
        "import pyodbc\n",
        "import re"
      ]
    },
    {
      "cell_type": "code",
      "execution_count": 6,
      "metadata": {
        "id": "3xqagX1T4pOp"
      },
      "outputs": [],
      "source": [
        "c = pyodbc.connect('DRIVER=/usr/lib/odbc/virtodbc.so;HOST=lod.csd.auth.gr:1111;UID=kimon;PWD=RkhvQYZ442e2JVXLHdtW;DATABASE=ESTAT')"
      ]
    },
    {
      "cell_type": "code",
      "execution_count": 7,
      "metadata": {
        "id": "bIs5C1n45WLa"
      },
      "outputs": [],
      "source": [
        "#set encoding\n",
        "c.setdecoding(pyodbc.SQL_CHAR, encoding='latin-1')\n",
        "c.setencoding(encoding=\"latin-1\")\n",
        "cursor = c.cursor()"
      ]
    },
    {
      "cell_type": "code",
      "execution_count": 8,
      "metadata": {
        "id": "i9-eTwqQ5cr9"
      },
      "outputs": [],
      "source": [
        "def load_table(cursor,query):\n",
        "  cursor.execute(query)\n",
        "  t1 = cursor.fetchall()\n",
        "  df = pd.DataFrame.from_records(t1, columns=[x[0] for x in cursor.description])\n",
        "  return df\n",
        "\n",
        "\n",
        "\n",
        "##Load Terms-Topics-Link Info\n",
        "query =      \"\"\"SELECT term_id,term_name FROM ESTAT.V1.tm_terms\"\"\"\n",
        "\n",
        "termsEurostat = load_table(cursor,query)\n",
        "\n",
        "query =      \"\"\"SELECT topic_id,topic_keywords,topic_name FROM ESTAT.V1.tm_topics\"\"\"\n",
        "\n",
        "topicsEurostat = load_table(cursor,query)"
      ]
    },
    {
      "cell_type": "code",
      "execution_count": 9,
      "metadata": {
        "id": "JX3Ebz8c2Ztt"
      },
      "outputs": [],
      "source": [
        "##Insert Topics\n",
        "f = open(\"termTopicType.ttl\", \"a\")\n",
        "for name, row in topicsEurostat.iterrows():\n",
        "  helperTopic = \"\"\n",
        "  keywords = row[1].split(\", \")\n",
        "  title = str(row[2]).replace(\" \", \"_\").replace(\",\", \"\").lower()\n",
        "\n",
        "\n",
        "  prehelper = \"estatdata:\" + str(re.sub(\"[^a-zA-Z\\d%]\", ' ', title).replace(\"\\'\", \"\").replace(\"\\\"\", \"\").replace(\"\\\\\", \"\").strip().replace(\" \", \"_\"))  + \\\n",
        "  \" rdf:type estat:Topic.\\n\" + \"estatdata:\" + str(re.sub(\"[^a-zA-Z\\d%]\", ' ', title).replace(\"\\'\", \"\").replace(\"\\\"\", \"\").replace(\"\\\\\", \"\").strip().replace(\" \", \"_\")) + \\\n",
        "  \" estat:title \\\"\" + str(re.sub(\"[^a-zA-Z\\d%]\", ' ', row[2]).replace(\"\\'\", \"\").replace(\"\\\"\", \"\").replace(\"\\\\\", \"\").strip()) + \"\\\"^^xsd:string.\\n\"\n",
        "  helper = \"\"\n",
        "  for k in keywords:\n",
        "    helper = helper +  \"estatdata:\" + str(re.sub(\"[^a-zA-Z\\d%]\", ' ', title).replace(\"\\'\", \"\").replace(\"\\\"\", \"\").replace(\"\\\\\", \"\").strip().replace(\" \", \"_\")) + \\\n",
        "    \" estat:keyword \\\"\" + re.sub(\"[^a-zA-Z\\d%]\", ' ', k).replace(\"\\'\", \"\").replace(\"\\\"\", \"\").replace(\"\\\\\", \"\").strip() + \"\\\"^^xsd:string.\\n\"\n",
        "  \n",
        "  helperTopic = prehelper + helper\n",
        "  f.write(helperTopic)\n",
        "\n",
        "\n",
        "##Insert Type\n",
        "helperType = \"\"\"\n",
        "estatdata:var rdf:type estat:ConceptType.\\n\n",
        "estatdata:var estat:title \\\"VAR\\\"^^xsd:string.\\n\n",
        "estatdata:term rdf:type estat:ConceptType.\\n\n",
        "estatdata:term estat:title \\\"TERM\\\"^^xsd:string.\\n\\n\n",
        "\n",
        "estatdata:information rdf:type estat:InfoType.\\n\n",
        "estatdata:information estat:title \\\"Information\\\"^^xsd:string.\\n\n",
        "estatdata:type rdf:type estat:InfoType.\\n\n",
        "estatdata:type estat:title \\\"Type\\\"^^xsd:string.\\n\\n\n",
        "\n",
        "estatdata:lexicalunitmain rdf:type estat:LexicalType.\\n\n",
        "estatdata:lexicalunitmain estat:title \\\"Lexical Unit Main\\\"^^xsd:string.\\n\n",
        "estatdata:abbreviationallowed rdf:type estat:LexicalType.\\n\n",
        "estatdata:abbreviationallowed estat:title \\\"Abbreviation Allowed\\\"^^xsd:string.\\n\n",
        "estatdata:acronymallowed rdf:type estat:LexicalType.\\n\n",
        "estatdata:acronymallowed estat:title \\\"Acronym Allowed\\\"^^xsd:string.\\n\n",
        "estatdata:syntacticvariantallowed rdf:type estat:LexicalType.\\n\n",
        "estatdata:syntacticvariantallowed estat:title \\\"Syntactic Variant Allowed\\\"^^xsd:string.\\n\\n\n",
        "\n",
        "estatdata:hectares rdf:type estat:MeasurementType.\\n\n",
        "estatdata:hectares estat:title \\\"Hectares\\\"^^xsd:string.\\n\n",
        "estatdata:number rdf:type estat:MeasurementType.\\n\n",
        "estatdata:number estat:title \\\"Number\\\"^^xsd:string.\\n\n",
        "estatdata:percentage rdf:type estat:MeasurementType.\\n\n",
        "estatdata:percentage estat:title \\\"Percentage\\\"^^xsd:string.\\n\n",
        "estatdata:inhabitantspersquarekilometer rdf:type estat:MeasurementType.\\n\n",
        "estatdata:inhabitantspersquarekilometer estat:title \\\"Inhabitants per Square Kilometer\\\"^^xsd:string.\\n\n",
        "estatdata:millionsofeuro rdf:type estat:MeasurementType.\\n\n",
        "estatdata:millionsofeuro estat:title \\\"Millions of Euro\\\"^^xsd:string.\\n\n",
        "estatdata:thousandsoftonnes rdf:type estat:MeasurementType.\\n\n",
        "estatdata:thousandsoftonnes estat:title \\\"Thousands of Tonnes\\\"^^xsd:string.\\n\\n\n",
        "\n",
        "estatdata:notapplicable rdf:type estat:StatisticalType.\\n\n",
        "estatdata:notapplicable estat:title \\\"Not Applicable\\\"^^xsd:string.\\n\n",
        "estatdata:residentunit rdf:type estat:StatisticalType.\\n\n",
        "estatdata:residentunit estat:title \\\"Resident Unit\\\"^^xsd:string.\\n\n",
        "estatdata:individual rdf:type estat:StatisticalType.\\n\n",
        "estatdata:individual estat:title \\\"Individuals\\\"^^xsd:string.\\n\n",
        "estatdata:household rdf:type estat:StatisticalType.\\n\n",
        "estatdata:household estat:title \\\"Households\\\"^^xsd:string.\\n\n",
        "estatdata:accident rdf:type estat:StatisticalType.\\n\n",
        "estatdata:accident estat:title \\\"Accidents\\\"^^xsd:string.\\n\n",
        "estatdata:agriculturalholdingsandordairies rdf:type estat:StatisticalType.\\n\n",
        "estatdata:agriculturalholdingsandordairies estat:title \\\"Agricultural Holdings and/or Dairies\\\"^^xsd:string.\\n\n",
        "estatdata:geographicalarea rdf:type estat:StatisticalType.\\n\n",
        "estatdata:geographicalarea estat:title \\\"Geographical Area\\\"^^xsd:string.\\n\n",
        "estatdata:enterprise rdf:type estat:StatisticalType.\\n\n",
        "estatdata:enterprise estat:title \\Enterprises (Corporations, Institutions)\\\"^^xsd:string.\\n\\n\n",
        "\n",
        "estatdata:current rdf:type estat:StatusType.\\n\n",
        "estatdata:current estat:title \\\"Current\\\"^^xsd:string.\\n\n",
        "estatdata:deprecated rdf:type estat:StatusType.\\n\n",
        "estatdata:deprecated estat:title \\\"Deprecated\\\"^^xsd:string.\\n\\n\n",
        "\"\"\"\n",
        "\n",
        "f.write(helperType)\n",
        "\n",
        "#Insert the terms\n",
        "for name, row in termsEurostat.iterrows():\n",
        "  f.write(\"estatdata:\" + str(re.sub(\"[^a-zA-Z\\d%]\", ' ', row[1]).replace(\"\\'\", \"\").replace(\"\\\"\", \"\").replace(\"\\\\\", \"\").strip().replace(\" \", \"_\")) + \" rdf:type estat:NamedEntity.\\n\" \\\n",
        "          + \"estatdata:\" + str(re.sub(\"[^a-zA-Z\\d%]\", ' ', row[1]).replace(\"\\'\", \"\").replace(\"\\\"\", \"\").replace(\"\\\\\", \"\").strip().replace(\" \", \"_\")) \\\n",
        "          + \" estat:term \\\"\" + str(re.sub(\"[^a-zA-Z\\d%]\", ' ', row[1]).replace(\"\\'\", \"\").replace(\"\\\"\", \"\").replace(\"\\\\\", \"\").strip()) + \"\\\"^^xsd:string.\\n\")\n",
        "  f.write(\"estatdata:\" + str(re.sub(\"[^a-zA-Z\\d%]\", ' ', row[1]).replace(\"\\'\", \"\").replace(\"\\\"\", \"\").replace(\"\\\\\", \"\").strip().replace(\" \", \"_\")) + \" estat:id \\\"\" + str(row[0]) + \"\\\"^^xsd:integer.\\n\")\n",
        "  \n",
        "f.close()"
      ]
    },
    {
      "cell_type": "code",
      "execution_count": 10,
      "metadata": {
        "id": "ozovu8xf_5ZQ"
      },
      "outputs": [],
      "source": [
        "##Load Article to Topics and Topics to Terms \n",
        "query =      \"\"\"SELECT topic_id,term_id,probability FROM ESTAT.V1.tm_values\"\"\"\n",
        "\n",
        "topicsTerms = load_table(cursor,query)\n",
        "\n",
        "query =      \"\"\"SELECT id,article_id,topic_id,probability FROM ESTAT.V1.tm_articles_to_topics\"\"\"\n",
        "\n",
        "articleTopics = load_table(cursor,query)\n",
        "\n",
        "query =      \"\"\"SELECT topic_id,topic_keywords,topic_name FROM ESTAT.V1.tm_topics\"\"\"\n",
        "topicsEurostat = load_table(cursor,query)"
      ]
    },
    {
      "cell_type": "code",
      "execution_count": 11,
      "metadata": {
        "id": "ydIV3xvOA-MU"
      },
      "outputs": [],
      "source": [
        "#Map articles to topics\n",
        "helperTuple = []\n",
        "for name, row in topicsEurostat.iterrows():\n",
        "  helperTuple.append((row[0], row[2].replace(\"\\\"\", \"\").replace(\"\\'\", \"\").replace(\",\", \"\").replace(\"\\\\\", \"\").strip().replace(\" \", \"_\").lower()))\n",
        "\n",
        "f = open(\"termTopicType.ttl\", \"a\")\n",
        "for t in helperTuple:\n",
        "  f.write(\"estatdata:\" + str(re.sub(\"[^a-zA-Z\\d%]\", ' ', t[1]).replace(\"\\'\", \"\").replace(\"\\\"\", \"\").replace(\"\\\\\", \"\").strip().replace(\" \", \"_\").lower()) + \" rdf:type estat:Topic.\\n\")\n",
        "  f.write(\"estatdata:\" + str(re.sub(\"[^a-zA-Z\\d%]\", ' ', t[1]).replace(\"\\'\", \"\").replace(\"\\\"\", \"\").replace(\"\\\\\", \"\").strip().replace(\" \", \"_\").lower()) + \" estat:title \\\"\" + str(re.sub(\"[^a-zA-Z\\d%]\", ' ', t[1]).replace(\"\\'\", \"\").replace(\"\\\"\", \"\").replace(\"\\\\\", \"\").strip()) + \"\\\"^^xsd:string.\\n\")\n",
        "      \n",
        "hashTopics = {}\n",
        "for name, row in articleTopics.iterrows():\n",
        "  if hashTopics.get(row[1]) == None:\n",
        "      hashTopics.setdefault(row[1], []).append((row[2], row[3]))\n",
        "  else:\n",
        "      hashTopics[row[1]].append((row[2], row[3]))\n",
        "\n",
        "for pr in hashTopics:\n",
        "  hashTopics[pr] = sorted(hashTopics[pr], key = lambda x: float(x[1]), reverse = True)[:5]\n",
        "\n",
        "for pr in hashTopics:\n",
        "  for row in hashTopics[pr]:\n",
        "    for t in helperTuple:\n",
        "      if int(t[0]) == int(row[0]):\n",
        "        f.write(\"estatdata:SEArticle\" + str(int(pr)) + \" estat:hasTopic estatdata:\" + str(re.sub(\"[^a-zA-Z\\d%]\", ' ', t[1]).replace(\"\\'\", \"\").replace(\"\\\"\", \"\").replace(\"\\\\\", \"\").strip().replace(\" \", \"_\").lower()) + \".\\n\")\n",
        "f.close()\n",
        "\n",
        "###do the same for terms!!!"
      ]
    },
    {
      "cell_type": "code",
      "source": [
        "print(topicsTerms)"
      ],
      "metadata": {
        "colab": {
          "base_uri": "https://localhost:8080/"
        },
        "id": "MbueRjV8LpQ-",
        "outputId": "866337e0-5071-4900-a9bf-ba5a58b1cb78"
      },
      "execution_count": 12,
      "outputs": [
        {
          "output_type": "stream",
          "name": "stdout",
          "text": [
            "       topic_id  term_id  probability\n",
            "0             0        0     0.000004\n",
            "1             0        1     0.000290\n",
            "2             0        2     0.001547\n",
            "3             0        3     0.000004\n",
            "4             0        4     0.000970\n",
            "...         ...      ...          ...\n",
            "36535        19     1822     0.000003\n",
            "36536        19     1823     0.000003\n",
            "36537        19     1824     0.000003\n",
            "36538        19     1825     0.000003\n",
            "36539        19     1826     0.000003\n",
            "\n",
            "[36540 rows x 3 columns]\n"
          ]
        }
      ]
    },
    {
      "cell_type": "code",
      "execution_count": 22,
      "metadata": {
        "colab": {
          "base_uri": "https://localhost:8080/"
        },
        "id": "Yt4BApMQEolR",
        "outputId": "d618ea61-3adc-45da-f0a8-0a4378ed77fa"
      },
      "outputs": [
        {
          "output_type": "stream",
          "name": "stdout",
          "text": [
            "{0: [255, 254, 628, 408, 1126, 219, 371, 579, 1640, 71, 1013, 151, 872, 242, 311, 426, 415, 793, 857, 1034], 1: [309, 447, 151, 203, 6, 53, 530, 297, 228, 129, 219, 199, 1270, 319, 443, 141, 128, 516, 772, 268], 2: [417, 329, 309, 1119, 187, 641, 303, 238, 160, 189, 872, 647, 530, 164, 765, 135, 1028, 383, 876, 107], 3: [121, 138, 169, 125, 156, 151, 309, 148, 114, 139, 166, 130, 347, 117, 143, 311, 161, 458, 145, 119], 4: [1028, 925, 434, 912, 1100, 159, 91, 1435, 76, 538, 1539, 348, 328, 315, 998, 1149, 1817, 18, 1712, 332], 5: [395, 647, 416, 234, 71, 302, 233, 173, 553, 437, 309, 575, 1398, 311, 91, 510, 653, 524, 295, 942], 6: [71, 242, 233, 192, 793, 371, 254, 1543, 615, 261, 1683, 699, 486, 1069, 322, 301, 255, 66, 792, 306], 7: [173, 0, 91, 41, 647, 233, 71, 29, 54, 148, 1016, 865, 107, 51, 234, 81, 6, 1572, 575, 659], 8: [254, 173, 255, 1137, 912, 695, 348, 305, 371, 1246, 339, 354, 536, 54, 1372, 253, 105, 76, 242, 350], 9: [1182, 864, 489, 442, 1193, 239, 1183, 545, 1350, 834, 261, 255, 1186, 1670, 714, 71, 67, 254, 11, 1013], 10: [91, 1060, 1341, 460, 1258, 1048, 489, 400, 383, 151, 38, 754, 131, 350, 158, 703, 1052, 384, 107, 247], 11: [365, 1143, 359, 917, 1139, 888, 893, 450, 76, 322, 159, 1111, 509, 368, 160, 1237, 569, 725, 311, 348], 12: [420, 708, 898, 302, 315, 311, 305, 303, 1153, 882, 295, 605, 1169, 636, 1028, 1040, 203, 926, 219, 1145], 13: [494, 38, 228, 661, 196, 697, 394, 461, 189, 318, 621, 201, 299, 732, 1103, 503, 330, 190, 880, 638], 14: [575, 416, 1040, 1418, 605, 388, 299, 968, 946, 302, 228, 945, 141, 49, 951, 159, 957, 864, 944, 1452], 15: [463, 377, 484, 366, 67, 437, 396, 98, 1421, 523, 1239, 255, 1477, 71, 391, 841, 1476, 1472, 1473, 1475], 16: [30, 431, 1677, 1760, 478, 1239, 154, 371, 268, 1038, 1515, 1286, 239, 1296, 255, 825, 242, 1035, 1013, 76], 17: [107, 70, 385, 151, 79, 829, 989, 170, 203, 388, 432, 1161, 758, 442, 431, 998, 317, 308, 870, 1376], 18: [305, 1028, 1041, 254, 315, 255, 159, 793, 1027, 1085, 397, 149, 1025, 415, 1644, 912, 76, 1034, 71, 1046], 19: [234, 672, 254, 371, 159, 437, 203, 233, 301, 806, 242, 1266, 281, 76, 298, 414, 699, 425, 136, 71]}\n"
          ]
        }
      ],
      "source": [
        "#Map topics to terms\n",
        "helperTupleTerm = []\n",
        "for name, row in termsEurostat.iterrows():\n",
        "  helperTupleTerm.append((row[0], row[1].replace(\"\\\"\", \"\").replace(\"\\'\", \"\").replace(\",\", \"\").replace(\"\\\\\", \"\").strip().replace(\" \", \"_\").lower()))\n",
        "\n",
        "termTopics = {}\n",
        "for name, row in topicsTerms.iterrows():\n",
        "  if termTopics.get(int(row[0])) == None:\n",
        "      termTopics.setdefault(int(row[0]), []).append((int(row[1]), row[2]))\n",
        "  else:\n",
        "      termTopics[int(row[0])].append((int(row[1]), row[2]))\n",
        "\n",
        "for pr in termTopics:\n",
        "  termTopics[pr] = sorted(termTopics[pr], key = lambda x: float(x[1]), reverse = True)[:20]\n",
        "\n",
        "for pr in termTopics:\n",
        "  helperList = []\n",
        "  for val in termTopics[pr]:\n",
        "    helperList.append(val[0])\n",
        "  termTopics[pr] = helperList\n",
        "\n",
        "print(termTopics)\n",
        "f = open(\"termTopicType.ttl\", \"a\")\n",
        "for pr in termTopics:\n",
        "  for val in termTopics[pr]:\n",
        "    for top in helperTuple:\n",
        "      if top[0] == pr:\n",
        "          topic = top[1]\n",
        "          break\n",
        "    for ter in helperTupleTerm:\n",
        "      if ter[0] == val:\n",
        "        term = ter[1]\n",
        "        break\n",
        "    f.write(\"estatdata:\" + str(re.sub(\"[^a-zA-Z\\d%]\", ' ', topic).replace(\"\\'\", \"\").replace(\"\\\"\", \"\").replace(\"\\\\\", \"\").strip().replace(\" \", \"_\")) + \\\n",
        "    \" estat:hasCODEDTerm estatdata:\" + str(re.sub(\"[^a-zA-Z\\d%]\", ' ', term).replace(\"\\'\", \"\").replace(\"\\\"\", \"\").replace(\"\\\\\", \"\").strip().replace(\" \", \"_\")) + \".\\n\")\n",
        "f.close()\n"
      ]
    }
  ],
  "metadata": {
    "colab": {
      "name": "Eurostat_Populate_Term_Topic_Type.ipynb",
      "provenance": []
    },
    "kernelspec": {
      "display_name": "Python 3",
      "name": "python3"
    },
    "language_info": {
      "name": "python"
    }
  },
  "nbformat": 4,
  "nbformat_minor": 0
}