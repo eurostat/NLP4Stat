{
  "nbformat": 4,
  "nbformat_minor": 0,
  "metadata": {
    "colab": {
      "name": "Eurostat_Populate_Glossary_LinkInfo.ipynb",
      "provenance": [],
      "collapsed_sections": []
    },
    "kernelspec": {
      "name": "python3",
      "display_name": "Python 3"
    },
    "language_info": {
      "name": "python"
    }
  },
  "cells": [
    {
      "cell_type": "code",
      "execution_count": null,
      "metadata": {
        "colab": {
          "base_uri": "https://localhost:8080/"
        },
        "id": "c_OykJU5HiFS",
        "outputId": "9cd35bd7-c1d3-422c-84b7-2f6a47161ae6"
      },
      "outputs": [
        {
          "output_type": "stream",
          "name": "stdout",
          "text": [
            "Mounted at /content/drive\n"
          ]
        }
      ],
      "source": [
        "from google.colab import drive\n",
        "drive.mount('/content/drive')"
      ]
    },
    {
      "cell_type": "code",
      "source": [
        "!pip install pyodbc"
      ],
      "metadata": {
        "colab": {
          "base_uri": "https://localhost:8080/"
        },
        "id": "dEwTSkhFJm-C",
        "outputId": "0b45d0fe-166b-4d89-96c4-de4b4d804629"
      },
      "execution_count": null,
      "outputs": [
        {
          "output_type": "stream",
          "name": "stdout",
          "text": [
            "Looking in indexes: https://pypi.org/simple, https://us-python.pkg.dev/colab-wheels/public/simple/\n",
            "Collecting pyodbc\n",
            "  Downloading pyodbc-4.0.32.tar.gz (280 kB)\n",
            "\u001b[K     |████████████████████████████████| 280 kB 5.9 MB/s \n",
            "\u001b[?25hBuilding wheels for collected packages: pyodbc\n",
            "  Building wheel for pyodbc (setup.py) ... \u001b[?25l\u001b[?25hdone\n",
            "  Created wheel for pyodbc: filename=pyodbc-4.0.32-cp37-cp37m-linux_x86_64.whl size=287375 sha256=7366409550990f3e1ba9bc46f257d077694cf67198de7e7729ae7a9bf4a7c15e\n",
            "  Stored in directory: /root/.cache/pip/wheels/2e/9c/da/8652fd42e0f662015554f00a9e96fe4f438dfd1ef59787879e\n",
            "Successfully built pyodbc\n",
            "Installing collected packages: pyodbc\n",
            "Successfully installed pyodbc-4.0.32\n"
          ]
        }
      ]
    },
    {
      "cell_type": "code",
      "source": [
        "!pip install eurostat"
      ],
      "metadata": {
        "colab": {
          "base_uri": "https://localhost:8080/"
        },
        "id": "Q_pInzRqJoT-",
        "outputId": "3eea9ad8-0b53-462c-8bbc-865abbc98be4"
      },
      "execution_count": null,
      "outputs": [
        {
          "output_type": "stream",
          "name": "stdout",
          "text": [
            "Looking in indexes: https://pypi.org/simple, https://us-python.pkg.dev/colab-wheels/public/simple/\n",
            "Collecting eurostat\n",
            "  Downloading eurostat-0.2.3-py3-none-any.whl (11 kB)\n",
            "Requirement already satisfied: requests in /usr/local/lib/python3.7/dist-packages (from eurostat) (2.23.0)\n",
            "Requirement already satisfied: pandas in /usr/local/lib/python3.7/dist-packages (from eurostat) (1.3.5)\n",
            "Collecting pandasdmx<=0.9\n",
            "  Downloading pandaSDMX-0.9-py2.py3-none-any.whl (45 kB)\n",
            "\u001b[K     |████████████████████████████████| 45 kB 3.1 MB/s \n",
            "\u001b[?25hRequirement already satisfied: lxml in /usr/local/lib/python3.7/dist-packages (from pandasdmx<=0.9->eurostat) (4.2.6)\n",
            "Requirement already satisfied: setuptools in /usr/local/lib/python3.7/dist-packages (from pandasdmx<=0.9->eurostat) (57.4.0)\n",
            "Collecting jsonpath-rw\n",
            "  Downloading jsonpath-rw-1.4.0.tar.gz (13 kB)\n",
            "Collecting ply\n",
            "  Downloading ply-3.11-py2.py3-none-any.whl (49 kB)\n",
            "\u001b[K     |████████████████████████████████| 49 kB 5.9 MB/s \n",
            "\u001b[?25hRequirement already satisfied: decorator in /usr/local/lib/python3.7/dist-packages (from jsonpath-rw->pandasdmx<=0.9->eurostat) (4.4.2)\n",
            "Requirement already satisfied: six in /usr/local/lib/python3.7/dist-packages (from jsonpath-rw->pandasdmx<=0.9->eurostat) (1.15.0)\n",
            "Requirement already satisfied: numpy>=1.17.3 in /usr/local/lib/python3.7/dist-packages (from pandas->eurostat) (1.21.6)\n",
            "Requirement already satisfied: python-dateutil>=2.7.3 in /usr/local/lib/python3.7/dist-packages (from pandas->eurostat) (2.8.2)\n",
            "Requirement already satisfied: pytz>=2017.3 in /usr/local/lib/python3.7/dist-packages (from pandas->eurostat) (2022.1)\n",
            "Requirement already satisfied: idna<3,>=2.5 in /usr/local/lib/python3.7/dist-packages (from requests->eurostat) (2.10)\n",
            "Requirement already satisfied: certifi>=2017.4.17 in /usr/local/lib/python3.7/dist-packages (from requests->eurostat) (2022.6.15)\n",
            "Requirement already satisfied: urllib3!=1.25.0,!=1.25.1,<1.26,>=1.21.1 in /usr/local/lib/python3.7/dist-packages (from requests->eurostat) (1.24.3)\n",
            "Requirement already satisfied: chardet<4,>=3.0.2 in /usr/local/lib/python3.7/dist-packages (from requests->eurostat) (3.0.4)\n",
            "Building wheels for collected packages: jsonpath-rw\n",
            "  Building wheel for jsonpath-rw (setup.py) ... \u001b[?25l\u001b[?25hdone\n",
            "  Created wheel for jsonpath-rw: filename=jsonpath_rw-1.4.0-py3-none-any.whl size=15147 sha256=83fe0d74edfaf18a21453598b8cde3f995b71c8a4e8224cec6e7c5d1e53fecf7\n",
            "  Stored in directory: /root/.cache/pip/wheels/58/88/2a/8d619cf38d7cf939e54b6ccdece05d31b64b3eb419c11d1ed3\n",
            "Successfully built jsonpath-rw\n",
            "Installing collected packages: ply, jsonpath-rw, pandasdmx, eurostat\n",
            "Successfully installed eurostat-0.2.3 jsonpath-rw-1.4.0 pandasdmx-0.9 ply-3.11\n"
          ]
        }
      ]
    },
    {
      "cell_type": "code",
      "source": [
        "!apt-get install virtuoso-opensource"
      ],
      "metadata": {
        "colab": {
          "base_uri": "https://localhost:8080/"
        },
        "id": "aMJz_H4nJpqg",
        "outputId": "e5b870de-82a7-489d-de21-5a4d3539af67"
      },
      "execution_count": null,
      "outputs": [
        {
          "output_type": "stream",
          "name": "stdout",
          "text": [
            "Reading package lists... Done\n",
            "Building dependency tree       \n",
            "Reading state information... Done\n",
            "The following package was automatically installed and is no longer required:\n",
            "  libnvidia-common-460\n",
            "Use 'apt autoremove' to remove it.\n",
            "The following additional packages will be installed:\n",
            "  libvirtodbc0 virtuoso-opensource-6.1 virtuoso-opensource-6.1-bin\n",
            "  virtuoso-opensource-6.1-common virtuoso-server virtuoso-vad-conductor\n",
            "  virtuoso-vsp-startpage\n",
            "Suggested packages:\n",
            "  virtuoso-vad-doc virtuoso-vad-demo virtuoso-vad-tutorial\n",
            "  virtuoso-vad-rdfmappers virtuoso-vad-sparqldemo virtuoso-vad-syncml\n",
            "  virtuoso-vad-bpel virtuoso-vad-isparql virtuoso-vad-ods virtuoso-vad-dbpedia\n",
            "  virtuoso-vad-facetedbrowser\n",
            "The following NEW packages will be installed:\n",
            "  libvirtodbc0 virtuoso-opensource virtuoso-opensource-6.1\n",
            "  virtuoso-opensource-6.1-bin virtuoso-opensource-6.1-common virtuoso-server\n",
            "  virtuoso-vad-conductor virtuoso-vsp-startpage\n",
            "0 upgraded, 8 newly installed, 0 to remove and 49 not upgraded.\n",
            "Need to get 4,835 kB of archives.\n",
            "After this operation, 27.5 MB of additional disk space will be used.\n",
            "Get:1 http://archive.ubuntu.com/ubuntu bionic/universe amd64 virtuoso-opensource-6.1-common amd64 6.1.6+repack-0ubuntu9 [45.0 kB]\n",
            "Get:2 http://archive.ubuntu.com/ubuntu bionic/universe amd64 virtuoso-opensource-6.1-bin amd64 6.1.6+repack-0ubuntu9 [2,831 kB]\n",
            "Get:3 http://archive.ubuntu.com/ubuntu bionic/universe amd64 libvirtodbc0 amd64 6.1.6+repack-0ubuntu9 [259 kB]\n",
            "Get:4 http://archive.ubuntu.com/ubuntu bionic/universe amd64 virtuoso-opensource-6.1 amd64 6.1.6+repack-0ubuntu9 [163 kB]\n",
            "Get:5 http://archive.ubuntu.com/ubuntu bionic/universe amd64 virtuoso-opensource all 6.1.6+repack-0ubuntu9 [33.3 kB]\n",
            "Get:6 http://archive.ubuntu.com/ubuntu bionic/universe amd64 virtuoso-vad-conductor all 6.1.6+repack-0ubuntu9 [1,044 kB]\n",
            "Get:7 http://archive.ubuntu.com/ubuntu bionic/universe amd64 virtuoso-vsp-startpage all 6.1.6+repack-0ubuntu9 [428 kB]\n",
            "Get:8 http://archive.ubuntu.com/ubuntu bionic/universe amd64 virtuoso-server all 6.1.6+repack-0ubuntu9 [31.0 kB]\n",
            "Fetched 4,835 kB in 0s (30.0 MB/s)\n",
            "Preconfiguring packages ...\n",
            "Selecting previously unselected package virtuoso-opensource-6.1-common.\n",
            "(Reading database ... 155639 files and directories currently installed.)\n",
            "Preparing to unpack .../0-virtuoso-opensource-6.1-common_6.1.6+repack-0ubuntu9_amd64.deb ...\n",
            "Unpacking virtuoso-opensource-6.1-common (6.1.6+repack-0ubuntu9) ...\n",
            "Selecting previously unselected package virtuoso-opensource-6.1-bin.\n",
            "Preparing to unpack .../1-virtuoso-opensource-6.1-bin_6.1.6+repack-0ubuntu9_amd64.deb ...\n",
            "Unpacking virtuoso-opensource-6.1-bin (6.1.6+repack-0ubuntu9) ...\n",
            "Selecting previously unselected package libvirtodbc0.\n",
            "Preparing to unpack .../2-libvirtodbc0_6.1.6+repack-0ubuntu9_amd64.deb ...\n",
            "Unpacking libvirtodbc0 (6.1.6+repack-0ubuntu9) ...\n",
            "Selecting previously unselected package virtuoso-opensource-6.1.\n",
            "Preparing to unpack .../3-virtuoso-opensource-6.1_6.1.6+repack-0ubuntu9_amd64.deb ...\n",
            "Unpacking virtuoso-opensource-6.1 (6.1.6+repack-0ubuntu9) ...\n",
            "Selecting previously unselected package virtuoso-opensource.\n",
            "Preparing to unpack .../4-virtuoso-opensource_6.1.6+repack-0ubuntu9_all.deb ...\n",
            "Unpacking virtuoso-opensource (6.1.6+repack-0ubuntu9) ...\n",
            "Selecting previously unselected package virtuoso-vad-conductor.\n",
            "Preparing to unpack .../5-virtuoso-vad-conductor_6.1.6+repack-0ubuntu9_all.deb ...\n",
            "Unpacking virtuoso-vad-conductor (6.1.6+repack-0ubuntu9) ...\n",
            "Selecting previously unselected package virtuoso-vsp-startpage.\n",
            "Preparing to unpack .../6-virtuoso-vsp-startpage_6.1.6+repack-0ubuntu9_all.deb ...\n",
            "Unpacking virtuoso-vsp-startpage (6.1.6+repack-0ubuntu9) ...\n",
            "Selecting previously unselected package virtuoso-server.\n",
            "Preparing to unpack .../7-virtuoso-server_6.1.6+repack-0ubuntu9_all.deb ...\n",
            "Unpacking virtuoso-server (6.1.6+repack-0ubuntu9) ...\n",
            "Setting up virtuoso-opensource-6.1-bin (6.1.6+repack-0ubuntu9) ...\n",
            "Setting up virtuoso-opensource-6.1-common (6.1.6+repack-0ubuntu9) ...\n",
            "Setting up libvirtodbc0 (6.1.6+repack-0ubuntu9) ...\n",
            "Setting up virtuoso-opensource-6.1 (6.1.6+repack-0ubuntu9) ...\n",
            "invoke-rc.d: could not determine current runlevel\n",
            "invoke-rc.d: policy-rc.d denied execution of start.\n",
            "Setting up virtuoso-opensource (6.1.6+repack-0ubuntu9) ...\n",
            "Setting up virtuoso-server (6.1.6+repack-0ubuntu9) ...\n",
            "Setting up virtuoso-vad-conductor (6.1.6+repack-0ubuntu9) ...\n",
            "Setting up virtuoso-vsp-startpage (6.1.6+repack-0ubuntu9) ...\n",
            "Processing triggers for man-db (2.8.3-2ubuntu0.1) ...\n",
            "Processing triggers for systemd (237-3ubuntu10.53) ...\n"
          ]
        }
      ]
    },
    {
      "cell_type": "code",
      "source": [
        "import gensim\n",
        "import pandas as pd\n",
        "import numpy as np\n",
        "import re\n",
        "import pyodbc\n",
        "\n",
        "c = pyodbc.connect('DRIVER=/usr/lib/odbc/virtodbc.so;HOST=lod.csd.auth.gr:1111;UID=kimon;PWD=RkhvQYZ442e2JVXLHdtW;DATABASE=ESTAT')\n",
        "#set encoding\n",
        "c.setdecoding(pyodbc.SQL_CHAR, encoding='latin-1')\n",
        "c.setencoding(encoding=\"latin-1\")\n",
        "cursor = c.cursor()\n",
        "\n",
        "\n",
        "def load_table(cursor,query):\n",
        "  cursor.execute(query)\n",
        "  t1 = cursor.fetchall()\n",
        "  df = pd.DataFrame.from_records(t1, columns=[x[0] for x in cursor.description])\n",
        "  return df\n",
        "\n",
        "#Glossary\n",
        "query =      \"\"\"SELECT id,order_id,code_id,term,ramon_cat_id,concept_type_id,definition,context,remark FROM ESTAT.V1.dat_estat_glossary\"\"\"\n",
        "\n",
        "EstatGlossary = load_table(cursor,query)"
      ],
      "metadata": {
        "id": "0NP5AUUCJraG"
      },
      "execution_count": null,
      "outputs": []
    },
    {
      "cell_type": "code",
      "source": [
        "#Glossary CODEDTerm mapping\n",
        "f = open(\"glossaryLink.ttl\", \"a\")\n",
        "for name, row in EstatGlossary.iterrows():\n",
        "  helperGlossary = \"\"\n",
        "  id, term, definition, context, remark = row[0], row[3].replace(\"\\\"\", \"\").replace(\"\\'\", \"\"), row[6].replace(\"\\\"\", \"\").replace(\"\\'\", \"\"), row[7].replace(\"\\\"\", \"\").replace(\"\\'\", \"\"), row[8].replace(\"\\\"\", \"\").replace(\"\\'\", \"\")\n",
        "  f.write(\"estatdata:glossaryterm\" + str(id) + \" rdf:type estat:CODEDTerm.\\n\") \n",
        "  definition = str(re.sub(\"[^a-zA-Z\\d%]\", ' ', definition).replace(\"\\'\", \"\").replace(\"\\\"\", \"\").replace(\"\\\\\", \"\").strip())\n",
        "  if term != \"\":\n",
        "    term = str(re.sub(\"[^a-zA-Z\\d%]\", ' ', term).replace(\"\\'\", \"\").replace(\"\\\"\", \"\").replace(\"\\\\\", \"\").strip())\n",
        "    f.write(\"estatdata:glossaryterm\" + str(id) + \" estat:term \\\"\" + term + \"\\\"^^xsd:string.\\n\")\n",
        "  if definition != \"\":\n",
        "    f.write(\"estatdata:glossaryterm\" + str(id) + \" estat:definition \\\"\" + definition + \"\\\"^^xsd:string.\\n\")\n",
        "  context = str(re.sub(\"[^a-zA-Z\\d%]\", ' ', context).replace(\"\\'\", \"\").replace(\"\\\"\", \"\").replace(\"\\\\\", \"\").strip())\n",
        "  if  context != \"\":\n",
        "    f.write(\"estatdata:glossaryterm\" + str(id) + \" estat:context \\\"\" + context + \"\\\"^^xsd:string.\\n\")\n",
        "  remerk = str(re.sub(\"[^a-zA-Z\\d%]\", ' ', remark).replace(\"\\'\", \"\").replace(\"\\\"\", \"\").replace(\"\\\\\", \"\").strip())\n",
        "  if remark != \"\":\n",
        "    f.write(\"estatdata:glossaryTerm\" + str(id) + \" estat:remark \\\"\" + remark + \"\\\"^^xsd:string.\\n\")\n",
        "f.close()"
      ],
      "metadata": {
        "id": "kKfYrC0XO8XM"
      },
      "execution_count": null,
      "outputs": []
    },
    {
      "cell_type": "code",
      "source": [
        "#Link and shared link\n",
        "query =      \"\"\"SELECT id,title,url,resource_information_id,resource_type_id FROM ESTAT.V1.dat_link_info\"\"\"\n",
        "\n",
        "linkInfo = load_table(cursor,query)\n",
        "\n",
        "query =      \"\"\"SELECT id,article_id,link_id,article_division_id FROM ESTAT.V1.dat_article_shared_link\"\"\"\n",
        "\n",
        "articleSharedLink = load_table(cursor,query)"
      ],
      "metadata": {
        "id": "yvdliqqKK32M"
      },
      "execution_count": null,
      "outputs": []
    },
    {
      "cell_type": "code",
      "source": [
        "query = \"\"\"select \"ESTAT\".\"V1\".\"dat_article\".\"id\", \"ESTAT\".\"V1\".\"dat_article\".\"context\", \"ESTAT\".\"V1\".\"dat_article\".\"data_sources\", \"ESTAT\".\"V1\".\"dat_article\".\"background_article\", \"ESTAT\".\"V1\".\"dat_article\".\"homepage\", \"ESTAT\".\"V1\".\"dat_link_info\".\"id\", \"ESTAT\".\"V1\".\"dat_link_info\".\"title\", \"ESTAT\".\"V1\".\"dat_link_info\".\"url\", \"ESTAT\".\"V1\".\"dat_link_info\".\"resource_information_id\", \"ESTAT\".\"V1\".\"dat_link_info\".\"resource_type_id\" from ( \"ESTAT\".\"V1\".\"dat_article\" left outer join \"ESTAT\".\"V1\".\"dat_link_info\" on \"ESTAT\".\"V1\".\"dat_article\".\"id\" = \"ESTAT\".\"V1\".\"dat_link_info\".\"id\" )\"\"\"\n",
        "explainedArticleTitles = load_table(cursor,query)\n",
        "\n",
        "query = \"\"\"select \"ESTAT\".\"V1\".\"dat_glossary\".\"id\", \"ESTAT\".\"V1\".\"dat_glossary\".\"definition\", \"ESTAT\".\"V1\".\"dat_glossary\".\"redirection\", \"ESTAT\".\"V1\".\"dat_glossary\".\"original_title\", \"ESTAT\".\"V1\".\"dat_glossary\".\"homepage\", \"ESTAT\".\"V1\".\"dat_glossary\".\"editorial_note\", \"ESTAT\".\"V1\".\"dat_glossary\".\"change_note\", \"ESTAT\".\"V1\".\"dat_glossary\".\"scope_note\", \"ESTAT\".\"V1\".\"dat_glossary\".\"example\", \"ESTAT\".\"V1\".\"dat_glossary\".\"history_note\", \"ESTAT\".\"V1\".\"dat_link_info\".\"id\", \"ESTAT\".\"V1\".\"dat_link_info\".\"title\", \"ESTAT\".\"V1\".\"dat_link_info\".\"url\", \"ESTAT\".\"V1\".\"dat_link_info\".\"resource_information_id\", \"ESTAT\".\"V1\".\"dat_link_info\".\"resource_type_id\" from ( \"ESTAT\".\"V1\".\"dat_glossary\" left outer join \"ESTAT\".\"V1\".\"dat_link_info\" on \"ESTAT\".\"V1\".\"dat_glossary\".\"id\" = \"ESTAT\".\"V1\".\"dat_link_info\".\"id\" )\"\"\"\n",
        "glossaryArticlesTitle = load_table(cursor,query)"
      ],
      "metadata": {
        "id": "Z4RovFq6HOyA"
      },
      "execution_count": null,
      "outputs": []
    },
    {
      "cell_type": "code",
      "source": [
        "listIDsSE = []\n",
        "for name, row in explainedArticleTitles.iterrows():\n",
        "  listIDsSE.append((row[5],row[7]))\n",
        "\n",
        "listIDsGL = []\n",
        "for name, row in glossaryArticlesTitle.iterrows():\n",
        "  listIDsGL.append((row[0],row[12]))"
      ],
      "metadata": {
        "id": "l60vdcgyHXdA"
      },
      "execution_count": null,
      "outputs": []
    },
    {
      "cell_type": "code",
      "source": [
        "##statistical explained reference \n",
        "listLinks = []\n",
        "for name, row in linkInfo.iterrows():\n",
        "  title = str(re.sub(\"[^a-zA-Z\\d%]\", ' ', row[1]).replace(\"\\'\", \"\").replace(\"\\\"\", \"\").replace(\"\\\\\", \"\").strip())\n",
        "  listLinks.append((title, row[2], row[3], row[0]))\n",
        "\n",
        "\n",
        "f = open(\"glossaryLink2.ttl\", \"a\")\n",
        "for name, row in articleSharedLink.iterrows():\n",
        "  for helper in listLinks:\n",
        "    if row[2] == helper[3]:\n",
        "      if listLinks[int(row[2] - 1)][0] != \"\":\n",
        "        \n",
        "        if int(row[3]) ==  0:\n",
        "          f.write(\"estatdata:reference\" + str(row[0]) + \" rdf:type estatdata:SEAReference.\\n\")\n",
        "          f.write(\"estatdata:reference\" + str(row[0]) + \" estat:title \\\"\" + listLinks[int(row[2] - 1)][0]  + \"\\\"^^xsd:string.\\n\")\n",
        "          f.write(\"estatdata:reference\" + str(row[0]) + \" estat:hasURL \\\"\" + listLinks[int(row[2] - 1)][1] + \"\\\"^^xsd:anyURI.\\n\")\n",
        "          f.write(\"estatdata:SEArticle\" + str(row[1]) + \" estat:hasReference estatdata:reference\" + str(row[0]) + \".\\n\")\n",
        "          if str(listLinks[int(row[2] - 1)][2]) == \"1\":\n",
        "            if \"index.php?title=Glossary:\" in listLinks[int(row[2] - 1)][1]:\n",
        "              for url in listIDsGL:\n",
        "                if str(url[1]) == str(listLinks[int(row[2] - 1)][1]):\n",
        "                  f.write(\"estatdata:reference\" + str(row[0]) + \" estat:hasURI estatdata:glossaryArticle\" + str(url[0]) + \".\\n\")\n",
        "            else:\n",
        "              for url in listIDsSE:\n",
        "                if str(url[1]) == str(listLinks[int(row[2] - 1)][1]):\n",
        "                  f.write(\"estatdata:reference\" + str(row[0]) + \" estat:hasURI estatdata:SEArticle\" + str(url[0]) +\".\\n\")\n",
        "\n",
        "        elif int(row[3]) ==  1:\n",
        "          f.write(\"estatdata:reference\" + str(row[0]) + \" rdf:type estat:Excel.\\n\")\n",
        "          f.write(\"estatdata:reference\" + str(row[0]) + \" estat:title \\\"\" + listLinks[int(row[2] - 1)][0]  + \"\\\"^^xsd:string.\\n\")\n",
        "          f.write(\"estatdata:reference\" + str(row[0]) + \" estat:hasURL \\\"\" + listLinks[int(row[2] - 1)][1] + \"\\\"^^xsd:anyURI.\\n\")\n",
        "          f.write(\"estatdata:SEArticle\" + str(row[1]) + \" estat:hasReference estatdata:reference\" + str(row[0]) + \".\\n\")\n",
        "          if str(listLinks[int(row[2] - 1)][2]) == \"1\":        \n",
        "            if \"index.php?title=Glossary:\" in listLinks[int(row[2] - 1)][1]:\n",
        "              for url in listIDsGL:\n",
        "                if str(url[1]) == str(listLinks[int(row[2] - 1)][1]):\n",
        "                  f.write(\"estatdata:reference\" + str(row[0]) + \" estat:hasURI estatdata:glossaryArticle\" + str(url[0]) + \".\\n\")\n",
        "            else:\n",
        "              for url in listIDsSE:\n",
        "                if str(url[1]) == str(listLinks[int(row[2] - 1)][1]):\n",
        "                  f.write(\"estatdata:reference\" + str(row[0]) + \" estat:hasURI estatdata:SEArticle\" + str(url[0]) +\".\\n\")\n",
        "\n",
        "        elif int(row[3]) ==  2:\n",
        "          f.write(\"estatdata:reference\" + str(row[0]) + \" rdf:type estat:OtherArticle.\\n\")\n",
        "          f.write(\"estatdata:reference\" + str(row[0]) + \" estat:title \\\"\" + listLinks[int(row[2] - 1)][0]  + \"\\\"^^xsd:string.\\n\")\n",
        "          f.write(\"estatdata:reference\" + str(row[0]) + \" estat:hasURL \\\"\" + listLinks[int(row[2] - 1)][1] + \"\\\"^^xsd:anyURI.\\n\")\n",
        "          f.write(\"estatdata:SEArticle\" + str(row[1]) + \" estat:hasReference estatdata:reference\" + str(row[0]) + \".\\n\")\n",
        "          if str(listLinks[int(row[2] - 1)][2]) == \"1\":                \n",
        "            if \"index.php?title=Glossary:\" in listLinks[int(row[2] - 1)][1]:\n",
        "              for url in listIDsGL:\n",
        "                if str(url[1]) == str(listLinks[int(row[2] - 1)][1]):\n",
        "                  f.write(\"estatdata:reference\" + str(row[0]) + \" estat:hasURI estatdata:glossaryArticle\" + str(url[0]) + \".\\n\")\n",
        "            else:\n",
        "              for url in listIDsSE:\n",
        "                if str(url[1]) == str(listLinks[int(row[2] - 1)][1]):\n",
        "                  f.write(\"estatdata:reference\" + str(row[0]) + \" estat:hasURI estatdata:SEArticle\" + str(url[0]) +\".\\n\")\n",
        "\n",
        "        elif int(row[3]) ==  3:\n",
        "          f.write(\"estatdata:reference\" + str(row[0]) + \" rdf:type estat:Table.\\n\")\n",
        "          f.write(\"estatdata:reference\" + str(row[0]) + \" estat:title \\\"\" + listLinks[int(row[2] - 1)][0]  + \"\\\"^^xsd:string.\\n\")\n",
        "          f.write(\"estatdata:reference\" + str(row[0]) + \" estat:hasURL \\\"\" + listLinks[int(row[2] - 1)][1] + \"\\\"^^xsd:anyURI.\\n\")\n",
        "          f.write(\"estatdata:SEArticle\" + str(row[1]) + \" estat:hasReference estatdata:reference\" + str(row[0]) + \".\\n\")\n",
        "          if str(listLinks[int(row[2] - 1)][2]) == \"1\":        \n",
        "            if \"index.php?title=Glossary:\" in listLinks[int(row[2] - 1)][1]:\n",
        "              for url in listIDsGL:\n",
        "                if str(url[1]) == str(listLinks[int(row[2] - 1)][1]):\n",
        "                  f.write(\"estatdata:reference\" + str(row[0]) + \" estat:hasURI estatdata:glossaryArticle\" + str(url[0]) + \".\\n\")\n",
        "            else:\n",
        "              for url in listIDsSE:\n",
        "                if str(url[1]) == str(listLinks[int(row[2] - 1)][1]):\n",
        "                  f.write(\"estatdata:reference\" + str(row[0]) + \" estat:hasURI estatdata:SEArticle\" + str(url[0]) +\".\\n\")\n",
        "\n",
        "        elif int(row[3]) ==  4:\n",
        "          f.write(\"estatdata:reference\" + str(row[0]) + \" rdf:type estat:Database.\\n\")\n",
        "          f.write(\"estatdata:reference\" + str(row[0]) + \" estat:title \\\"\" + listLinks[int(row[2] - 1)][0]  + \"\\\"^^xsd:string.\\n\")\n",
        "          f.write(\"estatdata:reference\" + str(row[0]) + \" estat:hasURL \\\"\" + listLinks[int(row[2] - 1)][1] + \"\\\"^^xsd:anyURI.\\n\")\n",
        "          f.write(\"estatdata:SEArticle\" + str(row[1]) + \" estat:hasReference estatdata:reference\" + str(row[0]) + \".\\n\")\n",
        "          if str(listLinks[int(row[2] - 1)][2]) == \"1\":        \n",
        "            if \"index.php?title=Glossary:\" in listLinks[int(row[2] - 1)][1]:\n",
        "              for url in listIDsGL:\n",
        "                if str(url[1]) == str(listLinks[int(row[2] - 1)][1]):\n",
        "                  f.write(\"estatdata:reference\" + str(row[0]) + \" estat:hasURI estatdata:glossaryArticle\" + str(url[0]) + \".\\n\")\n",
        "            else:\n",
        "              for url in listIDsSE:\n",
        "                if str(url[1]) == str(listLinks[int(row[2] - 1)][1]):\n",
        "                  f.write(\"estatdata:reference\" + str(row[0]) + \" estat:hasURI estatdata:SEArticle\" + str(url[0]) +\".\\n\")\n",
        "\n",
        "        elif int(row[3]) ==  5:\n",
        "          f.write(\"estatdata:reference\" + str(row[0]) + \" rdf:type estat:DedicatedSection.\\n\")\n",
        "          f.write(\"estatdata:reference\" + str(row[0]) + \" estat:title \\\"\" + listLinks[int(row[2] - 1)][0]  + \"\\\"^^xsd:string.\\n\")\n",
        "          f.write(\"estatdata:reference\" + str(row[0]) + \" estat:hasURL \\\"\" + listLinks[int(row[2] - 1)][1] + \"\\\"^^xsd:anyURI.\\n\")\n",
        "          f.write(\"estatdata:SEArticle\" + str(row[1]) + \" estat:hasReference estatdata:reference\" + str(row[0]) + \".\\n\")\n",
        "          if str(listLinks[int(row[2] - 1)][2]) == \"1\":        \n",
        "            if \"index.php?title=Glossary:\" in listLinks[int(row[2] - 1)][1]:\n",
        "              for url in listIDsGL:\n",
        "                if str(url[1]) == str(listLinks[int(row[2] - 1)][1]):\n",
        "                  f.write(\"estatdata:reference\" + str(row[0]) + \" estat:hasURI estatdata:glossaryArticle\" + str(url[0]) + \".\\n\")\n",
        "            else:\n",
        "              for url in listIDsSE:\n",
        "                if str(url[1]) == str(listLinks[int(row[2] - 1)][1]):\n",
        "                  f.write(\"estatdata:reference\" + str(row[0]) + \" estat:hasURI estatdata:SEArticle\" + str(url[0]) +\".\\n\")\n",
        "\n",
        "        elif int(row[3]) ==  6:\n",
        "          f.write(\"estatdata:reference\" + str(row[0]) + \" rdf:type estat:Publication.\\n\")\n",
        "          f.write(\"estatdata:reference\" + str(row[0]) + \" estat:title \\\"\" + listLinks[int(row[2] - 1)][0]  + \"\\\"^^xsd:string.\\n\")\n",
        "          f.write(\"estatdata:reference\" + str(row[0]) + \" estat:hasURL \\\"\" + listLinks[int(row[2] - 1)][1] + \"\\\"^^xsd:anyURI.\\n\")\n",
        "          f.write(\"estatdata:SEArticle\" + str(row[1]) + \" estat:hasReference estatdata:reference\" + str(row[0]) + \".\\n\")\n",
        "          if str(listLinks[int(row[2] - 1)][2]) == \"1\":        \n",
        "            if \"index.php?title=Glossary:\" in listLinks[int(row[2] - 1)][1]:\n",
        "              for url in listIDsGL:\n",
        "                if str(url[1]) == str(listLinks[int(row[2] - 1)][1]):\n",
        "                  f.write(\"estatdata:reference\" + str(row[0]) + \" estat:hasURI estatdata:glossaryArticle\" + str(url[0]) + \".\\n\")\n",
        "            else:\n",
        "              for url in listIDsSE:\n",
        "                if str(url[1]) == str(listLinks[int(row[2] - 1)][1]):\n",
        "                  f.write(\"estatdata:reference\" + str(row[0]) + \" estat:hasURI estatdata:SEArticle\" + str(url[0]) +\".\\n\")\n",
        "\n",
        "        elif int(row[3]) ==  7:\n",
        "          f.write(\"estatdata:reference\" + str(row[0]) + \" rdf:type estat:Methodology.\\n\")\n",
        "          f.write(\"estatdata:reference\" + str(row[0]) + \" estat:title \\\"\" + listLinks[int(row[2] - 1)][0]  + \"\\\"^^xsd:string.\\n\")\n",
        "          f.write(\"estatdata:reference\" + str(row[0]) + \" estat:hasURL \\\"\" + listLinks[int(row[2] - 1)][1] + \"\\\"^^xsd:anyURI.\\n\")\n",
        "          f.write(\"estatdata:SEArticle\" + str(row[1]) + \" estat:hasReference estatdata:reference\" + str(row[0]) + \".\\n\")\n",
        "          if str(listLinks[int(row[2] - 1)][2]) == \"1\":        \n",
        "            if \"index.php?title=Glossary:\" in listLinks[int(row[2] - 1)][1]:\n",
        "              for url in listIDsGL:\n",
        "                if str(url[1]) == str(listLinks[int(row[2] - 1)][1]):\n",
        "                  f.write(\"estatdata:reference\" + str(row[0]) + \" estat:hasURI estatdata:glossaryArticle\" + str(url[0]) + \".\\n\")\n",
        "            else:\n",
        "              for url in listIDsSE:\n",
        "                if str(url[1]) == str(listLinks[int(row[2] - 1)][1]):\n",
        "                  f.write(\"estatdata:reference\" + str(row[0]) + \" estat:hasURI estatdata:SEArticle\" + str(url[0]) +\".\\n\")\n",
        "\n",
        "        elif int(row[3]) ==  8:\n",
        "          f.write(\"estatdata:reference\" + str(row[0]) + \" rdf:type estat:Legislation.\\n\")\n",
        "          f.write(\"estatdata:reference\" + str(row[0]) + \" estat:title \\\"\" + listLinks[int(row[2] - 1)][0]  + \"\\\"^^xsd:string.\\n\")\n",
        "          f.write(\"estatdata:reference\" + str(row[0]) + \" estat:hasURL \\\"\" + listLinks[int(row[2] - 1)][1] + \"\\\"^^xsd:anyURI.\\n\")\n",
        "          f.write(\"estatdata:SEArticle\" + str(row[1]) + \" estat:hasReference estatdata:reference\" + str(row[0]) + \".\\n\")\n",
        "          if str(listLinks[int(row[2] - 1)][2]) == \"1\":        \n",
        "            if \"index.php?title=Glossary:\" in listLinks[int(row[2] - 1)][1]:\n",
        "              for url in listIDsGL:\n",
        "                if str(url[1]) == str(listLinks[int(row[2] - 1)][1]):\n",
        "                  f.write(\"estatdata:reference\" + str(row[0]) + \" estat:hasURI estatdata:glossaryArticle\" + str(url[0]) + \".\\n\")\n",
        "            else:\n",
        "              for url in listIDsSE:\n",
        "                if str(url[1]) == str(listLinks[int(row[2] - 1)][1]):\n",
        "                  f.write(\"estatdata:reference\" + str(row[0]) + \" estat:hasURI estatdata:SEArticle\" + str(url[0]) +\".\\n\")\n",
        "\n",
        "        elif int(row[3]) ==  9:\n",
        "          f.write(\"estatdata:reference\" + str(row[0]) + \" rdf:type estat:Visualization.\\n\")\n",
        "          f.write(\"estatdata:reference\" + str(row[0]) + \" estat:title \\\"\" + listLinks[int(row[2] - 1)][0]  + \"\\\"^^xsd:string.\\n\")\n",
        "          f.write(\"estatdata:reference\" + str(row[0]) + \" estat:hasURL \\\"\" + listLinks[int(row[2] - 1)][1] + \"\\\"^^xsd:anyURI.\\n\")\n",
        "          f.write(\"estatdata:SEArticle\" + str(row[1]) + \" estat:hasReference estatdata:reference\" + str(row[0]) + \".\\n\")\n",
        "          if str(listLinks[int(row[2] - 1)][2]) == \"1\":        \n",
        "            if \"index.php?title=Glossary:\" in listLinks[int(row[2] - 1)][1]:\n",
        "              for url in listIDsGL:\n",
        "                if str(url[1]) == str(listLinks[int(row[2] - 1)][1]):\n",
        "                  f.write(\"estatdata:reference\" + str(row[0]) + \" estat:hasURI estatdata:glossaryArticle\" + str(url[0]) + \".\\n\")\n",
        "            else:\n",
        "              for url in listIDsSE:\n",
        "                if str(url[1]) == str(listLinks[int(row[2] - 1)][1]):\n",
        "                  f.write(\"estatdata:reference\" + str(row[0]) + \" estat:hasURI estatdata:SEArticle\" + str(url[0]) +\".\\n\")\n",
        "\n",
        "        elif int(row[3]) ==  10:\n",
        "          f.write(\"estatdata:reference\" + str(row[0]) + \" rdf:type estat:ExternalLink.\\n\")\n",
        "          f.write(\"estatdata:reference\" + str(row[0]) + \" estat:title \\\"\" + listLinks[int(row[2] - 1)][0]  + \"\\\"^^xsd:string.\\n\")\n",
        "          f.write(\"estatdata:reference\" + str(row[0]) + \" estat:hasURL \\\"\" + listLinks[int(row[2] - 1)][1] + \"\\\"^^xsd:anyURI.\\n\")\n",
        "          f.write(\"estatdata:SEArticle\" + str(row[1]) + \" estat:hasReference estatdata:reference\" + str(row[0]) + \".\\n\")\n",
        "          if str(listLinks[int(row[2] - 1)][2]) == \"1\":        \n",
        "            if \"index.php?title=Glossary:\" in listLinks[int(row[2] - 1)][1]:\n",
        "              for url in listIDsGL:\n",
        "                if str(url[1]) == str(listLinks[int(row[2] - 1)][1]):\n",
        "                  f.write(\"estatdata:reference\" + str(row[0]) + \" estat:hasURI estatdata:glossaryArticle\" + str(url[0]) + \".\\n\")\n",
        "            else:\n",
        "              for url in listIDsSE:\n",
        "                if str(url[1]) == str(listLinks[int(row[2] - 1)][1]):\n",
        "                  f.write(\"estatdata:reference\" + str(row[0]) + \" estat:hasURI estatdata:SEArticle\" + str(url[0]) +\".\\n\")\n",
        "\n",
        "f.close()\n",
        " "
      ],
      "metadata": {
        "id": "s7KPmz1sxyT1"
      },
      "execution_count": null,
      "outputs": []
    },
    {
      "cell_type": "code",
      "source": [
        "query =      \"\"\"SELECT id,glossary_id,link_id FROM ESTAT.V1.dat_further_info\"\"\"\n",
        "\n",
        "furtherInfo = load_table(cursor,query)\n",
        "\n",
        "query =      \"\"\"SELECT id,glossary_id,link_id FROM ESTAT.V1.dat_sources\"\"\"\n",
        "\n",
        "sources = load_table(cursor,query)\n",
        "\n",
        "query =      \"\"\"SELECT id,glossary_id,link_id FROM ESTAT.V1.dat_related_concepts\"\"\"\n",
        "\n",
        "relatedConcepts = load_table(cursor,query)\n",
        "\n",
        "query =      \"\"\"SELECT id,glossary_id,link_id FROM ESTAT.V1.dat_statistical_data\"\"\"\n",
        "\n",
        "statReferences = load_table(cursor,query)"
      ],
      "metadata": {
        "id": "K3MPZI8jViFX"
      },
      "execution_count": null,
      "outputs": []
    },
    {
      "cell_type": "code",
      "source": [
        "##further info glossary articles\n",
        "f = open(\"glossaryLink2.ttl\", \"a\")\n",
        "for name, row in furtherInfo.iterrows():\n",
        "  if listLinks[int(row[2] - 1)][0] != \"\":\n",
        "    f.write(\"estatdata:referenceFurther\" + str(row[0]) + \" rdf:type estat:FurtherInfo.\\n\")\n",
        "    f.write(\"estatdata:referenceFurther\" + str(row[0]) + \" estat:title \\\"\" + listLinks[int(row[2] - 1)][0]  + \"\\\"^^xsd:string.\\n\")\n",
        "    f.write(\"estatdata:referenceFurther\" + str(row[0]) + \" estat:hasURL \\\"\" + listLinks[int(row[2] - 1)][1] + \"\\\"^^xsd:anyURI.\\n\")\n",
        "    f.write(\"estatdata:glossaryArticle\" + str(row[1]) + \" estat:hasReference estatdata:referenceFurther\" + str(row[0]) + \".\\n\")      \n",
        "    if str(listLinks[int(row[2] - 1)][2]) == \"1\":        \n",
        "        if \"index.php?title=Glossary:\" in listLinks[int(row[2] - 1)][1]:\n",
        "          for url in listIDsGL:\n",
        "            if str(url[1]) == str(listLinks[int(row[2] - 1)][1]):\n",
        "              f.write(\"estatdata:referenceFurther\" + str(row[0]) + \" estat:hasURI estatdata:glossaryArticle\" + str(url[0]) + \".\\n\")\n",
        "        else:\n",
        "          for url in listIDsSE:\n",
        "            if str(url[1]) == str(listLinks[int(row[2] - 1)][1]):\n",
        "              f.write(\"estatdata:referenceFurther\" + str(row[0]) + \" estat:hasURI estatdata:SEArticle\" + str(url[0]) +\".\\n\")\n",
        "f.close()"
      ],
      "metadata": {
        "id": "0hhoJaEjUkxS"
      },
      "execution_count": null,
      "outputs": []
    },
    {
      "cell_type": "code",
      "source": [
        "##sources glossary articles\n",
        "f = open(\"glossaryLink2.ttl\", \"a\")\n",
        "for name, row in sources.iterrows():\n",
        "  if listLinks[int(row[2] - 1)][0] != \"\":\n",
        "    f.write(\"estatdata:referenceSource\" + str(row[0]) + \" rdf:type estat:Source.\\n\")\n",
        "    f.write(\"estatdata:referenceSource\" + str(row[0]) + \" estat:title \\\"\" + listLinks[int(row[2] - 1)][0]  + \"\\\"^^xsd:string.\\n\")\n",
        "    f.write(\"estatdata:referenceSource\" + str(row[0]) + \" estat:hasURL \\\"\" + listLinks[int(row[2] - 1)][1] + \"\\\"^^xsd:anyURI.\\n\")\n",
        "    f.write(\"estatdata:glossaryArticle\" + str(row[1]) + \" estat:hasReference estatdata:referenceSource\" + str(row[0]) + \".\\n\")      \n",
        "    if str(listLinks[int(row[2] - 1)][2]) == \"1\":        \n",
        "        if \"index.php?title=Glossary:\" in listLinks[int(row[2] - 1)][1]:\n",
        "          for url in listIDsGL:\n",
        "            if str(url[1]) == str(listLinks[int(row[2] - 1)][1]):\n",
        "              f.write(\"estatdata:referenceSource\" + str(row[0]) + \" estat:hasURI estatdata:glossaryArticle\" + str(url[0]) + \".\\n\")\n",
        "        else:\n",
        "          for url in listIDsSE:\n",
        "            if str(url[1]) == str(listLinks[int(row[2] - 1)][1]):\n",
        "              f.write(\"estatdata:referenceSource\" + str(row[0]) + \" estat:hasURI estatdata:SEArticle\" + str(url[0]) +\".\\n\")\n",
        "f.close()"
      ],
      "metadata": {
        "id": "6uJyv84kcmXs"
      },
      "execution_count": null,
      "outputs": []
    },
    {
      "cell_type": "code",
      "source": [
        "##relatedConcepts glossary articles\n",
        "f = open(\"glossaryLink2.ttl\", \"a\")\n",
        "for name, row in relatedConcepts.iterrows():\n",
        "  if listLinks[int(row[2] - 1)][0] != \"\":\n",
        "    f.write(\"estatdata:referenceConcepts\" + str(row[0]) + \" rdf:type estat:RelatedConcept.\\n\")\n",
        "    f.write(\"estatdata:referenceConcepts\" + str(row[0]) + \" estat:title \\\"\" + listLinks[int(row[2] - 1)][0]  + \"\\\"^^xsd:string.\\n\")\n",
        "    f.write(\"estatdata:referenceConcepts\" + str(row[0]) + \" estat:hasURL \\\"\" + listLinks[int(row[2] - 1)][1] + \"\\\"^^xsd:anyURI.\\n\")\n",
        "    f.write(\"estatdata:glossaryArticle\" + str(row[1]) + \" estat:hasReference estatdata:referenceConcepts\" + str(row[0]) + \".\\n\")      \n",
        "    if str(listLinks[int(row[2] - 1)][2]) == \"1\":        \n",
        "        if \"index.php?title=Glossary:\" in listLinks[int(row[2] - 1)][1]:\n",
        "          for url in listIDsGL:\n",
        "            if str(url[1]) == str(listLinks[int(row[2] - 1)][1]):\n",
        "              f.write(\"estatdata:referenceConcepts\" + str(row[0]) + \" estat:hasURI estatdata:glossaryArticle\" + str(url[0]) + \".\\n\")\n",
        "        else:\n",
        "          for url in listIDsSE:\n",
        "            if str(url[1]) == str(listLinks[int(row[2] - 1)][1]):\n",
        "              f.write(\"estatdata:referenceConcepts\" + str(row[0]) + \" estat:hasURI estatdata:SEArticle\" + str(url[0]) +\".\\n\")\n",
        "f.close()"
      ],
      "metadata": {
        "id": "_NX34TILehWp"
      },
      "execution_count": null,
      "outputs": []
    },
    {
      "cell_type": "code",
      "source": [
        "##statistical data glossary articles\n",
        "f = open(\"glossaryLink2.ttl\", \"a\")\n",
        "for name, row in statReferences.iterrows():\n",
        "  if listLinks[int(row[2] - 1)][0] != \"\":\n",
        "    f.write(\"estatdata:referenceData\" + str(row[0]) + \" rdf:type estat:RelatedStatisticalData.\\n\")\n",
        "    f.write(\"estatdata:referenceData\" + str(row[0]) + \" estat:title \\\"\" + listLinks[int(row[2] - 1)][0]  + \"\\\"^^xsd:string.\\n\")\n",
        "    f.write(\"estatdata:referenceData\" + str(row[0]) + \" estat:hasURL \\\"\" + listLinks[int(row[2] - 1)][1] + \"\\\"^^xsd:anyURI.\\n\")\n",
        "    f.write(\"estatdata:glossaryArticle\" + str(row[1]) + \" estat:hasReference estatdata:referenceData\" + str(row[0]) + \".\\n\")      \n",
        "    if str(listLinks[int(row[2] - 1)][2]) == \"1\":        \n",
        "        if \"index.php?title=Glossary:\" in listLinks[int(row[2] - 1)][1]:\n",
        "          for url in listIDsGL:\n",
        "            if str(url[1]) == str(listLinks[int(row[2] - 1)][1]):\n",
        "              f.write(\"estatdata:referenceData\" + str(row[0]) + \" estat:hasURI estatdata:glossaryArticle\" + str(url[0]) + \".\\n\")\n",
        "        else:\n",
        "          for url in listIDsSE:\n",
        "            if str(url[1]) == str(listLinks[int(row[2] - 1)][1]):\n",
        "              f.write(\"estatdata:referenceData\" + str(row[0]) + \" estat:hasURI estatdata:SEArticle\" + str(url[0]) +\".\\n\")\n",
        "f.close()"
      ],
      "metadata": {
        "id": "LI0FiXYUgU8Z"
      },
      "execution_count": null,
      "outputs": []
    }
  ]
}