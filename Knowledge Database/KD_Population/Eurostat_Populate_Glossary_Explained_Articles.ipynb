{
  "nbformat": 4,
  "nbformat_minor": 0,
  "metadata": {
    "colab": {
      "name": "Eurostat_Populate_Glossary_Explained_Articles.ipynb",
      "provenance": []
    },
    "kernelspec": {
      "name": "python3",
      "display_name": "Python 3"
    },
    "language_info": {
      "name": "python"
    }
  },
  "cells": [
    {
      "cell_type": "code",
      "execution_count": null,
      "metadata": {
        "colab": {
          "base_uri": "https://localhost:8080/"
        },
        "id": "8pD5XnlZfMJT",
        "outputId": "5bc7e9b0-263c-48f3-a619-ddaf66e13d43"
      },
      "outputs": [
        {
          "output_type": "stream",
          "name": "stdout",
          "text": [
            "Mounted at /content/drive\n"
          ]
        }
      ],
      "source": [
        "from google.colab import drive\n",
        "drive.mount('/content/drive')"
      ]
    },
    {
      "cell_type": "code",
      "source": [
        "!pip install pyodbc"
      ],
      "metadata": {
        "colab": {
          "base_uri": "https://localhost:8080/"
        },
        "id": "w_FRA6H5fTq2",
        "outputId": "5b0d2c1a-7fba-44f4-f108-049386020ae7"
      },
      "execution_count": null,
      "outputs": [
        {
          "output_type": "stream",
          "name": "stdout",
          "text": [
            "Collecting pyodbc\n",
            "  Downloading pyodbc-4.0.32.tar.gz (280 kB)\n",
            "\u001b[?25l\r\u001b[K     |█▏                              | 10 kB 20.9 MB/s eta 0:00:01\r\u001b[K     |██▍                             | 20 kB 26.6 MB/s eta 0:00:01\r\u001b[K     |███▌                            | 30 kB 24.1 MB/s eta 0:00:01\r\u001b[K     |████▊                           | 40 kB 7.7 MB/s eta 0:00:01\r\u001b[K     |█████▉                          | 51 kB 7.2 MB/s eta 0:00:01\r\u001b[K     |███████                         | 61 kB 8.5 MB/s eta 0:00:01\r\u001b[K     |████████▏                       | 71 kB 8.4 MB/s eta 0:00:01\r\u001b[K     |█████████▍                      | 81 kB 8.0 MB/s eta 0:00:01\r\u001b[K     |██████████▌                     | 92 kB 8.9 MB/s eta 0:00:01\r\u001b[K     |███████████▊                    | 102 kB 7.9 MB/s eta 0:00:01\r\u001b[K     |████████████▉                   | 112 kB 7.9 MB/s eta 0:00:01\r\u001b[K     |██████████████                  | 122 kB 7.9 MB/s eta 0:00:01\r\u001b[K     |███████████████▏                | 133 kB 7.9 MB/s eta 0:00:01\r\u001b[K     |████████████████▍               | 143 kB 7.9 MB/s eta 0:00:01\r\u001b[K     |█████████████████▌              | 153 kB 7.9 MB/s eta 0:00:01\r\u001b[K     |██████████████████▊             | 163 kB 7.9 MB/s eta 0:00:01\r\u001b[K     |████████████████████            | 174 kB 7.9 MB/s eta 0:00:01\r\u001b[K     |█████████████████████           | 184 kB 7.9 MB/s eta 0:00:01\r\u001b[K     |██████████████████████▎         | 194 kB 7.9 MB/s eta 0:00:01\r\u001b[K     |███████████████████████▍        | 204 kB 7.9 MB/s eta 0:00:01\r\u001b[K     |████████████████████████▋       | 215 kB 7.9 MB/s eta 0:00:01\r\u001b[K     |█████████████████████████▊      | 225 kB 7.9 MB/s eta 0:00:01\r\u001b[K     |███████████████████████████     | 235 kB 7.9 MB/s eta 0:00:01\r\u001b[K     |████████████████████████████    | 245 kB 7.9 MB/s eta 0:00:01\r\u001b[K     |█████████████████████████████▎  | 256 kB 7.9 MB/s eta 0:00:01\r\u001b[K     |██████████████████████████████▍ | 266 kB 7.9 MB/s eta 0:00:01\r\u001b[K     |███████████████████████████████▋| 276 kB 7.9 MB/s eta 0:00:01\r\u001b[K     |████████████████████████████████| 280 kB 7.9 MB/s \n",
            "\u001b[?25hBuilding wheels for collected packages: pyodbc\n",
            "  Building wheel for pyodbc (setup.py) ... \u001b[?25l\u001b[?25hdone\n",
            "  Created wheel for pyodbc: filename=pyodbc-4.0.32-cp37-cp37m-linux_x86_64.whl size=287361 sha256=dddb218dc022cb8cc71e69861696059ad4123b02df58fc1afdcbf7558a1f5aa4\n",
            "  Stored in directory: /root/.cache/pip/wheels/2e/9c/da/8652fd42e0f662015554f00a9e96fe4f438dfd1ef59787879e\n",
            "Successfully built pyodbc\n",
            "Installing collected packages: pyodbc\n",
            "Successfully installed pyodbc-4.0.32\n"
          ]
        }
      ]
    },
    {
      "cell_type": "code",
      "source": [
        "!pip install eurostat"
      ],
      "metadata": {
        "colab": {
          "base_uri": "https://localhost:8080/"
        },
        "id": "L8bq2f9XfVUN",
        "outputId": "2945515f-f734-4ffe-a07d-928d1d1491a9"
      },
      "execution_count": null,
      "outputs": [
        {
          "output_type": "stream",
          "name": "stdout",
          "text": [
            "Collecting eurostat\n",
            "  Downloading eurostat-0.2.3-py3-none-any.whl (11 kB)\n",
            "Collecting pandasdmx<=0.9\n",
            "  Downloading pandaSDMX-0.9-py2.py3-none-any.whl (45 kB)\n",
            "\u001b[?25l\r\u001b[K     |███████▏                        | 10 kB 18.2 MB/s eta 0:00:01\r\u001b[K     |██████████████▍                 | 20 kB 17.0 MB/s eta 0:00:01\r\u001b[K     |█████████████████████▋          | 30 kB 11.2 MB/s eta 0:00:01\r\u001b[K     |████████████████████████████▉   | 40 kB 6.7 MB/s eta 0:00:01\r\u001b[K     |████████████████████████████████| 45 kB 2.3 MB/s \n",
            "\u001b[?25hRequirement already satisfied: requests in /usr/local/lib/python3.7/dist-packages (from eurostat) (2.23.0)\n",
            "Requirement already satisfied: pandas in /usr/local/lib/python3.7/dist-packages (from eurostat) (1.3.5)\n",
            "Requirement already satisfied: setuptools in /usr/local/lib/python3.7/dist-packages (from pandasdmx<=0.9->eurostat) (57.4.0)\n",
            "Collecting jsonpath-rw\n",
            "  Downloading jsonpath-rw-1.4.0.tar.gz (13 kB)\n",
            "Requirement already satisfied: lxml in /usr/local/lib/python3.7/dist-packages (from pandasdmx<=0.9->eurostat) (4.2.6)\n",
            "Collecting ply\n",
            "  Downloading ply-3.11-py2.py3-none-any.whl (49 kB)\n",
            "\u001b[K     |████████████████████████████████| 49 kB 5.1 MB/s \n",
            "\u001b[?25hRequirement already satisfied: decorator in /usr/local/lib/python3.7/dist-packages (from jsonpath-rw->pandasdmx<=0.9->eurostat) (4.4.2)\n",
            "Requirement already satisfied: six in /usr/local/lib/python3.7/dist-packages (from jsonpath-rw->pandasdmx<=0.9->eurostat) (1.15.0)\n",
            "Requirement already satisfied: pytz>=2017.3 in /usr/local/lib/python3.7/dist-packages (from pandas->eurostat) (2022.1)\n",
            "Requirement already satisfied: numpy>=1.17.3 in /usr/local/lib/python3.7/dist-packages (from pandas->eurostat) (1.21.6)\n",
            "Requirement already satisfied: python-dateutil>=2.7.3 in /usr/local/lib/python3.7/dist-packages (from pandas->eurostat) (2.8.2)\n",
            "Requirement already satisfied: urllib3!=1.25.0,!=1.25.1,<1.26,>=1.21.1 in /usr/local/lib/python3.7/dist-packages (from requests->eurostat) (1.24.3)\n",
            "Requirement already satisfied: idna<3,>=2.5 in /usr/local/lib/python3.7/dist-packages (from requests->eurostat) (2.10)\n",
            "Requirement already satisfied: certifi>=2017.4.17 in /usr/local/lib/python3.7/dist-packages (from requests->eurostat) (2021.10.8)\n",
            "Requirement already satisfied: chardet<4,>=3.0.2 in /usr/local/lib/python3.7/dist-packages (from requests->eurostat) (3.0.4)\n",
            "Building wheels for collected packages: jsonpath-rw\n",
            "  Building wheel for jsonpath-rw (setup.py) ... \u001b[?25l\u001b[?25hdone\n",
            "  Created wheel for jsonpath-rw: filename=jsonpath_rw-1.4.0-py3-none-any.whl size=15147 sha256=58aac344ddfcaf9e2df9dab8180202ffe6da3d5f260d0adb150edbf7c53c8c4b\n",
            "  Stored in directory: /root/.cache/pip/wheels/58/88/2a/8d619cf38d7cf939e54b6ccdece05d31b64b3eb419c11d1ed3\n",
            "Successfully built jsonpath-rw\n",
            "Installing collected packages: ply, jsonpath-rw, pandasdmx, eurostat\n",
            "Successfully installed eurostat-0.2.3 jsonpath-rw-1.4.0 pandasdmx-0.9 ply-3.11\n"
          ]
        }
      ]
    },
    {
      "cell_type": "code",
      "source": [
        "!apt-get install virtuoso-opensource"
      ],
      "metadata": {
        "colab": {
          "base_uri": "https://localhost:8080/"
        },
        "id": "qMs-bq7VfWuS",
        "outputId": "5624fe8b-f6ff-4c28-f34d-124eba358956"
      },
      "execution_count": null,
      "outputs": [
        {
          "output_type": "stream",
          "name": "stdout",
          "text": [
            "Reading package lists... Done\n",
            "Building dependency tree       \n",
            "Reading state information... Done\n",
            "The following packages were automatically installed and are no longer required:\n",
            "  libnvidia-common-460 nsight-compute-2020.2.0\n",
            "Use 'apt autoremove' to remove them.\n",
            "The following additional packages will be installed:\n",
            "  libvirtodbc0 virtuoso-opensource-6.1 virtuoso-opensource-6.1-bin\n",
            "  virtuoso-opensource-6.1-common virtuoso-server virtuoso-vad-conductor\n",
            "  virtuoso-vsp-startpage\n",
            "Suggested packages:\n",
            "  virtuoso-vad-doc virtuoso-vad-demo virtuoso-vad-tutorial\n",
            "  virtuoso-vad-rdfmappers virtuoso-vad-sparqldemo virtuoso-vad-syncml\n",
            "  virtuoso-vad-bpel virtuoso-vad-isparql virtuoso-vad-ods virtuoso-vad-dbpedia\n",
            "  virtuoso-vad-facetedbrowser\n",
            "The following NEW packages will be installed:\n",
            "  libvirtodbc0 virtuoso-opensource virtuoso-opensource-6.1\n",
            "  virtuoso-opensource-6.1-bin virtuoso-opensource-6.1-common virtuoso-server\n",
            "  virtuoso-vad-conductor virtuoso-vsp-startpage\n",
            "0 upgraded, 8 newly installed, 0 to remove and 42 not upgraded.\n",
            "Need to get 4,835 kB of archives.\n",
            "After this operation, 27.5 MB of additional disk space will be used.\n",
            "Get:1 http://archive.ubuntu.com/ubuntu bionic/universe amd64 virtuoso-opensource-6.1-common amd64 6.1.6+repack-0ubuntu9 [45.0 kB]\n",
            "Get:2 http://archive.ubuntu.com/ubuntu bionic/universe amd64 virtuoso-opensource-6.1-bin amd64 6.1.6+repack-0ubuntu9 [2,831 kB]\n",
            "Get:3 http://archive.ubuntu.com/ubuntu bionic/universe amd64 libvirtodbc0 amd64 6.1.6+repack-0ubuntu9 [259 kB]\n",
            "Get:4 http://archive.ubuntu.com/ubuntu bionic/universe amd64 virtuoso-opensource-6.1 amd64 6.1.6+repack-0ubuntu9 [163 kB]\n",
            "Get:5 http://archive.ubuntu.com/ubuntu bionic/universe amd64 virtuoso-opensource all 6.1.6+repack-0ubuntu9 [33.3 kB]\n",
            "Get:6 http://archive.ubuntu.com/ubuntu bionic/universe amd64 virtuoso-vad-conductor all 6.1.6+repack-0ubuntu9 [1,044 kB]\n",
            "Get:7 http://archive.ubuntu.com/ubuntu bionic/universe amd64 virtuoso-vsp-startpage all 6.1.6+repack-0ubuntu9 [428 kB]\n",
            "Get:8 http://archive.ubuntu.com/ubuntu bionic/universe amd64 virtuoso-server all 6.1.6+repack-0ubuntu9 [31.0 kB]\n",
            "Fetched 4,835 kB in 2s (2,857 kB/s)\n",
            "Preconfiguring packages ...\n",
            "Selecting previously unselected package virtuoso-opensource-6.1-common.\n",
            "(Reading database ... 155202 files and directories currently installed.)\n",
            "Preparing to unpack .../0-virtuoso-opensource-6.1-common_6.1.6+repack-0ubuntu9_amd64.deb ...\n",
            "Unpacking virtuoso-opensource-6.1-common (6.1.6+repack-0ubuntu9) ...\n",
            "Selecting previously unselected package virtuoso-opensource-6.1-bin.\n",
            "Preparing to unpack .../1-virtuoso-opensource-6.1-bin_6.1.6+repack-0ubuntu9_amd64.deb ...\n",
            "Unpacking virtuoso-opensource-6.1-bin (6.1.6+repack-0ubuntu9) ...\n",
            "Selecting previously unselected package libvirtodbc0.\n",
            "Preparing to unpack .../2-libvirtodbc0_6.1.6+repack-0ubuntu9_amd64.deb ...\n",
            "Unpacking libvirtodbc0 (6.1.6+repack-0ubuntu9) ...\n",
            "Selecting previously unselected package virtuoso-opensource-6.1.\n",
            "Preparing to unpack .../3-virtuoso-opensource-6.1_6.1.6+repack-0ubuntu9_amd64.deb ...\n",
            "Unpacking virtuoso-opensource-6.1 (6.1.6+repack-0ubuntu9) ...\n",
            "Selecting previously unselected package virtuoso-opensource.\n",
            "Preparing to unpack .../4-virtuoso-opensource_6.1.6+repack-0ubuntu9_all.deb ...\n",
            "Unpacking virtuoso-opensource (6.1.6+repack-0ubuntu9) ...\n",
            "Selecting previously unselected package virtuoso-vad-conductor.\n",
            "Preparing to unpack .../5-virtuoso-vad-conductor_6.1.6+repack-0ubuntu9_all.deb ...\n",
            "Unpacking virtuoso-vad-conductor (6.1.6+repack-0ubuntu9) ...\n",
            "Selecting previously unselected package virtuoso-vsp-startpage.\n",
            "Preparing to unpack .../6-virtuoso-vsp-startpage_6.1.6+repack-0ubuntu9_all.deb ...\n",
            "Unpacking virtuoso-vsp-startpage (6.1.6+repack-0ubuntu9) ...\n",
            "Selecting previously unselected package virtuoso-server.\n",
            "Preparing to unpack .../7-virtuoso-server_6.1.6+repack-0ubuntu9_all.deb ...\n",
            "Unpacking virtuoso-server (6.1.6+repack-0ubuntu9) ...\n",
            "Setting up virtuoso-opensource-6.1-bin (6.1.6+repack-0ubuntu9) ...\n",
            "Setting up virtuoso-opensource-6.1-common (6.1.6+repack-0ubuntu9) ...\n",
            "Setting up libvirtodbc0 (6.1.6+repack-0ubuntu9) ...\n",
            "Setting up virtuoso-opensource-6.1 (6.1.6+repack-0ubuntu9) ...\n",
            "invoke-rc.d: could not determine current runlevel\n",
            "invoke-rc.d: policy-rc.d denied execution of start.\n",
            "Setting up virtuoso-opensource (6.1.6+repack-0ubuntu9) ...\n",
            "Setting up virtuoso-server (6.1.6+repack-0ubuntu9) ...\n",
            "Setting up virtuoso-vad-conductor (6.1.6+repack-0ubuntu9) ...\n",
            "Setting up virtuoso-vsp-startpage (6.1.6+repack-0ubuntu9) ...\n",
            "Processing triggers for man-db (2.8.3-2ubuntu0.1) ...\n",
            "Processing triggers for systemd (237-3ubuntu10.53) ...\n"
          ]
        }
      ]
    },
    {
      "cell_type": "code",
      "source": [
        "import gensim\n",
        "import pandas as pd\n",
        "import numpy as np\n",
        "import re\n",
        "import pyodbc\n",
        "\n",
        "c = pyodbc.connect('DRIVER=/usr/lib/odbc/virtodbc.so;HOST=lod.csd.auth.gr:1111;UID=kimon;PWD=RkhvQYZ442e2JVXLHdtW;DATABASE=ESTAT')\n",
        "#set encoding\n",
        "c.setdecoding(pyodbc.SQL_CHAR, encoding='latin-1')\n",
        "c.setencoding(encoding=\"latin-1\")\n",
        "cursor = c.cursor()\n",
        "\n",
        "\n",
        "def load_table(cursor,query):\n",
        "  cursor.execute(query)\n",
        "  t1 = cursor.fetchall()\n",
        "  df = pd.DataFrame.from_records(t1, columns=[x[0] for x in cursor.description])\n",
        "  return df\n",
        "\n",
        "#Glossary Articles\n",
        "query =      \"\"\"SELECT id,article_id,categories FROM ESTAT.V1.GL_articles_categories\"\"\"\n",
        "\n",
        "glossaryArticleCategory = load_table(cursor,query)\n",
        "\n",
        "\n",
        "query =      \"\"\"SELECT id,definition,redirection,original_title,homepage,editorial_note,change_note,scope_note,example,history_note FROM ESTAT.V1.dat_glossary\"\"\"\n",
        "\n",
        "glossaryArticles = load_table(cursor,query)\n",
        "\n",
        "query = \"\"\"select \"ESTAT\".\"V1\".\"dat_glossary\".\"id\", \"ESTAT\".\"V1\".\"dat_glossary\".\"definition\", \"ESTAT\".\"V1\".\"dat_glossary\".\"redirection\", \"ESTAT\".\"V1\".\"dat_glossary\".\"original_title\", \"ESTAT\".\"V1\".\"dat_glossary\".\"homepage\", \"ESTAT\".\"V1\".\"dat_glossary\".\"editorial_note\", \"ESTAT\".\"V1\".\"dat_glossary\".\"change_note\", \"ESTAT\".\"V1\".\"dat_glossary\".\"scope_note\", \"ESTAT\".\"V1\".\"dat_glossary\".\"example\", \"ESTAT\".\"V1\".\"dat_glossary\".\"history_note\", \"ESTAT\".\"V1\".\"dat_link_info\".\"id\", \"ESTAT\".\"V1\".\"dat_link_info\".\"title\", \"ESTAT\".\"V1\".\"dat_link_info\".\"url\", \"ESTAT\".\"V1\".\"dat_link_info\".\"resource_information_id\", \"ESTAT\".\"V1\".\"dat_link_info\".\"resource_type_id\" from ( \"ESTAT\".\"V1\".\"dat_glossary\" left outer join \"ESTAT\".\"V1\".\"dat_link_info\" on \"ESTAT\".\"V1\".\"dat_glossary\".\"id\" = \"ESTAT\".\"V1\".\"dat_link_info\".\"id\" )\"\"\"\n",
        "\n",
        "\n",
        "glossaryArticlesTitle = load_table(cursor,query)\n"
      ],
      "metadata": {
        "id": "RUQKFXQifYNj"
      },
      "execution_count": null,
      "outputs": []
    },
    {
      "cell_type": "code",
      "source": [
        "titles = []\n",
        "for name, row in glossaryArticlesTitle.iterrows():\n",
        "  titles.append(str(re.sub(\"[^a-zA-Z\\d%]\", ' ', row[11]).replace(\"\\'\", \"\").replace(\"\\\"\", \"\").replace(\"\\\\\", \"\").strip()))"
      ],
      "metadata": {
        "id": "W0QbXd2Ir6vj"
      },
      "execution_count": null,
      "outputs": []
    },
    {
      "cell_type": "code",
      "source": [
        "f = open(\"glossaryArticles.ttl\", \"a\")\n",
        "##Map glossary articles\n",
        "count = 0\n",
        "for name, row in glossaryArticles.iterrows():\n",
        "  f.write(\"estatdata:glossaryArticle\" + str(row[0]) + \" rdf:type estat:GlossaryArticle.\\n\" + \"estatdata:glossaryArticle\" + str(row[0]) + \" estat:id \\\"\" + str(row[0]) + \"\\\"^^xsd:integer.\\n\")\n",
        "  content = str(re.sub(\"[^a-zA-Z\\d%]\", ' ', row[1]).replace(\"\\'\", \"\").replace(\"\\\"\", \"\").replace(\"\\\\\", \"\").strip())\n",
        "  if content != \"\":\n",
        "    f.write(\"estatdata:glossaryArticle\" + str(row[0]) + \" rdf:type estat:GlossaryArticle.\\n\" + \"estatdata:glossaryArticle\" + str(row[0]) + \" estat:content \\\"\" + content + \"\\\"^^xsd:string.\\n\")\n",
        "  f.write(\"estatdata:glossaryArticle\" + str(row[0]) + \" estat:title \\\"\" + titles[count] + \"\\\"^^xsd:string.\\n\")\n",
        "  count += 1\n",
        "\n",
        "##Map glossary categories\n",
        "for name, row in glossaryArticleCategory.iterrows():\n",
        "  categories = row[2].replace(\"]\", \"\").replace(\"[\", \"\").replace(\"\\'\", \"\").split(\", \")\n",
        "  for c in categories:\n",
        "    f.write(\"estatdata:\" + str(re.sub(\"[^a-zA-Z\\d%]\", ' ', c).replace(\"\\'\", \"\").replace(\"\\\"\", \"\").replace(\"\\\\\", \"\").strip().replace(\" \", \"_\")).lower() + \" rdf:type estat:GlossaryArticleCategory.\\n\" + \"estatdata:glossaryArticle\" + str(row[1]) + \" estat:hasCategoryOfGlossaryArticle estatdata:\" + str(re.sub(\"[^a-zA-Z\\d%]\", ' ', c).replace(\"\\'\", \"\").replace(\"\\\"\", \"\").replace(\"\\\\\", \"\").strip().replace(\" \", \"_\")).lower() + \".\\n\")\n",
        "    f.write(\"estatdata:\" + str(re.sub(\"[^a-zA-Z\\d%]\", ' ', c).replace(\"\\'\", \"\").replace(\"\\\"\", \"\").replace(\"\\\\\", \"\").strip().replace(\" \", \"_\")).lower() + \" estat:title \\\"\" + str(re.sub(\"[^a-zA-Z\\d%]\", ' ', c).replace(\"\\'\", \"\").replace(\"\\\"\", \"\").replace(\"\\\\\", \"\").strip()) + \"\\\"^^xsd:string.\\n\")\n",
        "  \n",
        "f.close()\n",
        "  "
      ],
      "metadata": {
        "id": "YUX3unEmkeyy"
      },
      "execution_count": null,
      "outputs": []
    },
    {
      "cell_type": "code",
      "source": [
        "#Statistics Explained Articles\n",
        "query =      \"\"\"SELECT id,article_id,title,content,abstract,alert FROM ESTAT.V1.dat_article_paragraph\"\"\"\n",
        "\n",
        "explainedArticleParagraph = load_table(cursor,query)\n",
        "\n",
        "\n",
        "query =      \"\"\"SELECT id,article_id,categories FROM ESTAT.V1.SE_articles_categories\"\"\"\n",
        "\n",
        "explainedArticleCategory = load_table(cursor,query)\n",
        "\n",
        "\n",
        "query =      \"\"\"SELECT id,context,data_sources,background_article,homepage FROM ESTAT.V1.dat_article\"\"\"\n",
        "\n",
        "explainedArticle = load_table(cursor,query)\n",
        "\n"
      ],
      "metadata": {
        "id": "qXJtq9S7fj9Y"
      },
      "execution_count": null,
      "outputs": []
    },
    {
      "cell_type": "code",
      "source": [
        "query = \"\"\"select \"ESTAT\".\"V1\".\"dat_article\".\"id\", \"ESTAT\".\"V1\".\"dat_article\".\"context\", \"ESTAT\".\"V1\".\"dat_article\".\"data_sources\", \"ESTAT\".\"V1\".\"dat_article\".\"background_article\", \"ESTAT\".\"V1\".\"dat_article\".\"homepage\", \"ESTAT\".\"V1\".\"dat_link_info\".\"id\", \"ESTAT\".\"V1\".\"dat_link_info\".\"title\", \"ESTAT\".\"V1\".\"dat_link_info\".\"url\", \"ESTAT\".\"V1\".\"dat_link_info\".\"resource_information_id\", \"ESTAT\".\"V1\".\"dat_link_info\".\"resource_type_id\" from ( \"ESTAT\".\"V1\".\"dat_article\" left outer join \"ESTAT\".\"V1\".\"dat_link_info\" on \"ESTAT\".\"V1\".\"dat_article\".\"id\" = \"ESTAT\".\"V1\".\"dat_link_info\".\"id\" )\"\"\"\n",
        "explainedArticleTitles = load_table(cursor,query)"
      ],
      "metadata": {
        "id": "nQV0xGrNuqWI"
      },
      "execution_count": null,
      "outputs": []
    },
    {
      "cell_type": "code",
      "source": [
        "context, data_source, title = [], [], []\n",
        "for name, row in explainedArticleTitles.iterrows():\n",
        "  try:\n",
        "    context.append(str(re.sub(\"[^a-zA-Z\\d%]\", ' ', row[1]).replace(\"\\'\", \"\").replace(\"\\\"\", \"\").replace(\"\\\\\", \"\").strip()))\n",
        "  except Exception as e:\n",
        "    context.append(\"None\")\n",
        "  try:\n",
        "    data_source.append(str(re.sub(\"[^a-zA-Z\\d%]\", ' ', row[2]).replace(\"\\'\", \"\").replace(\"\\\"\", \"\").replace(\"\\\\\", \"\").strip()))\n",
        "  except Exception as e:\n",
        "    data_source.append(\"None\")\n",
        "  try:\n",
        "    title.append(str(re.sub(\"[^a-zA-Z\\d%]\", ' ', row[6]).replace(\"\\'\", \"\").replace(\"\\\"\", \"\").replace(\"\\\\\", \"\").strip()))\n",
        "  except Exception as e:\n",
        "    title.append(\"None\")"
      ],
      "metadata": {
        "id": "lcAZFBH0wLO9"
      },
      "execution_count": null,
      "outputs": []
    },
    {
      "cell_type": "code",
      "source": [
        "#Map statistical article\n",
        "count = 0\n",
        "f = open(\"explainedArticles.ttl\", \"a\")\n",
        "for name, row in explainedArticle.iterrows():\n",
        "  helperExplained = \"\"\n",
        "  if row[3] == 0:\n",
        "    try:\n",
        "        f.write(\"estatdata:SEArticle\" + str(row[0]) + \" rdf:type estat:StatisticsExplainedArticle.\\n\")\n",
        "        f.write(\"estatdata:SEArticle\" + str(row[0]) + \" estat:id \\\"\" + str(row[0]) + \"\\\"^^xsd:integer.\\n\")\n",
        "        if context[count] != \"\":\n",
        "          f.write(\"estatdata:SEArticle\" + str(row[0]) + \" estat:context \\\"\" + context[count] + \"\\\"^^xsd:string.\\n\")\n",
        "        if data_source[count] != \"\":\n",
        "          f.write(\"estatdata:SEArticle\" + str(row[0]) + \" estat:dataSource \\\"\" + data_source[count] + \"\\\"^^xsd:string.\\n\")\n",
        "        f.write(\"estatdata:SEArticle\" + str(row[0]) + \" estat:title \\\"\" + str(title[count]) + \"\\\"^^xsd:string.\\n\")\n",
        "    except Exception as e:\n",
        "      print(\"a\")\n",
        "  else:\n",
        "    try:\n",
        "      f.write(\"estatdata:SEArticle\" + str(row[0]) + \" rdf:type estat:BackgroundArticle.\\n\")\n",
        "      f.write(\"estatdata:SEArticle\" + str(row[0]) + \" estat:id \\\"\" + str(row[0]) + \"\\\"^^xsd:integer.\\n\")        \n",
        "      if context[count] != \"\":\n",
        "        f.write(\"estatdata:SEArticle\" + str(row[0]) + \" estat:context \\\"\" + context[count] + \"\\\"^^xsd:string.\\n\")\n",
        "      if data_source[count] != \"\":\n",
        "        f.write(\"estatdata:SEArticle\" + str(row[0]) + \" estat:dataSource \\\"\" + data_source[count] + \"\\\"^^xsd:string.\\n\")\n",
        "      f.write(\"estatdata:SEArticle\" + str(row[0]) + \" estat:title \\\"\" + str(title[count]) + \"\\\"^^xsd:string.\\n\")\n",
        "    except Exception as e:\n",
        "      print(\"a\")\n",
        "  count += 1\n",
        "f.close()"
      ],
      "metadata": {
        "id": "Kfgf53qydNpk"
      },
      "execution_count": null,
      "outputs": []
    },
    {
      "cell_type": "code",
      "source": [
        "#Map statistical article categories\n",
        "f = open(\"explainedArticles.ttl\", \"a\")\n",
        "for name, row in explainedArticleCategory.iterrows():\n",
        "  categories = row[2].replace(\"]\", \"\").replace(\"[\", \"\").replace(\"\\'\", \"\").split(\", \")\n",
        "  for c in categories:\n",
        "    f.write(\"estatdata:\" + str(re.sub(\"[^a-zA-Z\\d%]\", ' ', c).replace(\"\\'\", \"\").replace(\"\\\"\", \"\").replace(\"\\\\\", \"\").strip().replace(\" \", \"_\")).lower() + \" rdf:type estat:StatisticsExplainedCategory.\\nestatdata:SEArticle\" + str(row[1]) + \" estat:hasCategoryOfStatisticExplainedArticle estatdata:\" + str(re.sub(\"[^a-zA-Z\\d%]\", ' ', c).replace(\"\\'\", \"\").replace(\"\\\"\", \"\").replace(\"\\\\\", \"\").strip().replace(\" \", \"_\")).lower() + \".\\n\")\n",
        "    f.write(\"estatdata:\" + str(re.sub(\"[^a-zA-Z\\d%]\", ' ', c).replace(\"\\'\", \"\").replace(\"\\\"\", \"\").replace(\"\\\\\", \"\").strip().replace(\" \", \"_\")).lower() + \" estat:title \\\"\" + str(re.sub(\"[^a-zA-Z\\d%]\", ' ', c).replace(\"\\'\", \"\").replace(\"\\\"\", \"\").replace(\"\\\\\", \"\").strip()) + \"\\\"^^xsd:string.\\n\")\n",
        "      \n",
        "f.close()"
      ],
      "metadata": {
        "id": "DgKFH9ExgzMF"
      },
      "execution_count": null,
      "outputs": []
    },
    {
      "cell_type": "code",
      "source": [
        "#Map statistical article paragraphs\n",
        "f = open(\"explainedArticles.ttl\", \"a\")\n",
        "for name, row in explainedArticleParagraph.iterrows():\n",
        "  f.write(\"estatdata:SEArticle\" + str(row[1]) + \" estat:hasParagraph estatdata:paragraph\" + str(row[1]) + \"_\" + str(row[0]) + \".\\nestatdata:paragraph\" + str(row[1]) + \"_\" + str(row[0]) + \" rdf:type estat:Paragraph.\\n\")\n",
        "  f.write(\"estatdata:paragraph\" + str(row[1]) + \"_\" + str(row[0]) + \" estat:title \\\"\" + str(re.sub(\"[^a-zA-Z\\d%]\", ' ', row[2]).replace(\"\\'\", \"\").replace(\"\\\"\", \"\").replace(\"\\\\\", \"\").strip()) + \"\\\"^^xsd:string.\\n\")\n",
        "  content = str(re.sub(\"[^a-zA-Z\\d%]\", ' ', row[3]).replace(\"\\'\", \"\").replace(\"\\\"\", \"\").replace(\"\\\\\", \"\").strip())\n",
        "  if content != \"\":\n",
        "    f.write(\"estatdata:paragraph\" + str(row[1]) + \"_\" + str(row[0]) + \" estat:content \\\"\" + content + \"\\\"^^xsd:string.\\n\")\n",
        "\n",
        "\n",
        "f.close()"
      ],
      "metadata": {
        "id": "3TJohkzrjX_R"
      },
      "execution_count": null,
      "outputs": []
    }
  ]
}