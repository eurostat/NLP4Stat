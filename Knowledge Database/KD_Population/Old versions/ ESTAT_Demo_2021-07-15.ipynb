{
 "cells": [
  {
   "cell_type": "markdown",
   "metadata": {},
   "source": [
    "# NLP4Stat - Query results from the Knowledge DB Demo"
   ]
  },
  {
   "cell_type": "markdown",
   "metadata": {},
   "source": [
    "15-07-2021"
   ]
  },
  {
   "cell_type": "markdown",
   "metadata": {},
   "source": [
    "Content of the notebook : \n",
    "- connection to the DB\n",
    "- get the SQL tables'names\n",
    "- KDB already populated (last demo), so just get some content from that"
   ]
  },
  {
   "cell_type": "markdown",
   "metadata": {},
   "source": [
    "## Library import and connections to the DB"
   ]
  },
  {
   "cell_type": "code",
   "execution_count": 1,
   "metadata": {},
   "outputs": [],
   "source": [
    "import os \n",
    "import re\n",
    "import logging\n",
    "import sys\n",
    "import pyodbc\n",
    "import hashlib\n",
    "import pandas as pd\n",
    "import numpy as np\n",
    "from datetime import datetime\n",
    "from SPARQLWrapper import SPARQLWrapper, POST, DIGEST, GET\n",
    "from SPARQLWrapper import JSON, INSERT, DELETE\n",
    "import sparql_dataframe"
   ]
  },
  {
   "cell_type": "code",
   "execution_count": 2,
   "metadata": {},
   "outputs": [],
   "source": [
    "def connect_db(DSN, DBA, UID, PWD):\n",
    "\n",
    "    connection = pyodbc.connect('DSN={};DBA={};UID={};PWD={}'.format(DSN, \n",
    "                                                                     DBA,\n",
    "                                                                     UID,\n",
    "                                                                     PWD))\n",
    "    cursor = connection.cursor()\n",
    "\n",
    "    return connection, cursor\n",
    "\n",
    "\n",
    "def connect_virtuoso(DSN, UID, PWD):\n",
    "\n",
    "    sparql = SPARQLWrapper(DSN)\n",
    "    sparql.setHTTPAuth(DIGEST)\n",
    "    sparql.setCredentials(UID, PWD)\n",
    "    sparql.setMethod(GET)\n",
    "\n",
    "    return sparql\n"
   ]
  },
  {
   "cell_type": "code",
   "execution_count": 3,
   "metadata": {},
   "outputs": [],
   "source": [
    "# Connection to CDB \n",
    "connection, cursor = connect_db('Virtuoso All', \n",
    "                                'ESTAT', \n",
    "                                'dba', \n",
    "                                '30gFcpQzj7sPtRu5bkes')\n",
    "\n",
    "\n",
    "# Connection to the KDB \n",
    "endpoint = \"http://virtuoso-test.kapcode.fr:8890/sparql/\"\n",
    "sparql = connect_virtuoso(endpoint, \n",
    "                          'dba', \n",
    "                          '30gFcpQzj7sPtRu5bkes')\n"
   ]
  },
  {
   "cell_type": "markdown",
   "metadata": {},
   "source": [
    "## Querying the populated KDB "
   ]
  },
  {
   "cell_type": "markdown",
   "metadata": {},
   "source": [
    "#### Get all links from the KDB "
   ]
  },
  {
   "cell_type": "code",
   "execution_count": 43,
   "metadata": {
    "scrolled": true
   },
   "outputs": [
    {
     "data": {
      "text/html": [
       "<div>\n",
       "<style scoped>\n",
       "    .dataframe tbody tr th:only-of-type {\n",
       "        vertical-align: middle;\n",
       "    }\n",
       "\n",
       "    .dataframe tbody tr th {\n",
       "        vertical-align: top;\n",
       "    }\n",
       "\n",
       "    .dataframe thead th {\n",
       "        text-align: right;\n",
       "    }\n",
       "</style>\n",
       "<table border=\"1\" class=\"dataframe\">\n",
       "  <thead>\n",
       "    <tr style=\"text-align: right;\">\n",
       "      <th></th>\n",
       "      <th>id</th>\n",
       "      <th>ur</th>\n",
       "      <th>tit</th>\n",
       "      <th>resourceinfo</th>\n",
       "      <th>resourcetyp</th>\n",
       "    </tr>\n",
       "  </thead>\n",
       "  <tbody>\n",
       "    <tr>\n",
       "      <th>0</th>\n",
       "      <td>1</td>\n",
       "      <td>https://ec.europa.eu/eurostat/statistics-expla...</td>\n",
       "      <td>Accident at work</td>\n",
       "      <td>https://nlp4statref/knowledge/resource/authori...</td>\n",
       "      <td>https://nlp4statref/knowledge/resource/authori...</td>\n",
       "    </tr>\n",
       "    <tr>\n",
       "      <th>1</th>\n",
       "      <td>10</td>\n",
       "      <td>https://ec.europa.eu/eurostat/statistics-expla...</td>\n",
       "      <td>Gross domestic product (GDP)</td>\n",
       "      <td>https://nlp4statref/knowledge/resource/authori...</td>\n",
       "      <td>https://nlp4statref/knowledge/resource/authori...</td>\n",
       "    </tr>\n",
       "    <tr>\n",
       "      <th>2</th>\n",
       "      <td>100</td>\n",
       "      <td>https://ec.europa.eu/eurostat/statistics-expla...</td>\n",
       "      <td>Toxicity</td>\n",
       "      <td>https://nlp4statref/knowledge/resource/authori...</td>\n",
       "      <td>https://nlp4statref/knowledge/resource/authori...</td>\n",
       "    </tr>\n",
       "    <tr>\n",
       "      <th>3</th>\n",
       "      <td>1000</td>\n",
       "      <td>https://ec.europa.eu/eurostat/statistics-expla...</td>\n",
       "      <td>Structural fund</td>\n",
       "      <td>https://nlp4statref/knowledge/resource/authori...</td>\n",
       "      <td>https://nlp4statref/knowledge/resource/authori...</td>\n",
       "    </tr>\n",
       "    <tr>\n",
       "      <th>4</th>\n",
       "      <td>10000</td>\n",
       "      <td>https://ec.europa.eu/eurostat/statistics-expla...</td>\n",
       "      <td>Figure 3: EU-28, index of production (volume) ...</td>\n",
       "      <td>https://nlp4statref/knowledge/resource/authori...</td>\n",
       "      <td>Other</td>\n",
       "    </tr>\n",
       "    <tr>\n",
       "      <th>...</th>\n",
       "      <td>...</td>\n",
       "      <td>...</td>\n",
       "      <td>...</td>\n",
       "      <td>...</td>\n",
       "      <td>...</td>\n",
       "    </tr>\n",
       "    <tr>\n",
       "      <th>9995</th>\n",
       "      <td>9497</td>\n",
       "      <td>https://ec.europa.eu/eurostat/statistics-expla...</td>\n",
       "      <td>05 Ageing Europe Pensions income and expenditu...</td>\n",
       "      <td>https://nlp4statref/knowledge/resource/authori...</td>\n",
       "      <td>https://nlp4statref/knowledge/resource/authori...</td>\n",
       "    </tr>\n",
       "    <tr>\n",
       "      <th>9996</th>\n",
       "      <td>9498</td>\n",
       "      <td>https://ec.europa.eu/eurostat/databrowser/view...</td>\n",
       "      <td>Figure 11: Aggregate replacement ratio, 2010 a...</td>\n",
       "      <td>https://nlp4statref/knowledge/resource/authori...</td>\n",
       "      <td>Other</td>\n",
       "    </tr>\n",
       "    <tr>\n",
       "      <th>9997</th>\n",
       "      <td>9499</td>\n",
       "      <td>https://ec.europa.eu/eurostat/databrowser/view...</td>\n",
       "      <td>Figure 19: Mean consumption expenditure, by ty...</td>\n",
       "      <td>https://nlp4statref/knowledge/resource/authori...</td>\n",
       "      <td>Other</td>\n",
       "    </tr>\n",
       "    <tr>\n",
       "      <th>9998</th>\n",
       "      <td>95</td>\n",
       "      <td>https://ec.europa.eu/eurostat/statistics-expla...</td>\n",
       "      <td>Agriculture statistics at regional level</td>\n",
       "      <td>https://nlp4statref/knowledge/resource/authori...</td>\n",
       "      <td>https://nlp4statref/knowledge/resource/authori...</td>\n",
       "    </tr>\n",
       "    <tr>\n",
       "      <th>9999</th>\n",
       "      <td>950</td>\n",
       "      <td>https://ec.europa.eu/eurostat/statistics-expla...</td>\n",
       "      <td>Agri-environmental indicators</td>\n",
       "      <td>https://nlp4statref/knowledge/resource/authori...</td>\n",
       "      <td>Other</td>\n",
       "    </tr>\n",
       "  </tbody>\n",
       "</table>\n",
       "<p>10000 rows × 5 columns</p>\n",
       "</div>"
      ],
      "text/plain": [
       "         id                                                 ur  \\\n",
       "0         1  https://ec.europa.eu/eurostat/statistics-expla...   \n",
       "1        10  https://ec.europa.eu/eurostat/statistics-expla...   \n",
       "2       100  https://ec.europa.eu/eurostat/statistics-expla...   \n",
       "3      1000  https://ec.europa.eu/eurostat/statistics-expla...   \n",
       "4     10000  https://ec.europa.eu/eurostat/statistics-expla...   \n",
       "...     ...                                                ...   \n",
       "9995   9497  https://ec.europa.eu/eurostat/statistics-expla...   \n",
       "9996   9498  https://ec.europa.eu/eurostat/databrowser/view...   \n",
       "9997   9499  https://ec.europa.eu/eurostat/databrowser/view...   \n",
       "9998     95  https://ec.europa.eu/eurostat/statistics-expla...   \n",
       "9999    950  https://ec.europa.eu/eurostat/statistics-expla...   \n",
       "\n",
       "                                                    tit  \\\n",
       "0                                      Accident at work   \n",
       "1                          Gross domestic product (GDP)   \n",
       "2                                              Toxicity   \n",
       "3                                       Structural fund   \n",
       "4     Figure 3: EU-28, index of production (volume) ...   \n",
       "...                                                 ...   \n",
       "9995  05 Ageing Europe Pensions income and expenditu...   \n",
       "9996  Figure 11: Aggregate replacement ratio, 2010 a...   \n",
       "9997  Figure 19: Mean consumption expenditure, by ty...   \n",
       "9998           Agriculture statistics at regional level   \n",
       "9999                      Agri-environmental indicators   \n",
       "\n",
       "                                           resourceinfo  \\\n",
       "0     https://nlp4statref/knowledge/resource/authori...   \n",
       "1     https://nlp4statref/knowledge/resource/authori...   \n",
       "2     https://nlp4statref/knowledge/resource/authori...   \n",
       "3     https://nlp4statref/knowledge/resource/authori...   \n",
       "4     https://nlp4statref/knowledge/resource/authori...   \n",
       "...                                                 ...   \n",
       "9995  https://nlp4statref/knowledge/resource/authori...   \n",
       "9996  https://nlp4statref/knowledge/resource/authori...   \n",
       "9997  https://nlp4statref/knowledge/resource/authori...   \n",
       "9998  https://nlp4statref/knowledge/resource/authori...   \n",
       "9999  https://nlp4statref/knowledge/resource/authori...   \n",
       "\n",
       "                                            resourcetyp  \n",
       "0     https://nlp4statref/knowledge/resource/authori...  \n",
       "1     https://nlp4statref/knowledge/resource/authori...  \n",
       "2     https://nlp4statref/knowledge/resource/authori...  \n",
       "3     https://nlp4statref/knowledge/resource/authori...  \n",
       "4                                                 Other  \n",
       "...                                                 ...  \n",
       "9995  https://nlp4statref/knowledge/resource/authori...  \n",
       "9996                                              Other  \n",
       "9997                                              Other  \n",
       "9998  https://nlp4statref/knowledge/resource/authori...  \n",
       "9999                                              Other  \n",
       "\n",
       "[10000 rows x 5 columns]"
      ]
     },
     "execution_count": 43,
     "metadata": {},
     "output_type": "execute_result"
    }
   ],
   "source": [
    "\n",
    "SelectStatements = \"\"\"\n",
    "PREFIX estat: <https://nlp4statref/knowledge/ontology/>\n",
    "PREFIX rdf: <http://www.w3.org/1999/02/22-rdf-syntax-ns#> \n",
    "PREFIX dct: <http://purl.org/dc/terms/>\n",
    "\n",
    "SELECT ?id ?url ?title ?resourceinfo ?resourcetype \n",
    "WHERE { \n",
    "\n",
    "     ?estatid rdf:about ?id .\n",
    "     ?estatid dct:title ?title .\n",
    "     ?estatid estat:resourceInformation ?resourceinfo .\n",
    "     ?estatid dct:type ?resourcetype.\n",
    "     ?estatid dct:source ?url .\n",
    "\n",
    "}\n",
    "ORDER BY ASC(?id)\n",
    "\"\"\"\n",
    "\n",
    "sparql.setQuery(SelectStatements)\n",
    "sparql.method = \"POST\"\n",
    "sparql.setReturnFormat(JSON)\n",
    "results = sparql.query().convert()['results']['bindings']\n",
    "results = pd.json_normalize(results)\n",
    "results = results.drop([x for x in results.columns if '.type' in x], axis = 1)\n",
    "results.columns = results.columns.str.rstrip('.value')\n",
    "results"
   ]
  },
  {
   "cell_type": "code",
   "execution_count": 48,
   "metadata": {},
   "outputs": [
    {
     "data": {
      "text/plain": [
       "'https://nlp4statref/knowledge/resource/authority/resource-type#statistic-reference-metadata'"
      ]
     },
     "execution_count": 48,
     "metadata": {},
     "output_type": "execute_result"
    }
   ],
   "source": [
    " results.iloc[9995][4]"
   ]
  },
  {
   "cell_type": "markdown",
   "metadata": {},
   "source": [
    "### Search for a specific concept"
   ]
  },
  {
   "cell_type": "code",
   "execution_count": 31,
   "metadata": {},
   "outputs": [
    {
     "data": {
      "text/html": [
       "<div>\n",
       "<style scoped>\n",
       "    .dataframe tbody tr th:only-of-type {\n",
       "        vertical-align: middle;\n",
       "    }\n",
       "\n",
       "    .dataframe tbody tr th {\n",
       "        vertical-align: top;\n",
       "    }\n",
       "\n",
       "    .dataframe thead th {\n",
       "        text-align: right;\n",
       "    }\n",
       "</style>\n",
       "<table border=\"1\" class=\"dataframe\">\n",
       "  <thead>\n",
       "    <tr style=\"text-align: right;\">\n",
       "      <th></th>\n",
       "      <th>concept_id</th>\n",
       "      <th>prefLab</th>\n",
       "      <th>definition</th>\n",
       "    </tr>\n",
       "  </thead>\n",
       "  <tbody>\n",
       "    <tr>\n",
       "      <th>0</th>\n",
       "      <td>2014</td>\n",
       "      <td>Business demography</td>\n",
       "      <td>Business demography    covers:    events in th...</td>\n",
       "    </tr>\n",
       "  </tbody>\n",
       "</table>\n",
       "</div>"
      ],
      "text/plain": [
       "  concept_id              prefLab  \\\n",
       "0       2014  Business demography   \n",
       "\n",
       "                                          definition  \n",
       "0  Business demography    covers:    events in th...  "
      ]
     },
     "execution_count": 31,
     "metadata": {},
     "output_type": "execute_result"
    }
   ],
   "source": [
    "SelectStatements = \"\"\"\n",
    "PREFIX estat: <https://nlp4statref/knowledge/ontology/>\n",
    "PREFIX rdf: <http://www.w3.org/1999/02/22-rdf-syntax-ns#>\n",
    "PREFIX skos: <http://www.w3.org/2004/02/skos/core#>\n",
    "PREFIX dct: <http://purl.org/dc/terms/>\n",
    "\n",
    "SELECT ?id ?concept_id ?prefLabel ?definition ?related ?statisticalInformation ?sourceInformation ?altLabel\n",
    "WHERE { \n",
    "     ?estatid skos:prefLabel \"Business demography\".\n",
    "     ?estatid skos:Concept ?concept_id .\n",
    "     ?estatid skos:prefLabel ?prefLabel.\n",
    "     ?estatid skos:definition ?definition .\n",
    "\n",
    "}\n",
    "\"\"\"\n",
    "\n",
    "sparql.setQuery(SelectStatements)\n",
    "sparql.method = \"POST\"\n",
    "sparql.setReturnFormat(JSON)\n",
    "results = sparql.query().convert()['results']['bindings']\n",
    "results = pd.json_normalize(results)\n",
    "results = results.drop([x for x in results.columns if '.type' in x], axis = 1)\n",
    "results.columns = results.columns.str.rstrip('.value')\n",
    "results"
   ]
  },
  {
   "cell_type": "code",
   "execution_count": 32,
   "metadata": {},
   "outputs": [
    {
     "data": {
      "text/plain": [
       "'Business demography    covers:    events in the life cycle of an enterprise such as      births and other creations of enterprises     ,      deaths and other cessations of units     , and their ratio to the      business population     ;     the follow-up of enterprises over time, thus offering information on their      survival     or discontinuity;     development over time of certain characteristics like      size     , thus offering information on the growth of enterprises, or a      cohort     of enterprises, by type of activity.    Summarizing, business demography statistics presents data on:    the active population of enterprises;     their birth;     survival (followed up to five years after birth), and;     death.'"
      ]
     },
     "execution_count": 32,
     "metadata": {},
     "output_type": "execute_result"
    }
   ],
   "source": [
    "results['definition'][0]"
   ]
  },
  {
   "cell_type": "markdown",
   "metadata": {},
   "source": [
    "#### Related links"
   ]
  },
  {
   "cell_type": "code",
   "execution_count": 52,
   "metadata": {},
   "outputs": [
    {
     "data": {
      "text/html": [
       "<div>\n",
       "<style scoped>\n",
       "    .dataframe tbody tr th:only-of-type {\n",
       "        vertical-align: middle;\n",
       "    }\n",
       "\n",
       "    .dataframe tbody tr th {\n",
       "        vertical-align: top;\n",
       "    }\n",
       "\n",
       "    .dataframe thead th {\n",
       "        text-align: right;\n",
       "    }\n",
       "</style>\n",
       "<table border=\"1\" class=\"dataframe\">\n",
       "  <thead>\n",
       "    <tr style=\"text-align: right;\">\n",
       "      <th></th>\n",
       "      <th>related</th>\n",
       "    </tr>\n",
       "  </thead>\n",
       "  <tbody>\n",
       "    <tr>\n",
       "      <th>0</th>\n",
       "      <td>267</td>\n",
       "    </tr>\n",
       "    <tr>\n",
       "      <th>1</th>\n",
       "      <td>274</td>\n",
       "    </tr>\n",
       "    <tr>\n",
       "      <th>2</th>\n",
       "      <td>275</td>\n",
       "    </tr>\n",
       "    <tr>\n",
       "      <th>3</th>\n",
       "      <td>276</td>\n",
       "    </tr>\n",
       "  </tbody>\n",
       "</table>\n",
       "</div>"
      ],
      "text/plain": [
       "  related\n",
       "0     267\n",
       "1     274\n",
       "2     275\n",
       "3     276"
      ]
     },
     "execution_count": 52,
     "metadata": {},
     "output_type": "execute_result"
    }
   ],
   "source": [
    "SelectStatements = \"\"\"\n",
    "PREFIX estat: <https://nlp4statref/knowledge/ontology/>\n",
    "PREFIX rdf: <http://www.w3.org/1999/02/22-rdf-syntax-ns#>\n",
    "PREFIX skos: <http://www.w3.org/2004/02/skos/core#>\n",
    "PREFIX dct: <http://purl.org/dc/terms/>\n",
    "\n",
    "SELECT ?related\n",
    "WHERE { \n",
    "     estat:2014 skos:related ?related.\n",
    "}\n",
    "\"\"\"\n",
    "\n",
    "sparql.setQuery(SelectStatements)\n",
    "sparql.method = \"POST\"\n",
    "sparql.setReturnFormat(JSON)\n",
    "results = sparql.query().convert()['results']['bindings']\n",
    "results = pd.json_normalize(results)\n",
    "results = results.drop([x for x in results.columns if '.type' in x], axis = 1)\n",
    "results.columns = results.columns.str.rstrip('.value')\n",
    "results"
   ]
  },
  {
   "cell_type": "markdown",
   "metadata": {},
   "source": [
    "#### Statistical Information"
   ]
  },
  {
   "cell_type": "code",
   "execution_count": 53,
   "metadata": {},
   "outputs": [
    {
     "data": {
      "text/html": [
       "<div>\n",
       "<style scoped>\n",
       "    .dataframe tbody tr th:only-of-type {\n",
       "        vertical-align: middle;\n",
       "    }\n",
       "\n",
       "    .dataframe tbody tr th {\n",
       "        vertical-align: top;\n",
       "    }\n",
       "\n",
       "    .dataframe thead th {\n",
       "        text-align: right;\n",
       "    }\n",
       "</style>\n",
       "<table border=\"1\" class=\"dataframe\">\n",
       "  <thead>\n",
       "    <tr style=\"text-align: right;\">\n",
       "      <th></th>\n",
       "      <th>statisticalInformation</th>\n",
       "    </tr>\n",
       "  </thead>\n",
       "  <tbody>\n",
       "    <tr>\n",
       "      <th>0</th>\n",
       "      <td>277</td>\n",
       "    </tr>\n",
       "    <tr>\n",
       "      <th>1</th>\n",
       "      <td>2014</td>\n",
       "    </tr>\n",
       "  </tbody>\n",
       "</table>\n",
       "</div>"
      ],
      "text/plain": [
       "  statisticalInformation\n",
       "0                    277\n",
       "1                   2014"
      ]
     },
     "execution_count": 53,
     "metadata": {},
     "output_type": "execute_result"
    }
   ],
   "source": [
    "SelectStatements = \"\"\"\n",
    "PREFIX estat: <https://nlp4statref/knowledge/ontology/>\n",
    "PREFIX rdf: <http://www.w3.org/1999/02/22-rdf-syntax-ns#>\n",
    "PREFIX skos: <http://www.w3.org/2004/02/skos/core#>\n",
    "PREFIX dct: <http://purl.org/dc/terms/>\n",
    "\n",
    "SELECT ?statisticalInformation\n",
    "WHERE { \n",
    "     estat:2014 estat:statisticalInformation ?statisticalInformation.\n",
    "}\n",
    "\"\"\"\n",
    "\n",
    "sparql.setQuery(SelectStatements)\n",
    "sparql.method = \"POST\"\n",
    "sparql.setReturnFormat(JSON)\n",
    "results = sparql.query().convert()['results']['bindings']\n",
    "results = pd.json_normalize(results)\n",
    "results = results.drop([x for x in results.columns if '.type' in x], axis = 1)\n",
    "results.columns = results.columns.str.rstrip('.value')\n",
    "results\n"
   ]
  },
  {
   "cell_type": "markdown",
   "metadata": {},
   "source": [
    "#### Source information"
   ]
  },
  {
   "cell_type": "code",
   "execution_count": 54,
   "metadata": {},
   "outputs": [
    {
     "data": {
      "text/html": [
       "<div>\n",
       "<style scoped>\n",
       "    .dataframe tbody tr th:only-of-type {\n",
       "        vertical-align: middle;\n",
       "    }\n",
       "\n",
       "    .dataframe tbody tr th {\n",
       "        vertical-align: top;\n",
       "    }\n",
       "\n",
       "    .dataframe thead th {\n",
       "        text-align: right;\n",
       "    }\n",
       "</style>\n",
       "<table border=\"1\" class=\"dataframe\">\n",
       "  <thead>\n",
       "    <tr style=\"text-align: right;\">\n",
       "      <th></th>\n",
       "    </tr>\n",
       "  </thead>\n",
       "  <tbody>\n",
       "  </tbody>\n",
       "</table>\n",
       "</div>"
      ],
      "text/plain": [
       "Empty DataFrame\n",
       "Columns: []\n",
       "Index: []"
      ]
     },
     "execution_count": 54,
     "metadata": {},
     "output_type": "execute_result"
    }
   ],
   "source": [
    "SelectStatements = \"\"\"\n",
    "PREFIX estat: <https://nlp4statref/knowledge/ontology/>\n",
    "PREFIX rdf: <http://www.w3.org/1999/02/22-rdf-syntax-ns#>\n",
    "PREFIX skos: <http://www.w3.org/2004/02/skos/core#>\n",
    "PREFIX dct: <http://purl.org/dc/terms/>\n",
    "\n",
    "SELECT ?statisticalInformation\n",
    "WHERE { \n",
    "     estat:2014 estat:sourceInformation ?sourceInformation.\n",
    "}\n",
    "\"\"\"\n",
    "\n",
    "sparql.setQuery(SelectStatements)\n",
    "sparql.method = \"POST\"\n",
    "sparql.setReturnFormat(JSON)\n",
    "results = sparql.query().convert()['results']['bindings']\n",
    "results = pd.json_normalize(results)\n",
    "results = results.drop([x for x in results.columns if '.type' in x], axis = 1)\n",
    "results.columns = results.columns.str.rstrip('.value')\n",
    "results"
   ]
  },
  {
   "cell_type": "markdown",
   "metadata": {},
   "source": [
    "### Search for a description that contains the concept"
   ]
  },
  {
   "cell_type": "code",
   "execution_count": 55,
   "metadata": {},
   "outputs": [
    {
     "data": {
      "text/html": [
       "<div>\n",
       "<style scoped>\n",
       "    .dataframe tbody tr th:only-of-type {\n",
       "        vertical-align: middle;\n",
       "    }\n",
       "\n",
       "    .dataframe tbody tr th {\n",
       "        vertical-align: top;\n",
       "    }\n",
       "\n",
       "    .dataframe thead th {\n",
       "        text-align: right;\n",
       "    }\n",
       "</style>\n",
       "<table border=\"1\" class=\"dataframe\">\n",
       "  <thead>\n",
       "    <tr style=\"text-align: right;\">\n",
       "      <th></th>\n",
       "      <th>id</th>\n",
       "      <th>resourceinfo</th>\n",
       "      <th>resourcetyp</th>\n",
       "      <th>description</th>\n",
       "    </tr>\n",
       "  </thead>\n",
       "  <tbody>\n",
       "    <tr>\n",
       "      <th>0</th>\n",
       "      <td>3754</td>\n",
       "      <td>https://nlp4statref/knowledge/resource/authori...</td>\n",
       "      <td>https://nlp4statref/knowledge/resource/authori...</td>\n",
       "      <td>Eurostat compiles data on culture-related ente...</td>\n",
       "    </tr>\n",
       "    <tr>\n",
       "      <th>1</th>\n",
       "      <td>9133</td>\n",
       "      <td>https://nlp4statref/knowledge/resource/authori...</td>\n",
       "      <td>https://nlp4statref/knowledge/resource/authori...</td>\n",
       "      <td>Business demography data has been collected on...</td>\n",
       "    </tr>\n",
       "    <tr>\n",
       "      <th>2</th>\n",
       "      <td>6479</td>\n",
       "      <td>https://nlp4statref/knowledge/resource/authori...</td>\n",
       "      <td>https://nlp4statref/knowledge/resource/authori...</td>\n",
       "      <td>Eurostatâs structural business statistics de...</td>\n",
       "    </tr>\n",
       "    <tr>\n",
       "      <th>3</th>\n",
       "      <td>7736</td>\n",
       "      <td>https://nlp4statref/knowledge/resource/authori...</td>\n",
       "      <td>https://nlp4statref/knowledge/resource/authori...</td>\n",
       "      <td>This is the first publication covered by the m...</td>\n",
       "    </tr>\n",
       "  </tbody>\n",
       "</table>\n",
       "</div>"
      ],
      "text/plain": [
       "     id                                       resourceinfo  \\\n",
       "0  3754  https://nlp4statref/knowledge/resource/authori...   \n",
       "1  9133  https://nlp4statref/knowledge/resource/authori...   \n",
       "2  6479  https://nlp4statref/knowledge/resource/authori...   \n",
       "3  7736  https://nlp4statref/knowledge/resource/authori...   \n",
       "\n",
       "                                         resourcetyp  \\\n",
       "0  https://nlp4statref/knowledge/resource/authori...   \n",
       "1  https://nlp4statref/knowledge/resource/authori...   \n",
       "2  https://nlp4statref/knowledge/resource/authori...   \n",
       "3  https://nlp4statref/knowledge/resource/authori...   \n",
       "\n",
       "                                         description  \n",
       "0  Eurostat compiles data on culture-related ente...  \n",
       "1  Business demography data has been collected on...  \n",
       "2  Eurostatâs structural business statistics de...  \n",
       "3  This is the first publication covered by the m...  "
      ]
     },
     "execution_count": 55,
     "metadata": {},
     "output_type": "execute_result"
    }
   ],
   "source": [
    "SelectStatements = \"\"\"\n",
    "PREFIX estat: <https://nlp4statref/knowledge/ontology/>\n",
    "PREFIX rdf: <http://www.w3.org/1999/02/22-rdf-syntax-ns#>\n",
    "PREFIX skos: <http://www.w3.org/2004/02/skos/core#>\n",
    "PREFIX dct: <http://purl.org/dc/terms/>\n",
    "\n",
    "SELECT ?id ?resourceinfo ?resourcetype ?description\n",
    "WHERE { \n",
    "     ?estatid skos:description ?description.\n",
    "     ?estatid rdf:about ?id.\n",
    "     ?estatid estat:resourceInformation ?resourceinfo .\n",
    "     ?estatid dct:type ?resourcetype.\n",
    "     FILTER regex(?description, \"Business demography\", \"i\")\n",
    "\n",
    "}\n",
    "\"\"\"\n",
    "\n",
    "sparql.setQuery(SelectStatements)\n",
    "sparql.method = \"POST\"\n",
    "sparql.setReturnFormat(JSON)\n",
    "results = sparql.query().convert()['results']['bindings']\n",
    "results = pd.json_normalize(results)\n",
    "results = results.drop([x for x in results.columns if '.type' in x], axis = 1)\n",
    "results.columns = results.columns.str.rstrip('.value')\n",
    "results"
   ]
  },
  {
   "cell_type": "markdown",
   "metadata": {},
   "source": [
    "### Select articles that uses one of the dataset"
   ]
  },
  {
   "cell_type": "code",
   "execution_count": 56,
   "metadata": {},
   "outputs": [
    {
     "data": {
      "text/html": [
       "<div>\n",
       "<style scoped>\n",
       "    .dataframe tbody tr th:only-of-type {\n",
       "        vertical-align: middle;\n",
       "    }\n",
       "\n",
       "    .dataframe tbody tr th {\n",
       "        vertical-align: top;\n",
       "    }\n",
       "\n",
       "    .dataframe thead th {\n",
       "        text-align: right;\n",
       "    }\n",
       "</style>\n",
       "<table border=\"1\" class=\"dataframe\">\n",
       "  <thead>\n",
       "    <tr style=\"text-align: right;\">\n",
       "      <th></th>\n",
       "      <th>articleid</th>\n",
       "      <th>tit</th>\n",
       "      <th>ur</th>\n",
       "    </tr>\n",
       "  </thead>\n",
       "  <tbody>\n",
       "    <tr>\n",
       "      <th>0</th>\n",
       "      <td>3752</td>\n",
       "      <td>Culture statistics - cultural enterprises</td>\n",
       "      <td>https://ec.europa.eu/eurostat/statistics-expla...</td>\n",
       "    </tr>\n",
       "  </tbody>\n",
       "</table>\n",
       "</div>"
      ],
      "text/plain": [
       "  articleid                                        tit  \\\n",
       "0      3752  Culture statistics - cultural enterprises   \n",
       "\n",
       "                                                  ur  \n",
       "0  https://ec.europa.eu/eurostat/statistics-expla...  "
      ]
     },
     "execution_count": 56,
     "metadata": {},
     "output_type": "execute_result"
    }
   ],
   "source": [
    "SelectStatements = \"\"\"\n",
    "PREFIX estat: <https://nlp4statref/knowledge/ontology/>\n",
    "PREFIX rdf: <http://www.w3.org/1999/02/22-rdf-syntax-ns#>\n",
    "PREFIX skos: <http://www.w3.org/2004/02/skos/core#>\n",
    "PREFIX dct: <http://purl.org/dc/terms/>\n",
    "\n",
    "SELECT ?articleid ?title ?url \n",
    "WHERE { \n",
    "     ?estatid estat:StatisticsExplainedData \"3754\".\n",
    "     ?estatid rdf:about ?articleid.\n",
    "     ?estatid dct:title ?title .\n",
    "     ?estatid dct:source ?url .\n",
    "     \n",
    "}\n",
    "\"\"\"\n",
    "\n",
    "sparql.setQuery(SelectStatements)\n",
    "sparql.method = \"POST\"\n",
    "sparql.setReturnFormat(JSON)\n",
    "results = sparql.query().convert()['results']['bindings']\n",
    "results = pd.json_normalize(results)\n",
    "results = results.drop([x for x in results.columns if '.type' in x], axis = 1)\n",
    "results.columns = results.columns.str.rstrip('.value')\n",
    "results"
   ]
  },
  {
   "cell_type": "markdown",
   "metadata": {},
   "source": [
    "#### relatedEditorialContent"
   ]
  },
  {
   "cell_type": "code",
   "execution_count": 61,
   "metadata": {},
   "outputs": [
    {
     "data": {
      "text/html": [
       "<div>\n",
       "<style scoped>\n",
       "    .dataframe tbody tr th:only-of-type {\n",
       "        vertical-align: middle;\n",
       "    }\n",
       "\n",
       "    .dataframe tbody tr th {\n",
       "        vertical-align: top;\n",
       "    }\n",
       "\n",
       "    .dataframe thead th {\n",
       "        text-align: right;\n",
       "    }\n",
       "</style>\n",
       "<table border=\"1\" class=\"dataframe\">\n",
       "  <thead>\n",
       "    <tr style=\"text-align: right;\">\n",
       "      <th></th>\n",
       "      <th>relatedEditorialContent</th>\n",
       "      <th>tit</th>\n",
       "    </tr>\n",
       "  </thead>\n",
       "  <tbody>\n",
       "    <tr>\n",
       "      <th>0</th>\n",
       "      <td>3770</td>\n",
       "      <td>European statistical system network on culture...</td>\n",
       "    </tr>\n",
       "  </tbody>\n",
       "</table>\n",
       "</div>"
      ],
      "text/plain": [
       "  relatedEditorialContent                                                tit\n",
       "0                    3770  European statistical system network on culture..."
      ]
     },
     "execution_count": 61,
     "metadata": {},
     "output_type": "execute_result"
    }
   ],
   "source": [
    "SelectStatements = \"\"\"\n",
    "PREFIX estat: <https://nlp4statref/knowledge/ontology/>\n",
    "PREFIX rdf: <http://www.w3.org/1999/02/22-rdf-syntax-ns#>\n",
    "PREFIX skos: <http://www.w3.org/2004/02/skos/core#>\n",
    "PREFIX dct: <http://purl.org/dc/terms/>\n",
    "\n",
    "SELECT ?relatedEditorialContent ?title\n",
    "WHERE { \n",
    "     estat:3752 estat:relatedEditorialContent ?relatedEditorialContent.\n",
    "     ?editorial rdf:about ?relatedEditorialContent.\n",
    "     ?editorial dct:title ?title.\n",
    "     \n",
    "}\n",
    "\"\"\"\n",
    "\n",
    "sparql.setQuery(SelectStatements)\n",
    "sparql.method = \"POST\"\n",
    "sparql.setReturnFormat(JSON)\n",
    "results = sparql.query().convert()['results']['bindings']\n",
    "results = pd.json_normalize(results)\n",
    "results = results.drop([x for x in results.columns if '.type' in x], axis = 1)\n",
    "results.columns = results.columns.str.rstrip('.value')\n",
    "results"
   ]
  },
  {
   "cell_type": "markdown",
   "metadata": {},
   "source": [
    "#### relatedLegalInformation"
   ]
  },
  {
   "cell_type": "code",
   "execution_count": 58,
   "metadata": {},
   "outputs": [
    {
     "data": {
      "text/html": [
       "<div>\n",
       "<style scoped>\n",
       "    .dataframe tbody tr th:only-of-type {\n",
       "        vertical-align: middle;\n",
       "    }\n",
       "\n",
       "    .dataframe tbody tr th {\n",
       "        vertical-align: top;\n",
       "    }\n",
       "\n",
       "    .dataframe thead th {\n",
       "        text-align: right;\n",
       "    }\n",
       "</style>\n",
       "<table border=\"1\" class=\"dataframe\">\n",
       "  <thead>\n",
       "    <tr style=\"text-align: right;\">\n",
       "      <th></th>\n",
       "      <th>relatedLegalInformation</th>\n",
       "      <th>tit</th>\n",
       "    </tr>\n",
       "  </thead>\n",
       "  <tbody>\n",
       "    <tr>\n",
       "      <th>0</th>\n",
       "      <td>3774</td>\n",
       "      <td>European Council Work Plan for Culture (2019-2...</td>\n",
       "    </tr>\n",
       "    <tr>\n",
       "      <th>1</th>\n",
       "      <td>3775</td>\n",
       "      <td>European Council Work Plan for Culture (2015-2...</td>\n",
       "    </tr>\n",
       "    <tr>\n",
       "      <th>2</th>\n",
       "      <td>3776</td>\n",
       "      <td>Regulation (EU) No 1295/2013 of the European P...</td>\n",
       "    </tr>\n",
       "    <tr>\n",
       "      <th>3</th>\n",
       "      <td>3777</td>\n",
       "      <td>Summaries of EU Legislation: Creative Europe P...</td>\n",
       "    </tr>\n",
       "    <tr>\n",
       "      <th>4</th>\n",
       "      <td>3778</td>\n",
       "      <td>Communication from the Commission to the Europ...</td>\n",
       "    </tr>\n",
       "  </tbody>\n",
       "</table>\n",
       "</div>"
      ],
      "text/plain": [
       "  relatedLegalInformation                                                tit\n",
       "0                    3774  European Council Work Plan for Culture (2019-2...\n",
       "1                    3775  European Council Work Plan for Culture (2015-2...\n",
       "2                    3776  Regulation (EU) No 1295/2013 of the European P...\n",
       "3                    3777  Summaries of EU Legislation: Creative Europe P...\n",
       "4                    3778  Communication from the Commission to the Europ..."
      ]
     },
     "execution_count": 58,
     "metadata": {},
     "output_type": "execute_result"
    }
   ],
   "source": [
    "SelectStatements = \"\"\"\n",
    "PREFIX estat: <https://nlp4statref/knowledge/ontology/>\n",
    "PREFIX rdf: <http://www.w3.org/1999/02/22-rdf-syntax-ns#>\n",
    "PREFIX skos: <http://www.w3.org/2004/02/skos/core#>\n",
    "PREFIX dct: <http://purl.org/dc/terms/>\n",
    "\n",
    "SELECT ?relatedLegalInformation ?title\n",
    "WHERE { \n",
    "     estat:3752 estat:relatedLegalInformation ?relatedLegalInformation.\n",
    "     ?legalinfo rdf:about ?relatedLegalInformation.\n",
    "     ?legalinfo dct:title ?title.\n",
    "     \n",
    "}\n",
    "\"\"\"\n",
    "\n",
    "sparql.setQuery(SelectStatements)\n",
    "sparql.method = \"POST\"\n",
    "sparql.setReturnFormat(JSON)\n",
    "results = sparql.query().convert()['results']['bindings']\n",
    "results = pd.json_normalize(results)\n",
    "results = results.drop([x for x in results.columns if '.type' in x], axis = 1)\n",
    "results.columns = results.columns.str.rstrip('.value')\n",
    "results"
   ]
  },
  {
   "cell_type": "markdown",
   "metadata": {},
   "source": [
    "#### relatedStatisticData"
   ]
  },
  {
   "cell_type": "code",
   "execution_count": 60,
   "metadata": {},
   "outputs": [
    {
     "data": {
      "text/html": [
       "<div>\n",
       "<style scoped>\n",
       "    .dataframe tbody tr th:only-of-type {\n",
       "        vertical-align: middle;\n",
       "    }\n",
       "\n",
       "    .dataframe tbody tr th {\n",
       "        vertical-align: top;\n",
       "    }\n",
       "\n",
       "    .dataframe thead th {\n",
       "        text-align: right;\n",
       "    }\n",
       "</style>\n",
       "<table border=\"1\" class=\"dataframe\">\n",
       "  <thead>\n",
       "    <tr style=\"text-align: right;\">\n",
       "      <th></th>\n",
       "      <th>relatedStatisticDat</th>\n",
       "      <th>tit</th>\n",
       "    </tr>\n",
       "  </thead>\n",
       "  <tbody>\n",
       "    <tr>\n",
       "      <th>0</th>\n",
       "      <td>3754</td>\n",
       "      <td>Cultural enterprises CP2021.xlsx</td>\n",
       "    </tr>\n",
       "    <tr>\n",
       "      <th>1</th>\n",
       "      <td>3771</td>\n",
       "      <td>Enterprises in cultural sectors</td>\n",
       "    </tr>\n",
       "    <tr>\n",
       "      <th>2</th>\n",
       "      <td>3772</td>\n",
       "      <td>Structural business statistics</td>\n",
       "    </tr>\n",
       "    <tr>\n",
       "      <th>3</th>\n",
       "      <td>3773</td>\n",
       "      <td>Business demography</td>\n",
       "    </tr>\n",
       "  </tbody>\n",
       "</table>\n",
       "</div>"
      ],
      "text/plain": [
       "  relatedStatisticDat                               tit\n",
       "0                3754  Cultural enterprises CP2021.xlsx\n",
       "1                3771   Enterprises in cultural sectors\n",
       "2                3772    Structural business statistics\n",
       "3                3773               Business demography"
      ]
     },
     "execution_count": 60,
     "metadata": {},
     "output_type": "execute_result"
    }
   ],
   "source": [
    "SelectStatements = \"\"\"\n",
    "PREFIX estat: <https://nlp4statref/knowledge/ontology/>\n",
    "PREFIX rdf: <http://www.w3.org/1999/02/22-rdf-syntax-ns#>\n",
    "PREFIX skos: <http://www.w3.org/2004/02/skos/core#>\n",
    "PREFIX dct: <http://purl.org/dc/terms/>\n",
    "\n",
    "SELECT ?relatedStatisticData ?title\n",
    "WHERE { \n",
    "     estat:3752 estat:relatedStatisticData ?relatedStatisticData.\n",
    "     ?statinfo rdf:about ?relatedStatisticData.\n",
    "     ?statinfo dct:title ?title.\n",
    "     \n",
    "}\n",
    "\"\"\"\n",
    "\n",
    "sparql.setQuery(SelectStatements)\n",
    "sparql.method = \"POST\"\n",
    "sparql.setReturnFormat(JSON)\n",
    "results = sparql.query().convert()['results']['bindings']\n",
    "results = pd.json_normalize(results)\n",
    "results = results.drop([x for x in results.columns if '.type' in x], axis = 1)\n",
    "results.columns = results.columns.str.rstrip('.value')\n",
    "results"
   ]
  },
  {
   "cell_type": "markdown",
   "metadata": {},
   "source": [
    "#### Details on one of the related links"
   ]
  },
  {
   "cell_type": "code",
   "execution_count": 42,
   "metadata": {},
   "outputs": [
    {
     "data": {
      "text/html": [
       "<div>\n",
       "<style scoped>\n",
       "    .dataframe tbody tr th:only-of-type {\n",
       "        vertical-align: middle;\n",
       "    }\n",
       "\n",
       "    .dataframe tbody tr th {\n",
       "        vertical-align: top;\n",
       "    }\n",
       "\n",
       "    .dataframe thead th {\n",
       "        text-align: right;\n",
       "    }\n",
       "</style>\n",
       "<table border=\"1\" class=\"dataframe\">\n",
       "  <thead>\n",
       "    <tr style=\"text-align: right;\">\n",
       "      <th></th>\n",
       "      <th>id</th>\n",
       "      <th>ur</th>\n",
       "      <th>tit</th>\n",
       "      <th>resourceinfo</th>\n",
       "      <th>resourcetyp</th>\n",
       "    </tr>\n",
       "  </thead>\n",
       "  <tbody>\n",
       "    <tr>\n",
       "      <th>0</th>\n",
       "      <td>3774</td>\n",
       "      <td>https://eur-lex.europa.eu/legal-content/EN/TXT...</td>\n",
       "      <td>European Council Work Plan for Culture (2019-2...</td>\n",
       "      <td>https://nlp4statref/knowledge/resource/authori...</td>\n",
       "      <td>https://nlp4statref/knowledge/resource/authori...</td>\n",
       "    </tr>\n",
       "  </tbody>\n",
       "</table>\n",
       "</div>"
      ],
      "text/plain": [
       "     id                                                 ur  \\\n",
       "0  3774  https://eur-lex.europa.eu/legal-content/EN/TXT...   \n",
       "\n",
       "                                                 tit  \\\n",
       "0  European Council Work Plan for Culture (2019-2...   \n",
       "\n",
       "                                        resourceinfo  \\\n",
       "0  https://nlp4statref/knowledge/resource/authori...   \n",
       "\n",
       "                                         resourcetyp  \n",
       "0  https://nlp4statref/knowledge/resource/authori...  "
      ]
     },
     "execution_count": 42,
     "metadata": {},
     "output_type": "execute_result"
    }
   ],
   "source": [
    "\n",
    "SelectStatements = \"\"\"\n",
    "PREFIX estat: <https://nlp4statref/knowledge/ontology/>\n",
    "PREFIX rdf: <http://www.w3.org/1999/02/22-rdf-syntax-ns#> \n",
    "PREFIX dct: <http://purl.org/dc/terms/>\n",
    "\n",
    "SELECT ?id ?url ?title ?resourceinfo ?resourcetype \n",
    "WHERE { \n",
    "\n",
    "     ?estatid rdf:about \"3774\".\n",
    "     ?estatid rdf:about ?id .\n",
    "     ?estatid dct:title ?title .\n",
    "     ?estatid estat:resourceInformation ?resourceinfo .\n",
    "     ?estatid dct:type ?resourcetype.\n",
    "     ?estatid dct:source ?url .\n",
    "\n",
    "}\n",
    "ORDER BY ASC(?id)\n",
    "\"\"\"\n",
    "\n",
    "sparql.setQuery(SelectStatements)\n",
    "sparql.method = \"POST\"\n",
    "sparql.setReturnFormat(JSON)\n",
    "results = sparql.query().convert()['results']['bindings']\n",
    "results = pd.json_normalize(results)\n",
    "results = results.drop([x for x in results.columns if '.type' in x], axis = 1)\n",
    "results.columns = results.columns.str.rstrip('.value')\n",
    "results"
   ]
  }
 ],
 "metadata": {
  "kernelspec": {
   "display_name": "Python 3",
   "language": "python",
   "name": "python3"
  },
  "language_info": {
   "codemirror_mode": {
    "name": "ipython",
    "version": 3
   },
   "file_extension": ".py",
   "mimetype": "text/x-python",
   "name": "python",
   "nbconvert_exporter": "python",
   "pygments_lexer": "ipython3",
   "version": "3.8.3"
  }
 },
 "nbformat": 4,
 "nbformat_minor": 4
}
