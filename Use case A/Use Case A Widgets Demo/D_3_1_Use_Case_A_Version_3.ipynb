{
 "cells": [
  {
   "cell_type": "markdown",
   "metadata": {
    "id": "qDAl1L9iXEVQ"
   },
   "source": [
    "# Note: Please run all cells once. When the widgets are ready for use, the notebook will automatically will hide all code chunks and ... voila!!! #\n",
    "***"
   ]
  },
  {
   "cell_type": "markdown",
   "metadata": {
    "extensions": {
     "jupyter_dashboards": {
      "version": 1,
      "views": {
       "default_view": {
        "col": 0,
        "height": 4,
        "row": 0,
        "width": 12
       }
      }
     }
    },
    "id": "b749kSQbXgd3"
   },
   "source": [
    "# Use case A \n",
    "### “Asset querying” – Making the most of internal data assets in their multiple forms\n"
   ]
  },
  {
   "cell_type": "markdown",
   "metadata": {
    "extensions": {
     "jupyter_dashboards": {
      "version": 1,
      "views": {
       "default_view": {
        "col": 0,
        "height": 3,
        "row": 4,
        "width": 12
       }
      }
     }
    },
    "id": "jMNe51AXXgd4"
   },
   "source": [
    "The Use Case A is the ability to annotate and enrich content from the Knowledge Database.\n",
    "A user makes a query to the Eurostat Website, this query goes through a tool that is in direct relation with KDB. The KDB is used to enriched documents from the Eurostat Website, and the product of these enrich documents will be the answer to the query made by the user. \n"
   ]
  },
  {
   "cell_type": "markdown",
   "metadata": {
    "extensions": {
     "jupyter_dashboards": {
      "version": 1,
      "views": {
       "default_view": {
        "col": 0,
        "height": 3,
        "row": 7,
        "width": 12
       }
      }
     }
    },
    "id": "ZWsTozcSXgd6"
   },
   "source": [
    "The query made by the user will either be a query builder, a faceted search, a data exploration or a visual data browsing. As presented in the schema above, the two first solutions, query builders and faceted search are about looking into specific content, while the two latter, data exploration and visual data browsing (graphical navigation) are more used to provide a general idea of the content inside the data. "
   ]
  },
  {
   "cell_type": "markdown",
   "metadata": {
    "extensions": {
     "jupyter_dashboards": {
      "version": 1,
      "views": {
       "default_view": {
        "col": 0,
        "height": 3,
        "row": 13,
        "width": 12
       }
      }
     }
    },
    "id": "zGT0avmoXgd9"
   },
   "source": [
    "### Scenario A: Query Builder\n",
    "***\n"
   ]
  },
  {
   "cell_type": "markdown",
   "metadata": {
    "extensions": {
     "jupyter_dashboards": {
      "version": 1,
      "views": {
       "default_view": {
        "col": 0,
        "height": 2,
        "row": 16,
        "width": 12
       }
      }
     }
    },
    "id": "RKVHEXL_Xgd-"
   },
   "source": [
    "A query builder is a program that builds a query from a set of parameters designed to perform a search in a specific database.I the libraries are loaded and the data related to the statistical articles are uploaded."
   ]
  },
  {
   "cell_type": "code",
   "execution_count": 35,
   "metadata": {
    "id": "8ibNWPOKXEVe"
   },
   "outputs": [
    {
     "data": {
      "text/html": [
       "<style>.container { width:100% !important; }</style>"
      ],
      "text/plain": [
       "<IPython.core.display.HTML object>"
      ]
     },
     "metadata": {},
     "output_type": "display_data"
    },
    {
     "name": "stdout",
     "output_type": "stream",
     "text": [
      "Requirement already satisfied: en-core-web-md==3.0.0 from https://github.com/explosion/spacy-models/releases/download/en_core_web_md-3.0.0/en_core_web_md-3.0.0-py3-none-any.whl#egg=en_core_web_md==3.0.0 in d:\\programdata\\anaconda3\\lib\\site-packages (3.0.0)\n",
      "Requirement already satisfied: spacy<3.1.0,>=3.0.0 in d:\\programdata\\anaconda3\\lib\\site-packages (from en-core-web-md==3.0.0) (3.0.3)\n",
      "Requirement already satisfied: requests<3.0.0,>=2.13.0 in d:\\programdata\\anaconda3\\lib\\site-packages (from spacy<3.1.0,>=3.0.0->en-core-web-md==3.0.0) (2.24.0)\n",
      "Requirement already satisfied: jinja2 in d:\\programdata\\anaconda3\\lib\\site-packages (from spacy<3.1.0,>=3.0.0->en-core-web-md==3.0.0) (2.11.2)\n",
      "Requirement already satisfied: cymem<2.1.0,>=2.0.2 in d:\\programdata\\anaconda3\\lib\\site-packages (from spacy<3.1.0,>=3.0.0->en-core-web-md==3.0.0) (2.0.5)\n",
      "Requirement already satisfied: murmurhash<1.1.0,>=0.28.0 in d:\\programdata\\anaconda3\\lib\\site-packages (from spacy<3.1.0,>=3.0.0->en-core-web-md==3.0.0) (1.0.5)\n",
      "Requirement already satisfied: spacy-legacy<3.1.0,>=3.0.0 in d:\\programdata\\anaconda3\\lib\\site-packages (from spacy<3.1.0,>=3.0.0->en-core-web-md==3.0.0) (3.0.1)\n",
      "Requirement already satisfied: wasabi<1.1.0,>=0.8.1 in d:\\programdata\\anaconda3\\lib\\site-packages (from spacy<3.1.0,>=3.0.0->en-core-web-md==3.0.0) (0.8.2)\n",
      "Requirement already satisfied: numpy>=1.15.0 in d:\\programdata\\anaconda3\\lib\\site-packages (from spacy<3.1.0,>=3.0.0->en-core-web-md==3.0.0) (1.19.2)\n",
      "Requirement already satisfied: srsly<3.0.0,>=2.4.0 in d:\\programdata\\anaconda3\\lib\\site-packages (from spacy<3.1.0,>=3.0.0->en-core-web-md==3.0.0) (2.4.0)\n",
      "Requirement already satisfied: packaging>=20.0 in d:\\programdata\\anaconda3\\lib\\site-packages (from spacy<3.1.0,>=3.0.0->en-core-web-md==3.0.0) (20.4)\n",
      "Requirement already satisfied: catalogue<2.1.0,>=2.0.1 in d:\\programdata\\anaconda3\\lib\\site-packages (from spacy<3.1.0,>=3.0.0->en-core-web-md==3.0.0) (2.0.1)\n",
      "Requirement already satisfied: preshed<3.1.0,>=3.0.2 in d:\\programdata\\anaconda3\\lib\\site-packages (from spacy<3.1.0,>=3.0.0->en-core-web-md==3.0.0) (3.0.5)\n",
      "Requirement already satisfied: setuptools in d:\\programdata\\anaconda3\\lib\\site-packages (from spacy<3.1.0,>=3.0.0->en-core-web-md==3.0.0) (50.3.1.post20201107)\n",
      "Requirement already satisfied: tqdm<5.0.0,>=4.38.0 in d:\\programdata\\anaconda3\\lib\\site-packages (from spacy<3.1.0,>=3.0.0->en-core-web-md==3.0.0) (4.50.2)\n",
      "Requirement already satisfied: pathy in d:\\programdata\\anaconda3\\lib\\site-packages (from spacy<3.1.0,>=3.0.0->en-core-web-md==3.0.0) (0.3.5)\n",
      "Requirement already satisfied: thinc<8.1.0,>=8.0.0 in d:\\programdata\\anaconda3\\lib\\site-packages (from spacy<3.1.0,>=3.0.0->en-core-web-md==3.0.0) (8.0.1)\n",
      "Requirement already satisfied: pydantic<1.8.0,>=1.7.1 in d:\\programdata\\anaconda3\\lib\\site-packages (from spacy<3.1.0,>=3.0.0->en-core-web-md==3.0.0) (1.7.3)\n",
      "Requirement already satisfied: blis<0.8.0,>=0.4.0 in d:\\programdata\\anaconda3\\lib\\site-packages (from spacy<3.1.0,>=3.0.0->en-core-web-md==3.0.0) (0.7.4)\n",
      "Requirement already satisfied: typer<0.4.0,>=0.3.0 in d:\\programdata\\anaconda3\\lib\\site-packages (from spacy<3.1.0,>=3.0.0->en-core-web-md==3.0.0) (0.3.2)\n",
      "Requirement already satisfied: chardet<4,>=3.0.2 in d:\\programdata\\anaconda3\\lib\\site-packages (from requests<3.0.0,>=2.13.0->spacy<3.1.0,>=3.0.0->en-core-web-md==3.0.0) (3.0.4)\n",
      "Requirement already satisfied: certifi>=2017.4.17 in d:\\programdata\\anaconda3\\lib\\site-packages (from requests<3.0.0,>=2.13.0->spacy<3.1.0,>=3.0.0->en-core-web-md==3.0.0) (2020.6.20)\n",
      "Requirement already satisfied: urllib3!=1.25.0,!=1.25.1,<1.26,>=1.21.1 in d:\\programdata\\anaconda3\\lib\\site-packages (from requests<3.0.0,>=2.13.0->spacy<3.1.0,>=3.0.0->en-core-web-md==3.0.0) (1.25.11)\n",
      "Requirement already satisfied: idna<3,>=2.5 in d:\\programdata\\anaconda3\\lib\\site-packages (from requests<3.0.0,>=2.13.0->spacy<3.1.0,>=3.0.0->en-core-web-md==3.0.0) (2.10)\n",
      "Requirement already satisfied: MarkupSafe>=0.23 in d:\\programdata\\anaconda3\\lib\\site-packages (from jinja2->spacy<3.1.0,>=3.0.0->en-core-web-md==3.0.0) (1.1.1)\n",
      "Requirement already satisfied: pyparsing>=2.0.2 in d:\\programdata\\anaconda3\\lib\\site-packages (from packaging>=20.0->spacy<3.1.0,>=3.0.0->en-core-web-md==3.0.0) (2.4.7)\n",
      "Requirement already satisfied: six in d:\\programdata\\anaconda3\\lib\\site-packages (from packaging>=20.0->spacy<3.1.0,>=3.0.0->en-core-web-md==3.0.0) (1.15.0)\n",
      "Requirement already satisfied: smart-open<4.0.0,>=2.2.0 in d:\\programdata\\anaconda3\\lib\\site-packages (from pathy->spacy<3.1.0,>=3.0.0->en-core-web-md==3.0.0) (2.2.1)\n",
      "Requirement already satisfied: click<7.2.0,>=7.1.1 in d:\\programdata\\anaconda3\\lib\\site-packages (from typer<0.4.0,>=0.3.0->spacy<3.1.0,>=3.0.0->en-core-web-md==3.0.0) (7.1.2)\n",
      "Requirement already satisfied: boto3 in d:\\programdata\\anaconda3\\lib\\site-packages (from smart-open<4.0.0,>=2.2.0->pathy->spacy<3.1.0,>=3.0.0->en-core-web-md==3.0.0) (1.17.7)\n",
      "Requirement already satisfied: botocore<1.21.0,>=1.20.7 in d:\\programdata\\anaconda3\\lib\\site-packages (from boto3->smart-open<4.0.0,>=2.2.0->pathy->spacy<3.1.0,>=3.0.0->en-core-web-md==3.0.0) (1.20.7)\n",
      "Requirement already satisfied: jmespath<1.0.0,>=0.7.1 in d:\\programdata\\anaconda3\\lib\\site-packages (from boto3->smart-open<4.0.0,>=2.2.0->pathy->spacy<3.1.0,>=3.0.0->en-core-web-md==3.0.0) (0.10.0)\n",
      "Requirement already satisfied: s3transfer<0.4.0,>=0.3.0 in d:\\programdata\\anaconda3\\lib\\site-packages (from boto3->smart-open<4.0.0,>=2.2.0->pathy->spacy<3.1.0,>=3.0.0->en-core-web-md==3.0.0) (0.3.4)\n",
      "Requirement already satisfied: python-dateutil<3.0.0,>=2.1 in d:\\programdata\\anaconda3\\lib\\site-packages (from botocore<1.21.0,>=1.20.7->boto3->smart-open<4.0.0,>=2.2.0->pathy->spacy<3.1.0,>=3.0.0->en-core-web-md==3.0.0) (2.8.1)\n",
      "[+] Download and installation successful\n",
      "You can now load the package via spacy.load('en_core_web_md')\n",
      "Finished loading.\n"
     ]
    }
   ],
   "source": [
    "#Load libraries\n",
    "import pandas as pd\n",
    "from pandas import read_excel\n",
    "import numpy as np \n",
    "import os\n",
    "##import ee\n",
    "##import string \n",
    "\n",
    "#Widgets libraries\n",
    "\n",
    "import ipywidgets\n",
    "import ipywidgets as widgets\n",
    "from ipywidgets import interact,Layout, IntSlider, interactive, widgets, interact_manual,HBox,fixed,VBox, Box, HTML\n",
    "from ipywidgets import Button, FloatText, Textarea, Dropdown, Label\n",
    "from ipywidgets import interact_manual\n",
    "layout = widgets.Layout(width='400px', height='30px')\n",
    "\n",
    "import warnings\n",
    "warnings.filterwarnings(\"ignore\",category=DeprecationWarning)\n",
    "\n",
    "pd.set_option('display.max_rows' , 1000)\n",
    "pd.set_option('display.max_columns' , 1000)\n",
    "pd.options.display.float_format = \"{:.2f}\".format\n",
    "\n",
    "##from sklearn.feature_extraction import text\n",
    "##from sklearn.feature_extraction.text import CountVectorizer, TfidfVectorizer\n",
    "##from sklearn.decomposition import LatentDirichletAllocation\n",
    "\n",
    "import scispacy\n",
    "#import spacy\n",
    "#import en_core_sci_lg\n",
    "from scipy.spatial.distance import jensenshannon\n",
    "\n",
    "from IPython.display import HTML, display,clear_output\n",
    "from IPython.utils import io\n",
    "from IPython.core.display import display, HTML\n",
    "display(HTML(\"<style>.container { width:100% !important; }</style>\"))\n",
    "\n",
    "#from os.path import isfile\n",
    "from itertools import product\n",
    "import re\n",
    "import pprint\n",
    "from pprint import pprint\n",
    "import spacy\n",
    "import sys\n",
    "## Run to install the language library, then comment-out\n",
    "!{sys.executable} -m spacy download en_core_web_md\n",
    "\n",
    "nlp = spacy.load('en_core_web_md')\n",
    "print('Finished loading.')\n",
    "nlp.max_length = 3000000\n",
    "\n",
    "\n",
    "import logging\n",
    "logging.basicConfig(format='%(asctime)s : %(levelname)s : %(message)s', level=logging.ERROR)"
   ]
  },
  {
   "cell_type": "markdown",
   "metadata": {
    "extensions": {
     "jupyter_dashboards": {
      "version": 1,
      "views": {
       "default_view": {
        "col": 0,
        "height": 5,
        "row": 18,
        "width": 12
       }
      }
     }
    },
    "id": "yOnzuKEUXgeA"
   },
   "source": [
    "#### **Builder 1: Simple Keyword Searching**\n",
    "***\n",
    "The user inserts a keyword and this query structure finds articles including the keyword in the raw content of the article and then it returns the titles of the articles (related to the keyword) with their urls.\n",
    "\n",
    "We have created an interactive widget, where the user has the potential to change simultaneously the keyword, category and number of articles displayed."
   ]
  },
  {
   "cell_type": "code",
   "execution_count": 36,
   "metadata": {
    "id": "gyQOHkiGXEVk"
   },
   "outputs": [],
   "source": [
    "data = pd.read_csv('data.csv')   \n",
    "##data"
   ]
  },
  {
   "cell_type": "code",
   "execution_count": 37,
   "metadata": {
    "extensions": {
     "jupyter_dashboards": {
      "version": 1,
      "views": {
       "default_view": {
        "hidden": true
       }
      }
     }
    },
    "id": "CpnpmFPYXgeD"
   },
   "outputs": [],
   "source": [
    "def change_top_articles(Top_articles, Keywords, categories):\n",
    "  \n",
    " \n",
    "  #Search by category in raw content\n",
    "  if Keywords == '':\n",
    "    print(\"\")\n",
    "  else:\n",
    "    if categories == \"All Categories\":\n",
    "      df1 = data[data['raw content'].str.contains(Keywords)]\n",
    "      if df1.title.count() == 0:\n",
    "        print(\"Not matches found\")\n",
    "      else:\n",
    "        print(df1.title.count(),\" articles found\")\n",
    "        #output  \n",
    "        h = '<br/'.join(['<a href=\"' + l + '\" target=\"_blank\">'+ n for l,n in df1[[\"url\",\"title\"]][0:Top_articles].values])\n",
    "        return display(HTML( h))\n",
    "        #print(df1[:Top_articles.value])\n",
    "    \n",
    "     \n",
    "    else:\n",
    "      candidate = data[data['categories'].str.contains(categories)]\n",
    "      df1 = candidate[candidate['raw content'].str.contains(Keywords)]\n",
    "      if df1.title.count() == 0:\n",
    "        print(\"Not mathces found\")\n",
    "      else:\n",
    "        print(df1.title.count(),\" articles found\")\n",
    "        #print(df1[:Top_articles.value])\n",
    "        #output  \n",
    "        h = '<br/'.join(['<a href=\"' + l + '\" target=\"_blank\">'+ n for l,n in df1[[\"url\",\"title\"]][0:Top_articles].values])\n",
    "        return display(HTML( h))            "
   ]
  },
  {
   "cell_type": "code",
   "execution_count": 38,
   "metadata": {
    "extensions": {
     "jupyter_dashboards": {
      "version": 1,
      "views": {
       "default_view": {
        "hidden": true
       }
      }
     }
    },
    "id": "dcqB4zq_XgeD"
   },
   "outputs": [],
   "source": [
    "def query_build2():\n",
    "  style = {'description_width': 'initial'}\n",
    "  categories = widgets.Dropdown(\n",
    "      description='Select Category:',\n",
    "      options=['All Categories','Health', 'Tourism',  'Energy', 'Agriculture', 'World trade' ],\n",
    "      value='All Categories',\n",
    "      style=style\n",
    "  )\n",
    "\n",
    "  Top_articles = widgets.IntSlider(\n",
    "      description='Display',\n",
    "      tooltip='maximum:',\n",
    "      value=5,\n",
    "      min=1, \n",
    "      max = 30,\n",
    "      style={'description_width': 'initial'}\n",
    "  )\n",
    "\n",
    "\n",
    "  Keywords = widgets.Text(\n",
    "      value='hospitals',\n",
    "      placeholder='Type something',\n",
    "      description='Keywords:',\n",
    "      disabled=False\n",
    "  )\n",
    "\n",
    "\n",
    "\n",
    "  ui = widgets.HBox([Keywords, categories, Top_articles])\n",
    "\n",
    "  out = widgets.interactive_output(change_top_articles, {'Top_articles': Top_articles, 'Keywords': Keywords, 'categories': categories})\n",
    "\n",
    "  display(ui, out)\n"
   ]
  },
  {
   "cell_type": "code",
   "execution_count": 39,
   "metadata": {
    "extensions": {
     "jupyter_dashboards": {
      "version": 1,
      "views": {
       "default_view": {
        "col": 0,
        "height": 4,
        "row": 23,
        "width": 12
       }
      }
     }
    },
    "id": "EhkwCMvoXgeE"
   },
   "outputs": [
    {
     "data": {
      "application/vnd.jupyter.widget-view+json": {
       "model_id": "0953119a22744169b3fd856becb52979",
       "version_major": 2,
       "version_minor": 0
      },
      "text/plain": [
       "HBox(children=(Text(value='hospitals', description='Keywords:', placeholder='Type something'), Dropdown(descri…"
      ]
     },
     "metadata": {},
     "output_type": "display_data"
    },
    {
     "data": {
      "application/vnd.jupyter.widget-view+json": {
       "model_id": "3944674eb1b34f2da859b23482582527",
       "version_major": 2,
       "version_minor": 0
      },
      "text/plain": [
       "Output()"
      ]
     },
     "metadata": {},
     "output_type": "display_data"
    }
   ],
   "source": [
    "query_build2()"
   ]
  },
  {
   "cell_type": "markdown",
   "metadata": {
    "extensions": {
     "jupyter_dashboards": {
      "version": 1,
      "views": {
       "default_view": {
        "col": 0,
        "height": 5,
        "row": 27,
        "width": 12
       }
      }
     }
    },
    "id": "QbbPP1uOXgeE"
   },
   "source": [
    "#### **Builder 2: Advanced Keyword Searching**\n",
    "***\n",
    "This query structure allows for advanced searching in terms of searching options. For example, the user can either search by titles, keywords related to the abstract or to the content of the article. An individual could also narrow down results by selecting a spesific category, year of the last update of the article and finally how many articles to display.\n",
    "\n",
    "We have created an interctive widget, where the user can shift from simple keyword searching (described in Builder 1)  to the advanced mode. There is still the potential for the user to change simultaneously the searching options."
   ]
  },
  {
   "cell_type": "code",
   "execution_count": 40,
   "metadata": {
    "extensions": {
     "jupyter_dashboards": {
      "version": 1,
      "views": {
       "default_view": {
        "hidden": true
       }
      }
     }
    },
    "id": "AqiB0eAQNqZg"
   },
   "outputs": [],
   "source": [
    "def AdvancedSearch(Top_articles, Keywords, categories, title, abstract):\n",
    "  #data = dat\n",
    "  # Search by Title\n",
    "  if title == '':\n",
    "    # Abstract if\n",
    "    if abstract == '':\n",
    "      # Keyword if\n",
    "      if Keywords == '':\n",
    "        print(\"\")\n",
    "\n",
    "      # Keywords == string\n",
    "      else:\n",
    "        if categories == \"All Categories\":\n",
    "          df1 = data[data['raw content'].str.contains(Keywords)]\n",
    "          if df1.title.count() == 0:\n",
    "            print(\"Not mathces found\")\n",
    "          else:\n",
    "            print(df1.title.count(),\" articles found\")\n",
    "            #output  \n",
    "            h = '<br/'.join(['<a href=\"' + l + '\" target=\"_blank\">'+ n for l,n in df1[[\"url\",\"title\"]][0:Top_articles].values])\n",
    "            return display(HTML( h))\n",
    "            #print(df1[:Top_articles.value])\n",
    "        \n",
    "        #Else for category = 'string'\n",
    "        else:\n",
    "          candidate = data[data['categories'].str.contains(categories)]\n",
    "          df1 = candidate[candidate['raw content'].str.contains(Keywords)]\n",
    "          if df1.title.count() == 0:\n",
    "            print(\"Not mathces found\")\n",
    "          else:\n",
    "            print(df1.title.count(),\" articles found\")\n",
    "            #print(df1[:Top_articles.value])\n",
    "            #output  \n",
    "            h = '<br/'.join(['<a href=\"' + l + '\" target=\"_blank\">'+ n for l,n in df1[[\"url\",\"title\"]][0:Top_articles].values])\n",
    "            return display(HTML( h))\n",
    "\n",
    "\n",
    "\n",
    "\n",
    "\n",
    "\n",
    "\n",
    "\n",
    "    # Else abstract ==string\n",
    "    else:\n",
    "      abstractArt = data[data['abstract'].str.contains(abstract)]\n",
    "\n",
    "      #Keywords if\n",
    "      if Keywords == '':\n",
    "        if categories == \"All Categories\":\n",
    "          \n",
    "          if abstractArt.title.count() == 0:\n",
    "            print(\"Not mathces found\")\n",
    "          else:\n",
    "            print(abstractArt.title.count(),\" articles found\")\n",
    "            #output  \n",
    "            h = '<br/'.join(['<a href=\"' + l + '\" target=\"_blank\">'+ n for l,n in abstractArt[[\"url\",\"title\"]][0:Top_articles].values])\n",
    "            return display(HTML( h))\n",
    "            \n",
    "        \n",
    "        #Else for category = 'string'\n",
    "        else:\n",
    "          candidate = abstractArt[abstractArt['categories'].str.contains(categories)]\n",
    "          if candidate.title.count() == 0:\n",
    "            print(\"Not mathces found\")\n",
    "          else:\n",
    "            print(candidate.title.count(),\" articles found\")\n",
    "            #print(df1[:Top_articles.value])\n",
    "            #output  \n",
    "            h = '<br/'.join(['<a href=\"' + l + '\" target=\"_blank\">'+ n for l,n in candidate[[\"url\",\"title\"]][0:Top_articles].values])\n",
    "            return display(HTML( h))\n",
    "\n",
    "\n",
    "      # else keywords == string\n",
    "      else:\n",
    "        KeywordArt = abstractArt[abstractArt['raw content'].str.contains(Keywords)]\n",
    "        if categories == \"All Categories\":\n",
    "            if KeywordArt.title.count() == 0:\n",
    "              print(\"Not mathces found\")\n",
    "            else:\n",
    "              print(KeywordArt.title.count(),\" articles found\")\n",
    "              #output  \n",
    "              h = '<br/'.join(['<a href=\"' + l + '\" target=\"_blank\">'+ n for l,n in KeywordArt[[\"url\",\"title\"]][0:Top_articles].values])\n",
    "              return display(HTML( h))\n",
    "              \n",
    "        else:\n",
    "          candidate = KeywordArt[KeywordArt['categories'].str.contains(categories)]\n",
    "          if candidate.title.count() == 0:\n",
    "            print(\"Not mathces found\")\n",
    "          else:\n",
    "            print(candidate.title.count(),\" articles found\")\n",
    "            #output  \n",
    "            h = '<br/'.join(['<a href=\"' + l + '\" target=\"_blank\">'+ n for l,n in candidate[[\"url\",\"title\"]][0:Top_articles].values])\n",
    "            return display(HTML( h))\n",
    "\n",
    "    \n",
    "    \n",
    " \n",
    " ################ Else for title = 'string' #######################################################################################################\n",
    "  else:\n",
    "    #Abstract if \n",
    "    titleArt = data[data['title'].str.contains(title)]\n",
    "    if abstract == '':\n",
    "      # Keyword is\n",
    "      if Keywords == '':\n",
    "        if categories == \"All Categories\":\n",
    "          if titleArt.title.count() == 0:\n",
    "            print(\"Not mathces found\")\n",
    "          else:\n",
    "            print(titleArt.title.count(),\" articles found\")\n",
    "            #output  \n",
    "            h = '<br/'.join(['<a href=\"' + l + '\" target=\"_blank\">'+ n for l,n in titleArt[[\"url\",\"title\"]][0:Top_articles].values])\n",
    "            return display(HTML( h))\n",
    "            \n",
    "        else:\n",
    "          candidate = titleArt[titleArt['categories'].str.contains(categories)]\n",
    "          df1 = candidate[candidate['title'].str.contains(title)]\n",
    "          if df1.title.count() == 0:\n",
    "            print(\"Not mathces found\")\n",
    "          else:\n",
    "            print(df1.title.count(),\" articles found\")\n",
    "            #print(df1[:Top_articles.value])\n",
    "            #output  \n",
    "            h = '<br/'.join(['<a href=\"' + l + '\" target=\"_blank\">'+ n for l,n in df1[[\"url\",\"title\"]][0:Top_articles].values])\n",
    "            return display(HTML( h))\n",
    "\n",
    "      # Keyword == string\n",
    "      else:\n",
    "        KeywordArt = titleArt[titleArt['raw content'].str.contains(Keywords)]\n",
    "        if categories == \"All Categories\":\n",
    "          if KeywordArt.title.count() == 0:\n",
    "            print(\"Not mathces found\")\n",
    "          else:\n",
    "            print(KeywordArt.title.count(),\" articles found\")\n",
    "            #output  \n",
    "            h = '<br/'.join(['<a href=\"' + l + '\" target=\"_blank\">'+ n for l,n in KeywordArt[[\"url\",\"title\"]][0:Top_articles].values])\n",
    "            return display(HTML( h))\n",
    "            \n",
    "        else:\n",
    "          candidate = KeywordArt[KeywordArt['categories'].str.contains(categories)]\n",
    "          df1 = candidate[candidate['title'].str.contains(title)]\n",
    "          if df1.title.count() == 0:\n",
    "            print(\"Not mathces found\")\n",
    "          else:\n",
    "            print(df1.title.count(),\" articles found\")\n",
    "            #output  \n",
    "            h = '<br/'.join(['<a href=\"' + l + '\" target=\"_blank\">'+ n for l,n in df1[[\"url\",\"title\"]][0:Top_articles].values])\n",
    "            return display(HTML( h))\n",
    "\n",
    "\n",
    "\n",
    "    #else Abstract == string  \n",
    "    else:\n",
    "      abstractArt = titleArt[titleArt['abstract'].str.contains(abstract)]\n",
    "      # Keyword if\n",
    "      if Keywords == '':\n",
    "        if categories == \"All Categories\":\n",
    "          \n",
    "          if abstractArt.title.count() == 0:\n",
    "            print(\"Not mathces found\")\n",
    "          else:\n",
    "            print(abstractArt.title.count(),\" articles found\")\n",
    "            #output  \n",
    "            h = '<br/'.join(['<a href=\"' + l + '\" target=\"_blank\">'+ n for l,n in abstractArt[[\"url\",\"title\"]][0:Top_articles].values])\n",
    "            return display(HTML( h))\n",
    "            \n",
    "        else:\n",
    "          candidate = abstractArt[abstractArt['categories'].str.contains(categories)]\n",
    "          df1 = candidate[candidate['title'].str.contains(title)]\n",
    "          if df1.title.count() == 0:\n",
    "            print(\"Not mathces found\")\n",
    "          else:\n",
    "            print(df1.title.count(),\" articles found\")\n",
    "            #output  \n",
    "            h = '<br/'.join(['<a href=\"' + l + '\" target=\"_blank\">'+ n for l,n in df1[[\"url\",\"title\"]][0:Top_articles].values])\n",
    "            return display(HTML( h))\n",
    "\n",
    "\n",
    "\n",
    "\n",
    "      # Else Keyword == string\n",
    "      else:\n",
    "        KeywordArt = abstractArt[abstractArt['raw content'].str.contains(Keywords)]\n",
    "        if categories == \"All Categories\":\n",
    "          \n",
    "          if KeywordArt.title.count() == 0:\n",
    "            print(\"Not mathces found\")\n",
    "          else:\n",
    "            print(KeywordArt.title.count(),\" articles found\")\n",
    "            #output  \n",
    "            h = '<br/'.join(['<a href=\"' + l + '\" target=\"_blank\">'+ n for l,n in KeywordArt[[\"url\",\"title\"]][0:Top_articles].values])\n",
    "            return display(HTML( h))\n",
    "            \n",
    "        else:\n",
    "          candidate = KeywordArt[KeywordArt['categories'].str.contains(categories)]\n",
    "          df1 = candidate[candidate['title'].str.contains(title)]\n",
    "          if df1.title.count() == 0:\n",
    "            print(\"Not mathces found\")\n",
    "          else:\n",
    "            print(df1.title.count(),\" articles found\")\n",
    "            \n",
    "            #output  \n",
    "            h = '<br/'.join(['<a href=\"' + l + '\" target=\"_blank\">'+ n for l,n in df1[[\"url\",\"title\"]][0:Top_articles].values])\n",
    "            return display(HTML( h))\n"
   ]
  },
  {
   "cell_type": "code",
   "execution_count": 41,
   "metadata": {
    "extensions": {
     "jupyter_dashboards": {
      "version": 1,
      "views": {
       "default_view": {
        "hidden": true
       }
      }
     }
    },
    "id": "_xZpGKGrFyA4"
   },
   "outputs": [],
   "source": [
    "def query_build4():\n",
    "  style = {'description_width': 'initial'}\n",
    " \n",
    "  categories = widgets.Dropdown(\n",
    "      description='',\n",
    "      options=['All Categories','Health', 'Tourism',  'Energy', 'Agriculture', 'World trade' ],\n",
    "      value='All Categories',\n",
    "      style=style\n",
    "  )\n",
    "\n",
    "  Top_articles = widgets.IntSlider(\n",
    "      description='Display:',\n",
    "      tooltip='maximum:',\n",
    "      value=5,\n",
    "      min=1, \n",
    "      max = 30,\n",
    "      style=style\n",
    "  )\n",
    "  Top_articles.style.handle_color = 'lightblue'\n",
    "\n",
    "\n",
    "  Pick_dat = widgets.IntRangeSlider(\n",
    "      description=' ',\n",
    "      tooltip='maximum:',\n",
    "      value=[2010,2020],\n",
    "      min=1950, \n",
    "      max = 2021,\n",
    "      style=style\n",
    "  )\n",
    "\n",
    "  \n",
    "  Pick_dat.style.handle_color = 'lightblue'\n",
    "\n",
    "  Search_byTitle = widgets.Text(\n",
    "      value='',\n",
    "      placeholder='Type something',\n",
    "      description='',\n",
    "      disabled=False\n",
    "  )\n",
    "\n",
    "  Search_byAbstract = widgets.Text(\n",
    "      value='',\n",
    "      placeholder='Type something',\n",
    "      description='',\n",
    "      disabled=False\n",
    "  )\n",
    "\n",
    "  Keywords = widgets.Text(\n",
    "      value='hospitals',\n",
    "      placeholder='Type something',\n",
    "      description=' ',\n",
    "      disabled=False\n",
    "  )\n",
    "\n",
    "  form_item_layout = Layout(justify_content='space-between')\n",
    "\n",
    "  form_items = [\n",
    "      HBox([Label(value='Search by Title:'), Search_byTitle], layout=form_item_layout),\n",
    "      HBox([Label(value='Search in Abstract'), \n",
    "          Search_byAbstract], layout=form_item_layout),\n",
    "      HBox([Label(value='Keywords'),Keywords], layout=form_item_layout),\n",
    "      HBox([Label(value='Categories'), \n",
    "          categories], layout=form_item_layout),\n",
    "      HBox([Label(value='Year'), \n",
    "          Pick_dat], layout=form_item_layout)\n",
    "  ]\n",
    "\n",
    "  form = VBox(form_items, layout=Layout(\n",
    "      border='2px solid gray', padding='10px',\n",
    "      align_items='stretch', width='65%')\n",
    "  )\n",
    "\n",
    "  box2 = widgets.HBox([Top_articles])\n",
    "\n",
    "  out = widgets.interactive_output(AdvancedSearch, {'Top_articles': Top_articles, 'Keywords': Keywords, 'categories': categories, 'title':Search_byTitle, 'abstract':Search_byAbstract})\n",
    "\n",
    "  return display(form, box2, out)\n",
    "  "
   ]
  },
  {
   "cell_type": "code",
   "execution_count": 42,
   "metadata": {
    "extensions": {
     "jupyter_dashboards": {
      "version": 1,
      "views": {
       "default_view": {
        "hidden": true
       }
      }
     }
    },
    "id": "3i3DNsquEu7G"
   },
   "outputs": [],
   "source": [
    "def builder_Advanced():\n",
    "  output = widgets.Output()\n",
    "  style = {'description_width': 'initial'}\n",
    "  advanced_search = widgets.Button(\n",
    "      description='Advanced search',\n",
    "      button_style='primary',\n",
    "      tooltip='Click to download article',\n",
    "      disabled=False,\n",
    "      style=style )\n",
    "  \n",
    "  minimize = widgets.Button(\n",
    "    description='Minimize',\n",
    "    button_style='primary',\n",
    "    tooltip='Minimize',\n",
    "    disabled=False,\n",
    "    style=style)\n",
    "  display ( query_build2(),widgets.HBox([advanced_search]))\n",
    "  \n",
    " \n",
    "  def on_search_clicked(b):\n",
    "    clear_output()  \n",
    "    #call a function a function for getting advanced searching options\n",
    "    display ( query_build4(),widgets.HBox([minimize]))  \n",
    "  advanced_search.on_click(on_search_clicked)  \n",
    "\n",
    "  def on_minimize_clicked(b):\n",
    "    clear_output() \n",
    "    display ( query_build2(),widgets.HBox([advanced_search]))\n",
    "\n",
    "  minimize.on_click(on_minimize_clicked)\n"
   ]
  },
  {
   "cell_type": "code",
   "execution_count": 43,
   "metadata": {
    "extensions": {
     "jupyter_dashboards": {
      "version": 1,
      "views": {
       "default_view": {
        "col": 0,
        "height": 6,
        "row": 32,
        "width": 12
       }
      }
     }
    },
    "id": "a4C0MXAiFI9o"
   },
   "outputs": [
    {
     "data": {
      "application/vnd.jupyter.widget-view+json": {
       "model_id": "a075775aa7364cc8ae030eb5a79c78bb",
       "version_major": 2,
       "version_minor": 0
      },
      "text/plain": [
       "VBox(children=(HBox(children=(Label(value='Search by Title:'), Text(value='', placeholder='Type something')), …"
      ]
     },
     "metadata": {},
     "output_type": "display_data"
    },
    {
     "data": {
      "application/vnd.jupyter.widget-view+json": {
       "model_id": "3d821ad2f1644648913e8d2b9d90c9fe",
       "version_major": 2,
       "version_minor": 0
      },
      "text/plain": [
       "HBox(children=(IntSlider(value=5, description='Display:', max=30, min=1, style=SliderStyle(description_width='…"
      ]
     },
     "metadata": {},
     "output_type": "display_data"
    },
    {
     "data": {
      "application/vnd.jupyter.widget-view+json": {
       "model_id": "7fd0d2fa373a40da9b7da945ea17d842",
       "version_major": 2,
       "version_minor": 0
      },
      "text/plain": [
       "Output()"
      ]
     },
     "metadata": {},
     "output_type": "display_data"
    },
    {
     "data": {
      "text/plain": [
       "None"
      ]
     },
     "metadata": {},
     "output_type": "display_data"
    },
    {
     "data": {
      "application/vnd.jupyter.widget-view+json": {
       "model_id": "ce8df693b7784ee1800c6c89ee0025d7",
       "version_major": 2,
       "version_minor": 0
      },
      "text/plain": [
       "HBox(children=(Button(button_style='primary', description='Minimize', style=ButtonStyle(), tooltip='Minimize')…"
      ]
     },
     "metadata": {},
     "output_type": "display_data"
    }
   ],
   "source": [
    "builder_Advanced()"
   ]
  },
  {
   "cell_type": "markdown",
   "metadata": {
    "extensions": {
     "jupyter_dashboards": {
      "version": 1,
      "views": {
       "default_view": {
        "col": 0,
        "height": 3,
        "row": 38,
        "width": 12
       }
      }
     }
    },
    "id": "cui5CvxSXgeF"
   },
   "source": [
    "### Scenario B: Facets\n",
    "***\n",
    "\n",
    "For this case scenario, we have implemented some query structures based on topic modelling and semantic analysis (Name Entity Recognition and their correspondive relations).\n"
   ]
  },
  {
   "cell_type": "markdown",
   "metadata": {
    "extensions": {
     "jupyter_dashboards": {
      "version": 1,
      "views": {
       "default_view": {
        "col": 0,
        "height": 5,
        "row": 41,
        "width": 12
       }
      }
     }
    },
    "id": "Ds9hctqy0VRl"
   },
   "source": [
    "#### **Topic Modelling - Related Articles**\n",
    "***\n",
    "This query scenario is based on datasets extracted by Topic Modelling with Gensim library. In particular, user has the potential to search articles according to the dominant topics, narrow down results by typing topic keywords or even to find related articles to topic keywords that are not necessarily articles of the selected dominant topic. \n"
   ]
  },
  {
   "cell_type": "code",
   "execution_count": 44,
   "metadata": {
    "extensions": {
     "jupyter_dashboards": {
      "version": 1,
      "views": {
       "default_view": {
        "hidden": true
       }
      }
     }
    },
    "id": "xgtdkCyMXgeI"
   },
   "outputs": [],
   "source": [
    "tm_topics = pd.read_csv('tm_topics.csv')\n",
    "df_topic_sents_keywords = pd.read_csv('df_topic_sents_keywords.csv')"
   ]
  },
  {
   "cell_type": "code",
   "execution_count": 45,
   "metadata": {
    "extensions": {
     "jupyter_dashboards": {
      "version": 1,
      "views": {
       "default_view": {
        "hidden": true
       }
      }
     }
    },
    "id": "g1NIQf2OXgeI"
   },
   "outputs": [],
   "source": [
    "def display_side_by_side(dfs:list, captions:list):\n",
    "    \"\"\"Display tables side by side to save vertical space\n",
    "    Input:\n",
    "        dfs: list of pandas.DataFrame\n",
    "        captions: list of table captions\n",
    "    \"\"\"\n",
    "    output = \"\"\n",
    "    combined = dict(zip(captions, dfs))\n",
    "    for caption, df in combined.items():\n",
    "        output += df.style.set_table_attributes(\"style='display:inline'\").set_caption(caption)._repr_html_()\n",
    "        output += \"\\xa0\\xa0\\xa0\"\n",
    "    display(HTML(output))"
   ]
  },
  {
   "cell_type": "code",
   "execution_count": 46,
   "metadata": {
    "extensions": {
     "jupyter_dashboards": {
      "version": 1,
      "views": {
       "default_view": {
        "hidden": true
       }
      }
     }
    },
    "id": "VsqfMBdiXgeJ"
   },
   "outputs": [],
   "source": [
    "def get_Related_Articles(selector,keyword,cloud):\n",
    "  topics = tm_topics[tm_topics['Topic name'].str.contains(selector)]\n",
    "  topicID = topics['Topic id'].values.tolist()\n",
    "  if cloud:\n",
    "    for i in topicID:\n",
    "      candidateArticles = df_topic_sents_keywords[df_topic_sents_keywords['Dominant_Topic']== i]\n",
    "      keywordArticles = df_topic_sents_keywords[df_topic_sents_keywords['Topic_Keywords'].str.contains(keyword)]\n",
    "      related = keywordArticles.drop(keywordArticles[keywordArticles['Dominant_Topic']==i].index)\n",
    "      #display_side_by_side([df1, df2, df3], ['caption1', 'caption2', 'caption3'])\n",
    "    return display_side_by_side([candidateArticles[['Text title']],related[['Text title']]], ['Articles on dominant topic selected', 'Articles related to keyword'])\n",
    "\n",
    "  else:\n",
    "    if keyword == '':\n",
    "      for i in topicID:\n",
    "        candidateArticles = df_topic_sents_keywords[df_topic_sents_keywords['Dominant_Topic']== i]\n",
    "      return display(candidateArticles[['Text title']])\n",
    "\n",
    "    else:\n",
    "      for i in topicID:\n",
    "        candidateArticles = df_topic_sents_keywords[df_topic_sents_keywords['Dominant_Topic']== i]\n",
    "        #candidateArticles = df_topic_sents_keywords[df_topic_sents_keywords['Topic_Keywords'].str.contains(keyword)]\n",
    "      return display(candidateArticles[['Text title']])\n",
    "    "
   ]
  },
  {
   "cell_type": "code",
   "execution_count": 47,
   "metadata": {
    "extensions": {
     "jupyter_dashboards": {
      "version": 1,
      "views": {
       "default_view": {
        "hidden": true
       }
      }
     }
    },
    "id": "XQ7yi2HxXgeJ"
   },
   "outputs": [],
   "source": [
    "def ShowRelatedArticles():\n",
    "  style = {'description_width': 'initial'}\n",
    "\n",
    "  selector =  widgets.Combobox(\n",
    "  placeholder='Choose a Title',\n",
    "  options=list(tm_topics['Topic name'].unique())+['All'],\n",
    "  description='Select topic')\n",
    " \n",
    "\n",
    "  cloud = widgets.Checkbox(\n",
    "      value=False,\n",
    "      description='Show related articles',\n",
    "      style=style\n",
    "  )\n",
    "  \n",
    "  Keywords = widgets.Text(\n",
    "      value='',\n",
    "      placeholder='Type something',\n",
    "      description='Keywords:',\n",
    "      disabled=False\n",
    "  )\n",
    "  ui  = widgets.HBox([selector, Keywords ,cloud]) \n",
    "  \n",
    "  \n",
    "\n",
    "\n",
    "  out = widgets.interactive_output(get_Related_Articles, {'selector':selector,'keyword': Keywords, 'cloud':cloud})\n",
    "\n",
    "  display(ui, out)"
   ]
  },
  {
   "cell_type": "code",
   "execution_count": 48,
   "metadata": {
    "extensions": {
     "jupyter_dashboards": {
      "version": 1,
      "views": {
       "default_view": {
        "col": 0,
        "height": 9,
        "row": 47,
        "width": 7
       }
      }
     }
    },
    "id": "YineHbidXgeJ"
   },
   "outputs": [
    {
     "data": {
      "application/vnd.jupyter.widget-view+json": {
       "model_id": "e673a83ab6ab4653823a85c615c20833",
       "version_major": 2,
       "version_minor": 0
      },
      "text/plain": [
       "HBox(children=(Combobox(value='', description='Select topic', options=('Technological product and process inno…"
      ]
     },
     "metadata": {},
     "output_type": "display_data"
    },
    {
     "data": {
      "application/vnd.jupyter.widget-view+json": {
       "model_id": "db0571991bca4084a22c734fbc4dd8f6",
       "version_major": 2,
       "version_minor": 0
      },
      "text/plain": [
       "Output()"
      ]
     },
     "metadata": {},
     "output_type": "display_data"
    }
   ],
   "source": [
    "ShowRelatedArticles()"
   ]
  },
  {
   "cell_type": "markdown",
   "metadata": {
    "extensions": {
     "jupyter_dashboards": {
      "version": 1,
      "views": {
       "default_view": {
        "col": 0,
        "height": 5,
        "row": 71,
        "width": 12
       }
      }
     }
    },
    "id": "HAKNbgwTXgeL"
   },
   "source": [
    "####  **Named-Entity Recognition methods**\n",
    "***\n",
    "This query structure relies on Subject-Verb-Object triplets extracted for both Statistics Explained and Glossary articles. \n",
    "\n",
    "We have implemented 3 subcases. In all cases, the difference is on text box selection options. \n",
    "\n",
    "The user types keywords, and instantly proposing phrases are returned along with a list of articles. Also there is an option to display only either statistics explained or glossary articles. "
   ]
  },
  {
   "cell_type": "markdown",
   "metadata": {
    "extensions": {
     "jupyter_dashboards": {
      "version": 1,
      "views": {
       "default_view": {
        "col": 0,
        "height": 3,
        "row": 76,
        "width": 12
       }
      }
     }
    },
    "id": "xF1FBnsw5SSF"
   },
   "source": [
    "***\n",
    "##### Case 1: Proposing phrases - whole sentences containing at least one typed keyword\n",
    "\n",
    "***"
   ]
  },
  {
   "cell_type": "code",
   "execution_count": 49,
   "metadata": {
    "extensions": {
     "jupyter_dashboards": {
      "version": 1,
      "views": {
       "default_view": {
        "hidden": true
       }
      }
     }
    },
    "id": "8SFdF6F0XgeL"
   },
   "outputs": [],
   "source": [
    "ner = pd.read_excel('SVOs_all_5_24_17_37.xlsx')\n",
    "ner['SVOs_together'] = ner['Subject'] + ' ' + ner['Verb'] + ' ' + ner['Object']"
   ]
  },
  {
   "cell_type": "code",
   "execution_count": 50,
   "metadata": {
    "extensions": {
     "jupyter_dashboards": {
      "version": 1,
      "views": {
       "default_view": {
        "hidden": true
       }
      }
     }
    },
    "id": "cb9dRjocAFxS"
   },
   "outputs": [],
   "source": [
    "def NER_articles1(selector,Statistics_Explained,Glossaries,howmany):\n",
    "  # If Statistics_Explained == True, then show only Statistics Explained Articles\n",
    "  if Statistics_Explained:\n",
    "    candidateArticles = ner[ner['Sentence'].str.contains(selector)]\n",
    "    proposedArticles = candidateArticles[candidateArticles['Source'].str.contains('SE')]\n",
    "    proposedArticles = proposedArticles.drop_duplicates(subset=['Title'], keep='first')\n",
    "    # drop duplicated titles\n",
    "    print(proposedArticles.Title.count(),'Articles found.')\n",
    "    h = '<br/'.join(['<a href=\"' + l + '\" target=\"_blank\">'+ n for l,n in proposedArticles[[\"URL\",\"Title\"]][0:howmany].values])\n",
    "    return display(HTML(h))\n",
    "  \n",
    "  # If Glossaries == True, then show only Glossary articles\n",
    "  elif Glossaries:\n",
    "    candidateArticles = ner[ner['Sentence'].str.contains(selector)]\n",
    "    proposedArticles = candidateArticles[candidateArticles['Source'].str.contains('GL')]\n",
    "    proposedArticles = proposedArticles.drop_duplicates(subset=['Title'], keep='first')\n",
    "    # drop duplicated titles\n",
    "    print(proposedArticles.Title.count(),'Articles found.')\n",
    "    h = '<br/'.join(['<a href=\"' + l + '\" target=\"_blank\">'+ n for l,n in proposedArticles[[\"URL\",\"Title\"]][0:howmany].values])\n",
    "    return display(HTML(h))\n",
    "  \n",
    "  elif Statistics_Explained & Glossaries:\n",
    "    Statistics_Explained = False\n",
    "    candidateArticles = ner[ner['Sentence'].str.contains(selector)]\n",
    "    proposedArticles = candidateArticles[candidateArticles['Source'].str.contains('GL')]\n",
    "    proposedArticles = proposedArticles.drop_duplicates(subset=['Title'], keep='first')\n",
    "    # drop duplicated titles\n",
    "    print(proposedArticles.Title.count(),'Articles found.')\n",
    "    h = '<br/'.join(['<a href=\"' + l + '\" target=\"_blank\">'+ n for l,n in proposedArticles[[\"URL\",\"Title\"]][0:howmany].values])\n",
    "    return display(HTML(h))\n",
    "\n",
    "\n",
    "  else:\n",
    "    candidateArticles = ner[ner['Sentence'].str.contains(selector)]\n",
    "    candidateArticles = candidateArticles.drop_duplicates(subset=['Title'], keep='first')\n",
    "    print(candidateArticles.Title.count(),'Articles found.')\n",
    "    h = '<br/'.join(['<a href=\"' + l + '\" target=\"_blank\">'+ n for l,n in candidateArticles[[\"URL\",\"Title\"]][0:howmany].values])\n",
    "    return display(HTML(h))\n"
   ]
  },
  {
   "cell_type": "code",
   "execution_count": 51,
   "metadata": {
    "extensions": {
     "jupyter_dashboards": {
      "version": 1,
      "views": {
       "default_view": {
        "hidden": true
       }
      }
     }
    },
    "id": "zyEUer5u-OvS"
   },
   "outputs": [],
   "source": [
    "def NER_builder1():\n",
    "  style = {'description_width': 'initial'}\n",
    "\n",
    "  selector =  widgets.Combobox(\n",
    "    placeholder='Type something, e.g., EU, ASEA etc.',\n",
    "    options=list(ner['Sentence'].unique()),\n",
    "    description='Search')\n",
    "  \n",
    "  Statistics_Explained = widgets.Checkbox(\n",
    "    value=False,\n",
    "    description='Only Statistics Explained',\n",
    "    style=style)\n",
    "  \n",
    "  Glossaries = widgets.Checkbox(\n",
    "    value=False,\n",
    "    description='Only Glossaries',\n",
    "    style=style)\n",
    "  \n",
    "  howmany = widgets.IntSlider(\n",
    "    description='Display:',\n",
    "    tooltip='maximum:',\n",
    "    value=5,\n",
    "    min=1, \n",
    "    max = 30,\n",
    "    style=style )\n",
    "  howmany.style.handle_color = 'lightblue'\n",
    "  \n",
    "  ui = widgets.HBox([selector,Statistics_Explained,Glossaries, howmany])\n",
    "  out = widgets.interactive_output(NER_articles1, {'selector':selector,'Statistics_Explained': Statistics_Explained, 'Glossaries':Glossaries, 'howmany':howmany})\n",
    "\n",
    "\n",
    "  display(ui,out)"
   ]
  },
  {
   "cell_type": "code",
   "execution_count": 52,
   "metadata": {
    "extensions": {
     "jupyter_dashboards": {
      "version": 1,
      "views": {
       "default_view": {
        "col": 0,
        "height": 7,
        "row": 79,
        "width": 12
       }
      }
     }
    },
    "id": "rJWU94mY_GPN"
   },
   "outputs": [
    {
     "data": {
      "application/vnd.jupyter.widget-view+json": {
       "model_id": "8ff450ba67fb40a5869ced9ac3efbfd1",
       "version_major": 2,
       "version_minor": 0
      },
      "text/plain": [
       "HBox(children=(Combobox(value='', description='Search', options=('This vision was confirmed by a Council Recom…"
      ]
     },
     "metadata": {},
     "output_type": "display_data"
    },
    {
     "data": {
      "application/vnd.jupyter.widget-view+json": {
       "model_id": "586029a4c0dc46d3be62a5f4cc492daa",
       "version_major": 2,
       "version_minor": 0
      },
      "text/plain": [
       "Output()"
      ]
     },
     "metadata": {},
     "output_type": "display_data"
    }
   ],
   "source": [
    "NER_builder1()"
   ]
  },
  {
   "cell_type": "markdown",
   "metadata": {
    "extensions": {
     "jupyter_dashboards": {
      "version": 1,
      "views": {
       "default_view": {
        "col": 0,
        "height": 3,
        "row": 86,
        "width": 12
       }
      }
     }
    },
    "id": "BP4v9aT98cp8"
   },
   "source": [
    "***\n",
    "##### Case 2: Proposing organizations, countries, etc., instead of phrases\n",
    "***"
   ]
  },
  {
   "cell_type": "code",
   "execution_count": 53,
   "metadata": {
    "extensions": {
     "jupyter_dashboards": {
      "version": 1,
      "views": {
       "default_view": {
        "hidden": true
       }
      }
     }
    },
    "id": "WI4vq8Csu097"
   },
   "outputs": [],
   "source": [
    "def NER_articles2(selector,Statistics_Explained,Glossaries,howmany):\n",
    "  # If Statistics_Explained == True, then show only Statistics Explained Articles\n",
    "  if Statistics_Explained:\n",
    "    candidateArticles = ner[ner['Key'].str.contains(selector)]\n",
    "    proposedArticles = candidateArticles[candidateArticles['Source'].str.contains('SE')]\n",
    "    proposedArticles = proposedArticles.drop_duplicates(subset=['Title'], keep='first')\n",
    "    # drop duplicated titles\n",
    "    print(proposedArticles.Title.count(),'Articles found.')\n",
    "    h = '<br/'.join(['<a href=\"' + l + '\" target=\"_blank\">'+ n for l,n in proposedArticles[[\"URL\",\"Title\"]][0:howmany].values])\n",
    "    return display(HTML(h))\n",
    "  # If Glossaries == True, then show only Glossary articles\n",
    "  elif Glossaries:\n",
    "    candidateArticles = ner[ner['Key'].str.contains(selector)]\n",
    "    proposedArticles = candidateArticles[candidateArticles['Source'].str.contains('GL')]\n",
    "    proposedArticles = proposedArticles.drop_duplicates(subset=['Title'], keep='first')\n",
    "    # drop duplicated titles\n",
    "    print(proposedArticles.Title.count(),'Articles found.')\n",
    "    h = '<br/'.join(['<a href=\"' + l + '\" target=\"_blank\">'+ n for l,n in proposedArticles[[\"URL\",\"Title\"]][0:howmany].values])\n",
    "    return display(HTML(h))\n",
    "  \n",
    "  elif Statistics_Explained & Glossaries:\n",
    "    Statistics_Explained = False\n",
    "    candidateArticles = ner[ner['Key'].str.contains(selector)]\n",
    "    proposedArticles = candidateArticles[candidateArticles['Source'].str.contains('GL')]\n",
    "    proposedArticles = proposedArticles.drop_duplicates(subset=['Title'], keep='first')\n",
    "    # drop duplicated titles\n",
    "    print(proposedArticles.Title.count(),'Articles found.')\n",
    "    h = '<br/'.join(['<a href=\"' + l + '\" target=\"_blank\">'+ n for l,n in proposedArticles[[\"URL\",\"Title\"]][0:howmany].values])\n",
    "    return display(HTML(h))\n",
    "\n",
    "\n",
    "  else:\n",
    "    candidateArticles = ner[ner['Key'].str.contains(selector)]\n",
    "    candidateArticles = candidateArticles.drop_duplicates(subset=['Title'], keep='first')\n",
    "    print(candidateArticles.Title.count(),'Articles found.')\n",
    "    h = '<br/'.join(['<a href=\"' + l + '\" target=\"_blank\">'+ n for l,n in candidateArticles[[\"URL\",\"Title\"]][0:howmany].values])\n",
    "    return display(HTML(h))\n"
   ]
  },
  {
   "cell_type": "code",
   "execution_count": 54,
   "metadata": {
    "extensions": {
     "jupyter_dashboards": {
      "version": 1,
      "views": {
       "default_view": {
        "hidden": true
       }
      }
     }
    },
    "id": "9fg3AnAEuJcu"
   },
   "outputs": [],
   "source": [
    "def NER_builder2():\n",
    "  style = {'description_width': 'initial'}\n",
    "\n",
    "  selector =  widgets.Combobox(\n",
    "    placeholder='Type something, e.g., EU, ASEA etc.',\n",
    "    options=list(ner['Key'].unique()),\n",
    "    description='Search')\n",
    "  \n",
    "  Statistics_Explained = widgets.Checkbox(\n",
    "    value=False,\n",
    "    description='Only Statistics Explained',\n",
    "    style=style)\n",
    "  \n",
    "  Glossaries = widgets.Checkbox(\n",
    "    value=False,\n",
    "    description='Only Glossaries',\n",
    "    style=style)\n",
    "  \n",
    "  howmany = widgets.IntSlider(\n",
    "    description='Display:',\n",
    "    tooltip='maximum:',\n",
    "    value=5,\n",
    "    min=1, \n",
    "    max = 30,\n",
    "    style=style )\n",
    "  howmany.style.handle_color = 'lightblue'\n",
    "  \n",
    "  ui = widgets.HBox([selector,Statistics_Explained,Glossaries, howmany])\n",
    "  out = widgets.interactive_output(NER_articles2, {'selector':selector,'Statistics_Explained': Statistics_Explained, 'Glossaries':Glossaries, 'howmany':howmany})\n",
    "\n",
    "\n",
    "  display(ui,out)\n"
   ]
  },
  {
   "cell_type": "code",
   "execution_count": 55,
   "metadata": {
    "extensions": {
     "jupyter_dashboards": {
      "version": 1,
      "views": {
       "default_view": {
        "col": 0,
        "height": 8,
        "row": 89,
        "width": 12
       }
      }
     }
    },
    "id": "PvIR0D3PuP6Z"
   },
   "outputs": [
    {
     "data": {
      "application/vnd.jupyter.widget-view+json": {
       "model_id": "3c9cdf7680ba408395aa39c7d1e809e1",
       "version_major": 2,
       "version_minor": 0
      },
      "text/plain": [
       "HBox(children=(Combobox(value='', description='Search', options=('A COUNCIL RECOMMENDATION', 'AAA', 'ACER', 'A…"
      ]
     },
     "metadata": {},
     "output_type": "display_data"
    },
    {
     "data": {
      "application/vnd.jupyter.widget-view+json": {
       "model_id": "4187c4ec118e4fa1946677f7ba8f8c5f",
       "version_major": 2,
       "version_minor": 0
      },
      "text/plain": [
       "Output()"
      ]
     },
     "metadata": {},
     "output_type": "display_data"
    }
   ],
   "source": [
    "NER_builder2()"
   ]
  },
  {
   "cell_type": "markdown",
   "metadata": {
    "extensions": {
     "jupyter_dashboards": {
      "version": 1,
      "views": {
       "default_view": {
        "col": 0,
        "height": 3,
        "row": 97,
        "width": 12
       }
      }
     }
    },
    "id": "UPavJCsA9DDo"
   },
   "source": [
    "##### Case 3: Proposing phrases based on entity-relation-entity triplets (again Subject-Verb-Object relations)\n",
    "***"
   ]
  },
  {
   "cell_type": "code",
   "execution_count": 56,
   "metadata": {
    "extensions": {
     "jupyter_dashboards": {
      "version": 1,
      "views": {
       "default_view": {
        "hidden": true
       }
      }
     }
    },
    "id": "uBzhVCPmx40_"
   },
   "outputs": [],
   "source": [
    "def NER_articles3(selector,Statistics_Explained,Glossaries,howmany):\n",
    "\n",
    "  # If Statistics_Explained == True, then show only Statistics Explained Articles\n",
    "  if Statistics_Explained:\n",
    "    candidateArticles = ner[ner['SVOs_together'].str.contains(selector)]\n",
    "    proposedArticles = candidateArticles[candidateArticles['Source'].str.contains('SE')]\n",
    "    proposedArticles = proposedArticles.drop_duplicates(subset=['Title'], keep='first')\n",
    "    # drop duplicated titles\n",
    "    print(proposedArticles.Title.count(),'Articles found.')\n",
    "    h = '<br/'.join(['<a href=\"' + l + '\" target=\"_blank\">'+ n for l,n in proposedArticles[[\"URL\",\"Title\"]][0:howmany].values])\n",
    "    return display(HTML(h))\n",
    "\n",
    "  # If Glossaries == True, then show only Glossary articles\n",
    "  elif Glossaries:\n",
    "    candidateArticles = ner[ner['SVOs_together'].str.contains(selector)]\n",
    "    proposedArticles = candidateArticles[candidateArticles['Source'].str.contains('GL')]\n",
    "    proposedArticles = proposedArticles.drop_duplicates(subset=['Title'], keep='first')\n",
    "    # drop duplicated titles\n",
    "    print(proposedArticles.Title.count(),'Articles found.')\n",
    "    h = '<br/'.join(['<a href=\"' + l + '\" target=\"_blank\">'+ n for l,n in proposedArticles[[\"URL\",\"Title\"]][0:howmany].values])\n",
    "    return display(HTML(h))\n",
    "  \n",
    "  elif Statistics_Explained & Glossaries:\n",
    "    Statistics_Explained = False\n",
    "    candidateArticles = ner[ner['SVOs_together'].str.contains(selector)]\n",
    "    proposedArticles = candidateArticles[candidateArticles['Source'].str.contains('GL')]\n",
    "    proposedArticles = proposedArticles.drop_duplicates(subset=['Title'], keep='first')\n",
    "    # drop duplicated titles\n",
    "    print(proposedArticles.Title.count(),'Articles found.')\n",
    "    h = '<br/'.join(['<a href=\"' + l + '\" target=\"_blank\">'+ n for l,n in proposedArticles[[\"URL\",\"Title\"]][0:howmany].values])\n",
    "    return display(HTML(h))\n",
    "\n",
    "\n",
    "  else:\n",
    "    candidateArticles = ner[ner['SVOs_together'].str.contains(selector)]\n",
    "    candidateArticles = candidateArticles.drop_duplicates(subset=['Title'], keep='first')\n",
    "    print(candidateArticles.Title.count(),'Articles found.')\n",
    "    h = '<br/'.join(['<a href=\"' + l + '\" target=\"_blank\">'+ n for l,n in candidateArticles[[\"URL\",\"Title\"]][0:howmany].values])\n",
    "    return display(HTML(h))\n"
   ]
  },
  {
   "cell_type": "code",
   "execution_count": 57,
   "metadata": {
    "extensions": {
     "jupyter_dashboards": {
      "version": 1,
      "views": {
       "default_view": {
        "hidden": true
       }
      }
     }
    },
    "id": "mccfpMEz0i3o"
   },
   "outputs": [],
   "source": [
    "def NER_builder3():\n",
    "  style = {'description_width': 'initial'}\n",
    "\n",
    "  selector =  widgets.Combobox(\n",
    "    placeholder='Type something, e.g., EU, ASEA etc.',\n",
    "    options=list(ner['SVOs_together'].unique()),\n",
    "    description='Search')\n",
    "  \n",
    "  Statistics_Explained = widgets.Checkbox(\n",
    "    value=False,\n",
    "    description='Only Statistics Explained',\n",
    "    style=style)\n",
    "  \n",
    "  Glossaries = widgets.Checkbox(\n",
    "    value=False,\n",
    "    description='Only Glossaries',\n",
    "    style=style)\n",
    "  \n",
    "  howmany = widgets.IntSlider(\n",
    "    description='Display:',\n",
    "    tooltip='maximum:',\n",
    "    value=5,\n",
    "    min=1, \n",
    "    max = 30,\n",
    "    style=style )\n",
    "  howmany.style.handle_color = 'lightblue'\n",
    "  \n",
    "  ui = widgets.HBox([selector,Statistics_Explained,Glossaries, howmany])\n",
    "  out = widgets.interactive_output(NER_articles3, {'selector':selector,'Statistics_Explained': Statistics_Explained, 'Glossaries':Glossaries, 'howmany':howmany})\n",
    "\n",
    "\n",
    "  display(ui,out)\n"
   ]
  },
  {
   "cell_type": "code",
   "execution_count": 58,
   "metadata": {
    "extensions": {
     "jupyter_dashboards": {
      "version": 1,
      "views": {
       "default_view": {
        "col": 0,
        "height": 7,
        "row": 100,
        "width": 12
       }
      }
     }
    },
    "id": "JFdtgbCX0uHN"
   },
   "outputs": [
    {
     "data": {
      "application/vnd.jupyter.widget-view+json": {
       "model_id": "c35592b88b464f658f74ddeda8e84cdd",
       "version_major": 2,
       "version_minor": 0
      },
      "text/plain": [
       "HBox(children=(Combobox(value='', description='Search', options=('a Council Recommendation on a comprehensive …"
      ]
     },
     "metadata": {},
     "output_type": "display_data"
    },
    {
     "data": {
      "application/vnd.jupyter.widget-view+json": {
       "model_id": "3c20fbfca38d43d2a7534c5d12472197",
       "version_major": 2,
       "version_minor": 0
      },
      "text/plain": [
       "Output()"
      ]
     },
     "metadata": {},
     "output_type": "display_data"
    }
   ],
   "source": [
    "NER_builder3()"
   ]
  },
  {
   "cell_type": "markdown",
   "metadata": {
    "extensions": {
     "jupyter_dashboards": {
      "version": 1,
      "views": {
       "default_view": {
        "col": 0,
        "height": 9,
        "row": 107,
        "width": 12
       }
      }
     }
    },
    "id": "F3L70z0u_I6b"
   },
   "source": [
    "#### **Alternative way of proposing related articles**\n",
    "***\n",
    "We have also implemented an alterantive way of both exploring related articles and constructing query.\n",
    "\n",
    "The purpose of this facet refers to users who have find an interesting article and want to easily find related research without browsing all existing publications themself. Also,it is very useful for users who have a specific research question and want to discover relevant articles.\n",
    "\n",
    "At first we discover a number of topics using LDA (Latent Dirichlet Allocation). This allows us to view each article as a mixture of these topics. By mapping a specific article into the topic space, we can find related articles.\n",
    "\n",
    "Articles are proposed according to a k-nearest algorithm in topic space based on Jensen - Shannon measure. The Jensen–Shannon divergence is a method of measuring the similarity between two probability distributions.\n",
    "\n",
    "In this widget a user can insert any kind of text like abstract, paragraph, full text, keywords, questions and find related articles."
   ]
  },
  {
   "cell_type": "code",
   "execution_count": 59,
   "metadata": {
    "extensions": {
     "jupyter_dashboards": {
      "version": 1,
      "views": {
       "default_view": {
        "hidden": true
       }
      }
     }
    },
    "id": "G6-D3uujBCMN"
   },
   "outputs": [],
   "source": [
    "### Get Nearest Papers (in Topic Space) ###"
   ]
  },
  {
   "cell_type": "code",
   "execution_count": 60,
   "metadata": {
    "id": "Frn8i3HcXEV-"
   },
   "outputs": [],
   "source": [
    "#Install/Load packages.\n",
    "\n",
    "import scispacy\n",
    "import spacy\n",
    "#import en_core_sci_lg\n",
    "import joblib\n",
    "\n",
    "from scipy.spatial.distance import jensenshannon\n",
    "from tqdm import tqdm\n",
    "from os.path import isfile\n",
    "\n",
    "import seaborn as sb\n",
    "import matplotlib.pyplot as plt\n",
    "plt.style.use(\"dark_background\")\n",
    "\n",
    "#nlp = spacy.load(\"en_core_web_sm\", disable=['parser', 'ner'])\n"
   ]
  },
  {
   "cell_type": "code",
   "execution_count": 61,
   "metadata": {
    "id": "3qM39L2nXEV-"
   },
   "outputs": [],
   "source": [
    "##### Latend Dirichlet Allocation ######\n",
    "#Prepare dataset.\n",
    "\n",
    "#all_texts = data['raw content']\n",
    "#all_texts[0][:500]\n",
    "\n",
    "def spacy_tokenizer(sentence):\n",
    "    return [word.lemma_ for word in nlp(sentence) if not (word.like_num or word.is_stop or word.is_punct or word.is_space or len(word)==1)]\n",
    "    \n",
    "#vectorizer = CountVectorizer(tokenizer = spacy_tokenizer, min_df=2)\n",
    "#data_vectorized = vectorizer.fit_transform(tqdm(all_texts))\n",
    "#data_vectorized.shape\n",
    "\n",
    "#Most frequent words.\n",
    "\n",
    "#word_count = pd.DataFrame({'word': vectorizer.get_feature_names(), 'count': np.asarray(data_vectorized.sum(axis=0))[0]})\n",
    "\n",
    "#word_count.sort_values('count', ascending=False).set_index('word')[:20].sort_values('count', ascending=True).plot(kind='barh')\n",
    "#joblib.dump(vectorizer, 'vectorizer.csv')\n",
    "vectorizer = joblib.load('vectorizer.csv')\n",
    "data_vectorized = joblib.load('data_vectorized.csv')\n",
    "#joblib.dump(data_vectorized, 'data_vectorized.csv')\n",
    "#lda = LatentDirichletAllocation(n_components=50, random_state=0)\n",
    "#lda.fit(data_vectorized)\n",
    "#joblib.dump(lda, 'lda.csv')\n",
    "\n",
    "lda = joblib.load('lda.csv')\n",
    "\n",
    "def print_top_words(model, vectorizer, n_top_words):\n",
    "    feature_names = vectorizer.get_feature_names()\n",
    "    for topic_idx, topic in enumerate(model.components_):\n",
    "        message = \"\\nTopic #%d: \" % topic_idx\n",
    "        message += \" \".join([feature_names[i]\n",
    "                             for i in topic.argsort()[:-n_top_words - 1:-1]])\n",
    "        print(message)\n",
    "    print()\n",
    "    \n",
    "#print_top_words(lda, vectorizer, n_top_words=25)\n",
    "doc_topic_dist = pd.DataFrame(lda.transform(data_vectorized))\n",
    "#doc_topic_dist.to_csv('doc_topic_dist.csv', index=False)\n"
   ]
  },
  {
   "cell_type": "code",
   "execution_count": 62,
   "metadata": {
    "extensions": {
     "jupyter_dashboards": {
      "version": 1,
      "views": {
       "default_view": {
        "hidden": true
       }
      }
     }
    },
    "id": "GLCfpwQdXgeP"
   },
   "outputs": [],
   "source": [
    "#Make variables 'title' and 'raw content' a list.\n",
    "\n",
    "tasks = data.set_index('title').to_dict()['raw content']"
   ]
  },
  {
   "cell_type": "code",
   "execution_count": 63,
   "metadata": {
    "id": "TDEKaqO2XEWA"
   },
   "outputs": [],
   "source": [
    "article = data['raw content']\n",
    "\n",
    "def get_k_nearest_docs(doc_dist, k=5, lower=1950, upper=2020, get_dist=False):\n",
    "    '''\n",
    "    doc_dist: topic distribution (sums to 1) of one article\n",
    "    \n",
    "    Returns the index of the k nearest articles (as by Jensen–Shannon divergence in topic space). \n",
    "    '''\n",
    "    temp = doc_topic_dist\n",
    "\n",
    "    distances = temp.apply(lambda x: jensenshannon(x, doc_dist), axis=1)\n",
    "    k_nearest = distances[distances != 0].nsmallest(n=k).index\n",
    "    \n",
    "    if get_dist:\n",
    "        k_distances = distances[distances != 0].nsmallest(n=k)\n",
    "        return k_nearest, k_distances\n",
    "    else:\n",
    "        return k_nearest\n",
    "\n",
    "def plot_article_dna(title, width=20):\n",
    "    t = data[data.title == title].title.values[0]\n",
    "    doc_topic_dist[data.title== title].T.plot(kind='bar', legend=None, title=t, figsize=(width, 4))\n",
    "    plt.xlabel('Topic')\n",
    "\n",
    "def compare_dnas(title, recommendation_id, width=20):\n",
    "    t = data[data.title == recommendation_id].title.values[0]\n",
    "    temp = doc_topic_dist[data.title == title]\n",
    "    ymax = temp.max(axis=1).values[0]*1.25\n",
    "    temp = pd.concat([temp, doc_topic_dist[data.title == recommendation_id]])\n",
    "    temp.T.plot(kind='bar', title=t, figsize=(width, 4), ylim= [0, ymax])\n",
    "    plt.xlabel('Topic')\n",
    "    plt.legend(['Selection', 'Recommendation'])\n",
    "    \n",
    "def dna_tabs(title):\n",
    "    k = len(title)\n",
    "    outs = [widgets.Output() for i in range(k)]\n",
    "\n",
    "    tab = widgets.Tab(children = outs)\n",
    "    tab_titles = ['title ' + str(i+1) for i in range(k)]\n",
    "    for i, t in enumerate(tab_titles):\n",
    "        tab.set_title(i, t)\n",
    "    display(tab)\n",
    "\n",
    "    for i, t in enumerate(tab_titles):\n",
    "        with outs[i]:\n",
    "            ax = plot_article_dna(paper_ids[i])\n",
    "            plt.show(ax)\n",
    "\n",
    "def compare_tabs(title, recommendation_ids):\n",
    "    k = len(recommendation_ids)\n",
    "    outs = [widgets.Output() for i in range(k)]\n",
    "\n",
    "    tab = widgets.Tab(children = outs)\n",
    "    tab_titles = ['title ' + str(i+1) for i in range(k)]\n",
    "    for i, t in enumerate(tab_titles):\n",
    "        tab.set_title(i, t)\n",
    "    display(tab)\n",
    "\n",
    "    for i, t in enumerate(tab_titles):\n",
    "        with outs[i]:\n",
    "            ax = compare_dnas(title, recommendation_ids[i])\n",
    "            plt.show(ax)\n",
    "\n",
    "def recommendation(title, k=5, lower=1950, plot_dna=False):\n",
    "    '''\n",
    "    Returns the title of the k papers that are closest (topic-wise) to the paper given by id.\n",
    "    '''\n",
    "    \n",
    "    print(data.title[data.title ==title].values[0])\n",
    "\n",
    "    recommended, dist= get_k_nearest_docs(doc_topic_dist[data.title == title].iloc[0], k, lower, 10, get_dist=True)\n",
    "    recommended = data.iloc[recommended].copy()\n",
    "    recommended['similarity'] = 1 - dist \n",
    "    \n",
    "    h = '<br/>'.join(['<a href=\"' + l + '\" target=\"_blank\">'+ n + '</a>' +' (Similarity: ' + \"{:.2f}\".format(s) + ')' for l, n, s in recommended[['url','title', 'similarity']].values])\n",
    "    display(HTML(h))\n",
    "    \n",
    "    if plot_dna:\n",
    "        compare_tabs(title, recommended.title.values)\n",
    "              "
   ]
  },
  {
   "cell_type": "code",
   "execution_count": 64,
   "metadata": {
    "extensions": {
     "jupyter_dashboards": {
      "version": 1,
      "views": {
       "default_view": {
        "hidden": true
       }
      }
     }
    },
    "id": "YMnu10xaXgeQ"
   },
   "outputs": [],
   "source": [
    "def relevant_articles(tasks, k=3, lower=1950, upper=2020):\n",
    "    tasks = [tasks] if type(tasks) is str else tasks \n",
    "    \n",
    "    \n",
    "    tasks_vectorized = vectorizer.transform(tasks)\n",
    "    tasks_topic_dist = pd.DataFrame(lda.transform(tasks_vectorized))\n",
    "   \n",
    "    \n",
    "    for index, bullet in enumerate(tasks):\n",
    "        print(bullet)\n",
    "       \n",
    "        recommended = get_k_nearest_docs(tasks_topic_dist.iloc[index], k, lower, upper)\n",
    "        recommended = data.iloc[recommended]\n",
    "        \n",
    "        h = '<br/>'.join(['<a href=\"' + l + '\" target=\"_blank\">'+ n + '</a>' for l, n in recommended[['url','title']].values])\n",
    "        display(HTML(h))\n",
    "        \n",
    "      "
   ]
  },
  {
   "cell_type": "code",
   "execution_count": 65,
   "metadata": {
    "extensions": {
     "jupyter_dashboards": {
      "version": 1,
      "views": {
       "default_view": {
        "hidden": true
       }
      }
     }
    },
    "id": "E6Ag5CX-XgeQ"
   },
   "outputs": [],
   "source": [
    "#First_version\n",
    "def relevant_articles_for_text():    \n",
    "    textW = widgets.Textarea(\n",
    "        value='Tourism',\n",
    "        placeholder='Type something',\n",
    "        description='',\n",
    "        disabled=False,\n",
    "        layout=Layout(width='90%', height='100px')\n",
    "    )\n",
    "\n",
    "    yearW = widgets.IntRangeSlider(min=1950, max=2020, value=[2010, 2020], description='Year Range', \n",
    "                               continuous_update=False, layout=Layout(width='40%'))\n",
    "    kWidget = widgets.IntSlider(value=10, description='Display', max=50, min=1, layout=Layout(width='25%'))\n",
    "    button = widgets.Button(description=\"Search\")\n",
    "    style = {'description_width': 'initial'}\n",
    "    display(VBox([HBox([kWidget, yearW], layout=Layout(width='90%', justify_content='space-around')),\n",
    "        textW, button], layout=Layout(align_items='center')))\n",
    "\n",
    "    def on_button_clicked(b):\n",
    "        clear_output()\n",
    "        display(VBox([HBox([kWidget, yearW], layout=Layout(width='90%', justify_content='space-around')),\n",
    "            textW, button], layout=Layout(align_items='center')))  \n",
    "        relevant_articles(textW.value, kWidget.value, yearW.value[0], yearW.value[1])\n",
    "        \n",
    "    button.on_click(on_button_clicked)"
   ]
  },
  {
   "cell_type": "code",
   "execution_count": 66,
   "metadata": {
    "extensions": {
     "jupyter_dashboards": {
      "version": 1,
      "views": {
       "default_view": {
        "col": 0,
        "height": 6,
        "row": 117,
        "width": 12
       }
      }
     }
    },
    "id": "ttqUVag7XgeQ"
   },
   "outputs": [
    {
     "data": {
      "application/vnd.jupyter.widget-view+json": {
       "model_id": "7d8949ae62944d0ba1bdda72e9934637",
       "version_major": 2,
       "version_minor": 0
      },
      "text/plain": [
       "VBox(children=(HBox(children=(IntSlider(value=10, description='Display', layout=Layout(width='25%'), max=50, m…"
      ]
     },
     "metadata": {},
     "output_type": "display_data"
    },
    {
     "name": "stdout",
     "output_type": "stream",
     "text": [
      "Tourism\n"
     ]
    },
    {
     "data": {
      "text/html": [
       "<a href=\"https://ec.europa.eu/eurostat/statistics-explained/index.php?title=Tourism_statistics\" target=\"_blank\">Tourism statistics</a><br/><a href=\"https://ec.europa.eu/eurostat/statistics-explained/index.php?title=Tourism_in_the_EU_-_what_a_normal_summer_season_looks_like_-_before_Covid-19\" target=\"_blank\">Tourism in the EU - what a normal summer season looks like - before Covid-19</a><br/><a href=\"https://ec.europa.eu/eurostat/statistics-explained/index.php?title=Accidents_at_work_-_statistics_on_causes_and_circumstances\" target=\"_blank\">Accidents at work - statistics on causes and circumstances</a><br/><a href=\"https://ec.europa.eu/eurostat/statistics-explained/index.php?title=Tourism_statistics_-_characteristics_of_tourism_trips\" target=\"_blank\">Tourism statistics - characteristics of tourism trips</a><br/><a href=\"https://ec.europa.eu/eurostat/statistics-explained/index.php?title=Tourism_in_the_EU_-_what_a_normal_spring_season_looks_like_-_before_Covid-19\" target=\"_blank\">Tourism in the EU - what a normal spring season looks like - before Covid-19</a><br/><a href=\"https://ec.europa.eu/eurostat/statistics-explained/index.php?title=Seasonality_in_tourism_demand\" target=\"_blank\">Seasonality in tourism demand</a><br/><a href=\"https://ec.europa.eu/eurostat/statistics-explained/index.php?title=Tourism_statistics_-_intra-EU_tourism_flows\" target=\"_blank\">Tourism statistics - intra-EU tourism flows</a><br/><a href=\"https://ec.europa.eu/eurostat/statistics-explained/index.php?title=Tourism_statistics_-_expenditure\" target=\"_blank\">Tourism statistics - expenditure</a><br/><a href=\"https://ec.europa.eu/eurostat/statistics-explained/index.php?title=Tourism_statistics_-_annual_results_for_the_accommodation_sector\" target=\"_blank\">Tourism statistics - annual results for the accommodation sector</a><br/><a href=\"https://ec.europa.eu/eurostat/statistics-explained/index.php?title=Tourism_trips_-_introduction_and_key_figures\" target=\"_blank\">Tourism trips - introduction and key figures</a>"
      ],
      "text/plain": [
       "<IPython.core.display.HTML object>"
      ]
     },
     "metadata": {},
     "output_type": "display_data"
    }
   ],
   "source": [
    "relevant_articles_for_text()"
   ]
  },
  {
   "cell_type": "code",
   "execution_count": 67,
   "metadata": {
    "id": "AIqq03AVXEWD"
   },
   "outputs": [
    {
     "data": {
      "text/html": [
       "<script>\n",
       "code_show=true; \n",
       "function code_toggle() {\n",
       " if (code_show){\n",
       " $('div.input').hide();\n",
       " } else {\n",
       " $('div.input').show();\n",
       " }\n",
       " code_show = !code_show\n",
       "} \n",
       "$( document ).ready(code_toggle);\n",
       "</script>\n",
       "<form action=\"javascript:code_toggle()\"><input type=\"submit\" value=\"Click here to toggle on/off the raw code.\"></form>"
      ],
      "text/plain": [
       "<IPython.core.display.HTML object>"
      ]
     },
     "execution_count": 67,
     "metadata": {},
     "output_type": "execute_result"
    }
   ],
   "source": [
    "HTML('''<script>\n",
    "code_show=true; \n",
    "function code_toggle() {\n",
    " if (code_show){\n",
    " $('div.input').hide();\n",
    " } else {\n",
    " $('div.input').show();\n",
    " }\n",
    " code_show = !code_show\n",
    "} \n",
    "$( document ).ready(code_toggle);\n",
    "</script>\n",
    "<form action=\"javascript:code_toggle()\"><input type=\"submit\" value=\"Click here to toggle on/off the raw code.\"></form>''')"
   ]
  },
  {
   "cell_type": "code",
   "execution_count": null,
   "metadata": {
    "id": "QjveqxjFXEWD"
   },
   "outputs": [],
   "source": []
  }
 ],
 "metadata": {
  "colab": {
   "name": "D_3_1_Use_Case_A_Version_3.ipynb",
   "provenance": []
  },
  "extensions": {
   "jupyter_dashboards": {
    "activeView": "default_view",
    "version": 1,
    "views": {
     "default_view": {
      "cellMargin": 10,
      "defaultCellHeight": 40,
      "maxColumns": 12,
      "name": "active_view",
      "type": "grid"
     }
    }
   }
  },
  "kernelspec": {
   "display_name": "Python 3",
   "language": "python",
   "name": "python3"
  },
  "language_info": {
   "codemirror_mode": {
    "name": "ipython",
    "version": 3
   },
   "file_extension": ".py",
   "mimetype": "text/x-python",
   "name": "python",
   "nbconvert_exporter": "python",
   "pygments_lexer": "ipython3",
   "version": "3.8.5"
  }
 },
 "nbformat": 4,
 "nbformat_minor": 1
}
