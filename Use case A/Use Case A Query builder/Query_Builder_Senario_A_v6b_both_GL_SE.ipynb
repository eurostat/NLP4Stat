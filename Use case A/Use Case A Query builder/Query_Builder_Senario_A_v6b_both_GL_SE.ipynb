{
 "cells": [
  {
   "cell_type": "markdown",
   "metadata": {},
   "source": [
    "# Use Case A - Query builder \n",
    "***\n",
    "### Using 2-grams, 3-grams, 4-grams with content from the Glossary articles and the Statistics Explained articles\n",
    "\n",
    "### To be connected with the KB in a later version "
   ]
  },
  {
   "cell_type": "code",
   "execution_count": 1,
   "metadata": {
    "scrolled": true
   },
   "outputs": [],
   "source": [
    "import pandas as pd\n",
    "import numpy as np\n",
    "\n",
    "import pyodbc\n",
    "\n",
    "import gensim\n",
    "\n",
    "pd.set_option('display.max_colwidth', 40)\n",
    "\n",
    "from IPython.core.interactiveshell import InteractiveShell\n",
    "InteractiveShell.ast_node_interactivity = \"all\""
   ]
  },
  {
   "cell_type": "markdown",
   "metadata": {},
   "source": [
    "### Load data from the database"
   ]
  },
  {
   "cell_type": "code",
   "execution_count": 2,
   "metadata": {
    "scrolled": true
   },
   "outputs": [],
   "source": [
    "c = pyodbc.connect('DSN=Virtuoso All;DBA=ESTAT;UID=xxxx;PWD=xxxx')\n",
    "cursor = c.cursor()"
   ]
  },
  {
   "cell_type": "code",
   "execution_count": 3,
   "metadata": {
    "scrolled": true
   },
   "outputs": [
    {
     "name": "stdout",
     "output_type": "stream",
     "text": [
      "SE_articles_categories\n",
      "dat_article\n",
      "dat_article_paragraph\n",
      "dat_article_shared_link\n",
      "dat_code_dataset\n",
      "dat_code_dico\n",
      "dat_collection\n",
      "dat_collection_resource\n",
      "dat_dataset\n",
      "dat_estat_glossary\n",
      "dat_estatg_measurement_unit\n",
      "dat_estatg_stat_unit\n",
      "dat_further_info\n",
      "dat_glossary\n",
      "dat_link_info\n",
      "dat_paragraph_figure\n",
      "dat_redirections\n",
      "dat_related_concepts\n",
      "dat_resource\n",
      "dat_resource_altlabel\n",
      "dat_sources\n",
      "dat_statistical_data\n",
      "mod_article_division\n",
      "mod_concept_type\n",
      "mod_dictionnary\n",
      "mod_infotype\n",
      "mod_lexical_type\n",
      "mod_measurement_unit\n",
      "mod_ramon_category\n",
      "mod_resource_information\n",
      "mod_resource_type\n",
      "mod_statistical_unit\n",
      "mod_status\n",
      "tm_articles_to_topics\n",
      "tm_terms\n",
      "tm_topics\n",
      "tm_values\n"
     ]
    }
   ],
   "source": [
    "for row in cursor.tables():\n",
    "    print (row.table_name)"
   ]
  },
  {
   "cell_type": "markdown",
   "metadata": {},
   "source": [
    "### Glossary articles  \n",
    "\n",
    "* Definitions from dat_glossary.\n",
    "* Titles and URLs from dat_link_info (with resource_information_id=1, i.e. Eurostat, see ESTAT.V1.mod_resource_information).\n",
    "* Match above on id.\n",
    "* Errors from the scraping process are corrected in a later chunk."
   ]
  },
  {
   "cell_type": "code",
   "execution_count": 4,
   "metadata": {
    "scrolled": true
   },
   "outputs": [
    {
     "data": {
      "text/html": [
       "<div>\n",
       "<style scoped>\n",
       "    .dataframe tbody tr th:only-of-type {\n",
       "        vertical-align: middle;\n",
       "    }\n",
       "\n",
       "    .dataframe tbody tr th {\n",
       "        vertical-align: top;\n",
       "    }\n",
       "\n",
       "    .dataframe thead th {\n",
       "        text-align: right;\n",
       "    }\n",
       "</style>\n",
       "<table border=\"1\" class=\"dataframe\">\n",
       "  <thead>\n",
       "    <tr style=\"text-align: right;\">\n",
       "      <th></th>\n",
       "      <th>id</th>\n",
       "      <th>title</th>\n",
       "      <th>definition</th>\n",
       "      <th>url</th>\n",
       "    </tr>\n",
       "  </thead>\n",
       "  <tbody>\n",
       "    <tr>\n",
       "      <th>0</th>\n",
       "      <td>1</td>\n",
       "      <td>Accident at work</td>\n",
       "      <td>An     accident at work    in the ...</td>\n",
       "      <td>https://ec.europa.eu/eurostat/statis...</td>\n",
       "    </tr>\n",
       "    <tr>\n",
       "      <th>1</th>\n",
       "      <td>5</td>\n",
       "      <td>Fatal accident at work</td>\n",
       "      <td>A     fatal accident at work    re...</td>\n",
       "      <td>https://ec.europa.eu/eurostat/statis...</td>\n",
       "    </tr>\n",
       "    <tr>\n",
       "      <th>2</th>\n",
       "      <td>6</td>\n",
       "      <td>Non-fatal accident at work</td>\n",
       "      <td>A     non-fatal      accident at w...</td>\n",
       "      <td>https://ec.europa.eu/eurostat/statis...</td>\n",
       "    </tr>\n",
       "    <tr>\n",
       "      <th>3</th>\n",
       "      <td>8</td>\n",
       "      <td>Aggregate demand</td>\n",
       "      <td>Aggregate demand    is the total ...</td>\n",
       "      <td>https://ec.europa.eu/eurostat/statis...</td>\n",
       "    </tr>\n",
       "    <tr>\n",
       "      <th>4</th>\n",
       "      <td>9</td>\n",
       "      <td>Goods and services account</td>\n",
       "      <td>The     goods and services account...</td>\n",
       "      <td>https://ec.europa.eu/eurostat/statis...</td>\n",
       "    </tr>\n",
       "  </tbody>\n",
       "</table>\n",
       "</div>"
      ],
      "text/plain": [
       "   id                             title  \\\n",
       "0   1            Accident at work         \n",
       "1   5         Fatal accident at work      \n",
       "2   6     Non-fatal accident at work      \n",
       "3   8            Aggregate demand         \n",
       "4   9     Goods and services account      \n",
       "\n",
       "                                definition  \\\n",
       "0    An     accident at work    in the ...   \n",
       "1    A     fatal accident at work    re...   \n",
       "2    A     non-fatal      accident at w...   \n",
       "3     Aggregate demand    is the total ...   \n",
       "4    The     goods and services account...   \n",
       "\n",
       "                                       url  \n",
       "0  https://ec.europa.eu/eurostat/statis...  \n",
       "1  https://ec.europa.eu/eurostat/statis...  \n",
       "2  https://ec.europa.eu/eurostat/statis...  \n",
       "3  https://ec.europa.eu/eurostat/statis...  \n",
       "4  https://ec.europa.eu/eurostat/statis...  "
      ]
     },
     "execution_count": 4,
     "metadata": {},
     "output_type": "execute_result"
    }
   ],
   "source": [
    "SQLCommand = \"\"\"SELECT T1.id, T1.definition, T2.title, T2.url \n",
    "                FROM ESTAT.V1.dat_glossary as T1 \n",
    "                INNER JOIN ESTAT.V1.dat_link_info as T2  \n",
    "                  ON T1.id=T2.id \n",
    "                WHERE T2.resource_information_id=1 \"\"\"\n",
    "\n",
    "GL_df = pd.read_sql(SQLCommand,c)\n",
    "GL_df = GL_df[['id', 'title', 'definition', 'url']]\n",
    "GL_df.head(5)"
   ]
  },
  {
   "cell_type": "markdown",
   "metadata": {},
   "source": [
    "### Check for missing information"
   ]
  },
  {
   "cell_type": "code",
   "execution_count": 5,
   "metadata": {
    "scrolled": true
   },
   "outputs": [
    {
     "name": "stdout",
     "output_type": "stream",
     "text": [
      "id            0\n",
      "title         0\n",
      "definition    2\n",
      "url           0\n",
      "dtype: int64\n"
     ]
    }
   ],
   "source": [
    "GL_df = GL_df.replace('', np.nan) \n",
    "print(GL_df.isnull().sum())\n"
   ]
  },
  {
   "cell_type": "markdown",
   "metadata": {},
   "source": [
    "### Delete records with empty definitions and carry out data cleansing\n",
    "\n",
    "* Also put the URLs in lists. This is required later."
   ]
  },
  {
   "cell_type": "code",
   "execution_count": 6,
   "metadata": {
    "scrolled": true
   },
   "outputs": [
    {
     "name": "stdout",
     "output_type": "stream",
     "text": [
      "id            0\n",
      "title         0\n",
      "definition    0\n",
      "url           0\n",
      "dtype: int64\n"
     ]
    },
    {
     "data": {
      "text/html": [
       "<div>\n",
       "<style scoped>\n",
       "    .dataframe tbody tr th:only-of-type {\n",
       "        vertical-align: middle;\n",
       "    }\n",
       "\n",
       "    .dataframe tbody tr th {\n",
       "        vertical-align: top;\n",
       "    }\n",
       "\n",
       "    .dataframe thead th {\n",
       "        text-align: right;\n",
       "    }\n",
       "</style>\n",
       "<table border=\"1\" class=\"dataframe\">\n",
       "  <thead>\n",
       "    <tr style=\"text-align: right;\">\n",
       "      <th></th>\n",
       "      <th>id</th>\n",
       "      <th>title</th>\n",
       "      <th>definition</th>\n",
       "      <th>url</th>\n",
       "    </tr>\n",
       "  </thead>\n",
       "  <tbody>\n",
       "    <tr>\n",
       "      <th>0</th>\n",
       "      <td>1</td>\n",
       "      <td>Accident at work</td>\n",
       "      <td>An accident at work in the framework...</td>\n",
       "      <td>[https://ec.europa.eu/eurostat/stati...</td>\n",
       "    </tr>\n",
       "    <tr>\n",
       "      <th>1</th>\n",
       "      <td>5</td>\n",
       "      <td>Fatal accident at work</td>\n",
       "      <td>A fatal accident at work refers to a...</td>\n",
       "      <td>[https://ec.europa.eu/eurostat/stati...</td>\n",
       "    </tr>\n",
       "    <tr>\n",
       "      <th>2</th>\n",
       "      <td>6</td>\n",
       "      <td>Non-fatal accident at work</td>\n",
       "      <td>A non-fatal accident at work is an a...</td>\n",
       "      <td>[https://ec.europa.eu/eurostat/stati...</td>\n",
       "    </tr>\n",
       "    <tr>\n",
       "      <th>3</th>\n",
       "      <td>8</td>\n",
       "      <td>Aggregate demand</td>\n",
       "      <td>Aggregate demand is the total amount...</td>\n",
       "      <td>[https://ec.europa.eu/eurostat/stati...</td>\n",
       "    </tr>\n",
       "    <tr>\n",
       "      <th>4</th>\n",
       "      <td>9</td>\n",
       "      <td>Goods and services account</td>\n",
       "      <td>The goods and services account shows...</td>\n",
       "      <td>[https://ec.europa.eu/eurostat/stati...</td>\n",
       "    </tr>\n",
       "  </tbody>\n",
       "</table>\n",
       "</div>"
      ],
      "text/plain": [
       "   id                       title                               definition  \\\n",
       "0   1            Accident at work  An accident at work in the framework...   \n",
       "1   5      Fatal accident at work  A fatal accident at work refers to a...   \n",
       "2   6  Non-fatal accident at work  A non-fatal accident at work is an a...   \n",
       "3   8            Aggregate demand  Aggregate demand is the total amount...   \n",
       "4   9  Goods and services account  The goods and services account shows...   \n",
       "\n",
       "                                       url  \n",
       "0  [https://ec.europa.eu/eurostat/stati...  \n",
       "1  [https://ec.europa.eu/eurostat/stati...  \n",
       "2  [https://ec.europa.eu/eurostat/stati...  \n",
       "3  [https://ec.europa.eu/eurostat/stati...  \n",
       "4  [https://ec.europa.eu/eurostat/stati...  "
      ]
     },
     "execution_count": 6,
     "metadata": {},
     "output_type": "execute_result"
    }
   ],
   "source": [
    "## drop records with any field empty\n",
    "GL_df = GL_df.dropna(axis=0,how='any')\n",
    "print(GL_df.isnull().sum())\n",
    "GL_df.reset_index(drop=True, inplace=True)\n",
    "\n",
    "import re\n",
    "import unicodedata as ud\n",
    "\n",
    "def clean(x, quotes=True):\n",
    "    if pd.isnull(x): return x  \n",
    "    x = x.strip()\n",
    "    \n",
    "    ## make letter-question mark-letter -> letter-quote-space-letter !!! but NOT in the lists of URLs!!!\n",
    "    if quotes:\n",
    "        x = re.sub(r'([A-Za-z])\\?([A-Za-z])','\\\\1\\' \\\\2',x) \n",
    "    \n",
    "    ## make letter-question mark-space lower case letter letter-quote-space letter\n",
    "    x = re.sub(r'([A-Za-z])\\? ([a-z])','\\\\1\\' \\\\2',x) \n",
    "\n",
    "    ## delete ,000 commas in numbers    \n",
    "    x = re.sub(r'\\b(\\d+),(\\d+)\\b','\\\\1\\\\2',x) ## CORRECTED\n",
    "    \n",
    "    ## delete  000 spaces in numbers\n",
    "    x = re.sub(r'\\b(\\d+) (\\d+)\\b','\\\\1\\\\2',x) ## CORRECTED\n",
    "    \n",
    "    ## remove more than one spaces\n",
    "    x = re.sub(r' +', ' ',x)\n",
    "    \n",
    "    ## remove start and end spaces\n",
    "    x = re.sub(r'^ +| +$', '',x,flags=re.MULTILINE) \n",
    "    \n",
    "    ## space-comma -> comma\n",
    "    x = re.sub(r' \\,',',',x)\n",
    "    \n",
    "    ## space-dot -> dot\n",
    "    x = re.sub(r' \\.','.',x)\n",
    "    \n",
    "    #x = x.encode('latin1').decode('utf-8') ## â\\x80\\x99\n",
    "    x = ud.normalize('NFKD',x).encode('ascii', 'ignore').decode()\n",
    "    \n",
    "    return x\n",
    "\n",
    "\n",
    "GL_df['title'] = GL_df['title'].apply(clean)\n",
    "GL_df['title'] = GL_df['title'].apply(lambda x: re.sub(r'\\?','-',x)) ## also replace question marks by dashes\n",
    "GL_df['definition'] = GL_df['definition'].apply(clean)\n",
    "GL_df['url'] = GL_df['url'].apply(clean,quotes=False)  \n",
    "GL_df['url'] = GL_df['url'].apply(lambda x: [x]) ## also put each URL in a list - required later\n",
    "\n",
    "GL_df.head(5)"
   ]
  },
  {
   "cell_type": "markdown",
   "metadata": {},
   "source": [
    "### Delete \"special\" records\n",
    "\n",
    "* i.e. redirections."
   ]
  },
  {
   "cell_type": "code",
   "execution_count": 7,
   "metadata": {
    "scrolled": true
   },
   "outputs": [
    {
     "name": "stdout",
     "output_type": "stream",
     "text": [
      "Int64Index([ 230,  291,  383,  385,  432,  435,  437,  438,  503,  518,  529,\n",
      "             556,  587,  728,  741,  774,  825,  888,  890,  911,  959,  960,\n",
      "             968, 1001, 1005, 1131, 1142, 1180, 1229],\n",
      "           dtype='int64')\n",
      "Int64Index([], dtype='int64')\n"
     ]
    }
   ],
   "source": [
    "## Drop The records with definitions \"The revision ...\" and \"Redirect to ...\" \n",
    "\n",
    "idx = GL_df[GL_df['definition'].str.startswith('The revision #')].index\n",
    "print(idx)\n",
    "GL_df.drop(idx , inplace=True)\n",
    "idx = GL_df[GL_df['definition'].str.startswith('Redirect to')].index\n",
    "print(idx)\n",
    "GL_df.drop(idx , inplace=True)\n",
    "GL_df.reset_index(drop=True, inplace=True)"
   ]
  },
  {
   "cell_type": "markdown",
   "metadata": {},
   "source": [
    "### Check for duplicate titles AND definitions"
   ]
  },
  {
   "cell_type": "code",
   "execution_count": 8,
   "metadata": {
    "scrolled": true
   },
   "outputs": [
    {
     "name": "stdout",
     "output_type": "stream",
     "text": [
      "Int64Index([1217, 1218], dtype='int64')\n"
     ]
    }
   ],
   "source": [
    "idx = GL_df[GL_df.duplicated(subset=['title','definition'], keep=False)].sort_values(by=['title','definition']).index\n",
    "print(idx)\n",
    "GL_df.drop(idx , inplace=True)\n",
    "GL_df.reset_index(drop=True, inplace=True)"
   ]
  },
  {
   "cell_type": "markdown",
   "metadata": {},
   "source": [
    "### Optionally, produce output file for debugging"
   ]
  },
  {
   "cell_type": "code",
   "execution_count": 9,
   "metadata": {
    "scrolled": true
   },
   "outputs": [],
   "source": [
    "%%script false --no-raise-error\n",
    "\n",
    "from datetime import datetime\n",
    "\n",
    "def file_name(pre,ext):\n",
    "    current_time = datetime.now() \n",
    "    return pre + '_'+ str(current_time.month)+ '_' + str(current_time.day) + \\\n",
    "                 '_' + str(current_time.hour)+ '_' + str(current_time.minute)  +'.'+ext\n",
    "    \n",
    "outfile = file_name('D3_2_Glossary','xlsx')\n",
    "GL_df.to_excel(outfile)\n"
   ]
  },
  {
   "cell_type": "markdown",
   "metadata": {},
   "source": [
    "### Statistics explained articles\n",
    "\n",
    "* IDs, titles and urls from dat_link_info, with resource_information_id=1, i.e. Eurostat (see ESTAT.V1.mod_resource_information) and matching IDs from dat_article.\n",
    "* Carry out data cleansing on titles and URLs.\n",
    "* Also put the URLs in lists. This is required later."
   ]
  },
  {
   "cell_type": "code",
   "execution_count": 10,
   "metadata": {
    "scrolled": true
   },
   "outputs": [
    {
     "data": {
      "text/html": [
       "<div>\n",
       "<style scoped>\n",
       "    .dataframe tbody tr th:only-of-type {\n",
       "        vertical-align: middle;\n",
       "    }\n",
       "\n",
       "    .dataframe tbody tr th {\n",
       "        vertical-align: top;\n",
       "    }\n",
       "\n",
       "    .dataframe thead th {\n",
       "        text-align: right;\n",
       "    }\n",
       "</style>\n",
       "<table border=\"1\" class=\"dataframe\">\n",
       "  <thead>\n",
       "    <tr style=\"text-align: right;\">\n",
       "      <th></th>\n",
       "      <th>id</th>\n",
       "      <th>title</th>\n",
       "      <th>url</th>\n",
       "    </tr>\n",
       "  </thead>\n",
       "  <tbody>\n",
       "    <tr>\n",
       "      <th>0</th>\n",
       "      <td>7</td>\n",
       "      <td>Accidents at work statistics</td>\n",
       "      <td>[https://ec.europa.eu/eurostat/stati...</td>\n",
       "    </tr>\n",
       "    <tr>\n",
       "      <th>1</th>\n",
       "      <td>13</td>\n",
       "      <td>National accounts and GDP</td>\n",
       "      <td>[https://ec.europa.eu/eurostat/stati...</td>\n",
       "    </tr>\n",
       "    <tr>\n",
       "      <th>2</th>\n",
       "      <td>16</td>\n",
       "      <td>Railway safety statistics in the EU</td>\n",
       "      <td>[https://ec.europa.eu/eurostat/stati...</td>\n",
       "    </tr>\n",
       "    <tr>\n",
       "      <th>3</th>\n",
       "      <td>17</td>\n",
       "      <td>Railway freight transport statistics</td>\n",
       "      <td>[https://ec.europa.eu/eurostat/stati...</td>\n",
       "    </tr>\n",
       "    <tr>\n",
       "      <th>4</th>\n",
       "      <td>18</td>\n",
       "      <td>Railway passenger transport statisti...</td>\n",
       "      <td>[https://ec.europa.eu/eurostat/stati...</td>\n",
       "    </tr>\n",
       "  </tbody>\n",
       "</table>\n",
       "</div>"
      ],
      "text/plain": [
       "   id                                    title  \\\n",
       "0   7             Accidents at work statistics   \n",
       "1  13                National accounts and GDP   \n",
       "2  16      Railway safety statistics in the EU   \n",
       "3  17     Railway freight transport statistics   \n",
       "4  18  Railway passenger transport statisti...   \n",
       "\n",
       "                                       url  \n",
       "0  [https://ec.europa.eu/eurostat/stati...  \n",
       "1  [https://ec.europa.eu/eurostat/stati...  \n",
       "2  [https://ec.europa.eu/eurostat/stati...  \n",
       "3  [https://ec.europa.eu/eurostat/stati...  \n",
       "4  [https://ec.europa.eu/eurostat/stati...  "
      ]
     },
     "execution_count": 10,
     "metadata": {},
     "output_type": "execute_result"
    }
   ],
   "source": [
    "SQLCommand = \"\"\"SELECT id, title, url \n",
    "                FROM ESTAT.V1.dat_link_info \n",
    "                WHERE resource_information_id=1 AND id IN (SELECT id FROM ESTAT.V1.dat_article) \"\"\"\n",
    "\n",
    "SE_df = pd.read_sql(SQLCommand,c)\n",
    "\n",
    "SE_df['title'] = SE_df['title'].apply(clean)\n",
    "SE_df['url'] = SE_df['url'].apply(clean,quotes=False)\n",
    "SE_df['url'] = SE_df['url'].apply(lambda x: [x])\n",
    "SE_df.head(5)"
   ]
  },
  {
   "cell_type": "markdown",
   "metadata": {},
   "source": [
    "### Add paragraphs titles and contents\n",
    "\n",
    "* From dat_article_paragraph with abstract=0 (i.e. \"no\").\n",
    "* Match article_id from dat_article_paragraph with id from dat_article.\n",
    "* Carry out data cleansing on titles and paragraph contents."
   ]
  },
  {
   "cell_type": "code",
   "execution_count": 11,
   "metadata": {
    "scrolled": true
   },
   "outputs": [
    {
     "data": {
      "text/html": [
       "<div>\n",
       "<style scoped>\n",
       "    .dataframe tbody tr th:only-of-type {\n",
       "        vertical-align: middle;\n",
       "    }\n",
       "\n",
       "    .dataframe tbody tr th {\n",
       "        vertical-align: top;\n",
       "    }\n",
       "\n",
       "    .dataframe thead th {\n",
       "        text-align: right;\n",
       "    }\n",
       "</style>\n",
       "<table border=\"1\" class=\"dataframe\">\n",
       "  <thead>\n",
       "    <tr style=\"text-align: right;\">\n",
       "      <th></th>\n",
       "      <th>article_id</th>\n",
       "      <th>title</th>\n",
       "      <th>content</th>\n",
       "    </tr>\n",
       "  </thead>\n",
       "  <tbody>\n",
       "    <tr>\n",
       "      <th>0</th>\n",
       "      <td>2905</td>\n",
       "      <td>Absences from work sharply increase ...</td>\n",
       "      <td>Absences from work recorded unpreced...</td>\n",
       "    </tr>\n",
       "    <tr>\n",
       "      <th>1</th>\n",
       "      <td>2905</td>\n",
       "      <td>Absences: 9.5 % of employment in Q4 ...</td>\n",
       "      <td>The article's next figure (Figure 4)...</td>\n",
       "    </tr>\n",
       "    <tr>\n",
       "      <th>2</th>\n",
       "      <td>2905</td>\n",
       "      <td>Higher share of absences from work a...</td>\n",
       "      <td>Considering all four quarters of 202...</td>\n",
       "    </tr>\n",
       "    <tr>\n",
       "      <th>3</th>\n",
       "      <td>2905</td>\n",
       "      <td>Absences from work due to own illnes...</td>\n",
       "      <td>From Q4 2019 to Q4 2020, the number ...</td>\n",
       "    </tr>\n",
       "    <tr>\n",
       "      <th>4</th>\n",
       "      <td>2905</td>\n",
       "      <td>Absences from work due to holidays</td>\n",
       "      <td>Expressed as a share of employed peo...</td>\n",
       "    </tr>\n",
       "    <tr>\n",
       "      <th>...</th>\n",
       "      <td>...</td>\n",
       "      <td>...</td>\n",
       "      <td>...</td>\n",
       "    </tr>\n",
       "    <tr>\n",
       "      <th>3854</th>\n",
       "      <td>10539</td>\n",
       "      <td>General presentation and definition</td>\n",
       "      <td>Scope of asylum statistics and Dubli...</td>\n",
       "    </tr>\n",
       "    <tr>\n",
       "      <th>3855</th>\n",
       "      <td>10539</td>\n",
       "      <td>Methodological aspects in asylum sta...</td>\n",
       "      <td>Annual aggregate of the number of as...</td>\n",
       "    </tr>\n",
       "    <tr>\n",
       "      <th>3856</th>\n",
       "      <td>10539</td>\n",
       "      <td>Methodological aspects in Dublin sta...</td>\n",
       "      <td>Asymmetries For most of the collecte...</td>\n",
       "    </tr>\n",
       "    <tr>\n",
       "      <th>3857</th>\n",
       "      <td>10539</td>\n",
       "      <td>What questions can or cannot be answ...</td>\n",
       "      <td>How many asylum seekers are entering...</td>\n",
       "    </tr>\n",
       "    <tr>\n",
       "      <th>3858</th>\n",
       "      <td>10539</td>\n",
       "      <td>Policy context</td>\n",
       "      <td>The collected asylum statistics and ...</td>\n",
       "    </tr>\n",
       "  </tbody>\n",
       "</table>\n",
       "<p>3859 rows × 3 columns</p>\n",
       "</div>"
      ],
      "text/plain": [
       "      article_id                                    title  \\\n",
       "0           2905  Absences from work sharply increase ...   \n",
       "1           2905  Absences: 9.5 % of employment in Q4 ...   \n",
       "2           2905  Higher share of absences from work a...   \n",
       "3           2905  Absences from work due to own illnes...   \n",
       "4           2905       Absences from work due to holidays   \n",
       "...          ...                                      ...   \n",
       "3854       10539      General presentation and definition   \n",
       "3855       10539  Methodological aspects in asylum sta...   \n",
       "3856       10539  Methodological aspects in Dublin sta...   \n",
       "3857       10539  What questions can or cannot be answ...   \n",
       "3858       10539                           Policy context   \n",
       "\n",
       "                                      content  \n",
       "0     Absences from work recorded unpreced...  \n",
       "1     The article's next figure (Figure 4)...  \n",
       "2     Considering all four quarters of 202...  \n",
       "3     From Q4 2019 to Q4 2020, the number ...  \n",
       "4     Expressed as a share of employed peo...  \n",
       "...                                       ...  \n",
       "3854  Scope of asylum statistics and Dubli...  \n",
       "3855  Annual aggregate of the number of as...  \n",
       "3856  Asymmetries For most of the collecte...  \n",
       "3857  How many asylum seekers are entering...  \n",
       "3858  The collected asylum statistics and ...  \n",
       "\n",
       "[3859 rows x 3 columns]"
      ]
     },
     "execution_count": 11,
     "metadata": {},
     "output_type": "execute_result"
    }
   ],
   "source": [
    "SQLCommand = \"\"\"SELECT article_id, title, content \n",
    "                FROM ESTAT.V1.dat_article_paragraph\n",
    "                WHERE abstract=0 AND article_id IN (SELECT id FROM ESTAT.V1.dat_article) \"\"\"\n",
    "\n",
    "add_content = pd.read_sql(SQLCommand,c)\n",
    "add_content['title'] = add_content['title'].apply(clean)\n",
    "add_content['content'] = add_content['content'].apply(clean)\n",
    "add_content"
   ]
  },
  {
   "cell_type": "markdown",
   "metadata": {},
   "source": [
    "### Aggregate above paragraph titles and contents  from SE articles paragraphs by article id\n",
    "\n",
    "* Create a column _raw content_ which gathers all paragraph titles and contents in one text per article."
   ]
  },
  {
   "cell_type": "code",
   "execution_count": 12,
   "metadata": {
    "scrolled": true
   },
   "outputs": [
    {
     "data": {
      "text/html": [
       "<div>\n",
       "<style scoped>\n",
       "    .dataframe tbody tr th:only-of-type {\n",
       "        vertical-align: middle;\n",
       "    }\n",
       "\n",
       "    .dataframe tbody tr th {\n",
       "        vertical-align: top;\n",
       "    }\n",
       "\n",
       "    .dataframe thead th {\n",
       "        text-align: right;\n",
       "    }\n",
       "</style>\n",
       "<table border=\"1\" class=\"dataframe\">\n",
       "  <thead>\n",
       "    <tr style=\"text-align: right;\">\n",
       "      <th></th>\n",
       "      <th>article_id</th>\n",
       "      <th>raw content</th>\n",
       "    </tr>\n",
       "  </thead>\n",
       "  <tbody>\n",
       "    <tr>\n",
       "      <th>0</th>\n",
       "      <td>7</td>\n",
       "      <td>Number of accidents In 2018, there ...</td>\n",
       "    </tr>\n",
       "    <tr>\n",
       "      <th>1</th>\n",
       "      <td>13</td>\n",
       "      <td>Developments for GDP in the EU-27: ...</td>\n",
       "    </tr>\n",
       "    <tr>\n",
       "      <th>2</th>\n",
       "      <td>16</td>\n",
       "      <td>Fall in the number of railway accid...</td>\n",
       "    </tr>\n",
       "    <tr>\n",
       "      <th>3</th>\n",
       "      <td>17</td>\n",
       "      <td>Downturn for EU transport performan...</td>\n",
       "    </tr>\n",
       "    <tr>\n",
       "      <th>4</th>\n",
       "      <td>18</td>\n",
       "      <td>Rail passenger transport performanc...</td>\n",
       "    </tr>\n",
       "    <tr>\n",
       "      <th>...</th>\n",
       "      <td>...</td>\n",
       "      <td>...</td>\n",
       "    </tr>\n",
       "    <tr>\n",
       "      <th>860</th>\n",
       "      <td>10456</td>\n",
       "      <td>Problem After successfully identify...</td>\n",
       "    </tr>\n",
       "    <tr>\n",
       "      <th>861</th>\n",
       "      <td>10470</td>\n",
       "      <td>Problem In France, there was signif...</td>\n",
       "    </tr>\n",
       "    <tr>\n",
       "      <th>862</th>\n",
       "      <td>10506</td>\n",
       "      <td>General overview Nine PEEIs concern...</td>\n",
       "    </tr>\n",
       "    <tr>\n",
       "      <th>863</th>\n",
       "      <td>10531</td>\n",
       "      <td>What are administrative sources? Th...</td>\n",
       "    </tr>\n",
       "    <tr>\n",
       "      <th>864</th>\n",
       "      <td>10539</td>\n",
       "      <td>Main points Asylum statistics and a...</td>\n",
       "    </tr>\n",
       "  </tbody>\n",
       "</table>\n",
       "<p>865 rows × 2 columns</p>\n",
       "</div>"
      ],
      "text/plain": [
       "     article_id                              raw content\n",
       "0             7   Number of accidents In 2018, there ...\n",
       "1            13   Developments for GDP in the EU-27: ...\n",
       "2            16   Fall in the number of railway accid...\n",
       "3            17   Downturn for EU transport performan...\n",
       "4            18   Rail passenger transport performanc...\n",
       "..          ...                                      ...\n",
       "860       10456   Problem After successfully identify...\n",
       "861       10470   Problem In France, there was signif...\n",
       "862       10506   General overview Nine PEEIs concern...\n",
       "863       10531   What are administrative sources? Th...\n",
       "864       10539   Main points Asylum statistics and a...\n",
       "\n",
       "[865 rows x 2 columns]"
      ]
     },
     "execution_count": 12,
     "metadata": {},
     "output_type": "execute_result"
    }
   ],
   "source": [
    "\n",
    "add_content_grouped = add_content.groupby(['article_id'])[['title','content']].aggregate(lambda x: list(x))\n",
    "add_content_grouped.reset_index(drop=False, inplace=True)\n",
    "for i in range(len(add_content_grouped)):\n",
    "    add_content_grouped.loc[i,'raw content'] = ''\n",
    "    for (a,b) in zip(add_content_grouped.loc[i,'title'],add_content_grouped.loc[i,'content']):\n",
    "        add_content_grouped.loc[i,'raw content'] += ' '+a + ' ' + b\n",
    "add_content_grouped = add_content_grouped[['article_id','raw content']]    \n",
    "\n",
    "add_content_grouped"
   ]
  },
  {
   "cell_type": "markdown",
   "metadata": {},
   "source": [
    "### Merge raw content of SE articles with main file"
   ]
  },
  {
   "cell_type": "code",
   "execution_count": 13,
   "metadata": {
    "scrolled": true
   },
   "outputs": [
    {
     "data": {
      "text/html": [
       "<div>\n",
       "<style scoped>\n",
       "    .dataframe tbody tr th:only-of-type {\n",
       "        vertical-align: middle;\n",
       "    }\n",
       "\n",
       "    .dataframe tbody tr th {\n",
       "        vertical-align: top;\n",
       "    }\n",
       "\n",
       "    .dataframe thead th {\n",
       "        text-align: right;\n",
       "    }\n",
       "</style>\n",
       "<table border=\"1\" class=\"dataframe\">\n",
       "  <thead>\n",
       "    <tr style=\"text-align: right;\">\n",
       "      <th></th>\n",
       "      <th>id</th>\n",
       "      <th>title</th>\n",
       "      <th>url</th>\n",
       "      <th>raw content</th>\n",
       "    </tr>\n",
       "  </thead>\n",
       "  <tbody>\n",
       "    <tr>\n",
       "      <th>0</th>\n",
       "      <td>7</td>\n",
       "      <td>Accidents at work statistics</td>\n",
       "      <td>[https://ec.europa.eu/eurostat/stati...</td>\n",
       "      <td>Number of accidents In 2018, there ...</td>\n",
       "    </tr>\n",
       "    <tr>\n",
       "      <th>1</th>\n",
       "      <td>13</td>\n",
       "      <td>National accounts and GDP</td>\n",
       "      <td>[https://ec.europa.eu/eurostat/stati...</td>\n",
       "      <td>Developments for GDP in the EU-27: ...</td>\n",
       "    </tr>\n",
       "    <tr>\n",
       "      <th>2</th>\n",
       "      <td>16</td>\n",
       "      <td>Railway safety statistics in the EU</td>\n",
       "      <td>[https://ec.europa.eu/eurostat/stati...</td>\n",
       "      <td>Fall in the number of railway accid...</td>\n",
       "    </tr>\n",
       "    <tr>\n",
       "      <th>3</th>\n",
       "      <td>17</td>\n",
       "      <td>Railway freight transport statistics</td>\n",
       "      <td>[https://ec.europa.eu/eurostat/stati...</td>\n",
       "      <td>Downturn for EU transport performan...</td>\n",
       "    </tr>\n",
       "    <tr>\n",
       "      <th>4</th>\n",
       "      <td>18</td>\n",
       "      <td>Railway passenger transport statisti...</td>\n",
       "      <td>[https://ec.europa.eu/eurostat/stati...</td>\n",
       "      <td>Rail passenger transport performanc...</td>\n",
       "    </tr>\n",
       "  </tbody>\n",
       "</table>\n",
       "</div>"
      ],
      "text/plain": [
       "   id                                    title  \\\n",
       "0   7             Accidents at work statistics   \n",
       "1  13                National accounts and GDP   \n",
       "2  16      Railway safety statistics in the EU   \n",
       "3  17     Railway freight transport statistics   \n",
       "4  18  Railway passenger transport statisti...   \n",
       "\n",
       "                                       url  \\\n",
       "0  [https://ec.europa.eu/eurostat/stati...   \n",
       "1  [https://ec.europa.eu/eurostat/stati...   \n",
       "2  [https://ec.europa.eu/eurostat/stati...   \n",
       "3  [https://ec.europa.eu/eurostat/stati...   \n",
       "4  [https://ec.europa.eu/eurostat/stati...   \n",
       "\n",
       "                               raw content  \n",
       "0   Number of accidents In 2018, there ...  \n",
       "1   Developments for GDP in the EU-27: ...  \n",
       "2   Fall in the number of railway accid...  \n",
       "3   Downturn for EU transport performan...  \n",
       "4   Rail passenger transport performanc...  "
      ]
     },
     "execution_count": 13,
     "metadata": {},
     "output_type": "execute_result"
    }
   ],
   "source": [
    "SE_df = pd.merge(SE_df,add_content_grouped,left_on='id',right_on='article_id',how='inner')\n",
    "SE_df.drop(['article_id'],axis=1,inplace=True)\n",
    "\n",
    "SE_df.head(5)"
   ]
  },
  {
   "cell_type": "markdown",
   "metadata": {},
   "source": [
    "### Tokenize, remove stop-words and stem; keep also the original terms\n",
    "\n",
    "* Use titles and definitions from the Glossary articles.\n",
    "* Use titles and raw content from the SE articles\n",
    "* _texts_ is a list containing lists. Each sub-list has the stemmed term, the original term and the URL where the term was found. The URL is itself put in a list."
   ]
  },
  {
   "cell_type": "code",
   "execution_count": 14,
   "metadata": {
    "scrolled": true
   },
   "outputs": [],
   "source": [
    "\n",
    "from gensim.parsing.preprocessing import remove_stopwords\n",
    "from gensim.parsing.preprocessing import stem_text\n",
    "from gensim.parsing.porter import PorterStemmer\n",
    "\n",
    "p = PorterStemmer()\n",
    "\n",
    "def text_to_words(text,url):\n",
    "    words = str(gensim.utils.simple_preprocess(text, deacc=True))\n",
    "    words = remove_stopwords(words) \n",
    "    words = gensim.utils.tokenize(words)\n",
    "        \n",
    "    ## keep also original token!!! \n",
    "    words = [[p.stem(token),token,url] for token in words if len(p.stem(token)) >= 5] ##minimum length = 5 \n",
    "    yield words        \n",
    "\n",
    "texts=list()   \n",
    "\n",
    "for i in range(len(GL_df)):\n",
    "    texts.extend(text_to_words(GL_df.loc[i,'definition'],GL_df.loc[i,'url']))\n",
    "    texts.extend(text_to_words(GL_df.loc[i,'title'],GL_df.loc[i,'url'])) \n",
    "for i in range(len(SE_df)):    \n",
    "    texts.extend(text_to_words(SE_df.loc[i,'title'],SE_df.loc[i,'url'])) \n",
    "    texts.extend(text_to_words(SE_df.loc[i,'raw content'],SE_df.loc[i,'url'])) "
   ]
  },
  {
   "cell_type": "markdown",
   "metadata": {},
   "source": [
    "* Example: the first 5 sub-lists in the first list in _texts_."
   ]
  },
  {
   "cell_type": "code",
   "execution_count": 15,
   "metadata": {
    "scrolled": true
   },
   "outputs": [
    {
     "name": "stdout",
     "output_type": "stream",
     "text": [
      "4292\n"
     ]
    },
    {
     "data": {
      "text/plain": [
       "[['accid',\n",
       "  'accident',\n",
       "  ['https://ec.europa.eu/eurostat/statistics-explained/index.php?title=Glossary:Accident_at_work']],\n",
       " ['framework',\n",
       "  'framework',\n",
       "  ['https://ec.europa.eu/eurostat/statistics-explained/index.php?title=Glossary:Accident_at_work']],\n",
       " ['administr',\n",
       "  'administrative',\n",
       "  ['https://ec.europa.eu/eurostat/statistics-explained/index.php?title=Glossary:Accident_at_work']],\n",
       " ['collect',\n",
       "  'collection',\n",
       "  ['https://ec.europa.eu/eurostat/statistics-explained/index.php?title=Glossary:Accident_at_work']],\n",
       " ['european',\n",
       "  'european',\n",
       "  ['https://ec.europa.eu/eurostat/statistics-explained/index.php?title=Glossary:Accident_at_work']]]"
      ]
     },
     "execution_count": 15,
     "metadata": {},
     "output_type": "execute_result"
    }
   ],
   "source": [
    "print(len(texts))\n",
    "texts[0][:5]\n"
   ]
  },
  {
   "cell_type": "markdown",
   "metadata": {},
   "source": [
    "### Co-occurences: keys in n-grams are (n-1) tuples of stemmed tokens \n",
    "\n",
    "* Three dictionaries, for 2-,3-,and 4-grams. The corresponding keys are single stemmed terms, pairs of stemmed terms and triplets, respectively.\n",
    "* For each key in a dictionary, the value is another (nested) dictionary with the **original terms**, their counts and the relevant URLs. In the end, the counts are used to calculate probabilities.\n",
    "* Below all three dictionaries are constructed from the sequences of 4-grams.\n"
   ]
  },
  {
   "cell_type": "code",
   "execution_count": 16,
   "metadata": {
    "scrolled": true
   },
   "outputs": [],
   "source": [
    "##%%script false --no-raise-error\n",
    "## Check also COLLOCATIONS: http://www.nltk.org/howto/collocations.html and http://www.nltk.org/api/nltk.html?highlight=ngram\n",
    "\n",
    "\n",
    "from nltk import bigrams, trigrams, ngrams\n",
    "#from collections import Counter, defaultdict\n",
    "\n",
    "\n",
    "model2=dict()\n",
    "model3=dict()\n",
    "model4=dict()\n",
    "\n",
    "def dict_insert(model,entered,proposed,new_urls_to_check):\n",
    "    key_1 = model.get(entered)\n",
    "    if key_1:\n",
    "        key_2 = key_1.get(proposed)\n",
    "        if key_2:\n",
    "            key_2[0] +=1\n",
    "            existing_urls = key_2[1]\n",
    "            add_urls = [u for u in new_urls_to_check if u not in existing_urls]\n",
    "            key_2.extend(add_urls)\n",
    "        else:    \n",
    "            key_1[proposed]= [1,new_urls_to_check]\n",
    "    else:\n",
    "        model[entered]={proposed:[1,new_urls_to_check]}\n",
    "    return model            \n",
    "\n",
    "\n",
    "# Co-occurences\n",
    "\n",
    "for sentence in texts:\n",
    "    pairs = [elem for elem in sentence] ## a list of 3-tuples (stemmed term, original term, list of URLs)\n",
    "    if len(pairs) == 0: continue\n",
    "    \n",
    "    for first, second, third, fourth in ngrams(pairs,4): ## quadruplets of 3-tuples (stemmed term, original term, list of URLs)\n",
    "        first_stem, first_orig, first_url = first\n",
    "        second_stem, second_orig, second_url = second\n",
    "        third_stem, third_orig, third_url = third\n",
    "        fourth_stem, fourth_orig, fourth_url = fourth\n",
    "       \n",
    "        model2 = dict_insert(model2, first_stem, second_orig,list(set(first_url).intersection(second_url)))\n",
    "        model2 = dict_insert(model2, second_stem, third_orig,list(set(second_url).intersection(third_url)))\n",
    "        model2 = dict_insert(model2, third_stem, fourth_orig,list(set(third_url).intersection(fourth_url)))\n",
    "        \n",
    "        model3 = dict_insert(model3,(first_stem,second_stem),third_orig,list(set(first_url).intersection(*[second_url,third_url])))\n",
    "        model3 = dict_insert(model3,(second_stem,third_stem),fourth_orig,list(set(second_url).intersection(*[third_url,fourth_url])))\n",
    "        \n",
    "        model4 = dict_insert(model4,(first_stem, second_stem, third_stem),fourth_orig,fourth_url)\n",
    "   \n",
    "        \n",
    "## Transform counts to probabilities\n",
    "\n",
    "for w1 in model2.keys():\n",
    "    ssum = sum(model2[w1][w2][0] for w2 in model2[w1].keys())\n",
    "    for w2 in model2[w1].keys():\n",
    "        model2[w1][w2][0] /= ssum\n",
    "\n",
    "for w1_w2 in model3.keys():\n",
    "    ssum = sum(model3[w1_w2][w3][0] for w3 in model3[w1_w2].keys())\n",
    "    for w3 in model3[w1_w2].keys():\n",
    "        model3[w1_w2][w3][0] /= ssum\n",
    "\n",
    "for w1_w2_w3 in model4.keys():\n",
    "    ssum = sum(model4[w1_w2_w3][w4][0] for w4 in model4[w1_w2_w3].keys())\n",
    "    for w4 in model4[w1_w2_w3].keys():\n",
    "        model4[w1_w2_w3][w4][0] /= ssum\n"
   ]
  },
  {
   "cell_type": "markdown",
   "metadata": {},
   "source": [
    "### Examples of keys and values in the three dictionaries\n",
    "\n",
    "* We do not show an example of the 2-grams dictionary because the values are too many.\n"
   ]
  },
  {
   "cell_type": "code",
   "execution_count": 17,
   "metadata": {
    "scrolled": true
   },
   "outputs": [
    {
     "name": "stdout",
     "output_type": "stream",
     "text": [
      "\n",
      "Example, model with 3-grams, key = (basic,structur):\n",
      "\n",
      "{'survey': [0.3333333333333333, ['https://ec.europa.eu/eurostat/statistics-explained/index.php?title=Glossary:Farm_structure_survey_(FSS)']], 'employment': [0.6666666666666666, ['https://ec.europa.eu/eurostat/statistics-explained/index.php?title=Statistics_on_small_and_medium-sized_enterprises']]}\n",
      "\n",
      "Example, model with 4-grams, key = (survei,structur,agricultur):\n",
      "\n",
      "{'carried': [0.3333333333333333, ['https://ec.europa.eu/eurostat/statistics-explained/index.php?title=Glossary:Farm_structure_survey_(FSS)']], 'definitions': [0.3333333333333333, ['https://ec.europa.eu/eurostat/statistics-explained/index.php?title=Survey_on_agricultural_production_methods']], 'project': [0.3333333333333333, ['https://ec.europa.eu/eurostat/statistics-explained/index.php?title=Survey_on_agricultural_production_methods']]}\n"
     ]
    }
   ],
   "source": [
    "print('\\nExample, model with 3-grams, key = (basic,structur):\\n')\n",
    "print(model3[('basic','structur')])\n",
    "\n",
    "print('\\nExample, model with 4-grams, key = (survei,structur,agricultur):\\n')\n",
    "print(model4[('survei','structur','agricultur')])\n"
   ]
  },
  {
   "cell_type": "markdown",
   "metadata": {},
   "source": [
    "### The widgets\n",
    "***"
   ]
  },
  {
   "cell_type": "code",
   "execution_count": 18,
   "metadata": {
    "scrolled": true
   },
   "outputs": [],
   "source": [
    "import ipywidgets as widgets\n",
    "layout = widgets.Layout(width='600px', height='30px')"
   ]
  },
  {
   "cell_type": "code",
   "execution_count": 19,
   "metadata": {},
   "outputs": [
    {
     "data": {
      "application/javascript": [
       "IPython.OutputArea.prototype._should_scroll = function(lines) {\n",
       "    return false;\n",
       "}\n"
      ],
      "text/plain": [
       "<IPython.core.display.Javascript object>"
      ]
     },
     "metadata": {},
     "output_type": "display_data"
    }
   ],
   "source": [
    "%%javascript\n",
    "IPython.OutputArea.prototype._should_scroll = function(lines) {\n",
    "    return false;\n",
    "}"
   ]
  },
  {
   "cell_type": "code",
   "execution_count": 20,
   "metadata": {
    "scrolled": false
   },
   "outputs": [
    {
     "data": {
      "application/vnd.jupyter.widget-view+json": {
       "model_id": "9cac186415a94303ba0d93378ebf8b8f",
       "version_major": 2,
       "version_minor": 0
      },
      "text/plain": [
       "HBox(children=(Text(value='household income', description='Keywords:', placeholder='Type something'),))"
      ]
     },
     "metadata": {},
     "output_type": "display_data"
    },
    {
     "data": {
      "application/vnd.jupyter.widget-view+json": {
       "model_id": "ca75aa9920e042bbaf689486bea4405f",
       "version_major": 2,
       "version_minor": 0
      },
      "text/plain": [
       "Output()"
      ]
     },
     "metadata": {},
     "output_type": "display_data"
    }
   ],
   "source": [
    "\n",
    "def change_top_articles( Keywords):\n",
    "\n",
    "    from operator import itemgetter\n",
    "    p = PorterStemmer()\n",
    "    \n",
    "    last_match = ''\n",
    "    \n",
    "    #if not Keywords.endswith(' '):\n",
    "    #    return None\n",
    "    \n",
    "    def test_and_back_step(x):\n",
    "        mod_index = -1\n",
    "        models = [model2,model3,model4]\n",
    "        if len(x)==1: \n",
    "            x=x[0] ; model=models[0]\n",
    "        elif len(x) ==2 or len(x) == 3:\n",
    "            x=tuple(x) ; mod_index=len(x)-1; model=models[mod_index]\n",
    "        elif len(x) >=4:\n",
    "            x=tuple(x[:3]) ; model=models[2]\n",
    "#        else:\n",
    "#            return None\n",
    "        while not models[mod_index].get(x) and mod_index >=0:\n",
    "            x=x[:-1]\n",
    "            if len(x)==1 : x=x[0]\n",
    "            mod_index -=1 ; model=models[mod_index] \n",
    "        return (model,x)    \n",
    "            \n",
    "\n",
    "    x = Keywords.split() \n",
    "    if len(x) ==0: \n",
    "        print()\n",
    "        return\n",
    "    x = [p.stem(el) for el in x]\n",
    "    \n",
    "    \n",
    "    model,x = test_and_back_step(x)\n",
    "    if not model.get(x):\n",
    "        return None\n",
    "    \n",
    "\n",
    "    print()\n",
    "    print('Based on last match: ',x,'\\n')\n",
    "    print('Suggestions, probabilities (in descending order) and relevant URLs: ')\n",
    "    proposals = sorted([(k,v) for (k,v) in model[x].items()],key=itemgetter(1),reverse=True)\n",
    "    last_match = x\n",
    "    for key, value in proposals:\n",
    "        print()\n",
    "        print(key,': ',value[0])\n",
    "        for url in value[1]:\n",
    "            print(url)\n",
    "   \n",
    "    \n",
    "def query_build1(value):\n",
    "  style = {'description_width': 'initial'}\n",
    "    \n",
    "  Keywords = widgets.Text(\n",
    "      value=value,\n",
    "      placeholder='Type something',\n",
    "      description='Keywords:',\n",
    "      disabled=False\n",
    "  )\n",
    "\n",
    "  ui = widgets.HBox([Keywords])\n",
    "  out = widgets.interactive_output(change_top_articles, {'Keywords': Keywords})\n",
    "  display(ui, out)\n",
    "    \n",
    "query_build1(value='household income')  "
   ]
  },
  {
   "cell_type": "code",
   "execution_count": null,
   "metadata": {
    "scrolled": true
   },
   "outputs": [],
   "source": []
  }
 ],
 "metadata": {
  "kernelspec": {
   "display_name": "Python 3 (ipykernel)",
   "language": "python",
   "name": "python3"
  },
  "language_info": {
   "codemirror_mode": {
    "name": "ipython",
    "version": 3
   },
   "file_extension": ".py",
   "mimetype": "text/x-python",
   "name": "python",
   "nbconvert_exporter": "python",
   "pygments_lexer": "ipython3",
   "version": "3.8.8"
  }
 },
 "nbformat": 4,
 "nbformat_minor": 4
}
