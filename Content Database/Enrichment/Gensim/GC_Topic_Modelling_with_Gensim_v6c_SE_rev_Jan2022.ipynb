{
  "cells": [
    {
      "cell_type": "markdown",
      "metadata": {
        "id": "Btd9dZD5cej6"
      },
      "source": [
        "# Topic modelling with Gensim : the LDA algorithm on the Statistics Explained articles\n",
        "\n",
        "### Revised (January 2022) to read all data from the database\n",
        "\n",
        "LDA is a generative statistical model that allows sets of observations to be explained by unobserved groups that explain why some parts of the data are similar.\n",
        "\n",
        "### Installation instructions\n",
        "\n",
        "*    This is a Google Colab notebook. You must have a Google account.\n",
        "\n",
        "*    Launch the notebook and put your own credentials in the pyodbc.connect() call in the chunk with title \"Connect to Virtuoso database\"\n",
        "\n",
        "\n",
        "\n",
        "### 1. Loading of the required libraries.\n",
        "***\n",
        "\n"
      ]
    },
    {
      "cell_type": "code",
      "source": [
        "!pip install pyodbc"
      ],
      "metadata": {
        "colab": {
          "base_uri": "https://localhost:8080/"
        },
        "id": "-FV2f2rWdQJ3",
        "outputId": "46951661-be30-4e42-d45a-58cd35d4c5c4"
      },
      "execution_count": 1,
      "outputs": [
        {
          "output_type": "stream",
          "name": "stdout",
          "text": [
            "Requirement already satisfied: pyodbc in /usr/local/lib/python3.7/dist-packages (4.0.32)\n"
          ]
        }
      ]
    },
    {
      "cell_type": "code",
      "source": [
        "!apt-get install virtuoso-opensource"
      ],
      "metadata": {
        "colab": {
          "base_uri": "https://localhost:8080/"
        },
        "id": "1YC0vB5adSrv",
        "outputId": "5567e87d-b5bb-4b42-914f-1365d05a0a27"
      },
      "execution_count": 2,
      "outputs": [
        {
          "output_type": "stream",
          "name": "stdout",
          "text": [
            "Reading package lists... Done\n",
            "Building dependency tree       \n",
            "Reading state information... Done\n",
            "virtuoso-opensource is already the newest version (6.1.6+repack-0ubuntu9).\n",
            "The following package was automatically installed and is no longer required:\n",
            "  libnvidia-common-470\n",
            "Use 'apt autoremove' to remove it.\n",
            "0 upgraded, 0 newly installed, 0 to remove and 39 not upgraded.\n"
          ]
        }
      ]
    },
    {
      "cell_type": "code",
      "source": [
        "!pip install pyLDAvis"
      ],
      "metadata": {
        "colab": {
          "base_uri": "https://localhost:8080/"
        },
        "id": "bMPpk86IdU8T",
        "outputId": "d51fedb9-268a-4d3d-c796-81d9751120a8"
      },
      "execution_count": 3,
      "outputs": [
        {
          "output_type": "stream",
          "name": "stdout",
          "text": [
            "Requirement already satisfied: pyLDAvis in /usr/local/lib/python3.7/dist-packages (3.3.1)\n",
            "Requirement already satisfied: scikit-learn in /usr/local/lib/python3.7/dist-packages (from pyLDAvis) (1.0.2)\n",
            "Requirement already satisfied: sklearn in /usr/local/lib/python3.7/dist-packages (from pyLDAvis) (0.0)\n",
            "Requirement already satisfied: pandas>=1.2.0 in /usr/local/lib/python3.7/dist-packages (from pyLDAvis) (1.3.5)\n",
            "Requirement already satisfied: joblib in /usr/local/lib/python3.7/dist-packages (from pyLDAvis) (1.1.0)\n",
            "Requirement already satisfied: scipy in /usr/local/lib/python3.7/dist-packages (from pyLDAvis) (1.4.1)\n",
            "Requirement already satisfied: numpy>=1.20.0 in /usr/local/lib/python3.7/dist-packages (from pyLDAvis) (1.21.5)\n",
            "Requirement already satisfied: numexpr in /usr/local/lib/python3.7/dist-packages (from pyLDAvis) (2.8.1)\n",
            "Requirement already satisfied: future in /usr/local/lib/python3.7/dist-packages (from pyLDAvis) (0.16.0)\n",
            "Requirement already satisfied: setuptools in /usr/local/lib/python3.7/dist-packages (from pyLDAvis) (57.4.0)\n",
            "Requirement already satisfied: gensim in /usr/local/lib/python3.7/dist-packages (from pyLDAvis) (3.6.0)\n",
            "Requirement already satisfied: jinja2 in /usr/local/lib/python3.7/dist-packages (from pyLDAvis) (2.11.3)\n",
            "Requirement already satisfied: funcy in /usr/local/lib/python3.7/dist-packages (from pyLDAvis) (1.17)\n",
            "Requirement already satisfied: python-dateutil>=2.7.3 in /usr/local/lib/python3.7/dist-packages (from pandas>=1.2.0->pyLDAvis) (2.8.2)\n",
            "Requirement already satisfied: pytz>=2017.3 in /usr/local/lib/python3.7/dist-packages (from pandas>=1.2.0->pyLDAvis) (2018.9)\n",
            "Requirement already satisfied: six>=1.5 in /usr/local/lib/python3.7/dist-packages (from python-dateutil>=2.7.3->pandas>=1.2.0->pyLDAvis) (1.15.0)\n",
            "Requirement already satisfied: smart-open>=1.2.1 in /usr/local/lib/python3.7/dist-packages (from gensim->pyLDAvis) (5.2.1)\n",
            "Requirement already satisfied: MarkupSafe>=0.23 in /usr/local/lib/python3.7/dist-packages (from jinja2->pyLDAvis) (2.0.1)\n",
            "Requirement already satisfied: packaging in /usr/local/lib/python3.7/dist-packages (from numexpr->pyLDAvis) (21.3)\n",
            "Requirement already satisfied: pyparsing!=3.0.5,>=2.0.2 in /usr/local/lib/python3.7/dist-packages (from packaging->numexpr->pyLDAvis) (3.0.7)\n",
            "Requirement already satisfied: threadpoolctl>=2.0.0 in /usr/local/lib/python3.7/dist-packages (from scikit-learn->pyLDAvis) (3.1.0)\n"
          ]
        }
      ]
    },
    {
      "cell_type": "code",
      "execution_count": 4,
      "metadata": {
        "id": "NZWOwxZ7cej8",
        "colab": {
          "base_uri": "https://localhost:8080/"
        },
        "outputId": "e18f2f9b-6f6d-4052-be64-4795ea2e8785"
      },
      "outputs": [
        {
          "output_type": "stream",
          "name": "stderr",
          "text": [
            "/usr/local/lib/python3.7/dist-packages/past/types/oldstr.py:5: DeprecationWarning: Using or importing the ABCs from 'collections' instead of from 'collections.abc' is deprecated since Python 3.3,and in 3.9 it will stop working\n",
            "  from collections import Iterable\n"
          ]
        }
      ],
      "source": [
        "import gensim\n",
        "import pandas as pd\n",
        "import numpy as np\n",
        "\n",
        "import re\n",
        "import pprint\n",
        "\n",
        "import pyLDAvis\n",
        "import pyLDAvis.gensim_models as gensimvis # don't skip this\n",
        "import matplotlib.pyplot as plt\n",
        "%matplotlib inline\n",
        "\n",
        "import logging\n",
        "logging.basicConfig(format='%(asctime)s : %(levelname)s : %(message)s', level=logging.ERROR)\n",
        "\n",
        "import warnings\n",
        "warnings.filterwarnings(\"ignore\",category=DeprecationWarning)\n",
        "\n",
        "from pprint import pprint\n",
        "\n",
        "import pyodbc\n"
      ]
    },
    {
      "cell_type": "markdown",
      "source": [
        "###Connect to Virtuoso database"
      ],
      "metadata": {
        "id": "EPL32IEPdcAn"
      }
    },
    {
      "cell_type": "code",
      "source": [
        "c = pyodbc.connect('DRIVER=/usr/lib/odbc/virtodbc.so;HOST=lod.csd.auth.gr:1111;UID=kimon;PWD=RkhvQYZ442e2JVXLHdtW;DATABASE=ESTAT')"
      ],
      "metadata": {
        "id": "yqOtjSzBdesu"
      },
      "execution_count": 5,
      "outputs": []
    },
    {
      "cell_type": "code",
      "source": [
        "#set encoding\n",
        "c.setdecoding(pyodbc.SQL_CHAR, encoding='latin-1')\n",
        "c.setencoding(encoding=\"latin-1\")"
      ],
      "metadata": {
        "id": "zqBWwOn2dhCe"
      },
      "execution_count": 6,
      "outputs": []
    },
    {
      "cell_type": "code",
      "source": [
        "cursor = c.cursor()"
      ],
      "metadata": {
        "id": "PL1Ltrhddjtq"
      },
      "execution_count": 7,
      "outputs": []
    },
    {
      "cell_type": "code",
      "source": [
        "def load_table(cursor,query):\n",
        "  cursor.execute(query)\n",
        "  t1 = cursor.fetchall()\n",
        "  df = pd.DataFrame.from_records(t1, columns=[x[0] for x in cursor.description])\n",
        "  return df"
      ],
      "metadata": {
        "id": "SvdVSGSKdmGl"
      },
      "execution_count": 8,
      "outputs": []
    },
    {
      "cell_type": "markdown",
      "metadata": {
        "id": "Chtve_M-cej9"
      },
      "source": [
        "### Step 2. Pre-processing\n",
        "***\n",
        "#### The data cleansing function"
      ]
    },
    {
      "cell_type": "code",
      "execution_count": 9,
      "metadata": {
        "id": "fRh27Jjacej-"
      },
      "outputs": [],
      "source": [
        "import re\n",
        "import unicodedata as ud\n",
        "\n",
        "def clean(x, quotes=True):\n",
        "    if pd.isnull(x): return x  \n",
        "    x = x.strip()\n",
        "    \n",
        "    ## make letter-question mark-letter -> letter-quote-space-letter !!! but NOT in the lists of URLs!!!\n",
        "    if quotes:\n",
        "        x = re.sub(r'([A-Za-z])\\?([A-Za-z])','\\\\1\\' \\\\2',x) ## NEW\n",
        "    \n",
        "    ## make letter-question mark-space lower case letter letter-quote-space letter\n",
        "    x = re.sub(r'([A-Za-z])\\? ([a-z])','\\\\1\\' \\\\2',x) ## NEW\n",
        "\n",
        "    ## delete ,000 commas in numbers    \n",
        "    x = re.sub(r'\\b(\\d+),(\\d+)\\b','\\\\1\\\\2',x) ## CORRECTED\n",
        "    \n",
        "    ## delete  000 spaces in numbers\n",
        "    x = re.sub(r'\\b(\\d+) (\\d+)\\b','\\\\1\\\\2',x) ## CORRECTED\n",
        "    \n",
        "    ## remove more than one spaces\n",
        "    x = re.sub(r' +', ' ',x)\n",
        "    \n",
        "    ## remove start and end spaces\n",
        "    x = re.sub(r'^ +| +$', '',x,flags=re.MULTILINE) \n",
        "    \n",
        "    ## space-comma -> comma\n",
        "    x = re.sub(r' \\,',',',x)\n",
        "    \n",
        "    ## space-dot -> dot\n",
        "    x = re.sub(r' \\.','.',x)\n",
        "    \n",
        "    #x = x.encode('latin1').decode('utf-8') ## â\\x80\\x99\n",
        "    x = ud.normalize('NFKD',x).encode('ascii', 'ignore').decode()\n",
        "    \n",
        "    return x"
      ]
    },
    {
      "cell_type": "markdown",
      "metadata": {
        "id": "UagdwW_8cej_"
      },
      "source": [
        "#### Import Statistics Explained data from the database\n",
        "***\n",
        "\n",
        "* IDs, titles from dat_link_info, with resource_information_id=1, i.e. Eurostat (see ESTAT.V1.mod_resource_information) and matching IDs from dat_article.\n",
        "* Carry out data cleansing on titles."
      ]
    },
    {
      "cell_type": "code",
      "execution_count": 10,
      "metadata": {
        "id": "iK1Cck6JcekA",
        "outputId": "6060c666-08c7-4b16-e21b-eccf3fe47e7e",
        "colab": {
          "base_uri": "https://localhost:8080/",
          "height": 206
        }
      },
      "outputs": [
        {
          "output_type": "execute_result",
          "data": {
            "text/html": [
              "\n",
              "  <div id=\"df-5cc920ce-7aa3-4af5-b2d8-d206549d0df6\">\n",
              "    <div class=\"colab-df-container\">\n",
              "      <div>\n",
              "<style scoped>\n",
              "    .dataframe tbody tr th:only-of-type {\n",
              "        vertical-align: middle;\n",
              "    }\n",
              "\n",
              "    .dataframe tbody tr th {\n",
              "        vertical-align: top;\n",
              "    }\n",
              "\n",
              "    .dataframe thead th {\n",
              "        text-align: right;\n",
              "    }\n",
              "</style>\n",
              "<table border=\"1\" class=\"dataframe\">\n",
              "  <thead>\n",
              "    <tr style=\"text-align: right;\">\n",
              "      <th></th>\n",
              "      <th>id</th>\n",
              "      <th>title</th>\n",
              "    </tr>\n",
              "  </thead>\n",
              "  <tbody>\n",
              "    <tr>\n",
              "      <th>0</th>\n",
              "      <td>7</td>\n",
              "      <td>Accidents at work statistics</td>\n",
              "    </tr>\n",
              "    <tr>\n",
              "      <th>1</th>\n",
              "      <td>13</td>\n",
              "      <td>National accounts and GDP</td>\n",
              "    </tr>\n",
              "    <tr>\n",
              "      <th>2</th>\n",
              "      <td>16</td>\n",
              "      <td>Railway safety statistics in the EU</td>\n",
              "    </tr>\n",
              "    <tr>\n",
              "      <th>3</th>\n",
              "      <td>17</td>\n",
              "      <td>Railway freight transport statistics</td>\n",
              "    </tr>\n",
              "    <tr>\n",
              "      <th>4</th>\n",
              "      <td>18</td>\n",
              "      <td>Railway passenger transport statistics - quart...</td>\n",
              "    </tr>\n",
              "  </tbody>\n",
              "</table>\n",
              "</div>\n",
              "      <button class=\"colab-df-convert\" onclick=\"convertToInteractive('df-5cc920ce-7aa3-4af5-b2d8-d206549d0df6')\"\n",
              "              title=\"Convert this dataframe to an interactive table.\"\n",
              "              style=\"display:none;\">\n",
              "        \n",
              "  <svg xmlns=\"http://www.w3.org/2000/svg\" height=\"24px\"viewBox=\"0 0 24 24\"\n",
              "       width=\"24px\">\n",
              "    <path d=\"M0 0h24v24H0V0z\" fill=\"none\"/>\n",
              "    <path d=\"M18.56 5.44l.94 2.06.94-2.06 2.06-.94-2.06-.94-.94-2.06-.94 2.06-2.06.94zm-11 1L8.5 8.5l.94-2.06 2.06-.94-2.06-.94L8.5 2.5l-.94 2.06-2.06.94zm10 10l.94 2.06.94-2.06 2.06-.94-2.06-.94-.94-2.06-.94 2.06-2.06.94z\"/><path d=\"M17.41 7.96l-1.37-1.37c-.4-.4-.92-.59-1.43-.59-.52 0-1.04.2-1.43.59L10.3 9.45l-7.72 7.72c-.78.78-.78 2.05 0 2.83L4 21.41c.39.39.9.59 1.41.59.51 0 1.02-.2 1.41-.59l7.78-7.78 2.81-2.81c.8-.78.8-2.07 0-2.86zM5.41 20L4 18.59l7.72-7.72 1.47 1.35L5.41 20z\"/>\n",
              "  </svg>\n",
              "      </button>\n",
              "      \n",
              "  <style>\n",
              "    .colab-df-container {\n",
              "      display:flex;\n",
              "      flex-wrap:wrap;\n",
              "      gap: 12px;\n",
              "    }\n",
              "\n",
              "    .colab-df-convert {\n",
              "      background-color: #E8F0FE;\n",
              "      border: none;\n",
              "      border-radius: 50%;\n",
              "      cursor: pointer;\n",
              "      display: none;\n",
              "      fill: #1967D2;\n",
              "      height: 32px;\n",
              "      padding: 0 0 0 0;\n",
              "      width: 32px;\n",
              "    }\n",
              "\n",
              "    .colab-df-convert:hover {\n",
              "      background-color: #E2EBFA;\n",
              "      box-shadow: 0px 1px 2px rgba(60, 64, 67, 0.3), 0px 1px 3px 1px rgba(60, 64, 67, 0.15);\n",
              "      fill: #174EA6;\n",
              "    }\n",
              "\n",
              "    [theme=dark] .colab-df-convert {\n",
              "      background-color: #3B4455;\n",
              "      fill: #D2E3FC;\n",
              "    }\n",
              "\n",
              "    [theme=dark] .colab-df-convert:hover {\n",
              "      background-color: #434B5C;\n",
              "      box-shadow: 0px 1px 3px 1px rgba(0, 0, 0, 0.15);\n",
              "      filter: drop-shadow(0px 1px 2px rgba(0, 0, 0, 0.3));\n",
              "      fill: #FFFFFF;\n",
              "    }\n",
              "  </style>\n",
              "\n",
              "      <script>\n",
              "        const buttonEl =\n",
              "          document.querySelector('#df-5cc920ce-7aa3-4af5-b2d8-d206549d0df6 button.colab-df-convert');\n",
              "        buttonEl.style.display =\n",
              "          google.colab.kernel.accessAllowed ? 'block' : 'none';\n",
              "\n",
              "        async function convertToInteractive(key) {\n",
              "          const element = document.querySelector('#df-5cc920ce-7aa3-4af5-b2d8-d206549d0df6');\n",
              "          const dataTable =\n",
              "            await google.colab.kernel.invokeFunction('convertToInteractive',\n",
              "                                                     [key], {});\n",
              "          if (!dataTable) return;\n",
              "\n",
              "          const docLinkHtml = 'Like what you see? Visit the ' +\n",
              "            '<a target=\"_blank\" href=https://colab.research.google.com/notebooks/data_table.ipynb>data table notebook</a>'\n",
              "            + ' to learn more about interactive tables.';\n",
              "          element.innerHTML = '';\n",
              "          dataTable['output_type'] = 'display_data';\n",
              "          await google.colab.output.renderOutput(dataTable, element);\n",
              "          const docLink = document.createElement('div');\n",
              "          docLink.innerHTML = docLinkHtml;\n",
              "          element.appendChild(docLink);\n",
              "        }\n",
              "      </script>\n",
              "    </div>\n",
              "  </div>\n",
              "  "
            ],
            "text/plain": [
              "   id                                              title\n",
              "0   7                       Accidents at work statistics\n",
              "1  13                          National accounts and GDP\n",
              "2  16                Railway safety statistics in the EU\n",
              "3  17               Railway freight transport statistics\n",
              "4  18  Railway passenger transport statistics - quart..."
            ]
          },
          "metadata": {},
          "execution_count": 10
        }
      ],
      "source": [
        "query =      \"\"\"SELECT id, title \n",
        "                FROM ESTAT.V1.dat_link_info \n",
        "                WHERE resource_information_id=1 AND id IN (SELECT id FROM ESTAT.V1.dat_article) \"\"\"\n",
        "\n",
        "SE_df = load_table(cursor, query)\n",
        "\n",
        "SE_df['title'] = SE_df['title'].apply(clean)\n",
        "SE_df.head(5)\n"
      ]
    },
    {
      "cell_type": "markdown",
      "metadata": {
        "id": "9bCC-0GgcekB"
      },
      "source": [
        "#### Add paragraphs titles and contents\n",
        "\n",
        "* From dat_article_paragraph with abstract=0 (i.e. \"no\").\n",
        "* Match article_id from dat_article_paragraph with id from dat_article.\n",
        "* Carry out data cleansing on titles and paragraph contents."
      ]
    },
    {
      "cell_type": "code",
      "execution_count": 11,
      "metadata": {
        "id": "ZFpccDqZcekC",
        "outputId": "4c876ef4-cd75-479a-ba81-7b1d1f355b91",
        "colab": {
          "base_uri": "https://localhost:8080/",
          "height": 424
        }
      },
      "outputs": [
        {
          "output_type": "execute_result",
          "data": {
            "text/html": [
              "\n",
              "  <div id=\"df-b3f3340e-caf7-4255-bff1-74aa8a2c7fca\">\n",
              "    <div class=\"colab-df-container\">\n",
              "      <div>\n",
              "<style scoped>\n",
              "    .dataframe tbody tr th:only-of-type {\n",
              "        vertical-align: middle;\n",
              "    }\n",
              "\n",
              "    .dataframe tbody tr th {\n",
              "        vertical-align: top;\n",
              "    }\n",
              "\n",
              "    .dataframe thead th {\n",
              "        text-align: right;\n",
              "    }\n",
              "</style>\n",
              "<table border=\"1\" class=\"dataframe\">\n",
              "  <thead>\n",
              "    <tr style=\"text-align: right;\">\n",
              "      <th></th>\n",
              "      <th>article_id</th>\n",
              "      <th>title</th>\n",
              "      <th>content</th>\n",
              "    </tr>\n",
              "  </thead>\n",
              "  <tbody>\n",
              "    <tr>\n",
              "      <th>0</th>\n",
              "      <td>2905</td>\n",
              "      <td>Absences from work sharply increase in first h...</td>\n",
              "      <td>Absences from work recorded unprecedented high...</td>\n",
              "    </tr>\n",
              "    <tr>\n",
              "      <th>1</th>\n",
              "      <td>2905</td>\n",
              "      <td>Absences: 9.5 % of employment in Q4 2019 and 1...</td>\n",
              "      <td>The article's next figure (Figure 4) compares ...</td>\n",
              "    </tr>\n",
              "    <tr>\n",
              "      <th>2</th>\n",
              "      <td>2905</td>\n",
              "      <td>Higher share of absences from work among women...</td>\n",
              "      <td>Considering all four quarters of 2020, the sha...</td>\n",
              "    </tr>\n",
              "    <tr>\n",
              "      <th>3</th>\n",
              "      <td>2905</td>\n",
              "      <td>Absences from work due to own illness or disab...</td>\n",
              "      <td>From Q4 2019 to Q4 2020, the number of people ...</td>\n",
              "    </tr>\n",
              "    <tr>\n",
              "      <th>4</th>\n",
              "      <td>2905</td>\n",
              "      <td>Absences from work due to holidays</td>\n",
              "      <td>Expressed as a share of employed people, absen...</td>\n",
              "    </tr>\n",
              "    <tr>\n",
              "      <th>...</th>\n",
              "      <td>...</td>\n",
              "      <td>...</td>\n",
              "      <td>...</td>\n",
              "    </tr>\n",
              "    <tr>\n",
              "      <th>3854</th>\n",
              "      <td>10539</td>\n",
              "      <td>General presentation and definition</td>\n",
              "      <td>Scope of asylum statistics and Dublin statisti...</td>\n",
              "    </tr>\n",
              "    <tr>\n",
              "      <th>3855</th>\n",
              "      <td>10539</td>\n",
              "      <td>Methodological aspects in asylum statistics</td>\n",
              "      <td>Annual aggregate of the number of asylum appli...</td>\n",
              "    </tr>\n",
              "    <tr>\n",
              "      <th>3856</th>\n",
              "      <td>10539</td>\n",
              "      <td>Methodological aspects in Dublin statistics</td>\n",
              "      <td>Asymmetries For most of the collected Dublin s...</td>\n",
              "    </tr>\n",
              "    <tr>\n",
              "      <th>3857</th>\n",
              "      <td>10539</td>\n",
              "      <td>What questions can or cannot be answered with ...</td>\n",
              "      <td>How many asylum seekers are entering EU Member...</td>\n",
              "    </tr>\n",
              "    <tr>\n",
              "      <th>3858</th>\n",
              "      <td>10539</td>\n",
              "      <td>Policy context</td>\n",
              "      <td>The collected asylum statistics and Dublin sta...</td>\n",
              "    </tr>\n",
              "  </tbody>\n",
              "</table>\n",
              "<p>3859 rows × 3 columns</p>\n",
              "</div>\n",
              "      <button class=\"colab-df-convert\" onclick=\"convertToInteractive('df-b3f3340e-caf7-4255-bff1-74aa8a2c7fca')\"\n",
              "              title=\"Convert this dataframe to an interactive table.\"\n",
              "              style=\"display:none;\">\n",
              "        \n",
              "  <svg xmlns=\"http://www.w3.org/2000/svg\" height=\"24px\"viewBox=\"0 0 24 24\"\n",
              "       width=\"24px\">\n",
              "    <path d=\"M0 0h24v24H0V0z\" fill=\"none\"/>\n",
              "    <path d=\"M18.56 5.44l.94 2.06.94-2.06 2.06-.94-2.06-.94-.94-2.06-.94 2.06-2.06.94zm-11 1L8.5 8.5l.94-2.06 2.06-.94-2.06-.94L8.5 2.5l-.94 2.06-2.06.94zm10 10l.94 2.06.94-2.06 2.06-.94-2.06-.94-.94-2.06-.94 2.06-2.06.94z\"/><path d=\"M17.41 7.96l-1.37-1.37c-.4-.4-.92-.59-1.43-.59-.52 0-1.04.2-1.43.59L10.3 9.45l-7.72 7.72c-.78.78-.78 2.05 0 2.83L4 21.41c.39.39.9.59 1.41.59.51 0 1.02-.2 1.41-.59l7.78-7.78 2.81-2.81c.8-.78.8-2.07 0-2.86zM5.41 20L4 18.59l7.72-7.72 1.47 1.35L5.41 20z\"/>\n",
              "  </svg>\n",
              "      </button>\n",
              "      \n",
              "  <style>\n",
              "    .colab-df-container {\n",
              "      display:flex;\n",
              "      flex-wrap:wrap;\n",
              "      gap: 12px;\n",
              "    }\n",
              "\n",
              "    .colab-df-convert {\n",
              "      background-color: #E8F0FE;\n",
              "      border: none;\n",
              "      border-radius: 50%;\n",
              "      cursor: pointer;\n",
              "      display: none;\n",
              "      fill: #1967D2;\n",
              "      height: 32px;\n",
              "      padding: 0 0 0 0;\n",
              "      width: 32px;\n",
              "    }\n",
              "\n",
              "    .colab-df-convert:hover {\n",
              "      background-color: #E2EBFA;\n",
              "      box-shadow: 0px 1px 2px rgba(60, 64, 67, 0.3), 0px 1px 3px 1px rgba(60, 64, 67, 0.15);\n",
              "      fill: #174EA6;\n",
              "    }\n",
              "\n",
              "    [theme=dark] .colab-df-convert {\n",
              "      background-color: #3B4455;\n",
              "      fill: #D2E3FC;\n",
              "    }\n",
              "\n",
              "    [theme=dark] .colab-df-convert:hover {\n",
              "      background-color: #434B5C;\n",
              "      box-shadow: 0px 1px 3px 1px rgba(0, 0, 0, 0.15);\n",
              "      filter: drop-shadow(0px 1px 2px rgba(0, 0, 0, 0.3));\n",
              "      fill: #FFFFFF;\n",
              "    }\n",
              "  </style>\n",
              "\n",
              "      <script>\n",
              "        const buttonEl =\n",
              "          document.querySelector('#df-b3f3340e-caf7-4255-bff1-74aa8a2c7fca button.colab-df-convert');\n",
              "        buttonEl.style.display =\n",
              "          google.colab.kernel.accessAllowed ? 'block' : 'none';\n",
              "\n",
              "        async function convertToInteractive(key) {\n",
              "          const element = document.querySelector('#df-b3f3340e-caf7-4255-bff1-74aa8a2c7fca');\n",
              "          const dataTable =\n",
              "            await google.colab.kernel.invokeFunction('convertToInteractive',\n",
              "                                                     [key], {});\n",
              "          if (!dataTable) return;\n",
              "\n",
              "          const docLinkHtml = 'Like what you see? Visit the ' +\n",
              "            '<a target=\"_blank\" href=https://colab.research.google.com/notebooks/data_table.ipynb>data table notebook</a>'\n",
              "            + ' to learn more about interactive tables.';\n",
              "          element.innerHTML = '';\n",
              "          dataTable['output_type'] = 'display_data';\n",
              "          await google.colab.output.renderOutput(dataTable, element);\n",
              "          const docLink = document.createElement('div');\n",
              "          docLink.innerHTML = docLinkHtml;\n",
              "          element.appendChild(docLink);\n",
              "        }\n",
              "      </script>\n",
              "    </div>\n",
              "  </div>\n",
              "  "
            ],
            "text/plain": [
              "      article_id  ...                                            content\n",
              "0           2905  ...  Absences from work recorded unprecedented high...\n",
              "1           2905  ...  The article's next figure (Figure 4) compares ...\n",
              "2           2905  ...  Considering all four quarters of 2020, the sha...\n",
              "3           2905  ...  From Q4 2019 to Q4 2020, the number of people ...\n",
              "4           2905  ...  Expressed as a share of employed people, absen...\n",
              "...          ...  ...                                                ...\n",
              "3854       10539  ...  Scope of asylum statistics and Dublin statisti...\n",
              "3855       10539  ...  Annual aggregate of the number of asylum appli...\n",
              "3856       10539  ...  Asymmetries For most of the collected Dublin s...\n",
              "3857       10539  ...  How many asylum seekers are entering EU Member...\n",
              "3858       10539  ...  The collected asylum statistics and Dublin sta...\n",
              "\n",
              "[3859 rows x 3 columns]"
            ]
          },
          "metadata": {},
          "execution_count": 11
        }
      ],
      "source": [
        "query =      \"\"\"SELECT article_id, title, content \n",
        "                FROM ESTAT.V1.dat_article_paragraph\n",
        "                WHERE abstract=0 AND article_id IN (SELECT id FROM ESTAT.V1.dat_article) \"\"\"\n",
        "\n",
        "add_content = load_table(cursor, query)\n",
        "\n",
        "add_content['title'] = add_content['title'].apply(clean)\n",
        "add_content['content'] = add_content['content'].apply(clean)\n",
        "add_content"
      ]
    },
    {
      "cell_type": "markdown",
      "metadata": {
        "id": "A4IDVntacekD"
      },
      "source": [
        "#### Aggregate above paragraph titles and contents  from SE articles paragraphs by article id\n",
        "\n",
        "* Create a column _raw content_ which gathers all paragraph titles and contents in one text per article."
      ]
    },
    {
      "cell_type": "code",
      "execution_count": 12,
      "metadata": {
        "id": "WtyvFRrscekD",
        "outputId": "edc36310-0fa9-4682-af1e-76fdde855dba",
        "colab": {
          "base_uri": "https://localhost:8080/",
          "height": 424
        }
      },
      "outputs": [
        {
          "output_type": "execute_result",
          "data": {
            "text/html": [
              "\n",
              "  <div id=\"df-a334ce10-3ebf-4914-a6e4-5567aea017ac\">\n",
              "    <div class=\"colab-df-container\">\n",
              "      <div>\n",
              "<style scoped>\n",
              "    .dataframe tbody tr th:only-of-type {\n",
              "        vertical-align: middle;\n",
              "    }\n",
              "\n",
              "    .dataframe tbody tr th {\n",
              "        vertical-align: top;\n",
              "    }\n",
              "\n",
              "    .dataframe thead th {\n",
              "        text-align: right;\n",
              "    }\n",
              "</style>\n",
              "<table border=\"1\" class=\"dataframe\">\n",
              "  <thead>\n",
              "    <tr style=\"text-align: right;\">\n",
              "      <th></th>\n",
              "      <th>article_id</th>\n",
              "      <th>raw content</th>\n",
              "    </tr>\n",
              "  </thead>\n",
              "  <tbody>\n",
              "    <tr>\n",
              "      <th>0</th>\n",
              "      <td>7</td>\n",
              "      <td>Number of accidents. In 2018, there were 3.1 m...</td>\n",
              "    </tr>\n",
              "    <tr>\n",
              "      <th>1</th>\n",
              "      <td>13</td>\n",
              "      <td>Developments for GDP in the EU-27: growth sinc...</td>\n",
              "    </tr>\n",
              "    <tr>\n",
              "      <th>2</th>\n",
              "      <td>16</td>\n",
              "      <td>Fall in the number of railway accidents. 9 % f...</td>\n",
              "    </tr>\n",
              "    <tr>\n",
              "      <th>3</th>\n",
              "      <td>17</td>\n",
              "      <td>Downturn for EU transport performance in 2019....</td>\n",
              "    </tr>\n",
              "    <tr>\n",
              "      <th>4</th>\n",
              "      <td>18</td>\n",
              "      <td>Rail passenger transport performance continued...</td>\n",
              "    </tr>\n",
              "    <tr>\n",
              "      <th>...</th>\n",
              "      <td>...</td>\n",
              "      <td>...</td>\n",
              "    </tr>\n",
              "    <tr>\n",
              "      <th>860</th>\n",
              "      <td>10456</td>\n",
              "      <td>Problem. After successfully identifying and jo...</td>\n",
              "    </tr>\n",
              "    <tr>\n",
              "      <th>861</th>\n",
              "      <td>10470</td>\n",
              "      <td>Problem. In France, there was significant room...</td>\n",
              "    </tr>\n",
              "    <tr>\n",
              "      <th>862</th>\n",
              "      <td>10506</td>\n",
              "      <td>General overview. Nine PEEIs concern short-ter...</td>\n",
              "    </tr>\n",
              "    <tr>\n",
              "      <th>863</th>\n",
              "      <td>10531</td>\n",
              "      <td>What are administrative sources?. The term aad...</td>\n",
              "    </tr>\n",
              "    <tr>\n",
              "      <th>864</th>\n",
              "      <td>10539</td>\n",
              "      <td>Main points. Asylum statistics and aDublina st...</td>\n",
              "    </tr>\n",
              "  </tbody>\n",
              "</table>\n",
              "<p>865 rows × 2 columns</p>\n",
              "</div>\n",
              "      <button class=\"colab-df-convert\" onclick=\"convertToInteractive('df-a334ce10-3ebf-4914-a6e4-5567aea017ac')\"\n",
              "              title=\"Convert this dataframe to an interactive table.\"\n",
              "              style=\"display:none;\">\n",
              "        \n",
              "  <svg xmlns=\"http://www.w3.org/2000/svg\" height=\"24px\"viewBox=\"0 0 24 24\"\n",
              "       width=\"24px\">\n",
              "    <path d=\"M0 0h24v24H0V0z\" fill=\"none\"/>\n",
              "    <path d=\"M18.56 5.44l.94 2.06.94-2.06 2.06-.94-2.06-.94-.94-2.06-.94 2.06-2.06.94zm-11 1L8.5 8.5l.94-2.06 2.06-.94-2.06-.94L8.5 2.5l-.94 2.06-2.06.94zm10 10l.94 2.06.94-2.06 2.06-.94-2.06-.94-.94-2.06-.94 2.06-2.06.94z\"/><path d=\"M17.41 7.96l-1.37-1.37c-.4-.4-.92-.59-1.43-.59-.52 0-1.04.2-1.43.59L10.3 9.45l-7.72 7.72c-.78.78-.78 2.05 0 2.83L4 21.41c.39.39.9.59 1.41.59.51 0 1.02-.2 1.41-.59l7.78-7.78 2.81-2.81c.8-.78.8-2.07 0-2.86zM5.41 20L4 18.59l7.72-7.72 1.47 1.35L5.41 20z\"/>\n",
              "  </svg>\n",
              "      </button>\n",
              "      \n",
              "  <style>\n",
              "    .colab-df-container {\n",
              "      display:flex;\n",
              "      flex-wrap:wrap;\n",
              "      gap: 12px;\n",
              "    }\n",
              "\n",
              "    .colab-df-convert {\n",
              "      background-color: #E8F0FE;\n",
              "      border: none;\n",
              "      border-radius: 50%;\n",
              "      cursor: pointer;\n",
              "      display: none;\n",
              "      fill: #1967D2;\n",
              "      height: 32px;\n",
              "      padding: 0 0 0 0;\n",
              "      width: 32px;\n",
              "    }\n",
              "\n",
              "    .colab-df-convert:hover {\n",
              "      background-color: #E2EBFA;\n",
              "      box-shadow: 0px 1px 2px rgba(60, 64, 67, 0.3), 0px 1px 3px 1px rgba(60, 64, 67, 0.15);\n",
              "      fill: #174EA6;\n",
              "    }\n",
              "\n",
              "    [theme=dark] .colab-df-convert {\n",
              "      background-color: #3B4455;\n",
              "      fill: #D2E3FC;\n",
              "    }\n",
              "\n",
              "    [theme=dark] .colab-df-convert:hover {\n",
              "      background-color: #434B5C;\n",
              "      box-shadow: 0px 1px 3px 1px rgba(0, 0, 0, 0.15);\n",
              "      filter: drop-shadow(0px 1px 2px rgba(0, 0, 0, 0.3));\n",
              "      fill: #FFFFFF;\n",
              "    }\n",
              "  </style>\n",
              "\n",
              "      <script>\n",
              "        const buttonEl =\n",
              "          document.querySelector('#df-a334ce10-3ebf-4914-a6e4-5567aea017ac button.colab-df-convert');\n",
              "        buttonEl.style.display =\n",
              "          google.colab.kernel.accessAllowed ? 'block' : 'none';\n",
              "\n",
              "        async function convertToInteractive(key) {\n",
              "          const element = document.querySelector('#df-a334ce10-3ebf-4914-a6e4-5567aea017ac');\n",
              "          const dataTable =\n",
              "            await google.colab.kernel.invokeFunction('convertToInteractive',\n",
              "                                                     [key], {});\n",
              "          if (!dataTable) return;\n",
              "\n",
              "          const docLinkHtml = 'Like what you see? Visit the ' +\n",
              "            '<a target=\"_blank\" href=https://colab.research.google.com/notebooks/data_table.ipynb>data table notebook</a>'\n",
              "            + ' to learn more about interactive tables.';\n",
              "          element.innerHTML = '';\n",
              "          dataTable['output_type'] = 'display_data';\n",
              "          await google.colab.output.renderOutput(dataTable, element);\n",
              "          const docLink = document.createElement('div');\n",
              "          docLink.innerHTML = docLinkHtml;\n",
              "          element.appendChild(docLink);\n",
              "        }\n",
              "      </script>\n",
              "    </div>\n",
              "  </div>\n",
              "  "
            ],
            "text/plain": [
              "     article_id                                        raw content\n",
              "0             7  Number of accidents. In 2018, there were 3.1 m...\n",
              "1            13  Developments for GDP in the EU-27: growth sinc...\n",
              "2            16  Fall in the number of railway accidents. 9 % f...\n",
              "3            17  Downturn for EU transport performance in 2019....\n",
              "4            18  Rail passenger transport performance continued...\n",
              "..          ...                                                ...\n",
              "860       10456  Problem. After successfully identifying and jo...\n",
              "861       10470  Problem. In France, there was significant room...\n",
              "862       10506  General overview. Nine PEEIs concern short-ter...\n",
              "863       10531  What are administrative sources?. The term aad...\n",
              "864       10539  Main points. Asylum statistics and aDublina st...\n",
              "\n",
              "[865 rows x 2 columns]"
            ]
          },
          "metadata": {},
          "execution_count": 12
        }
      ],
      "source": [
        "add_content_grouped = add_content.groupby(['article_id'])[['title','content']].aggregate(lambda x: list(x))\n",
        "add_content_grouped.reset_index(drop=False, inplace=True)\n",
        "for i in range(len(add_content_grouped)):\n",
        "    add_content_grouped.loc[i,'raw content'] = ''\n",
        "    for (a,b) in zip(add_content_grouped.loc[i,'title'],add_content_grouped.loc[i,'content']):\n",
        "        add_content_grouped.loc[i,'raw content'] += a + '. ' + b\n",
        "add_content_grouped = add_content_grouped[['article_id','raw content']]    \n",
        "\n",
        "add_content_grouped"
      ]
    },
    {
      "cell_type": "markdown",
      "metadata": {
        "id": "Tzr3HflScekE"
      },
      "source": [
        "#### Merge raw content of SE articles with main file\n",
        "\n",
        "* Add the title to column \"raw content\"."
      ]
    },
    {
      "cell_type": "code",
      "execution_count": 13,
      "metadata": {
        "id": "cwqYYLtQcekE",
        "outputId": "b9aef204-a26a-4a25-e33d-13a3d851a03d",
        "colab": {
          "base_uri": "https://localhost:8080/",
          "height": 206
        }
      },
      "outputs": [
        {
          "output_type": "execute_result",
          "data": {
            "text/html": [
              "\n",
              "  <div id=\"df-0702e3f4-5d8b-4d7a-b0bd-24bfd1a7be6d\">\n",
              "    <div class=\"colab-df-container\">\n",
              "      <div>\n",
              "<style scoped>\n",
              "    .dataframe tbody tr th:only-of-type {\n",
              "        vertical-align: middle;\n",
              "    }\n",
              "\n",
              "    .dataframe tbody tr th {\n",
              "        vertical-align: top;\n",
              "    }\n",
              "\n",
              "    .dataframe thead th {\n",
              "        text-align: right;\n",
              "    }\n",
              "</style>\n",
              "<table border=\"1\" class=\"dataframe\">\n",
              "  <thead>\n",
              "    <tr style=\"text-align: right;\">\n",
              "      <th></th>\n",
              "      <th>id</th>\n",
              "      <th>title</th>\n",
              "      <th>raw content</th>\n",
              "    </tr>\n",
              "  </thead>\n",
              "  <tbody>\n",
              "    <tr>\n",
              "      <th>0</th>\n",
              "      <td>7</td>\n",
              "      <td>Accidents at work statistics</td>\n",
              "      <td>Accidents at work statistics. Number of accide...</td>\n",
              "    </tr>\n",
              "    <tr>\n",
              "      <th>1</th>\n",
              "      <td>13</td>\n",
              "      <td>National accounts and GDP</td>\n",
              "      <td>National accounts and GDP. Developments for GD...</td>\n",
              "    </tr>\n",
              "    <tr>\n",
              "      <th>2</th>\n",
              "      <td>16</td>\n",
              "      <td>Railway safety statistics in the EU</td>\n",
              "      <td>Railway safety statistics in the EU. Fall in t...</td>\n",
              "    </tr>\n",
              "    <tr>\n",
              "      <th>3</th>\n",
              "      <td>17</td>\n",
              "      <td>Railway freight transport statistics</td>\n",
              "      <td>Railway freight transport statistics. Downturn...</td>\n",
              "    </tr>\n",
              "    <tr>\n",
              "      <th>4</th>\n",
              "      <td>18</td>\n",
              "      <td>Railway passenger transport statistics - quart...</td>\n",
              "      <td>Railway passenger transport statistics - quart...</td>\n",
              "    </tr>\n",
              "  </tbody>\n",
              "</table>\n",
              "</div>\n",
              "      <button class=\"colab-df-convert\" onclick=\"convertToInteractive('df-0702e3f4-5d8b-4d7a-b0bd-24bfd1a7be6d')\"\n",
              "              title=\"Convert this dataframe to an interactive table.\"\n",
              "              style=\"display:none;\">\n",
              "        \n",
              "  <svg xmlns=\"http://www.w3.org/2000/svg\" height=\"24px\"viewBox=\"0 0 24 24\"\n",
              "       width=\"24px\">\n",
              "    <path d=\"M0 0h24v24H0V0z\" fill=\"none\"/>\n",
              "    <path d=\"M18.56 5.44l.94 2.06.94-2.06 2.06-.94-2.06-.94-.94-2.06-.94 2.06-2.06.94zm-11 1L8.5 8.5l.94-2.06 2.06-.94-2.06-.94L8.5 2.5l-.94 2.06-2.06.94zm10 10l.94 2.06.94-2.06 2.06-.94-2.06-.94-.94-2.06-.94 2.06-2.06.94z\"/><path d=\"M17.41 7.96l-1.37-1.37c-.4-.4-.92-.59-1.43-.59-.52 0-1.04.2-1.43.59L10.3 9.45l-7.72 7.72c-.78.78-.78 2.05 0 2.83L4 21.41c.39.39.9.59 1.41.59.51 0 1.02-.2 1.41-.59l7.78-7.78 2.81-2.81c.8-.78.8-2.07 0-2.86zM5.41 20L4 18.59l7.72-7.72 1.47 1.35L5.41 20z\"/>\n",
              "  </svg>\n",
              "      </button>\n",
              "      \n",
              "  <style>\n",
              "    .colab-df-container {\n",
              "      display:flex;\n",
              "      flex-wrap:wrap;\n",
              "      gap: 12px;\n",
              "    }\n",
              "\n",
              "    .colab-df-convert {\n",
              "      background-color: #E8F0FE;\n",
              "      border: none;\n",
              "      border-radius: 50%;\n",
              "      cursor: pointer;\n",
              "      display: none;\n",
              "      fill: #1967D2;\n",
              "      height: 32px;\n",
              "      padding: 0 0 0 0;\n",
              "      width: 32px;\n",
              "    }\n",
              "\n",
              "    .colab-df-convert:hover {\n",
              "      background-color: #E2EBFA;\n",
              "      box-shadow: 0px 1px 2px rgba(60, 64, 67, 0.3), 0px 1px 3px 1px rgba(60, 64, 67, 0.15);\n",
              "      fill: #174EA6;\n",
              "    }\n",
              "\n",
              "    [theme=dark] .colab-df-convert {\n",
              "      background-color: #3B4455;\n",
              "      fill: #D2E3FC;\n",
              "    }\n",
              "\n",
              "    [theme=dark] .colab-df-convert:hover {\n",
              "      background-color: #434B5C;\n",
              "      box-shadow: 0px 1px 3px 1px rgba(0, 0, 0, 0.15);\n",
              "      filter: drop-shadow(0px 1px 2px rgba(0, 0, 0, 0.3));\n",
              "      fill: #FFFFFF;\n",
              "    }\n",
              "  </style>\n",
              "\n",
              "      <script>\n",
              "        const buttonEl =\n",
              "          document.querySelector('#df-0702e3f4-5d8b-4d7a-b0bd-24bfd1a7be6d button.colab-df-convert');\n",
              "        buttonEl.style.display =\n",
              "          google.colab.kernel.accessAllowed ? 'block' : 'none';\n",
              "\n",
              "        async function convertToInteractive(key) {\n",
              "          const element = document.querySelector('#df-0702e3f4-5d8b-4d7a-b0bd-24bfd1a7be6d');\n",
              "          const dataTable =\n",
              "            await google.colab.kernel.invokeFunction('convertToInteractive',\n",
              "                                                     [key], {});\n",
              "          if (!dataTable) return;\n",
              "\n",
              "          const docLinkHtml = 'Like what you see? Visit the ' +\n",
              "            '<a target=\"_blank\" href=https://colab.research.google.com/notebooks/data_table.ipynb>data table notebook</a>'\n",
              "            + ' to learn more about interactive tables.';\n",
              "          element.innerHTML = '';\n",
              "          dataTable['output_type'] = 'display_data';\n",
              "          await google.colab.output.renderOutput(dataTable, element);\n",
              "          const docLink = document.createElement('div');\n",
              "          docLink.innerHTML = docLinkHtml;\n",
              "          element.appendChild(docLink);\n",
              "        }\n",
              "      </script>\n",
              "    </div>\n",
              "  </div>\n",
              "  "
            ],
            "text/plain": [
              "   id  ...                                        raw content\n",
              "0   7  ...  Accidents at work statistics. Number of accide...\n",
              "1  13  ...  National accounts and GDP. Developments for GD...\n",
              "2  16  ...  Railway safety statistics in the EU. Fall in t...\n",
              "3  17  ...  Railway freight transport statistics. Downturn...\n",
              "4  18  ...  Railway passenger transport statistics - quart...\n",
              "\n",
              "[5 rows x 3 columns]"
            ]
          },
          "metadata": {},
          "execution_count": 13
        }
      ],
      "source": [
        "SE_df = pd.merge(SE_df,add_content_grouped,left_on='id',right_on='article_id',how='inner')\n",
        "SE_df.drop(['article_id'],axis=1,inplace=True)\n",
        "\n",
        "SE_df['raw content'] = SE_df['title'] +'. ' + SE_df['raw content']\n",
        "#SE_df['source'] = 'SE'\n",
        "\n",
        "SE_df.head(5)\n",
        "\n"
      ]
    },
    {
      "cell_type": "markdown",
      "metadata": {
        "id": "BsqY7NtacekF"
      },
      "source": [
        "### 3. Pre-processing input data (cont).\n",
        "***\n",
        "\n",
        "Next we define a function _sent_to_words_ which accepts a series of texts and:\n",
        "* Converts everything to lowercase and drops accents, \n",
        "* Deletes stop words, \n",
        "* Tokenizes the texts, \n",
        "* Apply Porter's stemmer and keeps as final tokens the resulting terms with minimum length 5. \n",
        "\n",
        "We call this function with the articles definitions in column \"raw content\" of dataframe _dat_. The result, _texts_ is a nested list with 865 outer elements corresponding to the SE articles. The inner lists contain the tokens for each text."
      ]
    },
    {
      "cell_type": "code",
      "execution_count": 14,
      "metadata": {
        "id": "fVUs7sQzcekF",
        "outputId": "a670120b-5842-49a8-f8d3-001ab44acaff",
        "colab": {
          "base_uri": "https://localhost:8080/"
        }
      },
      "outputs": [
        {
          "output_type": "stream",
          "name": "stdout",
          "text": [
            "\n",
            "First text: \n",
            " [['accid', 'statist', 'number', 'accid', 'there', 'million', 'fatal', 'accid', 'result', 'least', 'calendar', 'absenc', 'fatal', 'accid', 'ratio', 'approxim', 'fatal', 'accid', 'everi', 'fatal', 'accid', 'there', 'increas', 'between', 'total', 'number', 'fatal', 'accid', 'equival', 'growth', 'there', 'addit', 'fatal', 'accid', 'compar', 'befor', 'equival', 'increas', 'consider', 'women', 'accid', 'everi', 'three', 'fatal', 'accid', 'involv', 'factor', 'influenc', 'these', 'statist', 'proport', 'women', 'employ', 'differ', 'women', 'carri', 'activ', 'which', 'amount', 'spent', 'exampl', 'there', 'accid', 'manufactur', 'construct', 'sector', 'which', 'domin', 'gener', 'wherea', 'women', 'women', 'spend', 'shorter', 'period', 'averag', 'workplac', 'reduc', 'their', 'chanc', 'accid', 'incid', 'altern', 'analys', 'inform', 'accid', 'express', 'number', 'accid', 'relat', 'number', 'person', 'emploi', 'produc', 'ratio', 'refer', 'incid', 'figur', 'simpl', 'incid', 'shown', 'relat', 'number', 'accid', 'overal', 'number', 'person', 'emploi', 'given', 'countri', 'these', 'statist', 'indic', 'likelihood', 'someon', 'accid', 'number', 'fatal', 'accid', 'emploi', 'person', 'finland', 'greec', 'germani', 'netherland', 'fatal', 'accid', 'person', 'emploi', 'croatia', 'lithuania', 'bulgaria', 'latvia', 'figur', 'howev', 'highest', 'incid', 'among', 'member', 'state', 'record', 'luxembourg', 'romania', 'fatal', 'accid', 'person', 'emploi', 'respect', 'across', 'whole', 'there', 'fatal', 'accid', 'person', 'emploi', 'fatal', 'accid', 'therefor', 'event', 'fatal', 'accid', 'their', 'incid', 'greatli', 'across', 'there', 'fatal', 'accid', 'person', 'emploi', 'incid', 'among', 'member', 'state', 'fatal', 'accid', 'person', 'emploi', 'romania', 'bulgaria', 'person', 'emploi', 'portug', 'spain', 'while', 'consider', 'higher', 'record', 'franc', 'fatal', 'accid', 'person', 'emploi', 'figur', 'particularli', 'incid', 'fatal', 'accid', 'reflect', 'under', 'report', 'problem', 'poorli', 'establish', 'report', 'system', 'littl', 'financi', 'incent', 'victim', 'report', 'legal', 'oblig', 'employ', 'establish', 'report', 'recognit', 'system', 'often', 'explain', 'incid', 'countri', 'while', 'phenomenon', 'fatal', 'incid', 'consid', 'reflect', 'under', 'report', 'situat', 'incid', 'fatal', 'accid', 'differ', 'difficult', 'avoid', 'report', 'fatal', 'accid', 'standardis', 'incid', 'compar', 'between', 'countri', 'incid', 'difficult', 'interpret', 'exampl', 'compar', 'effect', 'measur', 'prevent', 'accid', 'becaus', 'likelihood', 'accid', 'among', 'other', 'factor', 'relat', 'econom', 'activ', 'which', 'person', 'import', 'weight', 'differ', 'activ', 'between', 'countri', 'accord', 'structur', 'domest', 'economi', 'account', 'standardis', 'incid', 'calcul', 'these', 'shown', 'figur', 'assum', 'econom', 'activ', 'within', 'nation', 'economi', 'within', 'whole', 'these', 'standardis', 'incid', 'neutral', 'comparison', 'health', 'safeti', 'situat', 'differ', 'countri', 'these', 'standardis', 'incid', 'slightli', 'narrow', 'activ', 'coverag', 'simpl', 'incid', 'exclud', 'quarri', 'sector', 'servic', 'activ', 'standardis', 'incid', 'cover', 'section', 'exclud', 'section', 'across', 'there', 'averag', 'fatal', 'accid', 'person', 'emploi', 'figur', 'while', 'there', 'fatal', 'accid', 'person', 'emploi', 'figur', 'highest', 'standardis', 'incid', 'fatal', 'accid', 'record', 'luxembourg', 'death', 'person', 'emploi', 'follow', 'romania', 'death', 'person', 'emploi', 'other', 'germani', 'netherland', 'record', 'lowest', 'standardis', 'incid', 'among', 'member', 'state', 'fatal', 'accid', 'person', 'emploi', 'figur', 'standardis', 'incid', 'fatal', 'accid', 'gener', 'highest', 'member', 'state', 'insur', 'accid', 'report', 'system', 'franc', 'report', 'fatal', 'accid', 'person', 'emploi', 'follow', 'portug', 'spain', 'person', 'emploi', 'insur', 'accid', 'report', 'system', 'offer', 'signific', 'financi', 'compens', 'victim', 'accid', 'report', 'oppos', 'legal', 'oblig', 'system', 'which', 'victim', 'cover', 'gener', 'social', 'secur', 'system', 'among', 'eastern', 'member', 'state', 'which', 'mostli', 'legal', 'oblig', 'system', 'slovenia', 'countri', 'report', 'incid', 'fatal', 'accid', 'person', 'emploi', 'lowest', 'standardis', 'incid', 'report', 'romania', 'bulgaria', 'fatal', 'accid', 'person', 'emploi', 'again', 'should', 'these', 'reflect', 'degre', 'under', 'report', 'analysi', 'activ', 'reason', 'incid', 'accid', 'higher', 'women', 'relat', 'econom', 'activ', 'where', 'number', 'accid', 'greatli', 'depend', 'econom', 'activ', 'question', 'figur', 'posit', 'relat', 'domin', 'activ', 'within', 'construct', 'transport', 'storag', 'manufactur', 'agricultur', 'forestri', 'sector', 'togeth', 'account', 'around', 'third', 'fatal', 'accid', 'fifth', 'fatal', 'accid', 'fifth', 'fatal', 'accid', 'place', 'within', 'construct', 'sector', 'while', 'transport', 'storag', 'sector', 'highest', 'share', 'manufactur', 'agricultur', 'forestri', 'other', 'section', 'which', 'doubl', 'digit', 'share', 'total', 'number', 'fatal', 'accid', 'record', 'fatal', 'accid', 'common', 'within', 'manufactur', 'total', 'wholesal', 'retail', 'trade', 'construct', 'human', 'health', 'social', 'activ', 'these', 'section', 'record', 'doubl', 'digit', 'share', 'total', 'number', 'fatal', 'accid', 'analysi', 'injuri', 'figur', 'present', 'analysi', 'accord', 'injuri', 'sustain', 'peopl', 'involv', 'accid', 'there', 'particularli', 'common', 'injuri', 'wound', 'superfici', 'injuri', 'total', 'disloc', 'sprain', 'strain', 'follow', 'other', 'common', 'concuss', 'intern', 'injuri', 'fractur', 'other', 'injuri', 'account', 'doubl', 'digit', 'share', 'total', 'number', 'accid', 'highest', 'share', 'shock', 'scald', 'frostbit', 'collect', 'context', 'includ', 'analysi', 'which', 'injur', 'accid', 'torso', 'organ', 'inform', 'circumst', 'accid', 'accid', 'possibl', 'analys', 'inform', 'member', 'state', 'avail', 'period', 'howev', 'there', 'consider', 'chang', 'collect', 'period', 'result', 'there', 'number', 'break', 'particularli', 'belgium', 'greec', 'franc', 'itali', 'netherland', 'finland', 'sourc', 'section', 'below', 'detail', 'figur', 'present', 'inform', 'detail', 'activ', 'level', 'divis', 'between', 'industri', 'activ', 'account', 'biggest', 'reduct', 'incid', 'fatal', 'accid', 'howev', 'largest', 'reduct', 'forestri', 'where', 'incid', 'fatal', 'accid', 'accid', 'person', 'emploi', 'period', 'under', 'consider', 'there', 'activ', 'where', 'incid', 'person', 'emploi', 'employ', 'activ', 'remedi', 'activ', 'other', 'manag', 'servic', 'manufactur', 'furnitur', 'metal', 'section', 'chang', 'number', 'accid', 'their', 'incid', 'period', 'number', 'accid', 'particular', 'relat', 'least', 'extent', 'overal', 'level', 'econom', 'activ', 'total', 'number', 'person', 'employ', 'fewer', 'accid', 'period', 'there', 'contract', 'overal', 'level', 'econom', 'activ', 'figur', 'section', 'highest', 'level', 'accid', 'agricultur', 'forestri', 'section', 'manufactur', 'section', 'construct', 'section', 'wholesal', 'retail', 'trade', 'section', 'transport', 'storag', 'section', 'between', 'there', 'reduct', 'number', 'fatal', 'these', 'activ', 'agricultur', 'forestri', 'transport', 'storag', 'record', 'smallest', 'reduct', 'fatal', 'accid', 'absolut', 'contrast', 'largest', 'absolut', 'reduct', 'fatal', 'accid', 'construct', 'sector', 'where', 'there', 'fewer', 'there', 'number', 'fatal', 'construct', 'sector', 'declin', 'while', 'there', 'slightli', 'bigger', 'reduct', 'fatal', 'wholesal', 'retail', 'trade', 'sector', 'period', 'under', 'consider', 'figur', 'complement', 'inform', 'shown', 'figur', 'present', 'similar', 'analysi', 'fatal', 'accid', 'across', 'total', 'number', 'fatal', 'accid', 'declin', 'section', 'compar', 'level', 'accid', 'biggest', 'reduct', 'fatal', 'accid', 'across', 'record', 'manufactur', 'fewer', 'fatal', 'accid', 'construct', 'modest', 'agricultur', 'forestri', 'transport', 'storag', 'between', 'number', 'fatal', 'accid', 'almost', 'quarter', 'construct', 'sector', 'while', 'there', 'number', 'fatal', 'accid', 'manufactur', 'wholesal', 'retail', 'trade', 'final', 'analysi', 'present', 'divis', 'detail', 'those', 'activ', 'highest', 'lowest', 'chang', 'their', 'incid', 'fatal', 'accid', 'between', 'across', 'number', 'fatal', 'accid', 'person', 'emploi', 'across', 'activ', 'largest', 'contract', 'overal', 'period', 'under', 'consider', 'figur', 'manufactur', 'comput', 'electron', 'optic', 'product', 'inform', 'servic', 'activ', 'program', 'broadcast', 'activ', 'which', 'record', 'biggest', 'declin', 'incid', 'fatal', 'accid', 'increas', 'greatli', 'product', 'relat', 'servic', 'activ', 'between', 'motion', 'pictur', 'video', 'televis', 'program', 'sound', 'record', 'music', 'publish', 'fatal', 'accid', 'increas', 'slightli', 'third', 'period', 'under', 'consider', 'three', 'remain', 'activ', 'shown', 'right', 'figur']]\n",
            "\n",
            "Total texts:  865 \n",
            "\n"
          ]
        }
      ],
      "source": [
        "from gensim.parsing.preprocessing import remove_stopwords\n",
        "from gensim.parsing.porter import PorterStemmer\n",
        "def sent_to_words(sentences):\n",
        "    p = PorterStemmer()\n",
        "    for sentence in sentences:\n",
        "        sentence = str(gensim.utils.simple_preprocess(sentence, deacc=True))\n",
        "        sentence = remove_stopwords(sentence) \n",
        "        tokens = gensim.utils.tokenize(sentence)\n",
        "        sentence = [p.stem(token) for token in tokens if len(p.stem(token)) >= 5] ##minimum length = 5 \n",
        "        yield(sentence)\n",
        "                \n",
        "texts = list(sent_to_words(SE_df['raw content']))\n",
        "print('\\nFirst text: \\n',texts[:1])\n",
        "print('\\nTotal texts: ',len(texts),'\\n')\n"
      ]
    },
    {
      "cell_type": "markdown",
      "metadata": {
        "id": "M56vfGeicekG"
      },
      "source": [
        "### 4. Grid search for the selection of the best LDA model.\n",
        "***\n",
        "\n",
        "Before running the grid search, we create a vocabulary from _texts_ with name _id2word_. This is a dictionary the numeric ids of the terms as keys and the terms themselves as values. The terms are initially sorted alphabetically. \n",
        "\n",
        "In the grid search, before calling _ldamodel.LdaModel()_ we create a mapping with name _corpus_ of texts to terms in the bag-of-words (BOW) format. Each text is mapped into a list with 2-tuples: (word id, word count in each text). The terms in the vocabulary are then re-ordered according to their order of appearance in the texts. We set the bounds on the appearance of terms in the texts with the function _filter_extremes()_ on the _id2word_ vocabulary. \n",
        " \n",
        "The parameters in the call of the function _ldamodel.LdaModel()_ and the number of topics were selected by trial and error and also through **grid search runs**. We run several such runs with different combinations and values for the hyper-parameters. \n",
        "\n",
        "The quality measure for the selection of the best LDA model is the coherence score. This is based on the work in Röder, M., Both, A., & Hinneburg, A. (2015, February). Exploring the space of topic coherence measures. In *Proceedings of the eighth ACM international conference on Web search and data mining* (pp. 399-408), available [here](http://svn.aksw.org/papers/2015/WSDM_Topic_Evaluation/public.pdf). \n",
        "\n",
        "The (disabled) code for an **indicative** grid search run is shown below. Do **not** comment-out the first line. \n"
      ]
    },
    {
      "cell_type": "code",
      "execution_count": 15,
      "metadata": {
        "id": "KIZ5-HVUcekG"
      },
      "outputs": [],
      "source": [
        "%%script false --no-raise-error ## DO NOT UN-COMMENT THIS! THIS CELL IS NOT SUPPOSED TO RUN\n",
        "\n",
        "from gensim import corpora\n",
        "from gensim.models import CoherenceModel\n",
        "from itertools import product\n",
        "import copy\n",
        "\n",
        "id2word = corpora.Dictionary(texts) #Gensim creates a unique id for each word in the document. \n",
        "#id2word_keep = id2word\n",
        "id2word_keep = copy.deepcopy(id2word)\n",
        "\n",
        "def expand_grid(dictionary):\n",
        "    return pd.DataFrame([row for row in product(*dictionary.values())], \n",
        "                       columns=dictionary.keys())\n",
        "\n",
        "dictionary = {'num_topics':[20, 30, 40], 'passes': [50], 'alpha': ['auto'], \n",
        "              'decay': [0.3, 0.5, 0.75], 'iterations':[300],'lb':[0.01, 0.05], 'ub':[0.5,0.75]}\n",
        "\n",
        "#dictionary = {'num_topics':[20, 30, 40], 'passes': [40,50,60], 'alpha': ['symmetric', 'asymmetric','auto'], \n",
        "#              'decay': [0.3, 0.5, 0.75], 'iterations':[300,500],'lb':[0.01, 0.05], 'ub':[0.5,0.75]}\n",
        "\n",
        "\n",
        "\n",
        "grid = expand_grid(dictionary)\n",
        "print(grid)\n",
        "best_coherence = 0\n",
        "best_params = -1\n",
        "for i in range(len(grid)):\n",
        "    \n",
        "   \n",
        "\n",
        "    #Create Dictionary\n",
        "    #id2word = id2word_keep \n",
        "    id2word = copy.deepcopy(id2word_keep)\n",
        "    id2word.filter_extremes(no_below=grid.loc[i,'lb']*len(texts), no_above=grid.loc[i,'ub'])\n",
        "\n",
        "    print('Terms in the vocabulary: ',len(id2word),'\\n')\n",
        "\n",
        "    corpus = [id2word.doc2bow(text) for text in texts] \n",
        "\n",
        "    print('Testing with row ',i+1,' of ',len(grid),'\\n')\n",
        "    lda_model = gensim.models.ldamodel.LdaModel(corpus=corpus,\n",
        "                                           id2word=id2word,\n",
        "                                           num_topics=grid.loc[i,'num_topics'],\n",
        "                                           random_state=100,\n",
        "                                           update_every=0,\n",
        "                                           passes=grid.loc[i,'passes'],\n",
        "                                           alpha=grid.loc[i,'alpha'],\n",
        "                                           iterations=grid.loc[i,'iterations'],\n",
        "                                           decay = grid.loc[i,'decay'],\n",
        "                                           per_word_topics=True,\n",
        "                                           eval_every=None)\n",
        "    \n",
        "    print(grid.loc[i,:])\n",
        "    \n",
        "    coherence_model_lda = CoherenceModel(model=lda_model, texts=texts, dictionary=id2word, coherence='c_v')\n",
        "    coherence_lda = coherence_model_lda.get_coherence()\n",
        "    print('\\nCoherence Score: ', coherence_lda,'\\n')\n",
        "    grid.loc[i,'Coherence'] = coherence_lda\n",
        "    \n",
        "    if coherence_lda > best_coherence:\n",
        "        best_coherence = coherence_lda\n",
        "        best_params = i\n",
        "        \n",
        "    print('\\nBest so far: ',best_coherence,' at row ',best_params+1,'\\n')    \n",
        "\n",
        "grid.to_excel('grid_SE.xlsx')"
      ]
    },
    {
      "cell_type": "markdown",
      "metadata": {
        "id": "EHOQP9v_cekG"
      },
      "source": [
        "### 5. Fitting the selected LDA model\n",
        "***\n",
        "\n",
        "The next code shows the fitting of the LDA model with the selected parameters found (20 topics). Compared to the runs with the SE Glossary entries, we found that we had to lower the _decay_ parameter. Also, as expected, the upper bound on the percentage of occurence of terms in the articles had to be set to a much lower value, 0.5. The coherence value of 0.61 is considered quite good. We store the fitted model in an object _lda_model_."
      ]
    },
    {
      "cell_type": "code",
      "execution_count": 16,
      "metadata": {
        "id": "3PbB7GyocekH",
        "outputId": "9d70bec2-0cb9-4d47-9638-7e52b90ec5a5",
        "colab": {
          "base_uri": "https://localhost:8080/"
        }
      },
      "outputs": [
        {
          "output_type": "stream",
          "name": "stdout",
          "text": [
            "Dictionary(2243 unique tokens: ['absenc', 'absolut', 'accid', 'accord', 'across']...) \n",
            "\n",
            "Firsτ 2 texts in BOW format:\n",
            "\n",
            "[[(0, 1), (1, 2), (2, 74), (3, 2), (4, 7), (5, 25), (6, 1), (7, 1), (8, 5), (9, 1), (10, 1), (11, 1), (12, 2), (13, 6), (14, 1), (15, 1), (16, 1), (17, 1), (18, 1), (19, 1), (20, 1), (21, 1), (22, 3), (23, 1), (24, 3), (25, 1), (26, 1), (27, 1), (28, 1), (29, 1), (30, 2), (31, 3), (32, 1), (33, 1), (34, 1), (35, 1), (36, 1), (37, 7), (38, 9), (39, 1), (40, 2), (41, 1), (42, 2), (43, 1), (44, 1), (45, 2), (46, 3), (47, 1), (48, 1), (49, 3), (50, 2), (51, 3), (52, 2), (53, 1), (54, 2), (55, 3), (56, 1), (57, 2), (58, 1), (59, 1), (60, 22), (61, 4), (62, 2), (63, 2), (64, 1), (65, 2), (66, 2), (67, 2), (68, 1), (69, 1), (70, 1), (71, 2), (72, 51), (73, 3), (74, 2), (75, 1), (76, 2), (77, 2), (78, 6), (79, 3), (80, 1), (81, 2), (82, 1), (83, 3), (84, 2), (85, 1), (86, 2), (87, 1), (88, 1), (89, 29), (90, 1), (91, 1), (92, 1), (93, 6), (94, 2), (95, 1), (96, 1), (97, 2), (98, 1), (99, 1), (100, 2), (101, 3), (102, 2), (103, 1), (104, 1), (105, 3), (106, 2), (107, 1), (108, 9), (109, 1), (110, 1), (111, 1), (112, 1), (113, 1), (114, 1), (115, 1), (116, 3), (117, 1), (118, 3), (119, 1), (120, 1), (121, 1), (122, 1), (123, 1), (124, 4), (125, 1), (126, 3), (127, 1), (128, 24), (129, 1), (130, 1), (131, 1), (132, 2), (133, 1), (134, 1), (135, 1), (136, 1), (137, 1), (138, 2), (139, 1), (140, 1), (141, 1), (142, 1), (143, 1), (144, 2), (145, 1), (146, 1), (147, 1), (148, 7), (149, 1), (150, 3), (151, 1), (152, 4), (153, 1), (154, 4), (155, 1), (156, 13), (157, 9), (158, 1), (159, 4), (160, 1), (161, 1), (162, 1), (163, 4), (164, 1), (165, 1), (166, 2), (167, 2), (168, 3), (169, 1), (170, 1), (171, 2), (172, 1), (173, 1), (174, 1), (175, 2), (176, 1), (177, 1), (178, 9), (179, 5), (180, 1), (181, 1), (182, 1), (183, 7), (184, 1), (185, 1), (186, 2), (187, 1), (188, 4), (189, 5), (190, 7), (191, 3), (192, 1), (193, 1), (194, 1), (195, 2), (196, 4), (197, 6), (198, 1)], [(4, 5), (5, 28), (6, 1), (7, 4), (8, 5), (9, 3), (11, 1), (12, 2), (13, 4), (18, 1), (19, 8), (20, 4), (23, 2), (24, 5), (25, 2), (32, 5), (33, 3), (36, 1), (37, 4), (38, 5), (40, 6), (41, 5), (46, 3), (54, 1), (57, 5), (58, 3), (60, 4), (62, 1), (65, 5), (68, 1), (69, 2), (71, 1), (74, 3), (75, 2), (76, 7), (77, 2), (78, 5), (79, 7), (81, 9), (84, 12), (85, 35), (86, 3), (87, 3), (90, 7), (94, 2), (98, 6), (99, 1), (100, 3), (103, 3), (105, 5), (106, 7), (108, 1), (110, 1), (111, 2), (116, 2), (120, 2), (124, 10), (126, 3), (128, 4), (131, 1), (132, 3), (133, 12), (142, 2), (144, 1), (145, 1), (148, 2), (149, 2), (150, 2), (153, 1), (154, 4), (157, 4), (159, 20), (162, 1), (163, 6), (165, 2), (167, 3), (169, 2), (170, 1), (171, 3), (175, 4), (181, 1), (182, 2), (185, 1), (186, 1), (188, 3), (189, 3), (194, 4), (195, 1), (199, 1), (200, 1), (201, 3), (202, 5), (203, 4), (204, 1), (205, 5), (206, 1), (207, 1), (208, 2), (209, 1), (210, 3), (211, 12), (212, 1), (213, 3), (214, 1), (215, 1), (216, 1), (217, 1), (218, 1), (219, 1), (220, 1), (221, 1), (222, 5), (223, 1), (224, 4), (225, 4), (226, 2), (227, 1), (228, 2), (229, 2), (230, 1), (231, 5), (232, 1), (233, 1), (234, 3), (235, 1), (236, 1), (237, 12), (238, 2), (239, 4), (240, 1), (241, 1), (242, 12), (243, 3), (244, 8), (245, 6), (246, 3), (247, 5), (248, 1), (249, 3), (250, 1), (251, 3), (252, 4), (253, 4), (254, 1), (255, 1), (256, 1), (257, 2), (258, 1), (259, 2), (260, 1), (261, 3), (262, 1), (263, 2), (264, 3), (265, 3), (266, 4), (267, 1), (268, 1), (269, 1), (270, 1), (271, 3), (272, 15), (273, 2), (274, 2), (275, 1), (276, 1), (277, 1), (278, 2), (279, 3), (280, 2), (281, 5), (282, 2), (283, 1), (284, 4), (285, 1), (286, 4), (287, 2), (288, 3), (289, 13), (290, 1), (291, 1), (292, 13), (293, 5), (294, 1), (295, 1), (296, 8), (297, 2), (298, 1), (299, 2), (300, 10), (301, 1), (302, 2), (303, 1), (304, 1), (305, 1), (306, 8), (307, 10), (308, 1), (309, 1), (310, 1), (311, 9), (312, 1), (313, 1), (314, 1), (315, 2), (316, 6), (317, 2), (318, 1), (319, 1), (320, 1), (321, 1), (322, 1), (323, 1), (324, 1), (325, 1), (326, 3), (327, 1), (328, 1), (329, 1), (330, 1), (331, 18), (332, 1), (333, 1), (334, 1), (335, 1), (336, 15), (337, 1), (338, 1), (339, 1), (340, 14), (341, 4), (342, 1), (343, 1), (344, 13), (345, 1), (346, 1), (347, 1), (348, 2), (349, 5), (350, 1), (351, 2), (352, 1), (353, 4), (354, 2), (355, 2), (356, 1), (357, 3), (358, 2), (359, 1), (360, 1), (361, 1), (362, 2), (363, 1), (364, 1), (365, 2), (366, 1), (367, 1), (368, 1), (369, 2), (370, 1), (371, 3), (372, 2), (373, 1), (374, 4), (375, 2), (376, 1), (377, 3), (378, 1), (379, 1), (380, 1), (381, 2), (382, 1), (383, 2), (384, 2), (385, 1), (386, 1), (387, 1), (388, 1), (389, 1), (390, 2), (391, 2), (392, 1), (393, 1), (394, 1), (395, 1), (396, 4), (397, 2), (398, 1), (399, 4), (400, 1), (401, 1), (402, 1), (403, 1), (404, 1), (405, 1), (406, 1), (407, 7), (408, 1), (409, 1)]] \n",
            "\n",
            "First 2 texts in BOW format together with terms:\n",
            "\n",
            "[('absenc', 0, 1), ('absolut', 1, 2), ('accid', 2, 74), ('accord', 3, 2), ('across', 4, 7), ('activ', 5, 25), ('addit', 6, 1), ('again', 7, 1), ('agricultur', 8, 5), ('almost', 9, 1), ('altern', 10, 1), ('amount', 11, 1), ('analys', 12, 2), ('analysi', 13, 6), ('approxim', 14, 1), ('around', 15, 1), ('assum', 16, 1), ('avoid', 17, 1), ('becaus', 18, 1), ('befor', 19, 1), ('belgium', 20, 1), ('bigger', 21, 1), ('biggest', 22, 3), ('break', 23, 1), ('bulgaria', 24, 3), ('calcul', 25, 1), ('calendar', 26, 1), ('carri', 27, 1), ('chanc', 28, 1), ('circumst', 29, 1), ('collect', 30, 2), ('common', 31, 3), ('comparison', 32, 1), ('compens', 33, 1), ('complement', 34, 1), ('comput', 35, 1), ('consid', 36, 1), ('consider', 37, 7), ('construct', 38, 9), ('context', 39, 1), ('contract', 40, 2), ('contrast', 41, 1), ('cover', 42, 2), ('coverag', 43, 1), ('croatia', 44, 1), ('death', 45, 2), ('declin', 46, 3), ('degre', 47, 1), ('depend', 48, 1), ('detail', 49, 3), ('difficult', 50, 2), ('digit', 51, 3), ('divis', 52, 2), ('domest', 53, 1), ('domin', 54, 2), ('doubl', 55, 3), ('eastern', 56, 1), ('economi', 57, 2), ('effect', 58, 1), ('electron', 59, 1), ('emploi', 60, 22), ('employ', 61, 4), ('equival', 62, 2), ('establish', 63, 2), ('event', 64, 1), ('everi', 65, 2), ('exampl', 66, 2), ('exclud', 67, 2), ('explain', 68, 1), ('express', 69, 1), ('extent', 70, 1), ('factor', 71, 2), ('fatal', 72, 51), ('fewer', 73, 3), ('fifth', 74, 2), ('final', 75, 1), ('financi', 76, 2), ('finland', 77, 2), ('forestri', 78, 6), ('franc', 79, 3), ('furnitur', 80, 1), ('germani', 81, 2), ('given', 82, 1), ('greatli', 83, 3), ('greec', 84, 2), ('growth', 85, 1), ('health', 86, 2), ('human', 87, 1), ('incent', 88, 1), ('incid', 89, 29), ('industri', 90, 1), ('influenc', 91, 1), ('injur', 92, 1), ('injuri', 93, 6), ('insur', 94, 2), ('intern', 95, 1), ('interpret', 96, 1), ('involv', 97, 2), ('itali', 98, 1), ('latvia', 99, 1), ('least', 100, 2), ('legal', 101, 3), ('likelihood', 102, 2), ('lithuania', 103, 1), ('littl', 104, 1), ('lowest', 105, 3), ('luxembourg', 106, 2), ('manag', 107, 1), ('manufactur', 108, 9), ('metal', 109, 1), ('million', 110, 1), ('modest', 111, 1), ('mostli', 112, 1), ('motion', 113, 1), ('music', 114, 1), ('narrow', 115, 1), ('netherland', 116, 3), ('neutral', 117, 1), ('oblig', 118, 3), ('offer', 119, 1), ('often', 120, 1), ('oppos', 121, 1), ('optic', 122, 1), ('organ', 123, 1), ('overal', 124, 4), ('particular', 125, 1), ('particularli', 126, 3), ('peopl', 127, 1), ('person', 128, 24), ('phenomenon', 129, 1), ('pictur', 130, 1), ('place', 131, 1), ('portug', 132, 2), ('posit', 133, 1), ('possibl', 134, 1), ('prevent', 135, 1), ('problem', 136, 1), ('produc', 137, 1), ('program', 138, 2), ('proport', 139, 1), ('publish', 140, 1), ('quarri', 141, 1), ('quarter', 142, 1), ('question', 143, 1), ('ratio', 144, 2), ('reason', 145, 1), ('recognit', 146, 1), ('reduc', 147, 1), ('reduct', 148, 7), ('refer', 149, 1), ('reflect', 150, 3), ('remedi', 151, 1), ('retail', 152, 4), ('right', 153, 1), ('romania', 154, 4), ('safeti', 155, 1), ('section', 156, 13), ('sector', 157, 9), ('secur', 158, 1), ('servic', 159, 4), ('shock', 160, 1), ('shorter', 161, 1), ('should', 162, 1), ('shown', 163, 4), ('signific', 164, 1), ('similar', 165, 1), ('simpl', 166, 2), ('situat', 167, 2), ('slightli', 168, 3), ('slovenia', 169, 1), ('smallest', 170, 1), ('social', 171, 2), ('someon', 172, 1), ('sound', 173, 1), ('sourc', 174, 1), ('spain', 175, 2), ('spend', 176, 1), ('spent', 177, 1), ('standardis', 178, 9), ('storag', 179, 5), ('strain', 180, 1), ('structur', 181, 1), ('sustain', 182, 1), ('system', 183, 7), ('televis', 184, 1), ('therefor', 185, 1), ('third', 186, 2), ('togeth', 187, 1), ('trade', 188, 4), ('transport', 189, 5), ('under', 190, 7), ('victim', 191, 3), ('video', 192, 1), ('weight', 193, 1), ('wherea', 194, 1), ('whole', 195, 2), ('wholesal', 196, 4), ('women', 197, 6), ('workplac', 198, 1)]\n",
            "[('across', 4, 5), ('activ', 5, 28), ('addit', 6, 1), ('again', 7, 4), ('agricultur', 8, 5), ('almost', 9, 3), ('amount', 11, 1), ('analys', 12, 2), ('analysi', 13, 4), ('becaus', 18, 1), ('befor', 19, 8), ('belgium', 20, 4), ('break', 23, 2), ('bulgaria', 24, 5), ('calcul', 25, 2), ('comparison', 32, 5), ('compens', 33, 3), ('consid', 36, 1), ('consider', 37, 4), ('construct', 38, 5), ('contract', 40, 6), ('contrast', 41, 5), ('declin', 46, 3), ('domin', 54, 1), ('economi', 57, 5), ('effect', 58, 3), ('emploi', 60, 4), ('equival', 62, 1), ('everi', 65, 5), ('explain', 68, 1), ('express', 69, 2), ('factor', 71, 1), ('fifth', 74, 3), ('final', 75, 2), ('financi', 76, 7), ('finland', 77, 2), ('forestri', 78, 5), ('franc', 79, 7), ('germani', 81, 9), ('greec', 84, 12), ('growth', 85, 35), ('health', 86, 3), ('human', 87, 3), ('industri', 90, 7), ('insur', 94, 2), ('itali', 98, 6), ('latvia', 99, 1), ('least', 100, 3), ('lithuania', 103, 3), ('lowest', 105, 5), ('luxembourg', 106, 7), ('manufactur', 108, 1), ('million', 110, 1), ('modest', 111, 2), ('netherland', 116, 2), ('often', 120, 2), ('overal', 124, 10), ('particularli', 126, 3), ('person', 128, 4), ('place', 131, 1), ('portug', 132, 3), ('posit', 133, 12), ('quarter', 142, 2), ('ratio', 144, 1), ('reason', 145, 1), ('reduct', 148, 2), ('refer', 149, 2), ('reflect', 150, 2), ('right', 153, 1), ('romania', 154, 4), ('sector', 157, 4), ('servic', 159, 20), ('should', 162, 1), ('shown', 163, 6), ('similar', 165, 2), ('situat', 167, 3), ('slovenia', 169, 2), ('smallest', 170, 1), ('social', 171, 3), ('spain', 175, 4), ('structur', 181, 1), ('sustain', 182, 2), ('therefor', 185, 1), ('third', 186, 1), ('trade', 188, 3), ('transport', 189, 3), ('wherea', 194, 4), ('whole', 195, 1), ('about', 199, 1), ('acceler', 200, 1), ('accommod', 201, 3), ('adjust', 202, 5), ('administr', 203, 4), ('affect', 204, 1), ('after', 205, 5), ('aftermath', 206, 1), ('aggreg', 207, 1), ('ahead', 208, 2), ('albania', 209, 1), ('alreadi', 210, 3), ('annual', 211, 12), ('appar', 212, 1), ('austria', 213, 3), ('balanc', 214, 1), ('basic', 215, 1), ('becam', 216, 1), ('begin', 217, 1), ('behind', 218, 1), ('billion', 219, 1), ('border', 220, 1), ('cannot', 221, 1), ('capit', 222, 5), ('centr', 223, 1), ('chain', 224, 4), ('china', 225, 4), ('chinaa', 226, 2), ('chines', 227, 1), ('close', 228, 2), ('closer', 229, 2), ('commonplac', 230, 1), ('commun', 231, 5), ('compon', 232, 1), ('compos', 233, 1), ('consecut', 234, 3), ('consequ', 235, 1), ('consist', 236, 1), ('consumpt', 237, 12), ('continu', 238, 2), ('contribut', 239, 4), ('converg', 240, 1), ('correspond', 241, 1), ('crisi', 242, 12), ('cross', 243, 3), ('current', 244, 8), ('cypru', 245, 6), ('czechia', 246, 3), ('decad', 247, 5), ('decreas', 248, 1), ('defenc', 249, 3), ('defin', 250, 1), ('denmark', 251, 3), ('despit', 252, 4), ('distribut', 253, 4), ('diverg', 254, 1), ('downward', 255, 1), ('dynam', 256, 1), ('earlier', 257, 2), ('eight', 258, 1), ('either', 259, 2), ('elimin', 260, 1), ('employe', 261, 3), ('enterpris', 262, 1), ('entertain', 263, 2), ('equal', 264, 3), ('estat', 265, 3), ('estonia', 266, 4), ('evalu', 267, 1), ('exceed', 268, 1), ('excess', 269, 1), ('exchang', 270, 1), ('expans', 271, 3), ('expenditur', 272, 15), ('experienc', 273, 2), ('export', 274, 2), ('extern', 275, 1), ('fallen', 276, 1), ('faster', 277, 1), ('fastest', 278, 2), ('first', 279, 3), ('fluctuat', 280, 2), ('format', 281, 5), ('fourth', 282, 2), ('fulli', 283, 1), ('further', 284, 4), ('furthermor', 285, 1), ('global', 286, 4), ('globalis', 287, 2), ('govern', 288, 3), ('gross', 289, 13), ('hereaft', 290, 1), ('histor', 291, 1), ('household', 292, 13), ('hungari', 293, 5), ('ident', 294, 1), ('impact', 295, 1), ('incom', 296, 8), ('index', 297, 2), ('individu', 298, 1), ('inflat', 299, 2), ('inhabit', 300, 10), ('initi', 301, 1), ('institut', 302, 2), ('intend', 303, 1), ('intens', 304, 1), ('interest', 305, 1), ('invest', 306, 8), ('ireland', 307, 10), ('japan', 308, 1), ('kingdom', 309, 1), ('kosovo', 310, 1), ('labour', 311, 9), ('larger', 312, 1), ('longest', 313, 1), ('maintain', 314, 1), ('major', 315, 2), ('malta', 316, 6), ('market', 317, 2), ('methodolog', 318, 1), ('multin', 319, 1), ('nearli', 320, 1), ('neglig', 321, 1), ('nevertheless', 322, 1), ('ninth', 323, 1), ('normal', 324, 1), ('norwai', 325, 1), ('notabl', 326, 3), ('npish', 327, 1), ('occur', 328, 1), ('older', 329, 1), ('onlin', 330, 1), ('output', 331, 18), ('outsid', 332, 1), ('outsourc', 333, 1), ('overview', 334, 1), ('partli', 335, 1), ('percentag', 336, 15), ('perform', 337, 1), ('phenomena', 338, 1), ('pleas', 339, 1), ('point', 340, 14), ('poland', 341, 4), ('power', 342, 1), ('precis', 343, 1), ('price', 344, 13), ('privat', 345, 1), ('process', 346, 1), ('profession', 347, 1), ('profit', 348, 2), ('public', 349, 5), ('purchas', 350, 1), ('rapid', 351, 2), ('rather', 352, 1), ('reach', 353, 4), ('rebound', 354, 2), ('recent', 355, 2), ('recess', 356, 1), ('recov', 357, 3), ('recoveri', 358, 2), ('region', 359, 1), ('regist', 360, 1), ('remot', 361, 1), ('return', 362, 2), ('scientif', 363, 1), ('second', 364, 1), ('sever', 365, 2), ('sharp', 366, 1), ('similarli', 367, 1), ('slight', 368, 1), ('slovakia', 369, 2), ('slower', 370, 1), ('slowest', 371, 3), ('small', 372, 2), ('smaller', 373, 1), ('somewhat', 374, 4), ('stabl', 375, 2), ('stage', 376, 1), ('standard', 377, 3), ('start', 378, 1), ('statesa', 379, 1), ('still', 380, 1), ('stronger', 381, 2), ('strongest', 382, 1), ('subdu', 383, 2), ('subsequ', 384, 2), ('subsidi', 385, 1), ('success', 386, 1), ('suggest', 387, 1), ('support', 388, 1), ('surpass', 389, 1), ('surplu', 390, 2), ('sweden', 391, 2), ('switzerland', 392, 1), ('technic', 393, 1), ('technolog', 394, 1), ('tenth', 395, 1), ('thereaft', 396, 4), ('therebi', 397, 2), ('thousand', 398, 1), ('through', 399, 4), ('throughout', 400, 1), ('transform', 401, 1), ('trillion', 402, 1), ('turkei', 403, 1), ('upward', 404, 1), ('variat', 405, 1), ('volatil', 406, 1), ('volum', 407, 7), ('whose', 408, 1), ('worker', 409, 1)]\n",
            "\n",
            "Total texts:  865\n",
            "\n",
            "Coherence Score:  0.6088033192288516\n"
          ]
        }
      ],
      "source": [
        "\n",
        "lower_bound = 0.01\n",
        "upper_bound = 0.5\n",
        "\n",
        "from gensim import corpora\n",
        "\n",
        "#Create Dictionary\n",
        "id2word = corpora.Dictionary(texts) #Gensim creates a unique id for each word in the document. \n",
        "id2word.filter_extremes(no_below=lower_bound*len(texts), no_above=upper_bound)\n",
        "\n",
        "print(id2word,'\\n')\n",
        "\n",
        "corpus = [id2word.doc2bow(text) for text in texts] \n",
        "\n",
        "print('Firsτ 2 texts in BOW format:\\n')\n",
        "print(corpus[:2],'\\n')\n",
        "print('First 2 texts in BOW format together with terms:\\n')\n",
        "for i in range(2):\n",
        "    print([(id2word[term_id],term_id,freq) for (term_id,freq) in corpus[i]])\n",
        "\n",
        "print('\\nTotal texts: ',len(corpus))\n",
        "\n",
        "num_topics = 20\n",
        "passes = 50\n",
        "alpha= 'auto'\n",
        "iterations = 300 \n",
        "decay = 0.30 \n",
        "\n",
        "lda_model = gensim.models.ldamodel.LdaModel(corpus=corpus,\n",
        "                                           id2word=id2word,\n",
        "                                           num_topics=num_topics, \n",
        "                                           random_state=100,\n",
        "                                           update_every=0,\n",
        "                                           passes=passes,\n",
        "                                           alpha=alpha,\n",
        "                                           iterations=iterations,\n",
        "                                           decay = decay,\n",
        "                                           per_word_topics=True,\n",
        "                                           eval_every=None)\n",
        "\n",
        "\n",
        "from gensim.models import CoherenceModel\n",
        "coherence_model_lda = CoherenceModel(model=lda_model, texts=texts, dictionary=id2word, coherence='c_v')\n",
        "coherence_lda = coherence_model_lda.get_coherence()\n",
        "print('\\nCoherence Score: ', coherence_lda)"
      ]
    },
    {
      "cell_type": "markdown",
      "metadata": {
        "id": "-mdfyHuXcekH"
      },
      "source": [
        "### 6. Identification of the dominant topic per document.\n",
        "***\n",
        "In this section, we identify the dominant topic, its weight and its keywords, for each document. We define a dataframe _df_topic_sents_keywords_  in order to store these results. As it will be seen later, these are very useful as **complementary information to find and/or verify the interpretation of the topics**.\n",
        "\n",
        "In function _format_topics_sentences()_ below, the list _ldamodel[corpus]_ has one nested list element per text. Each nested list contains tuples of the form (topic, contribution). We sort the firts element of each nested list by descending contribution to find the dominant topic and then, we retrieve for this topic, the list _wp_ of tuples (word, probability) for the most probable words, using the function _ldamodel.show_topic()_. We join these words into a list and put the result in column 'Topic_Keywords' of the dataframe.  \n"
      ]
    },
    {
      "cell_type": "code",
      "execution_count": 17,
      "metadata": {
        "id": "0Rx50MKFcekI"
      },
      "outputs": [],
      "source": [
        "def format_topics_sentences(ldamodel=None, corpus=corpus):\n",
        "\n",
        "    sent_topics_df = pd.DataFrame()\n",
        "\n",
        "    # Get main topic in each document\n",
        "    for i, row_list in enumerate(ldamodel[corpus]): \n",
        "        row = row_list[0]\n",
        "        row = sorted(row, key=lambda x: (x[1]), reverse=True) ## sort the nested list by descending contribution\n",
        "        # Get the Dominant topic, Perc Contribution and Keywords for each document\n",
        "        topic_num, prop_topic = row[0]\n",
        "        wp = ldamodel.show_topic(topic_num)\n",
        "        topic_keywords = \", \".join([word for word, prop in wp])\n",
        "        sent_topics_df = sent_topics_df.append(pd.Series([int(topic_num), round(prop_topic,4), topic_keywords]), ignore_index=True)\n",
        "    sent_topics_df.columns = ['Dominant_Topic', 'Perc_Contribution', 'Topic_Keywords']\n",
        "\n",
        "    # Add original tokenized text and title to the end of the output\n",
        "    contents = pd.Series(texts)\n",
        "    sent_topics_df = pd.concat([sent_topics_df, contents], axis=1)\n",
        "    sent_topics_df = pd.concat([sent_topics_df, SE_df[['title']]], axis=1)\n",
        "    return(sent_topics_df)"
      ]
    },
    {
      "cell_type": "code",
      "execution_count": 18,
      "metadata": {
        "id": "cntviLBJcekI",
        "outputId": "c0b38249-5c07-47ad-c0a0-ebc405ce079e",
        "colab": {
          "base_uri": "https://localhost:8080/",
          "height": 641
        }
      },
      "outputs": [
        {
          "output_type": "execute_result",
          "data": {
            "text/html": [
              "\n",
              "  <div id=\"df-2cf9f8f6-b3fd-40bd-bef0-ed4f1cda98b3\">\n",
              "    <div class=\"colab-df-container\">\n",
              "      <div>\n",
              "<style scoped>\n",
              "    .dataframe tbody tr th:only-of-type {\n",
              "        vertical-align: middle;\n",
              "    }\n",
              "\n",
              "    .dataframe tbody tr th {\n",
              "        vertical-align: top;\n",
              "    }\n",
              "\n",
              "    .dataframe thead th {\n",
              "        text-align: right;\n",
              "    }\n",
              "</style>\n",
              "<table border=\"1\" class=\"dataframe\">\n",
              "  <thead>\n",
              "    <tr style=\"text-align: right;\">\n",
              "      <th></th>\n",
              "      <th>Text title</th>\n",
              "      <th>Text tokenized definition</th>\n",
              "      <th>Dominant_Topic</th>\n",
              "      <th>Perc_Contribution</th>\n",
              "      <th>Topic_Keywords</th>\n",
              "    </tr>\n",
              "  </thead>\n",
              "  <tbody>\n",
              "    <tr>\n",
              "      <th>0</th>\n",
              "      <td>Accidents at work statistics</td>\n",
              "      <td>[accid, statist, number, accid, there, million...</td>\n",
              "      <td>1</td>\n",
              "      <td>0.4158</td>\n",
              "      <td>transport, accid, internet, passeng, fatal, fr...</td>\n",
              "    </tr>\n",
              "    <tr>\n",
              "      <th>1</th>\n",
              "      <td>National accounts and GDP</td>\n",
              "      <td>[nation, account, develop, growth, global, fin...</td>\n",
              "      <td>15</td>\n",
              "      <td>0.3293</td>\n",
              "      <td>decreas, quarter, luxembourg, greec, cypru, ir...</td>\n",
              "    </tr>\n",
              "    <tr>\n",
              "      <th>2</th>\n",
              "      <td>Railway safety statistics in the EU</td>\n",
              "      <td>[railwai, safeti, statist, number, railwai, ac...</td>\n",
              "      <td>1</td>\n",
              "      <td>0.6112</td>\n",
              "      <td>transport, accid, internet, passeng, fatal, fr...</td>\n",
              "    </tr>\n",
              "    <tr>\n",
              "      <th>3</th>\n",
              "      <td>Railway freight transport statistics</td>\n",
              "      <td>[railwai, freight, transport, statist, downtur...</td>\n",
              "      <td>1</td>\n",
              "      <td>0.4978</td>\n",
              "      <td>transport, accid, internet, passeng, fatal, fr...</td>\n",
              "    </tr>\n",
              "    <tr>\n",
              "      <th>4</th>\n",
              "      <td>Railway passenger transport statistics - quart...</td>\n",
              "      <td>[railwai, passeng, transport, statist, quarter...</td>\n",
              "      <td>15</td>\n",
              "      <td>0.5471</td>\n",
              "      <td>decreas, quarter, luxembourg, greec, cypru, ir...</td>\n",
              "    </tr>\n",
              "    <tr>\n",
              "      <th>...</th>\n",
              "      <td>...</td>\n",
              "      <td>...</td>\n",
              "      <td>...</td>\n",
              "      <td>...</td>\n",
              "      <td>...</td>\n",
              "    </tr>\n",
              "    <tr>\n",
              "      <th>860</th>\n",
              "      <td>Merging statistics and geospatial information,...</td>\n",
              "      <td>[statist, geospati, inform, project, hungari, ...</td>\n",
              "      <td>5</td>\n",
              "      <td>0.7288</td>\n",
              "      <td>survei, agricultur, regist, common, sourc, sam...</td>\n",
              "    </tr>\n",
              "    <tr>\n",
              "      <th>861</th>\n",
              "      <td>Merging statistics and geospatial information,...</td>\n",
              "      <td>[statist, geospati, inform, project, franc, pr...</td>\n",
              "      <td>5</td>\n",
              "      <td>0.7779</td>\n",
              "      <td>survei, agricultur, regist, common, sourc, sam...</td>\n",
              "    </tr>\n",
              "    <tr>\n",
              "      <th>862</th>\n",
              "      <td>Methods for compiling PEEIs in short-term busi...</td>\n",
              "      <td>[method, compil, short, statist, gener, overvi...</td>\n",
              "      <td>19</td>\n",
              "      <td>0.4352</td>\n",
              "      <td>servic, industri, activ, trade, construct, sup...</td>\n",
              "    </tr>\n",
              "    <tr>\n",
              "      <th>863</th>\n",
              "      <td>Building the System of National Accounts - adm...</td>\n",
              "      <td>[build, system, nation, account, administr, so...</td>\n",
              "      <td>10</td>\n",
              "      <td>0.7350</td>\n",
              "      <td>expenditur, financi, govern, benefit, social, ...</td>\n",
              "    </tr>\n",
              "    <tr>\n",
              "      <th>864</th>\n",
              "      <td>Asylum statistics introduced</td>\n",
              "      <td>[asylum, statist, introduc, point, asylum, sta...</td>\n",
              "      <td>14</td>\n",
              "      <td>0.7201</td>\n",
              "      <td>citizen, foreign, resid, immigr, nativ, first,...</td>\n",
              "    </tr>\n",
              "  </tbody>\n",
              "</table>\n",
              "<p>865 rows × 5 columns</p>\n",
              "</div>\n",
              "      <button class=\"colab-df-convert\" onclick=\"convertToInteractive('df-2cf9f8f6-b3fd-40bd-bef0-ed4f1cda98b3')\"\n",
              "              title=\"Convert this dataframe to an interactive table.\"\n",
              "              style=\"display:none;\">\n",
              "        \n",
              "  <svg xmlns=\"http://www.w3.org/2000/svg\" height=\"24px\"viewBox=\"0 0 24 24\"\n",
              "       width=\"24px\">\n",
              "    <path d=\"M0 0h24v24H0V0z\" fill=\"none\"/>\n",
              "    <path d=\"M18.56 5.44l.94 2.06.94-2.06 2.06-.94-2.06-.94-.94-2.06-.94 2.06-2.06.94zm-11 1L8.5 8.5l.94-2.06 2.06-.94-2.06-.94L8.5 2.5l-.94 2.06-2.06.94zm10 10l.94 2.06.94-2.06 2.06-.94-2.06-.94-.94-2.06-.94 2.06-2.06.94z\"/><path d=\"M17.41 7.96l-1.37-1.37c-.4-.4-.92-.59-1.43-.59-.52 0-1.04.2-1.43.59L10.3 9.45l-7.72 7.72c-.78.78-.78 2.05 0 2.83L4 21.41c.39.39.9.59 1.41.59.51 0 1.02-.2 1.41-.59l7.78-7.78 2.81-2.81c.8-.78.8-2.07 0-2.86zM5.41 20L4 18.59l7.72-7.72 1.47 1.35L5.41 20z\"/>\n",
              "  </svg>\n",
              "      </button>\n",
              "      \n",
              "  <style>\n",
              "    .colab-df-container {\n",
              "      display:flex;\n",
              "      flex-wrap:wrap;\n",
              "      gap: 12px;\n",
              "    }\n",
              "\n",
              "    .colab-df-convert {\n",
              "      background-color: #E8F0FE;\n",
              "      border: none;\n",
              "      border-radius: 50%;\n",
              "      cursor: pointer;\n",
              "      display: none;\n",
              "      fill: #1967D2;\n",
              "      height: 32px;\n",
              "      padding: 0 0 0 0;\n",
              "      width: 32px;\n",
              "    }\n",
              "\n",
              "    .colab-df-convert:hover {\n",
              "      background-color: #E2EBFA;\n",
              "      box-shadow: 0px 1px 2px rgba(60, 64, 67, 0.3), 0px 1px 3px 1px rgba(60, 64, 67, 0.15);\n",
              "      fill: #174EA6;\n",
              "    }\n",
              "\n",
              "    [theme=dark] .colab-df-convert {\n",
              "      background-color: #3B4455;\n",
              "      fill: #D2E3FC;\n",
              "    }\n",
              "\n",
              "    [theme=dark] .colab-df-convert:hover {\n",
              "      background-color: #434B5C;\n",
              "      box-shadow: 0px 1px 3px 1px rgba(0, 0, 0, 0.15);\n",
              "      filter: drop-shadow(0px 1px 2px rgba(0, 0, 0, 0.3));\n",
              "      fill: #FFFFFF;\n",
              "    }\n",
              "  </style>\n",
              "\n",
              "      <script>\n",
              "        const buttonEl =\n",
              "          document.querySelector('#df-2cf9f8f6-b3fd-40bd-bef0-ed4f1cda98b3 button.colab-df-convert');\n",
              "        buttonEl.style.display =\n",
              "          google.colab.kernel.accessAllowed ? 'block' : 'none';\n",
              "\n",
              "        async function convertToInteractive(key) {\n",
              "          const element = document.querySelector('#df-2cf9f8f6-b3fd-40bd-bef0-ed4f1cda98b3');\n",
              "          const dataTable =\n",
              "            await google.colab.kernel.invokeFunction('convertToInteractive',\n",
              "                                                     [key], {});\n",
              "          if (!dataTable) return;\n",
              "\n",
              "          const docLinkHtml = 'Like what you see? Visit the ' +\n",
              "            '<a target=\"_blank\" href=https://colab.research.google.com/notebooks/data_table.ipynb>data table notebook</a>'\n",
              "            + ' to learn more about interactive tables.';\n",
              "          element.innerHTML = '';\n",
              "          dataTable['output_type'] = 'display_data';\n",
              "          await google.colab.output.renderOutput(dataTable, element);\n",
              "          const docLink = document.createElement('div');\n",
              "          docLink.innerHTML = docLinkHtml;\n",
              "          element.appendChild(docLink);\n",
              "        }\n",
              "      </script>\n",
              "    </div>\n",
              "  </div>\n",
              "  "
            ],
            "text/plain": [
              "                                            Text title  ...                                     Topic_Keywords\n",
              "0                         Accidents at work statistics  ...  transport, accid, internet, passeng, fatal, fr...\n",
              "1                            National accounts and GDP  ...  decreas, quarter, luxembourg, greec, cypru, ir...\n",
              "2                  Railway safety statistics in the EU  ...  transport, accid, internet, passeng, fatal, fr...\n",
              "3                 Railway freight transport statistics  ...  transport, accid, internet, passeng, fatal, fr...\n",
              "4    Railway passenger transport statistics - quart...  ...  decreas, quarter, luxembourg, greec, cypru, ir...\n",
              "..                                                 ...  ...                                                ...\n",
              "860  Merging statistics and geospatial information,...  ...  survei, agricultur, regist, common, sourc, sam...\n",
              "861  Merging statistics and geospatial information,...  ...  survei, agricultur, regist, common, sourc, sam...\n",
              "862  Methods for compiling PEEIs in short-term busi...  ...  servic, industri, activ, trade, construct, sup...\n",
              "863  Building the System of National Accounts - adm...  ...  expenditur, financi, govern, benefit, social, ...\n",
              "864                       Asylum statistics introduced  ...  citizen, foreign, resid, immigr, nativ, first,...\n",
              "\n",
              "[865 rows x 5 columns]"
            ]
          },
          "metadata": {},
          "execution_count": 18
        }
      ],
      "source": [
        "df_topic_sents_keywords = format_topics_sentences(ldamodel=lda_model, corpus=corpus)\n",
        "df_topic_sents_keywords.rename(columns = {0:'Text tokenized definition'}, inplace = True)\n",
        "df_topic_sents_keywords.rename(columns = {'title':'Text title'}, inplace = True)\n",
        "df_topic_sents_keywords = df_topic_sents_keywords[['Text title','Text tokenized definition','Dominant_Topic', 'Perc_Contribution', 'Topic_Keywords']]\n",
        "df_topic_sents_keywords['Dominant_Topic'] = df_topic_sents_keywords['Dominant_Topic'].astype(int)\n",
        "df_topic_sents_keywords\n"
      ]
    },
    {
      "cell_type": "markdown",
      "metadata": {
        "id": "gCQetkeccekI"
      },
      "source": [
        "### 7. Most representative document for each topic.\n",
        "***\n",
        "\n",
        "Here, we are searching for the reverse, i.e. we want to find the document that best represents a given topic.We create the dataframe _sent_topics_sorteddf_mallet_ to store the results."
      ]
    },
    {
      "cell_type": "code",
      "execution_count": 19,
      "metadata": {
        "id": "xCPemmk3cekI",
        "outputId": "01d748f7-8687-4232-9a76-7bcdfe2734dd",
        "colab": {
          "base_uri": "https://localhost:8080/",
          "height": 676
        }
      },
      "outputs": [
        {
          "output_type": "execute_result",
          "data": {
            "text/html": [
              "\n",
              "  <div id=\"df-dcc0af70-570a-4e8b-8394-222ec4a61d3e\">\n",
              "    <div class=\"colab-df-container\">\n",
              "      <div>\n",
              "<style scoped>\n",
              "    .dataframe tbody tr th:only-of-type {\n",
              "        vertical-align: middle;\n",
              "    }\n",
              "\n",
              "    .dataframe tbody tr th {\n",
              "        vertical-align: top;\n",
              "    }\n",
              "\n",
              "    .dataframe thead th {\n",
              "        text-align: right;\n",
              "    }\n",
              "</style>\n",
              "<table border=\"1\" class=\"dataframe\">\n",
              "  <thead>\n",
              "    <tr style=\"text-align: right;\">\n",
              "      <th></th>\n",
              "      <th>Topic_Num</th>\n",
              "      <th>Topic_Perc_Contrib</th>\n",
              "      <th>Topic Keywords</th>\n",
              "      <th>Text title</th>\n",
              "    </tr>\n",
              "  </thead>\n",
              "  <tbody>\n",
              "    <tr>\n",
              "      <th>0</th>\n",
              "      <td>0</td>\n",
              "      <td>0.9974</td>\n",
              "      <td>export, billion, trade, china, partner, world,...</td>\n",
              "      <td>South Korea-EU - international trade in goods ...</td>\n",
              "    </tr>\n",
              "    <tr>\n",
              "      <th>1</th>\n",
              "      <td>1</td>\n",
              "      <td>0.8366</td>\n",
              "      <td>transport, accid, internet, passeng, fatal, fr...</td>\n",
              "      <td>Inland waterway transport statistics</td>\n",
              "    </tr>\n",
              "    <tr>\n",
              "      <th>2</th>\n",
              "      <td>2</td>\n",
              "      <td>0.7924</td>\n",
              "      <td>candid, permit, turkei, potenti, serbia, north...</td>\n",
              "      <td>Enlargement countries - population statistics</td>\n",
              "    </tr>\n",
              "    <tr>\n",
              "      <th>3</th>\n",
              "      <td>3</td>\n",
              "      <td>0.9991</td>\n",
              "      <td>region, million, project, franc, itali, german...</td>\n",
              "      <td>Archive:Statistics on regional population proj...</td>\n",
              "    </tr>\n",
              "    <tr>\n",
              "      <th>4</th>\n",
              "      <td>4</td>\n",
              "      <td>0.9531</td>\n",
              "      <td>energi, consumpt, electr, renew, final, primar...</td>\n",
              "      <td>Calculation methodologies for the share of ren...</td>\n",
              "    </tr>\n",
              "    <tr>\n",
              "      <th>5</th>\n",
              "      <td>5</td>\n",
              "      <td>0.9687</td>\n",
              "      <td>survei, agricultur, regist, common, sourc, sam...</td>\n",
              "      <td>Merging statistics and geospatial information,...</td>\n",
              "    </tr>\n",
              "    <tr>\n",
              "      <th>6</th>\n",
              "      <td>6</td>\n",
              "      <td>0.7360</td>\n",
              "      <td>employ, labour, unemploy, emploi, person, empl...</td>\n",
              "      <td>Learning mobility statistics</td>\n",
              "    </tr>\n",
              "    <tr>\n",
              "      <th>7</th>\n",
              "      <td>7</td>\n",
              "      <td>0.9945</td>\n",
              "      <td>system, intern, polici, qualiti, eurostat, imp...</td>\n",
              "      <td>Enlargement policy and the acquis in statistics</td>\n",
              "    </tr>\n",
              "    <tr>\n",
              "      <th>8</th>\n",
              "      <td>8</td>\n",
              "      <td>0.9446</td>\n",
              "      <td>enterpris, sector, activ, economi, servic, emp...</td>\n",
              "      <td>Information and communication service statisti...</td>\n",
              "    </tr>\n",
              "    <tr>\n",
              "      <th>9</th>\n",
              "      <td>9</td>\n",
              "      <td>0.8415</td>\n",
              "      <td>emiss, environment, materi, million, pollut, c...</td>\n",
              "      <td>Chemicals production and consumption statistics</td>\n",
              "    </tr>\n",
              "    <tr>\n",
              "      <th>10</th>\n",
              "      <td>10</td>\n",
              "      <td>0.9201</td>\n",
              "      <td>expenditur, financi, govern, benefit, social, ...</td>\n",
              "      <td>Integrated government finance statistics prese...</td>\n",
              "    </tr>\n",
              "    <tr>\n",
              "      <th>11</th>\n",
              "      <td>11</td>\n",
              "      <td>0.9993</td>\n",
              "      <td>region, urban, typolog, commut, rural, classif...</td>\n",
              "      <td>Chapter 3</td>\n",
              "    </tr>\n",
              "    <tr>\n",
              "      <th>12</th>\n",
              "      <td>12</td>\n",
              "      <td>0.9994</td>\n",
              "      <td>household, incom, poverti, social, person, var...</td>\n",
              "      <td>EU statistics on income and living conditions ...</td>\n",
              "    </tr>\n",
              "    <tr>\n",
              "      <th>13</th>\n",
              "      <td>13</td>\n",
              "      <td>0.9450</td>\n",
              "      <td>night, tourism, spent, water, tourist, resid, ...</td>\n",
              "      <td>Tourism in the EU - what a normal summer seaso...</td>\n",
              "    </tr>\n",
              "    <tr>\n",
              "      <th>14</th>\n",
              "      <td>14</td>\n",
              "      <td>0.8705</td>\n",
              "      <td>citizen, foreign, resid, immigr, nativ, first,...</td>\n",
              "      <td>First and second-generation immigrants ? obsta...</td>\n",
              "    </tr>\n",
              "    <tr>\n",
              "      <th>15</th>\n",
              "      <td>15</td>\n",
              "      <td>0.9173</td>\n",
              "      <td>decreas, quarter, luxembourg, greec, cypru, ir...</td>\n",
              "      <td>Job vacancy statistics</td>\n",
              "    </tr>\n",
              "    <tr>\n",
              "      <th>16</th>\n",
              "      <td>16</td>\n",
              "      <td>0.8627</td>\n",
              "      <td>price, index, consum, volum, household, ukrain...</td>\n",
              "      <td>Comparative price levels for investment</td>\n",
              "    </tr>\n",
              "    <tr>\n",
              "      <th>17</th>\n",
              "      <td>17</td>\n",
              "      <td>0.9960</td>\n",
              "      <td>health, death, inhabit, women, diseas, peopl, ...</td>\n",
              "      <td>Causes of death statistics - people over 65</td>\n",
              "    </tr>\n",
              "    <tr>\n",
              "      <th>18</th>\n",
              "      <td>18</td>\n",
              "      <td>0.9949</td>\n",
              "      <td>peopl, young, point, women, activ, children, p...</td>\n",
              "      <td>Culture statistics - cultural participation</td>\n",
              "    </tr>\n",
              "    <tr>\n",
              "      <th>19</th>\n",
              "      <td>19</td>\n",
              "      <td>0.9370</td>\n",
              "      <td>servic, industri, activ, trade, construct, sup...</td>\n",
              "      <td>Services production (volume) index overview</td>\n",
              "    </tr>\n",
              "  </tbody>\n",
              "</table>\n",
              "</div>\n",
              "      <button class=\"colab-df-convert\" onclick=\"convertToInteractive('df-dcc0af70-570a-4e8b-8394-222ec4a61d3e')\"\n",
              "              title=\"Convert this dataframe to an interactive table.\"\n",
              "              style=\"display:none;\">\n",
              "        \n",
              "  <svg xmlns=\"http://www.w3.org/2000/svg\" height=\"24px\"viewBox=\"0 0 24 24\"\n",
              "       width=\"24px\">\n",
              "    <path d=\"M0 0h24v24H0V0z\" fill=\"none\"/>\n",
              "    <path d=\"M18.56 5.44l.94 2.06.94-2.06 2.06-.94-2.06-.94-.94-2.06-.94 2.06-2.06.94zm-11 1L8.5 8.5l.94-2.06 2.06-.94-2.06-.94L8.5 2.5l-.94 2.06-2.06.94zm10 10l.94 2.06.94-2.06 2.06-.94-2.06-.94-.94-2.06-.94 2.06-2.06.94z\"/><path d=\"M17.41 7.96l-1.37-1.37c-.4-.4-.92-.59-1.43-.59-.52 0-1.04.2-1.43.59L10.3 9.45l-7.72 7.72c-.78.78-.78 2.05 0 2.83L4 21.41c.39.39.9.59 1.41.59.51 0 1.02-.2 1.41-.59l7.78-7.78 2.81-2.81c.8-.78.8-2.07 0-2.86zM5.41 20L4 18.59l7.72-7.72 1.47 1.35L5.41 20z\"/>\n",
              "  </svg>\n",
              "      </button>\n",
              "      \n",
              "  <style>\n",
              "    .colab-df-container {\n",
              "      display:flex;\n",
              "      flex-wrap:wrap;\n",
              "      gap: 12px;\n",
              "    }\n",
              "\n",
              "    .colab-df-convert {\n",
              "      background-color: #E8F0FE;\n",
              "      border: none;\n",
              "      border-radius: 50%;\n",
              "      cursor: pointer;\n",
              "      display: none;\n",
              "      fill: #1967D2;\n",
              "      height: 32px;\n",
              "      padding: 0 0 0 0;\n",
              "      width: 32px;\n",
              "    }\n",
              "\n",
              "    .colab-df-convert:hover {\n",
              "      background-color: #E2EBFA;\n",
              "      box-shadow: 0px 1px 2px rgba(60, 64, 67, 0.3), 0px 1px 3px 1px rgba(60, 64, 67, 0.15);\n",
              "      fill: #174EA6;\n",
              "    }\n",
              "\n",
              "    [theme=dark] .colab-df-convert {\n",
              "      background-color: #3B4455;\n",
              "      fill: #D2E3FC;\n",
              "    }\n",
              "\n",
              "    [theme=dark] .colab-df-convert:hover {\n",
              "      background-color: #434B5C;\n",
              "      box-shadow: 0px 1px 3px 1px rgba(0, 0, 0, 0.15);\n",
              "      filter: drop-shadow(0px 1px 2px rgba(0, 0, 0, 0.3));\n",
              "      fill: #FFFFFF;\n",
              "    }\n",
              "  </style>\n",
              "\n",
              "      <script>\n",
              "        const buttonEl =\n",
              "          document.querySelector('#df-dcc0af70-570a-4e8b-8394-222ec4a61d3e button.colab-df-convert');\n",
              "        buttonEl.style.display =\n",
              "          google.colab.kernel.accessAllowed ? 'block' : 'none';\n",
              "\n",
              "        async function convertToInteractive(key) {\n",
              "          const element = document.querySelector('#df-dcc0af70-570a-4e8b-8394-222ec4a61d3e');\n",
              "          const dataTable =\n",
              "            await google.colab.kernel.invokeFunction('convertToInteractive',\n",
              "                                                     [key], {});\n",
              "          if (!dataTable) return;\n",
              "\n",
              "          const docLinkHtml = 'Like what you see? Visit the ' +\n",
              "            '<a target=\"_blank\" href=https://colab.research.google.com/notebooks/data_table.ipynb>data table notebook</a>'\n",
              "            + ' to learn more about interactive tables.';\n",
              "          element.innerHTML = '';\n",
              "          dataTable['output_type'] = 'display_data';\n",
              "          await google.colab.output.renderOutput(dataTable, element);\n",
              "          const docLink = document.createElement('div');\n",
              "          docLink.innerHTML = docLinkHtml;\n",
              "          element.appendChild(docLink);\n",
              "        }\n",
              "      </script>\n",
              "    </div>\n",
              "  </div>\n",
              "  "
            ],
            "text/plain": [
              "    Topic_Num  ...                                         Text title\n",
              "0           0  ...  South Korea-EU - international trade in goods ...\n",
              "1           1  ...               Inland waterway transport statistics\n",
              "2           2  ...      Enlargement countries - population statistics\n",
              "3           3  ...  Archive:Statistics on regional population proj...\n",
              "4           4  ...  Calculation methodologies for the share of ren...\n",
              "5           5  ...  Merging statistics and geospatial information,...\n",
              "6           6  ...                       Learning mobility statistics\n",
              "7           7  ...    Enlargement policy and the acquis in statistics\n",
              "8           8  ...  Information and communication service statisti...\n",
              "9           9  ...    Chemicals production and consumption statistics\n",
              "10         10  ...  Integrated government finance statistics prese...\n",
              "11         11  ...                                          Chapter 3\n",
              "12         12  ...  EU statistics on income and living conditions ...\n",
              "13         13  ...  Tourism in the EU - what a normal summer seaso...\n",
              "14         14  ...  First and second-generation immigrants ? obsta...\n",
              "15         15  ...                             Job vacancy statistics\n",
              "16         16  ...            Comparative price levels for investment\n",
              "17         17  ...        Causes of death statistics - people over 65\n",
              "18         18  ...        Culture statistics - cultural participation\n",
              "19         19  ...        Services production (volume) index overview\n",
              "\n",
              "[20 rows x 4 columns]"
            ]
          },
          "metadata": {},
          "execution_count": 19
        }
      ],
      "source": [
        "# Group top 5 sentences under each topic\n",
        "sent_topics_sorteddf_mallet = pd.DataFrame()\n",
        "\n",
        "sent_topics_outdf_grpd = df_topic_sents_keywords[['Text title','Dominant_Topic', 'Perc_Contribution', 'Topic_Keywords']].groupby('Dominant_Topic')\n",
        "\n",
        "for i, grp in sent_topics_outdf_grpd:\n",
        "    sent_topics_sorteddf_mallet = pd.concat([sent_topics_sorteddf_mallet, \n",
        "                                             grp.sort_values(['Perc_Contribution'], ascending=[0]).head(1)], \n",
        "                                             axis=0)\n",
        "\n",
        "sent_topics_sorteddf_mallet.reset_index(drop=True, inplace=True)\n",
        "\n",
        "sent_topics_sorteddf_mallet.columns = ['Text title','Topic_Num', 'Topic_Perc_Contrib', 'Topic Keywords' ]\n",
        "sent_topics_sorteddf_mallet = sent_topics_sorteddf_mallet[['Topic_Num', 'Topic_Perc_Contrib', 'Topic Keywords','Text title']]\n",
        "\n",
        "sent_topics_sorteddf_mallet"
      ]
    },
    {
      "cell_type": "markdown",
      "metadata": {
        "id": "7S3O4h3ecekJ"
      },
      "source": [
        "### 8. The topics as a mix of keywords.\n",
        "***\n",
        "\n",
        "The above LDA model is built with 20 different topics where each topic is a combination of keywords and each keyword contributes with a certain weight to the topic.  This mix of keywords (limited to the top 10 keywords) is shown below, for each topic.\n"
      ]
    },
    {
      "cell_type": "code",
      "execution_count": 20,
      "metadata": {
        "id": "U_PivlepcekJ",
        "outputId": "acc0f2b6-b3e9-46cf-e2ae-934863971e9e",
        "colab": {
          "base_uri": "https://localhost:8080/"
        }
      },
      "outputs": [
        {
          "output_type": "stream",
          "name": "stdout",
          "text": [
            "[(0,\n",
            "  '0.086*\"export\" + 0.084*\"billion\" + 0.078*\"trade\" + 0.022*\"china\" + '\n",
            "  '0.021*\"partner\" + 0.017*\"world\" + 0.016*\"kingdom\" + 0.015*\"manufactur\" + '\n",
            "  '0.015*\"deficit\" + 0.014*\"south\"'),\n",
            " (1,\n",
            "  '0.092*\"transport\" + 0.045*\"accid\" + 0.037*\"internet\" + 0.032*\"passeng\" + '\n",
            "  '0.029*\"fatal\" + 0.021*\"freight\" + 0.015*\"regist\" + 0.014*\"perform\" + '\n",
            "  '0.014*\"million\" + 0.013*\"kilometr\"'),\n",
            " (2,\n",
            "  '0.083*\"candid\" + 0.066*\"permit\" + 0.046*\"turkei\" + 0.040*\"potenti\" + '\n",
            "  '0.038*\"serbia\" + 0.037*\"north\" + 0.035*\"macedonia\" + 0.033*\"montenegro\" + '\n",
            "  '0.024*\"bosnia\" + 0.024*\"albania\"'),\n",
            " (3,\n",
            "  '0.101*\"region\" + 0.027*\"million\" + 0.021*\"project\" + 0.016*\"franc\" + '\n",
            "  '0.016*\"itali\" + 0.016*\"germani\" + 0.014*\"spain\" + 0.012*\"asean\" + '\n",
            "  '0.011*\"capit\" + 0.009*\"cover\"'),\n",
            " (4,\n",
            "  '0.143*\"energi\" + 0.053*\"consumpt\" + 0.036*\"electr\" + 0.022*\"renew\" + '\n",
            "  '0.018*\"final\" + 0.017*\"primari\" + 0.016*\"sector\" + 0.016*\"gross\" + '\n",
            "  '0.015*\"natur\" + 0.015*\"balanc\"'),\n",
            " (5,\n",
            "  '0.030*\"survei\" + 0.024*\"agricultur\" + 0.021*\"regist\" + 0.017*\"common\" + '\n",
            "  '0.015*\"sourc\" + 0.015*\"sampl\" + 0.013*\"administr\" + 0.011*\"collect\" + '\n",
            "  '0.011*\"organ\" + 0.010*\"characterist\"'),\n",
            " (6,\n",
            "  '0.102*\"employ\" + 0.053*\"labour\" + 0.050*\"unemploy\" + 0.049*\"emploi\" + '\n",
            "  '0.049*\"person\" + 0.022*\"employe\" + 0.022*\"student\" + 0.021*\"worker\" + '\n",
            "  '0.021*\"women\" + 0.019*\"peopl\"'),\n",
            " (7,\n",
            "  '0.013*\"system\" + 0.012*\"intern\" + 0.012*\"polici\" + 0.012*\"qualiti\" + '\n",
            "  '0.011*\"eurostat\" + 0.011*\"implement\" + 0.009*\"improv\" + 0.009*\"commiss\" + '\n",
            "  '0.009*\"regul\" + 0.009*\"collect\"'),\n",
            " (8,\n",
            "  '0.120*\"enterpris\" + 0.052*\"sector\" + 0.040*\"activ\" + 0.036*\"economi\" + '\n",
            "  '0.029*\"servic\" + 0.027*\"emploi\" + 0.025*\"person\" + 0.023*\"financi\" + '\n",
            "  '0.021*\"cultur\" + 0.018*\"employ\"'),\n",
            " (9,\n",
            "  '0.054*\"emiss\" + 0.042*\"environment\" + 0.034*\"materi\" + 0.019*\"million\" + '\n",
            "  '0.018*\"pollut\" + 0.018*\"climat\" + 0.017*\"resourc\" + 0.016*\"recycl\" + '\n",
            "  '0.014*\"trend\" + 0.014*\"amount\"'),\n",
            " (10,\n",
            "  '0.044*\"expenditur\" + 0.027*\"financi\" + 0.026*\"govern\" + 0.019*\"benefit\" + '\n",
            "  '0.018*\"social\" + 0.014*\"incom\" + 0.013*\"compil\" + 0.013*\"asset\" + '\n",
            "  '0.012*\"estim\" + 0.010*\"transact\"'),\n",
            " (11,\n",
            "  '0.062*\"region\" + 0.047*\"urban\" + 0.024*\"typolog\" + 0.023*\"commut\" + '\n",
            "  '0.021*\"rural\" + 0.017*\"classif\" + 0.015*\"inhabit\" + 0.014*\"territori\" + '\n",
            "  '0.013*\"cluster\" + 0.013*\"centr\"'),\n",
            " (12,\n",
            "  '0.072*\"household\" + 0.066*\"incom\" + 0.040*\"poverti\" + 0.025*\"social\" + '\n",
            "  '0.021*\"person\" + 0.017*\"variabl\" + 0.017*\"calcul\" + 0.017*\"refer\" + '\n",
            "  '0.016*\"dimens\" + 0.014*\"depriv\"'),\n",
            " (13,\n",
            "  '0.040*\"night\" + 0.038*\"tourism\" + 0.036*\"spent\" + 0.035*\"water\" + '\n",
            "  '0.034*\"tourist\" + 0.026*\"resid\" + 0.024*\"million\" + 0.024*\"accommod\" + '\n",
            "  '0.016*\"month\" + 0.013*\"season\"'),\n",
            " (14,\n",
            "  '0.071*\"citizen\" + 0.038*\"foreign\" + 0.034*\"resid\" + 0.032*\"immigr\" + '\n",
            "  '0.030*\"nativ\" + 0.025*\"first\" + 0.023*\"applic\" + 0.022*\"migrat\" + '\n",
            "  '0.021*\"asylum\" + 0.016*\"citizenship\"'),\n",
            " (15,\n",
            "  '0.031*\"decreas\" + 0.030*\"quarter\" + 0.021*\"luxembourg\" + 0.021*\"greec\" + '\n",
            "  '0.020*\"cypru\" + 0.019*\"ireland\" + 0.018*\"romania\" + 0.018*\"germani\" + '\n",
            "  '0.018*\"spain\" + 0.018*\"franc\"'),\n",
            " (16,\n",
            "  '0.135*\"price\" + 0.024*\"index\" + 0.022*\"consum\" + 0.020*\"volum\" + '\n",
            "  '0.018*\"household\" + 0.016*\"ukrain\" + 0.014*\"market\" + 0.014*\"weight\" + '\n",
            "  '0.013*\"belaru\" + 0.013*\"capita\"'),\n",
            " (17,\n",
            "  '0.060*\"health\" + 0.047*\"death\" + 0.031*\"inhabit\" + 0.024*\"women\" + '\n",
            "  '0.020*\"diseas\" + 0.016*\"peopl\" + 0.016*\"cancer\" + 0.016*\"expect\" + '\n",
            "  '0.014*\"patient\" + 0.014*\"medic\"'),\n",
            " (18,\n",
            "  '0.063*\"peopl\" + 0.029*\"young\" + 0.027*\"point\" + 0.019*\"women\" + '\n",
            "  '0.018*\"activ\" + 0.017*\"children\" + 0.017*\"proport\" + 0.016*\"percentag\" + '\n",
            "  '0.016*\"older\" + 0.015*\"particip\"'),\n",
            " (19,\n",
            "  '0.078*\"servic\" + 0.044*\"industri\" + 0.033*\"activ\" + 0.023*\"trade\" + '\n",
            "  '0.018*\"construct\" + 0.016*\"suppli\" + 0.013*\"produc\" + 0.012*\"manufactur\" + '\n",
            "  '0.012*\"transport\" + 0.012*\"effect\"')]\n"
          ]
        }
      ],
      "source": [
        "pprint(lda_model.print_topics())\n",
        "\n",
        "## equivalently:\n",
        "##for i in range(num_topics):\n",
        "##    print([(id2word[term_id],prob) for (term_id,prob) in lda_model.get_topic_terms(i,topn=10)],'\\n')"
      ]
    },
    {
      "cell_type": "markdown",
      "metadata": {
        "id": "-04C447ecekK"
      },
      "source": [
        "### 9. Dominant topics.\n",
        "***\n",
        "\n",
        "\n",
        "To better understand the volume and distribution of topics, we construct the dataframe _df_dominant_topics_ with relevant information.\n"
      ]
    },
    {
      "cell_type": "code",
      "execution_count": 21,
      "metadata": {
        "id": "xzb6BHWdcekK",
        "outputId": "46058c74-adfd-4726-914e-7337e9b9c820",
        "colab": {
          "base_uri": "https://localhost:8080/",
          "height": 424
        }
      },
      "outputs": [
        {
          "output_type": "execute_result",
          "data": {
            "text/html": [
              "\n",
              "  <div id=\"df-65e0f84a-3046-4e6e-b8ed-e5a6c2a864ef\">\n",
              "    <div class=\"colab-df-container\">\n",
              "      <div>\n",
              "<style scoped>\n",
              "    .dataframe tbody tr th:only-of-type {\n",
              "        vertical-align: middle;\n",
              "    }\n",
              "\n",
              "    .dataframe tbody tr th {\n",
              "        vertical-align: top;\n",
              "    }\n",
              "\n",
              "    .dataframe thead th {\n",
              "        text-align: right;\n",
              "    }\n",
              "</style>\n",
              "<table border=\"1\" class=\"dataframe\">\n",
              "  <thead>\n",
              "    <tr style=\"text-align: right;\">\n",
              "      <th></th>\n",
              "      <th>Dominant_Topic</th>\n",
              "      <th>Topic_Keywords</th>\n",
              "      <th>Num_Documents</th>\n",
              "      <th>Perc_Documents</th>\n",
              "    </tr>\n",
              "  </thead>\n",
              "  <tbody>\n",
              "    <tr>\n",
              "      <th>0</th>\n",
              "      <td>1</td>\n",
              "      <td>transport, accid, internet, passeng, fatal, fr...</td>\n",
              "      <td>65.0</td>\n",
              "      <td>0.0751</td>\n",
              "    </tr>\n",
              "    <tr>\n",
              "      <th>1</th>\n",
              "      <td>15</td>\n",
              "      <td>decreas, quarter, luxembourg, greec, cypru, ir...</td>\n",
              "      <td>37.0</td>\n",
              "      <td>0.0428</td>\n",
              "    </tr>\n",
              "    <tr>\n",
              "      <th>2</th>\n",
              "      <td>1</td>\n",
              "      <td>transport, accid, internet, passeng, fatal, fr...</td>\n",
              "      <td>12.0</td>\n",
              "      <td>0.0139</td>\n",
              "    </tr>\n",
              "    <tr>\n",
              "      <th>3</th>\n",
              "      <td>1</td>\n",
              "      <td>transport, accid, internet, passeng, fatal, fr...</td>\n",
              "      <td>41.0</td>\n",
              "      <td>0.0474</td>\n",
              "    </tr>\n",
              "    <tr>\n",
              "      <th>4</th>\n",
              "      <td>15</td>\n",
              "      <td>decreas, quarter, luxembourg, greec, cypru, ir...</td>\n",
              "      <td>30.0</td>\n",
              "      <td>0.0347</td>\n",
              "    </tr>\n",
              "    <tr>\n",
              "      <th>...</th>\n",
              "      <td>...</td>\n",
              "      <td>...</td>\n",
              "      <td>...</td>\n",
              "      <td>...</td>\n",
              "    </tr>\n",
              "    <tr>\n",
              "      <th>860</th>\n",
              "      <td>5</td>\n",
              "      <td>survei, agricultur, regist, common, sourc, sam...</td>\n",
              "      <td>NaN</td>\n",
              "      <td>NaN</td>\n",
              "    </tr>\n",
              "    <tr>\n",
              "      <th>861</th>\n",
              "      <td>5</td>\n",
              "      <td>survei, agricultur, regist, common, sourc, sam...</td>\n",
              "      <td>NaN</td>\n",
              "      <td>NaN</td>\n",
              "    </tr>\n",
              "    <tr>\n",
              "      <th>862</th>\n",
              "      <td>19</td>\n",
              "      <td>servic, industri, activ, trade, construct, sup...</td>\n",
              "      <td>NaN</td>\n",
              "      <td>NaN</td>\n",
              "    </tr>\n",
              "    <tr>\n",
              "      <th>863</th>\n",
              "      <td>10</td>\n",
              "      <td>expenditur, financi, govern, benefit, social, ...</td>\n",
              "      <td>NaN</td>\n",
              "      <td>NaN</td>\n",
              "    </tr>\n",
              "    <tr>\n",
              "      <th>864</th>\n",
              "      <td>14</td>\n",
              "      <td>citizen, foreign, resid, immigr, nativ, first,...</td>\n",
              "      <td>NaN</td>\n",
              "      <td>NaN</td>\n",
              "    </tr>\n",
              "  </tbody>\n",
              "</table>\n",
              "<p>865 rows × 4 columns</p>\n",
              "</div>\n",
              "      <button class=\"colab-df-convert\" onclick=\"convertToInteractive('df-65e0f84a-3046-4e6e-b8ed-e5a6c2a864ef')\"\n",
              "              title=\"Convert this dataframe to an interactive table.\"\n",
              "              style=\"display:none;\">\n",
              "        \n",
              "  <svg xmlns=\"http://www.w3.org/2000/svg\" height=\"24px\"viewBox=\"0 0 24 24\"\n",
              "       width=\"24px\">\n",
              "    <path d=\"M0 0h24v24H0V0z\" fill=\"none\"/>\n",
              "    <path d=\"M18.56 5.44l.94 2.06.94-2.06 2.06-.94-2.06-.94-.94-2.06-.94 2.06-2.06.94zm-11 1L8.5 8.5l.94-2.06 2.06-.94-2.06-.94L8.5 2.5l-.94 2.06-2.06.94zm10 10l.94 2.06.94-2.06 2.06-.94-2.06-.94-.94-2.06-.94 2.06-2.06.94z\"/><path d=\"M17.41 7.96l-1.37-1.37c-.4-.4-.92-.59-1.43-.59-.52 0-1.04.2-1.43.59L10.3 9.45l-7.72 7.72c-.78.78-.78 2.05 0 2.83L4 21.41c.39.39.9.59 1.41.59.51 0 1.02-.2 1.41-.59l7.78-7.78 2.81-2.81c.8-.78.8-2.07 0-2.86zM5.41 20L4 18.59l7.72-7.72 1.47 1.35L5.41 20z\"/>\n",
              "  </svg>\n",
              "      </button>\n",
              "      \n",
              "  <style>\n",
              "    .colab-df-container {\n",
              "      display:flex;\n",
              "      flex-wrap:wrap;\n",
              "      gap: 12px;\n",
              "    }\n",
              "\n",
              "    .colab-df-convert {\n",
              "      background-color: #E8F0FE;\n",
              "      border: none;\n",
              "      border-radius: 50%;\n",
              "      cursor: pointer;\n",
              "      display: none;\n",
              "      fill: #1967D2;\n",
              "      height: 32px;\n",
              "      padding: 0 0 0 0;\n",
              "      width: 32px;\n",
              "    }\n",
              "\n",
              "    .colab-df-convert:hover {\n",
              "      background-color: #E2EBFA;\n",
              "      box-shadow: 0px 1px 2px rgba(60, 64, 67, 0.3), 0px 1px 3px 1px rgba(60, 64, 67, 0.15);\n",
              "      fill: #174EA6;\n",
              "    }\n",
              "\n",
              "    [theme=dark] .colab-df-convert {\n",
              "      background-color: #3B4455;\n",
              "      fill: #D2E3FC;\n",
              "    }\n",
              "\n",
              "    [theme=dark] .colab-df-convert:hover {\n",
              "      background-color: #434B5C;\n",
              "      box-shadow: 0px 1px 3px 1px rgba(0, 0, 0, 0.15);\n",
              "      filter: drop-shadow(0px 1px 2px rgba(0, 0, 0, 0.3));\n",
              "      fill: #FFFFFF;\n",
              "    }\n",
              "  </style>\n",
              "\n",
              "      <script>\n",
              "        const buttonEl =\n",
              "          document.querySelector('#df-65e0f84a-3046-4e6e-b8ed-e5a6c2a864ef button.colab-df-convert');\n",
              "        buttonEl.style.display =\n",
              "          google.colab.kernel.accessAllowed ? 'block' : 'none';\n",
              "\n",
              "        async function convertToInteractive(key) {\n",
              "          const element = document.querySelector('#df-65e0f84a-3046-4e6e-b8ed-e5a6c2a864ef');\n",
              "          const dataTable =\n",
              "            await google.colab.kernel.invokeFunction('convertToInteractive',\n",
              "                                                     [key], {});\n",
              "          if (!dataTable) return;\n",
              "\n",
              "          const docLinkHtml = 'Like what you see? Visit the ' +\n",
              "            '<a target=\"_blank\" href=https://colab.research.google.com/notebooks/data_table.ipynb>data table notebook</a>'\n",
              "            + ' to learn more about interactive tables.';\n",
              "          element.innerHTML = '';\n",
              "          dataTable['output_type'] = 'display_data';\n",
              "          await google.colab.output.renderOutput(dataTable, element);\n",
              "          const docLink = document.createElement('div');\n",
              "          docLink.innerHTML = docLinkHtml;\n",
              "          element.appendChild(docLink);\n",
              "        }\n",
              "      </script>\n",
              "    </div>\n",
              "  </div>\n",
              "  "
            ],
            "text/plain": [
              "     Dominant_Topic  ... Perc_Documents\n",
              "0                 1  ...         0.0751\n",
              "1                15  ...         0.0428\n",
              "2                 1  ...         0.0139\n",
              "3                 1  ...         0.0474\n",
              "4                15  ...         0.0347\n",
              "..              ...  ...            ...\n",
              "860               5  ...            NaN\n",
              "861               5  ...            NaN\n",
              "862              19  ...            NaN\n",
              "863              10  ...            NaN\n",
              "864              14  ...            NaN\n",
              "\n",
              "[865 rows x 4 columns]"
            ]
          },
          "metadata": {},
          "execution_count": 21
        }
      ],
      "source": [
        "#Topic distribution across documents\n",
        "\n",
        "# Number of Documents for Each Topic\n",
        "topic_counts = df_topic_sents_keywords['Dominant_Topic'].value_counts()\n",
        "\n",
        "# Percentage of Documents for Each Topic\n",
        "topic_contribution = round(topic_counts/topic_counts.sum(), 4)\n",
        "\n",
        "# Topic Number and Keywords\n",
        "topic_num_keywords = df_topic_sents_keywords[['Dominant_Topic', 'Topic_Keywords']]\n",
        "\n",
        "# Concatenate Column wise\n",
        "df_dominant_topics = pd.concat([topic_num_keywords, topic_counts, topic_contribution], axis=1)\n",
        "\n",
        "# Change Column names\n",
        "df_dominant_topics.columns = ['Dominant_Topic', 'Topic_Keywords', 'Num_Documents', 'Perc_Documents']\n",
        "\n",
        "# Show\n",
        "df_dominant_topics"
      ]
    },
    {
      "cell_type": "markdown",
      "metadata": {
        "id": "-sLzWDDucekL"
      },
      "source": [
        "### 10. Visualization of the topics.\n",
        "***\n",
        "\n",
        "To visualize the fitted LDA model we use the _pyLDAvis_ package. This is the Python porting of the R package _LDAvis_, see [LDAvis vignette](https://cran.r-project.org/web/packages/LDAvis/vignettes/details.pdf) for details and Chuang, Jason, Manning, Christopher D., and Heer, Jeffrey (2012). Termite: Visualization Techniques for Assessing Textual Topic Models, *Advanced Visual Interfaces* for the theory behind the visualization algorithm. The paper is available [here](https://dl.acm.org/doi/pdf/10.1145/2254556.2254572?casa_token=q2BavKP415QAAAAA:MhcYHzz4PJpC7dNkkm12GL-ohQRUXBgumPJ9l1t_5n3M4qVE1kdDqKGfPmtnR7qbale_ukS-2nJs). \n",
        "\n",
        "Note that the parameter _sort_topics=False_ in the call to function _pyLDAvis.gensim_models.prepare()_ is necessary, otherwise the numbering of the topics is different than the one in the rest of the analysis. Also, **the numbering of the topics start from zero**."
      ]
    },
    {
      "cell_type": "code",
      "execution_count": 22,
      "metadata": {
        "id": "RT-STev-cekL",
        "outputId": "d9a6c664-f123-443f-a437-bcb860db9ddf",
        "colab": {
          "base_uri": "https://localhost:8080/",
          "height": 915
        }
      },
      "outputs": [
        {
          "output_type": "stream",
          "name": "stderr",
          "text": [
            "/usr/local/lib/python3.7/dist-packages/pyLDAvis/_prepare.py:247: FutureWarning: In a future version of pandas all arguments of DataFrame.drop except for the argument 'labels' will be keyword-only\n",
            "  by='saliency', ascending=False).head(R).drop('saliency', 1)\n"
          ]
        },
        {
          "output_type": "execute_result",
          "data": {
            "text/html": [
              "\n",
              "<link rel=\"stylesheet\" type=\"text/css\" href=\"https://cdn.jsdelivr.net/gh/bmabey/pyLDAvis@3.3.1/pyLDAvis/js/ldavis.v1.0.0.css\">\n",
              "\n",
              "\n",
              "<div id=\"ldavis_el6931396335692232486650900738\"></div>\n",
              "<script type=\"text/javascript\">\n",
              "\n",
              "var ldavis_el6931396335692232486650900738_data = {\"mdsDat\": {\"x\": [-0.09479109279989038, -0.06744859447987854, -0.058501351545519116, -0.15829601866185947, 0.15979309151739995, 0.18730226003521136, -0.10615807975324476, 0.20395554531022517, -0.033205006689403, 0.05484250049844246, 0.21010049276410886, 0.10902908177340111, 0.11211788108266009, -0.03795275053044343, -0.05709120667943369, -0.24342257644647725, 0.05962068885484447, -0.19886667908550087, -0.16398212944109153, 0.12295394427644778], \"y\": [-0.22059447564615386, -0.06084501244124969, -0.09925397998411133, 0.016993079918584543, -0.15607179162751955, 0.13871612959588, 0.14103013552486232, 0.09855658055114781, -0.017036227870401686, -0.1387692562932401, 0.023271583280744808, 0.11349082778258518, 0.16755621772231874, -0.09495517315731337, 0.0700970114536758, -0.03387879288664335, -0.11697669194708196, 0.12476898309668868, 0.15601922604414734, -0.11211837311691958], \"topics\": [1, 2, 3, 4, 5, 6, 7, 8, 9, 10, 11, 12, 13, 14, 15, 16, 17, 18, 19, 20], \"cluster\": [1, 1, 1, 1, 1, 1, 1, 1, 1, 1, 1, 1, 1, 1, 1, 1, 1, 1, 1, 1], \"Freq\": [5.032984664383103, 2.9885583733200254, 1.6040617606145435, 4.5474314337248956, 2.948229337017491, 6.979506932058599, 4.460042331635456, 10.823064549961632, 3.5374292257313553, 2.513419398197914, 7.999091970892898, 3.0506170320219033, 6.911877449389184, 2.2391445728803445, 3.2526429880165333, 8.934986526995841, 2.138573595236031, 4.5481112546005935, 10.3319652208751, 5.15826138244658]}, \"tinfo\": {\"Term\": [\"region\", \"energi\", \"enterpris\", \"employ\", \"price\", \"export\", \"trade\", \"household\", \"billion\", \"incom\", \"peopl\", \"servic\", \"transport\", \"citizen\", \"expenditur\", \"health\", \"emploi\", \"activ\", \"labour\", \"person\", \"poverti\", \"sector\", \"unemploy\", \"consumpt\", \"women\", \"young\", \"industri\", \"death\", \"million\", \"resid\", \"brazil\", \"china\", \"indonesia\", \"japan\", \"mexico\", \"vietnam\", \"korea\", \"saudi\", \"arabia\", \"argentina\", \"india\", \"australia\", \"singapor\", \"canada\", \"bangladesh\", \"chinaa\", \"russia\", \"surplus\", \"asian\", \"africa\", \"billion\", \"extra\", \"malaysia\", \"nigeria\", \"thailand\", \"machineri\", \"drink\", \"export\", \"chines\", \"trader\", \"partner\", \"trade\", \"surplu\", \"deficit\", \"intra\", \"world\", \"south\", \"kingdom\", \"manufactur\", \"chemic\", \"vehicl\", \"switzerland\", \"million\", \"intern\", \"ratio\", \"lowest\", \"balanc\", \"growth\", \"turkei\", \"shown\", \"fatal\", \"physician\", \"passeng\", \"cargo\", \"waterwai\", \"freight\", \"motoris\", \"motorwai\", \"kilometr\", \"unload\", \"handl\", \"journei\", \"accid\", \"internet\", \"phone\", \"aircraft\", \"empti\", \"railwai\", \"traffic\", \"airport\", \"rotterdam\", \"maritim\", \"tonnag\", \"practis\", \"vessel\", \"amsterdam\", \"transport\", \"injuri\", \"flight\", \"modal\", \"speed\", \"onlin\", \"distanc\", \"inland\", \"network\", \"perform\", \"incid\", \"contain\", \"mobil\", \"vehicl\", \"regist\", \"inhabit\", \"million\", \"short\", \"intern\", \"substanti\", \"netherland\", \"germani\", \"bosnia\", \"herzegovina\", \"kosovo\", \"albania\", \"montenegro\", \"serbia\", \"candid\", \"macedonia\", \"turkeya\", \"turkish\", \"permit\", \"north\", \"authoris\", \"potenti\", \"turkei\", \"woman\", \"remuner\", \"valid\", \"childbirth\", \"fertil\", \"slowdown\", \"enlarg\", \"grant\", \"western\", \"durat\", \"sport\", \"hamper\", \"lifetim\", \"infant\", \"thousand\", \"tobacco\", \"stock\", \"resid\", \"birth\", \"crude\", \"singl\", \"reason\", \"declin\", \"million\", \"point\", \"annual\", \"direct\", \"inhabit\", \"third\", \"decreas\", \"growth\", \"asean\", \"brunei\", \"myanmar\", \"ragion\", \"darkest\", \"lombardia\", \"attiki\", \"bruxel\", \"calabria\", \"brussel\", \"hrvatska\", \"philippin\", \"capital\", \"ciudad\", \"british\", \"brabant\", \"gewest\", \"peripher\", \"praha\", \"harvest\", \"berlin\", \"mayott\", \"fodder\", \"rainfal\", \"regiao\", \"groningen\", \"cultiv\", \"french\", \"stockholm\", \"northern\", \"eastern\", \"region\", \"southern\", \"italian\", \"spanish\", \"project\", \"fruit\", \"landscap\", \"western\", \"fresh\", \"cereal\", \"arabl\", \"fertil\", \"capit\", \"million\", \"shade\", \"greek\", \"itali\", \"franc\", \"reliabl\", \"spain\", \"germani\", \"veget\", \"natur\", \"concentr\", \"poland\", \"cover\", \"across\", \"depend\", \"locat\", \"ratio\", \"median\", \"greec\", \"major\", \"netherland\", \"romania\", \"contrast\", \"ireland\", \"almost\", \"produc\", \"exampl\", \"third\", \"lignit\", \"biofuel\", \"fossil\", \"hydro\", \"nuclear\", \"geotherm\", \"thermal\", \"solar\", \"photovolta\", \"energi\", \"diagram\", \"bunker\", \"electr\", \"solid\", \"renew\", \"transform\", \"petroleum\", \"combust\", \"aviat\", \"carrier\", \"extract\", \"deplet\", \"temperatur\", \"diesel\", \"absorb\", \"plant\", \"power\", \"liquid\", \"consumpt\", \"inland\", \"primari\", \"natur\", \"final\", \"effici\", \"balanc\", \"gross\", \"suppli\", \"sourc\", \"sector\", \"produc\", \"consum\", \"industri\", \"transport\", \"depend\", \"input\", \"repres\", \"livestock\", \"sheep\", \"graze\", \"poultri\", \"sampl\", \"cadastr\", \"error\", \"ministri\", \"disclosur\", \"horticultur\", \"utilis\", \"cattl\", \"enumer\", \"duplic\", \"registri\", \"garden\", \"villag\", \"fertilis\", \"tabular\", \"district\", \"rough\", \"farmer\", \"phosphoru\", \"pesticid\", \"regress\", \"geospati\", \"organ\", \"server\", \"match\", \"address\", \"characterist\", \"control\", \"agricultur\", \"survei\", \"databas\", \"censu\", \"correct\", \"regist\", \"identif\", \"questionnair\", \"common\", \"coverag\", \"administr\", \"hectar\", \"sourc\", \"appli\", \"perman\", \"method\", \"collect\", \"respons\", \"updat\", \"threshold\", \"dataset\", \"legal\", \"refer\", \"manag\", \"under\", \"estim\", \"cover\", \"identifi\", \"applic\", \"methodolog\", \"could\", \"graduat\", \"unemploi\", \"bachelora\", \"mastera\", \"unemploy\", \"youth\", \"student\", \"employ\", \"worker\", \"inact\", \"temporari\", \"qualif\", \"scienc\", \"earner\", \"labour\", \"portfolio\", \"emploi\", \"senior\", \"absent\", \"contract\", \"shock\", \"cours\", \"employe\", \"abroad\", \"neither\", \"veterinari\", \"unequ\", \"doctor\", \"tertiari\", \"journal\", \"qualifi\", \"femal\", \"field\", \"gender\", \"person\", \"outsid\", \"studi\", \"market\", \"women\", \"attain\", \"degre\", \"profession\", \"peopl\", \"train\", \"young\", \"activ\", \"million\", \"pilot\", \"essnet\", \"propos\", \"agenda\", \"negoti\", \"strategi\", \"treati\", \"microdata\", \"feasibl\", \"macroeconom\", \"partnership\", \"consensu\", \"parliament\", \"mandat\", \"prosper\", \"actor\", \"reform\", \"assur\", \"mission\", \"deleg\", \"debat\", \"amend\", \"donor\", \"ambit\", \"stakehold\", \"tailor\", \"expertis\", \"adopt\", \"prioriti\", \"announc\", \"cooper\", \"monitor\", \"commiss\", \"commit\", \"implement\", \"progress\", \"statistician\", \"action\", \"polici\", \"sustain\", \"assess\", \"review\", \"improv\", \"framework\", \"council\", \"eurostata\", \"promot\", \"qualiti\", \"object\", \"programm\", \"regul\", \"integr\", \"organis\", \"ensur\", \"eurostat\", \"system\", \"intern\", \"principl\", \"support\", \"capac\", \"collect\", \"access\", \"target\", \"practic\", \"achiev\", \"public\", \"through\", \"process\", \"exampl\", \"project\", \"refer\", \"affili\", \"subsector\", \"enterpris\", \"investor\", \"surviv\", \"creativ\", \"sectora\", \"personnel\", \"micro\", \"media\", \"subdu\", \"televis\", \"outsourc\", \"outward\", \"divis\", \"motion\", \"radio\", \"ultim\", \"entertain\", \"sector\", \"estat\", \"demographi\", \"appar\", \"cultur\", \"turnov\", \"workforc\", \"class\", \"profil\", \"custom\", \"repair\", \"economi\", \"inward\", \"emploi\", \"employe\", \"activ\", \"secur\", \"storag\", \"financi\", \"servic\", \"comput\", \"contribut\", \"person\", \"manufactur\", \"small\", \"employ\", \"commun\", \"labour\", \"foreign\", \"section\", \"ratio\", \"growth\", \"analysi\", \"gross\", \"hazard\", \"nitrogen\", \"emiss\", \"landfil\", \"inciner\", \"dioxid\", \"decoupl\", \"recycl\", \"carbon\", \"atmospher\", \"circular\", \"ammonia\", \"footprint\", \"glass\", \"ecolog\", \"pollut\", \"greenhous\", \"methan\", \"toxic\", \"substanc\", \"plastic\", \"sulphur\", \"climat\", \"environment\", \"forest\", \"neutral\", \"biomass\", \"incent\", \"fraction\", \"damag\", \"packag\", \"materi\", \"miner\", \"metal\", \"recoveri\", \"green\", \"resourc\", \"environ\", \"treatment\", \"amount\", \"chemic\", \"trend\", \"capita\", \"million\", \"target\", \"reduc\", \"manag\", \"economi\", \"consumpt\", \"decreas\", \"reduct\", \"estim\", \"household\", \"overal\", \"liabil\", \"asset\", \"npish\", \"valuat\", \"payabl\", \"advocaci\", \"cofog\", \"fiscal\", \"equiti\", \"coicop\", \"draft\", \"corpor\", \"disburs\", \"transact\", \"borrow\", \"budgetari\", \"dividend\", \"survivor\", \"expenditur\", \"statement\", \"inconsist\", \"ancillari\", \"mileston\", \"forecast\", \"exempt\", \"govern\", \"rehabilit\", \"receipt\", \"entitl\", \"sheet\", \"revenu\", \"benefit\", \"profit\", \"compil\", \"scheme\", \"quarterli\", \"pension\", \"financi\", \"invest\", \"financ\", \"payment\", \"insur\", \"current\", \"balanc\", \"protect\", \"estim\", \"social\", \"compon\", \"capit\", \"gross\", \"revis\", \"institut\", \"contribut\", \"incom\", \"adjust\", \"sourc\", \"consumpt\", \"system\", \"household\", \"price\", \"sector\", \"commut\", \"contigu\", \"urban\", \"cluster\", \"typolog\", \"thinli\", \"metropolitan\", \"coastlin\", \"delin\", \"justic\", \"polic\", \"distort\", \"introductori\", \"boundari\", \"coastal\", \"mountain\", \"centr\", \"topograph\", \"block\", \"court\", \"densiti\", \"hierarch\", \"diagon\", \"surround\", \"mainland\", \"urbanis\", \"island\", \"subdivid\", \"disaggreg\", \"cohes\", \"border\", \"territori\", \"rural\", \"predominantli\", \"specialist\", \"region\", \"spatial\", \"classif\", \"local\", \"classifi\", \"degre\", \"function\", \"inhabit\", \"exampl\", \"identifi\", \"administr\", \"least\", \"place\", \"defin\", \"depriv\", \"equivalis\", \"overcrowd\", \"arrear\", \"eq_inc\", \"mortgag\", \"overburden\", \"quantil\", \"decil\", \"vandal\", \"unexpect\", \"vegetarian\", \"inabl\", \"householda\", \"poverti\", \"explanatori\", \"tenant\", \"random\", \"therein\", \"dimens\", \"floor\", \"afford\", \"strain\", \"toilet\", \"degurba\", \"tenur\", \"shower\", \"scoreboard\", \"respondenta\", \"indoor\", \"dispos\", \"dwell\", \"incom\", \"household\", \"median\", \"variabl\", \"along\", \"exclus\", \"calcul\", \"weight\", \"inequ\", \"transfer\", \"social\", \"parent\", \"broken\", \"refer\", \"threshold\", \"intens\", \"materi\", \"distribut\", \"statu\", \"person\", \"children\", \"depend\", \"adult\", \"percentag\", \"peopl\", \"sever\", \"should\", \"tourist\", \"night\", \"ecosystem\", \"outbound\", \"overnight\", \"inbound\", \"habitat\", \"tourism\", \"marin\", \"biodivers\", \"visitor\", \"conserv\", \"atlant\", \"threat\", \"threaten\", \"catch\", \"abstract\", \"speci\", \"unsustain\", \"farmland\", \"august\", \"unfavour\", \"sewerag\", \"fisheri\", \"spent\", \"water\", \"remedi\", \"river\", \"hotel\", \"restor\", \"summer\", \"accommod\", \"arriv\", \"destin\", \"travel\", \"march\", \"season\", \"resid\", \"month\", \"million\", \"april\", \"domest\", \"establish\", \"protect\", \"nearli\", \"place\", \"annual\", \"expenditur\", \"europ\", \"asylum\", \"morocco\", \"palestin\", \"immigr\", \"refuge\", \"jordan\", \"lebanon\", \"nativ\", \"israel\", \"tunisia\", \"algeria\", \"seeker\", \"syria\", \"settl\", \"citizen\", \"libya\", \"egypt\", \"ukrainian\", \"dublin\", \"migrant\", \"refus\", \"migrat\", \"request\", \"citizenship\", \"illeg\", \"obstacl\", \"background\", \"latvian\", \"foreign\", \"status\", \"applic\", \"decis\", \"resid\", \"first\", \"south\", \"origin\", \"languag\", \"anoth\", \"protect\", \"second\", \"reason\", \"statu\", \"mobil\", \"proport\", \"third\", \"person\", \"sharpest\", \"lockdown\", \"craft\", \"conting\", \"fourth\", \"pandem\", \"fifteen\", \"weekli\", \"outnumb\", \"versu\", \"descend\", \"absenc\", \"quarter\", \"subgroup\", \"decreas\", \"premis\", \"aforement\", \"covid\", \"sesect\", \"visibl\", \"luxembourg\", \"cypru\", \"nonetheless\", \"sharpli\", \"czechia\", \"estonia\", \"injur\", \"slovakia\", \"ireland\", \"deterior\", \"hungari\", \"latvia\", \"slovenia\", \"malta\", \"lithuania\", \"belgium\", \"greec\", \"denmark\", \"croatia\", \"spain\", \"sweden\", \"romania\", \"bulgaria\", \"itali\", \"franc\", \"poland\", \"portug\", \"austria\", \"netherland\", \"germani\", \"finland\", \"second\", \"point\", \"georgia\", \"azerbaijan\", \"belaru\", \"armenia\", \"moldova\", \"footwear\", \"potato\", \"ukrain\", \"deflat\", \"inflat\", \"price\", \"dairi\", \"beverag\", \"dispers\", \"alcohol\", \"depreci\", \"chain\", \"semest\", \"compani\", \"converg\", \"consum\", \"capita\", \"index\", \"yeara\", \"householdsa\", \"arithmet\", \"restaur\", \"formula\", \"cloth\", \"equip\", \"volum\", \"pressur\", \"minimum\", \"quantiti\", \"monthli\", \"weight\", \"market\", \"annual\", \"purchas\", \"household\", \"consumpt\", \"lowest\", \"percentag\", \"servic\", \"cancer\", \"healthcar\", \"respiratori\", \"patient\", \"chronic\", \"circulatori\", \"disord\", \"diseas\", \"medic\", \"diagnosi\", \"discharg\", \"medicin\", \"hospit\", \"mental\", \"cardiovascular\", \"morbid\", \"smoke\", \"surgic\", \"death\", \"prescrib\", \"healthi\", \"screen\", \"prematur\", \"unmet\", \"practition\", \"health\", \"diagnos\", \"mortal\", \"infant\", \"heart\", \"standardis\", \"perceiv\", \"expect\", \"inhabit\", \"stand\", \"elderli\", \"preval\", \"examin\", \"problem\", \"women\", \"limit\", \"birth\", \"peopl\", \"lowest\", \"consult\", \"gender\", \"portug\", \"lithuania\", \"older\", \"latvia\", \"person\", \"proport\", \"system\", \"bulgaria\", \"childcar\", \"childhood\", \"leaver\", \"cinema\", \"profici\", \"vocat\", \"attend\", \"pupil\", \"teach\", \"teacher\", \"career\", \"civic\", \"unesco\", \"volunt\", \"unabl\", \"literaci\", \"precari\", \"recruit\", \"subpopul\", \"young\", \"marri\", \"formal\", \"enrol\", \"chanc\", \"satisfact\", \"leisur\", \"particip\", \"upper\", \"learn\", \"inclin\", \"older\", \"secondari\", \"sport\", \"peopl\", \"children\", \"adult\", \"attain\", \"school\", \"proport\", \"point\", \"famili\", \"women\", \"earli\", \"least\", \"percentag\", \"tertiari\", \"train\", \"cultur\", \"activ\", \"pattern\", \"fifth\", \"lowest\", \"romania\", \"bulgaria\", \"finland\", \"sweden\", \"person\", \"across\", \"greec\", \"contrast\", \"social\", \"wholesal\", \"defenc\", \"regain\", \"industri\", \"fashion\", \"retail\", \"signal\", \"intellectu\", \"someth\", \"construct\", \"intermediari\", \"infer\", \"salari\", \"steam\", \"strict\", \"afterward\", \"servic\", \"drastic\", \"print\", \"forestri\", \"trailer\", \"cleaner\", \"februari\", \"motorcycl\", \"restaur\", \"commerc\", \"column\", \"confid\", \"enterprisesa\", \"branch\", \"turnov\", \"suppli\", \"indirect\", \"index\", \"input\", \"durabl\", \"effect\", \"output\", \"domest\", \"manufactur\", \"dynam\", \"crisi\", \"produc\", \"activ\", \"calendar\", \"trade\", \"april\", \"support\", \"monthli\", \"volum\", \"aggreg\", \"intermedi\", \"growth\", \"transport\", \"agricultur\", \"export\", \"adjust\", \"short\", \"declin\", \"economi\", \"month\", \"estim\", \"quarter\", \"exampl\"], \"Freq\": [3402.0, 2130.0, 2079.0, 2603.0, 1743.0, 2457.0, 2609.0, 3349.0, 2224.0, 3036.0, 4542.0, 3262.0, 1900.0, 1160.0, 1830.0, 1585.0, 1610.0, 3407.0, 1676.0, 3340.0, 1367.0, 1785.0, 1092.0, 1470.0, 2025.0, 1668.0, 1321.0, 1089.0, 2272.0, 1272.0, 172.0901644222862, 528.7712287308466, 152.16026580916818, 305.27935498230255, 134.3008977917594, 96.51158653989219, 183.98592375221548, 83.58378580395706, 82.58933229962754, 57.728000269057326, 248.5350879405274, 101.3405526266283, 133.42913066304538, 162.7497577075809, 25.90547976401165, 20.933237341868107, 259.13448577652395, 95.38138376252536, 79.499839928337, 232.2874538961408, 2023.0309110535188, 331.70614307816254, 46.490096150474535, 17.23741625213593, 47.10580650574947, 203.65612616381247, 150.95058126909356, 2065.2055741805293, 32.44673401451345, 67.54354059472838, 511.4134826676386, 1868.9073731957903, 303.16798470473043, 352.1793511328131, 240.03113056355613, 408.0166448082453, 342.6379252793016, 385.0843546804294, 367.21772453985955, 181.68829284419678, 217.77902583915693, 172.87652630534538, 330.4955214899381, 258.8189013460673, 276.1214285004467, 225.0411936215872, 197.15472992568328, 200.24977765386205, 183.59379141218687, 187.98921655494047, 411.2229018092856, 112.65283559938253, 450.9932543640352, 34.40813791139342, 94.02157137534907, 299.10346851000696, 36.31712145799751, 50.198574189835306, 190.3412650217416, 30.446897526948902, 101.53325301792434, 54.54687337022114, 640.175495790188, 522.1573852704872, 29.278911691685522, 62.01263761041307, 31.29197777488068, 88.6942982059646, 99.64689034973038, 59.60406053776229, 43.154280301467765, 105.09212328565299, 31.55294587361082, 83.85031033344796, 67.29471539081003, 20.538853423666726, 1314.8714456306634, 84.15031021139677, 11.866029341145065, 29.174994754497163, 31.09265902179129, 138.99261291605194, 112.32676375147112, 116.17211436191137, 146.84925798639972, 205.23131416373474, 80.68024096737713, 152.70077249693017, 115.19416377722148, 143.29779994793634, 208.48489199660398, 188.2068476962408, 199.570278710177, 105.925055161402, 108.04536341779192, 76.58412649340171, 93.15636086402391, 87.93505144044528, 184.23088334851573, 177.33640204199676, 175.36654414530827, 183.97581082037794, 253.53995977988083, 288.03283070631994, 637.2872776588122, 264.2276352329545, 10.847796180238936, 20.702413303392216, 504.8308556558849, 280.68880113447074, 20.768991912030877, 304.0442634661195, 351.14177887456077, 30.756618706883906, 14.29017405123983, 83.31520480270635, 9.082919088100677, 55.135965574672504, 6.152908789741202, 28.83617257976582, 50.78987015218083, 51.376504257998604, 31.07233780037871, 37.96799236088806, 2.152824856622721, 2.0773255179276964, 19.659011864888264, 46.6352711128091, 20.652142925219767, 58.86607065438117, 160.75404255858996, 81.50707108030326, 30.416403492196117, 60.328556640589525, 63.729243997636985, 52.145778456966546, 87.02422330842437, 89.79879122990525, 59.56420299775092, 49.37398012596597, 57.03953817621992, 54.383621786317185, 53.957449717916376, 46.801123007951546, 262.7815617518502, 38.715789100128646, 27.809930389332415, 24.8356059736016, 23.84416702147456, 16.904076718102658, 15.912635246192385, 15.912633986300765, 15.793288232939402, 13.929753562263459, 13.929751042480222, 31.448603214935467, 12.938312090353186, 12.938312090353186, 12.937848450237517, 11.946869358551295, 9.96398704467656, 21.576596447717037, 25.044624512921505, 96.26158572145032, 20.097964966001616, 28.778227652207793, 32.72748895964436, 17.686175858547024, 14.309880502097618, 11.7703245257025, 74.50160448928675, 95.11192957985122, 11.61721493685251, 134.84014238690742, 201.05378672242492, 2180.2567584701064, 174.28977803837714, 54.230532934663685, 62.78938994471198, 449.0052952596873, 115.05290953038383, 52.7522416236853, 123.97309337753256, 60.087436458454064, 50.02869359508345, 76.32553446692994, 87.08225728704144, 247.71676553087252, 589.1752327545341, 64.40554363617126, 43.50387616814001, 341.3133075509254, 346.50575431416434, 119.06106825120979, 304.88466018095863, 336.5805297249735, 85.98907452735743, 162.3084808814542, 90.97183500871857, 188.71977030794028, 201.8631612565218, 192.91260898179675, 155.89765844816762, 103.9512888598793, 181.83779880493742, 116.5752214545184, 167.31038163628608, 136.24045648582333, 140.95641223888282, 140.70657069133492, 130.49462500713452, 130.87236067267645, 121.84715226019574, 119.83870359564922, 122.23473523862917, 118.98645242998593, 82.87738207559038, 62.192656809247204, 133.72050985003614, 50.35582713578684, 102.43389094625981, 25.695776479333972, 24.709373734271068, 69.09714276064823, 18.79096216483539, 2012.5620341924725, 87.24188634949034, 12.872549778576085, 509.426678618582, 107.10954621027521, 311.5912384459572, 195.99621475096214, 120.25783195702444, 64.39508775704809, 40.62632073443778, 17.598014130467025, 101.76833652139742, 10.737952765600484, 22.71785481487898, 24.283378976020312, 9.195110162899393, 119.07908358456638, 143.43510431927322, 34.31665228190789, 747.6360246888107, 112.19563900976506, 237.90527857459588, 213.15696032349558, 254.75236387483557, 98.45224824222844, 207.68855485961365, 219.59661482053522, 147.86892751335012, 205.36673697067096, 227.30374433955805, 167.9744594831358, 97.18922327535843, 143.6924625726903, 158.20288339776533, 94.81002516035298, 79.85959124996178, 81.37357057302283, 272.26474847396224, 83.14778635438422, 76.13961994494713, 43.10063993958181, 495.36516576826574, 31.08658844656999, 138.65809590497196, 52.11181475055637, 24.078338887521113, 22.075982146894564, 86.23040158040509, 101.90286582502, 17.07009126218414, 14.066556151244313, 14.06640532171597, 61.20147119277835, 11.062954327243874, 60.13639041210146, 14.564756718774223, 34.832281218573804, 23.847422747052935, 100.34393049431254, 64.09305502001804, 51.121375249289876, 26.28171851632555, 106.77209162106904, 351.0776477747046, 16.194496844478852, 109.23244609193063, 329.22562040543164, 331.10382704082537, 196.81916866997008, 793.4862722177975, 990.3942678776897, 243.98212350093652, 144.0069905405398, 118.99720390074111, 711.1829146463969, 115.65387016642116, 135.86980710010388, 554.4534301856455, 270.47787491911544, 434.7471650698961, 147.24645300634137, 514.0619012833997, 261.33395465350446, 130.60348969759156, 272.4030784885711, 365.72104468910214, 182.1939177080592, 178.16577924082742, 201.24651809190956, 149.93550371640785, 170.06525897805008, 288.880098376754, 191.471047519163, 225.29790296923116, 239.03411054715957, 238.64196924316494, 174.6141383255954, 184.04313413462083, 181.5782083688233, 163.99615721207184, 383.44865683257785, 349.0375991036839, 43.07884364131158, 39.076164816501, 1051.5473660574035, 224.23880520955248, 458.84613187682777, 2166.8827071323276, 445.50272571159053, 97.31724163204152, 178.8002626067844, 143.15733079892703, 70.26462848771676, 53.41259306458621, 1114.5456130612802, 20.23036964192126, 1036.1780378623725, 22.556851054336043, 38.417794526736856, 157.52363284604627, 9.445344331844506, 89.51409065324806, 467.4461876985498, 164.4932731983826, 65.31699553101882, 11.910295424225179, 5.635711464379719, 49.61244713011629, 387.3537614239783, 10.771256745974469, 40.959884794969554, 191.7644633018211, 131.36043249016987, 286.1249402374764, 1031.8781088059093, 232.51813782284952, 161.67074288885385, 327.558812099317, 443.824850245791, 176.51735868430734, 162.0041095747655, 118.77175988173316, 407.3863679002558, 147.14403969576293, 221.23019138148737, 273.15822864073397, 123.06634091527198, 61.026586398623834, 56.02857640729647, 112.93018667314165, 112.58362148555449, 43.03351534028775, 414.7631329622918, 35.03660819698858, 60.00160792194145, 30.89933783989773, 63.72986442912173, 80.73626701316878, 23.04119050880521, 82.4701184693277, 22.04156812011893, 22.041328232815278, 21.04195022931959, 61.769961169548225, 18.042723232305264, 17.043475667530938, 17.04347416823529, 17.041010825485905, 58.553462244432986, 38.70892898213963, 15.044248881706146, 36.63701934189935, 14.04462949161116, 14.044605502880794, 251.46155420052332, 99.34599237427469, 12.045392960364655, 249.6789996245403, 345.5620988269354, 464.1428309376181, 92.76555978721922, 567.6908092663266, 366.0250615580456, 45.2273177166966, 287.02261601512276, 614.4754543681979, 359.3315580904134, 396.91484588607534, 136.8555867902545, 476.30219060770906, 357.3630908540995, 148.52194206824348, 138.81803285524674, 153.1450621786049, 599.1162859321433, 338.4628499739049, 376.74387398097133, 447.83145383844425, 297.51739768516717, 316.45494104107973, 195.53184134824477, 574.851061460676, 670.7790195888541, 620.4154478263264, 161.9962439933071, 402.80192020501806, 202.8910200891482, 442.1421905900936, 289.45157091952854, 307.2767088709425, 235.6757461949223, 193.98956988996554, 307.9059332684237, 285.64160879672414, 281.7977745866439, 314.42266378199423, 274.3602606467327, 273.18250994071906, 81.27413862035675, 192.49631304163233, 2015.7122061246087, 43.83193939624123, 41.64160043759362, 25.143568067780663, 24.513027704098977, 143.50806461277332, 230.71769513586932, 94.09460135386674, 11.909479770364822, 19.80685262887927, 12.958396071989478, 83.35886187697506, 147.96575994152573, 13.528117535063062, 8.536809270294942, 23.34705246395699, 24.054086884498, 879.5702322763728, 52.73596130218211, 26.351309749013193, 96.40542163727837, 355.8150780176504, 142.08946395210236, 87.7302017369512, 137.52838354878264, 31.384946031996527, 62.651731532651766, 50.26920487016353, 603.6260125912054, 69.65756395332502, 454.70813146697435, 236.8663393696556, 679.1331520475193, 102.68428903984122, 54.075972527472736, 390.7318854934914, 483.86767770252584, 118.56877144917189, 176.0246542153182, 415.1268114701365, 169.13956577677268, 154.5335426036616, 298.3370222656952, 127.18082813391327, 195.0486683324093, 148.3558884520914, 129.8853678852811, 116.68151164644233, 111.59053765298496, 102.7467466087782, 100.04953774203955, 157.48314598423303, 83.97297498636513, 644.567313275789, 54.19906967552724, 45.17422911160339, 44.14416659039555, 40.160405276917956, 193.27988816942053, 147.907066377439, 26.04262078789616, 84.70674035927019, 19.101432386390417, 71.07719966704323, 21.07128169811539, 9.948556129598261, 220.62004780037077, 103.51196333834878, 15.089248562700917, 14.960311087425607, 47.869039057427074, 56.57581992186374, 13.059788300265925, 220.57744188933574, 499.30575754897177, 132.76285992197683, 23.275634824372453, 29.261250020560396, 17.42553907049537, 9.039489131270427, 17.409266598459112, 75.10003775391976, 411.53602097698837, 77.27157992770317, 82.09878285277594, 100.96954695938159, 65.96826738359401, 200.60262314458095, 132.24431345087825, 137.4618440122716, 167.3738007197307, 117.86419454062285, 168.14818320787586, 93.46802091351539, 227.05730626569925, 124.70858234568216, 106.96065780557424, 115.84901516900091, 155.43104297527583, 132.53041036080432, 125.05259388049318, 93.43285209599917, 104.68788202623011, 93.8466608927555, 85.24444500610744, 357.8959586358147, 477.45865178771777, 67.27279492342726, 61.34170651234339, 53.43288683622404, 49.478687536566625, 36.62708438487302, 62.26352342041876, 57.357783622674035, 28.673222787831907, 22.786890408681476, 282.65784882626326, 20.809671084392534, 395.2072285584208, 72.39975074471894, 15.866704772837378, 11.912451176434118, 25.515242050235337, 1667.5744946300465, 53.00672608333438, 51.10094576322341, 17.797161301790283, 24.7859680515126, 37.54520689803712, 16.483395023095934, 972.1099315575526, 19.63357697503399, 99.65284325303388, 63.88788259871074, 54.072732986440826, 242.60261196123656, 720.1209768722232, 128.40380789994936, 477.5117695185116, 224.60577160635384, 248.40574178000688, 384.66261435476923, 1031.5870390612674, 393.8182956377316, 182.5390641432808, 243.81834491125673, 140.0700554687786, 340.3681712468466, 363.9879382777132, 296.8278013452394, 457.63772444518906, 680.2811894947152, 207.24019186726304, 305.360501712103, 366.3901504208077, 208.65823670850077, 268.36011944285764, 295.0416555938746, 549.5641629262105, 249.2553240703631, 346.78261593803666, 337.973618269207, 292.01880283523707, 375.30942588854833, 260.55564259889917, 258.2501983378716, 334.7991372410086, 52.69483174199946, 687.8026818034579, 193.87126640556045, 342.9272484590038, 38.63248775190009, 129.12557358203068, 36.801953414146716, 16.562960741100056, 29.893513253379894, 38.64047311378688, 16.897644432050758, 11.905054695504095, 127.80115296819768, 118.05895737410872, 98.92325806781199, 189.43766636933123, 19.032070472581726, 30.53219683151986, 24.320474424231122, 186.31427421985114, 10.812537510385882, 18.473955544655567, 32.06556887497814, 12.992164350419971, 152.94437322398298, 107.65608633944387, 13.247695930797233, 30.812634491922516, 24.226080144281482, 175.5997441797267, 206.18764246020794, 302.4136197300263, 76.06327658196145, 94.42335451027722, 899.9307844009671, 99.01382870496148, 252.6547134558878, 119.96943999209019, 140.75146262916002, 181.39713043258732, 173.0788851110727, 222.8391572134086, 185.69529710845043, 107.43981217745332, 129.2064143836551, 160.76629551083386, 101.03860139235228, 104.14995126450775, 453.08189711688885, 341.3246129218912, 148.73317968988806, 104.82720497648353, 91.85478288382458, 88.86098792607618, 71.89648686772817, 58.92476948578489, 58.92476948578489, 41.96053269395527, 62.86890514311107, 24.99165591825589, 76.39423407140659, 23.83700656037666, 1305.2199635216393, 49.47168802698509, 30.858769025994533, 30.797947512297725, 10.028687447882584, 528.011550823654, 50.47600803540343, 216.48347042236958, 35.51794860285519, 38.78009663514121, 24.148848711960163, 46.42639173774957, 36.835003141100245, 26.934009083399772, 25.02550692728012, 26.636490943102192, 413.0280090535255, 298.5567613340935, 2183.4572976772283, 2358.7775581311816, 407.24181320472894, 574.7707000674343, 186.5447088955826, 311.95864332876124, 573.5054685764378, 434.6011343547838, 108.66498293503697, 332.48720351181714, 812.5312713310858, 213.55273175387555, 147.2632756953837, 565.0316592560537, 239.48389535943053, 242.8610223069076, 341.79520648197774, 279.5863471829825, 257.34907799159873, 690.124490719657, 378.0204625062932, 308.0163077477197, 254.05323789319445, 323.1482239097634, 397.1398463747778, 241.62733428033653, 242.48861333327184, 367.3155135448056, 425.0440908764113, 126.11678855257018, 64.06791115462197, 43.38496194785541, 33.53592776302206, 57.918251027012, 402.9956478916689, 81.66855610779648, 72.69915117977808, 28.565586591686817, 47.4940243382971, 51.67763010895235, 18.672433098314617, 11.826064086750943, 67.46858313772928, 31.04530538619834, 75.06071722776869, 8.8655684064075, 28.891689065414, 83.36956457791332, 9.51994650183863, 30.795262471290254, 82.38873350101682, 383.53539871217885, 371.4547258044082, 26.234917335541716, 39.75450081379816, 69.9516072512303, 9.8982721470851, 66.51270076737963, 254.9592245361181, 89.39122052027241, 111.75110793124132, 112.80790675254055, 95.90585536032613, 140.33104983100188, 280.8398722238712, 167.59956423667782, 256.9185144039096, 83.84577865947202, 113.89726246959216, 88.46240603245836, 90.06704410597155, 72.7968466817424, 84.71492866546667, 73.3037664819017, 70.17993729740108, 68.16230805315081, 323.54263070198624, 120.45560186206329, 94.60922618349636, 500.74755454673715, 50.81311158697349, 48.82253951235421, 40.85963481828192, 461.984187426712, 125.7928884137611, 69.46450334349065, 107.87569590416146, 55.789968924855195, 21.94773842276809, 46.5687629139383, 1103.2154064910653, 20.390946637791963, 117.08910144684455, 17.96629508736345, 102.94484114280463, 151.25637068348738, 42.848108985086, 338.5893734597344, 205.1867173535004, 249.17942609836126, 53.911375383361204, 51.3217496972319, 208.96596491042132, 10.841538809659834, 590.2082265795456, 28.221829127937642, 354.28674159378977, 180.8323578526261, 533.482990885554, 390.9605060182218, 204.5408212814089, 136.81662258693459, 116.88019020056065, 140.28315932120347, 143.0778176474154, 157.16777025533216, 128.87294871450155, 115.17635021728054, 87.50969706703779, 123.99335932247057, 112.69079806111722, 127.2321685238657, 36.36603396364901, 33.373232618314276, 16.206974303731588, 17.2052237427691, 269.2074634287489, 197.44699011707127, 11.811876746819822, 55.075893091887615, 18.979410130072235, 68.80987904684086, 14.669328277884338, 146.68676976835715, 1263.304329764479, 15.532874005174213, 1333.5353274004083, 28.253003803260064, 10.877903369080249, 314.2653958052001, 27.467117866342164, 71.6801090500186, 885.8899131076209, 841.8670914330903, 9.530635412292636, 39.807143817552806, 535.3834237235117, 594.1249064503374, 23.710915446972997, 525.2760632130545, 809.6548456361242, 24.493392636099358, 575.4688718705603, 566.7315457666016, 493.5119006551956, 712.8005028960122, 581.6892796051825, 571.1086056758859, 881.3220227337368, 677.8854196344766, 568.144752694149, 753.6862269951655, 681.2130308119141, 785.6647866690225, 716.059592549216, 752.8429765610992, 753.2274892531573, 537.3267020723417, 530.3022160351372, 448.5596815435881, 700.7518048197812, 771.4649880256644, 523.3441523078401, 393.36135573690467, 470.2683302240661, 120.44869980356466, 118.45863555870454, 134.38274246135387, 116.16902029222635, 99.45759418122897, 18.504309791450083, 92.93096916568547, 167.68312175315418, 90.06810398699055, 104.1410390435938, 1377.1761427451147, 47.85477355339777, 91.74737385585449, 45.73854389391634, 89.65834723632916, 23.969409524691716, 70.9104377533955, 17.959719293823817, 86.12527954404756, 15.276462198289172, 223.69133226393475, 129.26822966734792, 245.0940716893491, 5.4070041314221475, 4.561070584073002, 8.520568976069075, 20.216155525812948, 13.579981275569052, 31.867586313453472, 102.32042143967304, 198.9429649462082, 39.59258842661383, 73.60497493855125, 73.62803993113296, 57.197024595135304, 142.4563525506585, 145.34889980570907, 127.79936031034522, 71.1552177126869, 183.37146897618388, 122.93468508908828, 87.59182628568546, 85.90664085768836, 78.49572981233277, 345.86937027761445, 303.3430826847239, 91.93400293327022, 307.890177011315, 85.02223246017834, 78.10591057824605, 64.27311560478545, 428.59722897280454, 307.1266088739401, 32.6552873618815, 155.12800117537282, 117.3549670722959, 280.27236929673813, 92.75145209002923, 20.785954033144883, 19.810543771896796, 39.48702007563663, 34.2656443579644, 1011.4738103842427, 62.26969430415153, 86.71654606429502, 77.03281135748504, 14.721045503399079, 186.2771174729936, 49.30778091836582, 1300.3309129632305, 25.69766509895451, 201.5050528245126, 88.04910583087789, 58.482256826718135, 221.52570737040807, 143.1138846584408, 344.20179053007524, 671.9526624959691, 131.02994963070353, 177.203231228238, 89.53197801655085, 102.43253558858886, 216.29861340984613, 511.82363578673375, 189.8342526550389, 170.1471463166984, 350.66896446829026, 199.07747348606475, 113.50937438423072, 150.65882011329435, 163.8387222930317, 159.2100755909837, 158.70687021668698, 152.1331338358322, 183.98117112820668, 148.72922437776043, 146.99421523103314, 146.7343161773828, 186.3977155176108, 75.38178747514716, 167.24494319362643, 58.52723126784184, 56.54842191189039, 139.808640407217, 99.83227167153187, 258.30361936144914, 28.79475048571945, 123.23599182488682, 37.15858062418483, 14.917764489838028, 13.926550693251952, 26.731238883438575, 76.49183631918574, 26.10189174686379, 8.970483141586305, 43.552635549632704, 80.52589029237585, 1424.9900588292455, 15.905530369705488, 290.44329848134737, 85.87724596660834, 28.7723569178575, 287.8675715849234, 94.23926698646338, 720.4087554228806, 211.59535997501033, 183.42351307208102, 12.452240683319875, 771.0568858386525, 569.4288762974719, 148.8644240637871, 3079.1730033587114, 860.0052480477399, 702.7853295312364, 445.0503230190903, 165.71535630881283, 849.0572866263949, 1320.6690432821424, 370.8295374121339, 918.5965999751891, 240.27868363948545, 646.7422242175224, 801.8839005552121, 383.96907427814864, 310.74854806083005, 353.84940203799954, 878.5267753781263, 330.8946639033089, 296.89956189673205, 411.3238636760323, 398.54438721394797, 361.24466671286154, 329.2118629923873, 333.0541561179394, 430.78283504987695, 329.5531681033825, 336.3469580908928, 313.4709280658701, 324.286915429602, 110.67913987485822, 54.544936136432675, 28.764237869430158, 1091.9233256907733, 12.008132804538121, 194.43268616787535, 13.556796092442664, 22.541776793571145, 11.157803838593994, 440.6757682662164, 8.279785147577961, 11.526631836544206, 53.23800657087835, 30.69919664187314, 9.735928278866814, 16.166617943975798, 1924.4659957271315, 7.004462121879249, 18.570064067487156, 133.56436697007436, 32.47378180744701, 5.536673404062615, 63.37741771227119, 10.388032534155165, 27.471273718393334, 28.986975655455502, 25.919354882569134, 23.13086661759464, 6.444565044719139, 16.054224367969976, 162.1701319695683, 399.21896365959435, 57.713959081000866, 270.4794044539794, 165.4399482783496, 37.791289167423784, 285.6268086681465, 279.5890391988936, 227.01484999601192, 304.9172363128213, 38.00031592327302, 242.993685134896, 322.8594841131213, 801.30505035729, 59.88819633816194, 556.6162623013767, 103.6568972879033, 230.52171821196134, 76.73373893593714, 159.22859150773016, 190.98620707962257, 108.97537073672717, 245.5097920808842, 296.3191827697082, 192.29384549143157, 265.8091366060431, 145.5875999147877, 113.59024567976182, 130.3913424740685, 146.91370262823054, 126.85548015970207, 127.57093469075095, 132.95700005985927, 127.12525332462631], \"Total\": [3402.0, 2130.0, 2079.0, 2603.0, 1743.0, 2457.0, 2609.0, 3349.0, 2224.0, 3036.0, 4542.0, 3262.0, 1900.0, 1160.0, 1830.0, 1585.0, 1610.0, 3407.0, 1676.0, 3340.0, 1367.0, 1785.0, 1092.0, 1470.0, 2025.0, 1668.0, 1321.0, 1089.0, 2272.0, 1272.0, 173.03418308922738, 532.0337712362234, 153.14496043694012, 307.2785380429312, 135.24491639022924, 97.45570352419477, 185.95536929894487, 84.52780443277952, 83.53335092206858, 58.67201888156536, 253.5454730393839, 103.41511198635574, 136.23371589384516, 167.05642193653685, 26.84952166664807, 21.87725593650958, 271.45263884151194, 102.39193813185744, 85.54376145825225, 251.64362800482454, 2224.0792946502083, 364.8687962140464, 53.68078174077994, 19.914657614430524, 54.67408161416905, 238.70002433384207, 178.9215424168348, 2457.8160165405616, 38.78103168174403, 82.5291755597617, 644.9604106171768, 2609.2069996243545, 395.2707257122959, 509.08159862498314, 332.7645446418482, 658.1827115064814, 644.4457006955242, 847.8557305191033, 882.0179146968834, 317.1030540743422, 454.0618218865942, 425.94506778712656, 2272.761552998034, 1277.5188460768356, 1568.9343195229787, 1522.734895227806, 831.526251236358, 1218.564161614295, 668.2130803790634, 971.685960297383, 416.2738945649815, 114.88452000917374, 460.5861336022152, 35.35279480894124, 97.20981946906682, 311.3812245920834, 38.31228469061443, 53.041845475335066, 201.37595852365752, 32.42360890380348, 109.10721507122386, 58.94949107707047, 694.408528120321, 574.0505777787821, 32.44375706482687, 69.79144112532582, 35.3645603200536, 100.32185109460201, 115.02644965966282, 68.83808676841707, 51.14794433423545, 129.81235631305583, 40.30621476762831, 107.25989143306609, 90.39961770794325, 29.564135759757956, 1900.5592027343616, 123.95518005925386, 17.714452756965265, 44.414901067452455, 47.36928165627081, 270.04797251518954, 220.14700980457138, 241.15067241948563, 336.2376604237937, 535.7026458750855, 159.78989954232296, 461.0779352547095, 299.2591806475534, 454.0618218865942, 1174.1441753839629, 1344.1725075995284, 2272.761552998034, 458.806342344191, 1277.5188460768356, 248.33355520423044, 1516.1263359551942, 1776.5084096583716, 185.17537817900035, 178.28089687248138, 176.31103896949875, 189.1595615098913, 262.00693512321783, 298.472274693185, 672.1998629507714, 286.77013235385033, 12.814411710896861, 24.648470895940626, 606.8805194473157, 436.203656375256, 37.66537752427078, 557.9686521031796, 668.2130803790634, 60.274452500111465, 35.70214624130862, 208.76463793598492, 25.68074769646169, 166.19506309382206, 20.830827740403283, 105.47327687914328, 193.47753535411462, 212.83108844703656, 134.1942676424486, 190.0893501030147, 10.892748749136285, 10.889096199484811, 110.61993204848211, 263.5615130922727, 130.10310892172996, 411.8026100011379, 1272.2520995922882, 607.589151295849, 209.46083992812848, 599.2315062728471, 707.6253663414407, 665.1261503521223, 2272.761552998034, 2652.2822508768513, 1027.276154373746, 635.1878374861665, 1344.1725075995284, 1139.4384115290243, 1910.4745926891173, 1218.564161614295, 263.72573556664497, 39.65995828233413, 28.754099571537903, 25.779775150360148, 24.78833620835473, 17.848245894861208, 16.856804422950933, 16.856803163059315, 16.85563114554246, 14.873922739022001, 14.873920219238764, 33.71652424670683, 13.882481267111729, 13.882481267111729, 13.882478750979802, 12.891038535309837, 10.908156221435103, 23.784338967451053, 27.76599464438564, 109.09288061365642, 22.788107412780946, 32.74930403584292, 37.65671441151684, 20.819591606098385, 16.859818170668756, 13.88467488142354, 91.36954700651762, 121.03316173819982, 14.869289683283752, 176.595542252284, 278.80346828374036, 3402.4836187261817, 248.8014994101905, 72.41263730334238, 87.32573329889402, 871.085364205254, 184.29115572823642, 74.54557886432468, 212.83108844703656, 91.23507535214529, 73.43633752121423, 126.39310302522114, 166.19506309382206, 686.6872455650183, 2272.761552998034, 114.15678735604519, 67.59374589386248, 1528.9505152451331, 1564.8305382058522, 310.4518670137034, 1450.9946199057606, 1776.5084096583716, 191.37157526475784, 667.8338364543749, 238.91977993244382, 1060.4903839619644, 1251.6814209320037, 1351.312289315096, 928.276104531636, 369.9450306476386, 1568.9343195229787, 536.0695791250955, 1595.0114320753235, 1070.4196108452197, 1516.1263359551942, 1551.784121230647, 1191.4455554447745, 1321.550810124868, 1002.562496461516, 1028.8280777929333, 1470.129077474171, 1139.4384115290243, 83.85139456189154, 63.137077950134426, 136.13834523010874, 51.30024827667406, 105.60390904795644, 26.640197620221205, 25.6537948751583, 72.01907025240077, 19.73538330572262, 2130.7437095695063, 92.74399308974237, 13.816970922697674, 591.5481290940453, 124.52682154739762, 362.37674040907837, 267.0748212568808, 166.85687305328943, 90.17501679074503, 57.14389460127635, 26.719763722968814, 155.55443520322265, 16.779195949219723, 36.5666436476395, 41.35875444718318, 15.803374675225912, 209.81484806459207, 265.00682161859504, 63.99973542189664, 1470.9178477507414, 241.15067241948563, 665.5034764779967, 667.8338364543749, 841.5039177836043, 257.6644607309271, 831.526251236358, 921.6310157373719, 780.1827312500639, 1405.8634840796133, 1785.6998145378234, 1028.8280777929333, 475.46627701421124, 1321.838032231308, 1900.5592027343616, 928.276104531636, 348.5760809584433, 721.2520432395314, 274.30147421874176, 84.09155145636568, 77.08330227474839, 44.04440616165375, 507.5507150275711, 32.03027077637125, 143.13835696217674, 54.04359822875355, 25.022021224952404, 23.019664481617276, 90.09563829448844, 107.12486413033649, 18.0137735919854, 15.010238517380238, 15.010236481681792, 66.03839476616996, 12.006702587968421, 65.99237759853666, 16.005090902631945, 38.99569740863227, 27.015110759761047, 113.99915152210696, 73.9327604973286, 60.9181474718414, 31.978880381471654, 129.96935122979787, 429.93049494300874, 19.993497955902132, 135.96230611786763, 411.37119935299677, 450.5776940048725, 265.1771025813676, 1164.7659451427821, 1520.9186669118983, 342.13562367980757, 193.8508657202027, 157.85647008510156, 1174.1441753839629, 156.0324962063972, 190.09642138428873, 1078.4406066775803, 461.7031750215906, 885.7131844048909, 234.4226120120556, 1405.8634840796133, 541.451857569139, 202.79817158009612, 661.6855203674936, 1133.6048982413504, 360.8601547223778, 348.5427688886939, 499.42452784623663, 287.78226454483547, 420.54355243779713, 1698.6014277377687, 576.2453932742272, 909.766903547928, 1154.017486684419, 1251.6814209320037, 518.7518215518215, 666.9381794932293, 766.417260380579, 557.1198095796466, 388.20429216879046, 354.2182303654632, 44.02255360547867, 40.01987619516018, 1092.40904844199, 241.0345988980824, 507.95027094270347, 2603.3418113053035, 542.1855242741035, 121.93171102704052, 232.28156236902646, 190.83871848523233, 101.8949555337691, 77.82147839852793, 1676.118655799542, 30.98537439597584, 1610.2792307262048, 35.90419442775875, 64.94605278796942, 280.5505479383528, 16.987430612281695, 162.75718832535537, 876.4622886750151, 310.71406292488194, 125.79434018507689, 22.99688597504661, 10.987420687653133, 99.43609767830308, 783.7182591776877, 21.898347907771303, 83.80521810450671, 410.2697307962858, 284.57315053783344, 721.4198968950905, 3340.526319275069, 626.4600460196752, 417.0804922629573, 1029.5367061552308, 2025.9638543551157, 636.1172029891593, 610.2671443560995, 355.8533014405318, 4542.94700215667, 615.265152044647, 1668.3278340239692, 3407.124177199685, 2272.761552998034, 61.970424629943956, 56.97233676409485, 114.94830788745311, 114.92922401759385, 43.97730791644139, 425.7421556232139, 35.9803685686922, 61.96581438039244, 31.979851382267384, 65.96664328266662, 83.96499502941197, 23.984950865603594, 85.96704814054401, 22.985328546173367, 22.985330656652636, 21.98571189537891, 64.95741488614351, 18.986857469137632, 17.987242433526777, 17.98724353005825, 17.98722314809595, 61.95479819737819, 40.963821018709424, 15.988009243944816, 38.97037936580687, 14.988389865157103, 14.988391098630405, 269.77967647018124, 106.89720658679215, 12.989155242367177, 272.7622080702352, 379.50023115042757, 517.6023168267202, 100.91018167105564, 646.379788615287, 422.8022468783614, 48.97976939783232, 336.76564249948444, 774.4807783123263, 439.95387980272824, 495.40960613046894, 159.8896367770561, 619.6529535914755, 456.02834674071875, 176.85858128931693, 164.75038866322225, 184.64626709537245, 851.7820734417161, 452.8404249989652, 514.0508885038961, 650.6466388215223, 424.29340079465896, 467.10917480350474, 263.5171551439393, 1034.9948621193423, 1354.9371966548379, 1277.5188460768356, 213.48364610004617, 842.0292253999781, 308.47535918756523, 1133.6048982413504, 567.5662601378355, 635.052319707397, 404.2142401759162, 291.954387694846, 840.068990092643, 754.7164435055118, 738.0789803972255, 1470.129077474171, 871.085364205254, 1698.6014277377687, 82.21835600808856, 195.13226430103305, 2079.3389371823596, 47.53358610376731, 46.566099675026415, 28.73075886669087, 29.701691467801407, 176.20866541674306, 286.79070632294025, 144.77322726138456, 18.81389540585252, 31.736390434392128, 20.856514669860914, 144.63012359470216, 272.0497268069913, 24.943333576521923, 15.794937464044787, 45.66251108616189, 47.696844220462424, 1785.6998145378234, 107.35149291296669, 54.595868283456895, 200.41846907278506, 742.3292370893017, 305.1539589038583, 193.15491360493496, 306.9474512102851, 70.54881202158455, 142.85647998759228, 116.19737338663168, 1447.0996450233915, 172.31697709959315, 1610.2792307262048, 876.4622886750151, 3407.124177199685, 311.5567738487107, 137.33338442219156, 1899.9781285238512, 3262.4164257642406, 434.63575786581987, 824.2040163437326, 3340.526319275069, 882.0179146968834, 753.0342202325902, 2603.3418113053035, 547.7429125298626, 1676.118655799542, 955.8669304263391, 713.5981421176073, 1568.9343195229787, 1218.564161614295, 1057.3737219276059, 921.6310157373719, 158.42674943244918, 85.22393906893927, 654.6406147806968, 55.142673021899675, 46.117854106992624, 45.11466371181626, 41.10406532082342, 199.45311423170963, 153.35633721027176, 27.064044331807352, 88.22560297219313, 20.046126956872726, 76.16119653730388, 23.052781369918087, 11.019864938409556, 246.30143553819659, 122.09875309638589, 18.007880901592888, 18.009303448060265, 58.019411177653325, 69.07373477598094, 16.00197470356588, 274.1511414614122, 625.0597801537778, 167.18932125346115, 31.044479550302896, 39.92911035384, 24.027137468094782, 12.962881023518523, 24.974838089436652, 111.12721494362802, 942.2814117653714, 138.84007554400785, 150.47580667645218, 209.00981140347415, 121.930800563494, 550.9821177647171, 326.0015488686692, 344.2148509355252, 538.53271333369, 317.1030540743422, 668.5826272578647, 281.05941410185443, 2272.761552998034, 635.052319707397, 449.2005884262698, 576.2453932742272, 1447.0996450233915, 1470.9178477507414, 1910.4745926891173, 436.9974080238487, 1154.017486684419, 3349.8450457254417, 1005.4420115702089, 358.86173876773825, 479.47890890810527, 68.2175433808332, 62.286029265697806, 54.37734637004747, 50.42299952782951, 37.57139638144433, 64.27228521700215, 59.323241570073776, 29.66335946039142, 23.731203071567336, 294.7075725853738, 21.75403208486337, 415.3562270604117, 76.15238391740749, 16.811104755409513, 12.856763571982928, 27.69706806690954, 1830.1100472344478, 58.33754424732002, 56.40941301710835, 19.773003612405304, 27.688160882650283, 42.50543477120611, 18.799888100199688, 1116.7669986312862, 22.7275134199986, 115.6346683535256, 76.17521791108065, 65.35448603878235, 293.625961809603, 892.2347129371482, 158.45870300710288, 643.2143387764677, 310.1587385606709, 347.7006978944244, 565.1355548402208, 1899.9781285238512, 676.1348728207578, 292.57541632784717, 432.85268022294014, 221.95022742731686, 740.1694607972365, 831.526251236358, 628.4733563010149, 1154.017486684419, 2072.433522864484, 385.5135996078744, 686.6872455650183, 921.6310157373719, 422.066024553858, 631.4023024868005, 824.2040163437326, 3036.129629677015, 711.5274186272256, 1405.8634840796133, 1470.9178477507414, 1354.9371966548379, 3349.8450457254417, 1743.7288145039688, 1785.6998145378234, 337.719988321516, 53.638908990960395, 703.2186462262212, 200.63717572814465, 356.67979685504514, 40.728591806976645, 137.19274775740178, 39.70940381239718, 18.861676197287434, 34.745644699582876, 46.73090383110132, 20.847303252102797, 14.908545660201545, 161.03350623676425, 159.59123089848433, 134.01214844286545, 286.2772224917861, 28.85660429713715, 46.64699064399918, 38.70788999291457, 304.8798913347316, 17.92368935214937, 30.815427518561403, 53.60067568925244, 21.84359767281997, 257.46867398421733, 181.4849203826659, 23.82998409950742, 55.647795118885846, 44.79199205497502, 329.2357897208794, 389.60885847907696, 601.227784410623, 145.17473579466517, 185.4927985958751, 3402.4836187261817, 232.46708235141347, 816.1200187605782, 311.57159958110606, 384.51338321487026, 610.2671443560995, 619.8516311957366, 1344.1725075995284, 1470.129077474171, 518.7518215518215, 885.7131844048909, 1582.6473825648181, 604.3128114982723, 826.4755286088682, 454.0308790512626, 342.2684602574098, 149.67774843375565, 105.77105250647183, 92.79863017066336, 89.80500015433667, 72.84104386346732, 59.86861677262367, 59.86861702517572, 42.904666745886374, 64.86146774050049, 25.940746594310102, 79.809579115959, 24.943637002669938, 1367.0947168857942, 51.88432761684831, 32.929592235384106, 32.917958565138285, 10.972535024049323, 598.7920664435186, 57.86213907573393, 248.1867927231209, 40.8367491666702, 44.83311138374734, 27.923447254544726, 53.90286945139788, 42.838014500186155, 31.901123107883503, 29.90576774396872, 31.871482905918054, 497.71677683293177, 364.0000596121707, 3036.129629677015, 3349.8450457254417, 536.0695791250955, 854.6561923134509, 272.23248508432755, 508.7177100210963, 1057.3132419216809, 795.159578064478, 151.55410041621076, 624.7141662709793, 2072.433522864484, 405.94746245590835, 248.0935059679423, 1698.6014277377687, 499.42452784623663, 526.7006683918374, 942.2814117653714, 705.1506970791969, 623.9884635201691, 3340.526319275069, 1268.1222115345843, 928.276104531636, 1021.7795043492678, 2128.9839041865553, 4542.94700215667, 994.0913752104573, 1155.0165993335968, 369.3588561384092, 427.4801091912491, 127.0612948073647, 65.01241360820778, 44.329458063940734, 34.48043552152963, 60.09602749849285, 421.72189298386047, 85.70006446774842, 76.85424260145334, 30.54766133223734, 52.25224695670497, 59.10804189376195, 21.70028372897349, 13.799039050684732, 78.8833495304236, 36.482293889127085, 90.7988513363513, 10.849622797429518, 35.55835297742255, 103.66941837608715, 12.816149186018635, 41.49333327940557, 114.75913699596909, 536.967578099516, 520.608132138032, 37.56124659019987, 59.22375603004046, 107.78667181004026, 15.751205131203504, 106.89260360348405, 427.972210051783, 189.6324883101196, 254.4677422683444, 272.957795401595, 225.3572202408984, 401.7241313754899, 1272.2520995922882, 904.4580754865594, 2272.761552998034, 280.18103473328165, 570.9940039444256, 464.4442545802467, 628.4733563010149, 285.10426899506416, 604.3128114982723, 1027.276154373746, 1830.1100472344478, 530.3836200279347, 324.48660383267713, 121.43278885332516, 95.55319932665584, 507.6092109825114, 51.75723645324571, 49.76651263117965, 41.80360794193423, 474.7369287575648, 129.39309777881084, 71.6633480240193, 111.45505540487676, 57.71573233958962, 22.89171803073251, 48.78042158741044, 1160.6229380209213, 21.895930453751028, 128.25777803594832, 19.896670366250046, 116.35555876994566, 186.15358079072976, 54.740015322325085, 435.6453621225682, 269.05571178679503, 331.584355840303, 73.54883510909006, 70.64939136112716, 297.8227276377975, 16.89488936117567, 955.8669304263391, 47.856575467615016, 666.9381794932293, 366.96069923514017, 1272.2520995922882, 1422.9324350716472, 644.4457006955242, 355.9746075814097, 326.711399584444, 540.1403784627153, 628.4733563010149, 976.4854433753638, 707.6253663414407, 623.9884635201691, 299.2591806475534, 1536.9437494667811, 1139.4384115290243, 3340.526319275069, 37.3449871450499, 34.31649021370269, 17.15022692337227, 19.153123250775803, 317.32029959569866, 233.64118462799655, 14.103493318072944, 66.46345332499556, 24.14063047557647, 89.44457311740994, 19.114011855353468, 192.2928395826266, 1666.1270346723209, 21.098457403689373, 1910.4745926891173, 41.281121942442866, 16.077736133103222, 470.34990333757355, 41.14921191110088, 107.61121845016947, 1388.8908554273696, 1323.4154312752466, 15.05184103796296, 63.19617386670281, 853.3681197893545, 951.4575037331547, 38.060855881314005, 851.0521279970109, 1321.550810124868, 40.11728602746762, 959.016574503753, 950.6592838904506, 841.7173597548209, 1229.7931869260096, 1005.2912474430161, 997.378646489187, 1595.0114320753235, 1230.290090196638, 1021.2882705224764, 1450.9946199057606, 1314.8785002589573, 1551.784121230647, 1417.947825726025, 1528.9505152451331, 1564.8305382058522, 1060.4903839619644, 1051.0801175665836, 858.0887045896559, 1516.1263359551942, 1776.5084096583716, 1138.169684990944, 976.4854433753638, 2652.2822508768513, 121.39269452302567, 119.40262517707355, 136.32377680808202, 118.41355639728745, 103.47357113533954, 20.882888635010197, 106.42700903660737, 193.9737989676401, 108.35400251857595, 128.30599197261301, 1743.7288145039688, 68.77860264056464, 135.29526154838234, 69.6639672049426, 153.78280526726797, 42.700138954842835, 138.4011734715021, 36.91402191676614, 178.83676867128807, 31.76280674570231, 475.46627701421124, 281.05941410185443, 559.6058243309301, 12.896553769796895, 10.912497092790943, 20.863041092562018, 49.80862132917278, 33.7870927798991, 79.71978226990679, 262.26161998326023, 558.8908295375547, 107.51591089390932, 230.92943763311771, 237.41224881243795, 189.9189353191692, 795.159578064478, 1029.5367061552308, 1027.276154373746, 361.4785569894469, 3349.8450457254417, 1470.9178477507414, 1522.734895227806, 2128.9839041865553, 3262.4164257642406, 346.81370875485385, 304.3273066495711, 92.8830400374194, 311.2449545960843, 85.96664559212248, 79.05024897197042, 65.21745399850981, 438.7919724299236, 315.2213115550539, 33.59962591401091, 160.05961591798913, 121.53370455864363, 290.55447736448775, 96.84530720196042, 21.742900353862577, 20.754882306173222, 41.51474314294785, 36.55506940831866, 1089.6000277359356, 69.21396270979527, 96.80598831724885, 87.05974375161689, 16.803263424780795, 215.01192308260795, 59.29389094064193, 1585.6943514747795, 31.652677159096502, 252.80125201946967, 110.61993204848211, 74.20987746765486, 284.1264266006077, 187.06410769008787, 535.7642902745009, 1344.1725075995284, 196.1252815274238, 299.99364302665896, 136.77580841215095, 166.5067938849635, 501.0411031184764, 2025.9638543551157, 575.3948000792041, 607.589151295849, 4542.94700215667, 1522.734895227806, 255.24478847090916, 721.4198968950905, 1051.0801175665836, 1005.2912474430161, 997.7407274803489, 950.6592838904506, 3340.526319275069, 1536.9437494667811, 1354.9371966548379, 1417.947825726025, 187.34189609549878, 76.32597289053318, 169.5111664047223, 59.47537354934015, 57.49290851078405, 142.73203126459487, 102.10899492772262, 264.63724874695816, 29.738935221751827, 127.90035522286863, 38.66457634678193, 15.861945070667282, 14.870731326591644, 28.74092218719586, 83.2786746922129, 28.76214688081642, 9.914663880689336, 48.59585243456164, 91.22432783948913, 1668.3278340239692, 18.84893956235666, 347.3526613871981, 103.11124253809555, 34.73322859633956, 348.2955379800592, 114.96358305709104, 888.39192678013, 260.94897284596385, 233.35364703551602, 15.86765615645437, 997.7407274803489, 757.3396788903108, 190.0893501030147, 4542.94700215667, 1268.1222115345843, 1021.7795043492678, 636.1172029891593, 222.52391390533722, 1536.9437494667811, 2652.2822508768513, 602.432393886075, 2025.9638543551157, 379.88686785254396, 1582.6473825648181, 2128.9839041865553, 783.7182591776877, 615.265152044647, 742.3292370893017, 3407.124177199685, 755.8636035437383, 705.0033559111642, 1522.734895227806, 1551.784121230647, 1417.947825726025, 1138.169684990944, 1314.8785002589573, 3340.526319275069, 1351.312289315096, 1595.0114320753235, 1191.4455554447745, 2072.433522864484, 111.66311563757216, 57.81849630770153, 31.87483301590464, 1321.838032231308, 14.953798081116862, 256.0358667568805, 18.951730176475454, 31.86648874993402, 15.940017255955137, 630.764130294346, 11.96570553776034, 17.904187304367603, 83.50885239604536, 49.653984249130964, 15.9308455253097, 27.009203017090016, 3262.4164257642406, 11.924876016322159, 31.80635770784871, 235.40718385943796, 57.60387616644831, 9.94743920083915, 114.40926195610044, 18.828805546785905, 49.80862132917278, 52.700581926657314, 47.69355862382365, 42.89395229328353, 11.953892979395356, 29.877184616125476, 305.1539589038583, 780.1827312500639, 111.3380513698695, 559.6058243309301, 348.5760809584433, 72.80869045827312, 671.5555174281512, 709.7825559487933, 570.9940039444256, 882.0179146968834, 73.95552515952298, 704.1345903723193, 1028.8280777929333, 3407.124177199685, 132.31826548962778, 2609.2069996243545, 280.18103473328165, 842.0292253999781, 189.9189353191692, 558.8908295375547, 748.152901202981, 341.4258973449489, 1218.564161614295, 1900.5592027343616, 1164.7659451427821, 2457.8160165405616, 711.5274186272256, 458.806342344191, 665.1261503521223, 1447.0996450233915, 904.4580754865594, 1154.017486684419, 1666.1270346723209, 1470.129077474171], \"Category\": [\"Default\", \"Default\", \"Default\", \"Default\", \"Default\", \"Default\", \"Default\", \"Default\", \"Default\", \"Default\", \"Default\", \"Default\", \"Default\", \"Default\", \"Default\", \"Default\", \"Default\", \"Default\", \"Default\", \"Default\", \"Default\", \"Default\", \"Default\", \"Default\", \"Default\", \"Default\", \"Default\", \"Default\", \"Default\", \"Default\", \"Topic1\", \"Topic1\", \"Topic1\", \"Topic1\", \"Topic1\", \"Topic1\", \"Topic1\", \"Topic1\", \"Topic1\", \"Topic1\", \"Topic1\", \"Topic1\", \"Topic1\", \"Topic1\", \"Topic1\", \"Topic1\", \"Topic1\", \"Topic1\", \"Topic1\", \"Topic1\", \"Topic1\", \"Topic1\", \"Topic1\", \"Topic1\", \"Topic1\", \"Topic1\", \"Topic1\", \"Topic1\", \"Topic1\", \"Topic1\", \"Topic1\", \"Topic1\", \"Topic1\", \"Topic1\", \"Topic1\", \"Topic1\", \"Topic1\", \"Topic1\", \"Topic1\", \"Topic1\", \"Topic1\", \"Topic1\", \"Topic1\", \"Topic1\", \"Topic1\", \"Topic1\", \"Topic1\", \"Topic1\", \"Topic1\", \"Topic1\", \"Topic2\", \"Topic2\", \"Topic2\", \"Topic2\", \"Topic2\", \"Topic2\", \"Topic2\", \"Topic2\", \"Topic2\", \"Topic2\", \"Topic2\", \"Topic2\", \"Topic2\", \"Topic2\", \"Topic2\", \"Topic2\", \"Topic2\", \"Topic2\", \"Topic2\", \"Topic2\", \"Topic2\", \"Topic2\", \"Topic2\", \"Topic2\", \"Topic2\", \"Topic2\", \"Topic2\", \"Topic2\", \"Topic2\", \"Topic2\", \"Topic2\", \"Topic2\", \"Topic2\", \"Topic2\", \"Topic2\", \"Topic2\", \"Topic2\", \"Topic2\", \"Topic2\", \"Topic2\", \"Topic2\", \"Topic2\", \"Topic2\", \"Topic2\", \"Topic2\", \"Topic2\", \"Topic2\", \"Topic2\", \"Topic3\", \"Topic3\", \"Topic3\", \"Topic3\", \"Topic3\", \"Topic3\", \"Topic3\", \"Topic3\", \"Topic3\", \"Topic3\", \"Topic3\", \"Topic3\", \"Topic3\", \"Topic3\", \"Topic3\", \"Topic3\", \"Topic3\", \"Topic3\", \"Topic3\", \"Topic3\", \"Topic3\", \"Topic3\", \"Topic3\", \"Topic3\", \"Topic3\", \"Topic3\", \"Topic3\", \"Topic3\", \"Topic3\", \"Topic3\", \"Topic3\", \"Topic3\", \"Topic3\", \"Topic3\", \"Topic3\", \"Topic3\", \"Topic3\", \"Topic3\", \"Topic3\", \"Topic3\", \"Topic3\", \"Topic3\", \"Topic3\", \"Topic3\", \"Topic3\", \"Topic3\", \"Topic4\", \"Topic4\", \"Topic4\", \"Topic4\", \"Topic4\", \"Topic4\", \"Topic4\", \"Topic4\", \"Topic4\", \"Topic4\", \"Topic4\", \"Topic4\", \"Topic4\", \"Topic4\", \"Topic4\", \"Topic4\", \"Topic4\", \"Topic4\", \"Topic4\", \"Topic4\", \"Topic4\", \"Topic4\", \"Topic4\", \"Topic4\", \"Topic4\", \"Topic4\", \"Topic4\", \"Topic4\", \"Topic4\", \"Topic4\", \"Topic4\", \"Topic4\", \"Topic4\", \"Topic4\", \"Topic4\", \"Topic4\", \"Topic4\", \"Topic4\", \"Topic4\", \"Topic4\", \"Topic4\", \"Topic4\", \"Topic4\", \"Topic4\", \"Topic4\", \"Topic4\", \"Topic4\", \"Topic4\", \"Topic4\", \"Topic4\", \"Topic4\", \"Topic4\", \"Topic4\", \"Topic4\", \"Topic4\", \"Topic4\", \"Topic4\", \"Topic4\", \"Topic4\", \"Topic4\", \"Topic4\", \"Topic4\", \"Topic4\", \"Topic4\", \"Topic4\", \"Topic4\", \"Topic4\", \"Topic4\", \"Topic4\", \"Topic4\", \"Topic4\", \"Topic4\", \"Topic5\", \"Topic5\", \"Topic5\", \"Topic5\", \"Topic5\", \"Topic5\", \"Topic5\", \"Topic5\", \"Topic5\", \"Topic5\", \"Topic5\", \"Topic5\", \"Topic5\", \"Topic5\", \"Topic5\", \"Topic5\", \"Topic5\", \"Topic5\", \"Topic5\", \"Topic5\", \"Topic5\", \"Topic5\", \"Topic5\", \"Topic5\", \"Topic5\", \"Topic5\", \"Topic5\", \"Topic5\", \"Topic5\", \"Topic5\", \"Topic5\", \"Topic5\", \"Topic5\", \"Topic5\", \"Topic5\", \"Topic5\", \"Topic5\", \"Topic5\", \"Topic5\", \"Topic5\", \"Topic5\", \"Topic5\", \"Topic5\", \"Topic5\", \"Topic5\", \"Topic5\", \"Topic6\", \"Topic6\", \"Topic6\", \"Topic6\", \"Topic6\", \"Topic6\", \"Topic6\", \"Topic6\", \"Topic6\", \"Topic6\", \"Topic6\", \"Topic6\", \"Topic6\", \"Topic6\", \"Topic6\", \"Topic6\", \"Topic6\", \"Topic6\", \"Topic6\", \"Topic6\", \"Topic6\", \"Topic6\", \"Topic6\", \"Topic6\", \"Topic6\", \"Topic6\", \"Topic6\", \"Topic6\", \"Topic6\", \"Topic6\", \"Topic6\", \"Topic6\", \"Topic6\", \"Topic6\", \"Topic6\", \"Topic6\", \"Topic6\", \"Topic6\", \"Topic6\", \"Topic6\", \"Topic6\", \"Topic6\", \"Topic6\", \"Topic6\", \"Topic6\", \"Topic6\", \"Topic6\", \"Topic6\", \"Topic6\", \"Topic6\", \"Topic6\", \"Topic6\", \"Topic6\", \"Topic6\", \"Topic6\", \"Topic6\", \"Topic6\", \"Topic6\", \"Topic6\", \"Topic6\", \"Topic6\", \"Topic6\", \"Topic6\", \"Topic7\", \"Topic7\", \"Topic7\", \"Topic7\", \"Topic7\", \"Topic7\", \"Topic7\", \"Topic7\", \"Topic7\", \"Topic7\", \"Topic7\", \"Topic7\", \"Topic7\", \"Topic7\", \"Topic7\", \"Topic7\", \"Topic7\", \"Topic7\", \"Topic7\", \"Topic7\", \"Topic7\", \"Topic7\", \"Topic7\", \"Topic7\", \"Topic7\", \"Topic7\", \"Topic7\", \"Topic7\", \"Topic7\", \"Topic7\", \"Topic7\", \"Topic7\", \"Topic7\", \"Topic7\", \"Topic7\", \"Topic7\", \"Topic7\", \"Topic7\", \"Topic7\", \"Topic7\", \"Topic7\", \"Topic7\", \"Topic7\", \"Topic7\", \"Topic7\", \"Topic7\", \"Topic7\", \"Topic8\", \"Topic8\", \"Topic8\", \"Topic8\", \"Topic8\", \"Topic8\", \"Topic8\", \"Topic8\", \"Topic8\", \"Topic8\", \"Topic8\", \"Topic8\", \"Topic8\", \"Topic8\", \"Topic8\", \"Topic8\", \"Topic8\", \"Topic8\", \"Topic8\", \"Topic8\", \"Topic8\", \"Topic8\", \"Topic8\", \"Topic8\", \"Topic8\", \"Topic8\", \"Topic8\", \"Topic8\", \"Topic8\", \"Topic8\", \"Topic8\", \"Topic8\", \"Topic8\", \"Topic8\", \"Topic8\", \"Topic8\", \"Topic8\", \"Topic8\", \"Topic8\", \"Topic8\", \"Topic8\", \"Topic8\", \"Topic8\", \"Topic8\", \"Topic8\", \"Topic8\", \"Topic8\", \"Topic8\", \"Topic8\", \"Topic8\", \"Topic8\", \"Topic8\", \"Topic8\", \"Topic8\", \"Topic8\", \"Topic8\", \"Topic8\", \"Topic8\", \"Topic8\", \"Topic8\", \"Topic8\", \"Topic8\", \"Topic8\", \"Topic8\", \"Topic8\", \"Topic8\", \"Topic8\", \"Topic8\", \"Topic8\", \"Topic8\", \"Topic8\", \"Topic9\", \"Topic9\", \"Topic9\", \"Topic9\", \"Topic9\", \"Topic9\", \"Topic9\", \"Topic9\", \"Topic9\", \"Topic9\", \"Topic9\", \"Topic9\", \"Topic9\", \"Topic9\", \"Topic9\", \"Topic9\", \"Topic9\", \"Topic9\", \"Topic9\", \"Topic9\", \"Topic9\", \"Topic9\", \"Topic9\", \"Topic9\", \"Topic9\", \"Topic9\", \"Topic9\", \"Topic9\", \"Topic9\", \"Topic9\", \"Topic9\", \"Topic9\", \"Topic9\", \"Topic9\", \"Topic9\", \"Topic9\", \"Topic9\", \"Topic9\", \"Topic9\", \"Topic9\", \"Topic9\", \"Topic9\", \"Topic9\", \"Topic9\", \"Topic9\", \"Topic9\", \"Topic9\", \"Topic9\", \"Topic9\", \"Topic9\", \"Topic9\", \"Topic9\", \"Topic9\", \"Topic10\", \"Topic10\", \"Topic10\", \"Topic10\", \"Topic10\", \"Topic10\", \"Topic10\", \"Topic10\", \"Topic10\", \"Topic10\", \"Topic10\", \"Topic10\", \"Topic10\", \"Topic10\", \"Topic10\", \"Topic10\", \"Topic10\", \"Topic10\", \"Topic10\", \"Topic10\", \"Topic10\", \"Topic10\", \"Topic10\", \"Topic10\", \"Topic10\", \"Topic10\", \"Topic10\", \"Topic10\", \"Topic10\", \"Topic10\", \"Topic10\", \"Topic10\", \"Topic10\", \"Topic10\", \"Topic10\", \"Topic10\", \"Topic10\", \"Topic10\", \"Topic10\", \"Topic10\", \"Topic10\", \"Topic10\", \"Topic10\", \"Topic10\", \"Topic10\", \"Topic10\", \"Topic10\", \"Topic10\", \"Topic10\", \"Topic10\", \"Topic10\", \"Topic10\", \"Topic10\", \"Topic10\", \"Topic11\", \"Topic11\", \"Topic11\", \"Topic11\", \"Topic11\", \"Topic11\", \"Topic11\", \"Topic11\", \"Topic11\", \"Topic11\", \"Topic11\", \"Topic11\", \"Topic11\", \"Topic11\", \"Topic11\", \"Topic11\", \"Topic11\", \"Topic11\", \"Topic11\", \"Topic11\", \"Topic11\", \"Topic11\", \"Topic11\", \"Topic11\", \"Topic11\", \"Topic11\", \"Topic11\", \"Topic11\", \"Topic11\", \"Topic11\", \"Topic11\", \"Topic11\", \"Topic11\", \"Topic11\", \"Topic11\", \"Topic11\", \"Topic11\", \"Topic11\", \"Topic11\", \"Topic11\", \"Topic11\", \"Topic11\", \"Topic11\", \"Topic11\", \"Topic11\", \"Topic11\", \"Topic11\", \"Topic11\", \"Topic11\", \"Topic11\", \"Topic11\", \"Topic11\", \"Topic11\", \"Topic11\", \"Topic11\", \"Topic11\", \"Topic11\", \"Topic11\", \"Topic11\", \"Topic11\", \"Topic11\", \"Topic12\", \"Topic12\", \"Topic12\", \"Topic12\", \"Topic12\", \"Topic12\", \"Topic12\", \"Topic12\", \"Topic12\", \"Topic12\", \"Topic12\", \"Topic12\", \"Topic12\", \"Topic12\", \"Topic12\", \"Topic12\", \"Topic12\", \"Topic12\", \"Topic12\", \"Topic12\", \"Topic12\", \"Topic12\", \"Topic12\", \"Topic12\", \"Topic12\", \"Topic12\", \"Topic12\", \"Topic12\", \"Topic12\", \"Topic12\", \"Topic12\", \"Topic12\", \"Topic12\", \"Topic12\", \"Topic12\", \"Topic12\", \"Topic12\", \"Topic12\", \"Topic12\", \"Topic12\", \"Topic12\", \"Topic12\", \"Topic12\", \"Topic12\", \"Topic12\", \"Topic12\", \"Topic12\", \"Topic12\", \"Topic12\", \"Topic13\", \"Topic13\", \"Topic13\", \"Topic13\", \"Topic13\", \"Topic13\", \"Topic13\", \"Topic13\", \"Topic13\", \"Topic13\", \"Topic13\", \"Topic13\", \"Topic13\", \"Topic13\", \"Topic13\", \"Topic13\", \"Topic13\", \"Topic13\", \"Topic13\", \"Topic13\", \"Topic13\", \"Topic13\", \"Topic13\", \"Topic13\", \"Topic13\", \"Topic13\", \"Topic13\", \"Topic13\", \"Topic13\", \"Topic13\", \"Topic13\", \"Topic13\", \"Topic13\", \"Topic13\", \"Topic13\", \"Topic13\", \"Topic13\", \"Topic13\", \"Topic13\", \"Topic13\", \"Topic13\", \"Topic13\", \"Topic13\", \"Topic13\", \"Topic13\", \"Topic13\", \"Topic13\", \"Topic13\", \"Topic13\", \"Topic13\", \"Topic13\", \"Topic13\", \"Topic13\", \"Topic13\", \"Topic13\", \"Topic13\", \"Topic13\", \"Topic13\", \"Topic13\", \"Topic14\", \"Topic14\", \"Topic14\", \"Topic14\", \"Topic14\", \"Topic14\", \"Topic14\", \"Topic14\", \"Topic14\", \"Topic14\", \"Topic14\", \"Topic14\", \"Topic14\", \"Topic14\", \"Topic14\", \"Topic14\", \"Topic14\", \"Topic14\", \"Topic14\", \"Topic14\", \"Topic14\", \"Topic14\", \"Topic14\", \"Topic14\", \"Topic14\", \"Topic14\", \"Topic14\", \"Topic14\", \"Topic14\", \"Topic14\", \"Topic14\", \"Topic14\", \"Topic14\", \"Topic14\", \"Topic14\", \"Topic14\", \"Topic14\", \"Topic14\", \"Topic14\", \"Topic14\", \"Topic14\", \"Topic14\", \"Topic14\", \"Topic14\", \"Topic14\", \"Topic14\", \"Topic14\", \"Topic14\", \"Topic14\", \"Topic15\", \"Topic15\", \"Topic15\", \"Topic15\", \"Topic15\", \"Topic15\", \"Topic15\", \"Topic15\", \"Topic15\", \"Topic15\", \"Topic15\", \"Topic15\", \"Topic15\", \"Topic15\", \"Topic15\", \"Topic15\", \"Topic15\", \"Topic15\", \"Topic15\", \"Topic15\", \"Topic15\", \"Topic15\", \"Topic15\", \"Topic15\", \"Topic15\", \"Topic15\", \"Topic15\", \"Topic15\", \"Topic15\", \"Topic15\", \"Topic15\", \"Topic15\", \"Topic15\", \"Topic15\", \"Topic15\", \"Topic15\", \"Topic15\", \"Topic15\", \"Topic15\", \"Topic15\", \"Topic15\", \"Topic15\", \"Topic15\", \"Topic15\", \"Topic15\", \"Topic15\", \"Topic16\", \"Topic16\", \"Topic16\", \"Topic16\", \"Topic16\", \"Topic16\", \"Topic16\", \"Topic16\", \"Topic16\", \"Topic16\", \"Topic16\", \"Topic16\", \"Topic16\", \"Topic16\", \"Topic16\", \"Topic16\", \"Topic16\", \"Topic16\", \"Topic16\", \"Topic16\", \"Topic16\", \"Topic16\", \"Topic16\", \"Topic16\", \"Topic16\", \"Topic16\", \"Topic16\", \"Topic16\", \"Topic16\", \"Topic16\", \"Topic16\", \"Topic16\", \"Topic16\", \"Topic16\", \"Topic16\", \"Topic16\", \"Topic16\", \"Topic16\", \"Topic16\", \"Topic16\", \"Topic16\", \"Topic16\", \"Topic16\", \"Topic16\", \"Topic16\", \"Topic16\", \"Topic16\", \"Topic16\", \"Topic16\", \"Topic16\", \"Topic16\", \"Topic16\", \"Topic16\", \"Topic17\", \"Topic17\", \"Topic17\", \"Topic17\", \"Topic17\", \"Topic17\", \"Topic17\", \"Topic17\", \"Topic17\", \"Topic17\", \"Topic17\", \"Topic17\", \"Topic17\", \"Topic17\", \"Topic17\", \"Topic17\", \"Topic17\", \"Topic17\", \"Topic17\", \"Topic17\", \"Topic17\", \"Topic17\", \"Topic17\", \"Topic17\", \"Topic17\", \"Topic17\", \"Topic17\", \"Topic17\", \"Topic17\", \"Topic17\", \"Topic17\", \"Topic17\", \"Topic17\", \"Topic17\", \"Topic17\", \"Topic17\", \"Topic17\", \"Topic17\", \"Topic17\", \"Topic17\", \"Topic17\", \"Topic17\", \"Topic17\", \"Topic17\", \"Topic18\", \"Topic18\", \"Topic18\", \"Topic18\", \"Topic18\", \"Topic18\", \"Topic18\", \"Topic18\", \"Topic18\", \"Topic18\", \"Topic18\", \"Topic18\", \"Topic18\", \"Topic18\", \"Topic18\", \"Topic18\", \"Topic18\", \"Topic18\", \"Topic18\", \"Topic18\", \"Topic18\", \"Topic18\", \"Topic18\", \"Topic18\", \"Topic18\", \"Topic18\", \"Topic18\", \"Topic18\", \"Topic18\", \"Topic18\", \"Topic18\", \"Topic18\", \"Topic18\", \"Topic18\", \"Topic18\", \"Topic18\", \"Topic18\", \"Topic18\", \"Topic18\", \"Topic18\", \"Topic18\", \"Topic18\", \"Topic18\", \"Topic18\", \"Topic18\", \"Topic18\", \"Topic18\", \"Topic18\", \"Topic18\", \"Topic18\", \"Topic18\", \"Topic18\", \"Topic18\", \"Topic18\", \"Topic19\", \"Topic19\", \"Topic19\", \"Topic19\", \"Topic19\", \"Topic19\", \"Topic19\", \"Topic19\", \"Topic19\", \"Topic19\", \"Topic19\", \"Topic19\", \"Topic19\", \"Topic19\", \"Topic19\", \"Topic19\", \"Topic19\", \"Topic19\", \"Topic19\", \"Topic19\", \"Topic19\", \"Topic19\", \"Topic19\", \"Topic19\", \"Topic19\", \"Topic19\", \"Topic19\", \"Topic19\", \"Topic19\", \"Topic19\", \"Topic19\", \"Topic19\", \"Topic19\", \"Topic19\", \"Topic19\", \"Topic19\", \"Topic19\", \"Topic19\", \"Topic19\", \"Topic19\", \"Topic19\", \"Topic19\", \"Topic19\", \"Topic19\", \"Topic19\", \"Topic19\", \"Topic19\", \"Topic19\", \"Topic19\", \"Topic19\", \"Topic19\", \"Topic19\", \"Topic19\", \"Topic19\", \"Topic19\", \"Topic19\", \"Topic19\", \"Topic19\", \"Topic19\", \"Topic19\", \"Topic19\", \"Topic20\", \"Topic20\", \"Topic20\", \"Topic20\", \"Topic20\", \"Topic20\", \"Topic20\", \"Topic20\", \"Topic20\", \"Topic20\", \"Topic20\", \"Topic20\", \"Topic20\", \"Topic20\", \"Topic20\", \"Topic20\", \"Topic20\", \"Topic20\", \"Topic20\", \"Topic20\", \"Topic20\", \"Topic20\", \"Topic20\", \"Topic20\", \"Topic20\", \"Topic20\", \"Topic20\", \"Topic20\", \"Topic20\", \"Topic20\", \"Topic20\", \"Topic20\", \"Topic20\", \"Topic20\", \"Topic20\", \"Topic20\", \"Topic20\", \"Topic20\", \"Topic20\", \"Topic20\", \"Topic20\", \"Topic20\", \"Topic20\", \"Topic20\", \"Topic20\", \"Topic20\", \"Topic20\", \"Topic20\", \"Topic20\", \"Topic20\", \"Topic20\", \"Topic20\", \"Topic20\", \"Topic20\", \"Topic20\", \"Topic20\", \"Topic20\", \"Topic20\", \"Topic20\", \"Topic20\", \"Topic20\", \"Topic20\", \"Topic20\", \"Topic20\"], \"logprob\": [30.0, 29.0, 28.0, 27.0, 26.0, 25.0, 24.0, 23.0, 22.0, 21.0, 20.0, 19.0, 18.0, 17.0, 16.0, 15.0, 14.0, 13.0, 12.0, 11.0, 10.0, 9.0, 8.0, 7.0, 6.0, 5.0, 4.0, 3.0, 2.0, 1.0, -4.936, -3.8134, -5.059, -4.3627, -5.1839, -5.5143, -4.8691, -5.6581, -5.6701, -6.0282, -4.5684, -5.4655, -5.1904, -4.9918, -6.8295, -7.0426, -4.5266, -5.5261, -5.7082, -4.636, -2.4716, -4.2797, -6.2447, -7.2369, -6.2316, -4.7675, -5.067, -2.451, -6.6044, -5.8712, -3.8468, -2.5509, -4.3697, -4.2198, -4.6032, -4.0727, -4.2473, -4.1305, -4.178, -4.8817, -4.7005, -4.9314, -4.2834, -4.5278, -4.4631, -4.6677, -4.8, -4.7844, -4.8712, -4.8476, -3.5436, -4.8384, -3.4513, -6.0245, -5.0192, -3.862, -5.9705, -5.6468, -4.3139, -6.1468, -4.9424, -5.5637, -3.101, -3.3048, -6.1859, -5.4354, -6.1194, -5.0776, -4.9611, -5.475, -5.798, -4.9079, -6.1111, -5.1337, -5.3537, -6.5404, -2.3813, -5.1301, -7.0891, -6.1894, -6.1258, -4.6283, -4.8413, -4.8077, -4.5733, -4.2386, -5.1723, -4.5343, -4.8161, -4.5978, -4.2229, -4.3252, -4.2666, -4.9, -4.8802, -5.2244, -5.0285, -5.0861, -3.7243, -3.7624, -3.7736, -3.7257, -3.405, -3.2774, -2.4833, -3.3637, -6.5565, -5.9102, -2.7163, -3.3032, -5.907, -3.2233, -3.0793, -5.5144, -6.2809, -4.5179, -6.7341, -4.9307, -7.1236, -5.5789, -5.0128, -5.0013, -5.5042, -5.3038, -8.1737, -8.2094, -5.962, -5.0981, -5.9127, -4.8652, -3.8606, -4.5398, -5.5255, -4.8407, -4.7859, -4.9865, -4.4743, -4.4429, -4.8534, -5.0411, -4.8968, -4.9444, -4.9523, -5.0946, -4.4112, -6.3263, -6.6571, -6.7702, -6.811, -7.155, -7.2154, -7.2154, -7.2229, -7.3485, -7.3485, -6.5342, -7.4223, -7.4223, -7.4224, -7.5021, -7.6835, -6.9109, -6.7619, -5.4154, -6.9819, -6.6229, -6.4943, -7.1097, -7.3216, -7.5169, -5.6717, -5.4275, -7.53, -5.0784, -4.6789, -2.2953, -4.8218, -5.9893, -5.8427, -3.8755, -5.2371, -6.0169, -5.1625, -5.8867, -6.0699, -5.6475, -5.5157, -4.4702, -3.6038, -5.8173, -6.2097, -4.1497, -4.1346, -5.2029, -4.2626, -4.1637, -5.5283, -4.893, -5.472, -4.7423, -4.6749, -4.7203, -4.9333, -5.3386, -4.7794, -5.224, -4.8627, -5.0681, -5.0341, -5.0358, -5.1112, -5.1083, -5.1798, -5.1964, -5.1766, -5.2035, -5.1318, -5.4189, -4.6534, -5.63, -4.9199, -6.3028, -6.342, -5.3136, -6.6158, -1.942, -5.0805, -6.9941, -3.3159, -4.8753, -3.8075, -4.2711, -4.7595, -5.3841, -5.8447, -6.6814, -4.9265, -7.1754, -6.426, -6.3594, -7.3305, -4.7694, -4.5833, -6.0135, -2.9322, -4.8289, -4.0773, -4.1871, -4.0089, -4.9596, -4.2131, -4.1574, -4.5528, -4.2244, -4.1229, -4.4253, -4.9725, -4.5815, -4.4853, -4.9973, -5.1689, -5.1501, -4.8042, -5.9903, -6.0784, -6.6474, -4.2056, -6.9742, -5.4789, -6.4575, -7.2296, -7.3164, -5.9539, -5.7869, -7.5736, -7.7671, -7.7671, -6.2968, -8.0073, -6.3143, -7.7323, -6.8604, -7.2393, -5.8023, -6.2506, -6.4767, -7.1421, -5.7402, -4.5499, -7.6263, -5.7175, -4.6142, -4.6085, -5.1286, -3.7345, -3.5128, -4.9138, -5.4411, -5.6318, -3.844, -5.6603, -5.4992, -4.093, -4.8107, -4.3362, -5.4188, -4.1686, -4.8451, -5.5388, -4.8037, -4.5091, -5.2059, -5.2282, -5.1064, -5.4007, -5.2748, -4.7449, -5.1562, -4.9935, -4.9343, -4.936, -5.2484, -5.1958, -5.2092, -5.3111, -4.0139, -4.1079, -6.2001, -6.2976, -3.0051, -4.5504, -3.8344, -2.2821, -3.8639, -5.3851, -4.7768, -4.9992, -5.7108, -5.9851, -2.9469, -6.9559, -3.0198, -6.8471, -6.3146, -4.9035, -7.7176, -5.4687, -3.8158, -4.8602, -5.7839, -7.4857, -8.234, -6.0589, -4.0038, -7.5862, -6.2505, -4.7068, -5.0852, -4.3067, -3.024, -4.5141, -4.8776, -4.1714, -3.8677, -4.7897, -4.8755, -5.1859, -3.9534, -4.9717, -4.5639, -4.3531, -5.1504, -6.7383, -6.8238, -6.1229, -6.1259, -7.0877, -4.8219, -7.2932, -6.7553, -7.4189, -6.695, -6.4584, -7.7124, -6.4372, -7.7567, -7.7567, -7.8031, -6.7262, -7.9569, -8.0139, -8.0139, -8.014, -6.7797, -7.1936, -8.1386, -7.2486, -8.2074, -8.2074, -5.3223, -6.251, -8.361, -5.3295, -5.0045, -4.7094, -6.3196, -4.5081, -4.9469, -7.0379, -5.1901, -4.4289, -4.9654, -4.8659, -5.9307, -4.6836, -4.9709, -5.8489, -5.9165, -5.8183, -4.4542, -5.0252, -4.9181, -4.7452, -5.1542, -5.0925, -5.5739, -4.4955, -4.3412, -4.4192, -5.7621, -4.8512, -5.537, -4.758, -5.1816, -5.1219, -5.3872, -5.5818, -5.1198, -5.1949, -5.2084, -5.0989, -5.2352, -5.2395, -5.3335, -4.4713, -2.1226, -5.951, -6.0023, -6.5068, -6.5322, -4.765, -4.2902, -5.1871, -7.254, -6.7453, -7.1696, -5.3082, -4.7344, -7.1266, -7.587, -6.5809, -6.5511, -2.9519, -5.7661, -6.4598, -5.1628, -3.8569, -4.7749, -5.2571, -4.8075, -6.285, -5.5938, -5.814, -3.3284, -5.4878, -3.6117, -4.2639, -3.2105, -5.0997, -5.741, -3.7633, -3.5495, -4.9559, -4.5607, -3.7028, -4.6006, -4.6909, -4.0331, -4.8857, -4.4581, -4.7317, -4.8647, -4.9719, -5.0165, -5.0991, -5.1257, -4.3303, -4.9591, -2.921, -5.3969, -5.5791, -5.6021, -5.6967, -4.1255, -4.393, -6.1299, -4.9504, -6.4398, -5.1258, -6.3417, -7.0922, -3.9932, -4.7499, -6.6756, -6.6842, -5.5211, -5.354, -6.8201, -3.9934, -3.1764, -4.501, -6.2422, -6.0133, -6.5317, -7.188, -6.5326, -5.0708, -3.3697, -5.0423, -4.9817, -4.7748, -5.2004, -4.0883, -4.5049, -4.4663, -4.2694, -4.6201, -4.2648, -4.852, -3.9644, -4.5636, -4.7171, -4.6373, -4.3434, -4.5028, -4.5609, -4.8524, -4.7386, -4.8479, -4.9441, -4.667, -4.3788, -6.3385, -6.4308, -6.5689, -6.6457, -6.9465, -6.4159, -6.498, -7.1913, -7.4211, -4.903, -7.5119, -4.5679, -6.2651, -7.7831, -8.0697, -7.308, -3.1282, -6.5769, -6.6135, -7.6682, -7.337, -6.9217, -7.7449, -3.6678, -7.57, -5.9456, -6.3902, -6.557, -5.0559, -3.9679, -5.6921, -4.3787, -5.1329, -5.0322, -4.5949, -3.6084, -4.5714, -5.3403, -5.0509, -5.6051, -4.7173, -4.6502, -4.8541, -4.4212, -4.0248, -5.2134, -4.8258, -4.6436, -5.2066, -4.955, -4.8602, -4.2382, -5.0288, -4.6986, -4.7243, -4.8705, -4.6195, -4.9845, -4.9934, -3.7698, -5.6188, -3.0498, -4.3161, -3.7458, -5.9292, -4.7225, -5.9777, -6.7761, -6.1857, -5.929, -6.7561, -7.1063, -4.7328, -4.8121, -4.989, -4.3392, -6.6372, -6.1645, -6.392, -4.3559, -7.2026, -6.6669, -6.1155, -7.019, -4.5532, -4.9044, -6.9995, -6.1554, -6.3959, -4.4151, -4.2545, -3.8715, -5.2517, -5.0355, -2.781, -4.988, -4.0513, -4.7961, -4.6363, -4.3826, -4.4296, -4.1769, -4.3592, -4.9064, -4.7219, -4.5033, -4.9678, -4.9375, -4.2851, -4.5684, -5.399, -5.7489, -5.881, -5.9141, -6.126, -6.3249, -6.3249, -6.6645, -6.2601, -7.1827, -6.0653, -7.23, -3.2271, -6.4998, -6.9718, -6.9737, -8.0957, -4.1321, -6.4797, -5.0237, -6.8312, -6.7433, -7.217, -6.5633, -6.7947, -7.1078, -7.1813, -7.1189, -4.3777, -4.7022, -2.7125, -2.6353, -4.3918, -4.0472, -5.1725, -4.6583, -4.0494, -4.3268, -5.7129, -4.5946, -3.701, -5.0373, -5.409, -4.0643, -4.9227, -4.9087, -4.567, -4.7679, -4.8508, -3.8643, -4.4662, -4.671, -4.8637, -4.6231, -4.4169, -4.9138, -4.9102, -3.3678, -3.2219, -4.4368, -5.1141, -5.5039, -5.7614, -5.215, -3.2751, -4.8714, -4.9877, -5.9218, -5.4134, -5.329, -6.347, -6.8037, -5.0624, -5.8386, -4.9558, -7.0919, -5.9105, -4.8508, -7.0207, -5.8467, -4.8626, -3.3246, -3.3566, -6.007, -5.5913, -5.0262, -6.9817, -5.0767, -3.7329, -4.781, -4.5578, -4.5484, -4.7107, -4.33, -3.6363, -4.1525, -3.7253, -4.8451, -4.5388, -4.7915, -4.7735, -4.9864, -4.8348, -4.9794, -5.023, -5.0522, -3.8681, -4.8561, -5.0977, -3.4313, -5.7193, -5.7592, -5.9373, -3.5119, -4.8128, -5.4066, -4.9664, -5.6258, -6.5588, -5.8065, -2.6414, -6.6323, -4.8845, -6.7589, -5.0132, -4.6284, -5.8898, -3.8226, -4.3235, -4.1293, -5.6601, -5.7093, -4.3053, -7.264, -3.2669, -6.3073, -3.7773, -4.4499, -3.368, -3.6788, -4.3267, -4.7288, -4.8863, -4.7038, -4.684, -4.5901, -4.7886, -4.901, -5.1757, -4.8272, -4.9228, -4.8014, -7.0643, -7.1502, -7.8725, -7.8127, -5.0624, -5.3725, -8.1888, -6.6492, -7.7146, -6.4266, -7.9722, -5.6696, -3.5164, -7.915, -3.4623, -7.3167, -8.2712, -4.9077, -7.3449, -6.3857, -3.8713, -3.9223, -8.4034, -6.9739, -4.3749, -4.2708, -7.492, -4.394, -3.9613, -7.4595, -4.3027, -4.318, -4.4564, -4.0887, -4.292, -4.3104, -3.8765, -4.139, -4.3156, -4.033, -4.1341, -3.9914, -4.0842, -4.0341, -4.0336, -4.3713, -4.3845, -4.5519, -4.1058, -4.0096, -4.3977, -4.6832, -4.5046, -4.4369, -4.4535, -4.3274, -4.473, -4.6284, -6.3101, -4.6962, -4.106, -4.7275, -4.5823, -2.0003, -5.3599, -4.7091, -5.4052, -4.7321, -6.0513, -4.9667, -6.34, -4.7723, -6.5018, -3.8178, -4.3662, -3.7265, -7.5404, -7.7105, -7.0856, -6.2216, -6.6195, -5.7665, -4.6, -3.9351, -5.5495, -4.9294, -4.9291, -5.1816, -4.2691, -4.249, -4.3776, -4.9632, -4.0166, -4.4164, -4.7554, -4.7748, -4.8651, -4.1366, -4.2678, -5.4616, -4.2529, -5.5398, -5.6246, -5.8195, -3.9222, -4.2554, -6.4967, -4.9384, -5.2175, -4.3469, -5.4527, -6.9484, -6.9965, -6.3067, -6.4485, -3.0635, -5.8512, -5.52, -5.6384, -7.2934, -4.7554, -6.0846, -2.8123, -6.7363, -4.6769, -5.5048, -5.9139, -4.5821, -5.019, -4.1414, -3.4725, -5.1072, -4.8054, -5.4881, -5.3535, -4.606, -3.7447, -4.7365, -4.846, -4.1228, -4.689, -5.2508, -4.9677, -4.8838, -4.9124, -4.9156, -4.9579, -4.7678, -4.9805, -4.9923, -4.994, -5.5753, -6.4806, -5.6837, -6.7337, -6.7681, -5.8629, -6.1997, -5.2491, -7.443, -5.9891, -7.188, -8.1006, -8.1694, -7.5174, -6.466, -7.5412, -8.6093, -7.0292, -6.4146, -3.5413, -8.0365, -5.1318, -6.3503, -7.4438, -5.1407, -6.2574, -4.2234, -5.4485, -5.5914, -8.2813, -4.1554, -4.4586, -5.8002, -2.7708, -4.0463, -4.2481, -4.705, -5.6929, -4.0591, -3.6173, -4.8875, -3.9804, -5.3214, -4.3313, -4.1162, -4.8526, -5.0642, -4.9343, -4.025, -5.0014, -5.1098, -4.7838, -4.8154, -4.9136, -5.0065, -4.9949, -4.7376, -5.0055, -4.9851, -5.0555, -5.0216, -5.4019, -6.1095, -6.7494, -3.1129, -7.623, -4.8385, -7.5017, -6.9932, -7.6964, -4.0202, -7.9947, -7.6639, -6.1338, -6.6843, -7.8327, -7.3256, -2.5462, -8.162, -7.187, -5.214, -6.6281, -8.3972, -5.9594, -7.7679, -6.7954, -6.7417, -6.8536, -6.9674, -8.2453, -7.3326, -5.0199, -4.119, -6.0531, -4.5084, -4.9999, -6.4765, -4.4539, -4.4752, -4.6835, -4.3885, -6.471, -4.6155, -4.3313, -3.4223, -6.0161, -3.7867, -5.4675, -4.6682, -5.7682, -5.0382, -4.8564, -5.4174, -4.6052, -4.4171, -4.8495, -4.5258, -5.1278, -5.376, -5.238, -5.1187, -5.2655, -5.2599, -5.2185, -5.2634], \"loglift\": [30.0, 29.0, 28.0, 27.0, 26.0, 25.0, 24.0, 23.0, 22.0, 21.0, 20.0, 19.0, 18.0, 17.0, 16.0, 15.0, 14.0, 13.0, 12.0, 11.0, 10.0, 9.0, 8.0, 7.0, 6.0, 5.0, 4.0, 3.0, 2.0, 1.0, 2.9837, 2.983, 2.9827, 2.9826, 2.9822, 2.9794, 2.9785, 2.9779, 2.9778, 2.9729, 2.9692, 2.9689, 2.9684, 2.963, 2.9534, 2.945, 2.9427, 2.9182, 2.9159, 2.9091, 2.8944, 2.8939, 2.8453, 2.8448, 2.8402, 2.8304, 2.8192, 2.8151, 2.8108, 2.7888, 2.7571, 2.6555, 2.7239, 2.6207, 2.6625, 2.511, 2.3574, 2.1999, 2.1129, 2.4322, 2.2544, 2.0874, 1.061, 1.3926, 1.2518, 1.0772, 1.5499, 1.1833, 1.6973, 1.3465, 3.4982, 3.4908, 3.4893, 3.4833, 3.477, 3.4702, 3.4569, 3.4553, 3.454, 3.4475, 3.4384, 3.4328, 3.4291, 3.4156, 3.4077, 3.3922, 3.388, 3.3872, 3.3668, 3.3663, 3.3404, 3.2991, 3.2655, 3.2642, 3.2152, 3.1461, 3.142, 3.1231, 3.1097, 3.0901, 3.0894, 2.8462, 2.8375, 2.78, 2.682, 2.5509, 2.827, 2.4053, 2.5557, 2.3571, 1.782, 1.5444, 1.0778, 2.0445, 1.0403, 2.334, 0.7207, 0.5046, 4.1275, 4.1273, 4.1273, 4.1048, 4.0998, 4.097, 4.0793, 4.0508, 3.966, 3.9582, 3.9485, 3.6918, 3.5374, 3.5255, 3.4892, 3.4598, 3.217, 3.2141, 3.0933, 3.0293, 2.9131, 2.8358, 2.7952, 2.7113, 2.6697, 2.5219, 2.5113, 2.476, 2.4051, 2.4007, 2.2921, 2.1874, 2.064, 2.1238, 2.2031, 1.8368, 1.7254, 1.5867, 0.8701, 0.747, 1.285, 1.5781, 0.9728, 1.0904, 0.5657, 0.8731, 3.087, 3.0665, 3.0572, 3.0533, 3.0518, 3.0363, 3.033, 3.033, 3.0255, 3.025, 3.025, 3.021, 3.0202, 3.0202, 3.0201, 3.0145, 3.0001, 2.9932, 2.9875, 2.9655, 2.965, 2.9613, 2.9503, 2.9275, 2.9266, 2.9254, 2.8865, 2.8496, 2.8438, 2.8208, 2.7637, 2.6455, 2.7347, 2.8015, 2.7607, 2.4279, 2.6195, 2.7448, 2.5502, 2.673, 2.7068, 2.5862, 2.4443, 2.071, 1.7406, 2.5182, 2.6499, 1.5911, 1.583, 2.1322, 1.5305, 1.427, 2.2906, 1.6761, 2.125, 1.3644, 1.266, 1.144, 1.3065, 1.8212, 0.9356, 1.5649, 0.8358, 1.0292, 0.7151, 0.6901, 0.879, 0.7783, 0.9831, 0.9406, 0.6034, 0.8313, 3.5123, 3.5089, 3.506, 3.5054, 3.4935, 3.4879, 3.4865, 3.4825, 3.4749, 3.4669, 3.4628, 3.4532, 3.3745, 3.3733, 3.373, 3.2145, 3.1965, 3.1873, 3.1828, 3.1063, 3.0997, 3.0776, 3.048, 2.9915, 2.9824, 2.9575, 2.9101, 2.9007, 2.8472, 2.7588, 2.4953, 2.382, 2.3291, 2.5619, 2.1367, 2.0896, 1.8608, 1.6004, 1.4627, 1.7116, 1.9363, 1.3049, 1.0379, 1.2425, 2.0504, 1.342, 2.6547, 2.6509, 2.6499, 2.6405, 2.6379, 2.6323, 2.6304, 2.6258, 2.6237, 2.6203, 2.6183, 2.6122, 2.6084, 2.5973, 2.5972, 2.5861, 2.5803, 2.5693, 2.5679, 2.5493, 2.5375, 2.5346, 2.5194, 2.4869, 2.466, 2.4656, 2.4596, 2.4515, 2.4433, 2.4394, 2.3541, 2.3641, 2.2784, 2.2332, 2.3241, 2.365, 2.3796, 2.1608, 2.3627, 2.3264, 1.9969, 2.1275, 1.9506, 2.1972, 1.6561, 1.9337, 2.2221, 1.7747, 1.5309, 1.9788, 1.9911, 1.7533, 2.0102, 1.7568, 0.8906, 1.5604, 1.2664, 1.0878, 1.0049, 1.5733, 1.3747, 1.2222, 1.4393, 3.0977, 3.0953, 3.0883, 3.0861, 3.0719, 3.0378, 3.0083, 2.9265, 2.9136, 2.8845, 2.8483, 2.8225, 2.7383, 2.7336, 2.702, 2.6837, 2.6691, 2.6452, 2.585, 2.5328, 2.5231, 2.5121, 2.4814, 2.474, 2.4546, 2.4521, 2.4424, 2.4147, 2.4053, 2.4005, 2.3941, 2.3495, 2.337, 2.1852, 1.9353, 2.1189, 2.1623, 1.9648, 1.5916, 1.828, 1.7837, 2.0127, 0.6984, 1.6794, 1.0896, 0.5864, 0.194, 2.2081, 2.2068, 2.2058, 2.2029, 2.2018, 2.1974, 2.1969, 2.1913, 2.1891, 2.189, 2.1843, 2.1833, 2.182, 2.1816, 2.1816, 2.1796, 2.1732, 2.1725, 2.1696, 2.1696, 2.1695, 2.167, 2.1669, 2.1626, 2.1617, 2.1585, 2.1585, 2.1532, 2.1502, 2.1481, 2.1351, 2.1298, 2.1145, 2.1393, 2.0937, 2.0793, 2.1438, 2.0637, 1.9921, 2.0211, 2.0018, 2.0679, 1.9604, 1.9797, 2.0489, 2.0522, 2.0364, 1.8716, 1.9324, 1.9127, 1.8499, 1.8685, 1.8341, 1.9251, 1.6354, 1.5204, 1.5012, 1.9475, 1.4861, 1.8045, 1.282, 1.5501, 1.4975, 1.684, 1.8147, 1.2198, 1.2519, 1.2606, 0.6811, 1.0682, 0.3961, 3.3302, 3.3282, 3.3107, 3.2607, 3.23, 3.2084, 3.1498, 3.1365, 3.1242, 2.9109, 2.8845, 2.8703, 2.8658, 2.7907, 2.7328, 2.7299, 2.7265, 2.671, 2.6572, 2.6336, 2.631, 2.6133, 2.6099, 2.6064, 2.5774, 2.5525, 2.5389, 2.5318, 2.5175, 2.5039, 2.4674, 2.436, 2.0773, 2.0334, 1.729, 2.2318, 2.4097, 1.7602, 1.4334, 2.0428, 1.798, 1.2565, 1.6903, 1.7581, 1.1754, 1.8816, 1.1908, 1.4788, 1.6381, 0.7431, 0.9512, 1.0105, 1.1213, 3.6776, 3.6687, 3.668, 3.6663, 3.6629, 3.6618, 3.6603, 3.6521, 3.6473, 3.6451, 3.6428, 3.6353, 3.6144, 3.5937, 3.5813, 3.5734, 3.5184, 3.5067, 3.498, 3.4912, 3.4839, 3.4804, 3.4661, 3.4589, 3.453, 3.3955, 3.3727, 3.3623, 3.323, 3.3227, 3.2917, 2.8551, 3.0975, 3.0776, 2.956, 3.0692, 2.6731, 2.7813, 2.7656, 2.5149, 2.6938, 2.3032, 2.5826, 1.38, 2.0558, 2.2485, 2.0793, 1.4524, 1.2767, 0.9572, 2.1408, 1.2835, 0.1085, 1.2159, 2.5231, 2.5216, 2.5119, 2.5106, 2.5083, 2.5069, 2.5004, 2.4941, 2.4921, 2.4919, 2.4852, 2.4841, 2.4815, 2.4761, 2.4753, 2.468, 2.4496, 2.4438, 2.4328, 2.43, 2.427, 2.4206, 2.4151, 2.4018, 2.3943, 2.3871, 2.3795, 2.3771, 2.3499, 2.3363, 2.335, 2.3115, 2.3155, 2.228, 2.2031, 2.1896, 2.1411, 1.9151, 1.9853, 2.0541, 1.9519, 2.0655, 1.749, 1.6997, 1.7757, 1.6009, 1.4119, 1.9051, 1.7155, 1.6034, 1.8214, 1.6702, 1.4985, 0.8166, 1.4769, 1.1261, 1.0552, 0.9911, 0.3369, 0.6249, 0.5922, 3.4811, 3.4721, 3.4677, 3.4555, 3.4505, 3.437, 3.4292, 3.4138, 3.3599, 3.3394, 3.2997, 3.2798, 3.2649, 3.2587, 3.1884, 3.1862, 3.0769, 3.0736, 3.066, 3.0251, 2.9973, 2.9844, 2.9782, 2.976, 2.9703, 2.969, 2.9676, 2.9027, 2.8987, 2.8752, 2.8613, 2.8535, 2.8026, 2.8435, 2.8146, 2.1599, 2.6363, 2.3173, 2.5354, 2.4848, 2.2766, 2.2141, 1.6927, 1.4208, 1.9153, 1.5648, 1.2029, 1.7012, 1.4185, 2.6698, 2.6692, 2.6656, 2.663, 2.6617, 2.6614, 2.6589, 2.656, 2.656, 2.6497, 2.6407, 2.6347, 2.6282, 2.6265, 2.6256, 2.6243, 2.607, 2.6054, 2.582, 2.5461, 2.5354, 2.5353, 2.5324, 2.5269, 2.5267, 2.5226, 2.521, 2.5027, 2.4938, 2.4925, 2.4854, 2.4737, 2.3423, 2.3212, 2.3971, 2.2752, 2.2939, 2.1829, 2.0602, 2.0678, 2.3393, 2.0412, 1.7356, 2.0296, 2.1503, 1.5713, 1.937, 1.8978, 1.6578, 1.7468, 1.7862, 1.0949, 1.4616, 1.5688, 1.2802, 0.7866, 0.2349, 1.2575, 1.111, 3.7935, 3.7934, 3.7916, 3.7844, 3.7775, 3.7713, 3.7622, 3.7537, 3.7509, 3.7435, 3.732, 3.7036, 3.6647, 3.6488, 3.6448, 3.6428, 3.6377, 3.6087, 3.5971, 3.5915, 3.5812, 3.5018, 3.5009, 3.4677, 3.4626, 3.4615, 3.4402, 3.4005, 3.3667, 3.3345, 3.3246, 3.2811, 3.047, 2.9762, 2.9154, 2.9448, 2.7473, 2.2883, 2.1133, 1.6191, 2.5926, 2.187, 2.1408, 1.8563, 2.4339, 1.8343, 1.159, 0.538, 1.7474, 3.4228, 3.4176, 3.4158, 3.4121, 3.4073, 3.4066, 3.4029, 3.3985, 3.3975, 3.3945, 3.3931, 3.3918, 3.3836, 3.3793, 3.375, 3.3545, 3.3346, 3.3236, 3.3032, 3.2181, 3.1808, 3.1737, 3.1547, 3.14, 3.1151, 3.1061, 3.0714, 2.9821, 2.9436, 2.8976, 2.7931, 2.718, 2.5566, 2.1338, 2.2781, 2.4695, 2.3978, 2.0775, 1.9458, 1.5991, 1.7226, 1.736, 2.1961, 0.9084, 1.1121, 0.1578, 2.3886, 2.3873, 2.3586, 2.3079, 2.2508, 2.2469, 2.2379, 2.2273, 2.1747, 2.1529, 2.1505, 2.1445, 2.1384, 2.109, 2.0557, 2.036, 2.0245, 2.012, 2.011, 2.0089, 1.9655, 1.9628, 1.9582, 1.953, 1.949, 1.9443, 1.9419, 1.9326, 1.9252, 1.9218, 1.9045, 1.8979, 1.8813, 1.8698, 1.8681, 1.8576, 1.822, 1.8192, 1.8288, 1.7602, 1.7576, 1.7346, 1.732, 1.7067, 1.684, 1.7353, 1.7311, 1.7665, 1.6434, 1.5811, 1.6383, 1.506, 0.6853, 3.8372, 3.8371, 3.8307, 3.8259, 3.8054, 3.7241, 3.7094, 3.6994, 3.6602, 3.6364, 3.609, 3.4823, 3.4566, 3.4243, 3.3055, 3.2676, 3.1763, 3.1246, 3.1144, 3.113, 3.091, 3.0684, 3.0194, 2.9758, 2.9727, 2.9495, 2.9433, 2.9335, 2.9281, 2.9038, 2.8121, 2.846, 2.7016, 2.6743, 2.6449, 2.1255, 1.8873, 1.7608, 2.2197, 0.9399, 1.363, 0.9895, 0.6349, 0.1179, 3.0877, 3.0872, 3.0802, 3.0796, 3.0794, 3.0784, 3.0759, 3.067, 3.0644, 3.0619, 3.0592, 3.0555, 3.0544, 3.0473, 3.0454, 3.0439, 3.0404, 3.0258, 3.0161, 2.9847, 2.9804, 2.9681, 2.9582, 2.947, 2.906, 2.8921, 2.882, 2.8637, 2.8623, 2.8523, 2.8416, 2.8226, 2.648, 2.3971, 2.6871, 2.564, 2.6667, 2.6046, 2.2504, 1.7146, 1.9816, 1.8176, 0.529, 1.0559, 2.2801, 1.5243, 1.2318, 1.2477, 1.252, 1.2581, 0.1914, 0.755, 0.8693, 0.8221, 2.2649, 2.2575, 2.2565, 2.2539, 2.2534, 2.2492, 2.2474, 2.2457, 2.2377, 2.2328, 2.2302, 2.2086, 2.2043, 2.1974, 2.1849, 2.1729, 2.1699, 2.1604, 2.1452, 2.1123, 2.1001, 2.091, 2.087, 2.0816, 2.0794, 2.0711, 2.0603, 2.0603, 2.0292, 2.0275, 2.0122, 1.9847, 2.0255, 1.881, 1.8816, 1.8957, 1.9127, 1.9752, 1.6765, 1.5726, 1.7847, 1.479, 1.8119, 1.375, 1.2935, 1.5564, 1.5869, 1.529, 0.9146, 1.4439, 1.4051, 0.961, 0.9106, 0.9025, 1.0295, 0.8967, 0.2216, 0.8588, 0.7134, 0.9347, 0.4151, 2.9557, 2.9063, 2.8619, 2.7735, 2.7452, 2.6893, 2.6296, 2.6184, 2.6079, 2.6059, 2.5963, 2.5242, 2.5144, 2.4837, 2.4721, 2.4513, 2.4368, 2.4325, 2.4265, 2.3978, 2.3914, 2.3786, 2.3739, 2.3698, 2.3695, 2.3668, 2.3548, 2.347, 2.3468, 2.3434, 2.3324, 2.2946, 2.3075, 2.2375, 2.2193, 2.3088, 2.1097, 2.0329, 2.0422, 1.9024, 2.2987, 1.9006, 1.8056, 1.5172, 2.1718, 1.4196, 1.9702, 1.6691, 2.0583, 1.709, 1.5992, 1.8226, 1.3625, 1.1061, 1.1633, 0.7403, 1.3779, 1.5685, 1.3351, 0.6771, 1.0003, 0.7622, 0.4363, 0.5166]}, \"token.table\": {\"Topic\": [1, 7, 9, 10, 11, 14, 15, 17, 20, 1, 7, 8, 10, 12, 16, 20, 6, 7, 20, 5, 8, 14, 5, 8, 12, 14, 2, 5, 6, 8, 9, 11, 12, 13, 14, 15, 18, 19, 2, 18, 9, 11, 13, 14, 20, 4, 5, 6, 8, 10, 11, 16, 19, 2, 3, 4, 5, 6, 7, 8, 9, 10, 11, 12, 13, 14, 15, 16, 17, 18, 19, 20, 5, 6, 8, 18, 19, 2, 3, 4, 5, 6, 7, 8, 9, 10, 11, 13, 14, 18, 19, 20, 8, 5, 6, 8, 12, 16, 2, 3, 6, 9, 11, 12, 13, 16, 17, 20, 6, 7, 8, 9, 11, 12, 15, 18, 20, 6, 8, 11, 12, 19, 10, 13, 15, 18, 19, 11, 9, 5, 13, 18, 19, 2, 10, 12, 16, 1, 8, 14, 15, 16, 18, 20, 8, 14, 2, 5, 6, 8, 9, 11, 12, 13, 14, 15, 16, 17, 18, 20, 1, 3, 4, 5, 6, 7, 8, 12, 14, 16, 20, 2, 5, 20, 2, 12, 15, 20, 3, 15, 17, 18, 5, 15, 1, 2, 3, 4, 5, 6, 7, 9, 10, 12, 14, 15, 16, 17, 18, 19, 20, 4, 6, 8, 10, 11, 12, 13, 16, 18, 20, 8, 8, 12, 10, 1, 3, 4, 5, 6, 10, 11, 12, 13, 14, 16, 17, 18, 19, 20, 2, 8, 12, 1, 4, 5, 6, 7, 8, 9, 10, 11, 12, 13, 14, 15, 16, 17, 18, 19, 20, 11, 14, 8, 1, 2, 3, 5, 6, 8, 10, 11, 12, 13, 14, 15, 16, 17, 20, 1, 2, 4, 5, 6, 7, 8, 10, 11, 12, 13, 14, 15, 16, 17, 18, 19, 20, 1, 3, 4, 5, 6, 9, 10, 12, 16, 18, 19, 20, 3, 5, 6, 7, 8, 10, 11, 12, 13, 14, 15, 17, 19, 20, 2, 5, 6, 8, 11, 12, 15, 1, 6, 8, 11, 14, 16, 20, 1, 4, 6, 1, 4, 5, 6, 12, 17, 8, 17, 13, 1, 2, 4, 6, 11, 14, 15, 4, 1, 8, 15, 6, 8, 11, 12, 13, 14, 15, 18, 19, 11, 13, 8, 15, 2, 12, 14, 10, 4, 5, 7, 8, 13, 18, 19, 8, 19, 4, 1, 6, 8, 14, 20, 1, 18, 1, 2, 4, 6, 7, 9, 12, 14, 15, 16, 18, 19, 3, 6, 15, 2, 5, 17, 7, 7, 8, 10, 11, 12, 15, 19, 20, 1, 3, 4, 5, 7, 8, 11, 14, 15, 17, 19, 20, 1, 7, 17, 1, 2, 4, 6, 7, 9, 10, 12, 14, 15, 16, 18, 19, 2, 4, 6, 7, 8, 11, 13, 14, 15, 19, 20, 2, 4, 5, 9, 17, 20, 1, 2, 5, 9, 11, 12, 14, 4, 12, 14, 5, 5, 10, 14, 3, 4, 6, 9, 12, 13, 15, 17, 18, 19, 5, 12, 18, 20, 1, 2, 4, 6, 7, 8, 10, 12, 15, 16, 20, 11, 13, 3, 2, 4, 5, 6, 8, 12, 13, 4, 4, 5, 6, 14, 20, 1, 4, 3, 6, 7, 10, 11, 12, 13, 14, 15, 20, 4, 4, 4, 11, 1, 2, 4, 7, 9, 14, 16, 17, 18, 19, 5, 6, 4, 2, 3, 4, 5, 6, 7, 8, 10, 11, 12, 13, 14, 17, 18, 20, 5, 11, 12, 13, 14, 15, 20, 1, 19, 18, 3, 8, 12, 2, 4, 5, 8, 11, 13, 14, 19, 4, 8, 9, 11, 12, 19, 20, 3, 5, 8, 10, 11, 17, 4, 4, 5, 10, 18, 8, 19, 2, 2, 5, 6, 20, 3, 4, 10, 12, 14, 19, 20, 6, 10, 6, 12, 13, 4, 6, 8, 9, 12, 19, 3, 4, 6, 17, 2, 5, 8, 17, 20, 8, 12, 19, 2, 6, 7, 8, 9, 11, 12, 13, 14, 15, 17, 19, 20, 1, 5, 10, 20, 3, 18, 19, 19, 19, 3, 13, 19, 1, 15, 1, 1, 4, 15, 18, 19, 8, 10, 18, 8, 13, 15, 19, 13, 15, 19, 4, 19, 1, 2, 4, 6, 7, 9, 10, 12, 13, 14, 18, 19, 1, 2, 6, 7, 8, 10, 11, 12, 17, 18, 20, 4, 6, 7, 8, 9, 10, 11, 12, 15, 18, 20, 4, 20, 3, 4, 5, 6, 8, 10, 11, 14, 20, 9, 10, 13, 17, 20, 4, 12, 4, 5, 12, 14, 2, 12, 11, 7, 8, 12, 19, 11, 1, 2, 3, 5, 6, 8, 9, 10, 11, 12, 13, 14, 15, 17, 18, 20, 2, 5, 10, 17, 20, 5, 10, 5, 19, 20, 6, 8, 12, 14, 15, 17, 5, 6, 8, 19, 1, 2, 4, 5, 6, 7, 8, 11, 12, 13, 14, 15, 18, 19, 20, 6, 7, 8, 9, 12, 15, 17, 19, 20, 12, 19, 2, 5, 6, 8, 9, 11, 17, 20, 5, 6, 8, 9, 10, 11, 12, 13, 15, 17, 20, 3, 4, 5, 6, 8, 10, 11, 12, 13, 16, 17, 20, 1, 2, 6, 9, 12, 13, 17, 19, 20, 1, 2, 4, 5, 6, 7, 8, 9, 10, 11, 12, 14, 15, 18, 19, 8, 18, 19, 20, 8, 5, 6, 14, 2, 5, 6, 7, 9, 10, 12, 13, 17, 20, 6, 8, 9, 10, 12, 13, 18, 20, 2, 4, 5, 6, 8, 9, 11, 17, 18, 19, 20, 5, 6, 10, 11, 17, 18, 20, 2, 3, 6, 8, 10, 11, 12, 13, 16, 20, 12, 12, 16, 1, 3, 4, 5, 6, 7, 8, 9, 13, 15, 16, 17, 18, 20, 1, 2, 3, 4, 5, 6, 7, 9, 10, 11, 12, 15, 16, 17, 18, 19, 20, 1, 3, 4, 5, 8, 9, 10, 11, 12, 16, 19, 20, 1, 6, 8, 11, 13, 16, 18, 5, 6, 11, 17, 4, 6, 8, 11, 19, 6, 11, 15, 20, 6, 8, 10, 11, 12, 13, 2, 4, 5, 6, 7, 8, 9, 10, 11, 12, 13, 14, 15, 16, 17, 18, 19, 20, 6, 8, 10, 14, 18, 2, 7, 8, 11, 14, 19, 20, 6, 11, 12, 14, 1, 2, 3, 4, 5, 6, 8, 9, 10, 11, 12, 13, 15, 17, 18, 19, 20, 1, 2, 6, 7, 8, 9, 11, 12, 15, 17, 18, 19, 20, 1, 3, 8, 16, 20, 16, 9, 19, 1, 3, 7, 8, 10, 16, 19, 20, 2, 4, 6, 7, 9, 14, 15, 16, 18, 19, 1, 2, 3, 4, 5, 17, 18, 4, 6, 8, 9, 12, 13, 14, 19, 1, 3, 5, 6, 7, 8, 11, 12, 13, 17, 18, 19, 20, 2, 5, 8, 9, 11, 19, 20, 1, 2, 4, 7, 9, 12, 14, 15, 16, 18, 19, 1, 2, 4, 7, 12, 15, 16, 18, 19, 6, 17, 2, 10, 13, 14, 18, 20, 4, 6, 8, 11, 12, 5, 6, 8, 12, 13, 2, 3, 4, 6, 9, 18, 8, 13, 3, 6, 8, 11, 12, 15, 19, 1, 2, 3, 4, 5, 10, 14, 16, 17, 18, 19, 20, 10, 1, 2, 3, 4, 5, 10, 11, 13, 15, 16, 17, 18, 19, 6, 11, 20, 1, 3, 4, 11, 3, 4, 5, 6, 7, 8, 9, 10, 11, 12, 13, 15, 17, 18, 19, 20, 11, 17, 20, 1, 2, 4, 5, 6, 7, 8, 9, 10, 11, 12, 13, 15, 17, 18, 19, 20, 12, 13, 8, 12, 14, 3, 6, 9, 12, 2, 4, 6, 7, 9, 10, 12, 14, 15, 16, 17, 18, 19, 2, 4, 6, 12, 17, 1, 2, 3, 4, 5, 6, 7, 8, 9, 10, 11, 12, 13, 14, 15, 18, 19, 20, 4, 5, 14, 4, 11, 17, 20, 13, 9, 15, 16, 1, 2, 4, 5, 6, 12, 14, 15, 20, 8, 11, 16, 18, 11, 12, 18, 20, 18, 4, 12, 20, 5, 11, 12, 2, 5, 6, 8, 12, 13, 10, 1, 3, 4, 5, 6, 7, 8, 9, 10, 11, 12, 14, 15, 18, 20, 1, 5, 8, 11, 12, 17, 11, 5, 14, 18, 6, 4, 6, 18, 18, 4, 12, 13, 17, 19, 20, 5, 6, 10, 11, 12, 13, 1, 2, 5, 6, 12, 17, 18, 19, 20, 5, 9, 12, 4, 5, 6, 7, 9, 10, 11, 12, 13, 14, 15, 17, 18, 19, 20, 4, 5, 6, 11, 2, 6, 8, 9, 11, 12, 19, 20, 7, 18, 1, 2, 3, 5, 7, 9, 10, 11, 13, 14, 17, 19, 20, 8, 11, 11, 1, 2, 20, 1, 3, 6, 13, 14, 16, 2, 4, 8, 12, 15, 6, 13, 20, 3, 7, 13, 14, 15, 18, 6, 10, 11, 12, 13, 14, 7, 8, 12, 16, 19, 20, 4, 8, 11, 14, 16, 18, 19, 20, 7, 19, 2, 4, 8, 16, 18, 19, 10, 1, 2, 3, 4, 5, 7, 8, 9, 10, 11, 12, 14, 17, 20, 14, 1, 3, 4, 5, 6, 7, 8, 10, 11, 12, 13, 14, 16, 18, 19, 20, 5, 6, 8, 10, 12, 2, 15, 4, 13, 18, 19, 1, 5, 9, 13, 17, 20, 5, 10, 6, 7, 9, 12, 16, 19, 20, 3, 7, 8, 9, 11, 12, 13, 16, 19, 20, 7, 9, 11, 16, 2, 5, 14, 1, 5, 6, 8, 10, 17, 3, 4, 8, 18, 4, 6, 19, 6, 8, 11, 12, 19, 6, 9, 11, 7, 19, 20, 9, 20, 6, 11, 18, 20, 6, 4, 6, 8, 10, 12, 13, 14, 19, 2, 4, 5, 6, 8, 10, 14, 13, 1, 2, 5, 6, 8, 9, 10, 17, 18, 20, 4, 11, 13, 6, 11, 13, 8, 1, 2, 4, 6, 8, 9, 11, 12, 14, 15, 19, 20, 6, 9, 13, 20, 2, 3, 4, 5, 6, 10, 11, 12, 13, 14, 15, 16, 17, 18, 20, 2, 4, 6, 7, 9, 10, 15, 16, 18, 19, 2, 4, 5, 7, 8, 10, 12, 13, 14, 16, 17, 19, 20, 1, 2, 3, 5, 6, 7, 8, 11, 12, 13, 14, 16, 17, 20, 4, 8, 12, 5, 8, 11, 12, 15, 17, 18, 19, 20, 1, 2, 3, 4, 5, 6, 7, 8, 9, 10, 11, 12, 13, 15, 18, 19, 20, 2, 4, 5, 6, 8, 10, 11, 12, 13, 14, 15, 18, 19, 11, 20, 3, 4, 5, 6, 8, 11, 12, 14, 15, 16, 17, 18, 19, 20, 9, 11, 12, 14, 17, 19, 8, 13, 20, 1, 5, 10, 11, 20, 1, 2, 3, 7, 16, 18, 19, 20, 5, 6, 8, 9, 18, 2, 3, 5, 6, 11, 13, 14, 15, 16, 19, 4, 6, 18, 6, 14, 13, 20, 2, 18, 8, 1, 8, 14, 20, 6, 7, 13, 15, 16, 18, 19, 3, 4, 19, 5, 6, 14, 3, 4, 5, 6, 7, 8, 17, 16, 20, 1, 2, 3, 4, 5, 7, 9, 13, 14, 15, 18, 19, 20, 1, 5, 6, 7, 8, 11, 12, 13, 15, 16, 17, 18, 19, 20, 4, 6, 7, 8, 11, 12, 13, 18, 19, 1, 7, 8, 9, 10, 11, 13, 14, 15, 16, 18, 19, 20, 1, 2, 4, 6, 7, 9, 10, 12, 14, 15, 16, 17, 18, 19, 3, 5, 6, 8, 10, 11, 12, 13, 14, 15, 16, 17, 18, 19, 20, 11, 20, 6, 7, 14, 2, 5, 17, 13, 17, 20, 4, 5, 10, 12, 17, 18, 5, 11, 7, 8, 9, 11, 12, 14, 15, 17, 19, 4, 6, 10, 14, 3, 5, 6, 7, 10, 17, 20, 6, 8, 18, 19, 5, 6, 11, 13, 17, 20, 4, 5, 1, 2, 8, 11, 16, 18, 19, 20, 2, 10, 6, 8, 10, 11, 19, 1, 2, 4, 6, 7, 9, 12, 14, 15, 16, 18, 19, 2, 20, 4, 6, 8, 12, 14, 15, 4, 6, 14, 18, 20, 4, 6, 17, 18, 2, 5, 6, 7, 8, 9, 11, 12, 13, 18, 19, 6, 19, 20, 6, 7, 8, 13, 15, 16, 18, 19, 17, 6, 12, 5, 1, 2, 4, 6, 7, 9, 12, 14, 15, 16, 17, 18, 19, 4, 6, 10, 4, 6, 8, 11, 12, 13, 16, 20, 7, 18, 3, 8, 11, 15, 6, 2, 4, 6, 7, 9, 12, 14, 15, 16, 18, 19, 4, 6, 7, 12, 15, 16, 1, 4, 5, 6, 8, 10, 12, 5, 6, 10, 4, 12, 2, 3, 5, 7, 9, 11, 13, 16, 17, 20, 1, 2, 3, 4, 5, 7, 8, 9, 10, 11, 14, 15, 16, 17, 20, 4, 14, 3, 4, 19, 2, 6, 8, 4, 5, 6, 10, 6, 7, 8, 10, 11, 12, 13, 14, 16, 18, 19, 20, 18, 14, 18, 2, 8, 18, 19, 4, 6, 3, 6, 12, 15, 6, 6, 11, 12, 18, 14, 17, 20, 5, 6, 10, 11, 13, 17, 19, 13, 5, 7, 17, 4, 1, 2, 4, 6, 7, 9, 12, 15, 16, 17, 18, 19, 5, 6, 8, 12, 13, 1, 2, 3, 6, 7, 8, 9, 10, 11, 12, 15, 19, 20, 11, 14, 15, 17, 20, 4, 15, 19, 5, 6, 8, 11, 12, 15, 20, 2, 4, 5, 6, 8, 11, 12, 17, 18, 19, 20, 13, 19, 7, 13, 18, 19, 14, 8, 10, 15, 20, 2, 7, 9, 17, 18, 19, 10, 2, 16, 19, 4, 6, 11, 12, 13, 15, 18, 19, 6, 11, 1, 4, 6, 14, 17, 20, 1, 3, 10, 11, 12, 19, 20, 1, 3, 13, 14, 2, 4, 5, 8, 9, 10, 12, 14, 20, 8, 13, 19, 3, 17, 18, 11, 19, 20, 3, 11, 13, 17, 1, 2, 3, 4, 5, 12, 14, 17, 18, 19, 16, 18, 2, 18, 2, 5, 12, 14, 5, 6, 8, 9, 11, 17, 20, 6, 7, 8, 11, 13, 18, 19, 20, 6, 9, 11, 13, 20, 1, 2, 6, 8, 10, 11, 12, 15, 19, 9, 12, 20, 4, 5, 6, 7, 8, 9, 10, 11, 12, 13, 14, 18, 19, 1, 2, 3, 4, 11, 12, 19, 20, 6, 19, 20, 1, 2, 3, 5, 7, 8, 9, 11, 12, 14, 15, 18, 20, 2, 8, 19, 1, 2, 4, 6, 11, 13, 14, 15, 12, 13, 20, 1, 5, 8, 9, 10, 11, 13, 15, 17, 3, 9, 1, 2, 4, 9, 17, 1, 2, 4, 6, 7, 12, 13, 15, 16, 18, 19, 2, 4, 5, 9, 11, 12, 14, 1, 15, 1, 2, 4, 6, 7, 9, 12, 14, 15, 16, 18, 19, 20, 2, 4, 6, 15, 19, 1, 18, 15, 7, 9, 11, 2, 12, 19, 5, 12, 19, 2, 12, 1, 2, 4, 6, 7, 12, 13, 14, 15, 16, 18, 19, 1, 18, 3, 4, 6, 7, 8, 9, 12, 16, 17, 19, 20, 10, 4, 6, 12, 20, 8, 15, 18, 19, 1, 2, 4, 6, 7, 9, 15, 16, 18, 19, 2, 4, 15, 17, 18, 7, 8, 19, 1, 2, 3, 4, 6, 7, 8, 9, 10, 11, 12, 13, 14, 15, 16, 17, 18, 19, 20, 8, 19, 15, 5, 6, 8, 9, 11, 12, 15, 20, 12, 13, 14, 18, 19, 11, 1, 15, 3, 4, 5, 19, 5, 3, 4, 5, 6, 7, 8, 10, 11, 12, 13, 14, 15, 17, 18, 19, 20, 2, 3, 5, 11, 8, 19, 2, 4, 7, 9, 15, 16, 18, 19, 6, 11, 6, 8, 9, 11, 12, 13, 14, 19, 1, 2, 4, 5, 6, 8, 9, 12, 14, 19, 20, 16, 4, 1, 2, 3, 4, 5, 7, 9, 13, 16, 17, 18, 19, 1, 2, 4, 7, 9, 12, 14, 15, 16, 18, 19, 3, 17, 19, 1, 5, 6, 17, 20, 8, 13, 2, 4, 6, 12, 1, 2, 3, 4, 5, 6, 7, 8, 9, 10, 11, 12, 13, 14, 15, 16, 18, 19, 20, 1, 4, 1, 2, 4, 7, 9, 12, 14, 16, 17, 18, 19, 3, 4, 6, 8, 9, 10, 12, 14, 16, 18, 19, 20, 8, 1, 2, 5, 7, 9, 20, 1, 6, 8, 14, 16, 20, 5, 14, 2, 5, 12, 1, 3, 4, 5, 7, 8, 9, 10, 11, 12, 14, 16, 17, 19, 20, 13, 19, 7, 6, 7, 8, 11, 12, 15, 20, 1, 5, 8, 10, 11, 13, 17, 19, 20, 4, 6, 5, 8, 9, 19, 20, 4, 13, 15, 11, 12, 18, 20, 3, 14, 18, 19, 18, 19, 2, 5, 10, 17, 20, 5, 10, 2, 5, 6, 8, 11, 12, 13, 17, 20, 2, 5, 6, 8, 11, 12, 13, 16, 20, 12, 16, 1, 6, 8, 9, 8, 17, 3, 4, 8, 15, 19, 4, 8, 15, 5, 11, 12, 1, 2, 3, 4, 5, 7, 9, 10, 14, 15, 16, 17, 18, 19, 20, 1, 5, 10, 18, 20, 1, 3, 6, 8, 10, 11, 12, 13, 17, 19, 6, 11, 8, 2, 7, 8, 13, 15, 18, 19, 2, 6, 8, 19, 5, 15, 17, 5, 6, 8, 14, 17, 19, 3, 14, 18, 1, 3, 8, 12, 13, 14, 15, 16, 17, 18, 19, 20, 1, 5, 11, 13, 14, 15, 16, 17, 20, 18, 15, 3, 14, 17, 18, 13, 5, 9, 16, 2, 9, 20, 2, 15, 2, 4, 3, 4, 6, 12, 14, 4, 15, 19, 1, 3, 4, 5, 6, 7, 8, 9, 11, 12, 13, 14, 16, 17, 18, 19, 20, 1, 2, 3, 4, 6, 7, 9, 10, 14, 15, 16, 18, 19, 20, 8, 5, 6, 7, 8, 10, 12, 13, 14, 16, 19, 1, 2, 4, 6, 7, 9, 10, 12, 14, 15, 16, 17, 18, 19, 2, 6, 8, 9, 12, 14, 17, 19, 4, 8, 10, 13, 1, 16, 7, 14, 10, 1, 11, 16, 20, 2, 3, 4, 12, 14, 17, 19, 4, 6, 19, 11, 5, 16, 6, 8, 11, 13, 15, 19, 6, 8, 15, 19, 2, 4, 13, 14, 15, 18, 19, 20, 2, 6, 8, 9, 14, 19, 1, 4, 6, 10, 13, 14, 18, 6, 7, 8, 9, 11, 12, 13, 14, 18, 19, 1, 2, 5, 6, 7, 10, 11, 12, 14, 15, 18, 14, 4, 16, 3, 4, 5, 6, 11, 12, 17, 20, 1, 5, 6, 7, 8, 9, 11, 12, 13, 14, 15, 16, 19, 20, 6, 9, 20, 1, 2, 9, 11, 15, 17, 1, 2, 3, 4, 5, 7, 8, 9, 10, 11, 12, 13, 14, 15, 16, 17, 18, 19, 20, 13, 13, 14, 2, 8, 10, 15, 1, 3, 8, 16, 8, 11, 13, 15, 19, 6, 8, 10, 6, 7, 8, 13, 14, 17, 18, 19, 1, 6, 8, 13, 15, 19, 6, 7, 8, 2, 10, 11, 11, 18, 1, 2, 3, 4, 5, 6, 7, 9, 10, 11, 12, 14, 15, 16, 17, 18, 19, 20, 11, 1, 6, 8, 11, 13, 19, 4, 11, 13, 15, 3, 4, 7, 10, 12, 13, 15, 16, 18, 19, 20, 11, 13, 14, 18, 19, 1, 2, 3, 4, 5, 7, 9, 10, 11, 13, 14, 15, 16, 17, 18, 19, 2, 5, 6, 8, 9, 11, 13, 19, 20, 2, 4, 3, 4, 6, 7, 13, 3, 6, 8, 15, 20, 2, 3, 4, 6, 7, 9, 10, 12, 13, 14, 15, 16, 18, 19, 20, 1, 2, 9, 11, 18, 6, 14, 1, 2, 5, 9, 4, 15, 2, 13, 6, 14, 5, 2, 12, 8, 1, 2, 4, 5, 6, 8, 9, 11, 12, 13, 14, 15, 16, 18, 19, 20, 4, 5, 6, 14, 16, 2, 10, 14, 20, 1, 2, 3, 4, 5, 6, 7, 8, 9, 11, 12, 13, 14, 15, 16, 17, 18, 19, 20, 1, 2, 4, 6, 7, 9, 15, 16, 17, 18, 19, 8, 12, 5, 6, 7, 8, 11, 12, 13, 14, 15, 17, 18, 19, 4, 8, 10, 14, 4, 7, 8, 1, 2, 4, 6, 7, 9, 12, 14, 15, 16, 18, 19, 3, 4, 6, 17, 3, 4, 5, 6, 7, 8, 9, 10, 12, 13, 16, 18, 19, 6, 8, 13, 19, 2, 3, 4, 5, 9, 11, 12, 13, 14, 17, 20, 4, 5, 6, 8, 10, 11, 12, 16, 18, 19, 2, 5, 6, 19, 11, 18, 4, 12, 19, 4, 6, 11, 12, 16, 19, 11, 18, 6, 16, 5, 13, 18, 20, 4, 8, 10, 14, 17, 18, 19, 7, 9, 14, 16, 18, 19, 1, 5, 9, 11, 13, 17, 20, 1, 4, 5, 6, 7, 8, 11, 13, 15, 19, 5, 6, 8, 11, 12, 13, 5, 9, 19, 20, 8, 19, 1, 6, 8, 10, 11, 12, 13, 18, 19, 3, 4, 5, 6, 8, 11, 12, 17, 20, 3, 4, 5, 6, 8, 9, 11, 12, 13, 16, 17, 20, 2, 7, 8, 9, 14, 16, 18, 19, 20, 19, 6, 8, 9, 10, 18, 19, 2, 5, 6, 7, 11, 13, 20, 2, 6, 7, 8, 9, 17, 18, 19, 1, 4, 5, 8, 11, 14, 15, 16, 19, 4, 6, 8, 12, 2, 5, 6, 8, 19, 1, 2, 3, 4, 5, 6, 7, 9, 10, 11, 13, 14, 15, 16, 17, 18, 19, 8, 13, 8, 4, 6, 8, 11, 13, 14, 15, 19, 2, 5, 6, 8, 11, 12, 13, 18, 19, 20, 3, 11, 19, 2, 5, 9, 11, 13, 17, 19, 7, 15, 19, 3, 7, 8, 13, 15, 4, 6, 8, 11, 12, 13, 14, 19, 13, 2, 3, 5, 6, 7, 10, 11, 17, 20, 1, 2, 3, 4, 7, 10, 11, 14, 16, 18, 19, 20, 11, 16, 20, 2, 6, 8, 2, 9, 4, 2, 3, 6, 20, 3, 4, 17, 13, 19, 1, 2, 3, 4, 5, 7, 9, 11, 13, 14, 15, 16, 17, 18, 19, 2, 3, 5, 6, 8, 11, 12, 13, 14, 15, 16, 18, 19, 20, 11, 14, 15, 1, 2, 3, 7, 10, 14, 16, 20, 19, 20, 5, 10, 2, 3, 4, 5, 6, 7, 8, 10, 11, 12, 13, 14, 15, 16, 18, 19, 20, 1, 2, 3, 4, 5, 8, 10, 12, 15, 16, 17, 18, 19, 20, 2, 3, 4, 5, 6, 7, 8, 9, 10, 11, 12, 13, 14, 15, 16, 17, 18, 19, 20, 6, 8, 18, 15, 2, 13, 15, 14, 20, 4, 12, 2, 3, 4, 6, 8, 11, 12, 13, 14, 20, 1, 2, 3, 4, 6, 7, 9, 12, 15, 16, 17, 18, 19, 6, 6, 11, 13, 19, 6, 8, 11, 12, 13, 14, 15, 20, 2, 11, 4, 6, 8, 11, 12, 13, 16, 17, 19, 14, 20, 3, 4, 7, 20, 3, 5, 6, 7, 8, 16, 2, 9, 13, 20, 1, 2, 3, 4, 5, 6, 7, 8, 9, 10, 11, 12, 13, 14, 15, 16, 17, 19, 20, 6, 8, 12, 13, 15, 3, 6, 7, 11, 12, 14, 15, 19, 20, 4, 5, 7, 8, 10, 11, 13, 14, 19, 20, 18, 13, 19, 1, 6, 8, 10, 11, 15, 16, 18, 19, 20, 13, 17, 20, 2, 14, 4, 9, 17, 20, 4, 5, 11, 20, 6, 8, 15, 20, 8, 11, 12, 14, 16, 20, 2, 4, 12, 14, 1, 2, 4, 7, 9, 10, 14, 16, 17, 18, 19, 1, 2, 12, 6, 20, 4, 6, 12, 13, 18, 19, 1, 5, 15, 19, 11, 13, 20, 6, 13, 12, 13, 19, 1, 3, 4, 6, 7, 8, 11, 13, 14, 6, 14, 16, 19, 20, 7, 8, 19, 4, 13, 19, 8, 18, 3, 7, 11, 14, 16, 20, 1, 2, 4, 5, 6, 7, 8, 9, 10, 11, 12, 13, 14, 15, 16, 17, 18, 19, 20, 5, 6, 7, 8, 10, 14, 18, 19, 20, 1, 2, 3, 4, 5, 6, 7, 8, 9, 11, 12, 13, 14, 16, 19, 20, 4, 5, 7, 8, 9, 10, 11, 14, 15, 17, 20, 5, 9, 2, 5, 8, 9, 11, 13, 19, 20, 2, 15, 2, 10, 17, 7, 8, 14, 16, 3, 18, 6, 12, 1, 2, 3, 5, 6, 7, 8, 9, 11, 12, 13, 14, 17, 18, 19, 20, 5, 10, 12, 13, 14, 16, 10, 15, 1, 2, 4, 5, 6, 8, 10, 11, 12, 13, 14, 15, 16, 17, 18, 19, 20, 14, 20, 1, 4, 12, 17, 16, 1, 2, 4, 16, 6, 4, 6, 11, 1, 7, 8, 13, 2, 3, 4, 6, 7, 8, 11, 13, 14, 16, 19, 20, 1, 2, 4, 5, 6, 7, 8, 9, 11, 12, 13, 15, 16, 17, 18, 19, 20, 13, 14, 1, 2, 3, 4, 5, 7, 9, 10, 11, 12, 13, 14, 15, 16, 17, 18, 19, 20, 8, 20, 1, 4, 1, 2, 3, 4, 6, 8, 10, 11, 12, 13, 16, 17, 19, 20, 1, 2, 4, 7, 12, 15, 16, 18, 19, 1, 2, 4, 6, 14, 15, 16, 18, 19, 1, 3, 4, 14, 16, 1, 2, 4, 5, 6, 7, 9, 10, 11, 12, 13, 14, 15, 16, 17, 18, 19, 20, 13, 18, 6, 7, 8, 11, 13, 15, 16, 18, 19, 20, 5, 11, 5, 6, 10, 11, 19, 13, 19, 20, 1, 2, 5, 6, 8, 9, 10, 11, 12, 13, 14, 16, 18, 1, 4, 8, 12, 14, 15, 18, 4, 11, 14, 19, 1, 2, 4, 7, 12, 14, 15, 16, 18, 19, 2, 4, 6, 12, 15, 16, 5, 6, 12, 4, 6, 14, 2, 4, 6, 11, 12, 18, 2, 4, 8, 15, 7, 13, 14, 15, 18, 19, 3, 13, 19, 8, 12, 2, 4, 5, 7, 8, 11, 16, 17, 18, 19, 20, 2, 4, 6, 8, 11, 18, 2, 4, 11, 12, 6, 8, 3, 6, 7, 8, 13, 14, 15, 16, 18, 7, 13, 15, 5, 20, 2, 3, 4, 5, 9, 11, 14, 15, 2, 4, 8, 5, 6, 9, 10, 20, 2, 13, 6, 8, 11, 4, 6, 14, 20, 3, 7, 8, 19, 4, 5, 6, 7, 8, 11, 12, 15, 19, 1, 8, 11, 12, 4, 5, 9, 11, 12, 16, 18, 6, 13, 18, 19, 5, 9, 14, 10, 12, 18, 1, 2, 3, 5, 6, 8, 9, 11, 14, 16, 17, 18, 19, 20, 5, 10, 4, 6, 7, 13, 14, 20, 2, 4, 5, 9, 11, 14, 19, 20, 4, 6, 7, 8, 9, 11, 12, 13, 16, 19, 20, 2, 18, 1, 5, 9, 11, 1, 11, 2, 4, 5, 8, 12, 6, 8, 11, 12, 13, 17, 18, 19, 20, 9, 12, 19, 11, 13, 1, 2, 4, 5, 6, 8, 14, 16, 2, 4, 6, 7, 9, 12, 15, 16, 17, 18, 19, 1, 2, 4, 6, 7, 9, 11, 12, 14, 15, 16, 17, 18, 19, 15, 2, 4, 5, 6, 8, 11, 12, 15, 17, 18, 19, 6, 11, 8, 2, 5, 6, 7, 8, 10, 13, 17, 18, 19, 19, 8, 19, 9, 13, 19, 4, 5, 11, 19, 6, 7, 10, 13, 15, 16, 17, 20, 6, 13, 6, 13, 2, 5, 6, 8, 11, 12, 14, 15, 20, 5, 7, 18, 19, 20, 1, 4, 13, 5, 12, 15, 1, 2, 3, 4, 5, 6, 7, 8, 9, 10, 11, 12, 14, 15, 16, 17, 18, 19, 20, 2, 3, 4, 5, 6, 9, 12, 13, 15, 17, 18, 20, 6, 14, 19, 5, 14, 2, 6, 7, 8, 11, 12, 13, 14, 1, 2, 4, 5, 6, 7, 8, 9, 10, 11, 12, 13, 14, 15, 18, 19, 20, 1, 3, 5, 6, 9, 17, 18, 20, 13, 14, 2, 10, 14, 4, 6, 12, 1, 5, 8, 12, 14, 14, 15, 10, 18, 1, 5, 8, 9, 20, 1, 11, 20, 2, 6, 13, 16, 18, 1, 2, 14, 20, 2, 6, 7, 8, 19, 1, 11, 20, 1, 2, 5, 6, 8, 11, 13, 15, 5, 8, 11, 12, 15, 20, 1, 2, 5, 8, 9, 12, 13, 14, 17, 18, 20, 2, 7, 12, 14, 15, 18, 20, 8, 5, 6, 8, 10, 11, 14, 15, 18, 20, 3, 5, 6, 8, 10, 11, 14, 15, 16, 17, 19, 20, 1, 15, 1, 2, 3, 7, 12, 17, 18, 19, 3, 5, 3, 4, 11, 9, 20, 6, 8, 12, 1, 2, 15, 17, 5, 15, 8, 9, 11, 12, 15, 19, 5, 7, 15, 19, 2, 3, 4, 5, 6, 7, 8, 9, 10, 11, 12, 13, 14, 15, 16, 17, 18, 19, 20, 7, 13, 7, 11, 13, 4, 7, 10, 19, 6, 13, 5, 14, 2, 20, 16, 18, 4, 14, 6, 8, 11, 12, 14, 7, 8, 11, 13, 18, 19, 4, 5, 12, 4, 12, 13, 18, 19, 3, 6, 15, 16, 3, 6, 8, 15, 11, 13, 6, 7, 8, 10, 11, 12, 13, 14, 20, 1, 4, 6, 17, 18, 13, 1, 2, 5, 8, 10, 16, 20, 11, 14, 16, 19, 2, 14, 6, 7, 14, 1, 6, 10, 15, 16, 19, 20, 4, 14, 11, 19, 2, 8, 10, 11, 16, 17, 20, 3, 19, 4, 5, 6, 9, 10, 12, 13, 14, 20, 2, 5, 6, 9, 13, 16, 19, 2, 6, 9, 10, 11, 12, 13, 14, 17, 20, 3, 4, 10, 12, 18, 19, 20, 3, 4, 19, 3, 7, 15, 16, 18, 19, 3, 7, 8, 15, 16, 3, 9, 12, 17, 18, 19, 1, 3, 4, 8, 11, 14, 19, 20, 3, 14, 17, 19, 20, 4, 7, 19, 7, 8, 19], \"Freq\": [0.01931035867356463, 0.5278164704107665, 0.17379322806208167, 0.012873572449043085, 0.10620697270460545, 0.0804598278065193, 0.035402324234868485, 0.006436786224521543, 0.035402324234868485, 0.020801606594827125, 0.010400803297413563, 0.06240481978448137, 0.005200401648706781, 0.031202409892240685, 0.7644590423598968, 0.10400803297413562, 0.015397394561679037, 0.5851009933438034, 0.3849348640419759, 0.5694986156411775, 0.12655524792026165, 0.2531104958405233, 0.05482111421168243, 0.05482111421168243, 0.027410557105841216, 0.8497272702810778, 0.13919079682575664, 0.008809544102895991, 0.12685743508170227, 0.5091916491473882, 0.017619088205791982, 0.003523817641158396, 0.008809544102895991, 0.06342871754085114, 0.010571452923475189, 0.010571452923475189, 0.003523817641158396, 0.0933811674906975, 0.9216476671627317, 0.07632394743691372, 0.2126306284910166, 0.00934640125235238, 0.07243460970573093, 0.5958330798374641, 0.10982021471514045, 0.00685038514334788, 0.00342519257167394, 0.02740154057339152, 0.6644873589047443, 0.11303135486524002, 0.00342519257167394, 0.07877942914850061, 0.09933058457854425, 0.002220064172968138, 0.004440128345936276, 0.14282412846095022, 0.005180149736925655, 0.028120812857596416, 0.05772166849717159, 0.03626104815847959, 0.06808196797102291, 0.034781005376500834, 0.03774109094045835, 0.019980577556713244, 0.02072059894770262, 0.017760513383745104, 0.01332038503780883, 0.14282412846095022, 0.02442070590264952, 0.09916286639257683, 0.2442070590264952, 0.0007400213909893794, 0.008908272167356244, 0.10096041789670408, 0.852224704010414, 0.014847120278927073, 0.0207859683904979, 0.018490667414352856, 0.005576550490042924, 0.010566095665344489, 0.001174010629482721, 0.04519940923508475, 0.08012622546219571, 0.07836520951797163, 0.1992883043546919, 0.013794624896421971, 0.0029350265737068024, 0.043144890633489995, 0.0008805079721120407, 0.007044063776896326, 0.2579888358288279, 0.23509562855391486, 0.9551657958555305, 0.002430894534116138, 0.7997643017242094, 0.15800814471754898, 0.019447156272929103, 0.019447156272929103, 0.0028108544346171073, 0.026703117128862516, 0.009837990521159875, 0.07729849695197044, 0.3499513771098298, 0.04356824373656516, 0.2178412186828258, 0.04356824373656516, 0.02389226269424541, 0.20519237372704882, 0.4911296429354563, 0.022580673238411782, 0.07112912070099711, 0.06661298605331477, 0.09596786126325008, 0.145645342387756, 0.010161302957285302, 0.009032269295364713, 0.08693559196788536, 0.007413456885144794, 0.9303888390856716, 0.01112018532771719, 0.04448074131086876, 0.003706728442572397, 0.009786847316308833, 0.24858592183424433, 0.02446711829077208, 0.029360541948926497, 0.688015366336511, 0.9717787608600292, 0.985181459868053, 0.04835067921356836, 0.8703122258442304, 0.020146116338986816, 0.05640912574916308, 0.062197811415815686, 0.12439562283163137, 0.062197811415815686, 0.6841759255739726, 0.9219387029166185, 0.055634232072554565, 0.01192162115840455, 0.003973873719468183, 0.2961953373795597, 0.07404883434488993, 0.5923906747591194, 0.9832138080276387, 0.008701007150687067, 0.005346500686648761, 0.06683125858310951, 0.08420738581471798, 0.11762301510627274, 0.04410863066485227, 0.15371189474115188, 0.06950450892643388, 0.07217775926975827, 0.00801975102997314, 0.0400987551498657, 0.009356376201635331, 0.07351438444142046, 0.0013366251716621902, 0.25529540778747833, 0.006009791090811734, 0.012019582181623467, 0.06782478516773242, 0.01116104059722179, 0.6808234764305292, 0.016312290103631846, 0.010302499012820114, 0.0025756247532050286, 0.026614789116451962, 0.0008585415844016761, 0.16483998420512183, 0.8883610798158676, 0.028656809026318314, 0.05731361805263663, 0.8716105112254225, 0.05810736741502817, 0.029053683707514086, 0.029053683707514086, 0.9727237604659943, 0.021146168705782484, 0.5852409821994327, 0.4096686875396029, 0.026916679455248234, 0.9690004603889365, 0.03291565375372758, 0.03291565375372758, 0.01595910485029216, 0.12168817448347774, 0.014961660797148902, 0.0029923321594297805, 0.013964216744005642, 0.0927622969423232, 0.03989776212573041, 0.00398977621257304, 0.014961660797148902, 0.04687987049773323, 0.20347858684122508, 0.034910541860014105, 0.04189265023201693, 0.2254223560103768, 0.05884919913545235, 0.08448661074697038, 0.04040663992246409, 0.01101999270612657, 0.04407997082450628, 0.04040663992246409, 0.051426632628590666, 0.6869128786818895, 0.01836665451021095, 0.007346661804084381, 0.01836665451021095, 0.9382031102891057, 0.95230719357741, 0.048422399673427624, 0.9478140111991027, 0.020425871497956875, 0.007427589635620682, 0.005570692226715511, 0.12069833157883608, 0.02413966631576722, 0.3101018672871635, 0.22097079165971528, 0.005570692226715511, 0.005570692226715511, 0.012998281862336194, 0.17826215125489636, 0.003713794817810341, 0.0018568974089051705, 0.05199312744934478, 0.02599656372467239, 0.7103201044214096, 0.03382476687720998, 0.23677336814046984, 0.004728697050353148, 0.036883836992754555, 0.0009457394100706297, 0.0860622863164273, 0.051069928143814, 0.13807795387031194, 0.09741115923727486, 0.017969048791341966, 0.12200038389911123, 0.046341231093460854, 0.008511654690635667, 0.0009457394100706297, 0.0633645404747322, 0.02837218230211889, 0.007565915280565038, 0.08133358926607415, 0.12483760212932311, 0.08511654690635667, 0.9103321049669486, 0.05057400583149715, 0.9238476079536863, 0.04185826743560879, 0.033097234716527875, 0.058406884793872724, 0.014601721198468181, 0.0691148136727494, 0.1372561792656009, 0.004867240399489394, 0.19371616789967788, 0.02336275391754909, 0.04185826743560879, 0.07106170983254514, 0.015575169278366061, 0.08761032719080909, 0.12460135422692849, 0.0827430867913197, 0.05183837594162159, 0.03147329967884168, 0.03887878195621619, 0.014810964554749026, 0.044432893664247075, 0.10923086359127407, 0.05368974651096522, 0.025919187970810796, 0.07035208163505788, 0.016662335124092653, 0.009256852846718141, 0.02962192910949805, 0.259191879708108, 0.027770558540154425, 0.014810964554749026, 0.04628426423359071, 0.0981226401752123, 0.05554111708030885, 0.009979120234042248, 0.009979120234042248, 0.11475988269148586, 0.004989560117021124, 0.05987472140425349, 0.4789977712340279, 0.039916480936168994, 0.004989560117021124, 0.009979120234042248, 0.024947800585105623, 0.20956152491488722, 0.019958240468084497, 0.024009521471334148, 0.009234431335128518, 0.48203731569370867, 0.024009521471334148, 0.09788497215236229, 0.012928203869179925, 0.17176042283339044, 0.055406588010771106, 0.02216263520430844, 0.00554065880107711, 0.05910036054482252, 0.016621976403231334, 0.009234431335128518, 0.01108131760215422, 0.026989008207143336, 0.002998778689682593, 0.2758876394507985, 0.1304468730011928, 0.025489618862302037, 0.004498168034523889, 0.5307838280738189, 0.17131780545279807, 0.03569120946933293, 0.08208978177946573, 0.01070736284079988, 0.2998061595423966, 0.028552967575466343, 0.37118857848106246, 0.9936151140091799, 0.6012986324485963, 0.3876793814471213, 0.9885461776435223, 0.14379495236049478, 0.09586330157366318, 0.04793165078683159, 0.23965825393415793, 0.4313848570814843, 0.008444979024571442, 0.9796175668502872, 0.992710174587469, 0.04218686402994948, 0.19511424613851633, 0.02109343201497474, 0.02109343201497474, 0.005273358003743685, 0.46932886233318794, 0.2373011101684658, 0.9972481427908974, 0.9235039312428903, 0.046759692721159006, 0.011689923180289752, 0.040370634223699096, 0.801357089340427, 0.006055595133554865, 0.016148253689479638, 0.09487099042569289, 0.018166785400664593, 0.0020185317111849547, 0.020185317111849548, 0.0020185317111849547, 0.994829993849468, 0.0020855974713825326, 0.9480241808976694, 0.998500388530899, 0.06767268669108366, 0.03383634334554183, 0.8797449269840877, 0.9606842082150737, 0.0015720373467356802, 0.0031440746934713604, 0.2782506103722154, 0.012576298773885441, 0.0031440746934713604, 0.0015720373467356802, 0.6995566192973777, 0.009793456499183499, 0.9793456499183498, 0.9491715985157677, 0.06752232345517481, 0.019292092415764232, 0.07716836966305693, 0.8006218352542156, 0.019292092415764232, 0.9766464306814813, 0.009669766640410705, 0.002330761364533302, 0.017480710233999767, 0.1095457841330652, 0.04195370456159944, 0.04078832387933279, 0.013984568187199812, 0.003496142046799953, 0.01048842614039986, 0.015149948869466464, 0.5232559263377263, 0.06759207957146576, 0.15383025005919795, 0.5575412057523661, 0.2920453934893346, 0.10619832490521258, 0.27999491654603864, 0.717486973649224, 0.9882529787348188, 0.976772051556968, 0.006715404213315567, 0.1813159137595203, 0.026861616853262268, 0.023503914746604484, 0.013430808426631134, 0.7017597402914767, 0.03021931895992005, 0.013430808426631134, 0.23691374710911386, 0.004810431413383023, 0.009620862826766045, 0.2501424334959172, 0.014431294240149068, 0.015633902093494825, 0.4377492586178551, 0.004810431413383023, 0.008418254973420289, 0.0024052157066915113, 0.009620862826766045, 0.006013039266728778, 0.9683598956735483, 0.007335477518406859, 0.9829539874665191, 0.03408936026420996, 0.05313929688244493, 0.11530224795247486, 0.00802102594451999, 0.010026282430649987, 0.010026282430649987, 0.004010512972259995, 0.0020052564861299973, 0.0060157694583899924, 0.0060157694583899924, 0.5725007267901143, 0.06316557931309492, 0.11429961970940986, 0.003362343962301464, 0.002241562641534309, 0.002241562641534309, 0.011207813207671547, 0.034744220943781795, 0.8069625509523514, 0.11207813207671546, 0.003362343962301464, 0.008966250566137236, 0.007845469245370083, 0.006724687924602928, 0.08776507692245997, 0.8776507692245997, 0.014782483710893222, 0.11086862783169917, 0.6799942507010882, 0.1921722882416119, 0.9095898715779227, 0.016636097502908127, 0.0013488727705060644, 0.026527831153285934, 0.022031588584932385, 0.0013488727705060644, 0.022031588584932385, 0.026023286838847585, 0.013011643419423792, 0.9498499696179369, 0.9819903298180431, 0.07513315406766854, 0.7262871559874625, 0.17531069282455994, 0.13495961839528028, 0.1497722594386647, 0.018104339053025404, 0.054313017159076216, 0.009875094028922948, 0.1300220713808188, 0.1497722594386647, 0.003291698009640983, 0.2797943308194835, 0.06747980919764014, 0.17150088118340698, 0.664565914585702, 0.021437610147925872, 0.12862566088755523, 0.042522716050612135, 0.01518668430379005, 0.04859738977212816, 0.00303733686075801, 0.00303733686075801, 0.042522716050612135, 0.0303733686075801, 0.5345712874934098, 0.17616553792396455, 0.021261358025306067, 0.08200809524046626, 0.9454726995557875, 0.03939469581482448, 0.993652621689995, 0.01862966329248996, 0.00620988776416332, 0.01862966329248996, 0.0620988776416332, 0.07451865316995984, 0.794865633812905, 0.02483955105665328, 0.9308792280102807, 0.03347035581994813, 0.13388142327979252, 0.2342924907396369, 0.03347035581994813, 0.5355256931191701, 0.994023244015929, 0.936432191483274, 0.024184429884977713, 0.024184429884977713, 0.05239959808411838, 0.028215168199140665, 0.084645504597422, 0.008061476628325905, 0.5925185321819539, 0.04030738314162952, 0.03627664482746657, 0.10479919616823676, 0.9833595820339504, 0.9412446363776484, 0.9491716694576497, 0.9517518469362631, 0.00211573370019022, 0.017631114168251832, 0.07334543493992762, 0.0035262228336503665, 0.024683559835552565, 0.013399646767871393, 0.5049551097787325, 0.00211573370019022, 0.10367095130932077, 0.25459328858955643, 0.9408719228499204, 0.9678344656039785, 0.9492376679250758, 0.02175325068112946, 0.007566348063001551, 0.0028373805236255817, 0.0756634806300155, 0.05863919748826202, 0.02459063120475504, 0.016078489633878295, 0.014186902618127908, 0.08890458974026823, 0.031211185759881396, 0.5428854735203613, 0.004728967539375969, 0.052964436441010856, 0.006620554555126357, 0.05107284942526047, 0.015115071170251827, 0.18138085404302193, 0.030230142340503655, 0.24184113872402924, 0.037787677925629565, 0.037787677925629565, 0.4534521351075548, 0.975718252016209, 0.017958004638335134, 0.9976537583886886, 0.947634825755165, 0.0431419308428568, 0.007438263938423587, 0.05186800022581825, 0.006483500028227281, 0.13615350059277292, 0.6580752528650691, 0.016208750070568205, 0.022692250098795486, 0.09401075040929559, 0.012967000056454563, 0.36115422501540895, 0.0014562670363524554, 0.0131064033271721, 0.4441614460874989, 0.06261948256315558, 0.007281335181762277, 0.10922002772643416, 0.039137632287291606, 0.07115933143143928, 0.06404339828829536, 0.3308908911561927, 0.03202169914414768, 0.4589776877327834, 0.9364320217595129, 0.02608304340573466, 0.006520760851433665, 0.9650726060121825, 0.9658325089214419, 0.025863467144473976, 0.9569482843455371, 0.9617344310046146, 0.0374254806430186, 0.6736586515743348, 0.0374254806430186, 0.22455288385811162, 0.012676946477967719, 0.07606167886780632, 0.012676946477967719, 0.012676946477967719, 0.8493554140238372, 0.012676946477967719, 0.012676946477967719, 0.9521599007668174, 0.037339603951639905, 0.7428390864544518, 0.23213721451701622, 0.02063441906817922, 0.06287611652553482, 0.04191741101702321, 0.12575223305106964, 0.06636923411028675, 0.6601992235181156, 0.04191741101702321, 0.040851710491871446, 0.6808618415311908, 0.02723447366124763, 0.24511026295122867, 0.007225372263233794, 0.07225372263233794, 0.245662656949949, 0.5130014306895994, 0.15895818979114346, 0.11516349506367368, 0.02879087376591842, 0.8349353392116341, 0.03550996911939226, 0.7346124861574275, 0.05548432674905041, 0.026632476839544197, 0.028851849909506216, 0.02441310376958218, 0.004438746139924033, 0.01775498455969613, 0.008877492279848066, 0.013316238419772098, 0.004438746139924033, 0.03107122297946823, 0.013316238419772098, 0.5739459070530794, 0.04414968515792918, 0.37211877490254597, 0.009460646819556252, 0.3504570858441176, 0.42833643825392154, 0.1946983810245098, 0.9928371809858552, 0.9826275009630746, 0.022868458367988384, 0.2980785263137796, 0.6781680757403452, 0.9942977844636174, 0.0037591598656469467, 0.9599010068239142, 0.8251456604509011, 0.05157160377818132, 0.10314320755636264, 0.9887555739151574, 0.9920072204515743, 0.034003734731578285, 0.9634391507280514, 0.9867141598460643, 0.025848188086955784, 0.0017232125391303855, 0.9503517153304076, 0.020678550469564627, 0.21110766767812553, 0.7509401321693322, 0.03317406206370544, 0.9364320217595129, 0.9456595602350664, 0.00651577327687217, 0.042352526299669103, 0.03257886638436085, 0.11076814570682689, 0.016289433192180423, 0.44958835610417974, 0.04561041293810519, 0.1303154655374434, 0.12705757889900732, 0.003257886638436085, 0.016289433192180423, 0.022805206469052593, 0.011027789777376229, 0.0012253099752640253, 0.04656177906003296, 0.013478409727904279, 0.28672253421178195, 0.012253099752640254, 0.1727687065122276, 0.3100034237417984, 0.0024506199505280506, 0.014703719703168304, 0.12865754740272267, 0.028607586836198833, 0.015604138274290273, 0.04161103539810739, 0.018204827986671984, 0.07021862223430622, 0.03901034568572568, 0.19505172842862842, 0.36669724944582144, 0.018204827986671984, 0.031208276548580546, 0.17684690044195642, 0.4021135409063436, 0.6031703113595155, 0.021885737801476644, 0.054714344503691614, 0.04012385263604052, 0.0036476229669127743, 0.047419098569866064, 0.8061246756877232, 0.010942868900738322, 0.010942868900738322, 0.0036476229669127743, 0.0125439379226389, 0.0125439379226389, 0.36377419975652814, 0.4014060135244448, 0.1881590688395835, 0.029904727168457355, 0.9669195117801211, 0.012532016883009043, 0.018798025324513565, 0.7393889960975335, 0.22557630389416278, 0.05036590348847305, 0.9317692145367514, 0.9847917182623925, 0.06697625763815056, 0.2902304497653191, 0.5358100611052045, 0.08930167685086741, 0.9776370757574784, 0.0070571325268715965, 0.0035285662634357983, 0.008821415658589496, 0.012349981922025294, 0.32286381310437556, 0.3899065721096557, 0.008821415658589496, 0.04057851202951168, 0.02205353914647374, 0.04057851202951168, 0.0961534306786255, 0.0017642831317178991, 0.006174990961012647, 0.014114265053743193, 0.015878548185461094, 0.010585698790307395, 0.06290157594785672, 0.2516063037914269, 0.08386876793047562, 0.04193438396523781, 0.5451469915480915, 0.709730946305391, 0.2772386509005434, 0.018975122540234687, 0.41745269588516315, 0.5502785536668059, 0.03863970339741636, 0.8964411188200596, 0.044435658907028816, 0.005795955509612454, 0.0019319851698708181, 0.00965992584935409, 0.02972940837406597, 0.02972940837406597, 0.9216116595960451, 0.019819605582710648, 0.0027817943625493557, 0.045435974588306144, 0.023181619687911298, 0.007418118300131615, 0.5137046922841144, 0.03430879713810872, 0.07603571257634906, 0.01483623660026323, 0.0250361492629442, 0.007418118300131615, 0.012054442237713875, 0.04358144501327324, 0.09736280268922745, 0.08901741960157938, 0.0055635887250987115, 0.08032965647474472, 0.010954044064737914, 0.3760888462226684, 0.23186059937028586, 0.00730269604315861, 0.005477022032368957, 0.02738511016184479, 0.1460539208631722, 0.11319178866895846, 0.9919460250634425, 0.005922065821274284, 0.022366765121730768, 0.027958456402163462, 0.072691986645625, 0.011183382560865384, 0.16775073841298077, 0.12301720816951923, 0.48088545011721157, 0.0782836779260577, 0.0046640751288390845, 0.04819544299800387, 0.10727372796329894, 0.001554691709613028, 0.003109383419226056, 0.7431426371950275, 0.018656300515356338, 0.001554691709613028, 0.006218766838452112, 0.0046640751288390845, 0.062187668384521125, 0.007781826641268825, 0.05447278648888177, 0.002593942213756275, 0.04928490206136922, 0.07003643977141942, 0.023345479923806475, 0.5369460382475489, 0.012969711068781375, 0.0311273065650753, 0.09597586190898218, 0.07522432419893198, 0.03890913320634412, 0.05751942758404605, 0.004601554206723684, 0.03451165655042763, 0.2737924753000592, 0.03451165655042763, 0.3543196739177237, 0.03221087944706579, 0.11964040937481579, 0.08973030703111184, 0.09208111612282854, 0.012556515834931165, 0.38088098032624534, 0.020927526391551942, 0.029298536948172717, 0.037669547504793496, 0.004185505278310389, 0.06278257917465582, 0.05022606333972466, 0.016742021113241554, 0.05022606333972466, 0.20508975863720902, 0.016742021113241554, 0.016742021113241554, 0.004185505278310389, 0.39632626725007836, 0.023313309838239902, 0.023313309838239902, 0.5362061262795177, 0.9589346306722648, 0.019137932974032244, 0.05741379892209673, 0.8994828497795154, 0.014268408058968335, 0.0396344668304676, 0.0396344668304676, 0.038049088157248896, 0.04914673886977982, 0.033292952137592785, 0.01585378673218704, 0.04280522417690501, 0.026951437444717966, 0.6991519948894485, 0.023506846255095366, 0.2311506548417711, 0.08619176960201634, 0.003917807709182561, 0.011753423127547683, 0.06660273105610354, 0.446630078846812, 0.1292876544030245, 0.0021031985828305357, 0.01472239007981375, 0.20401026253456198, 0.008412794331322143, 0.008412794331322143, 0.006309595748491607, 0.05468316315359393, 0.47111648255404, 0.07361195039906875, 0.010515992914152679, 0.14512070221530696, 0.5085260207725445, 0.008838019077597698, 0.090419733640038, 0.22978849601754017, 0.0836212574265013, 0.021755123883317413, 0.05778704781506187, 0.3318311033805586, 0.0021688307410494025, 0.2689350118901259, 0.11928569075771714, 0.06289609149043267, 0.04120778407993865, 0.045545445562037455, 0.00867532296419761, 0.047714276303086854, 0.07157141445463028, 0.9880887027163795, 0.052210805877808714, 0.8875836999227481, 0.02851536045389543, 0.003564420056736929, 0.05703072090779086, 0.014257680226947716, 0.014257680226947716, 0.5631783689644347, 0.021386520340421575, 0.05703072090779086, 0.03564420056736929, 0.02851536045389543, 0.03920862062410622, 0.0605951409645278, 0.021386520340421575, 0.05703072090779086, 0.05287694407192755, 0.06043079322506006, 0.02434018060453808, 0.10911115443413621, 0.007553849153132507, 0.0008393165725702786, 0.034411979475381424, 0.0470017280639356, 0.010911115443413623, 0.0008393165725702786, 0.010911115443413623, 0.04784104463650588, 0.23333000717453745, 0.010911115443413623, 0.07973507439417647, 0.26270608721449723, 0.004196582862851393, 0.02911900394087724, 0.006066459154349425, 0.01698608563217839, 0.05823800788175448, 0.01941266929391816, 0.21353936223309977, 0.09948993013133058, 0.3579210901066161, 0.008493042816089195, 0.15772793801308505, 0.010919626477828966, 0.020625961124788046, 0.06787916386738872, 0.7428997378819766, 0.03393958193369436, 0.05279490523019123, 0.0037710646592993735, 0.09050555182318497, 0.0037710646592993735, 0.06296672759470828, 0.06296672759470828, 0.3463170017708955, 0.4722504569603121, 0.02566337928382486, 0.02566337928382486, 0.9165492601366021, 0.010998591121639225, 0.02199718224327845, 0.01696597055900744, 0.9602739336398212, 0.02035916467080893, 0.003393194111801488, 0.7538493666800369, 0.057013817648070016, 0.01266973725512667, 0.13936710980639339, 0.019004605882690005, 0.019004605882690005, 0.02153935256593037, 0.0035898920943217283, 0.0035898920943217283, 0.2943711517343817, 0.005384838141482592, 0.07897762607507802, 0.012564622330126049, 0.032309028848895555, 0.025129244660252098, 0.02153935256593037, 0.06282311165063025, 0.010769676282965185, 0.03589892094321728, 0.05205343536766506, 0.032309028848895555, 0.0753877339807563, 0.17410976657460384, 0.05564332746198679, 0.10177623199721597, 0.84248103153251, 0.011308470221912887, 0.016962705332869327, 0.028271175554782216, 0.030720609341105626, 0.5529709681399013, 0.29491784967461404, 0.012288243736442252, 0.024576487472884503, 0.06758534055043237, 0.018432365604663378, 0.07750357874193468, 0.23251073622580404, 0.6200286299354775, 0.05166905249462312, 0.09587104034079841, 0.012782805378773122, 0.020772058740506322, 0.16138291790701065, 0.053527997523612446, 0.1909431553454235, 0.14220870983885098, 0.012782805378773122, 0.019973133404333, 0.028761312102239523, 0.07350113092794545, 0.045538744161879245, 0.0031957013446932804, 0.00958710403407984, 0.031158088110759482, 0.04633766949805256, 0.05272907218743913, 0.0021658937042250944, 0.015161255929575661, 0.5847913001407755, 0.0021658937042250944, 0.04331787408450189, 0.019493043338025852, 0.11046057891547982, 0.010829468521125473, 0.04548376778872699, 0.06497681112675284, 0.0801380670563285, 0.017327149633800755, 0.004331787408450189, 0.14032106636286756, 0.012756460578442505, 0.02126076763073751, 0.6675881036051577, 0.15520360370438382, 0.9329322621495612, 0.8701475695786044, 0.10441770834943254, 0.10083299552498612, 0.014201830355631847, 0.09657244641829656, 0.011361464284505478, 0.06390823660034331, 0.34794484371298023, 0.019882562497884587, 0.34510447764185387, 0.018603953994575765, 0.04699946272313878, 0.018603953994575765, 0.027416353255164286, 0.006854088313791072, 0.03720790798915153, 0.009791554733987245, 0.5561603088904755, 0.08420737071229031, 0.19191447278615, 0.0954832416735392, 0.03819329666941568, 0.1432248625103088, 0.13845070042663182, 0.3103205354390024, 0.00954832416735392, 0.25780475251855584, 0.8208424191339162, 0.17511304941523548, 0.025595112048259944, 0.4795715731147653, 0.008082666962608403, 0.0026942223208694677, 0.00673555580217367, 0.4768773507938958, 0.012159377651580086, 0.005404167845146705, 0.014861461574153438, 0.02161667138058682, 0.037829174916026935, 0.18239066477370128, 0.4593542668374699, 0.0027020839225733524, 0.15942295143182778, 0.014861461574153438, 0.008106251767720058, 0.01080833569029341, 0.06890314002562048, 0.021000097442276076, 0.014000064961517384, 0.23800110434579552, 0.4410020462877976, 0.26600123426883027, 0.007000032480758692, 0.014000064961517384, 0.004533723771241192, 0.011334309428102981, 0.03475854891284914, 0.009067447542482385, 0.012845550685183378, 0.004533723771241192, 0.009823068171022582, 0.004533723771241192, 0.6362325692308473, 0.09596381982460524, 0.17530398582132609, 0.009374617840158736, 0.00585913615009921, 0.08905886948150799, 0.016405581220277788, 0.002343654460039684, 0.002343654460039684, 0.6269275680606154, 0.04921674366083336, 0.19686697464333344, 0.29078811188589465, 0.6978914685261471, 0.04004029961751623, 0.6806850934977758, 0.08008059923503245, 0.04004029961751623, 0.04004029961751623, 0.04004029961751623, 0.9681972923987926, 0.7131674783691944, 0.23674822027829814, 0.005845635068599954, 0.04091944548019968, 0.0104245478947248, 0.52122739473624, 0.055597588771865596, 0.0660221366665904, 0.3440100805259184, 0.04955947010409483, 0.0027533038946719354, 0.00917767964890645, 0.005506607789343871, 0.004588839824453225, 0.9278634125044422, 0.9451153110200641, 0.9854912795996197, 0.008175262381647216, 0.016350524763294433, 0.45508960591169506, 0.005450174921098144, 0.005450174921098144, 0.4932408303593821, 0.016350524763294433, 0.07066328691950825, 0.028566009605758655, 0.07818065786839211, 0.15636131573678422, 0.004510422569330314, 0.013531267707990942, 0.054125070831963766, 0.29017051862691684, 0.07367023529906179, 0.016538216087544483, 0.016538216087544483, 0.19545164467098025, 0.9731397536422243, 0.0727567906591987, 0.038210400849795, 0.028265228025875753, 0.03978069129567698, 0.023030926539602464, 0.06542876857841609, 0.0052343014862732875, 0.001570290445881986, 0.002093720594509315, 0.6982558182688565, 0.009421742675291916, 0.009421742675291916, 0.005757731634900616, 0.01729550340911924, 0.01729550340911924, 0.9512526875015582, 0.6914412167926386, 0.07857286554461802, 0.0019643216386154507, 0.22589698844077682, 0.009679657440633094, 0.022989186421503598, 0.015729443341028777, 0.07138747362466906, 0.05202815874340287, 0.17907366265171223, 0.04113854412269065, 0.02419914360158273, 0.08953683132585612, 0.12583554672823022, 0.22747194985487768, 0.016939400521107914, 0.026619057961741004, 0.0072597430804748194, 0.08348704542546043, 0.0072597430804748194, 0.1476641344860057, 0.830610756483782, 0.009229008405375357, 0.013109013116609612, 0.0016386266395762015, 0.04752017254770984, 0.0016386266395762015, 0.0016386266395762015, 0.2654575156113447, 0.01802489303533822, 0.01802489303533822, 0.013109013116609612, 0.004915879918728604, 0.2965914217632925, 0.12289699796821511, 0.01147038647703341, 0.004915879918728604, 0.03768841271025263, 0.11798111804948651, 0.019663519674914417, 0.10743659164474151, 0.8594927331579321, 0.9451142400775038, 0.9012984753945056, 0.05301755737614739, 0.03663280872494193, 0.12821483053729674, 0.47622651342424505, 0.34801168288694834, 0.01056661360079898, 0.052020251573164214, 0.0032512657233227634, 0.006502531446645527, 0.039015188679873164, 0.0016256328616613817, 0.0016256328616613817, 0.0008128164308306908, 0.0024384492924920727, 0.5510895401032084, 0.008128164308306908, 0.10647895243882051, 0.2145835377393024, 0.022959861240289568, 0.2755183348834748, 0.07215956389805293, 0.6100763129562657, 0.01639990088592112, 0.0021545313837515027, 0.00861812553500601, 0.015081719686260518, 0.1680534479326172, 0.10234024072819636, 0.003231797075627254, 0.08725852104193585, 0.02800890798876953, 0.05924961305316632, 0.010772656918757513, 0.07109953566379958, 0.006463594151254508, 0.33179783309773137, 0.003231797075627254, 0.004309062767503005, 0.0010772656918757513, 0.07971766119880559, 0.015081719686260518, 0.11919522282550167, 0.6555737255402593, 0.23839044565100334, 0.11709563768135994, 0.25761040289899184, 0.5620590608705277, 0.04683825507254397, 0.9977294957263332, 0.05231764046017996, 0.15695292138053987, 0.7847646069026994, 0.37725803335326064, 0.015719084723052525, 0.03143816944610505, 0.003929771180763131, 0.03143816944610505, 0.03536794062686818, 0.4401343722454707, 0.051087025349920705, 0.011789313542289395, 0.12463455271068401, 0.0997076421685472, 0.5982458530112832, 0.12463455271068401, 0.031592904289696556, 0.06318580857939311, 0.8214155115321103, 0.06318580857939311, 0.9821537919634734, 0.12980511133881348, 0.5841230010246607, 0.25961022267762696, 0.9380661442495334, 0.04312947789653027, 0.010782369474132568, 0.3868588455784531, 0.5802882683676797, 0.006680115225570215, 0.09519164196437556, 0.015030259257532982, 0.8817752097752682, 0.975292651654537, 0.10390627166477726, 0.07714253502384978, 0.01574337449466322, 0.05037879838292231, 0.04408144858505702, 0.025189399191461154, 0.1999408560822229, 0.014169037045196899, 0.10233193421531094, 0.24559664211674626, 0.00787168724733161, 0.018892049393595865, 0.012594699595730577, 0.006297349797865288, 0.07556819757438346, 0.017970163918688994, 0.03594032783737799, 0.17970163918688994, 0.12579114743082295, 0.5570750814793588, 0.07188065567475597, 0.9653382838674753, 0.006247672120570232, 0.018743016361710694, 0.9683891786883859, 0.9591551291654559, 0.006836952789693775, 0.01367390557938755, 0.9776842489262098, 0.9813323899682188, 0.07177311601118885, 0.028709246404475537, 0.15790085522461547, 0.6603126673029374, 0.014354623202237769, 0.057418492808951074, 0.006027524366547539, 0.006027524366547539, 0.07433946718741966, 0.07835781676511801, 0.00401834957769836, 0.8297891877947112, 0.07722112607884712, 0.5087509482841692, 0.031796934267760577, 0.040881772629977886, 0.1498998329765856, 0.049966610992195196, 0.08176354525995577, 0.031796934267760577, 0.02271209590554327, 0.047967834875675505, 0.09593566975135101, 0.8154531928864837, 0.056725463316825625, 0.04679850723638114, 0.060979873065587546, 0.02127204874380961, 0.10352397055320676, 0.0014181365829206405, 0.11628719979949252, 0.056725463316825625, 0.39707824321777935, 0.015599502412127045, 0.019853912160888967, 0.02694459507549217, 0.011345092663365124, 0.008508819497523844, 0.059561736482666904, 0.025643854744309184, 0.05128770948861837, 0.8975349160508215, 0.9333608674386794, 0.018378992909437123, 0.08821916596529819, 0.025730590073211972, 0.5440181901193388, 0.044109582982649095, 0.06248857589208622, 0.022054791491324548, 0.1948173248400335, 0.5028355010648209, 0.4927787910435244, 0.01751331875802551, 0.010507991254815306, 0.005253995627407653, 0.05779395190148418, 0.003502663751605102, 0.05604262002568163, 0.12259323130617857, 0.11558790380296836, 0.001751331875802551, 0.1996518338414908, 0.007005327503210204, 0.005253995627407653, 0.3975523358071791, 0.9520596231046784, 0.02441178520781227, 0.9691881161961232, 0.16771662843810725, 0.16771662843810725, 0.5870081995333754, 0.8439453291108693, 0.03912329340249063, 0.011178083829283036, 0.044712335317132146, 0.044712335317132146, 0.011178083829283036, 0.051566079553302654, 0.03437738636886843, 0.008594346592217108, 0.008594346592217108, 0.8852176989983622, 0.9326967045719833, 0.4669772218947614, 0.5219157185882627, 0.2310083772177018, 0.27571967603403114, 0.3055272085782507, 0.08942259763265875, 0.06706694822449406, 0.022355649408164688, 0.07692306432540978, 0.0027472522973360637, 0.05769229824405734, 0.02197801837868851, 0.821428436903483, 0.019230766081352445, 0.013521640172833438, 0.2433895231110019, 0.040564920518500316, 0.16225968207400127, 0.013521640172833438, 0.5138223265676707, 0.023691263798814494, 0.09476505519525798, 0.02105890115450177, 0.005264725288625443, 0.10266214312819613, 0.005264725288625443, 0.6317670346350531, 0.11319159370544703, 0.6810459154808673, 0.30839815040643054, 0.007173511908985957, 0.7209379468530887, 0.04304107145391574, 0.02869404763594383, 0.014347023817971915, 0.1829245536791419, 0.907452138106082, 0.08914382671824565, 0.0020731122492615266, 0.01865801024335374, 0.0034551870821025446, 0.020040085076194758, 0.0027641496656820356, 0.08845278930182514, 0.41738659951798734, 0.10711079954517888, 0.1395895581169428, 0.0027641496656820356, 0.0027641496656820356, 0.0034551870821025446, 0.1015825002138148, 0.9916473792512999, 0.0074454008197988525, 0.002978160327919541, 0.03573792393503449, 0.002978160327919541, 0.008934480983758623, 0.02084712229543679, 0.23974190639752307, 0.02233620245939656, 0.06700860737818967, 0.005956320655839082, 0.02829252311523564, 0.010423561147718394, 0.09381205032946555, 0.019358042131477016, 0.008934480983758623, 0.4258769268924944, 0.3803396080390733, 0.023286098451371834, 0.4773650182531226, 0.10866845943973523, 0.003881016408561972, 0.07796798099213276, 0.9122253776079532, 0.08666850316454708, 0.10666892697175026, 0.5900125023124936, 0.21333785394350052, 0.0101428771471038, 0.8604540779793056, 0.025357192867759497, 0.013523836196138398, 0.0608572628826228, 0.027047672392276796, 0.01374800126480845, 0.9852734239779389, 0.01614626799121945, 0.6433666784193596, 0.2825596898463404, 0.03167152567508431, 0.018009298913283234, 0.0006210103073545942, 0.006831113380900537, 0.0069141900313792765, 0.832391655444383, 0.010371285047068916, 0.11446825718616803, 0.005377703357739437, 0.00038412166840995983, 0.004609460020919518, 0.013060136725938634, 0.00038412166840995983, 0.011523650052298795, 0.532823837413454, 0.27040524511132463, 0.12094074253924222, 0.07530272648669799, 0.8765837810352004, 0.02827689616242582, 0.05655379232485164, 0.04458537156455748, 0.9447405574679392, 0.0023465985033977624, 0.0028159182040773147, 0.004223877306115972, 0.0009386394013591049, 0.27495116164096894, 0.028443223618031272, 0.663675217754063, 0.018962149078687516, 0.1357756890072152, 0.01939652700103074, 0.8340506610443219, 0.09107566445490288, 0.7437845930483735, 0.10625494186405336, 0.04933265157973906, 0.007589638704575239, 0.012023051919508917, 0.9695389067891991, 0.018275038917653554, 0.16730951192614432, 0.25096426788921644, 0.5019285357784329, 0.5031779437873954, 0.4822121961295873, 0.03938288701060102, 0.840168256226155, 0.0918934030247357, 0.013127629003533672, 0.9437223085541363, 0.00920241026587441, 0.07975422230424489, 0.4018385816098493, 0.4049060516984741, 0.012269880354499215, 0.027607230797623235, 0.04294458124074725, 0.015337350443124018, 0.001599846977442668, 0.01599846977442668, 0.01759831675186935, 0.02559755163908269, 0.13438714610518412, 0.7983236417438914, 0.003199693954885336, 0.9913939444020389, 0.1296415388655426, 0.06863375586999315, 0.007625972874443683, 0.015251945748887366, 0.026690905060552893, 0.14870647105165183, 0.026690905060552893, 0.38892461659662786, 0.072446742307215, 0.1105766066794334, 0.016856799688175845, 0.9608375822260232, 0.9962939610139484, 0.9710884136858559, 0.006986247580473784, 0.013972495160947567, 0.9829331774099244, 0.0064593327841063, 0.0064593327841063, 0.0129186655682126, 0.17224887424283467, 0.3509570812697756, 0.008612443712141734, 0.1356459884662323, 0.0516746622728504, 0.18947376166711813, 0.030143552992496065, 0.0193779983523189, 0.008612443712141734, 0.04657597080697947, 0.4937052905539824, 0.018630388322791788, 0.437814125585607, 0.019930373902808673, 0.0025996139873228703, 0.011264993945065771, 0.0034661519830971603, 0.20710258099005532, 0.09098648955630045, 0.3968744020646249, 0.006065765970420031, 0.033794981835197316, 0.038127671814068766, 0.009531917953517191, 0.060657659704200305, 0.006932303966194321, 0.0008665379957742901, 0.11091686345910913, 0.006306114541593607, 0.035734649069030434, 0.00945917181239041, 0.011561209992921612, 0.021020381805312023, 0.001051019090265601, 0.005255095451328006, 0.624305339617767, 0.0945917181239041, 0.1891834362478082, 0.05090654948691277, 0.17723020932480743, 0.0018854277587745472, 0.0320522718991673, 0.4110232514128513, 0.03393769965794185, 0.024510560864069112, 0.03959398293426549, 0.1282090875966692, 0.03393769965794185, 0.0018854277587745472, 0.049021121728138224, 0.01885427758774547, 0.039613723217953915, 0.002898565113508823, 0.008695695340526468, 0.04444466507380195, 0.12077354639620096, 0.005797130227017646, 0.5555583134225244, 0.030918027877427444, 0.05603892552783724, 0.011594260454035292, 0.002898565113508823, 0.026087086021579407, 0.002898565113508823, 0.09178789526111272, 0.06676767253330046, 0.8437005892844331, 0.08497703776965514, 0.012011521892504658, 0.1621555455488129, 0.03603456567751397, 0.03603456567751397, 0.08408065324753261, 0.006005760946252329, 0.6125876165177375, 0.018017282838756987, 0.030028804731261644, 0.014284459998628218, 0.00680212380887058, 0.00680212380887058, 0.08298591046822107, 0.03469083142523996, 0.048295079042981116, 0.012243822855967043, 0.21358668759853622, 0.015644884760402333, 0.008842760951531754, 0.13060077713031512, 0.12651950284499278, 0.022447008569272914, 0.018365734283950566, 0.03469083142523996, 0.1360424761774116, 0.08638697237265637, 0.005897180186385867, 0.007862906915181156, 0.007862906915181156, 0.02162299401674818, 0.013760087101567023, 0.011794360372771734, 0.031451627660724624, 0.029485900931929335, 0.6133067393841302, 0.007862906915181156, 0.005897180186385867, 0.01965726728795289, 0.22409284708266294, 0.8510688954489071, 0.05319180596555669, 0.007465969779267267, 0.04852880356523724, 0.005599477334450451, 0.020531416892984985, 0.0765261902374895, 0.05412828089968769, 0.022397909337801804, 0.007465969779267267, 0.016798432003351352, 0.009332462224084084, 0.020531416892984985, 0.6420734010169851, 0.031730371561885885, 0.035463356451519525, 0.0016392456860905274, 0.9114206014663332, 0.0005464152286968425, 0.038249066008778976, 0.036063405093991606, 0.011474719802633692, 0.9340562244388778, 0.9444084996504477, 0.03854728570001827, 0.8401768017227506, 0.02522564731564675, 0.020750129243515873, 0.005289248630700125, 0.10822616428971024, 0.9099161217536281, 0.030147823311114184, 0.005481422420202579, 0.013703556050506448, 0.010962844840405158, 0.01644426726060774, 0.0027407112101012895, 0.010962844840405158, 0.6557190083763478, 0.10285788366687808, 0.21214438506293604, 0.01928585318753964, 0.00642861772917988, 0.001659937297776036, 0.05477793082660919, 0.05477793082660919, 0.08631673948435388, 0.0414984324444009, 0.03485868325329676, 0.006639749191104144, 0.06639749191104144, 0.03817855784884883, 0.6158367374749094, 0.10526394135199274, 0.8771995112666061, 0.008771995112666062, 0.16873672421806615, 0.815560833720653, 0.13374528592341572, 0.8024717155404943, 0.9873307102995423, 0.009609058007781434, 0.9693603522244414, 0.017481102192298145, 0.20977322630757772, 0.2185137774037268, 0.5506547190573915, 0.002437420859830718, 0.4679848050874978, 0.036561312897460764, 0.026811629458137896, 0.03412389203763005, 0.2632414528617175, 0.1657446184684888, 0.33093642480192603, 0.5234812537775921, 0.13839159582625998, 0.030306530432453287, 0.9091959129735986, 0.04545979564867993, 0.02811227968935325, 0.13001929356325878, 0.014056139844676624, 0.11947718867975131, 0.46033857991315946, 0.224898237514826, 0.01757017480584578, 0.8508530283502584, 0.0709044190291882, 0.07375851414606939, 0.012765896679127394, 0.019858061500864835, 0.12765896679127395, 0.004255298893042465, 0.03120552521564474, 0.07801381303911185, 0.005673731857389953, 0.0014184329643474882, 0.07801381303911185, 0.119148369005189, 0.421274590411204, 0.0241133603939073, 0.02614366913221832, 0.30302889221434876, 0.05822908124903172, 0.019013577550704236, 0.09863293354427821, 0.12358825407957752, 0.03802715510140847, 0.0023766971938380295, 0.07843100739665497, 0.059417429845950734, 0.0404038522952465, 0.0011883485969190147, 0.019013577550704236, 0.13190669425801063, 0.01708961081814618, 0.013671688654516945, 0.013671688654516945, 0.24267247361767577, 0.6254797559441503, 0.01025376649088771, 0.0034179221636292363, 0.03417922163629236, 0.0375971437999216, 0.005263218481240778, 0.0047368966331167005, 0.0047368966331167005, 0.20579184261651443, 0.017894942836218647, 0.5431641472640483, 0.07052712764862643, 0.0005263218481240779, 0.0005263218481240779, 0.021052873924963113, 0.0047368966331167005, 0.06315862177488933, 0.05789540329364856, 0.002635810845747372, 0.031629730148968464, 0.08522455067916503, 0.005271621691494744, 0.008786036152491239, 0.02460090122697547, 0.0008786036152491239, 0.002635810845747372, 0.0017572072304982479, 0.0017572072304982479, 0.45950969077529186, 0.0035144144609964957, 0.08258873983341765, 0.2890605894169618, 0.02881373633030972, 0.007730514625205047, 0.05762747266061944, 0.0780079203088873, 0.0056221924546945795, 0.030219284443983366, 0.018974899534594206, 0.02881373633030972, 0.004216644341020935, 0.2747846562231976, 0.2867318151894236, 0.030219284443983366, 0.0217859957619415, 0.06043856888796673, 0.0653579872858245, 0.9646459557283478, 0.015558805737553997, 0.11328074034276352, 0.1655641589625005, 0.7145400544697391, 0.6774129669504828, 0.2258043223168276, 0.0564510805792069, 0.8641229100527476, 0.05184737460316485, 0.0691298328042198, 0.8763377399146475, 0.1062227563532906, 0.9322332529954946, 0.05252018326735181, 0.9098358149622303, 0.04788609552432791, 0.0941056131181998, 0.8940033246228981, 0.0031385121762314023, 0.007323195077873272, 0.15483326736074918, 0.05230853627052337, 0.0010461707254104675, 0.00836936580328374, 0.6172407279921758, 0.015692560881157013, 0.13914070647959217, 0.08373740556536995, 0.08971864882003922, 0.7955053528710144, 0.023924973018677125, 0.05947142211411621, 0.012743876167310616, 0.08920713317117432, 0.09770305061604806, 0.1231908029506693, 0.046727545946805595, 0.5692264688065409, 0.03454702190009553, 0.11227782117531047, 0.014394592458373138, 0.834886362585642, 0.0591942021478053, 0.0591942021478053, 0.2663739096651238, 0.08879130322170795, 0.4143594150346371, 0.08879130322170795, 0.01469093807934485, 0.984292851316105, 0.047270849104553564, 0.009454169820910713, 0.02836250946273214, 0.006302779880607142, 0.8477238939416606, 0.003151389940303571, 0.02836250946273214, 0.02836250946273214, 0.23143003430773662, 0.6942901029232099, 0.03289269210391533, 0.7828460720731848, 0.013157076841566131, 0.14692069139748845, 0.021928461402610216, 0.03834280999448839, 0.03003520116234924, 0.2217492511347912, 0.005751421499173259, 0.005751421499173259, 0.015337123997795356, 0.007668561998897678, 0.01597617083103683, 0.03386948216179808, 0.48120226543082933, 0.06709991749035468, 0.07732466682221825, 0.9602377291427796, 0.035326471640704266, 0.7849088517202358, 0.02478659531748113, 0.05783538907412264, 0.041310992195801886, 0.04957319063496226, 0.041310992195801886, 0.6576418090127567, 0.07672487771815495, 0.05480348408439639, 0.14248905861943062, 0.05480348408439639, 0.6240125824029444, 0.021704785474885024, 0.05426196368721256, 0.29844080027966907, 0.0016132892932312383, 0.0032265785864624766, 0.024199339398468574, 0.004839867879693715, 0.26457944408992307, 0.05323854667663086, 0.2581262869169981, 0.27909904772900423, 0.0032265785864624766, 0.0629182824360183, 0.04355881091724343, 0.9237050690888232, 0.045428118151909336, 0.015142706050636445, 0.006930776405695814, 0.3964404104058006, 0.0013861552811391628, 0.024950795060504932, 0.012475397530252466, 0.026336950341644093, 0.2093094474520136, 0.32020186994314664, 0.9885273613169406, 0.8232710172632475, 0.16927067644664903, 0.975968736067661, 0.09569332690785942, 0.04953536922289194, 0.1896979480467566, 0.001688705768962225, 0.01970156730455929, 0.015761253843647433, 0.006191921152861492, 0.006191921152861492, 0.03658862499418154, 0.43399738262329185, 0.0005629019229874084, 0.07036274037342605, 0.07317724998836309, 0.9167452131231373, 0.04337871356837291, 0.9109529849358311, 0.0017908838660626678, 0.017908838660626678, 0.07969433203978872, 0.8703695589064566, 0.0017908838660626678, 0.017013396727595345, 0.008058977397282006, 0.0035817677321253356, 0.9865939344984685, 0.010303853101811682, 0.26359649406664515, 0.18606811345880833, 0.1757309960444301, 0.37213622691761666, 0.9859463432055989, 0.005642592785864735, 0.10470144391549008, 0.0025078190159398823, 0.016927778357594205, 0.006269547539849705, 0.0018808642619549116, 0.02006255212751906, 0.013793004587669352, 0.5523471382607591, 0.06457633966045197, 0.2106567973389501, 0.6509477972871927, 0.044382804360490406, 0.029588536240326938, 0.044382804360490406, 0.1479426812016347, 0.07397134060081735, 0.1804302104007245, 0.041006866000164656, 0.00820137320003293, 0.01640274640006586, 0.13942334440055984, 0.5412906312021735, 0.06561098560026345, 0.10647119376999435, 0.032760367313844414, 0.8517695501599548, 0.8642622245375678, 0.07202185204479732, 0.017360526855966143, 0.01627549392746826, 0.2387072442695345, 0.003255098785493652, 0.1085032928497884, 0.39712205183022553, 0.004340131713991536, 0.09005773306532437, 0.040146218354421705, 0.08354753549433706, 0.16412759073354796, 0.053341466988403086, 0.03856998382238377, 0.03200488019304185, 0.020515948841693495, 0.0049238277220064386, 0.08534634718144493, 0.09191145081078686, 0.006565103629341918, 0.051700191081067604, 0.013950845212351575, 0.0008206379536677398, 0.1977737468339253, 0.03610806996138055, 0.201876936602264, 0.016640034984426864, 0.9651220290967583, 0.18360838444553174, 0.09180419222276587, 0.6426293455593611, 0.9348602650467767, 0.054991780296869214, 0.009165296716144869, 0.8799840966705812, 0.054999006041911325, 0.054999006041911325, 0.9909942643047314, 0.0031531927923875974, 0.011982132611072869, 0.05864938593840931, 0.025856180897578296, 0.01072085549411783, 0.0006306385584775194, 0.018288518195848064, 0.005675747026297675, 0.005675747026297675, 0.8198301260207753, 0.018288518195848064, 0.02144171098823566, 0.9956385555269956, 0.09296945526247351, 0.8987047342039106, 0.0404258853723021, 0.134752951241007, 0.7815671171978407, 0.0134752951241007, 0.36685880795312226, 0.6270726135942905, 0.9928152881494782, 0.2789604250422032, 0.6137129350928471, 0.055792085008440635, 0.9557046332090745, 0.01032508611538838, 0.01032508611538838, 0.01032508611538838, 0.9636747041029156, 0.6494309437753653, 0.1206086038439964, 0.2226620378658395, 0.018806840059778566, 0.0047763403326421755, 0.028060999454272782, 0.11194547654630099, 0.7042116777939308, 0.05462939255459488, 0.07731700913464522, 0.9621692296689158, 0.3665522167829484, 0.0916380541957371, 0.45819027097868553, 0.9412447958334221, 0.005213674229339853, 0.010427348458679707, 0.061521355906210266, 0.014598287842151588, 0.003128204537603912, 0.0010427348458679705, 0.0010427348458679705, 0.006256409075207824, 0.5995725363740831, 0.004170939383471882, 0.0959316058198533, 0.19707688586904645, 0.9746541523607932, 0.743434879402026, 0.12817842748310795, 0.07049813511570936, 0.05768029236739857, 0.009638520371924163, 0.0077108162975393305, 0.0057831122231544975, 0.3373482130173457, 0.0019277040743848326, 0.3084326519015732, 0.0057831122231544975, 0.011566224446308995, 0.06554193852908431, 0.2062643359591771, 0.015421632595078661, 0.011566224446308995, 0.009638520371924163, 0.1903497176975643, 0.01359640840696888, 0.7342060539763194, 0.02719281681393776, 0.01359640840696888, 0.0059100582398678315, 0.9869797260579278, 0.0059100582398678315, 0.0015470780764080807, 0.04641234229224242, 0.8787403473997898, 0.041771108063018175, 0.013923702687672726, 0.012376624611264646, 0.0030941561528161615, 0.011296645903853719, 0.0016138065576933884, 0.02904851803848099, 0.05002800328849504, 0.7681719214620529, 0.05002800328849504, 0.006455226230773554, 0.017751872134627273, 0.014524259019240496, 0.048414196730801655, 0.0016138065576933884, 0.9522666432005125, 0.037589472757914966, 0.7955272601603083, 0.10661705548540215, 0.00820131196041555, 0.09021443156457104, 0.9860664311728417, 0.08323921243867545, 0.7075333057287413, 0.041619606219337725, 0.12485881865801317, 0.5069156450564376, 0.06258217840202933, 0.2503287136081173, 0.012516435680405866, 0.15019722816487038, 0.018774653520608798, 0.9757609253804563, 0.06302127990044941, 0.06302127990044941, 0.7562553588053929, 0.0006587334020427715, 0.0009881001030641573, 0.18115168556176214, 0.00032936670102138573, 0.7190075083296851, 0.0016468335051069286, 0.026019969380689473, 0.06982574061653378, 0.07091015109103944, 0.9041044264107528, 0.03216549795835482, 0.005360916326392471, 0.012508804761582431, 0.028591553740759845, 0.4378081666553851, 0.48248246937532235, 0.9820723557597187, 0.015776262743128013, 0.07185324245907337, 0.368247867602751, 0.008981655307384172, 0.026944965922152515, 0.520936007828282, 0.9925236819176196, 0.03137601105514658, 0.8471522984889576, 0.09412803316543973, 0.0037826116952920687, 0.027234804206102893, 0.10893921682441157, 0.003026089356233655, 0.011347835085876206, 0.0007565223390584138, 0.0007565223390584138, 0.017400013798343515, 0.8261223942517878, 0.1253677726159872, 0.7192151165864529, 0.15176098790356343, 0.18079924322530294, 0.01807992432253029, 0.7955166701913329, 0.16755856878620626, 0.16755856878620626, 0.670234275144825, 0.01558773654489107, 0.07793868272445534, 0.08573255099690087, 0.8105623003343356, 0.04463712779481717, 0.13986300042376046, 0.04240527140507631, 0.05579640974352146, 0.01264718620853153, 0.16590132497073715, 0.023806468157235822, 0.011159281948704292, 0.49993583130195224, 0.003719760649568097, 0.6305691095029424, 0.34155826764742714, 0.6776642973681759, 0.31462985234951024, 0.4810270642671734, 0.4644399241200295, 0.024880710220715866, 0.024880710220715866, 0.22950513351355706, 0.03155695585811409, 0.05163865504055033, 0.002868814168919463, 0.19794817765544295, 0.00860644250675839, 0.47335433787171144, 0.07602126221420208, 0.01900531555355052, 0.35634966662907225, 0.42445204736262826, 0.06493482814129761, 0.03642685481097183, 0.01742153925742131, 0.00316755259225842, 0.022527573221962003, 0.14868198326494922, 0.6307720502149361, 0.06758271966588601, 0.1306599246873796, 0.0023568596592053997, 0.004713719318410799, 0.11312926364185918, 0.7023441784432091, 0.007070578977616199, 0.07306264943536739, 0.018854877273643197, 0.051850912502518796, 0.023568596592053997, 0.03138092834285266, 0.21966649839996863, 0.7217613518856112, 0.04746529005997259, 0.09682919172234408, 0.0018986116023989035, 0.11391669614393421, 0.005695834807196711, 0.15758476299910898, 0.07974168730075396, 0.005695834807196711, 0.003797223204797807, 0.46136261938293355, 0.011391669614393422, 0.011391669614393422, 0.0018986116023989035, 0.011715572928431747, 0.0058577864642158734, 0.00878667969632381, 0.07322233080269841, 0.33682272169241273, 0.19037806008701588, 0.049791184945834926, 0.3192493622997651, 0.16714434378220097, 0.08357217189110049, 0.6685773751288039, 0.20273673519210267, 0.08453887027315478, 0.0007827673173440258, 0.03913836586720129, 0.010175975125472334, 0.485315736753296, 0.028179623424384927, 0.05557647953142583, 0.011741509760160387, 0.022700252202976747, 0.04696603904064155, 0.003913836586720129, 0.007044905856096232, 0.9093275404752916, 0.050518196693071754, 0.03832414921543374, 0.7212306835703006, 0.033056406330305446, 0.018030767089257514, 0.006010255696419172, 0.03005127848209586, 0.01502563924104793, 0.06611281266061089, 0.1081846025355451, 0.8049074855124249, 0.06707562379270207, 0.06707562379270207, 0.08430270688775818, 0.001478994857679968, 0.12867255261815722, 0.1345885320488771, 0.026621907438239428, 0.5827239739259075, 0.005915979430719872, 0.001478994857679968, 0.03401688172663927, 0.06311326886742577, 0.9256612767222447, 0.32498248833389165, 0.1973107964884342, 0.005803258720248065, 0.4062281104173645, 0.06383584592272872, 0.024970663062801168, 0.0015133735189576465, 0.09912596549172585, 0.010593614632703526, 0.0037834337973941166, 0.0037834337973941166, 0.028754096860195286, 0.00454012055687294, 0.6129162751778469, 0.08247885678319174, 0.12712337559244233, 0.033060598022958805, 0.26448478418367044, 0.016530299011479403, 0.016530299011479403, 0.022040398681972533, 0.5950907644132585, 0.049590897034438204, 0.02318516251251907, 0.973776825525801, 0.036626430640903804, 0.007848520851622243, 0.22302880086693208, 0.0019621302129055607, 0.022891519150564876, 0.009156607660225951, 0.0006540434043018536, 0.006540434043018536, 0.040550691066714925, 0.49249468343929576, 0.038588560853809364, 0.11445759575282438, 0.003270217021509268, 0.027619488455058454, 0.7457261882865782, 0.013809744227529227, 0.1519071865028215, 0.05523897691011691, 0.9925847797329312, 0.0032543763269932175, 0.984597823101243, 0.5023209991150205, 0.3653243629927422, 0.13699663612227833, 0.9330021174922968, 0.016963674863496304, 0.03392734972699261, 0.08634175667018247, 0.8634175667018247, 0.02878058555672749, 0.9435088547458307, 0.04965836077609635, 0.45408668732389423, 0.01769168911651536, 0.09907345905248602, 0.045998391702939935, 0.02123002693981843, 0.016512243175414335, 0.028306702586424575, 0.004717783764404096, 0.030665594468626624, 0.16158409393084028, 0.055433959231748126, 0.06369008081945529, 0.9894847386966203, 0.005377634449438154, 0.9925640562430946, 0.0011932329451019446, 0.07159397670611667, 0.665227366894334, 0.035796988353058334, 0.11634021214743959, 0.0107390965059175, 0.08531615557478904, 0.0005966164725509723, 0.005966164725509723, 0.007756014143162639, 0.9792778811892948, 0.7109744240696243, 0.2414630119481743, 0.013414611774898572, 0.026829223549797145, 0.04591208026129189, 0.3581142260380768, 0.009182416052258379, 0.5846138219937834, 0.00210380315418081, 0.01893422838762729, 0.021038031541808097, 0.010519015770904049, 0.005259507885452024, 0.001051901577090405, 0.021038031541808097, 0.5964281942102596, 0.15988903971774154, 0.16514854760319359, 0.059189496813041725, 0.059189496813041725, 0.651084464943459, 0.17756849043912518, 0.059189496813041725, 0.01714136483751294, 0.19284035442202058, 0.784217441316217, 0.02527410744848073, 0.0018955580586360547, 0.010109642979392292, 0.07076750085574604, 0.04675709877968935, 0.016428169841512474, 0.0037911161172721093, 0.030960781624388894, 0.01074149566560431, 0.020219285958784583, 0.10172828248013494, 0.04612524609347733, 0.02211484401742064, 0.06318526862120183, 0.014532611782876419, 0.03601560311408504, 0.0556030363866576, 0.4088086879791758, 0.015164464469088437, 0.00589931637667111, 0.9851858349040754, 0.9807765888760019, 0.0023778750005872713, 0.4042387500998361, 0.37570425009278885, 0.04755750001174543, 0.030912375007634527, 0.009511500002349085, 0.061824750015269055, 0.06420262501585633, 0.034793626761037845, 0.034793626761037845, 0.043492033451297304, 0.06088884683181623, 0.8176502288843894, 0.9975986886462255, 0.045670587149160786, 0.9134117429832157, 0.18366997254506987, 0.18366997254506987, 0.09183498627253493, 0.4591749313626747, 0.9898463875724438, 0.0017379371517823037, 0.02780699442851686, 0.012165560062476126, 0.06777954891950985, 0.050400177401686806, 0.16336609226753657, 0.026069057276734555, 0.06256573746416294, 0.0034758743035646074, 0.16162815511575426, 0.02780699442851686, 0.00868968575891152, 0.019117308669605343, 0.33020805883863774, 0.03649668018742838, 0.0017379371517823037, 0.40625167945779433, 0.0312501291890611, 0.5312521962140387, 0.01562506459453055, 0.06953583848547643, 0.9039659003111935, 0.021884205254902558, 0.044763147112300686, 0.013926312434937992, 0.01293157583244242, 0.0009947366024955708, 0.5789367026524221, 0.15816311979679576, 0.1671157492192559, 0.9916096906686457, 0.0036456238627523736, 0.2599723469947224, 0.13480047621948568, 0.006419070296165985, 0.09628605444248976, 0.38514421776995905, 0.02888581633274693, 0.035304886628912915, 0.05135256236932788, 0.013515521458003712, 0.07568692016482079, 0.2811228463264772, 0.02432793862440668, 0.356809766491298, 0.03784346008241039, 0.06487450299841782, 0.11353038024723118, 0.010812417166402969, 0.013515521458003712, 0.0054062085832014845, 0.9616368047692414, 0.9524745512887947, 0.147760454367429, 0.008537270696784787, 0.01773125452409148, 0.07355187061845354, 0.00394027878313144, 0.03480579591766105, 0.0394027878313144, 0.02364167269878864, 0.19110352098187483, 0.05779075548592778, 0.13068591297385942, 0.26990909664450363, 0.007919988786026845, 0.004319993883287371, 0.05039992863835265, 0.011519983688766321, 0.0143999796109579, 0.004319993883287371, 0.010079985727670531, 0.00719998980547895, 0.637919096765435, 0.0734398960158853, 0.17783974819533008, 0.9205979640663767, 0.010461340500754281, 0.06625515650477712, 0.8546291546023843, 0.01675743440396832, 0.00837871720198416, 0.054461661812897036, 0.0628403790148812, 0.9701873070266805, 0.015159176672291884, 0.0915600090221678, 0.1831200180443356, 0.0915600090221678, 0.5951400586440907, 0.020552687728346515, 0.04017116237813183, 0.004671065392806026, 0.12705297868432391, 0.004671065392806026, 0.013078983099856873, 0.06539491549928436, 0.027092179278274953, 0.04951329316374388, 0.0355000969853258, 0.08034232475626366, 0.038302736221009416, 0.0018684261571224104, 0.014947409256979283, 0.028960605435397364, 0.1429346010198644, 0.05698699779223352, 0.20365845112634273, 0.043908014692376644, 0.8569174760183299, 0.11177184469804304, 0.01138402793968504, 0.00569201396984252, 0.056920139698425194, 0.009757738234015748, 0.008944593381181103, 0.003252579411338583, 0.032525794113385825, 0.5797722800711024, 0.0008131448528346457, 0.09595109263448819, 0.19434161982748033, 0.015618346116160661, 0.0780917305808033, 0.33145601202074293, 0.1544480893709221, 0.10065156385970205, 0.2013031277194041, 0.005206115372053554, 0.019089089697529697, 0.031236692232321322, 0.003470743581369036, 0.010412230744107107, 0.048590410139166505, 0.9571322835697553, 0.41609132182550307, 0.004535055278752077, 0.02721033167251246, 0.01360516583625623, 0.19160608552727523, 0.34579796500484583, 0.01774959770858085, 0.008874798854290425, 0.1863707759400989, 0.42599034500594035, 0.03993659484430691, 0.3239301581816005, 0.03500580797262985, 0.9568254179185494, 0.8088598264619873, 0.06933084226817034, 0.1155514037802839, 0.03982373795404836, 0.008741796136254518, 0.010684417499866634, 0.005827864090836346, 0.3185899036323869, 0.18163509749773277, 0.027196699090569612, 0.0048565534090302875, 0.06022126227197557, 0.01554097090889692, 0.006799174772642403, 0.11461466045311479, 0.14084004886187834, 0.01554097090889692, 0.049536844772108936, 0.10610676496593013, 0.8488541197274411, 0.9745157583650017, 0.8016927861278432, 0.014709959378492536, 0.022064939067738803, 0.044129878135477606, 0.08825975627095521, 0.014709959378492536, 0.007354979689246268, 0.13371801505023645, 0.013796303140103761, 0.01910257357860521, 0.4372366841325192, 0.010612540877002894, 0.36294889799349894, 0.005306270438501447, 0.006367524526201736, 0.010612540877002894, 0.8855150011206515, 0.09160500011592947, 0.006907354480635596, 0.08979560824826274, 0.649291321179746, 0.23485005234161024, 0.013814708961271191, 0.21825524998257223, 0.7592298012214265, 0.020519724357335848, 0.012689497357482423, 0.0031723743393706058, 0.973918922186776, 0.0063447486787412116, 0.008228170149437601, 0.008228170149437601, 0.9626959074841993, 0.008228170149437601, 0.9602943362661709, 0.030977236653747447, 0.14620290454600207, 0.11962055826491079, 0.5449380987623714, 0.046519105991909754, 0.13955731797572926, 0.1110624848603419, 0.8329686364525642, 0.0015112919494514702, 0.009067751696708821, 0.4110714102507999, 0.14508402714734114, 0.26598738310345876, 0.03475971483738382, 0.04231617458464117, 0.04987263433189852, 0.03778229873628676, 0.003914316854646897, 0.018266811988352186, 0.23746855584857843, 0.32227875436592784, 0.07176247566852645, 0.06915293109876185, 0.24529718955787222, 0.002609544569764598, 0.030009762552292877, 0.9402829384838255, 0.05102310518904479, 0.990795096603578, 0.04532922341409965, 0.14644826026093732, 0.8054654314351554, 0.9682758243388072, 0.016137930405646785, 0.005371908484125162, 0.04834717635712646, 0.10743816968250323, 0.8111581811028995, 0.021487633936500647, 0.20429461148483424, 0.016068115510043144, 0.7781558797006608, 0.03611651941197046, 0.9029129852992615, 0.03611651941197046, 0.14519780993509507, 0.0879986726879364, 0.03827942261925233, 0.2591560910659727, 0.018919714627906325, 0.054119183703080886, 0.018919714627906325, 0.09987849350080781, 0.11307829440399828, 0.00879986726879364, 0.14739777675229346, 0.001319980090319046, 0.004839926997836502, 0.000879986726879364, 0.000879986726879364, 0.3313164431794009, 0.03601265686732618, 0.5545949157568232, 0.007202531373465236, 0.05762025098772189, 0.15589177529282314, 0.017321308365869238, 0.06928523346347695, 0.06928523346347695, 0.030312289640271165, 0.012990981274401927, 0.10825817728668273, 0.10825817728668273, 0.3204442047685809, 0.10392785019521542, 0.9621861183242557, 0.01850357919854338, 0.9451142976932008, 0.3842822791640233, 0.12698023137593814, 0.09022279597764025, 0.03675743539829788, 0.29405948318638303, 0.003341585036208898, 0.060148530651760165, 0.6529340222093031, 0.15760476398155593, 0.06754489884923826, 0.11257483141539708, 0.009664303541742438, 0.019328607083484876, 0.9567660506325013, 0.023715400574901232, 0.005270089016644718, 0.9117253998795363, 0.02898548959154595, 0.015810267049934153, 0.013175222541611796, 0.9694399878405803, 0.01908346432757048, 0.0076333857310281914, 0.032063398830729936, 0.05085918435219232, 0.017690151079023414, 0.008845075539511707, 0.19127475854194068, 0.18574658632974586, 0.04311974325511957, 0.023218323291218233, 0.059704259891704026, 0.024323957733657194, 0.2211268884877927, 0.14041557418974834, 0.010530808824506572, 0.021061617649013143, 0.036857830885773005, 0.05265404412253286, 0.12636970589407887, 0.047388639710279575, 0.005265404412253286, 0.3001280514984373, 0.405436139743503, 0.9636286876968368, 0.9882009721850679, 0.1028475919019483, 0.09098056206710811, 0.003955676611613396, 0.799046675545906, 0.991036132142384, 0.04009087225378955, 0.5612722115530537, 0.4009087225378955, 0.3717707946266887, 0.05311011351809839, 0.5311011351809839, 0.9396463899428873, 0.026101288609524646, 0.9426519675536261, 0.03770607870214505, 0.007462010061172465, 0.18655025152931165, 0.022386030183517397, 0.7387389960560741, 0.044772060367034794, 0.9737741893234472, 0.9731705540773947, 0.0252771572487635, 0.0044921353729655686, 0.052408246017931634, 0.2425753101401407, 0.3189416114805554, 0.06588465213682834, 0.010481649203586326, 0.07037678750979391, 0.010481649203586326, 0.04042921835669012, 0.005989513830620758, 0.011979027661241516, 0.04941348910262126, 0.0014973784576551895, 0.0838531936286906, 0.0044921353729655686, 0.007486892288275948, 0.019465919949517463, 0.10522466080828614, 0.0035074886936095383, 0.010522466080828616, 0.059627307791362154, 0.02455242085526677, 0.03858237562970492, 0.01753744346804769, 0.045597353016924, 0.2560466746334963, 0.02455242085526677, 0.14380703643799106, 0.14029954774438153, 0.10873214950189569, 0.02455242085526677, 0.9777769953927532, 0.023848449744131597, 0.07949483248043865, 0.5167164111228513, 0.01589896649608773, 0.01589896649608773, 0.03179793299217546, 0.15104018171283345, 0.007949483248043865, 0.007949483248043865, 0.15104018171283345, 0.0659575641082692, 0.06134053462069035, 0.09300016539265957, 0.011872361539488455, 0.021106420514646142, 0.029680903848721137, 0.000659575641082692, 0.0039574538464961515, 0.0039574538464961515, 0.0019787269232480757, 0.462362524398967, 0.001319151282165384, 0.06793629103151727, 0.17478754488691337, 0.43719076505208043, 0.047585389393423716, 0.19926381808496182, 0.13085982083191522, 0.0059481736741779645, 0.07137808409013557, 0.08030034460140252, 0.029740868370889822, 0.03221184617959695, 0.16105923089798477, 0.7408724621307299, 0.03221184617959695, 0.8536425947730826, 0.10042854056153913, 0.004678580259053003, 0.994198305048763, 0.9856385531775385, 0.06643705560521485, 0.1328741112104297, 0.6643705560521485, 0.1328741112104297, 0.01375504288491873, 0.6441945084436939, 0.21091065756875388, 0.03897262150726974, 0.05043515724470201, 0.00917002858994582, 0.032095100064810374, 0.7644587076107465, 0.07361454221436818, 0.15855439861556225, 0.9821520488646723, 0.9658733366932484, 0.018938692876338203, 0.18549580682906555, 0.7463997941455257, 0.0022082834146317327, 0.03533253463410772, 0.019874550731685595, 0.011041417073158664, 0.014154403608213134, 0.0849264216492788, 0.7218745840188698, 0.1698528432985576, 0.004009057553560459, 0.03708378237043424, 0.013029437049071491, 0.0020045287767802293, 0.009020379495511032, 0.15936003775402824, 0.7727458434487784, 0.003006793165170344, 0.5147233608361255, 0.044436549136931694, 0.31105584395852187, 0.011109137284232923, 0.014812183045643898, 0.09998223555809631, 0.00465191472464664, 0.0465191472464664, 0.8164110341754852, 0.06745276350737628, 0.00465191472464664, 0.04884510460878971, 0.006977872086969959, 0.07921060427803524, 0.042816542852992016, 0.6765013770772739, 0.006422481427948803, 0.04709819713829122, 0.034253234282393616, 0.021408271426496008, 0.006422481427948803, 0.012844962855897606, 0.07064729570743683, 0.18259729378347528, 0.005618378270260778, 0.05899297183773817, 0.08427567405391168, 0.08427567405391168, 0.008427567405391167, 0.09270324145930284, 0.03932864789182545, 0.03651945875669506, 0.3848589115128633, 0.016855134810782334, 0.9844273800645365, 0.16569575529714833, 0.7870548376614546, 0.002817764374790141, 0.06339969843277818, 0.08594181343109931, 0.16483921592522327, 0.2648698512302733, 0.0014088821873950706, 0.02254211499832113, 0.3944870124706198, 0.08939117563171971, 0.009577625960541397, 0.011173896953964963, 0.3719311414676909, 0.02075152291450636, 0.019155251921082795, 0.011173896953964963, 0.031925419868471326, 0.022347793907929927, 0.04150304582901272, 0.14845320238839166, 0.09417998861199041, 0.11652778251992033, 0.011173896953964963, 0.09589329912778459, 0.6233064443305998, 0.23973324781946145, 0.23508242373683091, 0.12445540080185166, 0.5738776814752049, 0.006914188933436203, 0.006914188933436203, 0.04839932253405343, 0.028843035865102163, 0.038788910301344286, 0.024864686090605312, 0.08652910759530649, 0.021880923759732676, 0.0238700986469811, 0.061664421504701174, 0.0009945874436242126, 0.08453993270805807, 0.0556968968429559, 0.0029837623308726375, 0.024864686090605312, 0.02784844842147795, 0.01989174887248425, 0.26754402233491315, 0.04077808518859271, 0.029837623308726375, 0.13128554255839606, 0.02784844842147795, 0.988453709353153, 0.9954719492987589, 0.9700096025982738, 0.026996087335778397, 0.28795826491496956, 0.6749021833944598, 0.994210561963868, 0.07276114451768166, 0.0470807405702646, 0.034240538596556076, 0.8431732629401933, 0.0024633729545941287, 0.004926745909188257, 0.5271618122831435, 0.05912095091025908, 0.4064565375080312, 0.011632364046804781, 0.9538538518379921, 0.011632364046804781, 0.0067537759170620566, 0.04052265550237234, 0.11143730263152393, 0.0022512586390206857, 0.009005034556082743, 0.01688443979265514, 0.0011256293195103428, 0.8104531100474468, 0.7922966923055214, 0.0046514482914218475, 0.16280069019976465, 0.013954344874265542, 0.00620193105522913, 0.01860579316568739, 0.011909724994918556, 0.011909724994918556, 0.964687724588403, 0.9791870989965705, 0.01519802592677604, 0.0021711465609680057, 0.006425806974431069, 0.9895742740623846, 0.009260930103237789, 0.0013229900147482556, 0.003968970044244766, 0.07541043084065056, 0.0066149500737412775, 0.003968970044244766, 0.002645980029496511, 0.04498166050144069, 0.013229900147482555, 0.0066149500737412775, 0.022490830250720344, 0.027782790309713368, 0.022490830250720344, 0.18257262203525926, 0.02116784023597209, 0.09657827107662266, 0.4379096948816726, 0.019844850221223835, 0.9746705850507235, 0.062376880711686226, 0.11551274205867819, 0.0254128032529092, 0.5637021812463496, 0.22640497443500926, 0.004620509682347128, 0.007077947875940859, 0.6812524830593077, 0.3025822716964717, 0.008847434844926075, 0.00022012143208478344, 0.019370686023460943, 0.08958942285850685, 0.0017609714566782675, 0.002421335752932618, 0.08738820853765902, 0.01474813594968049, 0.02773530044268271, 0.07726262266175898, 0.6777538893890482, 0.0017609714566782675, 0.010691521878229212, 0.15502706723432358, 0.005345760939114606, 0.7644438142933887, 0.058803370330260674, 0.032879534627926504, 0.004227368737876264, 0.011272983301003372, 0.02301567423954855, 0.0023485381877090357, 0.050728424854515175, 0.04462222556647168, 0.0014091229126254215, 0.018318597864130478, 0.15171556692600371, 0.0014091229126254215, 0.002818245825250843, 0.1963377924924754, 0.040394856828595414, 0.040864564466137225, 0.37670552530852935, 0.38267498131379707, 0.005600121677762884, 0.0578679240035498, 0.240805232143804, 0.06346804568131269, 0.026133901162893457, 0.0018667072259209614, 0.17920389368841227, 0.03920085174434019, 0.042044473103435974, 0.9249784082755915, 0.01479303278045155, 0.1775163933654186, 0.6459624314130511, 0.12327527317042959, 0.04437909834135465, 0.8321242548037331, 0.011534395611140854, 0.004943312404774652, 0.12193503931777475, 0.02965987442864791, 0.02035607371438305, 0.0020954781764806083, 0.02245155189086366, 0.03951473132792004, 0.308933354018284, 0.12423192046277892, 0.001197416100846062, 0.008381912705922433, 0.20655427739594567, 0.0035922483025381856, 0.03801796120186247, 0.036521191075804885, 0.05508114063891885, 0.12902158486616316, 0.00329289427732667, 0.005675089801258898, 0.03405053880755339, 0.8172129313812813, 0.011350179602517796, 0.13052706542895465, 0.8371889513477748, 0.14773922670843084, 0.14982900939307245, 0.09589056601156637, 0.7191792450867478, 0.02996580187861449, 0.9194304778621373, 0.02965904767297217, 0.8938545539610042, 0.06164514165248305, 0.8656514320510527, 0.12173223263217928, 0.9627378250358388, 0.9835963974169605, 0.008704392897495226, 0.984340519921578, 0.0033095442657278796, 0.11583404930047579, 0.0165477213286394, 0.0033095442657278796, 0.11914359356620367, 0.13900085916057095, 0.0082738606643197, 0.05129793611878213, 0.16713198541925792, 0.006619088531455759, 0.1406556312934349, 0.07115520171314942, 0.09597678370610851, 0.01489294919577546, 0.021512037727231217, 0.0248215819929591, 0.22877313232485372, 0.5671667238886998, 0.07149160385151679, 0.07625771077495123, 0.052427176157778976, 0.028954565819936835, 0.8252051258681998, 0.014477282909968418, 0.13029554618971576, 0.03581820900418602, 0.0003770337789914318, 0.03393304010922886, 0.02752346586637452, 0.009425844474785795, 0.013573216043691544, 0.023376094297468772, 0.026392364529400227, 0.005655506684871477, 0.021490925402511612, 0.01281914848570868, 0.024130161855451634, 0.0007540675579828636, 0.001885168894957159, 0.17720587612597294, 0.024507195634443067, 0.028277533424357383, 0.4980616220476814, 0.03506414144620316, 0.019802159753249764, 0.04809095940074942, 0.17821943777924787, 0.03017471962399964, 0.008486639894249899, 0.003771839952999955, 0.008486639894249899, 0.506369513690244, 0.005657759929499932, 0.04903391938899941, 0.1405010382492483, 0.14979380722658342, 0.8345654974052504, 0.010329501033496051, 0.009038313404309044, 0.011620688662683057, 0.7927892043208219, 0.07359769486365936, 0.02840612784211414, 0.010329501033496051, 0.009038313404309044, 0.018076626808618088, 0.02195018969617911, 0.0012911876291870064, 0.012911876291870064, 0.008120131316448778, 0.020300328291121945, 0.8972745104675899, 0.073081181848039, 0.06454658170145415, 0.6454658170145415, 0.2581863268058166, 0.0047570113033588626, 0.024736458777466084, 0.10941125997725383, 0.006659815824702407, 0.020930849734778996, 0.006659815824702407, 0.015222436170748359, 0.0038056090426870897, 0.0028542067820153173, 0.5042431981560395, 0.1560299707501707, 0.14366174136143764, 0.00939611109108622, 0.0939611109108622, 0.00939611109108622, 0.8738383314710185, 0.5448334755978089, 0.05197424602742256, 0.012545507661791652, 0.026883230703839255, 0.030467661464351155, 0.17026046112431528, 0.007168861521023801, 0.025091015323583304, 0.00896107690127975, 0.0179221538025595, 0.05197424602742256, 0.0017922153802559502, 0.046597599886654704, 0.9762874277877531, 0.035842432418743235, 0.954579067478774, 0.008777738551528956, 0.037734877687006375, 0.0075469755374012746, 0.03396138991830574, 0.5396087509241911, 0.04528185322440765, 0.08301673091141402, 0.030187902149605098, 0.06792277983661148, 0.018867438843503188, 0.11697812082971976, 0.011320463306101912, 0.004947871205946602, 0.014843613617839807, 0.2003887838408374, 0.5838488023016991, 0.007421806808919904, 0.10637923092785195, 0.009895742411893204, 0.014843613617839807, 0.01731754922081311, 0.03958296964757282, 0.7831445555062764, 0.009323149470312814, 0.02796944841093844, 0.16781669046563064, 0.15178629462872897, 0.8263920485341911, 0.9003819355362106, 0.07203055484289685, 0.9077463551264895, 0.2961947873686446, 0.006888250869038245, 0.02755300347615298, 0.5235070660469067, 0.11021201390461192, 0.02755300347615298, 0.05951224918162261, 0.8926837377243392, 0.29068977380826205, 0.6782761388859447, 0.014447951841637273, 0.014447951841637273, 0.8957730141815109, 0.05779180736654909, 0.046504744818036466, 0.06510664274525105, 0.2883294178718261, 0.10231043859968023, 0.3720379585442917, 0.11161138756328752, 0.009300948963607293, 0.05117864102770772, 0.007311234432529675, 0.01462246886505935, 0.0877348131903561, 0.6580110989276707, 0.1754696263807122, 0.004014385689893678, 0.0022939346799392447, 0.0017204510099544333, 0.1496792378660357, 0.0103227060597266, 0.7896870135690849, 0.041864307908891216, 0.17730936677368564, 0.006010487009277479, 0.35762397705201004, 0.024041948037109916, 0.016528839275513067, 0.0015026217523193698, 0.10067565740539779, 0.00450786525695811, 0.022539326284790547, 0.28850337644531904, 0.014052598664134167, 0.028105197328268335, 0.758840327863245, 0.15926278486018722, 0.009368399109422778, 0.03278939688297972, 0.1257610203828192, 0.22008178566993358, 0.0314402550957048, 0.5973648468183912, 0.9261233587017988, 0.0654834698071979, 0.001995844240674082, 0.2794181936943715, 0.06785870418291878, 0.005987532722022246, 0.043908573294829806, 0.01995844240674082, 0.1437007853285339, 0.4311023559856017, 0.003991688481348164, 0.005419474211075957, 0.06909829619121845, 0.06909829619121845, 0.16393909488504768, 0.38207293188085495, 0.14768067225181983, 0.04606553079414563, 0.004064605658306968, 0.11245408987982611, 0.0038879187750988447, 0.11663756325296534, 0.16329258855415146, 0.1224694414156136, 0.1584326900852779, 0.0019439593875494223, 0.03693522836343902, 0.021383553263043645, 0.0038879187750988447, 0.0019439593875494223, 0.056374822238933246, 0.3139494410892317, 0.1573682182329237, 0.3344074637449629, 0.08992469613309927, 0.10678557665805538, 0.008430440262478056, 0.002810146754159352, 0.07868410911646186, 0.09273484288725863, 0.12645660393717084, 0.9914266207163343, 0.12757124807780507, 0.1417458311975612, 0.4394120767124397, 0.01417458311975612, 0.01417458311975612, 0.24096791303585402, 0.006310792534728592, 0.006310792534728592, 0.05048634027782874, 0.03155396267364296, 0.8077814444452598, 0.05679713281255733, 0.037864755208371556, 0.011671996166493398, 0.023343992332986795, 0.07003197699896038, 0.7333904257946685, 0.011671996166493398, 0.0038906653888311324, 0.0038906653888311324, 0.14200928669233634, 0.004730343830399256, 0.016556203406397397, 0.030747234897595163, 0.8656529209630638, 0.002365171915199628, 0.004730343830399256, 0.002365171915199628, 0.06622481362558959, 0.007095515745598884, 0.5154489082819695, 0.15383107730464124, 0.31455011329456495, 0.014923910484778629, 0.016247282153017784, 0.02166304287069038, 0.016247282153017784, 0.828611389803907, 0.1137309750711245, 0.0006506418991241121, 0.0052051351929928965, 0.016916689377226915, 0.033182736855329714, 0.006506418991241121, 0.007157060890365233, 0.030580169258833268, 0.035785304451826164, 0.0032532094956205606, 0.01951925697372336, 0.014964763679854578, 0.01951925697372336, 0.0806795954913899, 0.03903851394744672, 0.03708658825007439, 0.0969456429694927, 0.5523949723563711, 0.9830505735729428, 0.008699562597990644, 0.9571321956872763, 0.0015911573497493473, 0.041370091093483025, 0.09546944098496084, 0.4725737328755561, 0.01113810144824543, 0.14320416147744125, 0.22753550101415665, 0.004773472049248041, 0.06547081328872119, 0.0023807568468625887, 0.05594778590127083, 0.3666365544168386, 0.24164681995655274, 0.01666529792803812, 0.026188325315488474, 0.02737870373891977, 0.11070519337911036, 0.08570724648705319, 0.0037787575435239795, 0.015115030174095918, 0.9749194462291868, 0.21578043425208526, 0.01936491076621278, 0.013832079118723415, 0.31537140390689383, 0.21301401842834058, 0.1964155234858725, 0.022131326589957465, 0.7493238328943493, 0.20436104533482252, 0.0419202144276559, 0.04772972483660771, 0.48922967957522906, 0.04772972483660771, 0.023864862418303854, 0.38183779869286166, 0.0035220276330519386, 0.1455771421661468, 0.7032315173993704, 0.02465419343136357, 0.00821806447712119, 0.02465419343136357, 0.017610138165259696, 0.0727885710830734, 0.9854912837568537, 0.09687789958204986, 0.01684833036209563, 0.2443007902503866, 0.008424165181047815, 0.008424165181047815, 0.25693703802195833, 0.02948457813366735, 0.3116941116987691, 0.02948457813366735, 0.019206218574019763, 0.019806412904457883, 0.0060019433043811765, 0.025808356208839058, 0.004801554643504941, 0.0036011659826287058, 0.020406607234896, 0.0036011659826287058, 0.7580454393433426, 0.013204275269638587, 0.0444143804524207, 0.07982584594826965, 0.7132571245954259, 0.1984465386979209, 0.08628110378170474, 0.010520976594067004, 0.7154264083965562, 0.2682849031487086, 0.37986855051868706, 0.5698028257780305, 0.9697524456356923, 0.8871447150239914, 0.009967918146336982, 0.04983959073168491, 0.04983959073168491, 0.0480316818369811, 0.8645702730656598, 0.0480316818369811, 0.9417351911011427, 0.030378554551649766, 0.17591558586334927, 0.01720913339967547, 0.015297007466378196, 0.11600230662003465, 0.006373753110990915, 0.03441826679935094, 0.0745729113985937, 0.14532157093059286, 0.10070529915365646, 0.015297007466378196, 0.01211013091088274, 0.1638054549524665, 0.002549501244396366, 0.04844052364353096, 0.07138603484309824, 0.0014131771521563626, 0.09044333773800721, 0.01695812582587635, 0.05228755462978542, 0.014131771521563627, 0.08055109767291267, 0.014131771521563627, 0.029676720195283616, 0.03250307449959634, 0.18229985262817078, 0.04663484602115997, 0.11022781786819628, 0.2925276704963671, 0.03532942880390907, 0.8647925524746064, 0.11242303182169884, 0.01729585104949213, 0.01913785756343452, 0.01913785756343452, 0.023922321954293148, 0.00956892878171726, 0.4832309034767216, 0.05262910829944493, 0.12439607416232437, 0.26314554149722463, 0.9054270641563426, 0.08231155128694023, 0.02506854816110505, 0.9676459590186549, 0.013357061755017757, 0.008904707836678504, 0.02894030046920514, 0.04897589310173177, 0.02226176959169626, 0.06233295485674953, 0.15805856410104344, 0.23820093463114997, 0.09349943228512429, 0.006678530877508878, 0.07569001661176729, 0.01113088479584813, 0.013357061755017757, 0.11353502491765093, 0.008904707836678504, 0.05788060093841028, 0.040071185265053266, 0.029748460199769736, 0.050343548030379555, 0.00228834309228998, 0.0343251463843497, 0.022883430922899798, 0.09153372369159919, 0.21281590758296812, 0.00228834309228998, 0.00457668618457996, 0.31121466055143726, 0.08238035132243927, 0.06636194967640942, 0.052631891122669534, 0.03661348947663968, 0.00706463553135113, 0.009419514041801507, 0.0017661588828377826, 0.012363112179864478, 0.17013997238003972, 0.0606381216440972, 0.1607204583382382, 0.013540551435089665, 0.005298476648513348, 0.02708110287017933, 0.04179909356049419, 0.3326265896011157, 0.013540551435089665, 0.028847261753017113, 0.0100082336694141, 0.030024701008242304, 0.02531494398734155, 0.008242074786576318, 0.04121037393288159, 0.015394701309354546, 0.9544714811799818, 0.015394701309354546, 0.9853694573911467, 0.036536343444981155, 0.1644135455024152, 0.7855313840670948, 0.0627454267447317, 0.9098086877986097, 0.8303766896108038, 0.11862524137297198, 0.0026451266217614915, 0.0023512236637879924, 0.640708448382228, 0.016458565646515946, 0.0620135241324083, 0.0020573207058144933, 0.26451266217614916, 0.004408544369602486, 0.003820738453655488, 0.0005878059159469981, 0.00766515747272422, 0.1771503060362931, 0.0051101049818161465, 0.0008516841636360244, 0.6055474403452134, 0.02299547241817266, 0.003406736654544098, 0.0025550524909080732, 0.001703368327272049, 0.14904472863630427, 0.0025550524909080732, 0.016181999109084463, 0.0051101049818161465, 0.9326968310649425, 0.8130365944601432, 0.09381191474540114, 0.03127063824846705, 0.03127063824846705, 0.21209669237660433, 0.6885457839472373, 0.0015369325534536546, 0.038423313836341365, 0.007684662767268273, 0.004610797660360964, 0.010758527874175583, 0.03534944872943405, 0.08799906804763524, 0.8799906804763524, 0.38331223820518145, 0.025768889963373544, 0.29634223457879577, 0.07408555864469894, 0.003221111245421693, 0.03865333494506032, 0.05153777992674709, 0.003221111245421693, 0.12240222732602433, 0.6922027983699475, 0.2662318455269029, 0.39213328816074133, 0.19606664408037067, 0.22407616466328076, 0.16805712349746058, 0.06622941630554703, 0.8609824119721114, 0.008278677038193379, 0.008278677038193379, 0.04691250321642915, 0.011038236050924506, 0.07745441861283446, 0.4303023256268581, 0.12048465117552026, 0.3614539535265608, 0.020797168119797513, 0.048526725612860866, 0.02911603536771652, 0.04159433623959503, 0.11230470784690656, 0.09566697335106857, 0.006932389373265837, 0.04714024773820769, 0.012478300871878508, 0.015251256621184843, 0.11785061934551924, 0.03743490261563552, 0.019410690245144344, 0.05407263711147353, 0.023570123869103846, 0.15112608833719526, 0.06516446010869888, 0.015251256621184843, 0.08457515035384322, 0.14123468982554788, 0.07805074964043435, 0.011150107091490622, 0.003716702363830207, 0.7619239845851925, 0.12654724645500276, 0.029868294194348475, 0.0007860077419565388, 0.13519333161652466, 0.060522596130653486, 0.2208681754897874, 0.4189421264628352, 0.0007860077419565388, 0.005502054193695771, 0.0090747046751436, 0.032668936830516956, 0.005444822805086159, 0.38113759635603117, 0.3648031279407727, 0.15789986134749864, 0.02540917309040208, 0.01996435028531592, 0.00181494093502872, 0.00362988187005744, 0.9904929894944905, 0.8359591438692258, 0.13375346301907612, 0.005542313203126206, 0.5043505014844848, 0.11915973386721343, 0.04156734902344655, 0.04156734902344655, 0.11361742066408723, 0.0859058546484562, 0.03602503582032034, 0.04156734902344655, 0.005542313203126206, 0.020076845600508573, 0.40153691201017144, 0.5420748312137315, 0.3174360284404451, 0.6348720568808902, 0.0039057027933885233, 0.05858554190082785, 0.171850922909095, 0.7577063419173735, 0.003405693399306543, 0.12941634917364864, 0.82758349603149, 0.037462627392371974, 0.05003451231273287, 0.8568410233555505, 0.08130608250819092, 0.006254314039091609, 0.18954380439544605, 0.4951831889831028, 0.0592324388735769, 0.004738595109886151, 0.004738595109886151, 0.24877624326902295, 0.050655348480064144, 0.050655348480064144, 0.21950651008027797, 0.6754046464008553, 0.001933258601474051, 0.046398206435377225, 0.09086315426928039, 0.0006444195338246837, 0.00708861487207152, 0.0012888390676493674, 0.0006444195338246837, 0.5065137535862013, 0.003866517202948102, 0.08441895893103356, 0.2571233939960488, 0.0977556393532964, 0.840698498438349, 0.03910225574131856, 0.8883916935757284, 0.07403264113131071, 0.15967325943545296, 0.15135694383985646, 0.5023054619740291, 0.0016632631191193018, 0.014969368072073717, 0.1696528381501688, 0.954125924527179, 0.014735535513933267, 0.0221033032708999, 0.0036838838784833167, 0.3352937945693284, 0.011974778377476014, 0.6346632540062288, 0.9752719981354192, 0.021672711069675984, 0.011484499695856024, 0.15791187081802033, 0.8268839781016337, 0.9937558483114364, 0.02256908843672871, 0.006448310981922488, 0.09350050923787608, 0.006448310981922488, 0.029017399418651196, 0.7254349854662799, 0.09672466472883733, 0.019344932945767467, 0.20671935520408213, 0.017975596104702795, 0.008987798052351397, 0.745987238345166, 0.022469495130878495, 0.6869819966386975, 0.14721042785114946, 0.15702445637455942, 0.03134685874908514, 0.8463651862252987, 0.09404057624725541, 0.10337728566807147, 0.8844501107157227, 0.057253219818408155, 0.03982832683019698, 0.18918455244343566, 0.34849785976422354, 0.10206008750237976, 0.2613733948231677, 0.06656525239671578, 0.016385292897653114, 0.005120404030516597, 0.010240808061033195, 0.012288969673239834, 0.010240808061033195, 0.027650181764789627, 0.030722424183099586, 0.014337131285446473, 0.010240808061033195, 0.03379466660140955, 0.024577939346479668, 0.009216727254929877, 0.16078068655822117, 0.4024637567986046, 0.05632444433568257, 0.029698343376996266, 0.02355385854037635, 0.055300363529579254, 0.017165349132437117, 0.011883703245533388, 0.07130221947320033, 0.007922468830355592, 0.030369463849696434, 0.005281645886903728, 0.03433069826487423, 0.7513141274120553, 0.0699818080014744, 0.0364350724384523, 0.016816187279285678, 0.01401348939940473, 0.001401348939940473, 0.01401348939940473, 0.053251259717737975, 0.025224280918928515, 0.17797131537244007, 0.1821753621922615, 0.025224280918928515, 0.008408093639642839, 0.24944011130940422, 0.004204046819821419, 0.08408093639642839, 0.04344181713815467, 0.06306070229732129, 0.006720054458372586, 0.12712103017088142, 0.01736014068412918, 0.10752087133396138, 0.49280399361398963, 0.02744022237168806, 0.1444811708550106, 0.015680127069536035, 0.0005600045381977155, 0.0028000226909885777, 0.05712046289616698, 0.13467246484383774, 0.8417029052739858, 0.009629063630812836, 0.025677503015500897, 0.14122626658525494, 0.33059785132457403, 0.2985009725551979, 0.1315972029544421, 0.02888719089243851, 0.03209687876937612, 0.01732629838457509, 0.9702727095362051, 0.05417995374520844, 0.4334396299616675, 0.48761958370687597, 0.6405936789997415, 0.027851899086945284, 0.25066709178250757, 0.08355569726083585, 0.9649137438177466, 0.0335039494381162, 0.800260166344567, 0.1500487811896063, 0.018391275720095922, 0.020230403292105514, 0.0003065212620015987, 0.0067434677640351715, 0.013486935528070343, 0.0006130425240031974, 0.03708907270219344, 0.14835629080877377, 0.061610773662321344, 0.0015326063100079936, 0.0030652126200159872, 0.0052108614540271785, 0.023908658436124698, 0.02850647736614868, 0.041073849108214225, 0.5897469080910759, 0.0972072079689311, 0.07290540597669833, 0.024301801992232776, 0.024301801992232776, 0.07290540597669833, 0.656148653790285, 0.02050002782792854, 0.9635013079126413, 0.01106538118557885, 0.03822586227745421, 0.07443983706662136, 0.007041606209004723, 0.08248738701976961, 0.08248738701976961, 0.01609509990629651, 0.02716048109187536, 0.01106538118557885, 0.24343838608273471, 0.012071324929722382, 0.012071324929722382, 0.03621397478916715, 0.007041606209004723, 0.0885230494846308, 0.15089156162152978, 0.10059437441435319, 0.747107970122667, 0.24100257100731193, 0.3065958740660598, 0.5606324554350808, 0.08759882116173137, 0.03503952846469255, 0.9639848009633556, 0.15823742780840822, 0.03164748556168165, 0.17406117058924905, 0.6329497112336329, 0.9870194872438276, 0.04590350535722604, 0.12240934761926943, 0.8262630964300687, 0.05886705428406652, 0.5298034885565988, 0.17660116285219957, 0.17660116285219957, 0.23103429533779216, 0.006538706471824306, 0.013077412943648612, 0.019616119415472918, 0.13731283590831042, 0.13295369826042755, 0.05666878942247732, 0.026154825887297225, 0.08936232178159885, 0.0370526700070044, 0.0043591376478828705, 0.24847084592932364, 0.0034631536917372934, 0.021644710573358084, 0.00779209580640891, 0.012121037921080527, 0.11082091813559339, 0.029436806379766995, 0.22510498996292408, 0.006060518960540264, 0.2077892215042376, 0.0701288622576802, 0.20952079835010626, 0.011255249498146203, 0.014718403189883498, 0.0043289421146716165, 0.006926307383474587, 0.027705229533898347, 0.03116838322563564, 0.863718835517907, 0.11671876155647391, 0.19347814796301357, 0.01852450352837364, 0.023670198952921873, 0.08747682221731996, 0.03499072888692799, 0.03704900705674728, 0.05351523241530163, 0.048369536990753394, 0.05351523241530163, 0.04116556339638587, 0.04116556339638587, 0.008233112679277173, 0.013378808103825407, 0.11629271659479008, 0.04219470248129552, 0.06071920600966915, 0.12864238561370583, 0.0010291390849096467, 0.26382815465610826, 0.7387188330371032, 0.9762634684620589, 0.014680653661083592, 0.03671369040129004, 0.0016688041091495473, 0.10012824654897283, 0.03003847396469185, 0.11180987531301967, 0.1268291122953656, 0.01168162876404683, 0.01168162876404683, 0.09345303011237464, 0.2953783273194699, 0.008344020545747736, 0.01168162876404683, 0.1418483492777115, 0.015019236982345925, 0.007050096936037593, 0.00822511309204386, 0.08225113092043859, 0.01292517771606892, 0.0011750161560062655, 0.0011750161560062655, 0.6168834819032895, 0.08225113092043859, 0.18682756880499624, 0.015444614334420638, 0.0249489923863718, 0.05227407928573139, 0.04276970123378023, 0.0011880472564938952, 0.008316330795457266, 0.5868953447079842, 0.07841111892859709, 0.18889951378252934, 0.1920230943219619, 0.28803464148294283, 0.04800577358049048, 0.24002886790245237, 0.1920230943219619, 0.039838826966899166, 0.047806592360278996, 0.09959706741724791, 0.05577435775365883, 0.09826910651835127, 0.038510866068002525, 0.20583393932897903, 0.006639804494483194, 0.07303784943931514, 0.07834969303490169, 0.011951648090069749, 0.006639804494483194, 0.002655921797793278, 0.07436581033821178, 0.02257533528124286, 0.023903296180139498, 0.0849894975293849, 0.030543100674622695, 0.024087828185680848, 0.9394252992415532, 0.0028951471464845335, 0.003860196195312711, 0.09602238035840369, 0.32811667660158045, 0.3922924383486543, 0.004825245244140889, 0.005307769768554978, 0.0019300980976563555, 0.1563379459101648, 0.007720392390625422, 0.9580795719547611, 0.027770422375500325, 0.8592526386716894, 0.02409119547677634, 0.08833438341484658, 0.00803039849225878, 0.00803039849225878, 0.1254703786002996, 0.1254703786002996, 0.6900870823016478, 0.044812316923676744, 0.0064017595605252485, 0.14581785665640845, 0.36561160156777534, 0.14155001694939162, 0.008535679414033664, 0.0014226132356722776, 0.24682339638914014, 0.020627891917248023, 0.007113066178361388, 0.0014226132356722776, 0.007113066178361388, 0.002133919853508416, 0.5322403417849074, 0.09775843012375851, 0.03103442226151064, 0.012413768904604256, 0.006206884452302128, 0.3181028281804841, 0.003103442226151064, 0.6993526984864836, 0.008038536764212456, 0.02009634191053114, 0.26929098160111725, 0.011026918901352763, 0.014472831058025501, 0.21020064155703705, 0.023432202665374623, 0.007581006744680025, 0.03308075670405829, 0.02687811482204736, 0.519643553226249, 0.054445412075429266, 0.09924227011217487, 0.04580551286422074, 0.7214368276114768, 0.011451378216055186, 0.05725689108027593, 0.11451378216055186, 0.03435413464816556, 0.00430168430680577, 0.5678223284983617, 0.42586674637377125, 0.06608013109960897, 0.08810684146614531, 0.8260016387451122, 0.04312835894739636, 0.13477612171061362, 0.07547462815794363, 0.05391044868424545, 0.5067582176319072, 0.18329552552643452, 0.6544325545180857, 0.08444291026039814, 0.21110727565099538, 0.021110727565099536, 0.007449239326808446, 0.061456224446169674, 0.7151269753736108, 0.014898478653616891, 0.05400698511936123, 0.1452601668727647, 0.19990599146878424, 0.010521367972041276, 0.783841913917075, 0.9494390509440176, 0.025660514890378853, 0.010197563437125488, 0.03569147202993921, 0.005098781718562744, 0.020395126874250977, 0.04079025374850195, 0.09687685265269215, 0.05608659890419019, 0.03059269031137647, 0.6679404051317196, 0.015296345155688234, 0.020395126874250977, 0.010558679936579976, 0.003519559978859992, 0.06687163959833985, 0.09502811942921979, 0.0457542797251799, 0.7813423153069182, 0.017141619739091764, 0.03428323947818353, 0.9085058461718635, 0.03428323947818353, 0.06124977795695318, 0.9187466693542977, 0.0032051874624687737, 0.03205187462468774, 0.169874935510845, 0.0737193116367818, 0.41186658892723743, 0.04166743701209406, 0.1842982790919545, 0.0032051874624687737, 0.07852709283048497, 0.2507492415147948, 0.14627039088363028, 0.5850815635345211, 0.36250867422215033, 0.6243204944937033, 0.060708697305077594, 0.14327252563998313, 0.05342365362846828, 0.11170400304134277, 0.1311307861789676, 0.3472537485850438, 0.1262740903945614, 0.02671182681423414, 0.06725270818579941, 0.807032498229593, 0.06725270818579941, 0.03640775344637946, 0.23300962205682854, 0.3932037372208982, 0.029126202757103568, 0.30582512894958747, 0.0979509897733164, 0.8815589079598476, 0.0046976790378494265, 0.9747684003537559, 0.018790716151397706, 0.12554261459773458, 0.12554261459773458, 0.06277130729886729, 0.6277130729886728, 0.0019686966563559516, 0.9036317652673818, 0.019686966563559515, 0.07481047294152617, 0.007192856188796732, 0.009590474918395642, 0.07912141807676405, 0.3884142341950235, 0.2637380602558802, 0.023976187295989108, 0.009590474918395642, 0.004795237459197821, 0.21338806693430304, 0.16785575614725998, 0.041963939036814994, 0.20981969518407495, 0.5455312074785948, 0.15945661094016592, 0.15945661094016592, 0.6378264437606637, 0.0473968300556957, 0.0947936601113914, 0.7583492808911312, 0.0947936601113914, 0.010961988141579056, 0.05480994070789528, 0.043847952566316226, 0.8879210394679035, 0.005124729134784636, 0.9839479938786501, 0.005124729134784636, 0.8273093267531748, 0.017235610974024478, 0.13788488779219582, 0.016107368159370913, 0.31006683706789007, 0.024161052239056367, 0.06845631467732638, 0.012080526119528184, 0.032214736318741825, 0.024161052239056367, 0.05637578855779819, 0.008053684079685456, 0.2738252587093055, 0.06845631467732638, 0.036241578358584554, 0.04026842039842728, 0.028187894278899096, 0.12498457453218695, 0.8123997344592151, 0.00935518423435058, 0.028065552703051742, 0.056131105406103485, 0.08419665810915522, 0.6267973437014889, 0.1871036846870116, 0.003845253015525207, 0.006408755025875345, 0.1896991487659102, 0.074341558300154, 0.20379840982283595, 0.006408755025875345, 0.002563502010350138, 0.5114186510648525, 0.019001715756836977, 0.053442325566104, 0.008313250643616177, 0.4786057156253314, 0.06531839791412711, 0.026127359165650843, 0.002375214469604622, 0.001187607234802311, 0.017814108522034668, 0.05462993280090631, 0.2743372712393339, 0.027355986903759916, 0.9301035547278372, 0.7665632193074257, 0.007589734844627977, 0.0328888509933879, 0.19227328273057542, 0.927807420518417, 0.05859836340116318, 0.018656481231644467, 0.31716018093795595, 0.018656481231644467, 0.03731296246328893, 0.5970073994126229, 0.6509223810173325, 0.06048975661979251, 0.011177455027570355, 0.011177455027570355, 0.08744714815687396, 0.007232470900192582, 0.054572280428725854, 0.11506203704851836, 0.001314994709125924, 0.9019436949434863, 0.04294969975921363, 0.04294969975921363, 0.9387275193601782, 0.03610490459077609, 0.002272965521859682, 0.013637793131158092, 0.009091862087438727, 0.040913379393474274, 0.01136482760929841, 0.8159946223476259, 0.0886456553525276, 0.015910758653017772, 0.003042106171187851, 0.07833423390808716, 0.0007605265427969627, 0.022055269741111917, 0.026618428997893694, 0.0007605265427969627, 0.004563159256781776, 0.5179185756447316, 0.0015210530855939255, 0.09050265859283856, 0.25325533875138856, 0.40615565969285916, 0.009390882305037205, 0.044606690948926726, 0.028172646915111618, 0.0023477205762593013, 0.004695441152518603, 0.03052036749137092, 0.03991124979640812, 0.007043161728777904, 0.0023477205762593013, 0.2605969839647825, 0.03521580864388952, 0.03756352922014882, 0.09156110247411275, 0.9610462600694556, 0.0022141247634256452, 0.0029521663512341936, 0.015498873343979518, 0.11808665404936776, 0.49522590541953604, 0.21550814364009616, 0.011070623817128226, 0.0007380415878085484, 0.0022141247634256452, 0.10849211340785662, 0.02804558033672484, 0.9372017998056691, 0.062480119987044606, 0.934056301307269, 0.0015746734071623487, 0.061412262879331596, 0.020470754293110533, 0.059837589472169245, 0.483424735998841, 0.1968341758952936, 0.07400965013663038, 0.009448040442974091, 0.0031493468143246974, 0.09133105761541623, 0.9751525999084408, 0.03127434629114149, 0.9616861484526007, 0.6301913899548696, 0.1260382779909739, 0.22056698648420434, 0.3008206086945605, 0.6289885454522629, 0.027347328063141867, 0.027347328063141867, 0.03874608000828611, 0.7706164801648016, 0.004305120000920679, 0.008610240001841359, 0.04305120000920679, 0.1033228800220963, 0.008610240001841359, 0.021525600004603396, 0.03036782213553989, 0.9414024862017366, 0.12986321639725742, 0.8533868506105488, 0.06930027234339686, 0.04876685831572372, 0.18736740300251745, 0.00770003026037743, 0.00770003026037743, 0.5287354112125835, 0.012833383767295715, 0.07956697935723343, 0.056466888576101146, 0.0012759687404109287, 0.4937999025390294, 0.011483718663698359, 0.48997199631779664, 0.0012759687404109287, 0.8596394966755093, 0.12803141439848012, 0.9113664233545169, 0.9745146915557745, 0.9575582722042321, 0.024552776210364925, 0.05616802044975624, 0.027206384905350676, 0.047391767254481826, 0.10443741302376551, 0.005265751917164647, 0.0026328759585823236, 0.008776253195274412, 0.012286754473384178, 0.04300364065684462, 0.003510501278109765, 0.015797255751493943, 0.0026328759585823236, 0.03861551405920741, 0.09917166110660086, 0.30980173779318676, 0.005265751917164647, 0.04212601533731718, 0.15182918027824732, 0.02281825830771347, 0.05311852946867325, 0.17832649178768878, 0.0986486975846789, 0.05691271014500706, 0.015176722705335216, 0.11003123961368032, 0.01897090338166902, 0.07967779420300988, 0.2010915758456916, 0.07967779420300988, 0.1024428782610127, 0.007588361352667608, 0.04608234677894251, 0.8755645887999077, 0.04608234677894251, 0.07246881440996997, 0.8696257729196396, 0.006006913623040243, 0.4024632127436963, 0.008009218164053658, 0.04405069990229511, 0.008009218164053658, 0.04605300444330853, 0.478550785302206, 0.006006913623040243, 0.014575010382584389, 0.023850016989683545, 0.06360004530582279, 0.04770003397936709, 0.10600007550970465, 0.017225012270327005, 0.3789502699471941, 0.005300003775485233, 0.005300003775485233, 0.06360004530582279, 0.031800022652911396, 0.03842502737226794, 0.007950005663227849, 0.013250009438713082, 0.037100026428396625, 0.08215005852002111, 0.06360004530582279, 0.13835180534255181, 0.16141043956631046, 0.023058634223758638, 0.038431057039597726, 0.046117268447517276, 0.24595876505342545, 0.07686211407919545, 0.2690173992771841, 0.869892782282741, 0.11152471567727448, 0.7939222322037693, 0.024810069756367792, 0.17367048829457454, 0.06930822419041242, 0.24257878466644348, 0.658428129808918, 0.009484923753183196, 0.002371230938295799, 0.009484923753183196, 0.01896984750636639, 0.955606068133207, 0.9936136467307954, 0.002707394132781459, 0.832902840649043, 0.11105371208653907, 0.7163095914847225, 0.0053656149174885585, 0.045990985007044786, 0.018396394002817916, 0.21347482207436622, 0.8239510396024651, 0.06058463526488714, 0.10905234347679685, 0.8693652659529815, 0.026080957978589444, 0.008693652659529814, 0.008693652659529814, 0.08693652659529814, 0.19095937169601462, 0.17359942881455873, 0.05207982864436762, 0.555518172206588, 0.0016253155191331794, 0.0065012620765327175, 0.23892138131257737, 0.24704795890824324, 0.5054731264504188, 0.016853003624240553, 0.9509909187964312, 0.031298435302161025, 0.003201464138292759, 0.006402928276585518, 0.012805856553171036, 0.011205124484024656, 0.027212445175488452, 0.2801281121006164, 0.5314430469565979, 0.12645783346256398, 0.7338767431448776, 0.14228222571176197, 0.044931229172135365, 0.003744269097677947, 0.003744269097677947, 0.06739684375820304, 0.0021046437249863845, 0.691901624589274, 0.08313342713696219, 0.005787770243712557, 0.004209287449972769, 0.009997057693685326, 0.003683126518726173, 0.004209287449972769, 0.030517334012302576, 0.008418574899945538, 0.15574363564899246, 0.15386994146185348, 0.029308560278448283, 0.06960783066131468, 0.413983413933082, 0.018317850174030176, 0.04762641045247846, 0.26377704250603456, 0.9727526813178548, 0.002905162276648284, 0.03486194731977941, 0.026146460489834555, 0.3980072319008149, 0.1249219778958762, 0.040672271873075976, 0.014525811383241419, 0.3399039863678492, 0.014525811383241419, 0.023931223079520704, 0.05234955048645154, 0.04935814760151145, 0.03589683461928105, 0.2512778423349674, 0.0074785072123502196, 0.046366744716571366, 0.013461312982230396, 0.406830792351852, 0.016452715867170484, 0.001495701442470044, 0.09572489231808282, 0.013954134541199937, 0.9628352833427957, 0.27536126634279684, 0.013468757592854194, 0.5252815461213136, 0.004489585864284731, 0.008979171728569463, 0.014965286214282439, 0.09278477452855112, 0.06435073072141448, 0.8584085050620031, 0.07803713682381846, 0.8519798282277423, 0.08114093602168974, 0.04057046801084487, 0.46533887520279055, 0.5308795618510709, 0.00280363510582126, 0.03364362126985512, 0.9616468412966922, 0.06186402526457665, 0.020621341754858885, 0.04639801894843249, 0.8660963537040731, 0.05025966564215998, 0.9046739815588796, 0.1751984244778955, 0.5036954703739496, 0.021899803059736937, 0.13139881835842163, 0.021899803059736937, 0.15329862141815856, 0.024015752020451076, 0.012007876010225538, 0.036023628030676616, 0.912598576777141, 0.02967793167096411, 0.02967793167096411, 0.08133951643153126, 0.024182018398563345, 0.24731609725803422, 0.04066975821576563, 0.10991826544801521, 0.0010991826544801521, 0.03737221025232517, 0.1242076399562572, 0.006595095926880913, 0.04066975821576563, 0.013190191853761826, 0.06814932457776943, 0.009892643890321368, 0.023082835744083194, 0.027479566362003802, 0.049463219451606845, 0.036273027597845016, 0.9852683178952157, 0.01129247355753829, 0.9630092331259777, 0.020138976358147823, 0.01647734429303004, 0.18202634238329066, 0.546079027149872, 0.273039513574936, 0.9414466371916347, 0.015417474115769736, 0.9713008692934934, 0.15605311478285816, 0.7802655739142907, 0.9252517228728607, 0.030841724095762024, 0.13022533633747535, 0.865068305670372, 0.09216910289608585, 0.8295219260647726, 0.510697727477008, 0.2610870404517288, 0.04877450206241088, 0.17214530139674428, 0.005738176713224809, 0.09197200409816142, 0.03065733469938714, 0.022993001024540355, 0.007664333674846785, 0.03448950153681053, 0.8124193695337592, 0.017064393932665536, 0.004266098483166384, 0.9783585854728241, 0.06214348236003573, 0.5942470500678416, 0.24857392944014292, 0.015535870590008933, 0.07767935295004466, 0.011099316447832687, 0.9545412145136111, 0.011099316447832687, 0.011099316447832687, 0.39757691159098946, 0.43589757776843424, 0.1053818319879731, 0.05748099926616715, 0.979352845560087, 0.9789144907885082, 0.18720978264593083, 0.008190427990759473, 0.09477495246450249, 0.004680244566148271, 0.015210794839981879, 0.008190427990759473, 0.6727851563838139, 0.007020366849222406, 0.0011700611415370677, 0.10973416491423567, 0.4493875325059175, 0.06793067351833637, 0.05747980066936154, 0.31352618546924477, 0.9637347910982467, 0.4801108340142443, 0.3149350883671419, 0.006607029825884096, 0.011011716376473494, 0.08368904446119856, 0.006607029825884096, 0.09470076083767205, 0.07826075698087807, 0.03354032442037632, 0.7714274616686554, 0.10062097326112895, 0.7411535767381108, 0.24336386101848415, 0.391357334630684, 0.5218097795075787, 0.04348414829229822, 0.9953239932839678, 0.9161549492383355, 0.13009796006057536, 0.07434169146318592, 0.6690752231686733, 0.05575626859738945, 0.06504898003028768, 0.03273573021266565, 0.9493361761673037, 0.014012271683378659, 0.9808590178365061, 0.07335958622531845, 0.01789258200617523, 0.08051661902778853, 0.08230587722840606, 0.10198771743519881, 0.3560623819228871, 0.28449205389818616, 0.034793594773570004, 0.9394270588863901, 0.01152498324480491, 0.07491239109123192, 0.007683322163203274, 0.03457494973441473, 0.10564567974404501, 0.007683322163203274, 0.021129135948809004, 0.7126281306371036, 0.02304996648960982, 0.9669805016962487, 0.020574053227579762, 0.015045862800871352, 0.04513758840261406, 0.06018345120348541, 0.8275224540479243, 0.06018345120348541, 0.049046758758702354, 0.05659241395234887, 0.0025152183978821717, 0.022636965580939545, 0.013833701188351945, 0.0025152183978821717, 0.5470600015393724, 0.01257609198941086, 0.1785805062496342, 0.11444243710363881, 0.23962664652110469, 0.5826216503650389, 0.009397123392984498, 0.018794246785968995, 0.014095685089476747, 0.13155972750178296, 0.9940614621597659, 0.5143140868835377, 0.2820432089361336, 0.19908932395491785, 0.007403883325832902, 0.21915494644465391, 0.0034551455520553543, 0.06416698882388515, 0.2527192175217631, 0.45361125176269584, 0.029510193990186933, 0.8225966574764607, 0.00553316137316005, 0.07930864634862737, 0.06270916222914723, 0.046594724576398544, 0.45559286252478576, 0.010354383239199676, 0.015531574858799514, 0.05177191619599838, 0.4245297128071867, 0.6198886614115847, 0.0030386699088803173, 0.03646403890656381, 0.1686461799428576, 0.13674014589961428, 0.0060773398177606346, 0.028867364134363017, 0.0015193349544401586, 0.15508018930482834, 0.15508018930482834, 0.3877004732620708, 0.07754009465241417, 0.15508018930482834, 0.01258745407930315, 0.13246796912028552, 0.8541486696669994, 0.9293271630879631, 0.016595127912285054, 0.04978538373685516], \"Term\": [\"abroad\", \"abroad\", \"abroad\", \"abroad\", \"abroad\", \"abroad\", \"abroad\", \"abroad\", \"abroad\", \"absenc\", \"absenc\", \"absenc\", \"absenc\", \"absenc\", \"absenc\", \"absenc\", \"absent\", \"absent\", \"absent\", \"absorb\", \"absorb\", \"absorb\", \"abstract\", \"abstract\", \"abstract\", \"abstract\", \"access\", \"access\", \"access\", \"access\", \"access\", \"access\", \"access\", \"access\", \"access\", \"access\", \"access\", \"access\", \"accid\", \"accid\", \"accommod\", \"accommod\", \"accommod\", \"accommod\", \"accommod\", \"achiev\", \"achiev\", \"achiev\", \"achiev\", \"achiev\", \"achiev\", \"achiev\", \"achiev\", \"across\", \"across\", \"across\", \"across\", \"across\", \"across\", \"across\", \"across\", \"across\", \"across\", \"across\", \"across\", \"across\", \"across\", \"across\", \"across\", \"across\", \"across\", \"across\", \"action\", \"action\", \"action\", \"action\", \"action\", \"activ\", \"activ\", \"activ\", \"activ\", \"activ\", \"activ\", \"activ\", \"activ\", \"activ\", \"activ\", \"activ\", \"activ\", \"activ\", \"activ\", \"activ\", \"actor\", \"address\", \"address\", \"address\", \"address\", \"address\", \"adjust\", \"adjust\", \"adjust\", \"adjust\", \"adjust\", \"adjust\", \"adjust\", \"adjust\", \"adjust\", \"adjust\", \"administr\", \"administr\", \"administr\", \"administr\", \"administr\", \"administr\", \"administr\", \"administr\", \"administr\", \"adopt\", \"adopt\", \"adopt\", \"adopt\", \"adopt\", \"adult\", \"adult\", \"adult\", \"adult\", \"adult\", \"advocaci\", \"affili\", \"afford\", \"afford\", \"afford\", \"afford\", \"aforement\", \"aforement\", \"aforement\", \"aforement\", \"africa\", \"africa\", \"africa\", \"africa\", \"afterward\", \"afterward\", \"afterward\", \"agenda\", \"agenda\", \"aggreg\", \"aggreg\", \"aggreg\", \"aggreg\", \"aggreg\", \"aggreg\", \"aggreg\", \"aggreg\", \"aggreg\", \"aggreg\", \"aggreg\", \"aggreg\", \"aggreg\", \"aggreg\", \"agricultur\", \"agricultur\", \"agricultur\", \"agricultur\", \"agricultur\", \"agricultur\", \"agricultur\", \"agricultur\", \"agricultur\", \"agricultur\", \"agricultur\", \"aircraft\", \"aircraft\", \"aircraft\", \"airport\", \"airport\", \"airport\", \"airport\", \"albania\", \"albania\", \"alcohol\", \"alcohol\", \"algeria\", \"algeria\", \"almost\", \"almost\", \"almost\", \"almost\", \"almost\", \"almost\", \"almost\", \"almost\", \"almost\", \"almost\", \"almost\", \"almost\", \"almost\", \"almost\", \"almost\", \"almost\", \"almost\", \"along\", \"along\", \"along\", \"along\", \"along\", \"along\", \"along\", \"along\", \"along\", \"along\", \"ambit\", \"amend\", \"amend\", \"ammonia\", \"amount\", \"amount\", \"amount\", \"amount\", \"amount\", \"amount\", \"amount\", \"amount\", \"amount\", \"amount\", \"amount\", \"amount\", \"amount\", \"amount\", \"amount\", \"amsterdam\", \"amsterdam\", \"amsterdam\", \"analysi\", \"analysi\", \"analysi\", \"analysi\", \"analysi\", \"analysi\", \"analysi\", \"analysi\", \"analysi\", \"analysi\", \"analysi\", \"analysi\", \"analysi\", \"analysi\", \"analysi\", \"analysi\", \"analysi\", \"analysi\", \"ancillari\", \"ancillari\", \"announc\", \"annual\", \"annual\", \"annual\", \"annual\", \"annual\", \"annual\", \"annual\", \"annual\", \"annual\", \"annual\", \"annual\", \"annual\", \"annual\", \"annual\", \"annual\", \"anoth\", \"anoth\", \"anoth\", \"anoth\", \"anoth\", \"anoth\", \"anoth\", \"anoth\", \"anoth\", \"anoth\", \"anoth\", \"anoth\", \"anoth\", \"anoth\", \"anoth\", \"anoth\", \"anoth\", \"anoth\", \"appar\", \"appar\", \"appar\", \"appar\", \"appar\", \"appar\", \"appar\", \"appar\", \"appar\", \"appar\", \"appar\", \"appar\", \"appli\", \"appli\", \"appli\", \"appli\", \"appli\", \"appli\", \"appli\", \"appli\", \"appli\", \"appli\", \"appli\", \"appli\", \"appli\", \"appli\", \"applic\", \"applic\", \"applic\", \"applic\", \"applic\", \"applic\", \"applic\", \"april\", \"april\", \"april\", \"april\", \"april\", \"april\", \"april\", \"arabia\", \"arabl\", \"arabl\", \"argentina\", \"arithmet\", \"arithmet\", \"arithmet\", \"arithmet\", \"arithmet\", \"armenia\", \"armenia\", \"arrear\", \"arriv\", \"arriv\", \"arriv\", \"arriv\", \"arriv\", \"arriv\", \"arriv\", \"asean\", \"asian\", \"asian\", \"asian\", \"assess\", \"assess\", \"assess\", \"assess\", \"assess\", \"assess\", \"assess\", \"assess\", \"assess\", \"asset\", \"asset\", \"assur\", \"asylum\", \"atlant\", \"atlant\", \"atlant\", \"atmospher\", \"attain\", \"attain\", \"attain\", \"attain\", \"attain\", \"attain\", \"attain\", \"attend\", \"attend\", \"attiki\", \"august\", \"august\", \"august\", \"august\", \"august\", \"australia\", \"australia\", \"austria\", \"austria\", \"austria\", \"austria\", \"austria\", \"austria\", \"austria\", \"austria\", \"austria\", \"austria\", \"austria\", \"austria\", \"authoris\", \"authoris\", \"authoris\", \"aviat\", \"aviat\", \"azerbaijan\", \"bachelora\", \"background\", \"background\", \"background\", \"background\", \"background\", \"background\", \"background\", \"background\", \"balanc\", \"balanc\", \"balanc\", \"balanc\", \"balanc\", \"balanc\", \"balanc\", \"balanc\", \"balanc\", \"balanc\", \"balanc\", \"balanc\", \"bangladesh\", \"belaru\", \"belaru\", \"belgium\", \"belgium\", \"belgium\", \"belgium\", \"belgium\", \"belgium\", \"belgium\", \"belgium\", \"belgium\", \"belgium\", \"belgium\", \"belgium\", \"belgium\", \"benefit\", \"benefit\", \"benefit\", \"benefit\", \"benefit\", \"benefit\", \"benefit\", \"benefit\", \"benefit\", \"benefit\", \"benefit\", \"berlin\", \"berlin\", \"beverag\", \"beverag\", \"beverag\", \"beverag\", \"billion\", \"billion\", \"billion\", \"billion\", \"billion\", \"billion\", \"billion\", \"biodivers\", \"biodivers\", \"biodivers\", \"biofuel\", \"biomass\", \"biomass\", \"biomass\", \"birth\", \"birth\", \"birth\", \"birth\", \"birth\", \"birth\", \"birth\", \"birth\", \"birth\", \"birth\", \"block\", \"block\", \"block\", \"block\", \"border\", \"border\", \"border\", \"border\", \"border\", \"border\", \"border\", \"border\", \"border\", \"border\", \"border\", \"borrow\", \"borrow\", \"bosnia\", \"boundari\", \"boundari\", \"boundari\", \"boundari\", \"boundari\", \"boundari\", \"boundari\", \"brabant\", \"branch\", \"branch\", \"branch\", \"branch\", \"branch\", \"brazil\", \"british\", \"broken\", \"broken\", \"broken\", \"broken\", \"broken\", \"broken\", \"broken\", \"broken\", \"broken\", \"broken\", \"brunei\", \"brussel\", \"bruxel\", \"budgetari\", \"bulgaria\", \"bulgaria\", \"bulgaria\", \"bulgaria\", \"bulgaria\", \"bulgaria\", \"bulgaria\", \"bulgaria\", \"bulgaria\", \"bulgaria\", \"bunker\", \"cadastr\", \"calabria\", \"calcul\", \"calcul\", \"calcul\", \"calcul\", \"calcul\", \"calcul\", \"calcul\", \"calcul\", \"calcul\", \"calcul\", \"calcul\", \"calcul\", \"calcul\", \"calcul\", \"calcul\", \"calendar\", \"calendar\", \"calendar\", \"calendar\", \"calendar\", \"calendar\", \"calendar\", \"canada\", \"canada\", \"cancer\", \"candid\", \"candid\", \"candid\", \"capac\", \"capac\", \"capac\", \"capac\", \"capac\", \"capac\", \"capac\", \"capac\", \"capit\", \"capit\", \"capit\", \"capit\", \"capit\", \"capit\", \"capit\", \"capita\", \"capita\", \"capita\", \"capita\", \"capita\", \"capita\", \"capital\", \"carbon\", \"carbon\", \"carbon\", \"cardiovascular\", \"career\", \"career\", \"cargo\", \"carrier\", \"carrier\", \"carrier\", \"carrier\", \"catch\", \"catch\", \"catch\", \"catch\", \"catch\", \"catch\", \"catch\", \"cattl\", \"cattl\", \"censu\", \"censu\", \"censu\", \"centr\", \"centr\", \"centr\", \"centr\", \"centr\", \"centr\", \"cereal\", \"cereal\", \"cereal\", \"cereal\", \"chain\", \"chain\", \"chain\", \"chain\", \"chain\", \"chanc\", \"chanc\", \"chanc\", \"characterist\", \"characterist\", \"characterist\", \"characterist\", \"characterist\", \"characterist\", \"characterist\", \"characterist\", \"characterist\", \"characterist\", \"characterist\", \"characterist\", \"characterist\", \"chemic\", \"chemic\", \"chemic\", \"chemic\", \"childbirth\", \"childbirth\", \"childbirth\", \"childcar\", \"childhood\", \"children\", \"children\", \"children\", \"china\", \"china\", \"chinaa\", \"chines\", \"chines\", \"chines\", \"chronic\", \"cinema\", \"circular\", \"circular\", \"circulatori\", \"citizen\", \"citizen\", \"citizen\", \"citizen\", \"citizenship\", \"citizenship\", \"citizenship\", \"ciudad\", \"civic\", \"class\", \"class\", \"class\", \"class\", \"class\", \"class\", \"class\", \"class\", \"class\", \"class\", \"class\", \"class\", \"classif\", \"classif\", \"classif\", \"classif\", \"classif\", \"classif\", \"classif\", \"classif\", \"classif\", \"classif\", \"classif\", \"classifi\", \"classifi\", \"classifi\", \"classifi\", \"classifi\", \"classifi\", \"classifi\", \"classifi\", \"classifi\", \"classifi\", \"classifi\", \"cleaner\", \"cleaner\", \"climat\", \"climat\", \"climat\", \"climat\", \"climat\", \"climat\", \"climat\", \"climat\", \"climat\", \"cloth\", \"cloth\", \"cloth\", \"cloth\", \"cloth\", \"cluster\", \"cluster\", \"coastal\", \"coastal\", \"coastal\", \"coastal\", \"coastlin\", \"coastlin\", \"cofog\", \"cohes\", \"cohes\", \"cohes\", \"cohes\", \"coicop\", \"collect\", \"collect\", \"collect\", \"collect\", \"collect\", \"collect\", \"collect\", \"collect\", \"collect\", \"collect\", \"collect\", \"collect\", \"collect\", \"collect\", \"collect\", \"collect\", \"column\", \"column\", \"column\", \"column\", \"column\", \"combust\", \"combust\", \"commerc\", \"commerc\", \"commerc\", \"commiss\", \"commiss\", \"commiss\", \"commiss\", \"commiss\", \"commiss\", \"commit\", \"commit\", \"commit\", \"commit\", \"common\", \"common\", \"common\", \"common\", \"common\", \"common\", \"common\", \"common\", \"common\", \"common\", \"common\", \"common\", \"common\", \"common\", \"common\", \"commun\", \"commun\", \"commun\", \"commun\", \"commun\", \"commun\", \"commun\", \"commun\", \"commun\", \"commut\", \"commut\", \"compani\", \"compani\", \"compani\", \"compani\", \"compani\", \"compani\", \"compani\", \"compani\", \"compil\", \"compil\", \"compil\", \"compil\", \"compil\", \"compil\", \"compil\", \"compil\", \"compil\", \"compil\", \"compil\", \"compon\", \"compon\", \"compon\", \"compon\", \"compon\", \"compon\", \"compon\", \"compon\", \"compon\", \"compon\", \"compon\", \"compon\", \"comput\", \"comput\", \"comput\", \"comput\", \"comput\", \"comput\", \"comput\", \"comput\", \"comput\", \"concentr\", \"concentr\", \"concentr\", \"concentr\", \"concentr\", \"concentr\", \"concentr\", \"concentr\", \"concentr\", \"concentr\", \"concentr\", \"concentr\", \"concentr\", \"concentr\", \"concentr\", \"confid\", \"confid\", \"confid\", \"confid\", \"consensu\", \"conserv\", \"conserv\", \"conserv\", \"construct\", \"construct\", \"construct\", \"construct\", \"construct\", \"construct\", \"construct\", \"construct\", \"construct\", \"construct\", \"consult\", \"consult\", \"consult\", \"consult\", \"consult\", \"consult\", \"consult\", \"consult\", \"consum\", \"consum\", \"consum\", \"consum\", \"consum\", \"consum\", \"consum\", \"consum\", \"consum\", \"consum\", \"consum\", \"consumpt\", \"consumpt\", \"consumpt\", \"consumpt\", \"consumpt\", \"consumpt\", \"consumpt\", \"contain\", \"contain\", \"contain\", \"contain\", \"contain\", \"contain\", \"contain\", \"contain\", \"contain\", \"contain\", \"contigu\", \"conting\", \"conting\", \"contract\", \"contract\", \"contract\", \"contract\", \"contract\", \"contract\", \"contract\", \"contract\", \"contract\", \"contract\", \"contract\", \"contract\", \"contract\", \"contract\", \"contrast\", \"contrast\", \"contrast\", \"contrast\", \"contrast\", \"contrast\", \"contrast\", \"contrast\", \"contrast\", \"contrast\", \"contrast\", \"contrast\", \"contrast\", \"contrast\", \"contrast\", \"contrast\", \"contrast\", \"contribut\", \"contribut\", \"contribut\", \"contribut\", \"contribut\", \"contribut\", \"contribut\", \"contribut\", \"contribut\", \"contribut\", \"contribut\", \"contribut\", \"control\", \"control\", \"control\", \"control\", \"control\", \"control\", \"control\", \"converg\", \"converg\", \"converg\", \"converg\", \"cooper\", \"cooper\", \"cooper\", \"cooper\", \"cooper\", \"corpor\", \"corpor\", \"corpor\", \"corpor\", \"correct\", \"correct\", \"correct\", \"correct\", \"correct\", \"correct\", \"could\", \"could\", \"could\", \"could\", \"could\", \"could\", \"could\", \"could\", \"could\", \"could\", \"could\", \"could\", \"could\", \"could\", \"could\", \"could\", \"could\", \"could\", \"council\", \"council\", \"council\", \"council\", \"council\", \"cours\", \"cours\", \"cours\", \"cours\", \"cours\", \"cours\", \"cours\", \"court\", \"court\", \"court\", \"court\", \"cover\", \"cover\", \"cover\", \"cover\", \"cover\", \"cover\", \"cover\", \"cover\", \"cover\", \"cover\", \"cover\", \"cover\", \"cover\", \"cover\", \"cover\", \"cover\", \"cover\", \"coverag\", \"coverag\", \"coverag\", \"coverag\", \"coverag\", \"coverag\", \"coverag\", \"coverag\", \"coverag\", \"coverag\", \"coverag\", \"coverag\", \"coverag\", \"covid\", \"covid\", \"covid\", \"covid\", \"covid\", \"craft\", \"creativ\", \"creativ\", \"crisi\", \"crisi\", \"crisi\", \"crisi\", \"crisi\", \"crisi\", \"crisi\", \"crisi\", \"croatia\", \"croatia\", \"croatia\", \"croatia\", \"croatia\", \"croatia\", \"croatia\", \"croatia\", \"croatia\", \"croatia\", \"crude\", \"crude\", \"crude\", \"crude\", \"crude\", \"crude\", \"crude\", \"cultiv\", \"cultiv\", \"cultur\", \"cultur\", \"cultur\", \"cultur\", \"cultur\", \"cultur\", \"current\", \"current\", \"current\", \"current\", \"current\", \"current\", \"current\", \"current\", \"current\", \"current\", \"current\", \"current\", \"current\", \"custom\", \"custom\", \"custom\", \"custom\", \"custom\", \"custom\", \"custom\", \"cypru\", \"cypru\", \"cypru\", \"cypru\", \"cypru\", \"cypru\", \"cypru\", \"cypru\", \"cypru\", \"cypru\", \"cypru\", \"czechia\", \"czechia\", \"czechia\", \"czechia\", \"czechia\", \"czechia\", \"czechia\", \"czechia\", \"czechia\", \"dairi\", \"dairi\", \"damag\", \"damag\", \"damag\", \"damag\", \"damag\", \"damag\", \"darkest\", \"databas\", \"databas\", \"databas\", \"databas\", \"dataset\", \"dataset\", \"dataset\", \"dataset\", \"dataset\", \"death\", \"death\", \"death\", \"death\", \"death\", \"death\", \"debat\", \"decil\", \"decis\", \"decis\", \"decis\", \"decis\", \"decis\", \"decis\", \"decis\", \"declin\", \"declin\", \"declin\", \"declin\", \"declin\", \"declin\", \"declin\", \"declin\", \"declin\", \"declin\", \"declin\", \"declin\", \"decoupl\", \"decreas\", \"decreas\", \"decreas\", \"decreas\", \"decreas\", \"decreas\", \"decreas\", \"decreas\", \"decreas\", \"decreas\", \"decreas\", \"decreas\", \"decreas\", \"defenc\", \"defenc\", \"defenc\", \"deficit\", \"deficit\", \"deficit\", \"deficit\", \"defin\", \"defin\", \"defin\", \"defin\", \"defin\", \"defin\", \"defin\", \"defin\", \"defin\", \"defin\", \"defin\", \"defin\", \"defin\", \"defin\", \"defin\", \"defin\", \"deflat\", \"deflat\", \"deflat\", \"degre\", \"degre\", \"degre\", \"degre\", \"degre\", \"degre\", \"degre\", \"degre\", \"degre\", \"degre\", \"degre\", \"degre\", \"degre\", \"degre\", \"degre\", \"degre\", \"degre\", \"degurba\", \"degurba\", \"deleg\", \"delin\", \"delin\", \"demographi\", \"demographi\", \"demographi\", \"demographi\", \"denmark\", \"denmark\", \"denmark\", \"denmark\", \"denmark\", \"denmark\", \"denmark\", \"denmark\", \"denmark\", \"denmark\", \"denmark\", \"denmark\", \"denmark\", \"densiti\", \"densiti\", \"densiti\", \"densiti\", \"densiti\", \"depend\", \"depend\", \"depend\", \"depend\", \"depend\", \"depend\", \"depend\", \"depend\", \"depend\", \"depend\", \"depend\", \"depend\", \"depend\", \"depend\", \"depend\", \"depend\", \"depend\", \"depend\", \"deplet\", \"deplet\", \"deplet\", \"depreci\", \"depreci\", \"depreci\", \"depreci\", \"depriv\", \"descend\", \"descend\", \"descend\", \"destin\", \"destin\", \"destin\", \"destin\", \"destin\", \"destin\", \"destin\", \"destin\", \"destin\", \"deterior\", \"deterior\", \"deterior\", \"deterior\", \"diagnos\", \"diagnos\", \"diagnos\", \"diagnos\", \"diagnosi\", \"diagon\", \"diagon\", \"diagon\", \"diagram\", \"diagram\", \"diagram\", \"diesel\", \"diesel\", \"dimens\", \"dimens\", \"dimens\", \"dimens\", \"dioxid\", \"direct\", \"direct\", \"direct\", \"direct\", \"direct\", \"direct\", \"direct\", \"direct\", \"direct\", \"direct\", \"direct\", \"direct\", \"direct\", \"direct\", \"direct\", \"disaggreg\", \"disaggreg\", \"disaggreg\", \"disaggreg\", \"disaggreg\", \"disaggreg\", \"disburs\", \"discharg\", \"discharg\", \"discharg\", \"disclosur\", \"diseas\", \"diseas\", \"diseas\", \"disord\", \"dispers\", \"dispers\", \"dispers\", \"dispers\", \"dispers\", \"dispers\", \"dispos\", \"dispos\", \"dispos\", \"dispos\", \"dispos\", \"dispos\", \"distanc\", \"distanc\", \"distanc\", \"distanc\", \"distanc\", \"distanc\", \"distanc\", \"distanc\", \"distanc\", \"distort\", \"distort\", \"distort\", \"distribut\", \"distribut\", \"distribut\", \"distribut\", \"distribut\", \"distribut\", \"distribut\", \"distribut\", \"distribut\", \"distribut\", \"distribut\", \"distribut\", \"distribut\", \"distribut\", \"distribut\", \"district\", \"district\", \"district\", \"dividend\", \"divis\", \"divis\", \"divis\", \"divis\", \"divis\", \"divis\", \"divis\", \"divis\", \"doctor\", \"doctor\", \"domest\", \"domest\", \"domest\", \"domest\", \"domest\", \"domest\", \"domest\", \"domest\", \"domest\", \"domest\", \"domest\", \"domest\", \"domest\", \"donor\", \"donor\", \"draft\", \"drastic\", \"drastic\", \"drastic\", \"drink\", \"drink\", \"drink\", \"drink\", \"drink\", \"drink\", \"dublin\", \"dublin\", \"dublin\", \"dublin\", \"dublin\", \"duplic\", \"durabl\", \"durabl\", \"durat\", \"durat\", \"durat\", \"durat\", \"durat\", \"durat\", \"dwell\", \"dwell\", \"dwell\", \"dwell\", \"dwell\", \"dwell\", \"dynam\", \"dynam\", \"dynam\", \"dynam\", \"dynam\", \"dynam\", \"earli\", \"earli\", \"earli\", \"earli\", \"earli\", \"earli\", \"earli\", \"earli\", \"earner\", \"earner\", \"eastern\", \"eastern\", \"eastern\", \"eastern\", \"eastern\", \"eastern\", \"ecolog\", \"economi\", \"economi\", \"economi\", \"economi\", \"economi\", \"economi\", \"economi\", \"economi\", \"economi\", \"economi\", \"economi\", \"economi\", \"economi\", \"economi\", \"ecosystem\", \"effect\", \"effect\", \"effect\", \"effect\", \"effect\", \"effect\", \"effect\", \"effect\", \"effect\", \"effect\", \"effect\", \"effect\", \"effect\", \"effect\", \"effect\", \"effect\", \"effici\", \"effici\", \"effici\", \"effici\", \"effici\", \"egypt\", \"egypt\", \"elderli\", \"elderli\", \"elderli\", \"elderli\", \"electr\", \"electr\", \"electr\", \"electr\", \"electr\", \"electr\", \"emiss\", \"emiss\", \"emploi\", \"emploi\", \"emploi\", \"emploi\", \"emploi\", \"emploi\", \"emploi\", \"employ\", \"employ\", \"employ\", \"employ\", \"employ\", \"employ\", \"employ\", \"employ\", \"employ\", \"employ\", \"employe\", \"employe\", \"employe\", \"employe\", \"empti\", \"empti\", \"empti\", \"energi\", \"energi\", \"energi\", \"energi\", \"energi\", \"energi\", \"enlarg\", \"enlarg\", \"enlarg\", \"enlarg\", \"enrol\", \"enrol\", \"enrol\", \"ensur\", \"ensur\", \"ensur\", \"ensur\", \"ensur\", \"enterpris\", \"enterpris\", \"enterpris\", \"enterprisesa\", \"enterprisesa\", \"enterprisesa\", \"entertain\", \"entertain\", \"entitl\", \"entitl\", \"entitl\", \"entitl\", \"enumer\", \"environ\", \"environ\", \"environ\", \"environ\", \"environ\", \"environ\", \"environ\", \"environ\", \"environment\", \"environment\", \"environment\", \"environment\", \"environment\", \"environment\", \"environment\", \"eq_inc\", \"equip\", \"equip\", \"equip\", \"equip\", \"equip\", \"equip\", \"equip\", \"equip\", \"equip\", \"equip\", \"equiti\", \"equiti\", \"equivalis\", \"error\", \"error\", \"error\", \"essnet\", \"establish\", \"establish\", \"establish\", \"establish\", \"establish\", \"establish\", \"establish\", \"establish\", \"establish\", \"establish\", \"establish\", \"establish\", \"estat\", \"estat\", \"estat\", \"estat\", \"estim\", \"estim\", \"estim\", \"estim\", \"estim\", \"estim\", \"estim\", \"estim\", \"estim\", \"estim\", \"estim\", \"estim\", \"estim\", \"estim\", \"estim\", \"estonia\", \"estonia\", \"estonia\", \"estonia\", \"estonia\", \"estonia\", \"estonia\", \"estonia\", \"estonia\", \"estonia\", \"europ\", \"europ\", \"europ\", \"europ\", \"europ\", \"europ\", \"europ\", \"europ\", \"europ\", \"europ\", \"europ\", \"europ\", \"europ\", \"eurostat\", \"eurostat\", \"eurostat\", \"eurostat\", \"eurostat\", \"eurostat\", \"eurostat\", \"eurostat\", \"eurostat\", \"eurostat\", \"eurostat\", \"eurostat\", \"eurostat\", \"eurostat\", \"eurostata\", \"eurostata\", \"eurostata\", \"examin\", \"examin\", \"examin\", \"examin\", \"examin\", \"examin\", \"examin\", \"examin\", \"examin\", \"exampl\", \"exampl\", \"exampl\", \"exampl\", \"exampl\", \"exampl\", \"exampl\", \"exampl\", \"exampl\", \"exampl\", \"exampl\", \"exampl\", \"exampl\", \"exampl\", \"exampl\", \"exampl\", \"exampl\", \"exclus\", \"exclus\", \"exclus\", \"exclus\", \"exclus\", \"exclus\", \"exclus\", \"exclus\", \"exclus\", \"exclus\", \"exclus\", \"exclus\", \"exclus\", \"exempt\", \"exempt\", \"expect\", \"expect\", \"expect\", \"expect\", \"expect\", \"expect\", \"expect\", \"expect\", \"expect\", \"expect\", \"expect\", \"expect\", \"expect\", \"expect\", \"expenditur\", \"expenditur\", \"expenditur\", \"expenditur\", \"expenditur\", \"expenditur\", \"expertis\", \"explanatori\", \"explanatori\", \"export\", \"export\", \"export\", \"export\", \"export\", \"extra\", \"extra\", \"extra\", \"extra\", \"extra\", \"extra\", \"extra\", \"extra\", \"extract\", \"extract\", \"extract\", \"extract\", \"extract\", \"famili\", \"famili\", \"famili\", \"famili\", \"famili\", \"famili\", \"famili\", \"famili\", \"famili\", \"famili\", \"farmer\", \"farmer\", \"farmer\", \"farmland\", \"farmland\", \"fashion\", \"fashion\", \"fatal\", \"fatal\", \"feasibl\", \"februari\", \"februari\", \"februari\", \"februari\", \"femal\", \"femal\", \"femal\", \"femal\", \"femal\", \"femal\", \"femal\", \"fertil\", \"fertil\", \"fertil\", \"fertilis\", \"fertilis\", \"fertilis\", \"field\", \"field\", \"field\", \"field\", \"field\", \"field\", \"field\", \"fifteen\", \"fifteen\", \"fifth\", \"fifth\", \"fifth\", \"fifth\", \"fifth\", \"fifth\", \"fifth\", \"fifth\", \"fifth\", \"fifth\", \"fifth\", \"fifth\", \"fifth\", \"final\", \"final\", \"final\", \"final\", \"final\", \"final\", \"final\", \"final\", \"final\", \"final\", \"final\", \"final\", \"final\", \"final\", \"financ\", \"financ\", \"financ\", \"financ\", \"financ\", \"financ\", \"financ\", \"financ\", \"financ\", \"financi\", \"financi\", \"financi\", \"financi\", \"financi\", \"financi\", \"financi\", \"financi\", \"financi\", \"financi\", \"financi\", \"financi\", \"financi\", \"finland\", \"finland\", \"finland\", \"finland\", \"finland\", \"finland\", \"finland\", \"finland\", \"finland\", \"finland\", \"finland\", \"finland\", \"finland\", \"finland\", \"first\", \"first\", \"first\", \"first\", \"first\", \"first\", \"first\", \"first\", \"first\", \"first\", \"first\", \"first\", \"first\", \"first\", \"first\", \"fiscal\", \"fiscal\", \"fisheri\", \"fisheri\", \"fisheri\", \"flight\", \"flight\", \"flight\", \"floor\", \"floor\", \"floor\", \"fodder\", \"fodder\", \"footprint\", \"footprint\", \"footwear\", \"footwear\", \"forecast\", \"forecast\", \"foreign\", \"foreign\", \"foreign\", \"foreign\", \"foreign\", \"foreign\", \"foreign\", \"foreign\", \"foreign\", \"forest\", \"forest\", \"forest\", \"forest\", \"forestri\", \"forestri\", \"forestri\", \"forestri\", \"forestri\", \"forestri\", \"forestri\", \"formal\", \"formal\", \"formal\", \"formal\", \"formula\", \"formula\", \"formula\", \"formula\", \"formula\", \"formula\", \"fossil\", \"fossil\", \"fourth\", \"fourth\", \"fourth\", \"fourth\", \"fourth\", \"fourth\", \"fourth\", \"fourth\", \"fraction\", \"fraction\", \"framework\", \"framework\", \"framework\", \"framework\", \"framework\", \"franc\", \"franc\", \"franc\", \"franc\", \"franc\", \"franc\", \"franc\", \"franc\", \"franc\", \"franc\", \"franc\", \"franc\", \"freight\", \"freight\", \"french\", \"french\", \"french\", \"french\", \"french\", \"french\", \"fresh\", \"fresh\", \"fresh\", \"fresh\", \"fresh\", \"fruit\", \"fruit\", \"fruit\", \"fruit\", \"function\", \"function\", \"function\", \"function\", \"function\", \"function\", \"function\", \"function\", \"function\", \"function\", \"function\", \"garden\", \"garden\", \"garden\", \"gender\", \"gender\", \"gender\", \"gender\", \"gender\", \"gender\", \"gender\", \"gender\", \"georgia\", \"geospati\", \"geospati\", \"geotherm\", \"germani\", \"germani\", \"germani\", \"germani\", \"germani\", \"germani\", \"germani\", \"germani\", \"germani\", \"germani\", \"germani\", \"germani\", \"germani\", \"gewest\", \"glass\", \"glass\", \"govern\", \"govern\", \"govern\", \"govern\", \"govern\", \"govern\", \"govern\", \"govern\", \"graduat\", \"graduat\", \"grant\", \"grant\", \"grant\", \"grant\", \"graze\", \"greec\", \"greec\", \"greec\", \"greec\", \"greec\", \"greec\", \"greec\", \"greec\", \"greec\", \"greec\", \"greec\", \"greek\", \"greek\", \"greek\", \"greek\", \"greek\", \"greek\", \"green\", \"green\", \"green\", \"green\", \"green\", \"green\", \"green\", \"greenhous\", \"greenhous\", \"greenhous\", \"groningen\", \"groningen\", \"gross\", \"gross\", \"gross\", \"gross\", \"gross\", \"gross\", \"gross\", \"gross\", \"gross\", \"gross\", \"growth\", \"growth\", \"growth\", \"growth\", \"growth\", \"growth\", \"growth\", \"growth\", \"growth\", \"growth\", \"growth\", \"growth\", \"growth\", \"growth\", \"growth\", \"habitat\", \"habitat\", \"hamper\", \"hamper\", \"hamper\", \"handl\", \"handl\", \"handl\", \"harvest\", \"harvest\", \"harvest\", \"hazard\", \"health\", \"health\", \"health\", \"health\", \"health\", \"health\", \"health\", \"health\", \"health\", \"health\", \"health\", \"health\", \"healthcar\", \"healthi\", \"healthi\", \"heart\", \"heart\", \"heart\", \"heart\", \"hectar\", \"hectar\", \"herzegovina\", \"hierarch\", \"hierarch\", \"hierarch\", \"horticultur\", \"hospit\", \"hospit\", \"hospit\", \"hospit\", \"hotel\", \"hotel\", \"hotel\", \"household\", \"household\", \"household\", \"household\", \"household\", \"household\", \"household\", \"householda\", \"householdsa\", \"householdsa\", \"householdsa\", \"hrvatska\", \"hungari\", \"hungari\", \"hungari\", \"hungari\", \"hungari\", \"hungari\", \"hungari\", \"hungari\", \"hungari\", \"hungari\", \"hungari\", \"hungari\", \"hydro\", \"identif\", \"identif\", \"identif\", \"identif\", \"identifi\", \"identifi\", \"identifi\", \"identifi\", \"identifi\", \"identifi\", \"identifi\", \"identifi\", \"identifi\", \"identifi\", \"identifi\", \"identifi\", \"identifi\", \"illeg\", \"illeg\", \"illeg\", \"illeg\", \"illeg\", \"immigr\", \"immigr\", \"immigr\", \"implement\", \"implement\", \"implement\", \"implement\", \"implement\", \"implement\", \"implement\", \"improv\", \"improv\", \"improv\", \"improv\", \"improv\", \"improv\", \"improv\", \"improv\", \"improv\", \"improv\", \"improv\", \"inabl\", \"inabl\", \"inact\", \"inact\", \"inact\", \"inact\", \"inbound\", \"incent\", \"incent\", \"incent\", \"incent\", \"incid\", \"incid\", \"incid\", \"incid\", \"incid\", \"incid\", \"inciner\", \"inclin\", \"inclin\", \"inclin\", \"incom\", \"incom\", \"incom\", \"incom\", \"incom\", \"incom\", \"incom\", \"incom\", \"inconsist\", \"inconsist\", \"index\", \"index\", \"index\", \"index\", \"index\", \"index\", \"india\", \"india\", \"indirect\", \"indirect\", \"indirect\", \"indirect\", \"indirect\", \"indonesia\", \"indoor\", \"indoor\", \"indoor\", \"industri\", \"industri\", \"industri\", \"industri\", \"industri\", \"industri\", \"industri\", \"industri\", \"industri\", \"inequ\", \"inequ\", \"inequ\", \"infant\", \"infant\", \"infant\", \"infer\", \"infer\", \"infer\", \"inflat\", \"inflat\", \"inflat\", \"inflat\", \"inhabit\", \"inhabit\", \"inhabit\", \"inhabit\", \"inhabit\", \"inhabit\", \"inhabit\", \"inhabit\", \"inhabit\", \"inhabit\", \"injur\", \"injur\", \"injuri\", \"injuri\", \"inland\", \"inland\", \"inland\", \"inland\", \"input\", \"input\", \"input\", \"input\", \"input\", \"input\", \"input\", \"institut\", \"institut\", \"institut\", \"institut\", \"institut\", \"institut\", \"institut\", \"institut\", \"insur\", \"insur\", \"insur\", \"insur\", \"insur\", \"integr\", \"integr\", \"integr\", \"integr\", \"integr\", \"integr\", \"integr\", \"integr\", \"integr\", \"intellectu\", \"intellectu\", \"intellectu\", \"intens\", \"intens\", \"intens\", \"intens\", \"intens\", \"intens\", \"intens\", \"intens\", \"intens\", \"intens\", \"intens\", \"intens\", \"intens\", \"intermedi\", \"intermedi\", \"intermedi\", \"intermedi\", \"intermedi\", \"intermedi\", \"intermedi\", \"intermedi\", \"intermediari\", \"intermediari\", \"intermediari\", \"intern\", \"intern\", \"intern\", \"intern\", \"intern\", \"intern\", \"intern\", \"intern\", \"intern\", \"intern\", \"intern\", \"intern\", \"intern\", \"internet\", \"internet\", \"internet\", \"intra\", \"intra\", \"intra\", \"intra\", \"intra\", \"intra\", \"intra\", \"intra\", \"introductori\", \"introductori\", \"introductori\", \"invest\", \"invest\", \"invest\", \"invest\", \"invest\", \"invest\", \"invest\", \"invest\", \"invest\", \"investor\", \"investor\", \"inward\", \"inward\", \"inward\", \"inward\", \"inward\", \"ireland\", \"ireland\", \"ireland\", \"ireland\", \"ireland\", \"ireland\", \"ireland\", \"ireland\", \"ireland\", \"ireland\", \"ireland\", \"island\", \"island\", \"island\", \"island\", \"island\", \"island\", \"island\", \"israel\", \"israel\", \"itali\", \"itali\", \"itali\", \"itali\", \"itali\", \"itali\", \"itali\", \"itali\", \"itali\", \"itali\", \"itali\", \"itali\", \"itali\", \"italian\", \"italian\", \"italian\", \"italian\", \"italian\", \"japan\", \"japan\", \"jordan\", \"journal\", \"journal\", \"journal\", \"journei\", \"journei\", \"journei\", \"justic\", \"justic\", \"justic\", \"kilometr\", \"kilometr\", \"kingdom\", \"kingdom\", \"kingdom\", \"kingdom\", \"kingdom\", \"kingdom\", \"kingdom\", \"kingdom\", \"kingdom\", \"kingdom\", \"kingdom\", \"kingdom\", \"korea\", \"korea\", \"kosovo\", \"labour\", \"labour\", \"labour\", \"labour\", \"labour\", \"labour\", \"labour\", \"labour\", \"labour\", \"labour\", \"landfil\", \"landscap\", \"landscap\", \"landscap\", \"landscap\", \"languag\", \"languag\", \"languag\", \"languag\", \"latvia\", \"latvia\", \"latvia\", \"latvia\", \"latvia\", \"latvia\", \"latvia\", \"latvia\", \"latvia\", \"latvia\", \"latvian\", \"latvian\", \"latvian\", \"latvian\", \"latvian\", \"learn\", \"learn\", \"learn\", \"least\", \"least\", \"least\", \"least\", \"least\", \"least\", \"least\", \"least\", \"least\", \"least\", \"least\", \"least\", \"least\", \"least\", \"least\", \"least\", \"least\", \"least\", \"least\", \"leaver\", \"leaver\", \"lebanon\", \"legal\", \"legal\", \"legal\", \"legal\", \"legal\", \"legal\", \"legal\", \"legal\", \"leisur\", \"leisur\", \"leisur\", \"leisur\", \"leisur\", \"liabil\", \"libya\", \"libya\", \"lifetim\", \"lifetim\", \"lifetim\", \"lifetim\", \"lignit\", \"limit\", \"limit\", \"limit\", \"limit\", \"limit\", \"limit\", \"limit\", \"limit\", \"limit\", \"limit\", \"limit\", \"limit\", \"limit\", \"limit\", \"limit\", \"limit\", \"liquid\", \"liquid\", \"liquid\", \"liquid\", \"literaci\", \"literaci\", \"lithuania\", \"lithuania\", \"lithuania\", \"lithuania\", \"lithuania\", \"lithuania\", \"lithuania\", \"lithuania\", \"livestock\", \"livestock\", \"local\", \"local\", \"local\", \"local\", \"local\", \"local\", \"local\", \"local\", \"locat\", \"locat\", \"locat\", \"locat\", \"locat\", \"locat\", \"locat\", \"locat\", \"locat\", \"locat\", \"locat\", \"lockdown\", \"lombardia\", \"lowest\", \"lowest\", \"lowest\", \"lowest\", \"lowest\", \"lowest\", \"lowest\", \"lowest\", \"lowest\", \"lowest\", \"lowest\", \"lowest\", \"luxembourg\", \"luxembourg\", \"luxembourg\", \"luxembourg\", \"luxembourg\", \"luxembourg\", \"luxembourg\", \"luxembourg\", \"luxembourg\", \"luxembourg\", \"luxembourg\", \"macedonia\", \"macedonia\", \"macedonia\", \"machineri\", \"machineri\", \"machineri\", \"machineri\", \"machineri\", \"macroeconom\", \"macroeconom\", \"mainland\", \"mainland\", \"mainland\", \"mainland\", \"major\", \"major\", \"major\", \"major\", \"major\", \"major\", \"major\", \"major\", \"major\", \"major\", \"major\", \"major\", \"major\", \"major\", \"major\", \"major\", \"major\", \"major\", \"major\", \"malaysia\", \"malaysia\", \"malta\", \"malta\", \"malta\", \"malta\", \"malta\", \"malta\", \"malta\", \"malta\", \"malta\", \"malta\", \"malta\", \"manag\", \"manag\", \"manag\", \"manag\", \"manag\", \"manag\", \"manag\", \"manag\", \"manag\", \"manag\", \"manag\", \"manag\", \"mandat\", \"manufactur\", \"manufactur\", \"manufactur\", \"manufactur\", \"manufactur\", \"manufactur\", \"march\", \"march\", \"march\", \"march\", \"march\", \"march\", \"marin\", \"marin\", \"maritim\", \"maritim\", \"maritim\", \"market\", \"market\", \"market\", \"market\", \"market\", \"market\", \"market\", \"market\", \"market\", \"market\", \"market\", \"market\", \"market\", \"market\", \"market\", \"marri\", \"marri\", \"mastera\", \"match\", \"match\", \"match\", \"match\", \"match\", \"match\", \"match\", \"materi\", \"materi\", \"materi\", \"materi\", \"materi\", \"materi\", \"materi\", \"materi\", \"materi\", \"mayott\", \"mayott\", \"media\", \"media\", \"media\", \"media\", \"media\", \"median\", \"median\", \"median\", \"medic\", \"medic\", \"medic\", \"medic\", \"medicin\", \"medicin\", \"medicin\", \"medicin\", \"mental\", \"mental\", \"metal\", \"metal\", \"metal\", \"metal\", \"metal\", \"methan\", \"methan\", \"method\", \"method\", \"method\", \"method\", \"method\", \"method\", \"method\", \"method\", \"method\", \"methodolog\", \"methodolog\", \"methodolog\", \"methodolog\", \"methodolog\", \"methodolog\", \"methodolog\", \"methodolog\", \"methodolog\", \"metropolitan\", \"metropolitan\", \"mexico\", \"micro\", \"micro\", \"micro\", \"microdata\", \"microdata\", \"migrant\", \"migrant\", \"migrant\", \"migrant\", \"migrant\", \"migrat\", \"migrat\", \"migrat\", \"mileston\", \"mileston\", \"mileston\", \"million\", \"million\", \"million\", \"million\", \"million\", \"million\", \"million\", \"million\", \"million\", \"million\", \"million\", \"million\", \"million\", \"million\", \"million\", \"miner\", \"miner\", \"miner\", \"miner\", \"miner\", \"minimum\", \"minimum\", \"minimum\", \"minimum\", \"minimum\", \"minimum\", \"minimum\", \"minimum\", \"minimum\", \"minimum\", \"ministri\", \"ministri\", \"mission\", \"mobil\", \"mobil\", \"mobil\", \"mobil\", \"mobil\", \"mobil\", \"mobil\", \"modal\", \"modal\", \"modal\", \"modal\", \"moldova\", \"moldova\", \"moldova\", \"monitor\", \"monitor\", \"monitor\", \"monitor\", \"monitor\", \"monitor\", \"montenegro\", \"montenegro\", \"montenegro\", \"month\", \"month\", \"month\", \"month\", \"month\", \"month\", \"month\", \"month\", \"month\", \"month\", \"month\", \"month\", \"monthli\", \"monthli\", \"monthli\", \"monthli\", \"monthli\", \"monthli\", \"monthli\", \"monthli\", \"monthli\", \"morbid\", \"morocco\", \"mortal\", \"mortal\", \"mortal\", \"mortal\", \"mortgag\", \"motion\", \"motion\", \"motion\", \"motorcycl\", \"motorcycl\", \"motorcycl\", \"motoris\", \"motoris\", \"motorwai\", \"motorwai\", \"mountain\", \"mountain\", \"mountain\", \"mountain\", \"mountain\", \"myanmar\", \"nativ\", \"nativ\", \"natur\", \"natur\", \"natur\", \"natur\", \"natur\", \"natur\", \"natur\", \"natur\", \"natur\", \"natur\", \"natur\", \"natur\", \"natur\", \"natur\", \"natur\", \"natur\", \"natur\", \"nearli\", \"nearli\", \"nearli\", \"nearli\", \"nearli\", \"nearli\", \"nearli\", \"nearli\", \"nearli\", \"nearli\", \"nearli\", \"nearli\", \"nearli\", \"nearli\", \"negoti\", \"neither\", \"neither\", \"neither\", \"neither\", \"neither\", \"neither\", \"neither\", \"neither\", \"neither\", \"neither\", \"netherland\", \"netherland\", \"netherland\", \"netherland\", \"netherland\", \"netherland\", \"netherland\", \"netherland\", \"netherland\", \"netherland\", \"netherland\", \"netherland\", \"netherland\", \"netherland\", \"network\", \"network\", \"network\", \"network\", \"network\", \"network\", \"network\", \"network\", \"neutral\", \"neutral\", \"neutral\", \"neutral\", \"nigeria\", \"nigeria\", \"night\", \"night\", \"nitrogen\", \"nonetheless\", \"nonetheless\", \"nonetheless\", \"nonetheless\", \"north\", \"north\", \"north\", \"north\", \"north\", \"north\", \"north\", \"northern\", \"northern\", \"northern\", \"npish\", \"nuclear\", \"nuclear\", \"object\", \"object\", \"object\", \"object\", \"object\", \"object\", \"obstacl\", \"obstacl\", \"obstacl\", \"obstacl\", \"older\", \"older\", \"older\", \"older\", \"older\", \"older\", \"older\", \"older\", \"onlin\", \"onlin\", \"onlin\", \"onlin\", \"onlin\", \"onlin\", \"organ\", \"organ\", \"organ\", \"organ\", \"organ\", \"organ\", \"organ\", \"organis\", \"organis\", \"organis\", \"organis\", \"organis\", \"organis\", \"organis\", \"organis\", \"organis\", \"organis\", \"origin\", \"origin\", \"origin\", \"origin\", \"origin\", \"origin\", \"origin\", \"origin\", \"origin\", \"origin\", \"origin\", \"outbound\", \"outnumb\", \"outnumb\", \"output\", \"output\", \"output\", \"output\", \"output\", \"output\", \"output\", \"output\", \"outsid\", \"outsid\", \"outsid\", \"outsid\", \"outsid\", \"outsid\", \"outsid\", \"outsid\", \"outsid\", \"outsid\", \"outsid\", \"outsid\", \"outsid\", \"outsid\", \"outsourc\", \"outsourc\", \"outsourc\", \"outward\", \"outward\", \"outward\", \"outward\", \"outward\", \"outward\", \"overal\", \"overal\", \"overal\", \"overal\", \"overal\", \"overal\", \"overal\", \"overal\", \"overal\", \"overal\", \"overal\", \"overal\", \"overal\", \"overal\", \"overal\", \"overal\", \"overal\", \"overal\", \"overal\", \"overburden\", \"overcrowd\", \"overnight\", \"packag\", \"packag\", \"packag\", \"palestin\", \"pandem\", \"pandem\", \"pandem\", \"pandem\", \"parent\", \"parent\", \"parent\", \"parent\", \"parent\", \"parliament\", \"parliament\", \"parliament\", \"particip\", \"particip\", \"particip\", \"particip\", \"particip\", \"particip\", \"particip\", \"particip\", \"partner\", \"partner\", \"partner\", \"partner\", \"partner\", \"partner\", \"partnership\", \"partnership\", \"partnership\", \"passeng\", \"passeng\", \"passeng\", \"patient\", \"patient\", \"pattern\", \"pattern\", \"pattern\", \"pattern\", \"pattern\", \"pattern\", \"pattern\", \"pattern\", \"pattern\", \"pattern\", \"pattern\", \"pattern\", \"pattern\", \"pattern\", \"pattern\", \"pattern\", \"pattern\", \"pattern\", \"payabl\", \"payment\", \"payment\", \"payment\", \"payment\", \"payment\", \"payment\", \"pension\", \"pension\", \"pension\", \"pension\", \"peopl\", \"peopl\", \"peopl\", \"peopl\", \"peopl\", \"peopl\", \"peopl\", \"peopl\", \"peopl\", \"peopl\", \"peopl\", \"perceiv\", \"perceiv\", \"perceiv\", \"perceiv\", \"perceiv\", \"percentag\", \"percentag\", \"percentag\", \"percentag\", \"percentag\", \"percentag\", \"percentag\", \"percentag\", \"percentag\", \"percentag\", \"percentag\", \"percentag\", \"percentag\", \"percentag\", \"percentag\", \"percentag\", \"perform\", \"perform\", \"perform\", \"perform\", \"perform\", \"perform\", \"perform\", \"perform\", \"perform\", \"peripher\", \"peripher\", \"perman\", \"perman\", \"perman\", \"perman\", \"perman\", \"permit\", \"permit\", \"permit\", \"permit\", \"permit\", \"person\", \"person\", \"person\", \"person\", \"person\", \"person\", \"person\", \"person\", \"person\", \"person\", \"person\", \"person\", \"person\", \"person\", \"person\", \"personnel\", \"personnel\", \"personnel\", \"personnel\", \"personnel\", \"pesticid\", \"pesticid\", \"petroleum\", \"petroleum\", \"petroleum\", \"petroleum\", \"philippin\", \"philippin\", \"phone\", \"phone\", \"phosphoru\", \"phosphoru\", \"photovolta\", \"physician\", \"physician\", \"pilot\", \"place\", \"place\", \"place\", \"place\", \"place\", \"place\", \"place\", \"place\", \"place\", \"place\", \"place\", \"place\", \"place\", \"place\", \"place\", \"place\", \"plant\", \"plant\", \"plant\", \"plant\", \"plant\", \"plastic\", \"plastic\", \"plastic\", \"plastic\", \"point\", \"point\", \"point\", \"point\", \"point\", \"point\", \"point\", \"point\", \"point\", \"point\", \"point\", \"point\", \"point\", \"point\", \"point\", \"point\", \"point\", \"point\", \"point\", \"poland\", \"poland\", \"poland\", \"poland\", \"poland\", \"poland\", \"poland\", \"poland\", \"poland\", \"poland\", \"poland\", \"polic\", \"polic\", \"polici\", \"polici\", \"polici\", \"polici\", \"polici\", \"polici\", \"polici\", \"polici\", \"polici\", \"polici\", \"polici\", \"polici\", \"pollut\", \"pollut\", \"pollut\", \"pollut\", \"portfolio\", \"portfolio\", \"portfolio\", \"portug\", \"portug\", \"portug\", \"portug\", \"portug\", \"portug\", \"portug\", \"portug\", \"portug\", \"portug\", \"portug\", \"portug\", \"potato\", \"potato\", \"potato\", \"potato\", \"potenti\", \"potenti\", \"potenti\", \"potenti\", \"potenti\", \"potenti\", \"potenti\", \"potenti\", \"potenti\", \"potenti\", \"potenti\", \"potenti\", \"potenti\", \"poultri\", \"poverti\", \"poverti\", \"poverti\", \"power\", \"power\", \"power\", \"power\", \"power\", \"power\", \"power\", \"power\", \"power\", \"power\", \"power\", \"practic\", \"practic\", \"practic\", \"practic\", \"practic\", \"practic\", \"practic\", \"practic\", \"practic\", \"practic\", \"practis\", \"practis\", \"practis\", \"practis\", \"practition\", \"practition\", \"praha\", \"praha\", \"precari\", \"predominantli\", \"predominantli\", \"predominantli\", \"predominantli\", \"predominantli\", \"predominantli\", \"prematur\", \"prematur\", \"premis\", \"premis\", \"prescrib\", \"prescrib\", \"prescrib\", \"prescrib\", \"pressur\", \"pressur\", \"pressur\", \"pressur\", \"pressur\", \"pressur\", \"pressur\", \"preval\", \"preval\", \"preval\", \"preval\", \"preval\", \"preval\", \"price\", \"price\", \"price\", \"price\", \"price\", \"price\", \"price\", \"primari\", \"primari\", \"primari\", \"primari\", \"primari\", \"primari\", \"primari\", \"primari\", \"primari\", \"primari\", \"principl\", \"principl\", \"principl\", \"principl\", \"principl\", \"principl\", \"print\", \"print\", \"print\", \"print\", \"prioriti\", \"prioriti\", \"problem\", \"problem\", \"problem\", \"problem\", \"problem\", \"problem\", \"problem\", \"problem\", \"problem\", \"process\", \"process\", \"process\", \"process\", \"process\", \"process\", \"process\", \"process\", \"process\", \"produc\", \"produc\", \"produc\", \"produc\", \"produc\", \"produc\", \"produc\", \"produc\", \"produc\", \"produc\", \"produc\", \"produc\", \"profession\", \"profession\", \"profession\", \"profession\", \"profession\", \"profession\", \"profession\", \"profession\", \"profession\", \"profici\", \"profil\", \"profil\", \"profil\", \"profil\", \"profil\", \"profil\", \"profit\", \"profit\", \"profit\", \"profit\", \"profit\", \"profit\", \"profit\", \"programm\", \"programm\", \"programm\", \"programm\", \"programm\", \"programm\", \"programm\", \"programm\", \"progress\", \"progress\", \"progress\", \"progress\", \"progress\", \"progress\", \"progress\", \"progress\", \"progress\", \"project\", \"project\", \"project\", \"project\", \"promot\", \"promot\", \"promot\", \"promot\", \"promot\", \"proport\", \"proport\", \"proport\", \"proport\", \"proport\", \"proport\", \"proport\", \"proport\", \"proport\", \"proport\", \"proport\", \"proport\", \"proport\", \"proport\", \"proport\", \"proport\", \"proport\", \"propos\", \"propos\", \"prosper\", \"protect\", \"protect\", \"protect\", \"protect\", \"protect\", \"protect\", \"protect\", \"protect\", \"public\", \"public\", \"public\", \"public\", \"public\", \"public\", \"public\", \"public\", \"public\", \"public\", \"pupil\", \"pupil\", \"pupil\", \"purchas\", \"purchas\", \"purchas\", \"purchas\", \"purchas\", \"purchas\", \"purchas\", \"qualif\", \"qualif\", \"qualif\", \"qualifi\", \"qualifi\", \"qualifi\", \"qualifi\", \"qualifi\", \"qualiti\", \"qualiti\", \"qualiti\", \"qualiti\", \"qualiti\", \"qualiti\", \"qualiti\", \"qualiti\", \"quantil\", \"quantiti\", \"quantiti\", \"quantiti\", \"quantiti\", \"quantiti\", \"quantiti\", \"quantiti\", \"quantiti\", \"quantiti\", \"quarter\", \"quarter\", \"quarter\", \"quarter\", \"quarter\", \"quarter\", \"quarter\", \"quarter\", \"quarter\", \"quarter\", \"quarter\", \"quarter\", \"quarterli\", \"quarterli\", \"quarterli\", \"questionnair\", \"questionnair\", \"questionnair\", \"radio\", \"radio\", \"ragion\", \"railwai\", \"railwai\", \"railwai\", \"railwai\", \"rainfal\", \"rainfal\", \"rainfal\", \"random\", \"random\", \"ratio\", \"ratio\", \"ratio\", \"ratio\", \"ratio\", \"ratio\", \"ratio\", \"ratio\", \"ratio\", \"ratio\", \"ratio\", \"ratio\", \"ratio\", \"ratio\", \"ratio\", \"reason\", \"reason\", \"reason\", \"reason\", \"reason\", \"reason\", \"reason\", \"reason\", \"reason\", \"reason\", \"reason\", \"reason\", \"reason\", \"reason\", \"receipt\", \"receipt\", \"receipt\", \"recoveri\", \"recoveri\", \"recoveri\", \"recoveri\", \"recoveri\", \"recoveri\", \"recoveri\", \"recoveri\", \"recruit\", \"recruit\", \"recycl\", \"recycl\", \"reduc\", \"reduc\", \"reduc\", \"reduc\", \"reduc\", \"reduc\", \"reduc\", \"reduc\", \"reduc\", \"reduc\", \"reduc\", \"reduc\", \"reduc\", \"reduc\", \"reduc\", \"reduc\", \"reduc\", \"reduct\", \"reduct\", \"reduct\", \"reduct\", \"reduct\", \"reduct\", \"reduct\", \"reduct\", \"reduct\", \"reduct\", \"reduct\", \"reduct\", \"reduct\", \"reduct\", \"refer\", \"refer\", \"refer\", \"refer\", \"refer\", \"refer\", \"refer\", \"refer\", \"refer\", \"refer\", \"refer\", \"refer\", \"refer\", \"refer\", \"refer\", \"refer\", \"refer\", \"refer\", \"refer\", \"reform\", \"reform\", \"reform\", \"refuge\", \"refus\", \"refus\", \"refus\", \"regain\", \"regain\", \"regiao\", \"regiao\", \"region\", \"region\", \"region\", \"region\", \"region\", \"region\", \"region\", \"region\", \"region\", \"region\", \"regist\", \"regist\", \"regist\", \"regist\", \"regist\", \"regist\", \"regist\", \"regist\", \"regist\", \"regist\", \"regist\", \"regist\", \"regist\", \"registri\", \"regress\", \"regress\", \"regress\", \"regress\", \"regul\", \"regul\", \"regul\", \"regul\", \"regul\", \"regul\", \"regul\", \"regul\", \"rehabilit\", \"rehabilit\", \"reliabl\", \"reliabl\", \"reliabl\", \"reliabl\", \"reliabl\", \"reliabl\", \"reliabl\", \"reliabl\", \"reliabl\", \"remedi\", \"remedi\", \"remuner\", \"remuner\", \"remuner\", \"remuner\", \"renew\", \"renew\", \"renew\", \"renew\", \"renew\", \"renew\", \"repair\", \"repair\", \"repair\", \"repair\", \"repres\", \"repres\", \"repres\", \"repres\", \"repres\", \"repres\", \"repres\", \"repres\", \"repres\", \"repres\", \"repres\", \"repres\", \"repres\", \"repres\", \"repres\", \"repres\", \"repres\", \"repres\", \"repres\", \"request\", \"request\", \"request\", \"request\", \"request\", \"resid\", \"resid\", \"resid\", \"resid\", \"resid\", \"resid\", \"resid\", \"resid\", \"resid\", \"resourc\", \"resourc\", \"resourc\", \"resourc\", \"resourc\", \"resourc\", \"resourc\", \"resourc\", \"resourc\", \"resourc\", \"respiratori\", \"respondenta\", \"respondenta\", \"respons\", \"respons\", \"respons\", \"respons\", \"respons\", \"respons\", \"respons\", \"respons\", \"respons\", \"respons\", \"restaur\", \"restaur\", \"restaur\", \"restor\", \"restor\", \"retail\", \"retail\", \"retail\", \"retail\", \"revenu\", \"revenu\", \"revenu\", \"revenu\", \"review\", \"review\", \"review\", \"review\", \"revis\", \"revis\", \"revis\", \"revis\", \"revis\", \"revis\", \"river\", \"river\", \"river\", \"river\", \"romania\", \"romania\", \"romania\", \"romania\", \"romania\", \"romania\", \"romania\", \"romania\", \"romania\", \"romania\", \"romania\", \"rotterdam\", \"rotterdam\", \"rotterdam\", \"rough\", \"rough\", \"rural\", \"rural\", \"rural\", \"rural\", \"rural\", \"rural\", \"russia\", \"russia\", \"russia\", \"russia\", \"salari\", \"salari\", \"salari\", \"sampl\", \"sampl\", \"satisfact\", \"satisfact\", \"satisfact\", \"saudi\", \"scheme\", \"scheme\", \"scheme\", \"scheme\", \"scheme\", \"scheme\", \"scheme\", \"scheme\", \"school\", \"school\", \"school\", \"school\", \"school\", \"scienc\", \"scienc\", \"scienc\", \"scoreboard\", \"scoreboard\", \"scoreboard\", \"screen\", \"screen\", \"season\", \"season\", \"season\", \"season\", \"season\", \"season\", \"second\", \"second\", \"second\", \"second\", \"second\", \"second\", \"second\", \"second\", \"second\", \"second\", \"second\", \"second\", \"second\", \"second\", \"second\", \"second\", \"second\", \"second\", \"second\", \"secondari\", \"secondari\", \"secondari\", \"secondari\", \"secondari\", \"secondari\", \"secondari\", \"secondari\", \"secondari\", \"section\", \"section\", \"section\", \"section\", \"section\", \"section\", \"section\", \"section\", \"section\", \"section\", \"section\", \"section\", \"section\", \"section\", \"section\", \"section\", \"sector\", \"sector\", \"sector\", \"sector\", \"sector\", \"sector\", \"sector\", \"sector\", \"sector\", \"sector\", \"sector\", \"sectora\", \"sectora\", \"secur\", \"secur\", \"secur\", \"secur\", \"secur\", \"secur\", \"secur\", \"secur\", \"seeker\", \"seeker\", \"semest\", \"semest\", \"semest\", \"senior\", \"senior\", \"senior\", \"senior\", \"serbia\", \"serbia\", \"server\", \"server\", \"servic\", \"servic\", \"servic\", \"servic\", \"servic\", \"servic\", \"servic\", \"servic\", \"servic\", \"servic\", \"servic\", \"servic\", \"servic\", \"servic\", \"servic\", \"servic\", \"sesect\", \"sesect\", \"sesect\", \"sesect\", \"sesect\", \"sesect\", \"settl\", \"settl\", \"sever\", \"sever\", \"sever\", \"sever\", \"sever\", \"sever\", \"sever\", \"sever\", \"sever\", \"sever\", \"sever\", \"sever\", \"sever\", \"sever\", \"sever\", \"sever\", \"sever\", \"sewerag\", \"sewerag\", \"shade\", \"shade\", \"shade\", \"shade\", \"sharpest\", \"sharpli\", \"sharpli\", \"sharpli\", \"sharpli\", \"sheep\", \"sheet\", \"sheet\", \"sheet\", \"shock\", \"shock\", \"shock\", \"shock\", \"short\", \"short\", \"short\", \"short\", \"short\", \"short\", \"short\", \"short\", \"short\", \"short\", \"short\", \"short\", \"should\", \"should\", \"should\", \"should\", \"should\", \"should\", \"should\", \"should\", \"should\", \"should\", \"should\", \"should\", \"should\", \"should\", \"should\", \"should\", \"should\", \"shower\", \"shower\", \"shown\", \"shown\", \"shown\", \"shown\", \"shown\", \"shown\", \"shown\", \"shown\", \"shown\", \"shown\", \"shown\", \"shown\", \"shown\", \"shown\", \"shown\", \"shown\", \"shown\", \"shown\", \"signal\", \"signal\", \"singapor\", \"singapor\", \"singl\", \"singl\", \"singl\", \"singl\", \"singl\", \"singl\", \"singl\", \"singl\", \"singl\", \"singl\", \"singl\", \"singl\", \"singl\", \"singl\", \"slovakia\", \"slovakia\", \"slovakia\", \"slovakia\", \"slovakia\", \"slovakia\", \"slovakia\", \"slovakia\", \"slovakia\", \"slovenia\", \"slovenia\", \"slovenia\", \"slovenia\", \"slovenia\", \"slovenia\", \"slovenia\", \"slovenia\", \"slovenia\", \"slowdown\", \"slowdown\", \"slowdown\", \"slowdown\", \"slowdown\", \"small\", \"small\", \"small\", \"small\", \"small\", \"small\", \"small\", \"small\", \"small\", \"small\", \"small\", \"small\", \"small\", \"small\", \"small\", \"small\", \"small\", \"small\", \"smoke\", \"smoke\", \"social\", \"social\", \"social\", \"social\", \"social\", \"social\", \"social\", \"social\", \"social\", \"social\", \"solar\", \"solar\", \"solid\", \"solid\", \"solid\", \"solid\", \"solid\", \"someth\", \"someth\", \"someth\", \"sourc\", \"sourc\", \"sourc\", \"sourc\", \"sourc\", \"sourc\", \"sourc\", \"sourc\", \"sourc\", \"sourc\", \"sourc\", \"sourc\", \"sourc\", \"south\", \"south\", \"south\", \"south\", \"south\", \"south\", \"south\", \"southern\", \"southern\", \"southern\", \"southern\", \"spain\", \"spain\", \"spain\", \"spain\", \"spain\", \"spain\", \"spain\", \"spain\", \"spain\", \"spain\", \"spanish\", \"spanish\", \"spanish\", \"spanish\", \"spanish\", \"spanish\", \"spatial\", \"spatial\", \"spatial\", \"speci\", \"speci\", \"speci\", \"specialist\", \"specialist\", \"specialist\", \"specialist\", \"specialist\", \"specialist\", \"speed\", \"speed\", \"speed\", \"speed\", \"spent\", \"spent\", \"spent\", \"spent\", \"spent\", \"spent\", \"sport\", \"sport\", \"sport\", \"stakehold\", \"stakehold\", \"stand\", \"stand\", \"stand\", \"stand\", \"stand\", \"stand\", \"stand\", \"stand\", \"stand\", \"stand\", \"stand\", \"standardis\", \"standardis\", \"standardis\", \"standardis\", \"standardis\", \"standardis\", \"statement\", \"statement\", \"statement\", \"statement\", \"statistician\", \"statistician\", \"statu\", \"statu\", \"statu\", \"statu\", \"statu\", \"statu\", \"statu\", \"statu\", \"statu\", \"status\", \"status\", \"status\", \"steam\", \"steam\", \"stock\", \"stock\", \"stock\", \"stock\", \"stock\", \"stock\", \"stock\", \"stock\", \"stockholm\", \"stockholm\", \"stockholm\", \"storag\", \"storag\", \"storag\", \"storag\", \"storag\", \"strain\", \"strain\", \"strategi\", \"strategi\", \"strategi\", \"strict\", \"strict\", \"strict\", \"strict\", \"student\", \"student\", \"student\", \"student\", \"studi\", \"studi\", \"studi\", \"studi\", \"studi\", \"studi\", \"studi\", \"studi\", \"studi\", \"subdivid\", \"subdivid\", \"subdivid\", \"subdivid\", \"subdu\", \"subdu\", \"subdu\", \"subgroup\", \"subgroup\", \"subgroup\", \"subgroup\", \"subpopul\", \"subpopul\", \"subpopul\", \"subpopul\", \"subsector\", \"subsector\", \"subsector\", \"substanc\", \"substanc\", \"substanc\", \"substanti\", \"substanti\", \"substanti\", \"substanti\", \"substanti\", \"substanti\", \"substanti\", \"substanti\", \"substanti\", \"substanti\", \"substanti\", \"substanti\", \"substanti\", \"substanti\", \"sulphur\", \"sulphur\", \"summer\", \"summer\", \"summer\", \"summer\", \"summer\", \"summer\", \"suppli\", \"suppli\", \"suppli\", \"suppli\", \"suppli\", \"suppli\", \"suppli\", \"suppli\", \"support\", \"support\", \"support\", \"support\", \"support\", \"support\", \"support\", \"support\", \"support\", \"support\", \"support\", \"surgic\", \"surgic\", \"surplu\", \"surplu\", \"surplu\", \"surplu\", \"surplus\", \"surplus\", \"surround\", \"surround\", \"surround\", \"surround\", \"surround\", \"survei\", \"survei\", \"survei\", \"survei\", \"survei\", \"survei\", \"survei\", \"survei\", \"survei\", \"surviv\", \"surviv\", \"surviv\", \"survivor\", \"survivor\", \"sustain\", \"sustain\", \"sustain\", \"sustain\", \"sustain\", \"sustain\", \"sustain\", \"sustain\", \"sweden\", \"sweden\", \"sweden\", \"sweden\", \"sweden\", \"sweden\", \"sweden\", \"sweden\", \"sweden\", \"sweden\", \"sweden\", \"switzerland\", \"switzerland\", \"switzerland\", \"switzerland\", \"switzerland\", \"switzerland\", \"switzerland\", \"switzerland\", \"switzerland\", \"switzerland\", \"switzerland\", \"switzerland\", \"switzerland\", \"switzerland\", \"syria\", \"system\", \"system\", \"system\", \"system\", \"system\", \"system\", \"system\", \"system\", \"system\", \"system\", \"system\", \"tabular\", \"tabular\", \"tailor\", \"target\", \"target\", \"target\", \"target\", \"target\", \"target\", \"target\", \"target\", \"target\", \"target\", \"teach\", \"teacher\", \"teacher\", \"televis\", \"televis\", \"televis\", \"temperatur\", \"temperatur\", \"temperatur\", \"temperatur\", \"temporari\", \"temporari\", \"temporari\", \"temporari\", \"temporari\", \"temporari\", \"temporari\", \"temporari\", \"tenant\", \"tenant\", \"tenur\", \"tenur\", \"territori\", \"territori\", \"territori\", \"territori\", \"territori\", \"territori\", \"territori\", \"territori\", \"territori\", \"tertiari\", \"tertiari\", \"tertiari\", \"tertiari\", \"tertiari\", \"thailand\", \"thailand\", \"therein\", \"thermal\", \"thinli\", \"thinli\", \"third\", \"third\", \"third\", \"third\", \"third\", \"third\", \"third\", \"third\", \"third\", \"third\", \"third\", \"third\", \"third\", \"third\", \"third\", \"third\", \"third\", \"third\", \"third\", \"thousand\", \"thousand\", \"thousand\", \"thousand\", \"thousand\", \"thousand\", \"thousand\", \"thousand\", \"thousand\", \"thousand\", \"thousand\", \"thousand\", \"threat\", \"threat\", \"threat\", \"threaten\", \"threaten\", \"threshold\", \"threshold\", \"threshold\", \"threshold\", \"threshold\", \"threshold\", \"threshold\", \"threshold\", \"through\", \"through\", \"through\", \"through\", \"through\", \"through\", \"through\", \"through\", \"through\", \"through\", \"through\", \"through\", \"through\", \"through\", \"through\", \"through\", \"through\", \"tobacco\", \"tobacco\", \"tobacco\", \"tobacco\", \"tobacco\", \"tobacco\", \"tobacco\", \"tobacco\", \"toilet\", \"toilet\", \"tonnag\", \"tonnag\", \"tonnag\", \"topograph\", \"topograph\", \"topograph\", \"tourism\", \"tourism\", \"tourism\", \"tourism\", \"tourism\", \"tourist\", \"tourist\", \"toxic\", \"toxic\", \"trade\", \"trade\", \"trade\", \"trade\", \"trade\", \"trader\", \"trader\", \"trader\", \"traffic\", \"traffic\", \"traffic\", \"traffic\", \"traffic\", \"trailer\", \"trailer\", \"trailer\", \"trailer\", \"train\", \"train\", \"train\", \"train\", \"train\", \"transact\", \"transact\", \"transact\", \"transfer\", \"transfer\", \"transfer\", \"transfer\", \"transfer\", \"transfer\", \"transfer\", \"transfer\", \"transform\", \"transform\", \"transform\", \"transform\", \"transform\", \"transform\", \"transport\", \"transport\", \"transport\", \"transport\", \"transport\", \"transport\", \"transport\", \"transport\", \"transport\", \"transport\", \"transport\", \"travel\", \"travel\", \"travel\", \"travel\", \"travel\", \"travel\", \"travel\", \"treati\", \"treatment\", \"treatment\", \"treatment\", \"treatment\", \"treatment\", \"treatment\", \"treatment\", \"treatment\", \"treatment\", \"trend\", \"trend\", \"trend\", \"trend\", \"trend\", \"trend\", \"trend\", \"trend\", \"trend\", \"trend\", \"trend\", \"trend\", \"tunisia\", \"tunisia\", \"turkei\", \"turkei\", \"turkei\", \"turkei\", \"turkei\", \"turkei\", \"turkei\", \"turkei\", \"turkeya\", \"turkeya\", \"turkish\", \"turkish\", \"turkish\", \"turnov\", \"turnov\", \"typolog\", \"typolog\", \"typolog\", \"ukrain\", \"ukrain\", \"ukrain\", \"ukrain\", \"ukrainian\", \"ukrainian\", \"ultim\", \"ultim\", \"ultim\", \"ultim\", \"ultim\", \"ultim\", \"unabl\", \"unabl\", \"unabl\", \"unabl\", \"under\", \"under\", \"under\", \"under\", \"under\", \"under\", \"under\", \"under\", \"under\", \"under\", \"under\", \"under\", \"under\", \"under\", \"under\", \"under\", \"under\", \"under\", \"under\", \"unemploi\", \"unemploi\", \"unemploy\", \"unemploy\", \"unemploy\", \"unequ\", \"unequ\", \"unequ\", \"unesco\", \"unexpect\", \"unexpect\", \"unfavour\", \"unfavour\", \"unload\", \"unload\", \"unmet\", \"unmet\", \"unsustain\", \"unsustain\", \"updat\", \"updat\", \"updat\", \"updat\", \"updat\", \"upper\", \"upper\", \"upper\", \"upper\", \"upper\", \"upper\", \"urban\", \"urban\", \"urban\", \"urbanis\", \"urbanis\", \"urbanis\", \"urbanis\", \"urbanis\", \"utilis\", \"utilis\", \"utilis\", \"utilis\", \"valid\", \"valid\", \"valid\", \"valid\", \"valuat\", \"vandal\", \"variabl\", \"variabl\", \"variabl\", \"variabl\", \"variabl\", \"variabl\", \"variabl\", \"variabl\", \"variabl\", \"veget\", \"veget\", \"veget\", \"veget\", \"veget\", \"vegetarian\", \"vehicl\", \"vehicl\", \"vehicl\", \"vehicl\", \"vehicl\", \"vehicl\", \"vehicl\", \"versu\", \"versu\", \"versu\", \"versu\", \"vessel\", \"vessel\", \"veterinari\", \"veterinari\", \"veterinari\", \"vietnam\", \"villag\", \"visibl\", \"visibl\", \"visibl\", \"visibl\", \"visibl\", \"visitor\", \"visitor\", \"vocat\", \"vocat\", \"volum\", \"volum\", \"volum\", \"volum\", \"volum\", \"volum\", \"volum\", \"volunt\", \"volunt\", \"water\", \"water\", \"water\", \"water\", \"water\", \"water\", \"water\", \"water\", \"water\", \"waterwai\", \"waterwai\", \"weekli\", \"weekli\", \"weekli\", \"weekli\", \"weekli\", \"weight\", \"weight\", \"weight\", \"weight\", \"weight\", \"weight\", \"weight\", \"weight\", \"weight\", \"weight\", \"western\", \"western\", \"western\", \"western\", \"western\", \"western\", \"wholesal\", \"woman\", \"woman\", \"woman\", \"women\", \"women\", \"women\", \"women\", \"women\", \"women\", \"worker\", \"worker\", \"worker\", \"worker\", \"worker\", \"workforc\", \"workforc\", \"workforc\", \"workforc\", \"workforc\", \"workforc\", \"world\", \"world\", \"world\", \"world\", \"world\", \"world\", \"world\", \"world\", \"yeara\", \"yeara\", \"yeara\", \"yeara\", \"yeara\", \"young\", \"young\", \"young\", \"youth\", \"youth\", \"youth\"]}, \"R\": 30, \"lambda.step\": 0.01, \"plot.opts\": {\"xlab\": \"PC1\", \"ylab\": \"PC2\"}, \"topic.order\": [1, 2, 3, 4, 5, 6, 7, 8, 9, 10, 11, 12, 13, 14, 15, 16, 17, 18, 19, 20]};\n",
              "\n",
              "function LDAvis_load_lib(url, callback){\n",
              "  var s = document.createElement('script');\n",
              "  s.src = url;\n",
              "  s.async = true;\n",
              "  s.onreadystatechange = s.onload = callback;\n",
              "  s.onerror = function(){console.warn(\"failed to load library \" + url);};\n",
              "  document.getElementsByTagName(\"head\")[0].appendChild(s);\n",
              "}\n",
              "\n",
              "if(typeof(LDAvis) !== \"undefined\"){\n",
              "   // already loaded: just create the visualization\n",
              "   !function(LDAvis){\n",
              "       new LDAvis(\"#\" + \"ldavis_el6931396335692232486650900738\", ldavis_el6931396335692232486650900738_data);\n",
              "   }(LDAvis);\n",
              "}else if(typeof define === \"function\" && define.amd){\n",
              "   // require.js is available: use it to load d3/LDAvis\n",
              "   require.config({paths: {d3: \"https://d3js.org/d3.v5\"}});\n",
              "   require([\"d3\"], function(d3){\n",
              "      window.d3 = d3;\n",
              "      LDAvis_load_lib(\"https://cdn.jsdelivr.net/gh/bmabey/pyLDAvis@3.3.1/pyLDAvis/js/ldavis.v3.0.0.js\", function(){\n",
              "        new LDAvis(\"#\" + \"ldavis_el6931396335692232486650900738\", ldavis_el6931396335692232486650900738_data);\n",
              "      });\n",
              "    });\n",
              "}else{\n",
              "    // require.js not available: dynamically load d3 & LDAvis\n",
              "    LDAvis_load_lib(\"https://d3js.org/d3.v5.js\", function(){\n",
              "         LDAvis_load_lib(\"https://cdn.jsdelivr.net/gh/bmabey/pyLDAvis@3.3.1/pyLDAvis/js/ldavis.v3.0.0.js\", function(){\n",
              "                 new LDAvis(\"#\" + \"ldavis_el6931396335692232486650900738\", ldavis_el6931396335692232486650900738_data);\n",
              "            })\n",
              "         });\n",
              "}\n",
              "</script>"
            ],
            "text/plain": [
              "PreparedData(topic_coordinates=              x         y  topics  cluster       Freq\n",
              "topic                                                \n",
              "0     -0.094791 -0.220594       1        1   5.032985\n",
              "1     -0.067449 -0.060845       2        1   2.988558\n",
              "2     -0.058501 -0.099254       3        1   1.604062\n",
              "3     -0.158296  0.016993       4        1   4.547431\n",
              "4      0.159793 -0.156072       5        1   2.948229\n",
              "5      0.187302  0.138716       6        1   6.979507\n",
              "6     -0.106158  0.141030       7        1   4.460042\n",
              "7      0.203956  0.098557       8        1  10.823065\n",
              "8     -0.033205 -0.017036       9        1   3.537429\n",
              "9      0.054843 -0.138769      10        1   2.513419\n",
              "10     0.210100  0.023272      11        1   7.999092\n",
              "11     0.109029  0.113491      12        1   3.050617\n",
              "12     0.112118  0.167556      13        1   6.911877\n",
              "13    -0.037953 -0.094955      14        1   2.239145\n",
              "14    -0.057091  0.070097      15        1   3.252643\n",
              "15    -0.243423 -0.033879      16        1   8.934987\n",
              "16     0.059621 -0.116977      17        1   2.138574\n",
              "17    -0.198867  0.124769      18        1   4.548111\n",
              "18    -0.163982  0.156019      19        1  10.331965\n",
              "19     0.122954 -0.112118      20        1   5.158261, topic_info=          Term         Freq        Total Category  logprob  loglift\n",
              "359     region  3402.000000  3402.000000  Default  30.0000  30.0000\n",
              "612     energi  2130.000000  2130.000000  Default  29.0000  29.0000\n",
              "262  enterpris  2079.000000  2079.000000  Default  28.0000  28.0000\n",
              "61      employ  2603.000000  2603.000000  Default  27.0000  27.0000\n",
              "344      price  1743.000000  1743.000000  Default  26.0000  26.0000\n",
              "..         ...          ...          ...      ...      ...      ...\n",
              "57     economi   146.913703  1447.099645  Topic20  -5.1187   0.6771\n",
              "731      month   126.855480   904.458075  Topic20  -5.2655   1.0003\n",
              "423      estim   127.570935  1154.017487  Topic20  -5.2599   0.7622\n",
              "142    quarter   132.957000  1666.127035  Topic20  -5.2185   0.4363\n",
              "66      exampl   127.125253  1470.129077  Topic20  -5.2634   0.5166\n",
              "\n",
              "[1120 rows x 6 columns], token_table=      Topic      Freq    Term\n",
              "term                         \n",
              "535       1  0.019310  abroad\n",
              "535       7  0.527816  abroad\n",
              "535       9  0.173793  abroad\n",
              "535      10  0.012874  abroad\n",
              "535      11  0.106207  abroad\n",
              "...     ...       ...     ...\n",
              "734       7  0.132468   young\n",
              "734      19  0.854149   young\n",
              "735       7  0.929327   youth\n",
              "735       8  0.016595   youth\n",
              "735      19  0.049785   youth\n",
              "\n",
              "[4923 rows x 3 columns], R=30, lambda_step=0.01, plot_opts={'xlab': 'PC1', 'ylab': 'PC2'}, topic_order=[1, 2, 3, 4, 5, 6, 7, 8, 9, 10, 11, 12, 13, 14, 15, 16, 17, 18, 19, 20])"
            ]
          },
          "metadata": {},
          "execution_count": 22
        }
      ],
      "source": [
        "#Visualize the topics\n",
        "\n",
        "pyLDAvis.enable_notebook()\n",
        "vis = pyLDAvis.gensim_models.prepare(lda_model, corpus, id2word,sort_topics=False)\n",
        "vis"
      ]
    },
    {
      "cell_type": "markdown",
      "metadata": {
        "id": "-qK-3sV_cekL"
      },
      "source": [
        "### 11. Interpretation of the topics and topic coherences.\n",
        "***\n",
        "\n",
        "For the interpretation of the topics, we inspect this visualization together:  \n",
        "* with the information on the decomposition of topics into its main keywords (i.e. the same information as in 8. \"The topics as a mix of keywords\"). In each topic, the main keywords are here sorted by descending importance and plots are produced.\n",
        "* with the information on the most representative article for each topic, see 7. \"Most representative document for each topic\"."
      ]
    },
    {
      "cell_type": "code",
      "execution_count": 23,
      "metadata": {
        "id": "yucscv-VcekL",
        "outputId": "9ddb16d9-f6bb-4c5f-da6d-afef75b2de7f",
        "colab": {
          "base_uri": "https://localhost:8080/",
          "height": 1000
        }
      },
      "outputs": [
        {
          "output_type": "stream",
          "name": "stdout",
          "text": [
            "\n",
            "Topic id:  1\n",
            "('export', 0.08620865)\n",
            "('billion', 0.08444814)\n",
            "('trade', 0.0780145)\n",
            "('china', 0.022072695)\n",
            "('partner', 0.021348124)\n",
            "('world', 0.017031992)\n",
            "('kingdom', 0.01607472)\n",
            "('manufactur', 0.0153289065)\n",
            "('deficit', 0.014701154)\n",
            "('south', 0.014302863)\n"
          ]
        },
        {
          "output_type": "display_data",
          "data": {
            "image/png": "[encoded data removed]",
            "text/plain": [
              "<Figure size 432x288 with 1 Axes>"
            ]
          },
          "metadata": {
            "needs_background": "light"
          }
        },
        {
          "output_type": "stream",
          "name": "stdout",
          "text": [
            "\n",
            "Topic id:  2\n",
            "('transport', 0.092434615)\n",
            "('accid', 0.045003925)\n",
            "('internet', 0.036707327)\n",
            "('passeng', 0.031704534)\n",
            "('fatal', 0.028908703)\n",
            "('freight', 0.02102678)\n",
            "('regist', 0.014656353)\n",
            "('perform', 0.014427628)\n",
            "('million', 0.014029661)\n",
            "('kilometr', 0.013380867)\n"
          ]
        },
        {
          "output_type": "display_data",
          "data": {
            "image/png": "[encoded data removed]",
            "text/plain": [
              "<Figure size 432x288 with 1 Axes>"
            ]
          },
          "metadata": {
            "needs_background": "light"
          }
        },
        {
          "output_type": "stream",
          "name": "stdout",
          "text": [
            "\n",
            "Topic id:  3\n",
            "('candid', 0.0834694)\n",
            "('permit', 0.06612077)\n",
            "('turkei', 0.04599118)\n",
            "('potenti', 0.03982253)\n",
            "('serbia', 0.037725415)\n",
            "('north', 0.036763523)\n",
            "('macedonia', 0.034607504)\n",
            "('montenegro', 0.033207674)\n",
            "('bosnia', 0.024129841)\n",
            "('albania', 0.024096433)\n"
          ]
        },
        {
          "output_type": "display_data",
          "data": {
            "image/png": "[encoded data removed]",
            "text/plain": [
              "<Figure size 432x288 with 1 Axes>"
            ]
          },
          "metadata": {
            "needs_background": "light"
          }
        },
        {
          "output_type": "stream",
          "name": "stdout",
          "text": [
            "\n",
            "Topic id:  4\n",
            "('region', 0.10072902)\n",
            "('million', 0.027220208)\n",
            "('project', 0.020744283)\n",
            "('franc', 0.01600875)\n",
            "('itali', 0.015768856)\n",
            "('germani', 0.015550199)\n",
            "('spain', 0.014085833)\n",
            "('asean', 0.0121406475)\n",
            "('capit', 0.011444646)\n",
            "('cover', 0.009326185)\n"
          ]
        },
        {
          "output_type": "display_data",
          "data": {
            "image/png": "[encoded data removed]",
            "text/plain": [
              "<Figure size 432x288 with 1 Axes>"
            ]
          },
          "metadata": {
            "needs_background": "light"
          }
        },
        {
          "output_type": "stream",
          "name": "stdout",
          "text": [
            "\n",
            "Topic id:  5\n",
            "('energi', 0.14341716)\n",
            "('consumpt', 0.053277284)\n",
            "('electr', 0.03630225)\n",
            "('renew', 0.0222043)\n",
            "('final', 0.018153906)\n",
            "('primari', 0.016953366)\n",
            "('sector', 0.01619789)\n",
            "('gross', 0.015648672)\n",
            "('natur', 0.015189776)\n",
            "('balanc', 0.014800092)\n"
          ]
        },
        {
          "output_type": "display_data",
          "data": {
            "image/png": "[encoded data removed]",
            "text/plain": [
              "<Figure size 432x288 with 1 Axes>"
            ]
          },
          "metadata": {
            "needs_background": "light"
          }
        },
        {
          "output_type": "stream",
          "name": "stdout",
          "text": [
            "\n",
            "Topic id:  6\n",
            "('survei', 0.02981237)\n",
            "('agricultur', 0.02388514)\n",
            "('regist', 0.021407684)\n",
            "('common', 0.01668989)\n",
            "('sourc', 0.015474043)\n",
            "('sampl', 0.014911243)\n",
            "('administr', 0.013086549)\n",
            "('collect', 0.011008758)\n",
            "('organ', 0.01056797)\n",
            "('characterist', 0.009966727)\n"
          ]
        },
        {
          "output_type": "display_data",
          "data": {
            "image/png": "[encoded data removed]",
            "text/plain": [
              "<Figure size 432x288 with 1 Axes>"
            ]
          },
          "metadata": {
            "needs_background": "light"
          }
        },
        {
          "output_type": "stream",
          "name": "stdout",
          "text": [
            "\n",
            "Topic id:  7\n",
            "('employ', 0.102072686)\n",
            "('labour', 0.052501533)\n",
            "('unemploy', 0.049533952)\n",
            "('emploi', 0.048809968)\n",
            "('person', 0.048607416)\n",
            "('employe', 0.022019414)\n",
            "('student', 0.021614302)\n",
            "('worker', 0.02098575)\n",
            "('women', 0.020906713)\n",
            "('peopl', 0.01919025)\n"
          ]
        },
        {
          "output_type": "display_data",
          "data": {
            "image/png": "[encoded data removed]",
            "text/plain": [
              "<Figure size 432x288 with 1 Axes>"
            ]
          },
          "metadata": {
            "needs_background": "light"
          }
        },
        {
          "output_type": "stream",
          "name": "stdout",
          "text": [
            "\n",
            "Topic id:  8\n",
            "('system', 0.01302094)\n",
            "('intern', 0.012043299)\n",
            "('polici', 0.011927994)\n",
            "('qualiti', 0.011629847)\n",
            "('eurostat', 0.011158818)\n",
            "('implement', 0.011019826)\n",
            "('improv', 0.00924582)\n",
            "('commiss', 0.009009787)\n",
            "('regul', 0.008693156)\n",
            "('collect', 0.008582718)\n"
          ]
        },
        {
          "output_type": "display_data",
          "data": {
            "image/png": "[encoded data removed]",
            "text/plain": [
              "<Figure size 432x288 with 1 Axes>"
            ]
          },
          "metadata": {
            "needs_background": "light"
          }
        },
        {
          "output_type": "stream",
          "name": "stdout",
          "text": [
            "\n",
            "Topic id:  9\n",
            "('enterpris', 0.119716465)\n",
            "('sector', 0.052239124)\n",
            "('activ', 0.040334836)\n",
            "('economi', 0.035850342)\n",
            "('servic', 0.028737698)\n",
            "('emploi', 0.027005864)\n",
            "('person', 0.024655065)\n",
            "('financi', 0.02320621)\n",
            "('cultur', 0.021132443)\n",
            "('employ', 0.017718727)\n"
          ]
        },
        {
          "output_type": "display_data",
          "data": {
            "image/png": "[encoded data removed]",
            "text/plain": [
              "<Figure size 432x288 with 1 Axes>"
            ]
          },
          "metadata": {
            "needs_background": "light"
          }
        },
        {
          "output_type": "stream",
          "name": "stdout",
          "text": [
            "\n",
            "Topic id:  10\n",
            "('emiss', 0.053878617)\n",
            "('environment', 0.041736376)\n",
            "('materi', 0.034399807)\n",
            "('million', 0.01897945)\n",
            "('pollut', 0.018441368)\n",
            "('climat', 0.018437807)\n",
            "('resourc', 0.016768135)\n",
            "('recycl', 0.016156036)\n",
            "('trend', 0.014055307)\n",
            "('amount', 0.013990577)\n"
          ]
        },
        {
          "output_type": "display_data",
          "data": {
            "image/png": "[encoded data removed]",
            "text/plain": [
              "<Figure size 432x288 with 1 Axes>"
            ]
          },
          "metadata": {
            "needs_background": "light"
          }
        },
        {
          "output_type": "stream",
          "name": "stdout",
          "text": [
            "\n",
            "Topic id:  11\n",
            "('expenditur', 0.043798342)\n",
            "('financi', 0.027094323)\n",
            "('govern', 0.025532175)\n",
            "('benefit', 0.01891376)\n",
            "('social', 0.01786738)\n",
            "('incom', 0.014434137)\n",
            "('compil', 0.012541703)\n",
            "('asset', 0.012540308)\n",
            "('estim', 0.012019717)\n",
            "('transact', 0.010379999)\n"
          ]
        },
        {
          "output_type": "display_data",
          "data": {
            "image/png": "[encoded data removed]",
            "text/plain": [
              "<Figure size 432x288 with 1 Axes>"
            ]
          },
          "metadata": {
            "needs_background": "light"
          }
        },
        {
          "output_type": "stream",
          "name": "stdout",
          "text": [
            "\n",
            "Topic id:  12\n",
            "('region', 0.061977576)\n",
            "('urban', 0.04736847)\n",
            "('typolog', 0.02361715)\n",
            "('commut', 0.023057371)\n",
            "('rural', 0.020827005)\n",
            "('classif', 0.017400146)\n",
            "('inhabit', 0.01534677)\n",
            "('territori', 0.014199993)\n",
            "('cluster', 0.013351773)\n",
            "('centr', 0.013046434)\n"
          ]
        },
        {
          "output_type": "display_data",
          "data": {
            "image/png": "[encoded data removed]",
            "text/plain": [
              "<Figure size 432x288 with 1 Axes>"
            ]
          },
          "metadata": {
            "needs_background": "light"
          }
        },
        {
          "output_type": "stream",
          "name": "stdout",
          "text": [
            "\n",
            "Topic id:  13\n",
            "('household', 0.07169752)\n",
            "('incom', 0.066368476)\n",
            "('poverti', 0.03967353)\n",
            "('social', 0.02469774)\n",
            "('person', 0.020977058)\n",
            "('variabl', 0.017470758)\n",
            "('calcul', 0.0174323)\n",
            "('refer', 0.01717473)\n",
            "('dimens', 0.016049465)\n",
            "('depriv', 0.013771899)\n"
          ]
        },
        {
          "output_type": "display_data",
          "data": {
            "image/png": "[encoded data removed]",
            "text/plain": [
              "<Figure size 432x288 with 1 Axes>"
            ]
          },
          "metadata": {
            "needs_background": "light"
          }
        },
        {
          "output_type": "stream",
          "name": "stdout",
          "text": [
            "\n",
            "Topic id:  14\n",
            "('night', 0.039880905)\n",
            "('tourism', 0.03781215)\n",
            "('spent', 0.03598624)\n",
            "('water', 0.03485274)\n",
            "('tourist', 0.034464367)\n",
            "('resid', 0.026350558)\n",
            "('million', 0.024106072)\n",
            "('accommod', 0.023922237)\n",
            "('month', 0.01572548)\n",
            "('season', 0.013166939)\n"
          ]
        },
        {
          "output_type": "display_data",
          "data": {
            "image/png": "[encoded data removed]",
            "text/plain": [
              "<Figure size 432x288 with 1 Axes>"
            ]
          },
          "metadata": {
            "needs_background": "light"
          }
        },
        {
          "output_type": "stream",
          "name": "stdout",
          "text": [
            "\n",
            "Topic id:  15\n",
            "('citizen', 0.07125856)\n",
            "('foreign', 0.038122553)\n",
            "('resid', 0.034458574)\n",
            "('immigr', 0.032344136)\n",
            "('nativ', 0.029840345)\n",
            "('first', 0.025252804)\n",
            "('applic', 0.022883983)\n",
            "('migrat', 0.021870064)\n",
            "('asylum', 0.020898169)\n",
            "('citizenship', 0.016094923)\n"
          ]
        },
        {
          "output_type": "display_data",
          "data": {
            "image/png": "[encoded data removed]",
            "text/plain": [
              "<Figure size 432x288 with 1 Axes>"
            ]
          },
          "metadata": {
            "needs_background": "light"
          }
        },
        {
          "output_type": "stream",
          "name": "stdout",
          "text": [
            "\n",
            "Topic id:  16\n",
            "('decreas', 0.031356227)\n",
            "('quarter', 0.029704843)\n",
            "('luxembourg', 0.020830467)\n",
            "('greec', 0.02072306)\n",
            "('cypru', 0.019795332)\n",
            "('ireland', 0.019037906)\n",
            "('romania', 0.018473813)\n",
            "('germani', 0.018139925)\n",
            "('spain', 0.017721882)\n",
            "('franc', 0.017711096)\n"
          ]
        },
        {
          "output_type": "display_data",
          "data": {
            "image/png": "[encoded data removed]",
            "text/plain": [
              "<Figure size 432x288 with 1 Axes>"
            ]
          },
          "metadata": {
            "needs_background": "light"
          }
        },
        {
          "output_type": "stream",
          "name": "stdout",
          "text": [
            "\n",
            "Topic id:  17\n",
            "('price', 0.13529398)\n",
            "('index', 0.024078077)\n",
            "('consum', 0.021975467)\n",
            "('volum', 0.019544184)\n",
            "('household', 0.018014438)\n",
            "('ukrain', 0.016473213)\n",
            "('market', 0.014279096)\n",
            "('weight', 0.013994932)\n",
            "('belaru', 0.01320178)\n",
            "('capita', 0.012699329)\n"
          ]
        },
        {
          "output_type": "display_data",
          "data": {
            "image/png": "[encoded data removed]",
            "text/plain": [
              "<Figure size 432x288 with 1 Axes>"
            ]
          },
          "metadata": {
            "needs_background": "light"
          }
        },
        {
          "output_type": "stream",
          "name": "stdout",
          "text": [
            "\n",
            "Topic id:  18\n",
            "('health', 0.060066998)\n",
            "('death', 0.04672364)\n",
            "('inhabit', 0.031039929)\n",
            "('women', 0.023642989)\n",
            "('diseas', 0.01979846)\n",
            "('peopl', 0.01619867)\n",
            "('cancer', 0.01597696)\n",
            "('expect', 0.015899928)\n",
            "('patient', 0.014222563)\n",
            "('medic', 0.014187291)\n"
          ]
        },
        {
          "output_type": "display_data",
          "data": {
            "image/png": "[encoded data removed]",
            "text/plain": [
              "<Figure size 432x288 with 1 Axes>"
            ]
          },
          "metadata": {
            "needs_background": "light"
          }
        },
        {
          "output_type": "stream",
          "name": "stdout",
          "text": [
            "\n",
            "Topic id:  19\n",
            "('peopl', 0.062612966)\n",
            "('young', 0.02897624)\n",
            "('point', 0.02685494)\n",
            "('women', 0.01867906)\n",
            "('activ', 0.017864266)\n",
            "('children', 0.017487643)\n",
            "('proport', 0.017265024)\n",
            "('percentag', 0.016305784)\n",
            "('older', 0.015678937)\n",
            "('particip', 0.01464904)\n"
          ]
        },
        {
          "output_type": "display_data",
          "data": {
            "image/png": "[encoded data removed]",
            "text/plain": [
              "<Figure size 432x288 with 1 Axes>"
            ]
          },
          "metadata": {
            "needs_background": "light"
          }
        },
        {
          "output_type": "stream",
          "name": "stdout",
          "text": [
            "\n",
            "Topic id:  20\n",
            "('servic', 0.07838266)\n",
            "('industri', 0.044473562)\n",
            "('activ', 0.032636806)\n",
            "('trade', 0.022670738)\n",
            "('construct', 0.017948532)\n",
            "('suppli', 0.016260015)\n",
            "('produc', 0.013149926)\n",
            "('manufactur', 0.0124191465)\n",
            "('transport', 0.0120689515)\n",
            "('effect', 0.011633456)\n"
          ]
        },
        {
          "output_type": "display_data",
          "data": {
            "image/png": "[encoded data removed]",
            "text/plain": [
              "<Figure size 432x288 with 1 Axes>"
            ]
          },
          "metadata": {
            "needs_background": "light"
          }
        }
      ],
      "source": [
        "\n",
        "   \n",
        "for topic_id in range(num_topics):\n",
        "    print('\\nTopic id: ',topic_id+1 )\n",
        "    top_words = [(a,b) for (a,b) in sorted(lda_model.show_topic(topic_id,topn=10),key=lambda x: x[1], reverse=True)]\n",
        "    for t in range(len(top_words)):\n",
        "        print(top_words[t])\n",
        "    y_axis = [t[0] for t in top_words]\n",
        "    x_axis = [t[1] for t in top_words] \n",
        "    \n",
        "    plt.barh(y_axis,x_axis)\n",
        "    plt.gca().invert_yaxis()\n",
        "    plt.title('title name')\n",
        "    plt.ylabel('y axis name')\n",
        "    plt.xlabel('x axis name')\n",
        "    plt.title('Topic id: '+str(topic_id+1))\n",
        "    plt.show()        \n",
        "\n",
        "\n"
      ]
    },
    {
      "cell_type": "markdown",
      "metadata": {
        "id": "werzYgTGcekL"
      },
      "source": [
        "We end-up with the following interpretations of the 20 topics. Together with the topic names, we also give the coherence scores by topic. We can see that topic 16 \"Job vacancy statistics\" has the highest coherence (0.84) while topic 17 \"Price indices in enlargement countries\" has \n",
        "the lowest (0.26).   \n"
      ]
    },
    {
      "cell_type": "code",
      "execution_count": 24,
      "metadata": {
        "id": "gRxRIY6NcekL",
        "outputId": "efd0e9cd-d0d6-4cad-b3bb-ba2f6a1ba8f3",
        "colab": {
          "base_uri": "https://localhost:8080/",
          "height": 642
        }
      },
      "outputs": [
        {
          "output_type": "stream",
          "name": "stdout",
          "text": [
            "Topic  1. Coherence: 0.729954  EU exports to the world.  \n",
            "Topic  2. Coherence: 0.443993  Transport freights and passengers.  \n",
            "Topic  3. Coherence: 0.538881  Candidate countries.  \n",
            "Topic  4. Coherence: 0.434430  Regional population statistics.  \n",
            "Topic  5. Coherence: 0.751957  Energy production and consumption.  \n",
            "Topic  6. Coherence: 0.658058  Agricultural statistics.  \n",
            "Topic  7. Coherence: 0.634308  Persons and employment.  \n",
            "Topic  8. Coherence: 0.799916  Enlargement policies.  \n",
            "Topic  9. Coherence: 0.563203  Enterprises and economic activities.  \n",
            "Topic 10. Coherence: 0.659394  Chemical emissions, pollution and the environment.  \n",
            "Topic 11. Coherence: 0.670774  Government expenditure and social benefits.  \n",
            "Topic 12. Coherence: 0.759413  Regions, territories and urbanization.  \n",
            "Topic 13. Coherence: 0.695301  Households incomes and poverty.  \n",
            "Topic 14. Coherence: 0.491454  Tourist spending and nights stay.  \n",
            "Topic 15. Coherence: 0.521857  Immigrants and asylum grants.  \n",
            "Topic 16. Coherence: 0.844608  Job vacancy statistics.  \n",
            "Topic 17. Coherence: 0.260819  Price indices in enlargement countries.  \n",
            "Topic 18. Coherence: 0.549534  Health, morbidity and mortality.  \n",
            "Topic 19. Coherence: 0.582790  Participation in activities.  \n",
            "Topic 20. Coherence: 0.585423  Production in economic sectors.  \n"
          ]
        },
        {
          "output_type": "display_data",
          "data": {
            "image/png": "[encoded data removed]",
            "text/plain": [
              "<Figure size 432x288 with 1 Axes>"
            ]
          },
          "metadata": {
            "needs_background": "light"
          }
        }
      ],
      "source": [
        "topic_names = [\n",
        "'EU exports to the world',\n",
        "'Transport freights and passengers',\n",
        "'Candidate countries',\n",
        "'Regional population statistics',\n",
        "'Energy production and consumption',\n",
        "'Agricultural statistics',\n",
        "'Persons and employment',\n",
        "'Enlargement policies',\n",
        "'Enterprises and economic activities',\n",
        "'Chemical emissions, pollution and the environment',\n",
        "'Government expenditure and social benefits', \n",
        "'Regions, territories and urbanization',\n",
        "'Households incomes and poverty',\n",
        "'Tourist spending and nights stay',\n",
        "'Immigrants and asylum grants', \n",
        "'Job vacancy statistics',\n",
        "'Price indices in enlargement countries',\n",
        "'Health, morbidity and mortality',\n",
        "'Participation in activities',\n",
        "'Production in economic sectors']\n",
        "\n",
        "coh_topics = coherence_model_lda.get_coherence_per_topic(segmented_topics=None,with_std=False, with_support=False)\n",
        "\n",
        "for (i,tn) in enumerate(topic_names):\n",
        "    print('Topic {0:2d}. Coherence: {1:6f}  {2:s}.  '.format(i+1,coh_topics[i],tn))\n",
        "\n",
        "fig, ax = plt.subplots()\n",
        "x=np.arange(num_topics)+1\n",
        "plt.bar(x=x,height=coh_topics)\n",
        "plt.xlabel(\"Topic\")\n",
        "plt.ylabel(\"Coherence\")\n",
        "plt.title(\"Coherence by topic\")\n",
        "ax.set_xticks(x)\n",
        "plt.show()\n",
        "    "
      ]
    },
    {
      "cell_type": "markdown",
      "metadata": {
        "id": "ppBKh0Z1cekM"
      },
      "source": [
        "Below we show the dataframe with the most representative document for each topic, completed with the topic intepretations. Many of the "
      ]
    },
    {
      "cell_type": "code",
      "execution_count": 25,
      "metadata": {
        "id": "J7caQH9RcekM",
        "outputId": "fec6a851-b483-4981-f330-75d2e59ba4b0",
        "colab": {
          "base_uri": "https://localhost:8080/",
          "height": 1000
        }
      },
      "outputs": [
        {
          "output_type": "execute_result",
          "data": {
            "text/html": [
              "\n",
              "  <div id=\"df-be3286b1-c897-443f-ac39-cb76fa7f9924\">\n",
              "    <div class=\"colab-df-container\">\n",
              "      <div>\n",
              "<style scoped>\n",
              "    .dataframe tbody tr th:only-of-type {\n",
              "        vertical-align: middle;\n",
              "    }\n",
              "\n",
              "    .dataframe tbody tr th {\n",
              "        vertical-align: top;\n",
              "    }\n",
              "\n",
              "    .dataframe thead th {\n",
              "        text-align: right;\n",
              "    }\n",
              "</style>\n",
              "<table border=\"1\" class=\"dataframe\">\n",
              "  <thead>\n",
              "    <tr style=\"text-align: right;\">\n",
              "      <th></th>\n",
              "      <th>Topic_Num</th>\n",
              "      <th>Topic interpretation</th>\n",
              "      <th>Topic Keywords</th>\n",
              "      <th>Most representative article</th>\n",
              "      <th>Topic_Perc_Contrib</th>\n",
              "    </tr>\n",
              "  </thead>\n",
              "  <tbody>\n",
              "    <tr>\n",
              "      <th>0</th>\n",
              "      <td>0</td>\n",
              "      <td>EU exports to the world</td>\n",
              "      <td>export, billion, trade, china, partner, world,...</td>\n",
              "      <td>South Korea-EU - international trade in goods ...</td>\n",
              "      <td>0.9974</td>\n",
              "    </tr>\n",
              "    <tr>\n",
              "      <th>1</th>\n",
              "      <td>1</td>\n",
              "      <td>Transport freights and passengers</td>\n",
              "      <td>transport, accid, internet, passeng, fatal, fr...</td>\n",
              "      <td>Inland waterway transport statistics</td>\n",
              "      <td>0.8366</td>\n",
              "    </tr>\n",
              "    <tr>\n",
              "      <th>2</th>\n",
              "      <td>2</td>\n",
              "      <td>Candidate countries</td>\n",
              "      <td>candid, permit, turkei, potenti, serbia, north...</td>\n",
              "      <td>Enlargement countries - population statistics</td>\n",
              "      <td>0.7924</td>\n",
              "    </tr>\n",
              "    <tr>\n",
              "      <th>3</th>\n",
              "      <td>3</td>\n",
              "      <td>Regional population statistics</td>\n",
              "      <td>region, million, project, franc, itali, german...</td>\n",
              "      <td>Archive:Statistics on regional population proj...</td>\n",
              "      <td>0.9991</td>\n",
              "    </tr>\n",
              "    <tr>\n",
              "      <th>4</th>\n",
              "      <td>4</td>\n",
              "      <td>Energy production and consumption</td>\n",
              "      <td>energi, consumpt, electr, renew, final, primar...</td>\n",
              "      <td>Calculation methodologies for the share of ren...</td>\n",
              "      <td>0.9531</td>\n",
              "    </tr>\n",
              "    <tr>\n",
              "      <th>5</th>\n",
              "      <td>5</td>\n",
              "      <td>Agricultural statistics</td>\n",
              "      <td>survei, agricultur, regist, common, sourc, sam...</td>\n",
              "      <td>Merging statistics and geospatial information,...</td>\n",
              "      <td>0.9687</td>\n",
              "    </tr>\n",
              "    <tr>\n",
              "      <th>6</th>\n",
              "      <td>6</td>\n",
              "      <td>Persons and employment</td>\n",
              "      <td>employ, labour, unemploy, emploi, person, empl...</td>\n",
              "      <td>Learning mobility statistics</td>\n",
              "      <td>0.7360</td>\n",
              "    </tr>\n",
              "    <tr>\n",
              "      <th>7</th>\n",
              "      <td>7</td>\n",
              "      <td>Enlargement policies</td>\n",
              "      <td>system, intern, polici, qualiti, eurostat, imp...</td>\n",
              "      <td>Enlargement policy and the acquis in statistics</td>\n",
              "      <td>0.9945</td>\n",
              "    </tr>\n",
              "    <tr>\n",
              "      <th>8</th>\n",
              "      <td>8</td>\n",
              "      <td>Enterprises and economic activities</td>\n",
              "      <td>enterpris, sector, activ, economi, servic, emp...</td>\n",
              "      <td>Information and communication service statisti...</td>\n",
              "      <td>0.9446</td>\n",
              "    </tr>\n",
              "    <tr>\n",
              "      <th>9</th>\n",
              "      <td>9</td>\n",
              "      <td>Chemical emissions, pollution and the environment</td>\n",
              "      <td>emiss, environment, materi, million, pollut, c...</td>\n",
              "      <td>Chemicals production and consumption statistics</td>\n",
              "      <td>0.8415</td>\n",
              "    </tr>\n",
              "    <tr>\n",
              "      <th>10</th>\n",
              "      <td>10</td>\n",
              "      <td>Government expenditure and social benefits</td>\n",
              "      <td>expenditur, financi, govern, benefit, social, ...</td>\n",
              "      <td>Integrated government finance statistics prese...</td>\n",
              "      <td>0.9201</td>\n",
              "    </tr>\n",
              "    <tr>\n",
              "      <th>11</th>\n",
              "      <td>11</td>\n",
              "      <td>Regions, territories and urbanization</td>\n",
              "      <td>region, urban, typolog, commut, rural, classif...</td>\n",
              "      <td>Chapter 3</td>\n",
              "      <td>0.9993</td>\n",
              "    </tr>\n",
              "    <tr>\n",
              "      <th>12</th>\n",
              "      <td>12</td>\n",
              "      <td>Households incomes and poverty</td>\n",
              "      <td>household, incom, poverti, social, person, var...</td>\n",
              "      <td>EU statistics on income and living conditions ...</td>\n",
              "      <td>0.9994</td>\n",
              "    </tr>\n",
              "    <tr>\n",
              "      <th>13</th>\n",
              "      <td>13</td>\n",
              "      <td>Tourist spending and nights stay</td>\n",
              "      <td>night, tourism, spent, water, tourist, resid, ...</td>\n",
              "      <td>Tourism in the EU - what a normal summer seaso...</td>\n",
              "      <td>0.9450</td>\n",
              "    </tr>\n",
              "    <tr>\n",
              "      <th>14</th>\n",
              "      <td>14</td>\n",
              "      <td>Immigrants and asylum grants</td>\n",
              "      <td>citizen, foreign, resid, immigr, nativ, first,...</td>\n",
              "      <td>First and second-generation immigrants ? obsta...</td>\n",
              "      <td>0.8705</td>\n",
              "    </tr>\n",
              "    <tr>\n",
              "      <th>15</th>\n",
              "      <td>15</td>\n",
              "      <td>Job vacancy statistics</td>\n",
              "      <td>decreas, quarter, luxembourg, greec, cypru, ir...</td>\n",
              "      <td>Job vacancy statistics</td>\n",
              "      <td>0.9173</td>\n",
              "    </tr>\n",
              "    <tr>\n",
              "      <th>16</th>\n",
              "      <td>16</td>\n",
              "      <td>Price indices in enlargement countries</td>\n",
              "      <td>price, index, consum, volum, household, ukrain...</td>\n",
              "      <td>Comparative price levels for investment</td>\n",
              "      <td>0.8627</td>\n",
              "    </tr>\n",
              "    <tr>\n",
              "      <th>17</th>\n",
              "      <td>17</td>\n",
              "      <td>Health, morbidity and mortality</td>\n",
              "      <td>health, death, inhabit, women, diseas, peopl, ...</td>\n",
              "      <td>Causes of death statistics - people over 65</td>\n",
              "      <td>0.9960</td>\n",
              "    </tr>\n",
              "    <tr>\n",
              "      <th>18</th>\n",
              "      <td>18</td>\n",
              "      <td>Participation in activities</td>\n",
              "      <td>peopl, young, point, women, activ, children, p...</td>\n",
              "      <td>Culture statistics - cultural participation</td>\n",
              "      <td>0.9949</td>\n",
              "    </tr>\n",
              "    <tr>\n",
              "      <th>19</th>\n",
              "      <td>19</td>\n",
              "      <td>Production in economic sectors</td>\n",
              "      <td>servic, industri, activ, trade, construct, sup...</td>\n",
              "      <td>Services production (volume) index overview</td>\n",
              "      <td>0.9370</td>\n",
              "    </tr>\n",
              "  </tbody>\n",
              "</table>\n",
              "</div>\n",
              "      <button class=\"colab-df-convert\" onclick=\"convertToInteractive('df-be3286b1-c897-443f-ac39-cb76fa7f9924')\"\n",
              "              title=\"Convert this dataframe to an interactive table.\"\n",
              "              style=\"display:none;\">\n",
              "        \n",
              "  <svg xmlns=\"http://www.w3.org/2000/svg\" height=\"24px\"viewBox=\"0 0 24 24\"\n",
              "       width=\"24px\">\n",
              "    <path d=\"M0 0h24v24H0V0z\" fill=\"none\"/>\n",
              "    <path d=\"M18.56 5.44l.94 2.06.94-2.06 2.06-.94-2.06-.94-.94-2.06-.94 2.06-2.06.94zm-11 1L8.5 8.5l.94-2.06 2.06-.94-2.06-.94L8.5 2.5l-.94 2.06-2.06.94zm10 10l.94 2.06.94-2.06 2.06-.94-2.06-.94-.94-2.06-.94 2.06-2.06.94z\"/><path d=\"M17.41 7.96l-1.37-1.37c-.4-.4-.92-.59-1.43-.59-.52 0-1.04.2-1.43.59L10.3 9.45l-7.72 7.72c-.78.78-.78 2.05 0 2.83L4 21.41c.39.39.9.59 1.41.59.51 0 1.02-.2 1.41-.59l7.78-7.78 2.81-2.81c.8-.78.8-2.07 0-2.86zM5.41 20L4 18.59l7.72-7.72 1.47 1.35L5.41 20z\"/>\n",
              "  </svg>\n",
              "      </button>\n",
              "      \n",
              "  <style>\n",
              "    .colab-df-container {\n",
              "      display:flex;\n",
              "      flex-wrap:wrap;\n",
              "      gap: 12px;\n",
              "    }\n",
              "\n",
              "    .colab-df-convert {\n",
              "      background-color: #E8F0FE;\n",
              "      border: none;\n",
              "      border-radius: 50%;\n",
              "      cursor: pointer;\n",
              "      display: none;\n",
              "      fill: #1967D2;\n",
              "      height: 32px;\n",
              "      padding: 0 0 0 0;\n",
              "      width: 32px;\n",
              "    }\n",
              "\n",
              "    .colab-df-convert:hover {\n",
              "      background-color: #E2EBFA;\n",
              "      box-shadow: 0px 1px 2px rgba(60, 64, 67, 0.3), 0px 1px 3px 1px rgba(60, 64, 67, 0.15);\n",
              "      fill: #174EA6;\n",
              "    }\n",
              "\n",
              "    [theme=dark] .colab-df-convert {\n",
              "      background-color: #3B4455;\n",
              "      fill: #D2E3FC;\n",
              "    }\n",
              "\n",
              "    [theme=dark] .colab-df-convert:hover {\n",
              "      background-color: #434B5C;\n",
              "      box-shadow: 0px 1px 3px 1px rgba(0, 0, 0, 0.15);\n",
              "      filter: drop-shadow(0px 1px 2px rgba(0, 0, 0, 0.3));\n",
              "      fill: #FFFFFF;\n",
              "    }\n",
              "  </style>\n",
              "\n",
              "      <script>\n",
              "        const buttonEl =\n",
              "          document.querySelector('#df-be3286b1-c897-443f-ac39-cb76fa7f9924 button.colab-df-convert');\n",
              "        buttonEl.style.display =\n",
              "          google.colab.kernel.accessAllowed ? 'block' : 'none';\n",
              "\n",
              "        async function convertToInteractive(key) {\n",
              "          const element = document.querySelector('#df-be3286b1-c897-443f-ac39-cb76fa7f9924');\n",
              "          const dataTable =\n",
              "            await google.colab.kernel.invokeFunction('convertToInteractive',\n",
              "                                                     [key], {});\n",
              "          if (!dataTable) return;\n",
              "\n",
              "          const docLinkHtml = 'Like what you see? Visit the ' +\n",
              "            '<a target=\"_blank\" href=https://colab.research.google.com/notebooks/data_table.ipynb>data table notebook</a>'\n",
              "            + ' to learn more about interactive tables.';\n",
              "          element.innerHTML = '';\n",
              "          dataTable['output_type'] = 'display_data';\n",
              "          await google.colab.output.renderOutput(dataTable, element);\n",
              "          const docLink = document.createElement('div');\n",
              "          docLink.innerHTML = docLinkHtml;\n",
              "          element.appendChild(docLink);\n",
              "        }\n",
              "      </script>\n",
              "    </div>\n",
              "  </div>\n",
              "  "
            ],
            "text/plain": [
              "    Topic_Num  ... Topic_Perc_Contrib\n",
              "0           0  ...             0.9974\n",
              "1           1  ...             0.8366\n",
              "2           2  ...             0.7924\n",
              "3           3  ...             0.9991\n",
              "4           4  ...             0.9531\n",
              "5           5  ...             0.9687\n",
              "6           6  ...             0.7360\n",
              "7           7  ...             0.9945\n",
              "8           8  ...             0.9446\n",
              "9           9  ...             0.8415\n",
              "10         10  ...             0.9201\n",
              "11         11  ...             0.9993\n",
              "12         12  ...             0.9994\n",
              "13         13  ...             0.9450\n",
              "14         14  ...             0.8705\n",
              "15         15  ...             0.9173\n",
              "16         16  ...             0.8627\n",
              "17         17  ...             0.9960\n",
              "18         18  ...             0.9949\n",
              "19         19  ...             0.9370\n",
              "\n",
              "[20 rows x 5 columns]"
            ]
          },
          "metadata": {},
          "execution_count": 25
        }
      ],
      "source": [
        "most_repr_document = sent_topics_sorteddf_mallet\n",
        "most_repr_document = pd.concat([pd.Series(topic_names,name='Topic interpretation'), most_repr_document],axis=1)\n",
        "most_repr_document.rename(columns={'Text title':'Most representative article'},inplace=True) \n",
        "most_repr_document = most_repr_document[['Topic_Num','Topic interpretation','Topic Keywords','Most representative article','Topic_Perc_Contrib']]\n",
        "most_repr_document"
      ]
    },
    {
      "cell_type": "markdown",
      "metadata": {
        "id": "rWyAAlnGcekM"
      },
      "source": [
        "### 12. Outputs.\n",
        "***\n",
        "\n",
        "A first output in dataframe _topics_terms_df_ is for inspection only: a 20 x 2243 matrix with the distribution of terms per topic. The row sums of this matrix are ones. "
      ]
    },
    {
      "cell_type": "code",
      "execution_count": 26,
      "metadata": {
        "id": "3st9yNeScekM",
        "outputId": "120cb3e4-ff5b-482d-c5d3-8298ecde1a80",
        "colab": {
          "base_uri": "https://localhost:8080/"
        }
      },
      "outputs": [
        {
          "output_type": "stream",
          "name": "stdout",
          "text": [
            "(20, 2243)\n",
            "                                           Topic Name  ...        duplic\n",
            "0                             EU exports to the world  ...  2.075591e-06\n",
            "1                   Transport freights and passengers  ...  3.450599e-06\n",
            "2                                 Candidate countries  ...  6.450106e-06\n",
            "3                      Regional population statistics  ...  2.290256e-06\n",
            "4                   Energy production and consumption  ...  3.514600e-06\n",
            "5                             Agricultural statistics  ...  4.234247e-04\n",
            "6                              Persons and employment  ...  2.356868e-06\n",
            "7                                Enlargement policies  ...  9.702129e-07\n",
            "8                 Enterprises and economic activities  ...  2.941502e-06\n",
            "9   Chemical emissions, pollution and the environment  ...  4.190968e-06\n",
            "10         Government expenditure and social benefits  ...  1.298245e-06\n",
            "11              Regions, territories and urbanization  ...  3.420409e-06\n",
            "12                     Households incomes and poverty  ...  1.516579e-06\n",
            "13                   Tourist spending and nights stay  ...  4.620557e-06\n",
            "14                       Immigrants and asylum grants  ...  3.214609e-06\n",
            "15                             Job vacancy statistics  ...  1.187179e-06\n",
            "16             Price indices in enlargement countries  ...  4.887607e-06\n",
            "17                    Health, morbidity and mortality  ...  2.282097e-06\n",
            "18                        Participation in activities  ...  1.007784e-06\n",
            "19                     Production in economic sectors  ...  2.030419e-06\n",
            "\n",
            "[20 rows x 2244 columns]\n"
          ]
        }
      ],
      "source": [
        "\n",
        "topics_terms_mat = lda_model.get_topics()\n",
        "print(topics_terms_mat.shape)\n",
        "topics_terms_df = pd.DataFrame()\n",
        "for topic_id in range(num_topics):\n",
        "    topics_terms_df = topics_terms_df.append(pd.Series(topics_terms_mat[topic_id,:].transpose()), ignore_index=True)           \n",
        "topics_terms_df.rename(columns=id2word, inplace=True)\n",
        "topics_terms_df.insert(0,'Topic Name',topic_names)\n",
        "print(topics_terms_df)\n",
        "topics_terms_df.to_csv('topics_terms_df_SE.write_csv',sep=';')"
      ]
    },
    {
      "cell_type": "code",
      "execution_count": 27,
      "metadata": {
        "id": "7hHu3onscekN",
        "outputId": "8bdf9f81-2523-43e0-e118-69d8236ebf5f",
        "colab": {
          "base_uri": "https://localhost:8080/"
        }
      },
      "outputs": [
        {
          "output_type": "execute_result",
          "data": {
            "text/plain": [
              "array([0.99999994, 1.0000001 , 1.        , 1.        , 1.        ,\n",
              "       1.        , 1.        , 1.        , 1.        , 1.        ,\n",
              "       1.        , 0.9999999 , 0.99999994, 0.9999999 , 1.        ,\n",
              "       0.9999999 , 0.9999999 , 1.        , 1.        , 1.        ],\n",
              "      dtype=float32)"
            ]
          },
          "metadata": {},
          "execution_count": 27
        }
      ],
      "source": [
        "import numpy as np\n",
        "np.sum(lda_model.get_topics(),axis=1)"
      ]
    },
    {
      "cell_type": "markdown",
      "metadata": {
        "id": "pVjU8xm0cekN"
      },
      "source": [
        "The next output is for **insertion into the database**. It is the previous matrix in (row,column,value) format, in dataframe _tm_values_, exported to file **_tm_values.csv_** (delimiter=semicolon). All indices are zero-based."
      ]
    },
    {
      "cell_type": "code",
      "execution_count": 28,
      "metadata": {
        "scrolled": true,
        "id": "tc-PoMyycekN",
        "outputId": "522784f6-9aed-4522-f2c1-b362152e00e1",
        "colab": {
          "base_uri": "https://localhost:8080/"
        }
      },
      "outputs": [
        {
          "output_type": "stream",
          "name": "stdout",
          "text": [
            "      Topic id Term id Probability\n",
            "0            0       0  0.00018527\n",
            "1            0       1  0.00132609\n",
            "2            0       2  0.00000208\n",
            "3            0       3  0.00000208\n",
            "4            0       4  0.00000220\n",
            "...        ...     ...         ...\n",
            "44855       19    2238  0.00000203\n",
            "44856       19    2239  0.00000203\n",
            "44857       19    2240  0.00007793\n",
            "44858       19    2241  0.00000203\n",
            "44859       19    2242  0.00000203\n",
            "\n",
            "[44860 rows x 3 columns]\n"
          ]
        }
      ],
      "source": [
        "pd.options.display.float_format = '{:.8f}'.format\n",
        "tm_values = pd.DataFrame(columns=['Topic id','Term id','Probability'])\n",
        "count = -1\n",
        "for i in range(topics_terms_mat.shape[0]):\n",
        "    for j in range(topics_terms_mat.shape[1]):\n",
        "        count += 1\n",
        "        tm_values.loc[count,'Topic id']=i\n",
        "        tm_values.loc[count,'Term id']=j\n",
        "        tm_values.loc[count,'Probability']=topics_terms_mat[i,j]\n",
        "\n",
        "print(tm_values)\n",
        "#pd.options.display.float_format = None\n",
        "tm_values.to_csv('tm_values_SE.csv',sep=';',index=False)"
      ]
    },
    {
      "cell_type": "markdown",
      "metadata": {
        "id": "zfdZk277cekN"
      },
      "source": [
        "Dataframe _tm_topics_, exported into file **_tm_topics.csv_** (delimiter=semicolon) links the _tm_values_ with the topics information, with the zero-based _Topic id_ key. "
      ]
    },
    {
      "cell_type": "code",
      "execution_count": 29,
      "metadata": {
        "id": "DOSuiqYZcekN",
        "outputId": "7c319998-ec81-45c9-8dc1-09c8d7c86642",
        "colab": {
          "base_uri": "https://localhost:8080/"
        }
      },
      "outputs": [
        {
          "output_type": "stream",
          "name": "stdout",
          "text": [
            "    Topic id  ...                                         Topic name\n",
            "0          0  ...                            EU exports to the world\n",
            "1          1  ...                  Transport freights and passengers\n",
            "2          2  ...                                Candidate countries\n",
            "3          3  ...                     Regional population statistics\n",
            "4          4  ...                  Energy production and consumption\n",
            "5          5  ...                            Agricultural statistics\n",
            "6          6  ...                             Persons and employment\n",
            "7          7  ...                               Enlargement policies\n",
            "8          8  ...                Enterprises and economic activities\n",
            "9          9  ...  Chemical emissions, pollution and the environment\n",
            "10        10  ...         Government expenditure and social benefits\n",
            "11        11  ...              Regions, territories and urbanization\n",
            "12        12  ...                     Households incomes and poverty\n",
            "13        13  ...                   Tourist spending and nights stay\n",
            "14        14  ...                       Immigrants and asylum grants\n",
            "15        15  ...                             Job vacancy statistics\n",
            "16        16  ...             Price indices in enlargement countries\n",
            "17        17  ...                    Health, morbidity and mortality\n",
            "18        18  ...                        Participation in activities\n",
            "19        19  ...                     Production in economic sectors\n",
            "\n",
            "[20 rows x 3 columns]\n"
          ]
        }
      ],
      "source": [
        "tm_topics = sent_topics_sorteddf_mallet.copy()\n",
        "tm_topics.rename(columns={'Topic_Num':'Topic id'},inplace=True)\n",
        "tm_topics.drop(columns=['Topic_Perc_Contrib','Text title'],inplace=True)\n",
        "tm_topics = pd.concat([tm_topics, pd.Series(topic_names)],ignore_index=True,axis=1)\n",
        "tm_topics.columns = ['Topic id', 'Topic keywords', 'Topic name']\n",
        "print(tm_topics)\n",
        "tm_topics.to_csv('tm_topics_SE.csv',sep=';',index=False)"
      ]
    },
    {
      "cell_type": "markdown",
      "metadata": {
        "id": "SgijZ9dOcekO"
      },
      "source": [
        "Similarly, dataframe _tm_terms_, exported into file **_tm_terms.csv_** (delimiter=semicolon) which links the _tm_values_ with the terms information, with the zero-based _Term id_ key. "
      ]
    },
    {
      "cell_type": "code",
      "execution_count": 30,
      "metadata": {
        "id": "SQLdEOq7cekO",
        "outputId": "e8ecba17-5561-4736-a956-915039dccaeb",
        "colab": {
          "base_uri": "https://localhost:8080/"
        }
      },
      "outputs": [
        {
          "output_type": "stream",
          "name": "stdout",
          "text": [
            "      Term id Term name\n",
            "0           0    absenc\n",
            "1           1   absolut\n",
            "2           2     accid\n",
            "3           3    accord\n",
            "4           4    across\n",
            "...       ...       ...\n",
            "2238     2238    vandal\n",
            "2239     2239   feasibl\n",
            "2240     2240    portal\n",
            "2241     2241  registri\n",
            "2242     2242    duplic\n",
            "\n",
            "[2243 rows x 2 columns]\n"
          ]
        }
      ],
      "source": [
        "tm_terms = pd.DataFrame([id2word[t_id] for t_id in id2word],columns=['Term name'])\n",
        "tm_terms.insert(0,value=range(len(id2word)),column='Term id') \n",
        "print(tm_terms)\n",
        "tm_terms.to_csv('tm_terms_SE.csv',sep=';',index=False)"
      ]
    }
  ],
  "metadata": {
    "kernelspec": {
      "display_name": "Python 3 (ipykernel)",
      "language": "python",
      "name": "python3"
    },
    "language_info": {
      "codemirror_mode": {
        "name": "ipython",
        "version": 3
      },
      "file_extension": ".py",
      "mimetype": "text/x-python",
      "name": "python",
      "nbconvert_exporter": "python",
      "pygments_lexer": "ipython3",
      "version": "3.9.7"
    },
    "colab": {
      "name": "GC_Topic Modelling with Gensim_v6c_SE_rev_Jan2022.ipynb",
      "provenance": [],
      "collapsed_sections": []
    }
  },
  "nbformat": 4,
  "nbformat_minor": 0
}