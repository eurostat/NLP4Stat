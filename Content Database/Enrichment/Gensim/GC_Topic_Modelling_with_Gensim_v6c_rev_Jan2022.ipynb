{
  "cells": [
    {
      "cell_type": "markdown",
      "metadata": {
        "id": "CLP0NO1K4OlG"
      },
      "source": [
        "# Topic modelling with Gensim : the LDA algorithm\n",
        "\n",
        "LDA is a generative statistical model that allows sets of observations to be explained by unobserved groups that explain why some parts of the data are similar.\n",
        "\n",
        "### Revised (January 2022) to read all data from the database\n",
        "\n",
        "### Installation instructions\n",
        "\n",
        "*    This is a Google Colab notebook. You must have a Google account with a Google Drive to store/ load file grid.xlsx. This is not really needed in the algorithm and only serves to show some grid search iterations.\n",
        "\n",
        "*    Download the notebook from its location in GitHub and allow the code to access your Google Drive\n",
        "\n",
        "*   Launch the notebook and put your own credentials in the pyodbc.connect() call in the chunk with title \"Connect to Virtuoso database\"\n",
        "\n",
        "\n",
        "\n"
      ]
    },
    {
      "cell_type": "code",
      "source": [
        "## To load grid.xlsx\n",
        "\n",
        "from google.colab import drive\n",
        "drive.mount('/content/drive')"
      ],
      "metadata": {
        "colab": {
          "base_uri": "https://localhost:8080/"
        },
        "id": "F8BFLohl6qb5",
        "outputId": "edb67bff-80dc-4efb-f93e-e1003247f628"
      },
      "execution_count": 1,
      "outputs": [
        {
          "output_type": "stream",
          "name": "stdout",
          "text": [
            "Drive already mounted at /content/drive; to attempt to forcibly remount, call drive.mount(\"/content/drive\", force_remount=True).\n"
          ]
        }
      ]
    },
    {
      "cell_type": "code",
      "source": [
        "!pip install pyodbc"
      ],
      "metadata": {
        "id": "Ju95X4_s4o8t",
        "colab": {
          "base_uri": "https://localhost:8080/"
        },
        "outputId": "1e33c7da-dc76-4e0f-cde8-e9fd737f39e1"
      },
      "execution_count": 2,
      "outputs": [
        {
          "output_type": "stream",
          "name": "stdout",
          "text": [
            "Requirement already satisfied: pyodbc in /usr/local/lib/python3.7/dist-packages (4.0.32)\n"
          ]
        }
      ]
    },
    {
      "cell_type": "code",
      "source": [
        "!apt-get install virtuoso-opensource"
      ],
      "metadata": {
        "id": "QwEQAUxk4pyQ",
        "colab": {
          "base_uri": "https://localhost:8080/"
        },
        "outputId": "2cc13eb1-ff95-400b-cb87-115240f8c20a"
      },
      "execution_count": 3,
      "outputs": [
        {
          "output_type": "stream",
          "name": "stdout",
          "text": [
            "Reading package lists... Done\n",
            "Building dependency tree       \n",
            "Reading state information... Done\n",
            "virtuoso-opensource is already the newest version (6.1.6+repack-0ubuntu9).\n",
            "The following package was automatically installed and is no longer required:\n",
            "  libnvidia-common-470\n",
            "Use 'apt autoremove' to remove it.\n",
            "0 upgraded, 0 newly installed, 0 to remove and 39 not upgraded.\n"
          ]
        }
      ]
    },
    {
      "cell_type": "code",
      "source": [
        "!pip install pyLDAvis"
      ],
      "metadata": {
        "colab": {
          "base_uri": "https://localhost:8080/"
        },
        "id": "6fcG0OMn6CLS",
        "outputId": "fc2a2544-d142-4869-ba87-f1c5665f2861"
      },
      "execution_count": 4,
      "outputs": [
        {
          "output_type": "stream",
          "name": "stdout",
          "text": [
            "Requirement already satisfied: pyLDAvis in /usr/local/lib/python3.7/dist-packages (3.3.1)\n",
            "Requirement already satisfied: funcy in /usr/local/lib/python3.7/dist-packages (from pyLDAvis) (1.17)\n",
            "Requirement already satisfied: scipy in /usr/local/lib/python3.7/dist-packages (from pyLDAvis) (1.4.1)\n",
            "Requirement already satisfied: future in /usr/local/lib/python3.7/dist-packages (from pyLDAvis) (0.16.0)\n",
            "Requirement already satisfied: sklearn in /usr/local/lib/python3.7/dist-packages (from pyLDAvis) (0.0)\n",
            "Requirement already satisfied: gensim in /usr/local/lib/python3.7/dist-packages (from pyLDAvis) (3.6.0)\n",
            "Requirement already satisfied: scikit-learn in /usr/local/lib/python3.7/dist-packages (from pyLDAvis) (1.0.2)\n",
            "Requirement already satisfied: numexpr in /usr/local/lib/python3.7/dist-packages (from pyLDAvis) (2.8.1)\n",
            "Requirement already satisfied: numpy>=1.20.0 in /usr/local/lib/python3.7/dist-packages (from pyLDAvis) (1.21.5)\n",
            "Requirement already satisfied: jinja2 in /usr/local/lib/python3.7/dist-packages (from pyLDAvis) (2.11.3)\n",
            "Requirement already satisfied: joblib in /usr/local/lib/python3.7/dist-packages (from pyLDAvis) (1.1.0)\n",
            "Requirement already satisfied: pandas>=1.2.0 in /usr/local/lib/python3.7/dist-packages (from pyLDAvis) (1.3.5)\n",
            "Requirement already satisfied: setuptools in /usr/local/lib/python3.7/dist-packages (from pyLDAvis) (57.4.0)\n",
            "Requirement already satisfied: python-dateutil>=2.7.3 in /usr/local/lib/python3.7/dist-packages (from pandas>=1.2.0->pyLDAvis) (2.8.2)\n",
            "Requirement already satisfied: pytz>=2017.3 in /usr/local/lib/python3.7/dist-packages (from pandas>=1.2.0->pyLDAvis) (2018.9)\n",
            "Requirement already satisfied: six>=1.5 in /usr/local/lib/python3.7/dist-packages (from python-dateutil>=2.7.3->pandas>=1.2.0->pyLDAvis) (1.15.0)\n",
            "Requirement already satisfied: smart-open>=1.2.1 in /usr/local/lib/python3.7/dist-packages (from gensim->pyLDAvis) (5.2.1)\n",
            "Requirement already satisfied: MarkupSafe>=0.23 in /usr/local/lib/python3.7/dist-packages (from jinja2->pyLDAvis) (2.0.1)\n",
            "Requirement already satisfied: packaging in /usr/local/lib/python3.7/dist-packages (from numexpr->pyLDAvis) (21.3)\n",
            "Requirement already satisfied: pyparsing!=3.0.5,>=2.0.2 in /usr/local/lib/python3.7/dist-packages (from packaging->numexpr->pyLDAvis) (3.0.7)\n",
            "Requirement already satisfied: threadpoolctl>=2.0.0 in /usr/local/lib/python3.7/dist-packages (from scikit-learn->pyLDAvis) (3.1.0)\n"
          ]
        }
      ]
    },
    {
      "cell_type": "code",
      "source": [
        "import gensim\n",
        "import pandas as pd\n",
        "import numpy as np\n",
        "\n",
        "import re\n",
        "import pprint\n",
        "\n",
        "import pyLDAvis\n",
        "import pyLDAvis.gensim_models as gensimvis # don't skip this\n",
        "import matplotlib.pyplot as plt\n",
        "%matplotlib inline\n",
        "\n",
        "import logging\n",
        "logging.basicConfig(format='%(asctime)s : %(levelname)s : %(message)s', level=logging.ERROR)\n",
        "\n",
        "import warnings\n",
        "warnings.filterwarnings(\"ignore\",category=DeprecationWarning)\n",
        "\n",
        "from pprint import pprint\n",
        "\n",
        "import pyodbc"
      ],
      "metadata": {
        "colab": {
          "base_uri": "https://localhost:8080/"
        },
        "id": "cXIjoi1X52z3",
        "outputId": "860e76ee-d1bb-4e3c-f85d-c7a3dce216eb"
      },
      "execution_count": 5,
      "outputs": [
        {
          "output_type": "stream",
          "name": "stderr",
          "text": [
            "/usr/local/lib/python3.7/dist-packages/past/types/oldstr.py:5: DeprecationWarning: Using or importing the ABCs from 'collections' instead of from 'collections.abc' is deprecated since Python 3.3,and in 3.9 it will stop working\n",
            "  from collections import Iterable\n"
          ]
        }
      ]
    },
    {
      "cell_type": "markdown",
      "source": [
        "###Connect to Virtuoso database"
      ],
      "metadata": {
        "id": "BJldBSuC4xxz"
      }
    },
    {
      "cell_type": "code",
      "source": [
        "c = pyodbc.connect('DRIVER=/usr/lib/odbc/virtodbc.so;HOST=lod.csd.auth.gr:1111;UID=xxxxx;PWD=xxxxx;DATABASE=ESTAT')"
      ],
      "metadata": {
        "id": "_iB6tXVU4s-E"
      },
      "execution_count": 6,
      "outputs": []
    },
    {
      "cell_type": "code",
      "source": [
        "#set encoding\n",
        "c.setdecoding(pyodbc.SQL_CHAR, encoding='latin-1')\n",
        "c.setencoding(encoding=\"latin-1\")"
      ],
      "metadata": {
        "id": "qL5RSkOo47BL"
      },
      "execution_count": 7,
      "outputs": []
    },
    {
      "cell_type": "code",
      "source": [
        "cursor = c.cursor()"
      ],
      "metadata": {
        "id": "ZzGNZ3Kb4-Ep"
      },
      "execution_count": 8,
      "outputs": []
    },
    {
      "cell_type": "code",
      "source": [
        "def load_table(cursor,query):\n",
        "  cursor.execute(query)\n",
        "  t1 = cursor.fetchall()\n",
        "  df = pd.DataFrame.from_records(t1, columns=[x[0] for x in cursor.description])\n",
        "  return df"
      ],
      "metadata": {
        "id": "RO9qDJcq5A03"
      },
      "execution_count": 9,
      "outputs": []
    },
    {
      "cell_type": "markdown",
      "metadata": {
        "id": "64TNkhA84OlL"
      },
      "source": [
        "### Step 2. Pre-processing\n",
        "***\n",
        "#### Load Glossary articles from the database \n",
        "\n",
        "* Definitions from dat_glossary.\n",
        "* Titles from dat_link_info (with resource_information_id=1, i.e. Eurostat, see ESTAT.V1.mod_resource_information).\n",
        "* Match above on id.\n"
      ]
    },
    {
      "cell_type": "code",
      "execution_count": 10,
      "metadata": {
        "id": "J9-Fjnel4OlM",
        "outputId": "3732294a-b8e5-4afb-bf3a-3cc668dba69d",
        "colab": {
          "base_uri": "https://localhost:8080/",
          "height": 424
        }
      },
      "outputs": [
        {
          "output_type": "execute_result",
          "data": {
            "text/html": [
              "\n",
              "  <div id=\"df-f46028bd-0d3f-454e-93b8-d934b8a264ad\">\n",
              "    <div class=\"colab-df-container\">\n",
              "      <div>\n",
              "<style scoped>\n",
              "    .dataframe tbody tr th:only-of-type {\n",
              "        vertical-align: middle;\n",
              "    }\n",
              "\n",
              "    .dataframe tbody tr th {\n",
              "        vertical-align: top;\n",
              "    }\n",
              "\n",
              "    .dataframe thead th {\n",
              "        text-align: right;\n",
              "    }\n",
              "</style>\n",
              "<table border=\"1\" class=\"dataframe\">\n",
              "  <thead>\n",
              "    <tr style=\"text-align: right;\">\n",
              "      <th></th>\n",
              "      <th>id</th>\n",
              "      <th>title</th>\n",
              "      <th>definition</th>\n",
              "    </tr>\n",
              "  </thead>\n",
              "  <tbody>\n",
              "    <tr>\n",
              "      <th>0</th>\n",
              "      <td>1</td>\n",
              "      <td>Accident at work</td>\n",
              "      <td>An     accident at work    in the framework ...</td>\n",
              "    </tr>\n",
              "    <tr>\n",
              "      <th>1</th>\n",
              "      <td>5</td>\n",
              "      <td>Fatal accident at work</td>\n",
              "      <td>A     fatal accident at work    refers to an...</td>\n",
              "    </tr>\n",
              "    <tr>\n",
              "      <th>2</th>\n",
              "      <td>6</td>\n",
              "      <td>Non-fatal accident at work</td>\n",
              "      <td>A     non-fatal      accident at work     is...</td>\n",
              "    </tr>\n",
              "    <tr>\n",
              "      <th>3</th>\n",
              "      <td>8</td>\n",
              "      <td>Aggregate demand</td>\n",
              "      <td>Aggregate demand    is the total amount of ...</td>\n",
              "    </tr>\n",
              "    <tr>\n",
              "      <th>4</th>\n",
              "      <td>9</td>\n",
              "      <td>Goods and services account</td>\n",
              "      <td>The     goods and services account    shows ...</td>\n",
              "    </tr>\n",
              "    <tr>\n",
              "      <th>...</th>\n",
              "      <td>...</td>\n",
              "      <td>...</td>\n",
              "      <td>...</td>\n",
              "    </tr>\n",
              "    <tr>\n",
              "      <th>1309</th>\n",
              "      <td>2319</td>\n",
              "      <td>Actual individual consumption (AIC)</td>\n",
              "      <td>Actual individual consumption    , abbrevia...</td>\n",
              "    </tr>\n",
              "    <tr>\n",
              "      <th>1310</th>\n",
              "      <td>2321</td>\n",
              "      <td>Activity rate</td>\n",
              "      <td>Activity rate    is the percentage of     a...</td>\n",
              "    </tr>\n",
              "    <tr>\n",
              "      <th>1311</th>\n",
              "      <td>2322</td>\n",
              "      <td>Activation policies</td>\n",
              "      <td>The     activation policies    are policies ...</td>\n",
              "    </tr>\n",
              "    <tr>\n",
              "      <th>1312</th>\n",
              "      <td>2324</td>\n",
              "      <td>Active enterprises - FRIBS</td>\n",
              "      <td>&lt;Brief user-oriented definition, one or a fe...</td>\n",
              "    </tr>\n",
              "    <tr>\n",
              "      <th>1313</th>\n",
              "      <td>10554</td>\n",
              "      <td>Glossary</td>\n",
              "      <td>The Glossary contains short definitions of all...</td>\n",
              "    </tr>\n",
              "  </tbody>\n",
              "</table>\n",
              "<p>1314 rows × 3 columns</p>\n",
              "</div>\n",
              "      <button class=\"colab-df-convert\" onclick=\"convertToInteractive('df-f46028bd-0d3f-454e-93b8-d934b8a264ad')\"\n",
              "              title=\"Convert this dataframe to an interactive table.\"\n",
              "              style=\"display:none;\">\n",
              "        \n",
              "  <svg xmlns=\"http://www.w3.org/2000/svg\" height=\"24px\"viewBox=\"0 0 24 24\"\n",
              "       width=\"24px\">\n",
              "    <path d=\"M0 0h24v24H0V0z\" fill=\"none\"/>\n",
              "    <path d=\"M18.56 5.44l.94 2.06.94-2.06 2.06-.94-2.06-.94-.94-2.06-.94 2.06-2.06.94zm-11 1L8.5 8.5l.94-2.06 2.06-.94-2.06-.94L8.5 2.5l-.94 2.06-2.06.94zm10 10l.94 2.06.94-2.06 2.06-.94-2.06-.94-.94-2.06-.94 2.06-2.06.94z\"/><path d=\"M17.41 7.96l-1.37-1.37c-.4-.4-.92-.59-1.43-.59-.52 0-1.04.2-1.43.59L10.3 9.45l-7.72 7.72c-.78.78-.78 2.05 0 2.83L4 21.41c.39.39.9.59 1.41.59.51 0 1.02-.2 1.41-.59l7.78-7.78 2.81-2.81c.8-.78.8-2.07 0-2.86zM5.41 20L4 18.59l7.72-7.72 1.47 1.35L5.41 20z\"/>\n",
              "  </svg>\n",
              "      </button>\n",
              "      \n",
              "  <style>\n",
              "    .colab-df-container {\n",
              "      display:flex;\n",
              "      flex-wrap:wrap;\n",
              "      gap: 12px;\n",
              "    }\n",
              "\n",
              "    .colab-df-convert {\n",
              "      background-color: #E8F0FE;\n",
              "      border: none;\n",
              "      border-radius: 50%;\n",
              "      cursor: pointer;\n",
              "      display: none;\n",
              "      fill: #1967D2;\n",
              "      height: 32px;\n",
              "      padding: 0 0 0 0;\n",
              "      width: 32px;\n",
              "    }\n",
              "\n",
              "    .colab-df-convert:hover {\n",
              "      background-color: #E2EBFA;\n",
              "      box-shadow: 0px 1px 2px rgba(60, 64, 67, 0.3), 0px 1px 3px 1px rgba(60, 64, 67, 0.15);\n",
              "      fill: #174EA6;\n",
              "    }\n",
              "\n",
              "    [theme=dark] .colab-df-convert {\n",
              "      background-color: #3B4455;\n",
              "      fill: #D2E3FC;\n",
              "    }\n",
              "\n",
              "    [theme=dark] .colab-df-convert:hover {\n",
              "      background-color: #434B5C;\n",
              "      box-shadow: 0px 1px 3px 1px rgba(0, 0, 0, 0.15);\n",
              "      filter: drop-shadow(0px 1px 2px rgba(0, 0, 0, 0.3));\n",
              "      fill: #FFFFFF;\n",
              "    }\n",
              "  </style>\n",
              "\n",
              "      <script>\n",
              "        const buttonEl =\n",
              "          document.querySelector('#df-f46028bd-0d3f-454e-93b8-d934b8a264ad button.colab-df-convert');\n",
              "        buttonEl.style.display =\n",
              "          google.colab.kernel.accessAllowed ? 'block' : 'none';\n",
              "\n",
              "        async function convertToInteractive(key) {\n",
              "          const element = document.querySelector('#df-f46028bd-0d3f-454e-93b8-d934b8a264ad');\n",
              "          const dataTable =\n",
              "            await google.colab.kernel.invokeFunction('convertToInteractive',\n",
              "                                                     [key], {});\n",
              "          if (!dataTable) return;\n",
              "\n",
              "          const docLinkHtml = 'Like what you see? Visit the ' +\n",
              "            '<a target=\"_blank\" href=https://colab.research.google.com/notebooks/data_table.ipynb>data table notebook</a>'\n",
              "            + ' to learn more about interactive tables.';\n",
              "          element.innerHTML = '';\n",
              "          dataTable['output_type'] = 'display_data';\n",
              "          await google.colab.output.renderOutput(dataTable, element);\n",
              "          const docLink = document.createElement('div');\n",
              "          docLink.innerHTML = docLinkHtml;\n",
              "          element.appendChild(docLink);\n",
              "        }\n",
              "      </script>\n",
              "    </div>\n",
              "  </div>\n",
              "  "
            ],
            "text/plain": [
              "         id  ...                                         definition\n",
              "0         1  ...    An     accident at work    in the framework ...\n",
              "1         5  ...    A     fatal accident at work    refers to an...\n",
              "2         6  ...    A     non-fatal      accident at work     is...\n",
              "3         8  ...     Aggregate demand    is the total amount of ...\n",
              "4         9  ...    The     goods and services account    shows ...\n",
              "...     ...  ...                                                ...\n",
              "1309   2319  ...     Actual individual consumption    , abbrevia...\n",
              "1310   2321  ...     Activity rate    is the percentage of     a...\n",
              "1311   2322  ...    The     activation policies    are policies ...\n",
              "1312   2324  ...    <Brief user-oriented definition, one or a fe...\n",
              "1313  10554  ...  The Glossary contains short definitions of all...\n",
              "\n",
              "[1314 rows x 3 columns]"
            ]
          },
          "metadata": {},
          "execution_count": 10
        }
      ],
      "source": [
        "query      = \"\"\"SELECT T1.id, T1.definition, T2.title \n",
        "                FROM ESTAT.V1.dat_glossary as T1 \n",
        "                INNER JOIN ESTAT.V1.dat_link_info as T2  \n",
        "                  ON T1.id=T2.id \n",
        "                WHERE T2.resource_information_id=1 \"\"\"\n",
        "\n",
        "Gloss_concepts = load_table(cursor,query)\n",
        "Gloss_concepts = Gloss_concepts[['id', 'title', 'definition']]\n",
        "\n",
        "Gloss_concepts\n"
      ]
    },
    {
      "cell_type": "markdown",
      "metadata": {
        "id": "XlvGgnfi4OlN"
      },
      "source": [
        "#### Delete records with empty definitions and carry out data cleansing\n"
      ]
    },
    {
      "cell_type": "code",
      "execution_count": 11,
      "metadata": {
        "id": "_vfRCSsy4OlO",
        "outputId": "47b3f48b-ec87-4e07-b391-431e959fba84",
        "colab": {
          "base_uri": "https://localhost:8080/",
          "height": 276
        }
      },
      "outputs": [
        {
          "output_type": "stream",
          "name": "stdout",
          "text": [
            "id            0\n",
            "title         0\n",
            "definition    0\n",
            "dtype: int64\n"
          ]
        },
        {
          "output_type": "execute_result",
          "data": {
            "text/html": [
              "\n",
              "  <div id=\"df-77d11f60-c9d7-4078-b19b-939866209eed\">\n",
              "    <div class=\"colab-df-container\">\n",
              "      <div>\n",
              "<style scoped>\n",
              "    .dataframe tbody tr th:only-of-type {\n",
              "        vertical-align: middle;\n",
              "    }\n",
              "\n",
              "    .dataframe tbody tr th {\n",
              "        vertical-align: top;\n",
              "    }\n",
              "\n",
              "    .dataframe thead th {\n",
              "        text-align: right;\n",
              "    }\n",
              "</style>\n",
              "<table border=\"1\" class=\"dataframe\">\n",
              "  <thead>\n",
              "    <tr style=\"text-align: right;\">\n",
              "      <th></th>\n",
              "      <th>id</th>\n",
              "      <th>title</th>\n",
              "      <th>definition</th>\n",
              "    </tr>\n",
              "  </thead>\n",
              "  <tbody>\n",
              "    <tr>\n",
              "      <th>0</th>\n",
              "      <td>1</td>\n",
              "      <td>Accident at work</td>\n",
              "      <td>An accident at work in the framework of the ad...</td>\n",
              "    </tr>\n",
              "    <tr>\n",
              "      <th>1</th>\n",
              "      <td>5</td>\n",
              "      <td>Fatal accident at work</td>\n",
              "      <td>A fatal accident at work refers to an accident...</td>\n",
              "    </tr>\n",
              "    <tr>\n",
              "      <th>2</th>\n",
              "      <td>6</td>\n",
              "      <td>Non-fatal accident at work</td>\n",
              "      <td>A non-fatal accident at work is an accident wh...</td>\n",
              "    </tr>\n",
              "    <tr>\n",
              "      <th>3</th>\n",
              "      <td>8</td>\n",
              "      <td>Aggregate demand</td>\n",
              "      <td>Aggregate demand is the total amount of goods ...</td>\n",
              "    </tr>\n",
              "    <tr>\n",
              "      <th>4</th>\n",
              "      <td>9</td>\n",
              "      <td>Goods and services account</td>\n",
              "      <td>The goods and services account shows the balan...</td>\n",
              "    </tr>\n",
              "  </tbody>\n",
              "</table>\n",
              "</div>\n",
              "      <button class=\"colab-df-convert\" onclick=\"convertToInteractive('df-77d11f60-c9d7-4078-b19b-939866209eed')\"\n",
              "              title=\"Convert this dataframe to an interactive table.\"\n",
              "              style=\"display:none;\">\n",
              "        \n",
              "  <svg xmlns=\"http://www.w3.org/2000/svg\" height=\"24px\"viewBox=\"0 0 24 24\"\n",
              "       width=\"24px\">\n",
              "    <path d=\"M0 0h24v24H0V0z\" fill=\"none\"/>\n",
              "    <path d=\"M18.56 5.44l.94 2.06.94-2.06 2.06-.94-2.06-.94-.94-2.06-.94 2.06-2.06.94zm-11 1L8.5 8.5l.94-2.06 2.06-.94-2.06-.94L8.5 2.5l-.94 2.06-2.06.94zm10 10l.94 2.06.94-2.06 2.06-.94-2.06-.94-.94-2.06-.94 2.06-2.06.94z\"/><path d=\"M17.41 7.96l-1.37-1.37c-.4-.4-.92-.59-1.43-.59-.52 0-1.04.2-1.43.59L10.3 9.45l-7.72 7.72c-.78.78-.78 2.05 0 2.83L4 21.41c.39.39.9.59 1.41.59.51 0 1.02-.2 1.41-.59l7.78-7.78 2.81-2.81c.8-.78.8-2.07 0-2.86zM5.41 20L4 18.59l7.72-7.72 1.47 1.35L5.41 20z\"/>\n",
              "  </svg>\n",
              "      </button>\n",
              "      \n",
              "  <style>\n",
              "    .colab-df-container {\n",
              "      display:flex;\n",
              "      flex-wrap:wrap;\n",
              "      gap: 12px;\n",
              "    }\n",
              "\n",
              "    .colab-df-convert {\n",
              "      background-color: #E8F0FE;\n",
              "      border: none;\n",
              "      border-radius: 50%;\n",
              "      cursor: pointer;\n",
              "      display: none;\n",
              "      fill: #1967D2;\n",
              "      height: 32px;\n",
              "      padding: 0 0 0 0;\n",
              "      width: 32px;\n",
              "    }\n",
              "\n",
              "    .colab-df-convert:hover {\n",
              "      background-color: #E2EBFA;\n",
              "      box-shadow: 0px 1px 2px rgba(60, 64, 67, 0.3), 0px 1px 3px 1px rgba(60, 64, 67, 0.15);\n",
              "      fill: #174EA6;\n",
              "    }\n",
              "\n",
              "    [theme=dark] .colab-df-convert {\n",
              "      background-color: #3B4455;\n",
              "      fill: #D2E3FC;\n",
              "    }\n",
              "\n",
              "    [theme=dark] .colab-df-convert:hover {\n",
              "      background-color: #434B5C;\n",
              "      box-shadow: 0px 1px 3px 1px rgba(0, 0, 0, 0.15);\n",
              "      filter: drop-shadow(0px 1px 2px rgba(0, 0, 0, 0.3));\n",
              "      fill: #FFFFFF;\n",
              "    }\n",
              "  </style>\n",
              "\n",
              "      <script>\n",
              "        const buttonEl =\n",
              "          document.querySelector('#df-77d11f60-c9d7-4078-b19b-939866209eed button.colab-df-convert');\n",
              "        buttonEl.style.display =\n",
              "          google.colab.kernel.accessAllowed ? 'block' : 'none';\n",
              "\n",
              "        async function convertToInteractive(key) {\n",
              "          const element = document.querySelector('#df-77d11f60-c9d7-4078-b19b-939866209eed');\n",
              "          const dataTable =\n",
              "            await google.colab.kernel.invokeFunction('convertToInteractive',\n",
              "                                                     [key], {});\n",
              "          if (!dataTable) return;\n",
              "\n",
              "          const docLinkHtml = 'Like what you see? Visit the ' +\n",
              "            '<a target=\"_blank\" href=https://colab.research.google.com/notebooks/data_table.ipynb>data table notebook</a>'\n",
              "            + ' to learn more about interactive tables.';\n",
              "          element.innerHTML = '';\n",
              "          dataTable['output_type'] = 'display_data';\n",
              "          await google.colab.output.renderOutput(dataTable, element);\n",
              "          const docLink = document.createElement('div');\n",
              "          docLink.innerHTML = docLinkHtml;\n",
              "          element.appendChild(docLink);\n",
              "        }\n",
              "      </script>\n",
              "    </div>\n",
              "  </div>\n",
              "  "
            ],
            "text/plain": [
              "   id  ...                                         definition\n",
              "0   1  ...  An accident at work in the framework of the ad...\n",
              "1   5  ...  A fatal accident at work refers to an accident...\n",
              "2   6  ...  A non-fatal accident at work is an accident wh...\n",
              "3   8  ...  Aggregate demand is the total amount of goods ...\n",
              "4   9  ...  The goods and services account shows the balan...\n",
              "\n",
              "[5 rows x 3 columns]"
            ]
          },
          "metadata": {},
          "execution_count": 11
        }
      ],
      "source": [
        "\n",
        "Gloss_concepts = Gloss_concepts.dropna(axis=0,how='any')\n",
        "print(Gloss_concepts.isnull().sum())\n",
        "Gloss_concepts.reset_index(drop=True, inplace=True)\n",
        "\n",
        "#import unicodedata as ud\n",
        "\n",
        "def clean(x, quotes=True):\n",
        "    if pd.isnull(x): return x  \n",
        "    x = x.strip()\n",
        "    \n",
        "    ## make letter-question mark-letter -> letter-quote-space-letter !!! but NOT in the lists of URLs!!!\n",
        "    if quotes:\n",
        "        x = re.sub(r'([A-Za-z])\\?([A-Za-z])','\\\\1\\' \\\\2',x) \n",
        "    \n",
        "    ## make letter-question mark-space lower case letter letter-quote-space letter\n",
        "    x = re.sub(r'([A-Za-z])\\? ([a-z])','\\\\1\\' \\\\2',x) \n",
        "\n",
        "    ## delete ,000 commas in numbers    \n",
        "    x = re.sub(r'\\b(\\d+),(\\d+)\\b','\\\\1\\\\2',x) ## CORRECTED\n",
        "    \n",
        "    ## delete  000 spaces in numbers\n",
        "    x = re.sub(r'\\b(\\d+) (\\d+)\\b','\\\\1\\\\2',x) ## CORRECTED\n",
        "    \n",
        "    ## remove more than one spaces\n",
        "    x = re.sub(r' +', ' ',x)\n",
        "    \n",
        "    ## remove start and end spaces\n",
        "    x = re.sub(r'^ +| +$', '',x,flags=re.MULTILINE) \n",
        "    \n",
        "    ## space-comma -> comma\n",
        "    x = re.sub(r' \\,',',',x)\n",
        "    \n",
        "    ## space-dot -> dot\n",
        "    x = re.sub(r' \\.','.',x)\n",
        "    \n",
        "    x = re.sub(r'â.{2}',\"'\",x) ### !!! NEW: single quotes are read as: âXX\n",
        "    \n",
        "    #x = x.encode('latin1').decode('utf-8') ## â\\x80\\x99\n",
        "    #x = ud.normalize('NFKD',x).encode('ascii', 'ignore').decode()\n",
        "    \n",
        "    return x\n",
        "\n",
        "\n",
        "Gloss_concepts['title'] = Gloss_concepts['title'].apply(clean)\n",
        "Gloss_concepts['title'] = Gloss_concepts['title'].apply(lambda x: re.sub(r'\\?','-',x)) ## also replace question marks by dashes\n",
        "Gloss_concepts['definition'] = Gloss_concepts['definition'].apply(clean)\n",
        "\n",
        "Gloss_concepts.head(5)"
      ]
    },
    {
      "cell_type": "markdown",
      "metadata": {
        "id": "KGCkF6394OlP"
      },
      "source": [
        "#### Delete \"special\" records\n",
        "\n",
        "* i.e. redirections.\n",
        "\n"
      ]
    },
    {
      "cell_type": "code",
      "execution_count": 12,
      "metadata": {
        "id": "me9cvVny4OlQ",
        "outputId": "d3fa8c5d-73a4-46de-edff-94babef3aa54",
        "colab": {
          "base_uri": "https://localhost:8080/",
          "height": 511
        }
      },
      "outputs": [
        {
          "output_type": "stream",
          "name": "stdout",
          "text": [
            "Int64Index([ 230,  292,  384,  386,  433,  436,  438,  439,  504,  519,  530,\n",
            "             557,  588,  729,  742,  775,  826,  889,  891,  912,  960,  961,\n",
            "             969, 1003, 1007, 1133, 1144, 1182, 1231],\n",
            "           dtype='int64')\n",
            "Int64Index([], dtype='int64')\n"
          ]
        },
        {
          "output_type": "execute_result",
          "data": {
            "text/html": [
              "\n",
              "  <div id=\"df-6eecfd95-5d46-45d1-969c-3ba387900bed\">\n",
              "    <div class=\"colab-df-container\">\n",
              "      <div>\n",
              "<style scoped>\n",
              "    .dataframe tbody tr th:only-of-type {\n",
              "        vertical-align: middle;\n",
              "    }\n",
              "\n",
              "    .dataframe tbody tr th {\n",
              "        vertical-align: top;\n",
              "    }\n",
              "\n",
              "    .dataframe thead th {\n",
              "        text-align: right;\n",
              "    }\n",
              "</style>\n",
              "<table border=\"1\" class=\"dataframe\">\n",
              "  <thead>\n",
              "    <tr style=\"text-align: right;\">\n",
              "      <th></th>\n",
              "      <th>id</th>\n",
              "      <th>title</th>\n",
              "      <th>definition</th>\n",
              "    </tr>\n",
              "  </thead>\n",
              "  <tbody>\n",
              "    <tr>\n",
              "      <th>0</th>\n",
              "      <td>1</td>\n",
              "      <td>Accident at work</td>\n",
              "      <td>An accident at work in the framework of the ad...</td>\n",
              "    </tr>\n",
              "    <tr>\n",
              "      <th>1</th>\n",
              "      <td>5</td>\n",
              "      <td>Fatal accident at work</td>\n",
              "      <td>A fatal accident at work refers to an accident...</td>\n",
              "    </tr>\n",
              "    <tr>\n",
              "      <th>2</th>\n",
              "      <td>6</td>\n",
              "      <td>Non-fatal accident at work</td>\n",
              "      <td>A non-fatal accident at work is an accident wh...</td>\n",
              "    </tr>\n",
              "    <tr>\n",
              "      <th>3</th>\n",
              "      <td>8</td>\n",
              "      <td>Aggregate demand</td>\n",
              "      <td>Aggregate demand is the total amount of goods ...</td>\n",
              "    </tr>\n",
              "    <tr>\n",
              "      <th>4</th>\n",
              "      <td>9</td>\n",
              "      <td>Goods and services account</td>\n",
              "      <td>The goods and services account shows the balan...</td>\n",
              "    </tr>\n",
              "    <tr>\n",
              "      <th>...</th>\n",
              "      <td>...</td>\n",
              "      <td>...</td>\n",
              "      <td>...</td>\n",
              "    </tr>\n",
              "    <tr>\n",
              "      <th>1280</th>\n",
              "      <td>2319</td>\n",
              "      <td>Actual individual consumption (AIC)</td>\n",
              "      <td>Actual individual consumption, abbreviated as ...</td>\n",
              "    </tr>\n",
              "    <tr>\n",
              "      <th>1281</th>\n",
              "      <td>2321</td>\n",
              "      <td>Activity rate</td>\n",
              "      <td>Activity rate is the percentage of active pers...</td>\n",
              "    </tr>\n",
              "    <tr>\n",
              "      <th>1282</th>\n",
              "      <td>2322</td>\n",
              "      <td>Activation policies</td>\n",
              "      <td>The activation policies are policies designed ...</td>\n",
              "    </tr>\n",
              "    <tr>\n",
              "      <th>1283</th>\n",
              "      <td>2324</td>\n",
              "      <td>Active enterprises - FRIBS</td>\n",
              "      <td>&lt;Brief user-oriented definition, one or a few ...</td>\n",
              "    </tr>\n",
              "    <tr>\n",
              "      <th>1284</th>\n",
              "      <td>10554</td>\n",
              "      <td>Glossary</td>\n",
              "      <td>The Glossary contains short definitions of all...</td>\n",
              "    </tr>\n",
              "  </tbody>\n",
              "</table>\n",
              "<p>1285 rows × 3 columns</p>\n",
              "</div>\n",
              "      <button class=\"colab-df-convert\" onclick=\"convertToInteractive('df-6eecfd95-5d46-45d1-969c-3ba387900bed')\"\n",
              "              title=\"Convert this dataframe to an interactive table.\"\n",
              "              style=\"display:none;\">\n",
              "        \n",
              "  <svg xmlns=\"http://www.w3.org/2000/svg\" height=\"24px\"viewBox=\"0 0 24 24\"\n",
              "       width=\"24px\">\n",
              "    <path d=\"M0 0h24v24H0V0z\" fill=\"none\"/>\n",
              "    <path d=\"M18.56 5.44l.94 2.06.94-2.06 2.06-.94-2.06-.94-.94-2.06-.94 2.06-2.06.94zm-11 1L8.5 8.5l.94-2.06 2.06-.94-2.06-.94L8.5 2.5l-.94 2.06-2.06.94zm10 10l.94 2.06.94-2.06 2.06-.94-2.06-.94-.94-2.06-.94 2.06-2.06.94z\"/><path d=\"M17.41 7.96l-1.37-1.37c-.4-.4-.92-.59-1.43-.59-.52 0-1.04.2-1.43.59L10.3 9.45l-7.72 7.72c-.78.78-.78 2.05 0 2.83L4 21.41c.39.39.9.59 1.41.59.51 0 1.02-.2 1.41-.59l7.78-7.78 2.81-2.81c.8-.78.8-2.07 0-2.86zM5.41 20L4 18.59l7.72-7.72 1.47 1.35L5.41 20z\"/>\n",
              "  </svg>\n",
              "      </button>\n",
              "      \n",
              "  <style>\n",
              "    .colab-df-container {\n",
              "      display:flex;\n",
              "      flex-wrap:wrap;\n",
              "      gap: 12px;\n",
              "    }\n",
              "\n",
              "    .colab-df-convert {\n",
              "      background-color: #E8F0FE;\n",
              "      border: none;\n",
              "      border-radius: 50%;\n",
              "      cursor: pointer;\n",
              "      display: none;\n",
              "      fill: #1967D2;\n",
              "      height: 32px;\n",
              "      padding: 0 0 0 0;\n",
              "      width: 32px;\n",
              "    }\n",
              "\n",
              "    .colab-df-convert:hover {\n",
              "      background-color: #E2EBFA;\n",
              "      box-shadow: 0px 1px 2px rgba(60, 64, 67, 0.3), 0px 1px 3px 1px rgba(60, 64, 67, 0.15);\n",
              "      fill: #174EA6;\n",
              "    }\n",
              "\n",
              "    [theme=dark] .colab-df-convert {\n",
              "      background-color: #3B4455;\n",
              "      fill: #D2E3FC;\n",
              "    }\n",
              "\n",
              "    [theme=dark] .colab-df-convert:hover {\n",
              "      background-color: #434B5C;\n",
              "      box-shadow: 0px 1px 3px 1px rgba(0, 0, 0, 0.15);\n",
              "      filter: drop-shadow(0px 1px 2px rgba(0, 0, 0, 0.3));\n",
              "      fill: #FFFFFF;\n",
              "    }\n",
              "  </style>\n",
              "\n",
              "      <script>\n",
              "        const buttonEl =\n",
              "          document.querySelector('#df-6eecfd95-5d46-45d1-969c-3ba387900bed button.colab-df-convert');\n",
              "        buttonEl.style.display =\n",
              "          google.colab.kernel.accessAllowed ? 'block' : 'none';\n",
              "\n",
              "        async function convertToInteractive(key) {\n",
              "          const element = document.querySelector('#df-6eecfd95-5d46-45d1-969c-3ba387900bed');\n",
              "          const dataTable =\n",
              "            await google.colab.kernel.invokeFunction('convertToInteractive',\n",
              "                                                     [key], {});\n",
              "          if (!dataTable) return;\n",
              "\n",
              "          const docLinkHtml = 'Like what you see? Visit the ' +\n",
              "            '<a target=\"_blank\" href=https://colab.research.google.com/notebooks/data_table.ipynb>data table notebook</a>'\n",
              "            + ' to learn more about interactive tables.';\n",
              "          element.innerHTML = '';\n",
              "          dataTable['output_type'] = 'display_data';\n",
              "          await google.colab.output.renderOutput(dataTable, element);\n",
              "          const docLink = document.createElement('div');\n",
              "          docLink.innerHTML = docLinkHtml;\n",
              "          element.appendChild(docLink);\n",
              "        }\n",
              "      </script>\n",
              "    </div>\n",
              "  </div>\n",
              "  "
            ],
            "text/plain": [
              "         id  ...                                         definition\n",
              "0         1  ...  An accident at work in the framework of the ad...\n",
              "1         5  ...  A fatal accident at work refers to an accident...\n",
              "2         6  ...  A non-fatal accident at work is an accident wh...\n",
              "3         8  ...  Aggregate demand is the total amount of goods ...\n",
              "4         9  ...  The goods and services account shows the balan...\n",
              "...     ...  ...                                                ...\n",
              "1280   2319  ...  Actual individual consumption, abbreviated as ...\n",
              "1281   2321  ...  Activity rate is the percentage of active pers...\n",
              "1282   2322  ...  The activation policies are policies designed ...\n",
              "1283   2324  ...  <Brief user-oriented definition, one or a few ...\n",
              "1284  10554  ...  The Glossary contains short definitions of all...\n",
              "\n",
              "[1285 rows x 3 columns]"
            ]
          },
          "metadata": {},
          "execution_count": 12
        }
      ],
      "source": [
        "## Drop The records with definitions \"The revision ...\" and \"Redirect to ...\" \n",
        "\n",
        "idx = Gloss_concepts[Gloss_concepts['definition'].str.startswith('The revision #')].index\n",
        "print(idx)\n",
        "Gloss_concepts.drop(idx , inplace=True)\n",
        "idx = Gloss_concepts[Gloss_concepts['definition'].str.startswith('Redirect to')].index\n",
        "print(idx)\n",
        "Gloss_concepts.drop(idx , inplace=True)\n",
        "Gloss_concepts.reset_index(drop=True, inplace=True)\n",
        "Gloss_concepts"
      ]
    },
    {
      "cell_type": "markdown",
      "metadata": {
        "id": "BIy6uAj44OlR"
      },
      "source": [
        "#### Add the title to the column \"definition\""
      ]
    },
    {
      "cell_type": "code",
      "execution_count": 13,
      "metadata": {
        "id": "35EltyXI4OlS",
        "outputId": "caea2c2a-e573-4c7a-c690-c1b9a661c316",
        "colab": {
          "base_uri": "https://localhost:8080/",
          "height": 424
        }
      },
      "outputs": [
        {
          "output_type": "execute_result",
          "data": {
            "text/html": [
              "\n",
              "  <div id=\"df-758da72e-7f5f-4d40-b7f1-b5ee9227e399\">\n",
              "    <div class=\"colab-df-container\">\n",
              "      <div>\n",
              "<style scoped>\n",
              "    .dataframe tbody tr th:only-of-type {\n",
              "        vertical-align: middle;\n",
              "    }\n",
              "\n",
              "    .dataframe tbody tr th {\n",
              "        vertical-align: top;\n",
              "    }\n",
              "\n",
              "    .dataframe thead th {\n",
              "        text-align: right;\n",
              "    }\n",
              "</style>\n",
              "<table border=\"1\" class=\"dataframe\">\n",
              "  <thead>\n",
              "    <tr style=\"text-align: right;\">\n",
              "      <th></th>\n",
              "      <th>id</th>\n",
              "      <th>title</th>\n",
              "      <th>definition</th>\n",
              "    </tr>\n",
              "  </thead>\n",
              "  <tbody>\n",
              "    <tr>\n",
              "      <th>0</th>\n",
              "      <td>1</td>\n",
              "      <td>Accident at work</td>\n",
              "      <td>Accident at work. An accident at work in the f...</td>\n",
              "    </tr>\n",
              "    <tr>\n",
              "      <th>1</th>\n",
              "      <td>5</td>\n",
              "      <td>Fatal accident at work</td>\n",
              "      <td>Fatal accident at work. A fatal accident at wo...</td>\n",
              "    </tr>\n",
              "    <tr>\n",
              "      <th>2</th>\n",
              "      <td>6</td>\n",
              "      <td>Non-fatal accident at work</td>\n",
              "      <td>Non-fatal accident at work. A non-fatal accide...</td>\n",
              "    </tr>\n",
              "    <tr>\n",
              "      <th>3</th>\n",
              "      <td>8</td>\n",
              "      <td>Aggregate demand</td>\n",
              "      <td>Aggregate demand. Aggregate demand is the tota...</td>\n",
              "    </tr>\n",
              "    <tr>\n",
              "      <th>4</th>\n",
              "      <td>9</td>\n",
              "      <td>Goods and services account</td>\n",
              "      <td>Goods and services account. The goods and serv...</td>\n",
              "    </tr>\n",
              "    <tr>\n",
              "      <th>...</th>\n",
              "      <td>...</td>\n",
              "      <td>...</td>\n",
              "      <td>...</td>\n",
              "    </tr>\n",
              "    <tr>\n",
              "      <th>1280</th>\n",
              "      <td>2319</td>\n",
              "      <td>Actual individual consumption (AIC)</td>\n",
              "      <td>Actual individual consumption (AIC). Actual in...</td>\n",
              "    </tr>\n",
              "    <tr>\n",
              "      <th>1281</th>\n",
              "      <td>2321</td>\n",
              "      <td>Activity rate</td>\n",
              "      <td>Activity rate. Activity rate is the percentage...</td>\n",
              "    </tr>\n",
              "    <tr>\n",
              "      <th>1282</th>\n",
              "      <td>2322</td>\n",
              "      <td>Activation policies</td>\n",
              "      <td>Activation policies. The activation policies a...</td>\n",
              "    </tr>\n",
              "    <tr>\n",
              "      <th>1283</th>\n",
              "      <td>2324</td>\n",
              "      <td>Active enterprises - FRIBS</td>\n",
              "      <td>Active enterprises - FRIBS. &lt;Brief user-orient...</td>\n",
              "    </tr>\n",
              "    <tr>\n",
              "      <th>1284</th>\n",
              "      <td>10554</td>\n",
              "      <td>Glossary</td>\n",
              "      <td>Glossary. The Glossary contains short definiti...</td>\n",
              "    </tr>\n",
              "  </tbody>\n",
              "</table>\n",
              "<p>1285 rows × 3 columns</p>\n",
              "</div>\n",
              "      <button class=\"colab-df-convert\" onclick=\"convertToInteractive('df-758da72e-7f5f-4d40-b7f1-b5ee9227e399')\"\n",
              "              title=\"Convert this dataframe to an interactive table.\"\n",
              "              style=\"display:none;\">\n",
              "        \n",
              "  <svg xmlns=\"http://www.w3.org/2000/svg\" height=\"24px\"viewBox=\"0 0 24 24\"\n",
              "       width=\"24px\">\n",
              "    <path d=\"M0 0h24v24H0V0z\" fill=\"none\"/>\n",
              "    <path d=\"M18.56 5.44l.94 2.06.94-2.06 2.06-.94-2.06-.94-.94-2.06-.94 2.06-2.06.94zm-11 1L8.5 8.5l.94-2.06 2.06-.94-2.06-.94L8.5 2.5l-.94 2.06-2.06.94zm10 10l.94 2.06.94-2.06 2.06-.94-2.06-.94-.94-2.06-.94 2.06-2.06.94z\"/><path d=\"M17.41 7.96l-1.37-1.37c-.4-.4-.92-.59-1.43-.59-.52 0-1.04.2-1.43.59L10.3 9.45l-7.72 7.72c-.78.78-.78 2.05 0 2.83L4 21.41c.39.39.9.59 1.41.59.51 0 1.02-.2 1.41-.59l7.78-7.78 2.81-2.81c.8-.78.8-2.07 0-2.86zM5.41 20L4 18.59l7.72-7.72 1.47 1.35L5.41 20z\"/>\n",
              "  </svg>\n",
              "      </button>\n",
              "      \n",
              "  <style>\n",
              "    .colab-df-container {\n",
              "      display:flex;\n",
              "      flex-wrap:wrap;\n",
              "      gap: 12px;\n",
              "    }\n",
              "\n",
              "    .colab-df-convert {\n",
              "      background-color: #E8F0FE;\n",
              "      border: none;\n",
              "      border-radius: 50%;\n",
              "      cursor: pointer;\n",
              "      display: none;\n",
              "      fill: #1967D2;\n",
              "      height: 32px;\n",
              "      padding: 0 0 0 0;\n",
              "      width: 32px;\n",
              "    }\n",
              "\n",
              "    .colab-df-convert:hover {\n",
              "      background-color: #E2EBFA;\n",
              "      box-shadow: 0px 1px 2px rgba(60, 64, 67, 0.3), 0px 1px 3px 1px rgba(60, 64, 67, 0.15);\n",
              "      fill: #174EA6;\n",
              "    }\n",
              "\n",
              "    [theme=dark] .colab-df-convert {\n",
              "      background-color: #3B4455;\n",
              "      fill: #D2E3FC;\n",
              "    }\n",
              "\n",
              "    [theme=dark] .colab-df-convert:hover {\n",
              "      background-color: #434B5C;\n",
              "      box-shadow: 0px 1px 3px 1px rgba(0, 0, 0, 0.15);\n",
              "      filter: drop-shadow(0px 1px 2px rgba(0, 0, 0, 0.3));\n",
              "      fill: #FFFFFF;\n",
              "    }\n",
              "  </style>\n",
              "\n",
              "      <script>\n",
              "        const buttonEl =\n",
              "          document.querySelector('#df-758da72e-7f5f-4d40-b7f1-b5ee9227e399 button.colab-df-convert');\n",
              "        buttonEl.style.display =\n",
              "          google.colab.kernel.accessAllowed ? 'block' : 'none';\n",
              "\n",
              "        async function convertToInteractive(key) {\n",
              "          const element = document.querySelector('#df-758da72e-7f5f-4d40-b7f1-b5ee9227e399');\n",
              "          const dataTable =\n",
              "            await google.colab.kernel.invokeFunction('convertToInteractive',\n",
              "                                                     [key], {});\n",
              "          if (!dataTable) return;\n",
              "\n",
              "          const docLinkHtml = 'Like what you see? Visit the ' +\n",
              "            '<a target=\"_blank\" href=https://colab.research.google.com/notebooks/data_table.ipynb>data table notebook</a>'\n",
              "            + ' to learn more about interactive tables.';\n",
              "          element.innerHTML = '';\n",
              "          dataTable['output_type'] = 'display_data';\n",
              "          await google.colab.output.renderOutput(dataTable, element);\n",
              "          const docLink = document.createElement('div');\n",
              "          docLink.innerHTML = docLinkHtml;\n",
              "          element.appendChild(docLink);\n",
              "        }\n",
              "      </script>\n",
              "    </div>\n",
              "  </div>\n",
              "  "
            ],
            "text/plain": [
              "         id  ...                                         definition\n",
              "0         1  ...  Accident at work. An accident at work in the f...\n",
              "1         5  ...  Fatal accident at work. A fatal accident at wo...\n",
              "2         6  ...  Non-fatal accident at work. A non-fatal accide...\n",
              "3         8  ...  Aggregate demand. Aggregate demand is the tota...\n",
              "4         9  ...  Goods and services account. The goods and serv...\n",
              "...     ...  ...                                                ...\n",
              "1280   2319  ...  Actual individual consumption (AIC). Actual in...\n",
              "1281   2321  ...  Activity rate. Activity rate is the percentage...\n",
              "1282   2322  ...  Activation policies. The activation policies a...\n",
              "1283   2324  ...  Active enterprises - FRIBS. <Brief user-orient...\n",
              "1284  10554  ...  Glossary. The Glossary contains short definiti...\n",
              "\n",
              "[1285 rows x 3 columns]"
            ]
          },
          "metadata": {},
          "execution_count": 13
        }
      ],
      "source": [
        "Gloss_concepts['definition'] = Gloss_concepts['title'] +'. '+Gloss_concepts['definition']\n",
        "Gloss_concepts"
      ]
    },
    {
      "cell_type": "markdown",
      "metadata": {
        "id": "Ebng58mk4OlS"
      },
      "source": [
        "### 3. Pre-processing input data (cont).\n",
        "***\n",
        "\n",
        "Next we define a function _sent_to_words_ which accepts a series of texts and:\n",
        "* Converts everything to lowercase and drops accents, \n",
        "* Deletes stop words, \n",
        "* Tokenizes the texts, \n",
        "* Apply Porter's stemmer and keeps as final tokens the resulting terms with minimum length 5. \n",
        "\n",
        "We call this function with the articles definitions in column \"definition\" of dataframe _Gloss_concepts_.    \n",
        "The result, _texts_ is a nested list with 1285 outer elements corresponding to the articles.   \n",
        "The inner lists contain the tokens for each text."
      ]
    },
    {
      "cell_type": "code",
      "execution_count": 14,
      "metadata": {
        "id": "1UBCcWdl4OlT",
        "outputId": "a78963ed-8090-4f5c-d850-72bb4fd9acff",
        "colab": {
          "base_uri": "https://localhost:8080/"
        }
      },
      "outputs": [
        {
          "output_type": "stream",
          "name": "stdout",
          "text": [
            "\n",
            "First 5 texts: \n",
            " [['accid', 'accid', 'framework', 'administr', 'collect', 'european', 'statist', 'accid', 'discret', 'occurr', 'cours', 'which', 'physic', 'mental', 'phrase', 'cours', 'whilst', 'engag', 'occup', 'activ', 'spent', 'includ', 'traffic', 'accid', 'cours', 'exclud', 'accid', 'journei', 'between', 'workplac', 'definit', 'accid', 'modul', 'accid', 'other', 'relat', 'health', 'problem', 'labour', 'survei', 'principl', 'except', 'accid', 'mental', 'exclud', 'becaus', 'difficult', 'distinguish', 'relev', 'relat', 'health', 'problem', 'follow', 'accid', 'cover', 'respect', 'definit', 'includ', 'poison', 'other', 'person', 'accid', 'occur', 'premis', 'employ', 'other', 'which', 'emploi', 'victim', 'might', 'includ', 'accid', 'attend', 'cours', 'provid', 'servic', 'premis', 'anoth', 'employ', 'visit', 'purpos', 'cours', 'victim', 'accid', 'occur', 'other', 'visit', 'locat', 'outsid', 'premis', 'employ', 'which', 'employe', 'normal', 'accid', 'regular', 'break', 'includ', 'lunch', 'place', 'organis', 'employ', 'accid', 'deliveri', 'custom', 'premis', 'compani', 'public', 'administr', 'privat', 'individu', 'while', 'carri', 'other', 'servic', 'repair', 'mainten', 'errand', 'client', 'premis', 'perman', 'second', 'anoth', 'employ', 'activ', 'which', 'cours', 'accid', 'other', 'activ', 'relat', 'victim', 'activ', 'accid', 'public', 'place', 'public', 'transport', 'journei', 'cours', 'traffic', 'accid', 'cours', 'public', 'privat', 'within', 'premis', 'enterpris', 'accid', 'involv', 'person', 'whose', 'occup', 'activ', 'exert', 'mainli', 'public', 'lorri', 'coach', 'driver', 'occup', 'activ', 'which', 'frequent', 'occasion', 'impli', 'journei', 'public', 'occup', 'activ', 'includ', 'repair', 'commerci', 'activ', 'other', 'servic', 'activ', 'carri', 'premis', 'custom', 'categori', 'includ', 'accid', 'involv', 'employe', 'occasion', 'drive', 'their', 'offic', 'extern', 'cours', 'their', 'place', 'where', 'employ', 'organis', 'activ', 'regular', 'break', 'includ', 'lunch', 'accid', 'board', 'transport', 'cours', 'underground', 'railwai', 'train', 'aircraft', 'other', 'accid', 'assault', 'public', 'place', 'pavement', 'staircas', 'arriv', 'departur', 'station', 'airport', 'transport', 'journei', 'cours', 'exclud', 'commut', 'accid', 'accid', 'occur', 'normal', 'journei', 'place', 'accid', 'occur', 'journei', 'between', 'worker', 'princip', 'secondari', 'resid', 'workplac', 'while', 'children', 'school', 'accid', 'between', 'locat', 'attend', 'relat', 'train', 'between', 'workplac', 'restaur', 'which', 'employe', 'habitu', 'lunch', 'exclud', 'unless', 'restaur', 'compani', 'premis', 'deliber', 'inflict', 'injuri', 'accid', 'strictli', 'natur', 'accid', 'medic', 'condit', 'cardiac', 'cerebr', 'incid', 'other', 'sudden', 'onset', 'medic', 'condit', 'occur', 'without', 'obviou', 'occup', 'activ', 'victim', 'nevertheless', 'should', 'exclud', 'other', 'relat', 'causal', 'element', 'exampl', 'bricklay', 'faint', 'medic', 'scaffold', 'relat', 'causal', 'element', 'accident', 'injuri', 'includ', 'methodolog', 'though', 'might', 'occur', 'faint', 'injuri', 'incur', 'aggrav', 'scaffold', 'ground', 'level', 'cours', 'normal', 'accid', 'privat', 'accid', 'which', 'victim', 'their', 'workplac', 'carri', 'activ', 'which', 'relat', 'exampl', 'visit', 'station', 'hospit', 'offic', 'airport', 'accid', 'member', 'public', 'accid', 'activ', 'within', 'compani', 'includ', 'famili', 'member', 'employe', 'employ', 'premis', 'compani', 'becom', 'victim', 'accid', 'children', 'exampl', 'nurseri', 'compani', 'accid', 'should', 'count', 'accid', 'although', 'respons', 'employ', 'would', 'ensur', 'incid', 'would', 'normal', 'factor', 'insur', 'cover'], ['fatal', 'accid', 'fatal', 'accid', 'refer', 'accid', 'which', 'death', 'victim', 'within', 'accid'], ['fatal', 'accid', 'fatal', 'accid', 'accid', 'which', 'victim', 'surviv', 'result', 'absenc', 'seriou', 'fatal', 'accid', 'accid', 'result', 'three', 'absenc', 'labour', 'survei', 'modul', 'accid', 'other', 'relat', 'health', 'problem', 'report', 'fatal', 'accid', 'includ', 'possibl', 'exclud', 'those', 'accid', 'absenc', 'administr', 'collect', 'european', 'statist', 'accid', 'report', 'accid', 'absenc', 'fatal', 'accid', 'calendar', 'absenc', 'consid', 'exclud', 'accid', 'consequ', 'three', 'calendar', 'least', 'calendar', 'which', 'impli', 'victim', 'resum', 'fifth', 'subsequ', 'after', 'which', 'accid', 'occur', 'should', 'incid', 'includ'], ['aggreg', 'demand', 'aggreg', 'demand', 'total', 'amount', 'servic', 'demand', 'economi', 'given', 'price', 'level', 'consumpt', 'expenditur', 'invest', 'expenditur', 'govern', 'expenditur', 'export'], ['servic', 'account', 'servic', 'account', 'balanc', 'between', 'total', 'servic', 'suppli', 'resourc', 'economi', 'output', 'import', 'includ', 'subsidi', 'product', 'which', 'includ', 'valuat', 'output', 'basic', 'price', 'which', 'includ', 'valuat', 'intermedi', 'consumpt', 'purchas', 'price', 'servic', 'intermedi', 'consumpt', 'final', 'consumpt', 'capit', 'format', 'export']]\n",
            "\n",
            "Total texts:  1285 \n",
            "\n"
          ]
        }
      ],
      "source": [
        "from gensim.parsing.preprocessing import remove_stopwords\n",
        "from gensim.parsing.porter import PorterStemmer\n",
        "def sent_to_words(sentences):\n",
        "    p = PorterStemmer()\n",
        "    for sentence in sentences:\n",
        "        sentence = str(gensim.utils.simple_preprocess(sentence, deacc=True))\n",
        "        sentence = remove_stopwords(sentence) \n",
        "        tokens = gensim.utils.tokenize(sentence)\n",
        "        sentence = [p.stem(token) for token in tokens if len(p.stem(token)) >= 5] ##minimum length = 5 \n",
        "        yield(sentence)\n",
        "                \n",
        "texts = list(sent_to_words(Gloss_concepts['definition']))\n",
        "#texts = list(sent_to_words(Gloss_concepts['definition']))\n",
        "print('\\nFirst 5 texts: \\n',texts[:5])\n",
        "print('\\nTotal texts: ',len(texts),'\\n')\n"
      ]
    },
    {
      "cell_type": "markdown",
      "metadata": {
        "id": "kZGwDDSn4OlT"
      },
      "source": [
        "### 4. Creation of corpus and terms frequencies.\n",
        "***\n",
        "\n",
        "The next steps are:\n",
        "* Create a vocabulary from _texts_ with name _id2word_. This is a dictionary with keys the numeric ids of the terms and the terms themselves as values. The terms are initially sorted alphabetically.\n",
        "* Filter-out words which appear in less than 1% of the texts or in more than 80% of the texts. The result is 731 unique tokens.\n",
        "* Create a mapping with name _corpus_ of texts to terms in the bag-of-words (BOW) format. Each text is mapped into a list with 2-tuples: (word id, word count in each text). Note that the **ordering of the terms in the _id2word_ vocabulary changes** (into the order of appearance in the texts).\n"
      ]
    },
    {
      "cell_type": "code",
      "execution_count": 15,
      "metadata": {
        "id": "hEMZsFWD4OlT",
        "outputId": "4832af6c-79bc-4f54-d1cb-aa755cc225a6",
        "colab": {
          "base_uri": "https://localhost:8080/"
        }
      },
      "outputs": [
        {
          "output_type": "stream",
          "name": "stdout",
          "text": [
            "Dictionary(731 unique tokens: ['activ', 'administr', 'although', 'anoth', 'arriv']...) \n",
            "\n",
            "First 5 texts in BOW format:\n",
            "\n",
            "[[(0, 13), (1, 2), (2, 1), (3, 2), (4, 1), (5, 1), (6, 1), (7, 4), (8, 2), (9, 3), (10, 1), (11, 2), (12, 1), (13, 1), (14, 5), (15, 2), (16, 1), (17, 12), (18, 2), (19, 2), (20, 2), (21, 1), (22, 1), (23, 2), (24, 1), (25, 8), (26, 4), (27, 1), (28, 1), (29, 1), (30, 1), (31, 3), (32, 1), (33, 5), (34, 1), (35, 1), (36, 1), (37, 1), (38, 1), (39, 1), (40, 1), (41, 2), (42, 1), (43, 1), (44, 9), (45, 1), (46, 1), (47, 2), (48, 1), (49, 1), (50, 2), (51, 1), (52, 3), (53, 2), (54, 1), (55, 2), (56, 1), (57, 4), (58, 5), (59, 6), (60, 2), (61, 2), (62, 10), (63, 1), (64, 1), (65, 2), (66, 1), (67, 5), (68, 1), (69, 1), (70, 3), (71, 2), (72, 1), (73, 8), (74, 1), (75, 1), (76, 2), (77, 7), (78, 1), (79, 2), (80, 1), (81, 1), (82, 1), (83, 1), (84, 1), (85, 3), (86, 2), (87, 1), (88, 1), (89, 1), (90, 3), (91, 2), (92, 3), (93, 1), (94, 8), (95, 2), (96, 1), (97, 2), (98, 1), (99, 1), (100, 2)], [(94, 1), (97, 1), (101, 1), (102, 1)], [(1, 1), (12, 1), (30, 1), (33, 2), (41, 1), (43, 1), (44, 2), (48, 1), (59, 1), (62, 1), (71, 1), (77, 1), (86, 1), (88, 1), (89, 1), (94, 3), (103, 1), (104, 3), (105, 1), (106, 1), (107, 1), (108, 1), (109, 2), (110, 2), (111, 1), (112, 1), (113, 2)], [(49, 1), (85, 1), (114, 2), (115, 1), (116, 1), (117, 3), (118, 1), (119, 3), (120, 1), (121, 1), (122, 1), (123, 1), (124, 1), (125, 1)], [(7, 1), (44, 3), (85, 4), (94, 2), (116, 3), (118, 1), (120, 1), (124, 2), (125, 1), (126, 2), (127, 1), (128, 1), (129, 1), (130, 1), (131, 1), (132, 1), (133, 2), (134, 2), (135, 1), (136, 1), (137, 1), (138, 1), (139, 1)]] \n",
            "\n",
            "First 5 texts in BOW format together with terms:\n",
            "\n",
            "[('activ', 0, 13), ('administr', 1, 2), ('although', 2, 1), ('anoth', 3, 2), ('arriv', 4, 1), ('becaus', 5, 1), ('becom', 6, 1), ('between', 7, 4), ('break', 8, 2), ('carri', 9, 3), ('categori', 10, 1), ('children', 11, 2), ('collect', 12, 1), ('commerci', 13, 1), ('compani', 14, 5), ('condit', 15, 2), ('count', 16, 1), ('cours', 17, 12), ('cover', 18, 2), ('custom', 19, 2), ('definit', 20, 2), ('deliveri', 21, 1), ('distinguish', 22, 1), ('element', 23, 2), ('emploi', 24, 1), ('employ', 25, 8), ('employe', 26, 4), ('engag', 27, 1), ('ensur', 28, 1), ('enterpris', 29, 1), ('european', 30, 1), ('exampl', 31, 3), ('except', 32, 1), ('exclud', 33, 5), ('extern', 34, 1), ('factor', 35, 1), ('famili', 36, 1), ('follow', 37, 1), ('framework', 38, 1), ('frequent', 39, 1), ('ground', 40, 1), ('health', 41, 2), ('hospit', 42, 1), ('impli', 43, 1), ('includ', 44, 9), ('individu', 45, 1), ('insur', 46, 1), ('involv', 47, 2), ('labour', 48, 1), ('level', 49, 1), ('locat', 50, 2), ('mainli', 51, 1), ('medic', 52, 3), ('member', 53, 2), ('methodolog', 54, 1), ('might', 55, 2), ('natur', 56, 1), ('normal', 57, 4), ('occup', 58, 5), ('occur', 59, 6), ('offic', 60, 2), ('organis', 61, 2), ('other', 62, 10), ('outsid', 63, 1), ('perman', 64, 1), ('person', 65, 2), ('physic', 66, 1), ('place', 67, 5), ('princip', 68, 1), ('principl', 69, 1), ('privat', 70, 3), ('problem', 71, 2), ('provid', 72, 1), ('public', 73, 8), ('purpos', 74, 1), ('railwai', 75, 1), ('regular', 76, 2), ('relat', 77, 7), ('relev', 78, 1), ('repair', 79, 2), ('resid', 80, 1), ('respect', 81, 1), ('respons', 82, 1), ('second', 83, 1), ('secondari', 84, 1), ('servic', 85, 3), ('should', 86, 2), ('spent', 87, 1), ('statist', 88, 1), ('survei', 89, 1), ('their', 90, 3), ('train', 91, 2), ('transport', 92, 3), ('where', 93, 1), ('which', 94, 8), ('while', 95, 2), ('whose', 96, 1), ('within', 97, 2), ('without', 98, 1), ('worker', 99, 1), ('would', 100, 2)]\n",
            "[('which', 94, 1), ('within', 97, 1), ('death', 101, 1), ('refer', 102, 1)]\n",
            "[('administr', 1, 1), ('collect', 12, 1), ('european', 30, 1), ('exclud', 33, 2), ('health', 41, 1), ('impli', 43, 1), ('includ', 44, 2), ('labour', 48, 1), ('occur', 59, 1), ('other', 62, 1), ('problem', 71, 1), ('relat', 77, 1), ('should', 86, 1), ('statist', 88, 1), ('survei', 89, 1), ('which', 94, 3), ('after', 103, 1), ('calendar', 104, 3), ('consequ', 105, 1), ('consid', 106, 1), ('least', 107, 1), ('possibl', 108, 1), ('report', 109, 2), ('result', 110, 2), ('subsequ', 111, 1), ('those', 112, 1), ('three', 113, 2)]\n",
            "[('level', 49, 1), ('servic', 85, 1), ('aggreg', 114, 2), ('amount', 115, 1), ('consumpt', 116, 1), ('demand', 117, 3), ('economi', 118, 1), ('expenditur', 119, 3), ('export', 120, 1), ('given', 121, 1), ('govern', 122, 1), ('invest', 123, 1), ('price', 124, 1), ('total', 125, 1)]\n",
            "[('between', 7, 1), ('includ', 44, 3), ('servic', 85, 4), ('which', 94, 2), ('consumpt', 116, 3), ('economi', 118, 1), ('export', 120, 1), ('price', 124, 2), ('total', 125, 1), ('account', 126, 2), ('balanc', 127, 1), ('basic', 128, 1), ('capit', 129, 1), ('final', 130, 1), ('format', 131, 1), ('import', 132, 1), ('intermedi', 133, 2), ('output', 134, 2), ('product', 135, 1), ('purchas', 136, 1), ('resourc', 137, 1), ('subsidi', 138, 1), ('suppli', 139, 1)]\n",
            "\n",
            "Total texts:  1285\n"
          ]
        }
      ],
      "source": [
        "\n",
        "from gensim import corpora\n",
        "\n",
        "#Create Dictionary\n",
        "id2word = corpora.Dictionary(texts) #Gensim creates a unique id for each word in the document. \n",
        "id2word.filter_extremes(no_below=0.01*len(texts), no_above=0.8)\n",
        "\n",
        "print(id2word,'\\n')\n",
        "\n",
        "corpus = [id2word.doc2bow(text) for text in texts] \n",
        "\n",
        "print('First 5 texts in BOW format:\\n')\n",
        "print(corpus[:5],'\\n')\n",
        "print('First 5 texts in BOW format together with terms:\\n')\n",
        "for i in range(5):\n",
        "    print([(id2word[term_id],term_id,freq) for (term_id,freq) in corpus[i]])\n",
        "\n",
        "print('\\nTotal texts: ',len(corpus))"
      ]
    },
    {
      "cell_type": "markdown",
      "metadata": {
        "id": "_JneDzFi4OlU"
      },
      "source": [
        "### 5. Grid search for the selection of the best LDA model.\n",
        "***\n",
        "The parameters in the call of the function _ldamodel.LdaModel()_ and the number of topics were selected by trial and error and also through **grid search runs**. The following dataframe and plot show the results of one **indicative** such run with a **subset** of the hyper-parameters. We run several such runs with different combinations and values for the hyper-parameters. \n",
        "\n",
        "Note that some parameters in the search (not shown in this example) were not related to the call to _gensim.models.ldamodel.LdaModel() function._ Examples were the lower and upper bounds on the appearance of terms in the texts.\n",
        "\n",
        "The quality measure for the selection of the best LDA model is the coherence score. This is based on the work in Röder, M., Both, A., & Hinneburg, A. (2015, February). Exploring the space of topic coherence measures. In *Proceedings of the eighth ACM international conference on Web search and data mining* (pp. 399-408), available [here](http://svn.aksw.org/papers/2015/WSDM_Topic_Evaluation/public.pdf). \n",
        "\n"
      ]
    },
    {
      "cell_type": "code",
      "execution_count": 16,
      "metadata": {
        "id": "_RFc3ZwG4OlU",
        "outputId": "55835b58-9718-4e64-f5e9-479342857386",
        "colab": {
          "base_uri": "https://localhost:8080/",
          "height": 424
        }
      },
      "outputs": [
        {
          "output_type": "execute_result",
          "data": {
            "text/html": [
              "\n",
              "  <div id=\"df-f85b9abd-abcb-4139-b23b-cde19d047dad\">\n",
              "    <div class=\"colab-df-container\">\n",
              "      <div>\n",
              "<style scoped>\n",
              "    .dataframe tbody tr th:only-of-type {\n",
              "        vertical-align: middle;\n",
              "    }\n",
              "\n",
              "    .dataframe tbody tr th {\n",
              "        vertical-align: top;\n",
              "    }\n",
              "\n",
              "    .dataframe thead th {\n",
              "        text-align: right;\n",
              "    }\n",
              "</style>\n",
              "<table border=\"1\" class=\"dataframe\">\n",
              "  <thead>\n",
              "    <tr style=\"text-align: right;\">\n",
              "      <th></th>\n",
              "      <th>num_topics</th>\n",
              "      <th>passes</th>\n",
              "      <th>alpha</th>\n",
              "      <th>decay</th>\n",
              "      <th>iterations</th>\n",
              "      <th>Coherence</th>\n",
              "    </tr>\n",
              "  </thead>\n",
              "  <tbody>\n",
              "    <tr>\n",
              "      <th>0</th>\n",
              "      <td>18</td>\n",
              "      <td>10</td>\n",
              "      <td>symmetric</td>\n",
              "      <td>0.50</td>\n",
              "      <td>250</td>\n",
              "      <td>0.403904</td>\n",
              "    </tr>\n",
              "    <tr>\n",
              "      <th>1</th>\n",
              "      <td>18</td>\n",
              "      <td>10</td>\n",
              "      <td>symmetric</td>\n",
              "      <td>0.50</td>\n",
              "      <td>500</td>\n",
              "      <td>0.405463</td>\n",
              "    </tr>\n",
              "    <tr>\n",
              "      <th>2</th>\n",
              "      <td>18</td>\n",
              "      <td>10</td>\n",
              "      <td>symmetric</td>\n",
              "      <td>0.75</td>\n",
              "      <td>250</td>\n",
              "      <td>0.382357</td>\n",
              "    </tr>\n",
              "    <tr>\n",
              "      <th>3</th>\n",
              "      <td>18</td>\n",
              "      <td>10</td>\n",
              "      <td>symmetric</td>\n",
              "      <td>0.75</td>\n",
              "      <td>500</td>\n",
              "      <td>0.388442</td>\n",
              "    </tr>\n",
              "    <tr>\n",
              "      <th>4</th>\n",
              "      <td>18</td>\n",
              "      <td>10</td>\n",
              "      <td>symmetric</td>\n",
              "      <td>1.00</td>\n",
              "      <td>250</td>\n",
              "      <td>0.361309</td>\n",
              "    </tr>\n",
              "    <tr>\n",
              "      <th>...</th>\n",
              "      <td>...</td>\n",
              "      <td>...</td>\n",
              "      <td>...</td>\n",
              "      <td>...</td>\n",
              "      <td>...</td>\n",
              "      <td>...</td>\n",
              "    </tr>\n",
              "    <tr>\n",
              "      <th>103</th>\n",
              "      <td>22</td>\n",
              "      <td>50</td>\n",
              "      <td>auto</td>\n",
              "      <td>0.50</td>\n",
              "      <td>500</td>\n",
              "      <td>0.421268</td>\n",
              "    </tr>\n",
              "    <tr>\n",
              "      <th>104</th>\n",
              "      <td>22</td>\n",
              "      <td>50</td>\n",
              "      <td>auto</td>\n",
              "      <td>0.75</td>\n",
              "      <td>250</td>\n",
              "      <td>0.417549</td>\n",
              "    </tr>\n",
              "    <tr>\n",
              "      <th>105</th>\n",
              "      <td>22</td>\n",
              "      <td>50</td>\n",
              "      <td>auto</td>\n",
              "      <td>0.75</td>\n",
              "      <td>500</td>\n",
              "      <td>0.417838</td>\n",
              "    </tr>\n",
              "    <tr>\n",
              "      <th>106</th>\n",
              "      <td>22</td>\n",
              "      <td>50</td>\n",
              "      <td>auto</td>\n",
              "      <td>1.00</td>\n",
              "      <td>250</td>\n",
              "      <td>0.401768</td>\n",
              "    </tr>\n",
              "    <tr>\n",
              "      <th>107</th>\n",
              "      <td>22</td>\n",
              "      <td>50</td>\n",
              "      <td>auto</td>\n",
              "      <td>1.00</td>\n",
              "      <td>500</td>\n",
              "      <td>0.403842</td>\n",
              "    </tr>\n",
              "  </tbody>\n",
              "</table>\n",
              "<p>108 rows × 6 columns</p>\n",
              "</div>\n",
              "      <button class=\"colab-df-convert\" onclick=\"convertToInteractive('df-f85b9abd-abcb-4139-b23b-cde19d047dad')\"\n",
              "              title=\"Convert this dataframe to an interactive table.\"\n",
              "              style=\"display:none;\">\n",
              "        \n",
              "  <svg xmlns=\"http://www.w3.org/2000/svg\" height=\"24px\"viewBox=\"0 0 24 24\"\n",
              "       width=\"24px\">\n",
              "    <path d=\"M0 0h24v24H0V0z\" fill=\"none\"/>\n",
              "    <path d=\"M18.56 5.44l.94 2.06.94-2.06 2.06-.94-2.06-.94-.94-2.06-.94 2.06-2.06.94zm-11 1L8.5 8.5l.94-2.06 2.06-.94-2.06-.94L8.5 2.5l-.94 2.06-2.06.94zm10 10l.94 2.06.94-2.06 2.06-.94-2.06-.94-.94-2.06-.94 2.06-2.06.94z\"/><path d=\"M17.41 7.96l-1.37-1.37c-.4-.4-.92-.59-1.43-.59-.52 0-1.04.2-1.43.59L10.3 9.45l-7.72 7.72c-.78.78-.78 2.05 0 2.83L4 21.41c.39.39.9.59 1.41.59.51 0 1.02-.2 1.41-.59l7.78-7.78 2.81-2.81c.8-.78.8-2.07 0-2.86zM5.41 20L4 18.59l7.72-7.72 1.47 1.35L5.41 20z\"/>\n",
              "  </svg>\n",
              "      </button>\n",
              "      \n",
              "  <style>\n",
              "    .colab-df-container {\n",
              "      display:flex;\n",
              "      flex-wrap:wrap;\n",
              "      gap: 12px;\n",
              "    }\n",
              "\n",
              "    .colab-df-convert {\n",
              "      background-color: #E8F0FE;\n",
              "      border: none;\n",
              "      border-radius: 50%;\n",
              "      cursor: pointer;\n",
              "      display: none;\n",
              "      fill: #1967D2;\n",
              "      height: 32px;\n",
              "      padding: 0 0 0 0;\n",
              "      width: 32px;\n",
              "    }\n",
              "\n",
              "    .colab-df-convert:hover {\n",
              "      background-color: #E2EBFA;\n",
              "      box-shadow: 0px 1px 2px rgba(60, 64, 67, 0.3), 0px 1px 3px 1px rgba(60, 64, 67, 0.15);\n",
              "      fill: #174EA6;\n",
              "    }\n",
              "\n",
              "    [theme=dark] .colab-df-convert {\n",
              "      background-color: #3B4455;\n",
              "      fill: #D2E3FC;\n",
              "    }\n",
              "\n",
              "    [theme=dark] .colab-df-convert:hover {\n",
              "      background-color: #434B5C;\n",
              "      box-shadow: 0px 1px 3px 1px rgba(0, 0, 0, 0.15);\n",
              "      filter: drop-shadow(0px 1px 2px rgba(0, 0, 0, 0.3));\n",
              "      fill: #FFFFFF;\n",
              "    }\n",
              "  </style>\n",
              "\n",
              "      <script>\n",
              "        const buttonEl =\n",
              "          document.querySelector('#df-f85b9abd-abcb-4139-b23b-cde19d047dad button.colab-df-convert');\n",
              "        buttonEl.style.display =\n",
              "          google.colab.kernel.accessAllowed ? 'block' : 'none';\n",
              "\n",
              "        async function convertToInteractive(key) {\n",
              "          const element = document.querySelector('#df-f85b9abd-abcb-4139-b23b-cde19d047dad');\n",
              "          const dataTable =\n",
              "            await google.colab.kernel.invokeFunction('convertToInteractive',\n",
              "                                                     [key], {});\n",
              "          if (!dataTable) return;\n",
              "\n",
              "          const docLinkHtml = 'Like what you see? Visit the ' +\n",
              "            '<a target=\"_blank\" href=https://colab.research.google.com/notebooks/data_table.ipynb>data table notebook</a>'\n",
              "            + ' to learn more about interactive tables.';\n",
              "          element.innerHTML = '';\n",
              "          dataTable['output_type'] = 'display_data';\n",
              "          await google.colab.output.renderOutput(dataTable, element);\n",
              "          const docLink = document.createElement('div');\n",
              "          docLink.innerHTML = docLinkHtml;\n",
              "          element.appendChild(docLink);\n",
              "        }\n",
              "      </script>\n",
              "    </div>\n",
              "  </div>\n",
              "  "
            ],
            "text/plain": [
              "     num_topics  passes      alpha  decay  iterations  Coherence\n",
              "0            18      10  symmetric   0.50         250   0.403904\n",
              "1            18      10  symmetric   0.50         500   0.405463\n",
              "2            18      10  symmetric   0.75         250   0.382357\n",
              "3            18      10  symmetric   0.75         500   0.388442\n",
              "4            18      10  symmetric   1.00         250   0.361309\n",
              "..          ...     ...        ...    ...         ...        ...\n",
              "103          22      50       auto   0.50         500   0.421268\n",
              "104          22      50       auto   0.75         250   0.417549\n",
              "105          22      50       auto   0.75         500   0.417838\n",
              "106          22      50       auto   1.00         250   0.401768\n",
              "107          22      50       auto   1.00         500   0.403842\n",
              "\n",
              "[108 rows x 6 columns]"
            ]
          },
          "metadata": {},
          "execution_count": 16
        }
      ],
      "source": [
        "grid = pd.read_excel('/content/drive/MyDrive/grid.xlsx',index_col=0)   \n",
        "grid"
      ]
    },
    {
      "cell_type": "code",
      "execution_count": 17,
      "metadata": {
        "id": "d_xVcYqg4OlV",
        "outputId": "3e9636b9-49e9-41db-f5f0-13dfad6e4eb7",
        "colab": {
          "base_uri": "https://localhost:8080/",
          "height": 279
        }
      },
      "outputs": [
        {
          "output_type": "display_data",
          "data": {
            "image/png": "[encoded data removed]",
            "text/plain": [
              "<Figure size 432x288 with 1 Axes>"
            ]
          },
          "metadata": {
            "needs_background": "light"
          }
        }
      ],
      "source": [
        "grid.plot.line(y='Coherence')\n",
        "_ = plt.xlabel(\"Iteration\")"
      ]
    },
    {
      "cell_type": "markdown",
      "metadata": {
        "id": "MRjTxWzr4OlV"
      },
      "source": [
        "The (disabled) code for this **indicative** grid search is shown below. Do **not** comment-out the first line. "
      ]
    },
    {
      "cell_type": "code",
      "execution_count": 18,
      "metadata": {
        "id": "mjDut4o74OlV"
      },
      "outputs": [],
      "source": [
        "%%script false --no-raise-error ## DO NOT UN-COMMENT THIS! THIS CELL IS NOT SUPPOSED TO RUN\n",
        "\n",
        "from gensim.models import CoherenceModel\n",
        "from itertools import product\n",
        "\n",
        "def expand_grid(dictionary):\n",
        "    return pd.DataFrame([row for row in product(*dictionary.values())], \n",
        "                       columns=dictionary.keys())\n",
        "\n",
        "dictionary = {'num_topics':[18,20,22], 'passes': [10,50], 'alpha': ['symmetric', 'asymmetric','auto'], \n",
        "              'decay': [0.5, 0.75, 1], 'iterations':[250,500]}\n",
        "\n",
        "grid = expand_grid(dictionary)\n",
        "print(grid)\n",
        "best_coherence = 0\n",
        "best_params = -1\n",
        "for i in range(len(grid)):\n",
        "    \n",
        "    print('Testing with row ',i+1,' of ',len(grid),'\\n')\n",
        "    lda_model = gensim.models.ldamodel.LdaModel(corpus=corpus,\n",
        "                                           id2word=id2word,\n",
        "                                           num_topics=grid.loc[i,'num_topics'],\n",
        "                                           random_state=100,\n",
        "                                           update_every=0,\n",
        "                                           passes=grid.loc[i,'passes'],\n",
        "                                           alpha=grid.loc[i,'alpha'],\n",
        "                                           iterations=grid.loc[i,'iterations'],\n",
        "                                           decay = grid.loc[i,'decay'],\n",
        "                                           per_word_topics=True)\n",
        "    \n",
        "    print(grid.loc[i,:])\n",
        "    \n",
        "    coherence_model_lda = CoherenceModel(model=lda_model, texts=texts, dictionary=id2word, coherence='c_v')\n",
        "    coherence_lda = coherence_model_lda.get_coherence()\n",
        "    print('\\nCoherence Score: ', coherence_lda,'\\n')\n",
        "    grid.loc[i,'Coherence'] = coherence_lda\n",
        "    \n",
        "    if coherence_lda > best_coherence:\n",
        "        best_coherence = coherence_lda\n",
        "        best_params = i\n",
        "        \n",
        "    print('\\nBest so far: ',best_coherence,' at row ',best_params,'\\n')    \n",
        "\n",
        "    grid.to_excel('grid.xlsx')"
      ]
    },
    {
      "cell_type": "markdown",
      "metadata": {
        "id": "5FFYiN5e4OlW"
      },
      "source": [
        "### 6. Fitting the selected LDA model\n",
        "***\n",
        "\n",
        "The next code shows the fitting of the LDA model with the selected parameters found (20 topics). These are not exactly the ones shown in the indicative grid search shown previously. For example, we found that we had to lower a little the _decay_ parameter. The coherence value of 0.42 is considered adequate. We store the fitted model in an object _lda_model_."
      ]
    },
    {
      "cell_type": "code",
      "execution_count": 19,
      "metadata": {
        "id": "ikEvm4VM4OlW",
        "outputId": "9ea73c32-1c28-46eb-e811-a860139943ce",
        "colab": {
          "base_uri": "https://localhost:8080/"
        }
      },
      "outputs": [
        {
          "output_type": "stream",
          "name": "stdout",
          "text": [
            "\n",
            "Coherence Score:  0.41994735158181695\n"
          ]
        }
      ],
      "source": [
        "#Build LDA model\n",
        "\n",
        "num_topics = 20\n",
        "passes = 50\n",
        "alpha='symmetric'\n",
        "iterations = 500\n",
        "decay = 0.40\n",
        "\n",
        "lda_model = gensim.models.ldamodel.LdaModel(corpus=corpus,\n",
        "                                           id2word=id2word,\n",
        "                                           num_topics=num_topics, \n",
        "                                           random_state=100,\n",
        "                                           update_every=0,\n",
        "                                           passes=passes,\n",
        "                                           alpha=alpha,\n",
        "                                           iterations=iterations,\n",
        "                                           decay = decay,\n",
        "                                           per_word_topics=True)\n",
        "\n",
        "\n",
        "from gensim.models import CoherenceModel\n",
        "coherence_model_lda = CoherenceModel(model=lda_model, texts=texts, dictionary=id2word, coherence='c_v')\n",
        "coherence_lda = coherence_model_lda.get_coherence()\n",
        "print('\\nCoherence Score: ', coherence_lda)"
      ]
    },
    {
      "cell_type": "markdown",
      "metadata": {
        "id": "t7R0kayW4OlX"
      },
      "source": [
        "### 7. Identification of the dominant topic per document.\n",
        "***\n",
        "In this section, we identify the dominant topic, its weight and its keywords, for each document. We define a dataframe _df_topic_sents_keywords_  in order to store these results. As it will be seen later, these are very useful as **complementary information to find and/or verify the interpretation of the topics**.\n",
        "\n",
        "In function _format_topics_sentences()_ below, the list _ldamodel[corpus]_ has one nested list element per text. Each nested list contains tuples of the form (topic, contribution). We sort the firts element of each nested list by descending contribution to find the dominant topic and then, we retrieve for this topic, the list _wp_ of tuples (word, probability) for the most probable words, using the function _ldamodel.show_topic()_. We join these words into a list and put the result in column 'Topic_Keywords' of the dataframe.  \n"
      ]
    },
    {
      "cell_type": "code",
      "execution_count": 20,
      "metadata": {
        "id": "ncaEYE004OlX"
      },
      "outputs": [],
      "source": [
        "def format_topics_sentences(ldamodel=None, corpus=corpus):\n",
        "\n",
        "    sent_topics_df = pd.DataFrame()\n",
        "\n",
        "    # Get main topic in each document\n",
        "    for i, row_list in enumerate(ldamodel[corpus]): \n",
        "        row = row_list[0]\n",
        "        row = sorted(row, key=lambda x: (x[1]), reverse=True) ## sort the nested list by descending contribution\n",
        "        # Get the Dominant topic, Perc Contribution and Keywords for each document\n",
        "        topic_num, prop_topic = row[0]\n",
        "        wp = ldamodel.show_topic(topic_num)\n",
        "        topic_keywords = \", \".join([word for word, prop in wp])\n",
        "        sent_topics_df = sent_topics_df.append(pd.Series([int(topic_num), round(prop_topic,4), topic_keywords]), ignore_index=True)\n",
        "    sent_topics_df.columns = ['Dominant_Topic', 'Perc_Contribution', 'Topic_Keywords']\n",
        "\n",
        "    # Add original tokenized text and title to the end of the output\n",
        "    contents = pd.Series(texts)\n",
        "    sent_topics_df = pd.concat([sent_topics_df, contents], axis=1)\n",
        "    sent_topics_df = pd.concat([sent_topics_df, Gloss_concepts['id'],Gloss_concepts['title']], axis=1)\n",
        "    return(sent_topics_df)"
      ]
    },
    {
      "cell_type": "code",
      "execution_count": 21,
      "metadata": {
        "id": "CzPZZ4xt4OlY",
        "outputId": "6bf0e1ce-98a9-48f9-8605-e708a171a010",
        "colab": {
          "base_uri": "https://localhost:8080/",
          "height": 658
        }
      },
      "outputs": [
        {
          "output_type": "execute_result",
          "data": {
            "text/html": [
              "\n",
              "  <div id=\"df-76fdade8-9969-4095-a89d-df4504edec68\">\n",
              "    <div class=\"colab-df-container\">\n",
              "      <div>\n",
              "<style scoped>\n",
              "    .dataframe tbody tr th:only-of-type {\n",
              "        vertical-align: middle;\n",
              "    }\n",
              "\n",
              "    .dataframe tbody tr th {\n",
              "        vertical-align: top;\n",
              "    }\n",
              "\n",
              "    .dataframe thead th {\n",
              "        text-align: right;\n",
              "    }\n",
              "</style>\n",
              "<table border=\"1\" class=\"dataframe\">\n",
              "  <thead>\n",
              "    <tr style=\"text-align: right;\">\n",
              "      <th></th>\n",
              "      <th>Text id</th>\n",
              "      <th>Text title</th>\n",
              "      <th>Text tokenized definition</th>\n",
              "      <th>Dominant_Topic</th>\n",
              "      <th>Perc_Contribution</th>\n",
              "      <th>Topic_Keywords</th>\n",
              "    </tr>\n",
              "  </thead>\n",
              "  <tbody>\n",
              "    <tr>\n",
              "      <th>0</th>\n",
              "      <td>1</td>\n",
              "      <td>Accident at work</td>\n",
              "      <td>[accid, accid, framework, administr, collect, ...</td>\n",
              "      <td>19</td>\n",
              "      <td>0.3385</td>\n",
              "      <td>enterpris, activ, legal, internet, which, publ...</td>\n",
              "    </tr>\n",
              "    <tr>\n",
              "      <th>1</th>\n",
              "      <td>5</td>\n",
              "      <td>Fatal accident at work</td>\n",
              "      <td>[fatal, accid, fatal, accid, refer, accid, whi...</td>\n",
              "      <td>18</td>\n",
              "      <td>0.8100</td>\n",
              "      <td>death, statist, index, explain, eurostat, glos...</td>\n",
              "    </tr>\n",
              "    <tr>\n",
              "      <th>2</th>\n",
              "      <td>6</td>\n",
              "      <td>Non-fatal accident at work</td>\n",
              "      <td>[fatal, accid, fatal, accid, accid, which, vic...</td>\n",
              "      <td>16</td>\n",
              "      <td>0.4617</td>\n",
              "      <td>build, tourism, permit, other, accommod, least...</td>\n",
              "    </tr>\n",
              "    <tr>\n",
              "      <th>3</th>\n",
              "      <td>8</td>\n",
              "      <td>Aggregate demand</td>\n",
              "      <td>[aggreg, demand, aggreg, demand, total, amount...</td>\n",
              "      <td>2</td>\n",
              "      <td>0.3477</td>\n",
              "      <td>govern, local, statist, sourc, balanc, public,...</td>\n",
              "    </tr>\n",
              "    <tr>\n",
              "      <th>4</th>\n",
              "      <td>9</td>\n",
              "      <td>Goods and services account</td>\n",
              "      <td>[servic, account, servic, account, balanc, bet...</td>\n",
              "      <td>3</td>\n",
              "      <td>0.9159</td>\n",
              "      <td>product, consumpt, gross, produc, output, mark...</td>\n",
              "    </tr>\n",
              "    <tr>\n",
              "      <th>...</th>\n",
              "      <td>...</td>\n",
              "      <td>...</td>\n",
              "      <td>...</td>\n",
              "      <td>...</td>\n",
              "      <td>...</td>\n",
              "      <td>...</td>\n",
              "    </tr>\n",
              "    <tr>\n",
              "      <th>1280</th>\n",
              "      <td>2319</td>\n",
              "      <td>Actual individual consumption (AIC)</td>\n",
              "      <td>[actual, individu, consumpt, actual, individu,...</td>\n",
              "      <td>9</td>\n",
              "      <td>0.5152</td>\n",
              "      <td>price, index, servic, transport, countri, indi...</td>\n",
              "    </tr>\n",
              "    <tr>\n",
              "      <th>1281</th>\n",
              "      <td>2321</td>\n",
              "      <td>Activity rate</td>\n",
              "      <td>[activ, activ, percentag, activ, person, relat...</td>\n",
              "      <td>5</td>\n",
              "      <td>0.8030</td>\n",
              "      <td>labour, employ, person, emploi, employe, peopl...</td>\n",
              "    </tr>\n",
              "    <tr>\n",
              "      <th>1282</th>\n",
              "      <td>2322</td>\n",
              "      <td>Activation policies</td>\n",
              "      <td>[activ, polici, activ, polici, polici, design,...</td>\n",
              "      <td>5</td>\n",
              "      <td>0.6403</td>\n",
              "      <td>labour, employ, person, emploi, employe, peopl...</td>\n",
              "    </tr>\n",
              "    <tr>\n",
              "      <th>1283</th>\n",
              "      <td>2324</td>\n",
              "      <td>Active enterprises - FRIBS</td>\n",
              "      <td>[activ, enterpris, brief, orient, definit, sen...</td>\n",
              "      <td>18</td>\n",
              "      <td>0.8135</td>\n",
              "      <td>death, statist, index, explain, eurostat, glos...</td>\n",
              "    </tr>\n",
              "    <tr>\n",
              "      <th>1284</th>\n",
              "      <td>10554</td>\n",
              "      <td>Glossary</td>\n",
              "      <td>[glossari, glossari, contain, short, definit, ...</td>\n",
              "      <td>18</td>\n",
              "      <td>0.5062</td>\n",
              "      <td>death, statist, index, explain, eurostat, glos...</td>\n",
              "    </tr>\n",
              "  </tbody>\n",
              "</table>\n",
              "<p>1285 rows × 6 columns</p>\n",
              "</div>\n",
              "      <button class=\"colab-df-convert\" onclick=\"convertToInteractive('df-76fdade8-9969-4095-a89d-df4504edec68')\"\n",
              "              title=\"Convert this dataframe to an interactive table.\"\n",
              "              style=\"display:none;\">\n",
              "        \n",
              "  <svg xmlns=\"http://www.w3.org/2000/svg\" height=\"24px\"viewBox=\"0 0 24 24\"\n",
              "       width=\"24px\">\n",
              "    <path d=\"M0 0h24v24H0V0z\" fill=\"none\"/>\n",
              "    <path d=\"M18.56 5.44l.94 2.06.94-2.06 2.06-.94-2.06-.94-.94-2.06-.94 2.06-2.06.94zm-11 1L8.5 8.5l.94-2.06 2.06-.94-2.06-.94L8.5 2.5l-.94 2.06-2.06.94zm10 10l.94 2.06.94-2.06 2.06-.94-2.06-.94-.94-2.06-.94 2.06-2.06.94z\"/><path d=\"M17.41 7.96l-1.37-1.37c-.4-.4-.92-.59-1.43-.59-.52 0-1.04.2-1.43.59L10.3 9.45l-7.72 7.72c-.78.78-.78 2.05 0 2.83L4 21.41c.39.39.9.59 1.41.59.51 0 1.02-.2 1.41-.59l7.78-7.78 2.81-2.81c.8-.78.8-2.07 0-2.86zM5.41 20L4 18.59l7.72-7.72 1.47 1.35L5.41 20z\"/>\n",
              "  </svg>\n",
              "      </button>\n",
              "      \n",
              "  <style>\n",
              "    .colab-df-container {\n",
              "      display:flex;\n",
              "      flex-wrap:wrap;\n",
              "      gap: 12px;\n",
              "    }\n",
              "\n",
              "    .colab-df-convert {\n",
              "      background-color: #E8F0FE;\n",
              "      border: none;\n",
              "      border-radius: 50%;\n",
              "      cursor: pointer;\n",
              "      display: none;\n",
              "      fill: #1967D2;\n",
              "      height: 32px;\n",
              "      padding: 0 0 0 0;\n",
              "      width: 32px;\n",
              "    }\n",
              "\n",
              "    .colab-df-convert:hover {\n",
              "      background-color: #E2EBFA;\n",
              "      box-shadow: 0px 1px 2px rgba(60, 64, 67, 0.3), 0px 1px 3px 1px rgba(60, 64, 67, 0.15);\n",
              "      fill: #174EA6;\n",
              "    }\n",
              "\n",
              "    [theme=dark] .colab-df-convert {\n",
              "      background-color: #3B4455;\n",
              "      fill: #D2E3FC;\n",
              "    }\n",
              "\n",
              "    [theme=dark] .colab-df-convert:hover {\n",
              "      background-color: #434B5C;\n",
              "      box-shadow: 0px 1px 3px 1px rgba(0, 0, 0, 0.15);\n",
              "      filter: drop-shadow(0px 1px 2px rgba(0, 0, 0, 0.3));\n",
              "      fill: #FFFFFF;\n",
              "    }\n",
              "  </style>\n",
              "\n",
              "      <script>\n",
              "        const buttonEl =\n",
              "          document.querySelector('#df-76fdade8-9969-4095-a89d-df4504edec68 button.colab-df-convert');\n",
              "        buttonEl.style.display =\n",
              "          google.colab.kernel.accessAllowed ? 'block' : 'none';\n",
              "\n",
              "        async function convertToInteractive(key) {\n",
              "          const element = document.querySelector('#df-76fdade8-9969-4095-a89d-df4504edec68');\n",
              "          const dataTable =\n",
              "            await google.colab.kernel.invokeFunction('convertToInteractive',\n",
              "                                                     [key], {});\n",
              "          if (!dataTable) return;\n",
              "\n",
              "          const docLinkHtml = 'Like what you see? Visit the ' +\n",
              "            '<a target=\"_blank\" href=https://colab.research.google.com/notebooks/data_table.ipynb>data table notebook</a>'\n",
              "            + ' to learn more about interactive tables.';\n",
              "          element.innerHTML = '';\n",
              "          dataTable['output_type'] = 'display_data';\n",
              "          await google.colab.output.renderOutput(dataTable, element);\n",
              "          const docLink = document.createElement('div');\n",
              "          docLink.innerHTML = docLinkHtml;\n",
              "          element.appendChild(docLink);\n",
              "        }\n",
              "      </script>\n",
              "    </div>\n",
              "  </div>\n",
              "  "
            ],
            "text/plain": [
              "      Text id  ...                                     Topic_Keywords\n",
              "0           1  ...  enterpris, activ, legal, internet, which, publ...\n",
              "1           5  ...  death, statist, index, explain, eurostat, glos...\n",
              "2           6  ...  build, tourism, permit, other, accommod, least...\n",
              "3           8  ...  govern, local, statist, sourc, balanc, public,...\n",
              "4           9  ...  product, consumpt, gross, produc, output, mark...\n",
              "...       ...  ...                                                ...\n",
              "1280     2319  ...  price, index, servic, transport, countri, indi...\n",
              "1281     2321  ...  labour, employ, person, emploi, employe, peopl...\n",
              "1282     2322  ...  labour, employ, person, emploi, employe, peopl...\n",
              "1283     2324  ...  death, statist, index, explain, eurostat, glos...\n",
              "1284    10554  ...  death, statist, index, explain, eurostat, glos...\n",
              "\n",
              "[1285 rows x 6 columns]"
            ]
          },
          "metadata": {},
          "execution_count": 21
        }
      ],
      "source": [
        "df_topic_sents_keywords = format_topics_sentences(ldamodel=lda_model, corpus=corpus)\n",
        "df_topic_sents_keywords.rename(columns = {0:'Text tokenized definition'}, inplace = True)\n",
        "df_topic_sents_keywords.rename(columns = {'id':'Text id','title':'Text title'}, inplace = True)\n",
        "df_topic_sents_keywords = df_topic_sents_keywords[['Text id','Text title','Text tokenized definition','Dominant_Topic', 'Perc_Contribution', 'Topic_Keywords']]\n",
        "df_topic_sents_keywords['Dominant_Topic'] = df_topic_sents_keywords['Dominant_Topic'].astype(int)\n",
        "df_topic_sents_keywords\n"
      ]
    },
    {
      "cell_type": "markdown",
      "metadata": {
        "id": "QIDxo6sA4OlY"
      },
      "source": [
        "### 8. Most representative document for each topic.\n",
        "***\n",
        "\n",
        "Here, we are searching for the reverse, i.e. we want to find the document that best represents a given topic.We create the dataframe _sent_topics_sorteddf_mallet_ to store the results."
      ]
    },
    {
      "cell_type": "code",
      "execution_count": 22,
      "metadata": {
        "id": "XM3j2oi54OlY",
        "outputId": "51f493d6-f766-4183-9ee8-27690d13ef47",
        "colab": {
          "base_uri": "https://localhost:8080/",
          "height": 676
        }
      },
      "outputs": [
        {
          "output_type": "execute_result",
          "data": {
            "text/html": [
              "\n",
              "  <div id=\"df-db8bd31f-f384-42ec-a423-a4227fbdd30e\">\n",
              "    <div class=\"colab-df-container\">\n",
              "      <div>\n",
              "<style scoped>\n",
              "    .dataframe tbody tr th:only-of-type {\n",
              "        vertical-align: middle;\n",
              "    }\n",
              "\n",
              "    .dataframe tbody tr th {\n",
              "        vertical-align: top;\n",
              "    }\n",
              "\n",
              "    .dataframe thead th {\n",
              "        text-align: right;\n",
              "    }\n",
              "</style>\n",
              "<table border=\"1\" class=\"dataframe\">\n",
              "  <thead>\n",
              "    <tr style=\"text-align: right;\">\n",
              "      <th></th>\n",
              "      <th>Topic_Num</th>\n",
              "      <th>Topic_Perc_Contrib</th>\n",
              "      <th>Topic Keywords</th>\n",
              "      <th>Text id</th>\n",
              "      <th>Text title</th>\n",
              "    </tr>\n",
              "  </thead>\n",
              "  <tbody>\n",
              "    <tr>\n",
              "      <th>0</th>\n",
              "      <td>0</td>\n",
              "      <td>0.9887</td>\n",
              "      <td>financi, social, incom, account, asset, transf...</td>\n",
              "      <td>1918</td>\n",
              "      <td>Financial instruments</td>\n",
              "    </tr>\n",
              "    <tr>\n",
              "      <th>1</th>\n",
              "      <td>1</td>\n",
              "      <td>0.9920</td>\n",
              "      <td>manur, where, forecast, cover, water, liquid, ...</td>\n",
              "      <td>96</td>\n",
              "      <td>Cattle housing</td>\n",
              "    </tr>\n",
              "    <tr>\n",
              "      <th>2</th>\n",
              "      <td>2</td>\n",
              "      <td>0.9789</td>\n",
              "      <td>govern, local, statist, sourc, balanc, public,...</td>\n",
              "      <td>382</td>\n",
              "      <td>Glossary:Government budget allocations for R&amp;D...</td>\n",
              "    </tr>\n",
              "    <tr>\n",
              "      <th>3</th>\n",
              "      <td>3</td>\n",
              "      <td>0.9789</td>\n",
              "      <td>product, consumpt, gross, produc, output, mark...</td>\n",
              "      <td>936</td>\n",
              "      <td>Production account</td>\n",
              "    </tr>\n",
              "    <tr>\n",
              "      <th>4</th>\n",
              "      <td>4</td>\n",
              "      <td>0.9894</td>\n",
              "      <td>product, innov, process, account, environment,...</td>\n",
              "      <td>1291</td>\n",
              "      <td>Process innovation</td>\n",
              "    </tr>\n",
              "    <tr>\n",
              "      <th>5</th>\n",
              "      <td>5</td>\n",
              "      <td>0.9798</td>\n",
              "      <td>labour, employ, person, emploi, employe, peopl...</td>\n",
              "      <td>859</td>\n",
              "      <td>Person available to work but not seeking</td>\n",
              "    </tr>\n",
              "    <tr>\n",
              "      <th>6</th>\n",
              "      <td>6</td>\n",
              "      <td>0.9806</td>\n",
              "      <td>applic, protect, person, vehicl, decis, includ...</td>\n",
              "      <td>667</td>\n",
              "      <td>Temporary protection</td>\n",
              "    </tr>\n",
              "    <tr>\n",
              "      <th>7</th>\n",
              "      <td>7</td>\n",
              "      <td>0.9950</td>\n",
              "      <td>materi, water, which, includ, organ, input, pr...</td>\n",
              "      <td>290</td>\n",
              "      <td>Material flow indicators</td>\n",
              "    </tr>\n",
              "    <tr>\n",
              "      <th>8</th>\n",
              "      <td>8</td>\n",
              "      <td>0.9905</td>\n",
              "      <td>activ, servic, technolog, research, trade, sci...</td>\n",
              "      <td>938</td>\n",
              "      <td>Human resources in science and technology (HRST)</td>\n",
              "    </tr>\n",
              "    <tr>\n",
              "      <th>9</th>\n",
              "      <td>9</td>\n",
              "      <td>0.9814</td>\n",
              "      <td>price, index, servic, transport, countri, indi...</td>\n",
              "      <td>504</td>\n",
              "      <td>Transport mode</td>\n",
              "    </tr>\n",
              "    <tr>\n",
              "      <th>10</th>\n",
              "      <td>10</td>\n",
              "      <td>0.9821</td>\n",
              "      <td>region, resid, countri, level, popul, territor...</td>\n",
              "      <td>1504</td>\n",
              "      <td>Mountain region</td>\n",
              "    </tr>\n",
              "    <tr>\n",
              "      <th>11</th>\n",
              "      <td>11</td>\n",
              "      <td>0.9852</td>\n",
              "      <td>statist, survei, classif, collect, inform, eur...</td>\n",
              "      <td>153</td>\n",
              "      <td>Statistical classification of economic activit...</td>\n",
              "    </tr>\n",
              "    <tr>\n",
              "      <th>12</th>\n",
              "      <td>12</td>\n",
              "      <td>0.9951</td>\n",
              "      <td>agricultur, product, which, other, plant, incl...</td>\n",
              "      <td>1081</td>\n",
              "      <td>Soil cover</td>\n",
              "    </tr>\n",
              "    <tr>\n",
              "      <th>13</th>\n",
              "      <td>13</td>\n",
              "      <td>0.9839</td>\n",
              "      <td>popul, number, household, incom, period, refer...</td>\n",
              "      <td>1754</td>\n",
              "      <td>Income quintile group</td>\n",
              "    </tr>\n",
              "    <tr>\n",
              "      <th>14</th>\n",
              "      <td>14</td>\n",
              "      <td>0.9798</td>\n",
              "      <td>indic, health, energi, econom, european, devel...</td>\n",
              "      <td>515</td>\n",
              "      <td>Chronic morbidity</td>\n",
              "    </tr>\n",
              "    <tr>\n",
              "      <th>15</th>\n",
              "      <td>15</td>\n",
              "      <td>0.9802</td>\n",
              "      <td>expenditur, invest, equival, includ, direct, c...</td>\n",
              "      <td>436</td>\n",
              "      <td>Hotels and similar accommodation</td>\n",
              "    </tr>\n",
              "    <tr>\n",
              "      <th>16</th>\n",
              "      <td>16</td>\n",
              "      <td>0.9903</td>\n",
              "      <td>build, tourism, permit, other, accommod, least...</td>\n",
              "      <td>2063</td>\n",
              "      <td>Building</td>\n",
              "    </tr>\n",
              "    <tr>\n",
              "      <th>17</th>\n",
              "      <td>17</td>\n",
              "      <td>0.9892</td>\n",
              "      <td>european, state, member, countri, union, natio...</td>\n",
              "      <td>335</td>\n",
              "      <td>Euro area enlargements</td>\n",
              "    </tr>\n",
              "    <tr>\n",
              "      <th>18</th>\n",
              "      <td>18</td>\n",
              "      <td>0.9762</td>\n",
              "      <td>death, statist, index, explain, eurostat, glos...</td>\n",
              "      <td>85</td>\n",
              "      <td>External cause of death</td>\n",
              "    </tr>\n",
              "    <tr>\n",
              "      <th>19</th>\n",
              "      <td>19</td>\n",
              "      <td>0.9587</td>\n",
              "      <td>enterpris, activ, legal, internet, which, publ...</td>\n",
              "      <td>2233</td>\n",
              "      <td>Break-up of enterprises</td>\n",
              "    </tr>\n",
              "  </tbody>\n",
              "</table>\n",
              "</div>\n",
              "      <button class=\"colab-df-convert\" onclick=\"convertToInteractive('df-db8bd31f-f384-42ec-a423-a4227fbdd30e')\"\n",
              "              title=\"Convert this dataframe to an interactive table.\"\n",
              "              style=\"display:none;\">\n",
              "        \n",
              "  <svg xmlns=\"http://www.w3.org/2000/svg\" height=\"24px\"viewBox=\"0 0 24 24\"\n",
              "       width=\"24px\">\n",
              "    <path d=\"M0 0h24v24H0V0z\" fill=\"none\"/>\n",
              "    <path d=\"M18.56 5.44l.94 2.06.94-2.06 2.06-.94-2.06-.94-.94-2.06-.94 2.06-2.06.94zm-11 1L8.5 8.5l.94-2.06 2.06-.94-2.06-.94L8.5 2.5l-.94 2.06-2.06.94zm10 10l.94 2.06.94-2.06 2.06-.94-2.06-.94-.94-2.06-.94 2.06-2.06.94z\"/><path d=\"M17.41 7.96l-1.37-1.37c-.4-.4-.92-.59-1.43-.59-.52 0-1.04.2-1.43.59L10.3 9.45l-7.72 7.72c-.78.78-.78 2.05 0 2.83L4 21.41c.39.39.9.59 1.41.59.51 0 1.02-.2 1.41-.59l7.78-7.78 2.81-2.81c.8-.78.8-2.07 0-2.86zM5.41 20L4 18.59l7.72-7.72 1.47 1.35L5.41 20z\"/>\n",
              "  </svg>\n",
              "      </button>\n",
              "      \n",
              "  <style>\n",
              "    .colab-df-container {\n",
              "      display:flex;\n",
              "      flex-wrap:wrap;\n",
              "      gap: 12px;\n",
              "    }\n",
              "\n",
              "    .colab-df-convert {\n",
              "      background-color: #E8F0FE;\n",
              "      border: none;\n",
              "      border-radius: 50%;\n",
              "      cursor: pointer;\n",
              "      display: none;\n",
              "      fill: #1967D2;\n",
              "      height: 32px;\n",
              "      padding: 0 0 0 0;\n",
              "      width: 32px;\n",
              "    }\n",
              "\n",
              "    .colab-df-convert:hover {\n",
              "      background-color: #E2EBFA;\n",
              "      box-shadow: 0px 1px 2px rgba(60, 64, 67, 0.3), 0px 1px 3px 1px rgba(60, 64, 67, 0.15);\n",
              "      fill: #174EA6;\n",
              "    }\n",
              "\n",
              "    [theme=dark] .colab-df-convert {\n",
              "      background-color: #3B4455;\n",
              "      fill: #D2E3FC;\n",
              "    }\n",
              "\n",
              "    [theme=dark] .colab-df-convert:hover {\n",
              "      background-color: #434B5C;\n",
              "      box-shadow: 0px 1px 3px 1px rgba(0, 0, 0, 0.15);\n",
              "      filter: drop-shadow(0px 1px 2px rgba(0, 0, 0, 0.3));\n",
              "      fill: #FFFFFF;\n",
              "    }\n",
              "  </style>\n",
              "\n",
              "      <script>\n",
              "        const buttonEl =\n",
              "          document.querySelector('#df-db8bd31f-f384-42ec-a423-a4227fbdd30e button.colab-df-convert');\n",
              "        buttonEl.style.display =\n",
              "          google.colab.kernel.accessAllowed ? 'block' : 'none';\n",
              "\n",
              "        async function convertToInteractive(key) {\n",
              "          const element = document.querySelector('#df-db8bd31f-f384-42ec-a423-a4227fbdd30e');\n",
              "          const dataTable =\n",
              "            await google.colab.kernel.invokeFunction('convertToInteractive',\n",
              "                                                     [key], {});\n",
              "          if (!dataTable) return;\n",
              "\n",
              "          const docLinkHtml = 'Like what you see? Visit the ' +\n",
              "            '<a target=\"_blank\" href=https://colab.research.google.com/notebooks/data_table.ipynb>data table notebook</a>'\n",
              "            + ' to learn more about interactive tables.';\n",
              "          element.innerHTML = '';\n",
              "          dataTable['output_type'] = 'display_data';\n",
              "          await google.colab.output.renderOutput(dataTable, element);\n",
              "          const docLink = document.createElement('div');\n",
              "          docLink.innerHTML = docLinkHtml;\n",
              "          element.appendChild(docLink);\n",
              "        }\n",
              "      </script>\n",
              "    </div>\n",
              "  </div>\n",
              "  "
            ],
            "text/plain": [
              "    Topic_Num  ...                                         Text title\n",
              "0           0  ...                              Financial instruments\n",
              "1           1  ...                                     Cattle housing\n",
              "2           2  ...  Glossary:Government budget allocations for R&D...\n",
              "3           3  ...                                 Production account\n",
              "4           4  ...                                 Process innovation\n",
              "5           5  ...           Person available to work but not seeking\n",
              "6           6  ...                               Temporary protection\n",
              "7           7  ...                           Material flow indicators\n",
              "8           8  ...   Human resources in science and technology (HRST)\n",
              "9           9  ...                                     Transport mode\n",
              "10         10  ...                                    Mountain region\n",
              "11         11  ...  Statistical classification of economic activit...\n",
              "12         12  ...                                         Soil cover\n",
              "13         13  ...                              Income quintile group\n",
              "14         14  ...                                  Chronic morbidity\n",
              "15         15  ...                   Hotels and similar accommodation\n",
              "16         16  ...                                           Building\n",
              "17         17  ...                             Euro area enlargements\n",
              "18         18  ...                            External cause of death\n",
              "19         19  ...                            Break-up of enterprises\n",
              "\n",
              "[20 rows x 5 columns]"
            ]
          },
          "metadata": {},
          "execution_count": 22
        }
      ],
      "source": [
        "# Group top 5 sentences under each topic\n",
        "sent_topics_sorteddf_mallet = pd.DataFrame()\n",
        "\n",
        "sent_topics_outdf_grpd = df_topic_sents_keywords[['Text id','Text title','Dominant_Topic', 'Perc_Contribution', 'Topic_Keywords']].groupby('Dominant_Topic')\n",
        "\n",
        "for i, grp in sent_topics_outdf_grpd:\n",
        "    sent_topics_sorteddf_mallet = pd.concat([sent_topics_sorteddf_mallet, \n",
        "                                             grp.sort_values(['Perc_Contribution'], ascending=[0]).head(1)], \n",
        "                                             axis=0)\n",
        "\n",
        "sent_topics_sorteddf_mallet.reset_index(drop=True, inplace=True)\n",
        "\n",
        "sent_topics_sorteddf_mallet.columns = ['Text id','Text title','Topic_Num', 'Topic_Perc_Contrib', 'Topic Keywords' ]\n",
        "sent_topics_sorteddf_mallet = sent_topics_sorteddf_mallet[['Topic_Num', 'Topic_Perc_Contrib', 'Topic Keywords','Text id','Text title']]\n",
        "\n",
        "sent_topics_sorteddf_mallet"
      ]
    },
    {
      "cell_type": "markdown",
      "metadata": {
        "id": "vgbyyuEp4OlY"
      },
      "source": [
        "### 9. The topics as a mix of keywords.\n",
        "***\n",
        "\n",
        "The above LDA model is built with 20 different topics where each topic is a combination of keywords and each keyword contributes with a certain weight to the topic.  This mix of keywords (limited to the top 10 keywords) is shown below, for each topic.\n"
      ]
    },
    {
      "cell_type": "code",
      "execution_count": 23,
      "metadata": {
        "id": "HVh2HVWV4OlZ",
        "outputId": "4fe3218e-7889-4afe-f76a-cc536cee65d9",
        "colab": {
          "base_uri": "https://localhost:8080/"
        }
      },
      "outputs": [
        {
          "output_type": "stream",
          "name": "stdout",
          "text": [
            "[(0,\n",
            "  '0.056*\"financi\" + 0.054*\"social\" + 0.045*\"incom\" + 0.042*\"account\" + '\n",
            "  '0.033*\"asset\" + 0.024*\"transfer\" + 0.023*\"other\" + 0.020*\"household\" + '\n",
            "  '0.020*\"contribut\" + 0.018*\"current\"'),\n",
            " (1,\n",
            "  '0.067*\"manur\" + 0.027*\"where\" + 0.025*\"forecast\" + 0.025*\"cover\" + '\n",
            "  '0.024*\"water\" + 0.022*\"liquid\" + 0.022*\"surfac\" + 0.022*\"emiss\" + '\n",
            "  '0.019*\"slurri\" + 0.019*\"solid\"'),\n",
            " (2,\n",
            "  '0.088*\"govern\" + 0.033*\"local\" + 0.031*\"statist\" + 0.028*\"sourc\" + '\n",
            "  '0.028*\"balanc\" + 0.027*\"public\" + 0.026*\"posit\" + 0.023*\"deficit\" + '\n",
            "  '0.021*\"differ\" + 0.016*\"extern\"'),\n",
            " (3,\n",
            "  '0.122*\"product\" + 0.048*\"consumpt\" + 0.046*\"gross\" + 0.043*\"produc\" + '\n",
            "  '0.042*\"output\" + 0.029*\"market\" + 0.027*\"sector\" + 0.026*\"institut\" + '\n",
            "  '0.026*\"servic\" + 0.022*\"account\"'),\n",
            " (4,\n",
            "  '0.074*\"product\" + 0.063*\"innov\" + 0.051*\"process\" + 0.039*\"account\" + '\n",
            "  '0.036*\"environment\" + 0.031*\"servic\" + 0.028*\"activ\" + 0.028*\"improv\" + '\n",
            "  '0.026*\"market\" + 0.024*\"manag\"'),\n",
            " (5,\n",
            "  '0.070*\"labour\" + 0.059*\"employ\" + 0.057*\"person\" + 0.038*\"emploi\" + '\n",
            "  '0.027*\"employe\" + 0.026*\"peopl\" + 0.024*\"train\" + 0.023*\"number\" + '\n",
            "  '0.022*\"worker\" + 0.018*\"activ\"'),\n",
            " (6,\n",
            "  '0.050*\"applic\" + 0.043*\"protect\" + 0.039*\"person\" + 0.032*\"vehicl\" + '\n",
            "  '0.022*\"decis\" + 0.020*\"includ\" + 0.017*\"direct\" + 0.016*\"refer\" + '\n",
            "  '0.016*\"statu\" + 0.016*\"grant\"'),\n",
            " (7,\n",
            "  '0.061*\"materi\" + 0.034*\"water\" + 0.031*\"which\" + 0.030*\"includ\" + '\n",
            "  '0.029*\"organ\" + 0.029*\"input\" + 0.027*\"product\" + 0.023*\"weight\" + '\n",
            "  '0.022*\"physic\" + 0.022*\"domest\"'),\n",
            " (8,\n",
            "  '0.089*\"activ\" + 0.042*\"servic\" + 0.033*\"technolog\" + 0.020*\"research\" + '\n",
            "  '0.019*\"trade\" + 0.018*\"scienc\" + 0.018*\"level\" + 0.018*\"knowledg\" + '\n",
            "  '0.018*\"section\" + 0.017*\"group\"'),\n",
            " (9,\n",
            "  '0.057*\"price\" + 0.042*\"index\" + 0.038*\"servic\" + 0.034*\"transport\" + '\n",
            "  '0.025*\"countri\" + 0.022*\"indic\" + 0.018*\"purchas\" + 0.016*\"period\" + '\n",
            "  '0.015*\"other\" + 0.015*\"which\"'),\n",
            " (10,\n",
            "  '0.073*\"region\" + 0.052*\"resid\" + 0.037*\"countri\" + 0.027*\"level\" + '\n",
            "  '0.025*\"popul\" + 0.024*\"territori\" + 0.023*\"urban\" + 0.020*\"border\" + '\n",
            "  '0.018*\"locat\" + 0.017*\"geograph\"'),\n",
            " (11,\n",
            "  '0.067*\"statist\" + 0.036*\"survei\" + 0.031*\"classif\" + 0.026*\"collect\" + '\n",
            "  '0.026*\"inform\" + 0.026*\"european\" + 0.023*\"regul\" + 0.020*\"standard\" + '\n",
            "  '0.020*\"econom\" + 0.020*\"level\"'),\n",
            " (12,\n",
            "  '0.099*\"agricultur\" + 0.038*\"product\" + 0.031*\"which\" + 0.025*\"other\" + '\n",
            "  '0.024*\"plant\" + 0.024*\"includ\" + 0.023*\"livestock\" + 0.020*\"harvest\" + '\n",
            "  '0.019*\"perman\" + 0.017*\"manag\"'),\n",
            " (13,\n",
            "  '0.052*\"popul\" + 0.045*\"number\" + 0.042*\"household\" + 0.041*\"incom\" + '\n",
            "  '0.030*\"period\" + 0.023*\"refer\" + 0.022*\"total\" + 0.020*\"calcul\" + '\n",
            "  '0.018*\"estim\" + 0.015*\"averag\"'),\n",
            " (14,\n",
            "  '0.070*\"indic\" + 0.065*\"health\" + 0.062*\"energi\" + 0.056*\"econom\" + '\n",
            "  '0.027*\"european\" + 0.026*\"develop\" + 0.025*\"polici\" + 0.020*\"condit\" + '\n",
            "  '0.019*\"electr\" + 0.018*\"gener\"'),\n",
            " (15,\n",
            "  '0.074*\"expenditur\" + 0.065*\"invest\" + 0.046*\"equival\" + 0.045*\"includ\" + '\n",
            "  '0.027*\"direct\" + 0.027*\"capit\" + 0.025*\"privat\" + 0.024*\"gross\" + '\n",
            "  '0.017*\"exclud\" + 0.017*\"other\"'),\n",
            " (16,\n",
            "  '0.041*\"build\" + 0.037*\"tourism\" + 0.034*\"permit\" + 0.030*\"other\" + '\n",
            "  '0.029*\"accommod\" + 0.027*\"least\" + 0.025*\"resid\" + 0.024*\"limit\" + '\n",
            "  '0.022*\"includ\" + 0.021*\"which\"'),\n",
            " (17,\n",
            "  '0.067*\"european\" + 0.060*\"state\" + 0.053*\"member\" + 0.052*\"countri\" + '\n",
            "  '0.036*\"union\" + 0.020*\"nation\" + 0.017*\"trade\" + 0.015*\"which\" + '\n",
            "  '0.014*\"econom\" + 0.013*\"intern\"'),\n",
            " (18,\n",
            "  '0.098*\"death\" + 0.058*\"statist\" + 0.042*\"index\" + 0.039*\"explain\" + '\n",
            "  '0.037*\"eurostat\" + 0.037*\"glossari\" + 0.037*\"europa\" + 0.037*\"retriev\" + '\n",
            "  '0.034*\"oldid\" + 0.032*\"construct\"'),\n",
            " (19,\n",
            "  '0.141*\"enterpris\" + 0.039*\"activ\" + 0.025*\"legal\" + 0.022*\"internet\" + '\n",
            "  '0.022*\"which\" + 0.021*\"public\" + 0.019*\"calendar\" + 0.016*\"statist\" + '\n",
            "  '0.015*\"their\" + 0.014*\"refer\"')]\n"
          ]
        }
      ],
      "source": [
        "pprint(lda_model.print_topics())\n",
        "\n",
        "## equivalently:\n",
        "##for i in range(num_topics):\n",
        "##    print([(id2word[term_id],prob) for (term_id,prob) in lda_model.get_topic_terms(i,topn=10)],'\\n')"
      ]
    },
    {
      "cell_type": "markdown",
      "metadata": {
        "id": "KZk0fDr04OlZ"
      },
      "source": [
        "### 10. Dominant topics.\n",
        "***\n",
        "\n",
        "\n",
        "To better understand the volume and distribution of topics, we construct the dataframe _df_dominant_topics_ with relevant information.\n"
      ]
    },
    {
      "cell_type": "code",
      "execution_count": 24,
      "metadata": {
        "id": "pEXCuHq94OlZ",
        "outputId": "cb004922-f111-4de3-a7c0-d066848cc41b",
        "colab": {
          "base_uri": "https://localhost:8080/",
          "height": 424
        }
      },
      "outputs": [
        {
          "output_type": "execute_result",
          "data": {
            "text/html": [
              "\n",
              "  <div id=\"df-0d8eebc2-50b7-4051-a19e-a7eb1a5ebec4\">\n",
              "    <div class=\"colab-df-container\">\n",
              "      <div>\n",
              "<style scoped>\n",
              "    .dataframe tbody tr th:only-of-type {\n",
              "        vertical-align: middle;\n",
              "    }\n",
              "\n",
              "    .dataframe tbody tr th {\n",
              "        vertical-align: top;\n",
              "    }\n",
              "\n",
              "    .dataframe thead th {\n",
              "        text-align: right;\n",
              "    }\n",
              "</style>\n",
              "<table border=\"1\" class=\"dataframe\">\n",
              "  <thead>\n",
              "    <tr style=\"text-align: right;\">\n",
              "      <th></th>\n",
              "      <th>Dominant_Topic</th>\n",
              "      <th>Topic_Keywords</th>\n",
              "      <th>Num_Documents</th>\n",
              "      <th>Perc_Documents</th>\n",
              "    </tr>\n",
              "  </thead>\n",
              "  <tbody>\n",
              "    <tr>\n",
              "      <th>0</th>\n",
              "      <td>19</td>\n",
              "      <td>enterpris, activ, legal, internet, which, publ...</td>\n",
              "      <td>83.0</td>\n",
              "      <td>0.0646</td>\n",
              "    </tr>\n",
              "    <tr>\n",
              "      <th>1</th>\n",
              "      <td>18</td>\n",
              "      <td>death, statist, index, explain, eurostat, glos...</td>\n",
              "      <td>60.0</td>\n",
              "      <td>0.0467</td>\n",
              "    </tr>\n",
              "    <tr>\n",
              "      <th>2</th>\n",
              "      <td>16</td>\n",
              "      <td>build, tourism, permit, other, accommod, least...</td>\n",
              "      <td>39.0</td>\n",
              "      <td>0.0304</td>\n",
              "    </tr>\n",
              "    <tr>\n",
              "      <th>3</th>\n",
              "      <td>2</td>\n",
              "      <td>govern, local, statist, sourc, balanc, public,...</td>\n",
              "      <td>72.0</td>\n",
              "      <td>0.0560</td>\n",
              "    </tr>\n",
              "    <tr>\n",
              "      <th>4</th>\n",
              "      <td>3</td>\n",
              "      <td>product, consumpt, gross, produc, output, mark...</td>\n",
              "      <td>53.0</td>\n",
              "      <td>0.0412</td>\n",
              "    </tr>\n",
              "    <tr>\n",
              "      <th>...</th>\n",
              "      <td>...</td>\n",
              "      <td>...</td>\n",
              "      <td>...</td>\n",
              "      <td>...</td>\n",
              "    </tr>\n",
              "    <tr>\n",
              "      <th>1280</th>\n",
              "      <td>9</td>\n",
              "      <td>price, index, servic, transport, countri, indi...</td>\n",
              "      <td>NaN</td>\n",
              "      <td>NaN</td>\n",
              "    </tr>\n",
              "    <tr>\n",
              "      <th>1281</th>\n",
              "      <td>5</td>\n",
              "      <td>labour, employ, person, emploi, employe, peopl...</td>\n",
              "      <td>NaN</td>\n",
              "      <td>NaN</td>\n",
              "    </tr>\n",
              "    <tr>\n",
              "      <th>1282</th>\n",
              "      <td>5</td>\n",
              "      <td>labour, employ, person, emploi, employe, peopl...</td>\n",
              "      <td>NaN</td>\n",
              "      <td>NaN</td>\n",
              "    </tr>\n",
              "    <tr>\n",
              "      <th>1283</th>\n",
              "      <td>18</td>\n",
              "      <td>death, statist, index, explain, eurostat, glos...</td>\n",
              "      <td>NaN</td>\n",
              "      <td>NaN</td>\n",
              "    </tr>\n",
              "    <tr>\n",
              "      <th>1284</th>\n",
              "      <td>18</td>\n",
              "      <td>death, statist, index, explain, eurostat, glos...</td>\n",
              "      <td>NaN</td>\n",
              "      <td>NaN</td>\n",
              "    </tr>\n",
              "  </tbody>\n",
              "</table>\n",
              "<p>1285 rows × 4 columns</p>\n",
              "</div>\n",
              "      <button class=\"colab-df-convert\" onclick=\"convertToInteractive('df-0d8eebc2-50b7-4051-a19e-a7eb1a5ebec4')\"\n",
              "              title=\"Convert this dataframe to an interactive table.\"\n",
              "              style=\"display:none;\">\n",
              "        \n",
              "  <svg xmlns=\"http://www.w3.org/2000/svg\" height=\"24px\"viewBox=\"0 0 24 24\"\n",
              "       width=\"24px\">\n",
              "    <path d=\"M0 0h24v24H0V0z\" fill=\"none\"/>\n",
              "    <path d=\"M18.56 5.44l.94 2.06.94-2.06 2.06-.94-2.06-.94-.94-2.06-.94 2.06-2.06.94zm-11 1L8.5 8.5l.94-2.06 2.06-.94-2.06-.94L8.5 2.5l-.94 2.06-2.06.94zm10 10l.94 2.06.94-2.06 2.06-.94-2.06-.94-.94-2.06-.94 2.06-2.06.94z\"/><path d=\"M17.41 7.96l-1.37-1.37c-.4-.4-.92-.59-1.43-.59-.52 0-1.04.2-1.43.59L10.3 9.45l-7.72 7.72c-.78.78-.78 2.05 0 2.83L4 21.41c.39.39.9.59 1.41.59.51 0 1.02-.2 1.41-.59l7.78-7.78 2.81-2.81c.8-.78.8-2.07 0-2.86zM5.41 20L4 18.59l7.72-7.72 1.47 1.35L5.41 20z\"/>\n",
              "  </svg>\n",
              "      </button>\n",
              "      \n",
              "  <style>\n",
              "    .colab-df-container {\n",
              "      display:flex;\n",
              "      flex-wrap:wrap;\n",
              "      gap: 12px;\n",
              "    }\n",
              "\n",
              "    .colab-df-convert {\n",
              "      background-color: #E8F0FE;\n",
              "      border: none;\n",
              "      border-radius: 50%;\n",
              "      cursor: pointer;\n",
              "      display: none;\n",
              "      fill: #1967D2;\n",
              "      height: 32px;\n",
              "      padding: 0 0 0 0;\n",
              "      width: 32px;\n",
              "    }\n",
              "\n",
              "    .colab-df-convert:hover {\n",
              "      background-color: #E2EBFA;\n",
              "      box-shadow: 0px 1px 2px rgba(60, 64, 67, 0.3), 0px 1px 3px 1px rgba(60, 64, 67, 0.15);\n",
              "      fill: #174EA6;\n",
              "    }\n",
              "\n",
              "    [theme=dark] .colab-df-convert {\n",
              "      background-color: #3B4455;\n",
              "      fill: #D2E3FC;\n",
              "    }\n",
              "\n",
              "    [theme=dark] .colab-df-convert:hover {\n",
              "      background-color: #434B5C;\n",
              "      box-shadow: 0px 1px 3px 1px rgba(0, 0, 0, 0.15);\n",
              "      filter: drop-shadow(0px 1px 2px rgba(0, 0, 0, 0.3));\n",
              "      fill: #FFFFFF;\n",
              "    }\n",
              "  </style>\n",
              "\n",
              "      <script>\n",
              "        const buttonEl =\n",
              "          document.querySelector('#df-0d8eebc2-50b7-4051-a19e-a7eb1a5ebec4 button.colab-df-convert');\n",
              "        buttonEl.style.display =\n",
              "          google.colab.kernel.accessAllowed ? 'block' : 'none';\n",
              "\n",
              "        async function convertToInteractive(key) {\n",
              "          const element = document.querySelector('#df-0d8eebc2-50b7-4051-a19e-a7eb1a5ebec4');\n",
              "          const dataTable =\n",
              "            await google.colab.kernel.invokeFunction('convertToInteractive',\n",
              "                                                     [key], {});\n",
              "          if (!dataTable) return;\n",
              "\n",
              "          const docLinkHtml = 'Like what you see? Visit the ' +\n",
              "            '<a target=\"_blank\" href=https://colab.research.google.com/notebooks/data_table.ipynb>data table notebook</a>'\n",
              "            + ' to learn more about interactive tables.';\n",
              "          element.innerHTML = '';\n",
              "          dataTable['output_type'] = 'display_data';\n",
              "          await google.colab.output.renderOutput(dataTable, element);\n",
              "          const docLink = document.createElement('div');\n",
              "          docLink.innerHTML = docLinkHtml;\n",
              "          element.appendChild(docLink);\n",
              "        }\n",
              "      </script>\n",
              "    </div>\n",
              "  </div>\n",
              "  "
            ],
            "text/plain": [
              "      Dominant_Topic  ... Perc_Documents\n",
              "0                 19  ...         0.0646\n",
              "1                 18  ...         0.0467\n",
              "2                 16  ...         0.0304\n",
              "3                  2  ...         0.0560\n",
              "4                  3  ...         0.0412\n",
              "...              ...  ...            ...\n",
              "1280               9  ...            NaN\n",
              "1281               5  ...            NaN\n",
              "1282               5  ...            NaN\n",
              "1283              18  ...            NaN\n",
              "1284              18  ...            NaN\n",
              "\n",
              "[1285 rows x 4 columns]"
            ]
          },
          "metadata": {},
          "execution_count": 24
        }
      ],
      "source": [
        "#Topic distribution across documents\n",
        "\n",
        "# Number of Documents for Each Topic\n",
        "topic_counts = df_topic_sents_keywords['Dominant_Topic'].value_counts()\n",
        "\n",
        "# Percentage of Documents for Each Topic\n",
        "topic_contribution = round(topic_counts/topic_counts.sum(), 4)\n",
        "\n",
        "# Topic Number and Keywords\n",
        "topic_num_keywords = df_topic_sents_keywords[['Dominant_Topic', 'Topic_Keywords']]\n",
        "\n",
        "# Concatenate Column wise\n",
        "df_dominant_topics = pd.concat([topic_num_keywords, topic_counts, topic_contribution], axis=1)\n",
        "\n",
        "# Change Column names\n",
        "df_dominant_topics.columns = ['Dominant_Topic', 'Topic_Keywords', 'Num_Documents', 'Perc_Documents']\n",
        "\n",
        "# Show\n",
        "df_dominant_topics"
      ]
    },
    {
      "cell_type": "markdown",
      "metadata": {
        "id": "Zbukgd4D4OlZ"
      },
      "source": [
        "### 11. Visualization of the topics.\n",
        "***\n",
        "\n",
        "To visualize the fitted LDA model we use the _pyLDAvis_ package. This is the Python porting of the R package _LDAvis_, see [LDAvis vignette](https://cran.r-project.org/web/packages/LDAvis/vignettes/details.pdf) for details and Chuang, Jason, Manning, Christopher D., and Heer, Jeffrey (2012). Termite: Visualization Techniques for Assessing Textual Topic Models, *Advanced Visual Interfaces* for the theory behind the visualization algorithm. The paper is available [here](https://dl.acm.org/doi/pdf/10.1145/2254556.2254572?casa_token=q2BavKP415QAAAAA:MhcYHzz4PJpC7dNkkm12GL-ohQRUXBgumPJ9l1t_5n3M4qVE1kdDqKGfPmtnR7qbale_ukS-2nJs). \n",
        "\n",
        "Note that the parameter _sort_topics=False_ in the call to function _pyLDAvis.gensim_models.prepare()_ is necessary, otherwise the numbering of the topics is different than the one in the rest of the analysis. Also, **the numbering of the topics start from zero**."
      ]
    },
    {
      "cell_type": "code",
      "execution_count": 25,
      "metadata": {
        "id": "x4gNX6cS4OlZ",
        "outputId": "f8040951-16eb-4f51-e797-ce3e36c80e2e",
        "colab": {
          "base_uri": "https://localhost:8080/",
          "height": 915
        }
      },
      "outputs": [
        {
          "output_type": "stream",
          "name": "stderr",
          "text": [
            "/usr/local/lib/python3.7/dist-packages/pyLDAvis/_prepare.py:247: FutureWarning: In a future version of pandas all arguments of DataFrame.drop except for the argument 'labels' will be keyword-only\n",
            "  by='saliency', ascending=False).head(R).drop('saliency', 1)\n"
          ]
        },
        {
          "output_type": "execute_result",
          "data": {
            "text/html": [
              "\n",
              "<link rel=\"stylesheet\" type=\"text/css\" href=\"https://cdn.jsdelivr.net/gh/bmabey/pyLDAvis@3.3.1/pyLDAvis/js/ldavis.v1.0.0.css\">\n",
              "\n",
              "\n",
              "<div id=\"ldavis_el8621397596038572324762063235\"></div>\n",
              "<script type=\"text/javascript\">\n",
              "\n",
              "var ldavis_el8621397596038572324762063235_data = {\"mdsDat\": {\"x\": [-0.15638363305583378, 0.04785668377784404, -0.03539842716398234, -0.27880555285731307, -0.21561056249600655, 0.07950293412432818, 0.12578170854081924, -0.08712868586900101, -0.06296213678251043, 0.03499073367207411, 0.14030843268018228, 0.10913878869578161, -0.008783937150349851, 0.11792514924685467, 0.03184755690417381, -0.1678318950436567, 0.10644893668298414, 0.09882602965901038, 0.13155199837153403, -0.011274121936933066], \"y\": [0.06779081109949445, 0.06059865614173942, 0.06543506044813412, 0.034772701062704324, -0.17211236099432037, 0.06960779124939022, 0.09794873106842503, 0.10007674570985335, -0.14239665250398698, 0.025269181195773177, -0.01232816721954029, -0.1578440701499707, 0.08176062061911864, 0.1109722821790795, -0.21058019635770756, 0.09896913951320944, 0.11441227335765379, -0.12981838272784435, -0.048882985963900574, -0.05365117772730345], \"topics\": [1, 2, 3, 4, 5, 6, 7, 8, 9, 10, 11, 12, 13, 14, 15, 16, 17, 18, 19, 20], \"cluster\": [1, 1, 1, 1, 1, 1, 1, 1, 1, 1, 1, 1, 1, 1, 1, 1, 1, 1, 1, 1], \"Freq\": [8.058177607457964, 3.6996945665128207, 3.0799905535652634, 5.676159591099186, 4.226892279131182, 4.926709282729026, 4.807885859850832, 4.0122263612897555, 4.709535830194919, 6.996805675145569, 4.546715522001437, 7.2212291179601085, 5.416885957192809, 5.797034136076876, 4.199134174621423, 2.3684769493221083, 2.8861145628650893, 10.609968186719986, 2.745559965799903, 4.014803820463745]}, \"tinfo\": {\"Term\": [\"product\", \"enterpris\", \"agricultur\", \"activ\", \"european\", \"govern\", \"statist\", \"state\", \"countri\", \"incom\", \"person\", \"servic\", \"member\", \"region\", \"financi\", \"labour\", \"price\", \"index\", \"death\", \"indic\", \"account\", \"popul\", \"social\", \"expenditur\", \"gross\", \"innov\", \"employ\", \"manur\", \"household\", \"energi\", \"financi\", \"receipt\", \"liabil\", \"asset\", \"imput\", \"borrow\", \"payabl\", \"benefit\", \"transfer\", \"entitl\", \"revenu\", \"acquisit\", \"transact\", \"paragraph\", \"secur\", \"contribut\", \"social\", \"insur\", \"dispos\", \"deduct\", \"properti\", \"compens\", \"pension\", \"incom\", \"corpor\", \"payment\", \"current\", \"reserv\", \"account\", \"scheme\", \"capit\", \"receiv\", \"govern\", \"household\", \"other\", \"nation\", \"institut\", \"gross\", \"expenditur\", \"employe\", \"sector\", \"balanc\", \"gener\", \"defin\", \"total\", \"forecast\", \"slurri\", \"manur\", \"solid\", \"liquid\", \"emiss\", \"greenhous\", \"storag\", \"artifici\", \"surfac\", \"carbon\", \"model\", \"remov\", \"store\", \"facil\", \"select\", \"atmospher\", \"climat\", \"deposit\", \"renew\", \"suitabl\", \"partial\", \"ground\", \"exercis\", \"contain\", \"below\", \"water\", \"cattl\", \"mechan\", \"typic\", \"where\", \"target\", \"cover\", \"method\", \"access\", \"system\", \"allow\", \"direct\", \"collect\", \"which\", \"applic\", \"includ\", \"other\", \"materi\", \"space\", \"deficit\", \"budget\", \"posit\", \"local\", \"extern\", \"connect\", \"spend\", \"govern\", \"demand\", \"sourc\", \"balanc\", \"around\", \"monei\", \"alloc\", \"public\", \"initi\", \"complet\", \"programm\", \"sometim\", \"surplu\", \"suppli\", \"remain\", \"financ\", \"frequenc\", \"should\", \"arrang\", \"influenc\", \"author\", \"perform\", \"normal\", \"context\", \"reduc\", \"differ\", \"usual\", \"statist\", \"gener\", \"measur\", \"within\", \"trade\", \"research\", \"refer\", \"sector\", \"economi\", \"which\", \"between\", \"organis\", \"output\", \"subsidi\", \"consumpt\", \"surplu\", \"intermedi\", \"profit\", \"gross\", \"crude\", \"final\", \"produc\", \"quantiti\", \"product\", \"primari\", \"charg\", \"import\", \"sector\", \"institut\", \"format\", \"influenc\", \"market\", \"alreadi\", \"industri\", \"remuner\", \"corpor\", \"similar\", \"constitut\", \"engag\", \"balanc\", \"consum\", \"domest\", \"capit\", \"gener\", \"household\", \"servic\", \"account\", \"total\", \"includ\", \"which\", \"nation\", \"price\", \"other\", \"defin\", \"innov\", \"softwar\", \"databas\", \"improv\", \"significantli\", \"effici\", \"environment\", \"equip\", \"machineri\", \"electron\", \"process\", \"signific\", \"implement\", \"techniqu\", \"featur\", \"fulli\", \"support\", \"manag\", \"comput\", \"function\", \"technolog\", \"research\", \"project\", \"deliv\", \"themselv\", \"format\", \"resourc\", \"intend\", \"method\", \"exist\", \"market\", \"product\", \"account\", \"protect\", \"servic\", \"organis\", \"system\", \"activ\", \"develop\", \"produc\", \"other\", \"chang\", \"includ\", \"inform\", \"labour\", \"worker\", \"inact\", \"personnel\", \"emploi\", \"salari\", \"unemploi\", \"employ\", \"train\", \"staff\", \"unemploy\", \"adult\", \"militari\", \"famili\", \"formal\", \"particip\", \"employe\", \"peopl\", \"regularli\", \"inclus\", \"person\", \"pension\", \"compulsori\", \"consequ\", \"children\", \"becom\", \"depend\", \"ratio\", \"arrang\", \"rather\", \"those\", \"count\", \"number\", \"percentag\", \"group\", \"total\", \"their\", \"measur\", \"activ\", \"avail\", \"includ\", \"defin\", \"other\", \"refer\", \"which\", \"registr\", \"mobil\", \"reach\", \"applic\", \"contract\", \"motor\", \"grant\", \"vehicl\", \"restrict\", \"remuner\", \"protect\", \"decis\", \"voluntari\", \"return\", \"statu\", \"whether\", \"procedur\", \"against\", \"articl\", \"irrespect\", \"temporari\", \"univers\", \"reason\", \"author\", \"subject\", \"compet\", \"design\", \"programm\", \"subsequ\", \"primarili\", \"concern\", \"person\", \"appli\", \"direct\", \"consid\", \"first\", \"legal\", \"under\", \"intern\", \"administr\", \"includ\", \"member\", \"refer\", \"period\", \"nation\", \"countri\", \"state\", \"defin\", \"mixtur\", \"extract\", \"input\", \"materi\", \"physic\", \"biolog\", \"substanc\", \"credit\", \"chemic\", \"organ\", \"treatment\", \"water\", \"speci\", \"cultur\", \"amount\", \"avoid\", \"residu\", \"natur\", \"frequenc\", \"secondari\", \"weight\", \"domest\", \"atmospher\", \"export\", \"cattl\", \"deriv\", \"mechan\", \"store\", \"consequ\", \"plant\", \"import\", \"includ\", \"process\", \"which\", \"economi\", \"product\", \"other\", \"consumpt\", \"after\", \"refer\", \"direct\", \"exclud\", \"scientif\", \"scienc\", \"profession\", \"manufactur\", \"skill\", \"engin\", \"specialis\", \"section\", \"knowledg\", \"patent\", \"repair\", \"occup\", \"technolog\", \"intens\", \"technic\", \"digit\", \"research\", \"human\", \"commerci\", \"medic\", \"activ\", \"basic\", \"machineri\", \"commun\", \"track\", \"impli\", \"approach\", \"secondari\", \"stock\", \"comput\", \"industri\", \"servic\", \"trade\", \"group\", \"those\", \"level\", \"relat\", \"resourc\", \"classif\", \"includ\", \"other\", \"sector\", \"inform\", \"letter\", \"postal\", \"freight\", \"price\", \"passeng\", \"inland\", \"maritim\", \"volum\", \"transport\", \"purchas\", \"turnov\", \"index\", \"deliveri\", \"power\", \"offic\", \"consum\", \"averag\", \"composit\", \"across\", \"comparison\", \"variat\", \"reflect\", \"harmonis\", \"offer\", \"place\", \"monthli\", \"compar\", \"rather\", \"figur\", \"element\", \"exchang\", \"servic\", \"calcul\", \"order\", \"indic\", \"weight\", \"measur\", \"period\", \"countri\", \"aggreg\", \"chang\", \"differ\", \"other\", \"which\", \"between\", \"number\", \"refer\", \"total\", \"level\", \"includ\", \"border\", \"plural\", \"centr\", \"region\", \"urban\", \"rural\", \"abroad\", \"locat\", \"geograph\", \"cross\", \"resid\", \"foreign\", \"territori\", \"inhabit\", \"birth\", \"undertaken\", \"entiti\", \"control\", \"appropri\", \"entir\", \"criteria\", \"identifi\", \"relev\", \"short\", \"determin\", \"capabl\", \"ownership\", \"travel\", \"lower\", \"place\", \"administr\", \"level\", \"popul\", \"definit\", \"countri\", \"economi\", \"where\", \"econom\", \"defin\", \"intern\", \"includ\", \"which\", \"common\", \"statist\", \"group\", \"nomenclatur\", \"annex\", \"detail\", \"revis\", \"releas\", \"regul\", \"classif\", \"dissemin\", \"sampl\", \"methodolog\", \"survei\", \"standard\", \"subdivid\", \"structur\", \"updat\", \"broad\", \"recent\", \"numer\", \"characterist\", \"collect\", \"everi\", \"divis\", \"publish\", \"inform\", \"class\", \"compil\", \"classifi\", \"harmonis\", \"capabl\", \"statist\", \"describ\", \"eurostat\", \"aggreg\", \"accord\", \"level\", \"provid\", \"digit\", \"european\", \"econom\", \"abbrevi\", \"nation\", \"system\", \"intern\", \"activ\", \"differ\", \"refer\", \"which\", \"purpos\", \"result\", \"union\", \"harvest\", \"arabl\", \"grassland\", \"utilis\", \"fruit\", \"farmer\", \"graze\", \"agricultur\", \"densiti\", \"veget\", \"grown\", \"cultiv\", \"green\", \"perman\", \"holder\", \"livestock\", \"plant\", \"maintain\", \"occupi\", \"residu\", \"could\", \"longer\", \"speci\", \"necessarili\", \"regardless\", \"normal\", \"introduc\", \"yield\", \"renew\", \"common\", \"manag\", \"exclud\", \"product\", \"which\", \"under\", \"other\", \"includ\", \"cover\", \"natur\", \"environment\", \"refer\", \"where\", \"poverti\", \"estim\", \"coverag\", \"popul\", \"ratio\", \"previou\", \"expect\", \"observ\", \"percentag\", \"threshold\", \"annual\", \"number\", \"express\", \"equal\", \"regular\", \"averag\", \"point\", \"figur\", \"household\", \"variabl\", \"second\", \"target\", \"attribut\", \"inhabit\", \"calcul\", \"greater\", \"given\", \"period\", \"incom\", \"start\", \"first\", \"month\", \"total\", \"dispos\", \"refer\", \"group\", \"peopl\", \"chang\", \"person\", \"between\", \"defin\", \"social\", \"survei\", \"which\", \"member\", \"indic\", \"strategi\", \"health\", \"monitor\", \"sustain\", \"competit\", \"electr\", \"movement\", \"energi\", \"interview\", \"aspect\", \"problem\", \"progress\", \"evalu\", \"environ\", \"question\", \"indic\", \"polici\", \"condit\", \"approxim\", \"analysi\", \"advanc\", \"better\", \"expect\", \"assess\", \"achiev\", \"futur\", \"essenti\", \"alreadi\", \"greater\", \"adapt\", \"econom\", \"limit\", \"develop\", \"economi\", \"growth\", \"gener\", \"european\", \"exampl\", \"social\", \"chang\", \"measur\", \"current\", \"account\", \"statist\", \"activ\", \"provid\", \"resourc\", \"equival\", \"invest\", \"approach\", \"healthcar\", \"expenditur\", \"railwai\", \"privat\", \"million\", \"apart\", \"carbon\", \"yield\", \"compani\", \"provis\", \"global\", \"class\", \"convert\", \"qualiti\", \"respect\", \"facil\", \"potenti\", \"direct\", \"capit\", \"compos\", \"primarili\", \"origin\", \"financ\", \"format\", \"accommod\", \"exclus\", \"control\", \"profit\", \"gross\", \"includ\", \"weight\", \"exclud\", \"abbrevi\", \"those\", \"total\", \"provid\", \"servic\", \"other\", \"sector\", \"household\", \"given\", \"stock\", \"their\", \"tourism\", \"residenti\", \"tourist\", \"hospit\", \"permit\", \"accommod\", \"dwell\", \"arriv\", \"children\", \"build\", \"capac\", \"limit\", \"holidai\", \"least\", \"extent\", \"mention\", \"spent\", \"occupi\", \"immedi\", \"separ\", \"minimum\", \"proport\", \"month\", \"prevent\", \"impli\", \"disambigu\", \"sever\", \"establish\", \"might\", \"scope\", \"resid\", \"purpos\", \"singl\", \"perman\", \"other\", \"includ\", \"three\", \"person\", \"which\", \"under\", \"consid\", \"statist\", \"categori\", \"defin\", \"treati\", \"franc\", \"switzerland\", \"spain\", \"stabil\", \"itali\", \"belgium\", \"denmark\", \"luxembourg\", \"austria\", \"greec\", \"latvia\", \"finland\", \"lithuania\", \"slovenia\", \"estonia\", \"netherland\", \"cypru\", \"malta\", \"sweden\", \"slovakia\", \"poland\", \"norwai\", \"germani\", \"ireland\", \"iceland\", \"kingdom\", \"cooper\", \"state\", \"agreement\", \"member\", \"union\", \"european\", \"januari\", \"council\", \"countri\", \"central\", \"currenc\", \"world\", \"europ\", \"trade\", \"decemb\", \"monetari\", \"nation\", \"commiss\", \"intern\", \"establish\", \"abbrevi\", \"econom\", \"develop\", \"commun\", \"which\", \"polici\", \"offici\", \"three\", \"between\", \"market\", \"system\", \"their\", \"other\", \"explain\", \"europa\", \"retriev\", \"oldid\", \"death\", \"glossari\", \"sentenc\", \"languag\", \"diseas\", \"orient\", \"simpl\", \"trend\", \"construct\", \"medic\", \"altern\", \"season\", \"eurostat\", \"project\", \"futur\", \"alwai\", \"studi\", \"event\", \"index\", \"better\", \"compon\", \"impact\", \"analysi\", \"expens\", \"fulli\", \"recent\", \"definit\", \"might\", \"statist\", \"under\", \"relat\", \"result\", \"method\", \"through\", \"differ\", \"countri\", \"refer\", \"which\", \"other\", \"enterpris\", \"internet\", \"calendar\", \"cours\", \"partnership\", \"break\", \"creation\", \"network\", \"regist\", \"variat\", \"legal\", \"birth\", \"particularli\", \"adjust\", \"situat\", \"occur\", \"compani\", \"continu\", \"electron\", \"advanc\", \"might\", \"effect\", \"public\", \"especi\", \"access\", \"dissemin\", \"target\", \"track\", \"event\", \"higher\", \"privat\", \"activ\", \"anoth\", \"inform\", \"their\", \"which\", \"refer\", \"statist\", \"other\", \"individu\", \"either\", \"organis\", \"exampl\", \"includ\", \"period\", \"servic\", \"product\"], \"Freq\": [763.0, 308.0, 304.0, 552.0, 584.0, 261.0, 579.0, 395.0, 539.0, 349.0, 331.0, 452.0, 386.0, 202.0, 258.0, 189.0, 252.0, 219.0, 148.0, 318.0, 396.0, 247.0, 326.0, 157.0, 230.0, 143.0, 198.0, 137.0, 309.0, 180.0, 239.70096960022016, 19.787060786311763, 63.362185483082115, 143.46848718440538, 18.65337940478282, 21.187722611098227, 39.45282713003112, 70.98508146594047, 103.87645321789033, 17.78420143374681, 44.138779915383274, 21.726270818000124, 75.3889972164814, 11.334163430312737, 56.60153338277637, 84.79453912854568, 230.98046753259294, 21.102525510055855, 56.795747982466246, 19.242003354151453, 28.89371542773577, 22.998112910525045, 36.36379091426401, 194.9756980678805, 31.987012300183725, 71.13319038943115, 78.70863796797356, 13.53486375051865, 181.55237694649753, 30.354435276704532, 66.69661628457646, 41.15249646976682, 78.16473287710745, 86.82549757204296, 99.89555694627357, 72.46065549520952, 48.577077521999726, 50.46904957691283, 42.287514567197036, 38.579713161948455, 39.59021426930612, 34.7825101129875, 40.13886099408891, 40.90492546204739, 39.16061341853817, 50.33483767711398, 37.51695243837734, 132.79085372432434, 37.22408705578678, 44.3224574500567, 42.951982311651335, 22.948521818012388, 29.629025467149006, 18.739437190571664, 43.323083269596935, 19.63783790300369, 16.424036622790993, 26.400266790396678, 17.30387308617137, 22.467559076920143, 9.844691384884905, 8.793419013331304, 10.626092058612064, 11.2851192194838, 13.559463316361738, 7.415635398011916, 8.313344183635513, 11.226843708297931, 7.5070327646317985, 16.526119750035445, 17.602058576217146, 47.14240883826586, 7.270642227317418, 7.8198365886787675, 12.420728451853467, 54.20532534452735, 15.086351638204693, 50.20314707534614, 26.339848330358645, 16.61947834270874, 34.80816939723499, 16.30335060164655, 22.52144103689558, 24.380068698415876, 33.52504633793188, 20.734668870291987, 30.681619124469762, 27.71669618827887, 17.670360585317162, 13.748624915714837, 37.70640420783974, 20.276215182732557, 43.338595560323505, 54.292836156819895, 26.983423573812733, 16.129450166550537, 13.530843398002167, 144.77306897250816, 13.727782196811091, 45.88451107756901, 45.55728728473353, 5.165661061693445, 10.663747787007935, 9.103469969418567, 43.66001924042325, 10.510260810048841, 17.436680065165625, 10.938765969252971, 11.579660042675382, 13.395597821556628, 10.99315083509079, 5.7258238776317905, 15.331536348084356, 5.328662077246585, 26.754936512571994, 3.9661874836143527, 4.525877680752124, 13.524963621805727, 14.80914780043044, 24.383119360755334, 14.046644390251004, 9.106546204593776, 34.02201817355061, 21.405942634962965, 51.230008954844465, 26.164890706928652, 24.877542969719872, 20.24800052973364, 20.854306873300125, 16.20649086101813, 24.473638499979643, 18.60438094433224, 16.92720619008492, 19.719375252299706, 15.632466602915791, 14.091121113162695, 126.53033927944884, 61.01994781546151, 144.68510515042368, 35.98021616576658, 38.043327811833464, 38.43769846733183, 140.66311905681084, 13.85125181824729, 51.90514451623637, 131.22240228931747, 13.095064868505867, 370.6519835269632, 31.510312214403257, 16.520812492583335, 64.7077706820283, 81.54808063438475, 77.65811891447818, 18.344716425668498, 7.460548794724074, 86.97534904630228, 6.6790387276252865, 49.985215028506175, 8.147564255739526, 18.83764092430798, 16.561177585412526, 5.7549831622186955, 10.502668519001233, 28.64637542175813, 23.401838319772114, 29.035412814309414, 35.77861092105411, 47.68989045979709, 57.786787732627495, 77.45054798177885, 66.80879395056915, 47.91177565567359, 57.41507991549662, 51.07781398450877, 39.80837810131711, 32.62166934881791, 34.94638474192035, 23.836235268971215, 141.4034644907433, 17.731591854754843, 15.609897039403219, 62.2750328641845, 18.57821862149103, 17.02191614056866, 82.09786961459554, 37.53380347831285, 16.631827923322717, 19.904700212620618, 114.29106455789386, 17.3600630979875, 30.522557565744197, 9.567576906463392, 6.342795222575542, 7.377012353696607, 22.054309381614196, 54.38983031495486, 19.08118157730559, 25.95955625981744, 50.64818000868711, 38.088894812842376, 13.791396844939538, 7.066856489688339, 5.835219996421142, 13.785500497512494, 31.57012058361157, 14.821065830732897, 29.264548872815343, 12.953556256095174, 59.34682410525967, 167.42439364331983, 87.48510228957872, 40.312464299107674, 70.5199536044224, 23.71190940834105, 35.42451948088308, 62.618860666940435, 34.863932317444906, 29.577712305015584, 33.78463267472062, 24.836149121043253, 20.114185063729824, 18.645535167013968, 184.8488063590536, 57.31030145371194, 17.849711343580296, 31.292257486293874, 99.68842811429136, 26.906706126907352, 23.779141605391278, 154.91999753397957, 62.6056730119687, 16.025757979739467, 21.752287692017873, 33.67977338761392, 8.561646950877712, 45.227007407191586, 27.318758576269094, 35.419506286149606, 71.67760511624162, 69.27143563653753, 10.981643652866609, 8.214455017710693, 150.4892090415177, 24.069923740316458, 7.719274435225183, 5.71822418934907, 15.586237327526074, 7.539950616858253, 20.598407523943703, 21.110719281296298, 5.035077621409318, 5.621066663654544, 30.4665058186957, 9.93843701305885, 60.788042064343166, 15.62649126937125, 33.19475584413961, 41.23926835738887, 37.83771531270088, 30.382395628091984, 48.34050822845201, 22.409843483897816, 36.425385552160684, 27.726066762920446, 27.840377518422343, 21.468835148914376, 21.311921600426853, 14.96912030211727, 26.493855192238986, 23.241636819866113, 127.7794397896636, 24.096648138364532, 27.56768382525624, 41.70063979527644, 82.56748757294763, 11.67699706505895, 17.762302994658707, 110.6491290282565, 55.27168485884256, 11.87018644787242, 15.488103556065653, 41.72287546074524, 30.35261602888959, 38.39408537696714, 14.61028023359789, 18.634690560231373, 11.478306160583726, 23.451311636096367, 16.822578286642717, 23.115076711462116, 29.503413532871676, 16.497365536900457, 11.820572312182092, 29.707980220317094, 14.026860661277345, 9.452709497190735, 10.223494085444852, 21.695459326799654, 101.42583812596997, 25.853552683927784, 43.097024281462936, 32.16392118943289, 31.718832423025212, 32.05242958265494, 35.34772029002014, 38.15877904186243, 22.557738249875367, 50.394278007016474, 41.354458846477335, 41.90912606281471, 34.61318763259434, 32.56614806810153, 32.81498281356945, 26.462058525421035, 25.563467885365494, 16.757173384784547, 26.029400620683568, 61.935822637765106, 130.39700648263133, 47.435079825850934, 18.432869768576545, 19.30667221106254, 36.316128046673235, 27.452523183723457, 62.40236575976372, 28.938717357312093, 71.93238553118465, 11.969695085981966, 10.959351906547347, 44.370522789217155, 11.12859193278977, 14.73167143939923, 43.82265552692422, 9.796088410250839, 20.21201844156061, 50.18672951021414, 47.1498127028583, 6.848018974548198, 30.846950890235224, 8.597782691146286, 16.449382967378128, 8.156705500245229, 10.90329213322373, 5.046734668849792, 35.507496674750456, 33.52875960248211, 64.88548812208616, 30.929280855479433, 67.31893789908527, 25.83978665215244, 58.713997685750876, 39.15035516114927, 22.391956426128147, 16.161372776144155, 19.295679981252942, 16.990452928521552, 16.73986481377172, 37.58684085930727, 46.32585449863552, 32.0303464886779, 34.316188709280304, 28.472826178740217, 28.198816147782804, 13.434599001756931, 44.23213694632128, 45.56001225073938, 37.823913929554976, 13.836983008636038, 23.202593253611113, 83.8592412416037, 31.898677748979047, 35.50349601513754, 29.662497094018825, 49.08978298961116, 31.263178370680187, 10.569246133063862, 21.25487133417816, 224.40050688798163, 21.03361734660884, 9.057958017085106, 37.058460541087925, 6.636245735181055, 4.266618362770923, 7.628316911685783, 14.0371097480673, 21.755787869586708, 13.57813615288626, 39.170876141371785, 105.20027773469772, 46.58229557948367, 42.60888308255954, 25.788412413432415, 46.30567597380336, 32.58554170981734, 24.937674656081647, 29.364302817604344, 36.875047729527274, 31.635098989333173, 24.268201613324834, 23.780864705087403, 42.01615877769683, 24.448426460166534, 16.640552197240574, 214.11140654775585, 34.8166315671904, 28.153174274269716, 18.138757528946478, 32.97109019504648, 128.26636954137666, 68.93650292364632, 30.6575675996762, 157.2438208965117, 15.018910549168874, 36.15917029816534, 32.22089474123427, 49.748392276608676, 55.44174445978279, 10.579816186879116, 9.351489458620273, 13.755605035618682, 9.14278000921416, 15.36088357608711, 12.664544133767325, 10.92221119003958, 46.14960487206429, 12.845483196164277, 36.666446645111286, 8.419065522223521, 13.51905733498301, 6.190414094895804, 22.539691318073075, 141.47663075267576, 53.811210858730526, 32.90592314238071, 83.6701731940428, 39.46335390163041, 54.65774914399515, 61.47313006487553, 93.14501370372632, 24.93045035669096, 44.47934460045503, 38.03968088500543, 56.60280730497633, 56.18639244860438, 38.11733843444116, 38.3936780596919, 41.80480175364102, 35.82167282957705, 34.151548286408584, 35.19949365695351, 48.1604023590372, 19.75972174307588, 25.088361671126243, 176.30066409794242, 55.31601359429235, 33.020237374908504, 17.6245511928379, 44.53562908415398, 41.43637432101039, 23.09492747004824, 126.66622632303884, 31.14197208493141, 57.94308147577155, 11.80395287197342, 35.73025853393668, 9.02975882675631, 26.838845442889816, 26.851831204059014, 9.48497794115978, 7.931109607196391, 14.638433347341628, 18.674882615919252, 13.4416140801131, 34.36312610143288, 15.581141486654191, 6.108538125549716, 8.118117458809348, 7.531800843553147, 5.963142039710523, 32.09967310192966, 19.6687852302557, 65.00656662830492, 59.7247903266823, 34.294106170202866, 89.04199384411265, 33.242218807782535, 34.64289213612408, 40.80212550180076, 34.543461280052156, 30.609702877077176, 37.228026547801946, 38.480876592781684, 22.534696584887147, 26.254241943984304, 23.065222145604245, 19.6320899109258, 12.9801791807444, 34.940766007156135, 17.94669215749922, 43.67590632515647, 89.09063191175952, 118.89836073053937, 15.571845178484274, 25.346465387628708, 11.110053746144466, 139.7818852954856, 78.88824094368002, 10.732432324597639, 71.65912883244437, 7.942316900507689, 8.258934429617781, 11.53934205951632, 12.100089199446417, 26.746514417032806, 101.33373669847515, 15.276123206619278, 15.968456683598756, 16.329386802263254, 99.56261238471015, 24.925549664534174, 23.80519579540459, 40.21725429398615, 13.917771005778823, 7.633214408723948, 257.4178059594736, 24.0520525144048, 51.85501828936005, 31.171412215295607, 45.124148932443866, 76.23023267413848, 64.39516145906752, 21.987406233727558, 98.41103101670839, 76.38624804577543, 47.81027416324276, 55.822153424433985, 40.823360148274716, 43.54004838665393, 59.682747258432876, 38.16133260437867, 40.56058078118383, 42.38919257130598, 29.41074555772642, 27.58257376859482, 28.897878607219003, 57.37721271667092, 48.49008213025308, 33.66131493993978, 28.718389848805508, 27.728364962901143, 24.763854165132024, 38.53466349096114, 285.5235618498791, 27.291279980900732, 29.907331484387132, 24.5929318487806, 33.439366773893966, 25.734102425375976, 55.02489895198141, 35.43119360711436, 66.4318303063997, 70.48098933020506, 17.77896553092873, 9.525231227004154, 16.154070545877673, 13.327133931517343, 12.80203218787543, 10.994889130892085, 8.890175890389589, 7.626033905170573, 49.15270686440358, 12.885774342349322, 10.671252330894507, 12.788114454925996, 47.974149304475254, 49.329985183470654, 44.484703813580694, 111.2241630348002, 88.823820407688, 34.71328054073613, 71.62447705912577, 68.2051146486199, 35.55006891013034, 24.184708885046444, 24.767553525763052, 36.02379453686589, 26.28679714223155, 44.38690520637583, 56.64625262671802, 23.418775765655198, 162.21388800818067, 43.42144569087321, 22.330050240266967, 25.150380698616527, 27.734862316334414, 36.28304919399577, 13.952810087808793, 41.500581247090544, 137.8435754612942, 31.539671520849065, 20.63313031725696, 14.12594246747561, 47.380928875253915, 29.55550383419739, 14.943770827686627, 130.89569710079664, 20.071939024400038, 13.243764172350334, 20.427703306992854, 6.17091712523791, 8.003093160605063, 60.421962062305184, 7.226844137288057, 41.88144739634985, 92.33212508233417, 126.20886963258512, 11.2494972050141, 39.52316948182185, 27.210380214739466, 68.32065778346848, 24.631760649164818, 71.67781727271813, 41.78340724144463, 31.41912027834804, 35.702409036551465, 45.04860488661933, 35.49582143800027, 36.855990542181615, 34.43943812012048, 31.443283582312798, 36.7251165516861, 32.059323845100224, 27.928304270163018, 26.654700368895757, 145.3388182113113, 24.019917441308383, 26.84562409501856, 18.4466573335824, 41.87955480908545, 16.195300879539708, 138.16828198155105, 11.325823723324197, 10.91974790193928, 19.73755319593499, 12.033509322053355, 14.445772432642503, 33.173982213496316, 13.34786701807335, 156.32046855207525, 55.185975651036735, 45.260130800483594, 6.436897034916852, 15.326409946954877, 9.074292866796752, 7.03254783506494, 17.260612871658953, 14.95434992038055, 9.97913995237583, 9.954575310182085, 5.496155411592632, 6.384234272642168, 6.304650868140192, 4.919049234935549, 126.07784121365158, 23.105451066585243, 57.57010983392039, 40.87895658207206, 15.783802916233615, 41.28002799203819, 59.87209731350671, 25.97992775645085, 35.97147534907427, 27.455905383850148, 21.186543344226614, 18.08856203770337, 20.665380680777456, 20.822096456058564, 18.281958728400394, 16.899099495944018, 16.12324863383291, 57.651512948607554, 82.16983089194939, 17.06953022897308, 17.072034831782585, 93.88295582101081, 15.49252697955912, 32.09872571617197, 10.763139450540518, 7.696132556876089, 10.079095431483399, 8.129603199089347, 16.042545296252214, 10.582451089342248, 9.935477783646668, 15.208483108632104, 6.693846117993995, 11.401886208061704, 9.729771668326759, 10.532115170131696, 8.234271681457411, 34.69593756935088, 34.20207371997565, 6.264169489585067, 5.231487940267138, 11.562471774179372, 11.663997722213313, 8.253112161434352, 9.955278989677772, 7.527311606967343, 8.52698211426971, 9.959789866515772, 30.472562273607608, 56.498052642500134, 16.9629455958667, 21.403386075739494, 19.309601743435127, 12.951494333424778, 18.26823596099855, 16.25412886379066, 19.89968899275137, 21.25294968798677, 14.77698693222728, 15.987596007050122, 11.92033074305325, 11.082673048483656, 10.848069754276496, 56.52531618581327, 27.791784383211137, 30.607167245765133, 23.592576200644775, 52.690062970032436, 44.035968416588425, 24.445998192800957, 27.07262559636303, 30.05850939334708, 63.889831077628905, 13.614793185352996, 36.79690672557975, 10.278572101671006, 41.91333586071267, 5.848860709844185, 6.846557112928392, 9.576734010489867, 6.249854086867963, 7.540620235170632, 18.912897619432297, 9.975342570831637, 7.224060135356627, 23.83159189551554, 5.525344266652101, 3.9986054423871265, 3.6463445112323694, 19.0958519983869, 26.3015054402918, 7.720634596328549, 3.319585506908316, 38.45937768738447, 27.776599076446793, 14.69356151229202, 12.706818646179245, 45.73273480083597, 33.761875248279566, 13.739887497268757, 23.1137595620093, 31.664588861455734, 16.666871884985056, 13.931201116277133, 20.660844430675716, 12.765337633222327, 13.48214785116644, 59.8238639025966, 31.406306037718213, 27.4866445217576, 23.566980367093887, 22.587063668752187, 21.607148289762033, 21.607148289762033, 21.607148289762033, 21.607148289762033, 19.64731489307863, 19.64731225437553, 18.667398194736926, 18.667398194736926, 17.687482815746773, 17.687482815746773, 16.707568756108166, 16.70756611740507, 16.707568756108166, 16.70756611740507, 15.727650738414917, 15.727650738414917, 13.76781998043461, 31.998444206279352, 27.380734895539206, 24.436554418013646, 24.26677234462077, 19.469525675136836, 26.242057986642262, 342.0320096897767, 41.15467534780812, 301.1287552504904, 205.12834576689306, 379.39530671140506, 51.52632480041411, 61.92558036482459, 295.1926654338144, 48.098369774426345, 45.188450217916795, 47.919075176367514, 40.81265984584493, 96.00467362780267, 26.63390011919275, 40.08180241675293, 114.89126493078193, 42.34306278435607, 74.17582282315273, 47.072758654547805, 61.31226660390721, 79.1745819707752, 56.91712662202246, 42.69951463096488, 82.26403360862233, 42.58188652429115, 29.124308102472984, 35.431233336341464, 43.178571178289026, 42.53937437868972, 37.67671953682864, 37.41585470992139, 36.85267366915058, 57.541272992928675, 53.643474874445616, 53.643442098999174, 49.74568221853697, 144.28439810608393, 54.486869050158454, 13.615294640679487, 22.975066283910802, 32.47507859991699, 11.742110959662718, 15.389986739477619, 20.82751660939398, 47.60881597391846, 23.919176675269906, 10.470571127004899, 14.935945748551829, 54.91073751134203, 14.95774005479588, 9.355420019893597, 5.627284682768337, 5.022519314546155, 6.3648872283881355, 61.37772093823623, 4.335148554716307, 9.38485851619975, 5.249267705521355, 8.34487994398142, 3.90936921672266, 3.2232978667800993, 4.0030445153680025, 24.246958452617935, 6.072214782403496, 84.68992912074306, 17.100694338592028, 15.98360333474411, 12.985219458170848, 12.041858805149232, 10.582945159259495, 12.738078935519932, 13.817049363862088, 12.11573466144212, 12.442193130139826, 10.576015200801232, 302.7520963072099, 47.095702010585555, 40.28917365006705, 24.695483663120292, 12.818573601929973, 14.45181458340769, 10.708409103912848, 27.394693356233503, 21.14083344987516, 8.577599966688675, 53.47548263370147, 25.162588095602718, 5.391397053689031, 28.925991197173335, 12.556612540906453, 18.8758721001678, 19.535516050331296, 13.438147421699863, 12.619329269377781, 8.08339370396844, 11.928077334171807, 23.11136206552493, 45.29416268721845, 5.500255689058995, 20.61477856765467, 7.34071239393382, 14.644765476178394, 5.518395133848822, 5.9181483779605415, 14.165772103908857, 17.493679756522763, 82.69985257064657, 16.859089747497944, 29.034232769908847, 33.02529603819656, 46.18564445792193, 30.832327326141872, 34.848438544668895, 29.459616579222992, 18.145363798398453, 16.21733961525037, 15.964834190389105, 16.75276326559234, 19.81031660717429, 16.29495970437194, 16.630869431690357, 16.134936791470174], \"Total\": [763.0, 308.0, 304.0, 552.0, 584.0, 261.0, 579.0, 395.0, 539.0, 349.0, 331.0, 452.0, 386.0, 202.0, 258.0, 189.0, 252.0, 219.0, 148.0, 318.0, 396.0, 247.0, 326.0, 157.0, 230.0, 143.0, 198.0, 137.0, 309.0, 180.0, 258.22416955855317, 21.76649262183398, 70.2154529676646, 159.22440603048184, 20.78552184784431, 23.733390194357302, 45.49572625493955, 82.13452496678754, 120.58204045468332, 20.774875807016972, 53.36631818978761, 26.69897929520182, 95.77591302927387, 14.815335264328885, 74.04452719364953, 117.72549242404648, 326.2487556729029, 32.59593214499725, 87.98172899594209, 31.573892193645644, 47.479723600383146, 38.60354568175205, 61.33346722033593, 349.6870581905765, 62.235514089951614, 138.6397600107103, 153.92664568271204, 27.578491246090632, 396.8099189753418, 66.3817790168065, 159.1155916860523, 93.88545796235745, 261.84872094837687, 309.05423961845923, 623.9027071454462, 374.90798282261835, 192.58675775963331, 230.25606955600392, 157.1562386552293, 138.45122157072188, 188.62846530755894, 114.33062996228759, 229.04798774662515, 285.6601587215322, 278.18337052036867, 51.2722134296653, 38.454331635925634, 137.06218629515016, 39.457662469767776, 47.33581012528103, 47.34147313472789, 26.63296193190911, 34.517765214561905, 23.624012260768275, 59.17958567093746, 30.604819534375846, 25.639282121202374, 51.32590278101105, 33.68275216252148, 44.43790630335564, 19.644487684983826, 17.833737248762066, 21.70431867789522, 26.64661809444076, 32.56894789405348, 18.74266032857088, 21.65800850207305, 30.655104542332577, 20.675382310594742, 45.558787086137286, 52.24322563373007, 141.94206029488848, 22.80678291523015, 24.710254372237678, 40.378257306452355, 197.26871340255934, 51.21061947603797, 212.39946490814572, 107.29515315324528, 63.091322232974846, 204.22360676914855, 72.197802379114, 159.5933555333966, 193.29273982544595, 680.84249351223, 167.7730126959619, 605.968249920111, 623.9027071454462, 151.61965980449688, 15.719489615914828, 47.1939330404494, 25.549289160767476, 55.097920199748415, 72.75146182992462, 42.245959156334294, 25.52692126649561, 22.64161892569884, 261.84872094837687, 25.610454338853273, 88.71243060120095, 114.33062996228759, 13.745515280079628, 30.557912262411243, 26.624895868438273, 137.80546535910165, 34.44352212351864, 58.130287844611125, 36.553878733064266, 43.31769116956989, 50.30013749209002, 44.399967478646836, 23.669344505180064, 64.11479472492817, 22.75235481644509, 118.15819157103647, 17.817006122467177, 20.709433961181315, 62.243486278910744, 69.74842980919914, 116.30515342972915, 69.00885547646715, 43.40842622686828, 226.67176672934482, 129.08852545990453, 579.1395065790351, 229.04798774662515, 214.72049491684302, 160.61269686992543, 191.57190093955236, 105.38142493499912, 405.51926956822217, 188.62846530755894, 164.90653449412275, 680.84249351223, 252.04168175105684, 99.21241382053458, 141.2636906447471, 70.15867112679152, 177.0368012817303, 50.30013749209002, 59.254409305882, 62.275290346544665, 230.25606955600392, 22.700560343321033, 87.06514166152908, 223.3212477543923, 25.745382808812153, 763.593584354024, 65.25274665579478, 36.50921866905257, 148.25487682721715, 188.62846530755894, 192.58675775963331, 46.35066814970305, 20.709433961181315, 248.30535256997675, 19.704205678467876, 155.1334630469948, 26.79740326715143, 62.235514089951614, 55.10049604549477, 19.712825420489313, 40.44627686832383, 114.33062996228759, 94.20247576769276, 118.72838239296058, 159.1155916860523, 229.04798774662515, 309.05423961845923, 452.2956748284559, 396.8099189753418, 278.18337052036867, 605.968249920111, 680.84249351223, 374.90798282261835, 252.2595652428875, 623.9027071454462, 285.6601587215322, 143.4348491906325, 18.669149478962943, 19.69508898711806, 81.62973338549891, 24.56179154629794, 24.599668888882622, 124.96128371017583, 59.03246962641229, 26.57800530091745, 33.41244070602695, 193.27162455530086, 29.48733219020124, 54.17663994767307, 17.70969834467098, 13.79159813397349, 16.70349173420177, 56.1351643838331, 140.91552131767017, 50.18807036651069, 70.89476064392933, 138.98426404153687, 105.38142493499912, 39.203443339100005, 20.619611650849752, 17.70390132563329, 46.35066814970305, 113.38453439786612, 54.31191288117726, 107.29515315324528, 50.17497092988456, 248.30535256997675, 763.593584354024, 396.8099189753418, 170.47694481078636, 452.2956748284559, 99.21241382053458, 204.22360676914855, 552.0713479748468, 213.56344729482007, 223.3212477543923, 623.9027071454462, 195.56049584571053, 605.968249920111, 201.9357018223089, 189.80815777959222, 59.33184626608589, 18.786988974238774, 36.582763943388514, 116.65510477653937, 31.598745625451457, 28.671785568001475, 198.78355800518588, 84.00925316179762, 21.723334896597272, 32.632547387176935, 51.41108833756422, 13.856387652231312, 73.27613396730911, 44.4560711227694, 59.139545493304205, 138.45122157072188, 136.24939416869947, 22.7137066399221, 17.753875558030796, 331.71801698164603, 61.33346722033593, 21.734280087418544, 16.81957735918602, 46.53380191682193, 24.678370844130196, 69.11868189759379, 71.99863401364756, 17.817006122467177, 20.629520327884784, 115.59426642004749, 37.478014902937396, 281.8568846613463, 66.95008676030972, 203.46022434526452, 278.18337052036867, 257.5874164718937, 214.72049491684302, 552.0713479748468, 123.3988081349672, 605.968249920111, 285.6601587215322, 623.9027071454462, 405.51926956822217, 680.84249351223, 15.910200515953314, 28.8312017072242, 28.75526336727585, 167.7730126959619, 31.75798347962709, 36.744534913864946, 55.631628349455156, 112.07455362756994, 16.869466050833704, 26.79740326715143, 170.47694481078636, 85.31904197685651, 18.80583952556167, 24.736036945796148, 67.37525705281985, 49.61467617873269, 63.37911785298875, 24.732264865474686, 31.685771318531714, 19.778218069719138, 40.62234364959824, 31.685609535405803, 48.62888526964859, 62.243486278910744, 36.68738544582797, 26.626846010571438, 69.41224784635746, 36.553878733064266, 24.67288036366574, 26.7025107883945, 60.55740142685221, 331.71801698164603, 74.25319973614606, 159.5933555333966, 111.77171647841287, 117.62695922714005, 124.37412327271542, 167.07308699952983, 235.89504212161896, 68.21088296854995, 605.968249920111, 386.97302947212535, 405.51926956822217, 253.05815689026647, 374.90798282261835, 539.6221828640594, 395.52635291883985, 285.6601587215322, 17.972229371518807, 27.95547208672689, 68.90761162870092, 151.61965980449688, 55.85461463357138, 22.91213623980356, 27.93497322407613, 52.74206041906524, 43.88970748847359, 102.23724809891068, 49.679413588426215, 141.94206029488848, 23.85263639795183, 22.780605544058915, 94.21887968677731, 24.76435706931254, 33.77060435802019, 101.18449077282139, 22.75235481644509, 49.61519809973896, 124.5626164491143, 118.72838239296058, 17.833737248762066, 81.16985875557013, 22.80678291523015, 48.580513207019806, 24.710254372237678, 33.68275216252148, 16.81957735918602, 119.93080177574156, 148.25487682721715, 605.968249920111, 193.27162455530086, 680.84249351223, 164.90653449412275, 763.593584354024, 623.9027071454462, 177.0368012817303, 95.99754667090323, 405.51926956822217, 159.5933555333966, 181.7592340261561, 38.52459652541313, 48.387556550621426, 37.56220329304164, 41.52965639532771, 34.57881295215734, 35.54260940614507, 17.778930216468492, 65.25929977279998, 68.06968085676391, 58.12482407914789, 21.743910153338632, 38.44052325141926, 138.98426404153687, 53.240938022161714, 61.1572606955099, 52.53739444242479, 105.38142493499912, 67.2353564017415, 22.749989088289723, 46.09911639045616, 552.0713479748468, 60.265860808077655, 26.57800530091745, 110.2044816154865, 20.702525246987154, 14.797432409143665, 26.701215692139293, 49.61519809973896, 79.97305684170149, 50.18807036651069, 155.1334630469948, 452.2956748284559, 191.57190093955236, 203.46022434526452, 115.59426642004749, 263.78361002104697, 163.8425180221464, 113.38453439786612, 172.75790548566562, 605.968249920111, 623.9027071454462, 188.62846530755894, 201.9357018223089, 42.9540431184439, 25.38631332340243, 17.57842803722229, 252.2595652428875, 41.098344535208625, 33.27818846736861, 21.505877726768595, 42.1300073638355, 166.36145786418658, 90.03642789545763, 41.070030212275256, 219.51081423059173, 23.491784435169375, 63.62338062961213, 59.75594716112516, 94.20247576769276, 106.86806896153821, 21.527649341059508, 19.691392454580207, 29.473184382572178, 19.60113002790152, 34.3482328820006, 29.575491727063223, 25.515438765215137, 108.02636063784828, 30.612032110990768, 88.58443621874636, 20.629520327884784, 34.39767141816309, 15.76643611861978, 59.75543463389753, 452.2956748284559, 159.38535375642473, 98.17271321731599, 318.67965889809136, 124.5626164491143, 214.72049491684302, 253.05815689026647, 539.6221828640594, 76.10242012520523, 195.56049584571053, 226.67176672934482, 623.9027071454462, 680.84249351223, 252.04168175105684, 281.8568846613463, 405.51926956822217, 278.18337052036867, 263.78361002104697, 605.968249920111, 50.26903136172037, 20.697121416152633, 27.595256931608095, 202.0933793513466, 64.02973544217824, 40.42761364980508, 22.7072481333202, 64.07406674334675, 62.2542821552452, 35.42624122824334, 197.40320735134065, 50.19663190494354, 94.46538602875437, 20.695181825432133, 63.00478744186738, 16.760075174846456, 52.22377524565931, 52.329603000865255, 18.711172717023015, 15.785445985745643, 35.49274871011284, 45.454587873946274, 33.51056192201787, 88.62507312979022, 41.26889491973905, 16.83580860847824, 22.70556352834094, 22.61565381409563, 19.651991608758973, 108.02636063784828, 68.21088296854995, 263.78361002104697, 247.39710064872557, 131.99113716756213, 539.6221828640594, 164.90653449412275, 197.26871340255934, 407.5394659626699, 285.6601587215322, 235.89504212161896, 605.968249920111, 680.84249351223, 129.26613056627104, 579.1395065790351, 203.46022434526452, 20.90606786946899, 14.922432635146947, 42.75589342910302, 22.858833775321155, 57.62485297253478, 125.20816804065095, 172.75790548566562, 23.800434341480653, 39.69535005420688, 17.82724163199832, 230.22473830667911, 130.67409785612463, 17.86622080044736, 120.0415382295729, 13.856174390141978, 14.859375628655, 20.76370868938574, 21.800803855109173, 50.56326092760631, 193.29273982544595, 29.69729916303354, 31.747212480118005, 32.695356147389035, 201.9357018223089, 51.66282729947775, 50.44361738212651, 85.32765965641396, 29.575491727063223, 16.83580860847824, 579.1395065790351, 56.399934201562715, 136.77920002754735, 76.10242012520523, 123.70897620275225, 263.78361002104697, 213.5675444617962, 52.53739444242479, 584.2113206789884, 407.5394659626699, 205.18579558989396, 374.90798282261835, 204.22360676914855, 235.89504212161896, 552.0713479748468, 226.67176672934482, 405.51926956822217, 680.84249351223, 142.69798612614122, 122.4397299575512, 270.09980686678733, 58.3245884964332, 49.42733212495299, 34.59856170999173, 29.65563795633464, 28.6670518723113, 25.70129384724351, 40.527293515936414, 304.6202187026991, 30.637845939727242, 34.58870755245173, 28.667493649670863, 39.531317956871725, 30.611997477907547, 72.16555982652154, 51.49899513630739, 97.00708785086393, 119.93080177574156, 33.616213331047014, 18.76790953558527, 33.77060435802019, 28.584966296047007, 27.627414679957084, 23.85263639795183, 20.735539859619305, 17.822727175920654, 116.30515342972915, 30.568588614710336, 25.67479883580503, 32.56894789405348, 129.26613056627104, 140.91552131767017, 181.7592340261561, 763.593584354024, 680.84249351223, 167.07308699952983, 623.9027071454462, 605.968249920111, 212.39946490814572, 101.18449077282139, 124.96128371017583, 405.51926956822217, 197.26871340255934, 45.32435163072112, 74.95652295094423, 31.50039126878247, 247.39710064872557, 71.99863401364756, 38.499264627036524, 45.321240638246614, 51.12865492014018, 66.95008676030972, 26.633473392597477, 82.88746152614944, 281.8568846613463, 66.88250978915238, 45.30217448444138, 31.573954893746492, 106.86806896153821, 67.98459390092029, 34.39767141816309, 309.05423961845923, 48.37058522176157, 32.54796983323188, 51.21061947603797, 15.780580543568966, 20.695181825432133, 159.38535375642473, 19.724932934054735, 114.38721907134767, 253.05815689026647, 349.6870581905765, 31.449406325829198, 117.62695922714005, 82.84007458165762, 278.18337052036867, 87.98172899594209, 405.51926956822217, 203.46022434526452, 136.24939416869947, 195.56049584571053, 331.71801698164603, 252.04168175105684, 285.6601587215322, 326.2487556729029, 230.22473830667911, 680.84249351223, 386.97302947212535, 318.67965889809136, 29.56003130799351, 169.55839560594382, 28.630570063700713, 32.49473810289682, 22.67508491081474, 52.28191939253656, 20.682235392015965, 180.44138631019842, 18.723784652245804, 18.731789412762843, 34.52242717293069, 21.64511720203019, 26.5783377545781, 61.30372658284999, 25.5985626121933, 318.67965889809136, 116.1602267593594, 102.58329797608711, 14.851415566688138, 36.30185492756673, 21.670527976509298, 17.677830097595518, 45.321240638246614, 40.42453212956394, 27.535707890111162, 27.477905872683714, 15.744090387469985, 19.704205678467876, 19.724932934054735, 15.715190360616441, 407.5394659626699, 77.99350607830813, 213.56344729482007, 164.90653449412275, 56.11382123399915, 229.04798774662515, 584.2113206789884, 159.59807304389332, 326.2487556729029, 195.56049584571053, 214.72049491684302, 153.92664568271204, 396.8099189753418, 579.1395065790351, 552.0713479748468, 213.5675444617962, 113.38453439786612, 65.28882150130244, 101.85291431596924, 26.701215692139293, 27.711496628008593, 157.1562386552293, 32.499795825798124, 70.07555794260377, 24.627070778788898, 18.733681521438726, 30.604819534375846, 25.67479883580503, 51.29721512761017, 35.632920465158804, 33.47268019560517, 51.66282729947775, 23.630767094388307, 44.179102633745785, 39.52566874940227, 44.43790630335564, 37.60527787826045, 159.5933555333966, 159.1155916860523, 31.53671129627712, 26.7025107883945, 60.39446656103673, 64.11479472492817, 46.35066814970305, 57.44454451560332, 45.5096646030955, 52.329603000865255, 62.275290346544665, 230.25606955600392, 605.968249920111, 124.5626164491143, 181.7592340261561, 205.18579558989396, 115.59426642004749, 278.18337052036867, 213.5675444617962, 452.2956748284559, 623.9027071454462, 188.62846530755894, 309.05423961845923, 114.38721907134767, 79.97305684170149, 257.5874164718937, 57.46246041387829, 28.72916230316732, 32.68625889494672, 26.745756452144306, 61.44114274653394, 57.44454451560332, 33.64030765825763, 37.59410788108413, 46.53380191682193, 105.74676930237548, 27.756061195407565, 77.99350607830813, 23.686141408964854, 111.63620334482454, 15.825880743608879, 19.733344823877264, 28.666058322815335, 18.76790953558527, 24.764293789328647, 62.142310562212685, 33.68232580073358, 24.706904107093905, 82.84007458165762, 19.791278852772418, 14.797432409143665, 13.80390607570622, 72.94532208192282, 103.48271511588622, 32.449166761283045, 14.779117150808036, 197.40320735134065, 142.69798612614122, 82.79724400632807, 72.16555982652154, 623.9027071454462, 605.968249920111, 102.38134973092808, 331.71801698164603, 680.84249351223, 167.07308699952983, 111.77171647841287, 579.1395065790351, 126.62090219233085, 285.6601587215322, 60.761545675219594, 32.343986406285325, 28.424324166583784, 24.504659544602458, 23.524743147710492, 22.54482742902095, 22.544827482192208, 22.544827615618907, 22.544827666880924, 20.584993989235706, 20.584991475571304, 19.60507707260952, 19.605077106993555, 18.6251617018321, 18.62516176567756, 17.645247658410412, 17.64524503572717, 17.64524792370824, 17.645246563932037, 16.665329606883773, 16.665329640680707, 14.705498919632738, 34.31637145571966, 29.41045041979761, 26.47046147746943, 26.47605223978218, 21.57515273600998, 29.42464645362122, 395.52635291883985, 48.115809564737845, 386.97302947212535, 270.09980686678733, 584.2113206789884, 63.76283120536301, 82.55474149294955, 539.6221828640594, 66.67582991910456, 63.68300732450432, 68.76705535772396, 55.94596346407979, 191.57190093955236, 32.42305125321608, 62.85582764259666, 374.90798282261835, 78.87569557497153, 235.89504212161896, 103.48271511588622, 205.18579558989396, 407.5394659626699, 213.56344729482007, 110.2044816154865, 680.84249351223, 116.1602267593594, 42.25946959122808, 102.38134973092808, 252.04168175105684, 248.30535256997675, 204.22360676914855, 257.5874164718937, 623.9027071454462, 58.47922914086897, 54.58142851256683, 54.581430198245755, 50.68363562986583, 148.15416537784174, 56.53854813398784, 14.630664662295166, 28.32564271433484, 45.97521632443875, 16.635373485315114, 23.51646362875091, 32.30155476960279, 82.36639653194275, 46.09911639045616, 20.632895047218934, 34.311349263088786, 136.77920002754735, 39.203443339100005, 27.477905872683714, 19.67833487763264, 17.74283664270838, 22.621838522282314, 219.51081423059173, 17.677830097595518, 40.27803087742228, 22.592069929153983, 36.30185492756673, 17.7482319302715, 16.70349173420177, 20.76370868938574, 131.99113716756213, 32.449166761283045, 579.1395065790351, 167.07308699952983, 163.8425180221464, 122.4397299575512, 107.29515315324528, 86.63894060954385, 226.67176672934482, 539.6221828640594, 405.51926956822217, 680.84249351223, 623.9027071454462, 308.6805957559124, 53.11229323186823, 49.17114702151092, 33.446169281210004, 17.718037249250948, 20.656365500939025, 17.707890829851, 47.2758006301608, 37.31025378303082, 19.60113002790152, 124.37412327271542, 63.00478744186738, 13.724502463077537, 73.7698461770712, 32.629962225654054, 49.31606086075916, 51.29721512761017, 35.40801172035773, 33.41244070602695, 21.670527976509298, 32.449166761283045, 68.77555932804947, 137.80546535910165, 16.766457803854305, 63.091322232974846, 23.800434341480653, 51.21061947603797, 20.702525246987154, 22.621838522282314, 54.3092234130147, 70.07555794260377, 552.0713479748468, 80.81770120864529, 201.9357018223089, 257.5874164718937, 680.84249351223, 405.51926956822217, 579.1395065790351, 623.9027071454462, 129.4043641151719, 88.88088965446687, 99.21241382053458, 159.59807304389332, 605.968249920111, 253.05815689026647, 452.2956748284559, 763.593584354024], \"Category\": [\"Default\", \"Default\", \"Default\", \"Default\", \"Default\", \"Default\", \"Default\", \"Default\", \"Default\", \"Default\", \"Default\", \"Default\", \"Default\", \"Default\", \"Default\", \"Default\", \"Default\", \"Default\", \"Default\", \"Default\", \"Default\", \"Default\", \"Default\", \"Default\", \"Default\", \"Default\", \"Default\", \"Default\", \"Default\", \"Default\", \"Topic1\", \"Topic1\", \"Topic1\", \"Topic1\", \"Topic1\", \"Topic1\", \"Topic1\", \"Topic1\", \"Topic1\", \"Topic1\", \"Topic1\", \"Topic1\", \"Topic1\", \"Topic1\", \"Topic1\", \"Topic1\", \"Topic1\", \"Topic1\", \"Topic1\", \"Topic1\", \"Topic1\", \"Topic1\", \"Topic1\", \"Topic1\", \"Topic1\", \"Topic1\", \"Topic1\", \"Topic1\", \"Topic1\", \"Topic1\", \"Topic1\", \"Topic1\", \"Topic1\", \"Topic1\", \"Topic1\", \"Topic1\", \"Topic1\", \"Topic1\", \"Topic1\", \"Topic1\", \"Topic1\", \"Topic1\", \"Topic1\", \"Topic1\", \"Topic1\", \"Topic2\", \"Topic2\", \"Topic2\", \"Topic2\", \"Topic2\", \"Topic2\", \"Topic2\", \"Topic2\", \"Topic2\", \"Topic2\", \"Topic2\", \"Topic2\", \"Topic2\", \"Topic2\", \"Topic2\", \"Topic2\", \"Topic2\", \"Topic2\", \"Topic2\", \"Topic2\", \"Topic2\", \"Topic2\", \"Topic2\", \"Topic2\", \"Topic2\", \"Topic2\", \"Topic2\", \"Topic2\", \"Topic2\", \"Topic2\", \"Topic2\", \"Topic2\", \"Topic2\", \"Topic2\", \"Topic2\", \"Topic2\", \"Topic2\", \"Topic2\", \"Topic2\", \"Topic2\", \"Topic2\", \"Topic2\", \"Topic2\", \"Topic2\", \"Topic3\", \"Topic3\", \"Topic3\", \"Topic3\", \"Topic3\", \"Topic3\", \"Topic3\", \"Topic3\", \"Topic3\", \"Topic3\", \"Topic3\", \"Topic3\", \"Topic3\", \"Topic3\", \"Topic3\", \"Topic3\", \"Topic3\", \"Topic3\", \"Topic3\", \"Topic3\", \"Topic3\", \"Topic3\", \"Topic3\", \"Topic3\", \"Topic3\", \"Topic3\", \"Topic3\", \"Topic3\", \"Topic3\", \"Topic3\", \"Topic3\", \"Topic3\", \"Topic3\", \"Topic3\", \"Topic3\", \"Topic3\", \"Topic3\", \"Topic3\", \"Topic3\", \"Topic3\", \"Topic3\", \"Topic3\", \"Topic3\", \"Topic3\", \"Topic3\", \"Topic3\", \"Topic3\", \"Topic4\", \"Topic4\", \"Topic4\", \"Topic4\", \"Topic4\", \"Topic4\", \"Topic4\", \"Topic4\", \"Topic4\", \"Topic4\", \"Topic4\", \"Topic4\", \"Topic4\", \"Topic4\", \"Topic4\", \"Topic4\", \"Topic4\", \"Topic4\", \"Topic4\", \"Topic4\", \"Topic4\", \"Topic4\", \"Topic4\", \"Topic4\", \"Topic4\", \"Topic4\", \"Topic4\", \"Topic4\", \"Topic4\", \"Topic4\", \"Topic4\", \"Topic4\", \"Topic4\", \"Topic4\", \"Topic4\", \"Topic4\", \"Topic4\", \"Topic4\", \"Topic4\", \"Topic4\", \"Topic4\", \"Topic4\", \"Topic5\", \"Topic5\", \"Topic5\", \"Topic5\", \"Topic5\", \"Topic5\", \"Topic5\", \"Topic5\", \"Topic5\", \"Topic5\", \"Topic5\", \"Topic5\", \"Topic5\", \"Topic5\", \"Topic5\", \"Topic5\", \"Topic5\", \"Topic5\", \"Topic5\", \"Topic5\", \"Topic5\", \"Topic5\", \"Topic5\", \"Topic5\", \"Topic5\", \"Topic5\", \"Topic5\", \"Topic5\", \"Topic5\", \"Topic5\", \"Topic5\", \"Topic5\", \"Topic5\", \"Topic5\", \"Topic5\", \"Topic5\", \"Topic5\", \"Topic5\", \"Topic5\", \"Topic5\", \"Topic5\", \"Topic5\", \"Topic5\", \"Topic5\", \"Topic6\", \"Topic6\", \"Topic6\", \"Topic6\", \"Topic6\", \"Topic6\", \"Topic6\", \"Topic6\", \"Topic6\", \"Topic6\", \"Topic6\", \"Topic6\", \"Topic6\", \"Topic6\", \"Topic6\", \"Topic6\", \"Topic6\", \"Topic6\", \"Topic6\", \"Topic6\", \"Topic6\", \"Topic6\", \"Topic6\", \"Topic6\", \"Topic6\", \"Topic6\", \"Topic6\", \"Topic6\", \"Topic6\", \"Topic6\", \"Topic6\", \"Topic6\", \"Topic6\", \"Topic6\", \"Topic6\", \"Topic6\", \"Topic6\", \"Topic6\", \"Topic6\", \"Topic6\", \"Topic6\", \"Topic6\", \"Topic6\", \"Topic6\", \"Topic6\", \"Topic7\", \"Topic7\", \"Topic7\", \"Topic7\", \"Topic7\", \"Topic7\", \"Topic7\", \"Topic7\", \"Topic7\", \"Topic7\", \"Topic7\", \"Topic7\", \"Topic7\", \"Topic7\", \"Topic7\", \"Topic7\", \"Topic7\", \"Topic7\", \"Topic7\", \"Topic7\", \"Topic7\", \"Topic7\", \"Topic7\", \"Topic7\", \"Topic7\", \"Topic7\", \"Topic7\", \"Topic7\", \"Topic7\", \"Topic7\", \"Topic7\", \"Topic7\", \"Topic7\", \"Topic7\", \"Topic7\", \"Topic7\", \"Topic7\", \"Topic7\", \"Topic7\", \"Topic7\", \"Topic7\", \"Topic7\", \"Topic7\", \"Topic7\", \"Topic7\", \"Topic7\", \"Topic7\", \"Topic7\", \"Topic8\", \"Topic8\", \"Topic8\", \"Topic8\", \"Topic8\", \"Topic8\", \"Topic8\", \"Topic8\", \"Topic8\", \"Topic8\", \"Topic8\", \"Topic8\", \"Topic8\", \"Topic8\", \"Topic8\", \"Topic8\", \"Topic8\", \"Topic8\", \"Topic8\", \"Topic8\", \"Topic8\", \"Topic8\", \"Topic8\", \"Topic8\", \"Topic8\", \"Topic8\", \"Topic8\", \"Topic8\", \"Topic8\", \"Topic8\", \"Topic8\", \"Topic8\", \"Topic8\", \"Topic8\", \"Topic8\", \"Topic8\", \"Topic8\", \"Topic8\", \"Topic8\", \"Topic8\", \"Topic8\", \"Topic8\", \"Topic9\", \"Topic9\", \"Topic9\", \"Topic9\", \"Topic9\", \"Topic9\", \"Topic9\", \"Topic9\", \"Topic9\", \"Topic9\", \"Topic9\", \"Topic9\", \"Topic9\", \"Topic9\", \"Topic9\", \"Topic9\", \"Topic9\", \"Topic9\", \"Topic9\", \"Topic9\", \"Topic9\", \"Topic9\", \"Topic9\", \"Topic9\", \"Topic9\", \"Topic9\", \"Topic9\", \"Topic9\", \"Topic9\", \"Topic9\", \"Topic9\", \"Topic9\", \"Topic9\", \"Topic9\", \"Topic9\", \"Topic9\", \"Topic9\", \"Topic9\", \"Topic9\", \"Topic9\", \"Topic9\", \"Topic9\", \"Topic9\", \"Topic10\", \"Topic10\", \"Topic10\", \"Topic10\", \"Topic10\", \"Topic10\", \"Topic10\", \"Topic10\", \"Topic10\", \"Topic10\", \"Topic10\", \"Topic10\", \"Topic10\", \"Topic10\", \"Topic10\", \"Topic10\", \"Topic10\", \"Topic10\", \"Topic10\", \"Topic10\", \"Topic10\", \"Topic10\", \"Topic10\", \"Topic10\", \"Topic10\", \"Topic10\", \"Topic10\", \"Topic10\", \"Topic10\", \"Topic10\", \"Topic10\", \"Topic10\", \"Topic10\", \"Topic10\", \"Topic10\", \"Topic10\", \"Topic10\", \"Topic10\", \"Topic10\", \"Topic10\", \"Topic10\", \"Topic10\", \"Topic10\", \"Topic10\", \"Topic10\", \"Topic10\", \"Topic10\", \"Topic10\", \"Topic10\", \"Topic10\", \"Topic11\", \"Topic11\", \"Topic11\", \"Topic11\", \"Topic11\", \"Topic11\", \"Topic11\", \"Topic11\", \"Topic11\", \"Topic11\", \"Topic11\", \"Topic11\", \"Topic11\", \"Topic11\", \"Topic11\", \"Topic11\", \"Topic11\", \"Topic11\", \"Topic11\", \"Topic11\", \"Topic11\", \"Topic11\", \"Topic11\", \"Topic11\", \"Topic11\", \"Topic11\", \"Topic11\", \"Topic11\", \"Topic11\", \"Topic11\", \"Topic11\", \"Topic11\", \"Topic11\", \"Topic11\", \"Topic11\", \"Topic11\", \"Topic11\", \"Topic11\", \"Topic11\", \"Topic11\", \"Topic11\", \"Topic11\", \"Topic11\", \"Topic11\", \"Topic11\", \"Topic12\", \"Topic12\", \"Topic12\", \"Topic12\", \"Topic12\", \"Topic12\", \"Topic12\", \"Topic12\", \"Topic12\", \"Topic12\", \"Topic12\", \"Topic12\", \"Topic12\", \"Topic12\", \"Topic12\", \"Topic12\", \"Topic12\", \"Topic12\", \"Topic12\", \"Topic12\", \"Topic12\", \"Topic12\", \"Topic12\", \"Topic12\", \"Topic12\", \"Topic12\", \"Topic12\", \"Topic12\", \"Topic12\", \"Topic12\", \"Topic12\", \"Topic12\", \"Topic12\", \"Topic12\", \"Topic12\", \"Topic12\", \"Topic12\", \"Topic12\", \"Topic12\", \"Topic12\", \"Topic12\", \"Topic12\", \"Topic12\", \"Topic12\", \"Topic12\", \"Topic12\", \"Topic12\", \"Topic12\", \"Topic12\", \"Topic12\", \"Topic13\", \"Topic13\", \"Topic13\", \"Topic13\", \"Topic13\", \"Topic13\", \"Topic13\", \"Topic13\", \"Topic13\", \"Topic13\", \"Topic13\", \"Topic13\", \"Topic13\", \"Topic13\", \"Topic13\", \"Topic13\", \"Topic13\", \"Topic13\", \"Topic13\", \"Topic13\", \"Topic13\", \"Topic13\", \"Topic13\", \"Topic13\", \"Topic13\", \"Topic13\", \"Topic13\", \"Topic13\", \"Topic13\", \"Topic13\", \"Topic13\", \"Topic13\", \"Topic13\", \"Topic13\", \"Topic13\", \"Topic13\", \"Topic13\", \"Topic13\", \"Topic13\", \"Topic13\", \"Topic13\", \"Topic13\", \"Topic14\", \"Topic14\", \"Topic14\", \"Topic14\", \"Topic14\", \"Topic14\", \"Topic14\", \"Topic14\", \"Topic14\", \"Topic14\", \"Topic14\", \"Topic14\", \"Topic14\", \"Topic14\", \"Topic14\", \"Topic14\", \"Topic14\", \"Topic14\", \"Topic14\", \"Topic14\", \"Topic14\", \"Topic14\", \"Topic14\", \"Topic14\", \"Topic14\", \"Topic14\", \"Topic14\", \"Topic14\", \"Topic14\", \"Topic14\", \"Topic14\", \"Topic14\", \"Topic14\", \"Topic14\", \"Topic14\", \"Topic14\", \"Topic14\", \"Topic14\", \"Topic14\", \"Topic14\", \"Topic14\", \"Topic14\", \"Topic14\", \"Topic14\", \"Topic14\", \"Topic14\", \"Topic15\", \"Topic15\", \"Topic15\", \"Topic15\", \"Topic15\", \"Topic15\", \"Topic15\", \"Topic15\", \"Topic15\", \"Topic15\", \"Topic15\", \"Topic15\", \"Topic15\", \"Topic15\", \"Topic15\", \"Topic15\", \"Topic15\", \"Topic15\", \"Topic15\", \"Topic15\", \"Topic15\", \"Topic15\", \"Topic15\", \"Topic15\", \"Topic15\", \"Topic15\", \"Topic15\", \"Topic15\", \"Topic15\", \"Topic15\", \"Topic15\", \"Topic15\", \"Topic15\", \"Topic15\", \"Topic15\", \"Topic15\", \"Topic15\", \"Topic15\", \"Topic15\", \"Topic15\", \"Topic15\", \"Topic15\", \"Topic15\", \"Topic15\", \"Topic15\", \"Topic15\", \"Topic15\", \"Topic16\", \"Topic16\", \"Topic16\", \"Topic16\", \"Topic16\", \"Topic16\", \"Topic16\", \"Topic16\", \"Topic16\", \"Topic16\", \"Topic16\", \"Topic16\", \"Topic16\", \"Topic16\", \"Topic16\", \"Topic16\", \"Topic16\", \"Topic16\", \"Topic16\", \"Topic16\", \"Topic16\", \"Topic16\", \"Topic16\", \"Topic16\", \"Topic16\", \"Topic16\", \"Topic16\", \"Topic16\", \"Topic16\", \"Topic16\", \"Topic16\", \"Topic16\", \"Topic16\", \"Topic16\", \"Topic16\", \"Topic16\", \"Topic16\", \"Topic16\", \"Topic16\", \"Topic16\", \"Topic16\", \"Topic16\", \"Topic16\", \"Topic16\", \"Topic16\", \"Topic16\", \"Topic17\", \"Topic17\", \"Topic17\", \"Topic17\", \"Topic17\", \"Topic17\", \"Topic17\", \"Topic17\", \"Topic17\", \"Topic17\", \"Topic17\", \"Topic17\", \"Topic17\", \"Topic17\", \"Topic17\", \"Topic17\", \"Topic17\", \"Topic17\", \"Topic17\", \"Topic17\", \"Topic17\", \"Topic17\", \"Topic17\", \"Topic17\", \"Topic17\", \"Topic17\", \"Topic17\", \"Topic17\", \"Topic17\", \"Topic17\", \"Topic17\", \"Topic17\", \"Topic17\", \"Topic17\", \"Topic17\", \"Topic17\", \"Topic17\", \"Topic17\", \"Topic17\", \"Topic17\", \"Topic17\", \"Topic17\", \"Topic17\", \"Topic17\", \"Topic18\", \"Topic18\", \"Topic18\", \"Topic18\", \"Topic18\", \"Topic18\", \"Topic18\", \"Topic18\", \"Topic18\", \"Topic18\", \"Topic18\", \"Topic18\", \"Topic18\", \"Topic18\", \"Topic18\", \"Topic18\", \"Topic18\", \"Topic18\", \"Topic18\", \"Topic18\", \"Topic18\", \"Topic18\", \"Topic18\", \"Topic18\", \"Topic18\", \"Topic18\", \"Topic18\", \"Topic18\", \"Topic18\", \"Topic18\", \"Topic18\", \"Topic18\", \"Topic18\", \"Topic18\", \"Topic18\", \"Topic18\", \"Topic18\", \"Topic18\", \"Topic18\", \"Topic18\", \"Topic18\", \"Topic18\", \"Topic18\", \"Topic18\", \"Topic18\", \"Topic18\", \"Topic18\", \"Topic18\", \"Topic18\", \"Topic18\", \"Topic18\", \"Topic18\", \"Topic18\", \"Topic18\", \"Topic18\", \"Topic18\", \"Topic18\", \"Topic18\", \"Topic18\", \"Topic18\", \"Topic19\", \"Topic19\", \"Topic19\", \"Topic19\", \"Topic19\", \"Topic19\", \"Topic19\", \"Topic19\", \"Topic19\", \"Topic19\", \"Topic19\", \"Topic19\", \"Topic19\", \"Topic19\", \"Topic19\", \"Topic19\", \"Topic19\", \"Topic19\", \"Topic19\", \"Topic19\", \"Topic19\", \"Topic19\", \"Topic19\", \"Topic19\", \"Topic19\", \"Topic19\", \"Topic19\", \"Topic19\", \"Topic19\", \"Topic19\", \"Topic19\", \"Topic19\", \"Topic19\", \"Topic19\", \"Topic19\", \"Topic19\", \"Topic19\", \"Topic19\", \"Topic19\", \"Topic19\", \"Topic19\", \"Topic19\", \"Topic19\", \"Topic20\", \"Topic20\", \"Topic20\", \"Topic20\", \"Topic20\", \"Topic20\", \"Topic20\", \"Topic20\", \"Topic20\", \"Topic20\", \"Topic20\", \"Topic20\", \"Topic20\", \"Topic20\", \"Topic20\", \"Topic20\", \"Topic20\", \"Topic20\", \"Topic20\", \"Topic20\", \"Topic20\", \"Topic20\", \"Topic20\", \"Topic20\", \"Topic20\", \"Topic20\", \"Topic20\", \"Topic20\", \"Topic20\", \"Topic20\", \"Topic20\", \"Topic20\", \"Topic20\", \"Topic20\", \"Topic20\", \"Topic20\", \"Topic20\", \"Topic20\", \"Topic20\", \"Topic20\", \"Topic20\", \"Topic20\", \"Topic20\", \"Topic20\", \"Topic20\", \"Topic20\", \"Topic20\"], \"logprob\": [30.0, 29.0, 28.0, 27.0, 26.0, 25.0, 24.0, 23.0, 22.0, 21.0, 20.0, 19.0, 18.0, 17.0, 16.0, 15.0, 14.0, 13.0, 12.0, 11.0, 10.0, 9.0, 8.0, 7.0, 6.0, 5.0, 4.0, 3.0, 2.0, 1.0, -2.8878, -5.3822, -4.2184, -3.4011, -5.4412, -5.3138, -4.6921, -4.1048, -3.724, -5.4889, -4.5799, -5.2887, -4.0446, -5.9394, -4.3312, -3.927, -2.9249, -5.3178, -4.3278, -5.4101, -5.0036, -5.2318, -4.7737, -3.0944, -4.9019, -4.1027, -4.0015, -5.762, -3.1657, -4.9543, -4.1671, -4.6499, -4.0084, -3.9033, -3.7631, -4.0842, -4.4841, -4.4459, -4.6227, -4.7145, -4.6887, -4.8181, -4.6749, -4.656, -4.6996, -3.6701, -3.964, -2.7, -3.9718, -3.7973, -3.8287, -4.4555, -4.2, -4.6582, -3.8201, -4.6113, -4.79, -4.3154, -4.7379, -4.4767, -5.3019, -5.4148, -5.2255, -5.1653, -4.9817, -5.5852, -5.4709, -5.1705, -5.573, -4.7839, -4.7208, -3.7356, -5.605, -5.5321, -5.0694, -3.596, -4.875, -3.6727, -4.3177, -4.7782, -4.0389, -4.7974, -4.4743, -4.395, -4.0765, -4.557, -4.1651, -4.2668, -4.7169, -4.7845, -3.7756, -4.396, -3.6364, -3.4111, -4.1102, -4.6248, -4.8005, -2.4303, -4.7861, -3.5793, -3.5865, -5.7634, -5.0386, -5.1968, -3.629, -5.0531, -4.5469, -5.0132, -4.9562, -4.8105, -5.0082, -5.6605, -4.6756, -5.7324, -4.1188, -6.0277, -5.8957, -4.8009, -4.7102, -4.2116, -4.7631, -5.1965, -3.8785, -4.3418, -3.4691, -4.1411, -4.1915, -4.3974, -4.3679, -4.6201, -4.2079, -4.4821, -4.5765, -4.4239, -4.6561, -4.7599, -3.1763, -3.9056, -3.0423, -4.4339, -4.3781, -4.3678, -3.0705, -5.3884, -4.0674, -3.1399, -5.4446, -2.1016, -4.5665, -5.2122, -3.8469, -3.6156, -3.6645, -5.1075, -6.0072, -3.5512, -6.1178, -4.1051, -5.9191, -5.081, -5.2098, -6.2668, -5.6652, -4.6618, -4.864, -4.6483, -4.4395, -4.1521, -3.9601, -3.6672, -3.815, -4.1475, -3.9665, -4.0835, -4.3327, -4.5318, -4.463, -4.8456, -2.7704, -4.8467, -4.9741, -3.5905, -4.8, -4.8875, -3.3141, -4.0968, -4.9107, -4.7311, -2.9833, -4.8678, -4.3035, -5.4636, -5.8747, -5.7236, -4.6285, -3.7258, -4.7733, -4.4655, -3.7971, -4.0821, -5.098, -5.7666, -5.9581, -5.0984, -4.2698, -5.026, -4.3456, -5.1606, -3.6386, -2.6015, -3.2505, -4.0254, -3.4661, -4.556, -4.1546, -3.5849, -4.1706, -4.335, -4.202, -4.5097, -4.7206, -4.7964, -2.6557, -3.8267, -4.9932, -4.4318, -3.2732, -4.5828, -4.7064, -2.8323, -3.7384, -5.101, -4.7955, -4.3583, -5.7279, -4.0635, -4.5676, -4.308, -3.603, -3.6372, -5.479, -5.7693, -2.8613, -4.6943, -5.8315, -6.1316, -5.1288, -5.855, -4.85, -4.8254, -6.2588, -6.1487, -4.4586, -5.5788, -3.7678, -5.1262, -4.3728, -4.1558, -4.2419, -4.4614, -3.9969, -4.7657, -4.28, -4.5528, -4.5487, -4.8086, -4.816, -5.1448, -4.5739, -4.7049, -3.0005, -4.6687, -4.5342, -4.1203, -3.4372, -5.3932, -4.9737, -3.1444, -3.8385, -5.3768, -5.1107, -4.1198, -4.4379, -4.2029, -5.1691, -4.9258, -5.4103, -4.6959, -5.0281, -4.7103, -4.4663, -5.0476, -5.381, -4.4594, -5.2098, -5.6045, -5.5261, -4.7737, -3.2315, -4.5984, -4.0873, -4.38, -4.3939, -4.3834, -4.2856, -4.209, -4.7347, -3.9309, -4.1286, -4.1153, -4.3066, -4.3675, -4.3599, -4.5751, -4.6096, -4.8511, -4.4107, -3.5438, -2.7993, -3.8105, -4.7558, -4.7094, -4.0776, -4.3574, -3.5363, -4.3047, -3.3942, -5.1875, -5.2757, -3.8773, -5.2604, -4.9799, -3.8897, -5.3879, -4.6636, -3.7541, -3.8166, -5.7459, -4.2409, -5.5184, -4.8696, -5.5711, -5.2808, -6.0512, -4.1001, -4.1575, -3.4973, -4.2382, -3.4605, -4.418, -3.5972, -4.0025, -4.5612, -4.8873, -4.71, -4.8372, -4.8521, -4.2035, -3.9944, -4.3635, -4.2945, -4.4812, -4.4909, -5.2323, -4.0407, -4.0111, -4.1972, -5.2028, -4.6859, -3.401, -4.3676, -4.2605, -4.4403, -3.9365, -4.3877, -5.4722, -4.7735, -2.4167, -4.784, -5.6265, -4.2176, -5.9376, -6.3793, -5.7983, -5.1884, -4.7503, -5.2217, -4.1622, -3.1743, -3.9889, -4.0781, -4.5802, -3.9949, -4.3463, -4.6138, -4.4504, -4.2226, -4.3759, -4.641, -4.6613, -4.4879, -5.0294, -5.4142, -2.8595, -4.6759, -4.8883, -5.3279, -4.7304, -3.3719, -3.9928, -4.8031, -3.1682, -5.5167, -4.6381, -4.7534, -4.319, -4.2107, -5.8671, -5.9905, -5.6046, -6.013, -5.4942, -5.6872, -5.8352, -4.3941, -5.673, -4.6241, -6.0955, -5.6219, -6.403, -5.1107, -3.2739, -4.2405, -4.7323, -3.7991, -4.5506, -4.2249, -4.1074, -3.6918, -5.0099, -4.431, -4.5874, -4.1899, -4.1973, -4.5853, -4.5781, -4.493, -4.6474, -4.6952, -4.665, -3.9204, -4.8113, -4.5725, -2.6228, -3.7819, -4.2978, -4.9257, -3.9987, -4.0708, -4.6553, -2.9534, -4.3564, -3.7355, -5.3265, -4.219, -5.5944, -4.5051, -4.5046, -5.5452, -5.7242, -5.1113, -4.8678, -5.1966, -4.258, -5.0489, -5.9853, -5.7009, -5.7758, -6.0094, -4.3261, -4.8159, -3.6205, -3.7052, -4.26, -3.3058, -4.2911, -4.2499, -4.0862, -4.2527, -4.3736, -4.1779, -4.1448, -4.6799, -4.5271, -4.6566, -5.2804, -5.6941, -4.7039, -5.3702, -4.4808, -3.7679, -3.4793, -5.5121, -5.0249, -5.8497, -3.3175, -3.8895, -5.8843, -3.9857, -6.1854, -6.1463, -5.8118, -5.7644, -4.9712, -3.6392, -5.5313, -5.487, -5.4646, -3.6568, -5.0417, -5.0877, -4.5633, -5.6244, -6.2251, -2.7069, -5.0774, -4.3091, -4.8181, -4.4482, -3.9238, -4.0925, -5.1671, -3.6684, -3.9218, -4.3903, -4.2354, -4.5483, -4.4839, -4.1685, -4.6157, -4.5548, -4.5107, -4.8762, -4.9404, -4.8938, -3.9204, -4.0887, -4.4537, -4.6125, -4.6476, -4.7607, -4.3185, -2.3157, -4.6635, -4.572, -4.7676, -4.4603, -4.7222, -3.9623, -4.4025, -3.7739, -3.7147, -5.0921, -5.7161, -5.1879, -5.3803, -5.4205, -5.5726, -5.7851, -5.9385, -4.0751, -5.4139, -5.6025, -5.4216, -4.0994, -4.0715, -4.1749, -3.2585, -3.4834, -4.4229, -3.6986, -3.7475, -4.3991, -4.7843, -4.7605, -4.3859, -4.701, -4.2449, -4.0011, -4.8844, -2.949, -4.2669, -4.932, -4.813, -4.7152, -4.4465, -5.4022, -4.3122, -3.1118, -4.5866, -5.011, -5.3899, -4.1797, -4.6516, -5.3336, -3.1635, -5.0386, -5.4544, -5.021, -6.218, -5.9581, -3.9365, -6.0601, -4.303, -3.5125, -3.2, -5.6176, -4.361, -4.7343, -3.8137, -4.8339, -3.7657, -4.3054, -4.5905, -4.4627, -4.2302, -4.4685, -4.4309, -4.4987, -4.5897, -4.4344, -4.5703, -4.7083, -4.4325, -2.7364, -4.5365, -4.4253, -4.8005, -3.9806, -4.9307, -2.787, -5.2883, -5.3249, -4.7329, -5.2277, -5.045, -4.2137, -5.1241, -2.6635, -3.7047, -3.903, -5.8534, -4.9858, -5.51, -5.7649, -4.867, -5.0104, -5.4149, -5.4174, -6.0114, -5.8616, -5.8741, -6.1223, -2.8785, -4.5754, -3.6624, -4.0048, -4.9564, -3.995, -3.6232, -4.4581, -4.1327, -4.4028, -4.6621, -4.8201, -4.687, -4.6794, -4.8095, -4.8882, -4.9352, -3.0884, -2.734, -4.3055, -4.3054, -2.6007, -4.4024, -3.674, -4.7667, -5.1021, -4.8323, -5.0473, -4.3675, -4.7836, -4.8467, -4.4209, -5.2416, -4.709, -4.8676, -4.7884, -5.0345, -3.5962, -3.6105, -5.3079, -5.4881, -4.695, -4.6863, -5.0322, -4.8447, -5.1243, -4.9996, -4.8442, -3.726, -3.1086, -4.3118, -4.0792, -4.1822, -4.5816, -4.2376, -4.3544, -4.1521, -4.0863, -4.4497, -4.371, -4.6645, -4.7374, -4.7588, -3.3058, -4.0157, -3.9192, -4.1795, -3.376, -3.5555, -4.144, -4.0419, -3.9373, -3.1833, -4.7293, -3.735, -5.0104, -3.6049, -5.5742, -5.4167, -5.0811, -5.5079, -5.3202, -4.4006, -5.0403, -5.363, -4.1694, -5.6311, -5.9545, -6.0467, -4.391, -4.0708, -5.2966, -6.1406, -3.6909, -4.0163, -4.653, -4.7983, -3.5176, -3.8211, -4.7202, -4.2, -3.8853, -4.527, -4.7063, -4.3122, -4.7937, -4.7391, -4.5509, -5.1953, -5.3286, -5.4825, -5.525, -5.5693, -5.5693, -5.5693, -5.5693, -5.6644, -5.6644, -5.7156, -5.7156, -5.7695, -5.7695, -5.8265, -5.8265, -5.8265, -5.8265, -5.8869, -5.8869, -6.02, -5.1767, -5.3325, -5.4463, -5.4532, -5.6735, -5.375, -2.8074, -4.925, -2.9348, -3.3187, -2.7038, -4.7002, -4.5164, -2.9547, -4.7691, -4.8315, -4.7728, -4.9333, -4.0779, -5.3602, -4.9514, -3.8984, -4.8965, -4.3359, -4.7906, -4.5264, -4.2707, -4.6007, -4.8882, -4.2324, -4.8909, -5.2708, -5.0747, -4.877, -4.8919, -5.0133, -5.0202, -5.0354, -3.238, -3.3082, -3.3082, -3.3836, -2.3187, -3.2926, -4.6793, -4.1561, -3.8101, -4.8273, -4.5568, -4.2543, -3.4275, -4.1159, -4.942, -4.5868, -3.2848, -4.5853, -5.0546, -5.5629, -5.6766, -5.4397, -3.1735, -5.8238, -5.0514, -5.6324, -5.1689, -5.9272, -6.1201, -5.9035, -4.1022, -5.4868, -2.8515, -4.4514, -4.519, -4.7267, -4.8021, -4.9313, -4.7459, -4.6646, -4.796, -4.7694, -4.9319, -1.9576, -3.8184, -3.9745, -4.4639, -5.1196, -4.9997, -5.2995, -4.3602, -4.6193, -5.5214, -3.6913, -4.4452, -5.9857, -4.3058, -5.1403, -4.7326, -4.6983, -5.0724, -5.1353, -5.5807, -5.1916, -4.5302, -3.8574, -5.9657, -4.6445, -5.6771, -4.9865, -5.9624, -5.8925, -5.0197, -4.8087, -3.2553, -4.8456, -4.3021, -4.1733, -3.8379, -4.242, -4.1195, -4.2875, -4.7721, -4.8845, -4.9001, -4.852, -4.6843, -4.8797, -4.8593, -4.8895], \"loglift\": [30.0, 29.0, 28.0, 27.0, 26.0, 25.0, 24.0, 23.0, 22.0, 21.0, 20.0, 19.0, 18.0, 17.0, 16.0, 15.0, 14.0, 13.0, 12.0, 11.0, 10.0, 9.0, 8.0, 7.0, 6.0, 5.0, 4.0, 3.0, 2.0, 1.0, 2.444, 2.4231, 2.4158, 2.4143, 2.4103, 2.405, 2.376, 2.3726, 2.3694, 2.363, 2.3286, 2.3124, 2.2791, 2.2506, 2.2499, 2.1904, 2.1732, 2.0837, 2.0808, 2.0232, 2.0218, 2.0006, 1.9957, 1.9343, 1.8529, 1.8512, 1.8478, 1.8067, 1.7366, 1.736, 1.649, 1.6937, 1.3095, 1.2489, 0.6866, 0.8748, 1.1411, 1.0007, 1.2057, 1.2407, 0.9573, 1.3285, 0.7769, 0.5749, 0.5579, 3.2785, 3.2722, 3.2653, 3.2386, 3.2311, 3.1996, 3.148, 3.1442, 3.0653, 2.985, 2.8532, 2.8515, 2.6321, 2.6309, 2.6149, 2.6061, 2.5898, 2.5827, 2.4377, 2.4206, 2.3697, 2.3394, 2.2924, 2.2838, 2.2829, 2.209, 2.1947, 2.1537, 2.1464, 2.118, 2.0051, 2.0748, 1.8545, 1.8924, 1.9629, 1.5276, 1.8089, 1.3388, 1.2265, 0.2859, 1.2061, 0.3138, 0.183, 1.1474, 3.3463, 3.2558, 3.2491, 3.2402, 3.1876, 3.032, 3.0212, 2.9654, 2.8876, 2.8567, 2.821, 2.5601, 2.5016, 2.4275, 2.4071, 2.3308, 2.2933, 2.2761, 2.2738, 2.1609, 2.1572, 2.0843, 2.061, 2.0495, 2.0287, 1.9949, 1.9779, 1.9595, 1.9537, 1.9306, 1.9179, 1.8884, 1.9186, 1.5837, 1.6834, 1.055, 1.3107, 1.3249, 1.4093, 1.2625, 1.6081, 0.6727, 1.1639, 1.2038, -0.0615, 0.7, 1.5285, 2.7587, 2.7293, 2.6671, 2.5339, 2.4258, 2.3864, 2.3761, 2.3749, 2.3517, 2.3372, 2.1929, 2.1461, 2.1409, 2.076, 2.0398, 2.0303, 1.9607, 1.942, 1.8479, 1.8199, 1.787, 1.7363, 1.6783, 1.6738, 1.6668, 1.6377, 1.5206, 1.4848, 1.4763, 1.4606, 1.3766, 1.2997, 1.1921, 1.1042, 1.0873, 1.11, 0.5124, 0.2789, 0.6263, 0.8234, -0.0133, 0.3853, 3.1494, 3.1122, 2.9312, 2.8931, 2.8845, 2.7955, 2.7436, 2.7109, 2.6949, 2.6457, 2.6384, 2.6339, 2.5899, 2.548, 2.387, 2.3465, 2.2294, 2.2117, 2.1966, 2.159, 2.1542, 2.146, 2.119, 2.0929, 2.0538, 1.9511, 1.8851, 1.865, 1.8645, 1.8096, 1.7324, 1.6462, 1.6517, 1.7218, 1.3053, 1.7324, 1.4119, 0.9871, 1.3512, 1.1421, 0.2477, 1.1001, -0.2417, 0.7814, 2.984, 2.9758, 2.9593, 2.8543, 2.8533, 2.8498, 2.8234, 2.7612, 2.7164, 2.7063, 2.6049, 2.5875, 2.529, 2.528, 2.5236, 2.4979, 2.3522, 2.334, 2.2838, 2.2398, 2.2201, 2.0751, 1.9753, 1.9316, 1.9167, 1.8248, 1.7999, 1.7836, 1.7468, 1.7103, 1.677, 1.6832, 1.4765, 1.5555, 1.1974, 1.1016, 1.0924, 1.055, 0.5751, 1.3046, 0.1989, 0.6781, -0.099, 0.0719, -0.4536, 2.9739, 2.9504, 2.822, 2.7626, 2.7588, 2.7476, 2.7467, 2.7294, 2.667, 2.6237, 2.6027, 2.6008, 2.5748, 2.5667, 2.5557, 2.5435, 2.5337, 2.5085, 2.5041, 2.4908, 2.4855, 2.4018, 2.2912, 2.2884, 2.2357, 2.2228, 2.1863, 2.0771, 2.0755, 2.0748, 2.0084, 1.85, 1.9799, 1.7257, 1.7893, 1.7243, 1.679, 1.4817, 1.2133, 1.9284, 0.548, 0.7987, 0.7652, 1.0455, 0.5915, 0.2349, 0.3304, 0.6213, 3.1458, 3.1444, 3.1092, 3.065, 3.0524, 2.9983, 2.8464, 2.8427, 2.7466, 2.7221, 2.6754, 2.5361, 2.5263, 2.4841, 2.4628, 2.4159, 2.3862, 2.379, 2.3731, 2.3178, 2.3068, 2.2923, 2.2587, 2.2483, 2.2403, 2.1329, 2.1074, 2.0879, 2.012, 1.9987, 1.7293, 0.9816, 1.3834, 0.9019, 1.3624, 0.6505, 0.4472, 1.1482, 1.4341, 0.1705, 0.9758, 0.8309, 3.0309, 3.012, 2.8963, 2.8648, 2.8613, 2.8241, 2.7754, 2.6667, 2.6541, 2.6259, 2.6036, 2.5507, 2.5504, 2.5433, 2.5118, 2.4839, 2.2916, 2.2898, 2.289, 2.2814, 2.1553, 2.0029, 1.9791, 1.9657, 1.9179, 1.8119, 1.8027, 1.793, 1.7538, 1.7483, 1.6792, 1.5971, 1.6415, 1.4922, 1.5554, 1.3157, 1.4405, 1.5412, 1.2835, 0.2563, 0.0739, 1.005, 0.9165, 2.6376, 2.6221, 2.6049, 2.4958, 2.4938, 2.4925, 2.4894, 2.4146, 2.3997, 2.3927, 2.3673, 2.3261, 2.2124, 2.0947, 2.0421, 2.0212, 2.0035, 1.9493, 1.9151, 1.8977, 1.8971, 1.855, 1.8116, 1.8112, 1.8092, 1.7913, 1.7776, 1.7635, 1.7258, 1.7248, 1.6847, 1.4975, 1.5739, 1.5666, 1.3224, 1.5103, 1.2915, 1.2447, 0.903, 1.5437, 1.1789, 0.8748, 0.2598, 0.1651, 0.7708, 0.6662, 0.3876, 0.61, 0.6154, -0.1861, 3.0479, 3.0444, 2.9955, 2.9542, 2.9445, 2.8884, 2.8374, 2.727, 2.6837, 2.6629, 2.6471, 2.6134, 2.602, 2.5293, 2.5236, 2.4723, 2.4251, 2.4235, 2.4114, 2.4025, 2.2051, 2.2012, 2.1773, 2.1433, 2.1167, 2.0769, 2.0623, 1.9913, 1.8982, 1.8772, 1.8472, 1.6901, 1.6695, 1.743, 1.289, 1.4892, 1.3513, 0.7894, 0.9782, 1.0487, 0.301, 0.2176, 1.3439, -0.003, 0.9136, 2.5653, 2.4887, 2.4263, 2.3862, 2.351, 2.2878, 2.2545, 2.2039, 2.1796, 2.1553, 2.1292, 2.1235, 2.1185, 2.1122, 2.0716, 2.0408, 2.0407, 2.0394, 1.9913, 1.9824, 1.9634, 1.941, 1.9339, 1.921, 1.8993, 1.8772, 1.8759, 1.8744, 1.8371, 1.8173, 1.7759, 1.6582, 1.7356, 1.6196, 1.3868, 1.4292, 1.7571, 0.847, 0.9538, 1.1715, 0.7236, 1.0182, 0.9384, 0.4035, 0.8465, 0.3258, -0.1483, 1.0488, 1.1377, 0.3931, 2.8993, 2.8965, 2.8882, 2.8835, 2.8824, 2.8785, 2.8652, 2.8509, 2.8, 2.7702, 2.7623, 2.7483, 2.7421, 2.6445, 2.5417, 2.537, 2.3841, 2.2787, 2.2374, 2.1782, 2.1526, 2.1464, 2.1412, 2.0687, 2.0667, 2.0544, 2.0518, 2.0377, 1.9808, 1.9244, 1.866, 1.5081, 0.9892, 0.879, 1.3443, 0.7511, 0.7313, 1.1281, 1.4844, 1.2972, 0.4947, 0.9001, 2.8269, 2.5677, 2.5514, 2.4257, 2.3421, 2.3031, 2.2589, 2.2362, 2.2352, 2.2013, 2.156, 2.1325, 2.0961, 2.0614, 2.0435, 2.0344, 2.0148, 2.0141, 1.9887, 1.9683, 1.9486, 1.9288, 1.9089, 1.8978, 1.8779, 1.8437, 1.8431, 1.8396, 1.8287, 1.8198, 1.7572, 1.7345, 1.4438, 1.5747, 1.1148, 1.2649, 1.3808, 1.1472, 0.8513, 0.8876, 0.8, 0.5994, 0.857, -0.072, 0.3571, 0.4133, 3.0668, 3.0162, 2.9947, 2.9793, 2.9639, 2.9484, 2.9257, 2.9034, 2.6676, 2.6306, 2.6112, 2.5832, 2.5606, 2.5562, 2.5191, 2.458, 2.426, 2.352, 2.3342, 2.308, 2.2998, 2.2485, 2.2049, 2.1759, 2.1553, 2.1549, 2.1179, 2.0433, 2.0297, 2.0088, 1.9971, 1.9537, 1.8594, 1.7755, 1.9019, 1.4567, 0.8922, 1.355, 0.9654, 1.207, 0.8543, 1.0291, 0.2153, -0.1552, -0.2375, 0.6336, 1.2198, 3.6185, 3.5282, 3.2955, 3.2585, 3.2277, 3.002, 2.9622, 2.9152, 2.8533, 2.6322, 2.5929, 2.5805, 2.5289, 2.5283, 2.52, 2.4816, 2.3884, 2.3412, 2.3033, 2.2241, 2.2169, 2.2056, 2.1266, 2.1129, 2.0898, 2.0388, 2.0173, 1.9902, 1.9435, 1.9286, 1.9099, 1.7206, 1.3703, 1.7491, 1.6038, 1.3796, 1.554, 1.0198, 1.1673, 0.6193, 0.3634, 1.1962, 0.7812, 1.4816, 1.7666, 0.5756, 3.5288, 3.5121, 3.4795, 3.4198, 3.3916, 3.2794, 3.226, 3.2169, 3.1082, 3.0414, 2.833, 2.794, 2.7104, 2.5656, 2.5499, 2.4867, 2.4489, 2.4457, 2.3562, 2.3557, 2.3284, 2.3156, 2.2994, 2.2694, 2.2368, 2.214, 2.205, 2.1755, 2.1095, 2.0519, 1.9096, 1.9087, 1.8163, 1.8084, 0.9321, 0.6578, 1.5369, 0.8814, 0.4771, 1.2403, 1.4629, 0.212, 1.2508, 0.4918, 2.2278, 2.214, 2.2098, 2.2044, 2.2027, 2.2009, 2.2009, 2.2009, 2.2009, 2.1968, 2.1968, 2.1944, 2.1944, 2.1917, 2.1917, 2.1888, 2.1888, 2.1888, 2.1888, 2.1855, 2.1855, 2.1775, 2.1734, 2.1719, 2.1634, 2.1562, 2.1407, 2.1289, 2.0981, 2.0871, 1.9926, 1.9682, 1.8117, 2.0303, 1.9558, 1.6401, 1.9168, 1.9003, 1.8822, 1.928, 1.5525, 2.0467, 1.7935, 1.0607, 1.6213, 1.0864, 1.4557, 1.0354, 0.6049, 0.921, 1.2952, 0.13, 1.2398, 1.8711, 1.1823, 0.4791, 0.4791, 0.5532, 0.3141, -0.5857, 3.579, 3.5779, 3.5779, 3.5765, 3.5687, 3.5582, 3.5233, 3.3858, 3.2476, 3.2468, 3.1712, 3.1563, 3.047, 2.9391, 2.9169, 2.7635, 2.6825, 2.6316, 2.5178, 2.3433, 2.3331, 2.3271, 2.3208, 2.1896, 2.1385, 2.1357, 2.125, 2.0823, 1.95, 1.949, 1.9007, 1.9192, 1.6726, 1.3159, 1.2678, 1.3514, 1.408, 1.4927, 0.7163, -0.0698, 0.0845, -0.4071, -0.4822, 3.1958, 3.095, 3.016, 2.9119, 2.8915, 2.858, 2.7122, 2.6695, 2.6471, 2.3887, 2.3711, 2.2973, 2.2808, 2.279, 2.2602, 2.2548, 2.2498, 2.2463, 2.2415, 2.229, 2.2144, 2.1247, 2.1025, 2.1006, 2.0966, 2.0389, 1.9633, 1.893, 1.8743, 1.8713, 1.8274, 1.3167, 1.6479, 1.2757, 1.1611, 0.5245, 0.6386, 0.4046, 0.1622, 1.2507, 1.514, 1.3883, 0.9611, -0.2054, 0.4724, -0.0879, -0.6419]}, \"token.table\": {\"Topic\": [5, 6, 8, 9, 10, 11, 12, 13, 15, 16, 18, 7, 11, 2, 7, 12, 13, 17, 18, 20, 9, 16, 17, 1, 6, 7, 9, 10, 11, 12, 14, 15, 17, 19, 1, 2, 3, 4, 5, 8, 10, 12, 15, 1, 9, 13, 15, 18, 1, 13, 16, 19, 2, 10, 12, 20, 1, 4, 5, 6, 8, 9, 11, 12, 13, 15, 16, 17, 20, 10, 13, 15, 18, 19, 1, 3, 10, 14, 20, 7, 9, 11, 18, 20, 6, 7, 14, 17, 1, 12, 15, 19, 20, 1, 5, 6, 7, 8, 10, 11, 12, 13, 14, 15, 18, 19, 20, 1, 7, 10, 1, 2, 7, 8, 10, 12, 7, 12, 18, 12, 13, 1, 3, 10, 13, 1, 2, 4, 5, 7, 8, 10, 12, 15, 18, 4, 13, 15, 18, 1, 6, 7, 13, 19, 2, 8, 13, 18, 19, 1, 3, 4, 8, 10, 13, 14, 16, 20, 5, 10, 15, 19, 20, 2, 12, 8, 10, 12, 13, 14, 15, 16, 18, 2, 3, 4, 7, 8, 10, 11, 13, 15, 18, 20, 2, 3, 16, 18, 19, 2, 7, 9, 10, 11, 12, 13, 14, 17, 2, 7, 9, 11, 14, 18, 9, 15, 16, 10, 11, 13, 15, 18, 12, 15, 17, 13, 3, 10, 15, 18, 3, 6, 12, 17, 7, 10, 17, 7, 9, 18, 20, 2, 10, 3, 11, 13, 15, 17, 1, 8, 11, 13, 15, 18, 19, 1, 4, 5, 2, 3, 8, 11, 12, 13, 14, 19, 18, 1, 3, 5, 7, 10, 12, 18, 2, 5, 6, 7, 8, 10, 12, 13, 14, 15, 20, 2, 5, 10, 14, 3, 8, 14, 16, 17, 19, 20, 1, 3, 4, 18, 3, 4, 9, 10, 12, 15, 1, 4, 6, 12, 15, 18, 18, 2, 4, 11, 12, 14, 18, 1, 5, 7, 18, 2, 5, 15, 19, 1, 2, 3, 4, 6, 7, 8, 10, 11, 12, 13, 14, 17, 18, 19, 20, 5, 8, 3, 11, 20, 11, 17, 1, 3, 8, 10, 19, 20, 12, 15, 19, 3, 13, 14, 1, 2, 5, 13, 17, 19, 1, 4, 8, 10, 12, 14, 14, 20, 11, 12, 15, 7, 9, 14, 17, 1, 4, 5, 11, 16, 18, 2, 16, 1, 4, 5, 6, 7, 8, 9, 10, 11, 12, 13, 15, 17, 19, 2, 8, 13, 14, 5, 11, 2, 3, 11, 18, 19, 1, 2, 4, 5, 10, 12, 13, 14, 15, 18, 19, 20, 1, 5, 9, 12, 13, 17, 20, 1, 4, 10, 17, 18, 7, 8, 6, 17, 8, 9, 12, 16, 1, 9, 11, 12, 16, 19, 1, 6, 9, 11, 12, 15, 17, 2, 13, 15, 1, 2, 6, 10, 11, 12, 13, 14, 17, 18, 20, 4, 8, 9, 13, 15, 19, 12, 15, 18, 2, 6, 10, 11, 12, 13, 14, 15, 18, 5, 9, 12, 18, 20, 1, 3, 6, 16, 18, 20, 1, 3, 5, 6, 10, 12, 16, 19, 6, 10, 12, 19, 1, 4, 7, 6, 7, 18, 19, 12, 15, 20, 5, 9, 10, 11, 12, 14, 2, 3, 5, 6, 8, 9, 10, 13, 14, 18, 20, 1, 5, 6, 10, 14, 18, 19, 1, 2, 10, 11, 16, 18, 5, 10, 18, 1, 6, 14, 18, 5, 9, 10, 14, 20, 6, 7, 8, 10, 12, 13, 20, 6, 8, 9, 13, 14, 15, 19, 3, 4, 10, 11, 19, 5, 6, 8, 11, 18, 19, 2, 5, 7, 8, 9, 10, 11, 13, 14, 15, 16, 17, 19, 20, 2, 4, 11, 17, 18, 2, 9, 12, 15, 17, 19, 4, 9, 10, 15, 16, 1, 4, 8, 10, 19, 2, 8, 11, 12, 15, 16, 18, 3, 4, 6, 7, 8, 10, 11, 17, 18, 19, 3, 5, 13, 14, 18, 20, 1, 7, 15, 18, 20, 1, 6, 7, 13, 16, 20, 1, 8, 11, 13, 16, 18, 8, 10, 12, 15, 16, 6, 18, 1, 3, 4, 20, 8, 10, 13, 18, 20, 2, 7, 12, 15, 18, 3, 6, 7, 10, 13, 14, 16, 17, 7, 10, 11, 14, 15, 17, 18, 19, 10, 11, 13, 20, 1, 2, 5, 6, 7, 9, 10, 11, 12, 13, 15, 16, 18, 20, 9, 14, 18, 1, 5, 20, 1, 3, 8, 18, 3, 6, 7, 10, 11, 12, 18, 10, 11, 13, 14, 4, 14, 5, 8, 13, 6, 8, 11, 18, 1, 10, 18, 1, 3, 4, 10, 12, 14, 15, 16, 18, 19, 18, 5, 12, 19, 20, 12, 18, 2, 7, 11, 12, 15, 18, 20, 1, 4, 10, 1, 3, 1, 2, 3, 4, 5, 6, 7, 8, 9, 10, 11, 12, 13, 14, 17, 1, 2, 6, 8, 9, 10, 11, 12, 13, 14, 15, 18, 19, 1, 5, 10, 20, 5, 6, 10, 20, 1, 2, 3, 8, 17, 18, 2, 13, 1, 6, 7, 8, 10, 13, 15, 18, 20, 1, 2, 11, 16, 18, 1, 3, 4, 5, 8, 10, 12, 16, 1, 3, 9, 10, 11, 12, 13, 15, 2, 3, 5, 7, 8, 9, 12, 17, 18, 1, 12, 15, 1, 2, 7, 10, 11, 19, 3, 5, 6, 9, 10, 12, 15, 16, 18, 20, 1, 2, 3, 4, 5, 7, 8, 10, 11, 12, 13, 14, 17, 19, 20, 9, 12, 1, 2, 3, 7, 8, 9, 12, 13, 15, 16, 19, 4, 7, 17, 18, 12, 13, 15, 17, 19, 1, 5, 8, 14, 12, 20, 9, 12, 14, 16, 3, 4, 5, 8, 9, 10, 15, 16, 1, 5, 16, 17, 1, 4, 6, 8, 9, 10, 11, 12, 13, 15, 18, 20, 1, 3, 4, 8, 9, 11, 13, 15, 18, 20, 1, 2, 6, 7, 10, 13, 18, 19, 20, 1, 5, 7, 10, 13, 1, 2, 3, 4, 6, 7, 8, 10, 13, 14, 17, 18, 20, 2, 5, 8, 9, 15, 5, 20, 8, 10, 12, 16, 19, 2, 16, 5, 6, 9, 11, 1, 6, 7, 9, 12, 15, 18, 20, 1, 4, 6, 7, 19, 20, 2, 4, 13, 15, 1, 4, 6, 9, 18, 20, 2, 7, 9, 19, 20, 4, 5, 20, 6, 11, 13, 16, 20, 1, 3, 4, 11, 20, 1, 9, 13, 8, 11, 12, 13, 15, 2, 5, 13, 15, 19, 2, 10, 12, 14, 17, 2, 5, 9, 14, 8, 10, 13, 16, 5, 8, 13, 15, 20, 5, 14, 15, 18, 4, 10, 11, 12, 13, 16, 17, 18, 19, 2, 12, 14, 19, 18, 6, 14, 18, 19, 1, 5, 10, 11, 12, 15, 17, 18, 19, 20, 6, 10, 12, 14, 15, 18, 19, 2, 5, 12, 15, 19, 1, 2, 3, 7, 19, 20, 10, 12, 13, 14, 18, 1, 2, 4, 5, 6, 7, 9, 10, 11, 12, 13, 14, 15, 16, 20, 7, 9, 10, 12, 18, 20, 1, 2, 4, 6, 7, 8, 9, 10, 11, 13, 14, 16, 17, 4, 7, 8, 9, 12, 13, 14, 16, 2, 3, 13, 14, 16, 18, 1, 2, 5, 8, 9, 11, 18, 19, 20, 10, 13, 14, 15, 1, 3, 10, 16, 8, 10, 14, 16, 19, 20, 19, 3, 4, 8, 11, 18, 1, 3, 6, 8, 10, 14, 15, 16, 3, 4, 8, 14, 17, 1, 3, 8, 14, 19, 8, 11, 2, 3, 8, 16, 20, 3, 4, 6, 7, 12, 17, 13, 5, 11, 13, 10, 12, 14, 15, 1, 4, 7, 8, 18, 1, 3, 12, 16, 18, 1, 5, 9, 13, 18, 7, 11, 12, 13, 14, 17, 18, 20, 2, 1, 9, 10, 11, 18, 4, 6, 7, 9, 18, 1, 4, 5, 16, 20, 18, 10, 3, 8, 10, 11, 13, 2, 5, 8, 10, 19, 1, 2, 5, 11, 17, 18, 2, 3, 10, 15, 19, 1, 2, 3, 4, 6, 8, 10, 12, 13, 14, 15, 16, 18, 19, 20, 10, 11, 12, 11, 18, 1, 2, 3, 7, 8, 9, 10, 11, 14, 15, 16, 17, 19, 20, 2, 15, 16, 18, 3, 19, 1, 3, 4, 16, 18, 1, 7, 16, 17, 18, 13, 2, 13, 4, 12, 14, 15, 20, 18, 5, 13, 18, 2, 16, 1, 4, 12, 14, 16, 19, 2, 3, 7, 16, 17, 1, 4, 6, 7, 9, 11, 12, 13, 14, 15, 17, 18, 19, 2, 13, 16, 17, 7, 8, 10, 14, 15, 18, 20, 1, 10, 12, 19, 13, 1, 7, 9, 15, 17, 19, 1, 9, 16, 17, 1, 6, 7, 8, 9, 10, 12, 13, 16, 20, 7, 13, 6, 10, 17, 20, 1, 17, 1, 4, 9, 14, 16, 17, 4, 5, 7, 8, 9, 15, 18, 6, 18, 3, 7, 8, 9, 11, 12, 14, 20, 6, 7, 8, 13, 14, 15, 17, 2, 3, 13, 18, 19, 20, 5, 12, 15, 18, 3, 9, 11, 14, 17, 18, 2, 3, 4, 8, 10, 11, 12, 18, 19, 2, 5, 9, 12, 13, 19, 20, 1, 12, 6, 1, 2, 3, 4, 5, 6, 7, 8, 9, 10, 11, 12, 13, 14, 16, 17, 18, 19, 20, 6, 11, 14, 15, 19, 1, 4, 5, 14, 15, 10, 19, 2, 6, 8, 10, 13, 14, 15, 17, 19, 1, 2, 4, 6, 7, 9, 10, 12, 13, 14, 16, 17, 18, 20, 2, 4, 8, 9, 10, 12, 13, 15, 16, 17, 3, 4, 8, 10, 11, 13, 19, 2, 5, 9, 12, 14, 15, 17, 19, 20, 11, 14, 2, 3, 6, 12, 18, 8, 10, 14, 5, 9, 6, 8, 12, 1, 4, 6, 9, 11, 12, 16, 18, 20, 1, 9, 10, 3, 4, 5, 7, 8, 10, 12, 13, 17, 9, 10, 13, 14, 1, 2, 4, 9, 11, 13, 1, 6, 7, 9, 10, 11, 12, 18, 19, 9, 17, 20, 14, 15, 11, 12, 13, 18, 1, 6, 16, 19, 14, 18, 6, 7, 10, 19, 18, 14, 18, 13, 18, 5, 6, 9, 15, 6, 19, 12, 18, 19, 18, 2, 3, 6, 11, 13, 14, 17, 20, 1, 4, 7, 9, 11, 12, 18, 19, 20, 10, 2, 4, 6, 7, 9, 10, 11, 12, 15, 1, 20, 10, 11, 13, 15, 17, 20, 1, 2, 18, 2, 12, 13, 3, 6, 11, 12, 17, 7, 9, 11, 17, 20, 7, 10, 13, 14, 15, 20, 6, 10, 11, 20, 18, 5, 9, 6, 12, 13, 17, 18, 18, 2, 5, 7, 9, 13, 18, 20, 2, 8, 9, 2, 13, 10, 11, 1, 3, 4, 5, 6, 16, 18, 20, 2, 8, 9, 1, 3, 4, 5, 6, 8, 9, 10, 11, 12, 15, 16, 17, 18, 19, 2, 8, 18, 9, 19, 7, 10, 12, 13, 14, 18, 20, 2, 10, 11, 13, 17, 19, 2, 5, 9, 12, 13, 14, 19, 20, 10, 12, 15, 2, 10, 13, 17, 19, 20, 2, 6, 7, 6, 10, 16, 18, 19, 7, 11, 13, 17, 8, 2, 7, 2, 9, 14, 15, 1, 3, 4, 16, 17, 18, 1, 10, 12, 18, 8, 15, 2, 6, 10, 14, 17, 18, 20, 8, 10, 12, 16, 4, 7, 9, 3, 15, 1, 4, 5, 7, 8, 10, 11, 12, 14, 15, 18, 2, 8, 9, 13, 14, 15, 20, 10, 11, 12, 13, 14, 17, 18, 12, 16, 18, 20, 12, 2, 3, 7, 8, 9, 10, 13, 14, 6, 18, 6, 7, 10, 13, 14, 17, 18, 20, 3, 12, 14, 2, 6, 10, 13, 14, 17, 19, 9, 10, 17, 10, 13, 17, 1, 3, 6, 8, 11, 12, 14, 19, 20, 1, 2, 10, 13, 14, 16, 20, 6, 10, 17, 18, 19, 3, 11, 12, 14, 18, 19, 2, 3, 5, 8, 10, 11, 12, 13, 14, 18, 19, 20, 2, 3, 6, 8, 9, 13, 15, 18, 3, 5, 6, 9, 12, 16, 18, 20, 5, 12, 17, 19, 2, 3, 4, 5, 7, 8, 12, 14, 16, 17, 18, 19, 1, 2, 4, 5, 6, 7, 8, 9, 10, 11, 12, 13, 14, 16, 17, 18, 19, 20, 4, 5, 10, 12, 1, 9, 11, 13, 20, 1, 18, 1, 2, 3, 5, 10, 17, 6, 18, 20, 10, 18, 19, 20, 12, 15, 20, 7, 10, 16, 9, 18, 1, 4, 10, 1, 3, 4, 7, 12, 13, 17, 18, 1, 6, 6, 9, 14, 17, 18, 6, 10, 14, 15, 20, 2, 3, 5, 6, 10, 15, 16, 20, 1, 2, 5, 7, 9, 10, 12, 13, 14, 15, 20, 10, 13, 16, 17, 2, 5, 7, 17, 6, 7, 9, 14, 17, 19, 4, 6, 9, 8, 9, 11, 2, 3, 6, 8, 10, 11, 15, 18, 2, 3, 5, 8, 13, 11, 1, 6, 9, 11, 14, 15, 19, 20, 18, 6, 11, 12, 13, 15, 18, 6, 11, 14, 15, 1, 3, 7, 18, 10, 1, 6, 8, 14, 16, 18, 14, 3, 5, 7, 10, 11, 18, 5, 6, 8, 9, 17, 18, 1, 12, 13, 14, 20, 1, 4, 10, 15, 1, 2, 4, 8, 9, 14, 7, 13, 16, 18, 1, 3, 4, 11, 14, 16, 20, 9, 15, 17, 18, 1, 5, 7, 8, 14, 18, 2, 3, 4, 5, 7, 8, 11, 18, 20, 1, 4, 5, 8, 12, 13, 14, 20, 2, 4, 5, 8, 9, 10, 12, 13, 20, 7, 9, 16, 1, 4, 6, 15, 16, 3, 7, 15, 1, 15, 18, 19, 5, 15, 17, 18, 19, 1, 5, 7, 13, 1, 6, 8, 10, 13, 17, 19, 5, 7, 13, 14, 15, 16, 17, 1, 2, 5, 6, 7, 8, 9, 10, 12, 14, 15, 16, 17, 18, 19, 20, 3, 5, 6, 7, 12, 16, 18, 1, 3, 10, 12, 15, 16, 17, 18, 20, 9, 12, 14, 15, 18, 1, 5, 10, 16, 1, 2, 3, 4, 5, 7, 8, 11, 12, 13, 17, 20, 5, 10, 16, 18, 19, 20, 4, 8, 10, 14, 6, 10, 11, 14, 15, 19, 9, 10, 16, 2, 5, 6, 10, 11, 1, 2, 6, 10, 14, 7, 10, 5, 6, 7, 10, 12, 17, 1, 6, 1, 3, 4, 6, 7, 14, 5, 10, 12, 14, 19, 1, 3, 5, 8, 13, 17, 18, 2, 3, 5, 6, 7, 8, 9, 10, 11, 12, 13, 14, 18, 19, 20, 2, 3, 10, 12, 15, 7, 10, 13, 17, 1, 11, 12, 18, 9, 10, 12, 14, 20, 7, 7, 9, 12, 13, 17, 18, 8, 11, 12, 13, 14, 18, 2, 6, 10, 12, 13, 15, 1, 2, 5, 6, 7, 8, 9, 10, 12, 13, 14, 15, 17, 18, 19, 2, 8, 12, 20, 3, 5, 7, 10, 11, 12, 3, 7, 13, 14, 16, 17, 18, 2, 3, 7, 8, 10, 13, 18, 19, 20, 4, 7, 2, 13, 15, 5, 6, 7, 9, 3, 5, 9, 15, 1, 2, 5, 10, 14, 1, 4, 11, 14, 17, 17, 8, 13, 16, 1, 3, 4, 5, 8, 9, 13, 14, 15, 1, 2, 7, 8, 10, 12, 13, 16, 18, 7, 17, 20, 1, 2, 3, 5, 7, 8, 9, 10, 12, 14, 17, 18, 19, 20, 19, 4, 7, 10, 1, 3, 12, 15, 11, 13, 6, 7, 19, 2, 12, 14, 1, 2, 5, 7, 12, 13, 9, 19, 9, 2, 3, 14, 17, 18, 6, 10, 13, 19, 20, 10, 12, 14, 17, 18, 20, 1, 6, 8, 9, 13, 18, 9, 10, 12, 14, 16, 1, 3, 4, 9, 15, 16, 20, 1, 10, 18, 2, 9, 10, 19, 20, 19, 1, 2, 3, 4, 10, 12, 13, 14, 17, 19, 1, 4, 5, 6, 9, 10, 16, 20, 6, 8, 10, 11, 13, 14, 17, 18, 19, 2, 6, 10, 11, 12, 15, 16, 17, 19, 3, 6, 7, 10, 11, 13, 14, 16, 17, 18, 19, 20, 4, 5, 10, 11, 19, 3, 5, 10, 14, 2, 4, 10, 13, 16, 17, 2, 8, 11, 14, 19, 5, 11, 12, 13, 17, 18, 20, 6, 7, 8, 10, 17, 20, 6, 9, 18, 18, 2, 1, 6, 7, 9, 14, 15, 17, 5, 2, 8, 2, 3, 6, 9, 11, 12, 13, 18, 19, 3, 4, 6, 8, 11, 12, 14, 15, 16, 18, 3, 6, 18, 8, 13, 9, 13, 15, 3, 6, 14, 17, 1, 3, 8, 9, 10, 14, 17, 20, 18, 5, 6, 20, 1, 5, 6, 9, 10, 12, 15, 18, 9, 14, 17, 18, 19, 2, 7, 10, 12, 13, 14, 18, 2, 3, 6, 7, 8, 9, 10, 11, 12, 14, 15, 17, 18, 19, 20, 7, 9, 11, 14, 15, 18, 1, 2, 5, 9, 13, 14, 15, 16, 19, 20, 2, 9, 1, 2, 8, 13, 15, 20, 2, 5, 6, 12, 13, 14, 15, 17, 19, 20, 7, 9, 10, 12, 19, 5, 6, 12, 17, 4, 7, 12, 13, 15, 18, 3, 7, 9, 10, 18, 20, 4, 12, 13, 7, 8, 2, 13, 15, 17, 20, 3, 4, 6, 7, 9, 10, 13, 17, 3, 5, 6, 9, 13, 16, 18, 2, 11, 13, 3, 4, 2, 6, 9, 12, 13, 14, 15, 20, 15, 18, 18, 18, 1, 2, 3, 4, 5, 7, 8, 9, 12, 13, 15, 17, 18, 20, 2, 14, 20, 5, 9, 11, 13, 17, 18, 2, 5, 12, 19, 5, 9, 20, 7, 10, 13, 14, 8, 10, 11, 14, 18, 1, 2, 3, 4, 6, 7, 8, 9, 10, 11, 12, 13, 14, 16, 17, 18, 20, 1, 5, 6, 11, 15, 18, 20, 4, 6, 9, 11, 12, 13, 14, 16, 17, 18, 19, 1, 2, 3, 9, 11, 14, 15, 17, 18, 13, 14, 15, 17, 18, 1, 3, 5, 6, 8, 10, 13, 14, 17, 18, 19, 20, 1, 3, 4, 6, 7, 8, 10, 13, 14, 16, 18, 17, 11, 17, 5, 7, 9, 13, 19, 20, 3, 8, 9, 10, 18, 6, 9, 19, 20, 1, 3, 10, 18, 1, 3, 18, 2, 5, 8, 9, 10, 15, 16, 20, 5, 7, 10, 11, 17, 18, 2, 3, 7, 8, 9, 13, 15, 19, 4, 10, 15, 19, 20, 1, 2, 3, 8, 10, 11, 15, 16, 1, 4, 6, 7, 8, 11, 12, 13, 14, 16, 17, 18, 19, 1, 6, 11, 19, 6, 9, 1, 6, 15, 10, 11, 12, 15, 16, 17, 18, 7, 9, 10, 12, 10, 11, 12, 19, 3, 11, 2, 3, 6, 8, 9, 10, 11, 13, 14, 15, 19, 20, 13, 2, 12, 14, 15, 2, 10, 20, 2, 13, 7, 9, 10, 16, 5, 8, 10, 12, 14, 7, 18, 2, 3, 8, 9, 14, 15, 7, 8, 10, 14, 16, 18, 1, 2, 3, 6, 7, 9, 10, 11, 13, 14, 17, 1, 3, 7, 9, 12, 13, 20, 1, 2, 3, 4, 5, 6, 7, 8, 9, 10, 11, 12, 13, 14, 15, 16, 17, 18, 19, 20, 1, 3, 4, 5, 6, 7, 10, 11, 12, 13, 14, 15, 17, 18, 19, 20, 6, 13, 1, 3, 8, 11, 15, 18, 19, 3, 5, 13, 14, 16], \"Freq\": [0.038989053686687196, 0.024368158554179495, 0.05360994881919489, 0.05360994881919489, 0.11209352934922569, 0.014620895132507698, 0.23393432212012316, 0.019494526843343598, 0.05360994881919489, 0.09259900250588209, 0.2972915343609899, 0.17615520720586453, 0.7926984324263904, 0.2694506851072921, 0.07925020150214472, 0.06340016120171578, 0.03170008060085789, 0.06340016120171578, 0.15850040300428944, 0.33285084630900785, 0.052224280395941305, 0.17408093465313768, 0.7659561124738058, 0.04850092680555636, 0.10508534141203876, 0.08083487800926059, 0.05658441460648241, 0.12125231701389089, 0.08891836581018665, 0.36375695104167266, 0.07275139020833453, 0.016166975601852117, 0.032333951203704234, 0.008083487800926058, 0.45865788957586434, 0.005040196588745762, 0.02268088464935593, 0.16884658572298303, 0.21924855161044066, 0.007560294883118643, 0.03276127782684745, 0.03276127782684745, 0.0529220641818305, 0.036316480549211806, 0.07263296109842361, 0.036316480549211806, 0.36316480549211805, 0.4721142471397534, 0.8240015379147362, 0.03745461535976074, 0.07490923071952148, 0.03745461535976074, 0.10156722053116163, 0.4570524923902273, 0.3554852718590657, 0.050783610265580814, 0.0018113600781280927, 0.038038561640689944, 0.11411568492206983, 0.08694528375014844, 0.01267952054689665, 0.4057446575006928, 0.005434080234384278, 0.10868160468768556, 0.01267952054689665, 0.03260448140630567, 0.007245440312512371, 0.019924960859409018, 0.15034288648463168, 0.3181635020171573, 0.19089810121029438, 0.3181635020171573, 0.06363270040343146, 0.06363270040343146, 0.23044646127083643, 0.027111348384804286, 0.17622376450122787, 0.16266809030882573, 0.39311455157966213, 0.3371895949595701, 0.21990625758232835, 0.2932083434431045, 0.0586416686886209, 0.08796250303293134, 0.6613359315943022, 0.05835317043479137, 0.19451056811597123, 0.0778042272463885, 0.04614562234404224, 0.09229124468808449, 0.4153106010963802, 0.04614562234404224, 0.36916497875233795, 0.1458370602739933, 0.010416932876713808, 0.04166773150685523, 0.19792172465756233, 0.16667092602742092, 0.05208466438356903, 0.03125079863014142, 0.05208466438356903, 0.020833865753427615, 0.09375239589042426, 0.05208466438356903, 0.020833865753427615, 0.04166773150685523, 0.07291853013699665, 0.12129904059809288, 0.6064952029904643, 0.24259808119618576, 0.1051214926783963, 0.03942055975439861, 0.05256074633919815, 0.05256074633919815, 0.3285046646199884, 0.40734578412878564, 0.08313275898679756, 0.04156637949339878, 0.852110779614675, 0.05908997136387556, 0.938873989448245, 0.4507059880833209, 0.3380294910624907, 0.037558832340276745, 0.15023532936110698, 0.1800608823484183, 0.22161339365959176, 0.013850837103724485, 0.013850837103724485, 0.11080669682979588, 0.013850837103724485, 0.11080669682979588, 0.24931506786704072, 0.041552511311173455, 0.02770167420744897, 0.35525410738324636, 0.0507505867690352, 0.3045035206142112, 0.253752933845176, 0.14539888818968058, 0.09693259212645372, 0.19386518425290744, 0.04846629606322686, 0.4846629606322686, 0.050817307776210734, 0.20326923110484293, 0.10163461555242147, 0.3049038466572644, 0.3049038466572644, 0.18043092909313993, 0.031840752192907044, 0.010613584064302349, 0.46699769882930336, 0.11674942470732584, 0.07429508845011644, 0.021227168128604697, 0.042454336257209395, 0.042454336257209395, 0.08264040518000842, 0.13773400863334737, 0.4132020259000421, 0.22037441381335582, 0.08264040518000842, 0.06701320250189574, 0.8711716325246446, 0.03619365275233524, 0.07238730550467048, 0.09651640733956064, 0.15683916192678604, 0.5067111385326933, 0.04825820366978032, 0.07238730550467048, 0.02412910183489016, 0.024747053802441667, 0.09898821520976667, 0.037120580703662504, 0.17322937661709167, 0.024747053802441667, 0.11136174211098751, 0.14848232281465001, 0.04949410760488333, 0.06186763450610417, 0.04949410760488333, 0.21034995732075418, 0.3202787446308208, 0.10675958154360693, 0.4270383261744277, 0.10675958154360693, 0.053379790771803465, 0.05386973240498377, 0.35015326063239455, 0.12120689791121349, 0.04040229930373783, 0.1481417641137054, 0.04040229930373783, 0.10773946480996754, 0.026934866202491886, 0.10773946480996754, 0.125169117860786, 0.7629355755324099, 0.06556477602231647, 0.011920868367693904, 0.011920868367693904, 0.02384173673538781, 0.2996118263766979, 0.03745147829708724, 0.6366751310504831, 0.10688800911876806, 0.48099604103445626, 0.10688800911876806, 0.16033201367815209, 0.05344400455938403, 0.33666824401675527, 0.40400189282010635, 0.13466729760670212, 0.9711226144808974, 0.3637550064962741, 0.07275100129925482, 0.21825300389776445, 0.2910040051970193, 0.224504609388668, 0.280630761735835, 0.336756914083002, 0.112252304694334, 0.13299956513972241, 0.13299956513972241, 0.718197651754501, 0.5996382353768891, 0.15779953562549712, 0.18935944275059655, 0.03155990712509942, 0.8042664298626682, 0.16931924839214066, 0.10677036538950767, 0.053385182694753834, 0.053385182694753834, 0.5872370096422922, 0.10677036538950767, 0.14842472340235152, 0.09894981560156768, 0.09894981560156768, 0.02473745390039192, 0.3710618085058788, 0.17316217730274344, 0.07421236170117576, 0.898103522977653, 0.018841332649880832, 0.07536533059952333, 0.5046614668848919, 0.056073496320543544, 0.39251447424380476, 0.1267380496223288, 0.1901070744334932, 0.0633690248111644, 0.3802141488669864, 0.1267380496223288, 0.9715815321810825, 0.03213187627437953, 0.22492313392065671, 0.03213187627437953, 0.48197814411569295, 0.0481978144115693, 0.03213187627437953, 0.16065938137189764, 0.0891418658433781, 0.03241522394304658, 0.1782837316867562, 0.01620761197152329, 0.048622835914569874, 0.11345328380066304, 0.11345328380066304, 0.05672664190033152, 0.21880276161556442, 0.11345328380066304, 0.01620761197152329, 0.018714663972451858, 0.009357331986225929, 0.5146532592424261, 0.4397946033526187, 0.08076123254087453, 0.4441867789748099, 0.08076123254087453, 0.040380616270437264, 0.12114184881131179, 0.12114184881131179, 0.08076123254087453, 0.3061296873072849, 0.40234187474671734, 0.2536503123403218, 0.043732812472469275, 0.016593142229969878, 0.13274513783975903, 0.34845598682936746, 0.0829657111498494, 0.19911770675963855, 0.19911770675963855, 0.1620852537334898, 0.04052131343337245, 0.3241705074669796, 0.12156394030011736, 0.12156394030011736, 0.2431278806002347, 0.9758335927554753, 0.3445422785758957, 0.03828247539732174, 0.09570618849330435, 0.09570618849330435, 0.24883609008259133, 0.17227113928794785, 0.8644355102645329, 0.024350296063789658, 0.0852260362232638, 0.012175148031894829, 0.056568028682208955, 0.22627211472883582, 0.3959762007754627, 0.22627211472883582, 0.10315754052807966, 0.03967597712618448, 0.06348156340189517, 0.04761117255142138, 0.02380558627571069, 0.007935195425236897, 0.027773183988329137, 0.15076871307950104, 0.07141675882713207, 0.06348156340189517, 0.015870390850473794, 0.13886591994164568, 0.01983798856309224, 0.17060670164259328, 0.007935195425236897, 0.04364357483880293, 0.130934975621711, 0.7856098537302659, 0.015871809756086708, 0.5713851512191215, 0.3967952439021677, 0.9548622422144336, 0.019892963379467367, 0.8848293407737773, 0.08426946102607402, 0.09682245407155878, 0.14523368110733817, 0.04841122703577939, 0.6777571785009114, 0.5383806291680724, 0.33648789323004524, 0.06729757864600905, 0.78280064365592, 0.039140032182796, 0.117420096548388, 0.028369661028808456, 0.15130485882031175, 0.1323917514677728, 0.04728276838134742, 0.605219435281247, 0.028369661028808456, 0.018822306625391996, 0.14430435079467197, 0.018822306625391996, 0.33880151925705587, 0.09411153312695997, 0.37644613250783987, 0.1626970384990254, 0.813485192495127, 0.3563832388174393, 0.4751776517565857, 0.11879441293914643, 0.32425350040261164, 0.03602816671140129, 0.10808450013420388, 0.5043943339596181, 0.42107752791565717, 0.22625061201438296, 0.10684056678456973, 0.025138956890486994, 0.21368113356913945, 0.006284739222621748, 0.6534918455420285, 0.3267459227710143, 0.14215662413034222, 0.06318072183570765, 0.039487951147317284, 0.06318072183570765, 0.047385541376780735, 0.08687349252409801, 0.047385541376780735, 0.06318072183570765, 0.15795180458926913, 0.11846385344195184, 0.007897590229463456, 0.039487951147317284, 0.10266867298302493, 0.007897590229463456, 0.3069262344460457, 0.3946194442877731, 0.26307962952518205, 0.043846604920863674, 0.036238111588465856, 0.9059527897116464, 0.029995877103090127, 0.10498556986081545, 0.08998763130927039, 0.7199010504741631, 0.059991754206180255, 0.0767026077282725, 0.046021564636963504, 0.046021564636963504, 0.12783767954712083, 0.22499431600293268, 0.015340521545654502, 0.010227014363769667, 0.18408625854785401, 0.13806469391089052, 0.03579455027319384, 0.04090805745507867, 0.046021564636963504, 0.019777205458163485, 0.1384404382071444, 0.1384404382071444, 0.5339845473704141, 0.019777205458163485, 0.07910882183265394, 0.059331616374490456, 0.3012937663693216, 0.4656358207525879, 0.10956136958884422, 0.05478068479442211, 0.05478068479442211, 0.36455016256834144, 0.6151783993340761, 0.3438360791709997, 0.6446926484456244, 0.09678138540533465, 0.11613766248640157, 0.4839069270266732, 0.29034415621600396, 0.04051912982112889, 0.1678649664018197, 0.023153788469216507, 0.6888252069591911, 0.023153788469216507, 0.05209602405573714, 0.17579293819143757, 0.08203670448933753, 0.14063435055315004, 0.03515858763828751, 0.46878116851050017, 0.02343905842552501, 0.07031717527657502, 0.5068115780663947, 0.27644267894530616, 0.23036889912108846, 0.04656150048950363, 0.12416400130534302, 0.04138800043511434, 0.015520500163167878, 0.04656150048950363, 0.5225235054933186, 0.010347000108778585, 0.10864350114217515, 0.031041000326335756, 0.036214500380725045, 0.010347000108778585, 0.04395606503893831, 0.21978032519469157, 0.4835167154283214, 0.08791213007787663, 0.04395606503893831, 0.08791213007787663, 0.3296325922766277, 0.12678176626024143, 0.532483418293014, 0.03867989223547341, 0.015471956894189365, 0.015471956894189365, 0.17792750428317772, 0.10830369825932556, 0.3713269654605448, 0.0928317413651362, 0.02320793534128405, 0.17019152583608302, 0.0907404114007896, 0.3357395221829215, 0.0453702057003948, 0.3901837690233953, 0.12703657596110546, 0.2144365921743648, 0.019494235652214982, 0.019494235652214982, 0.3119077704354397, 0.038988471304429964, 0.38988471304429967, 0.01128866472131341, 0.03386599416394023, 0.01128866472131341, 0.13546397665576093, 0.4176805946885962, 0.27092795331152186, 0.04515465888525364, 0.05644332360656705, 0.1357165872570337, 0.47500805539961793, 0.23750402769980897, 0.1357165872570337, 0.5958001938374311, 0.23313920628421217, 0.12952178126900676, 0.037556081542777474, 0.4506729785133297, 0.3004486523422198, 0.18778040771388738, 0.04410126815106462, 0.7938228267191632, 0.08820253630212924, 0.039648227145356395, 0.019824113572678197, 0.1387687950087474, 0.23788936287213835, 0.4757787257442767, 0.07929645429071279, 0.12041915255454776, 0.2924465133467588, 0.05160820823766332, 0.12041915255454776, 0.03440547215844222, 0.1892300968714322, 0.01720273607922111, 0.01720273607922111, 0.05160820823766332, 0.03440547215844222, 0.01720273607922111, 0.14896458116981284, 0.14896458116981284, 0.07448229058490642, 0.02482743019496881, 0.22344687175471928, 0.12413715097484404, 0.22344687175471928, 0.22196353748611522, 0.03170907678373075, 0.03170907678373075, 0.253672614269846, 0.1902544607023845, 0.253672614269846, 0.04645189003950878, 0.5109707904345966, 0.37161512031607025, 0.46010265625447433, 0.36808212500357945, 0.04601026562544743, 0.09202053125089486, 0.37857602137814506, 0.27895075259442265, 0.059775161270233426, 0.1594004300539558, 0.09962526878372238, 0.06605303242464314, 0.36329167833553727, 0.14861932295544708, 0.03302651621232157, 0.21467235538009022, 0.03302651621232157, 0.13210606484928628, 0.06823722904318937, 0.00974817557759848, 0.03899270231039392, 0.22420803828476504, 0.17546716039677265, 0.43866790099193165, 0.029244526732795442, 0.6267892564466907, 0.07834865705583634, 0.11752298558375451, 0.11752298558375451, 0.03917432852791817, 0.05945452603503438, 0.3567271562102063, 0.29727263017517186, 0.05945452603503438, 0.11890905207006876, 0.05945452603503438, 0.06262765054119887, 0.008946807220171266, 0.2862978310454805, 0.06262765054119887, 0.0536808433210276, 0.044734036100856335, 0.0268404216605138, 0.08946807220171267, 0.08946807220171267, 0.008946807220171266, 0.017893614440342532, 0.12525530108239774, 0.035787228880685064, 0.08946807220171267, 0.10145679055835496, 0.3043703716750649, 0.20291358111670993, 0.10145679055835496, 0.2536419763958874, 0.0728452409311499, 0.1578313553508248, 0.06070436744262492, 0.03642262046557495, 0.09712698790819987, 0.5827619274491992, 0.2441549419223223, 0.021230864514984547, 0.5307716128746137, 0.15923148386238412, 0.04246172902996909, 0.022594172347446206, 0.819038747594925, 0.12426794791095414, 0.022594172347446206, 0.011297086173723103, 0.3731442623320583, 0.19754696241108968, 0.021949662490121074, 0.15364763743084753, 0.04389932498024215, 0.15364763743084753, 0.04389932498024215, 0.20287251401777223, 0.07245446929206152, 0.14490893858412304, 0.043472681575236906, 0.028981787716824605, 0.043472681575236906, 0.23185430173459684, 0.14490893858412304, 0.028981787716824605, 0.043472681575236906, 0.056484391605928726, 0.14121097901482182, 0.14121097901482182, 0.11296878321185745, 0.14121097901482182, 0.3671485454385367, 0.031488145355371984, 0.7557154885289277, 0.06297629071074397, 0.031488145355371984, 0.06297629071074397, 0.7220186405662296, 0.07644903253054196, 0.03397734779135198, 0.042471684739189976, 0.07644903253054196, 0.05096602168702797, 0.057328927183919125, 0.11465785436783825, 0.5159603446552722, 0.03821928478927942, 0.17198678155175737, 0.11465785436783825, 0.04231771215913994, 0.3385416972731195, 0.04231771215913994, 0.21158856079569968, 0.29622398511397957, 0.06797023043768347, 0.883612995689885, 0.5141758763934857, 0.03213599227459286, 0.30529192660863214, 0.12854396909837143, 0.06996684828264355, 0.03498342414132177, 0.454784513837183, 0.31485081727189596, 0.1049502724239653, 0.012113174627109738, 0.060565873135548697, 0.08479222238976818, 0.07267904776265843, 0.7510168268808038, 0.05336461936897429, 0.26682309684487143, 0.026682309684487145, 0.18677616779141, 0.16009385810692287, 0.10672923873794858, 0.05336461936897429, 0.16009385810692287, 0.061153898130821095, 0.1723428038232231, 0.1649302101103963, 0.0074125937128268, 0.0092657421410335, 0.0111188905692402, 0.5466787863209764, 0.0259440779948938, 0.02989879024985376, 0.02989879024985376, 0.14949395124926879, 0.747469756246344, 0.056497317472949005, 0.23540548947062084, 0.014124329368237251, 0.051789207683536585, 0.07532975663059867, 0.04708109789412417, 0.056497317472949005, 0.06591353705177384, 0.11770274473531042, 0.16949195241884701, 0.056497317472949005, 0.014124329368237251, 0.014124329368237251, 0.028248658736474502, 0.03174563742613002, 0.7301496608009904, 0.1904738245567801, 0.11294399876401479, 0.22588799752802957, 0.6211919932020813, 0.17064179761825674, 0.11376119841217117, 0.6825671904730269, 0.01896019973536186, 0.1690486146622518, 0.028174769110375298, 0.0845243073311259, 0.056349538220750596, 0.42262153665562946, 0.11269907644150119, 0.0845243073311259, 0.16936597821212088, 0.64923624981313, 0.028227663035353477, 0.1411383151767674, 0.6167248644203219, 0.35241420824018393, 0.10118559680615659, 0.025296399201539147, 0.8347811736507919, 0.043896989395911634, 0.482866883355028, 0.1316909681877349, 0.30727892577138144, 0.06281110406136327, 0.21983886421477145, 0.7066249206903368, 0.513231478861965, 0.012993201996505443, 0.019489802994758165, 0.07795921197903266, 0.04547620698776905, 0.07146261098077994, 0.11693881796854899, 0.03248300499126361, 0.08445581297728538, 0.025986403993010887, 0.9634321984877706, 0.8123852606335061, 0.1523222363687824, 0.971960522559408, 0.020249177553321, 0.1542112727439261, 0.832740872817201, 0.03516213884368011, 0.6446392121341353, 0.03516213884368011, 0.10548641653104032, 0.01172071294789337, 0.08204499063525358, 0.07032427768736021, 0.601762997208935, 0.19003042017124264, 0.19003042017124264, 0.19070247847930366, 0.805188242468171, 0.1435271904331878, 0.03150596863167537, 0.007001326362594526, 0.08401591635113431, 0.003500663181297263, 0.09801856907632336, 0.09101724271372884, 0.05951127408205347, 0.05601061090075621, 0.066512600444648, 0.12252321134540421, 0.042007958175567156, 0.02450464226908084, 0.12952453770799874, 0.04550862135686442, 0.03030506506601287, 0.06061013013202574, 0.12122026026405149, 0.015152532533006436, 0.07576266266503218, 0.05303386386552252, 0.2575930530611094, 0.10606772773104504, 0.02272879879950965, 0.015152532533006436, 0.03788133133251609, 0.007576266266503218, 0.1818303903960772, 0.09699503724249715, 0.33948263034874004, 0.2424875931062429, 0.2424875931062429, 0.21284036612027382, 0.042568073224054766, 0.6385210983608215, 0.042568073224054766, 0.0390465544565882, 0.23427932673952923, 0.5466517623922349, 0.0390465544565882, 0.11713966336976461, 0.9758335869802147, 0.06527874067695652, 0.881262999138913, 0.043403605474490944, 0.3038252383214366, 0.10127507944047888, 0.043403605474490944, 0.11574294793197586, 0.21701802737245474, 0.08680721094898189, 0.014467868491496982, 0.07233934245748491, 0.33775393065274784, 0.4128103596866918, 0.11258464355091594, 0.037528214516971976, 0.07505642903394395, 0.1646750820829948, 0.0411687705207487, 0.1235063115622461, 0.1235063115622461, 0.3293501641659896, 0.06175315578112305, 0.1235063115622461, 0.02058438526037435, 0.017730517139012764, 0.12411361997308937, 0.08865258569506383, 0.053191551417038296, 0.1595746542511149, 0.42553241133630637, 0.03546103427802553, 0.07092206855605106, 0.18728683198353155, 0.014406679383348582, 0.028813358766697165, 0.4322003815004575, 0.04322003815004574, 0.11525343506678866, 0.11525343506678866, 0.04322003815004574, 0.028813358766697165, 0.02338858856167233, 0.8186005996585316, 0.14033153137003399, 0.04846264974842817, 0.024231324874214085, 0.12115662437107041, 0.3150072233647831, 0.38770119798742536, 0.09692529949685634, 0.03745959386465681, 0.16388572315787356, 0.009364898466164203, 0.09364898466164202, 0.03745959386465681, 0.07491918772931362, 0.27158205551876186, 0.03745959386465681, 0.26689960628567977, 0.009364898466164203, 0.07499831251722973, 0.06176331619065978, 0.14999662503445946, 0.013234996326569952, 0.01764666176875994, 0.03970498897970986, 0.013234996326569952, 0.1676432868032194, 0.0573516507484698, 0.1676432868032194, 0.03088165809532989, 0.09264497428598967, 0.03970498897970986, 0.0573516507484698, 0.01764666176875994, 0.5710218467890847, 0.41874935431199545, 0.06892517525704968, 0.14411627553746753, 0.025063700093472613, 0.26943477600483057, 0.1065207253972586, 0.006265925023368153, 0.08772295032715414, 0.012531850046736306, 0.025063700093472613, 0.21930737581788537, 0.031329625116840766, 0.07244326312534977, 0.14488652625069953, 0.28977305250139906, 0.4346595787520986, 0.02175084926067953, 0.02175084926067953, 0.17400679408543623, 0.04350169852135906, 0.6960271763417449, 0.6478617850602705, 0.022731992458255103, 0.04546398491651021, 0.28414990572818877, 0.6722566391199994, 0.29411227961499975, 0.25199062768140906, 0.5039812553628181, 0.06299765692035227, 0.15749414230088069, 0.10107103085328889, 0.24425499122878147, 0.00842258590444074, 0.3958615375087148, 0.01684517180888148, 0.1852968898976963, 0.01684517180888148, 0.01684517180888148, 0.05945248837547605, 0.14863122093869013, 0.05945248837547605, 0.7134298605057127, 0.01717625060793791, 0.05152875182381373, 0.03926000138957236, 0.007361250260544818, 0.03189875112902755, 0.012268750434241363, 0.10060375356077919, 0.18648500660046874, 0.026991250955331, 0.3091725109428824, 0.19384625686101356, 0.024537500868482727, 0.06670445191116449, 0.10308869840816332, 0.07883253407683076, 0.15766506815366152, 0.06064041082833136, 0.20011335573349348, 0.006064041082833136, 0.24862568439615856, 0.06670445191116449, 0.006064041082833136, 0.029080097923454017, 0.014540048961727009, 0.07270024480863505, 0.08724029377036206, 0.18902063650245113, 0.058160195846908035, 0.08724029377036206, 0.10178034273208907, 0.3344211261197212, 0.0813019073156657, 0.6910662121831584, 0.0813019073156657, 0.0813019073156657, 0.04065095365783285, 0.056255062471111485, 0.056255062471111485, 0.045004049976889185, 0.056255062471111485, 0.10125911244800066, 0.03375303748266689, 0.13501214993066757, 0.056255062471111485, 0.11251012494222297, 0.022502024988444592, 0.045004049976889185, 0.056255062471111485, 0.18001619990755674, 0.019127071301493836, 0.057381213904481504, 0.07650828520597534, 0.03825414260298767, 0.8033369946627411, 0.598579438597923, 0.3890766350886499, 0.12685174918116393, 0.3805552475434918, 0.25370349836232786, 0.06342587459058197, 0.12685174918116393, 0.9082945069670181, 0.08449251227600167, 0.008572278100607483, 0.8572278100607484, 0.09429505910668233, 0.03428911240242993, 0.11570373440745021, 0.7797425579632514, 0.005030597148150009, 0.025152985740750044, 0.025152985740750044, 0.025152985740750044, 0.005030597148150009, 0.010061194296300018, 0.2816876554612306, 0.00722276039644181, 0.5200387485438103, 0.10111864555018533, 0.02889104158576724, 0.05778208317153448, 0.038793760916723596, 0.09421341936918588, 0.09421341936918588, 0.7647912866439794, 0.04944830908691952, 0.27196569997805736, 0.1977932363476781, 0.1977932363476781, 0.09889661817383905, 0.1977932363476781, 0.08440573300961186, 0.028135244336537288, 0.7877868414230441, 0.028135244336537288, 0.028135244336537288, 0.012958378514867775, 0.0032395946287169437, 0.9815971725012339, 0.2533979720061141, 0.5067959440122282, 0.06334949300152852, 0.06334949300152852, 0.06334949300152852, 0.15318693377428583, 0.11489020033071436, 0.03829673344357146, 0.5170059014882147, 0.17233530049607154, 0.8664311723067089, 0.048135065128150495, 0.048135065128150495, 0.1794344424581409, 0.08156111020824587, 0.016312222041649175, 0.16312222041649174, 0.5383033273744228, 0.024007435830748467, 0.6562032460404581, 0.20006196525623723, 0.10403222193324335, 0.008002478610249488, 0.0662219867841073, 0.24281395154172677, 0.11036997797351217, 0.4635539074887511, 0.11036997797351217, 0.23715762001148133, 0.6437135400311637, 0.10163898000492057, 0.016939830000820093, 0.015316557674119621, 0.04594967302235887, 0.030633115348239242, 0.888360345098938, 0.11928578018072704, 0.05964289009036352, 0.2982144504518176, 0.05964289009036352, 0.3578573405421811, 0.12703179102628312, 0.25406358205256624, 0.3175794775657078, 0.1905476865394247, 0.038653798322942697, 0.009663449580735674, 0.019326899161471348, 0.12562484454956377, 0.028990348742207024, 0.028990348742207024, 0.25124968909912754, 0.4541821302945767, 0.019326899161471348, 0.09338746948789492, 0.10672853655759419, 0.7604408229728586, 0.026682134139398548, 0.9634322129730573, 0.03574878107665629, 0.21449268645993777, 0.7328500120714541, 0.9893475028336247, 0.011981965689854117, 0.011981965689854117, 0.013693675074118991, 0.027387350148237982, 0.16774751965795764, 0.10270256305589244, 0.0068468375370594955, 0.6487378566363872, 0.0017117093842648739, 0.005135128152794622, 0.014622106282221272, 0.05848842512888509, 0.3801747633377531, 0.014622106282221272, 0.03655526570555318, 0.08773263769332763, 0.402107922761085, 0.1128738760001367, 0.18812312666689449, 0.037624625333378896, 0.5267447546673045, 0.07524925066675779, 0.22102535985636373, 0.04420507197127275, 0.04420507197127275, 0.13261521591381825, 0.2652304318276365, 0.2652304318276365, 0.03367309580949284, 0.5050964371423926, 0.10101928742847853, 0.1683654790474642, 0.1683654790474642, 0.09398609716217964, 0.04386017867568383, 0.05639165829730778, 0.08145461754055568, 0.018797219432435928, 0.006265739810811976, 0.06265739810811975, 0.1253147962162395, 0.04386017867568383, 0.018797219432435928, 0.10651757678380358, 0.04386017867568383, 0.16290923508111135, 0.031328699054059876, 0.10651757678380358, 0.016734879532325064, 0.016734879532325064, 0.38490222924347645, 0.03346975906465013, 0.4853115064374268, 0.050204638596975194, 0.016505351247069432, 0.011003567498046287, 0.049516053741208294, 0.0880285399843703, 0.038512486243162, 0.09353032373339344, 0.038512486243162, 0.14854816122362488, 0.06602140498827773, 0.2420784849570183, 0.04401426999218515, 0.11553745872948601, 0.049516053741208294, 0.02197335464282858, 0.15381348249980006, 0.06592006392848573, 0.13184012785697147, 0.02197335464282858, 0.13184012785697147, 0.3076269649996001, 0.17578683714262863, 0.3869335947369901, 0.14510009802637128, 0.09673339868424753, 0.09673339868424753, 0.048366699342123766, 0.19346679736849506, 0.09965127846286335, 0.11958153415543603, 0.2590933240034447, 0.03986051138514534, 0.059790767077718014, 0.059790767077718014, 0.1395117898480087, 0.07972102277029068, 0.1395117898480087, 0.02206470930445138, 0.02206470930445138, 0.5516177326112844, 0.37510005817567343, 0.26724996958052655, 0.0827202286796868, 0.04454166159675443, 0.5981308842992737, 0.28171820267189357, 0.11268728106875743, 0.11268728106875743, 0.16903092160313615, 0.22537456213751486, 0.056343640534378715, 0.9918051392279031, 0.16015797242111005, 0.16015797242111005, 0.38191516500418554, 0.17247781645350313, 0.11087859629153773, 0.014951592025366686, 0.02990318405073337, 0.05980636810146674, 0.014951592025366686, 0.25417706443123367, 0.47845094481173395, 0.11961273620293349, 0.02990318405073337, 0.12637527303544732, 0.18956290955317096, 0.12637527303544732, 0.12637527303544732, 0.3791258191063419, 0.07101270890544296, 0.6391143801489867, 0.07101270890544296, 0.023670902968480987, 0.1656963207793669, 0.9300504716693611, 0.035771171987283114, 0.49507282926015606, 0.06750993126274855, 0.09001324168366474, 0.24753641463007803, 0.09001324168366474, 0.027294016369535348, 0.06823504092383838, 0.6141153683145454, 0.19105811458674746, 0.04094102455430303, 0.054588032739070695, 0.9727136753732449, 0.43504747903144875, 0.14501582634381627, 0.29003165268763254, 0.4070042948490851, 0.1162869413854529, 0.4360760301954484, 0.029071735346363224, 0.1263421823025701, 0.5972539527030587, 0.2067417528587511, 0.011485652936597283, 0.04594261174638913, 0.3587315548412335, 0.23395536185297838, 0.046791072370595675, 0.1871642894823827, 0.1559702412353189, 0.9294250046782674, 0.011617812558478343, 0.04259864604775392, 0.01549041674463779, 0.9691367137353563, 0.2720464782074945, 0.017002904887968406, 0.12752178665976305, 0.017002904887968406, 0.3400580977593681, 0.017002904887968406, 0.12752178665976305, 0.07651307199585783, 0.9751870780571915, 0.09960827669610205, 0.01992165533922041, 0.07968662135688163, 0.6175713155158327, 0.15937324271376327, 0.022494115533475977, 0.6073411194038514, 0.08997646213390391, 0.08997646213390391, 0.15745880873433185, 0.02157466202580311, 0.388343916464456, 0.3020452683612435, 0.1725972962064249, 0.08629864810321244, 0.9584471008179699, 0.9670944389340462, 0.21975747303246468, 0.43951494606492936, 0.1318544838194788, 0.17580597842597173, 0.9767310613144846, 0.17960316607678226, 0.4190740541791586, 0.05986772202559409, 0.05986772202559409, 0.17960316607678226, 0.09873790300467578, 0.04231624414486105, 0.3667407825887957, 0.2397920501542126, 0.11284331771962947, 0.12694873243458316, 0.1819643761488604, 0.03639287522977208, 0.03639287522977208, 0.3639287522977208, 0.32753587706794873, 0.17463589352397343, 0.03929307604289402, 0.11351333079058272, 0.2095630722287681, 0.03056128136669535, 0.052390768057192026, 0.017463589352397342, 0.03929307604289402, 0.03056128136669535, 0.013097692014298007, 0.17900179086207277, 0.013097692014298007, 0.013097692014298007, 0.008731794676198671, 0.0611225627333907, 0.03212630409925128, 0.6585892340346513, 0.2891367368932616, 0.03400151938260868, 0.9180410233304344, 0.05245341261647048, 0.03496894174431365, 0.05245341261647048, 0.06119564805254889, 0.04371117718039206, 0.02622670630823524, 0.10490682523294095, 0.03496894174431365, 0.3671738883152933, 0.03496894174431365, 0.10490682523294095, 0.04371117718039206, 0.017484470872156824, 0.017484470872156824, 0.059750219830397445, 0.20912576940639105, 0.2987510991519872, 0.4182515388127821, 0.017687047740068434, 0.9551005779636955, 0.2978819209713749, 0.5537548530878124, 0.07256098074943748, 0.003818998986812499, 0.06874198176262498, 0.053926158356451946, 0.7549662169903272, 0.16177847506935583, 0.017975386118817313, 0.017975386118817313, 0.9826998094600311, 0.024674729379764115, 0.9623144458108005, 0.1013945145814431, 0.1013945145814431, 0.3548808010350508, 0.3041835437443293, 0.1013945145814431, 0.9715816508223709, 0.03266693069348685, 0.8493401980306581, 0.09800079208046054, 0.8635915171133692, 0.11264237179739599, 0.21714954179672025, 0.6123617078667511, 0.004342990835934405, 0.004342990835934405, 0.13028972507803216, 0.026057945015606432, 0.35883094069406163, 0.09786298382565317, 0.2283469622598574, 0.09786298382565317, 0.19572596765130634, 0.01474489674654595, 0.024574827910909917, 0.16219386421200546, 0.009829931164363967, 0.21134352003382528, 0.11304420839018561, 0.12287413955454958, 0.04423469023963785, 0.2064285544516433, 0.0049149655821819835, 0.009829931164363967, 0.0589795869861838, 0.019659862328727934, 0.03488271462515807, 0.8720678656289518, 0.03488271462515807, 0.03488271462515807, 0.01782092144161631, 0.01782092144161631, 0.01782092144161631, 0.28513474306586095, 0.28513474306586095, 0.1603882929745468, 0.19603013585777943, 0.03381177933501421, 0.4395531313551847, 0.4733649106901989, 0.06762355867002842, 0.9772893640473056, 0.029488365834860062, 0.005897673166972013, 0.04128371216880409, 0.8551626092109418, 0.0471813853357761, 0.01769301950091604, 0.036086105829061535, 0.1082583174871846, 0.6134637990940461, 0.2165166349743692, 0.09206539305442907, 0.05523923583265744, 0.05523923583265744, 0.018413078610885814, 0.16571770749797232, 0.03682615722177163, 0.03682615722177163, 0.1288915502762007, 0.1288915502762007, 0.2577831005524014, 0.2912678191156554, 0.6796249112698627, 0.21109390143670992, 0.08443756057468396, 0.42218780287341984, 0.21109390143670992, 0.07477821775497595, 0.8973386130597114, 0.2815039848908245, 0.18766932326054966, 0.038828135847010274, 0.42387381632986215, 0.0517708477960137, 0.01617838993625428, 0.04461938123856358, 0.04461938123856358, 0.029746254159042383, 0.1784775249542543, 0.4610669394651569, 0.14873127079521192, 0.07436563539760596, 0.037769981375751625, 0.906479553018039, 0.0659999384070875, 0.0659999384070875, 0.021999979469029162, 0.131999876814175, 0.4179996099115541, 0.15399985628320415, 0.08799991787611665, 0.043999958938058324, 0.1211421583640213, 0.1211421583640213, 0.1211421583640213, 0.08076143890934753, 0.040380719454673766, 0.16152287781869507, 0.32304575563739013, 0.08852663816426559, 0.08852663816426559, 0.22131659541066398, 0.08852663816426559, 0.22131659541066398, 0.22131659541066398, 0.5722023372055113, 0.20303953900840724, 0.05537441972956561, 0.14766511927884163, 0.13515858323935678, 0.27031716647871357, 0.06757929161967839, 0.06757929161967839, 0.27031716647871357, 0.13515858323935678, 0.04047084405184639, 0.026980562701230927, 0.4384341438950025, 0.22933478296046286, 0.053961125402461854, 0.04047084405184639, 0.020235422025923194, 0.13490281350615463, 0.020235422025923194, 0.012250438149509437, 0.7595271652695851, 0.024500876299018873, 0.08575306704656606, 0.024500876299018873, 0.06125219074754719, 0.024500876299018873, 0.9140978099604706, 0.04811041105055109, 0.9581098932182313, 0.03630553251412168, 0.05115779581535327, 0.0016502514779146217, 0.09406433424113343, 0.03300502955829243, 0.05940905320492638, 0.08251257389573108, 0.1072663460644504, 0.061059304682841, 0.057758801727011755, 0.061059304682841, 0.0049507544337438645, 0.11221710049819426, 0.011551760345402352, 0.09241408276321882, 0.05610855024909713, 0.024753772168719324, 0.016502514779146216, 0.03300502955829243, 0.45060583948845334, 0.05632572993605667, 0.16897718980817, 0.16897718980817, 0.05632572993605667, 0.5576414552171577, 0.05719399540688797, 0.0028596997703443983, 0.3603221710633942, 0.02001789839241079, 0.7152267215184881, 0.27789063702310685, 0.028241526400271614, 0.06275894755615914, 0.015689736889039786, 0.2635875797358684, 0.0219656316446557, 0.0878625265786228, 0.4895197909380413, 0.028241526400271614, 0.003137947377807957, 0.03863857323660215, 0.02318314394196129, 0.12364343435712688, 0.06182171717856344, 0.01545542929464086, 0.06954943182588387, 0.03091085858928172, 0.1545542929464086, 0.01545542929464086, 0.17000972224104946, 0.02318314394196129, 0.08500486112052473, 0.03863857323660215, 0.13909886365176774, 0.0257842500350055, 0.3223031254375688, 0.07735275010501651, 0.2513964378413036, 0.07735275010501651, 0.03223031254375688, 0.07090668759626513, 0.07735275010501651, 0.019338187526254127, 0.04512243756125962, 0.241435860070933, 0.3380102040993062, 0.09657434402837321, 0.048287172014186606, 0.09657434402837321, 0.048287172014186606, 0.048287172014186606, 0.029712427994925007, 0.09408935531726252, 0.11884971197970003, 0.4952071332487501, 0.024760356662437505, 0.019808285329950003, 0.019808285329950003, 0.04952071332487501, 0.14361006864213752, 0.5798451108679462, 0.3865634072452975, 0.05806607096764837, 0.319363390322066, 0.1451651774191209, 0.11613214193529674, 0.3483964258058902, 0.09014913786372993, 0.8413919533948127, 0.03004971262124331, 0.983024702822419, 0.00697180640299588, 0.014512184885878224, 0.8997554629244499, 0.07256092442939112, 0.2544307852212595, 0.40501227035220905, 0.05192465004515501, 0.0467321850406395, 0.07788697506773251, 0.010384930009031, 0.05192465004515501, 0.07788697506773251, 0.025962325022577504, 0.644252169460447, 0.21475072315348234, 0.09203602420863528, 0.12888516770371336, 0.12888516770371336, 0.2761825022222429, 0.12888516770371336, 0.018412166814816194, 0.018412166814816194, 0.055236500444448576, 0.07364866725926478, 0.16570950133334572, 0.6010412511267156, 0.11269523458625917, 0.018782539097709862, 0.24417300827022823, 0.06750552485218905, 0.033752762426094526, 0.6413024860957961, 0.016876381213047263, 0.18564019334351992, 0.050629143639141796, 0.025435040711481408, 0.03391338761530854, 0.1610885911727156, 0.0932618159420985, 0.03391338761530854, 0.13141437700932063, 0.186523631884197, 0.31369883544160404, 0.025435040711481408, 0.07531213127133317, 0.018828032817833292, 0.8849175424381647, 0.37385604085979446, 0.5874880642082485, 0.032713319303161285, 0.13085327721264514, 0.42527315094109674, 0.39255983163793545, 0.11781695281465847, 0.009818079401221539, 0.8050825109001661, 0.04909039700610769, 0.03777795868240374, 0.9066710083776898, 0.1516820165206421, 0.5561673939090209, 0.10112134434709472, 0.1516820165206421, 0.9758335950569479, 0.17251429699807314, 0.8155221312636185, 0.04634961393950882, 0.8806426648506676, 0.1909807690645023, 0.0146908283895771, 0.6757781059205465, 0.10283579872703968, 0.9746683291390693, 0.02107390981922312, 0.07060740051585322, 0.10591110077377984, 0.8119851059323121, 0.9691367154350603, 0.06270367309409686, 0.053746005509225876, 0.08061900826383882, 0.11644967860332274, 0.1433226813579357, 0.1254073461881937, 0.37622203856458114, 0.03583067033948392, 0.008040257681312838, 0.040201288406564194, 0.2572882458020108, 0.05628180376918987, 0.008040257681312838, 0.08040257681312839, 0.09648309217575406, 0.024120773043938514, 0.4261336571095804, 0.977789212628642, 0.04170084714180052, 0.034118874934200426, 0.026536902726600333, 0.0037909861038000476, 0.17438536077480218, 0.1288935275292016, 0.2464140967470031, 0.2881149438888036, 0.053073805453200666, 0.8972383903727369, 0.08545127527359399, 0.051286321145556195, 0.038464740859167144, 0.025643160572778097, 0.29489634658694813, 0.47439847059639484, 0.10257264229111239, 0.042251310259752865, 0.9295288257145631, 0.9664345624569475, 0.1030852510011818, 0.2061705020023636, 0.6803626566077998, 0.7422531264902825, 0.02749085653667713, 0.1649451392200628, 0.013745428268338565, 0.0412362848050157, 0.06242775280711127, 0.015606938201777817, 0.7023122190800019, 0.015606938201777817, 0.20289019662311164, 0.10858779349254188, 0.07239186232836126, 0.47054710513434816, 0.03619593116418063, 0.07239186232836126, 0.21717558698508377, 0.15265628337958825, 0.3053125667591765, 0.3053125667591765, 0.20354171117278433, 0.9758335847613822, 0.6396266314016114, 0.338625863683206, 0.08924265117122165, 0.1784853023424433, 0.5354559070273299, 0.02974755039040722, 0.1487377519520361, 0.9634322727316851, 0.05677160276734424, 0.3832083186795736, 0.02838580138367212, 0.05677160276734424, 0.3477260669499835, 0.03548225172959015, 0.07806095380509832, 0.04815835654794894, 0.09631671309589789, 0.8186920613151321, 0.9703624580567931, 0.02188787499376225, 0.8369804863902489, 0.09299783182113877, 0.09262788643880805, 0.008054598820765917, 0.35037504870331737, 0.23761066521259455, 0.08054598820765917, 0.02819109587268071, 0.17317387464646722, 0.02416379646229775, 0.11871811362200498, 0.857408598381147, 0.01978635227033416, 0.05122939011602074, 0.11643043208186532, 0.08848712838221764, 0.03260052098292229, 0.13971651849823838, 0.06520104196584459, 0.009314434566549226, 0.2561469505801037, 0.023286086416373065, 0.04657217283274613, 0.09780156294876687, 0.009314434566549226, 0.04657217283274613, 0.004657217283274613, 0.009314434566549226, 0.32375223174505696, 0.32375223174505696, 0.32375223174505696, 0.4555401848081323, 0.5206173540664369, 0.10595053628395912, 0.0025841594215599787, 0.007752478264679936, 0.007752478264679936, 0.08269310148991932, 0.7778319858895536, 0.012920797107799894, 0.10135129233539812, 0.05067564616769906, 0.2533782308384953, 0.15202693850309718, 0.35472952317389345, 0.05067564616769906, 0.24232222272766846, 0.2702824791962456, 0.037280341958102835, 0.055920512937154256, 0.07456068391620567, 0.16776153881146277, 0.11184102587430851, 0.018640170979051417, 0.16828178256221454, 0.61703320272812, 0.16828178256221454, 0.03081743230439917, 0.06163486460879834, 0.06163486460879834, 0.24653945843519337, 0.18490459382639504, 0.3698091876527901, 0.07216888160883465, 0.649519934479512, 0.21650664482650397, 0.1624228896700605, 0.08121144483503025, 0.44666294659266637, 0.2030286120875756, 0.08121144483503025, 0.32658077310565137, 0.1781349671485371, 0.1781349671485371, 0.2968916119142285, 0.945903796828927, 0.03468464513393596, 0.901800773482335, 0.6240424331837598, 0.11700795622195496, 0.07800530414796998, 0.11700795622195496, 0.16362374356805826, 0.35997223584972815, 0.032724748713611654, 0.16362374356805826, 0.16362374356805826, 0.13089899485444662, 0.22273193314079226, 0.11136596657039613, 0.03181884759154175, 0.636376951830835, 0.13971080530706592, 0.8382648318423955, 0.036214356579831686, 0.14485742631932674, 0.0845001653529406, 0.32592920921848517, 0.2897148526386535, 0.06035726096638614, 0.04828580877310891, 0.2286682561490833, 0.4246696185625833, 0.2613351498846666, 0.09800068120674998, 0.054429862962977194, 0.7620180814816807, 0.19050452037042018, 0.1934026919326203, 0.7736107677304812, 0.19204712435815385, 0.10669284686564104, 0.010669284686564104, 0.08802159866415385, 0.002667321171641026, 0.0613483869477436, 0.05067910226117949, 0.14936998561189746, 0.005334642343282052, 0.02667321171641026, 0.30674193473871797, 0.10871231268729821, 0.43484925074919284, 0.02964881255108133, 0.23719050040865064, 0.00988293751702711, 0.05929762510216266, 0.11859525020432532, 0.09645275761036873, 0.14467913641555308, 0.09645275761036873, 0.4340374092466593, 0.09645275761036873, 0.048226378805184364, 0.9634323561718348, 0.14806729672885058, 0.08460988384505747, 0.16921976769011493, 0.5711167159541379, 0.9566600531900021, 0.12037299798979856, 0.20635371083965467, 0.017196142569971224, 0.017196142569971224, 0.03439228513994245, 0.08598071284985612, 0.421305492964295, 0.08598071284985612, 0.02914061008141132, 0.9324995226051622, 0.2164218911072265, 0.0638621973759029, 0.13482019446023946, 0.007095799708433656, 0.4896101798819223, 0.03902689839638511, 0.01773949927108414, 0.0248352989795178, 0.09173973644697904, 0.5504384186818742, 0.3210890775644266, 0.0586755118961337, 0.0586755118961337, 0.1564680317230232, 0.0586755118961337, 0.5476381110305812, 0.0195585039653779, 0.1173510237922674, 0.5983269231162409, 0.2081137123882577, 0.15608528429119328, 0.10656487853417344, 0.5328243926708672, 0.3196946356025203, 0.1013868486803354, 0.12166421841640249, 0.06083210920820124, 0.12166421841640249, 0.04055473947213416, 0.04055473947213416, 0.08110947894426832, 0.04055473947213416, 0.3852700249852745, 0.039191957826070656, 0.11757587347821197, 0.4311115360867772, 0.039191957826070656, 0.039191957826070656, 0.039191957826070656, 0.23515174695642393, 0.06693894398852808, 0.5355115519082246, 0.11714315197992413, 0.21755156796271624, 0.03346947199426404, 0.02366333533461037, 0.09465334133844149, 0.11831667667305186, 0.04732667066922074, 0.6862367247037008, 0.9865117089299136, 0.030558389410702883, 0.09167516823210865, 0.0713029086249734, 0.010186129803567628, 0.33614228351773173, 0.0713029086249734, 0.09167516823210865, 0.010186129803567628, 0.04074451921427051, 0.16297807685708204, 0.020372259607135255, 0.05093064901783814, 0.029343512817340437, 0.03912468375645392, 0.029343512817340437, 0.6064325982250357, 0.00978117093911348, 0.00978117093911348, 0.01956234187822696, 0.24452927347783698, 0.14111137367673174, 0.24190521201725443, 0.05039691917026134, 0.030238151502156804, 0.010079383834052267, 0.010079383834052267, 0.3426990503577771, 0.16127014134483628, 0.1202257347432266, 0.0601128673716133, 0.0601128673716133, 0.7213544084593596, 0.06623123321997491, 0.04967342491498119, 0.03311561660998746, 0.04967342491498119, 0.13246246643994983, 0.2152515079649185, 0.04967342491498119, 0.01655780830499373, 0.19869369965992476, 0.01655780830499373, 0.09934684982996238, 0.03311561660998746, 0.1602814010176873, 0.04487879228495245, 0.056098490356190564, 0.05449567634601369, 0.04487879228495245, 0.02564502416282997, 0.06250974639689805, 0.05129004832565994, 0.09136039858008177, 0.028850652183183716, 0.028850652183183716, 0.11540260873273486, 0.006411256040707493, 0.03365909421371434, 0.07372944446813616, 0.059304118376544306, 0.017630954111945606, 0.046481606295129325, 0.8990279060412082, 0.028315839560353013, 0.028315839560353013, 0.04247375934052952, 0.26425241516295506, 0.2202103459691292, 0.3523365535506067, 0.08808413838765168, 0.04404206919382584, 0.7424739166372342, 0.2024928863556093, 0.1846891878178518, 0.3693783756357036, 0.04617229695446295, 0.13851689086338884, 0.1846891878178518, 0.04617229695446295, 0.5918205780591045, 0.30436486871611085, 0.08454579686558635, 0.14572477256501776, 0.2914495451300355, 0.14572477256501776, 0.36431193141254437, 0.05643966010074148, 0.16931898030222442, 0.7337155813096392, 0.09732752122347, 0.8516158107053625, 0.0243318803058675, 0.6537654195435645, 0.32688270977178224, 0.8572233748167875, 0.08792034613505512, 0.02198008653376378, 0.5121186014352236, 0.021638814145150294, 0.05770350438706745, 0.07212938048383431, 0.1586846370644355, 0.07934231853221775, 0.04327762829030059, 0.04327762829030059, 0.5869552404509054, 0.3913034936339369, 0.5064242701480676, 0.12477119699300215, 0.22752394745782745, 0.051376375232412654, 0.08073430393664845, 0.23898400695554203, 0.16430150478193514, 0.5377140156499696, 0.029873000869442754, 0.014936500434721377, 0.07168620159160269, 0.2150586047748081, 0.15770964350152591, 0.04301172095496161, 0.18638412413816702, 0.12903516286488484, 0.02867448063664108, 0.15770964350152591, 0.08693653771271184, 0.027661625635862858, 0.019758304025616326, 0.1383081281793143, 0.003951660805123265, 0.24105130911251918, 0.00790332161024653, 0.023709964830739592, 0.3635527940713404, 0.019758304025616326, 0.06322657288197224, 0.027714050924122127, 0.7621364004133585, 0.013857025462061063, 0.18014133100679383, 0.016275738947847167, 0.016275738947847167, 0.09765443368708301, 0.8626141642358999, 0.45219129598347835, 0.3044754726288754, 0.02110226047922899, 0.1356573887950435, 0.06933599871746668, 0.009043825919669566, 0.027335277387665148, 0.8473935990176197, 0.08200583216299545, 0.8414703119579072, 0.0716144946347155, 0.0716144946347155, 0.08331299829836854, 0.04628499905464919, 0.04628499905464919, 0.05554199886557903, 0.42582199130277254, 0.2962239939497548, 0.018513999621859675, 0.018513999621859675, 0.04169070769116922, 0.05836699076763691, 0.008338141538233845, 0.3001730953764184, 0.5836699076763692, 0.9663179530072922, 0.07354607438395416, 0.0441276446303725, 0.029418429753581665, 0.19121979339828082, 0.441276446303725, 0.10296450413753583, 0.0441276446303725, 0.088255289260745, 0.9520248225858658, 0.017217597243015484, 0.025826395864523226, 0.07747918759356968, 0.025826395864523226, 0.47348392418292584, 0.3701783407248329, 0.08084169114171479, 0.24252507342514437, 0.6548176982478898, 0.016168338228342957, 0.03629901079295426, 0.7804287320485165, 0.14519604317181703, 0.01814950539647713, 0.9453913096501313, 0.053184023967981275, 0.15955207190394383, 0.23932810785591574, 0.1329600599199532, 0.2127360958719251, 0.15955207190394383, 0.9707805719646861, 0.09430495425776589, 0.06286996950517726, 0.047152477128882944, 0.5658297255465953, 0.015717492376294315, 0.20432740089182608, 0.10105461172458971, 0.15158191758688458, 0.20210922344917942, 0.050527305862294855, 0.30316383517376916, 0.15158191758688458, 0.025974522102890744, 0.15584713261734448, 0.10389808841156298, 0.5714394862635964, 0.10389808841156298, 0.003964170789865401, 0.13081763606555824, 0.8483325490311958, 0.015856683159461604, 0.13792522861105883, 0.04597507620368628, 0.4904008128393203, 0.0766251270061438, 0.18390030481474512, 0.06130010160491504, 0.37449661866052764, 0.14979864746421107, 0.18724830933026382, 0.2621476330623694, 0.042810932771412055, 0.0713515546190201, 0.11416248739043215, 0.028540621847608038, 0.028540621847608038, 0.4566499495617286, 0.24259528570466832, 0.17380006249110572, 0.579333541637019, 0.14483338540925475, 0.057933354163701906, 0.03155613501341415, 0.015778067506707075, 0.5995665652548688, 0.03155613501341415, 0.03155613501341415, 0.2524490801073132, 0.04656658741658597, 0.025870326342547757, 0.11382943590721013, 0.5898434406100889, 0.020696261074038207, 0.1603960233237961, 0.005174065268509552, 0.020696261074038207, 0.005174065268509552, 0.05821210534475135, 0.586598907704802, 0.13433562771865695, 0.04925639683017422, 0.06268995960203992, 0.03582283405830852, 0.03582283405830852, 0.03134497980101996, 0.001309597173797588, 0.4858605514789052, 0.2187027280241972, 0.0772662332540577, 0.01440556891177347, 0.001309597173797588, 0.03404952651873729, 0.14536528629153228, 0.02095355478076141, 0.07986751939430951, 0.8519202068726348, 0.026622506464769838, 0.14451959918480514, 0.6101938632247328, 0.04817319972826838, 0.016057733242756125, 0.16057733242756128, 0.3009256577209716, 0.3829962916448729, 0.3009256577209716, 0.09239959208039822, 0.5543975524823893, 0.27719877624119466, 0.04619979604019911, 0.35711148836859796, 0.051015926909799704, 0.07652389036469956, 0.10203185381959941, 0.3826194518234978, 0.6107870434141698, 0.16849297749356407, 0.16849297749356407, 0.04212324437339102, 0.08094903316622964, 0.24284709949868893, 0.12142354974934447, 0.08094903316622964, 0.04047451658311482, 0.2833216160818038, 0.08094903316622964, 0.23463583327585028, 0.6511144373404846, 0.029329479159481284, 0.017597687495688772, 0.017597687495688772, 0.017597687495688772, 0.029329479159481284, 0.07491775044902547, 0.032776515821448644, 0.014047078209192277, 0.03745887522451274, 0.02341179701532046, 0.028094156418384555, 0.032776515821448644, 0.09364718806128185, 0.2996710017961019, 0.014047078209192277, 0.07960010985208957, 0.07491775044902547, 0.04214123462757683, 0.07960010985208957, 0.014047078209192277, 0.051505953433705016, 0.05612787203214405, 0.1122557440642881, 0.05612787203214405, 0.33676723219286425, 0.05612787203214405, 0.30870329617679226, 0.05612787203214405, 0.0290264249649066, 0.31929067461397265, 0.043539637447359905, 0.08707927489471981, 0.06530945617103985, 0.06530945617103985, 0.021769818723679953, 0.0290264249649066, 0.3265472808551993, 0.15292691651561308, 0.4893661328499619, 0.15292691651561308, 0.12234153321249047, 0.061170766606245236, 0.11106615659620703, 0.06663969395772422, 0.7663564805138284, 0.04442646263848281, 0.049054651645974785, 0.07708588115796038, 0.07708588115796038, 0.007007807377996398, 0.02102342213398919, 0.049054651645974785, 0.11212491804794236, 0.02102342213398919, 0.20322641396189553, 0.14015614755992795, 0.19621860658389914, 0.04204684426797838, 0.13581081647903273, 0.20371622471854908, 0.24898649687822666, 0.24898649687822666, 0.09054054431935515, 0.04527027215967758, 0.5049449097937029, 0.27189341296583996, 0.03884191613797714, 0.15536766455190856, 0.07812938680577888, 0.07812938680577888, 0.07812938680577888, 0.15625877361155777, 0.5078410142375628, 0.03906469340288944, 0.18461654442878805, 0.33846366478611145, 0.46154136107197014, 0.04847422451448407, 0.09694844902896814, 0.2908453470869044, 0.38779379611587256, 0.1454226735434522, 0.04166745718302573, 0.013889152394341912, 0.2916722002811801, 0.027778304788683823, 0.5972335529567022, 0.7998535678923576, 0.1738812104113821, 0.020563909586966075, 0.14394736710876252, 0.4729699205002197, 0.06169172876089822, 0.18507518628269468, 0.10281954793483038, 0.9188434879002044, 0.04594217439501022, 0.43670234869002383, 0.09586149117585889, 0.1171640447704942, 0.18107170555440014, 0.053256383986588274, 0.10651276797317655, 0.04816095308210488, 0.04816095308210488, 0.5779314369852585, 0.14448285924631463, 0.1926438123284195, 0.09214800783365285, 0.2073330176257189, 0.13822201175047927, 0.13822201175047927, 0.13822201175047927, 0.09214800783365285, 0.16125901370889248, 0.02959168873226921, 0.05918337746453842, 0.002465974061022434, 0.05178545528147112, 0.10357091056294224, 0.046853507159426246, 0.04438753309840381, 0.10357091056294224, 0.036989610915336514, 0.1011049365019198, 0.08877506619680763, 0.17755013239361525, 0.04931948122044868, 0.02959168873226921, 0.07644519589169546, 0.02911357924686795, 0.20379505472807563, 0.43670368870301923, 0.08734073774060384, 0.20379505472807563, 0.3366488159065961, 0.056108135984432685, 0.4488650878754615, 0.11221627196886537, 0.014844622865078583, 0.8708845414179436, 0.054430283838621474, 0.054430283838621474, 0.026802283517428468, 0.29482511869171313, 0.053604567034856936, 0.026802283517428468, 0.5628479538659978, 0.9427913862530741, 0.06389359516387673, 0.007986699395484591, 0.7108162461981286, 0.0878536933503305, 0.039933496977422954, 0.07986699395484591, 0.06334334760185896, 0.03167167380092948, 0.06334334760185896, 0.22170171660650637, 0.44340343321301273, 0.15835836900464742, 0.17610511852651622, 0.4842890759479196, 0.044026279631629056, 0.044026279631629056, 0.08805255926325811, 0.13207883889488717, 0.054930796405262036, 0.012206843645613785, 0.030517109114034463, 0.10986159281052407, 0.07934448369648961, 0.09765474916491028, 0.20141292015262746, 0.04882737458245514, 0.006103421822806892, 0.030517109114034463, 0.04882737458245514, 0.07324106187368272, 0.04882737458245514, 0.061034218228068926, 0.09765474916491028, 0.0867681172632771, 0.01735362345265542, 0.7635594319168385, 0.12147536416858794, 0.029841337854229096, 0.17904802712537457, 0.14920668927114547, 0.14920668927114547, 0.38793739210497824, 0.08952401356268729, 0.2534924445705242, 0.04224874076175404, 0.33798992609403233, 0.04224874076175404, 0.04224874076175404, 0.1267462222852621, 0.1267462222852621, 0.5065668325588454, 0.058450019141405234, 0.038966679427603484, 0.1753500574242157, 0.058450019141405234, 0.038966679427603484, 0.038966679427603484, 0.058450019141405234, 0.019483339713801742, 0.2985363887778818, 0.671706874750234, 0.4298572998287168, 0.3991532069838084, 0.15352046422454171, 0.04598988833875662, 0.18395955335502648, 0.09197977667751324, 0.6438584367425927, 0.15182941405346384, 0.36059485837697663, 0.464977580538733, 0.00948933837834149, 0.5076419835687914, 0.10878042505045532, 0.10878042505045532, 0.2538209917843957, 0.036260141683485105, 0.08611815495856251, 0.05065773821091912, 0.6433532752786728, 0.02026309528436765, 0.19249940520149267, 0.9746194373691525, 0.4441732768823738, 0.4737848286745321, 0.05922310358431651, 0.07937590472805592, 0.008819544969783991, 0.1058345396374079, 0.2822254390330877, 0.017639089939567983, 0.22048862424459978, 0.026458634909351974, 0.11465408460719188, 0.14111271951654386, 0.20240011752162904, 0.02530001469020363, 0.07590004407061089, 0.02530001469020363, 0.02530001469020363, 0.02530001469020363, 0.20240011752162904, 0.2530001469020363, 0.15180008814122178, 0.7113443877737285, 0.11855739796228809, 0.11855739796228809, 0.016334567224979855, 0.03266913444995971, 0.04083641806244964, 0.07350555251240935, 0.04083641806244964, 0.114341970574859, 0.04083641806244964, 0.07350555251240935, 0.228683941149718, 0.1388438214123288, 0.008167283612489928, 0.04083641806244964, 0.10617468696236906, 0.049003701674939566, 0.9893474722788697, 0.12128054330505217, 0.6064027165252608, 0.24256108661010434, 0.8244900808693977, 0.1499072874307996, 0.7874417468940674, 0.1749870548653483, 0.8162737550095072, 0.17314897833535, 0.8544642980464591, 0.03164682585357256, 0.09494047756071768, 0.22672680774221282, 0.6297966881728134, 0.10076747010765015, 0.45193124445195443, 0.015064374815065147, 0.030128749630130295, 0.030128749630130295, 0.24102999704104236, 0.19583687259584692, 0.9506576334739357, 0.020666470292911646, 0.986382815844234, 0.13532608068477567, 0.2029891210271635, 0.2029891210271635, 0.2029891210271635, 0.13532608068477567, 0.17486925256112373, 0.05828975085370791, 0.05828975085370791, 0.43717313140280933, 0.23315900341483164, 0.030723882476349957, 0.18434329485809972, 0.39941047219254944, 0.030723882476349957, 0.12289552990539983, 0.18434329485809972, 0.020155114527402467, 0.1813960307466222, 0.40310229054804936, 0.2821716033836345, 0.040310229054804934, 0.0604653435822074, 0.6742334066284169, 0.030646973028564402, 0.16855835165710423, 0.045970459542846606, 0.061293946057128804, 0.21205707174036512, 0.10072710907667343, 0.4347169970677485, 0.12723424304421907, 0.010602853587018256, 0.07952140190263692, 0.0371099875545639, 0.7698070628626911, 0.02701077413553302, 0.18907541894873114, 0.509048653258795, 0.0509048653258795, 0.203619461303518, 0.1527145959776385, 0.0509048653258795, 0.9568943259344561, 0.03218419112365858, 0.08046047780914643, 0.08046047780914643, 0.16092095561829287, 0.04827628668548786, 0.01609209556182929, 0.09655257337097573, 0.09655257337097573, 0.30574981567475645, 0.08046047780914643, 0.03979697574341593, 0.17024261845794594, 0.1569769598768073, 0.0044218861937128815, 0.23214902516992628, 0.31174297665675815, 0.04421886193712882, 0.03758603264655949, 0.09596228791941584, 0.08225338964521357, 0.06854449137101132, 0.027417796548404524, 0.04112669482260679, 0.16450677929042715, 0.260469067209843, 0.13708898274202264, 0.1096711861936181, 0.03385046572098779, 0.06770093144197557, 0.19181930575226414, 0.38363861150452827, 0.05641744286831298, 0.045133954294650384, 0.09026790858930077, 0.06770093144197557, 0.045133954294650384, 0.22850722104838286, 0.0761690736827943, 0.10155876491039238, 0.13541168654718985, 0.06770584327359493, 0.0761690736827943, 0.09309553450119303, 0.025389691227598096, 0.0761690736827943, 0.025389691227598096, 0.03385292163679746, 0.04231615204599683, 0.20347720713757295, 0.5765187535564567, 0.10173860356878647, 0.03391286785626216, 0.03391286785626216, 0.0814272849857098, 0.7735592073642431, 0.0407136424928549, 0.0814272849857098, 0.10889194164506225, 0.30852716799434304, 0.3448244818760305, 0.036297313881687415, 0.07259462776337483, 0.09074328470421854, 0.04252340044773627, 0.1275702013432088, 0.04252340044773627, 0.08504680089547254, 0.637851006716044, 0.07246618014896038, 0.08454387684045378, 0.07246618014896038, 0.22947623713837453, 0.18116545037240095, 0.3502532040533085, 0.012077696691493396, 0.1225867186832093, 0.09194003901240698, 0.275820117037221, 0.09194003901240698, 0.030646679670802326, 0.3984068357204303, 0.14459721352835087, 0.8097443957587649, 0.9600770188753656, 0.9664345591440925, 0.9881851636318344, 0.7080486775299786, 0.03678174948207681, 0.012260583160692269, 0.024521166321384538, 0.10421495686588429, 0.11034524844623042, 0.003065145790173067, 0.9641574738197386, 0.9377139365097762, 0.025343619905669627, 0.046170512462699625, 0.27702307477619775, 0.09234102492539925, 0.046170512462699625, 0.13851153738809888, 0.13851153738809888, 0.046170512462699625, 0.11542628115674905, 0.11542628115674905, 0.5185293615365925, 0.09017901939766826, 0.011272377424708532, 0.10145139682237679, 0.022544754849417065, 0.0338171322741256, 0.05636188712354266, 0.0338171322741256, 0.09017901939766826, 0.0338171322741256, 0.890614157461323, 0.06361529696152307, 0.9794055680029385, 0.5030890422255551, 0.4611649553734255, 0.731202600028105, 0.11249270769663153, 0.056246353848315764, 0.618330343158882, 0.17666581233110915, 0.08833290616555457, 0.08833290616555457, 0.03488446122374974, 0.06976892244749948, 0.13953784489499896, 0.20930676734249842, 0.10465338367124921, 0.06976892244749948, 0.34884461223749735, 0.03488446122374974, 0.9776939903481343, 0.13810034298508733, 0.7365351625871325, 0.09206689532339156, 0.038263130046668634, 0.022957878028001182, 0.015305252018667455, 0.06887363408400354, 0.22192615427067808, 0.6045574547373644, 0.015305252018667455, 0.015305252018667455, 0.03179710261108192, 0.34976812872190116, 0.09539130783324577, 0.31797102611081923, 0.1271884104443277, 0.0050565530848721745, 0.06573519010333827, 0.0050565530848721745, 0.020226212339488698, 0.0050565530848721745, 0.03539587159410522, 0.8646705775131418, 0.01726699678816558, 0.08806168361964448, 0.013813597430532466, 0.015540297109349024, 0.0051800990364496745, 0.015540297109349024, 0.024173795503431815, 0.044894191649230517, 0.44376181745585547, 0.041440792291597396, 0.036260693255147726, 0.036260693255147726, 0.00863349839408279, 0.14676947269940746, 0.06043448875857954, 0.6233742450447866, 0.02968448785927555, 0.044526731788913324, 0.08905346357782665, 0.1187379514371022, 0.08905346357782665, 0.23758001444922333, 0.025008422573602456, 0.025008422573602456, 0.27509264830962704, 0.06252105643400614, 0.0875294790076086, 0.07502526772080736, 0.13754632415481352, 0.03751263386040368, 0.012504211286801228, 0.8691176793607713, 0.11588235724810285, 0.08906635614348862, 0.5047093514797689, 0.3265766391927916, 0.05937757076232575, 0.9133955143240584, 0.0676589269869673, 0.0416522486611074, 0.049982698393328875, 0.09163494705443627, 0.5997923807199466, 0.0416522486611074, 0.00833044973222148, 0.10829584651887923, 0.024991349196664438, 0.00833044973222148, 0.0416522486611074, 0.28180386827011716, 0.11272154730804687, 0.11272154730804687, 0.1690823209620703, 0.28180386827011716, 0.11194309206958426, 0.11194309206958426, 0.6156870063827135, 0.11194309206958426, 0.05451465062707096, 0.4361172050165677, 0.1635439518812129, 0.08177197594060645, 0.19080127719474838, 0.02725732531353548, 0.12159099204395765, 0.36477297613187293, 0.12159099204395765, 0.12159099204395765, 0.12159099204395765, 0.08106066136263844, 0.8694577451411548, 0.01425340565805172, 0.09977383960636203, 0.28637936882305987, 0.6801510009547672, 0.3734795315758543, 0.05335421879655061, 0.26677109398275306, 0.16006265638965184, 0.10670843759310122, 0.2477479292139167, 0.20270285117502276, 0.1576577731361288, 0.022522539019446973, 0.22522539019446972, 0.022522539019446973, 0.022522539019446973, 0.06756761705834091, 0.14251316599518138, 0.39191120648674876, 0.1246990202457837, 0.1246990202457837, 0.10688487449638603, 0.05344243724819302, 0.035628291498795345, 0.7266019103124085, 0.1013863130668477, 0.15207946960027155, 0.2584485977209172, 0.7157038090733092, 0.013030745618673447, 0.08687163745782299, 0.013030745618673447, 0.6081014622047609, 0.06081014622047609, 0.13465103805962564, 0.056466564347584944, 0.030405073110238046, 0.830903757848506, 0.15387106626824185, 0.9600770208223813, 0.9498906584995168, 0.04896593571233838, 0.17138077499318433, 0.034276154998636864, 0.02448296785616919, 0.17138077499318433, 0.01958637428493535, 0.009793187142467675, 0.01958637428493535, 0.20076033642058733, 0.01958637428493535, 0.06365571642603989, 0.0048965935712338374, 0.18607055570688583, 0.02448296785616919, 0.29290799747147506, 0.39054399662863337, 0.29290799747147506, 0.11445901795457514, 0.5886463780521007, 0.17986417107147523, 0.03270257655845004, 0.01635128827922502, 0.06540515311690008, 0.11293247129767287, 0.5646623564883643, 0.1693987069465093, 0.11293247129767287, 0.36694801639384245, 0.6043849681780934, 0.02878023657990921, 0.5661908677252665, 0.09846797699569854, 0.27078693673817095, 0.04923398849784927, 0.04234355215340398, 0.08468710430680795, 0.6139815062243577, 0.02117177607670199, 0.22230364880537087, 0.08929007602554846, 0.023293063311012642, 0.03493959496651896, 0.062114835496033714, 0.14752273430308008, 0.027175240529514748, 0.031057417748016857, 0.04270394940352318, 0.03493959496651896, 0.019410886092510536, 0.06987918993303792, 0.03882177218502107, 0.019410886092510536, 0.04270394940352318, 0.04270394940352318, 0.14364055708457796, 0.12811184821056953, 0.05648472512395393, 0.3389083507437236, 0.05648472512395393, 0.05648472512395393, 0.11296945024790786, 0.22593890049581572, 0.05648472512395393, 0.017301896209387945, 0.2595284431408192, 0.2249246507220433, 0.11246232536102165, 0.05190568862816384, 0.06920758483755178, 0.03460379241877589, 0.11246232536102165, 0.043254740523469865, 0.05190568862816384, 0.017301896209387945, 0.0390696158090564, 0.0488370197613205, 0.029302211856792302, 0.0390696158090564, 0.0781392316181128, 0.2148828869498102, 0.0683718276658487, 0.1367436553316974, 0.34185913832924353, 0.300373889731691, 0.5256543070304592, 0.037546736216461374, 0.07509347243292275, 0.037546736216461374, 0.05771077029362034, 0.06925292435234441, 0.05771077029362034, 0.08079507841106848, 0.10387938652851661, 0.023084308117448136, 0.11542154058724068, 0.011542154058724068, 0.023084308117448136, 0.21930092711575727, 0.12696369464596474, 0.10387938652851661, 0.1401952960992843, 0.017973755910164653, 0.17254805673758067, 0.14738479846335015, 0.010784253546098792, 0.025163258274230514, 0.1294110425531855, 0.039542263002362237, 0.24444308037823928, 0.06470552127659275, 0.0035947511820329306, 0.991951955928316, 0.030593895839043227, 0.94841077101034, 0.048303286100111406, 0.09660657220022281, 0.33812300270077983, 0.1449098583003342, 0.09660657220022281, 0.2898197166006684, 0.10961941650631861, 0.0417597777166928, 0.2453386940855702, 0.10439944429173201, 0.5011173326003137, 0.7499173915838194, 0.21426211188109126, 0.011903450660060625, 0.02380690132012125, 0.7830778911716173, 0.03132311564686469, 0.06264623129372938, 0.11485142403850386, 0.8624833317452849, 0.06634487167271422, 0.06634487167271422, 0.006011007674724608, 0.03606604604834765, 0.012022015349449217, 0.12022015349449217, 0.7694089823647499, 0.012022015349449217, 0.03606604604834765, 0.006011007674724608, 0.08843432148547757, 0.13265148222821635, 0.3537372859419103, 0.3537372859419103, 0.044217160742738786, 0.9874666507121103, 0.020129062075583144, 0.20129062075583143, 0.06038718622674943, 0.5837428001919112, 0.12077437245349885, 0.15479131068654392, 0.1857495728238527, 0.6501235048834845, 0.04869731017149893, 0.7548083076582334, 0.024348655085749463, 0.04869731017149893, 0.09739462034299785, 0.024765803843649344, 0.2971896461237922, 0.1733606269055454, 0.024765803843649344, 0.12382901921824672, 0.09906321537459738, 0.1485948230618961, 0.07429741153094804, 0.12569349365083016, 0.011970808919126682, 0.04788323567650673, 0.20948915608471694, 0.029927022297816706, 0.005985404459563341, 0.03591242675738005, 0.20948915608471694, 0.011970808919126682, 0.023941617838253364, 0.1017518758125768, 0.08379566243388678, 0.1017518758125768, 0.1193312069984986, 0.1789968104977479, 0.5369904314932437, 0.0596656034992493, 0.8370598316271128, 0.13950997193785214, 0.27579826647356925, 0.6741735402687248, 0.030644251830396582, 0.0259163458175014, 0.05923736186857463, 0.10736771838679152, 0.037023351167859146, 0.0037023351167859144, 0.0037023351167859144, 0.7589786989411125, 0.5365211605288526, 0.22092047786482166, 0.15780034133201548, 0.0631201365328062, 0.07216999236899424, 0.14433998473798848, 0.5773599389519539, 0.07216999236899424, 0.1249419499355009, 0.8589759058065686, 0.10070608486451306, 0.16267906016575187, 0.046479731475929105, 0.10070608486451306, 0.030986487650619402, 0.10845270677716791, 0.10070608486451306, 0.038733109563274255, 0.17817230399106157, 0.10070608486451306, 0.015493243825309701, 0.015493243825309701, 0.9778916252855524, 0.18606349207350434, 0.16538977073200384, 0.4134744268300096, 0.22741093475650528, 0.051017466777503906, 0.45915720099753515, 0.45915720099753515, 0.11564467952247816, 0.8673350964185862, 0.7405784570493467, 0.10707158415171276, 0.10707158415171276, 0.04461316006321365, 0.023736050918861277, 0.09494420367544511, 0.7832896803224221, 0.047472101837722554, 0.023736050918861277, 0.638099670248122, 0.319049835124061, 0.3311210215094541, 0.028180512468889713, 0.5072492244400149, 0.021135384351667282, 0.0774964092894467, 0.021135384351667282, 0.008028090839024043, 0.4014045419512021, 0.3130955427219376, 0.12042136258536064, 0.13647754426340872, 0.008028090839024043, 0.02027691026623842, 0.27373828859421867, 0.005069227566559605, 0.015207682699678815, 0.1165922340308709, 0.02027691026623842, 0.10138455133119209, 0.17742296482958617, 0.13179991673054972, 0.13179991673054972, 0.01013845513311921, 0.02015532654889421, 0.02015532654889421, 0.6046597964668262, 0.06046597964668263, 0.08062130619557684, 0.10077663274447105, 0.08062130619557684, 0.03965674918543403, 0.04993812860387989, 0.02937536976698817, 0.07490719290581983, 0.01028137941844586, 0.030844138255337578, 0.007343842441747042, 0.09840748871941037, 0.004406305465048225, 0.08225103534756688, 0.05581320255727752, 0.061688276510675155, 0.13072039546309736, 0.05434443406892811, 0.011750147906795268, 0.004406305465048225, 0.04700059162718107, 0.12043901604465149, 0.0176252218601929, 0.06756335046407279, 0.031130789143334815, 0.12452315657333926, 0.04358310480066874, 0.08094005177267051, 0.07471389394400356, 0.04358310480066874, 0.0498092626293357, 0.1307493144020062, 0.07471389394400356, 0.01867847348600089, 0.0498092626293357, 0.07471389394400356, 0.03735694697200178, 0.056035420458002666, 0.03735694697200178, 0.056035420458002666, 0.9606982352170832, 0.016854355003808476, 0.1454184703413623, 0.029083694068272457, 0.029083694068272457, 0.014541847034136229, 0.058167388136544915, 0.6980086576385389, 0.014541847034136229, 0.07789739708538168, 0.11684609562807254, 0.4284356839695993, 0.03894869854269084, 0.3115895883415267], \"Term\": [\"abbrevi\", \"abbrevi\", \"abbrevi\", \"abbrevi\", \"abbrevi\", \"abbrevi\", \"abbrevi\", \"abbrevi\", \"abbrevi\", \"abbrevi\", \"abbrevi\", \"abroad\", \"abroad\", \"access\", \"access\", \"access\", \"access\", \"access\", \"access\", \"access\", \"accommod\", \"accommod\", \"accommod\", \"accord\", \"accord\", \"accord\", \"accord\", \"accord\", \"accord\", \"accord\", \"accord\", \"accord\", \"accord\", \"accord\", \"account\", \"account\", \"account\", \"account\", \"account\", \"account\", \"account\", \"account\", \"account\", \"achiev\", \"achiev\", \"achiev\", \"achiev\", \"achiev\", \"acquisit\", \"acquisit\", \"acquisit\", \"acquisit\", \"across\", \"across\", \"across\", \"across\", \"activ\", \"activ\", \"activ\", \"activ\", \"activ\", \"activ\", \"activ\", \"activ\", \"activ\", \"activ\", \"activ\", \"activ\", \"activ\", \"adapt\", \"adapt\", \"adapt\", \"adapt\", \"adapt\", \"adjust\", \"adjust\", \"adjust\", \"adjust\", \"adjust\", \"administr\", \"administr\", \"administr\", \"administr\", \"administr\", \"adult\", \"adult\", \"adult\", \"adult\", \"advanc\", \"advanc\", \"advanc\", \"advanc\", \"advanc\", \"after\", \"after\", \"after\", \"after\", \"after\", \"after\", \"after\", \"after\", \"after\", \"after\", \"after\", \"after\", \"after\", \"after\", \"against\", \"against\", \"against\", \"aggreg\", \"aggreg\", \"aggreg\", \"aggreg\", \"aggreg\", \"aggreg\", \"agreement\", \"agreement\", \"agreement\", \"agricultur\", \"agricultur\", \"alloc\", \"alloc\", \"alloc\", \"alloc\", \"allow\", \"allow\", \"allow\", \"allow\", \"allow\", \"allow\", \"allow\", \"allow\", \"allow\", \"allow\", \"alreadi\", \"alreadi\", \"alreadi\", \"alreadi\", \"altern\", \"altern\", \"altern\", \"altern\", \"altern\", \"alwai\", \"alwai\", \"alwai\", \"alwai\", \"alwai\", \"amount\", \"amount\", \"amount\", \"amount\", \"amount\", \"amount\", \"amount\", \"amount\", \"amount\", \"analysi\", \"analysi\", \"analysi\", \"analysi\", \"analysi\", \"annex\", \"annex\", \"annual\", \"annual\", \"annual\", \"annual\", \"annual\", \"annual\", \"annual\", \"annual\", \"anoth\", \"anoth\", \"anoth\", \"anoth\", \"anoth\", \"anoth\", \"anoth\", \"anoth\", \"anoth\", \"anoth\", \"anoth\", \"apart\", \"apart\", \"apart\", \"apart\", \"apart\", \"appli\", \"appli\", \"appli\", \"appli\", \"appli\", \"appli\", \"appli\", \"appli\", \"appli\", \"applic\", \"applic\", \"applic\", \"applic\", \"applic\", \"applic\", \"approach\", \"approach\", \"approach\", \"appropri\", \"appropri\", \"appropri\", \"appropri\", \"appropri\", \"approxim\", \"approxim\", \"approxim\", \"arabl\", \"around\", \"around\", \"around\", \"around\", \"arrang\", \"arrang\", \"arrang\", \"arrang\", \"arriv\", \"arriv\", \"arriv\", \"articl\", \"articl\", \"articl\", \"articl\", \"artifici\", \"artifici\", \"aspect\", \"aspect\", \"aspect\", \"aspect\", \"aspect\", \"assess\", \"assess\", \"assess\", \"assess\", \"assess\", \"assess\", \"assess\", \"asset\", \"asset\", \"asset\", \"atmospher\", \"atmospher\", \"atmospher\", \"attribut\", \"attribut\", \"attribut\", \"attribut\", \"attribut\", \"austria\", \"author\", \"author\", \"author\", \"author\", \"author\", \"author\", \"author\", \"avail\", \"avail\", \"avail\", \"avail\", \"avail\", \"avail\", \"avail\", \"avail\", \"avail\", \"avail\", \"avail\", \"averag\", \"averag\", \"averag\", \"averag\", \"avoid\", \"avoid\", \"avoid\", \"avoid\", \"avoid\", \"avoid\", \"avoid\", \"balanc\", \"balanc\", \"balanc\", \"balanc\", \"basic\", \"basic\", \"basic\", \"basic\", \"basic\", \"basic\", \"becom\", \"becom\", \"becom\", \"becom\", \"becom\", \"becom\", \"belgium\", \"below\", \"below\", \"below\", \"below\", \"below\", \"below\", \"benefit\", \"benefit\", \"benefit\", \"benefit\", \"better\", \"better\", \"better\", \"better\", \"between\", \"between\", \"between\", \"between\", \"between\", \"between\", \"between\", \"between\", \"between\", \"between\", \"between\", \"between\", \"between\", \"between\", \"between\", \"between\", \"biolog\", \"biolog\", \"birth\", \"birth\", \"birth\", \"border\", \"border\", \"borrow\", \"borrow\", \"break\", \"break\", \"break\", \"break\", \"broad\", \"broad\", \"broad\", \"budget\", \"budget\", \"budget\", \"build\", \"build\", \"build\", \"build\", \"build\", \"build\", \"calcul\", \"calcul\", \"calcul\", \"calcul\", \"calcul\", \"calcul\", \"calendar\", \"calendar\", \"capabl\", \"capabl\", \"capabl\", \"capac\", \"capac\", \"capac\", \"capac\", \"capit\", \"capit\", \"capit\", \"capit\", \"capit\", \"capit\", \"carbon\", \"carbon\", \"categori\", \"categori\", \"categori\", \"categori\", \"categori\", \"categori\", \"categori\", \"categori\", \"categori\", \"categori\", \"categori\", \"categori\", \"categori\", \"categori\", \"cattl\", \"cattl\", \"cattl\", \"cattl\", \"centr\", \"centr\", \"central\", \"central\", \"central\", \"central\", \"central\", \"chang\", \"chang\", \"chang\", \"chang\", \"chang\", \"chang\", \"chang\", \"chang\", \"chang\", \"chang\", \"chang\", \"chang\", \"characterist\", \"characterist\", \"characterist\", \"characterist\", \"characterist\", \"characterist\", \"characterist\", \"charg\", \"charg\", \"charg\", \"charg\", \"charg\", \"chemic\", \"chemic\", \"children\", \"children\", \"class\", \"class\", \"class\", \"class\", \"classif\", \"classif\", \"classif\", \"classif\", \"classif\", \"classif\", \"classifi\", \"classifi\", \"classifi\", \"classifi\", \"classifi\", \"classifi\", \"classifi\", \"climat\", \"climat\", \"climat\", \"collect\", \"collect\", \"collect\", \"collect\", \"collect\", \"collect\", \"collect\", \"collect\", \"collect\", \"collect\", \"collect\", \"commerci\", \"commerci\", \"commerci\", \"commerci\", \"commerci\", \"commerci\", \"commiss\", \"commiss\", \"commiss\", \"common\", \"common\", \"common\", \"common\", \"common\", \"common\", \"common\", \"common\", \"common\", \"commun\", \"commun\", \"commun\", \"commun\", \"commun\", \"compani\", \"compani\", \"compani\", \"compani\", \"compani\", \"compani\", \"compar\", \"compar\", \"compar\", \"compar\", \"compar\", \"compar\", \"compar\", \"compar\", \"comparison\", \"comparison\", \"comparison\", \"comparison\", \"compens\", \"compens\", \"compens\", \"compet\", \"compet\", \"compet\", \"compet\", \"competit\", \"competit\", \"competit\", \"compil\", \"compil\", \"compil\", \"compil\", \"compil\", \"compil\", \"complet\", \"complet\", \"complet\", \"complet\", \"complet\", \"complet\", \"complet\", \"complet\", \"complet\", \"complet\", \"complet\", \"compon\", \"compon\", \"compon\", \"compon\", \"compon\", \"compon\", \"compon\", \"compos\", \"compos\", \"compos\", \"compos\", \"compos\", \"compos\", \"composit\", \"composit\", \"composit\", \"compulsori\", \"compulsori\", \"compulsori\", \"compulsori\", \"comput\", \"comput\", \"comput\", \"comput\", \"comput\", \"concern\", \"concern\", \"concern\", \"concern\", \"concern\", \"concern\", \"concern\", \"condit\", \"condit\", \"condit\", \"condit\", \"condit\", \"condit\", \"condit\", \"connect\", \"connect\", \"connect\", \"connect\", \"connect\", \"consequ\", \"consequ\", \"consequ\", \"consequ\", \"consequ\", \"consequ\", \"consid\", \"consid\", \"consid\", \"consid\", \"consid\", \"consid\", \"consid\", \"consid\", \"consid\", \"consid\", \"consid\", \"consid\", \"consid\", \"consid\", \"constitut\", \"constitut\", \"constitut\", \"constitut\", \"constitut\", \"construct\", \"construct\", \"construct\", \"construct\", \"construct\", \"construct\", \"consum\", \"consum\", \"consum\", \"consum\", \"consum\", \"consumpt\", \"consumpt\", \"consumpt\", \"consumpt\", \"consumpt\", \"contain\", \"contain\", \"contain\", \"contain\", \"contain\", \"contain\", \"contain\", \"context\", \"context\", \"context\", \"context\", \"context\", \"context\", \"context\", \"context\", \"context\", \"context\", \"continu\", \"continu\", \"continu\", \"continu\", \"continu\", \"continu\", \"contract\", \"contract\", \"contract\", \"contract\", \"contract\", \"contribut\", \"contribut\", \"contribut\", \"contribut\", \"contribut\", \"contribut\", \"control\", \"control\", \"control\", \"control\", \"control\", \"control\", \"convert\", \"convert\", \"convert\", \"convert\", \"convert\", \"cooper\", \"cooper\", \"corpor\", \"corpor\", \"corpor\", \"corpor\", \"could\", \"could\", \"could\", \"could\", \"could\", \"council\", \"council\", \"council\", \"council\", \"council\", \"count\", \"count\", \"count\", \"count\", \"count\", \"count\", \"count\", \"count\", \"countri\", \"countri\", \"countri\", \"countri\", \"countri\", \"countri\", \"countri\", \"countri\", \"cours\", \"cours\", \"cours\", \"cours\", \"cover\", \"cover\", \"cover\", \"cover\", \"cover\", \"cover\", \"cover\", \"cover\", \"cover\", \"cover\", \"cover\", \"cover\", \"cover\", \"cover\", \"coverag\", \"coverag\", \"coverag\", \"creation\", \"creation\", \"creation\", \"credit\", \"credit\", \"credit\", \"credit\", \"criteria\", \"criteria\", \"criteria\", \"criteria\", \"criteria\", \"criteria\", \"criteria\", \"cross\", \"cross\", \"cross\", \"cross\", \"crude\", \"crude\", \"cultiv\", \"cultiv\", \"cultiv\", \"cultur\", \"cultur\", \"cultur\", \"cultur\", \"currenc\", \"currenc\", \"currenc\", \"current\", \"current\", \"current\", \"current\", \"current\", \"current\", \"current\", \"current\", \"current\", \"current\", \"cypru\", \"databas\", \"databas\", \"death\", \"death\", \"decemb\", \"decemb\", \"decis\", \"decis\", \"decis\", \"decis\", \"decis\", \"decis\", \"decis\", \"deduct\", \"deduct\", \"deduct\", \"deficit\", \"deficit\", \"defin\", \"defin\", \"defin\", \"defin\", \"defin\", \"defin\", \"defin\", \"defin\", \"defin\", \"defin\", \"defin\", \"defin\", \"defin\", \"defin\", \"defin\", \"definit\", \"definit\", \"definit\", \"definit\", \"definit\", \"definit\", \"definit\", \"definit\", \"definit\", \"definit\", \"definit\", \"definit\", \"definit\", \"deliv\", \"deliv\", \"deliv\", \"deliv\", \"deliveri\", \"deliveri\", \"deliveri\", \"deliveri\", \"demand\", \"demand\", \"demand\", \"demand\", \"demand\", \"denmark\", \"densiti\", \"densiti\", \"depend\", \"depend\", \"depend\", \"depend\", \"depend\", \"depend\", \"depend\", \"depend\", \"depend\", \"deposit\", \"deposit\", \"deposit\", \"deposit\", \"deposit\", \"deriv\", \"deriv\", \"deriv\", \"deriv\", \"deriv\", \"deriv\", \"deriv\", \"deriv\", \"describ\", \"describ\", \"describ\", \"describ\", \"describ\", \"describ\", \"describ\", \"describ\", \"design\", \"design\", \"design\", \"design\", \"design\", \"design\", \"design\", \"design\", \"design\", \"detail\", \"detail\", \"detail\", \"determin\", \"determin\", \"determin\", \"determin\", \"determin\", \"determin\", \"develop\", \"develop\", \"develop\", \"develop\", \"develop\", \"develop\", \"develop\", \"develop\", \"develop\", \"develop\", \"differ\", \"differ\", \"differ\", \"differ\", \"differ\", \"differ\", \"differ\", \"differ\", \"differ\", \"differ\", \"differ\", \"differ\", \"differ\", \"differ\", \"differ\", \"digit\", \"digit\", \"direct\", \"direct\", \"direct\", \"direct\", \"direct\", \"direct\", \"direct\", \"direct\", \"direct\", \"direct\", \"direct\", \"disambigu\", \"disambigu\", \"disambigu\", \"disambigu\", \"diseas\", \"diseas\", \"diseas\", \"diseas\", \"diseas\", \"dispos\", \"dispos\", \"dispos\", \"dispos\", \"dissemin\", \"dissemin\", \"divis\", \"divis\", \"divis\", \"divis\", \"domest\", \"domest\", \"domest\", \"domest\", \"domest\", \"domest\", \"domest\", \"domest\", \"dwell\", \"dwell\", \"dwell\", \"dwell\", \"econom\", \"econom\", \"econom\", \"econom\", \"econom\", \"econom\", \"econom\", \"econom\", \"econom\", \"econom\", \"econom\", \"econom\", \"economi\", \"economi\", \"economi\", \"economi\", \"economi\", \"economi\", \"economi\", \"economi\", \"economi\", \"economi\", \"effect\", \"effect\", \"effect\", \"effect\", \"effect\", \"effect\", \"effect\", \"effect\", \"effect\", \"effici\", \"effici\", \"effici\", \"effici\", \"effici\", \"either\", \"either\", \"either\", \"either\", \"either\", \"either\", \"either\", \"either\", \"either\", \"either\", \"either\", \"either\", \"either\", \"electr\", \"electr\", \"electr\", \"electr\", \"electr\", \"electron\", \"electron\", \"element\", \"element\", \"element\", \"element\", \"element\", \"emiss\", \"emiss\", \"emploi\", \"emploi\", \"emploi\", \"emploi\", \"employ\", \"employ\", \"employ\", \"employ\", \"employ\", \"employ\", \"employ\", \"employ\", \"employe\", \"employe\", \"employe\", \"employe\", \"employe\", \"employe\", \"energi\", \"energi\", \"energi\", \"energi\", \"engag\", \"engag\", \"engag\", \"engag\", \"engag\", \"engag\", \"engin\", \"engin\", \"engin\", \"engin\", \"engin\", \"enterpris\", \"enterpris\", \"enterpris\", \"entir\", \"entir\", \"entir\", \"entir\", \"entir\", \"entiti\", \"entiti\", \"entiti\", \"entiti\", \"entiti\", \"entitl\", \"entitl\", \"entitl\", \"environ\", \"environ\", \"environ\", \"environ\", \"environ\", \"environment\", \"environment\", \"environment\", \"environment\", \"environment\", \"equal\", \"equal\", \"equal\", \"equal\", \"equal\", \"equip\", \"equip\", \"equip\", \"equip\", \"equival\", \"equival\", \"equival\", \"equival\", \"especi\", \"especi\", \"especi\", \"especi\", \"especi\", \"essenti\", \"essenti\", \"essenti\", \"essenti\", \"establish\", \"establish\", \"establish\", \"establish\", \"establish\", \"establish\", \"establish\", \"establish\", \"establish\", \"estim\", \"estim\", \"estim\", \"estim\", \"estonia\", \"europ\", \"europ\", \"europ\", \"europa\", \"european\", \"european\", \"european\", \"european\", \"european\", \"european\", \"european\", \"european\", \"european\", \"european\", \"eurostat\", \"eurostat\", \"eurostat\", \"eurostat\", \"eurostat\", \"eurostat\", \"eurostat\", \"evalu\", \"evalu\", \"evalu\", \"evalu\", \"evalu\", \"event\", \"event\", \"event\", \"event\", \"event\", \"event\", \"everi\", \"everi\", \"everi\", \"everi\", \"everi\", \"exampl\", \"exampl\", \"exampl\", \"exampl\", \"exampl\", \"exampl\", \"exampl\", \"exampl\", \"exampl\", \"exampl\", \"exampl\", \"exampl\", \"exampl\", \"exampl\", \"exampl\", \"exchang\", \"exchang\", \"exchang\", \"exchang\", \"exchang\", \"exchang\", \"exclud\", \"exclud\", \"exclud\", \"exclud\", \"exclud\", \"exclud\", \"exclud\", \"exclud\", \"exclud\", \"exclud\", \"exclud\", \"exclud\", \"exclud\", \"exclus\", \"exclus\", \"exclus\", \"exclus\", \"exclus\", \"exclus\", \"exclus\", \"exclus\", \"exercis\", \"exercis\", \"exercis\", \"exercis\", \"exercis\", \"exercis\", \"exist\", \"exist\", \"exist\", \"exist\", \"exist\", \"exist\", \"exist\", \"exist\", \"exist\", \"expect\", \"expect\", \"expect\", \"expect\", \"expenditur\", \"expenditur\", \"expenditur\", \"expenditur\", \"expens\", \"expens\", \"expens\", \"expens\", \"expens\", \"expens\", \"explain\", \"export\", \"export\", \"export\", \"export\", \"export\", \"express\", \"express\", \"express\", \"express\", \"express\", \"express\", \"express\", \"express\", \"extent\", \"extent\", \"extent\", \"extent\", \"extent\", \"extern\", \"extern\", \"extern\", \"extern\", \"extern\", \"extract\", \"extract\", \"facil\", \"facil\", \"facil\", \"facil\", \"facil\", \"famili\", \"famili\", \"famili\", \"famili\", \"famili\", \"famili\", \"farmer\", \"featur\", \"featur\", \"featur\", \"figur\", \"figur\", \"figur\", \"figur\", \"final\", \"final\", \"final\", \"final\", \"final\", \"financ\", \"financ\", \"financ\", \"financ\", \"financ\", \"financi\", \"financi\", \"financi\", \"financi\", \"finland\", \"first\", \"first\", \"first\", \"first\", \"first\", \"first\", \"first\", \"first\", \"forecast\", \"foreign\", \"foreign\", \"foreign\", \"foreign\", \"foreign\", \"formal\", \"formal\", \"formal\", \"formal\", \"formal\", \"format\", \"format\", \"format\", \"format\", \"format\", \"franc\", \"freight\", \"frequenc\", \"frequenc\", \"frequenc\", \"frequenc\", \"fruit\", \"fulli\", \"fulli\", \"fulli\", \"fulli\", \"fulli\", \"function\", \"function\", \"function\", \"function\", \"function\", \"function\", \"futur\", \"futur\", \"futur\", \"futur\", \"futur\", \"gener\", \"gener\", \"gener\", \"gener\", \"gener\", \"gener\", \"gener\", \"gener\", \"gener\", \"gener\", \"gener\", \"gener\", \"gener\", \"gener\", \"gener\", \"geograph\", \"geograph\", \"geograph\", \"germani\", \"germani\", \"given\", \"given\", \"given\", \"given\", \"given\", \"given\", \"given\", \"given\", \"given\", \"given\", \"given\", \"given\", \"given\", \"given\", \"global\", \"global\", \"global\", \"global\", \"glossari\", \"glossari\", \"govern\", \"govern\", \"govern\", \"govern\", \"govern\", \"grant\", \"grant\", \"grant\", \"grant\", \"grant\", \"grassland\", \"graze\", \"graze\", \"greater\", \"greater\", \"greater\", \"greater\", \"greater\", \"greec\", \"green\", \"green\", \"green\", \"greenhous\", \"greenhous\", \"gross\", \"gross\", \"gross\", \"gross\", \"gross\", \"gross\", \"ground\", \"ground\", \"ground\", \"ground\", \"ground\", \"group\", \"group\", \"group\", \"group\", \"group\", \"group\", \"group\", \"group\", \"group\", \"group\", \"group\", \"group\", \"group\", \"grown\", \"grown\", \"grown\", \"grown\", \"growth\", \"growth\", \"growth\", \"growth\", \"growth\", \"growth\", \"growth\", \"harmonis\", \"harmonis\", \"harmonis\", \"harmonis\", \"harvest\", \"health\", \"health\", \"health\", \"health\", \"health\", \"health\", \"healthcar\", \"healthcar\", \"healthcar\", \"healthcar\", \"higher\", \"higher\", \"higher\", \"higher\", \"higher\", \"higher\", \"higher\", \"higher\", \"higher\", \"higher\", \"holder\", \"holder\", \"holidai\", \"holidai\", \"holidai\", \"holidai\", \"hospit\", \"hospit\", \"household\", \"household\", \"household\", \"household\", \"household\", \"household\", \"human\", \"human\", \"human\", \"human\", \"human\", \"human\", \"human\", \"iceland\", \"iceland\", \"identifi\", \"identifi\", \"identifi\", \"identifi\", \"identifi\", \"identifi\", \"identifi\", \"identifi\", \"immedi\", \"immedi\", \"immedi\", \"immedi\", \"immedi\", \"immedi\", \"immedi\", \"impact\", \"impact\", \"impact\", \"impact\", \"impact\", \"impact\", \"implement\", \"implement\", \"implement\", \"implement\", \"impli\", \"impli\", \"impli\", \"impli\", \"impli\", \"impli\", \"import\", \"import\", \"import\", \"import\", \"import\", \"import\", \"import\", \"import\", \"import\", \"improv\", \"improv\", \"improv\", \"improv\", \"improv\", \"improv\", \"improv\", \"imput\", \"imput\", \"inact\", \"includ\", \"includ\", \"includ\", \"includ\", \"includ\", \"includ\", \"includ\", \"includ\", \"includ\", \"includ\", \"includ\", \"includ\", \"includ\", \"includ\", \"includ\", \"includ\", \"includ\", \"includ\", \"includ\", \"inclus\", \"inclus\", \"inclus\", \"inclus\", \"inclus\", \"incom\", \"incom\", \"incom\", \"incom\", \"incom\", \"index\", \"index\", \"indic\", \"indic\", \"indic\", \"indic\", \"indic\", \"indic\", \"indic\", \"indic\", \"indic\", \"individu\", \"individu\", \"individu\", \"individu\", \"individu\", \"individu\", \"individu\", \"individu\", \"individu\", \"individu\", \"individu\", \"individu\", \"individu\", \"individu\", \"industri\", \"industri\", \"industri\", \"industri\", \"industri\", \"industri\", \"industri\", \"industri\", \"industri\", \"industri\", \"influenc\", \"influenc\", \"influenc\", \"influenc\", \"influenc\", \"influenc\", \"influenc\", \"inform\", \"inform\", \"inform\", \"inform\", \"inform\", \"inform\", \"inform\", \"inform\", \"inform\", \"inhabit\", \"inhabit\", \"initi\", \"initi\", \"initi\", \"initi\", \"initi\", \"inland\", \"inland\", \"inland\", \"innov\", \"innov\", \"input\", \"input\", \"input\", \"institut\", \"institut\", \"institut\", \"institut\", \"institut\", \"institut\", \"institut\", \"institut\", \"institut\", \"insur\", \"insur\", \"insur\", \"intend\", \"intend\", \"intend\", \"intend\", \"intend\", \"intend\", \"intend\", \"intend\", \"intend\", \"intens\", \"intens\", \"intens\", \"intens\", \"intermedi\", \"intermedi\", \"intermedi\", \"intermedi\", \"intermedi\", \"intermedi\", \"intern\", \"intern\", \"intern\", \"intern\", \"intern\", \"intern\", \"intern\", \"intern\", \"intern\", \"internet\", \"internet\", \"internet\", \"interview\", \"interview\", \"introduc\", \"introduc\", \"introduc\", \"introduc\", \"invest\", \"invest\", \"invest\", \"invest\", \"ireland\", \"ireland\", \"irrespect\", \"irrespect\", \"irrespect\", \"irrespect\", \"itali\", \"januari\", \"januari\", \"kingdom\", \"kingdom\", \"knowledg\", \"knowledg\", \"knowledg\", \"knowledg\", \"labour\", \"labour\", \"languag\", \"languag\", \"languag\", \"latvia\", \"least\", \"least\", \"least\", \"least\", \"least\", \"least\", \"least\", \"least\", \"legal\", \"legal\", \"legal\", \"legal\", \"legal\", \"legal\", \"legal\", \"legal\", \"legal\", \"letter\", \"level\", \"level\", \"level\", \"level\", \"level\", \"level\", \"level\", \"level\", \"level\", \"liabil\", \"liabil\", \"limit\", \"limit\", \"limit\", \"limit\", \"limit\", \"limit\", \"liquid\", \"liquid\", \"lithuania\", \"livestock\", \"livestock\", \"livestock\", \"local\", \"local\", \"local\", \"local\", \"local\", \"locat\", \"locat\", \"locat\", \"locat\", \"locat\", \"longer\", \"longer\", \"longer\", \"longer\", \"longer\", \"longer\", \"lower\", \"lower\", \"lower\", \"lower\", \"luxembourg\", \"machineri\", \"machineri\", \"maintain\", \"maintain\", \"maintain\", \"maintain\", \"maintain\", \"malta\", \"manag\", \"manag\", \"manag\", \"manag\", \"manag\", \"manag\", \"manag\", \"manufactur\", \"manufactur\", \"manufactur\", \"manur\", \"manur\", \"maritim\", \"maritim\", \"market\", \"market\", \"market\", \"market\", \"market\", \"market\", \"market\", \"market\", \"materi\", \"materi\", \"materi\", \"measur\", \"measur\", \"measur\", \"measur\", \"measur\", \"measur\", \"measur\", \"measur\", \"measur\", \"measur\", \"measur\", \"measur\", \"measur\", \"measur\", \"measur\", \"mechan\", \"mechan\", \"mechan\", \"medic\", \"medic\", \"member\", \"member\", \"member\", \"member\", \"member\", \"member\", \"member\", \"mention\", \"mention\", \"mention\", \"mention\", \"mention\", \"mention\", \"method\", \"method\", \"method\", \"method\", \"method\", \"method\", \"method\", \"method\", \"methodolog\", \"methodolog\", \"methodolog\", \"might\", \"might\", \"might\", \"might\", \"might\", \"might\", \"militari\", \"militari\", \"militari\", \"million\", \"million\", \"million\", \"million\", \"million\", \"minimum\", \"minimum\", \"minimum\", \"minimum\", \"mixtur\", \"mobil\", \"mobil\", \"model\", \"model\", \"model\", \"model\", \"monei\", \"monei\", \"monei\", \"monei\", \"monei\", \"monei\", \"monetari\", \"monetari\", \"monetari\", \"monetari\", \"monitor\", \"monitor\", \"month\", \"month\", \"month\", \"month\", \"month\", \"month\", \"month\", \"monthli\", \"monthli\", \"monthli\", \"monthli\", \"motor\", \"motor\", \"motor\", \"movement\", \"movement\", \"nation\", \"nation\", \"nation\", \"nation\", \"nation\", \"nation\", \"nation\", \"nation\", \"nation\", \"nation\", \"nation\", \"natur\", \"natur\", \"natur\", \"natur\", \"natur\", \"natur\", \"natur\", \"necessarili\", \"necessarili\", \"necessarili\", \"necessarili\", \"necessarili\", \"necessarili\", \"netherland\", \"network\", \"network\", \"network\", \"network\", \"nomenclatur\", \"normal\", \"normal\", \"normal\", \"normal\", \"normal\", \"normal\", \"normal\", \"normal\", \"norwai\", \"norwai\", \"number\", \"number\", \"number\", \"number\", \"number\", \"number\", \"number\", \"number\", \"numer\", \"numer\", \"numer\", \"observ\", \"observ\", \"observ\", \"observ\", \"observ\", \"observ\", \"observ\", \"occup\", \"occup\", \"occup\", \"occupi\", \"occupi\", \"occupi\", \"occur\", \"occur\", \"occur\", \"occur\", \"occur\", \"occur\", \"occur\", \"occur\", \"occur\", \"offer\", \"offer\", \"offer\", \"offer\", \"offer\", \"offer\", \"offer\", \"offic\", \"offic\", \"offic\", \"offic\", \"offic\", \"offici\", \"offici\", \"offici\", \"offici\", \"offici\", \"oldid\", \"order\", \"order\", \"order\", \"order\", \"order\", \"order\", \"order\", \"order\", \"order\", \"order\", \"order\", \"order\", \"organ\", \"organ\", \"organ\", \"organ\", \"organ\", \"organ\", \"organ\", \"organ\", \"organis\", \"organis\", \"organis\", \"organis\", \"organis\", \"organis\", \"organis\", \"organis\", \"orient\", \"orient\", \"orient\", \"orient\", \"origin\", \"origin\", \"origin\", \"origin\", \"origin\", \"origin\", \"origin\", \"origin\", \"origin\", \"origin\", \"origin\", \"origin\", \"other\", \"other\", \"other\", \"other\", \"other\", \"other\", \"other\", \"other\", \"other\", \"other\", \"other\", \"other\", \"other\", \"other\", \"other\", \"other\", \"other\", \"other\", \"output\", \"output\", \"output\", \"output\", \"ownership\", \"ownership\", \"ownership\", \"ownership\", \"ownership\", \"paragraph\", \"paragraph\", \"partial\", \"partial\", \"partial\", \"partial\", \"partial\", \"partial\", \"particip\", \"particip\", \"particip\", \"particularli\", \"particularli\", \"particularli\", \"particularli\", \"partnership\", \"partnership\", \"partnership\", \"passeng\", \"passeng\", \"passeng\", \"patent\", \"patent\", \"payabl\", \"payabl\", \"payabl\", \"payment\", \"payment\", \"payment\", \"payment\", \"payment\", \"payment\", \"payment\", \"payment\", \"pension\", \"pension\", \"peopl\", \"peopl\", \"peopl\", \"peopl\", \"peopl\", \"percentag\", \"percentag\", \"percentag\", \"percentag\", \"percentag\", \"perform\", \"perform\", \"perform\", \"perform\", \"perform\", \"perform\", \"perform\", \"perform\", \"period\", \"period\", \"period\", \"period\", \"period\", \"period\", \"period\", \"period\", \"period\", \"period\", \"period\", \"perman\", \"perman\", \"perman\", \"perman\", \"permit\", \"permit\", \"permit\", \"permit\", \"person\", \"person\", \"person\", \"person\", \"person\", \"person\", \"personnel\", \"personnel\", \"personnel\", \"physic\", \"physic\", \"physic\", \"place\", \"place\", \"place\", \"place\", \"place\", \"place\", \"place\", \"place\", \"plant\", \"plant\", \"plant\", \"plant\", \"plant\", \"plural\", \"point\", \"point\", \"point\", \"point\", \"point\", \"point\", \"point\", \"point\", \"poland\", \"polici\", \"polici\", \"polici\", \"polici\", \"polici\", \"polici\", \"popul\", \"popul\", \"popul\", \"popul\", \"posit\", \"posit\", \"posit\", \"posit\", \"postal\", \"potenti\", \"potenti\", \"potenti\", \"potenti\", \"potenti\", \"potenti\", \"poverti\", \"power\", \"power\", \"power\", \"power\", \"power\", \"power\", \"prevent\", \"prevent\", \"prevent\", \"prevent\", \"prevent\", \"prevent\", \"previou\", \"previou\", \"previou\", \"previou\", \"previou\", \"price\", \"price\", \"price\", \"price\", \"primari\", \"primari\", \"primari\", \"primari\", \"primari\", \"primari\", \"primarili\", \"primarili\", \"primarili\", \"primarili\", \"privat\", \"privat\", \"privat\", \"privat\", \"privat\", \"privat\", \"privat\", \"problem\", \"problem\", \"problem\", \"problem\", \"procedur\", \"procedur\", \"procedur\", \"procedur\", \"procedur\", \"procedur\", \"process\", \"process\", \"process\", \"process\", \"process\", \"process\", \"process\", \"process\", \"process\", \"produc\", \"produc\", \"produc\", \"produc\", \"produc\", \"produc\", \"produc\", \"produc\", \"product\", \"product\", \"product\", \"product\", \"product\", \"product\", \"product\", \"product\", \"product\", \"profession\", \"profession\", \"profession\", \"profit\", \"profit\", \"profit\", \"profit\", \"profit\", \"programm\", \"programm\", \"programm\", \"progress\", \"progress\", \"progress\", \"progress\", \"project\", \"project\", \"project\", \"project\", \"project\", \"properti\", \"properti\", \"properti\", \"properti\", \"proport\", \"proport\", \"proport\", \"proport\", \"proport\", \"proport\", \"proport\", \"protect\", \"protect\", \"protect\", \"protect\", \"protect\", \"protect\", \"protect\", \"provid\", \"provid\", \"provid\", \"provid\", \"provid\", \"provid\", \"provid\", \"provid\", \"provid\", \"provid\", \"provid\", \"provid\", \"provid\", \"provid\", \"provid\", \"provid\", \"provis\", \"provis\", \"provis\", \"provis\", \"provis\", \"provis\", \"provis\", \"public\", \"public\", \"public\", \"public\", \"public\", \"public\", \"public\", \"public\", \"public\", \"publish\", \"publish\", \"publish\", \"publish\", \"publish\", \"purchas\", \"purchas\", \"purchas\", \"purchas\", \"purpos\", \"purpos\", \"purpos\", \"purpos\", \"purpos\", \"purpos\", \"purpos\", \"purpos\", \"purpos\", \"purpos\", \"purpos\", \"purpos\", \"qualiti\", \"qualiti\", \"qualiti\", \"qualiti\", \"qualiti\", \"qualiti\", \"quantiti\", \"quantiti\", \"quantiti\", \"quantiti\", \"question\", \"question\", \"question\", \"question\", \"question\", \"question\", \"railwai\", \"railwai\", \"railwai\", \"rather\", \"rather\", \"rather\", \"rather\", \"rather\", \"ratio\", \"ratio\", \"ratio\", \"ratio\", \"ratio\", \"reach\", \"reach\", \"reason\", \"reason\", \"reason\", \"reason\", \"reason\", \"reason\", \"receipt\", \"receipt\", \"receiv\", \"receiv\", \"receiv\", \"receiv\", \"receiv\", \"receiv\", \"recent\", \"recent\", \"recent\", \"recent\", \"recent\", \"reduc\", \"reduc\", \"reduc\", \"reduc\", \"reduc\", \"reduc\", \"reduc\", \"refer\", \"refer\", \"refer\", \"refer\", \"refer\", \"refer\", \"refer\", \"refer\", \"refer\", \"refer\", \"refer\", \"refer\", \"refer\", \"refer\", \"refer\", \"reflect\", \"reflect\", \"reflect\", \"reflect\", \"reflect\", \"regardless\", \"regardless\", \"regardless\", \"regardless\", \"region\", \"region\", \"region\", \"region\", \"regist\", \"regist\", \"regist\", \"regist\", \"regist\", \"registr\", \"regul\", \"regul\", \"regul\", \"regul\", \"regul\", \"regul\", \"regular\", \"regular\", \"regular\", \"regular\", \"regular\", \"regular\", \"regularli\", \"regularli\", \"regularli\", \"regularli\", \"regularli\", \"regularli\", \"relat\", \"relat\", \"relat\", \"relat\", \"relat\", \"relat\", \"relat\", \"relat\", \"relat\", \"relat\", \"relat\", \"relat\", \"relat\", \"relat\", \"relat\", \"releas\", \"releas\", \"releas\", \"releas\", \"relev\", \"relev\", \"relev\", \"relev\", \"relev\", \"relev\", \"remain\", \"remain\", \"remain\", \"remain\", \"remain\", \"remain\", \"remain\", \"remov\", \"remov\", \"remov\", \"remov\", \"remov\", \"remov\", \"remov\", \"remov\", \"remov\", \"remuner\", \"remuner\", \"renew\", \"renew\", \"renew\", \"repair\", \"repair\", \"repair\", \"repair\", \"research\", \"research\", \"research\", \"research\", \"reserv\", \"reserv\", \"reserv\", \"reserv\", \"reserv\", \"resid\", \"resid\", \"resid\", \"resid\", \"resid\", \"residenti\", \"residu\", \"residu\", \"residu\", \"resourc\", \"resourc\", \"resourc\", \"resourc\", \"resourc\", \"resourc\", \"resourc\", \"resourc\", \"resourc\", \"respect\", \"respect\", \"respect\", \"respect\", \"respect\", \"respect\", \"respect\", \"respect\", \"respect\", \"restrict\", \"restrict\", \"restrict\", \"result\", \"result\", \"result\", \"result\", \"result\", \"result\", \"result\", \"result\", \"result\", \"result\", \"result\", \"result\", \"result\", \"result\", \"retriev\", \"return\", \"return\", \"return\", \"revenu\", \"revenu\", \"revis\", \"revis\", \"rural\", \"rural\", \"salari\", \"salari\", \"salari\", \"sampl\", \"sampl\", \"sampl\", \"scheme\", \"scheme\", \"scheme\", \"scheme\", \"scheme\", \"scheme\", \"scienc\", \"scienc\", \"scientif\", \"scope\", \"scope\", \"scope\", \"scope\", \"scope\", \"season\", \"season\", \"season\", \"season\", \"season\", \"second\", \"second\", \"second\", \"second\", \"second\", \"second\", \"secondari\", \"secondari\", \"secondari\", \"secondari\", \"secondari\", \"secondari\", \"section\", \"section\", \"section\", \"section\", \"section\", \"sector\", \"sector\", \"sector\", \"sector\", \"sector\", \"sector\", \"sector\", \"secur\", \"secur\", \"secur\", \"select\", \"select\", \"select\", \"select\", \"select\", \"sentenc\", \"separ\", \"separ\", \"separ\", \"separ\", \"separ\", \"separ\", \"separ\", \"separ\", \"separ\", \"separ\", \"servic\", \"servic\", \"servic\", \"servic\", \"servic\", \"servic\", \"servic\", \"servic\", \"sever\", \"sever\", \"sever\", \"sever\", \"sever\", \"sever\", \"sever\", \"sever\", \"sever\", \"short\", \"short\", \"short\", \"short\", \"short\", \"short\", \"short\", \"short\", \"short\", \"should\", \"should\", \"should\", \"should\", \"should\", \"should\", \"should\", \"should\", \"should\", \"should\", \"should\", \"should\", \"signific\", \"signific\", \"signific\", \"signific\", \"signific\", \"significantli\", \"significantli\", \"significantli\", \"significantli\", \"similar\", \"similar\", \"similar\", \"similar\", \"similar\", \"similar\", \"simpl\", \"simpl\", \"simpl\", \"simpl\", \"simpl\", \"singl\", \"singl\", \"singl\", \"singl\", \"singl\", \"singl\", \"singl\", \"situat\", \"situat\", \"situat\", \"situat\", \"situat\", \"situat\", \"skill\", \"skill\", \"slovakia\", \"slovenia\", \"slurri\", \"social\", \"social\", \"social\", \"social\", \"social\", \"social\", \"social\", \"softwar\", \"solid\", \"solid\", \"sometim\", \"sometim\", \"sometim\", \"sometim\", \"sometim\", \"sometim\", \"sometim\", \"sometim\", \"sometim\", \"sourc\", \"sourc\", \"sourc\", \"sourc\", \"sourc\", \"sourc\", \"sourc\", \"sourc\", \"sourc\", \"sourc\", \"space\", \"space\", \"spain\", \"speci\", \"speci\", \"specialis\", \"specialis\", \"specialis\", \"spend\", \"spend\", \"spend\", \"spend\", \"spent\", \"spent\", \"spent\", \"spent\", \"spent\", \"spent\", \"spent\", \"spent\", \"stabil\", \"staff\", \"staff\", \"staff\", \"standard\", \"standard\", \"standard\", \"standard\", \"standard\", \"standard\", \"standard\", \"standard\", \"start\", \"start\", \"start\", \"start\", \"start\", \"state\", \"state\", \"state\", \"state\", \"state\", \"state\", \"state\", \"statist\", \"statist\", \"statist\", \"statist\", \"statist\", \"statist\", \"statist\", \"statist\", \"statist\", \"statist\", \"statist\", \"statist\", \"statist\", \"statist\", \"statist\", \"statu\", \"statu\", \"statu\", \"statu\", \"statu\", \"statu\", \"stock\", \"stock\", \"stock\", \"stock\", \"stock\", \"stock\", \"stock\", \"stock\", \"stock\", \"stock\", \"storag\", \"storag\", \"store\", \"store\", \"store\", \"store\", \"strategi\", \"strategi\", \"structur\", \"structur\", \"structur\", \"structur\", \"structur\", \"structur\", \"structur\", \"structur\", \"structur\", \"structur\", \"studi\", \"studi\", \"studi\", \"studi\", \"studi\", \"subdivid\", \"subdivid\", \"subdivid\", \"subdivid\", \"subject\", \"subject\", \"subject\", \"subject\", \"subject\", \"subject\", \"subsequ\", \"subsequ\", \"subsequ\", \"subsequ\", \"subsequ\", \"subsequ\", \"subsidi\", \"subsidi\", \"subsidi\", \"substanc\", \"substanc\", \"suitabl\", \"suitabl\", \"suitabl\", \"suitabl\", \"suitabl\", \"suppli\", \"suppli\", \"suppli\", \"suppli\", \"suppli\", \"suppli\", \"suppli\", \"suppli\", \"support\", \"support\", \"support\", \"support\", \"support\", \"support\", \"support\", \"surfac\", \"surfac\", \"surfac\", \"surplu\", \"surplu\", \"survei\", \"survei\", \"survei\", \"survei\", \"survei\", \"survei\", \"survei\", \"survei\", \"sustain\", \"sustain\", \"sweden\", \"switzerland\", \"system\", \"system\", \"system\", \"system\", \"system\", \"system\", \"system\", \"system\", \"system\", \"system\", \"system\", \"system\", \"system\", \"system\", \"target\", \"target\", \"target\", \"technic\", \"technic\", \"technic\", \"technic\", \"technic\", \"technic\", \"techniqu\", \"techniqu\", \"techniqu\", \"techniqu\", \"technolog\", \"technolog\", \"technolog\", \"temporari\", \"temporari\", \"temporari\", \"temporari\", \"territori\", \"territori\", \"territori\", \"territori\", \"territori\", \"their\", \"their\", \"their\", \"their\", \"their\", \"their\", \"their\", \"their\", \"their\", \"their\", \"their\", \"their\", \"their\", \"their\", \"their\", \"their\", \"their\", \"themselv\", \"themselv\", \"themselv\", \"themselv\", \"themselv\", \"themselv\", \"themselv\", \"those\", \"those\", \"those\", \"those\", \"those\", \"those\", \"those\", \"those\", \"those\", \"those\", \"those\", \"three\", \"three\", \"three\", \"three\", \"three\", \"three\", \"three\", \"three\", \"three\", \"threshold\", \"threshold\", \"threshold\", \"threshold\", \"threshold\", \"through\", \"through\", \"through\", \"through\", \"through\", \"through\", \"through\", \"through\", \"through\", \"through\", \"through\", \"through\", \"total\", \"total\", \"total\", \"total\", \"total\", \"total\", \"total\", \"total\", \"total\", \"total\", \"total\", \"tourism\", \"tourist\", \"tourist\", \"track\", \"track\", \"track\", \"track\", \"track\", \"track\", \"trade\", \"trade\", \"trade\", \"trade\", \"trade\", \"train\", \"train\", \"train\", \"train\", \"transact\", \"transact\", \"transact\", \"transact\", \"transfer\", \"transfer\", \"transfer\", \"transport\", \"transport\", \"transport\", \"transport\", \"transport\", \"transport\", \"transport\", \"transport\", \"travel\", \"travel\", \"travel\", \"travel\", \"travel\", \"treati\", \"treatment\", \"treatment\", \"treatment\", \"treatment\", \"treatment\", \"trend\", \"trend\", \"trend\", \"turnov\", \"turnov\", \"turnov\", \"turnov\", \"turnov\", \"typic\", \"typic\", \"typic\", \"typic\", \"typic\", \"typic\", \"typic\", \"typic\", \"under\", \"under\", \"under\", \"under\", \"under\", \"under\", \"under\", \"under\", \"under\", \"under\", \"under\", \"under\", \"under\", \"undertaken\", \"undertaken\", \"undertaken\", \"undertaken\", \"unemploi\", \"unemploi\", \"unemploy\", \"unemploy\", \"unemploy\", \"union\", \"union\", \"union\", \"union\", \"union\", \"union\", \"union\", \"univers\", \"univers\", \"univers\", \"univers\", \"updat\", \"updat\", \"updat\", \"updat\", \"urban\", \"urban\", \"usual\", \"usual\", \"usual\", \"usual\", \"usual\", \"usual\", \"usual\", \"usual\", \"usual\", \"usual\", \"usual\", \"usual\", \"utilis\", \"variabl\", \"variabl\", \"variabl\", \"variabl\", \"variat\", \"variat\", \"variat\", \"veget\", \"veget\", \"vehicl\", \"vehicl\", \"vehicl\", \"vehicl\", \"volum\", \"volum\", \"volum\", \"volum\", \"volum\", \"voluntari\", \"voluntari\", \"water\", \"water\", \"water\", \"water\", \"water\", \"water\", \"weight\", \"weight\", \"weight\", \"weight\", \"weight\", \"weight\", \"where\", \"where\", \"where\", \"where\", \"where\", \"where\", \"where\", \"where\", \"where\", \"where\", \"where\", \"whether\", \"whether\", \"whether\", \"whether\", \"whether\", \"whether\", \"whether\", \"which\", \"which\", \"which\", \"which\", \"which\", \"which\", \"which\", \"which\", \"which\", \"which\", \"which\", \"which\", \"which\", \"which\", \"which\", \"which\", \"which\", \"which\", \"which\", \"which\", \"within\", \"within\", \"within\", \"within\", \"within\", \"within\", \"within\", \"within\", \"within\", \"within\", \"within\", \"within\", \"within\", \"within\", \"within\", \"within\", \"worker\", \"worker\", \"world\", \"world\", \"world\", \"world\", \"world\", \"world\", \"world\", \"yield\", \"yield\", \"yield\", \"yield\", \"yield\"]}, \"R\": 30, \"lambda.step\": 0.01, \"plot.opts\": {\"xlab\": \"PC1\", \"ylab\": \"PC2\"}, \"topic.order\": [1, 2, 3, 4, 5, 6, 7, 8, 9, 10, 11, 12, 13, 14, 15, 16, 17, 18, 19, 20]};\n",
              "\n",
              "function LDAvis_load_lib(url, callback){\n",
              "  var s = document.createElement('script');\n",
              "  s.src = url;\n",
              "  s.async = true;\n",
              "  s.onreadystatechange = s.onload = callback;\n",
              "  s.onerror = function(){console.warn(\"failed to load library \" + url);};\n",
              "  document.getElementsByTagName(\"head\")[0].appendChild(s);\n",
              "}\n",
              "\n",
              "if(typeof(LDAvis) !== \"undefined\"){\n",
              "   // already loaded: just create the visualization\n",
              "   !function(LDAvis){\n",
              "       new LDAvis(\"#\" + \"ldavis_el8621397596038572324762063235\", ldavis_el8621397596038572324762063235_data);\n",
              "   }(LDAvis);\n",
              "}else if(typeof define === \"function\" && define.amd){\n",
              "   // require.js is available: use it to load d3/LDAvis\n",
              "   require.config({paths: {d3: \"https://d3js.org/d3.v5\"}});\n",
              "   require([\"d3\"], function(d3){\n",
              "      window.d3 = d3;\n",
              "      LDAvis_load_lib(\"https://cdn.jsdelivr.net/gh/bmabey/pyLDAvis@3.3.1/pyLDAvis/js/ldavis.v3.0.0.js\", function(){\n",
              "        new LDAvis(\"#\" + \"ldavis_el8621397596038572324762063235\", ldavis_el8621397596038572324762063235_data);\n",
              "      });\n",
              "    });\n",
              "}else{\n",
              "    // require.js not available: dynamically load d3 & LDAvis\n",
              "    LDAvis_load_lib(\"https://d3js.org/d3.v5.js\", function(){\n",
              "         LDAvis_load_lib(\"https://cdn.jsdelivr.net/gh/bmabey/pyLDAvis@3.3.1/pyLDAvis/js/ldavis.v3.0.0.js\", function(){\n",
              "                 new LDAvis(\"#\" + \"ldavis_el8621397596038572324762063235\", ldavis_el8621397596038572324762063235_data);\n",
              "            })\n",
              "         });\n",
              "}\n",
              "</script>"
            ],
            "text/plain": [
              "PreparedData(topic_coordinates=              x         y  topics  cluster       Freq\n",
              "topic                                                \n",
              "0     -0.156384  0.067791       1        1   8.058178\n",
              "1      0.047857  0.060599       2        1   3.699695\n",
              "2     -0.035398  0.065435       3        1   3.079991\n",
              "3     -0.278806  0.034773       4        1   5.676160\n",
              "4     -0.215611 -0.172112       5        1   4.226892\n",
              "5      0.079503  0.069608       6        1   4.926709\n",
              "6      0.125782  0.097949       7        1   4.807886\n",
              "7     -0.087129  0.100077       8        1   4.012226\n",
              "8     -0.062962 -0.142397       9        1   4.709536\n",
              "9      0.034991  0.025269      10        1   6.996806\n",
              "10     0.140308 -0.012328      11        1   4.546716\n",
              "11     0.109139 -0.157844      12        1   7.221229\n",
              "12    -0.008784  0.081761      13        1   5.416886\n",
              "13     0.117925  0.110972      14        1   5.797034\n",
              "14     0.031848 -0.210580      15        1   4.199134\n",
              "15    -0.167832  0.098969      16        1   2.368477\n",
              "16     0.106449  0.114412      17        1   2.886115\n",
              "17     0.098826 -0.129818      18        1  10.609968\n",
              "18     0.131552 -0.048883      19        1   2.745560\n",
              "19    -0.011274 -0.053651      20        1   4.014804, topic_info=           Term        Freq       Total Category  logprob  loglift\n",
              "135     product  763.000000  763.000000  Default  30.0000  30.0000\n",
              "29    enterpris  308.000000  308.000000  Default  29.0000  29.0000\n",
              "307  agricultur  304.000000  304.000000  Default  28.0000  28.0000\n",
              "0         activ  552.000000  552.000000  Default  27.0000  27.0000\n",
              "30     european  584.000000  584.000000  Default  26.0000  26.0000\n",
              "..          ...         ...         ...      ...      ...      ...\n",
              "31       exampl   16.752763  159.598073  Topic20  -4.8520   0.9611\n",
              "44       includ   19.810317  605.968250  Topic20  -4.6843  -0.2054\n",
              "428      period   16.294960  253.058157  Topic20  -4.8797   0.4724\n",
              "85       servic   16.630869  452.295675  Topic20  -4.8593  -0.0879\n",
              "135     product   16.134937  763.593584  Topic20  -4.8895  -0.6419\n",
              "\n",
              "[950 rows x 6 columns], token_table=      Topic      Freq     Term\n",
              "term                          \n",
              "140       5  0.038989  abbrevi\n",
              "140       6  0.024368  abbrevi\n",
              "140       8  0.053610  abbrevi\n",
              "140       9  0.053610  abbrevi\n",
              "140      10  0.112094  abbrevi\n",
              "...     ...       ...      ...\n",
              "719       3  0.077897    yield\n",
              "719       5  0.116846    yield\n",
              "719      13  0.428436    yield\n",
              "719      14  0.038949    yield\n",
              "719      16  0.311590    yield\n",
              "\n",
              "[3198 rows x 3 columns], R=30, lambda_step=0.01, plot_opts={'xlab': 'PC1', 'ylab': 'PC2'}, topic_order=[1, 2, 3, 4, 5, 6, 7, 8, 9, 10, 11, 12, 13, 14, 15, 16, 17, 18, 19, 20])"
            ]
          },
          "metadata": {},
          "execution_count": 25
        }
      ],
      "source": [
        "#Visualize the topics\n",
        "\n",
        "pyLDAvis.enable_notebook()\n",
        "vis = pyLDAvis.gensim_models.prepare(lda_model, corpus, id2word,sort_topics=False)\n",
        "vis"
      ]
    },
    {
      "cell_type": "markdown",
      "metadata": {
        "id": "NTQbHw-_4Ola"
      },
      "source": [
        "### 12. Interpretation of the topics and topic coherences.\n",
        "***\n",
        "\n",
        "For the interpretation of the topics, we inspect this visualization together:  \n",
        "* with the information on the decomposition of topics into its main keywords (i.e. the same information as in 9. \"The topics as a mix of keywords\"). In each topic, the main keywords are here sorted by descending importance and plots are produced.\n",
        "* with the information on the most representative article for each topic, see 8. \"Most representative document for each topic\"."
      ]
    },
    {
      "cell_type": "code",
      "execution_count": 26,
      "metadata": {
        "id": "oahzAeGU4Ola",
        "outputId": "30cfda8f-7694-462a-d5cb-8e9f818a87b0",
        "colab": {
          "base_uri": "https://localhost:8080/",
          "height": 1000
        }
      },
      "outputs": [
        {
          "output_type": "stream",
          "name": "stdout",
          "text": [
            "\n",
            "Topic id:  1\n",
            "('financi', 0.055696342)\n",
            "('social', 0.053670067)\n",
            "('incom', 0.045304086)\n",
            "('account', 0.042185076)\n",
            "('asset', 0.033335995)\n",
            "('transfer', 0.024136484)\n",
            "('other', 0.023211492)\n",
            "('household', 0.020174565)\n",
            "('contribut', 0.019702656)\n",
            "('current', 0.01828855)\n"
          ]
        },
        {
          "output_type": "display_data",
          "data": {
            "image/png": "[encoded data removed]",
            "text/plain": [
              "<Figure size 432x288 with 1 Axes>"
            ]
          },
          "metadata": {
            "needs_background": "light"
          }
        },
        {
          "output_type": "stream",
          "name": "stdout",
          "text": [
            "\n",
            "Topic id:  2\n",
            "('manur', 0.06720413)\n",
            "('where', 0.027432777)\n",
            "('forecast', 0.025473962)\n",
            "('cover', 0.025407314)\n",
            "('water', 0.023858305)\n",
            "('liquid', 0.022431156)\n",
            "('surfac', 0.021925382)\n",
            "('emiss', 0.021737572)\n",
            "('slurri', 0.018986957)\n",
            "('solid', 0.01883874)\n"
          ]
        },
        {
          "output_type": "display_data",
          "data": {
            "image/png": "[encoded data removed]",
            "text/plain": [
              "<Figure size 432x288 with 1 Axes>"
            ]
          },
          "metadata": {
            "needs_background": "light"
          }
        },
        {
          "output_type": "stream",
          "name": "stdout",
          "text": [
            "\n",
            "Topic id:  3\n",
            "('govern', 0.08801002)\n",
            "('local', 0.033005543)\n",
            "('statist', 0.031143596)\n",
            "('sourc', 0.027893977)\n",
            "('balanc', 0.027695052)\n",
            "('public', 0.02654167)\n",
            "('posit', 0.026346272)\n",
            "('deficit', 0.022922367)\n",
            "('differ', 0.020682566)\n",
            "('extern', 0.016403684)\n"
          ]
        },
        {
          "output_type": "display_data",
          "data": {
            "image/png": "[encoded data removed]",
            "text/plain": [
              "<Figure size 432x288 with 1 Axes>"
            ]
          },
          "metadata": {
            "needs_background": "light"
          }
        },
        {
          "output_type": "stream",
          "name": "stdout",
          "text": [
            "\n",
            "Topic id:  4\n",
            "('product', 0.12226592)\n",
            "('consumpt', 0.047726866)\n",
            "('gross', 0.046400145)\n",
            "('produc', 0.043285962)\n",
            "('output', 0.041738205)\n",
            "('market', 0.028690312)\n",
            "('sector', 0.026900034)\n",
            "('institut', 0.025616864)\n",
            "('servic', 0.025548393)\n",
            "('account', 0.022038028)\n"
          ]
        },
        {
          "output_type": "display_data",
          "data": {
            "image/png": "[encoded data removed]",
            "text/plain": [
              "<Figure size 432x288 with 1 Axes>"
            ]
          },
          "metadata": {
            "needs_background": "light"
          }
        },
        {
          "output_type": "stream",
          "name": "stdout",
          "text": [
            "\n",
            "Topic id:  5\n",
            "('product', 0.07416368)\n",
            "('innov', 0.06263724)\n",
            "('process', 0.050627306)\n",
            "('account', 0.03875312)\n",
            "('environment', 0.036366746)\n",
            "('servic', 0.031238096)\n",
            "('activ', 0.027738163)\n",
            "('improv', 0.027585858)\n",
            "('market', 0.026288755)\n",
            "('manag', 0.024092965)\n"
          ]
        },
        {
          "output_type": "display_data",
          "data": {
            "image/png": "[encoded data removed]",
            "text/plain": [
              "<Figure size 432x288 with 1 Axes>"
            ]
          },
          "metadata": {
            "needs_background": "light"
          }
        },
        {
          "output_type": "stream",
          "name": "stdout",
          "text": [
            "\n",
            "Topic id:  6\n",
            "('labour', 0.07025115)\n",
            "('employ', 0.05887681)\n",
            "('person', 0.057192903)\n",
            "('emploi', 0.037886243)\n",
            "('employe', 0.027240826)\n",
            "('peopl', 0.02632637)\n",
            "('train', 0.02379307)\n",
            "('number', 0.023102285)\n",
            "('worker', 0.021780582)\n",
            "('activ', 0.018371643)\n"
          ]
        },
        {
          "output_type": "display_data",
          "data": {
            "image/png": "[encoded data removed]",
            "text/plain": [
              "<Figure size 432x288 with 1 Axes>"
            ]
          },
          "metadata": {
            "needs_background": "light"
          }
        },
        {
          "output_type": "stream",
          "name": "stdout",
          "text": [
            "\n",
            "Topic id:  7\n",
            "('applic', 0.04976231)\n",
            "('protect', 0.043091096)\n",
            "('person', 0.039499186)\n",
            "('vehicl', 0.032155007)\n",
            "('decis', 0.021524955)\n",
            "('includ', 0.019625502)\n",
            "('direct', 0.016783666)\n",
            "('refer', 0.016321052)\n",
            "('statu', 0.016248519)\n",
            "('grant', 0.01623986)\n"
          ]
        },
        {
          "output_type": "display_data",
          "data": {
            "image/png": "[encoded data removed]",
            "text/plain": [
              "<Figure size 432x288 with 1 Axes>"
            ]
          },
          "metadata": {
            "needs_background": "light"
          }
        },
        {
          "output_type": "stream",
          "name": "stdout",
          "text": [
            "\n",
            "Topic id:  8\n",
            "('materi', 0.060852148)\n",
            "('water', 0.033568565)\n",
            "('which', 0.031415615)\n",
            "('includ', 0.03028)\n",
            "('organ', 0.029121205)\n",
            "('input', 0.028903484)\n",
            "('product', 0.02739996)\n",
            "('weight', 0.023420556)\n",
            "('physic', 0.022136448)\n",
            "('domest', 0.022003323)\n"
          ]
        },
        {
          "output_type": "display_data",
          "data": {
            "image/png": "[encoded data removed]",
            "text/plain": [
              "<Figure size 432x288 with 1 Axes>"
            ]
          },
          "metadata": {
            "needs_background": "light"
          }
        },
        {
          "output_type": "stream",
          "name": "stdout",
          "text": [
            "\n",
            "Topic id:  9\n",
            "('activ', 0.089215316)\n",
            "('servic', 0.041824665)\n",
            "('technolog', 0.03334007)\n",
            "('research', 0.019516714)\n",
            "('trade', 0.018519808)\n",
            "('scienc', 0.018417854)\n",
            "('level', 0.018409831)\n",
            "('knowledg', 0.018113377)\n",
            "('section', 0.01758545)\n",
            "('group', 0.01694009)\n"
          ]
        },
        {
          "output_type": "display_data",
          "data": {
            "image/png": "[encoded data removed]",
            "text/plain": [
              "<Figure size 432x288 with 1 Axes>"
            ]
          },
          "metadata": {
            "needs_background": "light"
          }
        },
        {
          "output_type": "stream",
          "name": "stdout",
          "text": [
            "\n",
            "Topic id:  10\n",
            "('price', 0.057297237)\n",
            "('index', 0.0420792)\n",
            "('servic', 0.037859824)\n",
            "('transport', 0.034324694)\n",
            "('countri', 0.024926051)\n",
            "('indic', 0.022390539)\n",
            "('purchas', 0.018447738)\n",
            "('period', 0.016450504)\n",
            "('other', 0.015147182)\n",
            "('which', 0.015035748)\n"
          ]
        },
        {
          "output_type": "display_data",
          "data": {
            "image/png": "[encoded data removed]",
            "text/plain": [
              "<Figure size 432x288 with 1 Axes>"
            ]
          },
          "metadata": {
            "needs_background": "light"
          }
        },
        {
          "output_type": "stream",
          "name": "stdout",
          "text": [
            "\n",
            "Topic id:  11\n",
            "('region', 0.07260221)\n",
            "('resid', 0.0521623)\n",
            "('countri', 0.0366683)\n",
            "('level', 0.026770294)\n",
            "('popul', 0.02459521)\n",
            "('territori', 0.023861486)\n",
            "('urban', 0.022779636)\n",
            "('border', 0.01983289)\n",
            "('locat', 0.018340176)\n",
            "('geograph', 0.017063875)\n"
          ]
        },
        {
          "output_type": "display_data",
          "data": {
            "image/png": "[encoded data removed]",
            "text/plain": [
              "<Figure size 432x288 with 1 Axes>"
            ]
          },
          "metadata": {
            "needs_background": "light"
          }
        },
        {
          "output_type": "stream",
          "name": "stdout",
          "text": [
            "\n",
            "Topic id:  12\n",
            "('statist', 0.06674537)\n",
            "('survei', 0.036243778)\n",
            "('classif', 0.030828929)\n",
            "('collect', 0.02627463)\n",
            "('inform', 0.0258154)\n",
            "('european', 0.025516808)\n",
            "('regul', 0.02310014)\n",
            "('standard', 0.020454781)\n",
            "('econom', 0.019806044)\n",
            "('level', 0.019765591)\n"
          ]
        },
        {
          "output_type": "display_data",
          "data": {
            "image/png": "[encoded data removed]",
            "text/plain": [
              "<Figure size 432x288 with 1 Axes>"
            ]
          },
          "metadata": {
            "needs_background": "light"
          }
        },
        {
          "output_type": "stream",
          "name": "stdout",
          "text": [
            "\n",
            "Topic id:  13\n",
            "('agricultur', 0.09869292)\n",
            "('product', 0.038445294)\n",
            "('which', 0.030702481)\n",
            "('other', 0.024757426)\n",
            "('plant', 0.024362173)\n",
            "('includ', 0.023575503)\n",
            "('livestock', 0.022962557)\n",
            "('harvest', 0.019832775)\n",
            "('perman', 0.019019684)\n",
            "('manag', 0.017051203)\n"
          ]
        },
        {
          "output_type": "display_data",
          "data": {
            "image/png": "[encoded data removed]",
            "text/plain": [
              "<Figure size 432x288 with 1 Axes>"
            ]
          },
          "metadata": {
            "needs_background": "light"
          }
        },
        {
          "output_type": "stream",
          "name": "stdout",
          "text": [
            "\n",
            "Topic id:  14\n",
            "('popul', 0.052393306)\n",
            "('number', 0.044521965)\n",
            "('household', 0.042277876)\n",
            "('incom', 0.040764082)\n",
            "('period', 0.029822264)\n",
            "('refer', 0.02315115)\n",
            "('total', 0.022066824)\n",
            "('calcul', 0.019515632)\n",
            "('estim', 0.018296119)\n",
            "('averag', 0.0153035205)\n"
          ]
        },
        {
          "output_type": "display_data",
          "data": {
            "image/png": "[encoded data removed]",
            "text/plain": [
              "<Figure size 432x288 with 1 Axes>"
            ]
          },
          "metadata": {
            "needs_background": "light"
          }
        },
        {
          "output_type": "stream",
          "name": "stdout",
          "text": [
            "\n",
            "Topic id:  15\n",
            "('indic', 0.06970274)\n",
            "('health', 0.06480606)\n",
            "('energi', 0.06160874)\n",
            "('econom', 0.056217656)\n",
            "('european', 0.026696753)\n",
            "('develop', 0.025670305)\n",
            "('polici', 0.024607228)\n",
            "('condit', 0.02018133)\n",
            "('electr', 0.018673943)\n",
            "('gener', 0.018406617)\n"
          ]
        },
        {
          "output_type": "display_data",
          "data": {
            "image/png": "[encoded data removed]",
            "text/plain": [
              "<Figure size 432x288 with 1 Axes>"
            ]
          },
          "metadata": {
            "needs_background": "light"
          }
        },
        {
          "output_type": "stream",
          "name": "stdout",
          "text": [
            "\n",
            "Topic id:  16\n",
            "('expenditur', 0.07421835)\n",
            "('invest', 0.06495864)\n",
            "('equival', 0.0455759)\n",
            "('includ', 0.04466404)\n",
            "('direct', 0.02742857)\n",
            "('capit', 0.02703815)\n",
            "('privat', 0.025375366)\n",
            "('gross', 0.024089817)\n",
            "('exclud', 0.01692026)\n",
            "('other', 0.016801333)\n"
          ]
        },
        {
          "output_type": "display_data",
          "data": {
            "image/png": "[encoded data removed]",
            "text/plain": [
              "<Figure size 432x288 with 1 Axes>"
            ]
          },
          "metadata": {
            "needs_background": "light"
          }
        },
        {
          "output_type": "stream",
          "name": "stdout",
          "text": [
            "\n",
            "Topic id:  17\n",
            "('build', 0.04144879)\n",
            "('tourism', 0.03667103)\n",
            "('permit', 0.034182895)\n",
            "('other', 0.0296693)\n",
            "('accommod', 0.028568516)\n",
            "('least', 0.027191449)\n",
            "('resid', 0.02495068)\n",
            "('limit', 0.023872145)\n",
            "('includ', 0.021903155)\n",
            "('which', 0.020542532)\n"
          ]
        },
        {
          "output_type": "display_data",
          "data": {
            "image/png": "[encoded data removed]",
            "text/plain": [
              "<Figure size 432x288 with 1 Axes>"
            ]
          },
          "metadata": {
            "needs_background": "light"
          }
        },
        {
          "output_type": "stream",
          "name": "stdout",
          "text": [
            "\n",
            "Topic id:  18\n",
            "('european', 0.066953234)\n",
            "('state', 0.0603596)\n",
            "('member', 0.05314126)\n",
            "('countri', 0.052093696)\n",
            "('union', 0.036199726)\n",
            "('nation', 0.020275269)\n",
            "('trade', 0.016942285)\n",
            "('which', 0.014517426)\n",
            "('econom', 0.013972219)\n",
            "('intern', 0.01309007)\n"
          ]
        },
        {
          "output_type": "display_data",
          "data": {
            "image/png": "[encoded data removed]",
            "text/plain": [
              "<Figure size 432x288 with 1 Axes>"
            ]
          },
          "metadata": {
            "needs_background": "light"
          }
        },
        {
          "output_type": "stream",
          "name": "stdout",
          "text": [
            "\n",
            "Topic id:  19\n",
            "('death', 0.09839707)\n",
            "('statist', 0.05775566)\n",
            "('index', 0.041857526)\n",
            "('explain', 0.0392412)\n",
            "('eurostat', 0.037447263)\n",
            "('glossari', 0.0371582)\n",
            "('europa', 0.036583032)\n",
            "('retriev', 0.03658301)\n",
            "('oldid', 0.03392487)\n",
            "('construct', 0.0324676)\n"
          ]
        },
        {
          "output_type": "display_data",
          "data": {
            "image/png": "[encoded data removed]",
            "text/plain": [
              "<Figure size 432x288 with 1 Axes>"
            ]
          },
          "metadata": {
            "needs_background": "light"
          }
        },
        {
          "output_type": "stream",
          "name": "stdout",
          "text": [
            "\n",
            "Topic id:  20\n",
            "('enterpris', 0.1411941)\n",
            "('activ', 0.038568623)\n",
            "('legal', 0.024939291)\n",
            "('internet', 0.021963961)\n",
            "('which', 0.02153954)\n",
            "('public', 0.02112378)\n",
            "('calendar', 0.01878961)\n",
            "('statist', 0.016252222)\n",
            "('their', 0.015401964)\n",
            "('refer', 0.014379232)\n"
          ]
        },
        {
          "output_type": "display_data",
          "data": {
            "image/png": "[encoded data removed]",
            "text/plain": [
              "<Figure size 432x288 with 1 Axes>"
            ]
          },
          "metadata": {
            "needs_background": "light"
          }
        }
      ],
      "source": [
        "\n",
        "   \n",
        "for topic_id in range(num_topics):\n",
        "    print('\\nTopic id: ',topic_id+1 )\n",
        "    top_words = [(a,b) for (a,b) in sorted(lda_model.show_topic(topic_id,topn=10),key=lambda x: x[1], reverse=True)]\n",
        "    for t in range(len(top_words)):\n",
        "        print(top_words[t])\n",
        "    y_axis = [t[0] for t in top_words]\n",
        "    x_axis = [t[1] for t in top_words] \n",
        "    \n",
        "    plt.barh(y_axis,x_axis)\n",
        "    plt.gca().invert_yaxis()\n",
        "    plt.title('title name')\n",
        "    plt.ylabel('y axis name')\n",
        "    plt.xlabel('x axis name')\n",
        "    plt.title('Topic id: '+str(topic_id+1))\n",
        "    plt.show()        \n",
        "\n"
      ]
    },
    {
      "cell_type": "markdown",
      "metadata": {
        "id": "qcJq8CHJ4Ola"
      },
      "source": [
        "We end-up with the following interpretations of the 20 topics. Together with the topic names, we also give the coherence scores by topic. We can see that topic 1 \"Social expenditure and households income\" has the highest coherence while topic 3 \"Government accounts and external debt\" has the lowest.   \n"
      ]
    },
    {
      "cell_type": "code",
      "execution_count": 27,
      "metadata": {
        "id": "FzVYilHN4Ola",
        "outputId": "9add2b34-66c6-4f5a-a5f3-3b9722efe5b0",
        "colab": {
          "base_uri": "https://localhost:8080/",
          "height": 642
        }
      },
      "outputs": [
        {
          "output_type": "stream",
          "name": "stdout",
          "text": [
            "Topic  1. Coherence: 0.729425  Social expenditure and households income.  \n",
            "Topic  2. Coherence: 0.517110  Farming, land and water resources.  \n",
            "Topic  3. Coherence: 0.238667  Government accounts and external debt.  \n",
            "Topic  4. Coherence: 0.573301  Production, consumption and gross accounts.  \n",
            "Topic  5. Coherence: 0.451796  Product and process innovation.  \n",
            "Topic  6. Coherence: 0.407004  Persons and employment.  \n",
            "Topic  7. Coherence: 0.543049  Protection applications and asylum grants.  \n",
            "Topic  8. Coherence: 0.354092  Material flows.  \n",
            "Topic  9. Coherence: 0.467932  Science, research and technology.  \n",
            "Topic 10. Coherence: 0.352649  Price indices.  \n",
            "Topic 11. Coherence: 0.303228  Regions, demography and geography.  \n",
            "Topic 12. Coherence: 0.445745  Statistical classifications.  \n",
            "Topic 13. Coherence: 0.484077  Agriculture, farming and production.  \n",
            "Topic 14. Coherence: 0.476922  Population, demography and income.  \n",
            "Topic 15. Coherence: 0.339964  Health.  \n",
            "Topic 16. Coherence: 0.276133  Investments and gross capital formation.  \n",
            "Topic 17. Coherence: 0.241621  Tourism accomodation.  \n",
            "Topic 18. Coherence: 0.594755  Member States and trade.  \n",
            "Topic 19. Coherence: 0.355738  Mortality.  \n",
            "Topic 20. Coherence: 0.245738  Enterprise statistics.  \n"
          ]
        },
        {
          "output_type": "display_data",
          "data": {
            "image/png": "[encoded data removed]",
            "text/plain": [
              "<Figure size 432x288 with 1 Axes>"
            ]
          },
          "metadata": {
            "needs_background": "light"
          }
        }
      ],
      "source": [
        "topic_names = [\n",
        "'Social expenditure and households income',\n",
        "'Farming, land and water resources',\n",
        "'Government accounts and external debt',\n",
        "'Production, consumption and gross accounts',\n",
        "'Product and process innovation',\n",
        "'Persons and employment',   \n",
        "'Protection applications and asylum grants',   \n",
        "'Material flows',\n",
        "'Science, research and technology',\n",
        "'Price indices',\n",
        "'Regions, demography and geography', \n",
        "'Statistical classifications',\n",
        "'Agriculture, farming and production', \n",
        "'Population, demography and income',\n",
        "'Health',\n",
        "'Investments and gross capital formation',\n",
        "'Tourism accomodation',   \n",
        "'Member States and trade', \n",
        "'Mortality',\n",
        "'Enterprise statistics']\n",
        "\n",
        "coh_topics = coherence_model_lda.get_coherence_per_topic(segmented_topics=None,with_std=False, with_support=False)\n",
        "\n",
        "for (i,tn) in enumerate(topic_names):\n",
        "    print('Topic {0:2d}. Coherence: {1:6f}  {2:s}.  '.format(i+1,coh_topics[i],tn))\n",
        "\n",
        "fig, ax = plt.subplots()\n",
        "x=np.arange(num_topics)+1\n",
        "plt.bar(x=x,height=coh_topics)\n",
        "plt.xlabel(\"Topic\")\n",
        "plt.ylabel(\"Coherence\")\n",
        "plt.title(\"Coherence by topic\")\n",
        "ax.set_xticks(x)\n",
        "plt.show()\n",
        "    "
      ]
    },
    {
      "cell_type": "markdown",
      "metadata": {
        "id": "Hu2ZXtXR4Olb"
      },
      "source": [
        "### 13. Outputs.\n",
        "***\n",
        "\n",
        "A first output in dataframe _topics_terms_df_ is for inspection only: a 20 x 732 matrix with the distribution of terms per topic. The row sums of this matrix are ones. "
      ]
    },
    {
      "cell_type": "code",
      "execution_count": 28,
      "metadata": {
        "id": "k9wgblQk4Olb",
        "outputId": "b8e6baa4-afc2-4952-e233-6234f00dea9f",
        "colab": {
          "base_uri": "https://localhost:8080/"
        }
      },
      "outputs": [
        {
          "output_type": "stream",
          "name": "stdout",
          "text": [
            "(20, 731)\n",
            "                                    Topic Name     activ  ...    permit   sentenc\n",
            "0     Social expenditure and households income  0.000189  ...  0.000011  0.000011\n",
            "1            Farming, land and water resources  0.000025  ...  0.000566  0.000025\n",
            "2        Government accounts and external debt  0.000030  ...  0.000030  0.000030\n",
            "3   Production, consumption and gross accounts  0.006964  ...  0.000016  0.000016\n",
            "4               Product and process innovation  0.027738  ...  0.000269  0.000022\n",
            "5                       Persons and employment  0.018372  ...  0.000019  0.000019\n",
            "6    Protection applications and asylum grants  0.000019  ...  0.002428  0.000019\n",
            "7                               Material flows  0.003439  ...  0.000023  0.000023\n",
            "8             Science, research and technology  0.089215  ...  0.000020  0.000020\n",
            "9                                Price indices  0.000128  ...  0.000013  0.000013\n",
            "10           Regions, demography and geography  0.001425  ...  0.000020  0.000020\n",
            "11                 Statistical classifications  0.015475  ...  0.000013  0.000033\n",
            "12         Agriculture, farming and production  0.002476  ...  0.000017  0.000017\n",
            "13           Population, demography and income  0.000016  ...  0.000016  0.000016\n",
            "14                                      Health  0.008152  ...  0.000022  0.000022\n",
            "15     Investments and gross capital formation  0.003259  ...  0.000039  0.000039\n",
            "16                        Tourism accomodation  0.007289  ...  0.034183  0.000032\n",
            "17                     Member States and trade  0.000009  ...  0.000009  0.000009\n",
            "18                                   Mortality  0.000034  ...  0.000033  0.009285\n",
            "19                       Enterprise statistics  0.038569  ...  0.000023  0.000023\n",
            "\n",
            "[20 rows x 732 columns]\n"
          ]
        }
      ],
      "source": [
        "\n",
        "topics_terms_mat = lda_model.get_topics()\n",
        "print(topics_terms_mat.shape)\n",
        "topics_terms_df = pd.DataFrame()\n",
        "for topic_id in range(num_topics):\n",
        "    topics_terms_df = topics_terms_df.append(pd.Series(topics_terms_mat[topic_id,:].transpose()), ignore_index=True)           \n",
        "topics_terms_df.rename(columns=id2word, inplace=True)\n",
        "topics_terms_df.insert(0,'Topic Name',topic_names)\n",
        "print(topics_terms_df)\n",
        "topics_terms_df.to_csv('topics_terms_df.write_csv',sep=';')"
      ]
    },
    {
      "cell_type": "code",
      "execution_count": 29,
      "metadata": {
        "id": "loTKy--G4Olb",
        "outputId": "264347f6-0f4b-4a1f-e849-e4f3fadc6ff8",
        "colab": {
          "base_uri": "https://localhost:8080/"
        }
      },
      "outputs": [
        {
          "output_type": "execute_result",
          "data": {
            "text/plain": [
              "array([0.99999994, 1.        , 0.99999994, 1.        , 0.99999994,\n",
              "       0.99999994, 1.        , 0.99999994, 1.        , 1.        ,\n",
              "       1.        , 1.        , 0.99999994, 1.0000001 , 0.99999994,\n",
              "       1.        , 1.        , 1.        , 0.99999994, 0.99999994],\n",
              "      dtype=float32)"
            ]
          },
          "metadata": {},
          "execution_count": 29
        }
      ],
      "source": [
        "import numpy as np\n",
        "np.sum(lda_model.get_topics(),axis=1)"
      ]
    },
    {
      "cell_type": "markdown",
      "metadata": {
        "id": "JgUjAdKP4Olb"
      },
      "source": [
        "The next output is for **insertion into the database**. It is the previous matrix in (row,column,value) format, in dataframe _tm_values_, exported to file **_tm_values.csv_** (delimiter=semicolon). All indices are zero-based."
      ]
    },
    {
      "cell_type": "code",
      "execution_count": 30,
      "metadata": {
        "scrolled": true,
        "id": "vhDQTWxn4Olb",
        "outputId": "431e7741-afb1-46b3-e471-afe0f278c6b7",
        "colab": {
          "base_uri": "https://localhost:8080/"
        }
      },
      "outputs": [
        {
          "output_type": "stream",
          "name": "stdout",
          "text": [
            "      Topic id Term id Probability\n",
            "0            0       0  0.00018919\n",
            "1            0       1  0.00001150\n",
            "2            0       2  0.00001150\n",
            "3            0       3  0.00001206\n",
            "4            0       4  0.00001150\n",
            "...        ...     ...         ...\n",
            "14615       19     726  0.00002292\n",
            "14616       19     727  0.00002292\n",
            "14617       19     728  0.00002292\n",
            "14618       19     729  0.00002292\n",
            "14619       19     730  0.00002292\n",
            "\n",
            "[14620 rows x 3 columns]\n"
          ]
        }
      ],
      "source": [
        "pd.options.display.float_format = '{:.8f}'.format\n",
        "tm_values = pd.DataFrame(columns=['Topic id','Term id','Probability'])\n",
        "count = -1\n",
        "for i in range(topics_terms_mat.shape[0]):\n",
        "    for j in range(topics_terms_mat.shape[1]):\n",
        "        count += 1\n",
        "        tm_values.loc[count,'Topic id']=i\n",
        "        tm_values.loc[count,'Term id']=j\n",
        "        tm_values.loc[count,'Probability']=topics_terms_mat[i,j]\n",
        "\n",
        "print(tm_values)\n",
        "#pd.options.display.float_format = None\n",
        "tm_values.to_csv('tm_values.csv',sep=';',index=False)"
      ]
    },
    {
      "cell_type": "markdown",
      "metadata": {
        "id": "ChgXbRk74Olc"
      },
      "source": [
        "Dataframe _tm_topics_, exported into file **_tm_topics.csv_** (delimiter=semicolon) links the _tm_values_ with the topics information, with the zero-based _Topic id_ key. "
      ]
    },
    {
      "cell_type": "code",
      "execution_count": 31,
      "metadata": {
        "id": "QzpWb0iE4Olc",
        "outputId": "c51ebb50-eca6-457e-c43b-2d7cb3281e90",
        "colab": {
          "base_uri": "https://localhost:8080/"
        }
      },
      "outputs": [
        {
          "output_type": "stream",
          "name": "stdout",
          "text": [
            "    Topic id  ...                                  Topic name\n",
            "0          0  ...    Social expenditure and households income\n",
            "1          1  ...           Farming, land and water resources\n",
            "2          2  ...       Government accounts and external debt\n",
            "3          3  ...  Production, consumption and gross accounts\n",
            "4          4  ...              Product and process innovation\n",
            "5          5  ...                      Persons and employment\n",
            "6          6  ...   Protection applications and asylum grants\n",
            "7          7  ...                              Material flows\n",
            "8          8  ...            Science, research and technology\n",
            "9          9  ...                               Price indices\n",
            "10        10  ...           Regions, demography and geography\n",
            "11        11  ...                 Statistical classifications\n",
            "12        12  ...         Agriculture, farming and production\n",
            "13        13  ...           Population, demography and income\n",
            "14        14  ...                                      Health\n",
            "15        15  ...     Investments and gross capital formation\n",
            "16        16  ...                        Tourism accomodation\n",
            "17        17  ...                     Member States and trade\n",
            "18        18  ...                                   Mortality\n",
            "19        19  ...                       Enterprise statistics\n",
            "\n",
            "[20 rows x 3 columns]\n"
          ]
        }
      ],
      "source": [
        "tm_topics = sent_topics_sorteddf_mallet.copy()\n",
        "tm_topics.rename(columns={'Topic_Num':'Topic id'},inplace=True)\n",
        "tm_topics.drop(columns=['Topic_Perc_Contrib','Text id','Text title'],inplace=True)\n",
        "tm_topics = pd.concat([tm_topics, pd.Series(topic_names)],ignore_index=True,axis=1)\n",
        "tm_topics.columns = ['Topic id', 'Topic keywords', 'Topic name']\n",
        "print(tm_topics)\n",
        "tm_topics.to_csv('tm_topics.csv',sep=';',index=False)"
      ]
    },
    {
      "cell_type": "markdown",
      "metadata": {
        "id": "L646sPZb4Olc"
      },
      "source": [
        "Similarly, dataframe _tm_terms_, exported into file **_tm_terms.csv_** (delimiter=semicolon) which links the _tm_values_ with the terms information, with the zero-based _Term id_ key. "
      ]
    },
    {
      "cell_type": "code",
      "execution_count": 32,
      "metadata": {
        "id": "b5NjZL824Old",
        "outputId": "59eb3161-8baf-49e9-e3a3-ce2901239352",
        "colab": {
          "base_uri": "https://localhost:8080/"
        }
      },
      "outputs": [
        {
          "output_type": "stream",
          "name": "stdout",
          "text": [
            "     Term id      Term name\n",
            "0          0          activ\n",
            "1          1      administr\n",
            "2          2       although\n",
            "3          3          anoth\n",
            "4          4          arriv\n",
            "..       ...            ...\n",
            "726      726        passeng\n",
            "727      727        freight\n",
            "728      728  significantli\n",
            "729      729         permit\n",
            "730      730        sentenc\n",
            "\n",
            "[731 rows x 2 columns]\n"
          ]
        }
      ],
      "source": [
        "tm_terms = pd.DataFrame([id2word[t_id] for t_id in id2word],columns=['Term name'])\n",
        "tm_terms.insert(0,value=range(len(id2word)),column='Term id') \n",
        "print(tm_terms)\n",
        "tm_terms.to_csv('tm_terms.csv',sep=';',index=False)"
      ]
    },
    {
      "cell_type": "code",
      "execution_count": 32,
      "metadata": {
        "id": "U0sckArP4Old"
      },
      "outputs": [],
      "source": [
        ""
      ]
    }
  ],
  "metadata": {
    "kernelspec": {
      "display_name": "Python 3 (ipykernel)",
      "language": "python",
      "name": "python3"
    },
    "language_info": {
      "codemirror_mode": {
        "name": "ipython",
        "version": 3
      },
      "file_extension": ".py",
      "mimetype": "text/x-python",
      "name": "python",
      "nbconvert_exporter": "python",
      "pygments_lexer": "ipython3",
      "version": "3.9.7"
    },
    "colab": {
      "name": "GC_Topic Modelling with Gensim_v6c_rev_Jan2022.ipynb",
      "provenance": [],
      "collapsed_sections": []
    }
  },
  "nbformat": 4,
  "nbformat_minor": 0
}
