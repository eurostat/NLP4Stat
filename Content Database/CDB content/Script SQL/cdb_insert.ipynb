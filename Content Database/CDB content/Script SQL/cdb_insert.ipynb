{
 "cells": [
  {
   "cell_type": "code",
   "execution_count": null,
   "metadata": {},
   "outputs": [],
   "source": [
    "import pandas as pd\n",
    "import os \n",
    "import re\n",
    "import logging\n",
    "import sys\n",
    "import pyodbc\n",
    "import hashlib\n",
    "import time"
   ]
  },
  {
   "cell_type": "code",
   "execution_count": null,
   "metadata": {},
   "outputs": [],
   "source": [
    "def connect_db(DSN, DBA, UID, PWD):\n",
    "    \n",
    "    connection = pyodbc.connect('DSN={};DBA={};UID={};PWD={}'.format(DSN, DBA, UID, PWD))\n",
    "    cursor = connection.cursor()\n",
    "    \n",
    "    return connection,cursor"
   ]
  },
  {
   "cell_type": "code",
   "execution_count": null,
   "metadata": {},
   "outputs": [],
   "source": [
    "connection, cursor = connect_db('Virtuoso All', 'ESTAT', 'dba', '30gFcpQzj7sPtRu5bkes')\n"
   ]
  },
  {
   "cell_type": "code",
   "execution_count": null,
   "metadata": {},
   "outputs": [],
   "source": [
    "# Change the name of the file to fit your needs\n",
    "file = open(os.getcwd()+'\\\\Estat13k\\\\estat13k_glossary_data.sql', 'r', encoding='utf8')\n",
    "#file = open(os.getcwd()+'\\\\Dictionnary and datasets\\\\estat_dataset_data_batch1.sql', 'r', encoding='utf8')\n",
    "#file = open(os.getcwd()+'\\\\Dictionnary and datasets\\\\estat_dataset_data_batch2.sql', 'r', encoding='utf8')\n",
    "#file = open(os.getcwd()+'\\\\Dictionnary and datasets\\\\estat_dataset_data_batch3.sql', 'r', encoding='utf8')\n",
    "#file = open(os.getcwd()+'\\\\Dictionnary and datasets\\\\estat_dataset_data_batch4.sql', 'r', encoding='utf8')\n",
    "#file = open(os.getcwd()+'\\\\Dictionnary and datasets\\\\estat_dataset_data_batch5.sql', 'r', encoding='utf8')\n",
    "sqlFile = file.read()\n",
    "file.close()"
   ]
  },
  {
   "cell_type": "code",
   "execution_count": null,
   "metadata": {},
   "outputs": [],
   "source": [
    "sqlCommands = sqlFile.split('INSERT INTO')\n",
    "sqlCommands.pop(0)"
   ]
  },
  {
   "cell_type": "code",
   "execution_count": null,
   "metadata": {},
   "outputs": [],
   "source": [
    "sqlCommands"
   ]
  },
  {
   "cell_type": "code",
   "execution_count": null,
   "metadata": {},
   "outputs": [],
   "source": [
    "for i,command in enumerate (sqlCommands):\n",
    "    command = command.replace('\\n','').replace(';','')\n",
    "    try:\n",
    "        cursor.execute('INSERT INTO' + command)\n",
    "        connection.commit()\n",
    "    except:\n",
    "        print(i)\n"
   ]
  },
  {
   "cell_type": "code",
   "execution_count": null,
   "metadata": {},
   "outputs": [],
   "source": []
  }
 ],
 "metadata": {
  "kernelspec": {
   "display_name": "Python 3",
   "language": "python",
   "name": "python3"
  },
  "language_info": {
   "codemirror_mode": {
    "name": "ipython",
    "version": 3
   },
   "file_extension": ".py",
   "mimetype": "text/x-python",
   "name": "python",
   "nbconvert_exporter": "python",
   "pygments_lexer": "ipython3",
   "version": "3.8.3"
  }
 },
 "nbformat": 4,
 "nbformat_minor": 2
}
