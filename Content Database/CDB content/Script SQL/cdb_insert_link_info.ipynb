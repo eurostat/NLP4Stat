{
 "cells": [
  {
   "cell_type": "code",
   "execution_count": 1,
   "metadata": {},
   "outputs": [],
   "source": [
    "import pandas as pd\n",
    "import os \n",
    "import re\n",
    "import logging\n",
    "import sys\n",
    "import pyodbc\n",
    "import hashlib\n",
    "import time"
   ]
  },
  {
   "cell_type": "code",
   "execution_count": null,
   "metadata": {},
   "outputs": [],
   "source": [
    "def connect_db(DSN, DBA, UID, PWD):\n",
    "    \n",
    "    connection = pyodbc.connect('DSN={};DBA={};UID={};PWD={}'.format(DSN, DBA, UID, PWD))\n",
    "    cursor = connection.cursor()\n",
    "    \n",
    "    return connection,cursor"
   ]
  },
  {
   "cell_type": "code",
   "execution_count": null,
   "metadata": {},
   "outputs": [],
   "source": [
    "connection, cursor = connect_db('Virtuoso All', 'ESTAT', 'dba', '30gFcpQzj7sPtRu5bkes')\n"
   ]
  },
  {
   "cell_type": "code",
   "execution_count": 19,
   "metadata": {},
   "outputs": [],
   "source": [
    "ex_data = pd.read_excel('test.xlsx')\n",
    "url_list = ex_data['url'].values.tolist()\n",
    "title_list = ex_data['title'].values.tolist()\n",
    "#adding a column link_id to the dataframe\n",
    "ex_data['link_id'] = \"\""
   ]
  },
  {
   "cell_type": "code",
   "execution_count": 20,
   "metadata": {},
   "outputs": [
    {
     "name": "stdout",
     "output_type": "stream",
     "text": [
      "[0, 1, 2, 3, 4, 5, 6]\n"
     ]
    }
   ],
   "source": [
    "for i,url in enumerate (url_list):\n",
    "    cursor.execute('SELECT id FROM dat_link_info WHERE url = ?' , url)\n",
    "    c.commit()\n",
    "    row = cursor.fetchone()\n",
    "    # if it does not exist --> insertion into the database\n",
    "    if row is None:\n",
    "        #check if the title is null\n",
    "        if pd.isna(title_list[i]) == False:\n",
    "            cursor.execute('INSERT INTO dat_link_info(title, url) VALUES (?, ?)', title_list[i], url)\n",
    "            c.commit()\n",
    "        else:\n",
    "            cursor.execute('INSERT INTO dat_link_info(title, url) VALUES (?, ?)', url, url)\n",
    "            c.commit()\n",
    "        # get id\n",
    "        cursor.execute('SELECT id FROM dat_link_info WHERE url = ?', url)\n",
    "        c.commit()\n",
    "        row = cursor.fetchone()\n",
    "        ex_data['link_id'][i] = row.id\n",
    "    # else get the id stored in the database\n",
    "    else:\n",
    "        ex_data['link_id'][i] = row.id"
   ]
  },
  {
   "cell_type": "code",
   "execution_count": null,
   "metadata": {},
   "outputs": [],
   "source": [
    "# writing results in another file\n",
    "ex_data.to_excel('test_result.xlsx')"
   ]
  },
  {
   "cell_type": "code",
   "execution_count": null,
   "metadata": {},
   "outputs": [],
   "source": []
  }
 ],
 "metadata": {
  "kernelspec": {
   "display_name": "Python 3",
   "language": "python",
   "name": "python3"
  },
  "language_info": {
   "codemirror_mode": {
    "name": "ipython",
    "version": 3
   },
   "file_extension": ".py",
   "mimetype": "text/x-python",
   "name": "python",
   "nbconvert_exporter": "python",
   "pygments_lexer": "ipython3",
   "version": "3.8.3"
  }
 },
 "nbformat": 4,
 "nbformat_minor": 2
}
