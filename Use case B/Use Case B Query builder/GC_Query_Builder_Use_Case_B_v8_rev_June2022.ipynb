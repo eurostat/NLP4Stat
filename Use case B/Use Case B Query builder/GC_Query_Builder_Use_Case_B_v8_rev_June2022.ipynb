{
  "cells": [
    {
      "cell_type": "markdown",
      "metadata": {
        "id": "SMCoXKxlKwVa"
      },
      "source": [
        "# Use Case B - Query builder \n",
        "***\n",
        "\n",
        "### Revised (January 2022) to read all data from the database\n",
        "\n",
        "### Adjusted (June 2022) to read all inputs from the Knowledge Database\n",
        "\n",
        "### Using 2-grams, 3-grams, 4-grams with content from the SE Glossary articles, the Statistics Explained articles and OECD's Glossary of Statistical Terms: https://stats.oecd.org/glossary/¶\n",
        "\n",
        "### Installations instructions\n",
        "\n",
        "This is a Google Colab notebook. You must have a Google account. \n",
        "\n",
        "Launch the notebook and put your own credentials in the chunk with title \"Connect to the Virtuoso database\"     \n"
      ]
    },
    {
      "cell_type": "markdown",
      "source": [
        "### Installations"
      ],
      "metadata": {
        "id": "yEIWNwi3RL0S"
      }
    },
    {
      "cell_type": "code",
      "source": [
        "!pip install SPARQLWrapper\n",
        "!pip install sparql_dataframe"
      ],
      "metadata": {
        "colab": {
          "base_uri": "https://localhost:8080/"
        },
        "id": "4T_uKP8BRSF4",
        "outputId": "f1d5ed8b-c247-4e0f-f1f8-d33d6bb14ba5"
      },
      "execution_count": 1,
      "outputs": [
        {
          "output_type": "stream",
          "name": "stdout",
          "text": [
            "Looking in indexes: https://pypi.org/simple, https://us-python.pkg.dev/colab-wheels/public/simple/\n",
            "Requirement already satisfied: SPARQLWrapper in /usr/local/lib/python3.7/dist-packages (2.0.0)\n",
            "Requirement already satisfied: rdflib>=6.1.1 in /usr/local/lib/python3.7/dist-packages (from SPARQLWrapper) (6.1.1)\n",
            "Requirement already satisfied: importlib-metadata in /usr/local/lib/python3.7/dist-packages (from rdflib>=6.1.1->SPARQLWrapper) (4.11.4)\n",
            "Requirement already satisfied: setuptools in /usr/local/lib/python3.7/dist-packages (from rdflib>=6.1.1->SPARQLWrapper) (57.4.0)\n",
            "Requirement already satisfied: pyparsing in /usr/local/lib/python3.7/dist-packages (from rdflib>=6.1.1->SPARQLWrapper) (3.0.9)\n",
            "Requirement already satisfied: isodate in /usr/local/lib/python3.7/dist-packages (from rdflib>=6.1.1->SPARQLWrapper) (0.6.1)\n",
            "Requirement already satisfied: zipp>=0.5 in /usr/local/lib/python3.7/dist-packages (from importlib-metadata->rdflib>=6.1.1->SPARQLWrapper) (3.8.0)\n",
            "Requirement already satisfied: typing-extensions>=3.6.4 in /usr/local/lib/python3.7/dist-packages (from importlib-metadata->rdflib>=6.1.1->SPARQLWrapper) (4.2.0)\n",
            "Requirement already satisfied: six in /usr/local/lib/python3.7/dist-packages (from isodate->rdflib>=6.1.1->SPARQLWrapper) (1.15.0)\n",
            "Looking in indexes: https://pypi.org/simple, https://us-python.pkg.dev/colab-wheels/public/simple/\n",
            "Requirement already satisfied: sparql_dataframe in /usr/local/lib/python3.7/dist-packages (0.4)\n",
            "Requirement already satisfied: SPARQLWrapper>=1.8.1 in /usr/local/lib/python3.7/dist-packages (from sparql_dataframe) (2.0.0)\n",
            "Requirement already satisfied: pandas>=0.22.0 in /usr/local/lib/python3.7/dist-packages (from sparql_dataframe) (1.3.5)\n",
            "Requirement already satisfied: pytz>=2017.3 in /usr/local/lib/python3.7/dist-packages (from pandas>=0.22.0->sparql_dataframe) (2022.1)\n",
            "Requirement already satisfied: numpy>=1.17.3 in /usr/local/lib/python3.7/dist-packages (from pandas>=0.22.0->sparql_dataframe) (1.21.6)\n",
            "Requirement already satisfied: python-dateutil>=2.7.3 in /usr/local/lib/python3.7/dist-packages (from pandas>=0.22.0->sparql_dataframe) (2.8.2)\n",
            "Requirement already satisfied: six>=1.5 in /usr/local/lib/python3.7/dist-packages (from python-dateutil>=2.7.3->pandas>=0.22.0->sparql_dataframe) (1.15.0)\n",
            "Requirement already satisfied: rdflib>=6.1.1 in /usr/local/lib/python3.7/dist-packages (from SPARQLWrapper>=1.8.1->sparql_dataframe) (6.1.1)\n",
            "Requirement already satisfied: importlib-metadata in /usr/local/lib/python3.7/dist-packages (from rdflib>=6.1.1->SPARQLWrapper>=1.8.1->sparql_dataframe) (4.11.4)\n",
            "Requirement already satisfied: pyparsing in /usr/local/lib/python3.7/dist-packages (from rdflib>=6.1.1->SPARQLWrapper>=1.8.1->sparql_dataframe) (3.0.9)\n",
            "Requirement already satisfied: isodate in /usr/local/lib/python3.7/dist-packages (from rdflib>=6.1.1->SPARQLWrapper>=1.8.1->sparql_dataframe) (0.6.1)\n",
            "Requirement already satisfied: setuptools in /usr/local/lib/python3.7/dist-packages (from rdflib>=6.1.1->SPARQLWrapper>=1.8.1->sparql_dataframe) (57.4.0)\n",
            "Requirement already satisfied: zipp>=0.5 in /usr/local/lib/python3.7/dist-packages (from importlib-metadata->rdflib>=6.1.1->SPARQLWrapper>=1.8.1->sparql_dataframe) (3.8.0)\n",
            "Requirement already satisfied: typing-extensions>=3.6.4 in /usr/local/lib/python3.7/dist-packages (from importlib-metadata->rdflib>=6.1.1->SPARQLWrapper>=1.8.1->sparql_dataframe) (4.2.0)\n"
          ]
        }
      ]
    },
    {
      "cell_type": "code",
      "source": [
        "!pip install nltk==3.4 ## needs latest version"
      ],
      "metadata": {
        "colab": {
          "base_uri": "https://localhost:8080/"
        },
        "id": "HM9G-prLlnia",
        "outputId": "d4b7ba99-143a-4fa0-e19b-4767047b5766"
      },
      "execution_count": 2,
      "outputs": [
        {
          "output_type": "stream",
          "name": "stdout",
          "text": [
            "Looking in indexes: https://pypi.org/simple, https://us-python.pkg.dev/colab-wheels/public/simple/\n",
            "Requirement already satisfied: nltk==3.4 in /usr/local/lib/python3.7/dist-packages (3.4)\n",
            "Requirement already satisfied: singledispatch in /usr/local/lib/python3.7/dist-packages (from nltk==3.4) (3.7.0)\n",
            "Requirement already satisfied: six in /usr/local/lib/python3.7/dist-packages (from nltk==3.4) (1.15.0)\n"
          ]
        }
      ]
    },
    {
      "cell_type": "code",
      "source": [
        "!apt-get install virtuoso-opensource"
      ],
      "metadata": {
        "colab": {
          "base_uri": "https://localhost:8080/"
        },
        "id": "bbigAWbZLVC5",
        "outputId": "1dd19aff-5b54-40e7-ee55-7d7007c120ce"
      },
      "execution_count": 3,
      "outputs": [
        {
          "output_type": "stream",
          "name": "stdout",
          "text": [
            "Reading package lists... Done\n",
            "Building dependency tree       \n",
            "Reading state information... Done\n",
            "virtuoso-opensource is already the newest version (6.1.6+repack-0ubuntu9).\n",
            "The following package was automatically installed and is no longer required:\n",
            "  libnvidia-common-460\n",
            "Use 'apt autoremove' to remove it.\n",
            "0 upgraded, 0 newly installed, 0 to remove and 45 not upgraded.\n"
          ]
        }
      ]
    },
    {
      "cell_type": "markdown",
      "source": [
        "### Imports and settings"
      ],
      "metadata": {
        "id": "N_A4kprWRb7c"
      }
    },
    {
      "cell_type": "code",
      "execution_count": 4,
      "metadata": {
        "scrolled": true,
        "id": "HVzUZ8kTKwVd"
      },
      "outputs": [],
      "source": [
        "import pandas as pd\n",
        "import numpy as np\n",
        "\n",
        "import re\n",
        "import unicodedata as ud\n",
        "\n",
        "from SPARQLWrapper import SPARQLWrapper, POST, DIGEST, GET\n",
        "from SPARQLWrapper import JSON, INSERT, DELETE\n",
        "import sparql_dataframe\n",
        "\n",
        "import gensim\n",
        "\n",
        "pd.set_option('display.max_colwidth', 40)\n",
        "\n",
        "from IPython.core.interactiveshell import InteractiveShell\n",
        "InteractiveShell.ast_node_interactivity = \"all\"\n"
      ]
    },
    {
      "cell_type": "markdown",
      "metadata": {
        "id": "71Qzf4q5KwVf"
      },
      "source": [
        "### Connect to the Virtuoso database"
      ]
    },
    {
      "cell_type": "code",
      "source": [
        "user = 'xxxxx'\n",
        "passw = 'xxxxx'"
      ],
      "metadata": {
        "id": "o4OicZbpRqV1"
      },
      "execution_count": 5,
      "outputs": []
    },
    {
      "cell_type": "code",
      "source": [
        "def connect_virtuoso(DSN, UID, PWD):\n",
        "\n",
        "    sparql = SPARQLWrapper(DSN)\n",
        "    sparql.setHTTPAuth(DIGEST)\n",
        "    sparql.setCredentials(UID, PWD)\n",
        "    sparql.setMethod(GET)\n",
        "\n",
        "    return sparql\n",
        "\n",
        "# Connection to the KDB \n",
        "endpoint = \"http://lod.csd.auth.gr:8890/sparql/\"\n",
        "sparql = connect_virtuoso(endpoint,user,passw)"
      ],
      "metadata": {
        "id": "ZXs0swq-RvzT"
      },
      "execution_count": 6,
      "outputs": []
    },
    {
      "cell_type": "markdown",
      "source": [
        "###The data cleansing function"
      ],
      "metadata": {
        "id": "QOKheftKSJvI"
      }
    },
    {
      "cell_type": "code",
      "source": [
        "\n",
        "def clean(x, quotes=True):\n",
        "    if pd.isnull(x): return x  \n",
        "    x = x.strip()\n",
        "    \n",
        "    ## make letter-question mark-letter -> letter-quote-space-letter !!! but NOT in the lists of URLs!!!\n",
        "    if quotes:\n",
        "        x = re.sub(r'([A-Za-z])\\?([A-Za-z])','\\\\1\\' \\\\2',x) \n",
        "    \n",
        "    ## make letter-question mark-space lower case letter letter-quote-space letter\n",
        "    x = re.sub(r'([A-Za-z])\\? ([a-z])','\\\\1\\' \\\\2',x) \n",
        "\n",
        "    ## delete ,000 commas in numbers    \n",
        "    x = re.sub(r'\\b(\\d+),(\\d+)\\b','\\\\1\\\\2',x) ## CORRECTED\n",
        "    \n",
        "    ## delete  000 spaces in numbers\n",
        "    x = re.sub(r'\\b(\\d+) (\\d+)\\b','\\\\1\\\\2',x) ## CORRECTED\n",
        "    \n",
        "    ## remove more than one spaces\n",
        "    x = re.sub(r' +', ' ',x)\n",
        "    \n",
        "    ## remove start and end spaces\n",
        "    x = re.sub(r'^ +| +$', '',x,flags=re.MULTILINE) \n",
        "    \n",
        "    ## space-comma -> comma\n",
        "    x = re.sub(r' \\,',',',x)\n",
        "    \n",
        "    ## space-dot -> dot\n",
        "    x = re.sub(r' \\.','.',x)\n",
        "    \n",
        "    #x = x.encode('latin1').decode('utf-8') ## â\\x80\\x99\n",
        "    x = ud.normalize('NFKD',x).encode('ascii', 'ignore').decode()\n",
        "    \n",
        "    return x"
      ],
      "metadata": {
        "id": "57OhGwQjSQkU"
      },
      "execution_count": 7,
      "outputs": []
    },
    {
      "cell_type": "markdown",
      "source": [
        "### Glossary articles  \n",
        "\n",
        "* Titles, URLs and definitions.\n",
        "* Exclude some redirections.\n",
        "* Exclude one invalid URL from a remnant empty page."
      ],
      "metadata": {
        "id": "waLuflSOSbOq"
      }
    },
    {
      "cell_type": "markdown",
      "source": [
        "### The SPARQL query"
      ],
      "metadata": {
        "id": "qUMu4aauSgkW"
      }
    },
    {
      "cell_type": "code",
      "source": [
        "RelationsStatements = \"\"\"\n",
        "DEFINE input:inference <https://ec.europa.eu/eurostat/NLP4StatRef/knowledge/>\n",
        "PREFIX estat: <https://ec.europa.eu/eurostat/NLP4StatRef/ontology/>\n",
        "PREFIX estatdata: <https://ec.europa.eu/eurostat/NLP4StatRef/knowledge/>\n",
        "select ?a ?title ?url ?content where {\n",
        "    ?a a estat:GlossaryArticle .\n",
        "    ?a estat:title ?title .\n",
        "    ?a estat:hasURL ?url.\n",
        "    ?a estat:content ?content .\n",
        "    filter(!regex(?content, \"^(The revision|Redirect to)\")) \n",
        "    filter( regex(?url, \"Glossary:\")) \n",
        "} \n",
        "\"\"\"\n",
        "## estat:GlossaryArticle OR StatisticsExplainedArticle\n",
        "  \n",
        "sparql.setQuery(RelationsStatements)\n",
        "sparql.method = \"POST\"\n",
        "sparql.setReturnFormat(JSON)\n",
        "GL_df = sparql.query().convert()['results']['bindings']\n",
        "GL_df = pd.json_normalize(GL_df)\n",
        "print(GL_df.columns)\n"
      ],
      "metadata": {
        "colab": {
          "base_uri": "https://localhost:8080/"
        },
        "id": "jv8jyPjvSc-2",
        "outputId": "d92dfaaf-4609-4091-9a88-985dbf038a22"
      },
      "execution_count": 8,
      "outputs": [
        {
          "output_type": "stream",
          "name": "stdout",
          "text": [
            "Index(['a.type', 'a.value', 'title.type', 'title.value', 'url.type',\n",
            "       'url.datatype', 'url.value', 'content.type', 'content.value'],\n",
            "      dtype='object')\n"
          ]
        }
      ]
    },
    {
      "cell_type": "markdown",
      "source": [
        "### Processing and cleansing"
      ],
      "metadata": {
        "id": "ZlO-tVBpSq4I"
      }
    },
    {
      "cell_type": "code",
      "source": [
        "GL_df.rename(columns={'title.value':'title','url.value':'url','content.value':'definition'},inplace=True)\n",
        "GL_df['id'] = range(len(GL_df))\n",
        "GL_df = GL_df[['id','title','url','definition']]\n",
        "\n",
        "GL_df= GL_df.replace('', np.nan) ## Check for anything empty\n",
        "print(GL_df.isnull().sum())\n",
        "\n",
        "## Check for duplicates\n",
        "idx = GL_df[GL_df.duplicated(subset=['title','definition'], keep=False)].sort_values(by=['title','definition']).index\n",
        "print(idx)\n",
        "\n",
        "GL_df['title'] = GL_df['title'].apply(clean)\n",
        "GL_df['title'] = GL_df['title'].apply(lambda x: re.sub(r'\\?','-',x)) ## also replace question marks by dashes\n",
        "GL_df['definition'] = GL_df['definition'].apply(clean)\n",
        "GL_df['url'] = GL_df['url'].apply(clean,quotes=False)  \n",
        "GL_df['url'] = GL_df['url'].apply(lambda x: [x]) ## also put each URL in a list - required later\n",
        "GL_df"
      ],
      "metadata": {
        "colab": {
          "base_uri": "https://localhost:8080/",
          "height": 528
        },
        "id": "3KEfSjWbSsGg",
        "outputId": "b6d455fb-9c38-4186-d878-2b40e073d514"
      },
      "execution_count": 9,
      "outputs": [
        {
          "output_type": "stream",
          "name": "stdout",
          "text": [
            "id            0\n",
            "title         0\n",
            "url           0\n",
            "definition    0\n",
            "dtype: int64\n",
            "Int64Index([], dtype='int64')\n"
          ]
        },
        {
          "output_type": "execute_result",
          "data": {
            "text/plain": [
              "        id                       title  \\\n",
              "0        0            Accident at work   \n",
              "1        1  Gross domestic product GDP   \n",
              "2        2                    Toxicity   \n",
              "3        3             Structural fund   \n",
              "4        4                     PRODCOM   \n",
              "...    ...                         ...   \n",
              "1276  1276        Gross operating rate   \n",
              "1277  1277     Gross operating surplus   \n",
              "1278  1278             Personnel costs   \n",
              "1279  1279                     Stratum   \n",
              "1280  1280                   Subsidies   \n",
              "\n",
              "                                          url  \\\n",
              "0     [https://ec.europa.eu/eurostat/stati...   \n",
              "1     [https://ec.europa.eu/eurostat/stati...   \n",
              "2     [https://ec.europa.eu/eurostat/stati...   \n",
              "3     [https://ec.europa.eu/eurostat/stati...   \n",
              "4     [https://ec.europa.eu/eurostat/stati...   \n",
              "...                                       ...   \n",
              "1276  [https://ec.europa.eu/eurostat/stati...   \n",
              "1277  [https://ec.europa.eu/eurostat/stati...   \n",
              "1278  [https://ec.europa.eu/eurostat/stati...   \n",
              "1279  [https://ec.europa.eu/eurostat/stati...   \n",
              "1280  [https://ec.europa.eu/eurostat/stati...   \n",
              "\n",
              "                                   definition  \n",
              "0     An accident at work in the framework...  \n",
              "1     Gross domestic product abbreviated a...  \n",
              "2     Toxicity measures the degree to whic...  \n",
              "3     The Structural funds are funding ins...  \n",
              "4     PRODCOM is an annual survey for the ...  \n",
              "...                                       ...  \n",
              "1276  The gross operating rate in structur...  \n",
              "1277  Gross operating surplus or profits i...  \n",
              "1278  Within the context of structural bus...  \n",
              "1279  In statistics a stratum plural strat...  \n",
              "1280  Subsidies are current payments by th...  \n",
              "\n",
              "[1281 rows x 4 columns]"
            ],
            "text/html": [
              "\n",
              "  <div id=\"df-962c14c6-d3ae-4ac9-bf25-f586a0ee458b\">\n",
              "    <div class=\"colab-df-container\">\n",
              "      <div>\n",
              "<style scoped>\n",
              "    .dataframe tbody tr th:only-of-type {\n",
              "        vertical-align: middle;\n",
              "    }\n",
              "\n",
              "    .dataframe tbody tr th {\n",
              "        vertical-align: top;\n",
              "    }\n",
              "\n",
              "    .dataframe thead th {\n",
              "        text-align: right;\n",
              "    }\n",
              "</style>\n",
              "<table border=\"1\" class=\"dataframe\">\n",
              "  <thead>\n",
              "    <tr style=\"text-align: right;\">\n",
              "      <th></th>\n",
              "      <th>id</th>\n",
              "      <th>title</th>\n",
              "      <th>url</th>\n",
              "      <th>definition</th>\n",
              "    </tr>\n",
              "  </thead>\n",
              "  <tbody>\n",
              "    <tr>\n",
              "      <th>0</th>\n",
              "      <td>0</td>\n",
              "      <td>Accident at work</td>\n",
              "      <td>[https://ec.europa.eu/eurostat/stati...</td>\n",
              "      <td>An accident at work in the framework...</td>\n",
              "    </tr>\n",
              "    <tr>\n",
              "      <th>1</th>\n",
              "      <td>1</td>\n",
              "      <td>Gross domestic product GDP</td>\n",
              "      <td>[https://ec.europa.eu/eurostat/stati...</td>\n",
              "      <td>Gross domestic product abbreviated a...</td>\n",
              "    </tr>\n",
              "    <tr>\n",
              "      <th>2</th>\n",
              "      <td>2</td>\n",
              "      <td>Toxicity</td>\n",
              "      <td>[https://ec.europa.eu/eurostat/stati...</td>\n",
              "      <td>Toxicity measures the degree to whic...</td>\n",
              "    </tr>\n",
              "    <tr>\n",
              "      <th>3</th>\n",
              "      <td>3</td>\n",
              "      <td>Structural fund</td>\n",
              "      <td>[https://ec.europa.eu/eurostat/stati...</td>\n",
              "      <td>The Structural funds are funding ins...</td>\n",
              "    </tr>\n",
              "    <tr>\n",
              "      <th>4</th>\n",
              "      <td>4</td>\n",
              "      <td>PRODCOM</td>\n",
              "      <td>[https://ec.europa.eu/eurostat/stati...</td>\n",
              "      <td>PRODCOM is an annual survey for the ...</td>\n",
              "    </tr>\n",
              "    <tr>\n",
              "      <th>...</th>\n",
              "      <td>...</td>\n",
              "      <td>...</td>\n",
              "      <td>...</td>\n",
              "      <td>...</td>\n",
              "    </tr>\n",
              "    <tr>\n",
              "      <th>1276</th>\n",
              "      <td>1276</td>\n",
              "      <td>Gross operating rate</td>\n",
              "      <td>[https://ec.europa.eu/eurostat/stati...</td>\n",
              "      <td>The gross operating rate in structur...</td>\n",
              "    </tr>\n",
              "    <tr>\n",
              "      <th>1277</th>\n",
              "      <td>1277</td>\n",
              "      <td>Gross operating surplus</td>\n",
              "      <td>[https://ec.europa.eu/eurostat/stati...</td>\n",
              "      <td>Gross operating surplus or profits i...</td>\n",
              "    </tr>\n",
              "    <tr>\n",
              "      <th>1278</th>\n",
              "      <td>1278</td>\n",
              "      <td>Personnel costs</td>\n",
              "      <td>[https://ec.europa.eu/eurostat/stati...</td>\n",
              "      <td>Within the context of structural bus...</td>\n",
              "    </tr>\n",
              "    <tr>\n",
              "      <th>1279</th>\n",
              "      <td>1279</td>\n",
              "      <td>Stratum</td>\n",
              "      <td>[https://ec.europa.eu/eurostat/stati...</td>\n",
              "      <td>In statistics a stratum plural strat...</td>\n",
              "    </tr>\n",
              "    <tr>\n",
              "      <th>1280</th>\n",
              "      <td>1280</td>\n",
              "      <td>Subsidies</td>\n",
              "      <td>[https://ec.europa.eu/eurostat/stati...</td>\n",
              "      <td>Subsidies are current payments by th...</td>\n",
              "    </tr>\n",
              "  </tbody>\n",
              "</table>\n",
              "<p>1281 rows × 4 columns</p>\n",
              "</div>\n",
              "      <button class=\"colab-df-convert\" onclick=\"convertToInteractive('df-962c14c6-d3ae-4ac9-bf25-f586a0ee458b')\"\n",
              "              title=\"Convert this dataframe to an interactive table.\"\n",
              "              style=\"display:none;\">\n",
              "        \n",
              "  <svg xmlns=\"http://www.w3.org/2000/svg\" height=\"24px\"viewBox=\"0 0 24 24\"\n",
              "       width=\"24px\">\n",
              "    <path d=\"M0 0h24v24H0V0z\" fill=\"none\"/>\n",
              "    <path d=\"M18.56 5.44l.94 2.06.94-2.06 2.06-.94-2.06-.94-.94-2.06-.94 2.06-2.06.94zm-11 1L8.5 8.5l.94-2.06 2.06-.94-2.06-.94L8.5 2.5l-.94 2.06-2.06.94zm10 10l.94 2.06.94-2.06 2.06-.94-2.06-.94-.94-2.06-.94 2.06-2.06.94z\"/><path d=\"M17.41 7.96l-1.37-1.37c-.4-.4-.92-.59-1.43-.59-.52 0-1.04.2-1.43.59L10.3 9.45l-7.72 7.72c-.78.78-.78 2.05 0 2.83L4 21.41c.39.39.9.59 1.41.59.51 0 1.02-.2 1.41-.59l7.78-7.78 2.81-2.81c.8-.78.8-2.07 0-2.86zM5.41 20L4 18.59l7.72-7.72 1.47 1.35L5.41 20z\"/>\n",
              "  </svg>\n",
              "      </button>\n",
              "      \n",
              "  <style>\n",
              "    .colab-df-container {\n",
              "      display:flex;\n",
              "      flex-wrap:wrap;\n",
              "      gap: 12px;\n",
              "    }\n",
              "\n",
              "    .colab-df-convert {\n",
              "      background-color: #E8F0FE;\n",
              "      border: none;\n",
              "      border-radius: 50%;\n",
              "      cursor: pointer;\n",
              "      display: none;\n",
              "      fill: #1967D2;\n",
              "      height: 32px;\n",
              "      padding: 0 0 0 0;\n",
              "      width: 32px;\n",
              "    }\n",
              "\n",
              "    .colab-df-convert:hover {\n",
              "      background-color: #E2EBFA;\n",
              "      box-shadow: 0px 1px 2px rgba(60, 64, 67, 0.3), 0px 1px 3px 1px rgba(60, 64, 67, 0.15);\n",
              "      fill: #174EA6;\n",
              "    }\n",
              "\n",
              "    [theme=dark] .colab-df-convert {\n",
              "      background-color: #3B4455;\n",
              "      fill: #D2E3FC;\n",
              "    }\n",
              "\n",
              "    [theme=dark] .colab-df-convert:hover {\n",
              "      background-color: #434B5C;\n",
              "      box-shadow: 0px 1px 3px 1px rgba(0, 0, 0, 0.15);\n",
              "      filter: drop-shadow(0px 1px 2px rgba(0, 0, 0, 0.3));\n",
              "      fill: #FFFFFF;\n",
              "    }\n",
              "  </style>\n",
              "\n",
              "      <script>\n",
              "        const buttonEl =\n",
              "          document.querySelector('#df-962c14c6-d3ae-4ac9-bf25-f586a0ee458b button.colab-df-convert');\n",
              "        buttonEl.style.display =\n",
              "          google.colab.kernel.accessAllowed ? 'block' : 'none';\n",
              "\n",
              "        async function convertToInteractive(key) {\n",
              "          const element = document.querySelector('#df-962c14c6-d3ae-4ac9-bf25-f586a0ee458b');\n",
              "          const dataTable =\n",
              "            await google.colab.kernel.invokeFunction('convertToInteractive',\n",
              "                                                     [key], {});\n",
              "          if (!dataTable) return;\n",
              "\n",
              "          const docLinkHtml = 'Like what you see? Visit the ' +\n",
              "            '<a target=\"_blank\" href=https://colab.research.google.com/notebooks/data_table.ipynb>data table notebook</a>'\n",
              "            + ' to learn more about interactive tables.';\n",
              "          element.innerHTML = '';\n",
              "          dataTable['output_type'] = 'display_data';\n",
              "          await google.colab.output.renderOutput(dataTable, element);\n",
              "          const docLink = document.createElement('div');\n",
              "          docLink.innerHTML = docLinkHtml;\n",
              "          element.appendChild(docLink);\n",
              "        }\n",
              "      </script>\n",
              "    </div>\n",
              "  </div>\n",
              "  "
            ]
          },
          "metadata": {},
          "execution_count": 9
        }
      ]
    },
    {
      "cell_type": "markdown",
      "source": [
        "### Statistics explained articles\n",
        "\n",
        "* Titles, URLs and concatenated content from all paragraphs (excluding abstracts)."
      ],
      "metadata": {
        "id": "Ae9W9PmdS5Gx"
      }
    },
    {
      "cell_type": "markdown",
      "source": [
        "### The SPARQL query"
      ],
      "metadata": {
        "id": "hZyZyh89S_Ce"
      }
    },
    {
      "cell_type": "code",
      "source": [
        "RelationsStatements = \"\"\"\n",
        "DEFINE input:inference <https://ec.europa.eu/eurostat/NLP4StatRef/knowledge/>\n",
        "PREFIX estat: <https://ec.europa.eu/eurostat/NLP4StatRef/ontology/>\n",
        "PREFIX estatdata: <https://ec.europa.eu/eurostat/NLP4StatRef/knowledge/>\n",
        "select ?x ?title (group_Concat(?para,\" \") as ?text) (sample(?url) as ?url) where {\n",
        "    ?x a estat:StatisticsExplainedArticle .\n",
        "    ?x estat:title ?title .\n",
        "    ?x estat:hasURL ?url.\n",
        "    ?x estat:hasParagraph  ?h .\n",
        "    ?h estat:title ?t1 .\n",
        "    FILTER(?t1!=\"Abstract\") .\n",
        "    ?h estat:content ?c .\n",
        "    bind (concat(?t1,\" \",?c,\" \") as ?para)\n",
        "} group by ?x ?title\n",
        "\"\"\"\n",
        "  \n",
        "sparql.setQuery(RelationsStatements)\n",
        "sparql.method = \"POST\"\n",
        "sparql.setReturnFormat(JSON)\n",
        "SE_df = sparql.query().convert()['results']['bindings']\n",
        "SE_df = pd.json_normalize(SE_df)\n",
        "print(SE_df.columns)\n"
      ],
      "metadata": {
        "colab": {
          "base_uri": "https://localhost:8080/"
        },
        "id": "C7Z1IPm2TC8I",
        "outputId": "1cf16a84-9072-43ff-94cf-c530f99746fc"
      },
      "execution_count": 10,
      "outputs": [
        {
          "output_type": "stream",
          "name": "stdout",
          "text": [
            "Index(['x.type', 'x.value', 'title.type', 'title.value', 'text.type',\n",
            "       'text.value', 'url.type', 'url.datatype', 'url.value'],\n",
            "      dtype='object')\n"
          ]
        }
      ]
    },
    {
      "cell_type": "markdown",
      "source": [
        "### Processing and cleansing"
      ],
      "metadata": {
        "id": "yn0kGByZTHJZ"
      }
    },
    {
      "cell_type": "code",
      "source": [
        "SE_df.rename(columns={'title.value':'title','url.value':'url','text.value':'raw content'},inplace=True)\n",
        "SE_df['id'] = range(len(SE_df))\n",
        "SE_df = SE_df[['id','title','url','raw content']].copy()\n",
        "\n",
        "SE_df['title'] = SE_df['title'].apply(clean)\n",
        "SE_df['title'] = SE_df['title'].apply(lambda x: re.sub(r'\\?','-',x)) ## also replace question marks by dashes\n",
        "SE_df['url'] = SE_df['url'].apply(clean,quotes=False)\n",
        "SE_df['url'] = SE_df['url'].apply(lambda x: [x]) ## put in list\n",
        "SE_df['raw content'] = SE_df['raw content'].apply(clean)\n",
        "#SE_df.to_excel('SE_df.xlsx')\n",
        "SE_df"
      ],
      "metadata": {
        "colab": {
          "base_uri": "https://localhost:8080/",
          "height": 424
        },
        "id": "HWhFM29CTN9K",
        "outputId": "7f7cfc91-d923-4495-9539-2b713615834c"
      },
      "execution_count": 11,
      "outputs": [
        {
          "output_type": "execute_result",
          "data": {
            "text/plain": [
              "      id                                    title  \\\n",
              "0      0  Russia EU international trade in goo...   \n",
              "1      1     Africa EU key statistical indicators   \n",
              "2      2  Comparative price levels for investment   \n",
              "3      3  First and second generation immigran...   \n",
              "4      4  Migrant integration statistics intro...   \n",
              "..   ...                                      ...   \n",
              "860  860  EU statistics on income and living c...   \n",
              "861  861  European Neighbourhood Policy South ...   \n",
              "862  862  EU statistics on income and living c...   \n",
              "863  863                    E commerce statistics   \n",
              "864  864               Health statistics children   \n",
              "\n",
              "                                         url  \\\n",
              "0    [https://ec.europa.eu/eurostat/stati...   \n",
              "1    [https://ec.europa.eu/eurostat/stati...   \n",
              "2    [https://ec.europa.eu/eurostat/stati...   \n",
              "3    [https://ec.europa.eu/eurostat/stati...   \n",
              "4    [https://ec.europa.eu/eurostat/stati...   \n",
              "..                                       ...   \n",
              "860  [https://ec.europa.eu/eurostat/stati...   \n",
              "861  [https://ec.europa.eu/eurostat/stati...   \n",
              "862  [https://ec.europa.eu/eurostat/stati...   \n",
              "863  [https://ec.europa.eu/eurostat/stati...   \n",
              "864  [https://ec.europa.eu/eurostat/stati...   \n",
              "\n",
              "                                 raw content  \n",
              "0    Recent developments impact of COVID ...  \n",
              "1    Population and health With the world...  \n",
              "2    Overview In 2020 the highest price l...  \n",
              "3    General overview The EU attracts qui...  \n",
              "4    Migrant integration in the EU The co...  \n",
              "..                                       ...  \n",
              "860  Description The indicator on transit...  \n",
              "861  Gross value added and employment Bet...  \n",
              "862  Description Each one of the indicato...  \n",
              "863  E sales record a slight increase ove...  \n",
              "864  Children s level of general health A...  \n",
              "\n",
              "[865 rows x 4 columns]"
            ],
            "text/html": [
              "\n",
              "  <div id=\"df-74a02ab6-eddc-4832-b80e-850e0639c769\">\n",
              "    <div class=\"colab-df-container\">\n",
              "      <div>\n",
              "<style scoped>\n",
              "    .dataframe tbody tr th:only-of-type {\n",
              "        vertical-align: middle;\n",
              "    }\n",
              "\n",
              "    .dataframe tbody tr th {\n",
              "        vertical-align: top;\n",
              "    }\n",
              "\n",
              "    .dataframe thead th {\n",
              "        text-align: right;\n",
              "    }\n",
              "</style>\n",
              "<table border=\"1\" class=\"dataframe\">\n",
              "  <thead>\n",
              "    <tr style=\"text-align: right;\">\n",
              "      <th></th>\n",
              "      <th>id</th>\n",
              "      <th>title</th>\n",
              "      <th>url</th>\n",
              "      <th>raw content</th>\n",
              "    </tr>\n",
              "  </thead>\n",
              "  <tbody>\n",
              "    <tr>\n",
              "      <th>0</th>\n",
              "      <td>0</td>\n",
              "      <td>Russia EU international trade in goo...</td>\n",
              "      <td>[https://ec.europa.eu/eurostat/stati...</td>\n",
              "      <td>Recent developments impact of COVID ...</td>\n",
              "    </tr>\n",
              "    <tr>\n",
              "      <th>1</th>\n",
              "      <td>1</td>\n",
              "      <td>Africa EU key statistical indicators</td>\n",
              "      <td>[https://ec.europa.eu/eurostat/stati...</td>\n",
              "      <td>Population and health With the world...</td>\n",
              "    </tr>\n",
              "    <tr>\n",
              "      <th>2</th>\n",
              "      <td>2</td>\n",
              "      <td>Comparative price levels for investment</td>\n",
              "      <td>[https://ec.europa.eu/eurostat/stati...</td>\n",
              "      <td>Overview In 2020 the highest price l...</td>\n",
              "    </tr>\n",
              "    <tr>\n",
              "      <th>3</th>\n",
              "      <td>3</td>\n",
              "      <td>First and second generation immigran...</td>\n",
              "      <td>[https://ec.europa.eu/eurostat/stati...</td>\n",
              "      <td>General overview The EU attracts qui...</td>\n",
              "    </tr>\n",
              "    <tr>\n",
              "      <th>4</th>\n",
              "      <td>4</td>\n",
              "      <td>Migrant integration statistics intro...</td>\n",
              "      <td>[https://ec.europa.eu/eurostat/stati...</td>\n",
              "      <td>Migrant integration in the EU The co...</td>\n",
              "    </tr>\n",
              "    <tr>\n",
              "      <th>...</th>\n",
              "      <td>...</td>\n",
              "      <td>...</td>\n",
              "      <td>...</td>\n",
              "      <td>...</td>\n",
              "    </tr>\n",
              "    <tr>\n",
              "      <th>860</th>\n",
              "      <td>860</td>\n",
              "      <td>EU statistics on income and living c...</td>\n",
              "      <td>[https://ec.europa.eu/eurostat/stati...</td>\n",
              "      <td>Description The indicator on transit...</td>\n",
              "    </tr>\n",
              "    <tr>\n",
              "      <th>861</th>\n",
              "      <td>861</td>\n",
              "      <td>European Neighbourhood Policy South ...</td>\n",
              "      <td>[https://ec.europa.eu/eurostat/stati...</td>\n",
              "      <td>Gross value added and employment Bet...</td>\n",
              "    </tr>\n",
              "    <tr>\n",
              "      <th>862</th>\n",
              "      <td>862</td>\n",
              "      <td>EU statistics on income and living c...</td>\n",
              "      <td>[https://ec.europa.eu/eurostat/stati...</td>\n",
              "      <td>Description Each one of the indicato...</td>\n",
              "    </tr>\n",
              "    <tr>\n",
              "      <th>863</th>\n",
              "      <td>863</td>\n",
              "      <td>E commerce statistics</td>\n",
              "      <td>[https://ec.europa.eu/eurostat/stati...</td>\n",
              "      <td>E sales record a slight increase ove...</td>\n",
              "    </tr>\n",
              "    <tr>\n",
              "      <th>864</th>\n",
              "      <td>864</td>\n",
              "      <td>Health statistics children</td>\n",
              "      <td>[https://ec.europa.eu/eurostat/stati...</td>\n",
              "      <td>Children s level of general health A...</td>\n",
              "    </tr>\n",
              "  </tbody>\n",
              "</table>\n",
              "<p>865 rows × 4 columns</p>\n",
              "</div>\n",
              "      <button class=\"colab-df-convert\" onclick=\"convertToInteractive('df-74a02ab6-eddc-4832-b80e-850e0639c769')\"\n",
              "              title=\"Convert this dataframe to an interactive table.\"\n",
              "              style=\"display:none;\">\n",
              "        \n",
              "  <svg xmlns=\"http://www.w3.org/2000/svg\" height=\"24px\"viewBox=\"0 0 24 24\"\n",
              "       width=\"24px\">\n",
              "    <path d=\"M0 0h24v24H0V0z\" fill=\"none\"/>\n",
              "    <path d=\"M18.56 5.44l.94 2.06.94-2.06 2.06-.94-2.06-.94-.94-2.06-.94 2.06-2.06.94zm-11 1L8.5 8.5l.94-2.06 2.06-.94-2.06-.94L8.5 2.5l-.94 2.06-2.06.94zm10 10l.94 2.06.94-2.06 2.06-.94-2.06-.94-.94-2.06-.94 2.06-2.06.94z\"/><path d=\"M17.41 7.96l-1.37-1.37c-.4-.4-.92-.59-1.43-.59-.52 0-1.04.2-1.43.59L10.3 9.45l-7.72 7.72c-.78.78-.78 2.05 0 2.83L4 21.41c.39.39.9.59 1.41.59.51 0 1.02-.2 1.41-.59l7.78-7.78 2.81-2.81c.8-.78.8-2.07 0-2.86zM5.41 20L4 18.59l7.72-7.72 1.47 1.35L5.41 20z\"/>\n",
              "  </svg>\n",
              "      </button>\n",
              "      \n",
              "  <style>\n",
              "    .colab-df-container {\n",
              "      display:flex;\n",
              "      flex-wrap:wrap;\n",
              "      gap: 12px;\n",
              "    }\n",
              "\n",
              "    .colab-df-convert {\n",
              "      background-color: #E8F0FE;\n",
              "      border: none;\n",
              "      border-radius: 50%;\n",
              "      cursor: pointer;\n",
              "      display: none;\n",
              "      fill: #1967D2;\n",
              "      height: 32px;\n",
              "      padding: 0 0 0 0;\n",
              "      width: 32px;\n",
              "    }\n",
              "\n",
              "    .colab-df-convert:hover {\n",
              "      background-color: #E2EBFA;\n",
              "      box-shadow: 0px 1px 2px rgba(60, 64, 67, 0.3), 0px 1px 3px 1px rgba(60, 64, 67, 0.15);\n",
              "      fill: #174EA6;\n",
              "    }\n",
              "\n",
              "    [theme=dark] .colab-df-convert {\n",
              "      background-color: #3B4455;\n",
              "      fill: #D2E3FC;\n",
              "    }\n",
              "\n",
              "    [theme=dark] .colab-df-convert:hover {\n",
              "      background-color: #434B5C;\n",
              "      box-shadow: 0px 1px 3px 1px rgba(0, 0, 0, 0.15);\n",
              "      filter: drop-shadow(0px 1px 2px rgba(0, 0, 0, 0.3));\n",
              "      fill: #FFFFFF;\n",
              "    }\n",
              "  </style>\n",
              "\n",
              "      <script>\n",
              "        const buttonEl =\n",
              "          document.querySelector('#df-74a02ab6-eddc-4832-b80e-850e0639c769 button.colab-df-convert');\n",
              "        buttonEl.style.display =\n",
              "          google.colab.kernel.accessAllowed ? 'block' : 'none';\n",
              "\n",
              "        async function convertToInteractive(key) {\n",
              "          const element = document.querySelector('#df-74a02ab6-eddc-4832-b80e-850e0639c769');\n",
              "          const dataTable =\n",
              "            await google.colab.kernel.invokeFunction('convertToInteractive',\n",
              "                                                     [key], {});\n",
              "          if (!dataTable) return;\n",
              "\n",
              "          const docLinkHtml = 'Like what you see? Visit the ' +\n",
              "            '<a target=\"_blank\" href=https://colab.research.google.com/notebooks/data_table.ipynb>data table notebook</a>'\n",
              "            + ' to learn more about interactive tables.';\n",
              "          element.innerHTML = '';\n",
              "          dataTable['output_type'] = 'display_data';\n",
              "          await google.colab.output.renderOutput(dataTable, element);\n",
              "          const docLink = document.createElement('div');\n",
              "          docLink.innerHTML = docLinkHtml;\n",
              "          element.appendChild(docLink);\n",
              "        }\n",
              "      </script>\n",
              "    </div>\n",
              "  </div>\n",
              "  "
            ]
          },
          "metadata": {},
          "execution_count": 11
        }
      ]
    },
    {
      "cell_type": "markdown",
      "metadata": {
        "id": "-Y6l1puqKwVr"
      },
      "source": [
        "### Read OECD's terms, conexts and definitions\n",
        "* Terms, URLs, definitions and contexts.\n",
        "* Also put the URLs in lists. This is required later."
      ]
    },
    {
      "cell_type": "code",
      "source": [
        "RelationsStatements = \"\"\"\n",
        "DEFINE input:inference <https://ec.europa.eu/eurostat/NLP4StatRef/knowledge/>\n",
        "PREFIX estat: <https://ec.europa.eu/eurostat/NLP4StatRef/ontology/>\n",
        "PREFIX estatdata: <https://ec.europa.eu/eurostat/NLP4StatRef/knowledge/>\n",
        "select ?a ?title ?url ?context ?definition where{\n",
        "    ?a a estat:OECDTerm .\n",
        "    ?a estat:term ?title .\n",
        "    ?a estat:hasURL ?url .\n",
        "    optional { ?a estat:context ?context }\n",
        "    ?a estat:definition ?definition .\n",
        "}\n",
        "\"\"\"\n",
        "  \n",
        "sparql.setQuery(RelationsStatements)\n",
        "sparql.method = \"POST\"\n",
        "sparql.setReturnFormat(JSON)\n",
        "OECD_df = sparql.query().convert()['results']['bindings']\n",
        "OECD_df = pd.json_normalize(OECD_df)\n",
        "print(OECD_df.columns)\n"
      ],
      "metadata": {
        "colab": {
          "base_uri": "https://localhost:8080/"
        },
        "id": "fvNX3X1Ul-4G",
        "outputId": "81dfc105-55af-4768-bc4b-4689d9a7f010"
      },
      "execution_count": 12,
      "outputs": [
        {
          "output_type": "stream",
          "name": "stdout",
          "text": [
            "Index(['a.type', 'a.value', 'title.type', 'title.value', 'url.type',\n",
            "       'url.datatype', 'url.value', 'context.type', 'context.value',\n",
            "       'definition.type', 'definition.value'],\n",
            "      dtype='object')\n"
          ]
        }
      ]
    },
    {
      "cell_type": "markdown",
      "source": [
        "### Processing and cleansing"
      ],
      "metadata": {
        "id": "OCCq9OychP9P"
      }
    },
    {
      "cell_type": "code",
      "source": [
        "OECD_df.rename(columns={'title.value':'term','url.value':'url','definition.value':'definition','context.value':'context'},inplace=True)\n",
        "OECD_df['id'] = range(len(OECD_df))\n",
        "\n",
        "OECD_df = OECD_df[['id','term','url','definition','context']].copy()\n",
        "\n",
        "\n",
        "OECD_df.replace('',np.nan,inplace=True)\n",
        "\n",
        "print(OECD_df.isnull().sum()) ## check for missing values\n",
        "\n",
        "OECD_df['term'] = OECD_df['term'].apply(clean)\n",
        "OECD_df['definition'] = OECD_df['definition'].apply(clean)\n",
        "OECD_df['context'] = OECD_df['context'].apply(clean)\n",
        "OECD_df['url'] = OECD_df['url'].apply(clean,quotes=False)\n",
        "OECD_df['url'] = OECD_df['url'].apply(lambda x: [x]) ## also put each URL in a list - required later\n",
        "OECD_df"
      ],
      "metadata": {
        "colab": {
          "base_uri": "https://localhost:8080/",
          "height": 528
        },
        "id": "5b-lINSJXniy",
        "outputId": "683b42aa-806d-4534-9c98-c1c5bb36d519"
      },
      "execution_count": 13,
      "outputs": [
        {
          "output_type": "stream",
          "name": "stdout",
          "text": [
            "id               0\n",
            "term             0\n",
            "url              0\n",
            "definition       0\n",
            "context       5544\n",
            "dtype: int64\n"
          ]
        },
        {
          "output_type": "execute_result",
          "data": {
            "text/plain": [
              "        id                                     term  \\\n",
              "0        0                           Abatement cost   \n",
              "1        1                    Abnormal obsolescence   \n",
              "2        2               Abuse of dominant position   \n",
              "3        3  Accessibility as a statistical data ...   \n",
              "4        4      Accountability in management theory   \n",
              "...    ...                                      ...   \n",
              "6940  6940                            Zero sum game   \n",
              "6941  6941                             Zero tillage   \n",
              "6942  6942                                    Zones   \n",
              "6943  6943                                   Zoning   \n",
              "6944  6944                                      ZPG   \n",
              "\n",
              "                                          url  \\\n",
              "0     [https://stats.oecd.org/glossary/det...   \n",
              "1     [https://stats.oecd.org/glossary/det...   \n",
              "2     [https://stats.oecd.org/glossary/det...   \n",
              "3     [https://stats.oecd.org/glossary/det...   \n",
              "4     [https://stats.oecd.org/glossary/det...   \n",
              "...                                       ...   \n",
              "6940  [https://stats.oecd.org/glossary/det...   \n",
              "6941  [https://stats.oecd.org/glossary/det...   \n",
              "6942  [https://stats.oecd.org/glossary/det...   \n",
              "6943  [https://stats.oecd.org/glossary/det...   \n",
              "6944  [https://stats.oecd.org/glossary/det...   \n",
              "\n",
              "                                   definition  \\\n",
              "0     Abatement costs refer to expenditure...   \n",
              "1     Abnormal obsolescence is the loss in...   \n",
              "2     The term abuse of dominant position ...   \n",
              "3     The ease and the conditions with whi...   \n",
              "4     A key concept in modern management t...   \n",
              "...                                       ...   \n",
              "6940  A game played by a number of persons...   \n",
              "6941                         Refer No tillage   \n",
              "6942  See Main Economic Indicator main cou...   \n",
              "6943  Zoning is the process in physical pl...   \n",
              "6944               See Zero population growth   \n",
              "\n",
              "                                      context  \n",
              "0     The calculation of imputed abatement...  \n",
              "1     Abnormal obsolescence may occur beca...  \n",
              "2     These business practices by the firm...  \n",
              "3     Accessibility refers to the availabi...  \n",
              "4     The person or body to which the mana...  \n",
              "...                                       ...  \n",
              "6940                                      NaN  \n",
              "6941                                      NaN  \n",
              "6942                                      NaN  \n",
              "6943                                      NaN  \n",
              "6944                                      NaN  \n",
              "\n",
              "[6945 rows x 5 columns]"
            ],
            "text/html": [
              "\n",
              "  <div id=\"df-15f95311-6bd7-467c-aa80-59b9c4282421\">\n",
              "    <div class=\"colab-df-container\">\n",
              "      <div>\n",
              "<style scoped>\n",
              "    .dataframe tbody tr th:only-of-type {\n",
              "        vertical-align: middle;\n",
              "    }\n",
              "\n",
              "    .dataframe tbody tr th {\n",
              "        vertical-align: top;\n",
              "    }\n",
              "\n",
              "    .dataframe thead th {\n",
              "        text-align: right;\n",
              "    }\n",
              "</style>\n",
              "<table border=\"1\" class=\"dataframe\">\n",
              "  <thead>\n",
              "    <tr style=\"text-align: right;\">\n",
              "      <th></th>\n",
              "      <th>id</th>\n",
              "      <th>term</th>\n",
              "      <th>url</th>\n",
              "      <th>definition</th>\n",
              "      <th>context</th>\n",
              "    </tr>\n",
              "  </thead>\n",
              "  <tbody>\n",
              "    <tr>\n",
              "      <th>0</th>\n",
              "      <td>0</td>\n",
              "      <td>Abatement cost</td>\n",
              "      <td>[https://stats.oecd.org/glossary/det...</td>\n",
              "      <td>Abatement costs refer to expenditure...</td>\n",
              "      <td>The calculation of imputed abatement...</td>\n",
              "    </tr>\n",
              "    <tr>\n",
              "      <th>1</th>\n",
              "      <td>1</td>\n",
              "      <td>Abnormal obsolescence</td>\n",
              "      <td>[https://stats.oecd.org/glossary/det...</td>\n",
              "      <td>Abnormal obsolescence is the loss in...</td>\n",
              "      <td>Abnormal obsolescence may occur beca...</td>\n",
              "    </tr>\n",
              "    <tr>\n",
              "      <th>2</th>\n",
              "      <td>2</td>\n",
              "      <td>Abuse of dominant position</td>\n",
              "      <td>[https://stats.oecd.org/glossary/det...</td>\n",
              "      <td>The term abuse of dominant position ...</td>\n",
              "      <td>These business practices by the firm...</td>\n",
              "    </tr>\n",
              "    <tr>\n",
              "      <th>3</th>\n",
              "      <td>3</td>\n",
              "      <td>Accessibility as a statistical data ...</td>\n",
              "      <td>[https://stats.oecd.org/glossary/det...</td>\n",
              "      <td>The ease and the conditions with whi...</td>\n",
              "      <td>Accessibility refers to the availabi...</td>\n",
              "    </tr>\n",
              "    <tr>\n",
              "      <th>4</th>\n",
              "      <td>4</td>\n",
              "      <td>Accountability in management theory</td>\n",
              "      <td>[https://stats.oecd.org/glossary/det...</td>\n",
              "      <td>A key concept in modern management t...</td>\n",
              "      <td>The person or body to which the mana...</td>\n",
              "    </tr>\n",
              "    <tr>\n",
              "      <th>...</th>\n",
              "      <td>...</td>\n",
              "      <td>...</td>\n",
              "      <td>...</td>\n",
              "      <td>...</td>\n",
              "      <td>...</td>\n",
              "    </tr>\n",
              "    <tr>\n",
              "      <th>6940</th>\n",
              "      <td>6940</td>\n",
              "      <td>Zero sum game</td>\n",
              "      <td>[https://stats.oecd.org/glossary/det...</td>\n",
              "      <td>A game played by a number of persons...</td>\n",
              "      <td>NaN</td>\n",
              "    </tr>\n",
              "    <tr>\n",
              "      <th>6941</th>\n",
              "      <td>6941</td>\n",
              "      <td>Zero tillage</td>\n",
              "      <td>[https://stats.oecd.org/glossary/det...</td>\n",
              "      <td>Refer No tillage</td>\n",
              "      <td>NaN</td>\n",
              "    </tr>\n",
              "    <tr>\n",
              "      <th>6942</th>\n",
              "      <td>6942</td>\n",
              "      <td>Zones</td>\n",
              "      <td>[https://stats.oecd.org/glossary/det...</td>\n",
              "      <td>See Main Economic Indicator main cou...</td>\n",
              "      <td>NaN</td>\n",
              "    </tr>\n",
              "    <tr>\n",
              "      <th>6943</th>\n",
              "      <td>6943</td>\n",
              "      <td>Zoning</td>\n",
              "      <td>[https://stats.oecd.org/glossary/det...</td>\n",
              "      <td>Zoning is the process in physical pl...</td>\n",
              "      <td>NaN</td>\n",
              "    </tr>\n",
              "    <tr>\n",
              "      <th>6944</th>\n",
              "      <td>6944</td>\n",
              "      <td>ZPG</td>\n",
              "      <td>[https://stats.oecd.org/glossary/det...</td>\n",
              "      <td>See Zero population growth</td>\n",
              "      <td>NaN</td>\n",
              "    </tr>\n",
              "  </tbody>\n",
              "</table>\n",
              "<p>6945 rows × 5 columns</p>\n",
              "</div>\n",
              "      <button class=\"colab-df-convert\" onclick=\"convertToInteractive('df-15f95311-6bd7-467c-aa80-59b9c4282421')\"\n",
              "              title=\"Convert this dataframe to an interactive table.\"\n",
              "              style=\"display:none;\">\n",
              "        \n",
              "  <svg xmlns=\"http://www.w3.org/2000/svg\" height=\"24px\"viewBox=\"0 0 24 24\"\n",
              "       width=\"24px\">\n",
              "    <path d=\"M0 0h24v24H0V0z\" fill=\"none\"/>\n",
              "    <path d=\"M18.56 5.44l.94 2.06.94-2.06 2.06-.94-2.06-.94-.94-2.06-.94 2.06-2.06.94zm-11 1L8.5 8.5l.94-2.06 2.06-.94-2.06-.94L8.5 2.5l-.94 2.06-2.06.94zm10 10l.94 2.06.94-2.06 2.06-.94-2.06-.94-.94-2.06-.94 2.06-2.06.94z\"/><path d=\"M17.41 7.96l-1.37-1.37c-.4-.4-.92-.59-1.43-.59-.52 0-1.04.2-1.43.59L10.3 9.45l-7.72 7.72c-.78.78-.78 2.05 0 2.83L4 21.41c.39.39.9.59 1.41.59.51 0 1.02-.2 1.41-.59l7.78-7.78 2.81-2.81c.8-.78.8-2.07 0-2.86zM5.41 20L4 18.59l7.72-7.72 1.47 1.35L5.41 20z\"/>\n",
              "  </svg>\n",
              "      </button>\n",
              "      \n",
              "  <style>\n",
              "    .colab-df-container {\n",
              "      display:flex;\n",
              "      flex-wrap:wrap;\n",
              "      gap: 12px;\n",
              "    }\n",
              "\n",
              "    .colab-df-convert {\n",
              "      background-color: #E8F0FE;\n",
              "      border: none;\n",
              "      border-radius: 50%;\n",
              "      cursor: pointer;\n",
              "      display: none;\n",
              "      fill: #1967D2;\n",
              "      height: 32px;\n",
              "      padding: 0 0 0 0;\n",
              "      width: 32px;\n",
              "    }\n",
              "\n",
              "    .colab-df-convert:hover {\n",
              "      background-color: #E2EBFA;\n",
              "      box-shadow: 0px 1px 2px rgba(60, 64, 67, 0.3), 0px 1px 3px 1px rgba(60, 64, 67, 0.15);\n",
              "      fill: #174EA6;\n",
              "    }\n",
              "\n",
              "    [theme=dark] .colab-df-convert {\n",
              "      background-color: #3B4455;\n",
              "      fill: #D2E3FC;\n",
              "    }\n",
              "\n",
              "    [theme=dark] .colab-df-convert:hover {\n",
              "      background-color: #434B5C;\n",
              "      box-shadow: 0px 1px 3px 1px rgba(0, 0, 0, 0.15);\n",
              "      filter: drop-shadow(0px 1px 2px rgba(0, 0, 0, 0.3));\n",
              "      fill: #FFFFFF;\n",
              "    }\n",
              "  </style>\n",
              "\n",
              "      <script>\n",
              "        const buttonEl =\n",
              "          document.querySelector('#df-15f95311-6bd7-467c-aa80-59b9c4282421 button.colab-df-convert');\n",
              "        buttonEl.style.display =\n",
              "          google.colab.kernel.accessAllowed ? 'block' : 'none';\n",
              "\n",
              "        async function convertToInteractive(key) {\n",
              "          const element = document.querySelector('#df-15f95311-6bd7-467c-aa80-59b9c4282421');\n",
              "          const dataTable =\n",
              "            await google.colab.kernel.invokeFunction('convertToInteractive',\n",
              "                                                     [key], {});\n",
              "          if (!dataTable) return;\n",
              "\n",
              "          const docLinkHtml = 'Like what you see? Visit the ' +\n",
              "            '<a target=\"_blank\" href=https://colab.research.google.com/notebooks/data_table.ipynb>data table notebook</a>'\n",
              "            + ' to learn more about interactive tables.';\n",
              "          element.innerHTML = '';\n",
              "          dataTable['output_type'] = 'display_data';\n",
              "          await google.colab.output.renderOutput(dataTable, element);\n",
              "          const docLink = document.createElement('div');\n",
              "          docLink.innerHTML = docLinkHtml;\n",
              "          element.appendChild(docLink);\n",
              "        }\n",
              "      </script>\n",
              "    </div>\n",
              "  </div>\n",
              "  "
            ]
          },
          "metadata": {},
          "execution_count": 13
        }
      ]
    },
    {
      "cell_type": "markdown",
      "metadata": {
        "id": "iTCD8WhYKwVs"
      },
      "source": [
        "### Tokenize, remove stop-words and stem; keep also the original terms\n",
        "\n",
        "* Use titles and definitions from the Glossary articles.\n",
        "* Use titles and raw content from the SE articles\n",
        "* Use terms, definitions and contexts from OECD's glossary entries.\n",
        "* _texts_ is a list containing lists. Each sub-list has the stemmed term, the original term and the URL where the term was found. The URL is itself put in a list."
      ]
    },
    {
      "cell_type": "code",
      "execution_count": 14,
      "metadata": {
        "scrolled": true,
        "id": "J9fdamH9KwVs"
      },
      "outputs": [],
      "source": [
        "from gensim.parsing.preprocessing import remove_stopwords\n",
        "from gensim.parsing.preprocessing import stem_text\n",
        "from gensim.parsing.porter import PorterStemmer\n",
        "from gensim.parsing.preprocessing import STOPWORDS\n",
        "\n",
        "all_stopwords_gensim = STOPWORDS\n",
        "\n",
        "\n",
        "p = PorterStemmer()\n",
        "\n",
        "def text_to_words(text,url):\n",
        "    words = str(gensim.utils.simple_preprocess(text, deacc=True))\n",
        "    words = gensim.utils.tokenize(words)\n",
        "    words = [word for word in words if not word in all_stopwords_gensim]    \n",
        "        \n",
        "    ## keep also original token!!! \n",
        "    words = [[p.stem(token),token,url] for token in words if len(p.stem(token)) >= 5] ##minimum length = 5 \n",
        "    yield words        \n",
        "\n",
        "texts=list()   \n",
        "\n",
        "for i in range(len(GL_df)):\n",
        "    texts.extend(text_to_words(GL_df.loc[i,'definition'],GL_df.loc[i,'url']))\n",
        "    texts.extend(text_to_words(GL_df.loc[i,'title'],GL_df.loc[i,'url'])) \n",
        "for i in range(len(SE_df)):    \n",
        "    texts.extend(text_to_words(SE_df.loc[i,'title'],SE_df.loc[i,'url'])) \n",
        "    texts.extend(text_to_words(SE_df.loc[i,'raw content'],SE_df.loc[i,'url'])) \n",
        "for i in range(len(OECD_df)):    \n",
        "    texts.extend(text_to_words(OECD_df.loc[i,'term'],OECD_df.loc[i,'url'])) \n",
        "    texts.extend(text_to_words(OECD_df.loc[i,'definition'],OECD_df.loc[i,'url'])) \n",
        "    OECD_rec = OECD_df.loc[i,'context']\n",
        "    if not pd.isna(OECD_rec):\n",
        "        texts.extend(text_to_words(OECD_rec,OECD_df.loc[i,'url'])) \n"
      ]
    },
    {
      "cell_type": "markdown",
      "metadata": {
        "id": "2zcEBQbJKwVs"
      },
      "source": [
        "* Example: the first 5 sub-lists in the first list in _texts_."
      ]
    },
    {
      "cell_type": "code",
      "execution_count": 15,
      "metadata": {
        "id": "Bk7dBFNDKwVs",
        "outputId": "f75dd10c-70f8-4948-a093-711aac0235ea",
        "colab": {
          "base_uri": "https://localhost:8080/"
        }
      },
      "outputs": [
        {
          "output_type": "stream",
          "name": "stdout",
          "text": [
            "19583\n"
          ]
        },
        {
          "output_type": "execute_result",
          "data": {
            "text/plain": [
              "[['accid',\n",
              "  'accident',\n",
              "  ['https://ec.europa.eu/eurostat/statistics-explained/index.php?title=Glossary:Accident_at_work']],\n",
              " ['framework',\n",
              "  'framework',\n",
              "  ['https://ec.europa.eu/eurostat/statistics-explained/index.php?title=Glossary:Accident_at_work']],\n",
              " ['administr',\n",
              "  'administrative',\n",
              "  ['https://ec.europa.eu/eurostat/statistics-explained/index.php?title=Glossary:Accident_at_work']],\n",
              " ['collect',\n",
              "  'collection',\n",
              "  ['https://ec.europa.eu/eurostat/statistics-explained/index.php?title=Glossary:Accident_at_work']],\n",
              " ['european',\n",
              "  'european',\n",
              "  ['https://ec.europa.eu/eurostat/statistics-explained/index.php?title=Glossary:Accident_at_work']]]"
            ]
          },
          "metadata": {},
          "execution_count": 15
        }
      ],
      "source": [
        "print(len(texts))\n",
        "texts[0][:5]"
      ]
    },
    {
      "cell_type": "markdown",
      "metadata": {
        "id": "xoFVEjirKwVt"
      },
      "source": [
        "### Co-occurences: keys in n-grams are (n-1) tuples of stemmed tokens \n",
        "\n",
        "* Three dictionaries, for 2-,3-,and 4-grams. The corresponding keys are single stemmed terms, pairs of stemmed terms and triplets, respectively.\n",
        "* For each key in a dictionary, the value is another (nested) dictionary with the **original terms**, their counts and the relevant URLs. In the end, the counts are used to calculate probabilities.\n",
        "* Below all three dictionaries are constructed from the sequences of 4-grams.\n"
      ]
    },
    {
      "cell_type": "code",
      "execution_count": 16,
      "metadata": {
        "scrolled": true,
        "id": "r_Wug7BgKwVt"
      },
      "outputs": [],
      "source": [
        "##%%script false --no-raise-error\n",
        "## Check also COLLOCATIONS: http://www.nltk.org/howto/collocations.html and http://www.nltk.org/api/nltk.html?highlight=ngram\n",
        "\n",
        "from nltk import bigrams, trigrams, ngrams ## ngrams needs version 3.4\n",
        "#from collections import Counter, defaultdict\n",
        "\n",
        "\n",
        "model2=dict()\n",
        "model3=dict()\n",
        "model4=dict()\n",
        "\n",
        "def dict_insert(model,entered,proposed,new_urls_to_check):\n",
        "    key_1 = model.get(entered)\n",
        "    if key_1:\n",
        "        key_2 = key_1.get(proposed)\n",
        "        if key_2:\n",
        "            key_2[0] +=1\n",
        "            existing_urls = key_2[1]\n",
        "            add_urls = [u for u in new_urls_to_check if u not in existing_urls]\n",
        "            #key_2.extend(add_urls) \n",
        "            key_2[1].extend(add_urls) \n",
        "\n",
        "        else:    \n",
        "            key_1[proposed]= [1,new_urls_to_check]\n",
        "    else:\n",
        "        model[entered]={proposed:[1,new_urls_to_check]}\n",
        "    return model            \n",
        "\n",
        "\n",
        "# Co-occurences\n",
        "\n",
        "for sentence in texts:\n",
        "    pairs = [elem for elem in sentence] ## a list of 3-tuples (stemmed term, original term, list of URLs)\n",
        "    if len(pairs) == 0: continue\n",
        "\n",
        "    for first, second, third, fourth in ngrams(pairs,4): ## quadruplets of 3-tuples (stemmed term, original term, list of URLs)\n",
        "        first_stem, first_orig, first_url = first\n",
        "        second_stem, second_orig, second_url = second\n",
        "        third_stem, third_orig, third_url = third\n",
        "        fourth_stem, fourth_orig, fourth_url = fourth\n",
        "        model2 = dict_insert(model2, first_stem, second_orig,list(set(first_url).intersection(second_url)))\n",
        "        model2 = dict_insert(model2, second_stem, third_orig,list(set(second_url).intersection(third_url)))\n",
        "        model2 = dict_insert(model2, third_stem, fourth_orig,list(set(third_url).intersection(fourth_url)))\n",
        "        \n",
        "        model3 = dict_insert(model3,(first_stem,second_stem),third_orig,list(set(first_url).intersection(*[second_url,third_url])))\n",
        "        model3 = dict_insert(model3,(second_stem,third_stem),fourth_orig,list(set(second_url).intersection(*[third_url,fourth_url])))\n",
        "        \n",
        "        model4 = dict_insert(model4,(first_stem, second_stem, third_stem),fourth_orig,fourth_url)\n",
        "   \n",
        "        \n",
        "## Transform counts to probabilities\n",
        "\n",
        "for w1 in model2.keys():\n",
        "    ssum = sum(model2[w1][w2][0] for w2 in model2[w1].keys())\n",
        "    for w2 in model2[w1].keys():\n",
        "        model2[w1][w2][0] /= ssum\n",
        "\n",
        "for w1_w2 in model3.keys():\n",
        "    ssum = sum(model3[w1_w2][w3][0] for w3 in model3[w1_w2].keys())\n",
        "    for w3 in model3[w1_w2].keys():\n",
        "        model3[w1_w2][w3][0] /= ssum\n",
        "\n",
        "for w1_w2_w3 in model4.keys():\n",
        "    ssum = sum(model4[w1_w2_w3][w4][0] for w4 in model4[w1_w2_w3].keys())\n",
        "    for w4 in model4[w1_w2_w3].keys():\n",
        "        model4[w1_w2_w3][w4][0] /= ssum\n"
      ]
    },
    {
      "cell_type": "markdown",
      "metadata": {
        "id": "tgab0x8DKwVt"
      },
      "source": [
        "### Examples of keys and values in the three dictionaries\n",
        "\n",
        "* We do not show an example of the 2-grams dictionary because the values are too many.\n"
      ]
    },
    {
      "cell_type": "code",
      "execution_count": 17,
      "metadata": {
        "scrolled": true,
        "id": "KBgXSZB3KwVt",
        "colab": {
          "base_uri": "https://localhost:8080/"
        },
        "outputId": "84da580b-b516-4800-e1ac-c7dab8de6732"
      },
      "outputs": [
        {
          "output_type": "stream",
          "name": "stdout",
          "text": [
            "\n",
            "Example, model with 3-grams, key = (household,expenditur):\n",
            "\n",
            "{'services': [0.06, ['https://ec.europa.eu/eurostat/statistics-explained/index.php?title=Glossary:Household_budget_survey_(HBS)', 'https://ec.europa.eu/eurostat/statistics-explained/index.php?title=Ageing_Europe_-_statistics_on_pensions,_income_and_expenditure']], 'order': [0.02, ['https://ec.europa.eu/eurostat/statistics-explained/index.php?title=Building_the_System_of_National_Accounts_-_strategy']], 'consumer': [0.02, ['https://ec.europa.eu/eurostat/statistics-explained/index.php?title=Building_the_System_of_National_Accounts_-_strategy']], 'average': [0.02, ['https://ec.europa.eu/eurostat/statistics-explained/index.php?title=Interaction_of_household_income,_consumption_and_wealth_%E2%80%93_statistics_on_taxation']], 'confirms': [0.02, ['https://ec.europa.eu/eurostat/statistics-explained/index.php?title=Interaction_of_household_income,_consumption_and_wealth_%E2%80%93_statistics_on_taxation']], 'respectively': [0.08, ['https://ec.europa.eu/eurostat/statistics-explained/index.php?title=Comparative_price_levels_for_food,_beverages_and_tobacco', 'https://ec.europa.eu/eurostat/statistics-explained/index.php?title=Comparative_price_levels_of_consumer_goods_and_services']], 'appropriately': [0.02, ['https://ec.europa.eu/eurostat/statistics-explained/index.php?title=Building_the_System_of_National_Accounts_-_volume_measures']], 'coicop': [0.02, ['https://ec.europa.eu/eurostat/statistics-explained/index.php?title=Household_budget_survey_-_statistics_on_main_results']], 'hungary': [0.04, ['https://ec.europa.eu/eurostat/statistics-explained/index.php?title=Household_budget_survey_-_statistics_on_main_results', 'https://ec.europa.eu/eurostat/statistics-explained/index.php?title=Culture_statistics_-_household_expenditure_on_culture']], 'changes': [0.02, ['https://ec.europa.eu/eurostat/statistics-explained/index.php?title=Material_deprivation_statistics_-_early_results']], 'members': [0.02, ['https://ec.europa.eu/eurostat/statistics-explained/index.php?title=The_EU_in_the_world_-_living_conditions']], 'beverages': [0.02, ['https://ec.europa.eu/eurostat/statistics-explained/index.php?title=The_EU_in_the_world_-_living_conditions']], 'health': [0.02, ['https://ec.europa.eu/eurostat/statistics-explained/index.php?title=The_EU_in_the_world_-_living_conditions']], 'surveys': [0.03, ['https://ec.europa.eu/eurostat/statistics-explained/index.php?title=Building_the_System_of_National_Accounts_-_basic_concepts', 'https://stats.oecd.org/glossary/detail.asp?ID=5747']], 'mainly': [0.02, ['https://ec.europa.eu/eurostat/statistics-explained/index.php?title=GDP_at_regional_level']], 'culture': [0.01, ['https://ec.europa.eu/eurostat/statistics-explained/index.php?title=Culture_statistics_-_household_expenditure_on_culture']], 'devoted': [0.02, ['https://ec.europa.eu/eurostat/statistics-explained/index.php?title=Culture_statistics_-_household_expenditure_on_culture']], 'cultural': [0.12, ['https://ec.europa.eu/eurostat/statistics-explained/index.php?title=Culture_statistics_-_household_expenditure_on_culture']], 'aggregate': [0.04, ['https://ec.europa.eu/eurostat/statistics-explained/index.php?title=Culture_statistics_-_household_expenditure_on_culture']], 'spent': [0.04, ['https://ec.europa.eu/eurostat/statistics-explained/index.php?title=From_farm_to_fork_-_a_statistical_journey']], 'total': [0.04, ['https://ec.europa.eu/eurostat/statistics-explained/index.php?title=Household_consumption_by_purpose']], 'amounted': [0.02, ['https://ec.europa.eu/eurostat/statistics-explained/index.php?title=Household_consumption_by_purpose']], 'composition': [0.04, ['https://ec.europa.eu/eurostat/statistics-explained/index.php?title=Household_consumption_by_purpose']], 'consumption': [0.04, ['https://ec.europa.eu/eurostat/statistics-explained/index.php?title=Household_consumption_by_purpose', 'https://stats.oecd.org/glossary/detail.asp?ID=1256']], 'restaurants': [0.02, ['https://ec.europa.eu/eurostat/statistics-explained/index.php?title=Household_consumption_by_purpose']], 'changed': [0.02, ['https://ec.europa.eu/eurostat/statistics-explained/index.php?title=Household_consumption_by_purpose']], 'shares': [0.02, ['https://ec.europa.eu/eurostat/statistics-explained/index.php?title=Household_consumption_by_purpose']], 'greece': [0.02, ['https://ec.europa.eu/eurostat/statistics-explained/index.php?title=Household_consumption_by_purpose']], 'followed': [0.02, ['https://ec.europa.eu/eurostat/statistics-explained/index.php?title=Household_consumption_by_purpose']], 'finland': [0.02, ['https://ec.europa.eu/eurostat/statistics-explained/index.php?title=Household_consumption_by_purpose']], 'slovenia': [0.02, ['https://ec.europa.eu/eurostat/statistics-explained/index.php?title=Household_consumption_by_purpose']], 'increasingly': [0.02, ['https://ec.europa.eu/eurostat/statistics-explained/index.php?title=Living_conditions_in_Europe_-_housing']], 'expenditures': [0.02, ['https://stats.oecd.org/glossary/detail.asp?ID=5517']], 'related': [0.02, ['https://stats.oecd.org/glossary/detail.asp?ID=936']]}\n",
            "\n",
            "Example, model with 4-grams, key = (survei,structur,agricultur):\n",
            "\n",
            "{'carried': [0.3333333333333333, ['https://ec.europa.eu/eurostat/statistics-explained/index.php?title=Glossary:Farm_structure_survey_(FSS)', 'https://ec.europa.eu/eurostat/statistics-explained/index.php?title=Glossary:Survey_on_agricultural_production_methods_(SAPM)', 'https://ec.europa.eu/eurostat/statistics-explained/index.php?title=LUCAS_-_Land_use_and_land_cover_survey', 'https://ec.europa.eu/eurostat/statistics-explained/index.php?title=European_health_interview_survey_-_methodology', 'https://ec.europa.eu/eurostat/statistics-explained/index.php?title=Labour_force_survey_(LFS)_-_sampling_design,_sample_size_and_sampling_errors', 'https://ec.europa.eu/eurostat/statistics-explained/index.php?title=Participation_of_young_people_in_education_and_the_labour_market', 'https://ec.europa.eu/eurostat/statistics-explained/index.php?title=Enlargement_policy_and_statistical_cooperation', 'https://ec.europa.eu/eurostat/statistics-explained/index.php?title=Culture_statistics_-_cultural_employment', 'https://ec.europa.eu/eurostat/statistics-explained/index.php?title=Secondary_education_statistics', 'https://ec.europa.eu/eurostat/statistics-explained/index.php?title=Tertiary_education_statistics', 'https://ec.europa.eu/eurostat/statistics-explained/index.php?title=EU_labour_force_survey_%E2%80%93_development_and_history', 'https://ec.europa.eu/eurostat/statistics-explained/index.php?title=Social_protection_statistics_-_financing', 'https://ec.europa.eu/eurostat/statistics-explained/index.php?title=Territorial_typologies_manual_-_cities,_commuting_zones_and_functional_urban_areas', 'https://ec.europa.eu/eurostat/statistics-explained/index.php?title=Accidents_and_injuries_statistics', 'https://ec.europa.eu/eurostat/statistics-explained/index.php?title=EU_labour_force_survey_%E2%80%93_main_features_and_legal_basis', 'https://ec.europa.eu/eurostat/statistics-explained/index.php?title=Electricity_market_indicators', 'https://ec.europa.eu/eurostat/statistics-explained/index.php?title=Enlargement_countries_-_statistics_on_living_conditions', 'https://ec.europa.eu/eurostat/statistics-explained/index.php?title=EU_citizens_living_in_another_Member_State_-_statistical_overview', 'https://ec.europa.eu/eurostat/statistics-explained/index.php?title=Territorial_typologies_manual_-_coastal_regions', 'https://ec.europa.eu/eurostat/statistics-explained/index.php?title=Healthcare_expenditure_statistics_-_methodology']], 'definitions': [0.3333333333333333, ['https://ec.europa.eu/eurostat/statistics-explained/index.php?title=Survey_on_agricultural_production_methods', 'https://ec.europa.eu/eurostat/statistics-explained/index.php?title=Subjective_well-being_-_statistics']], 'project': [0.3333333333333333, ['https://ec.europa.eu/eurostat/statistics-explained/index.php?title=Survey_on_agricultural_production_methods', 'https://ec.europa.eu/eurostat/statistics-explained/index.php?title=Subjective_well-being_-_statistics']]}\n"
          ]
        }
      ],
      "source": [
        "\n",
        "print('\\nExample, model with 3-grams, key = (household,expenditur):\\n')\n",
        "print(model3[('household','expenditur')])\n",
        "\n",
        "print('\\nExample, model with 4-grams, key = (survei,structur,agricultur):\\n')\n",
        "print(model4[(('survei','structur','agricultur'))])\n"
      ]
    },
    {
      "cell_type": "markdown",
      "metadata": {
        "id": "A4vvI9PKKwVu"
      },
      "source": [
        "### The widgets\n",
        "***"
      ]
    },
    {
      "cell_type": "code",
      "execution_count": 18,
      "metadata": {
        "scrolled": true,
        "id": "pKixzuf-KwVu"
      },
      "outputs": [],
      "source": [
        "import ipywidgets as widgets\n",
        "layout = widgets.Layout(width='600px', height='30px')"
      ]
    },
    {
      "cell_type": "code",
      "execution_count": 19,
      "metadata": {
        "id": "6Xl4ehY-KwVu",
        "colab": {
          "base_uri": "https://localhost:8080/",
          "height": 17
        },
        "outputId": "862939c4-bbc4-4060-b6fa-867b188ec3a1"
      },
      "outputs": [
        {
          "output_type": "display_data",
          "data": {
            "text/plain": [
              "<IPython.core.display.Javascript object>"
            ],
            "application/javascript": [
              "IPython.OutputArea.prototype._should_scroll = function(lines) {\n",
              "    return false;\n",
              "}"
            ]
          },
          "metadata": {}
        }
      ],
      "source": [
        "%%javascript\n",
        "IPython.OutputArea.prototype._should_scroll = function(lines) {\n",
        "    return false;\n",
        "}"
      ]
    },
    {
      "cell_type": "code",
      "execution_count": 20,
      "metadata": {
        "scrolled": false,
        "id": "DyKvu3b1KwVv",
        "colab": {
          "base_uri": "https://localhost:8080/",
          "height": 946,
          "referenced_widgets": [
            "874c4b3772ea4660ba3d244d221c26bb",
            "b128115f98134e859f6ca9702e6b7ba0",
            "e8da503e96a54ec18295730012b2c8f3",
            "7f1981e1cfbf4679ab544a2220c748be",
            "cab1454e6c8946c4ac036b9efbbdee62",
            "c6c7d10aa521404bb76b9fea91eab659",
            "91eff0efa7c24aedbd7ef095f44d4ff5",
            "9cf67369064641c2bfe2974e5746b903",
            "6ab09bd89b3e4332b697468975c53cd8",
            "2620a91fd43c43228e2b8f7ce09f7a40"
          ]
        },
        "outputId": "7e215658-0ac8-4326-9d3d-092f35402d2d"
      },
      "outputs": [
        {
          "output_type": "display_data",
          "data": {
            "text/plain": [
              "HBox(children=(Text(value='consumer price', description='Keywords:', placeholder='Type something'), RadioButto…"
            ],
            "application/vnd.jupyter.widget-view+json": {
              "version_major": 2,
              "version_minor": 0,
              "model_id": "874c4b3772ea4660ba3d244d221c26bb"
            }
          },
          "metadata": {}
        },
        {
          "output_type": "display_data",
          "data": {
            "text/plain": [
              "Output()"
            ],
            "application/vnd.jupyter.widget-view+json": {
              "version_major": 2,
              "version_minor": 0,
              "model_id": "6ab09bd89b3e4332b697468975c53cd8"
            }
          },
          "metadata": {}
        }
      ],
      "source": [
        "\n",
        "def change_top_articles( Keywords, Glossaries):\n",
        "\n",
        "    from operator import itemgetter\n",
        "    p = PorterStemmer()\n",
        "    \n",
        "    last_match = ''\n",
        "    \n",
        "    #if not Keywords.endswith(' '):\n",
        "    #    return None\n",
        "    \n",
        "    def test_and_back_step(x):\n",
        "        mod_index = -1\n",
        "        models = [model2,model3,model4]\n",
        "        if len(x)==1: \n",
        "            x=x[0] ; model=models[0]\n",
        "        elif len(x) ==2 or len(x) == 3:\n",
        "            x=tuple(x) ; mod_index=len(x)-1; model=models[mod_index]\n",
        "        elif len(x) >=4:\n",
        "            x=tuple(x[:3]) ; model=models[2]\n",
        "#        else:\n",
        "#            return None\n",
        "        while not models[mod_index].get(x) and mod_index >=0:\n",
        "            x=x[:-1]\n",
        "            if len(x)==1 : x=x[0]\n",
        "            mod_index -=1 ; model=models[mod_index] \n",
        "        return (model,x)    \n",
        "            \n",
        "\n",
        "    x = Keywords.split() \n",
        "    if len(x) ==0: \n",
        "        print()\n",
        "        return\n",
        "    x = [p.stem(el) for el in x]\n",
        "    \n",
        "    \n",
        "    model,x = test_and_back_step(x)\n",
        "    if not model.get(x):\n",
        "        return None\n",
        "    \n",
        "\n",
        "    print()\n",
        "    print('Based on last match: ',x,'\\n')\n",
        "    print('Suggestions, probabilities (in descending order) and relevant URLs: ')\n",
        "    proposals = sorted([(k,v) for (k,v) in model[x].items()],key=itemgetter(1),reverse=True)\n",
        "    \n",
        "    ## Adjust sum of probabilities\n",
        "    if Glossaries == 'OECD':\n",
        "        valid_urls = [(v[0],list(filter(lambda x: re.match(r'^https://stats.oecd.org/',x),v[1]))) for (k,v) in proposals]\n",
        "        valid_urls_sum = sum([v for (v,l) in valid_urls if len(l)>0])\n",
        "    elif Glossaries == 'Eurostat':    \n",
        "        valid_urls = [(v[0],list(filter(lambda x: re.match(r'^https://ec.europa.eu/eurostat/',x),v[1]))) for (k,v) in proposals]\n",
        "        valid_urls_sum = sum([v for (v,l) in valid_urls if len(l)>0])\n",
        "    else:\n",
        "        valid_urls_sum = 1.0\n",
        "    #print('valid_sum: ',valid_urls_sum)\n",
        "\n",
        "    last_match = x\n",
        "    sump = 0\n",
        "    for key, value in proposals:\n",
        "        urls = value[1]\n",
        "        if Glossaries == 'OECD':\n",
        "            urls = [url for url in urls if re.match(r'^https://stats.oecd.org/',url)]\n",
        "        elif Glossaries == 'Eurostat':   \n",
        "            urls = [url for url in urls if re.match(r'^https://ec.europa.eu/eurostat/',url)]            \n",
        "        \n",
        "        if len(urls) > 0: \n",
        "            print()\n",
        "            print(key,': ',value[0]/valid_urls_sum)\n",
        "            sump += value[0]/valid_urls_sum\n",
        "            for url in urls:\n",
        "                print(url)\n",
        "    #print('sump= ',sump)    \n",
        "   \n",
        "    \n",
        "def query_build1(value):\n",
        "    style = {'description_width': 'initial'}\n",
        "    \n",
        "    Keywords = widgets.Text(\n",
        "        value=value,\n",
        "        placeholder='Type something',\n",
        "        description='Keywords:',\n",
        "        disabled=False\n",
        "  )\n",
        "\n",
        "    Glossaries= widgets.RadioButtons(\n",
        "        options=['All vocabularies','Eurostat', 'OECD'],\n",
        "        description='Select:',\n",
        "        value='OECD',\n",
        "        disabled=False\n",
        "  )\n",
        "\n",
        "  #ui = widgets.HBox([Keywords])\n",
        "    ui = widgets.HBox([Keywords,Glossaries])\n",
        "    out = widgets.interactive_output(change_top_articles, {'Keywords': Keywords,'Glossaries' : Glossaries})\n",
        "    display(ui, out)\n",
        "    \n",
        "query_build1(value='consumer price')  "
      ]
    }
  ],
  "metadata": {
    "kernelspec": {
      "display_name": "Python 3 (ipykernel)",
      "language": "python",
      "name": "python3"
    },
    "language_info": {
      "codemirror_mode": {
        "name": "ipython",
        "version": 3
      },
      "file_extension": ".py",
      "mimetype": "text/x-python",
      "name": "python",
      "nbconvert_exporter": "python",
      "pygments_lexer": "ipython3",
      "version": "3.9.7"
    },
    "colab": {
      "name": "GC_Query_Builder_Use_Case_B_v8_rev_June2022.ipynb",
      "provenance": [],
      "collapsed_sections": []
    },
    "widgets": {
      "application/vnd.jupyter.widget-state+json": {
        "874c4b3772ea4660ba3d244d221c26bb": {
          "model_module": "@jupyter-widgets/controls",
          "model_name": "HBoxModel",
          "model_module_version": "1.5.0",
          "state": {
            "_dom_classes": [],
            "_model_module": "@jupyter-widgets/controls",
            "_model_module_version": "1.5.0",
            "_model_name": "HBoxModel",
            "_view_count": null,
            "_view_module": "@jupyter-widgets/controls",
            "_view_module_version": "1.5.0",
            "_view_name": "HBoxView",
            "box_style": "",
            "children": [
              "IPY_MODEL_b128115f98134e859f6ca9702e6b7ba0",
              "IPY_MODEL_e8da503e96a54ec18295730012b2c8f3"
            ],
            "layout": "IPY_MODEL_7f1981e1cfbf4679ab544a2220c748be"
          }
        },
        "b128115f98134e859f6ca9702e6b7ba0": {
          "model_module": "@jupyter-widgets/controls",
          "model_name": "TextModel",
          "model_module_version": "1.5.0",
          "state": {
            "_dom_classes": [],
            "_model_module": "@jupyter-widgets/controls",
            "_model_module_version": "1.5.0",
            "_model_name": "TextModel",
            "_view_count": null,
            "_view_module": "@jupyter-widgets/controls",
            "_view_module_version": "1.5.0",
            "_view_name": "TextView",
            "continuous_update": true,
            "description": "Keywords:",
            "description_tooltip": null,
            "disabled": false,
            "layout": "IPY_MODEL_cab1454e6c8946c4ac036b9efbbdee62",
            "placeholder": "Type something",
            "style": "IPY_MODEL_c6c7d10aa521404bb76b9fea91eab659",
            "value": "consumer price"
          }
        },
        "e8da503e96a54ec18295730012b2c8f3": {
          "model_module": "@jupyter-widgets/controls",
          "model_name": "RadioButtonsModel",
          "model_module_version": "1.5.0",
          "state": {
            "_dom_classes": [],
            "_model_module": "@jupyter-widgets/controls",
            "_model_module_version": "1.5.0",
            "_model_name": "RadioButtonsModel",
            "_options_labels": [
              "All vocabularies",
              "Eurostat",
              "OECD"
            ],
            "_view_count": null,
            "_view_module": "@jupyter-widgets/controls",
            "_view_module_version": "1.5.0",
            "_view_name": "RadioButtonsView",
            "description": "Select:",
            "description_tooltip": null,
            "disabled": false,
            "index": 2,
            "layout": "IPY_MODEL_91eff0efa7c24aedbd7ef095f44d4ff5",
            "style": "IPY_MODEL_9cf67369064641c2bfe2974e5746b903"
          }
        },
        "7f1981e1cfbf4679ab544a2220c748be": {
          "model_module": "@jupyter-widgets/base",
          "model_name": "LayoutModel",
          "model_module_version": "1.2.0",
          "state": {
            "_model_module": "@jupyter-widgets/base",
            "_model_module_version": "1.2.0",
            "_model_name": "LayoutModel",
            "_view_count": null,
            "_view_module": "@jupyter-widgets/base",
            "_view_module_version": "1.2.0",
            "_view_name": "LayoutView",
            "align_content": null,
            "align_items": null,
            "align_self": null,
            "border": null,
            "bottom": null,
            "display": null,
            "flex": null,
            "flex_flow": null,
            "grid_area": null,
            "grid_auto_columns": null,
            "grid_auto_flow": null,
            "grid_auto_rows": null,
            "grid_column": null,
            "grid_gap": null,
            "grid_row": null,
            "grid_template_areas": null,
            "grid_template_columns": null,
            "grid_template_rows": null,
            "height": null,
            "justify_content": null,
            "justify_items": null,
            "left": null,
            "margin": null,
            "max_height": null,
            "max_width": null,
            "min_height": null,
            "min_width": null,
            "object_fit": null,
            "object_position": null,
            "order": null,
            "overflow": null,
            "overflow_x": null,
            "overflow_y": null,
            "padding": null,
            "right": null,
            "top": null,
            "visibility": null,
            "width": null
          }
        },
        "cab1454e6c8946c4ac036b9efbbdee62": {
          "model_module": "@jupyter-widgets/base",
          "model_name": "LayoutModel",
          "model_module_version": "1.2.0",
          "state": {
            "_model_module": "@jupyter-widgets/base",
            "_model_module_version": "1.2.0",
            "_model_name": "LayoutModel",
            "_view_count": null,
            "_view_module": "@jupyter-widgets/base",
            "_view_module_version": "1.2.0",
            "_view_name": "LayoutView",
            "align_content": null,
            "align_items": null,
            "align_self": null,
            "border": null,
            "bottom": null,
            "display": null,
            "flex": null,
            "flex_flow": null,
            "grid_area": null,
            "grid_auto_columns": null,
            "grid_auto_flow": null,
            "grid_auto_rows": null,
            "grid_column": null,
            "grid_gap": null,
            "grid_row": null,
            "grid_template_areas": null,
            "grid_template_columns": null,
            "grid_template_rows": null,
            "height": null,
            "justify_content": null,
            "justify_items": null,
            "left": null,
            "margin": null,
            "max_height": null,
            "max_width": null,
            "min_height": null,
            "min_width": null,
            "object_fit": null,
            "object_position": null,
            "order": null,
            "overflow": null,
            "overflow_x": null,
            "overflow_y": null,
            "padding": null,
            "right": null,
            "top": null,
            "visibility": null,
            "width": null
          }
        },
        "c6c7d10aa521404bb76b9fea91eab659": {
          "model_module": "@jupyter-widgets/controls",
          "model_name": "DescriptionStyleModel",
          "model_module_version": "1.5.0",
          "state": {
            "_model_module": "@jupyter-widgets/controls",
            "_model_module_version": "1.5.0",
            "_model_name": "DescriptionStyleModel",
            "_view_count": null,
            "_view_module": "@jupyter-widgets/base",
            "_view_module_version": "1.2.0",
            "_view_name": "StyleView",
            "description_width": ""
          }
        },
        "91eff0efa7c24aedbd7ef095f44d4ff5": {
          "model_module": "@jupyter-widgets/base",
          "model_name": "LayoutModel",
          "model_module_version": "1.2.0",
          "state": {
            "_model_module": "@jupyter-widgets/base",
            "_model_module_version": "1.2.0",
            "_model_name": "LayoutModel",
            "_view_count": null,
            "_view_module": "@jupyter-widgets/base",
            "_view_module_version": "1.2.0",
            "_view_name": "LayoutView",
            "align_content": null,
            "align_items": null,
            "align_self": null,
            "border": null,
            "bottom": null,
            "display": null,
            "flex": null,
            "flex_flow": null,
            "grid_area": null,
            "grid_auto_columns": null,
            "grid_auto_flow": null,
            "grid_auto_rows": null,
            "grid_column": null,
            "grid_gap": null,
            "grid_row": null,
            "grid_template_areas": null,
            "grid_template_columns": null,
            "grid_template_rows": null,
            "height": null,
            "justify_content": null,
            "justify_items": null,
            "left": null,
            "margin": null,
            "max_height": null,
            "max_width": null,
            "min_height": null,
            "min_width": null,
            "object_fit": null,
            "object_position": null,
            "order": null,
            "overflow": null,
            "overflow_x": null,
            "overflow_y": null,
            "padding": null,
            "right": null,
            "top": null,
            "visibility": null,
            "width": null
          }
        },
        "9cf67369064641c2bfe2974e5746b903": {
          "model_module": "@jupyter-widgets/controls",
          "model_name": "DescriptionStyleModel",
          "model_module_version": "1.5.0",
          "state": {
            "_model_module": "@jupyter-widgets/controls",
            "_model_module_version": "1.5.0",
            "_model_name": "DescriptionStyleModel",
            "_view_count": null,
            "_view_module": "@jupyter-widgets/base",
            "_view_module_version": "1.2.0",
            "_view_name": "StyleView",
            "description_width": ""
          }
        },
        "6ab09bd89b3e4332b697468975c53cd8": {
          "model_module": "@jupyter-widgets/output",
          "model_name": "OutputModel",
          "model_module_version": "1.0.0",
          "state": {
            "_dom_classes": [],
            "_model_module": "@jupyter-widgets/output",
            "_model_module_version": "1.0.0",
            "_model_name": "OutputModel",
            "_view_count": null,
            "_view_module": "@jupyter-widgets/output",
            "_view_module_version": "1.0.0",
            "_view_name": "OutputView",
            "layout": "IPY_MODEL_2620a91fd43c43228e2b8f7ce09f7a40",
            "msg_id": "",
            "outputs": [
              {
                "output_type": "stream",
                "name": "stdout",
                "text": [
                  "\n",
                  "Based on last match:  ('consum', 'price') \n",
                  "\n",
                  "Suggestions, probabilities (in descending order) and relevant URLs: \n",
                  "\n",
                  "index :  0.6725663716814161\n",
                  "https://stats.oecd.org/glossary/detail.asp?ID=5602\n",
                  "https://stats.oecd.org/glossary/detail.asp?ID=5603\n",
                  "https://stats.oecd.org/glossary/detail.asp?ID=427\n",
                  "https://stats.oecd.org/glossary/detail.asp?ID=429\n",
                  "https://stats.oecd.org/glossary/detail.asp?ID=4562\n",
                  "https://stats.oecd.org/glossary/detail.asp?ID=5618\n",
                  "https://stats.oecd.org/glossary/detail.asp?ID=5619\n",
                  "https://stats.oecd.org/glossary/detail.asp?ID=4876\n",
                  "https://stats.oecd.org/glossary/detail.asp?ID=4434\n",
                  "https://stats.oecd.org/glossary/detail.asp?ID=5790\n",
                  "https://stats.oecd.org/glossary/detail.asp?ID=1228\n",
                  "https://stats.oecd.org/glossary/detail.asp?ID=6069\n",
                  "https://stats.oecd.org/glossary/detail.asp?ID=4362\n",
                  "https://stats.oecd.org/glossary/detail.asp?ID=4889\n",
                  "https://stats.oecd.org/glossary/detail.asp?ID=4881\n",
                  "https://stats.oecd.org/glossary/detail.asp?ID=5681\n",
                  "https://stats.oecd.org/glossary/detail.asp?ID=4885\n",
                  "https://stats.oecd.org/glossary/detail.asp?ID=3844\n",
                  "https://stats.oecd.org/glossary/detail.asp?ID=4828\n",
                  "https://stats.oecd.org/glossary/detail.asp?ID=5698\n",
                  "https://stats.oecd.org/glossary/detail.asp?ID=5547\n",
                  "\n",
                  "indices :  0.2123893805309735\n",
                  "https://stats.oecd.org/glossary/detail.asp?ID=427\n",
                  "\n",
                  "measure :  0.03539823008849558\n",
                  "https://stats.oecd.org/glossary/detail.asp?ID=1228\n",
                  "\n",
                  "takers :  0.01769911504424779\n",
                  "https://stats.oecd.org/glossary/detail.asp?ID=5757\n",
                  "\n",
                  "expressed :  0.01769911504424779\n",
                  "https://stats.oecd.org/glossary/detail.asp?ID=399\n",
                  "\n",
                  "advertising :  0.01769911504424779\n",
                  "https://stats.oecd.org/glossary/detail.asp?ID=3139\n",
                  "\n",
                  "reflecting :  0.01769911504424779\n",
                  "https://stats.oecd.org/glossary/detail.asp?ID=3065\n",
                  "\n",
                  "indexes :  0.008849557522123895\n",
                  "https://stats.oecd.org/glossary/detail.asp?ID=1200\n"
                ]
              }
            ]
          }
        },
        "2620a91fd43c43228e2b8f7ce09f7a40": {
          "model_module": "@jupyter-widgets/base",
          "model_name": "LayoutModel",
          "model_module_version": "1.2.0",
          "state": {
            "_model_module": "@jupyter-widgets/base",
            "_model_module_version": "1.2.0",
            "_model_name": "LayoutModel",
            "_view_count": null,
            "_view_module": "@jupyter-widgets/base",
            "_view_module_version": "1.2.0",
            "_view_name": "LayoutView",
            "align_content": null,
            "align_items": null,
            "align_self": null,
            "border": null,
            "bottom": null,
            "display": null,
            "flex": null,
            "flex_flow": null,
            "grid_area": null,
            "grid_auto_columns": null,
            "grid_auto_flow": null,
            "grid_auto_rows": null,
            "grid_column": null,
            "grid_gap": null,
            "grid_row": null,
            "grid_template_areas": null,
            "grid_template_columns": null,
            "grid_template_rows": null,
            "height": null,
            "justify_content": null,
            "justify_items": null,
            "left": null,
            "margin": null,
            "max_height": null,
            "max_width": null,
            "min_height": null,
            "min_width": null,
            "object_fit": null,
            "object_position": null,
            "order": null,
            "overflow": null,
            "overflow_x": null,
            "overflow_y": null,
            "padding": null,
            "right": null,
            "top": null,
            "visibility": null,
            "width": null
          }
        }
      }
    }
  },
  "nbformat": 4,
  "nbformat_minor": 0
}